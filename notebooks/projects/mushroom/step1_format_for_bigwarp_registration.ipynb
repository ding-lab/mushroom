{
 "cells": [
  {
   "cell_type": "code",
   "execution_count": 1,
   "id": "5941e423",
   "metadata": {},
   "outputs": [],
   "source": [
    "import os\n",
    "from pathlib import Path\n",
    "\n",
    "import numpy as np\n",
    "import pandas as pd\n",
    "import scanpy as sc\n",
    "import tifffile\n",
    "import torch\n",
    "import torchvision.transforms.functional as TF\n",
    "import yaml\n",
    "from einops import rearrange"
   ]
  },
  {
   "cell_type": "code",
   "execution_count": 2,
   "id": "5ff6a62e",
   "metadata": {},
   "outputs": [],
   "source": [
    "%load_ext autoreload"
   ]
  },
  {
   "cell_type": "code",
   "execution_count": 3,
   "id": "d7a4816a",
   "metadata": {},
   "outputs": [],
   "source": [
    "%autoreload 2"
   ]
  },
  {
   "cell_type": "code",
   "execution_count": 4,
   "id": "03713f04",
   "metadata": {},
   "outputs": [],
   "source": [
    "from mushroom.data.multiplex import extract_ome_tiff, get_ome_tiff_channels, make_pseudo"
   ]
  },
  {
   "cell_type": "code",
   "execution_count": 5,
   "id": "8359953f",
   "metadata": {},
   "outputs": [],
   "source": [
    "run_dir = '/data/estorrs/mushroom/data/examples/HT397B1_v1'\n",
    "Path(run_dir).mkdir(parents=True, exist_ok=True)"
   ]
  },
  {
   "cell_type": "markdown",
   "id": "c2c09bd1",
   "metadata": {},
   "source": [
    "specify filepaths"
   ]
  },
  {
   "cell_type": "code",
   "execution_count": 6,
   "id": "ff81e1a5",
   "metadata": {},
   "outputs": [],
   "source": [
    "# spaceranger output directories\n",
    "section_to_visium = {\n",
    "    'HT397B1-U1': '/data/spatial_transcriptomics/spaceranger_outputs/breast/HT397B1-S1H3A1U1/',\n",
    "    'HT397B1-U21': '/data/spatial_transcriptomics/spaceranger_outputs/breast/HT397B1-S1H3A1U21/',\n",
    "}\n",
    "\n",
    "# hi res H&E \n",
    "section_to_he = {\n",
    "    'HT397B1-U1':  '/data/spatial_transcriptomics/highres_images/breast/A1_HT397B1-S1H3A1U1.tif',\n",
    "    'HT397B1-U21': '/data/spatial_transcriptomics/highres_images/breast/B1_HT397B1-S1H3A1U21.tif',\n",
    "}\n",
    "\n",
    "# codex\n",
    "section_to_multiplex = {\n",
    "    'HT397B1-U2': '/data/multiplex_imaging/codex/htan/brca/031623_BRCA_HT397B1-U2/level_2/HT397B1_U2_03162023.ome.tiff',\n",
    "    'HT397B1-U12': '/data/multiplex_imaging/codex/htan/brca/03172023_BRCA_HT397B1-U12/level_2/HT397B1_U12_03172023.ome.tiff',\n",
    "    'HT397B1-U22': '/data/multiplex_imaging/codex/htan/brca/041223_BRCA_HT397B1-S1H3A1-U22/level_2/HT397B1_S1H1A3U22_04122023.ome.tiff',\n",
    "    'HT397B1-U31': '/data/multiplex_imaging/codex/htan/brca/040623_BRCA_HT397B1-U31/level_2/HT397B1_S1H1A3U31_04062023.ome.tiff',\n",
    "}"
   ]
  },
  {
   "cell_type": "code",
   "execution_count": 7,
   "id": "b879e6ad",
   "metadata": {},
   "outputs": [],
   "source": [
    "# order of tissue sections\n",
    "order = [\n",
    "    'HT397B1-U1',\n",
    "    'HT397B1-U2',\n",
    "    'HT397B1-U12',\n",
    "    'HT397B1-U21',\n",
    "    'HT397B1-U22',\n",
    "    'HT397B1-U31'\n",
    "]"
   ]
  },
  {
   "cell_type": "markdown",
   "id": "50f3a0c3",
   "metadata": {},
   "source": [
    "writing images to same directory, they will then be in bigwarp to generate a ddf for each section\n",
    "\n",
    "note that if multiple data types are present for one section (for example H&E and visium), then usually you only need to do registration on one of those data types (in this case we use H&E)"
   ]
  },
  {
   "cell_type": "code",
   "execution_count": 45,
   "id": "a600d49b",
   "metadata": {},
   "outputs": [],
   "source": [
    "bigwarp_dir = os.path.join(run_dir, 'registration', 'bigwarp')\n",
    "output_dir = os.path.join(bigwarp_dir, 'unregistered_tifs')\n",
    "Path(output_dir).mkdir(parents=True, exist_ok=True)"
   ]
  },
  {
   "cell_type": "markdown",
   "id": "813071dd",
   "metadata": {},
   "source": [
    "we also downsample the images so registration goes faster. note that if you do this you'll need to upscale the ddf after registration"
   ]
  },
  {
   "cell_type": "code",
   "execution_count": 9,
   "id": "18ac9949",
   "metadata": {},
   "outputs": [],
   "source": [
    "scale = .1"
   ]
  },
  {
   "cell_type": "markdown",
   "id": "125ee9ab",
   "metadata": {},
   "source": [
    "writing H&E"
   ]
  },
  {
   "cell_type": "code",
   "execution_count": 13,
   "id": "3bf08c8c",
   "metadata": {},
   "outputs": [],
   "source": [
    "def rescale(x, scale=.1):\n",
    "    x = rearrange(torch.tensor(x), 'h w c -> c h w')\n",
    "    x = TF.resize(x, (int(x.shape[-2] * scale), int(x.shape[-1] * scale)))\n",
    "    x = TF.convert_image_dtype(x, torch.uint8)\n",
    "    x = rearrange(x.numpy(), 'c h w -> h w c')\n",
    "    \n",
    "    return x"
   ]
  },
  {
   "cell_type": "code",
   "execution_count": 14,
   "id": "ccacf35f",
   "metadata": {},
   "outputs": [],
   "source": [
    "for sid, filepath in section_to_he.items():\n",
    "    x = tifffile.imread(filepath)\n",
    "    x = rescale(x, scale=scale)\n",
    "    \n",
    "    idx = order.index(sid)\n",
    "    \n",
    "    tifffile.imwrite(os.path.join(output_dir, f's{idx}.tif'), x, compression='LZW')"
   ]
  },
  {
   "cell_type": "markdown",
   "id": "b9575979",
   "metadata": {},
   "source": [
    "writing multiplex pseudo-color images"
   ]
  },
  {
   "cell_type": "code",
   "execution_count": 18,
   "id": "892d9f5a",
   "metadata": {
    "scrolled": true
   },
   "outputs": [
    {
     "name": "stderr",
     "output_type": "stream",
     "text": [
      "/data/estorrs/miniconda3/envs/mushroom/lib/python3.10/site-packages/ome_types/_convenience.py:106: FutureWarning: The default XML parser will be changing from 'xmlschema' to 'lxml' in version 0.4.0.  To silence this warning, please provide the `parser` argument, specifying either 'lxml' (to opt into the new behavior), or'xmlschema' (to retain the old behavior).\n",
      "  d = to_dict(os.fspath(xml), parser=parser, validate=validate)\n"
     ]
    },
    {
     "data": {
      "text/plain": [
       "['DAPI',\n",
       " 'CD8',\n",
       " 'Her2 (D)',\n",
       " 'GATA3 (D)',\n",
       " 'cKIT-(D)',\n",
       " 'Pan-Cytokeratin',\n",
       " 'GLUT1-(D)',\n",
       " 'Podoplanin',\n",
       " 'CD68 (D)',\n",
       " 'HLA-DR',\n",
       " 'Keratin 14',\n",
       " 'FoxP3',\n",
       " 'MGP-(D)',\n",
       " 'CD20-(D)',\n",
       " 'SMA-(D)',\n",
       " 'Ki67',\n",
       " 'Vimentin-(D)',\n",
       " 'PR-(D)',\n",
       " 'Bap1 (D)',\n",
       " 'CD45 (D)',\n",
       " 'ER',\n",
       " 'CD31',\n",
       " 'COX6c (D)',\n",
       " 'CK19',\n",
       " 'PLAT/tPA (D)']"
      ]
     },
     "execution_count": 18,
     "metadata": {},
     "output_type": "execute_result"
    }
   ],
   "source": [
    "# see what channels we are working with\n",
    "get_ome_tiff_channels(next(iter(section_to_multiplex.values())))"
   ]
  },
  {
   "cell_type": "code",
   "execution_count": 26,
   "id": "d1a430e6",
   "metadata": {
    "scrolled": true
   },
   "outputs": [
    {
     "name": "stdout",
     "output_type": "stream",
     "text": [
      "HT397B1-U2\n"
     ]
    },
    {
     "name": "stderr",
     "output_type": "stream",
     "text": [
      "/data/estorrs/miniconda3/envs/mushroom-dev/lib/python3.9/site-packages/torchvision/transforms/functional.py:1603: UserWarning: The default value of the antialias parameter of all the resizing transforms (Resize(), RandomResizedCrop(), etc.) will change from None to True in v0.17, in order to be consistent across the PIL and Tensor backends. To suppress this warning, directly pass antialias=True (recommended, future default), antialias=None (current default, which means False for Tensors and True for PIL), or antialias=False (only works on Tensors - PIL will still use antialiasing). This also applies if you are using the inference transforms from the models weights: update the call to weights.transforms(antialias=True).\n",
      "  warnings.warn(\n"
     ]
    },
    {
     "name": "stdout",
     "output_type": "stream",
     "text": [
      "dict_keys(['DAPI', 'Pan-Cytokeratin', 'SMA-(D)', 'CD45 (D)'])\n",
      "HT397B1-U12\n"
     ]
    },
    {
     "name": "stderr",
     "output_type": "stream",
     "text": [
      "/data/estorrs/miniconda3/envs/mushroom-dev/lib/python3.9/site-packages/torchvision/transforms/functional.py:1603: UserWarning: The default value of the antialias parameter of all the resizing transforms (Resize(), RandomResizedCrop(), etc.) will change from None to True in v0.17, in order to be consistent across the PIL and Tensor backends. To suppress this warning, directly pass antialias=True (recommended, future default), antialias=None (current default, which means False for Tensors and True for PIL), or antialias=False (only works on Tensors - PIL will still use antialiasing). This also applies if you are using the inference transforms from the models weights: update the call to weights.transforms(antialias=True).\n",
      "  warnings.warn(\n"
     ]
    },
    {
     "name": "stdout",
     "output_type": "stream",
     "text": [
      "dict_keys(['DAPI', 'Pan-Cytokeratin', 'SMA-(D)', 'CD45 (D)'])\n",
      "HT397B1-U22\n"
     ]
    },
    {
     "name": "stderr",
     "output_type": "stream",
     "text": [
      "/data/estorrs/miniconda3/envs/mushroom-dev/lib/python3.9/site-packages/torchvision/transforms/functional.py:1603: UserWarning: The default value of the antialias parameter of all the resizing transforms (Resize(), RandomResizedCrop(), etc.) will change from None to True in v0.17, in order to be consistent across the PIL and Tensor backends. To suppress this warning, directly pass antialias=True (recommended, future default), antialias=None (current default, which means False for Tensors and True for PIL), or antialias=False (only works on Tensors - PIL will still use antialiasing). This also applies if you are using the inference transforms from the models weights: update the call to weights.transforms(antialias=True).\n",
      "  warnings.warn(\n"
     ]
    },
    {
     "name": "stdout",
     "output_type": "stream",
     "text": [
      "dict_keys(['DAPI', 'Pan-Cytokeratin', 'SMA-(D)', 'CD45 (D)'])\n",
      "HT397B1-U31\n"
     ]
    },
    {
     "name": "stderr",
     "output_type": "stream",
     "text": [
      "/data/estorrs/miniconda3/envs/mushroom-dev/lib/python3.9/site-packages/torchvision/transforms/functional.py:1603: UserWarning: The default value of the antialias parameter of all the resizing transforms (Resize(), RandomResizedCrop(), etc.) will change from None to True in v0.17, in order to be consistent across the PIL and Tensor backends. To suppress this warning, directly pass antialias=True (recommended, future default), antialias=None (current default, which means False for Tensors and True for PIL), or antialias=False (only works on Tensors - PIL will still use antialiasing). This also applies if you are using the inference transforms from the models weights: update the call to weights.transforms(antialias=True).\n",
      "  warnings.warn(\n"
     ]
    },
    {
     "name": "stdout",
     "output_type": "stream",
     "text": [
      "dict_keys(['DAPI', 'Pan-Cytokeratin', 'SMA-(D)', 'CD45 (D)'])\n"
     ]
    }
   ],
   "source": [
    "cmap = {\n",
    "    'DAPI': (0., 0., 1.),\n",
    "    'Pan-Cytokeratin': (1., 0., 0.),\n",
    "    'CD45 (D)': (0., 1., 0.),\n",
    "    'SMA-(D)': (1., 1., 1.)\n",
    "}\n",
    "\n",
    "sid_to_pseudo = {}\n",
    "for sid, filepath in section_to_multiplex.items():\n",
    "    print(sid)\n",
    "    d = extract_ome_tiff(filepath, channels=list(cmap.keys()))\n",
    "    d = {channel:np.squeeze(rescale(np.expand_dims(img, -1), scale=scale))\n",
    "         for channel, img in d.items()}\n",
    "    \n",
    "    pseudo = make_pseudo(d, cmap=cmap, contrast_pct=90.)\n",
    "    pseudo /= pseudo.max()\n",
    "    pseudo *= 255\n",
    "    pseudo = pseudo.astype(np.uint8)\n",
    "    \n",
    "    idx = order.index(sid)\n",
    "\n",
    "    tifffile.imwrite(os.path.join(output_dir, f's{idx}.tif'), pseudo, compression='LZW')"
   ]
  },
  {
   "cell_type": "code",
   "execution_count": 38,
   "id": "4d9cae22",
   "metadata": {},
   "outputs": [
    {
     "name": "stderr",
     "output_type": "stream",
     "text": [
      "/data/estorrs/miniconda3/envs/mushroom-dev/lib/python3.9/site-packages/anndata/_core/anndata.py:1840: UserWarning: Variable names are not unique. To make them unique, call `.var_names_make_unique`.\n",
      "  utils.warn_names_duplicates(\"var\")\n",
      "/data/estorrs/miniconda3/envs/mushroom-dev/lib/python3.9/site-packages/anndata/_core/anndata.py:1840: UserWarning: Variable names are not unique. To make them unique, call `.var_names_make_unique`.\n",
      "  utils.warn_names_duplicates(\"var\")\n"
     ]
    },
    {
     "data": {
      "text/plain": [
       "2.3223207975307805"
      ]
     },
     "execution_count": 38,
     "metadata": {},
     "output_type": "execute_result"
    }
   ],
   "source": [
    "# will be pixels per micron for whichever data type is first in the sectioning experiment (as all data will be registered downstream of this section)\n",
    "# in this case the first slice is visium st data, and we can get it from the anndata object.\n",
    "# this value will vary based on data type\n",
    "adata = sc.read_visium(section_to_visium[order[0]])\n",
    "scalefactors = next(iter(adata.uns['spatial'].values()))['scalefactors']\n",
    "registered_pixels_per_micron = scalefactors['spot_diameter_fullres'] / 65. # each spot is 65 microns wide\n",
    "registered_pixels_per_micron"
   ]
  },
  {
   "cell_type": "code",
   "execution_count": 46,
   "id": "95f7dfdf",
   "metadata": {},
   "outputs": [],
   "source": [
    "metadata = {\n",
    "    'data': {\n",
    "        'he': section_to_he,\n",
    "        'visium': section_to_visium,\n",
    "        'multiplex': section_to_multiplex\n",
    "    },\n",
    "    'order': order,\n",
    "    'ids': [f's{i}' for i in range(len(order))],\n",
    "    'scale': scale,\n",
    "    'registered_pixels_per_micron': registered_pixels_per_micron\n",
    "}"
   ]
  },
  {
   "cell_type": "code",
   "execution_count": 48,
   "id": "4deed4c2",
   "metadata": {},
   "outputs": [],
   "source": [
    "yaml.safe_dump(metadata, open(os.path.join(bigwarp_dir, 'metadata.yaml'), 'w'))"
   ]
  },
  {
   "cell_type": "code",
   "execution_count": null,
   "id": "c8e62a02",
   "metadata": {},
   "outputs": [],
   "source": []
  }
 ],
 "metadata": {
  "kernelspec": {
   "display_name": "Python 3 (ipykernel)",
   "language": "python",
   "name": "python3"
  },
  "language_info": {
   "codemirror_mode": {
    "name": "ipython",
    "version": 3
   },
   "file_extension": ".py",
   "mimetype": "text/x-python",
   "name": "python",
   "nbconvert_exporter": "python",
   "pygments_lexer": "ipython3",
   "version": "3.9.18"
  }
 },
 "nbformat": 4,
 "nbformat_minor": 5
}
