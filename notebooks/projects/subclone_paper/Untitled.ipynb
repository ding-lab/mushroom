{
 "cells": [
  {
   "cell_type": "code",
   "execution_count": 1,
   "id": "b2393d4d",
   "metadata": {},
   "outputs": [],
   "source": [
    "import os\n",
    "from pathlib import Path\n",
    "\n",
    "import numpy as np\n",
    "import pandas as pd\n",
    "import scanpy as sc\n",
    "import tifffile\n",
    "import torch\n",
    "import torchvision.transforms.functional as TF\n",
    "import yaml\n",
    "from einops import rearrange"
   ]
  },
  {
   "cell_type": "code",
   "execution_count": 3,
   "id": "b1b29072",
   "metadata": {},
   "outputs": [
    {
     "name": "stderr",
     "output_type": "stream",
     "text": [
      "/diskmnt/Projects/Users/estorrs/miniconda3/envs/mushroom/lib/python3.9/site-packages/anndata/_core/anndata.py:1113: FutureWarning: is_categorical_dtype is deprecated and will be removed in a future version. Use isinstance(dtype, CategoricalDtype) instead\n",
      "  if not is_categorical_dtype(df_full[k]):\n"
     ]
    },
    {
     "data": {
      "text/plain": [
       "AnnData object with n_obs × n_vars = 737280 × 33538\n",
       "    var: 'gene_symbols', 'feature_types'"
      ]
     },
     "execution_count": 3,
     "metadata": {},
     "output_type": "execute_result"
    }
   ],
   "source": [
    "import scanpy as sc\n",
    "adata = sc.read_10x_mtx(\n",
    "    '/diskmnt/Projects/Users/estorrs/single-cell-pdac/data/single_cell/original/inhouse/wu01/',\n",
    "    var_names='gene_ids'\n",
    ")\n",
    "adata"
   ]
  },
  {
   "cell_type": "code",
   "execution_count": 6,
   "id": "8d7e0c7f",
   "metadata": {},
   "outputs": [
    {
     "data": {
      "text/plain": [
       "'1.9.5'"
      ]
     },
     "execution_count": 6,
     "metadata": {},
     "output_type": "execute_result"
    }
   ],
   "source": [
    "sc.__version__"
   ]
  },
  {
   "cell_type": "code",
   "execution_count": 7,
   "id": "01aa2842",
   "metadata": {},
   "outputs": [
    {
     "name": "stdout",
     "output_type": "stream",
     "text": [
      "total 15184\r\n",
      "-rw-r-----. 1 estorrs users  2550196 Apr 28  2022 barcodes.tsv.gz\r\n",
      "-rw-r-----. 1 estorrs users   304728 Apr 28  2022 features.tsv.gz\r\n",
      "-rw-r-----. 1 estorrs users 12686228 Apr 28  2022 matrix.mtx.gz\r\n"
     ]
    }
   ],
   "source": [
    "! ls -l /diskmnt/Projects/Users/estorrs/single-cell-pdac/data/single_cell/original/inhouse/wu01/"
   ]
  },
  {
   "cell_type": "code",
   "execution_count": null,
   "id": "9000bc00",
   "metadata": {},
   "outputs": [],
   "source": []
  }
 ],
 "metadata": {
  "kernelspec": {
   "display_name": "Python 3 (ipykernel)",
   "language": "python",
   "name": "python3"
  },
  "language_info": {
   "codemirror_mode": {
    "name": "ipython",
    "version": 3
   },
   "file_extension": ".py",
   "mimetype": "text/x-python",
   "name": "python",
   "nbconvert_exporter": "python",
   "pygments_lexer": "ipython3",
   "version": "3.9.18"
  }
 },
 "nbformat": 4,
 "nbformat_minor": 5
}
