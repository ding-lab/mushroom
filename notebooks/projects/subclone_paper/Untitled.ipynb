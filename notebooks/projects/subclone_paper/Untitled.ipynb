{
 "cells": [
  {
   "cell_type": "code",
   "execution_count": 1,
   "id": "fa3a56db",
   "metadata": {},
   "outputs": [],
   "source": [
    "import os\n",
    "from pathlib import Path\n",
    "\n",
    "import numpy as np\n",
    "import pandas as pd\n",
    "import scanpy as sc\n",
    "import tifffile\n",
    "import torch\n",
    "import torchvision.transforms.functional as TF\n",
    "import yaml\n",
    "from einops import rearrange"
   ]
  },
  {
   "cell_type": "code",
   "execution_count": 2,
   "id": "e687909b",
   "metadata": {},
   "outputs": [],
   "source": [
    "%load_ext autoreload"
   ]
  },
  {
   "cell_type": "code",
   "execution_count": 3,
   "id": "5afec56f",
   "metadata": {},
   "outputs": [],
   "source": [
    "%autoreload 2"
   ]
  },
  {
   "cell_type": "code",
   "execution_count": 4,
   "id": "aa4da016",
   "metadata": {},
   "outputs": [],
   "source": [
    "from mushroom.data.multiplex import extract_ome_tiff, get_ome_tiff_channels, make_pseudo"
   ]
  },
  {
   "cell_type": "code",
   "execution_count": 5,
   "id": "27360999",
   "metadata": {},
   "outputs": [],
   "source": [
    "run_dir = '/data/estorrs/mushroom/data/projects/subclone'\n",
    "Path(run_dir).mkdir(parents=True, exist_ok=True)"
   ]
  },
  {
   "cell_type": "code",
   "execution_count": null,
   "id": "fb953dcf",
   "metadata": {},
   "outputs": [],
   "source": [
    "data_map = {\n",
    "    'HT397B1': {\n",
    "        'order': [\n",
    "            'HT397B1-U1',\n",
    "            'HT397B1-U2',\n",
    "            'HT397B1-U12',\n",
    "            'HT397B1-U21',\n",
    "            'HT397B1-U22',\n",
    "            'HT397B1-U31'\n",
    "        ],\n",
    "        'data': {\n",
    "            'visium': {\n",
    "                'HT397B1-U1': '/data/spatial_transcriptomics/spaceranger_outputs/breast/HT397B1-S1H3A1U1/',\n",
    "                'HT397B1-U21': '/data/spatial_transcriptomics/spaceranger_outputs/breast/HT397B1-S1H3A1U21/',\n",
    "            },\n",
    "            'he': {\n",
    "                'HT397B1-U1':  '/data/spatial_transcriptomics/highres_images/breast/A1_HT397B1-S1H3A1U1.tif',\n",
    "                'HT397B1-U21': '/data/spatial_transcriptomics/highres_images/breast/B1_HT397B1-S1H3A1U21.tif',\n",
    "            },\n",
    "            'multiplex': {\n",
    "                'HT397B1-U2': '/data/multiplex_imaging/codex/htan/brca/031623_BRCA_HT397B1-U2/level_2/HT397B1_U2_03162023.ome.tiff',\n",
    "                'HT397B1-U12': '/data/multiplex_imaging/codex/htan/brca/03172023_BRCA_HT397B1-U12/level_2/HT397B1_U12_03172023.ome.tiff',\n",
    "                'HT397B1-U22': '/data/multiplex_imaging/codex/htan/brca/041223_BRCA_HT397B1-S1H3A1-U22/level_2/HT397B1_S1H1A3U22_04122023.ome.tiff',\n",
    "                'HT397B1-U31': '/data/multiplex_imaging/codex/htan/brca/040623_BRCA_HT397B1-U31/level_2/HT397B1_S1H1A3U31_04062023.ome.tiff',\n",
    "            }\n",
    "        }\n",
    "    },\n",
    "    # look at HT271B1-S1H3Fc2U1Z1Bs1 for codex alignment\n",
    "    #!!! 413 has codex\n",
    "    # I think 264 does, but not in validation cohort\n",
    "    '': {\n",
    "        'order': [\n",
    "        ],\n",
    "        'data': {\n",
    "            'visium': {\n",
    "            },\n",
    "            'he': {\n",
    "            },\n",
    "            'multiplex': {\n",
    "            }\n",
    "        }\n",
    "    },\n",
    "        '': {\n",
    "        'order': [\n",
    "        ],\n",
    "        'data': {\n",
    "            'visium': {\n",
    "            },\n",
    "            'he': {\n",
    "            },\n",
    "            'multiplex': {\n",
    "            }\n",
    "        }\n",
    "    },\n",
    "        '': {\n",
    "        'order': [\n",
    "        ],\n",
    "        'data': {\n",
    "            'visium': {\n",
    "            },\n",
    "            'he': {\n",
    "            },\n",
    "            'multiplex': {\n",
    "            }\n",
    "        }\n",
    "    },\n",
    "    '': {\n",
    "        'order': [\n",
    "        ],\n",
    "        'data': {\n",
    "            'visium': {\n",
    "            },\n",
    "            'he': {\n",
    "            },\n",
    "            'multiplex': {\n",
    "            }\n",
    "        }\n",
    "    }\n",
    "}"
   ]
  },
  {
   "cell_type": "code",
   "execution_count": null,
   "id": "9493c850",
   "metadata": {},
   "outputs": [],
   "source": [
    "# spaceranger output directories\n",
    "section_to_visium = {\n",
    "    'HT397B1-U1': '/data/spatial_transcriptomics/spaceranger_outputs/breast/HT397B1-S1H3A1U1/',\n",
    "    'HT397B1-U21': '/data/spatial_transcriptomics/spaceranger_outputs/breast/HT397B1-S1H3A1U21/',\n",
    "}\n",
    "\n",
    "# hi res H&E \n",
    "section_to_he = {\n",
    "    'HT397B1-U1':  '/data/spatial_transcriptomics/highres_images/breast/A1_HT397B1-S1H3A1U1.tif',\n",
    "    'HT397B1-U21': '/data/spatial_transcriptomics/highres_images/breast/B1_HT397B1-S1H3A1U21.tif',\n",
    "}\n",
    "\n",
    "# codex\n",
    "section_to_multiplex = {\n",
    "    'HT397B1-U2': '/data/multiplex_imaging/codex/htan/brca/031623_BRCA_HT397B1-U2/level_2/HT397B1_U2_03162023.ome.tiff',\n",
    "    'HT397B1-U12': '/data/multiplex_imaging/codex/htan/brca/03172023_BRCA_HT397B1-U12/level_2/HT397B1_U12_03172023.ome.tiff',\n",
    "    'HT397B1-U22': '/data/multiplex_imaging/codex/htan/brca/041223_BRCA_HT397B1-S1H3A1-U22/level_2/HT397B1_S1H1A3U22_04122023.ome.tiff',\n",
    "    'HT397B1-U31': '/data/multiplex_imaging/codex/htan/brca/040623_BRCA_HT397B1-U31/level_2/HT397B1_S1H1A3U31_04062023.ome.tiff',\n",
    "}"
   ]
  },
  {
   "cell_type": "code",
   "execution_count": null,
   "id": "8e8262f4",
   "metadata": {},
   "outputs": [],
   "source": []
  },
  {
   "cell_type": "code",
   "execution_count": null,
   "id": "c06b58bf",
   "metadata": {},
   "outputs": [],
   "source": []
  },
  {
   "cell_type": "code",
   "execution_count": null,
   "id": "0525556d",
   "metadata": {},
   "outputs": [],
   "source": []
  },
  {
   "cell_type": "code",
   "execution_count": null,
   "id": "933d5998",
   "metadata": {},
   "outputs": [],
   "source": []
  },
  {
   "cell_type": "code",
   "execution_count": null,
   "id": "858a8408",
   "metadata": {},
   "outputs": [],
   "source": []
  }
 ],
 "metadata": {
  "kernelspec": {
   "display_name": "Python 3 (ipykernel)",
   "language": "python",
   "name": "python3"
  },
  "language_info": {
   "codemirror_mode": {
    "name": "ipython",
    "version": 3
   },
   "file_extension": ".py",
   "mimetype": "text/x-python",
   "name": "python",
   "nbconvert_exporter": "python",
   "pygments_lexer": "ipython3",
   "version": "3.9.18"
  }
 },
 "nbformat": 4,
 "nbformat_minor": 5
}
