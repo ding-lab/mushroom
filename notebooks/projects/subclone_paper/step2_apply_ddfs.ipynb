{
 "cells": [
  {
   "cell_type": "code",
   "execution_count": 14,
   "id": "0033e5f0",
   "metadata": {},
   "outputs": [],
   "source": [
    "import os\n",
    "import re\n",
    "from pathlib import Path\n",
    "\n",
    "import matplotlib.pyplot as plt\n",
    "import numpy as np\n",
    "import pandas as pd\n",
    "import scanpy as sc\n",
    "import torch\n",
    "import torchvision.transforms.functional as TF\n",
    "import tifffile\n",
    "import yaml\n",
    "from einops import rearrange\n"
   ]
  },
  {
   "cell_type": "code",
   "execution_count": 15,
   "id": "a642ca68",
   "metadata": {},
   "outputs": [
    {
     "name": "stdout",
     "output_type": "stream",
     "text": [
      "The autoreload extension is already loaded. To reload it, use:\n",
      "  %reload_ext autoreload\n"
     ]
    }
   ],
   "source": [
    "%load_ext autoreload"
   ]
  },
  {
   "cell_type": "code",
   "execution_count": 16,
   "id": "b2e9925f",
   "metadata": {},
   "outputs": [],
   "source": [
    "%autoreload 2"
   ]
  },
  {
   "cell_type": "code",
   "execution_count": 17,
   "id": "2cc24a2e",
   "metadata": {},
   "outputs": [],
   "source": [
    "from mushroom.registration.bigwarp import (\n",
    "    read_bigwarp_warp_field, register_multiplex, register_visium, register_he)\n",
    "from mushroom.data.multiplex import extract_ome_tiff, write_basic_ome_tiff, get_ome_tiff_channels, make_pseudo\n",
    "from mushroom.data.visium import adata_from_visium\n",
    "from mushroom.visualization.utils import display_sections\n",
    "import mushroom.utils as utils"
   ]
  },
  {
   "cell_type": "code",
   "execution_count": null,
   "id": "b4e54071",
   "metadata": {},
   "outputs": [],
   "source": []
  },
  {
   "cell_type": "code",
   "execution_count": 18,
   "id": "b598314d",
   "metadata": {},
   "outputs": [],
   "source": [
    "run_dir = '/diskmnt/Projects/Users/estorrs/mushroom/data/projects/subclone/'\n",
    "bigwarp_dir = os.path.join(run_dir, 'registration')\n",
    "registered_dir = os.path.join(run_dir, 'registered')\n",
    "Path(registered_dir).mkdir(parents=True, exist_ok=True)"
   ]
  },
  {
   "cell_type": "code",
   "execution_count": 19,
   "id": "0836ea19",
   "metadata": {},
   "outputs": [
    {
     "data": {
      "text/plain": [
       "{'HT112C1': {'data': {'visium': {'HT112C1-U1': '/diskmnt/Datasets/Spatial_Transcriptomics/outputs_OCT/Human/HT112C1/H1/HT112C1-U1_ST_Bn1/outs',\n",
       "    'HT112C1-U2': '/diskmnt/Datasets/Spatial_Transcriptomics/outputs_OCT/Human/HT112C1/H1/HT112C1-U2_ST_Bn1/outs'}},\n",
       "  'ids': ['s0', 's1'],\n",
       "  'order': ['HT112C1-U1', 'HT112C1-U2'],\n",
       "  'registered_pixels_per_micron': 2.480402478562179,\n",
       "  'scale': 0.1},\n",
       " 'HT206B1': {'data': {'visium': {'HT206B1-U2': '/diskmnt/Datasets/Spatial_Transcriptomics/outputs_OCT/Human/HT206B1/H1/HT206B1-S1Fc1U2Z1B1/outs',\n",
       "    'HT206B1-U3': '/diskmnt/Datasets/Spatial_Transcriptomics/outputs_OCT/Human/HT206B1/H1/HT206B1-S1Fc1U3Z1B1/outs',\n",
       "    'HT206B1-U4': '/diskmnt/Datasets/Spatial_Transcriptomics/outputs_OCT/Human/HT206B1/H1/HT206B1-S1Fc1U4Z1B1/outs',\n",
       "    'HT206B1-U5': '/diskmnt/Datasets/Spatial_Transcriptomics/outputs_OCT/Human/HT206B1/H1/HT206B1-S1Fc1U5Z1B1/outs'}},\n",
       "  'ids': ['s0', 's1', 's2', 's3'],\n",
       "  'order': ['HT206B1-U2', 'HT206B1-U3', 'HT206B1-U4', 'HT206B1-U5'],\n",
       "  'registered_pixels_per_micron': 2.483379511178093,\n",
       "  'scale': 0.1},\n",
       " 'HT225C1': {'data': {'visium': {'HT225C1-U1': '/diskmnt/Datasets/Spatial_Transcriptomics/outputs_OCT/Human/HT225C1/H1/HT225C1-Th1Fc1U1Z1B1/outs',\n",
       "    'HT225C1-U2': '/diskmnt/Datasets/Spatial_Transcriptomics/outputs_OCT/Human/HT225C1/H1/HT225C1-Th1Fc1U2Z1B1/outs',\n",
       "    'HT225C1-U3': '/diskmnt/Datasets/Spatial_Transcriptomics/outputs_OCT/Human/HT225C1/H1/HT225C1-Th1Fc1U3Z1B1/outs',\n",
       "    'HT225C1-U4': '/diskmnt/Datasets/Spatial_Transcriptomics/outputs_OCT/Human/HT225C1/H1/HT225C1-Th1Fc1U4Z1B1/outs',\n",
       "    'HT225C1-U5': '/diskmnt/Datasets/Spatial_Transcriptomics/outputs_OCT/Human/HT225C1/H1/HT225C1-Th1Fc1U5Z1B1/outs'}},\n",
       "  'ids': ['s0', 's1', 's2', 's3', 's4'],\n",
       "  'order': ['HT225C1-U1',\n",
       "   'HT225C1-U2',\n",
       "   'HT225C1-U3',\n",
       "   'HT225C1-U4',\n",
       "   'HT225C1-U5'],\n",
       "  'registered_pixels_per_micron': 2.1711921193136487,\n",
       "  'scale': 0.1},\n",
       " 'HT226C1': {'data': {'visium': {'HT226C1-U1': '/diskmnt/Datasets/Spatial_Transcriptomics/outputs_OCT/Human/HT226C1/H1/HT226C1-Th1Fc1U1Z1Bn1/outs',\n",
       "    'HT226C1-U2': '/diskmnt/Datasets/Spatial_Transcriptomics/outputs_OCT/Human/HT226C1/H1/HT226C1-Th1Fc1U2Z1Bn1/outs'}},\n",
       "  'ids': ['s0', 's1'],\n",
       "  'order': ['HT226C1-U1', 'HT226C1-U2'],\n",
       "  'registered_pixels_per_micron': 2.4821237719723066,\n",
       "  'scale': 0.1},\n",
       " 'HT235B1': {'data': {'visium': {'HT235B1-U1': '/diskmnt/Datasets/Spatial_Transcriptomics/outputs_OCT/Human/HT235B1/H1/HT235B1-S1Fc1U1Z1Bn1/outs',\n",
       "    'HT235B1-U2': '/diskmnt/Datasets/Spatial_Transcriptomics/outputs_OCT/Human/HT235B1/H1/HT235B1-S1Fc1U2Z1Bn1/outs'}},\n",
       "  'ids': ['s0', 's1'],\n",
       "  'order': ['HT235B1-U1', 'HT235B1-U2'],\n",
       "  'registered_pixels_per_micron': 2.481930416706591,\n",
       "  'scale': 0.1},\n",
       " 'HT243B1-H3': {'data': {'visium': {'HT243B1-H3-U1': '/diskmnt/Datasets/Spatial_Transcriptomics/outputs_OCT/Human/HT243B1/H3/HT243B1H3A2-S1Fc1U1Z1B1/outs',\n",
       "    'HT243B1-H3-U2': '/diskmnt/Datasets/Spatial_Transcriptomics/outputs_OCT/Human/HT243B1/H3/HT243B1H3A2-S1Fc1U2Z1B1/outs',\n",
       "    'HT243B1-H3-U3': '/diskmnt/Datasets/Spatial_Transcriptomics/outputs_OCT/Human/HT243B1/H3/HT243B1H3A2-S1Fc1U3Z1B1/outs',\n",
       "    'HT243B1-H3-U4': '/diskmnt/Datasets/Spatial_Transcriptomics/outputs_OCT/Human/HT243B1/H3/HT243B1H3A2-S1Fc1U4Z1B1/outs'}},\n",
       "  'ids': ['s0', 's1', 's2', 's3'],\n",
       "  'order': ['HT243B1-H3-U1',\n",
       "   'HT243B1-H3-U2',\n",
       "   'HT243B1-H3-U3',\n",
       "   'HT243B1-H3-U4'],\n",
       "  'registered_pixels_per_micron': 2.4833706048554873,\n",
       "  'scale': 0.1},\n",
       " 'HT243B1-H4': {'data': {'visium': {'HT243B1-H4-U1': '/diskmnt/Datasets/Spatial_Transcriptomics/outputs_OCT/Human/HT243B1/H4/HT243B1H4A2-S1Fc1U1Z1B1/outs',\n",
       "    'HT243B1-H4-U2': '/diskmnt/Datasets/Spatial_Transcriptomics/outputs_OCT/Human/HT243B1/H4/HT243B1H4A2-S1Fc1U2Z1B1/outs'}},\n",
       "  'ids': ['s0', 's1'],\n",
       "  'order': ['HT243B1-H4-U1', 'HT243B1-H4-U2'],\n",
       "  'registered_pixels_per_micron': 2.4799941563767685,\n",
       "  'scale': 0.1},\n",
       " 'HT268B1': {'data': {'visium': {'HT268B1-U1': '/diskmnt/Datasets/Spatial_Transcriptomics/outputs_OCT/Human/HT268B1/H1/HT268B1-Th1K3Fc2U1Z1Bs1/outs',\n",
       "    'HT268B1-U12': '/diskmnt/Datasets/Spatial_Transcriptomics/outputs_OCT/Human/HT268B1/Th1H3/HT268B1-Th1H3Fc2U12Z1Bs1/outs',\n",
       "    'HT268B1-U2': '/diskmnt/Datasets/Spatial_Transcriptomics/outputs_OCT/Human/HT268B1/Th1H3/HT268B1-Th1H3Fc2U2Z1Bs1/outs',\n",
       "    'HT268B1-U22': '/diskmnt/Datasets/Spatial_Transcriptomics/outputs_OCT/Human/HT268B1/Th1H3/HT268B1-Th1H3Fc2U22Z1Bs1/outs',\n",
       "    'HT268B1-U32': '/diskmnt/Datasets/Spatial_Transcriptomics/outputs_OCT/Human/HT268B1/Th1H3/HT268B1-Th1H3Fc2U32Z1Bs1/outs'}},\n",
       "  'ids': ['s0', 's1', 's2', 's3', 's4'],\n",
       "  'order': ['HT268B1-U1',\n",
       "   'HT268B1-U2',\n",
       "   'HT268B1-U12',\n",
       "   'HT268B1-U22',\n",
       "   'HT268B1-U32'],\n",
       "  'registered_pixels_per_micron': 2.4761627200367733,\n",
       "  'scale': 0.1},\n",
       " 'HT271B1': {'data': {'visium': {'HT271B1-U1': '/diskmnt/Datasets/Spatial_Transcriptomics/outputs_OCT/Human/HT271B1/H3/HT271B1-S1H3Fc2U1Z1Bs1/outs',\n",
       "    'HT271B1-U2': '/diskmnt/Datasets/Spatial_Transcriptomics/outputs_OCT/Human/HT271B1/H3/HT271B1-S1H3Fc2U2Z1Bs1/outs',\n",
       "    'HT271B1-U3': '/diskmnt/Datasets/Spatial_Transcriptomics/outputs_OCT/Human/HT271B1/H3/HT271B1-S1H3Fc2U3Z1Bs1/outs',\n",
       "    'HT271B1-U4': '/diskmnt/Datasets/Spatial_Transcriptomics/outputs_OCT/Human/HT271B1/H3/HT271B1-S1H3Fc2U4Z1Bs1/outs'}},\n",
       "  'ids': ['s0', 's1', 's2', 's3'],\n",
       "  'order': ['HT271B1-U1', 'HT271B1-U2', 'HT271B1-U3', 'HT271B1-U4'],\n",
       "  'registered_pixels_per_micron': 2.483538143072734,\n",
       "  'scale': 0.1},\n",
       " 'HT339B1': {'data': {'visium': {'HT339B1-U1': '/diskmnt/Datasets/Spatial_Transcriptomics/outputs_OCT/Human/HT339B1/H3/HT339B1-S1H3Fc2U1Z1Bs1/outs',\n",
       "    'HT339B1-U2': '/diskmnt/Datasets/Spatial_Transcriptomics/outputs_OCT/Human/HT339B1/H3/HT339B1-S1H3Fc2U2Bs2/outs'}},\n",
       "  'ids': ['s0', 's1'],\n",
       "  'order': ['HT339B1-U1', 'HT339B1-U2'],\n",
       "  'registered_pixels_per_micron': 2.479191821882763,\n",
       "  'scale': 0.1},\n",
       " 'HT397B1': {'data': {'he': {'HT397B1-U1': '/diskmnt/Datasets/Spatial_Transcriptomics/images/all/A1_HT397B1-S1H3A1U1.tif',\n",
       "    'HT397B1-U21': '/diskmnt/Datasets/Spatial_Transcriptomics/images/all/B1_HT397B1-S1H3A1U21.tif'},\n",
       "   'multiplex': {'HT397B1-U12': '/diskmnt/primary/CODEX/HTAN/03172023_BRCA_HT397B1-U12/HT397B1-S1H3A1-U22__20230316.ome.tiff',\n",
       "    'HT397B1-U2': '/diskmnt/primary/CODEX/HTAN/031623_BRCA_HT397B1-U2/HT397B1-S1H3A1-U2__20230315.ome.tiff',\n",
       "    'HT397B1-U22': '/diskmnt/primary/CODEX/HTAN/041223_BRCA_HT397B1-S1H3A1-U22/HT397B1-S1H3A1-U22__20230413.ome.tiff',\n",
       "    'HT397B1-U31': '/diskmnt/primary/CODEX/HTAN/040623_BRCA_HT397B1-U31/HT397B1-S1H3A1-U31__20230407.ome.tiff'},\n",
       "   'visium': {'HT397B1-U1': '/diskmnt/Datasets/Spatial_Transcriptomics/outputs_FFPE/Human/HT397B1/S1H3/HT397B1-S1H3A1U1Bp1/outs',\n",
       "    'HT397B1-U21': '/diskmnt/Datasets/Spatial_Transcriptomics/outputs_FFPE/Human/HT397B1/S1H3/HT397B1-S1H3A1U21Bp1/outs'}},\n",
       "  'ids': ['s0', 's1', 's2', 's3', 's4', 's5'],\n",
       "  'order': ['HT397B1-U1',\n",
       "   'HT397B1-U2',\n",
       "   'HT397B1-U12',\n",
       "   'HT397B1-U21',\n",
       "   'HT397B1-U22',\n",
       "   'HT397B1-U31'],\n",
       "  'registered_pixels_per_micron': 2.3223207975307805,\n",
       "  'scale': 0.1},\n",
       " 'HT413C1': {'data': {'visium': {'HT413C1-U1': '/diskmnt/Datasets/Spatial_Transcriptomics/outputs_FFPE/Human/HT413C1/Th1K2/HT413C1-Th1K2A4U2Bp1/outs',\n",
       "    'HT413C1-U14': '/diskmnt/Datasets/Spatial_Transcriptomics/outputs_FFPE/Human/HT413C1/Th1K2/HT413C1-Th1K2A4U14Bp1/outs',\n",
       "    'HT413C1-U2': '/diskmnt/Datasets/Spatial_Transcriptomics/outputs_FFPE/Human/HT413C1/Th1K2/HT413C1-Th1K2A4U1Bp1/outs'}},\n",
       "  'ids': ['s0', 's1', 's2'],\n",
       "  'order': ['HT413C1-U1', 'HT413C1-U2', 'HT413C1-U14'],\n",
       "  'registered_pixels_per_micron': 2.321639522842586,\n",
       "  'scale': 0.1},\n",
       " 'HT448C1': {'data': {'visium': {'HT448C1-U1': '/diskmnt/Datasets/Spatial_Transcriptomics/outputs_FFPE/Human/HT448C1/Th1K1/HT448C1-Th1K1Fp1U1Bp1/outs',\n",
       "    'HT448C1-U13': '/diskmnt/Datasets/Spatial_Transcriptomics/outputs_FFPE/Human/HT448C1/Th1K1/HT448C1-Th1K1Fp1U13Bp1/outs'}},\n",
       "  'ids': ['s0', 's1'],\n",
       "  'order': ['HT448C1-U1', 'HT448C1-U13'],\n",
       "  'registered_pixels_per_micron': 2.3208096724524325,\n",
       "  'scale': 0.1}}"
      ]
     },
     "execution_count": 19,
     "metadata": {},
     "output_type": "execute_result"
    }
   ],
   "source": [
    "metadata = yaml.safe_load(open(os.path.join(bigwarp_dir, 'metadata.yaml')))\n",
    "metadata"
   ]
  },
  {
   "cell_type": "code",
   "execution_count": 20,
   "id": "b9b20be6",
   "metadata": {
    "scrolled": true
   },
   "outputs": [
    {
     "data": {
      "text/plain": [
       "['/diskmnt/Projects/Users/estorrs/mushroom/data/projects/subclone/registration/HT112C1/s1_ddf.tif',\n",
       " '/diskmnt/Projects/Users/estorrs/mushroom/data/projects/subclone/registration/HT206B1/s1_ddf.tif',\n",
       " '/diskmnt/Projects/Users/estorrs/mushroom/data/projects/subclone/registration/HT206B1/s2_ddf.tif',\n",
       " '/diskmnt/Projects/Users/estorrs/mushroom/data/projects/subclone/registration/HT206B1/s3_ddf.tif',\n",
       " '/diskmnt/Projects/Users/estorrs/mushroom/data/projects/subclone/registration/HT225C1/s1_ddf.tif',\n",
       " '/diskmnt/Projects/Users/estorrs/mushroom/data/projects/subclone/registration/HT225C1/s2_ddf.tif',\n",
       " '/diskmnt/Projects/Users/estorrs/mushroom/data/projects/subclone/registration/HT225C1/s3_ddf.tif',\n",
       " '/diskmnt/Projects/Users/estorrs/mushroom/data/projects/subclone/registration/HT225C1/s4_ddf.tif',\n",
       " '/diskmnt/Projects/Users/estorrs/mushroom/data/projects/subclone/registration/HT226C1/s1_ddf.tif',\n",
       " '/diskmnt/Projects/Users/estorrs/mushroom/data/projects/subclone/registration/HT235B1/s1_ddf.tif',\n",
       " '/diskmnt/Projects/Users/estorrs/mushroom/data/projects/subclone/registration/HT243B1-H3/s1_ddf.tif',\n",
       " '/diskmnt/Projects/Users/estorrs/mushroom/data/projects/subclone/registration/HT243B1-H3/s2_ddf.tif',\n",
       " '/diskmnt/Projects/Users/estorrs/mushroom/data/projects/subclone/registration/HT243B1-H3/s3_ddf.tif',\n",
       " '/diskmnt/Projects/Users/estorrs/mushroom/data/projects/subclone/registration/HT243B1-H4/s1_ddf.tif',\n",
       " '/diskmnt/Projects/Users/estorrs/mushroom/data/projects/subclone/registration/HT268B1/s1_ddf.tif',\n",
       " '/diskmnt/Projects/Users/estorrs/mushroom/data/projects/subclone/registration/HT268B1/s2_ddf.tif',\n",
       " '/diskmnt/Projects/Users/estorrs/mushroom/data/projects/subclone/registration/HT268B1/s3_ddf.tif',\n",
       " '/diskmnt/Projects/Users/estorrs/mushroom/data/projects/subclone/registration/HT268B1/s4_ddf.tif',\n",
       " '/diskmnt/Projects/Users/estorrs/mushroom/data/projects/subclone/registration/HT271B1/s1_ddf.tif',\n",
       " '/diskmnt/Projects/Users/estorrs/mushroom/data/projects/subclone/registration/HT271B1/s2_ddf.tif',\n",
       " '/diskmnt/Projects/Users/estorrs/mushroom/data/projects/subclone/registration/HT271B1/s3_ddf.tif',\n",
       " '/diskmnt/Projects/Users/estorrs/mushroom/data/projects/subclone/registration/HT339B1/s1_ddf.tif',\n",
       " '/diskmnt/Projects/Users/estorrs/mushroom/data/projects/subclone/registration/HT397B1/s1_ddf.tif',\n",
       " '/diskmnt/Projects/Users/estorrs/mushroom/data/projects/subclone/registration/HT397B1/s2_ddf.tif',\n",
       " '/diskmnt/Projects/Users/estorrs/mushroom/data/projects/subclone/registration/HT397B1/s3_ddf.tif',\n",
       " '/diskmnt/Projects/Users/estorrs/mushroom/data/projects/subclone/registration/HT397B1/s4_ddf.tif',\n",
       " '/diskmnt/Projects/Users/estorrs/mushroom/data/projects/subclone/registration/HT397B1/s5_ddf.tif',\n",
       " '/diskmnt/Projects/Users/estorrs/mushroom/data/projects/subclone/registration/HT413C1/s1_ddf.tif',\n",
       " '/diskmnt/Projects/Users/estorrs/mushroom/data/projects/subclone/registration/HT413C1/s2_ddf.tif',\n",
       " '/diskmnt/Projects/Users/estorrs/mushroom/data/projects/subclone/registration/HT448C1/s1_ddf.tif']"
      ]
     },
     "execution_count": 20,
     "metadata": {},
     "output_type": "execute_result"
    }
   ],
   "source": [
    "fps = sorted(utils.listfiles(bigwarp_dir, regex=r'ddf.tif$'))\n",
    "fps"
   ]
  },
  {
   "cell_type": "code",
   "execution_count": 21,
   "id": "28dca1aa",
   "metadata": {
    "scrolled": true
   },
   "outputs": [
    {
     "name": "stdout",
     "output_type": "stream",
     "text": [
      "HT112C1 torch.Size([2, 19880, 19630])\n",
      "HT206B1 torch.Size([2, 19910, 19640])\n",
      "HT206B1 torch.Size([2, 19910, 19640])\n",
      "HT206B1 torch.Size([2, 19910, 19640])\n",
      "HT225C1 torch.Size([2, 17120, 17180])\n",
      "HT225C1 torch.Size([2, 17420, 17180])\n",
      "HT225C1 torch.Size([2, 17420, 17180])\n",
      "HT225C1 torch.Size([2, 17420, 17180])\n",
      "HT226C1 torch.Size([2, 20940, 19640])\n",
      "HT235B1 torch.Size([2, 20970, 19640])\n",
      "HT243B1-H3 torch.Size([2, 19920, 19630])\n",
      "HT243B1-H3 torch.Size([2, 19920, 19630])\n",
      "HT243B1-H3 torch.Size([2, 19920, 19630])\n",
      "HT243B1-H4 torch.Size([2, 19890, 19590])\n",
      "HT268B1 torch.Size([2, 18880, 19640])\n",
      "HT268B1 torch.Size([2, 18880, 19640])\n",
      "HT268B1 torch.Size([2, 18880, 19640])\n",
      "HT268B1 torch.Size([2, 18880, 19640])\n",
      "HT271B1 torch.Size([2, 19880, 19640])\n",
      "HT271B1 torch.Size([2, 19880, 19640])\n",
      "HT271B1 torch.Size([2, 19880, 19640])\n",
      "HT339B1 torch.Size([2, 19900, 19650])\n",
      "HT397B1 torch.Size([2, 18640, 18370])\n",
      "HT397B1 torch.Size([2, 18640, 18370])\n",
      "HT397B1 torch.Size([2, 18640, 18370])\n",
      "HT397B1 torch.Size([2, 18640, 18370])\n",
      "HT397B1 torch.Size([2, 18640, 18370])\n",
      "HT413C1 torch.Size([2, 18850, 18620])\n",
      "HT413C1 torch.Size([2, 18850, 18620])\n",
      "HT448C1 torch.Size([2, 18600, 18320])\n"
     ]
    },
    {
     "data": {
      "text/plain": [
       "dict_keys(['HT112C1', 'HT206B1', 'HT225C1', 'HT226C1', 'HT235B1', 'HT243B1-H3', 'HT243B1-H4', 'HT268B1', 'HT271B1', 'HT339B1', 'HT397B1', 'HT413C1', 'HT448C1'])"
      ]
     },
     "execution_count": 21,
     "metadata": {},
     "output_type": "execute_result"
    }
   ],
   "source": [
    "case_to_ddfs = {}\n",
    "for fp in fps:\n",
    "    case = fp.split('/')[-2]\n",
    "    if case not in case_to_ddfs:\n",
    "        case_to_ddfs[case] = {}\n",
    "        \n",
    "    scale = metadata[case]['scale']\n",
    "    \n",
    "    sid = re.findall(r'(s[0-9])_ddf.tif', fp)[0]\n",
    "    ddf = read_bigwarp_warp_field(fp, scale)\n",
    "    case_to_ddfs[case][sid] = ddf\n",
    "    print(case, ddf.shape)\n",
    "case_to_ddfs.keys()"
   ]
  },
  {
   "cell_type": "code",
   "execution_count": 9,
   "id": "2a8a7e5b",
   "metadata": {},
   "outputs": [],
   "source": [
    "# dtype, case, sample, fp = 'visium', 'HT112C1', 'HT112C1-U2', '/diskmnt/Datasets/Spatial_Transcriptomics/outputs_OCT/Human/HT112C1/H1/HT112C1-U2_ST_Bn1/outs'\n",
    "# data = metadata[case]\n",
    "# target_pix_per_micron = data['registered_pixels_per_micron']\n",
    "# ids = data['ids']\n",
    "# order = data['order']\n",
    "\n",
    "# ddf = case_to_ddfs[case].get(sid)\n",
    "# adata = adata_from_visium(fp)\n",
    "# adata, ddf.shape"
   ]
  },
  {
   "cell_type": "code",
   "execution_count": 10,
   "id": "e10dd62d",
   "metadata": {},
   "outputs": [],
   "source": [
    "# warped = register_visium(adata, ddf, target_pix_per_micron=target_pix_per_micron)"
   ]
  },
  {
   "cell_type": "code",
   "execution_count": 11,
   "id": "945cb0e5",
   "metadata": {},
   "outputs": [],
   "source": [
    "# sc.pl.spatial(adata, color='EPCAM')"
   ]
  },
  {
   "cell_type": "code",
   "execution_count": 12,
   "id": "baf106cb",
   "metadata": {},
   "outputs": [],
   "source": [
    "# sc.pl.spatial(warped, color='EPCAM')"
   ]
  },
  {
   "cell_type": "code",
   "execution_count": 13,
   "id": "758d4ae9",
   "metadata": {
    "scrolled": true
   },
   "outputs": [
    {
     "name": "stdout",
     "output_type": "stream",
     "text": [
      "visium HT112C1-U1 /diskmnt/Datasets/Spatial_Transcriptomics/outputs_OCT/Human/HT112C1/H1/HT112C1-U1_ST_Bn1/outs\n"
     ]
    },
    {
     "name": "stderr",
     "output_type": "stream",
     "text": [
      "/diskmnt/Projects/Users/estorrs/miniconda3/envs/mushroom/lib/python3.9/site-packages/anndata/_core/anndata.py:1840: UserWarning: Variable names are not unique. To make them unique, call `.var_names_make_unique`.\n",
      "  utils.warn_names_duplicates(\"var\")\n",
      "/diskmnt/Projects/Users/estorrs/miniconda3/envs/mushroom/lib/python3.9/site-packages/anndata/_core/anndata.py:1113: FutureWarning: is_categorical_dtype is deprecated and will be removed in a future version. Use isinstance(dtype, CategoricalDtype) instead\n",
      "  if not is_categorical_dtype(df_full[k]):\n",
      "/diskmnt/Projects/Users/estorrs/miniconda3/envs/mushroom/lib/python3.9/site-packages/anndata/_core/anndata.py:1840: UserWarning: Variable names are not unique. To make them unique, call `.var_names_make_unique`.\n",
      "  utils.warn_names_duplicates(\"var\")\n"
     ]
    },
    {
     "name": "stdout",
     "output_type": "stream",
     "text": [
      "visium HT112C1-U2 /diskmnt/Datasets/Spatial_Transcriptomics/outputs_OCT/Human/HT112C1/H1/HT112C1-U2_ST_Bn1/outs\n"
     ]
    },
    {
     "name": "stderr",
     "output_type": "stream",
     "text": [
      "/diskmnt/Projects/Users/estorrs/miniconda3/envs/mushroom/lib/python3.9/site-packages/anndata/_core/anndata.py:1840: UserWarning: Variable names are not unique. To make them unique, call `.var_names_make_unique`.\n",
      "  utils.warn_names_duplicates(\"var\")\n",
      "/diskmnt/Projects/Users/estorrs/miniconda3/envs/mushroom/lib/python3.9/site-packages/anndata/_core/anndata.py:1113: FutureWarning: is_categorical_dtype is deprecated and will be removed in a future version. Use isinstance(dtype, CategoricalDtype) instead\n",
      "  if not is_categorical_dtype(df_full[k]):\n",
      "/diskmnt/Projects/Users/estorrs/miniconda3/envs/mushroom/lib/python3.9/site-packages/anndata/_core/anndata.py:1840: UserWarning: Variable names are not unique. To make them unique, call `.var_names_make_unique`.\n",
      "  utils.warn_names_duplicates(\"var\")\n",
      "/diskmnt/Projects/Users/estorrs/miniconda3/envs/mushroom/lib/python3.9/site-packages/anndata/_core/anndata.py:1113: FutureWarning: is_categorical_dtype is deprecated and will be removed in a future version. Use isinstance(dtype, CategoricalDtype) instead\n",
      "  if not is_categorical_dtype(df_full[k]):\n"
     ]
    },
    {
     "name": "stdout",
     "output_type": "stream",
     "text": [
      "visium HT206B1-U2 /diskmnt/Datasets/Spatial_Transcriptomics/outputs_OCT/Human/HT206B1/H1/HT206B1-S1Fc1U2Z1B1/outs\n"
     ]
    },
    {
     "name": "stderr",
     "output_type": "stream",
     "text": [
      "/diskmnt/Projects/Users/estorrs/miniconda3/envs/mushroom/lib/python3.9/site-packages/anndata/_core/anndata.py:1840: UserWarning: Variable names are not unique. To make them unique, call `.var_names_make_unique`.\n",
      "  utils.warn_names_duplicates(\"var\")\n",
      "/diskmnt/Projects/Users/estorrs/miniconda3/envs/mushroom/lib/python3.9/site-packages/anndata/_core/anndata.py:1113: FutureWarning: is_categorical_dtype is deprecated and will be removed in a future version. Use isinstance(dtype, CategoricalDtype) instead\n",
      "  if not is_categorical_dtype(df_full[k]):\n",
      "/diskmnt/Projects/Users/estorrs/miniconda3/envs/mushroom/lib/python3.9/site-packages/anndata/_core/anndata.py:1840: UserWarning: Variable names are not unique. To make them unique, call `.var_names_make_unique`.\n",
      "  utils.warn_names_duplicates(\"var\")\n"
     ]
    },
    {
     "name": "stdout",
     "output_type": "stream",
     "text": [
      "visium HT206B1-U3 /diskmnt/Datasets/Spatial_Transcriptomics/outputs_OCT/Human/HT206B1/H1/HT206B1-S1Fc1U3Z1B1/outs\n"
     ]
    },
    {
     "name": "stderr",
     "output_type": "stream",
     "text": [
      "/diskmnt/Projects/Users/estorrs/miniconda3/envs/mushroom/lib/python3.9/site-packages/anndata/_core/anndata.py:1840: UserWarning: Variable names are not unique. To make them unique, call `.var_names_make_unique`.\n",
      "  utils.warn_names_duplicates(\"var\")\n",
      "/diskmnt/Projects/Users/estorrs/miniconda3/envs/mushroom/lib/python3.9/site-packages/anndata/_core/anndata.py:1113: FutureWarning: is_categorical_dtype is deprecated and will be removed in a future version. Use isinstance(dtype, CategoricalDtype) instead\n",
      "  if not is_categorical_dtype(df_full[k]):\n",
      "/diskmnt/Projects/Users/estorrs/miniconda3/envs/mushroom/lib/python3.9/site-packages/anndata/_core/anndata.py:1840: UserWarning: Variable names are not unique. To make them unique, call `.var_names_make_unique`.\n",
      "  utils.warn_names_duplicates(\"var\")\n",
      "/diskmnt/Projects/Users/estorrs/miniconda3/envs/mushroom/lib/python3.9/site-packages/anndata/_core/anndata.py:1113: FutureWarning: is_categorical_dtype is deprecated and will be removed in a future version. Use isinstance(dtype, CategoricalDtype) instead\n",
      "  if not is_categorical_dtype(df_full[k]):\n"
     ]
    },
    {
     "name": "stdout",
     "output_type": "stream",
     "text": [
      "visium HT206B1-U4 /diskmnt/Datasets/Spatial_Transcriptomics/outputs_OCT/Human/HT206B1/H1/HT206B1-S1Fc1U4Z1B1/outs\n"
     ]
    },
    {
     "name": "stderr",
     "output_type": "stream",
     "text": [
      "/diskmnt/Projects/Users/estorrs/miniconda3/envs/mushroom/lib/python3.9/site-packages/anndata/_core/anndata.py:1840: UserWarning: Variable names are not unique. To make them unique, call `.var_names_make_unique`.\n",
      "  utils.warn_names_duplicates(\"var\")\n",
      "/diskmnt/Projects/Users/estorrs/miniconda3/envs/mushroom/lib/python3.9/site-packages/anndata/_core/anndata.py:1113: FutureWarning: is_categorical_dtype is deprecated and will be removed in a future version. Use isinstance(dtype, CategoricalDtype) instead\n",
      "  if not is_categorical_dtype(df_full[k]):\n",
      "/diskmnt/Projects/Users/estorrs/miniconda3/envs/mushroom/lib/python3.9/site-packages/anndata/_core/anndata.py:1840: UserWarning: Variable names are not unique. To make them unique, call `.var_names_make_unique`.\n",
      "  utils.warn_names_duplicates(\"var\")\n",
      "/diskmnt/Projects/Users/estorrs/miniconda3/envs/mushroom/lib/python3.9/site-packages/anndata/_core/anndata.py:1113: FutureWarning: is_categorical_dtype is deprecated and will be removed in a future version. Use isinstance(dtype, CategoricalDtype) instead\n",
      "  if not is_categorical_dtype(df_full[k]):\n"
     ]
    },
    {
     "name": "stdout",
     "output_type": "stream",
     "text": [
      "visium HT206B1-U5 /diskmnt/Datasets/Spatial_Transcriptomics/outputs_OCT/Human/HT206B1/H1/HT206B1-S1Fc1U5Z1B1/outs\n"
     ]
    },
    {
     "name": "stderr",
     "output_type": "stream",
     "text": [
      "/diskmnt/Projects/Users/estorrs/miniconda3/envs/mushroom/lib/python3.9/site-packages/anndata/_core/anndata.py:1840: UserWarning: Variable names are not unique. To make them unique, call `.var_names_make_unique`.\n",
      "  utils.warn_names_duplicates(\"var\")\n",
      "/diskmnt/Projects/Users/estorrs/miniconda3/envs/mushroom/lib/python3.9/site-packages/anndata/_core/anndata.py:1113: FutureWarning: is_categorical_dtype is deprecated and will be removed in a future version. Use isinstance(dtype, CategoricalDtype) instead\n",
      "  if not is_categorical_dtype(df_full[k]):\n",
      "/diskmnt/Projects/Users/estorrs/miniconda3/envs/mushroom/lib/python3.9/site-packages/anndata/_core/anndata.py:1840: UserWarning: Variable names are not unique. To make them unique, call `.var_names_make_unique`.\n",
      "  utils.warn_names_duplicates(\"var\")\n",
      "/diskmnt/Projects/Users/estorrs/miniconda3/envs/mushroom/lib/python3.9/site-packages/anndata/_core/anndata.py:1113: FutureWarning: is_categorical_dtype is deprecated and will be removed in a future version. Use isinstance(dtype, CategoricalDtype) instead\n",
      "  if not is_categorical_dtype(df_full[k]):\n"
     ]
    },
    {
     "name": "stdout",
     "output_type": "stream",
     "text": [
      "visium HT225C1-U1 /diskmnt/Datasets/Spatial_Transcriptomics/outputs_OCT/Human/HT225C1/H1/HT225C1-Th1Fc1U1Z1B1/outs\n"
     ]
    },
    {
     "name": "stderr",
     "output_type": "stream",
     "text": [
      "/diskmnt/Projects/Users/estorrs/miniconda3/envs/mushroom/lib/python3.9/site-packages/anndata/_core/anndata.py:1840: UserWarning: Variable names are not unique. To make them unique, call `.var_names_make_unique`.\n",
      "  utils.warn_names_duplicates(\"var\")\n",
      "/diskmnt/Projects/Users/estorrs/miniconda3/envs/mushroom/lib/python3.9/site-packages/anndata/_core/anndata.py:1113: FutureWarning: is_categorical_dtype is deprecated and will be removed in a future version. Use isinstance(dtype, CategoricalDtype) instead\n",
      "  if not is_categorical_dtype(df_full[k]):\n",
      "/diskmnt/Projects/Users/estorrs/miniconda3/envs/mushroom/lib/python3.9/site-packages/anndata/_core/anndata.py:1840: UserWarning: Variable names are not unique. To make them unique, call `.var_names_make_unique`.\n",
      "  utils.warn_names_duplicates(\"var\")\n"
     ]
    },
    {
     "name": "stdout",
     "output_type": "stream",
     "text": [
      "visium HT225C1-U2 /diskmnt/Datasets/Spatial_Transcriptomics/outputs_OCT/Human/HT225C1/H1/HT225C1-Th1Fc1U2Z1B1/outs\n"
     ]
    },
    {
     "name": "stderr",
     "output_type": "stream",
     "text": [
      "/diskmnt/Projects/Users/estorrs/miniconda3/envs/mushroom/lib/python3.9/site-packages/anndata/_core/anndata.py:1840: UserWarning: Variable names are not unique. To make them unique, call `.var_names_make_unique`.\n",
      "  utils.warn_names_duplicates(\"var\")\n",
      "/diskmnt/Projects/Users/estorrs/miniconda3/envs/mushroom/lib/python3.9/site-packages/anndata/_core/anndata.py:1113: FutureWarning: is_categorical_dtype is deprecated and will be removed in a future version. Use isinstance(dtype, CategoricalDtype) instead\n",
      "  if not is_categorical_dtype(df_full[k]):\n",
      "/diskmnt/Projects/Users/estorrs/miniconda3/envs/mushroom/lib/python3.9/site-packages/anndata/_core/anndata.py:1840: UserWarning: Variable names are not unique. To make them unique, call `.var_names_make_unique`.\n",
      "  utils.warn_names_duplicates(\"var\")\n",
      "/diskmnt/Projects/Users/estorrs/miniconda3/envs/mushroom/lib/python3.9/site-packages/anndata/_core/anndata.py:1113: FutureWarning: is_categorical_dtype is deprecated and will be removed in a future version. Use isinstance(dtype, CategoricalDtype) instead\n",
      "  if not is_categorical_dtype(df_full[k]):\n"
     ]
    },
    {
     "name": "stdout",
     "output_type": "stream",
     "text": [
      "visium HT225C1-U3 /diskmnt/Datasets/Spatial_Transcriptomics/outputs_OCT/Human/HT225C1/H1/HT225C1-Th1Fc1U3Z1B1/outs\n"
     ]
    },
    {
     "name": "stderr",
     "output_type": "stream",
     "text": [
      "/diskmnt/Projects/Users/estorrs/miniconda3/envs/mushroom/lib/python3.9/site-packages/anndata/_core/anndata.py:1840: UserWarning: Variable names are not unique. To make them unique, call `.var_names_make_unique`.\n",
      "  utils.warn_names_duplicates(\"var\")\n",
      "/diskmnt/Projects/Users/estorrs/miniconda3/envs/mushroom/lib/python3.9/site-packages/anndata/_core/anndata.py:1113: FutureWarning: is_categorical_dtype is deprecated and will be removed in a future version. Use isinstance(dtype, CategoricalDtype) instead\n",
      "  if not is_categorical_dtype(df_full[k]):\n",
      "/diskmnt/Projects/Users/estorrs/miniconda3/envs/mushroom/lib/python3.9/site-packages/anndata/_core/anndata.py:1840: UserWarning: Variable names are not unique. To make them unique, call `.var_names_make_unique`.\n",
      "  utils.warn_names_duplicates(\"var\")\n",
      "/diskmnt/Projects/Users/estorrs/miniconda3/envs/mushroom/lib/python3.9/site-packages/anndata/_core/anndata.py:1113: FutureWarning: is_categorical_dtype is deprecated and will be removed in a future version. Use isinstance(dtype, CategoricalDtype) instead\n",
      "  if not is_categorical_dtype(df_full[k]):\n"
     ]
    },
    {
     "name": "stdout",
     "output_type": "stream",
     "text": [
      "visium HT225C1-U4 /diskmnt/Datasets/Spatial_Transcriptomics/outputs_OCT/Human/HT225C1/H1/HT225C1-Th1Fc1U4Z1B1/outs\n"
     ]
    },
    {
     "name": "stderr",
     "output_type": "stream",
     "text": [
      "/diskmnt/Projects/Users/estorrs/miniconda3/envs/mushroom/lib/python3.9/site-packages/anndata/_core/anndata.py:1840: UserWarning: Variable names are not unique. To make them unique, call `.var_names_make_unique`.\n",
      "  utils.warn_names_duplicates(\"var\")\n",
      "/diskmnt/Projects/Users/estorrs/miniconda3/envs/mushroom/lib/python3.9/site-packages/anndata/_core/anndata.py:1113: FutureWarning: is_categorical_dtype is deprecated and will be removed in a future version. Use isinstance(dtype, CategoricalDtype) instead\n",
      "  if not is_categorical_dtype(df_full[k]):\n",
      "/diskmnt/Projects/Users/estorrs/miniconda3/envs/mushroom/lib/python3.9/site-packages/anndata/_core/anndata.py:1840: UserWarning: Variable names are not unique. To make them unique, call `.var_names_make_unique`.\n",
      "  utils.warn_names_duplicates(\"var\")\n",
      "/diskmnt/Projects/Users/estorrs/miniconda3/envs/mushroom/lib/python3.9/site-packages/anndata/_core/anndata.py:1113: FutureWarning: is_categorical_dtype is deprecated and will be removed in a future version. Use isinstance(dtype, CategoricalDtype) instead\n",
      "  if not is_categorical_dtype(df_full[k]):\n"
     ]
    },
    {
     "name": "stdout",
     "output_type": "stream",
     "text": [
      "visium HT225C1-U5 /diskmnt/Datasets/Spatial_Transcriptomics/outputs_OCT/Human/HT225C1/H1/HT225C1-Th1Fc1U5Z1B1/outs\n"
     ]
    },
    {
     "name": "stderr",
     "output_type": "stream",
     "text": [
      "/diskmnt/Projects/Users/estorrs/miniconda3/envs/mushroom/lib/python3.9/site-packages/anndata/_core/anndata.py:1840: UserWarning: Variable names are not unique. To make them unique, call `.var_names_make_unique`.\n",
      "  utils.warn_names_duplicates(\"var\")\n",
      "/diskmnt/Projects/Users/estorrs/miniconda3/envs/mushroom/lib/python3.9/site-packages/anndata/_core/anndata.py:1113: FutureWarning: is_categorical_dtype is deprecated and will be removed in a future version. Use isinstance(dtype, CategoricalDtype) instead\n",
      "  if not is_categorical_dtype(df_full[k]):\n",
      "/diskmnt/Projects/Users/estorrs/miniconda3/envs/mushroom/lib/python3.9/site-packages/anndata/_core/anndata.py:1840: UserWarning: Variable names are not unique. To make them unique, call `.var_names_make_unique`.\n",
      "  utils.warn_names_duplicates(\"var\")\n",
      "/diskmnt/Projects/Users/estorrs/miniconda3/envs/mushroom/lib/python3.9/site-packages/anndata/_core/anndata.py:1113: FutureWarning: is_categorical_dtype is deprecated and will be removed in a future version. Use isinstance(dtype, CategoricalDtype) instead\n",
      "  if not is_categorical_dtype(df_full[k]):\n"
     ]
    },
    {
     "name": "stdout",
     "output_type": "stream",
     "text": [
      "visium HT226C1-U1 /diskmnt/Datasets/Spatial_Transcriptomics/outputs_OCT/Human/HT226C1/H1/HT226C1-Th1Fc1U1Z1Bn1/outs\n"
     ]
    },
    {
     "name": "stderr",
     "output_type": "stream",
     "text": [
      "/diskmnt/Projects/Users/estorrs/miniconda3/envs/mushroom/lib/python3.9/site-packages/anndata/_core/anndata.py:1840: UserWarning: Variable names are not unique. To make them unique, call `.var_names_make_unique`.\n",
      "  utils.warn_names_duplicates(\"var\")\n",
      "/diskmnt/Projects/Users/estorrs/miniconda3/envs/mushroom/lib/python3.9/site-packages/anndata/_core/anndata.py:1113: FutureWarning: is_categorical_dtype is deprecated and will be removed in a future version. Use isinstance(dtype, CategoricalDtype) instead\n",
      "  if not is_categorical_dtype(df_full[k]):\n",
      "/diskmnt/Projects/Users/estorrs/miniconda3/envs/mushroom/lib/python3.9/site-packages/anndata/_core/anndata.py:1840: UserWarning: Variable names are not unique. To make them unique, call `.var_names_make_unique`.\n",
      "  utils.warn_names_duplicates(\"var\")\n"
     ]
    },
    {
     "name": "stdout",
     "output_type": "stream",
     "text": [
      "visium HT226C1-U2 /diskmnt/Datasets/Spatial_Transcriptomics/outputs_OCT/Human/HT226C1/H1/HT226C1-Th1Fc1U2Z1Bn1/outs\n"
     ]
    },
    {
     "name": "stderr",
     "output_type": "stream",
     "text": [
      "/diskmnt/Projects/Users/estorrs/miniconda3/envs/mushroom/lib/python3.9/site-packages/anndata/_core/anndata.py:1840: UserWarning: Variable names are not unique. To make them unique, call `.var_names_make_unique`.\n",
      "  utils.warn_names_duplicates(\"var\")\n",
      "/diskmnt/Projects/Users/estorrs/miniconda3/envs/mushroom/lib/python3.9/site-packages/anndata/_core/anndata.py:1113: FutureWarning: is_categorical_dtype is deprecated and will be removed in a future version. Use isinstance(dtype, CategoricalDtype) instead\n",
      "  if not is_categorical_dtype(df_full[k]):\n",
      "/diskmnt/Projects/Users/estorrs/miniconda3/envs/mushroom/lib/python3.9/site-packages/anndata/_core/anndata.py:1840: UserWarning: Variable names are not unique. To make them unique, call `.var_names_make_unique`.\n",
      "  utils.warn_names_duplicates(\"var\")\n",
      "/diskmnt/Projects/Users/estorrs/miniconda3/envs/mushroom/lib/python3.9/site-packages/anndata/_core/anndata.py:1113: FutureWarning: is_categorical_dtype is deprecated and will be removed in a future version. Use isinstance(dtype, CategoricalDtype) instead\n",
      "  if not is_categorical_dtype(df_full[k]):\n"
     ]
    },
    {
     "name": "stdout",
     "output_type": "stream",
     "text": [
      "visium HT235B1-U1 /diskmnt/Datasets/Spatial_Transcriptomics/outputs_OCT/Human/HT235B1/H1/HT235B1-S1Fc1U1Z1Bn1/outs\n"
     ]
    },
    {
     "name": "stderr",
     "output_type": "stream",
     "text": [
      "/diskmnt/Projects/Users/estorrs/miniconda3/envs/mushroom/lib/python3.9/site-packages/anndata/_core/anndata.py:1840: UserWarning: Variable names are not unique. To make them unique, call `.var_names_make_unique`.\n",
      "  utils.warn_names_duplicates(\"var\")\n",
      "/diskmnt/Projects/Users/estorrs/miniconda3/envs/mushroom/lib/python3.9/site-packages/anndata/_core/anndata.py:1113: FutureWarning: is_categorical_dtype is deprecated and will be removed in a future version. Use isinstance(dtype, CategoricalDtype) instead\n",
      "  if not is_categorical_dtype(df_full[k]):\n",
      "/diskmnt/Projects/Users/estorrs/miniconda3/envs/mushroom/lib/python3.9/site-packages/anndata/_core/anndata.py:1840: UserWarning: Variable names are not unique. To make them unique, call `.var_names_make_unique`.\n",
      "  utils.warn_names_duplicates(\"var\")\n"
     ]
    },
    {
     "name": "stdout",
     "output_type": "stream",
     "text": [
      "visium HT235B1-U2 /diskmnt/Datasets/Spatial_Transcriptomics/outputs_OCT/Human/HT235B1/H1/HT235B1-S1Fc1U2Z1Bn1/outs\n"
     ]
    },
    {
     "name": "stderr",
     "output_type": "stream",
     "text": [
      "/diskmnt/Projects/Users/estorrs/miniconda3/envs/mushroom/lib/python3.9/site-packages/anndata/_core/anndata.py:1840: UserWarning: Variable names are not unique. To make them unique, call `.var_names_make_unique`.\n",
      "  utils.warn_names_duplicates(\"var\")\n",
      "/diskmnt/Projects/Users/estorrs/miniconda3/envs/mushroom/lib/python3.9/site-packages/anndata/_core/anndata.py:1113: FutureWarning: is_categorical_dtype is deprecated and will be removed in a future version. Use isinstance(dtype, CategoricalDtype) instead\n",
      "  if not is_categorical_dtype(df_full[k]):\n",
      "/diskmnt/Projects/Users/estorrs/miniconda3/envs/mushroom/lib/python3.9/site-packages/anndata/_core/anndata.py:1840: UserWarning: Variable names are not unique. To make them unique, call `.var_names_make_unique`.\n",
      "  utils.warn_names_duplicates(\"var\")\n",
      "/diskmnt/Projects/Users/estorrs/miniconda3/envs/mushroom/lib/python3.9/site-packages/anndata/_core/anndata.py:1113: FutureWarning: is_categorical_dtype is deprecated and will be removed in a future version. Use isinstance(dtype, CategoricalDtype) instead\n",
      "  if not is_categorical_dtype(df_full[k]):\n"
     ]
    },
    {
     "name": "stdout",
     "output_type": "stream",
     "text": [
      "visium HT243B1-H3-U1 /diskmnt/Datasets/Spatial_Transcriptomics/outputs_OCT/Human/HT243B1/H3/HT243B1H3A2-S1Fc1U1Z1B1/outs\n"
     ]
    },
    {
     "name": "stderr",
     "output_type": "stream",
     "text": [
      "/diskmnt/Projects/Users/estorrs/miniconda3/envs/mushroom/lib/python3.9/site-packages/anndata/_core/anndata.py:1840: UserWarning: Variable names are not unique. To make them unique, call `.var_names_make_unique`.\n",
      "  utils.warn_names_duplicates(\"var\")\n",
      "/diskmnt/Projects/Users/estorrs/miniconda3/envs/mushroom/lib/python3.9/site-packages/anndata/_core/anndata.py:1113: FutureWarning: is_categorical_dtype is deprecated and will be removed in a future version. Use isinstance(dtype, CategoricalDtype) instead\n",
      "  if not is_categorical_dtype(df_full[k]):\n",
      "/diskmnt/Projects/Users/estorrs/miniconda3/envs/mushroom/lib/python3.9/site-packages/anndata/_core/anndata.py:1840: UserWarning: Variable names are not unique. To make them unique, call `.var_names_make_unique`.\n",
      "  utils.warn_names_duplicates(\"var\")\n"
     ]
    },
    {
     "name": "stdout",
     "output_type": "stream",
     "text": [
      "visium HT243B1-H3-U2 /diskmnt/Datasets/Spatial_Transcriptomics/outputs_OCT/Human/HT243B1/H3/HT243B1H3A2-S1Fc1U2Z1B1/outs\n"
     ]
    },
    {
     "name": "stderr",
     "output_type": "stream",
     "text": [
      "/diskmnt/Projects/Users/estorrs/miniconda3/envs/mushroom/lib/python3.9/site-packages/anndata/_core/anndata.py:1840: UserWarning: Variable names are not unique. To make them unique, call `.var_names_make_unique`.\n",
      "  utils.warn_names_duplicates(\"var\")\n",
      "/diskmnt/Projects/Users/estorrs/miniconda3/envs/mushroom/lib/python3.9/site-packages/anndata/_core/anndata.py:1113: FutureWarning: is_categorical_dtype is deprecated and will be removed in a future version. Use isinstance(dtype, CategoricalDtype) instead\n",
      "  if not is_categorical_dtype(df_full[k]):\n",
      "/diskmnt/Projects/Users/estorrs/miniconda3/envs/mushroom/lib/python3.9/site-packages/anndata/_core/anndata.py:1840: UserWarning: Variable names are not unique. To make them unique, call `.var_names_make_unique`.\n",
      "  utils.warn_names_duplicates(\"var\")\n",
      "/diskmnt/Projects/Users/estorrs/miniconda3/envs/mushroom/lib/python3.9/site-packages/anndata/_core/anndata.py:1113: FutureWarning: is_categorical_dtype is deprecated and will be removed in a future version. Use isinstance(dtype, CategoricalDtype) instead\n",
      "  if not is_categorical_dtype(df_full[k]):\n"
     ]
    },
    {
     "name": "stdout",
     "output_type": "stream",
     "text": [
      "visium HT243B1-H3-U3 /diskmnt/Datasets/Spatial_Transcriptomics/outputs_OCT/Human/HT243B1/H3/HT243B1H3A2-S1Fc1U3Z1B1/outs\n"
     ]
    },
    {
     "name": "stderr",
     "output_type": "stream",
     "text": [
      "/diskmnt/Projects/Users/estorrs/miniconda3/envs/mushroom/lib/python3.9/site-packages/anndata/_core/anndata.py:1840: UserWarning: Variable names are not unique. To make them unique, call `.var_names_make_unique`.\n",
      "  utils.warn_names_duplicates(\"var\")\n",
      "/diskmnt/Projects/Users/estorrs/miniconda3/envs/mushroom/lib/python3.9/site-packages/anndata/_core/anndata.py:1113: FutureWarning: is_categorical_dtype is deprecated and will be removed in a future version. Use isinstance(dtype, CategoricalDtype) instead\n",
      "  if not is_categorical_dtype(df_full[k]):\n",
      "/diskmnt/Projects/Users/estorrs/miniconda3/envs/mushroom/lib/python3.9/site-packages/anndata/_core/anndata.py:1840: UserWarning: Variable names are not unique. To make them unique, call `.var_names_make_unique`.\n",
      "  utils.warn_names_duplicates(\"var\")\n",
      "/diskmnt/Projects/Users/estorrs/miniconda3/envs/mushroom/lib/python3.9/site-packages/anndata/_core/anndata.py:1113: FutureWarning: is_categorical_dtype is deprecated and will be removed in a future version. Use isinstance(dtype, CategoricalDtype) instead\n",
      "  if not is_categorical_dtype(df_full[k]):\n"
     ]
    },
    {
     "name": "stdout",
     "output_type": "stream",
     "text": [
      "visium HT243B1-H3-U4 /diskmnt/Datasets/Spatial_Transcriptomics/outputs_OCT/Human/HT243B1/H3/HT243B1H3A2-S1Fc1U4Z1B1/outs\n"
     ]
    },
    {
     "name": "stderr",
     "output_type": "stream",
     "text": [
      "/diskmnt/Projects/Users/estorrs/miniconda3/envs/mushroom/lib/python3.9/site-packages/anndata/_core/anndata.py:1840: UserWarning: Variable names are not unique. To make them unique, call `.var_names_make_unique`.\n",
      "  utils.warn_names_duplicates(\"var\")\n",
      "/diskmnt/Projects/Users/estorrs/miniconda3/envs/mushroom/lib/python3.9/site-packages/anndata/_core/anndata.py:1113: FutureWarning: is_categorical_dtype is deprecated and will be removed in a future version. Use isinstance(dtype, CategoricalDtype) instead\n",
      "  if not is_categorical_dtype(df_full[k]):\n",
      "/diskmnt/Projects/Users/estorrs/miniconda3/envs/mushroom/lib/python3.9/site-packages/anndata/_core/anndata.py:1840: UserWarning: Variable names are not unique. To make them unique, call `.var_names_make_unique`.\n",
      "  utils.warn_names_duplicates(\"var\")\n",
      "/diskmnt/Projects/Users/estorrs/miniconda3/envs/mushroom/lib/python3.9/site-packages/anndata/_core/anndata.py:1113: FutureWarning: is_categorical_dtype is deprecated and will be removed in a future version. Use isinstance(dtype, CategoricalDtype) instead\n",
      "  if not is_categorical_dtype(df_full[k]):\n"
     ]
    },
    {
     "name": "stdout",
     "output_type": "stream",
     "text": [
      "visium HT243B1-H4-U1 /diskmnt/Datasets/Spatial_Transcriptomics/outputs_OCT/Human/HT243B1/H4/HT243B1H4A2-S1Fc1U1Z1B1/outs\n"
     ]
    },
    {
     "name": "stderr",
     "output_type": "stream",
     "text": [
      "/diskmnt/Projects/Users/estorrs/miniconda3/envs/mushroom/lib/python3.9/site-packages/anndata/_core/anndata.py:1840: UserWarning: Variable names are not unique. To make them unique, call `.var_names_make_unique`.\n",
      "  utils.warn_names_duplicates(\"var\")\n",
      "/diskmnt/Projects/Users/estorrs/miniconda3/envs/mushroom/lib/python3.9/site-packages/anndata/_core/anndata.py:1113: FutureWarning: is_categorical_dtype is deprecated and will be removed in a future version. Use isinstance(dtype, CategoricalDtype) instead\n",
      "  if not is_categorical_dtype(df_full[k]):\n",
      "/diskmnt/Projects/Users/estorrs/miniconda3/envs/mushroom/lib/python3.9/site-packages/anndata/_core/anndata.py:1840: UserWarning: Variable names are not unique. To make them unique, call `.var_names_make_unique`.\n",
      "  utils.warn_names_duplicates(\"var\")\n"
     ]
    },
    {
     "name": "stdout",
     "output_type": "stream",
     "text": [
      "visium HT243B1-H4-U2 /diskmnt/Datasets/Spatial_Transcriptomics/outputs_OCT/Human/HT243B1/H4/HT243B1H4A2-S1Fc1U2Z1B1/outs\n"
     ]
    },
    {
     "name": "stderr",
     "output_type": "stream",
     "text": [
      "/diskmnt/Projects/Users/estorrs/miniconda3/envs/mushroom/lib/python3.9/site-packages/anndata/_core/anndata.py:1840: UserWarning: Variable names are not unique. To make them unique, call `.var_names_make_unique`.\n",
      "  utils.warn_names_duplicates(\"var\")\n",
      "/diskmnt/Projects/Users/estorrs/miniconda3/envs/mushroom/lib/python3.9/site-packages/anndata/_core/anndata.py:1113: FutureWarning: is_categorical_dtype is deprecated and will be removed in a future version. Use isinstance(dtype, CategoricalDtype) instead\n",
      "  if not is_categorical_dtype(df_full[k]):\n",
      "/diskmnt/Projects/Users/estorrs/miniconda3/envs/mushroom/lib/python3.9/site-packages/anndata/_core/anndata.py:1840: UserWarning: Variable names are not unique. To make them unique, call `.var_names_make_unique`.\n",
      "  utils.warn_names_duplicates(\"var\")\n",
      "/diskmnt/Projects/Users/estorrs/miniconda3/envs/mushroom/lib/python3.9/site-packages/anndata/_core/anndata.py:1113: FutureWarning: is_categorical_dtype is deprecated and will be removed in a future version. Use isinstance(dtype, CategoricalDtype) instead\n",
      "  if not is_categorical_dtype(df_full[k]):\n"
     ]
    },
    {
     "name": "stdout",
     "output_type": "stream",
     "text": [
      "visium HT268B1-U1 /diskmnt/Datasets/Spatial_Transcriptomics/outputs_OCT/Human/HT268B1/H1/HT268B1-Th1K3Fc2U1Z1Bs1/outs\n"
     ]
    },
    {
     "name": "stderr",
     "output_type": "stream",
     "text": [
      "/diskmnt/Projects/Users/estorrs/miniconda3/envs/mushroom/lib/python3.9/site-packages/anndata/_core/anndata.py:1840: UserWarning: Variable names are not unique. To make them unique, call `.var_names_make_unique`.\n",
      "  utils.warn_names_duplicates(\"var\")\n",
      "/diskmnt/Projects/Users/estorrs/miniconda3/envs/mushroom/lib/python3.9/site-packages/anndata/_core/anndata.py:1113: FutureWarning: is_categorical_dtype is deprecated and will be removed in a future version. Use isinstance(dtype, CategoricalDtype) instead\n",
      "  if not is_categorical_dtype(df_full[k]):\n",
      "/diskmnt/Projects/Users/estorrs/miniconda3/envs/mushroom/lib/python3.9/site-packages/anndata/_core/anndata.py:1840: UserWarning: Variable names are not unique. To make them unique, call `.var_names_make_unique`.\n",
      "  utils.warn_names_duplicates(\"var\")\n"
     ]
    },
    {
     "name": "stdout",
     "output_type": "stream",
     "text": [
      "visium HT268B1-U12 /diskmnt/Datasets/Spatial_Transcriptomics/outputs_OCT/Human/HT268B1/Th1H3/HT268B1-Th1H3Fc2U12Z1Bs1/outs\n"
     ]
    },
    {
     "name": "stderr",
     "output_type": "stream",
     "text": [
      "/diskmnt/Projects/Users/estorrs/miniconda3/envs/mushroom/lib/python3.9/site-packages/anndata/_core/anndata.py:1840: UserWarning: Variable names are not unique. To make them unique, call `.var_names_make_unique`.\n",
      "  utils.warn_names_duplicates(\"var\")\n",
      "/diskmnt/Projects/Users/estorrs/miniconda3/envs/mushroom/lib/python3.9/site-packages/anndata/_core/anndata.py:1113: FutureWarning: is_categorical_dtype is deprecated and will be removed in a future version. Use isinstance(dtype, CategoricalDtype) instead\n",
      "  if not is_categorical_dtype(df_full[k]):\n",
      "/diskmnt/Projects/Users/estorrs/miniconda3/envs/mushroom/lib/python3.9/site-packages/anndata/_core/anndata.py:1840: UserWarning: Variable names are not unique. To make them unique, call `.var_names_make_unique`.\n",
      "  utils.warn_names_duplicates(\"var\")\n",
      "/diskmnt/Projects/Users/estorrs/miniconda3/envs/mushroom/lib/python3.9/site-packages/anndata/_core/anndata.py:1113: FutureWarning: is_categorical_dtype is deprecated and will be removed in a future version. Use isinstance(dtype, CategoricalDtype) instead\n",
      "  if not is_categorical_dtype(df_full[k]):\n"
     ]
    },
    {
     "name": "stdout",
     "output_type": "stream",
     "text": [
      "visium HT268B1-U2 /diskmnt/Datasets/Spatial_Transcriptomics/outputs_OCT/Human/HT268B1/Th1H3/HT268B1-Th1H3Fc2U2Z1Bs1/outs\n"
     ]
    },
    {
     "name": "stderr",
     "output_type": "stream",
     "text": [
      "/diskmnt/Projects/Users/estorrs/miniconda3/envs/mushroom/lib/python3.9/site-packages/anndata/_core/anndata.py:1840: UserWarning: Variable names are not unique. To make them unique, call `.var_names_make_unique`.\n",
      "  utils.warn_names_duplicates(\"var\")\n",
      "/diskmnt/Projects/Users/estorrs/miniconda3/envs/mushroom/lib/python3.9/site-packages/anndata/_core/anndata.py:1113: FutureWarning: is_categorical_dtype is deprecated and will be removed in a future version. Use isinstance(dtype, CategoricalDtype) instead\n",
      "  if not is_categorical_dtype(df_full[k]):\n",
      "/diskmnt/Projects/Users/estorrs/miniconda3/envs/mushroom/lib/python3.9/site-packages/anndata/_core/anndata.py:1840: UserWarning: Variable names are not unique. To make them unique, call `.var_names_make_unique`.\n",
      "  utils.warn_names_duplicates(\"var\")\n",
      "/diskmnt/Projects/Users/estorrs/miniconda3/envs/mushroom/lib/python3.9/site-packages/anndata/_core/anndata.py:1113: FutureWarning: is_categorical_dtype is deprecated and will be removed in a future version. Use isinstance(dtype, CategoricalDtype) instead\n",
      "  if not is_categorical_dtype(df_full[k]):\n"
     ]
    },
    {
     "name": "stdout",
     "output_type": "stream",
     "text": [
      "visium HT268B1-U22 /diskmnt/Datasets/Spatial_Transcriptomics/outputs_OCT/Human/HT268B1/Th1H3/HT268B1-Th1H3Fc2U22Z1Bs1/outs\n"
     ]
    },
    {
     "name": "stderr",
     "output_type": "stream",
     "text": [
      "/diskmnt/Projects/Users/estorrs/miniconda3/envs/mushroom/lib/python3.9/site-packages/anndata/_core/anndata.py:1840: UserWarning: Variable names are not unique. To make them unique, call `.var_names_make_unique`.\n",
      "  utils.warn_names_duplicates(\"var\")\n",
      "/diskmnt/Projects/Users/estorrs/miniconda3/envs/mushroom/lib/python3.9/site-packages/anndata/_core/anndata.py:1113: FutureWarning: is_categorical_dtype is deprecated and will be removed in a future version. Use isinstance(dtype, CategoricalDtype) instead\n",
      "  if not is_categorical_dtype(df_full[k]):\n",
      "/diskmnt/Projects/Users/estorrs/miniconda3/envs/mushroom/lib/python3.9/site-packages/anndata/_core/anndata.py:1840: UserWarning: Variable names are not unique. To make them unique, call `.var_names_make_unique`.\n",
      "  utils.warn_names_duplicates(\"var\")\n",
      "/diskmnt/Projects/Users/estorrs/miniconda3/envs/mushroom/lib/python3.9/site-packages/anndata/_core/anndata.py:1113: FutureWarning: is_categorical_dtype is deprecated and will be removed in a future version. Use isinstance(dtype, CategoricalDtype) instead\n",
      "  if not is_categorical_dtype(df_full[k]):\n"
     ]
    },
    {
     "name": "stdout",
     "output_type": "stream",
     "text": [
      "visium HT268B1-U32 /diskmnt/Datasets/Spatial_Transcriptomics/outputs_OCT/Human/HT268B1/Th1H3/HT268B1-Th1H3Fc2U32Z1Bs1/outs\n"
     ]
    },
    {
     "name": "stderr",
     "output_type": "stream",
     "text": [
      "/diskmnt/Projects/Users/estorrs/miniconda3/envs/mushroom/lib/python3.9/site-packages/anndata/_core/anndata.py:1840: UserWarning: Variable names are not unique. To make them unique, call `.var_names_make_unique`.\n",
      "  utils.warn_names_duplicates(\"var\")\n",
      "/diskmnt/Projects/Users/estorrs/miniconda3/envs/mushroom/lib/python3.9/site-packages/anndata/_core/anndata.py:1113: FutureWarning: is_categorical_dtype is deprecated and will be removed in a future version. Use isinstance(dtype, CategoricalDtype) instead\n",
      "  if not is_categorical_dtype(df_full[k]):\n",
      "/diskmnt/Projects/Users/estorrs/miniconda3/envs/mushroom/lib/python3.9/site-packages/anndata/_core/anndata.py:1840: UserWarning: Variable names are not unique. To make them unique, call `.var_names_make_unique`.\n",
      "  utils.warn_names_duplicates(\"var\")\n",
      "/diskmnt/Projects/Users/estorrs/miniconda3/envs/mushroom/lib/python3.9/site-packages/anndata/_core/anndata.py:1113: FutureWarning: is_categorical_dtype is deprecated and will be removed in a future version. Use isinstance(dtype, CategoricalDtype) instead\n",
      "  if not is_categorical_dtype(df_full[k]):\n"
     ]
    },
    {
     "name": "stdout",
     "output_type": "stream",
     "text": [
      "visium HT271B1-U1 /diskmnt/Datasets/Spatial_Transcriptomics/outputs_OCT/Human/HT271B1/H3/HT271B1-S1H3Fc2U1Z1Bs1/outs\n"
     ]
    },
    {
     "name": "stderr",
     "output_type": "stream",
     "text": [
      "/diskmnt/Projects/Users/estorrs/miniconda3/envs/mushroom/lib/python3.9/site-packages/anndata/_core/anndata.py:1840: UserWarning: Variable names are not unique. To make them unique, call `.var_names_make_unique`.\n",
      "  utils.warn_names_duplicates(\"var\")\n",
      "/diskmnt/Projects/Users/estorrs/miniconda3/envs/mushroom/lib/python3.9/site-packages/anndata/_core/anndata.py:1113: FutureWarning: is_categorical_dtype is deprecated and will be removed in a future version. Use isinstance(dtype, CategoricalDtype) instead\n",
      "  if not is_categorical_dtype(df_full[k]):\n",
      "/diskmnt/Projects/Users/estorrs/miniconda3/envs/mushroom/lib/python3.9/site-packages/anndata/_core/anndata.py:1840: UserWarning: Variable names are not unique. To make them unique, call `.var_names_make_unique`.\n",
      "  utils.warn_names_duplicates(\"var\")\n"
     ]
    },
    {
     "name": "stdout",
     "output_type": "stream",
     "text": [
      "visium HT271B1-U2 /diskmnt/Datasets/Spatial_Transcriptomics/outputs_OCT/Human/HT271B1/H3/HT271B1-S1H3Fc2U2Z1Bs1/outs\n"
     ]
    },
    {
     "name": "stderr",
     "output_type": "stream",
     "text": [
      "/diskmnt/Projects/Users/estorrs/miniconda3/envs/mushroom/lib/python3.9/site-packages/anndata/_core/anndata.py:1840: UserWarning: Variable names are not unique. To make them unique, call `.var_names_make_unique`.\n",
      "  utils.warn_names_duplicates(\"var\")\n",
      "/diskmnt/Projects/Users/estorrs/miniconda3/envs/mushroom/lib/python3.9/site-packages/anndata/_core/anndata.py:1113: FutureWarning: is_categorical_dtype is deprecated and will be removed in a future version. Use isinstance(dtype, CategoricalDtype) instead\n",
      "  if not is_categorical_dtype(df_full[k]):\n",
      "/diskmnt/Projects/Users/estorrs/miniconda3/envs/mushroom/lib/python3.9/site-packages/anndata/_core/anndata.py:1840: UserWarning: Variable names are not unique. To make them unique, call `.var_names_make_unique`.\n",
      "  utils.warn_names_duplicates(\"var\")\n",
      "/diskmnt/Projects/Users/estorrs/miniconda3/envs/mushroom/lib/python3.9/site-packages/anndata/_core/anndata.py:1113: FutureWarning: is_categorical_dtype is deprecated and will be removed in a future version. Use isinstance(dtype, CategoricalDtype) instead\n",
      "  if not is_categorical_dtype(df_full[k]):\n"
     ]
    },
    {
     "name": "stdout",
     "output_type": "stream",
     "text": [
      "visium HT271B1-U3 /diskmnt/Datasets/Spatial_Transcriptomics/outputs_OCT/Human/HT271B1/H3/HT271B1-S1H3Fc2U3Z1Bs1/outs\n"
     ]
    },
    {
     "name": "stderr",
     "output_type": "stream",
     "text": [
      "/diskmnt/Projects/Users/estorrs/miniconda3/envs/mushroom/lib/python3.9/site-packages/anndata/_core/anndata.py:1840: UserWarning: Variable names are not unique. To make them unique, call `.var_names_make_unique`.\n",
      "  utils.warn_names_duplicates(\"var\")\n",
      "/diskmnt/Projects/Users/estorrs/miniconda3/envs/mushroom/lib/python3.9/site-packages/anndata/_core/anndata.py:1113: FutureWarning: is_categorical_dtype is deprecated and will be removed in a future version. Use isinstance(dtype, CategoricalDtype) instead\n",
      "  if not is_categorical_dtype(df_full[k]):\n",
      "/diskmnt/Projects/Users/estorrs/miniconda3/envs/mushroom/lib/python3.9/site-packages/anndata/_core/anndata.py:1840: UserWarning: Variable names are not unique. To make them unique, call `.var_names_make_unique`.\n",
      "  utils.warn_names_duplicates(\"var\")\n",
      "/diskmnt/Projects/Users/estorrs/miniconda3/envs/mushroom/lib/python3.9/site-packages/anndata/_core/anndata.py:1113: FutureWarning: is_categorical_dtype is deprecated and will be removed in a future version. Use isinstance(dtype, CategoricalDtype) instead\n",
      "  if not is_categorical_dtype(df_full[k]):\n"
     ]
    },
    {
     "name": "stdout",
     "output_type": "stream",
     "text": [
      "visium HT271B1-U4 /diskmnt/Datasets/Spatial_Transcriptomics/outputs_OCT/Human/HT271B1/H3/HT271B1-S1H3Fc2U4Z1Bs1/outs\n"
     ]
    },
    {
     "name": "stderr",
     "output_type": "stream",
     "text": [
      "/diskmnt/Projects/Users/estorrs/miniconda3/envs/mushroom/lib/python3.9/site-packages/anndata/_core/anndata.py:1840: UserWarning: Variable names are not unique. To make them unique, call `.var_names_make_unique`.\n",
      "  utils.warn_names_duplicates(\"var\")\n",
      "/diskmnt/Projects/Users/estorrs/miniconda3/envs/mushroom/lib/python3.9/site-packages/anndata/_core/anndata.py:1113: FutureWarning: is_categorical_dtype is deprecated and will be removed in a future version. Use isinstance(dtype, CategoricalDtype) instead\n",
      "  if not is_categorical_dtype(df_full[k]):\n",
      "/diskmnt/Projects/Users/estorrs/miniconda3/envs/mushroom/lib/python3.9/site-packages/anndata/_core/anndata.py:1840: UserWarning: Variable names are not unique. To make them unique, call `.var_names_make_unique`.\n",
      "  utils.warn_names_duplicates(\"var\")\n",
      "/diskmnt/Projects/Users/estorrs/miniconda3/envs/mushroom/lib/python3.9/site-packages/anndata/_core/anndata.py:1113: FutureWarning: is_categorical_dtype is deprecated and will be removed in a future version. Use isinstance(dtype, CategoricalDtype) instead\n",
      "  if not is_categorical_dtype(df_full[k]):\n"
     ]
    },
    {
     "name": "stdout",
     "output_type": "stream",
     "text": [
      "visium HT339B1-U1 /diskmnt/Datasets/Spatial_Transcriptomics/outputs_OCT/Human/HT339B1/H3/HT339B1-S1H3Fc2U1Z1Bs1/outs\n"
     ]
    },
    {
     "name": "stderr",
     "output_type": "stream",
     "text": [
      "/diskmnt/Projects/Users/estorrs/miniconda3/envs/mushroom/lib/python3.9/site-packages/anndata/_core/anndata.py:1840: UserWarning: Variable names are not unique. To make them unique, call `.var_names_make_unique`.\n",
      "  utils.warn_names_duplicates(\"var\")\n",
      "/diskmnt/Projects/Users/estorrs/miniconda3/envs/mushroom/lib/python3.9/site-packages/anndata/_core/anndata.py:1113: FutureWarning: is_categorical_dtype is deprecated and will be removed in a future version. Use isinstance(dtype, CategoricalDtype) instead\n",
      "  if not is_categorical_dtype(df_full[k]):\n",
      "/diskmnt/Projects/Users/estorrs/miniconda3/envs/mushroom/lib/python3.9/site-packages/anndata/_core/anndata.py:1840: UserWarning: Variable names are not unique. To make them unique, call `.var_names_make_unique`.\n",
      "  utils.warn_names_duplicates(\"var\")\n"
     ]
    },
    {
     "name": "stdout",
     "output_type": "stream",
     "text": [
      "visium HT339B1-U2 /diskmnt/Datasets/Spatial_Transcriptomics/outputs_OCT/Human/HT339B1/H3/HT339B1-S1H3Fc2U2Bs2/outs\n"
     ]
    },
    {
     "name": "stderr",
     "output_type": "stream",
     "text": [
      "/diskmnt/Projects/Users/estorrs/miniconda3/envs/mushroom/lib/python3.9/site-packages/anndata/_core/anndata.py:1840: UserWarning: Variable names are not unique. To make them unique, call `.var_names_make_unique`.\n",
      "  utils.warn_names_duplicates(\"var\")\n",
      "/diskmnt/Projects/Users/estorrs/miniconda3/envs/mushroom/lib/python3.9/site-packages/anndata/_core/anndata.py:1113: FutureWarning: is_categorical_dtype is deprecated and will be removed in a future version. Use isinstance(dtype, CategoricalDtype) instead\n",
      "  if not is_categorical_dtype(df_full[k]):\n",
      "/diskmnt/Projects/Users/estorrs/miniconda3/envs/mushroom/lib/python3.9/site-packages/anndata/_core/anndata.py:1840: UserWarning: Variable names are not unique. To make them unique, call `.var_names_make_unique`.\n",
      "  utils.warn_names_duplicates(\"var\")\n",
      "/diskmnt/Projects/Users/estorrs/miniconda3/envs/mushroom/lib/python3.9/site-packages/anndata/_core/anndata.py:1113: FutureWarning: is_categorical_dtype is deprecated and will be removed in a future version. Use isinstance(dtype, CategoricalDtype) instead\n",
      "  if not is_categorical_dtype(df_full[k]):\n"
     ]
    },
    {
     "name": "stdout",
     "output_type": "stream",
     "text": [
      "he HT397B1-U1 /diskmnt/Datasets/Spatial_Transcriptomics/images/all/A1_HT397B1-S1H3A1U1.tif\n",
      "he HT397B1-U21 /diskmnt/Datasets/Spatial_Transcriptomics/images/all/B1_HT397B1-S1H3A1U21.tif\n",
      "multiplex HT397B1-U12 /diskmnt/primary/CODEX/HTAN/03172023_BRCA_HT397B1-U12/HT397B1-S1H3A1-U22__20230316.ome.tiff\n",
      "multiplex HT397B1-U2 /diskmnt/primary/CODEX/HTAN/031623_BRCA_HT397B1-U2/HT397B1-S1H3A1-U2__20230315.ome.tiff\n",
      "multiplex HT397B1-U31 /diskmnt/primary/CODEX/HTAN/040623_BRCA_HT397B1-U31/HT397B1-S1H3A1-U31__20230407.ome.tiff\n",
      "visium HT397B1-U1 /diskmnt/Datasets/Spatial_Transcriptomics/outputs_FFPE/Human/HT397B1/S1H3/HT397B1-S1H3A1U1Bp1/outs\n"
     ]
    },
    {
     "name": "stderr",
     "output_type": "stream",
     "text": [
      "/diskmnt/Projects/Users/estorrs/miniconda3/envs/mushroom/lib/python3.9/site-packages/anndata/_core/anndata.py:1840: UserWarning: Variable names are not unique. To make them unique, call `.var_names_make_unique`.\n",
      "  utils.warn_names_duplicates(\"var\")\n",
      "/diskmnt/Projects/Users/estorrs/miniconda3/envs/mushroom/lib/python3.9/site-packages/anndata/_core/anndata.py:1113: FutureWarning: is_categorical_dtype is deprecated and will be removed in a future version. Use isinstance(dtype, CategoricalDtype) instead\n",
      "  if not is_categorical_dtype(df_full[k]):\n",
      "/diskmnt/Projects/Users/estorrs/miniconda3/envs/mushroom/lib/python3.9/site-packages/anndata/_core/anndata.py:1840: UserWarning: Variable names are not unique. To make them unique, call `.var_names_make_unique`.\n",
      "  utils.warn_names_duplicates(\"var\")\n"
     ]
    },
    {
     "name": "stdout",
     "output_type": "stream",
     "text": [
      "visium HT397B1-U21 /diskmnt/Datasets/Spatial_Transcriptomics/outputs_FFPE/Human/HT397B1/S1H3/HT397B1-S1H3A1U21Bp1/outs\n"
     ]
    },
    {
     "name": "stderr",
     "output_type": "stream",
     "text": [
      "/diskmnt/Projects/Users/estorrs/miniconda3/envs/mushroom/lib/python3.9/site-packages/anndata/_core/anndata.py:1840: UserWarning: Variable names are not unique. To make them unique, call `.var_names_make_unique`.\n",
      "  utils.warn_names_duplicates(\"var\")\n",
      "/diskmnt/Projects/Users/estorrs/miniconda3/envs/mushroom/lib/python3.9/site-packages/anndata/_core/anndata.py:1113: FutureWarning: is_categorical_dtype is deprecated and will be removed in a future version. Use isinstance(dtype, CategoricalDtype) instead\n",
      "  if not is_categorical_dtype(df_full[k]):\n",
      "/diskmnt/Projects/Users/estorrs/miniconda3/envs/mushroom/lib/python3.9/site-packages/anndata/_core/anndata.py:1840: UserWarning: Variable names are not unique. To make them unique, call `.var_names_make_unique`.\n",
      "  utils.warn_names_duplicates(\"var\")\n",
      "/diskmnt/Projects/Users/estorrs/miniconda3/envs/mushroom/lib/python3.9/site-packages/anndata/_core/anndata.py:1113: FutureWarning: is_categorical_dtype is deprecated and will be removed in a future version. Use isinstance(dtype, CategoricalDtype) instead\n",
      "  if not is_categorical_dtype(df_full[k]):\n"
     ]
    },
    {
     "name": "stdout",
     "output_type": "stream",
     "text": [
      "visium HT413C1-U1 /diskmnt/Datasets/Spatial_Transcriptomics/outputs_FFPE/Human/HT413C1/Th1K2/HT413C1-Th1K2A4U2Bp1/outs\n"
     ]
    },
    {
     "name": "stderr",
     "output_type": "stream",
     "text": [
      "/diskmnt/Projects/Users/estorrs/miniconda3/envs/mushroom/lib/python3.9/site-packages/anndata/_core/anndata.py:1840: UserWarning: Variable names are not unique. To make them unique, call `.var_names_make_unique`.\n",
      "  utils.warn_names_duplicates(\"var\")\n",
      "/diskmnt/Projects/Users/estorrs/miniconda3/envs/mushroom/lib/python3.9/site-packages/anndata/_core/anndata.py:1113: FutureWarning: is_categorical_dtype is deprecated and will be removed in a future version. Use isinstance(dtype, CategoricalDtype) instead\n",
      "  if not is_categorical_dtype(df_full[k]):\n",
      "/diskmnt/Projects/Users/estorrs/miniconda3/envs/mushroom/lib/python3.9/site-packages/anndata/_core/anndata.py:1840: UserWarning: Variable names are not unique. To make them unique, call `.var_names_make_unique`.\n",
      "  utils.warn_names_duplicates(\"var\")\n"
     ]
    },
    {
     "name": "stdout",
     "output_type": "stream",
     "text": [
      "visium HT413C1-U14 /diskmnt/Datasets/Spatial_Transcriptomics/outputs_FFPE/Human/HT413C1/Th1K2/HT413C1-Th1K2A4U14Bp1/outs\n"
     ]
    },
    {
     "name": "stderr",
     "output_type": "stream",
     "text": [
      "/diskmnt/Projects/Users/estorrs/miniconda3/envs/mushroom/lib/python3.9/site-packages/anndata/_core/anndata.py:1840: UserWarning: Variable names are not unique. To make them unique, call `.var_names_make_unique`.\n",
      "  utils.warn_names_duplicates(\"var\")\n",
      "/diskmnt/Projects/Users/estorrs/miniconda3/envs/mushroom/lib/python3.9/site-packages/anndata/_core/anndata.py:1113: FutureWarning: is_categorical_dtype is deprecated and will be removed in a future version. Use isinstance(dtype, CategoricalDtype) instead\n",
      "  if not is_categorical_dtype(df_full[k]):\n",
      "/diskmnt/Projects/Users/estorrs/miniconda3/envs/mushroom/lib/python3.9/site-packages/anndata/_core/anndata.py:1840: UserWarning: Variable names are not unique. To make them unique, call `.var_names_make_unique`.\n",
      "  utils.warn_names_duplicates(\"var\")\n",
      "/diskmnt/Projects/Users/estorrs/miniconda3/envs/mushroom/lib/python3.9/site-packages/anndata/_core/anndata.py:1113: FutureWarning: is_categorical_dtype is deprecated and will be removed in a future version. Use isinstance(dtype, CategoricalDtype) instead\n",
      "  if not is_categorical_dtype(df_full[k]):\n"
     ]
    },
    {
     "name": "stdout",
     "output_type": "stream",
     "text": [
      "visium HT413C1-U2 /diskmnt/Datasets/Spatial_Transcriptomics/outputs_FFPE/Human/HT413C1/Th1K2/HT413C1-Th1K2A4U1Bp1/outs\n"
     ]
    },
    {
     "name": "stderr",
     "output_type": "stream",
     "text": [
      "/diskmnt/Projects/Users/estorrs/miniconda3/envs/mushroom/lib/python3.9/site-packages/anndata/_core/anndata.py:1840: UserWarning: Variable names are not unique. To make them unique, call `.var_names_make_unique`.\n",
      "  utils.warn_names_duplicates(\"var\")\n",
      "/diskmnt/Projects/Users/estorrs/miniconda3/envs/mushroom/lib/python3.9/site-packages/anndata/_core/anndata.py:1113: FutureWarning: is_categorical_dtype is deprecated and will be removed in a future version. Use isinstance(dtype, CategoricalDtype) instead\n",
      "  if not is_categorical_dtype(df_full[k]):\n",
      "/diskmnt/Projects/Users/estorrs/miniconda3/envs/mushroom/lib/python3.9/site-packages/anndata/_core/anndata.py:1840: UserWarning: Variable names are not unique. To make them unique, call `.var_names_make_unique`.\n",
      "  utils.warn_names_duplicates(\"var\")\n",
      "/diskmnt/Projects/Users/estorrs/miniconda3/envs/mushroom/lib/python3.9/site-packages/anndata/_core/anndata.py:1113: FutureWarning: is_categorical_dtype is deprecated and will be removed in a future version. Use isinstance(dtype, CategoricalDtype) instead\n",
      "  if not is_categorical_dtype(df_full[k]):\n"
     ]
    },
    {
     "name": "stdout",
     "output_type": "stream",
     "text": [
      "visium HT448C1-U1 /diskmnt/Datasets/Spatial_Transcriptomics/outputs_FFPE/Human/HT448C1/Th1K1/HT448C1-Th1K1Fp1U1Bp1/outs\n"
     ]
    },
    {
     "name": "stderr",
     "output_type": "stream",
     "text": [
      "/diskmnt/Projects/Users/estorrs/miniconda3/envs/mushroom/lib/python3.9/site-packages/anndata/_core/anndata.py:1840: UserWarning: Variable names are not unique. To make them unique, call `.var_names_make_unique`.\n",
      "  utils.warn_names_duplicates(\"var\")\n",
      "/diskmnt/Projects/Users/estorrs/miniconda3/envs/mushroom/lib/python3.9/site-packages/anndata/_core/anndata.py:1113: FutureWarning: is_categorical_dtype is deprecated and will be removed in a future version. Use isinstance(dtype, CategoricalDtype) instead\n",
      "  if not is_categorical_dtype(df_full[k]):\n",
      "/diskmnt/Projects/Users/estorrs/miniconda3/envs/mushroom/lib/python3.9/site-packages/anndata/_core/anndata.py:1840: UserWarning: Variable names are not unique. To make them unique, call `.var_names_make_unique`.\n",
      "  utils.warn_names_duplicates(\"var\")\n"
     ]
    },
    {
     "name": "stdout",
     "output_type": "stream",
     "text": [
      "visium HT448C1-U13 /diskmnt/Datasets/Spatial_Transcriptomics/outputs_FFPE/Human/HT448C1/Th1K1/HT448C1-Th1K1Fp1U13Bp1/outs\n"
     ]
    },
    {
     "name": "stderr",
     "output_type": "stream",
     "text": [
      "/diskmnt/Projects/Users/estorrs/miniconda3/envs/mushroom/lib/python3.9/site-packages/anndata/_core/anndata.py:1840: UserWarning: Variable names are not unique. To make them unique, call `.var_names_make_unique`.\n",
      "  utils.warn_names_duplicates(\"var\")\n",
      "/diskmnt/Projects/Users/estorrs/miniconda3/envs/mushroom/lib/python3.9/site-packages/anndata/_core/anndata.py:1113: FutureWarning: is_categorical_dtype is deprecated and will be removed in a future version. Use isinstance(dtype, CategoricalDtype) instead\n",
      "  if not is_categorical_dtype(df_full[k]):\n",
      "/diskmnt/Projects/Users/estorrs/miniconda3/envs/mushroom/lib/python3.9/site-packages/anndata/_core/anndata.py:1840: UserWarning: Variable names are not unique. To make them unique, call `.var_names_make_unique`.\n",
      "  utils.warn_names_duplicates(\"var\")\n",
      "/diskmnt/Projects/Users/estorrs/miniconda3/envs/mushroom/lib/python3.9/site-packages/anndata/_core/anndata.py:1113: FutureWarning: is_categorical_dtype is deprecated and will be removed in a future version. Use isinstance(dtype, CategoricalDtype) instead\n",
      "  if not is_categorical_dtype(df_full[k]):\n"
     ]
    }
   ],
   "source": [
    "for case, data in metadata.items():\n",
    "    ppm = data['registered_pixels_per_micron']\n",
    "    ids = data['ids']\n",
    "    order = data['order']\n",
    "    directory = os.path.join(registered_dir, case)\n",
    "    Path(directory).mkdir(parents=True, exist_ok=True)\n",
    "\n",
    "    for dtype, mapping in data['data'].items():\n",
    "        for sample, fp in mapping.items():\n",
    "            print(dtype, sample, fp)\n",
    "            sid = ids[order.index(sample)]\n",
    "            ddf = case_to_ddfs[case].get(sid)\n",
    "\n",
    "            if dtype == 'he':\n",
    "                he = tifffile.imread(fp)\n",
    "                he = rearrange(he, 'h w c -> c h w') # channel dim must be first\n",
    "                if ddf is not None:\n",
    "                    he = register_he(he, ddf)\n",
    "                tifffile.imwrite(\n",
    "                    os.path.join(directory, f'{sid}_he.tif'),\n",
    "                    data=rearrange(he, 'c h w -> h w c'),\n",
    "                    resolution=(ppm, ppm),\n",
    "                    compression='LZW',\n",
    "                    metadata={\n",
    "                        'axes': 'YXC',\n",
    "                        'unit': 'um',\n",
    "                    }\n",
    "                )\n",
    "            elif dtype == 'visium':\n",
    "                adata = adata_from_visium(fp)\n",
    "                if ddf is not None:\n",
    "                    adata = register_visium(\n",
    "                        adata, ddf, target_pix_per_micron=ppm\n",
    "                    )\n",
    "                adata.write_h5ad(os.path.join(directory, f'{sid}_visium.h5ad'))\n",
    "            elif dtype == 'multiplex':\n",
    "                channels, data = extract_ome_tiff(fp, as_dict=False)\n",
    "                if ddf is not None:\n",
    "                    data = register_multiplex(data, ddf)\n",
    "                write_basic_ome_tiff(\n",
    "                    os.path.join(directory, f'{sid}_multiplex.ome.tiff'),\n",
    "                    data, channels, pix_per_micron=ppm\n",
    "                )"
   ]
  },
  {
   "cell_type": "code",
   "execution_count": 40,
   "id": "3fb605b1",
   "metadata": {},
   "outputs": [
    {
     "data": {
      "text/plain": [
       "{'HT112C1': {'s0': '/diskmnt/Projects/Users/estorrs/mushroom/data/projects/subclone/registered/HT112C1/s0_visium.h5ad',\n",
       "  's1': '/diskmnt/Projects/Users/estorrs/mushroom/data/projects/subclone/registered/HT112C1/s1_visium.h5ad'},\n",
       " 'HT206B1': {'s0': '/diskmnt/Projects/Users/estorrs/mushroom/data/projects/subclone/registered/HT206B1/s0_visium.h5ad',\n",
       "  's1': '/diskmnt/Projects/Users/estorrs/mushroom/data/projects/subclone/registered/HT206B1/s1_visium.h5ad',\n",
       "  's2': '/diskmnt/Projects/Users/estorrs/mushroom/data/projects/subclone/registered/HT206B1/s2_visium.h5ad',\n",
       "  's3': '/diskmnt/Projects/Users/estorrs/mushroom/data/projects/subclone/registered/HT206B1/s3_visium.h5ad'},\n",
       " 'HT225C1': {'s0': '/diskmnt/Projects/Users/estorrs/mushroom/data/projects/subclone/registered/HT225C1/s0_visium.h5ad',\n",
       "  's1': '/diskmnt/Projects/Users/estorrs/mushroom/data/projects/subclone/registered/HT225C1/s1_visium.h5ad',\n",
       "  's2': '/diskmnt/Projects/Users/estorrs/mushroom/data/projects/subclone/registered/HT225C1/s2_visium.h5ad',\n",
       "  's3': '/diskmnt/Projects/Users/estorrs/mushroom/data/projects/subclone/registered/HT225C1/s3_visium.h5ad',\n",
       "  's4': '/diskmnt/Projects/Users/estorrs/mushroom/data/projects/subclone/registered/HT225C1/s4_visium.h5ad'},\n",
       " 'HT226C1': {'s0': '/diskmnt/Projects/Users/estorrs/mushroom/data/projects/subclone/registered/HT226C1/s0_visium.h5ad',\n",
       "  's1': '/diskmnt/Projects/Users/estorrs/mushroom/data/projects/subclone/registered/HT226C1/s1_visium.h5ad'},\n",
       " 'HT235B1': {'s0': '/diskmnt/Projects/Users/estorrs/mushroom/data/projects/subclone/registered/HT235B1/s0_visium.h5ad',\n",
       "  's1': '/diskmnt/Projects/Users/estorrs/mushroom/data/projects/subclone/registered/HT235B1/s1_visium.h5ad'},\n",
       " 'HT243B1-H3': {'s0': '/diskmnt/Projects/Users/estorrs/mushroom/data/projects/subclone/registered/HT243B1-H3/s0_visium.h5ad',\n",
       "  's1': '/diskmnt/Projects/Users/estorrs/mushroom/data/projects/subclone/registered/HT243B1-H3/s1_visium.h5ad',\n",
       "  's2': '/diskmnt/Projects/Users/estorrs/mushroom/data/projects/subclone/registered/HT243B1-H3/s2_visium.h5ad',\n",
       "  's3': '/diskmnt/Projects/Users/estorrs/mushroom/data/projects/subclone/registered/HT243B1-H3/s3_visium.h5ad'},\n",
       " 'HT243B1-H4': {'s0': '/diskmnt/Projects/Users/estorrs/mushroom/data/projects/subclone/registered/HT243B1-H4/s0_visium.h5ad',\n",
       "  's1': '/diskmnt/Projects/Users/estorrs/mushroom/data/projects/subclone/registered/HT243B1-H4/s1_visium.h5ad'},\n",
       " 'HT268B1': {'s0': '/diskmnt/Projects/Users/estorrs/mushroom/data/projects/subclone/registered/HT268B1/s0_visium.h5ad',\n",
       "  's1': '/diskmnt/Projects/Users/estorrs/mushroom/data/projects/subclone/registered/HT268B1/s1_visium.h5ad',\n",
       "  's2': '/diskmnt/Projects/Users/estorrs/mushroom/data/projects/subclone/registered/HT268B1/s2_visium.h5ad',\n",
       "  's3': '/diskmnt/Projects/Users/estorrs/mushroom/data/projects/subclone/registered/HT268B1/s3_visium.h5ad',\n",
       "  's4': '/diskmnt/Projects/Users/estorrs/mushroom/data/projects/subclone/registered/HT268B1/s4_visium.h5ad'},\n",
       " 'HT271B1': {'s0': '/diskmnt/Projects/Users/estorrs/mushroom/data/projects/subclone/registered/HT271B1/s0_visium.h5ad',\n",
       "  's1': '/diskmnt/Projects/Users/estorrs/mushroom/data/projects/subclone/registered/HT271B1/s1_visium.h5ad',\n",
       "  's2': '/diskmnt/Projects/Users/estorrs/mushroom/data/projects/subclone/registered/HT271B1/s2_visium.h5ad',\n",
       "  's3': '/diskmnt/Projects/Users/estorrs/mushroom/data/projects/subclone/registered/HT271B1/s3_visium.h5ad'},\n",
       " 'HT339B1': {'s0': '/diskmnt/Projects/Users/estorrs/mushroom/data/projects/subclone/registered/HT339B1/s0_visium.h5ad',\n",
       "  's1': '/diskmnt/Projects/Users/estorrs/mushroom/data/projects/subclone/registered/HT339B1/s1_visium.h5ad'},\n",
       " 'HT397B1': {'s0': '/diskmnt/Projects/Users/estorrs/mushroom/data/projects/subclone/registered/HT397B1/s0_visium.h5ad',\n",
       "  's1': '/diskmnt/Projects/Users/estorrs/mushroom/data/projects/subclone/registered/HT397B1/s1_multiplex.ome.tiff',\n",
       "  's2': '/diskmnt/Projects/Users/estorrs/mushroom/data/projects/subclone/registered/HT397B1/s2_multiplex.ome.tiff',\n",
       "  's3': '/diskmnt/Projects/Users/estorrs/mushroom/data/projects/subclone/registered/HT397B1/s3_visium.h5ad',\n",
       "  's4': '/diskmnt/Projects/Users/estorrs/mushroom/data/projects/subclone/registered/HT397B1/s4_multiplex.ome.tiff',\n",
       "  's5': '/diskmnt/Projects/Users/estorrs/mushroom/data/projects/subclone/registered/HT397B1/s5_multiplex.ome.tiff'},\n",
       " 'HT413C1': {'s0': '/diskmnt/Projects/Users/estorrs/mushroom/data/projects/subclone/registered/HT413C1/s0_visium.h5ad',\n",
       "  's1': '/diskmnt/Projects/Users/estorrs/mushroom/data/projects/subclone/registered/HT413C1/s1_visium.h5ad',\n",
       "  's2': '/diskmnt/Projects/Users/estorrs/mushroom/data/projects/subclone/registered/HT413C1/s2_visium.h5ad'},\n",
       " 'HT448C1': {'s0': '/diskmnt/Projects/Users/estorrs/mushroom/data/projects/subclone/registered/HT448C1/s0_visium.h5ad',\n",
       "  's1': '/diskmnt/Projects/Users/estorrs/mushroom/data/projects/subclone/registered/HT448C1/s1_visium.h5ad'}}"
      ]
     },
     "execution_count": 40,
     "metadata": {},
     "output_type": "execute_result"
    }
   ],
   "source": [
    "fps = sorted(utils.listfiles(registered_dir, regex=r'\\/s[0-9]+.*$'))\n",
    "case_to_id_to_fp = {}\n",
    "for fp in fps:\n",
    "    case = fp.split('/')[-2]\n",
    "    sid = re.sub(r'(s[0-9]+)_.*$', r'\\1', fp.split('/')[-1])\n",
    "    if case not in case_to_id_to_fp:\n",
    "        case_to_id_to_fp[case] = {}\n",
    "    \n",
    "    case_to_id_to_fp[case][sid] = fp\n",
    "case_to_id_to_fp"
   ]
  },
  {
   "cell_type": "code",
   "execution_count": 41,
   "id": "7354ad5b",
   "metadata": {},
   "outputs": [
    {
     "data": {
      "text/plain": [
       "{'HT112C1': {'data': {'visium': {'HT112C1-U1': '/diskmnt/Projects/Users/estorrs/mushroom/data/projects/subclone/registered/HT112C1/s0_visium.h5ad',\n",
       "    'HT112C1-U2': '/diskmnt/Projects/Users/estorrs/mushroom/data/projects/subclone/registered/HT112C1/s1_visium.h5ad'}},\n",
       "  'ids': ['s0', 's1'],\n",
       "  'order': ['HT112C1-U1', 'HT112C1-U2'],\n",
       "  'registered_pixels_per_micron': 2.480402478562179,\n",
       "  'scale': 0.1},\n",
       " 'HT206B1': {'data': {'visium': {'HT206B1-U2': '/diskmnt/Projects/Users/estorrs/mushroom/data/projects/subclone/registered/HT206B1/s0_visium.h5ad',\n",
       "    'HT206B1-U3': '/diskmnt/Projects/Users/estorrs/mushroom/data/projects/subclone/registered/HT206B1/s1_visium.h5ad',\n",
       "    'HT206B1-U4': '/diskmnt/Projects/Users/estorrs/mushroom/data/projects/subclone/registered/HT206B1/s2_visium.h5ad',\n",
       "    'HT206B1-U5': '/diskmnt/Projects/Users/estorrs/mushroom/data/projects/subclone/registered/HT206B1/s3_visium.h5ad'}},\n",
       "  'ids': ['s0', 's1', 's2', 's3'],\n",
       "  'order': ['HT206B1-U2', 'HT206B1-U3', 'HT206B1-U4', 'HT206B1-U5'],\n",
       "  'registered_pixels_per_micron': 2.483379511178093,\n",
       "  'scale': 0.1},\n",
       " 'HT225C1': {'data': {'visium': {'HT225C1-U1': '/diskmnt/Projects/Users/estorrs/mushroom/data/projects/subclone/registered/HT225C1/s0_visium.h5ad',\n",
       "    'HT225C1-U2': '/diskmnt/Projects/Users/estorrs/mushroom/data/projects/subclone/registered/HT225C1/s1_visium.h5ad',\n",
       "    'HT225C1-U3': '/diskmnt/Projects/Users/estorrs/mushroom/data/projects/subclone/registered/HT225C1/s2_visium.h5ad',\n",
       "    'HT225C1-U4': '/diskmnt/Projects/Users/estorrs/mushroom/data/projects/subclone/registered/HT225C1/s3_visium.h5ad',\n",
       "    'HT225C1-U5': '/diskmnt/Projects/Users/estorrs/mushroom/data/projects/subclone/registered/HT225C1/s4_visium.h5ad'}},\n",
       "  'ids': ['s0', 's1', 's2', 's3', 's4'],\n",
       "  'order': ['HT225C1-U1',\n",
       "   'HT225C1-U2',\n",
       "   'HT225C1-U3',\n",
       "   'HT225C1-U4',\n",
       "   'HT225C1-U5'],\n",
       "  'registered_pixels_per_micron': 2.1711921193136487,\n",
       "  'scale': 0.1},\n",
       " 'HT226C1': {'data': {'visium': {'HT226C1-U1': '/diskmnt/Projects/Users/estorrs/mushroom/data/projects/subclone/registered/HT226C1/s0_visium.h5ad',\n",
       "    'HT226C1-U2': '/diskmnt/Projects/Users/estorrs/mushroom/data/projects/subclone/registered/HT226C1/s1_visium.h5ad'}},\n",
       "  'ids': ['s0', 's1'],\n",
       "  'order': ['HT226C1-U1', 'HT226C1-U2'],\n",
       "  'registered_pixels_per_micron': 2.4821237719723066,\n",
       "  'scale': 0.1},\n",
       " 'HT235B1': {'data': {'visium': {'HT235B1-U1': '/diskmnt/Projects/Users/estorrs/mushroom/data/projects/subclone/registered/HT235B1/s0_visium.h5ad',\n",
       "    'HT235B1-U2': '/diskmnt/Projects/Users/estorrs/mushroom/data/projects/subclone/registered/HT235B1/s1_visium.h5ad'}},\n",
       "  'ids': ['s0', 's1'],\n",
       "  'order': ['HT235B1-U1', 'HT235B1-U2'],\n",
       "  'registered_pixels_per_micron': 2.481930416706591,\n",
       "  'scale': 0.1},\n",
       " 'HT243B1-H3': {'data': {'visium': {'HT243B1-H3-U1': '/diskmnt/Projects/Users/estorrs/mushroom/data/projects/subclone/registered/HT243B1-H3/s0_visium.h5ad',\n",
       "    'HT243B1-H3-U2': '/diskmnt/Projects/Users/estorrs/mushroom/data/projects/subclone/registered/HT243B1-H3/s1_visium.h5ad',\n",
       "    'HT243B1-H3-U3': '/diskmnt/Projects/Users/estorrs/mushroom/data/projects/subclone/registered/HT243B1-H3/s2_visium.h5ad',\n",
       "    'HT243B1-H3-U4': '/diskmnt/Projects/Users/estorrs/mushroom/data/projects/subclone/registered/HT243B1-H3/s3_visium.h5ad'}},\n",
       "  'ids': ['s0', 's1', 's2', 's3'],\n",
       "  'order': ['HT243B1-H3-U1',\n",
       "   'HT243B1-H3-U2',\n",
       "   'HT243B1-H3-U3',\n",
       "   'HT243B1-H3-U4'],\n",
       "  'registered_pixels_per_micron': 2.4833706048554873,\n",
       "  'scale': 0.1},\n",
       " 'HT243B1-H4': {'data': {'visium': {'HT243B1-H4-U1': '/diskmnt/Projects/Users/estorrs/mushroom/data/projects/subclone/registered/HT243B1-H4/s0_visium.h5ad',\n",
       "    'HT243B1-H4-U2': '/diskmnt/Projects/Users/estorrs/mushroom/data/projects/subclone/registered/HT243B1-H4/s1_visium.h5ad'}},\n",
       "  'ids': ['s0', 's1'],\n",
       "  'order': ['HT243B1-H4-U1', 'HT243B1-H4-U2'],\n",
       "  'registered_pixels_per_micron': 2.4799941563767685,\n",
       "  'scale': 0.1},\n",
       " 'HT268B1': {'data': {'visium': {'HT268B1-U1': '/diskmnt/Projects/Users/estorrs/mushroom/data/projects/subclone/registered/HT268B1/s0_visium.h5ad',\n",
       "    'HT268B1-U12': '/diskmnt/Projects/Users/estorrs/mushroom/data/projects/subclone/registered/HT268B1/s2_visium.h5ad',\n",
       "    'HT268B1-U2': '/diskmnt/Projects/Users/estorrs/mushroom/data/projects/subclone/registered/HT268B1/s1_visium.h5ad',\n",
       "    'HT268B1-U22': '/diskmnt/Projects/Users/estorrs/mushroom/data/projects/subclone/registered/HT268B1/s3_visium.h5ad',\n",
       "    'HT268B1-U32': '/diskmnt/Projects/Users/estorrs/mushroom/data/projects/subclone/registered/HT268B1/s4_visium.h5ad'}},\n",
       "  'ids': ['s0', 's1', 's2', 's3', 's4'],\n",
       "  'order': ['HT268B1-U1',\n",
       "   'HT268B1-U2',\n",
       "   'HT268B1-U12',\n",
       "   'HT268B1-U22',\n",
       "   'HT268B1-U32'],\n",
       "  'registered_pixels_per_micron': 2.4761627200367733,\n",
       "  'scale': 0.1},\n",
       " 'HT271B1': {'data': {'visium': {'HT271B1-U1': '/diskmnt/Projects/Users/estorrs/mushroom/data/projects/subclone/registered/HT271B1/s0_visium.h5ad',\n",
       "    'HT271B1-U2': '/diskmnt/Projects/Users/estorrs/mushroom/data/projects/subclone/registered/HT271B1/s1_visium.h5ad',\n",
       "    'HT271B1-U3': '/diskmnt/Projects/Users/estorrs/mushroom/data/projects/subclone/registered/HT271B1/s2_visium.h5ad',\n",
       "    'HT271B1-U4': '/diskmnt/Projects/Users/estorrs/mushroom/data/projects/subclone/registered/HT271B1/s3_visium.h5ad'}},\n",
       "  'ids': ['s0', 's1', 's2', 's3'],\n",
       "  'order': ['HT271B1-U1', 'HT271B1-U2', 'HT271B1-U3', 'HT271B1-U4'],\n",
       "  'registered_pixels_per_micron': 2.483538143072734,\n",
       "  'scale': 0.1},\n",
       " 'HT339B1': {'data': {'visium': {'HT339B1-U1': '/diskmnt/Projects/Users/estorrs/mushroom/data/projects/subclone/registered/HT339B1/s0_visium.h5ad',\n",
       "    'HT339B1-U2': '/diskmnt/Projects/Users/estorrs/mushroom/data/projects/subclone/registered/HT339B1/s1_visium.h5ad'}},\n",
       "  'ids': ['s0', 's1'],\n",
       "  'order': ['HT339B1-U1', 'HT339B1-U2'],\n",
       "  'registered_pixels_per_micron': 2.479191821882763,\n",
       "  'scale': 0.1},\n",
       " 'HT397B1': {'data': {'he': {'HT397B1-U1': '/diskmnt/Projects/Users/estorrs/mushroom/data/projects/subclone/registered/HT397B1/s0_visium.h5ad',\n",
       "    'HT397B1-U21': '/diskmnt/Projects/Users/estorrs/mushroom/data/projects/subclone/registered/HT397B1/s3_visium.h5ad'},\n",
       "   'multiplex': {'HT397B1-U12': '/diskmnt/Projects/Users/estorrs/mushroom/data/projects/subclone/registered/HT397B1/s2_multiplex.ome.tiff',\n",
       "    'HT397B1-U2': '/diskmnt/Projects/Users/estorrs/mushroom/data/projects/subclone/registered/HT397B1/s1_multiplex.ome.tiff',\n",
       "    'HT397B1-U22': '/diskmnt/Projects/Users/estorrs/mushroom/data/projects/subclone/registered/HT397B1/s4_multiplex.ome.tiff',\n",
       "    'HT397B1-U31': '/diskmnt/Projects/Users/estorrs/mushroom/data/projects/subclone/registered/HT397B1/s5_multiplex.ome.tiff'},\n",
       "   'visium': {'HT397B1-U1': '/diskmnt/Projects/Users/estorrs/mushroom/data/projects/subclone/registered/HT397B1/s0_visium.h5ad',\n",
       "    'HT397B1-U21': '/diskmnt/Projects/Users/estorrs/mushroom/data/projects/subclone/registered/HT397B1/s3_visium.h5ad'}},\n",
       "  'ids': ['s0', 's1', 's2', 's3', 's4', 's5'],\n",
       "  'order': ['HT397B1-U1',\n",
       "   'HT397B1-U2',\n",
       "   'HT397B1-U12',\n",
       "   'HT397B1-U21',\n",
       "   'HT397B1-U22',\n",
       "   'HT397B1-U31'],\n",
       "  'registered_pixels_per_micron': 2.3223207975307805,\n",
       "  'scale': 0.1},\n",
       " 'HT413C1': {'data': {'visium': {'HT413C1-U1': '/diskmnt/Projects/Users/estorrs/mushroom/data/projects/subclone/registered/HT413C1/s0_visium.h5ad',\n",
       "    'HT413C1-U14': '/diskmnt/Projects/Users/estorrs/mushroom/data/projects/subclone/registered/HT413C1/s2_visium.h5ad',\n",
       "    'HT413C1-U2': '/diskmnt/Projects/Users/estorrs/mushroom/data/projects/subclone/registered/HT413C1/s1_visium.h5ad'}},\n",
       "  'ids': ['s0', 's1', 's2'],\n",
       "  'order': ['HT413C1-U1', 'HT413C1-U2', 'HT413C1-U14'],\n",
       "  'registered_pixels_per_micron': 2.321639522842586,\n",
       "  'scale': 0.1},\n",
       " 'HT448C1': {'data': {'visium': {'HT448C1-U1': '/diskmnt/Projects/Users/estorrs/mushroom/data/projects/subclone/registered/HT448C1/s0_visium.h5ad',\n",
       "    'HT448C1-U13': '/diskmnt/Projects/Users/estorrs/mushroom/data/projects/subclone/registered/HT448C1/s1_visium.h5ad'}},\n",
       "  'ids': ['s0', 's1'],\n",
       "  'order': ['HT448C1-U1', 'HT448C1-U13'],\n",
       "  'registered_pixels_per_micron': 2.3208096724524325,\n",
       "  'scale': 0.1}}"
      ]
     },
     "execution_count": 41,
     "metadata": {},
     "output_type": "execute_result"
    }
   ],
   "source": [
    "registered_metadata = metadata.copy()\n",
    "for case, data in registered_metadata.items():\n",
    "    for dtype, mapping in data['data'].items():\n",
    "        for sample, fp in mapping.items():\n",
    "            sid = data['ids'][data['order'].index(sample)]\n",
    "            mapping[sample] = case_to_id_to_fp[case][sid]\n",
    "registered_metadata"
   ]
  },
  {
   "cell_type": "code",
   "execution_count": 42,
   "id": "c01f7ae6",
   "metadata": {},
   "outputs": [],
   "source": [
    "yaml.safe_dump(registered_metadata, open(os.path.join(registered_dir, 'metadata.yaml'), 'w'))"
   ]
  },
  {
   "cell_type": "code",
   "execution_count": null,
   "id": "d83027f0",
   "metadata": {},
   "outputs": [],
   "source": []
  },
  {
   "cell_type": "code",
   "execution_count": null,
   "id": "a54a0a36",
   "metadata": {},
   "outputs": [],
   "source": []
  },
  {
   "cell_type": "code",
   "execution_count": null,
   "id": "3dfe8128",
   "metadata": {},
   "outputs": [],
   "source": []
  },
  {
   "cell_type": "code",
   "execution_count": null,
   "id": "50fcd6ec",
   "metadata": {},
   "outputs": [],
   "source": []
  },
  {
   "cell_type": "code",
   "execution_count": null,
   "id": "5bb31984",
   "metadata": {},
   "outputs": [],
   "source": []
  },
  {
   "cell_type": "code",
   "execution_count": null,
   "id": "abc8289b",
   "metadata": {},
   "outputs": [],
   "source": []
  }
 ],
 "metadata": {
  "kernelspec": {
   "display_name": "Python 3 (ipykernel)",
   "language": "python",
   "name": "python3"
  },
  "language_info": {
   "codemirror_mode": {
    "name": "ipython",
    "version": 3
   },
   "file_extension": ".py",
   "mimetype": "text/x-python",
   "name": "python",
   "nbconvert_exporter": "python",
   "pygments_lexer": "ipython3",
   "version": "3.9.18"
  }
 },
 "nbformat": 4,
 "nbformat_minor": 5
}
