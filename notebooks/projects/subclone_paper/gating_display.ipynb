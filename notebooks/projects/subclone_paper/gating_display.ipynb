{
 "cells": [
  {
   "cell_type": "code",
   "execution_count": 1,
   "id": "717d9b80",
   "metadata": {},
   "outputs": [],
   "source": [
    "import json\n",
    "import os\n",
    "import yaml\n"
   ]
  },
  {
   "cell_type": "code",
   "execution_count": null,
   "id": "81e77c70",
   "metadata": {},
   "outputs": [],
   "source": []
  },
  {
   "cell_type": "code",
   "execution_count": 16,
   "id": "597bb48f",
   "metadata": {},
   "outputs": [],
   "source": [
    "val = .05\n",
    "gating_strategy = [\n",
    "    {'name': 'Epithelial',\n",
    "        'strategy': [{'channel': 'Pan-Cytokeratin', 'value': val, 'direction': 'pos'}]},\n",
    "    {'name': 'CD4 T cell',\n",
    "        'strategy': [\n",
    "            {'channel': 'CD3e', 'value': val, 'direction': 'pos'},\n",
    "            {'channel': 'CD4', 'value': val, 'direction': 'pos'},\n",
    "        ]},\n",
    "    {'name': 'CD8 T cell',\n",
    "        'strategy': [\n",
    "            {'channel': 'CD3e', 'value': val, 'direction': 'pos'},\n",
    "            {'channel': 'CD8', 'value': val, 'direction': 'pos'}]},\n",
    "    {'name': 'T cell',\n",
    "        'strategy': [{'channel': 'CD3e', 'value': val, 'direction': 'pos'}]},\n",
    "    {'name': 'Macrophage',\n",
    "        'strategy': [\n",
    "            {'channel': 'CD68', 'value': val, 'direction': 'pos'},\n",
    "        ]},\n",
    "    {'name': 'Dendritic', \n",
    "        'strategy': [\n",
    "            {'channel': 'CD11b', 'value': val, 'direction': 'pos'},\n",
    "            {'channel': 'CD3e', 'value': val, 'direction': 'neg'}\n",
    "        ]},\n",
    "    {'name': 'B cell',\n",
    "        'strategy': [\n",
    "            {'channel': 'CD20', 'value': val, 'direction': 'pos'},\n",
    "            {'channel': 'Pan-Cytokeratin', 'value': val, 'direction': 'neg'},\n",
    "            {'channel': 'E-cadherin', 'value': val, 'direction': 'neg'}]},\n",
    "    {'name': 'Endothelial',\n",
    "        'strategy': [{'channel': 'CD31', 'value': val, 'direction': 'pos'}]},\n",
    "    {'name': 'Immune',\n",
    "        'strategy': [{'channel': 'CD45', 'value': val, 'direction': 'pos'}]},\n",
    "    {'name': 'Immune',\n",
    "        'strategy': [{'channel': 'CD11b', 'value': val, 'direction': 'pos'}]},\n",
    "    {'name': 'Immune',\n",
    "        'strategy': [{'channel': 'CD4', 'value': val, 'direction': 'pos'}]},\n",
    "    {'name': 'Immune',\n",
    "        'strategy': [{'channel': 'HLA-DR', 'value': val, 'direction': 'pos'}]},\n",
    "    {'name': 'Fibroblast',\n",
    "        'strategy': [{'channel': 'SMA', 'value': val, 'direction': 'pos'}]},\n",
    "    {'name': 'Fibroblast',\n",
    "        'strategy': [{'channel': 'Podoplanin', 'value': val, 'direction': 'pos'}]}\n",
    "]"
   ]
  },
  {
   "cell_type": "code",
   "execution_count": null,
   "id": "f85081bc",
   "metadata": {},
   "outputs": [],
   "source": []
  },
  {
   "cell_type": "code",
   "execution_count": 17,
   "id": "45ee704c",
   "metadata": {},
   "outputs": [
    {
     "name": "stdout",
     "output_type": "stream",
     "text": [
      "Gate 1: Epithelial\n",
      "\tChannel: Pan-Cytokeratin, Direction: pos\n",
      "Gate 2: CD4 T cell\n",
      "\tChannel: CD3e, Direction: pos\n",
      "\tChannel: CD4, Direction: pos\n",
      "Gate 3: CD8 T cell\n",
      "\tChannel: CD3e, Direction: pos\n",
      "\tChannel: CD8, Direction: pos\n",
      "Gate 4: T cell\n",
      "\tChannel: CD3e, Direction: pos\n",
      "Gate 5: Macrophage\n",
      "\tChannel: CD68, Direction: pos\n",
      "Gate 6: Dendritic\n",
      "\tChannel: CD11b, Direction: pos\n",
      "\tChannel: CD3e, Direction: neg\n",
      "Gate 7: B cell\n",
      "\tChannel: CD20, Direction: pos\n",
      "\tChannel: Pan-Cytokeratin, Direction: neg\n",
      "\tChannel: E-cadherin, Direction: neg\n",
      "Gate 8: Endothelial\n",
      "\tChannel: CD31, Direction: pos\n",
      "Gate 9: Immune\n",
      "\tChannel: CD45, Direction: pos\n",
      "Gate 10: Immune\n",
      "\tChannel: CD11b, Direction: pos\n",
      "Gate 11: Immune\n",
      "\tChannel: CD4, Direction: pos\n",
      "Gate 12: Immune\n",
      "\tChannel: HLA-DR, Direction: pos\n",
      "Gate 13: Fibroblast\n",
      "\tChannel: SMA, Direction: pos\n",
      "Gate 14: Fibroblast\n",
      "\tChannel: Podoplanin, Direction: pos\n"
     ]
    }
   ],
   "source": [
    "for i, mapping in enumerate(gating_strategy):\n",
    "    name = mapping['name']\n",
    "    print(f'Gate {i+1}: {name}')\n",
    "    for strategy in mapping['strategy']:\n",
    "        channel, direction = strategy['channel'], strategy['direction']\n",
    "        print(f'\\tChannel: {channel}, Direction: {direction}')"
   ]
  },
  {
   "cell_type": "code",
   "execution_count": null,
   "id": "862f7519",
   "metadata": {},
   "outputs": [],
   "source": []
  },
  {
   "cell_type": "code",
   "execution_count": null,
   "id": "22e60388",
   "metadata": {},
   "outputs": [],
   "source": []
  }
 ],
 "metadata": {
  "kernelspec": {
   "display_name": "Python 3 (ipykernel)",
   "language": "python",
   "name": "python3"
  },
  "language_info": {
   "codemirror_mode": {
    "name": "ipython",
    "version": 3
   },
   "file_extension": ".py",
   "mimetype": "text/x-python",
   "name": "python",
   "nbconvert_exporter": "python",
   "pygments_lexer": "ipython3",
   "version": "3.10.13"
  }
 },
 "nbformat": 4,
 "nbformat_minor": 5
}
