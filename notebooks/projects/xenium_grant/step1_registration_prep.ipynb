{
 "cells": [
  {
   "cell_type": "code",
   "execution_count": 1,
   "id": "fa3a56db",
   "metadata": {},
   "outputs": [],
   "source": [
    "import os\n",
    "from pathlib import Path\n",
    "import shutil\n",
    "\n",
    "import numpy as np\n",
    "import pandas as pd\n",
    "import scanpy as sc\n",
    "import squidpy as sq\n",
    "import tifffile\n",
    "import torch\n",
    "import torchvision.transforms.functional as TF\n",
    "import yaml\n",
    "from einops import rearrange"
   ]
  },
  {
   "cell_type": "code",
   "execution_count": 2,
   "id": "e687909b",
   "metadata": {},
   "outputs": [],
   "source": [
    "%load_ext autoreload"
   ]
  },
  {
   "cell_type": "code",
   "execution_count": 3,
   "id": "5afec56f",
   "metadata": {},
   "outputs": [],
   "source": [
    "%autoreload 2"
   ]
  },
  {
   "cell_type": "code",
   "execution_count": 11,
   "id": "aa4da016",
   "metadata": {},
   "outputs": [],
   "source": [
    "from mushroom.data.multiplex import extract_ome_tiff, get_ome_tiff_channels, make_pseudo\n",
    "from mushroom.data.xenium import adata_from_xenium"
   ]
  },
  {
   "cell_type": "code",
   "execution_count": 5,
   "id": "27360999",
   "metadata": {},
   "outputs": [],
   "source": [
    "run_dir = '/diskmnt/Projects/Users/estorrs/mushroom/data/projects/xenium_grant_v2'\n",
    "Path(run_dir).mkdir(parents=True, exist_ok=True)"
   ]
  },
  {
   "cell_type": "code",
   "execution_count": 6,
   "id": "d8db8fec",
   "metadata": {},
   "outputs": [],
   "source": [
    "reg_dir = os.path.join(run_dir, 'registration')\n",
    "Path(reg_dir).mkdir(parents=True, exist_ok=True)"
   ]
  },
  {
   "cell_type": "code",
   "execution_count": 110,
   "id": "fb953dcf",
   "metadata": {
    "code_folding": []
   },
   "outputs": [],
   "source": [
    "data_map = {\n",
    "    'HT206B1': {\n",
    "        'order': [\n",
    "            'HT206B1-U1',\n",
    "            'HT206B1-U2',\n",
    "            'HT206B1-U5',\n",
    "            'HT206B1-U8',\n",
    "            'HT206B1-U9',\n",
    "            'HT206B1-U10',\n",
    "            'HT206B1-U13',\n",
    "            'HT206B1-U16',\n",
    "            'HT206B1-U17',\n",
    "            'HT206B1-U18',\n",
    "            'HT206B1-U21',\n",
    "            'HT206B1-U24',\n",
    "        ],\n",
    "        'data': {\n",
    "            'xenium': {\n",
    "                'HT206B1-U24': '/diskmnt/primary/Xenium/data/20230830__153957__20230830_24001/output-XETG00122__0010528__HT206B1-H2L1Us1_1__20230830__154053',\n",
    "                'HT206B1-U16': '/diskmnt/primary/Xenium/data/20230830__153957__20230830_24001/output-XETG00122__0010528__HT206B1-H2L1Us1_9__20230830__154053',\n",
    "                'HT206B1-U8': '/diskmnt/primary/Xenium/data/20230830__153957__20230830_24001/output-XETG00122__0010528__HT206B1-H2L1Us1_17__20230830__154053',\n",
    "                'HT206B1-U1': '/diskmnt/primary/Xenium/data/20230919__220553__24003/output-XETG00122__0010520__HT206B1-H2L1Us1_8__20230919__220650',\n",
    "                'HT206B1-U9': '/diskmnt/primary/Xenium/data/20230919__220553__24003/output-XETG00122__0010520__HT206B1-H2L1Us1_15__20230919__220650',\n",
    "                'HT206B1-U17': '/diskmnt/primary/Xenium/data/20230919__220553__24003/output-XETG00122__0010520__HT206B1-H2L1Us1_24__20230919__220650',\n",
    "                \n",
    "            },\n",
    "            'multiplex': {\n",
    "                'HT206B1-U2': '/diskmnt/primary/CODEX/HTAN/20230914_BRCA_HT206B1-H2L1-2__HT206B1-H2L1-10__HT206B1-H2L1-18/HT206B1-H2L1-U2__20230914.ome.tiff',\n",
    "                'HT206B1-U10': '/diskmnt/primary/CODEX/HTAN/20230914_BRCA_HT206B1-H2L1-2__HT206B1-H2L1-10__HT206B1-H2L1-18/HT206B1-H2L1-U10__20230914.ome.tiff',\n",
    "                'HT206B1-U18': '/diskmnt/primary/CODEX/HTAN/20230914_BRCA_HT206B1-H2L1-2__HT206B1-H2L1-10__HT206B1-H2L1-18/HT206B1-H2L1-U18__20230914.ome.tiff',\n",
    "                'HT206B1-U5': '/diskmnt/primary/CODEX/HTAN/20231002_HT206B1-H2L1-2__HT206B1-H2L1-10__HT206B1-H2L1-18/HT206B1-H2L1-U5__20231002.ome.tiff',\n",
    "                'HT206B1-U13': '/diskmnt/primary/CODEX/HTAN/20231002_HT206B1-H2L1-2__HT206B1-H2L1-10__HT206B1-H2L1-18/HT206B1-H2L1-U13__20231002.ome.tiff',\n",
    "                'HT206B1-U21': '/diskmnt/primary/CODEX/HTAN/20231002_HT206B1-H2L1-2__HT206B1-H2L1-10__HT206B1-H2L1-18/HT206B1-H2L1-U21__20231002.ome.tiff',\n",
    "            }\n",
    "        }\n",
    "    },\n",
    "    'S18-9906': {\n",
    "        'order': [\n",
    "            'S18-9906-U2',\n",
    "            'S18-9906-U3',\n",
    "            'S18-9906-U9',\n",
    "            'S18-9906-U10',\n",
    "            'S18-9906-U17',\n",
    "            'S18-9906-U18',\n",
    "            'S18-9906-U24',\n",
    "            'S18-9906-U25',\n",
    "        ],\n",
    "        'data': {\n",
    "            'xenium': {\n",
    "                'S18-9906-U2': '/diskmnt/primary/Xenium/data/20230912__220334__24002/output-XETG00122__0010784__S18-9906-B27Us1_2Q1__20230912__220421',\n",
    "                'S18-9906-U17': '/diskmnt/primary/Xenium/data/20230912__220334__24002/output-XETG00122__0010784__S18-9906-B27Us1_17Q1__20230912__220421',\n",
    "                'S18-9906-U9': '/diskmnt/primary/Xenium/data/20230912__220334__24002/output-XETG00122__0010787__S18-9906-B27Us1_9Q1__20230912__220421',\n",
    "                'S18-9906-U24': '/diskmnt/primary/Xenium/data/20230912__220334__24002/output-XETG00122__0010787__S18-9906-B27Us1_24Q1__20230912__220421',\n",
    "                \n",
    "            },\n",
    "            'multiplex': {\n",
    "                'S18-9906-U3': '/diskmnt/primary/CODEX/HTAN/20231006_Prostate_Serial_S18-9906_slide_3/S18-9906-U3__20231006.ome.tiff',\n",
    "                'S18-9906-U10': '/diskmnt/primary/CODEX/HTAN/20231006_Prostate_Serial_S18-9906_slide_3/S18-9906-U10__20231006.ome.tiff',\n",
    "                'S18-9906-U18': '/diskmnt/primary/CODEX/HTAN/20231006_Prostate_Serial_S18-9906_slide_3/S18-9906-U18__20231006.ome.tiff',\n",
    "                'S18-9906-U25': '/diskmnt/primary/CODEX/HTAN/20231006_Prostate_Serial_S18-9906_slide_3/S18-9906-U25__20231006.ome.tiff',\n",
    "            }\n",
    "        }\n",
    "    },\n",
    "    'S18-25943': {\n",
    "        'order': [\n",
    "            'S18-25943-U1',\n",
    "#             'S18-25943-U2',\n",
    "            'S18-25943-U4',\n",
    "            'S18-25943-U8',\n",
    "            'S18-25943-U9',\n",
    "            'S18-25943-U11',\n",
    "            'S18-25943-U13',\n",
    "#             'S18-25943-U16',\n",
    "        ],\n",
    "        'data': {\n",
    "            'xenium': {\n",
    "                'S18-25943-U1': '/diskmnt/primary/Xenium/data/20231117__205826__24011/output-XETG00122__0011123__S18-25943-A7Us1_1__20231117__205842',\n",
    "                'S18-25943-U8': '/diskmnt/primary/Xenium/data/20231117__205826__24011/output-XETG00122__0011123__S18-25943-A7Us1_8__20231117__205843',\n",
    "                'S18-25943-U4': '/diskmnt/primary/Xenium/data/20231117__205826__24011/output-XETG00122__0011128__S18-25943-A7Us1_4__20231117__205843',\n",
    "                'S18-25943-U11': '/diskmnt/primary/Xenium/data/20231117__205826__24011/output-XETG00122__0011128__S18-25943-A7Us1_11__20231117__205843',\n",
    "            },\n",
    "            'multiplex': { # only taking the middle because top and bottom piece are cut off\n",
    "#                 'S18-25943-U2': '/diskmnt/primary/CODEX/HTAN/20231122_Human_pancreatic_cancer_S18-25943-A7Us1_2__Us1_9__Us1_13__Us1_16/S18-25943-U2__20231122.ome.tiff',\n",
    "                'S18-25943-U9': '/diskmnt/primary/CODEX/HTAN/20231122_Human_pancreatic_cancer_S18-25943-A7Us1_2__Us1_9__Us1_13__Us1_16/S18-25943-U9__20231122.ome.tiff',\n",
    "                'S18-25943-U13': '/diskmnt/primary/CODEX/HTAN/20231122_Human_pancreatic_cancer_S18-25943-A7Us1_2__Us1_9__Us1_13__Us1_16/S18-25943-U13__20231122.ome.tiff',\n",
    "#                 'S18-25943-U16': '/diskmnt/primary/CODEX/HTAN/20231122_Human_pancreatic_cancer_S18-25943-A7Us1_2__Us1_9__Us1_13__Us1_16/S18-25943-U16__20231122.ome.tiff',\n",
    "            }\n",
    "        }\n",
    "    },\n",
    "    'S18-5591': {\n",
    "        'order': [\n",
    "            'S18-5591-U1',\n",
    "#             'S18-5591-U2',\n",
    "            'S18-5591-U5',\n",
    "#             'S18-5591-U6',\n",
    "            'S18-5591-U7',\n",
    "            'S18-5591-U8',\n",
    "            'S18-5591-U12',\n",
    "            'S18-5591-U14',\n",
    "            'S18-5591-U18',\n",
    "            'S18-5591-U19',\n",
    "            'S18-5591-U20',\n",
    "            'S18-5591-U21',\n",
    "            'S18-5591-U23',\n",
    "            'S18-5591-U24',\n",
    "        ],\n",
    "        'data': {\n",
    "            'xenium': {\n",
    "                'S18-5591-U1': '/diskmnt/primary/Xenium/data/20231114__223057__24010/output-XETG00122__0011055__S18-5591-C8Us2_1__20231114__223131',\n",
    "                'S18-5591-U7': '/diskmnt/primary/Xenium/data/20231114__223057__24010/output-XETG00122__0011055__S18-5591-C8Us2_7__20231114__223131',\n",
    "                'S18-5591-U18': '/diskmnt/primary/Xenium/data/20231114__223057__24010/output-XETG00122__0011055__S18-5591-C8Us2_18__20231114__223131',\n",
    "                'S18-5591-U5': '/diskmnt/primary/Xenium/data/20231114__223057__24010/output-XETG00122__0010977__S18-5591-C8Us2_5__20231114__223131',\n",
    "                'S18-5591-U12': '/diskmnt/primary/Xenium/data/20231114__223057__24010/output-XETG00122__0010977__S18-5591-C8Us2_12__20231114__223131',\n",
    "                'S18-5591-U20': '/diskmnt/primary/Xenium/data/20231114__223057__24010/output-XETG00122__0010977__S18-5591-C8Us2_20__20231114__223131',\n",
    "            },\n",
    "            'multiplex': { # top pieces are cut out for both runs\n",
    "#                 'S18-5591-U2': '/diskmnt/primary/CODEX/HTAN/20231116_Human_prostate_African_American_serial_S18_5591_Slide_2/S18-5591-U2__20231116.ome.tiff',\n",
    "                'S18-5591-U8': '/diskmnt/primary/CODEX/HTAN/20231116_Human_prostate_African_American_serial_S18_5591_Slide_2/S18-5591-U8__20231116.ome.tiff',\n",
    "                'S18-5591-U19': '/diskmnt/primary/CODEX/HTAN/20231116_Human_prostate_African_American_serial_S18_5591_Slide_2/S18-5591-U19__20231116.ome.tiff',\n",
    "                'S18-5591-U23': '/diskmnt/primary/CODEX/HTAN/20231116_Human_prostate_African_American_serial_S18_5591_Slide_2/S18-5591-U23__20231116.ome.tiff',\n",
    "#                 'S18-5591-U6': '/diskmnt/primary/CODEX/HTAN/20231118_Human_prostate_African_American_serial_S18_5591_Slide_6/S18-5591-U6__20231118.ome.tiff',\n",
    "                'S18-5591-U14': '/diskmnt/primary/CODEX/HTAN/20231118_Human_prostate_African_American_serial_S18_5591_Slide_6/S18-5591-U14__20231118.ome.tiff',\n",
    "                'S18-5591-U21': '/diskmnt/primary/CODEX/HTAN/20231118_Human_prostate_African_American_serial_S18_5591_Slide_6/S18-5591-U21__20231118.ome.tiff',\n",
    "                'S18-5591-U24': '/diskmnt/primary/CODEX/HTAN/20231118_Human_prostate_African_American_serial_S18_5591_Slide_6/S18-5591-U24__20231118.ome.tiff',\n",
    "            }\n",
    "        }\n",
    "    }\n",
    "}"
   ]
  },
  {
   "cell_type": "code",
   "execution_count": 111,
   "id": "9df7fb2c",
   "metadata": {},
   "outputs": [],
   "source": [
    "def rescale(x, scale=.1):\n",
    "    x = rearrange(torch.tensor(x), 'h w c -> c h w')\n",
    "    x = TF.resize(x, (int(x.shape[-2] * scale), int(x.shape[-1] * scale)), antialias=True)\n",
    "    x = TF.convert_image_dtype(x, torch.uint8)\n",
    "    x = rearrange(x.numpy(), 'c h w -> h w c')\n",
    "    \n",
    "    return x"
   ]
  },
  {
   "cell_type": "code",
   "execution_count": 112,
   "id": "4fef93ca",
   "metadata": {},
   "outputs": [],
   "source": [
    "scale = .2"
   ]
  },
  {
   "cell_type": "code",
   "execution_count": 113,
   "id": "935af05f",
   "metadata": {},
   "outputs": [],
   "source": [
    "official_to_options = {\n",
    "    'Pan-Cytokeratin': ['Pan-Cytokeratin', 'Pan-CK', 'Pan-CK (D)', 'PanCK (D)'],\n",
    "    'CD45': ['CD45 (D)', 'CD45', 'CD45-(D)'],\n",
    "    'DAPI': ['DAPI'],\n",
    "    'SMA': ['SMA-(D)', 'SMA', 'SMA (D)', 'a-SMA (D)'],\n",
    "}\n",
    "channel_mapping = {v:k for k, vs in official_to_options.items() for v in vs}\n",
    "\n",
    "cmap = {\n",
    "    'DAPI': (0., 0., 1.),\n",
    "    'Pan-Cytokeratin': (1., 0., 0.),\n",
    "    'CD45': (0., 1., 0.),\n",
    "    'SMA': (1., 1., 1.)\n",
    "}"
   ]
  },
  {
   "cell_type": "code",
   "execution_count": 109,
   "id": "8e8262f4",
   "metadata": {
    "scrolled": true
   },
   "outputs": [
    {
     "name": "stdout",
     "output_type": "stream",
     "text": [
      "xenium S18-25943-U1\n"
     ]
    },
    {
     "name": "stderr",
     "output_type": "stream",
     "text": [
      "/diskmnt/Projects/Users/estorrs/miniconda3/envs/mushroom/lib/python3.9/site-packages/anndata/_core/anndata.py:1113: FutureWarning: is_categorical_dtype is deprecated and will be removed in a future version. Use isinstance(dtype, CategoricalDtype) instead\n",
      "  if not is_categorical_dtype(df_full[k]):\n"
     ]
    },
    {
     "name": "stdout",
     "output_type": "stream",
     "text": [
      "xenium S18-25943-U8\n"
     ]
    },
    {
     "name": "stderr",
     "output_type": "stream",
     "text": [
      "/diskmnt/Projects/Users/estorrs/miniconda3/envs/mushroom/lib/python3.9/site-packages/anndata/_core/anndata.py:1113: FutureWarning: is_categorical_dtype is deprecated and will be removed in a future version. Use isinstance(dtype, CategoricalDtype) instead\n",
      "  if not is_categorical_dtype(df_full[k]):\n"
     ]
    },
    {
     "name": "stdout",
     "output_type": "stream",
     "text": [
      "xenium S18-25943-U4\n"
     ]
    },
    {
     "name": "stderr",
     "output_type": "stream",
     "text": [
      "/diskmnt/Projects/Users/estorrs/miniconda3/envs/mushroom/lib/python3.9/site-packages/anndata/_core/anndata.py:1113: FutureWarning: is_categorical_dtype is deprecated and will be removed in a future version. Use isinstance(dtype, CategoricalDtype) instead\n",
      "  if not is_categorical_dtype(df_full[k]):\n"
     ]
    },
    {
     "name": "stdout",
     "output_type": "stream",
     "text": [
      "xenium S18-25943-U11\n"
     ]
    },
    {
     "name": "stderr",
     "output_type": "stream",
     "text": [
      "/diskmnt/Projects/Users/estorrs/miniconda3/envs/mushroom/lib/python3.9/site-packages/anndata/_core/anndata.py:1113: FutureWarning: is_categorical_dtype is deprecated and will be removed in a future version. Use isinstance(dtype, CategoricalDtype) instead\n",
      "  if not is_categorical_dtype(df_full[k]):\n"
     ]
    },
    {
     "name": "stdout",
     "output_type": "stream",
     "text": [
      "multiplex S18-25943-U9\n",
      "multiplex S18-25943-U13\n"
     ]
    }
   ],
   "source": [
    "for case, d in data_map.items():\n",
    "    output_dir = os.path.join(reg_dir, case, 'unregistered_tifs')\n",
    "    Path(output_dir).mkdir(parents=True, exist_ok=True)\n",
    "    \n",
    "    order = d['order']\n",
    "    \n",
    "    for dtype, data in d['data'].items():\n",
    "        for sid, filepath in data.items():\n",
    "            print(dtype, sid)\n",
    "            idx = order.index(sid)\n",
    "            if dtype == 'visium':\n",
    "                adata = sq.read.visium(filepath)\n",
    "\n",
    "                d = next(iter(adata.uns['spatial'].values()))\n",
    "                he = d['images']['hires']\n",
    "                sf = scale / d['scalefactors']['tissue_hires_scalef']\n",
    "                he = rescale(he, scale=sf)\n",
    "                \n",
    "                tifffile.imwrite(os.path.join(output_dir, f's{idx}.tif'), he, compression='LZW')\n",
    "                \n",
    "            if dtype == 'multiplex':\n",
    "                channels = get_ome_tiff_channels(filepath)\n",
    "                keep = [c for c in channels if channel_mapping.get(c, c) in cmap]\n",
    "                d = extract_ome_tiff(filepath, channels=keep)\n",
    "                d = {channel_mapping[channel]:np.squeeze(rescale(np.expand_dims(img, -1), scale=scale))\n",
    "                     for channel, img in d.items()}\n",
    "\n",
    "                pseudo = make_pseudo(d, cmap=cmap, contrast_pct=90.)\n",
    "                pseudo /= pseudo.max()\n",
    "                pseudo *= 255\n",
    "                pseudo = pseudo.astype(np.uint8)\n",
    "\n",
    "                tifffile.imwrite(os.path.join(output_dir, f's{idx}.tif'), pseudo, compression='LZW')\n",
    "                \n",
    "            if dtype == 'xenium':\n",
    "                adata = adata_from_xenium(filepath)\n",
    "                \n",
    "                d = next(iter(adata.uns['spatial'].values()))\n",
    "                x = d['images']['hires']\n",
    "                sf = scale / d['scalefactors']['tissue_hires_scalef']\n",
    "                x = rescale(rearrange(x, 'h w -> h w 1'), scale=sf)\n",
    "                x = x.astype(np.float32) / x.max()\n",
    "                x *= 255.\n",
    "                x = x.astype(np.uint8)\n",
    "                \n",
    "                tifffile.imwrite(os.path.join(output_dir, f's{idx}.tif'), x, compression='LZW')\n",
    "                \n",
    "            if dtype == 'he':\n",
    "                x = tifffile.imread(filepath)\n",
    "                x = rescale(x, scale=scale)\n",
    "\n",
    "                tifffile.imwrite(os.path.join(output_dir, f's{idx}.tif'), x, compression='LZW')"
   ]
  },
  {
   "cell_type": "code",
   "execution_count": 114,
   "id": "2e77b57d",
   "metadata": {
    "code_folding": [],
    "scrolled": true
   },
   "outputs": [
    {
     "name": "stderr",
     "output_type": "stream",
     "text": [
      "/diskmnt/Projects/Users/estorrs/miniconda3/envs/mushroom/lib/python3.9/site-packages/anndata/_core/anndata.py:1113: FutureWarning: is_categorical_dtype is deprecated and will be removed in a future version. Use isinstance(dtype, CategoricalDtype) instead\n",
      "  if not is_categorical_dtype(df_full[k]):\n",
      "/diskmnt/Projects/Users/estorrs/miniconda3/envs/mushroom/lib/python3.9/site-packages/anndata/_core/anndata.py:1113: FutureWarning: is_categorical_dtype is deprecated and will be removed in a future version. Use isinstance(dtype, CategoricalDtype) instead\n",
      "  if not is_categorical_dtype(df_full[k]):\n",
      "/diskmnt/Projects/Users/estorrs/miniconda3/envs/mushroom/lib/python3.9/site-packages/anndata/_core/anndata.py:1113: FutureWarning: is_categorical_dtype is deprecated and will be removed in a future version. Use isinstance(dtype, CategoricalDtype) instead\n",
      "  if not is_categorical_dtype(df_full[k]):\n",
      "/diskmnt/Projects/Users/estorrs/miniconda3/envs/mushroom/lib/python3.9/site-packages/anndata/_core/anndata.py:1113: FutureWarning: is_categorical_dtype is deprecated and will be removed in a future version. Use isinstance(dtype, CategoricalDtype) instead\n",
      "  if not is_categorical_dtype(df_full[k]):\n"
     ]
    }
   ],
   "source": [
    "metadata = {}\n",
    "for case, d in data_map.items(): \n",
    "    output_dir = os.path.join(reg_dir, case)\n",
    "    \n",
    "    adata = adata_from_xenium(next(iter(d['data']['xenium'].values())))\n",
    "    scalefactors = next(iter(adata.uns['spatial'].values()))['scalefactors']\n",
    "    registered_pixels_per_micron = scalefactors['tissue_hires_scalef'] # when read in coords are in microns, so hires_scalef is ppm\n",
    "    \n",
    "    d.update({\n",
    "        'ids': [f's{i}' for i in range(len(d['order']))],\n",
    "        'scale': scale,\n",
    "        'registered_pixels_per_micron': registered_pixels_per_micron\n",
    "    })\n",
    "    metadata[case] = d\n"
   ]
  },
  {
   "cell_type": "code",
   "execution_count": 115,
   "id": "03b65ba5",
   "metadata": {},
   "outputs": [],
   "source": [
    "yaml.safe_dump(metadata, open(os.path.join(reg_dir, 'metadata.yaml'), 'w'))"
   ]
  },
  {
   "cell_type": "code",
   "execution_count": 104,
   "id": "e59c0d9b",
   "metadata": {},
   "outputs": [
    {
     "data": {
      "text/plain": [
       "{'HT206B1': {'order': ['HT206B1-U1',\n",
       "   'HT206B1-U2',\n",
       "   'HT206B1-U5',\n",
       "   'HT206B1-U8',\n",
       "   'HT206B1-U9',\n",
       "   'HT206B1-U10',\n",
       "   'HT206B1-U13',\n",
       "   'HT206B1-U16',\n",
       "   'HT206B1-U17',\n",
       "   'HT206B1-U18',\n",
       "   'HT206B1-U21',\n",
       "   'HT206B1-U24'],\n",
       "  'data': {'xenium': {'HT206B1-U24': '/diskmnt/primary/Xenium/data/20230830__153957__20230830_24001/output-XETG00122__0010528__HT206B1-H2L1Us1_1__20230830__154053',\n",
       "    'HT206B1-U16': '/diskmnt/primary/Xenium/data/20230830__153957__20230830_24001/output-XETG00122__0010528__HT206B1-H2L1Us1_9__20230830__154053',\n",
       "    'HT206B1-U8': '/diskmnt/primary/Xenium/data/20230830__153957__20230830_24001/output-XETG00122__0010528__HT206B1-H2L1Us1_17__20230830__154053',\n",
       "    'HT206B1-U1': '/diskmnt/primary/Xenium/data/20230919__220553__24003/output-XETG00122__0010520__HT206B1-H2L1Us1_8__20230919__220650',\n",
       "    'HT206B1-U9': '/diskmnt/primary/Xenium/data/20230919__220553__24003/output-XETG00122__0010520__HT206B1-H2L1Us1_15__20230919__220650',\n",
       "    'HT206B1-U17': '/diskmnt/primary/Xenium/data/20230919__220553__24003/output-XETG00122__0010520__HT206B1-H2L1Us1_24__20230919__220650'},\n",
       "   'multiplex': {'HT206B1-U2': '/diskmnt/primary/CODEX/HTAN/20230914_BRCA_HT206B1-H2L1-2__HT206B1-H2L1-10__HT206B1-H2L1-18/HT206B1-H2L1-U2__20230914.ome.tiff',\n",
       "    'HT206B1-U10': '/diskmnt/primary/CODEX/HTAN/20230914_BRCA_HT206B1-H2L1-2__HT206B1-H2L1-10__HT206B1-H2L1-18/HT206B1-H2L1-U10__20230914.ome.tiff',\n",
       "    'HT206B1-U18': '/diskmnt/primary/CODEX/HTAN/20230914_BRCA_HT206B1-H2L1-2__HT206B1-H2L1-10__HT206B1-H2L1-18/HT206B1-H2L1-U18__20230914.ome.tiff',\n",
       "    'HT206B1-U5': '/diskmnt/primary/CODEX/HTAN/20231002_HT206B1-H2L1-2__HT206B1-H2L1-10__HT206B1-H2L1-18/HT206B1-H2L1-U5__20231002.ome.tiff',\n",
       "    'HT206B1-U13': '/diskmnt/primary/CODEX/HTAN/20231002_HT206B1-H2L1-2__HT206B1-H2L1-10__HT206B1-H2L1-18/HT206B1-H2L1-U13__20231002.ome.tiff',\n",
       "    'HT206B1-U21': '/diskmnt/primary/CODEX/HTAN/20231002_HT206B1-H2L1-2__HT206B1-H2L1-10__HT206B1-H2L1-18/HT206B1-H2L1-U21__20231002.ome.tiff'}},\n",
       "  'ids': ['s0',\n",
       "   's1',\n",
       "   's2',\n",
       "   's3',\n",
       "   's4',\n",
       "   's5',\n",
       "   's6',\n",
       "   's7',\n",
       "   's8',\n",
       "   's9',\n",
       "   's10',\n",
       "   's11'],\n",
       "  'scale': 0.2,\n",
       "  'registered_pixels_per_micron': 0.4705882352941177},\n",
       " 'S18-9906': {'order': ['S18-9906-U2',\n",
       "   'S18-9906-U3',\n",
       "   'S18-9906-U9',\n",
       "   'S18-9906-U10',\n",
       "   'S18-9906-U17',\n",
       "   'S18-9906-U18',\n",
       "   'S18-9906-U24',\n",
       "   'S18-9906-U25'],\n",
       "  'data': {'xenium': {'S18-9906-U2': '/diskmnt/primary/Xenium/data/20230912__220334__24002/output-XETG00122__0010784__S18-9906-B27Us1_2Q1__20230912__220421',\n",
       "    'S18-9906-U17': '/diskmnt/primary/Xenium/data/20230912__220334__24002/output-XETG00122__0010784__S18-9906-B27Us1_17Q1__20230912__220421',\n",
       "    'S18-9906-U9': '/diskmnt/primary/Xenium/data/20230912__220334__24002/output-XETG00122__0010787__S18-9906-B27Us1_9Q1__20230912__220421',\n",
       "    'S18-9906-U24': '/diskmnt/primary/Xenium/data/20230912__220334__24002/output-XETG00122__0010787__S18-9906-B27Us1_24Q1__20230912__220421'},\n",
       "   'multiplex': {'S18-9906-U3': '/diskmnt/primary/CODEX/HTAN/20231006_Prostate_Serial_S18-9906_slide_3/S18-9906-U3__20231006.ome.tiff',\n",
       "    'S18-9906-U10': '/diskmnt/primary/CODEX/HTAN/20231006_Prostate_Serial_S18-9906_slide_3/S18-9906-U10__20231006.ome.tiff',\n",
       "    'S18-9906-U18': '/diskmnt/primary/CODEX/HTAN/20231006_Prostate_Serial_S18-9906_slide_3/S18-9906-U18__20231006.ome.tiff',\n",
       "    'S18-9906-U25': '/diskmnt/primary/CODEX/HTAN/20231006_Prostate_Serial_S18-9906_slide_3/S18-9906-U25__20231006.ome.tiff'}},\n",
       "  'ids': ['s0', 's1', 's2', 's3', 's4', 's5', 's6', 's7'],\n",
       "  'scale': 0.2,\n",
       "  'registered_pixels_per_micron': 0.4705882352941177},\n",
       " 'S18-25943': {'order': ['S18-25943-U1',\n",
       "   'S18-25943-U8',\n",
       "   'S18-25943-U9',\n",
       "   'S18-25943-U13'],\n",
       "  'data': {'xenium': {'S18-25943-U1': '/diskmnt/primary/Xenium/data/20231117__205826__24011/output-XETG00122__0011123__S18-25943-A7Us1_1__20231117__205842',\n",
       "    'S18-25943-U8': '/diskmnt/primary/Xenium/data/20231117__205826__24011/output-XETG00122__0011123__S18-25943-A7Us1_8__20231117__205843'},\n",
       "   'multiplex': {'S18-25943-U9': '/diskmnt/primary/CODEX/HTAN/20231122_Human_pancreatic_cancer_S18-25943-A7Us1_2__Us1_9__Us1_13__Us1_16/S18-25943-U9__20231122.ome.tiff',\n",
       "    'S18-25943-U13': '/diskmnt/primary/CODEX/HTAN/20231122_Human_pancreatic_cancer_S18-25943-A7Us1_2__Us1_9__Us1_13__Us1_16/S18-25943-U13__20231122.ome.tiff'}},\n",
       "  'ids': ['s0', 's1', 's2', 's3'],\n",
       "  'scale': 0.2,\n",
       "  'registered_pixels_per_micron': 0.4705882352941177},\n",
       " 'S18-5591': {'order': ['S18-5591-U1',\n",
       "   'S18-5591-U5',\n",
       "   'S18-5591-U7',\n",
       "   'S18-5591-U8',\n",
       "   'S18-5591-U12',\n",
       "   'S18-5591-U14',\n",
       "   'S18-5591-U18',\n",
       "   'S18-5591-U19',\n",
       "   'S18-5591-U20',\n",
       "   'S18-5591-U21',\n",
       "   'S18-5591-U23',\n",
       "   'S18-5591-U24'],\n",
       "  'data': {'xenium': {'S18-5591-U1': '/diskmnt/primary/Xenium/data/20231114__223057__24010/output-XETG00122__0011055__S18-5591-C8Us2_1__20231114__223131',\n",
       "    'S18-5591-U7': '/diskmnt/primary/Xenium/data/20231114__223057__24010/output-XETG00122__0011055__S18-5591-C8Us2_7__20231114__223131',\n",
       "    'S18-5591-U18': '/diskmnt/primary/Xenium/data/20231114__223057__24010/output-XETG00122__0011055__S18-5591-C8Us2_18__20231114__223131',\n",
       "    'S18-5591-U5': '/diskmnt/primary/Xenium/data/20231114__223057__24010/output-XETG00122__0010977__S18-5591-C8Us2_5__20231114__223131',\n",
       "    'S18-5591-U12': '/diskmnt/primary/Xenium/data/20231114__223057__24010/output-XETG00122__0010977__S18-5591-C8Us2_12__20231114__223131',\n",
       "    'S18-5591-U20': '/diskmnt/primary/Xenium/data/20231114__223057__24010/output-XETG00122__0010977__S18-5591-C8Us2_20__20231114__223131'},\n",
       "   'multiplex': {'S18-5591-U8': '/diskmnt/primary/CODEX/HTAN/20231116_Human_prostate_African_American_serial_S18_5591_Slide_2/S18-5591-U8__20231116.ome.tiff',\n",
       "    'S18-5591-U19': '/diskmnt/primary/CODEX/HTAN/20231116_Human_prostate_African_American_serial_S18_5591_Slide_2/S18-5591-U19__20231116.ome.tiff',\n",
       "    'S18-5591-U23': '/diskmnt/primary/CODEX/HTAN/20231116_Human_prostate_African_American_serial_S18_5591_Slide_2/S18-5591-U23__20231116.ome.tiff',\n",
       "    'S18-5591-U14': '/diskmnt/primary/CODEX/HTAN/20231118_Human_prostate_African_American_serial_S18_5591_Slide_6/S18-5591-U14__20231118.ome.tiff',\n",
       "    'S18-5591-U21': '/diskmnt/primary/CODEX/HTAN/20231118_Human_prostate_African_American_serial_S18_5591_Slide_6/S18-5591-U21__20231118.ome.tiff',\n",
       "    'S18-5591-U24': '/diskmnt/primary/CODEX/HTAN/20231118_Human_prostate_African_American_serial_S18_5591_Slide_6/S18-5591-U24__20231118.ome.tiff'}},\n",
       "  'ids': ['s0',\n",
       "   's1',\n",
       "   's2',\n",
       "   's3',\n",
       "   's4',\n",
       "   's5',\n",
       "   's6',\n",
       "   's7',\n",
       "   's8',\n",
       "   's9',\n",
       "   's10',\n",
       "   's11'],\n",
       "  'scale': 0.2,\n",
       "  'registered_pixels_per_micron': 0.4705882352941177}}"
      ]
     },
     "execution_count": 104,
     "metadata": {},
     "output_type": "execute_result"
    }
   ],
   "source": [
    "metadata"
   ]
  },
  {
   "cell_type": "code",
   "execution_count": null,
   "id": "e0c8b6b7",
   "metadata": {},
   "outputs": [],
   "source": []
  }
 ],
 "metadata": {
  "kernelspec": {
   "display_name": "Python 3 (ipykernel)",
   "language": "python",
   "name": "python3"
  },
  "language_info": {
   "codemirror_mode": {
    "name": "ipython",
    "version": 3
   },
   "file_extension": ".py",
   "mimetype": "text/x-python",
   "name": "python",
   "nbconvert_exporter": "python",
   "pygments_lexer": "ipython3",
   "version": "3.9.18"
  }
 },
 "nbformat": 4,
 "nbformat_minor": 5
}
