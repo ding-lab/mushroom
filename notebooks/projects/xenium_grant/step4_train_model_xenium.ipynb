{
 "cells": [
  {
   "cell_type": "code",
   "execution_count": 1,
   "id": "86525a7b",
   "metadata": {},
   "outputs": [],
   "source": [
    "# import logging\n",
    "import os\n",
    "import re\n",
    "from pathlib import Path\n",
    "from collections import Counter\n",
    "\n",
    "import matplotlib.pyplot as plt\n",
    "import numpy as np\n",
    "import pandas as pd\n",
    "import scanpy as sc\n",
    "import seaborn as sns\n",
    "import torch\n",
    "import yaml\n",
    "from einops import rearrange"
   ]
  },
  {
   "cell_type": "code",
   "execution_count": 2,
   "id": "d9924bbf",
   "metadata": {},
   "outputs": [],
   "source": [
    "%load_ext autoreload"
   ]
  },
  {
   "cell_type": "code",
   "execution_count": 3,
   "id": "98fd872f",
   "metadata": {},
   "outputs": [],
   "source": [
    "%autoreload 2"
   ]
  },
  {
   "cell_type": "code",
   "execution_count": 4,
   "id": "84b5fc06",
   "metadata": {},
   "outputs": [
    {
     "name": "stderr",
     "output_type": "stream",
     "text": [
      "/data/estorrs/miniconda3/envs/mushroom/lib/python3.9/site-packages/geopandas/_compat.py:124: UserWarning: The Shapely GEOS version (3.11.1-CAPI-1.17.1) is incompatible with the GEOS version PyGEOS was compiled with (3.10.4-CAPI-1.16.2). Conversions between both will be slow.\n",
      "  warnings.warn(\n",
      "/data/estorrs/miniconda3/envs/mushroom/lib/python3.9/site-packages/spatialdata/__init__.py:9: UserWarning: Geopandas was set to use PyGEOS, changing to shapely 2.0 with:\n",
      "\n",
      "\tgeopandas.options.use_pygeos = True\n",
      "\n",
      "If you intended to use PyGEOS, set the option to False.\n",
      "  _check_geopandas_using_shapely()\n"
     ]
    }
   ],
   "source": [
    "from mushroom.mushroom import Mushroom\n",
    "import mushroom.data.xenium as xenium\n",
    "import mushroom.utils as utils"
   ]
  },
  {
   "cell_type": "code",
   "execution_count": 5,
   "id": "c3c9f8da",
   "metadata": {},
   "outputs": [
    {
     "data": {
      "text/plain": [
       "['/data/estorrs/mushroom/data/projects/xenium_grant/mushroom/HT206B1/config_xenium_multiplex.yaml',\n",
       " '/data/estorrs/mushroom/data/projects/xenium_grant/mushroom/S18-25943/config_xenium_multiplex.yaml',\n",
       " '/data/estorrs/mushroom/data/projects/xenium_grant/mushroom/S18-9906/config_xenium_multiplex.yaml']"
      ]
     },
     "execution_count": 5,
     "metadata": {},
     "output_type": "execute_result"
    }
   ],
   "source": [
    "run_dir = '/data/estorrs/mushroom/data/projects/xenium_grant'\n",
    "mushroom_dir = os.path.join(run_dir, 'mushroom')\n",
    "config_fps = sorted(utils.listfiles(mushroom_dir, regex=r'/config_xenium_multiplex.yaml'))\n",
    "config_fps"
   ]
  },
  {
   "cell_type": "code",
   "execution_count": 6,
   "id": "4d50ce98",
   "metadata": {},
   "outputs": [],
   "source": [
    "# # just specify up front so it doesnt take so long to load objects\n",
    "# channels = sc.read_h5ad(\n",
    "#     '/data/estorrs/mushroom/data/projects/xenium_grant/registered/HT206B1/s3_xenium.h5ad'\n",
    "# ).var.index.to_list()\n",
    "# len(channels)"
   ]
  },
  {
   "cell_type": "code",
   "execution_count": 7,
   "id": "a31de3ce",
   "metadata": {},
   "outputs": [],
   "source": [
    "xenium_config = {\n",
    "    'dtype': 'multiplex',\n",
    "#     'sections': config,\n",
    "    'chkpt_filepath': None,\n",
    "    'sae_kwargs': {\n",
    "        'size': 8,\n",
    "        'patch_size': 1,\n",
    "        'encoder_dim': 256,\n",
    "        'kl_scaler': 0.,\n",
    "        'recon_scaler': 1.,\n",
    "        'neigh_scaler': .0,\n",
    "        'codebook_size': 30,\n",
    "        'decoder_dims': (256, 256, 256,)\n",
    "    },\n",
    "    'learner_kwargs': {\n",
    "        'scale': 1.,\n",
    "        'contrast_pct': None,\n",
    "#         'pct_expression': .02,\n",
    "        'batch_size': 64,\n",
    "        'num_workers': 1,\n",
    "        'device': 'cuda:0',\n",
    "#         'channels': channels,\n",
    "#         'channel_mapping': channel_mapping\n",
    "    },\n",
    "    'train_kwargs': {\n",
    "        'num_iters': 5000,\n",
    "        'lr': 1e-4,\n",
    "        'log_every': 10,\n",
    "        'save_every': 1000,\n",
    "#         'save_dir': chkpt_dir       \n",
    "    },\n",
    "}"
   ]
  },
  {
   "cell_type": "code",
   "execution_count": 8,
   "id": "cfb650fc",
   "metadata": {},
   "outputs": [],
   "source": [
    "# config_fp = '/data/estorrs/mushroom/data/projects/xenium_grant/mushroom/HT206B1/config_xenium_multiplex.yaml'\n",
    "# config_fp = '/data/estorrs/mushroom/data/projects/xenium_grant/mushroom/S18-9906/config_xenium_multiplex.yaml'\n",
    "config_fp = '/data/estorrs/mushroom/data/projects/xenium_grant/mushroom/S18-25943/config_xenium_multiplex.yaml'\n",
    "\n",
    "case = config_fp.split('/')[-2]\n",
    "out_dir = os.path.join(f'/data/estorrs/mushroom/data/projects/xenium_grant/mushroom/{case}_xenium/outputs')\n",
    "\n",
    "config = yaml.safe_load(open(config_fp))\n",
    "\n",
    "chkpt_dir = os.path.join(out_dir, 'chkpts')\n",
    "Path(chkpt_dir).mkdir(parents=True, exist_ok=True)"
   ]
  },
  {
   "cell_type": "code",
   "execution_count": 9,
   "id": "a45beb14",
   "metadata": {
    "scrolled": true
   },
   "outputs": [
    {
     "data": {
      "text/plain": [
       "[{'data': [{'dtype': 'multiplex',\n",
       "    'filepath': '/data/estorrs/mushroom/data/projects/xenium_grant/registered/S18-25943/s0_multiplex.ome.tiff'}],\n",
       "  'id': 's0',\n",
       "  'position': 0},\n",
       " {'data': [{'dtype': 'multiplex',\n",
       "    'filepath': '/data/estorrs/mushroom/data/projects/xenium_grant/registered/S18-25943/s1_multiplex.ome.tiff'}],\n",
       "  'id': 's1',\n",
       "  'position': 15},\n",
       " {'data': [{'dtype': 'multiplex',\n",
       "    'filepath': '/data/estorrs/mushroom/data/projects/xenium_grant/registered/S18-25943/s2_multiplex.ome.tiff'}],\n",
       "  'id': 's2',\n",
       "  'position': 35},\n",
       " {'data': [{'dtype': 'multiplex_codex',\n",
       "    'filepath': '/data/estorrs/mushroom/data/projects/xenium_grant/registered/S18-25943/s3_multiplex.ome.tiff'}],\n",
       "  'id': 's3',\n",
       "  'position': 40},\n",
       " {'data': [{'dtype': 'multiplex',\n",
       "    'filepath': '/data/estorrs/mushroom/data/projects/xenium_grant/registered/S18-25943/s4_multiplex.ome.tiff'}],\n",
       "  'id': 's4',\n",
       "  'position': 50},\n",
       " {'data': [{'dtype': 'multiplex_codex',\n",
       "    'filepath': '/data/estorrs/mushroom/data/projects/xenium_grant/registered/S18-25943/s5_multiplex.ome.tiff'}],\n",
       "  'id': 's5',\n",
       "  'position': 60}]"
      ]
     },
     "execution_count": 9,
     "metadata": {},
     "output_type": "execute_result"
    }
   ],
   "source": [
    "config"
   ]
  },
  {
   "cell_type": "code",
   "execution_count": 10,
   "id": "5ca01885",
   "metadata": {},
   "outputs": [],
   "source": [
    "# only keep the non-detached sections"
   ]
  },
  {
   "cell_type": "code",
   "execution_count": 11,
   "id": "75776a9e",
   "metadata": {},
   "outputs": [
    {
     "name": "stdout",
     "output_type": "stream",
     "text": [
      "s0 0\n",
      "s1 15\n",
      "s2 35\n",
      "s4 50\n"
     ]
    }
   ],
   "source": [
    "for entry in config:\n",
    "    if entry['data'][0]['dtype'] == 'multiplex':\n",
    "        print(entry['id'], entry['position'])"
   ]
  },
  {
   "cell_type": "code",
   "execution_count": 12,
   "id": "996bf610",
   "metadata": {},
   "outputs": [],
   "source": [
    "xenium_config['sections'] = config\n",
    "xenium_config['train_kwargs']['save_dir'] = chkpt_dir"
   ]
  },
  {
   "cell_type": "code",
   "execution_count": null,
   "id": "45f8a18f",
   "metadata": {},
   "outputs": [],
   "source": []
  },
  {
   "cell_type": "code",
   "execution_count": 13,
   "id": "7f1c14ce",
   "metadata": {},
   "outputs": [
    {
     "name": "stderr",
     "output_type": "stream",
     "text": [
      "INFO:root:using device: cuda:0\n",
      "INFO:root:generating inputs for multiplex tissue sections\n",
      "INFO:root:using 477 channels\n",
      "INFO:root:4 sections detected: ['s0', 's1', 's2', 's4']\n",
      "INFO:root:processing sections\n",
      "INFO:root:generating image data for section s0\n",
      "INFO:root:generating image data for section s1\n",
      "INFO:root:generating image data for section s2\n",
      "INFO:root:generating image data for section s4\n",
      "INFO:root:generating training dataset\n",
      "INFO:root:generating inference dataset\n",
      "INFO:root:creating data loaders\n",
      "INFO:root:creating ViT\n",
      "INFO:root:learner initialized\n"
     ]
    }
   ],
   "source": [
    "mushroom = Mushroom.from_config(xenium_config)"
   ]
  },
  {
   "cell_type": "code",
   "execution_count": 14,
   "id": "bc198fcb",
   "metadata": {},
   "outputs": [],
   "source": [
    "# a1 = sc.read_h5ad('/data/estorrs/mushroom/data/projects/xenium_grant/registered/HT206B1/s0_xenium.h5ad')\n",
    "# a1"
   ]
  },
  {
   "cell_type": "code",
   "execution_count": 15,
   "id": "7742abbd",
   "metadata": {},
   "outputs": [],
   "source": [
    "# a2 = sc.read_h5ad('/data/estorrs/mushroom/data/projects/xenium_grant/registered/HT206B1/s3_xenium.h5ad')\n",
    "# a2"
   ]
  },
  {
   "cell_type": "code",
   "execution_count": 16,
   "id": "37462684",
   "metadata": {},
   "outputs": [
    {
     "data": {
      "text/plain": [
       "torch.Size([477, 182, 161])"
      ]
     },
     "execution_count": 16,
     "metadata": {},
     "output_type": "execute_result"
    }
   ],
   "source": [
    "next(iter(mushroom.learner.inference_ds.section_to_img.values())).shape"
   ]
  },
  {
   "cell_type": "code",
   "execution_count": 17,
   "id": "a59f076c",
   "metadata": {},
   "outputs": [
    {
     "data": {
      "text/plain": [
       "torch.Size([4, 477, 180, 164])"
      ]
     },
     "execution_count": 17,
     "metadata": {},
     "output_type": "execute_result"
    }
   ],
   "source": [
    "mushroom.true_imgs.shape"
   ]
  },
  {
   "cell_type": "code",
   "execution_count": null,
   "id": "98a8a502",
   "metadata": {},
   "outputs": [],
   "source": []
  },
  {
   "cell_type": "code",
   "execution_count": 18,
   "id": "9cf57ca2",
   "metadata": {},
   "outputs": [],
   "source": [
    "b = next(iter(mushroom.learner.train_dl))"
   ]
  },
  {
   "cell_type": "code",
   "execution_count": 19,
   "id": "4a5df2ca",
   "metadata": {},
   "outputs": [
    {
     "name": "stdout",
     "output_type": "stream",
     "text": [
      "anchor_idx torch.Size([64])\n",
      "pos_idx torch.Size([64])\n",
      "anchor_tile torch.Size([64, 477, 8, 8])\n",
      "pos_tile torch.Size([64, 477, 8, 8])\n"
     ]
    }
   ],
   "source": [
    "for k, v in b.items(): print(k, v.shape)"
   ]
  },
  {
   "cell_type": "code",
   "execution_count": 20,
   "id": "b012714b",
   "metadata": {},
   "outputs": [
    {
     "data": {
      "image/png": "[encoded data removed]",
      "text/plain": [
       "<Figure size 640x480 with 10 Axes>"
      ]
     },
     "metadata": {},
     "output_type": "display_data"
    }
   ],
   "source": [
    "fig, axs = plt.subplots(ncols=10)\n",
    "for i, ax in enumerate(axs):\n",
    "    ax.imshow(b['anchor_tile'][i, mushroom.learner.channels.index('EPCAM')])\n",
    "    ax.axis('off')"
   ]
  },
  {
   "cell_type": "code",
   "execution_count": 21,
   "id": "31326811",
   "metadata": {},
   "outputs": [
    {
     "data": {
      "image/png": "[encoded data removed]",
      "text/plain": [
       "<Figure size 640x480 with 10 Axes>"
      ]
     },
     "metadata": {},
     "output_type": "display_data"
    }
   ],
   "source": [
    "fig, axs = plt.subplots(ncols=10)\n",
    "for i, ax in enumerate(axs):\n",
    "    ax.imshow(b['pos_tile'][i, mushroom.learner.channels.index('EPCAM')])\n",
    "    ax.axis('off')"
   ]
  },
  {
   "cell_type": "code",
   "execution_count": 22,
   "id": "d691a8e5",
   "metadata": {},
   "outputs": [
    {
     "data": {
      "image/png": "[encoded data removed]",
      "text/plain": [
       "<Figure size 640x480 with 10 Axes>"
      ]
     },
     "metadata": {},
     "output_type": "display_data"
    }
   ],
   "source": [
    "fig, axs = plt.subplots(ncols=10)\n",
    "for i, ax in enumerate(axs):\n",
    "    ax.imshow(b['anchor_tile'][i, mushroom.learner.channels.index('PTPRC')])\n",
    "    ax.axis('off')"
   ]
  },
  {
   "cell_type": "code",
   "execution_count": 23,
   "id": "20e5e7ba",
   "metadata": {},
   "outputs": [
    {
     "data": {
      "image/png": "[encoded data removed]",
      "text/plain": [
       "<Figure size 640x480 with 10 Axes>"
      ]
     },
     "metadata": {},
     "output_type": "display_data"
    }
   ],
   "source": [
    "fig, axs = plt.subplots(ncols=10)\n",
    "for i, ax in enumerate(axs):\n",
    "    ax.imshow(b['pos_tile'][i, mushroom.learner.channels.index('PTPRC')])\n",
    "    ax.axis('off')"
   ]
  },
  {
   "cell_type": "code",
   "execution_count": null,
   "id": "ddce7885",
   "metadata": {},
   "outputs": [],
   "source": []
  },
  {
   "cell_type": "code",
   "execution_count": null,
   "id": "f769ec4f",
   "metadata": {},
   "outputs": [],
   "source": []
  },
  {
   "cell_type": "code",
   "execution_count": 24,
   "id": "0501ae82",
   "metadata": {},
   "outputs": [],
   "source": [
    "with torch.no_grad():\n",
    "    device = mushroom.learner.device\n",
    "    anchor_x, anchor_slide = b['anchor_tile'], b['anchor_idx']\n",
    "    pos_x, pos_slide = b['pos_tile'], b['pos_idx']\n",
    "    x = torch.concat((anchor_x, pos_x))\n",
    "    slide = torch.concat((anchor_slide, pos_slide))\n",
    "    x, slide = x.to(device), slide.to(device)\n",
    "\n",
    "    losses, outputs = mushroom.learner.sae(x, slide)"
   ]
  },
  {
   "cell_type": "code",
   "execution_count": 25,
   "id": "48aa5c72",
   "metadata": {},
   "outputs": [
    {
     "name": "stdout",
     "output_type": "stream",
     "text": [
      "overall_loss tensor(0.9714, device='cuda:0')\n",
      "recon_loss tensor(0.9714, device='cuda:0')\n",
      "kl_loss tensor(65.6435, device='cuda:0')\n",
      "neigh_loss tensor(3.3961, device='cuda:0')\n"
     ]
    }
   ],
   "source": [
    "for k, v in losses.items(): print(k, v)"
   ]
  },
  {
   "cell_type": "code",
   "execution_count": 26,
   "id": "8404fb82",
   "metadata": {},
   "outputs": [
    {
     "name": "stdout",
     "output_type": "stream",
     "text": [
      "encoded_tokens_prequant torch.Size([128, 65, 256])\n",
      "encoded_tokens torch.Size([128, 65, 256])\n",
      "pred_pixel_values torch.Size([128, 64, 477])\n",
      "clusters torch.Size([128, 64])\n"
     ]
    }
   ],
   "source": [
    "for k, v in outputs.items(): print(k, v.shape)"
   ]
  },
  {
   "cell_type": "code",
   "execution_count": 27,
   "id": "e2f548d2",
   "metadata": {
    "scrolled": true
   },
   "outputs": [
    {
     "name": "stderr",
     "output_type": "stream",
     "text": [
      "INFO:root:iteration 0: {'overall_loss': tensor(0.9925, device='cuda:0', grad_fn=<AddBackward0>), 'recon_loss': tensor(0.9925, device='cuda:0', grad_fn=<MseLossBackward0>), 'kl_loss': tensor(65.7312, device='cuda:0', grad_fn=<MeanBackward0>), 'neigh_loss': tensor(3.3958, device='cuda:0', grad_fn=<NllLossBackward0>)}\n",
      "INFO:root:saving checkpoint to /data/estorrs/mushroom/data/projects/xenium_grant/mushroom/S18-25943_xenium/outputs/chkpts/0iter.pt\n",
      "INFO:root:iteration 10: {'overall_loss': tensor(1.1509, device='cuda:0', grad_fn=<AddBackward0>), 'recon_loss': tensor(1.1509, device='cuda:0', grad_fn=<MseLossBackward0>), 'kl_loss': tensor(102.6153, device='cuda:0', grad_fn=<MeanBackward0>), 'neigh_loss': tensor(3.1324, device='cuda:0', grad_fn=<NllLossBackward0>)}\n",
      "INFO:root:iteration 20: {'overall_loss': tensor(1.0439, device='cuda:0', grad_fn=<AddBackward0>), 'recon_loss': tensor(1.0439, device='cuda:0', grad_fn=<MseLossBackward0>), 'kl_loss': tensor(142.1774, device='cuda:0', grad_fn=<MeanBackward0>), 'neigh_loss': tensor(2.9777, device='cuda:0', grad_fn=<NllLossBackward0>)}\n",
      "INFO:root:iteration 30: {'overall_loss': tensor(1.0284, device='cuda:0', grad_fn=<AddBackward0>), 'recon_loss': tensor(1.0284, device='cuda:0', grad_fn=<MseLossBackward0>), 'kl_loss': tensor(169.1826, device='cuda:0', grad_fn=<MeanBackward0>), 'neigh_loss': tensor(2.7769, device='cuda:0', grad_fn=<NllLossBackward0>)}\n",
      "INFO:root:iteration 40: {'overall_loss': tensor(0.8938, device='cuda:0', grad_fn=<AddBackward0>), 'recon_loss': tensor(0.8938, device='cuda:0', grad_fn=<MseLossBackward0>), 'kl_loss': tensor(198.6749, device='cuda:0', grad_fn=<MeanBackward0>), 'neigh_loss': tensor(2.6520, device='cuda:0', grad_fn=<NllLossBackward0>)}\n",
      "INFO:root:iteration 50: {'overall_loss': tensor(1.0726, device='cuda:0', grad_fn=<AddBackward0>), 'recon_loss': tensor(1.0726, device='cuda:0', grad_fn=<MseLossBackward0>), 'kl_loss': tensor(224.2061, device='cuda:0', grad_fn=<MeanBackward0>), 'neigh_loss': tensor(2.6926, device='cuda:0', grad_fn=<NllLossBackward0>)}\n",
      "INFO:root:iteration 60: {'overall_loss': tensor(0.7448, device='cuda:0', grad_fn=<AddBackward0>), 'recon_loss': tensor(0.7448, device='cuda:0', grad_fn=<MseLossBackward0>), 'kl_loss': tensor(244.8552, device='cuda:0', grad_fn=<MeanBackward0>), 'neigh_loss': tensor(2.6347, device='cuda:0', grad_fn=<NllLossBackward0>)}\n",
      "INFO:root:iteration 70: {'overall_loss': tensor(0.7989, device='cuda:0', grad_fn=<AddBackward0>), 'recon_loss': tensor(0.7989, device='cuda:0', grad_fn=<MseLossBackward0>), 'kl_loss': tensor(257.3706, device='cuda:0', grad_fn=<MeanBackward0>), 'neigh_loss': tensor(2.5558, device='cuda:0', grad_fn=<NllLossBackward0>)}\n",
      "INFO:root:iteration 80: {'overall_loss': tensor(0.7200, device='cuda:0', grad_fn=<AddBackward0>), 'recon_loss': tensor(0.7200, device='cuda:0', grad_fn=<MseLossBackward0>), 'kl_loss': tensor(242.2845, device='cuda:0', grad_fn=<MeanBackward0>), 'neigh_loss': tensor(2.6172, device='cuda:0', grad_fn=<NllLossBackward0>)}\n",
      "INFO:root:iteration 90: {'overall_loss': tensor(0.8329, device='cuda:0', grad_fn=<AddBackward0>), 'recon_loss': tensor(0.8329, device='cuda:0', grad_fn=<MseLossBackward0>), 'kl_loss': tensor(242.8614, device='cuda:0', grad_fn=<MeanBackward0>), 'neigh_loss': tensor(2.6450, device='cuda:0', grad_fn=<NllLossBackward0>)}\n",
      "INFO:root:iteration 100: {'overall_loss': tensor(0.7282, device='cuda:0', grad_fn=<AddBackward0>), 'recon_loss': tensor(0.7282, device='cuda:0', grad_fn=<MseLossBackward0>), 'kl_loss': tensor(232.5933, device='cuda:0', grad_fn=<MeanBackward0>), 'neigh_loss': tensor(2.6134, device='cuda:0', grad_fn=<NllLossBackward0>)}\n",
      "INFO:root:iteration 110: {'overall_loss': tensor(0.6487, device='cuda:0', grad_fn=<AddBackward0>), 'recon_loss': tensor(0.6487, device='cuda:0', grad_fn=<MseLossBackward0>), 'kl_loss': tensor(208.6864, device='cuda:0', grad_fn=<MeanBackward0>), 'neigh_loss': tensor(2.6314, device='cuda:0', grad_fn=<NllLossBackward0>)}\n",
      "INFO:root:iteration 120: {'overall_loss': tensor(0.7896, device='cuda:0', grad_fn=<AddBackward0>), 'recon_loss': tensor(0.7896, device='cuda:0', grad_fn=<MseLossBackward0>), 'kl_loss': tensor(164.8477, device='cuda:0', grad_fn=<MeanBackward0>), 'neigh_loss': tensor(2.6585, device='cuda:0', grad_fn=<NllLossBackward0>)}\n",
      "INFO:root:iteration 130: {'overall_loss': tensor(0.6066, device='cuda:0', grad_fn=<AddBackward0>), 'recon_loss': tensor(0.6066, device='cuda:0', grad_fn=<MseLossBackward0>), 'kl_loss': tensor(178.4464, device='cuda:0', grad_fn=<MeanBackward0>), 'neigh_loss': tensor(2.6792, device='cuda:0', grad_fn=<NllLossBackward0>)}\n",
      "INFO:root:iteration 140: {'overall_loss': tensor(0.7135, device='cuda:0', grad_fn=<AddBackward0>), 'recon_loss': tensor(0.7135, device='cuda:0', grad_fn=<MseLossBackward0>), 'kl_loss': tensor(181.5896, device='cuda:0', grad_fn=<MeanBackward0>), 'neigh_loss': tensor(2.7038, device='cuda:0', grad_fn=<NllLossBackward0>)}\n",
      "INFO:root:iteration 150: {'overall_loss': tensor(0.8009, device='cuda:0', grad_fn=<AddBackward0>), 'recon_loss': tensor(0.8009, device='cuda:0', grad_fn=<MseLossBackward0>), 'kl_loss': tensor(230.5381, device='cuda:0', grad_fn=<MeanBackward0>), 'neigh_loss': tensor(2.7878, device='cuda:0', grad_fn=<NllLossBackward0>)}\n",
      "INFO:root:iteration 160: {'overall_loss': tensor(0.7592, device='cuda:0', grad_fn=<AddBackward0>), 'recon_loss': tensor(0.7592, device='cuda:0', grad_fn=<MseLossBackward0>), 'kl_loss': tensor(254.2102, device='cuda:0', grad_fn=<MeanBackward0>), 'neigh_loss': tensor(2.6645, device='cuda:0', grad_fn=<NllLossBackward0>)}\n",
      "INFO:root:iteration 170: {'overall_loss': tensor(0.9424, device='cuda:0', grad_fn=<AddBackward0>), 'recon_loss': tensor(0.9424, device='cuda:0', grad_fn=<MseLossBackward0>), 'kl_loss': tensor(219.1835, device='cuda:0', grad_fn=<MeanBackward0>), 'neigh_loss': tensor(2.7960, device='cuda:0', grad_fn=<NllLossBackward0>)}\n",
      "INFO:root:iteration 180: {'overall_loss': tensor(0.7955, device='cuda:0', grad_fn=<AddBackward0>), 'recon_loss': tensor(0.7955, device='cuda:0', grad_fn=<MseLossBackward0>), 'kl_loss': tensor(214.5629, device='cuda:0', grad_fn=<MeanBackward0>), 'neigh_loss': tensor(2.8260, device='cuda:0', grad_fn=<NllLossBackward0>)}\n",
      "INFO:root:iteration 190: {'overall_loss': tensor(0.7054, device='cuda:0', grad_fn=<AddBackward0>), 'recon_loss': tensor(0.7054, device='cuda:0', grad_fn=<MseLossBackward0>), 'kl_loss': tensor(250.9499, device='cuda:0', grad_fn=<MeanBackward0>), 'neigh_loss': tensor(2.7625, device='cuda:0', grad_fn=<NllLossBackward0>)}\n",
      "INFO:root:iteration 200: {'overall_loss': tensor(0.7086, device='cuda:0', grad_fn=<AddBackward0>), 'recon_loss': tensor(0.7086, device='cuda:0', grad_fn=<MseLossBackward0>), 'kl_loss': tensor(268.8621, device='cuda:0', grad_fn=<MeanBackward0>), 'neigh_loss': tensor(2.8089, device='cuda:0', grad_fn=<NllLossBackward0>)}\n",
      "INFO:root:iteration 210: {'overall_loss': tensor(0.6513, device='cuda:0', grad_fn=<AddBackward0>), 'recon_loss': tensor(0.6513, device='cuda:0', grad_fn=<MseLossBackward0>), 'kl_loss': tensor(285.0857, device='cuda:0', grad_fn=<MeanBackward0>), 'neigh_loss': tensor(2.8399, device='cuda:0', grad_fn=<NllLossBackward0>)}\n",
      "INFO:root:iteration 220: {'overall_loss': tensor(0.8201, device='cuda:0', grad_fn=<AddBackward0>), 'recon_loss': tensor(0.8201, device='cuda:0', grad_fn=<MseLossBackward0>), 'kl_loss': tensor(304.9157, device='cuda:0', grad_fn=<MeanBackward0>), 'neigh_loss': tensor(2.9318, device='cuda:0', grad_fn=<NllLossBackward0>)}\n",
      "INFO:root:iteration 230: {'overall_loss': tensor(0.7054, device='cuda:0', grad_fn=<AddBackward0>), 'recon_loss': tensor(0.7054, device='cuda:0', grad_fn=<MseLossBackward0>), 'kl_loss': tensor(334.6920, device='cuda:0', grad_fn=<MeanBackward0>), 'neigh_loss': tensor(2.9356, device='cuda:0', grad_fn=<NllLossBackward0>)}\n",
      "INFO:root:iteration 240: {'overall_loss': tensor(0.7476, device='cuda:0', grad_fn=<AddBackward0>), 'recon_loss': tensor(0.7476, device='cuda:0', grad_fn=<MseLossBackward0>), 'kl_loss': tensor(360.6387, device='cuda:0', grad_fn=<MeanBackward0>), 'neigh_loss': tensor(2.8082, device='cuda:0', grad_fn=<NllLossBackward0>)}\n",
      "INFO:root:iteration 250: {'overall_loss': tensor(0.6453, device='cuda:0', grad_fn=<AddBackward0>), 'recon_loss': tensor(0.6453, device='cuda:0', grad_fn=<MseLossBackward0>), 'kl_loss': tensor(347.7646, device='cuda:0', grad_fn=<MeanBackward0>), 'neigh_loss': tensor(2.9254, device='cuda:0', grad_fn=<NllLossBackward0>)}\n"
     ]
    },
    {
     "name": "stderr",
     "output_type": "stream",
     "text": [
      "INFO:root:iteration 260: {'overall_loss': tensor(0.8002, device='cuda:0', grad_fn=<AddBackward0>), 'recon_loss': tensor(0.8002, device='cuda:0', grad_fn=<MseLossBackward0>), 'kl_loss': tensor(348.2639, device='cuda:0', grad_fn=<MeanBackward0>), 'neigh_loss': tensor(2.9707, device='cuda:0', grad_fn=<NllLossBackward0>)}\n",
      "INFO:root:iteration 270: {'overall_loss': tensor(0.6284, device='cuda:0', grad_fn=<AddBackward0>), 'recon_loss': tensor(0.6284, device='cuda:0', grad_fn=<MseLossBackward0>), 'kl_loss': tensor(376.7783, device='cuda:0', grad_fn=<MeanBackward0>), 'neigh_loss': tensor(2.8065, device='cuda:0', grad_fn=<NllLossBackward0>)}\n",
      "INFO:root:iteration 280: {'overall_loss': tensor(0.7682, device='cuda:0', grad_fn=<AddBackward0>), 'recon_loss': tensor(0.7682, device='cuda:0', grad_fn=<MseLossBackward0>), 'kl_loss': tensor(379.7631, device='cuda:0', grad_fn=<MeanBackward0>), 'neigh_loss': tensor(2.9057, device='cuda:0', grad_fn=<NllLossBackward0>)}\n",
      "INFO:root:iteration 290: {'overall_loss': tensor(0.6097, device='cuda:0', grad_fn=<AddBackward0>), 'recon_loss': tensor(0.6097, device='cuda:0', grad_fn=<MseLossBackward0>), 'kl_loss': tensor(386.4024, device='cuda:0', grad_fn=<MeanBackward0>), 'neigh_loss': tensor(2.8717, device='cuda:0', grad_fn=<NllLossBackward0>)}\n",
      "INFO:root:iteration 300: {'overall_loss': tensor(0.7625, device='cuda:0', grad_fn=<AddBackward0>), 'recon_loss': tensor(0.7625, device='cuda:0', grad_fn=<MseLossBackward0>), 'kl_loss': tensor(373.1749, device='cuda:0', grad_fn=<MeanBackward0>), 'neigh_loss': tensor(2.9532, device='cuda:0', grad_fn=<NllLossBackward0>)}\n",
      "INFO:root:iteration 310: {'overall_loss': tensor(0.6474, device='cuda:0', grad_fn=<AddBackward0>), 'recon_loss': tensor(0.6474, device='cuda:0', grad_fn=<MseLossBackward0>), 'kl_loss': tensor(392.2130, device='cuda:0', grad_fn=<MeanBackward0>), 'neigh_loss': tensor(2.8597, device='cuda:0', grad_fn=<NllLossBackward0>)}\n",
      "INFO:root:iteration 320: {'overall_loss': tensor(0.7479, device='cuda:0', grad_fn=<AddBackward0>), 'recon_loss': tensor(0.7479, device='cuda:0', grad_fn=<MseLossBackward0>), 'kl_loss': tensor(380.8665, device='cuda:0', grad_fn=<MeanBackward0>), 'neigh_loss': tensor(2.8726, device='cuda:0', grad_fn=<NllLossBackward0>)}\n",
      "INFO:root:iteration 330: {'overall_loss': tensor(0.6444, device='cuda:0', grad_fn=<AddBackward0>), 'recon_loss': tensor(0.6444, device='cuda:0', grad_fn=<MseLossBackward0>), 'kl_loss': tensor(372.0576, device='cuda:0', grad_fn=<MeanBackward0>), 'neigh_loss': tensor(2.9308, device='cuda:0', grad_fn=<NllLossBackward0>)}\n",
      "INFO:root:iteration 340: {'overall_loss': tensor(0.6900, device='cuda:0', grad_fn=<AddBackward0>), 'recon_loss': tensor(0.6900, device='cuda:0', grad_fn=<MseLossBackward0>), 'kl_loss': tensor(386.7912, device='cuda:0', grad_fn=<MeanBackward0>), 'neigh_loss': tensor(2.8512, device='cuda:0', grad_fn=<NllLossBackward0>)}\n",
      "INFO:root:iteration 350: {'overall_loss': tensor(0.7468, device='cuda:0', grad_fn=<AddBackward0>), 'recon_loss': tensor(0.7468, device='cuda:0', grad_fn=<MseLossBackward0>), 'kl_loss': tensor(377.2047, device='cuda:0', grad_fn=<MeanBackward0>), 'neigh_loss': tensor(2.8917, device='cuda:0', grad_fn=<NllLossBackward0>)}\n",
      "INFO:root:iteration 360: {'overall_loss': tensor(0.6389, device='cuda:0', grad_fn=<AddBackward0>), 'recon_loss': tensor(0.6389, device='cuda:0', grad_fn=<MseLossBackward0>), 'kl_loss': tensor(385.5563, device='cuda:0', grad_fn=<MeanBackward0>), 'neigh_loss': tensor(2.6988, device='cuda:0', grad_fn=<NllLossBackward0>)}\n",
      "INFO:root:iteration 370: {'overall_loss': tensor(0.5497, device='cuda:0', grad_fn=<AddBackward0>), 'recon_loss': tensor(0.5497, device='cuda:0', grad_fn=<MseLossBackward0>), 'kl_loss': tensor(376.7839, device='cuda:0', grad_fn=<MeanBackward0>), 'neigh_loss': tensor(2.7704, device='cuda:0', grad_fn=<NllLossBackward0>)}\n",
      "INFO:root:iteration 380: {'overall_loss': tensor(0.6227, device='cuda:0', grad_fn=<AddBackward0>), 'recon_loss': tensor(0.6227, device='cuda:0', grad_fn=<MseLossBackward0>), 'kl_loss': tensor(384.5709, device='cuda:0', grad_fn=<MeanBackward0>), 'neigh_loss': tensor(2.8743, device='cuda:0', grad_fn=<NllLossBackward0>)}\n",
      "INFO:root:iteration 390: {'overall_loss': tensor(0.6546, device='cuda:0', grad_fn=<AddBackward0>), 'recon_loss': tensor(0.6546, device='cuda:0', grad_fn=<MseLossBackward0>), 'kl_loss': tensor(386.1954, device='cuda:0', grad_fn=<MeanBackward0>), 'neigh_loss': tensor(2.8372, device='cuda:0', grad_fn=<NllLossBackward0>)}\n",
      "INFO:root:iteration 400: {'overall_loss': tensor(0.4977, device='cuda:0', grad_fn=<AddBackward0>), 'recon_loss': tensor(0.4977, device='cuda:0', grad_fn=<MseLossBackward0>), 'kl_loss': tensor(388.4521, device='cuda:0', grad_fn=<MeanBackward0>), 'neigh_loss': tensor(2.8400, device='cuda:0', grad_fn=<NllLossBackward0>)}\n",
      "INFO:root:iteration 410: {'overall_loss': tensor(0.6362, device='cuda:0', grad_fn=<AddBackward0>), 'recon_loss': tensor(0.6362, device='cuda:0', grad_fn=<MseLossBackward0>), 'kl_loss': tensor(390.4788, device='cuda:0', grad_fn=<MeanBackward0>), 'neigh_loss': tensor(2.9255, device='cuda:0', grad_fn=<NllLossBackward0>)}\n",
      "INFO:root:iteration 420: {'overall_loss': tensor(0.6483, device='cuda:0', grad_fn=<AddBackward0>), 'recon_loss': tensor(0.6483, device='cuda:0', grad_fn=<MseLossBackward0>), 'kl_loss': tensor(383.1341, device='cuda:0', grad_fn=<MeanBackward0>), 'neigh_loss': tensor(2.9147, device='cuda:0', grad_fn=<NllLossBackward0>)}\n",
      "INFO:root:iteration 430: {'overall_loss': tensor(0.6101, device='cuda:0', grad_fn=<AddBackward0>), 'recon_loss': tensor(0.6101, device='cuda:0', grad_fn=<MseLossBackward0>), 'kl_loss': tensor(386.9433, device='cuda:0', grad_fn=<MeanBackward0>), 'neigh_loss': tensor(2.7905, device='cuda:0', grad_fn=<NllLossBackward0>)}\n",
      "INFO:root:iteration 440: {'overall_loss': tensor(0.6082, device='cuda:0', grad_fn=<AddBackward0>), 'recon_loss': tensor(0.6082, device='cuda:0', grad_fn=<MseLossBackward0>), 'kl_loss': tensor(377.5715, device='cuda:0', grad_fn=<MeanBackward0>), 'neigh_loss': tensor(2.8252, device='cuda:0', grad_fn=<NllLossBackward0>)}\n",
      "INFO:root:iteration 450: {'overall_loss': tensor(0.5907, device='cuda:0', grad_fn=<AddBackward0>), 'recon_loss': tensor(0.5907, device='cuda:0', grad_fn=<MseLossBackward0>), 'kl_loss': tensor(353.5446, device='cuda:0', grad_fn=<MeanBackward0>), 'neigh_loss': tensor(2.8953, device='cuda:0', grad_fn=<NllLossBackward0>)}\n",
      "INFO:root:iteration 460: {'overall_loss': tensor(0.6454, device='cuda:0', grad_fn=<AddBackward0>), 'recon_loss': tensor(0.6454, device='cuda:0', grad_fn=<MseLossBackward0>), 'kl_loss': tensor(347.4625, device='cuda:0', grad_fn=<MeanBackward0>), 'neigh_loss': tensor(2.8598, device='cuda:0', grad_fn=<NllLossBackward0>)}\n",
      "INFO:root:iteration 470: {'overall_loss': tensor(0.7896, device='cuda:0', grad_fn=<AddBackward0>), 'recon_loss': tensor(0.7896, device='cuda:0', grad_fn=<MseLossBackward0>), 'kl_loss': tensor(326.9496, device='cuda:0', grad_fn=<MeanBackward0>), 'neigh_loss': tensor(2.7720, device='cuda:0', grad_fn=<NllLossBackward0>)}\n",
      "INFO:root:iteration 480: {'overall_loss': tensor(0.5760, device='cuda:0', grad_fn=<AddBackward0>), 'recon_loss': tensor(0.5760, device='cuda:0', grad_fn=<MseLossBackward0>), 'kl_loss': tensor(349.1660, device='cuda:0', grad_fn=<MeanBackward0>), 'neigh_loss': tensor(2.9138, device='cuda:0', grad_fn=<NllLossBackward0>)}\n",
      "INFO:root:iteration 490: {'overall_loss': tensor(0.5725, device='cuda:0', grad_fn=<AddBackward0>), 'recon_loss': tensor(0.5725, device='cuda:0', grad_fn=<MseLossBackward0>), 'kl_loss': tensor(355.9512, device='cuda:0', grad_fn=<MeanBackward0>), 'neigh_loss': tensor(2.9223, device='cuda:0', grad_fn=<NllLossBackward0>)}\n",
      "INFO:root:iteration 500: {'overall_loss': tensor(0.7363, device='cuda:0', grad_fn=<AddBackward0>), 'recon_loss': tensor(0.7363, device='cuda:0', grad_fn=<MseLossBackward0>), 'kl_loss': tensor(356.9896, device='cuda:0', grad_fn=<MeanBackward0>), 'neigh_loss': tensor(2.8426, device='cuda:0', grad_fn=<NllLossBackward0>)}\n",
      "INFO:root:iteration 510: {'overall_loss': tensor(0.5769, device='cuda:0', grad_fn=<AddBackward0>), 'recon_loss': tensor(0.5769, device='cuda:0', grad_fn=<MseLossBackward0>), 'kl_loss': tensor(372.2709, device='cuda:0', grad_fn=<MeanBackward0>), 'neigh_loss': tensor(2.8863, device='cuda:0', grad_fn=<NllLossBackward0>)}\n"
     ]
    },
    {
     "name": "stderr",
     "output_type": "stream",
     "text": [
      "INFO:root:iteration 520: {'overall_loss': tensor(0.6418, device='cuda:0', grad_fn=<AddBackward0>), 'recon_loss': tensor(0.6418, device='cuda:0', grad_fn=<MseLossBackward0>), 'kl_loss': tensor(374.7055, device='cuda:0', grad_fn=<MeanBackward0>), 'neigh_loss': tensor(2.9779, device='cuda:0', grad_fn=<NllLossBackward0>)}\n",
      "INFO:root:iteration 530: {'overall_loss': tensor(0.6717, device='cuda:0', grad_fn=<AddBackward0>), 'recon_loss': tensor(0.6717, device='cuda:0', grad_fn=<MseLossBackward0>), 'kl_loss': tensor(382.3872, device='cuda:0', grad_fn=<MeanBackward0>), 'neigh_loss': tensor(2.8764, device='cuda:0', grad_fn=<NllLossBackward0>)}\n",
      "INFO:root:iteration 540: {'overall_loss': tensor(0.6547, device='cuda:0', grad_fn=<AddBackward0>), 'recon_loss': tensor(0.6547, device='cuda:0', grad_fn=<MseLossBackward0>), 'kl_loss': tensor(382.6426, device='cuda:0', grad_fn=<MeanBackward0>), 'neigh_loss': tensor(2.8337, device='cuda:0', grad_fn=<NllLossBackward0>)}\n",
      "INFO:root:iteration 550: {'overall_loss': tensor(0.5481, device='cuda:0', grad_fn=<AddBackward0>), 'recon_loss': tensor(0.5481, device='cuda:0', grad_fn=<MseLossBackward0>), 'kl_loss': tensor(377.0565, device='cuda:0', grad_fn=<MeanBackward0>), 'neigh_loss': tensor(2.8913, device='cuda:0', grad_fn=<NllLossBackward0>)}\n",
      "INFO:root:iteration 560: {'overall_loss': tensor(0.5907, device='cuda:0', grad_fn=<AddBackward0>), 'recon_loss': tensor(0.5907, device='cuda:0', grad_fn=<MseLossBackward0>), 'kl_loss': tensor(387.9550, device='cuda:0', grad_fn=<MeanBackward0>), 'neigh_loss': tensor(2.8257, device='cuda:0', grad_fn=<NllLossBackward0>)}\n",
      "INFO:root:iteration 570: {'overall_loss': tensor(0.5848, device='cuda:0', grad_fn=<AddBackward0>), 'recon_loss': tensor(0.5848, device='cuda:0', grad_fn=<MseLossBackward0>), 'kl_loss': tensor(388.7360, device='cuda:0', grad_fn=<MeanBackward0>), 'neigh_loss': tensor(2.8058, device='cuda:0', grad_fn=<NllLossBackward0>)}\n",
      "INFO:root:iteration 580: {'overall_loss': tensor(0.6457, device='cuda:0', grad_fn=<AddBackward0>), 'recon_loss': tensor(0.6457, device='cuda:0', grad_fn=<MseLossBackward0>), 'kl_loss': tensor(403.6154, device='cuda:0', grad_fn=<MeanBackward0>), 'neigh_loss': tensor(2.8673, device='cuda:0', grad_fn=<NllLossBackward0>)}\n",
      "INFO:root:iteration 590: {'overall_loss': tensor(0.6181, device='cuda:0', grad_fn=<AddBackward0>), 'recon_loss': tensor(0.6181, device='cuda:0', grad_fn=<MseLossBackward0>), 'kl_loss': tensor(416.1412, device='cuda:0', grad_fn=<MeanBackward0>), 'neigh_loss': tensor(2.8903, device='cuda:0', grad_fn=<NllLossBackward0>)}\n",
      "INFO:root:iteration 600: {'overall_loss': tensor(0.5832, device='cuda:0', grad_fn=<AddBackward0>), 'recon_loss': tensor(0.5832, device='cuda:0', grad_fn=<MseLossBackward0>), 'kl_loss': tensor(405.6384, device='cuda:0', grad_fn=<MeanBackward0>), 'neigh_loss': tensor(2.9000, device='cuda:0', grad_fn=<NllLossBackward0>)}\n",
      "INFO:root:iteration 610: {'overall_loss': tensor(0.6614, device='cuda:0', grad_fn=<AddBackward0>), 'recon_loss': tensor(0.6614, device='cuda:0', grad_fn=<MseLossBackward0>), 'kl_loss': tensor(410.9606, device='cuda:0', grad_fn=<MeanBackward0>), 'neigh_loss': tensor(2.8644, device='cuda:0', grad_fn=<NllLossBackward0>)}\n",
      "INFO:root:iteration 620: {'overall_loss': tensor(0.6728, device='cuda:0', grad_fn=<AddBackward0>), 'recon_loss': tensor(0.6728, device='cuda:0', grad_fn=<MseLossBackward0>), 'kl_loss': tensor(407.1529, device='cuda:0', grad_fn=<MeanBackward0>), 'neigh_loss': tensor(2.8761, device='cuda:0', grad_fn=<NllLossBackward0>)}\n",
      "INFO:root:iteration 630: {'overall_loss': tensor(0.5761, device='cuda:0', grad_fn=<AddBackward0>), 'recon_loss': tensor(0.5761, device='cuda:0', grad_fn=<MseLossBackward0>), 'kl_loss': tensor(420.5111, device='cuda:0', grad_fn=<MeanBackward0>), 'neigh_loss': tensor(2.8709, device='cuda:0', grad_fn=<NllLossBackward0>)}\n",
      "INFO:root:iteration 640: {'overall_loss': tensor(0.5019, device='cuda:0', grad_fn=<AddBackward0>), 'recon_loss': tensor(0.5019, device='cuda:0', grad_fn=<MseLossBackward0>), 'kl_loss': tensor(432.5979, device='cuda:0', grad_fn=<MeanBackward0>), 'neigh_loss': tensor(2.7654, device='cuda:0', grad_fn=<NllLossBackward0>)}\n",
      "INFO:root:iteration 650: {'overall_loss': tensor(0.5140, device='cuda:0', grad_fn=<AddBackward0>), 'recon_loss': tensor(0.5140, device='cuda:0', grad_fn=<MseLossBackward0>), 'kl_loss': tensor(437.3457, device='cuda:0', grad_fn=<MeanBackward0>), 'neigh_loss': tensor(2.8583, device='cuda:0', grad_fn=<NllLossBackward0>)}\n",
      "INFO:root:iteration 660: {'overall_loss': tensor(0.6643, device='cuda:0', grad_fn=<AddBackward0>), 'recon_loss': tensor(0.6643, device='cuda:0', grad_fn=<MseLossBackward0>), 'kl_loss': tensor(426.9272, device='cuda:0', grad_fn=<MeanBackward0>), 'neigh_loss': tensor(2.8286, device='cuda:0', grad_fn=<NllLossBackward0>)}\n",
      "INFO:root:iteration 670: {'overall_loss': tensor(0.7124, device='cuda:0', grad_fn=<AddBackward0>), 'recon_loss': tensor(0.7124, device='cuda:0', grad_fn=<MseLossBackward0>), 'kl_loss': tensor(419.8372, device='cuda:0', grad_fn=<MeanBackward0>), 'neigh_loss': tensor(2.9812, device='cuda:0', grad_fn=<NllLossBackward0>)}\n",
      "INFO:root:iteration 680: {'overall_loss': tensor(0.7327, device='cuda:0', grad_fn=<AddBackward0>), 'recon_loss': tensor(0.7327, device='cuda:0', grad_fn=<MseLossBackward0>), 'kl_loss': tensor(437.4309, device='cuda:0', grad_fn=<MeanBackward0>), 'neigh_loss': tensor(2.9605, device='cuda:0', grad_fn=<NllLossBackward0>)}\n",
      "INFO:root:iteration 690: {'overall_loss': tensor(0.6235, device='cuda:0', grad_fn=<AddBackward0>), 'recon_loss': tensor(0.6235, device='cuda:0', grad_fn=<MseLossBackward0>), 'kl_loss': tensor(436.6648, device='cuda:0', grad_fn=<MeanBackward0>), 'neigh_loss': tensor(2.9234, device='cuda:0', grad_fn=<NllLossBackward0>)}\n",
      "INFO:root:iteration 700: {'overall_loss': tensor(0.6984, device='cuda:0', grad_fn=<AddBackward0>), 'recon_loss': tensor(0.6984, device='cuda:0', grad_fn=<MseLossBackward0>), 'kl_loss': tensor(439.7368, device='cuda:0', grad_fn=<MeanBackward0>), 'neigh_loss': tensor(2.8006, device='cuda:0', grad_fn=<NllLossBackward0>)}\n",
      "INFO:root:iteration 710: {'overall_loss': tensor(0.5716, device='cuda:0', grad_fn=<AddBackward0>), 'recon_loss': tensor(0.5716, device='cuda:0', grad_fn=<MseLossBackward0>), 'kl_loss': tensor(441.3266, device='cuda:0', grad_fn=<MeanBackward0>), 'neigh_loss': tensor(2.8579, device='cuda:0', grad_fn=<NllLossBackward0>)}\n",
      "INFO:root:iteration 720: {'overall_loss': tensor(0.6773, device='cuda:0', grad_fn=<AddBackward0>), 'recon_loss': tensor(0.6773, device='cuda:0', grad_fn=<MseLossBackward0>), 'kl_loss': tensor(432.0112, device='cuda:0', grad_fn=<MeanBackward0>), 'neigh_loss': tensor(2.9019, device='cuda:0', grad_fn=<NllLossBackward0>)}\n",
      "INFO:root:iteration 730: {'overall_loss': tensor(0.6744, device='cuda:0', grad_fn=<AddBackward0>), 'recon_loss': tensor(0.6744, device='cuda:0', grad_fn=<MseLossBackward0>), 'kl_loss': tensor(439.8422, device='cuda:0', grad_fn=<MeanBackward0>), 'neigh_loss': tensor(2.8930, device='cuda:0', grad_fn=<NllLossBackward0>)}\n",
      "INFO:root:iteration 740: {'overall_loss': tensor(0.5109, device='cuda:0', grad_fn=<AddBackward0>), 'recon_loss': tensor(0.5109, device='cuda:0', grad_fn=<MseLossBackward0>), 'kl_loss': tensor(446.0626, device='cuda:0', grad_fn=<MeanBackward0>), 'neigh_loss': tensor(2.7766, device='cuda:0', grad_fn=<NllLossBackward0>)}\n",
      "INFO:root:iteration 750: {'overall_loss': tensor(0.6999, device='cuda:0', grad_fn=<AddBackward0>), 'recon_loss': tensor(0.6999, device='cuda:0', grad_fn=<MseLossBackward0>), 'kl_loss': tensor(447.1726, device='cuda:0', grad_fn=<MeanBackward0>), 'neigh_loss': tensor(2.8101, device='cuda:0', grad_fn=<NllLossBackward0>)}\n",
      "INFO:root:iteration 760: {'overall_loss': tensor(0.6792, device='cuda:0', grad_fn=<AddBackward0>), 'recon_loss': tensor(0.6792, device='cuda:0', grad_fn=<MseLossBackward0>), 'kl_loss': tensor(454.0828, device='cuda:0', grad_fn=<MeanBackward0>), 'neigh_loss': tensor(2.8593, device='cuda:0', grad_fn=<NllLossBackward0>)}\n",
      "INFO:root:iteration 770: {'overall_loss': tensor(0.6414, device='cuda:0', grad_fn=<AddBackward0>), 'recon_loss': tensor(0.6414, device='cuda:0', grad_fn=<MseLossBackward0>), 'kl_loss': tensor(472.5090, device='cuda:0', grad_fn=<MeanBackward0>), 'neigh_loss': tensor(2.9291, device='cuda:0', grad_fn=<NllLossBackward0>)}\n"
     ]
    },
    {
     "name": "stderr",
     "output_type": "stream",
     "text": [
      "INFO:root:iteration 780: {'overall_loss': tensor(0.6057, device='cuda:0', grad_fn=<AddBackward0>), 'recon_loss': tensor(0.6057, device='cuda:0', grad_fn=<MseLossBackward0>), 'kl_loss': tensor(483.2999, device='cuda:0', grad_fn=<MeanBackward0>), 'neigh_loss': tensor(2.9623, device='cuda:0', grad_fn=<NllLossBackward0>)}\n",
      "INFO:root:iteration 790: {'overall_loss': tensor(0.5436, device='cuda:0', grad_fn=<AddBackward0>), 'recon_loss': tensor(0.5436, device='cuda:0', grad_fn=<MseLossBackward0>), 'kl_loss': tensor(481.9367, device='cuda:0', grad_fn=<MeanBackward0>), 'neigh_loss': tensor(2.9604, device='cuda:0', grad_fn=<NllLossBackward0>)}\n",
      "INFO:root:iteration 800: {'overall_loss': tensor(0.6306, device='cuda:0', grad_fn=<AddBackward0>), 'recon_loss': tensor(0.6306, device='cuda:0', grad_fn=<MseLossBackward0>), 'kl_loss': tensor(495.4558, device='cuda:0', grad_fn=<MeanBackward0>), 'neigh_loss': tensor(2.8244, device='cuda:0', grad_fn=<NllLossBackward0>)}\n",
      "INFO:root:iteration 810: {'overall_loss': tensor(0.6427, device='cuda:0', grad_fn=<AddBackward0>), 'recon_loss': tensor(0.6427, device='cuda:0', grad_fn=<MseLossBackward0>), 'kl_loss': tensor(490.4477, device='cuda:0', grad_fn=<MeanBackward0>), 'neigh_loss': tensor(2.7989, device='cuda:0', grad_fn=<NllLossBackward0>)}\n",
      "INFO:root:iteration 820: {'overall_loss': tensor(0.6333, device='cuda:0', grad_fn=<AddBackward0>), 'recon_loss': tensor(0.6333, device='cuda:0', grad_fn=<MseLossBackward0>), 'kl_loss': tensor(480.1011, device='cuda:0', grad_fn=<MeanBackward0>), 'neigh_loss': tensor(2.9001, device='cuda:0', grad_fn=<NllLossBackward0>)}\n",
      "INFO:root:iteration 830: {'overall_loss': tensor(0.6308, device='cuda:0', grad_fn=<AddBackward0>), 'recon_loss': tensor(0.6308, device='cuda:0', grad_fn=<MseLossBackward0>), 'kl_loss': tensor(493.6027, device='cuda:0', grad_fn=<MeanBackward0>), 'neigh_loss': tensor(2.9519, device='cuda:0', grad_fn=<NllLossBackward0>)}\n",
      "INFO:root:iteration 840: {'overall_loss': tensor(0.6870, device='cuda:0', grad_fn=<AddBackward0>), 'recon_loss': tensor(0.6870, device='cuda:0', grad_fn=<MseLossBackward0>), 'kl_loss': tensor(487.0134, device='cuda:0', grad_fn=<MeanBackward0>), 'neigh_loss': tensor(2.7871, device='cuda:0', grad_fn=<NllLossBackward0>)}\n",
      "INFO:root:iteration 850: {'overall_loss': tensor(0.6585, device='cuda:0', grad_fn=<AddBackward0>), 'recon_loss': tensor(0.6585, device='cuda:0', grad_fn=<MseLossBackward0>), 'kl_loss': tensor(492.1625, device='cuda:0', grad_fn=<MeanBackward0>), 'neigh_loss': tensor(3.0101, device='cuda:0', grad_fn=<NllLossBackward0>)}\n",
      "INFO:root:iteration 860: {'overall_loss': tensor(0.6055, device='cuda:0', grad_fn=<AddBackward0>), 'recon_loss': tensor(0.6055, device='cuda:0', grad_fn=<MseLossBackward0>), 'kl_loss': tensor(502.5920, device='cuda:0', grad_fn=<MeanBackward0>), 'neigh_loss': tensor(2.9243, device='cuda:0', grad_fn=<NllLossBackward0>)}\n",
      "INFO:root:iteration 870: {'overall_loss': tensor(0.6387, device='cuda:0', grad_fn=<AddBackward0>), 'recon_loss': tensor(0.6387, device='cuda:0', grad_fn=<MseLossBackward0>), 'kl_loss': tensor(489.4527, device='cuda:0', grad_fn=<MeanBackward0>), 'neigh_loss': tensor(2.8445, device='cuda:0', grad_fn=<NllLossBackward0>)}\n",
      "INFO:root:iteration 880: {'overall_loss': tensor(0.5521, device='cuda:0', grad_fn=<AddBackward0>), 'recon_loss': tensor(0.5521, device='cuda:0', grad_fn=<MseLossBackward0>), 'kl_loss': tensor(503.6724, device='cuda:0', grad_fn=<MeanBackward0>), 'neigh_loss': tensor(2.8009, device='cuda:0', grad_fn=<NllLossBackward0>)}\n",
      "INFO:root:iteration 890: {'overall_loss': tensor(0.6180, device='cuda:0', grad_fn=<AddBackward0>), 'recon_loss': tensor(0.6180, device='cuda:0', grad_fn=<MseLossBackward0>), 'kl_loss': tensor(498.7974, device='cuda:0', grad_fn=<MeanBackward0>), 'neigh_loss': tensor(2.9533, device='cuda:0', grad_fn=<NllLossBackward0>)}\n",
      "INFO:root:iteration 900: {'overall_loss': tensor(0.7187, device='cuda:0', grad_fn=<AddBackward0>), 'recon_loss': tensor(0.7187, device='cuda:0', grad_fn=<MseLossBackward0>), 'kl_loss': tensor(508.1369, device='cuda:0', grad_fn=<MeanBackward0>), 'neigh_loss': tensor(2.8958, device='cuda:0', grad_fn=<NllLossBackward0>)}\n",
      "INFO:root:iteration 910: {'overall_loss': tensor(0.4941, device='cuda:0', grad_fn=<AddBackward0>), 'recon_loss': tensor(0.4941, device='cuda:0', grad_fn=<MseLossBackward0>), 'kl_loss': tensor(500.9478, device='cuda:0', grad_fn=<MeanBackward0>), 'neigh_loss': tensor(2.8281, device='cuda:0', grad_fn=<NllLossBackward0>)}\n",
      "INFO:root:iteration 920: {'overall_loss': tensor(0.6592, device='cuda:0', grad_fn=<AddBackward0>), 'recon_loss': tensor(0.6592, device='cuda:0', grad_fn=<MseLossBackward0>), 'kl_loss': tensor(512.6576, device='cuda:0', grad_fn=<MeanBackward0>), 'neigh_loss': tensor(2.9206, device='cuda:0', grad_fn=<NllLossBackward0>)}\n",
      "INFO:root:iteration 930: {'overall_loss': tensor(0.6063, device='cuda:0', grad_fn=<AddBackward0>), 'recon_loss': tensor(0.6063, device='cuda:0', grad_fn=<MseLossBackward0>), 'kl_loss': tensor(507.8601, device='cuda:0', grad_fn=<MeanBackward0>), 'neigh_loss': tensor(2.8003, device='cuda:0', grad_fn=<NllLossBackward0>)}\n",
      "INFO:root:iteration 940: {'overall_loss': tensor(0.5769, device='cuda:0', grad_fn=<AddBackward0>), 'recon_loss': tensor(0.5769, device='cuda:0', grad_fn=<MseLossBackward0>), 'kl_loss': tensor(514.2900, device='cuda:0', grad_fn=<MeanBackward0>), 'neigh_loss': tensor(2.8449, device='cuda:0', grad_fn=<NllLossBackward0>)}\n",
      "INFO:root:iteration 950: {'overall_loss': tensor(0.6111, device='cuda:0', grad_fn=<AddBackward0>), 'recon_loss': tensor(0.6111, device='cuda:0', grad_fn=<MseLossBackward0>), 'kl_loss': tensor(517.2410, device='cuda:0', grad_fn=<MeanBackward0>), 'neigh_loss': tensor(2.9548, device='cuda:0', grad_fn=<NllLossBackward0>)}\n",
      "INFO:root:iteration 960: {'overall_loss': tensor(0.6508, device='cuda:0', grad_fn=<AddBackward0>), 'recon_loss': tensor(0.6508, device='cuda:0', grad_fn=<MseLossBackward0>), 'kl_loss': tensor(509.3499, device='cuda:0', grad_fn=<MeanBackward0>), 'neigh_loss': tensor(2.9365, device='cuda:0', grad_fn=<NllLossBackward0>)}\n",
      "INFO:root:iteration 970: {'overall_loss': tensor(0.7207, device='cuda:0', grad_fn=<AddBackward0>), 'recon_loss': tensor(0.7207, device='cuda:0', grad_fn=<MseLossBackward0>), 'kl_loss': tensor(507.7239, device='cuda:0', grad_fn=<MeanBackward0>), 'neigh_loss': tensor(2.8371, device='cuda:0', grad_fn=<NllLossBackward0>)}\n",
      "INFO:root:iteration 980: {'overall_loss': tensor(0.6836, device='cuda:0', grad_fn=<AddBackward0>), 'recon_loss': tensor(0.6836, device='cuda:0', grad_fn=<MseLossBackward0>), 'kl_loss': tensor(520.8842, device='cuda:0', grad_fn=<MeanBackward0>), 'neigh_loss': tensor(2.9292, device='cuda:0', grad_fn=<NllLossBackward0>)}\n",
      "INFO:root:iteration 990: {'overall_loss': tensor(0.6475, device='cuda:0', grad_fn=<AddBackward0>), 'recon_loss': tensor(0.6475, device='cuda:0', grad_fn=<MseLossBackward0>), 'kl_loss': tensor(520.1923, device='cuda:0', grad_fn=<MeanBackward0>), 'neigh_loss': tensor(2.9367, device='cuda:0', grad_fn=<NllLossBackward0>)}\n",
      "INFO:root:iteration 1000: {'overall_loss': tensor(0.6157, device='cuda:0', grad_fn=<AddBackward0>), 'recon_loss': tensor(0.6157, device='cuda:0', grad_fn=<MseLossBackward0>), 'kl_loss': tensor(511.2657, device='cuda:0', grad_fn=<MeanBackward0>), 'neigh_loss': tensor(2.8223, device='cuda:0', grad_fn=<NllLossBackward0>)}\n",
      "INFO:root:saving checkpoint to /data/estorrs/mushroom/data/projects/xenium_grant/mushroom/S18-25943_xenium/outputs/chkpts/1000iter.pt\n",
      "INFO:root:iteration 1010: {'overall_loss': tensor(0.6274, device='cuda:0', grad_fn=<AddBackward0>), 'recon_loss': tensor(0.6274, device='cuda:0', grad_fn=<MseLossBackward0>), 'kl_loss': tensor(518.2773, device='cuda:0', grad_fn=<MeanBackward0>), 'neigh_loss': tensor(2.9106, device='cuda:0', grad_fn=<NllLossBackward0>)}\n",
      "INFO:root:iteration 1020: {'overall_loss': tensor(0.6048, device='cuda:0', grad_fn=<AddBackward0>), 'recon_loss': tensor(0.6048, device='cuda:0', grad_fn=<MseLossBackward0>), 'kl_loss': tensor(516.2559, device='cuda:0', grad_fn=<MeanBackward0>), 'neigh_loss': tensor(2.8161, device='cuda:0', grad_fn=<NllLossBackward0>)}\n",
      "INFO:root:iteration 1030: {'overall_loss': tensor(0.6956, device='cuda:0', grad_fn=<AddBackward0>), 'recon_loss': tensor(0.6956, device='cuda:0', grad_fn=<MseLossBackward0>), 'kl_loss': tensor(519.8763, device='cuda:0', grad_fn=<MeanBackward0>), 'neigh_loss': tensor(3.0213, device='cuda:0', grad_fn=<NllLossBackward0>)}\n"
     ]
    },
    {
     "name": "stderr",
     "output_type": "stream",
     "text": [
      "INFO:root:iteration 1040: {'overall_loss': tensor(0.5849, device='cuda:0', grad_fn=<AddBackward0>), 'recon_loss': tensor(0.5849, device='cuda:0', grad_fn=<MseLossBackward0>), 'kl_loss': tensor(515.6862, device='cuda:0', grad_fn=<MeanBackward0>), 'neigh_loss': tensor(2.8440, device='cuda:0', grad_fn=<NllLossBackward0>)}\n",
      "INFO:root:iteration 1050: {'overall_loss': tensor(0.6398, device='cuda:0', grad_fn=<AddBackward0>), 'recon_loss': tensor(0.6398, device='cuda:0', grad_fn=<MseLossBackward0>), 'kl_loss': tensor(517.7955, device='cuda:0', grad_fn=<MeanBackward0>), 'neigh_loss': tensor(2.9483, device='cuda:0', grad_fn=<NllLossBackward0>)}\n",
      "INFO:root:iteration 1060: {'overall_loss': tensor(0.5140, device='cuda:0', grad_fn=<AddBackward0>), 'recon_loss': tensor(0.5140, device='cuda:0', grad_fn=<MseLossBackward0>), 'kl_loss': tensor(510.7002, device='cuda:0', grad_fn=<MeanBackward0>), 'neigh_loss': tensor(2.8744, device='cuda:0', grad_fn=<NllLossBackward0>)}\n",
      "INFO:root:iteration 1070: {'overall_loss': tensor(0.6135, device='cuda:0', grad_fn=<AddBackward0>), 'recon_loss': tensor(0.6135, device='cuda:0', grad_fn=<MseLossBackward0>), 'kl_loss': tensor(530.5919, device='cuda:0', grad_fn=<MeanBackward0>), 'neigh_loss': tensor(2.8963, device='cuda:0', grad_fn=<NllLossBackward0>)}\n",
      "INFO:root:iteration 1080: {'overall_loss': tensor(0.5678, device='cuda:0', grad_fn=<AddBackward0>), 'recon_loss': tensor(0.5678, device='cuda:0', grad_fn=<MseLossBackward0>), 'kl_loss': tensor(522.8156, device='cuda:0', grad_fn=<MeanBackward0>), 'neigh_loss': tensor(2.9397, device='cuda:0', grad_fn=<NllLossBackward0>)}\n",
      "INFO:root:iteration 1090: {'overall_loss': tensor(0.5922, device='cuda:0', grad_fn=<AddBackward0>), 'recon_loss': tensor(0.5922, device='cuda:0', grad_fn=<MseLossBackward0>), 'kl_loss': tensor(513.4879, device='cuda:0', grad_fn=<MeanBackward0>), 'neigh_loss': tensor(2.8863, device='cuda:0', grad_fn=<NllLossBackward0>)}\n",
      "INFO:root:iteration 1100: {'overall_loss': tensor(0.5979, device='cuda:0', grad_fn=<AddBackward0>), 'recon_loss': tensor(0.5979, device='cuda:0', grad_fn=<MseLossBackward0>), 'kl_loss': tensor(536.3149, device='cuda:0', grad_fn=<MeanBackward0>), 'neigh_loss': tensor(2.8474, device='cuda:0', grad_fn=<NllLossBackward0>)}\n",
      "INFO:root:iteration 1110: {'overall_loss': tensor(0.7432, device='cuda:0', grad_fn=<AddBackward0>), 'recon_loss': tensor(0.7432, device='cuda:0', grad_fn=<MseLossBackward0>), 'kl_loss': tensor(561.8123, device='cuda:0', grad_fn=<MeanBackward0>), 'neigh_loss': tensor(2.9327, device='cuda:0', grad_fn=<NllLossBackward0>)}\n",
      "INFO:root:iteration 1120: {'overall_loss': tensor(0.6420, device='cuda:0', grad_fn=<AddBackward0>), 'recon_loss': tensor(0.6420, device='cuda:0', grad_fn=<MseLossBackward0>), 'kl_loss': tensor(547.6655, device='cuda:0', grad_fn=<MeanBackward0>), 'neigh_loss': tensor(2.9539, device='cuda:0', grad_fn=<NllLossBackward0>)}\n",
      "INFO:root:iteration 1130: {'overall_loss': tensor(0.5849, device='cuda:0', grad_fn=<AddBackward0>), 'recon_loss': tensor(0.5849, device='cuda:0', grad_fn=<MseLossBackward0>), 'kl_loss': tensor(541.7747, device='cuda:0', grad_fn=<MeanBackward0>), 'neigh_loss': tensor(2.9535, device='cuda:0', grad_fn=<NllLossBackward0>)}\n",
      "INFO:root:iteration 1140: {'overall_loss': tensor(0.7194, device='cuda:0', grad_fn=<AddBackward0>), 'recon_loss': tensor(0.7194, device='cuda:0', grad_fn=<MseLossBackward0>), 'kl_loss': tensor(547.5627, device='cuda:0', grad_fn=<MeanBackward0>), 'neigh_loss': tensor(2.8783, device='cuda:0', grad_fn=<NllLossBackward0>)}\n",
      "INFO:root:iteration 1150: {'overall_loss': tensor(0.5293, device='cuda:0', grad_fn=<AddBackward0>), 'recon_loss': tensor(0.5293, device='cuda:0', grad_fn=<MseLossBackward0>), 'kl_loss': tensor(551.5946, device='cuda:0', grad_fn=<MeanBackward0>), 'neigh_loss': tensor(2.8019, device='cuda:0', grad_fn=<NllLossBackward0>)}\n",
      "INFO:root:iteration 1160: {'overall_loss': tensor(0.6174, device='cuda:0', grad_fn=<AddBackward0>), 'recon_loss': tensor(0.6174, device='cuda:0', grad_fn=<MseLossBackward0>), 'kl_loss': tensor(553.1318, device='cuda:0', grad_fn=<MeanBackward0>), 'neigh_loss': tensor(2.9569, device='cuda:0', grad_fn=<NllLossBackward0>)}\n",
      "INFO:root:iteration 1170: {'overall_loss': tensor(0.5822, device='cuda:0', grad_fn=<AddBackward0>), 'recon_loss': tensor(0.5822, device='cuda:0', grad_fn=<MseLossBackward0>), 'kl_loss': tensor(552.0823, device='cuda:0', grad_fn=<MeanBackward0>), 'neigh_loss': tensor(2.8436, device='cuda:0', grad_fn=<NllLossBackward0>)}\n",
      "INFO:root:iteration 1180: {'overall_loss': tensor(0.5807, device='cuda:0', grad_fn=<AddBackward0>), 'recon_loss': tensor(0.5807, device='cuda:0', grad_fn=<MseLossBackward0>), 'kl_loss': tensor(561.3961, device='cuda:0', grad_fn=<MeanBackward0>), 'neigh_loss': tensor(2.8751, device='cuda:0', grad_fn=<NllLossBackward0>)}\n",
      "INFO:root:iteration 1190: {'overall_loss': tensor(0.6341, device='cuda:0', grad_fn=<AddBackward0>), 'recon_loss': tensor(0.6341, device='cuda:0', grad_fn=<MseLossBackward0>), 'kl_loss': tensor(559.9361, device='cuda:0', grad_fn=<MeanBackward0>), 'neigh_loss': tensor(2.8596, device='cuda:0', grad_fn=<NllLossBackward0>)}\n",
      "INFO:root:iteration 1200: {'overall_loss': tensor(0.6052, device='cuda:0', grad_fn=<AddBackward0>), 'recon_loss': tensor(0.6052, device='cuda:0', grad_fn=<MseLossBackward0>), 'kl_loss': tensor(563.3760, device='cuda:0', grad_fn=<MeanBackward0>), 'neigh_loss': tensor(2.8870, device='cuda:0', grad_fn=<NllLossBackward0>)}\n",
      "INFO:root:iteration 1210: {'overall_loss': tensor(0.6565, device='cuda:0', grad_fn=<AddBackward0>), 'recon_loss': tensor(0.6565, device='cuda:0', grad_fn=<MseLossBackward0>), 'kl_loss': tensor(548.2665, device='cuda:0', grad_fn=<MeanBackward0>), 'neigh_loss': tensor(2.8781, device='cuda:0', grad_fn=<NllLossBackward0>)}\n",
      "INFO:root:iteration 1220: {'overall_loss': tensor(0.5829, device='cuda:0', grad_fn=<AddBackward0>), 'recon_loss': tensor(0.5829, device='cuda:0', grad_fn=<MseLossBackward0>), 'kl_loss': tensor(558.5631, device='cuda:0', grad_fn=<MeanBackward0>), 'neigh_loss': tensor(2.8022, device='cuda:0', grad_fn=<NllLossBackward0>)}\n",
      "INFO:root:iteration 1230: {'overall_loss': tensor(0.5826, device='cuda:0', grad_fn=<AddBackward0>), 'recon_loss': tensor(0.5826, device='cuda:0', grad_fn=<MseLossBackward0>), 'kl_loss': tensor(567.8536, device='cuda:0', grad_fn=<MeanBackward0>), 'neigh_loss': tensor(2.8595, device='cuda:0', grad_fn=<NllLossBackward0>)}\n",
      "INFO:root:iteration 1240: {'overall_loss': tensor(0.6128, device='cuda:0', grad_fn=<AddBackward0>), 'recon_loss': tensor(0.6128, device='cuda:0', grad_fn=<MseLossBackward0>), 'kl_loss': tensor(553.3571, device='cuda:0', grad_fn=<MeanBackward0>), 'neigh_loss': tensor(2.7806, device='cuda:0', grad_fn=<NllLossBackward0>)}\n",
      "INFO:root:iteration 1250: {'overall_loss': tensor(0.6474, device='cuda:0', grad_fn=<AddBackward0>), 'recon_loss': tensor(0.6474, device='cuda:0', grad_fn=<MseLossBackward0>), 'kl_loss': tensor(558.7090, device='cuda:0', grad_fn=<MeanBackward0>), 'neigh_loss': tensor(2.8808, device='cuda:0', grad_fn=<NllLossBackward0>)}\n",
      "INFO:root:iteration 1260: {'overall_loss': tensor(0.6380, device='cuda:0', grad_fn=<AddBackward0>), 'recon_loss': tensor(0.6380, device='cuda:0', grad_fn=<MseLossBackward0>), 'kl_loss': tensor(558.5255, device='cuda:0', grad_fn=<MeanBackward0>), 'neigh_loss': tensor(3.0144, device='cuda:0', grad_fn=<NllLossBackward0>)}\n",
      "INFO:root:iteration 1270: {'overall_loss': tensor(0.5953, device='cuda:0', grad_fn=<AddBackward0>), 'recon_loss': tensor(0.5953, device='cuda:0', grad_fn=<MseLossBackward0>), 'kl_loss': tensor(562.3033, device='cuda:0', grad_fn=<MeanBackward0>), 'neigh_loss': tensor(2.8986, device='cuda:0', grad_fn=<NllLossBackward0>)}\n",
      "INFO:root:iteration 1280: {'overall_loss': tensor(0.6228, device='cuda:0', grad_fn=<AddBackward0>), 'recon_loss': tensor(0.6228, device='cuda:0', grad_fn=<MseLossBackward0>), 'kl_loss': tensor(546.0010, device='cuda:0', grad_fn=<MeanBackward0>), 'neigh_loss': tensor(2.8770, device='cuda:0', grad_fn=<NllLossBackward0>)}\n",
      "INFO:root:iteration 1290: {'overall_loss': tensor(0.6124, device='cuda:0', grad_fn=<AddBackward0>), 'recon_loss': tensor(0.6124, device='cuda:0', grad_fn=<MseLossBackward0>), 'kl_loss': tensor(551.4334, device='cuda:0', grad_fn=<MeanBackward0>), 'neigh_loss': tensor(2.8892, device='cuda:0', grad_fn=<NllLossBackward0>)}\n"
     ]
    },
    {
     "name": "stderr",
     "output_type": "stream",
     "text": [
      "INFO:root:iteration 1300: {'overall_loss': tensor(0.6790, device='cuda:0', grad_fn=<AddBackward0>), 'recon_loss': tensor(0.6790, device='cuda:0', grad_fn=<MseLossBackward0>), 'kl_loss': tensor(563.3262, device='cuda:0', grad_fn=<MeanBackward0>), 'neigh_loss': tensor(3.0074, device='cuda:0', grad_fn=<NllLossBackward0>)}\n",
      "INFO:root:iteration 1310: {'overall_loss': tensor(0.4966, device='cuda:0', grad_fn=<AddBackward0>), 'recon_loss': tensor(0.4966, device='cuda:0', grad_fn=<MseLossBackward0>), 'kl_loss': tensor(578.4053, device='cuda:0', grad_fn=<MeanBackward0>), 'neigh_loss': tensor(2.8053, device='cuda:0', grad_fn=<NllLossBackward0>)}\n",
      "INFO:root:iteration 1320: {'overall_loss': tensor(0.6815, device='cuda:0', grad_fn=<AddBackward0>), 'recon_loss': tensor(0.6815, device='cuda:0', grad_fn=<MseLossBackward0>), 'kl_loss': tensor(569.0769, device='cuda:0', grad_fn=<MeanBackward0>), 'neigh_loss': tensor(2.9520, device='cuda:0', grad_fn=<NllLossBackward0>)}\n",
      "INFO:root:iteration 1330: {'overall_loss': tensor(0.5656, device='cuda:0', grad_fn=<AddBackward0>), 'recon_loss': tensor(0.5656, device='cuda:0', grad_fn=<MseLossBackward0>), 'kl_loss': tensor(568.9457, device='cuda:0', grad_fn=<MeanBackward0>), 'neigh_loss': tensor(2.8753, device='cuda:0', grad_fn=<NllLossBackward0>)}\n",
      "INFO:root:iteration 1340: {'overall_loss': tensor(0.5855, device='cuda:0', grad_fn=<AddBackward0>), 'recon_loss': tensor(0.5855, device='cuda:0', grad_fn=<MseLossBackward0>), 'kl_loss': tensor(566.0674, device='cuda:0', grad_fn=<MeanBackward0>), 'neigh_loss': tensor(2.8703, device='cuda:0', grad_fn=<NllLossBackward0>)}\n",
      "INFO:root:iteration 1350: {'overall_loss': tensor(0.6506, device='cuda:0', grad_fn=<AddBackward0>), 'recon_loss': tensor(0.6506, device='cuda:0', grad_fn=<MseLossBackward0>), 'kl_loss': tensor(552.2697, device='cuda:0', grad_fn=<MeanBackward0>), 'neigh_loss': tensor(2.8614, device='cuda:0', grad_fn=<NllLossBackward0>)}\n",
      "INFO:root:iteration 1360: {'overall_loss': tensor(0.6301, device='cuda:0', grad_fn=<AddBackward0>), 'recon_loss': tensor(0.6301, device='cuda:0', grad_fn=<MseLossBackward0>), 'kl_loss': tensor(542.9893, device='cuda:0', grad_fn=<MeanBackward0>), 'neigh_loss': tensor(2.8488, device='cuda:0', grad_fn=<NllLossBackward0>)}\n",
      "INFO:root:iteration 1370: {'overall_loss': tensor(0.6875, device='cuda:0', grad_fn=<AddBackward0>), 'recon_loss': tensor(0.6875, device='cuda:0', grad_fn=<MseLossBackward0>), 'kl_loss': tensor(552.1986, device='cuda:0', grad_fn=<MeanBackward0>), 'neigh_loss': tensor(2.9101, device='cuda:0', grad_fn=<NllLossBackward0>)}\n",
      "INFO:root:iteration 1380: {'overall_loss': tensor(0.5409, device='cuda:0', grad_fn=<AddBackward0>), 'recon_loss': tensor(0.5409, device='cuda:0', grad_fn=<MseLossBackward0>), 'kl_loss': tensor(553.7402, device='cuda:0', grad_fn=<MeanBackward0>), 'neigh_loss': tensor(2.8318, device='cuda:0', grad_fn=<NllLossBackward0>)}\n",
      "INFO:root:iteration 1390: {'overall_loss': tensor(0.5436, device='cuda:0', grad_fn=<AddBackward0>), 'recon_loss': tensor(0.5436, device='cuda:0', grad_fn=<MseLossBackward0>), 'kl_loss': tensor(558.1530, device='cuda:0', grad_fn=<MeanBackward0>), 'neigh_loss': tensor(2.9330, device='cuda:0', grad_fn=<NllLossBackward0>)}\n",
      "INFO:root:iteration 1400: {'overall_loss': tensor(0.6454, device='cuda:0', grad_fn=<AddBackward0>), 'recon_loss': tensor(0.6454, device='cuda:0', grad_fn=<MseLossBackward0>), 'kl_loss': tensor(570.1932, device='cuda:0', grad_fn=<MeanBackward0>), 'neigh_loss': tensor(3.0366, device='cuda:0', grad_fn=<NllLossBackward0>)}\n",
      "INFO:root:iteration 1410: {'overall_loss': tensor(0.5309, device='cuda:0', grad_fn=<AddBackward0>), 'recon_loss': tensor(0.5309, device='cuda:0', grad_fn=<MseLossBackward0>), 'kl_loss': tensor(574.0714, device='cuda:0', grad_fn=<MeanBackward0>), 'neigh_loss': tensor(2.8737, device='cuda:0', grad_fn=<NllLossBackward0>)}\n",
      "INFO:root:iteration 1420: {'overall_loss': tensor(0.5909, device='cuda:0', grad_fn=<AddBackward0>), 'recon_loss': tensor(0.5909, device='cuda:0', grad_fn=<MseLossBackward0>), 'kl_loss': tensor(570.6938, device='cuda:0', grad_fn=<MeanBackward0>), 'neigh_loss': tensor(2.8766, device='cuda:0', grad_fn=<NllLossBackward0>)}\n",
      "INFO:root:iteration 1430: {'overall_loss': tensor(0.5110, device='cuda:0', grad_fn=<AddBackward0>), 'recon_loss': tensor(0.5110, device='cuda:0', grad_fn=<MseLossBackward0>), 'kl_loss': tensor(560.3642, device='cuda:0', grad_fn=<MeanBackward0>), 'neigh_loss': tensor(2.8936, device='cuda:0', grad_fn=<NllLossBackward0>)}\n",
      "INFO:root:iteration 1440: {'overall_loss': tensor(0.6498, device='cuda:0', grad_fn=<AddBackward0>), 'recon_loss': tensor(0.6498, device='cuda:0', grad_fn=<MseLossBackward0>), 'kl_loss': tensor(568.9286, device='cuda:0', grad_fn=<MeanBackward0>), 'neigh_loss': tensor(2.9570, device='cuda:0', grad_fn=<NllLossBackward0>)}\n",
      "INFO:root:iteration 1450: {'overall_loss': tensor(0.6177, device='cuda:0', grad_fn=<AddBackward0>), 'recon_loss': tensor(0.6177, device='cuda:0', grad_fn=<MseLossBackward0>), 'kl_loss': tensor(555.3387, device='cuda:0', grad_fn=<MeanBackward0>), 'neigh_loss': tensor(2.9169, device='cuda:0', grad_fn=<NllLossBackward0>)}\n",
      "INFO:root:iteration 1460: {'overall_loss': tensor(0.6166, device='cuda:0', grad_fn=<AddBackward0>), 'recon_loss': tensor(0.6166, device='cuda:0', grad_fn=<MseLossBackward0>), 'kl_loss': tensor(569.5640, device='cuda:0', grad_fn=<MeanBackward0>), 'neigh_loss': tensor(2.8396, device='cuda:0', grad_fn=<NllLossBackward0>)}\n",
      "INFO:root:iteration 1470: {'overall_loss': tensor(0.6416, device='cuda:0', grad_fn=<AddBackward0>), 'recon_loss': tensor(0.6416, device='cuda:0', grad_fn=<MseLossBackward0>), 'kl_loss': tensor(581.1729, device='cuda:0', grad_fn=<MeanBackward0>), 'neigh_loss': tensor(2.9020, device='cuda:0', grad_fn=<NllLossBackward0>)}\n",
      "INFO:root:iteration 1480: {'overall_loss': tensor(0.5823, device='cuda:0', grad_fn=<AddBackward0>), 'recon_loss': tensor(0.5823, device='cuda:0', grad_fn=<MseLossBackward0>), 'kl_loss': tensor(557.9310, device='cuda:0', grad_fn=<MeanBackward0>), 'neigh_loss': tensor(2.9047, device='cuda:0', grad_fn=<NllLossBackward0>)}\n",
      "INFO:root:iteration 1490: {'overall_loss': tensor(0.6929, device='cuda:0', grad_fn=<AddBackward0>), 'recon_loss': tensor(0.6929, device='cuda:0', grad_fn=<MseLossBackward0>), 'kl_loss': tensor(552.3112, device='cuda:0', grad_fn=<MeanBackward0>), 'neigh_loss': tensor(2.9630, device='cuda:0', grad_fn=<NllLossBackward0>)}\n",
      "INFO:root:iteration 1500: {'overall_loss': tensor(0.6215, device='cuda:0', grad_fn=<AddBackward0>), 'recon_loss': tensor(0.6215, device='cuda:0', grad_fn=<MseLossBackward0>), 'kl_loss': tensor(567.5338, device='cuda:0', grad_fn=<MeanBackward0>), 'neigh_loss': tensor(2.9611, device='cuda:0', grad_fn=<NllLossBackward0>)}\n",
      "INFO:root:iteration 1510: {'overall_loss': tensor(0.6574, device='cuda:0', grad_fn=<AddBackward0>), 'recon_loss': tensor(0.6574, device='cuda:0', grad_fn=<MseLossBackward0>), 'kl_loss': tensor(572.2823, device='cuda:0', grad_fn=<MeanBackward0>), 'neigh_loss': tensor(2.9574, device='cuda:0', grad_fn=<NllLossBackward0>)}\n",
      "INFO:root:iteration 1520: {'overall_loss': tensor(0.6308, device='cuda:0', grad_fn=<AddBackward0>), 'recon_loss': tensor(0.6308, device='cuda:0', grad_fn=<MseLossBackward0>), 'kl_loss': tensor(580.1298, device='cuda:0', grad_fn=<MeanBackward0>), 'neigh_loss': tensor(2.9309, device='cuda:0', grad_fn=<NllLossBackward0>)}\n",
      "INFO:root:iteration 1530: {'overall_loss': tensor(0.5706, device='cuda:0', grad_fn=<AddBackward0>), 'recon_loss': tensor(0.5706, device='cuda:0', grad_fn=<MseLossBackward0>), 'kl_loss': tensor(598.9941, device='cuda:0', grad_fn=<MeanBackward0>), 'neigh_loss': tensor(2.9431, device='cuda:0', grad_fn=<NllLossBackward0>)}\n",
      "INFO:root:iteration 1540: {'overall_loss': tensor(0.7120, device='cuda:0', grad_fn=<AddBackward0>), 'recon_loss': tensor(0.7120, device='cuda:0', grad_fn=<MseLossBackward0>), 'kl_loss': tensor(585.2343, device='cuda:0', grad_fn=<MeanBackward0>), 'neigh_loss': tensor(2.9959, device='cuda:0', grad_fn=<NllLossBackward0>)}\n",
      "INFO:root:iteration 1550: {'overall_loss': tensor(0.6468, device='cuda:0', grad_fn=<AddBackward0>), 'recon_loss': tensor(0.6468, device='cuda:0', grad_fn=<MseLossBackward0>), 'kl_loss': tensor(568.8696, device='cuda:0', grad_fn=<MeanBackward0>), 'neigh_loss': tensor(2.8559, device='cuda:0', grad_fn=<NllLossBackward0>)}\n"
     ]
    },
    {
     "name": "stderr",
     "output_type": "stream",
     "text": [
      "INFO:root:iteration 1560: {'overall_loss': tensor(0.4567, device='cuda:0', grad_fn=<AddBackward0>), 'recon_loss': tensor(0.4567, device='cuda:0', grad_fn=<MseLossBackward0>), 'kl_loss': tensor(555.2424, device='cuda:0', grad_fn=<MeanBackward0>), 'neigh_loss': tensor(2.7507, device='cuda:0', grad_fn=<NllLossBackward0>)}\n",
      "INFO:root:iteration 1570: {'overall_loss': tensor(0.5632, device='cuda:0', grad_fn=<AddBackward0>), 'recon_loss': tensor(0.5632, device='cuda:0', grad_fn=<MseLossBackward0>), 'kl_loss': tensor(558.2698, device='cuda:0', grad_fn=<MeanBackward0>), 'neigh_loss': tensor(2.8613, device='cuda:0', grad_fn=<NllLossBackward0>)}\n",
      "INFO:root:iteration 1580: {'overall_loss': tensor(0.6085, device='cuda:0', grad_fn=<AddBackward0>), 'recon_loss': tensor(0.6085, device='cuda:0', grad_fn=<MseLossBackward0>), 'kl_loss': tensor(566.1093, device='cuda:0', grad_fn=<MeanBackward0>), 'neigh_loss': tensor(2.8814, device='cuda:0', grad_fn=<NllLossBackward0>)}\n",
      "INFO:root:iteration 1590: {'overall_loss': tensor(0.6027, device='cuda:0', grad_fn=<AddBackward0>), 'recon_loss': tensor(0.6027, device='cuda:0', grad_fn=<MseLossBackward0>), 'kl_loss': tensor(572.8848, device='cuda:0', grad_fn=<MeanBackward0>), 'neigh_loss': tensor(2.9307, device='cuda:0', grad_fn=<NllLossBackward0>)}\n",
      "INFO:root:iteration 1600: {'overall_loss': tensor(0.6881, device='cuda:0', grad_fn=<AddBackward0>), 'recon_loss': tensor(0.6881, device='cuda:0', grad_fn=<MseLossBackward0>), 'kl_loss': tensor(558.1024, device='cuda:0', grad_fn=<MeanBackward0>), 'neigh_loss': tensor(2.8874, device='cuda:0', grad_fn=<NllLossBackward0>)}\n",
      "INFO:root:iteration 1610: {'overall_loss': tensor(0.6127, device='cuda:0', grad_fn=<AddBackward0>), 'recon_loss': tensor(0.6127, device='cuda:0', grad_fn=<MseLossBackward0>), 'kl_loss': tensor(551.5447, device='cuda:0', grad_fn=<MeanBackward0>), 'neigh_loss': tensor(2.9074, device='cuda:0', grad_fn=<NllLossBackward0>)}\n",
      "INFO:root:iteration 1620: {'overall_loss': tensor(0.6074, device='cuda:0', grad_fn=<AddBackward0>), 'recon_loss': tensor(0.6074, device='cuda:0', grad_fn=<MseLossBackward0>), 'kl_loss': tensor(563.9933, device='cuda:0', grad_fn=<MeanBackward0>), 'neigh_loss': tensor(2.8769, device='cuda:0', grad_fn=<NllLossBackward0>)}\n",
      "INFO:root:iteration 1630: {'overall_loss': tensor(0.4961, device='cuda:0', grad_fn=<AddBackward0>), 'recon_loss': tensor(0.4961, device='cuda:0', grad_fn=<MseLossBackward0>), 'kl_loss': tensor(549.0675, device='cuda:0', grad_fn=<MeanBackward0>), 'neigh_loss': tensor(2.8413, device='cuda:0', grad_fn=<NllLossBackward0>)}\n",
      "INFO:root:iteration 1640: {'overall_loss': tensor(0.5327, device='cuda:0', grad_fn=<AddBackward0>), 'recon_loss': tensor(0.5327, device='cuda:0', grad_fn=<MseLossBackward0>), 'kl_loss': tensor(543.9438, device='cuda:0', grad_fn=<MeanBackward0>), 'neigh_loss': tensor(2.8432, device='cuda:0', grad_fn=<NllLossBackward0>)}\n",
      "INFO:root:iteration 1650: {'overall_loss': tensor(0.4285, device='cuda:0', grad_fn=<AddBackward0>), 'recon_loss': tensor(0.4285, device='cuda:0', grad_fn=<MseLossBackward0>), 'kl_loss': tensor(535.7169, device='cuda:0', grad_fn=<MeanBackward0>), 'neigh_loss': tensor(2.8314, device='cuda:0', grad_fn=<NllLossBackward0>)}\n",
      "INFO:root:iteration 1660: {'overall_loss': tensor(0.6122, device='cuda:0', grad_fn=<AddBackward0>), 'recon_loss': tensor(0.6122, device='cuda:0', grad_fn=<MseLossBackward0>), 'kl_loss': tensor(557.3173, device='cuda:0', grad_fn=<MeanBackward0>), 'neigh_loss': tensor(2.9474, device='cuda:0', grad_fn=<NllLossBackward0>)}\n",
      "INFO:root:iteration 1670: {'overall_loss': tensor(0.6346, device='cuda:0', grad_fn=<AddBackward0>), 'recon_loss': tensor(0.6346, device='cuda:0', grad_fn=<MseLossBackward0>), 'kl_loss': tensor(562.6135, device='cuda:0', grad_fn=<MeanBackward0>), 'neigh_loss': tensor(2.8754, device='cuda:0', grad_fn=<NllLossBackward0>)}\n",
      "INFO:root:iteration 1680: {'overall_loss': tensor(0.5837, device='cuda:0', grad_fn=<AddBackward0>), 'recon_loss': tensor(0.5837, device='cuda:0', grad_fn=<MseLossBackward0>), 'kl_loss': tensor(565.1558, device='cuda:0', grad_fn=<MeanBackward0>), 'neigh_loss': tensor(2.8825, device='cuda:0', grad_fn=<NllLossBackward0>)}\n",
      "INFO:root:iteration 1690: {'overall_loss': tensor(0.6214, device='cuda:0', grad_fn=<AddBackward0>), 'recon_loss': tensor(0.6214, device='cuda:0', grad_fn=<MseLossBackward0>), 'kl_loss': tensor(575.3240, device='cuda:0', grad_fn=<MeanBackward0>), 'neigh_loss': tensor(2.8653, device='cuda:0', grad_fn=<NllLossBackward0>)}\n",
      "INFO:root:iteration 1700: {'overall_loss': tensor(0.4185, device='cuda:0', grad_fn=<AddBackward0>), 'recon_loss': tensor(0.4185, device='cuda:0', grad_fn=<MseLossBackward0>), 'kl_loss': tensor(549.9807, device='cuda:0', grad_fn=<MeanBackward0>), 'neigh_loss': tensor(2.8373, device='cuda:0', grad_fn=<NllLossBackward0>)}\n",
      "INFO:root:iteration 1710: {'overall_loss': tensor(0.6768, device='cuda:0', grad_fn=<AddBackward0>), 'recon_loss': tensor(0.6768, device='cuda:0', grad_fn=<MseLossBackward0>), 'kl_loss': tensor(589.0820, device='cuda:0', grad_fn=<MeanBackward0>), 'neigh_loss': tensor(2.8662, device='cuda:0', grad_fn=<NllLossBackward0>)}\n",
      "INFO:root:iteration 1720: {'overall_loss': tensor(0.5973, device='cuda:0', grad_fn=<AddBackward0>), 'recon_loss': tensor(0.5973, device='cuda:0', grad_fn=<MseLossBackward0>), 'kl_loss': tensor(580.5528, device='cuda:0', grad_fn=<MeanBackward0>), 'neigh_loss': tensor(2.9065, device='cuda:0', grad_fn=<NllLossBackward0>)}\n",
      "INFO:root:iteration 1730: {'overall_loss': tensor(0.6536, device='cuda:0', grad_fn=<AddBackward0>), 'recon_loss': tensor(0.6536, device='cuda:0', grad_fn=<MseLossBackward0>), 'kl_loss': tensor(573.1689, device='cuda:0', grad_fn=<MeanBackward0>), 'neigh_loss': tensor(2.9342, device='cuda:0', grad_fn=<NllLossBackward0>)}\n",
      "INFO:root:iteration 1740: {'overall_loss': tensor(0.5180, device='cuda:0', grad_fn=<AddBackward0>), 'recon_loss': tensor(0.5180, device='cuda:0', grad_fn=<MseLossBackward0>), 'kl_loss': tensor(551.9789, device='cuda:0', grad_fn=<MeanBackward0>), 'neigh_loss': tensor(2.8783, device='cuda:0', grad_fn=<NllLossBackward0>)}\n",
      "INFO:root:iteration 1750: {'overall_loss': tensor(0.5602, device='cuda:0', grad_fn=<AddBackward0>), 'recon_loss': tensor(0.5602, device='cuda:0', grad_fn=<MseLossBackward0>), 'kl_loss': tensor(574.1291, device='cuda:0', grad_fn=<MeanBackward0>), 'neigh_loss': tensor(2.8512, device='cuda:0', grad_fn=<NllLossBackward0>)}\n",
      "INFO:root:iteration 1760: {'overall_loss': tensor(0.7345, device='cuda:0', grad_fn=<AddBackward0>), 'recon_loss': tensor(0.7345, device='cuda:0', grad_fn=<MseLossBackward0>), 'kl_loss': tensor(589.9887, device='cuda:0', grad_fn=<MeanBackward0>), 'neigh_loss': tensor(2.8721, device='cuda:0', grad_fn=<NllLossBackward0>)}\n",
      "INFO:root:iteration 1770: {'overall_loss': tensor(0.6068, device='cuda:0', grad_fn=<AddBackward0>), 'recon_loss': tensor(0.6068, device='cuda:0', grad_fn=<MseLossBackward0>), 'kl_loss': tensor(606.8362, device='cuda:0', grad_fn=<MeanBackward0>), 'neigh_loss': tensor(2.8047, device='cuda:0', grad_fn=<NllLossBackward0>)}\n",
      "INFO:root:iteration 1780: {'overall_loss': tensor(0.6102, device='cuda:0', grad_fn=<AddBackward0>), 'recon_loss': tensor(0.6102, device='cuda:0', grad_fn=<MseLossBackward0>), 'kl_loss': tensor(616.2030, device='cuda:0', grad_fn=<MeanBackward0>), 'neigh_loss': tensor(2.8654, device='cuda:0', grad_fn=<NllLossBackward0>)}\n",
      "INFO:root:iteration 1790: {'overall_loss': tensor(0.5707, device='cuda:0', grad_fn=<AddBackward0>), 'recon_loss': tensor(0.5707, device='cuda:0', grad_fn=<MseLossBackward0>), 'kl_loss': tensor(607.6409, device='cuda:0', grad_fn=<MeanBackward0>), 'neigh_loss': tensor(2.7622, device='cuda:0', grad_fn=<NllLossBackward0>)}\n",
      "INFO:root:iteration 1800: {'overall_loss': tensor(0.6040, device='cuda:0', grad_fn=<AddBackward0>), 'recon_loss': tensor(0.6040, device='cuda:0', grad_fn=<MseLossBackward0>), 'kl_loss': tensor(618.9724, device='cuda:0', grad_fn=<MeanBackward0>), 'neigh_loss': tensor(2.8991, device='cuda:0', grad_fn=<NllLossBackward0>)}\n",
      "INFO:root:iteration 1810: {'overall_loss': tensor(0.6248, device='cuda:0', grad_fn=<AddBackward0>), 'recon_loss': tensor(0.6248, device='cuda:0', grad_fn=<MseLossBackward0>), 'kl_loss': tensor(648.5445, device='cuda:0', grad_fn=<MeanBackward0>), 'neigh_loss': tensor(2.8996, device='cuda:0', grad_fn=<NllLossBackward0>)}\n"
     ]
    },
    {
     "name": "stderr",
     "output_type": "stream",
     "text": [
      "INFO:root:iteration 1820: {'overall_loss': tensor(0.5126, device='cuda:0', grad_fn=<AddBackward0>), 'recon_loss': tensor(0.5126, device='cuda:0', grad_fn=<MseLossBackward0>), 'kl_loss': tensor(612.2576, device='cuda:0', grad_fn=<MeanBackward0>), 'neigh_loss': tensor(2.9536, device='cuda:0', grad_fn=<NllLossBackward0>)}\n",
      "INFO:root:iteration 1830: {'overall_loss': tensor(0.5873, device='cuda:0', grad_fn=<AddBackward0>), 'recon_loss': tensor(0.5873, device='cuda:0', grad_fn=<MseLossBackward0>), 'kl_loss': tensor(602.7371, device='cuda:0', grad_fn=<MeanBackward0>), 'neigh_loss': tensor(2.8404, device='cuda:0', grad_fn=<NllLossBackward0>)}\n",
      "INFO:root:iteration 1840: {'overall_loss': tensor(0.5664, device='cuda:0', grad_fn=<AddBackward0>), 'recon_loss': tensor(0.5664, device='cuda:0', grad_fn=<MseLossBackward0>), 'kl_loss': tensor(651.4545, device='cuda:0', grad_fn=<MeanBackward0>), 'neigh_loss': tensor(2.8806, device='cuda:0', grad_fn=<NllLossBackward0>)}\n",
      "INFO:root:iteration 1850: {'overall_loss': tensor(0.5523, device='cuda:0', grad_fn=<AddBackward0>), 'recon_loss': tensor(0.5523, device='cuda:0', grad_fn=<MseLossBackward0>), 'kl_loss': tensor(706.9664, device='cuda:0', grad_fn=<MeanBackward0>), 'neigh_loss': tensor(2.8334, device='cuda:0', grad_fn=<NllLossBackward0>)}\n",
      "INFO:root:iteration 1860: {'overall_loss': tensor(0.4904, device='cuda:0', grad_fn=<AddBackward0>), 'recon_loss': tensor(0.4904, device='cuda:0', grad_fn=<MseLossBackward0>), 'kl_loss': tensor(646.7602, device='cuda:0', grad_fn=<MeanBackward0>), 'neigh_loss': tensor(2.8603, device='cuda:0', grad_fn=<NllLossBackward0>)}\n",
      "INFO:root:iteration 1870: {'overall_loss': tensor(0.5969, device='cuda:0', grad_fn=<AddBackward0>), 'recon_loss': tensor(0.5969, device='cuda:0', grad_fn=<MseLossBackward0>), 'kl_loss': tensor(615.5919, device='cuda:0', grad_fn=<MeanBackward0>), 'neigh_loss': tensor(2.9086, device='cuda:0', grad_fn=<NllLossBackward0>)}\n",
      "INFO:root:iteration 1880: {'overall_loss': tensor(0.6450, device='cuda:0', grad_fn=<AddBackward0>), 'recon_loss': tensor(0.6450, device='cuda:0', grad_fn=<MseLossBackward0>), 'kl_loss': tensor(645.2418, device='cuda:0', grad_fn=<MeanBackward0>), 'neigh_loss': tensor(2.9818, device='cuda:0', grad_fn=<NllLossBackward0>)}\n",
      "INFO:root:iteration 1890: {'overall_loss': tensor(0.5186, device='cuda:0', grad_fn=<AddBackward0>), 'recon_loss': tensor(0.5186, device='cuda:0', grad_fn=<MseLossBackward0>), 'kl_loss': tensor(655.0424, device='cuda:0', grad_fn=<MeanBackward0>), 'neigh_loss': tensor(2.8829, device='cuda:0', grad_fn=<NllLossBackward0>)}\n",
      "INFO:root:iteration 1900: {'overall_loss': tensor(0.6233, device='cuda:0', grad_fn=<AddBackward0>), 'recon_loss': tensor(0.6233, device='cuda:0', grad_fn=<MseLossBackward0>), 'kl_loss': tensor(638.3250, device='cuda:0', grad_fn=<MeanBackward0>), 'neigh_loss': tensor(2.7258, device='cuda:0', grad_fn=<NllLossBackward0>)}\n",
      "INFO:root:iteration 1910: {'overall_loss': tensor(0.4433, device='cuda:0', grad_fn=<AddBackward0>), 'recon_loss': tensor(0.4433, device='cuda:0', grad_fn=<MseLossBackward0>), 'kl_loss': tensor(612.9778, device='cuda:0', grad_fn=<MeanBackward0>), 'neigh_loss': tensor(2.8196, device='cuda:0', grad_fn=<NllLossBackward0>)}\n",
      "INFO:root:iteration 1920: {'overall_loss': tensor(0.6498, device='cuda:0', grad_fn=<AddBackward0>), 'recon_loss': tensor(0.6498, device='cuda:0', grad_fn=<MseLossBackward0>), 'kl_loss': tensor(617.6819, device='cuda:0', grad_fn=<MeanBackward0>), 'neigh_loss': tensor(2.9609, device='cuda:0', grad_fn=<NllLossBackward0>)}\n",
      "INFO:root:iteration 1930: {'overall_loss': tensor(0.5884, device='cuda:0', grad_fn=<AddBackward0>), 'recon_loss': tensor(0.5884, device='cuda:0', grad_fn=<MseLossBackward0>), 'kl_loss': tensor(614.3787, device='cuda:0', grad_fn=<MeanBackward0>), 'neigh_loss': tensor(2.9720, device='cuda:0', grad_fn=<NllLossBackward0>)}\n",
      "INFO:root:iteration 1940: {'overall_loss': tensor(0.5956, device='cuda:0', grad_fn=<AddBackward0>), 'recon_loss': tensor(0.5956, device='cuda:0', grad_fn=<MseLossBackward0>), 'kl_loss': tensor(588.8755, device='cuda:0', grad_fn=<MeanBackward0>), 'neigh_loss': tensor(2.8309, device='cuda:0', grad_fn=<NllLossBackward0>)}\n",
      "INFO:root:iteration 1950: {'overall_loss': tensor(0.6218, device='cuda:0', grad_fn=<AddBackward0>), 'recon_loss': tensor(0.6218, device='cuda:0', grad_fn=<MseLossBackward0>), 'kl_loss': tensor(593.4013, device='cuda:0', grad_fn=<MeanBackward0>), 'neigh_loss': tensor(2.9310, device='cuda:0', grad_fn=<NllLossBackward0>)}\n",
      "INFO:root:iteration 1960: {'overall_loss': tensor(0.5442, device='cuda:0', grad_fn=<AddBackward0>), 'recon_loss': tensor(0.5442, device='cuda:0', grad_fn=<MseLossBackward0>), 'kl_loss': tensor(585.4287, device='cuda:0', grad_fn=<MeanBackward0>), 'neigh_loss': tensor(2.8359, device='cuda:0', grad_fn=<NllLossBackward0>)}\n",
      "INFO:root:iteration 1970: {'overall_loss': tensor(0.5667, device='cuda:0', grad_fn=<AddBackward0>), 'recon_loss': tensor(0.5667, device='cuda:0', grad_fn=<MseLossBackward0>), 'kl_loss': tensor(589.1860, device='cuda:0', grad_fn=<MeanBackward0>), 'neigh_loss': tensor(2.9464, device='cuda:0', grad_fn=<NllLossBackward0>)}\n",
      "INFO:root:iteration 1980: {'overall_loss': tensor(0.6156, device='cuda:0', grad_fn=<AddBackward0>), 'recon_loss': tensor(0.6156, device='cuda:0', grad_fn=<MseLossBackward0>), 'kl_loss': tensor(609.1203, device='cuda:0', grad_fn=<MeanBackward0>), 'neigh_loss': tensor(2.8508, device='cuda:0', grad_fn=<NllLossBackward0>)}\n",
      "INFO:root:iteration 1990: {'overall_loss': tensor(0.4349, device='cuda:0', grad_fn=<AddBackward0>), 'recon_loss': tensor(0.4349, device='cuda:0', grad_fn=<MseLossBackward0>), 'kl_loss': tensor(571.8036, device='cuda:0', grad_fn=<MeanBackward0>), 'neigh_loss': tensor(2.7692, device='cuda:0', grad_fn=<NllLossBackward0>)}\n",
      "INFO:root:iteration 2000: {'overall_loss': tensor(0.6234, device='cuda:0', grad_fn=<AddBackward0>), 'recon_loss': tensor(0.6234, device='cuda:0', grad_fn=<MseLossBackward0>), 'kl_loss': tensor(596.7230, device='cuda:0', grad_fn=<MeanBackward0>), 'neigh_loss': tensor(2.9109, device='cuda:0', grad_fn=<NllLossBackward0>)}\n",
      "INFO:root:saving checkpoint to /data/estorrs/mushroom/data/projects/xenium_grant/mushroom/S18-25943_xenium/outputs/chkpts/2000iter.pt\n",
      "INFO:root:iteration 2010: {'overall_loss': tensor(0.5186, device='cuda:0', grad_fn=<AddBackward0>), 'recon_loss': tensor(0.5186, device='cuda:0', grad_fn=<MseLossBackward0>), 'kl_loss': tensor(563.8102, device='cuda:0', grad_fn=<MeanBackward0>), 'neigh_loss': tensor(2.8533, device='cuda:0', grad_fn=<NllLossBackward0>)}\n",
      "INFO:root:iteration 2020: {'overall_loss': tensor(0.6603, device='cuda:0', grad_fn=<AddBackward0>), 'recon_loss': tensor(0.6603, device='cuda:0', grad_fn=<MseLossBackward0>), 'kl_loss': tensor(591.3859, device='cuda:0', grad_fn=<MeanBackward0>), 'neigh_loss': tensor(2.8405, device='cuda:0', grad_fn=<NllLossBackward0>)}\n",
      "INFO:root:iteration 2030: {'overall_loss': tensor(0.5994, device='cuda:0', grad_fn=<AddBackward0>), 'recon_loss': tensor(0.5994, device='cuda:0', grad_fn=<MseLossBackward0>), 'kl_loss': tensor(591.4602, device='cuda:0', grad_fn=<MeanBackward0>), 'neigh_loss': tensor(2.8667, device='cuda:0', grad_fn=<NllLossBackward0>)}\n",
      "INFO:root:iteration 2040: {'overall_loss': tensor(0.6341, device='cuda:0', grad_fn=<AddBackward0>), 'recon_loss': tensor(0.6341, device='cuda:0', grad_fn=<MseLossBackward0>), 'kl_loss': tensor(592.0151, device='cuda:0', grad_fn=<MeanBackward0>), 'neigh_loss': tensor(2.9140, device='cuda:0', grad_fn=<NllLossBackward0>)}\n",
      "INFO:root:iteration 2050: {'overall_loss': tensor(0.5845, device='cuda:0', grad_fn=<AddBackward0>), 'recon_loss': tensor(0.5845, device='cuda:0', grad_fn=<MseLossBackward0>), 'kl_loss': tensor(577.4929, device='cuda:0', grad_fn=<MeanBackward0>), 'neigh_loss': tensor(2.8704, device='cuda:0', grad_fn=<NllLossBackward0>)}\n",
      "INFO:root:iteration 2060: {'overall_loss': tensor(0.6128, device='cuda:0', grad_fn=<AddBackward0>), 'recon_loss': tensor(0.6128, device='cuda:0', grad_fn=<MseLossBackward0>), 'kl_loss': tensor(584.7104, device='cuda:0', grad_fn=<MeanBackward0>), 'neigh_loss': tensor(2.8983, device='cuda:0', grad_fn=<NllLossBackward0>)}\n",
      "INFO:root:iteration 2070: {'overall_loss': tensor(0.5628, device='cuda:0', grad_fn=<AddBackward0>), 'recon_loss': tensor(0.5628, device='cuda:0', grad_fn=<MseLossBackward0>), 'kl_loss': tensor(587.3821, device='cuda:0', grad_fn=<MeanBackward0>), 'neigh_loss': tensor(2.8822, device='cuda:0', grad_fn=<NllLossBackward0>)}\n"
     ]
    },
    {
     "name": "stderr",
     "output_type": "stream",
     "text": [
      "INFO:root:iteration 2080: {'overall_loss': tensor(0.5714, device='cuda:0', grad_fn=<AddBackward0>), 'recon_loss': tensor(0.5714, device='cuda:0', grad_fn=<MseLossBackward0>), 'kl_loss': tensor(568.5088, device='cuda:0', grad_fn=<MeanBackward0>), 'neigh_loss': tensor(2.7800, device='cuda:0', grad_fn=<NllLossBackward0>)}\n",
      "INFO:root:iteration 2090: {'overall_loss': tensor(0.5866, device='cuda:0', grad_fn=<AddBackward0>), 'recon_loss': tensor(0.5866, device='cuda:0', grad_fn=<MseLossBackward0>), 'kl_loss': tensor(575.2577, device='cuda:0', grad_fn=<MeanBackward0>), 'neigh_loss': tensor(2.9338, device='cuda:0', grad_fn=<NllLossBackward0>)}\n",
      "INFO:root:iteration 2100: {'overall_loss': tensor(0.7139, device='cuda:0', grad_fn=<AddBackward0>), 'recon_loss': tensor(0.7139, device='cuda:0', grad_fn=<MseLossBackward0>), 'kl_loss': tensor(606.9772, device='cuda:0', grad_fn=<MeanBackward0>), 'neigh_loss': tensor(2.9670, device='cuda:0', grad_fn=<NllLossBackward0>)}\n",
      "INFO:root:iteration 2110: {'overall_loss': tensor(0.5244, device='cuda:0', grad_fn=<AddBackward0>), 'recon_loss': tensor(0.5244, device='cuda:0', grad_fn=<MseLossBackward0>), 'kl_loss': tensor(565.4379, device='cuda:0', grad_fn=<MeanBackward0>), 'neigh_loss': tensor(2.9497, device='cuda:0', grad_fn=<NllLossBackward0>)}\n",
      "INFO:root:iteration 2120: {'overall_loss': tensor(0.5775, device='cuda:0', grad_fn=<AddBackward0>), 'recon_loss': tensor(0.5775, device='cuda:0', grad_fn=<MseLossBackward0>), 'kl_loss': tensor(606.4803, device='cuda:0', grad_fn=<MeanBackward0>), 'neigh_loss': tensor(2.8644, device='cuda:0', grad_fn=<NllLossBackward0>)}\n",
      "INFO:root:iteration 2130: {'overall_loss': tensor(0.5269, device='cuda:0', grad_fn=<AddBackward0>), 'recon_loss': tensor(0.5269, device='cuda:0', grad_fn=<MseLossBackward0>), 'kl_loss': tensor(623.3217, device='cuda:0', grad_fn=<MeanBackward0>), 'neigh_loss': tensor(3.0042, device='cuda:0', grad_fn=<NllLossBackward0>)}\n",
      "INFO:root:iteration 2140: {'overall_loss': tensor(0.6957, device='cuda:0', grad_fn=<AddBackward0>), 'recon_loss': tensor(0.6957, device='cuda:0', grad_fn=<MseLossBackward0>), 'kl_loss': tensor(604.1075, device='cuda:0', grad_fn=<MeanBackward0>), 'neigh_loss': tensor(2.9805, device='cuda:0', grad_fn=<NllLossBackward0>)}\n",
      "INFO:root:iteration 2150: {'overall_loss': tensor(0.6169, device='cuda:0', grad_fn=<AddBackward0>), 'recon_loss': tensor(0.6169, device='cuda:0', grad_fn=<MseLossBackward0>), 'kl_loss': tensor(579.2697, device='cuda:0', grad_fn=<MeanBackward0>), 'neigh_loss': tensor(2.8869, device='cuda:0', grad_fn=<NllLossBackward0>)}\n",
      "INFO:root:iteration 2160: {'overall_loss': tensor(0.5662, device='cuda:0', grad_fn=<AddBackward0>), 'recon_loss': tensor(0.5662, device='cuda:0', grad_fn=<MseLossBackward0>), 'kl_loss': tensor(599.2524, device='cuda:0', grad_fn=<MeanBackward0>), 'neigh_loss': tensor(2.9275, device='cuda:0', grad_fn=<NllLossBackward0>)}\n",
      "INFO:root:iteration 2170: {'overall_loss': tensor(0.6466, device='cuda:0', grad_fn=<AddBackward0>), 'recon_loss': tensor(0.6466, device='cuda:0', grad_fn=<MseLossBackward0>), 'kl_loss': tensor(625.8786, device='cuda:0', grad_fn=<MeanBackward0>), 'neigh_loss': tensor(2.9543, device='cuda:0', grad_fn=<NllLossBackward0>)}\n",
      "INFO:root:iteration 2180: {'overall_loss': tensor(0.6297, device='cuda:0', grad_fn=<AddBackward0>), 'recon_loss': tensor(0.6297, device='cuda:0', grad_fn=<MseLossBackward0>), 'kl_loss': tensor(604.5004, device='cuda:0', grad_fn=<MeanBackward0>), 'neigh_loss': tensor(3.0204, device='cuda:0', grad_fn=<NllLossBackward0>)}\n",
      "INFO:root:iteration 2190: {'overall_loss': tensor(0.6602, device='cuda:0', grad_fn=<AddBackward0>), 'recon_loss': tensor(0.6602, device='cuda:0', grad_fn=<MseLossBackward0>), 'kl_loss': tensor(626.2734, device='cuda:0', grad_fn=<MeanBackward0>), 'neigh_loss': tensor(3.0174, device='cuda:0', grad_fn=<NllLossBackward0>)}\n",
      "INFO:root:iteration 2200: {'overall_loss': tensor(0.6583, device='cuda:0', grad_fn=<AddBackward0>), 'recon_loss': tensor(0.6583, device='cuda:0', grad_fn=<MseLossBackward0>), 'kl_loss': tensor(594.8047, device='cuda:0', grad_fn=<MeanBackward0>), 'neigh_loss': tensor(2.9012, device='cuda:0', grad_fn=<NllLossBackward0>)}\n",
      "INFO:root:iteration 2210: {'overall_loss': tensor(0.6936, device='cuda:0', grad_fn=<AddBackward0>), 'recon_loss': tensor(0.6936, device='cuda:0', grad_fn=<MseLossBackward0>), 'kl_loss': tensor(618.7413, device='cuda:0', grad_fn=<MeanBackward0>), 'neigh_loss': tensor(2.8966, device='cuda:0', grad_fn=<NllLossBackward0>)}\n",
      "INFO:root:iteration 2220: {'overall_loss': tensor(0.5566, device='cuda:0', grad_fn=<AddBackward0>), 'recon_loss': tensor(0.5566, device='cuda:0', grad_fn=<MseLossBackward0>), 'kl_loss': tensor(614.9777, device='cuda:0', grad_fn=<MeanBackward0>), 'neigh_loss': tensor(2.8577, device='cuda:0', grad_fn=<NllLossBackward0>)}\n",
      "INFO:root:iteration 2230: {'overall_loss': tensor(0.6231, device='cuda:0', grad_fn=<AddBackward0>), 'recon_loss': tensor(0.6231, device='cuda:0', grad_fn=<MseLossBackward0>), 'kl_loss': tensor(629.9149, device='cuda:0', grad_fn=<MeanBackward0>), 'neigh_loss': tensor(2.8347, device='cuda:0', grad_fn=<NllLossBackward0>)}\n",
      "INFO:root:iteration 2240: {'overall_loss': tensor(0.6387, device='cuda:0', grad_fn=<AddBackward0>), 'recon_loss': tensor(0.6387, device='cuda:0', grad_fn=<MseLossBackward0>), 'kl_loss': tensor(609.3732, device='cuda:0', grad_fn=<MeanBackward0>), 'neigh_loss': tensor(2.8033, device='cuda:0', grad_fn=<NllLossBackward0>)}\n",
      "INFO:root:iteration 2250: {'overall_loss': tensor(0.6060, device='cuda:0', grad_fn=<AddBackward0>), 'recon_loss': tensor(0.6060, device='cuda:0', grad_fn=<MseLossBackward0>), 'kl_loss': tensor(605.0438, device='cuda:0', grad_fn=<MeanBackward0>), 'neigh_loss': tensor(2.9034, device='cuda:0', grad_fn=<NllLossBackward0>)}\n",
      "INFO:root:iteration 2260: {'overall_loss': tensor(0.5288, device='cuda:0', grad_fn=<AddBackward0>), 'recon_loss': tensor(0.5288, device='cuda:0', grad_fn=<MseLossBackward0>), 'kl_loss': tensor(617.6926, device='cuda:0', grad_fn=<MeanBackward0>), 'neigh_loss': tensor(2.8915, device='cuda:0', grad_fn=<NllLossBackward0>)}\n",
      "INFO:root:iteration 2270: {'overall_loss': tensor(0.6534, device='cuda:0', grad_fn=<AddBackward0>), 'recon_loss': tensor(0.6534, device='cuda:0', grad_fn=<MseLossBackward0>), 'kl_loss': tensor(596.7174, device='cuda:0', grad_fn=<MeanBackward0>), 'neigh_loss': tensor(2.9186, device='cuda:0', grad_fn=<NllLossBackward0>)}\n",
      "INFO:root:iteration 2280: {'overall_loss': tensor(0.6617, device='cuda:0', grad_fn=<AddBackward0>), 'recon_loss': tensor(0.6617, device='cuda:0', grad_fn=<MseLossBackward0>), 'kl_loss': tensor(609.0728, device='cuda:0', grad_fn=<MeanBackward0>), 'neigh_loss': tensor(2.8896, device='cuda:0', grad_fn=<NllLossBackward0>)}\n",
      "INFO:root:iteration 2290: {'overall_loss': tensor(0.6516, device='cuda:0', grad_fn=<AddBackward0>), 'recon_loss': tensor(0.6516, device='cuda:0', grad_fn=<MseLossBackward0>), 'kl_loss': tensor(596.3355, device='cuda:0', grad_fn=<MeanBackward0>), 'neigh_loss': tensor(2.8461, device='cuda:0', grad_fn=<NllLossBackward0>)}\n",
      "INFO:root:iteration 2300: {'overall_loss': tensor(0.5340, device='cuda:0', grad_fn=<AddBackward0>), 'recon_loss': tensor(0.5340, device='cuda:0', grad_fn=<MseLossBackward0>), 'kl_loss': tensor(584.6086, device='cuda:0', grad_fn=<MeanBackward0>), 'neigh_loss': tensor(2.8512, device='cuda:0', grad_fn=<NllLossBackward0>)}\n",
      "INFO:root:iteration 2310: {'overall_loss': tensor(0.6032, device='cuda:0', grad_fn=<AddBackward0>), 'recon_loss': tensor(0.6032, device='cuda:0', grad_fn=<MseLossBackward0>), 'kl_loss': tensor(593.3472, device='cuda:0', grad_fn=<MeanBackward0>), 'neigh_loss': tensor(2.9489, device='cuda:0', grad_fn=<NllLossBackward0>)}\n",
      "INFO:root:iteration 2320: {'overall_loss': tensor(0.5778, device='cuda:0', grad_fn=<AddBackward0>), 'recon_loss': tensor(0.5778, device='cuda:0', grad_fn=<MseLossBackward0>), 'kl_loss': tensor(594.2826, device='cuda:0', grad_fn=<MeanBackward0>), 'neigh_loss': tensor(2.8542, device='cuda:0', grad_fn=<NllLossBackward0>)}\n",
      "INFO:root:iteration 2330: {'overall_loss': tensor(0.6540, device='cuda:0', grad_fn=<AddBackward0>), 'recon_loss': tensor(0.6540, device='cuda:0', grad_fn=<MseLossBackward0>), 'kl_loss': tensor(623.0634, device='cuda:0', grad_fn=<MeanBackward0>), 'neigh_loss': tensor(2.8851, device='cuda:0', grad_fn=<NllLossBackward0>)}\n"
     ]
    },
    {
     "name": "stderr",
     "output_type": "stream",
     "text": [
      "INFO:root:iteration 2340: {'overall_loss': tensor(0.5082, device='cuda:0', grad_fn=<AddBackward0>), 'recon_loss': tensor(0.5082, device='cuda:0', grad_fn=<MseLossBackward0>), 'kl_loss': tensor(606.2407, device='cuda:0', grad_fn=<MeanBackward0>), 'neigh_loss': tensor(2.7497, device='cuda:0', grad_fn=<NllLossBackward0>)}\n",
      "INFO:root:iteration 2350: {'overall_loss': tensor(0.5358, device='cuda:0', grad_fn=<AddBackward0>), 'recon_loss': tensor(0.5358, device='cuda:0', grad_fn=<MseLossBackward0>), 'kl_loss': tensor(626.9840, device='cuda:0', grad_fn=<MeanBackward0>), 'neigh_loss': tensor(2.8489, device='cuda:0', grad_fn=<NllLossBackward0>)}\n",
      "INFO:root:iteration 2360: {'overall_loss': tensor(0.6086, device='cuda:0', grad_fn=<AddBackward0>), 'recon_loss': tensor(0.6086, device='cuda:0', grad_fn=<MseLossBackward0>), 'kl_loss': tensor(603.0450, device='cuda:0', grad_fn=<MeanBackward0>), 'neigh_loss': tensor(2.8549, device='cuda:0', grad_fn=<NllLossBackward0>)}\n",
      "INFO:root:iteration 2370: {'overall_loss': tensor(0.5065, device='cuda:0', grad_fn=<AddBackward0>), 'recon_loss': tensor(0.5065, device='cuda:0', grad_fn=<MseLossBackward0>), 'kl_loss': tensor(584.5837, device='cuda:0', grad_fn=<MeanBackward0>), 'neigh_loss': tensor(2.8629, device='cuda:0', grad_fn=<NllLossBackward0>)}\n",
      "INFO:root:iteration 2380: {'overall_loss': tensor(0.5542, device='cuda:0', grad_fn=<AddBackward0>), 'recon_loss': tensor(0.5542, device='cuda:0', grad_fn=<MseLossBackward0>), 'kl_loss': tensor(603.0754, device='cuda:0', grad_fn=<MeanBackward0>), 'neigh_loss': tensor(2.8517, device='cuda:0', grad_fn=<NllLossBackward0>)}\n",
      "INFO:root:iteration 2390: {'overall_loss': tensor(0.6166, device='cuda:0', grad_fn=<AddBackward0>), 'recon_loss': tensor(0.6166, device='cuda:0', grad_fn=<MseLossBackward0>), 'kl_loss': tensor(609.6569, device='cuda:0', grad_fn=<MeanBackward0>), 'neigh_loss': tensor(2.8604, device='cuda:0', grad_fn=<NllLossBackward0>)}\n",
      "INFO:root:iteration 2400: {'overall_loss': tensor(0.6583, device='cuda:0', grad_fn=<AddBackward0>), 'recon_loss': tensor(0.6583, device='cuda:0', grad_fn=<MseLossBackward0>), 'kl_loss': tensor(616.4234, device='cuda:0', grad_fn=<MeanBackward0>), 'neigh_loss': tensor(3.1074, device='cuda:0', grad_fn=<NllLossBackward0>)}\n",
      "INFO:root:iteration 2410: {'overall_loss': tensor(0.5265, device='cuda:0', grad_fn=<AddBackward0>), 'recon_loss': tensor(0.5265, device='cuda:0', grad_fn=<MseLossBackward0>), 'kl_loss': tensor(579.5574, device='cuda:0', grad_fn=<MeanBackward0>), 'neigh_loss': tensor(2.8805, device='cuda:0', grad_fn=<NllLossBackward0>)}\n",
      "INFO:root:iteration 2420: {'overall_loss': tensor(0.6091, device='cuda:0', grad_fn=<AddBackward0>), 'recon_loss': tensor(0.6091, device='cuda:0', grad_fn=<MseLossBackward0>), 'kl_loss': tensor(606.5128, device='cuda:0', grad_fn=<MeanBackward0>), 'neigh_loss': tensor(2.8817, device='cuda:0', grad_fn=<NllLossBackward0>)}\n",
      "INFO:root:iteration 2430: {'overall_loss': tensor(0.5535, device='cuda:0', grad_fn=<AddBackward0>), 'recon_loss': tensor(0.5535, device='cuda:0', grad_fn=<MseLossBackward0>), 'kl_loss': tensor(597.5438, device='cuda:0', grad_fn=<MeanBackward0>), 'neigh_loss': tensor(2.8480, device='cuda:0', grad_fn=<NllLossBackward0>)}\n",
      "INFO:root:iteration 2440: {'overall_loss': tensor(0.5189, device='cuda:0', grad_fn=<AddBackward0>), 'recon_loss': tensor(0.5189, device='cuda:0', grad_fn=<MseLossBackward0>), 'kl_loss': tensor(596.6385, device='cuda:0', grad_fn=<MeanBackward0>), 'neigh_loss': tensor(2.8279, device='cuda:0', grad_fn=<NllLossBackward0>)}\n",
      "INFO:root:iteration 2450: {'overall_loss': tensor(0.5149, device='cuda:0', grad_fn=<AddBackward0>), 'recon_loss': tensor(0.5149, device='cuda:0', grad_fn=<MseLossBackward0>), 'kl_loss': tensor(611.7471, device='cuda:0', grad_fn=<MeanBackward0>), 'neigh_loss': tensor(2.8072, device='cuda:0', grad_fn=<NllLossBackward0>)}\n",
      "INFO:root:iteration 2460: {'overall_loss': tensor(0.5349, device='cuda:0', grad_fn=<AddBackward0>), 'recon_loss': tensor(0.5349, device='cuda:0', grad_fn=<MseLossBackward0>), 'kl_loss': tensor(605.3872, device='cuda:0', grad_fn=<MeanBackward0>), 'neigh_loss': tensor(2.8210, device='cuda:0', grad_fn=<NllLossBackward0>)}\n",
      "INFO:root:iteration 2470: {'overall_loss': tensor(0.5520, device='cuda:0', grad_fn=<AddBackward0>), 'recon_loss': tensor(0.5520, device='cuda:0', grad_fn=<MseLossBackward0>), 'kl_loss': tensor(585.8643, device='cuda:0', grad_fn=<MeanBackward0>), 'neigh_loss': tensor(2.8951, device='cuda:0', grad_fn=<NllLossBackward0>)}\n",
      "INFO:root:iteration 2480: {'overall_loss': tensor(0.6096, device='cuda:0', grad_fn=<AddBackward0>), 'recon_loss': tensor(0.6096, device='cuda:0', grad_fn=<MseLossBackward0>), 'kl_loss': tensor(615.1588, device='cuda:0', grad_fn=<MeanBackward0>), 'neigh_loss': tensor(2.9916, device='cuda:0', grad_fn=<NllLossBackward0>)}\n",
      "INFO:root:iteration 2490: {'overall_loss': tensor(0.6623, device='cuda:0', grad_fn=<AddBackward0>), 'recon_loss': tensor(0.6623, device='cuda:0', grad_fn=<MseLossBackward0>), 'kl_loss': tensor(629.0153, device='cuda:0', grad_fn=<MeanBackward0>), 'neigh_loss': tensor(2.8738, device='cuda:0', grad_fn=<NllLossBackward0>)}\n",
      "INFO:root:iteration 2500: {'overall_loss': tensor(0.5553, device='cuda:0', grad_fn=<AddBackward0>), 'recon_loss': tensor(0.5553, device='cuda:0', grad_fn=<MseLossBackward0>), 'kl_loss': tensor(597.8399, device='cuda:0', grad_fn=<MeanBackward0>), 'neigh_loss': tensor(2.9025, device='cuda:0', grad_fn=<NllLossBackward0>)}\n",
      "INFO:root:iteration 2510: {'overall_loss': tensor(0.5624, device='cuda:0', grad_fn=<AddBackward0>), 'recon_loss': tensor(0.5624, device='cuda:0', grad_fn=<MseLossBackward0>), 'kl_loss': tensor(592.6647, device='cuda:0', grad_fn=<MeanBackward0>), 'neigh_loss': tensor(2.8482, device='cuda:0', grad_fn=<NllLossBackward0>)}\n",
      "INFO:root:iteration 2520: {'overall_loss': tensor(0.5366, device='cuda:0', grad_fn=<AddBackward0>), 'recon_loss': tensor(0.5366, device='cuda:0', grad_fn=<MseLossBackward0>), 'kl_loss': tensor(578.1628, device='cuda:0', grad_fn=<MeanBackward0>), 'neigh_loss': tensor(2.7989, device='cuda:0', grad_fn=<NllLossBackward0>)}\n",
      "INFO:root:iteration 2530: {'overall_loss': tensor(0.5932, device='cuda:0', grad_fn=<AddBackward0>), 'recon_loss': tensor(0.5932, device='cuda:0', grad_fn=<MseLossBackward0>), 'kl_loss': tensor(616.6497, device='cuda:0', grad_fn=<MeanBackward0>), 'neigh_loss': tensor(2.8521, device='cuda:0', grad_fn=<NllLossBackward0>)}\n",
      "INFO:root:iteration 2540: {'overall_loss': tensor(0.6055, device='cuda:0', grad_fn=<AddBackward0>), 'recon_loss': tensor(0.6055, device='cuda:0', grad_fn=<MseLossBackward0>), 'kl_loss': tensor(609.8414, device='cuda:0', grad_fn=<MeanBackward0>), 'neigh_loss': tensor(2.8663, device='cuda:0', grad_fn=<NllLossBackward0>)}\n",
      "INFO:root:iteration 2550: {'overall_loss': tensor(0.5376, device='cuda:0', grad_fn=<AddBackward0>), 'recon_loss': tensor(0.5376, device='cuda:0', grad_fn=<MseLossBackward0>), 'kl_loss': tensor(587.2042, device='cuda:0', grad_fn=<MeanBackward0>), 'neigh_loss': tensor(2.9804, device='cuda:0', grad_fn=<NllLossBackward0>)}\n",
      "INFO:root:iteration 2560: {'overall_loss': tensor(0.5880, device='cuda:0', grad_fn=<AddBackward0>), 'recon_loss': tensor(0.5880, device='cuda:0', grad_fn=<MseLossBackward0>), 'kl_loss': tensor(604.8982, device='cuda:0', grad_fn=<MeanBackward0>), 'neigh_loss': tensor(2.9994, device='cuda:0', grad_fn=<NllLossBackward0>)}\n",
      "INFO:root:iteration 2570: {'overall_loss': tensor(0.6899, device='cuda:0', grad_fn=<AddBackward0>), 'recon_loss': tensor(0.6899, device='cuda:0', grad_fn=<MseLossBackward0>), 'kl_loss': tensor(620.4056, device='cuda:0', grad_fn=<MeanBackward0>), 'neigh_loss': tensor(2.9427, device='cuda:0', grad_fn=<NllLossBackward0>)}\n",
      "INFO:root:iteration 2580: {'overall_loss': tensor(0.5827, device='cuda:0', grad_fn=<AddBackward0>), 'recon_loss': tensor(0.5827, device='cuda:0', grad_fn=<MseLossBackward0>), 'kl_loss': tensor(621.5330, device='cuda:0', grad_fn=<MeanBackward0>), 'neigh_loss': tensor(2.8187, device='cuda:0', grad_fn=<NllLossBackward0>)}\n",
      "INFO:root:iteration 2590: {'overall_loss': tensor(0.5714, device='cuda:0', grad_fn=<AddBackward0>), 'recon_loss': tensor(0.5714, device='cuda:0', grad_fn=<MseLossBackward0>), 'kl_loss': tensor(622.6849, device='cuda:0', grad_fn=<MeanBackward0>), 'neigh_loss': tensor(2.9057, device='cuda:0', grad_fn=<NllLossBackward0>)}\n"
     ]
    },
    {
     "name": "stderr",
     "output_type": "stream",
     "text": [
      "INFO:root:iteration 2600: {'overall_loss': tensor(0.5238, device='cuda:0', grad_fn=<AddBackward0>), 'recon_loss': tensor(0.5238, device='cuda:0', grad_fn=<MseLossBackward0>), 'kl_loss': tensor(594.6649, device='cuda:0', grad_fn=<MeanBackward0>), 'neigh_loss': tensor(2.8122, device='cuda:0', grad_fn=<NllLossBackward0>)}\n",
      "INFO:root:iteration 2610: {'overall_loss': tensor(0.6630, device='cuda:0', grad_fn=<AddBackward0>), 'recon_loss': tensor(0.6630, device='cuda:0', grad_fn=<MseLossBackward0>), 'kl_loss': tensor(630.9125, device='cuda:0', grad_fn=<MeanBackward0>), 'neigh_loss': tensor(3.0200, device='cuda:0', grad_fn=<NllLossBackward0>)}\n",
      "INFO:root:iteration 2620: {'overall_loss': tensor(0.5307, device='cuda:0', grad_fn=<AddBackward0>), 'recon_loss': tensor(0.5307, device='cuda:0', grad_fn=<MseLossBackward0>), 'kl_loss': tensor(609.7186, device='cuda:0', grad_fn=<MeanBackward0>), 'neigh_loss': tensor(2.9222, device='cuda:0', grad_fn=<NllLossBackward0>)}\n",
      "INFO:root:iteration 2630: {'overall_loss': tensor(0.6219, device='cuda:0', grad_fn=<AddBackward0>), 'recon_loss': tensor(0.6219, device='cuda:0', grad_fn=<MseLossBackward0>), 'kl_loss': tensor(628.0356, device='cuda:0', grad_fn=<MeanBackward0>), 'neigh_loss': tensor(2.8454, device='cuda:0', grad_fn=<NllLossBackward0>)}\n",
      "INFO:root:iteration 2640: {'overall_loss': tensor(0.6416, device='cuda:0', grad_fn=<AddBackward0>), 'recon_loss': tensor(0.6416, device='cuda:0', grad_fn=<MseLossBackward0>), 'kl_loss': tensor(610.2815, device='cuda:0', grad_fn=<MeanBackward0>), 'neigh_loss': tensor(2.9223, device='cuda:0', grad_fn=<NllLossBackward0>)}\n",
      "INFO:root:iteration 2650: {'overall_loss': tensor(0.6421, device='cuda:0', grad_fn=<AddBackward0>), 'recon_loss': tensor(0.6421, device='cuda:0', grad_fn=<MseLossBackward0>), 'kl_loss': tensor(620.5606, device='cuda:0', grad_fn=<MeanBackward0>), 'neigh_loss': tensor(2.9183, device='cuda:0', grad_fn=<NllLossBackward0>)}\n",
      "INFO:root:iteration 2660: {'overall_loss': tensor(0.5371, device='cuda:0', grad_fn=<AddBackward0>), 'recon_loss': tensor(0.5371, device='cuda:0', grad_fn=<MseLossBackward0>), 'kl_loss': tensor(606.9370, device='cuda:0', grad_fn=<MeanBackward0>), 'neigh_loss': tensor(2.8531, device='cuda:0', grad_fn=<NllLossBackward0>)}\n",
      "INFO:root:iteration 2670: {'overall_loss': tensor(0.5916, device='cuda:0', grad_fn=<AddBackward0>), 'recon_loss': tensor(0.5916, device='cuda:0', grad_fn=<MseLossBackward0>), 'kl_loss': tensor(652.0416, device='cuda:0', grad_fn=<MeanBackward0>), 'neigh_loss': tensor(2.8426, device='cuda:0', grad_fn=<NllLossBackward0>)}\n",
      "INFO:root:iteration 2680: {'overall_loss': tensor(0.4668, device='cuda:0', grad_fn=<AddBackward0>), 'recon_loss': tensor(0.4668, device='cuda:0', grad_fn=<MseLossBackward0>), 'kl_loss': tensor(599.5802, device='cuda:0', grad_fn=<MeanBackward0>), 'neigh_loss': tensor(2.8325, device='cuda:0', grad_fn=<NllLossBackward0>)}\n",
      "INFO:root:iteration 2690: {'overall_loss': tensor(0.6187, device='cuda:0', grad_fn=<AddBackward0>), 'recon_loss': tensor(0.6187, device='cuda:0', grad_fn=<MseLossBackward0>), 'kl_loss': tensor(644.7806, device='cuda:0', grad_fn=<MeanBackward0>), 'neigh_loss': tensor(2.9436, device='cuda:0', grad_fn=<NllLossBackward0>)}\n",
      "INFO:root:iteration 2700: {'overall_loss': tensor(0.5320, device='cuda:0', grad_fn=<AddBackward0>), 'recon_loss': tensor(0.5320, device='cuda:0', grad_fn=<MseLossBackward0>), 'kl_loss': tensor(628.7756, device='cuda:0', grad_fn=<MeanBackward0>), 'neigh_loss': tensor(2.8772, device='cuda:0', grad_fn=<NllLossBackward0>)}\n",
      "INFO:root:iteration 2710: {'overall_loss': tensor(0.6244, device='cuda:0', grad_fn=<AddBackward0>), 'recon_loss': tensor(0.6244, device='cuda:0', grad_fn=<MseLossBackward0>), 'kl_loss': tensor(645.6938, device='cuda:0', grad_fn=<MeanBackward0>), 'neigh_loss': tensor(2.8961, device='cuda:0', grad_fn=<NllLossBackward0>)}\n",
      "INFO:root:iteration 2720: {'overall_loss': tensor(0.5281, device='cuda:0', grad_fn=<AddBackward0>), 'recon_loss': tensor(0.5281, device='cuda:0', grad_fn=<MseLossBackward0>), 'kl_loss': tensor(634.1558, device='cuda:0', grad_fn=<MeanBackward0>), 'neigh_loss': tensor(2.8561, device='cuda:0', grad_fn=<NllLossBackward0>)}\n",
      "INFO:root:iteration 2730: {'overall_loss': tensor(0.5767, device='cuda:0', grad_fn=<AddBackward0>), 'recon_loss': tensor(0.5767, device='cuda:0', grad_fn=<MseLossBackward0>), 'kl_loss': tensor(673.2645, device='cuda:0', grad_fn=<MeanBackward0>), 'neigh_loss': tensor(2.9030, device='cuda:0', grad_fn=<NllLossBackward0>)}\n",
      "INFO:root:iteration 2740: {'overall_loss': tensor(0.4545, device='cuda:0', grad_fn=<AddBackward0>), 'recon_loss': tensor(0.4545, device='cuda:0', grad_fn=<MseLossBackward0>), 'kl_loss': tensor(609.5501, device='cuda:0', grad_fn=<MeanBackward0>), 'neigh_loss': tensor(2.8831, device='cuda:0', grad_fn=<NllLossBackward0>)}\n",
      "INFO:root:iteration 2750: {'overall_loss': tensor(0.5881, device='cuda:0', grad_fn=<AddBackward0>), 'recon_loss': tensor(0.5881, device='cuda:0', grad_fn=<MseLossBackward0>), 'kl_loss': tensor(637.4395, device='cuda:0', grad_fn=<MeanBackward0>), 'neigh_loss': tensor(2.8247, device='cuda:0', grad_fn=<NllLossBackward0>)}\n",
      "INFO:root:iteration 2760: {'overall_loss': tensor(0.5794, device='cuda:0', grad_fn=<AddBackward0>), 'recon_loss': tensor(0.5794, device='cuda:0', grad_fn=<MseLossBackward0>), 'kl_loss': tensor(635.7225, device='cuda:0', grad_fn=<MeanBackward0>), 'neigh_loss': tensor(2.8884, device='cuda:0', grad_fn=<NllLossBackward0>)}\n",
      "INFO:root:iteration 2770: {'overall_loss': tensor(0.4801, device='cuda:0', grad_fn=<AddBackward0>), 'recon_loss': tensor(0.4801, device='cuda:0', grad_fn=<MseLossBackward0>), 'kl_loss': tensor(607.6636, device='cuda:0', grad_fn=<MeanBackward0>), 'neigh_loss': tensor(2.8238, device='cuda:0', grad_fn=<NllLossBackward0>)}\n",
      "INFO:root:iteration 2780: {'overall_loss': tensor(0.5868, device='cuda:0', grad_fn=<AddBackward0>), 'recon_loss': tensor(0.5868, device='cuda:0', grad_fn=<MseLossBackward0>), 'kl_loss': tensor(625.2160, device='cuda:0', grad_fn=<MeanBackward0>), 'neigh_loss': tensor(2.8655, device='cuda:0', grad_fn=<NllLossBackward0>)}\n",
      "INFO:root:iteration 2790: {'overall_loss': tensor(0.6616, device='cuda:0', grad_fn=<AddBackward0>), 'recon_loss': tensor(0.6616, device='cuda:0', grad_fn=<MseLossBackward0>), 'kl_loss': tensor(643.3978, device='cuda:0', grad_fn=<MeanBackward0>), 'neigh_loss': tensor(2.9042, device='cuda:0', grad_fn=<NllLossBackward0>)}\n",
      "INFO:root:iteration 2800: {'overall_loss': tensor(0.6875, device='cuda:0', grad_fn=<AddBackward0>), 'recon_loss': tensor(0.6875, device='cuda:0', grad_fn=<MseLossBackward0>), 'kl_loss': tensor(671.4816, device='cuda:0', grad_fn=<MeanBackward0>), 'neigh_loss': tensor(2.9875, device='cuda:0', grad_fn=<NllLossBackward0>)}\n",
      "INFO:root:iteration 2810: {'overall_loss': tensor(0.5875, device='cuda:0', grad_fn=<AddBackward0>), 'recon_loss': tensor(0.5875, device='cuda:0', grad_fn=<MseLossBackward0>), 'kl_loss': tensor(669.4809, device='cuda:0', grad_fn=<MeanBackward0>), 'neigh_loss': tensor(2.9457, device='cuda:0', grad_fn=<NllLossBackward0>)}\n",
      "INFO:root:iteration 2820: {'overall_loss': tensor(0.5246, device='cuda:0', grad_fn=<AddBackward0>), 'recon_loss': tensor(0.5246, device='cuda:0', grad_fn=<MseLossBackward0>), 'kl_loss': tensor(632.0310, device='cuda:0', grad_fn=<MeanBackward0>), 'neigh_loss': tensor(2.8989, device='cuda:0', grad_fn=<NllLossBackward0>)}\n",
      "INFO:root:iteration 2830: {'overall_loss': tensor(0.4562, device='cuda:0', grad_fn=<AddBackward0>), 'recon_loss': tensor(0.4562, device='cuda:0', grad_fn=<MseLossBackward0>), 'kl_loss': tensor(605.6217, device='cuda:0', grad_fn=<MeanBackward0>), 'neigh_loss': tensor(2.8587, device='cuda:0', grad_fn=<NllLossBackward0>)}\n",
      "INFO:root:iteration 2840: {'overall_loss': tensor(0.5842, device='cuda:0', grad_fn=<AddBackward0>), 'recon_loss': tensor(0.5842, device='cuda:0', grad_fn=<MseLossBackward0>), 'kl_loss': tensor(672.3074, device='cuda:0', grad_fn=<MeanBackward0>), 'neigh_loss': tensor(2.9625, device='cuda:0', grad_fn=<NllLossBackward0>)}\n",
      "INFO:root:iteration 2850: {'overall_loss': tensor(0.5745, device='cuda:0', grad_fn=<AddBackward0>), 'recon_loss': tensor(0.5745, device='cuda:0', grad_fn=<MseLossBackward0>), 'kl_loss': tensor(662.5676, device='cuda:0', grad_fn=<MeanBackward0>), 'neigh_loss': tensor(2.8984, device='cuda:0', grad_fn=<NllLossBackward0>)}\n"
     ]
    },
    {
     "name": "stderr",
     "output_type": "stream",
     "text": [
      "INFO:root:iteration 2860: {'overall_loss': tensor(0.6850, device='cuda:0', grad_fn=<AddBackward0>), 'recon_loss': tensor(0.6850, device='cuda:0', grad_fn=<MseLossBackward0>), 'kl_loss': tensor(658.8090, device='cuda:0', grad_fn=<MeanBackward0>), 'neigh_loss': tensor(2.9178, device='cuda:0', grad_fn=<NllLossBackward0>)}\n",
      "INFO:root:iteration 2870: {'overall_loss': tensor(0.5192, device='cuda:0', grad_fn=<AddBackward0>), 'recon_loss': tensor(0.5192, device='cuda:0', grad_fn=<MseLossBackward0>), 'kl_loss': tensor(640.0055, device='cuda:0', grad_fn=<MeanBackward0>), 'neigh_loss': tensor(2.8249, device='cuda:0', grad_fn=<NllLossBackward0>)}\n",
      "INFO:root:iteration 2880: {'overall_loss': tensor(0.5988, device='cuda:0', grad_fn=<AddBackward0>), 'recon_loss': tensor(0.5988, device='cuda:0', grad_fn=<MseLossBackward0>), 'kl_loss': tensor(643.3400, device='cuda:0', grad_fn=<MeanBackward0>), 'neigh_loss': tensor(2.8802, device='cuda:0', grad_fn=<NllLossBackward0>)}\n",
      "INFO:root:iteration 2890: {'overall_loss': tensor(0.6672, device='cuda:0', grad_fn=<AddBackward0>), 'recon_loss': tensor(0.6672, device='cuda:0', grad_fn=<MseLossBackward0>), 'kl_loss': tensor(658.4771, device='cuda:0', grad_fn=<MeanBackward0>), 'neigh_loss': tensor(2.8754, device='cuda:0', grad_fn=<NllLossBackward0>)}\n",
      "INFO:root:iteration 2900: {'overall_loss': tensor(0.5738, device='cuda:0', grad_fn=<AddBackward0>), 'recon_loss': tensor(0.5738, device='cuda:0', grad_fn=<MseLossBackward0>), 'kl_loss': tensor(654.1194, device='cuda:0', grad_fn=<MeanBackward0>), 'neigh_loss': tensor(2.9607, device='cuda:0', grad_fn=<NllLossBackward0>)}\n",
      "INFO:root:iteration 2910: {'overall_loss': tensor(0.4462, device='cuda:0', grad_fn=<AddBackward0>), 'recon_loss': tensor(0.4462, device='cuda:0', grad_fn=<MseLossBackward0>), 'kl_loss': tensor(607.3879, device='cuda:0', grad_fn=<MeanBackward0>), 'neigh_loss': tensor(2.7283, device='cuda:0', grad_fn=<NllLossBackward0>)}\n",
      "INFO:root:iteration 2920: {'overall_loss': tensor(0.5723, device='cuda:0', grad_fn=<AddBackward0>), 'recon_loss': tensor(0.5723, device='cuda:0', grad_fn=<MseLossBackward0>), 'kl_loss': tensor(636.4313, device='cuda:0', grad_fn=<MeanBackward0>), 'neigh_loss': tensor(2.8697, device='cuda:0', grad_fn=<NllLossBackward0>)}\n",
      "INFO:root:iteration 2930: {'overall_loss': tensor(0.5415, device='cuda:0', grad_fn=<AddBackward0>), 'recon_loss': tensor(0.5415, device='cuda:0', grad_fn=<MseLossBackward0>), 'kl_loss': tensor(624.5778, device='cuda:0', grad_fn=<MeanBackward0>), 'neigh_loss': tensor(2.7659, device='cuda:0', grad_fn=<NllLossBackward0>)}\n",
      "INFO:root:iteration 2940: {'overall_loss': tensor(0.5804, device='cuda:0', grad_fn=<AddBackward0>), 'recon_loss': tensor(0.5804, device='cuda:0', grad_fn=<MseLossBackward0>), 'kl_loss': tensor(637.9407, device='cuda:0', grad_fn=<MeanBackward0>), 'neigh_loss': tensor(2.9032, device='cuda:0', grad_fn=<NllLossBackward0>)}\n",
      "INFO:root:iteration 2950: {'overall_loss': tensor(0.5772, device='cuda:0', grad_fn=<AddBackward0>), 'recon_loss': tensor(0.5772, device='cuda:0', grad_fn=<MseLossBackward0>), 'kl_loss': tensor(648.5319, device='cuda:0', grad_fn=<MeanBackward0>), 'neigh_loss': tensor(2.8633, device='cuda:0', grad_fn=<NllLossBackward0>)}\n",
      "INFO:root:iteration 2960: {'overall_loss': tensor(0.6245, device='cuda:0', grad_fn=<AddBackward0>), 'recon_loss': tensor(0.6245, device='cuda:0', grad_fn=<MseLossBackward0>), 'kl_loss': tensor(655.5775, device='cuda:0', grad_fn=<MeanBackward0>), 'neigh_loss': tensor(2.9043, device='cuda:0', grad_fn=<NllLossBackward0>)}\n",
      "INFO:root:iteration 2970: {'overall_loss': tensor(0.6052, device='cuda:0', grad_fn=<AddBackward0>), 'recon_loss': tensor(0.6052, device='cuda:0', grad_fn=<MseLossBackward0>), 'kl_loss': tensor(644.1491, device='cuda:0', grad_fn=<MeanBackward0>), 'neigh_loss': tensor(2.9309, device='cuda:0', grad_fn=<NllLossBackward0>)}\n",
      "INFO:root:iteration 2980: {'overall_loss': tensor(0.6260, device='cuda:0', grad_fn=<AddBackward0>), 'recon_loss': tensor(0.6260, device='cuda:0', grad_fn=<MseLossBackward0>), 'kl_loss': tensor(647.2704, device='cuda:0', grad_fn=<MeanBackward0>), 'neigh_loss': tensor(2.9139, device='cuda:0', grad_fn=<NllLossBackward0>)}\n",
      "INFO:root:iteration 2990: {'overall_loss': tensor(0.5032, device='cuda:0', grad_fn=<AddBackward0>), 'recon_loss': tensor(0.5032, device='cuda:0', grad_fn=<MseLossBackward0>), 'kl_loss': tensor(628.2352, device='cuda:0', grad_fn=<MeanBackward0>), 'neigh_loss': tensor(2.8465, device='cuda:0', grad_fn=<NllLossBackward0>)}\n",
      "INFO:root:iteration 3000: {'overall_loss': tensor(0.6221, device='cuda:0', grad_fn=<AddBackward0>), 'recon_loss': tensor(0.6221, device='cuda:0', grad_fn=<MseLossBackward0>), 'kl_loss': tensor(650.6758, device='cuda:0', grad_fn=<MeanBackward0>), 'neigh_loss': tensor(2.8527, device='cuda:0', grad_fn=<NllLossBackward0>)}\n",
      "INFO:root:saving checkpoint to /data/estorrs/mushroom/data/projects/xenium_grant/mushroom/S18-25943_xenium/outputs/chkpts/3000iter.pt\n",
      "INFO:root:iteration 3010: {'overall_loss': tensor(0.5932, device='cuda:0', grad_fn=<AddBackward0>), 'recon_loss': tensor(0.5932, device='cuda:0', grad_fn=<MseLossBackward0>), 'kl_loss': tensor(644.9998, device='cuda:0', grad_fn=<MeanBackward0>), 'neigh_loss': tensor(2.9032, device='cuda:0', grad_fn=<NllLossBackward0>)}\n",
      "INFO:root:iteration 3020: {'overall_loss': tensor(0.6409, device='cuda:0', grad_fn=<AddBackward0>), 'recon_loss': tensor(0.6409, device='cuda:0', grad_fn=<MseLossBackward0>), 'kl_loss': tensor(648.0858, device='cuda:0', grad_fn=<MeanBackward0>), 'neigh_loss': tensor(2.9897, device='cuda:0', grad_fn=<NllLossBackward0>)}\n",
      "INFO:root:iteration 3030: {'overall_loss': tensor(0.5486, device='cuda:0', grad_fn=<AddBackward0>), 'recon_loss': tensor(0.5486, device='cuda:0', grad_fn=<MseLossBackward0>), 'kl_loss': tensor(640.2509, device='cuda:0', grad_fn=<MeanBackward0>), 'neigh_loss': tensor(2.9271, device='cuda:0', grad_fn=<NllLossBackward0>)}\n",
      "INFO:root:iteration 3040: {'overall_loss': tensor(0.5274, device='cuda:0', grad_fn=<AddBackward0>), 'recon_loss': tensor(0.5274, device='cuda:0', grad_fn=<MseLossBackward0>), 'kl_loss': tensor(635.5073, device='cuda:0', grad_fn=<MeanBackward0>), 'neigh_loss': tensor(2.9294, device='cuda:0', grad_fn=<NllLossBackward0>)}\n",
      "INFO:root:iteration 3050: {'overall_loss': tensor(0.5387, device='cuda:0', grad_fn=<AddBackward0>), 'recon_loss': tensor(0.5387, device='cuda:0', grad_fn=<MseLossBackward0>), 'kl_loss': tensor(648.3248, device='cuda:0', grad_fn=<MeanBackward0>), 'neigh_loss': tensor(2.8812, device='cuda:0', grad_fn=<NllLossBackward0>)}\n",
      "INFO:root:iteration 3060: {'overall_loss': tensor(0.5580, device='cuda:0', grad_fn=<AddBackward0>), 'recon_loss': tensor(0.5580, device='cuda:0', grad_fn=<MseLossBackward0>), 'kl_loss': tensor(656.8655, device='cuda:0', grad_fn=<MeanBackward0>), 'neigh_loss': tensor(2.9260, device='cuda:0', grad_fn=<NllLossBackward0>)}\n",
      "INFO:root:iteration 3070: {'overall_loss': tensor(0.5650, device='cuda:0', grad_fn=<AddBackward0>), 'recon_loss': tensor(0.5650, device='cuda:0', grad_fn=<MseLossBackward0>), 'kl_loss': tensor(662.5592, device='cuda:0', grad_fn=<MeanBackward0>), 'neigh_loss': tensor(2.9820, device='cuda:0', grad_fn=<NllLossBackward0>)}\n",
      "INFO:root:iteration 3080: {'overall_loss': tensor(0.5405, device='cuda:0', grad_fn=<AddBackward0>), 'recon_loss': tensor(0.5405, device='cuda:0', grad_fn=<MseLossBackward0>), 'kl_loss': tensor(645.7838, device='cuda:0', grad_fn=<MeanBackward0>), 'neigh_loss': tensor(2.9123, device='cuda:0', grad_fn=<NllLossBackward0>)}\n",
      "INFO:root:iteration 3090: {'overall_loss': tensor(0.6069, device='cuda:0', grad_fn=<AddBackward0>), 'recon_loss': tensor(0.6069, device='cuda:0', grad_fn=<MseLossBackward0>), 'kl_loss': tensor(668.0212, device='cuda:0', grad_fn=<MeanBackward0>), 'neigh_loss': tensor(2.9102, device='cuda:0', grad_fn=<NllLossBackward0>)}\n",
      "INFO:root:iteration 3100: {'overall_loss': tensor(0.4986, device='cuda:0', grad_fn=<AddBackward0>), 'recon_loss': tensor(0.4986, device='cuda:0', grad_fn=<MseLossBackward0>), 'kl_loss': tensor(640.4865, device='cuda:0', grad_fn=<MeanBackward0>), 'neigh_loss': tensor(2.8779, device='cuda:0', grad_fn=<NllLossBackward0>)}\n",
      "INFO:root:iteration 3110: {'overall_loss': tensor(0.5686, device='cuda:0', grad_fn=<AddBackward0>), 'recon_loss': tensor(0.5686, device='cuda:0', grad_fn=<MseLossBackward0>), 'kl_loss': tensor(670.5345, device='cuda:0', grad_fn=<MeanBackward0>), 'neigh_loss': tensor(2.9377, device='cuda:0', grad_fn=<NllLossBackward0>)}\n"
     ]
    },
    {
     "name": "stderr",
     "output_type": "stream",
     "text": [
      "INFO:root:iteration 3120: {'overall_loss': tensor(0.6935, device='cuda:0', grad_fn=<AddBackward0>), 'recon_loss': tensor(0.6935, device='cuda:0', grad_fn=<MseLossBackward0>), 'kl_loss': tensor(692.5125, device='cuda:0', grad_fn=<MeanBackward0>), 'neigh_loss': tensor(2.8172, device='cuda:0', grad_fn=<NllLossBackward0>)}\n",
      "INFO:root:iteration 3130: {'overall_loss': tensor(0.6004, device='cuda:0', grad_fn=<AddBackward0>), 'recon_loss': tensor(0.6004, device='cuda:0', grad_fn=<MseLossBackward0>), 'kl_loss': tensor(683.1462, device='cuda:0', grad_fn=<MeanBackward0>), 'neigh_loss': tensor(2.9842, device='cuda:0', grad_fn=<NllLossBackward0>)}\n",
      "INFO:root:iteration 3140: {'overall_loss': tensor(0.6421, device='cuda:0', grad_fn=<AddBackward0>), 'recon_loss': tensor(0.6421, device='cuda:0', grad_fn=<MseLossBackward0>), 'kl_loss': tensor(691.2035, device='cuda:0', grad_fn=<MeanBackward0>), 'neigh_loss': tensor(2.9510, device='cuda:0', grad_fn=<NllLossBackward0>)}\n",
      "INFO:root:iteration 3150: {'overall_loss': tensor(0.4857, device='cuda:0', grad_fn=<AddBackward0>), 'recon_loss': tensor(0.4857, device='cuda:0', grad_fn=<MseLossBackward0>), 'kl_loss': tensor(639.7620, device='cuda:0', grad_fn=<MeanBackward0>), 'neigh_loss': tensor(2.8395, device='cuda:0', grad_fn=<NllLossBackward0>)}\n",
      "INFO:root:iteration 3160: {'overall_loss': tensor(0.6734, device='cuda:0', grad_fn=<AddBackward0>), 'recon_loss': tensor(0.6734, device='cuda:0', grad_fn=<MseLossBackward0>), 'kl_loss': tensor(683.3332, device='cuda:0', grad_fn=<MeanBackward0>), 'neigh_loss': tensor(2.9976, device='cuda:0', grad_fn=<NllLossBackward0>)}\n",
      "INFO:root:iteration 3170: {'overall_loss': tensor(0.6019, device='cuda:0', grad_fn=<AddBackward0>), 'recon_loss': tensor(0.6019, device='cuda:0', grad_fn=<MseLossBackward0>), 'kl_loss': tensor(652.2676, device='cuda:0', grad_fn=<MeanBackward0>), 'neigh_loss': tensor(2.9059, device='cuda:0', grad_fn=<NllLossBackward0>)}\n",
      "INFO:root:iteration 3180: {'overall_loss': tensor(0.5110, device='cuda:0', grad_fn=<AddBackward0>), 'recon_loss': tensor(0.5110, device='cuda:0', grad_fn=<MseLossBackward0>), 'kl_loss': tensor(634.2435, device='cuda:0', grad_fn=<MeanBackward0>), 'neigh_loss': tensor(2.8122, device='cuda:0', grad_fn=<NllLossBackward0>)}\n",
      "INFO:root:iteration 3190: {'overall_loss': tensor(0.5380, device='cuda:0', grad_fn=<AddBackward0>), 'recon_loss': tensor(0.5380, device='cuda:0', grad_fn=<MseLossBackward0>), 'kl_loss': tensor(654.8341, device='cuda:0', grad_fn=<MeanBackward0>), 'neigh_loss': tensor(2.9645, device='cuda:0', grad_fn=<NllLossBackward0>)}\n",
      "INFO:root:iteration 3200: {'overall_loss': tensor(0.6444, device='cuda:0', grad_fn=<AddBackward0>), 'recon_loss': tensor(0.6444, device='cuda:0', grad_fn=<MseLossBackward0>), 'kl_loss': tensor(660.0779, device='cuda:0', grad_fn=<MeanBackward0>), 'neigh_loss': tensor(2.9354, device='cuda:0', grad_fn=<NllLossBackward0>)}\n",
      "INFO:root:iteration 3210: {'overall_loss': tensor(0.4973, device='cuda:0', grad_fn=<AddBackward0>), 'recon_loss': tensor(0.4973, device='cuda:0', grad_fn=<MseLossBackward0>), 'kl_loss': tensor(635.9128, device='cuda:0', grad_fn=<MeanBackward0>), 'neigh_loss': tensor(2.7990, device='cuda:0', grad_fn=<NllLossBackward0>)}\n",
      "INFO:root:iteration 3220: {'overall_loss': tensor(0.5882, device='cuda:0', grad_fn=<AddBackward0>), 'recon_loss': tensor(0.5882, device='cuda:0', grad_fn=<MseLossBackward0>), 'kl_loss': tensor(655.8648, device='cuda:0', grad_fn=<MeanBackward0>), 'neigh_loss': tensor(2.8102, device='cuda:0', grad_fn=<NllLossBackward0>)}\n",
      "INFO:root:iteration 3230: {'overall_loss': tensor(0.5635, device='cuda:0', grad_fn=<AddBackward0>), 'recon_loss': tensor(0.5635, device='cuda:0', grad_fn=<MseLossBackward0>), 'kl_loss': tensor(642.4466, device='cuda:0', grad_fn=<MeanBackward0>), 'neigh_loss': tensor(2.9136, device='cuda:0', grad_fn=<NllLossBackward0>)}\n",
      "INFO:root:iteration 3240: {'overall_loss': tensor(0.6032, device='cuda:0', grad_fn=<AddBackward0>), 'recon_loss': tensor(0.6032, device='cuda:0', grad_fn=<MseLossBackward0>), 'kl_loss': tensor(661.3327, device='cuda:0', grad_fn=<MeanBackward0>), 'neigh_loss': tensor(2.9765, device='cuda:0', grad_fn=<NllLossBackward0>)}\n",
      "INFO:root:iteration 3250: {'overall_loss': tensor(0.5847, device='cuda:0', grad_fn=<AddBackward0>), 'recon_loss': tensor(0.5847, device='cuda:0', grad_fn=<MseLossBackward0>), 'kl_loss': tensor(669.0828, device='cuda:0', grad_fn=<MeanBackward0>), 'neigh_loss': tensor(2.9245, device='cuda:0', grad_fn=<NllLossBackward0>)}\n",
      "INFO:root:iteration 3260: {'overall_loss': tensor(0.5281, device='cuda:0', grad_fn=<AddBackward0>), 'recon_loss': tensor(0.5281, device='cuda:0', grad_fn=<MseLossBackward0>), 'kl_loss': tensor(660.7496, device='cuda:0', grad_fn=<MeanBackward0>), 'neigh_loss': tensor(2.8517, device='cuda:0', grad_fn=<NllLossBackward0>)}\n",
      "INFO:root:iteration 3270: {'overall_loss': tensor(0.6084, device='cuda:0', grad_fn=<AddBackward0>), 'recon_loss': tensor(0.6084, device='cuda:0', grad_fn=<MseLossBackward0>), 'kl_loss': tensor(663.5934, device='cuda:0', grad_fn=<MeanBackward0>), 'neigh_loss': tensor(2.9163, device='cuda:0', grad_fn=<NllLossBackward0>)}\n",
      "INFO:root:iteration 3280: {'overall_loss': tensor(0.5975, device='cuda:0', grad_fn=<AddBackward0>), 'recon_loss': tensor(0.5975, device='cuda:0', grad_fn=<MseLossBackward0>), 'kl_loss': tensor(680.0567, device='cuda:0', grad_fn=<MeanBackward0>), 'neigh_loss': tensor(2.8547, device='cuda:0', grad_fn=<NllLossBackward0>)}\n",
      "INFO:root:iteration 3290: {'overall_loss': tensor(0.5987, device='cuda:0', grad_fn=<AddBackward0>), 'recon_loss': tensor(0.5987, device='cuda:0', grad_fn=<MseLossBackward0>), 'kl_loss': tensor(674.0104, device='cuda:0', grad_fn=<MeanBackward0>), 'neigh_loss': tensor(2.9539, device='cuda:0', grad_fn=<NllLossBackward0>)}\n",
      "INFO:root:iteration 3300: {'overall_loss': tensor(0.5526, device='cuda:0', grad_fn=<AddBackward0>), 'recon_loss': tensor(0.5526, device='cuda:0', grad_fn=<MseLossBackward0>), 'kl_loss': tensor(665.8332, device='cuda:0', grad_fn=<MeanBackward0>), 'neigh_loss': tensor(2.8624, device='cuda:0', grad_fn=<NllLossBackward0>)}\n",
      "INFO:root:iteration 3310: {'overall_loss': tensor(0.4949, device='cuda:0', grad_fn=<AddBackward0>), 'recon_loss': tensor(0.4949, device='cuda:0', grad_fn=<MseLossBackward0>), 'kl_loss': tensor(643.5363, device='cuda:0', grad_fn=<MeanBackward0>), 'neigh_loss': tensor(2.8887, device='cuda:0', grad_fn=<NllLossBackward0>)}\n",
      "INFO:root:iteration 3320: {'overall_loss': tensor(0.5546, device='cuda:0', grad_fn=<AddBackward0>), 'recon_loss': tensor(0.5546, device='cuda:0', grad_fn=<MseLossBackward0>), 'kl_loss': tensor(647.9785, device='cuda:0', grad_fn=<MeanBackward0>), 'neigh_loss': tensor(2.9418, device='cuda:0', grad_fn=<NllLossBackward0>)}\n",
      "INFO:root:iteration 3330: {'overall_loss': tensor(0.5460, device='cuda:0', grad_fn=<AddBackward0>), 'recon_loss': tensor(0.5460, device='cuda:0', grad_fn=<MseLossBackward0>), 'kl_loss': tensor(655.2082, device='cuda:0', grad_fn=<MeanBackward0>), 'neigh_loss': tensor(2.8375, device='cuda:0', grad_fn=<NllLossBackward0>)}\n",
      "INFO:root:iteration 3340: {'overall_loss': tensor(0.5869, device='cuda:0', grad_fn=<AddBackward0>), 'recon_loss': tensor(0.5869, device='cuda:0', grad_fn=<MseLossBackward0>), 'kl_loss': tensor(672.4429, device='cuda:0', grad_fn=<MeanBackward0>), 'neigh_loss': tensor(2.9581, device='cuda:0', grad_fn=<NllLossBackward0>)}\n",
      "INFO:root:iteration 3350: {'overall_loss': tensor(0.4628, device='cuda:0', grad_fn=<AddBackward0>), 'recon_loss': tensor(0.4628, device='cuda:0', grad_fn=<MseLossBackward0>), 'kl_loss': tensor(630.8195, device='cuda:0', grad_fn=<MeanBackward0>), 'neigh_loss': tensor(2.8084, device='cuda:0', grad_fn=<NllLossBackward0>)}\n",
      "INFO:root:iteration 3360: {'overall_loss': tensor(0.6568, device='cuda:0', grad_fn=<AddBackward0>), 'recon_loss': tensor(0.6568, device='cuda:0', grad_fn=<MseLossBackward0>), 'kl_loss': tensor(679.4655, device='cuda:0', grad_fn=<MeanBackward0>), 'neigh_loss': tensor(2.9319, device='cuda:0', grad_fn=<NllLossBackward0>)}\n",
      "INFO:root:iteration 3370: {'overall_loss': tensor(0.5515, device='cuda:0', grad_fn=<AddBackward0>), 'recon_loss': tensor(0.5515, device='cuda:0', grad_fn=<MseLossBackward0>), 'kl_loss': tensor(652.4888, device='cuda:0', grad_fn=<MeanBackward0>), 'neigh_loss': tensor(2.8938, device='cuda:0', grad_fn=<NllLossBackward0>)}\n"
     ]
    },
    {
     "name": "stderr",
     "output_type": "stream",
     "text": [
      "INFO:root:iteration 3380: {'overall_loss': tensor(0.5566, device='cuda:0', grad_fn=<AddBackward0>), 'recon_loss': tensor(0.5566, device='cuda:0', grad_fn=<MseLossBackward0>), 'kl_loss': tensor(655.5533, device='cuda:0', grad_fn=<MeanBackward0>), 'neigh_loss': tensor(2.8694, device='cuda:0', grad_fn=<NllLossBackward0>)}\n",
      "INFO:root:iteration 3390: {'overall_loss': tensor(0.5760, device='cuda:0', grad_fn=<AddBackward0>), 'recon_loss': tensor(0.5760, device='cuda:0', grad_fn=<MseLossBackward0>), 'kl_loss': tensor(660.9116, device='cuda:0', grad_fn=<MeanBackward0>), 'neigh_loss': tensor(2.8969, device='cuda:0', grad_fn=<NllLossBackward0>)}\n",
      "INFO:root:iteration 3400: {'overall_loss': tensor(0.5469, device='cuda:0', grad_fn=<AddBackward0>), 'recon_loss': tensor(0.5469, device='cuda:0', grad_fn=<MseLossBackward0>), 'kl_loss': tensor(653.8827, device='cuda:0', grad_fn=<MeanBackward0>), 'neigh_loss': tensor(2.8249, device='cuda:0', grad_fn=<NllLossBackward0>)}\n",
      "INFO:root:iteration 3410: {'overall_loss': tensor(0.5636, device='cuda:0', grad_fn=<AddBackward0>), 'recon_loss': tensor(0.5636, device='cuda:0', grad_fn=<MseLossBackward0>), 'kl_loss': tensor(653.0792, device='cuda:0', grad_fn=<MeanBackward0>), 'neigh_loss': tensor(2.8708, device='cuda:0', grad_fn=<NllLossBackward0>)}\n",
      "INFO:root:iteration 3420: {'overall_loss': tensor(0.5921, device='cuda:0', grad_fn=<AddBackward0>), 'recon_loss': tensor(0.5921, device='cuda:0', grad_fn=<MseLossBackward0>), 'kl_loss': tensor(665.9793, device='cuda:0', grad_fn=<MeanBackward0>), 'neigh_loss': tensor(2.9710, device='cuda:0', grad_fn=<NllLossBackward0>)}\n",
      "INFO:root:iteration 3430: {'overall_loss': tensor(0.5019, device='cuda:0', grad_fn=<AddBackward0>), 'recon_loss': tensor(0.5019, device='cuda:0', grad_fn=<MseLossBackward0>), 'kl_loss': tensor(626.1955, device='cuda:0', grad_fn=<MeanBackward0>), 'neigh_loss': tensor(2.7911, device='cuda:0', grad_fn=<NllLossBackward0>)}\n",
      "INFO:root:iteration 3440: {'overall_loss': tensor(0.6600, device='cuda:0', grad_fn=<AddBackward0>), 'recon_loss': tensor(0.6600, device='cuda:0', grad_fn=<MseLossBackward0>), 'kl_loss': tensor(675.9979, device='cuda:0', grad_fn=<MeanBackward0>), 'neigh_loss': tensor(3.0054, device='cuda:0', grad_fn=<NllLossBackward0>)}\n",
      "INFO:root:iteration 3450: {'overall_loss': tensor(0.5430, device='cuda:0', grad_fn=<AddBackward0>), 'recon_loss': tensor(0.5430, device='cuda:0', grad_fn=<MseLossBackward0>), 'kl_loss': tensor(636.5171, device='cuda:0', grad_fn=<MeanBackward0>), 'neigh_loss': tensor(2.7318, device='cuda:0', grad_fn=<NllLossBackward0>)}\n",
      "INFO:root:iteration 3460: {'overall_loss': tensor(0.6193, device='cuda:0', grad_fn=<AddBackward0>), 'recon_loss': tensor(0.6193, device='cuda:0', grad_fn=<MseLossBackward0>), 'kl_loss': tensor(686.3202, device='cuda:0', grad_fn=<MeanBackward0>), 'neigh_loss': tensor(2.8404, device='cuda:0', grad_fn=<NllLossBackward0>)}\n",
      "INFO:root:iteration 3470: {'overall_loss': tensor(0.5932, device='cuda:0', grad_fn=<AddBackward0>), 'recon_loss': tensor(0.5932, device='cuda:0', grad_fn=<MseLossBackward0>), 'kl_loss': tensor(688.6001, device='cuda:0', grad_fn=<MeanBackward0>), 'neigh_loss': tensor(3.0199, device='cuda:0', grad_fn=<NllLossBackward0>)}\n",
      "INFO:root:iteration 3480: {'overall_loss': tensor(0.5612, device='cuda:0', grad_fn=<AddBackward0>), 'recon_loss': tensor(0.5612, device='cuda:0', grad_fn=<MseLossBackward0>), 'kl_loss': tensor(678.4567, device='cuda:0', grad_fn=<MeanBackward0>), 'neigh_loss': tensor(2.8895, device='cuda:0', grad_fn=<NllLossBackward0>)}\n",
      "INFO:root:iteration 3490: {'overall_loss': tensor(0.5403, device='cuda:0', grad_fn=<AddBackward0>), 'recon_loss': tensor(0.5403, device='cuda:0', grad_fn=<MseLossBackward0>), 'kl_loss': tensor(682.8972, device='cuda:0', grad_fn=<MeanBackward0>), 'neigh_loss': tensor(2.9133, device='cuda:0', grad_fn=<NllLossBackward0>)}\n",
      "INFO:root:iteration 3500: {'overall_loss': tensor(0.5263, device='cuda:0', grad_fn=<AddBackward0>), 'recon_loss': tensor(0.5263, device='cuda:0', grad_fn=<MseLossBackward0>), 'kl_loss': tensor(668.5151, device='cuda:0', grad_fn=<MeanBackward0>), 'neigh_loss': tensor(2.8084, device='cuda:0', grad_fn=<NllLossBackward0>)}\n",
      "INFO:root:iteration 3510: {'overall_loss': tensor(0.6009, device='cuda:0', grad_fn=<AddBackward0>), 'recon_loss': tensor(0.6009, device='cuda:0', grad_fn=<MseLossBackward0>), 'kl_loss': tensor(684.7651, device='cuda:0', grad_fn=<MeanBackward0>), 'neigh_loss': tensor(2.8079, device='cuda:0', grad_fn=<NllLossBackward0>)}\n",
      "INFO:root:iteration 3520: {'overall_loss': tensor(0.5908, device='cuda:0', grad_fn=<AddBackward0>), 'recon_loss': tensor(0.5908, device='cuda:0', grad_fn=<MseLossBackward0>), 'kl_loss': tensor(679.7755, device='cuda:0', grad_fn=<MeanBackward0>), 'neigh_loss': tensor(2.8591, device='cuda:0', grad_fn=<NllLossBackward0>)}\n",
      "INFO:root:iteration 3530: {'overall_loss': tensor(0.7723, device='cuda:0', grad_fn=<AddBackward0>), 'recon_loss': tensor(0.7723, device='cuda:0', grad_fn=<MseLossBackward0>), 'kl_loss': tensor(724.5595, device='cuda:0', grad_fn=<MeanBackward0>), 'neigh_loss': tensor(2.9862, device='cuda:0', grad_fn=<NllLossBackward0>)}\n",
      "INFO:root:iteration 3540: {'overall_loss': tensor(0.5574, device='cuda:0', grad_fn=<AddBackward0>), 'recon_loss': tensor(0.5574, device='cuda:0', grad_fn=<MseLossBackward0>), 'kl_loss': tensor(676.7891, device='cuda:0', grad_fn=<MeanBackward0>), 'neigh_loss': tensor(2.9415, device='cuda:0', grad_fn=<NllLossBackward0>)}\n",
      "INFO:root:iteration 3550: {'overall_loss': tensor(0.4403, device='cuda:0', grad_fn=<AddBackward0>), 'recon_loss': tensor(0.4403, device='cuda:0', grad_fn=<MseLossBackward0>), 'kl_loss': tensor(644.3749, device='cuda:0', grad_fn=<MeanBackward0>), 'neigh_loss': tensor(2.8105, device='cuda:0', grad_fn=<NllLossBackward0>)}\n",
      "INFO:root:iteration 3560: {'overall_loss': tensor(0.5938, device='cuda:0', grad_fn=<AddBackward0>), 'recon_loss': tensor(0.5938, device='cuda:0', grad_fn=<MseLossBackward0>), 'kl_loss': tensor(683.1884, device='cuda:0', grad_fn=<MeanBackward0>), 'neigh_loss': tensor(2.7959, device='cuda:0', grad_fn=<NllLossBackward0>)}\n",
      "INFO:root:iteration 3570: {'overall_loss': tensor(0.5204, device='cuda:0', grad_fn=<AddBackward0>), 'recon_loss': tensor(0.5204, device='cuda:0', grad_fn=<MseLossBackward0>), 'kl_loss': tensor(665.6179, device='cuda:0', grad_fn=<MeanBackward0>), 'neigh_loss': tensor(2.8960, device='cuda:0', grad_fn=<NllLossBackward0>)}\n",
      "INFO:root:iteration 3580: {'overall_loss': tensor(0.6336, device='cuda:0', grad_fn=<AddBackward0>), 'recon_loss': tensor(0.6336, device='cuda:0', grad_fn=<MseLossBackward0>), 'kl_loss': tensor(694.0466, device='cuda:0', grad_fn=<MeanBackward0>), 'neigh_loss': tensor(2.9049, device='cuda:0', grad_fn=<NllLossBackward0>)}\n",
      "INFO:root:iteration 3590: {'overall_loss': tensor(0.4214, device='cuda:0', grad_fn=<AddBackward0>), 'recon_loss': tensor(0.4214, device='cuda:0', grad_fn=<MseLossBackward0>), 'kl_loss': tensor(640.9896, device='cuda:0', grad_fn=<MeanBackward0>), 'neigh_loss': tensor(2.8121, device='cuda:0', grad_fn=<NllLossBackward0>)}\n",
      "INFO:root:iteration 3600: {'overall_loss': tensor(0.5776, device='cuda:0', grad_fn=<AddBackward0>), 'recon_loss': tensor(0.5776, device='cuda:0', grad_fn=<MseLossBackward0>), 'kl_loss': tensor(689.7548, device='cuda:0', grad_fn=<MeanBackward0>), 'neigh_loss': tensor(2.9733, device='cuda:0', grad_fn=<NllLossBackward0>)}\n",
      "INFO:root:iteration 3610: {'overall_loss': tensor(0.6082, device='cuda:0', grad_fn=<AddBackward0>), 'recon_loss': tensor(0.6082, device='cuda:0', grad_fn=<MseLossBackward0>), 'kl_loss': tensor(675.0826, device='cuda:0', grad_fn=<MeanBackward0>), 'neigh_loss': tensor(2.8851, device='cuda:0', grad_fn=<NllLossBackward0>)}\n",
      "INFO:root:iteration 3620: {'overall_loss': tensor(0.4818, device='cuda:0', grad_fn=<AddBackward0>), 'recon_loss': tensor(0.4818, device='cuda:0', grad_fn=<MseLossBackward0>), 'kl_loss': tensor(654.9186, device='cuda:0', grad_fn=<MeanBackward0>), 'neigh_loss': tensor(2.9055, device='cuda:0', grad_fn=<NllLossBackward0>)}\n",
      "INFO:root:iteration 3630: {'overall_loss': tensor(0.4860, device='cuda:0', grad_fn=<AddBackward0>), 'recon_loss': tensor(0.4860, device='cuda:0', grad_fn=<MseLossBackward0>), 'kl_loss': tensor(663.8007, device='cuda:0', grad_fn=<MeanBackward0>), 'neigh_loss': tensor(2.7875, device='cuda:0', grad_fn=<NllLossBackward0>)}\n"
     ]
    },
    {
     "name": "stderr",
     "output_type": "stream",
     "text": [
      "INFO:root:iteration 3640: {'overall_loss': tensor(0.6059, device='cuda:0', grad_fn=<AddBackward0>), 'recon_loss': tensor(0.6059, device='cuda:0', grad_fn=<MseLossBackward0>), 'kl_loss': tensor(693.0875, device='cuda:0', grad_fn=<MeanBackward0>), 'neigh_loss': tensor(2.9861, device='cuda:0', grad_fn=<NllLossBackward0>)}\n",
      "INFO:root:iteration 3650: {'overall_loss': tensor(0.6203, device='cuda:0', grad_fn=<AddBackward0>), 'recon_loss': tensor(0.6203, device='cuda:0', grad_fn=<MseLossBackward0>), 'kl_loss': tensor(695.2098, device='cuda:0', grad_fn=<MeanBackward0>), 'neigh_loss': tensor(2.9264, device='cuda:0', grad_fn=<NllLossBackward0>)}\n",
      "INFO:root:iteration 3660: {'overall_loss': tensor(0.5618, device='cuda:0', grad_fn=<AddBackward0>), 'recon_loss': tensor(0.5618, device='cuda:0', grad_fn=<MseLossBackward0>), 'kl_loss': tensor(689.0333, device='cuda:0', grad_fn=<MeanBackward0>), 'neigh_loss': tensor(2.9562, device='cuda:0', grad_fn=<NllLossBackward0>)}\n",
      "INFO:root:iteration 3670: {'overall_loss': tensor(0.5495, device='cuda:0', grad_fn=<AddBackward0>), 'recon_loss': tensor(0.5495, device='cuda:0', grad_fn=<MseLossBackward0>), 'kl_loss': tensor(698.5697, device='cuda:0', grad_fn=<MeanBackward0>), 'neigh_loss': tensor(2.9229, device='cuda:0', grad_fn=<NllLossBackward0>)}\n",
      "INFO:root:iteration 3680: {'overall_loss': tensor(0.6413, device='cuda:0', grad_fn=<AddBackward0>), 'recon_loss': tensor(0.6413, device='cuda:0', grad_fn=<MseLossBackward0>), 'kl_loss': tensor(712.5094, device='cuda:0', grad_fn=<MeanBackward0>), 'neigh_loss': tensor(2.8796, device='cuda:0', grad_fn=<NllLossBackward0>)}\n",
      "INFO:root:iteration 3690: {'overall_loss': tensor(0.5318, device='cuda:0', grad_fn=<AddBackward0>), 'recon_loss': tensor(0.5318, device='cuda:0', grad_fn=<MseLossBackward0>), 'kl_loss': tensor(688.6736, device='cuda:0', grad_fn=<MeanBackward0>), 'neigh_loss': tensor(2.9217, device='cuda:0', grad_fn=<NllLossBackward0>)}\n",
      "INFO:root:iteration 3700: {'overall_loss': tensor(0.5423, device='cuda:0', grad_fn=<AddBackward0>), 'recon_loss': tensor(0.5423, device='cuda:0', grad_fn=<MseLossBackward0>), 'kl_loss': tensor(674.0696, device='cuda:0', grad_fn=<MeanBackward0>), 'neigh_loss': tensor(2.8933, device='cuda:0', grad_fn=<NllLossBackward0>)}\n",
      "INFO:root:iteration 3710: {'overall_loss': tensor(0.5544, device='cuda:0', grad_fn=<AddBackward0>), 'recon_loss': tensor(0.5544, device='cuda:0', grad_fn=<MseLossBackward0>), 'kl_loss': tensor(682.6575, device='cuda:0', grad_fn=<MeanBackward0>), 'neigh_loss': tensor(2.9238, device='cuda:0', grad_fn=<NllLossBackward0>)}\n",
      "INFO:root:iteration 3720: {'overall_loss': tensor(0.5397, device='cuda:0', grad_fn=<AddBackward0>), 'recon_loss': tensor(0.5397, device='cuda:0', grad_fn=<MseLossBackward0>), 'kl_loss': tensor(694.9951, device='cuda:0', grad_fn=<MeanBackward0>), 'neigh_loss': tensor(2.8726, device='cuda:0', grad_fn=<NllLossBackward0>)}\n",
      "INFO:root:iteration 3730: {'overall_loss': tensor(0.6876, device='cuda:0', grad_fn=<AddBackward0>), 'recon_loss': tensor(0.6876, device='cuda:0', grad_fn=<MseLossBackward0>), 'kl_loss': tensor(731.1087, device='cuda:0', grad_fn=<MeanBackward0>), 'neigh_loss': tensor(2.9710, device='cuda:0', grad_fn=<NllLossBackward0>)}\n",
      "INFO:root:iteration 3740: {'overall_loss': tensor(0.5166, device='cuda:0', grad_fn=<AddBackward0>), 'recon_loss': tensor(0.5166, device='cuda:0', grad_fn=<MseLossBackward0>), 'kl_loss': tensor(678.5476, device='cuda:0', grad_fn=<MeanBackward0>), 'neigh_loss': tensor(2.9705, device='cuda:0', grad_fn=<NllLossBackward0>)}\n",
      "INFO:root:iteration 3750: {'overall_loss': tensor(0.6584, device='cuda:0', grad_fn=<AddBackward0>), 'recon_loss': tensor(0.6584, device='cuda:0', grad_fn=<MseLossBackward0>), 'kl_loss': tensor(714.3606, device='cuda:0', grad_fn=<MeanBackward0>), 'neigh_loss': tensor(2.9134, device='cuda:0', grad_fn=<NllLossBackward0>)}\n",
      "INFO:root:iteration 3760: {'overall_loss': tensor(0.6051, device='cuda:0', grad_fn=<AddBackward0>), 'recon_loss': tensor(0.6051, device='cuda:0', grad_fn=<MseLossBackward0>), 'kl_loss': tensor(693.1086, device='cuda:0', grad_fn=<MeanBackward0>), 'neigh_loss': tensor(2.8645, device='cuda:0', grad_fn=<NllLossBackward0>)}\n",
      "INFO:root:iteration 3770: {'overall_loss': tensor(0.5375, device='cuda:0', grad_fn=<AddBackward0>), 'recon_loss': tensor(0.5375, device='cuda:0', grad_fn=<MseLossBackward0>), 'kl_loss': tensor(677.4536, device='cuda:0', grad_fn=<MeanBackward0>), 'neigh_loss': tensor(2.8441, device='cuda:0', grad_fn=<NllLossBackward0>)}\n",
      "INFO:root:iteration 3780: {'overall_loss': tensor(0.5113, device='cuda:0', grad_fn=<AddBackward0>), 'recon_loss': tensor(0.5113, device='cuda:0', grad_fn=<MseLossBackward0>), 'kl_loss': tensor(677.9473, device='cuda:0', grad_fn=<MeanBackward0>), 'neigh_loss': tensor(2.8274, device='cuda:0', grad_fn=<NllLossBackward0>)}\n",
      "INFO:root:iteration 3790: {'overall_loss': tensor(0.5851, device='cuda:0', grad_fn=<AddBackward0>), 'recon_loss': tensor(0.5851, device='cuda:0', grad_fn=<MseLossBackward0>), 'kl_loss': tensor(696.1777, device='cuda:0', grad_fn=<MeanBackward0>), 'neigh_loss': tensor(2.8810, device='cuda:0', grad_fn=<NllLossBackward0>)}\n",
      "INFO:root:iteration 3800: {'overall_loss': tensor(0.5217, device='cuda:0', grad_fn=<AddBackward0>), 'recon_loss': tensor(0.5217, device='cuda:0', grad_fn=<MseLossBackward0>), 'kl_loss': tensor(687.1814, device='cuda:0', grad_fn=<MeanBackward0>), 'neigh_loss': tensor(2.8083, device='cuda:0', grad_fn=<NllLossBackward0>)}\n",
      "INFO:root:iteration 3810: {'overall_loss': tensor(0.6569, device='cuda:0', grad_fn=<AddBackward0>), 'recon_loss': tensor(0.6569, device='cuda:0', grad_fn=<MseLossBackward0>), 'kl_loss': tensor(727.6637, device='cuda:0', grad_fn=<MeanBackward0>), 'neigh_loss': tensor(2.9066, device='cuda:0', grad_fn=<NllLossBackward0>)}\n",
      "INFO:root:iteration 3820: {'overall_loss': tensor(0.5479, device='cuda:0', grad_fn=<AddBackward0>), 'recon_loss': tensor(0.5479, device='cuda:0', grad_fn=<MseLossBackward0>), 'kl_loss': tensor(713.7109, device='cuda:0', grad_fn=<MeanBackward0>), 'neigh_loss': tensor(3.0048, device='cuda:0', grad_fn=<NllLossBackward0>)}\n",
      "INFO:root:iteration 3830: {'overall_loss': tensor(0.6257, device='cuda:0', grad_fn=<AddBackward0>), 'recon_loss': tensor(0.6257, device='cuda:0', grad_fn=<MseLossBackward0>), 'kl_loss': tensor(707.8652, device='cuda:0', grad_fn=<MeanBackward0>), 'neigh_loss': tensor(2.9495, device='cuda:0', grad_fn=<NllLossBackward0>)}\n",
      "INFO:root:iteration 3840: {'overall_loss': tensor(0.6182, device='cuda:0', grad_fn=<AddBackward0>), 'recon_loss': tensor(0.6182, device='cuda:0', grad_fn=<MseLossBackward0>), 'kl_loss': tensor(706.5298, device='cuda:0', grad_fn=<MeanBackward0>), 'neigh_loss': tensor(2.9704, device='cuda:0', grad_fn=<NllLossBackward0>)}\n",
      "INFO:root:iteration 3850: {'overall_loss': tensor(0.6129, device='cuda:0', grad_fn=<AddBackward0>), 'recon_loss': tensor(0.6129, device='cuda:0', grad_fn=<MseLossBackward0>), 'kl_loss': tensor(717.5107, device='cuda:0', grad_fn=<MeanBackward0>), 'neigh_loss': tensor(2.8501, device='cuda:0', grad_fn=<NllLossBackward0>)}\n",
      "INFO:root:iteration 3860: {'overall_loss': tensor(0.6154, device='cuda:0', grad_fn=<AddBackward0>), 'recon_loss': tensor(0.6154, device='cuda:0', grad_fn=<MseLossBackward0>), 'kl_loss': tensor(700.3310, device='cuda:0', grad_fn=<MeanBackward0>), 'neigh_loss': tensor(2.8285, device='cuda:0', grad_fn=<NllLossBackward0>)}\n",
      "INFO:root:iteration 3870: {'overall_loss': tensor(0.6539, device='cuda:0', grad_fn=<AddBackward0>), 'recon_loss': tensor(0.6539, device='cuda:0', grad_fn=<MseLossBackward0>), 'kl_loss': tensor(711.8045, device='cuda:0', grad_fn=<MeanBackward0>), 'neigh_loss': tensor(2.9362, device='cuda:0', grad_fn=<NllLossBackward0>)}\n",
      "INFO:root:iteration 3880: {'overall_loss': tensor(0.5954, device='cuda:0', grad_fn=<AddBackward0>), 'recon_loss': tensor(0.5954, device='cuda:0', grad_fn=<MseLossBackward0>), 'kl_loss': tensor(696.6409, device='cuda:0', grad_fn=<MeanBackward0>), 'neigh_loss': tensor(2.9455, device='cuda:0', grad_fn=<NllLossBackward0>)}\n",
      "INFO:root:iteration 3890: {'overall_loss': tensor(0.5729, device='cuda:0', grad_fn=<AddBackward0>), 'recon_loss': tensor(0.5729, device='cuda:0', grad_fn=<MseLossBackward0>), 'kl_loss': tensor(689.4323, device='cuda:0', grad_fn=<MeanBackward0>), 'neigh_loss': tensor(2.8868, device='cuda:0', grad_fn=<NllLossBackward0>)}\n"
     ]
    },
    {
     "name": "stderr",
     "output_type": "stream",
     "text": [
      "INFO:root:iteration 3900: {'overall_loss': tensor(0.5246, device='cuda:0', grad_fn=<AddBackward0>), 'recon_loss': tensor(0.5246, device='cuda:0', grad_fn=<MseLossBackward0>), 'kl_loss': tensor(677.8339, device='cuda:0', grad_fn=<MeanBackward0>), 'neigh_loss': tensor(2.8760, device='cuda:0', grad_fn=<NllLossBackward0>)}\n",
      "INFO:root:iteration 3910: {'overall_loss': tensor(0.5890, device='cuda:0', grad_fn=<AddBackward0>), 'recon_loss': tensor(0.5890, device='cuda:0', grad_fn=<MseLossBackward0>), 'kl_loss': tensor(701.4432, device='cuda:0', grad_fn=<MeanBackward0>), 'neigh_loss': tensor(2.9396, device='cuda:0', grad_fn=<NllLossBackward0>)}\n",
      "INFO:root:iteration 3920: {'overall_loss': tensor(0.4925, device='cuda:0', grad_fn=<AddBackward0>), 'recon_loss': tensor(0.4925, device='cuda:0', grad_fn=<MseLossBackward0>), 'kl_loss': tensor(669.6973, device='cuda:0', grad_fn=<MeanBackward0>), 'neigh_loss': tensor(2.8958, device='cuda:0', grad_fn=<NllLossBackward0>)}\n",
      "INFO:root:iteration 3930: {'overall_loss': tensor(0.4964, device='cuda:0', grad_fn=<AddBackward0>), 'recon_loss': tensor(0.4964, device='cuda:0', grad_fn=<MseLossBackward0>), 'kl_loss': tensor(667.1957, device='cuda:0', grad_fn=<MeanBackward0>), 'neigh_loss': tensor(2.9276, device='cuda:0', grad_fn=<NllLossBackward0>)}\n",
      "INFO:root:iteration 3940: {'overall_loss': tensor(0.4939, device='cuda:0', grad_fn=<AddBackward0>), 'recon_loss': tensor(0.4939, device='cuda:0', grad_fn=<MseLossBackward0>), 'kl_loss': tensor(675.1215, device='cuda:0', grad_fn=<MeanBackward0>), 'neigh_loss': tensor(2.8614, device='cuda:0', grad_fn=<NllLossBackward0>)}\n",
      "INFO:root:iteration 3950: {'overall_loss': tensor(0.6830, device='cuda:0', grad_fn=<AddBackward0>), 'recon_loss': tensor(0.6830, device='cuda:0', grad_fn=<MseLossBackward0>), 'kl_loss': tensor(705.8232, device='cuda:0', grad_fn=<MeanBackward0>), 'neigh_loss': tensor(2.8617, device='cuda:0', grad_fn=<NllLossBackward0>)}\n",
      "INFO:root:iteration 3960: {'overall_loss': tensor(0.6218, device='cuda:0', grad_fn=<AddBackward0>), 'recon_loss': tensor(0.6218, device='cuda:0', grad_fn=<MseLossBackward0>), 'kl_loss': tensor(703.0891, device='cuda:0', grad_fn=<MeanBackward0>), 'neigh_loss': tensor(2.8109, device='cuda:0', grad_fn=<NllLossBackward0>)}\n",
      "INFO:root:iteration 3970: {'overall_loss': tensor(0.6240, device='cuda:0', grad_fn=<AddBackward0>), 'recon_loss': tensor(0.6240, device='cuda:0', grad_fn=<MseLossBackward0>), 'kl_loss': tensor(708.8457, device='cuda:0', grad_fn=<MeanBackward0>), 'neigh_loss': tensor(2.9717, device='cuda:0', grad_fn=<NllLossBackward0>)}\n",
      "INFO:root:iteration 3980: {'overall_loss': tensor(0.5313, device='cuda:0', grad_fn=<AddBackward0>), 'recon_loss': tensor(0.5313, device='cuda:0', grad_fn=<MseLossBackward0>), 'kl_loss': tensor(674.1067, device='cuda:0', grad_fn=<MeanBackward0>), 'neigh_loss': tensor(2.8131, device='cuda:0', grad_fn=<NllLossBackward0>)}\n",
      "INFO:root:iteration 3990: {'overall_loss': tensor(0.4796, device='cuda:0', grad_fn=<AddBackward0>), 'recon_loss': tensor(0.4796, device='cuda:0', grad_fn=<MseLossBackward0>), 'kl_loss': tensor(654.1646, device='cuda:0', grad_fn=<MeanBackward0>), 'neigh_loss': tensor(2.9018, device='cuda:0', grad_fn=<NllLossBackward0>)}\n",
      "INFO:root:iteration 4000: {'overall_loss': tensor(0.6939, device='cuda:0', grad_fn=<AddBackward0>), 'recon_loss': tensor(0.6939, device='cuda:0', grad_fn=<MseLossBackward0>), 'kl_loss': tensor(699.9939, device='cuda:0', grad_fn=<MeanBackward0>), 'neigh_loss': tensor(2.8352, device='cuda:0', grad_fn=<NllLossBackward0>)}\n",
      "INFO:root:saving checkpoint to /data/estorrs/mushroom/data/projects/xenium_grant/mushroom/S18-25943_xenium/outputs/chkpts/4000iter.pt\n",
      "INFO:root:iteration 4010: {'overall_loss': tensor(0.5509, device='cuda:0', grad_fn=<AddBackward0>), 'recon_loss': tensor(0.5509, device='cuda:0', grad_fn=<MseLossBackward0>), 'kl_loss': tensor(670.2062, device='cuda:0', grad_fn=<MeanBackward0>), 'neigh_loss': tensor(2.8797, device='cuda:0', grad_fn=<NllLossBackward0>)}\n",
      "INFO:root:iteration 4020: {'overall_loss': tensor(0.6958, device='cuda:0', grad_fn=<AddBackward0>), 'recon_loss': tensor(0.6958, device='cuda:0', grad_fn=<MseLossBackward0>), 'kl_loss': tensor(714.0787, device='cuda:0', grad_fn=<MeanBackward0>), 'neigh_loss': tensor(2.9463, device='cuda:0', grad_fn=<NllLossBackward0>)}\n",
      "INFO:root:iteration 4030: {'overall_loss': tensor(0.5725, device='cuda:0', grad_fn=<AddBackward0>), 'recon_loss': tensor(0.5725, device='cuda:0', grad_fn=<MseLossBackward0>), 'kl_loss': tensor(672.0828, device='cuda:0', grad_fn=<MeanBackward0>), 'neigh_loss': tensor(2.8370, device='cuda:0', grad_fn=<NllLossBackward0>)}\n",
      "INFO:root:iteration 4040: {'overall_loss': tensor(0.6259, device='cuda:0', grad_fn=<AddBackward0>), 'recon_loss': tensor(0.6259, device='cuda:0', grad_fn=<MseLossBackward0>), 'kl_loss': tensor(690.5755, device='cuda:0', grad_fn=<MeanBackward0>), 'neigh_loss': tensor(2.8588, device='cuda:0', grad_fn=<NllLossBackward0>)}\n",
      "INFO:root:iteration 4050: {'overall_loss': tensor(0.6739, device='cuda:0', grad_fn=<AddBackward0>), 'recon_loss': tensor(0.6739, device='cuda:0', grad_fn=<MseLossBackward0>), 'kl_loss': tensor(696.9904, device='cuda:0', grad_fn=<MeanBackward0>), 'neigh_loss': tensor(2.8347, device='cuda:0', grad_fn=<NllLossBackward0>)}\n",
      "INFO:root:iteration 4060: {'overall_loss': tensor(0.6052, device='cuda:0', grad_fn=<AddBackward0>), 'recon_loss': tensor(0.6052, device='cuda:0', grad_fn=<MseLossBackward0>), 'kl_loss': tensor(695.8497, device='cuda:0', grad_fn=<MeanBackward0>), 'neigh_loss': tensor(2.9407, device='cuda:0', grad_fn=<NllLossBackward0>)}\n",
      "INFO:root:iteration 4070: {'overall_loss': tensor(0.5406, device='cuda:0', grad_fn=<AddBackward0>), 'recon_loss': tensor(0.5406, device='cuda:0', grad_fn=<MseLossBackward0>), 'kl_loss': tensor(675.9350, device='cuda:0', grad_fn=<MeanBackward0>), 'neigh_loss': tensor(2.9066, device='cuda:0', grad_fn=<NllLossBackward0>)}\n",
      "INFO:root:iteration 4080: {'overall_loss': tensor(0.5892, device='cuda:0', grad_fn=<AddBackward0>), 'recon_loss': tensor(0.5892, device='cuda:0', grad_fn=<MseLossBackward0>), 'kl_loss': tensor(669.3322, device='cuda:0', grad_fn=<MeanBackward0>), 'neigh_loss': tensor(2.8772, device='cuda:0', grad_fn=<NllLossBackward0>)}\n",
      "INFO:root:iteration 4090: {'overall_loss': tensor(0.5119, device='cuda:0', grad_fn=<AddBackward0>), 'recon_loss': tensor(0.5119, device='cuda:0', grad_fn=<MseLossBackward0>), 'kl_loss': tensor(670.4171, device='cuda:0', grad_fn=<MeanBackward0>), 'neigh_loss': tensor(2.9304, device='cuda:0', grad_fn=<NllLossBackward0>)}\n",
      "INFO:root:iteration 4100: {'overall_loss': tensor(0.6490, device='cuda:0', grad_fn=<AddBackward0>), 'recon_loss': tensor(0.6490, device='cuda:0', grad_fn=<MseLossBackward0>), 'kl_loss': tensor(698.1379, device='cuda:0', grad_fn=<MeanBackward0>), 'neigh_loss': tensor(2.9165, device='cuda:0', grad_fn=<NllLossBackward0>)}\n",
      "INFO:root:iteration 4110: {'overall_loss': tensor(0.6118, device='cuda:0', grad_fn=<AddBackward0>), 'recon_loss': tensor(0.6118, device='cuda:0', grad_fn=<MseLossBackward0>), 'kl_loss': tensor(693.9471, device='cuda:0', grad_fn=<MeanBackward0>), 'neigh_loss': tensor(3.0319, device='cuda:0', grad_fn=<NllLossBackward0>)}\n",
      "INFO:root:iteration 4120: {'overall_loss': tensor(0.5824, device='cuda:0', grad_fn=<AddBackward0>), 'recon_loss': tensor(0.5824, device='cuda:0', grad_fn=<MseLossBackward0>), 'kl_loss': tensor(680.1858, device='cuda:0', grad_fn=<MeanBackward0>), 'neigh_loss': tensor(2.9297, device='cuda:0', grad_fn=<NllLossBackward0>)}\n",
      "INFO:root:iteration 4130: {'overall_loss': tensor(0.5253, device='cuda:0', grad_fn=<AddBackward0>), 'recon_loss': tensor(0.5253, device='cuda:0', grad_fn=<MseLossBackward0>), 'kl_loss': tensor(690.6329, device='cuda:0', grad_fn=<MeanBackward0>), 'neigh_loss': tensor(2.8930, device='cuda:0', grad_fn=<NllLossBackward0>)}\n",
      "INFO:root:iteration 4140: {'overall_loss': tensor(0.5251, device='cuda:0', grad_fn=<AddBackward0>), 'recon_loss': tensor(0.5251, device='cuda:0', grad_fn=<MseLossBackward0>), 'kl_loss': tensor(672.6541, device='cuda:0', grad_fn=<MeanBackward0>), 'neigh_loss': tensor(3.0122, device='cuda:0', grad_fn=<NllLossBackward0>)}\n",
      "INFO:root:iteration 4150: {'overall_loss': tensor(0.4914, device='cuda:0', grad_fn=<AddBackward0>), 'recon_loss': tensor(0.4914, device='cuda:0', grad_fn=<MseLossBackward0>), 'kl_loss': tensor(669.5499, device='cuda:0', grad_fn=<MeanBackward0>), 'neigh_loss': tensor(2.8813, device='cuda:0', grad_fn=<NllLossBackward0>)}\n"
     ]
    },
    {
     "name": "stderr",
     "output_type": "stream",
     "text": [
      "INFO:root:iteration 4160: {'overall_loss': tensor(0.6020, device='cuda:0', grad_fn=<AddBackward0>), 'recon_loss': tensor(0.6020, device='cuda:0', grad_fn=<MseLossBackward0>), 'kl_loss': tensor(693.4247, device='cuda:0', grad_fn=<MeanBackward0>), 'neigh_loss': tensor(2.9418, device='cuda:0', grad_fn=<NllLossBackward0>)}\n",
      "INFO:root:iteration 4170: {'overall_loss': tensor(0.5478, device='cuda:0', grad_fn=<AddBackward0>), 'recon_loss': tensor(0.5478, device='cuda:0', grad_fn=<MseLossBackward0>), 'kl_loss': tensor(695.0506, device='cuda:0', grad_fn=<MeanBackward0>), 'neigh_loss': tensor(2.8413, device='cuda:0', grad_fn=<NllLossBackward0>)}\n",
      "INFO:root:iteration 4180: {'overall_loss': tensor(0.5417, device='cuda:0', grad_fn=<AddBackward0>), 'recon_loss': tensor(0.5417, device='cuda:0', grad_fn=<MseLossBackward0>), 'kl_loss': tensor(686.7966, device='cuda:0', grad_fn=<MeanBackward0>), 'neigh_loss': tensor(2.9333, device='cuda:0', grad_fn=<NllLossBackward0>)}\n",
      "INFO:root:iteration 4190: {'overall_loss': tensor(0.5955, device='cuda:0', grad_fn=<AddBackward0>), 'recon_loss': tensor(0.5955, device='cuda:0', grad_fn=<MseLossBackward0>), 'kl_loss': tensor(709.0483, device='cuda:0', grad_fn=<MeanBackward0>), 'neigh_loss': tensor(2.9624, device='cuda:0', grad_fn=<NllLossBackward0>)}\n",
      "INFO:root:iteration 4200: {'overall_loss': tensor(0.5024, device='cuda:0', grad_fn=<AddBackward0>), 'recon_loss': tensor(0.5024, device='cuda:0', grad_fn=<MseLossBackward0>), 'kl_loss': tensor(664.4171, device='cuda:0', grad_fn=<MeanBackward0>), 'neigh_loss': tensor(2.8517, device='cuda:0', grad_fn=<NllLossBackward0>)}\n",
      "INFO:root:iteration 4210: {'overall_loss': tensor(0.6076, device='cuda:0', grad_fn=<AddBackward0>), 'recon_loss': tensor(0.6076, device='cuda:0', grad_fn=<MseLossBackward0>), 'kl_loss': tensor(683.6223, device='cuda:0', grad_fn=<MeanBackward0>), 'neigh_loss': tensor(2.9075, device='cuda:0', grad_fn=<NllLossBackward0>)}\n",
      "INFO:root:iteration 4220: {'overall_loss': tensor(0.6423, device='cuda:0', grad_fn=<AddBackward0>), 'recon_loss': tensor(0.6423, device='cuda:0', grad_fn=<MseLossBackward0>), 'kl_loss': tensor(700.8721, device='cuda:0', grad_fn=<MeanBackward0>), 'neigh_loss': tensor(2.8072, device='cuda:0', grad_fn=<NllLossBackward0>)}\n",
      "INFO:root:iteration 4230: {'overall_loss': tensor(0.5751, device='cuda:0', grad_fn=<AddBackward0>), 'recon_loss': tensor(0.5751, device='cuda:0', grad_fn=<MseLossBackward0>), 'kl_loss': tensor(681.5251, device='cuda:0', grad_fn=<MeanBackward0>), 'neigh_loss': tensor(3.0066, device='cuda:0', grad_fn=<NllLossBackward0>)}\n",
      "INFO:root:iteration 4240: {'overall_loss': tensor(0.6678, device='cuda:0', grad_fn=<AddBackward0>), 'recon_loss': tensor(0.6678, device='cuda:0', grad_fn=<MseLossBackward0>), 'kl_loss': tensor(694.0069, device='cuda:0', grad_fn=<MeanBackward0>), 'neigh_loss': tensor(2.9613, device='cuda:0', grad_fn=<NllLossBackward0>)}\n",
      "INFO:root:iteration 4250: {'overall_loss': tensor(0.5877, device='cuda:0', grad_fn=<AddBackward0>), 'recon_loss': tensor(0.5877, device='cuda:0', grad_fn=<MseLossBackward0>), 'kl_loss': tensor(676.7318, device='cuda:0', grad_fn=<MeanBackward0>), 'neigh_loss': tensor(2.9584, device='cuda:0', grad_fn=<NllLossBackward0>)}\n",
      "INFO:root:iteration 4260: {'overall_loss': tensor(0.5031, device='cuda:0', grad_fn=<AddBackward0>), 'recon_loss': tensor(0.5031, device='cuda:0', grad_fn=<MseLossBackward0>), 'kl_loss': tensor(659.1927, device='cuda:0', grad_fn=<MeanBackward0>), 'neigh_loss': tensor(2.9151, device='cuda:0', grad_fn=<NllLossBackward0>)}\n",
      "INFO:root:iteration 4270: {'overall_loss': tensor(0.4467, device='cuda:0', grad_fn=<AddBackward0>), 'recon_loss': tensor(0.4467, device='cuda:0', grad_fn=<MseLossBackward0>), 'kl_loss': tensor(653.7737, device='cuda:0', grad_fn=<MeanBackward0>), 'neigh_loss': tensor(2.8999, device='cuda:0', grad_fn=<NllLossBackward0>)}\n",
      "INFO:root:iteration 4280: {'overall_loss': tensor(0.5224, device='cuda:0', grad_fn=<AddBackward0>), 'recon_loss': tensor(0.5224, device='cuda:0', grad_fn=<MseLossBackward0>), 'kl_loss': tensor(698.6270, device='cuda:0', grad_fn=<MeanBackward0>), 'neigh_loss': tensor(2.8398, device='cuda:0', grad_fn=<NllLossBackward0>)}\n",
      "INFO:root:iteration 4290: {'overall_loss': tensor(0.6102, device='cuda:0', grad_fn=<AddBackward0>), 'recon_loss': tensor(0.6102, device='cuda:0', grad_fn=<MseLossBackward0>), 'kl_loss': tensor(724.6897, device='cuda:0', grad_fn=<MeanBackward0>), 'neigh_loss': tensor(2.8147, device='cuda:0', grad_fn=<NllLossBackward0>)}\n",
      "INFO:root:iteration 4300: {'overall_loss': tensor(0.5212, device='cuda:0', grad_fn=<AddBackward0>), 'recon_loss': tensor(0.5212, device='cuda:0', grad_fn=<MseLossBackward0>), 'kl_loss': tensor(712.7344, device='cuda:0', grad_fn=<MeanBackward0>), 'neigh_loss': tensor(2.7670, device='cuda:0', grad_fn=<NllLossBackward0>)}\n",
      "INFO:root:iteration 4310: {'overall_loss': tensor(0.4792, device='cuda:0', grad_fn=<AddBackward0>), 'recon_loss': tensor(0.4792, device='cuda:0', grad_fn=<MseLossBackward0>), 'kl_loss': tensor(669.4035, device='cuda:0', grad_fn=<MeanBackward0>), 'neigh_loss': tensor(2.8252, device='cuda:0', grad_fn=<NllLossBackward0>)}\n",
      "INFO:root:iteration 4320: {'overall_loss': tensor(0.6238, device='cuda:0', grad_fn=<AddBackward0>), 'recon_loss': tensor(0.6238, device='cuda:0', grad_fn=<MseLossBackward0>), 'kl_loss': tensor(719.8762, device='cuda:0', grad_fn=<MeanBackward0>), 'neigh_loss': tensor(2.8795, device='cuda:0', grad_fn=<NllLossBackward0>)}\n",
      "INFO:root:iteration 4330: {'overall_loss': tensor(0.5117, device='cuda:0', grad_fn=<AddBackward0>), 'recon_loss': tensor(0.5117, device='cuda:0', grad_fn=<MseLossBackward0>), 'kl_loss': tensor(695.2757, device='cuda:0', grad_fn=<MeanBackward0>), 'neigh_loss': tensor(2.7849, device='cuda:0', grad_fn=<NllLossBackward0>)}\n",
      "INFO:root:iteration 4340: {'overall_loss': tensor(0.6103, device='cuda:0', grad_fn=<AddBackward0>), 'recon_loss': tensor(0.6103, device='cuda:0', grad_fn=<MseLossBackward0>), 'kl_loss': tensor(713.5485, device='cuda:0', grad_fn=<MeanBackward0>), 'neigh_loss': tensor(2.9204, device='cuda:0', grad_fn=<NllLossBackward0>)}\n",
      "INFO:root:iteration 4350: {'overall_loss': tensor(0.5539, device='cuda:0', grad_fn=<AddBackward0>), 'recon_loss': tensor(0.5539, device='cuda:0', grad_fn=<MseLossBackward0>), 'kl_loss': tensor(698.0704, device='cuda:0', grad_fn=<MeanBackward0>), 'neigh_loss': tensor(2.8516, device='cuda:0', grad_fn=<NllLossBackward0>)}\n",
      "INFO:root:iteration 4360: {'overall_loss': tensor(0.5281, device='cuda:0', grad_fn=<AddBackward0>), 'recon_loss': tensor(0.5281, device='cuda:0', grad_fn=<MseLossBackward0>), 'kl_loss': tensor(695.2177, device='cuda:0', grad_fn=<MeanBackward0>), 'neigh_loss': tensor(2.8643, device='cuda:0', grad_fn=<NllLossBackward0>)}\n",
      "INFO:root:iteration 4370: {'overall_loss': tensor(0.6762, device='cuda:0', grad_fn=<AddBackward0>), 'recon_loss': tensor(0.6762, device='cuda:0', grad_fn=<MseLossBackward0>), 'kl_loss': tensor(716.0009, device='cuda:0', grad_fn=<MeanBackward0>), 'neigh_loss': tensor(2.9142, device='cuda:0', grad_fn=<NllLossBackward0>)}\n",
      "INFO:root:iteration 4380: {'overall_loss': tensor(0.5719, device='cuda:0', grad_fn=<AddBackward0>), 'recon_loss': tensor(0.5719, device='cuda:0', grad_fn=<MseLossBackward0>), 'kl_loss': tensor(702.0728, device='cuda:0', grad_fn=<MeanBackward0>), 'neigh_loss': tensor(2.9973, device='cuda:0', grad_fn=<NllLossBackward0>)}\n",
      "INFO:root:iteration 4390: {'overall_loss': tensor(0.6171, device='cuda:0', grad_fn=<AddBackward0>), 'recon_loss': tensor(0.6171, device='cuda:0', grad_fn=<MseLossBackward0>), 'kl_loss': tensor(702.3579, device='cuda:0', grad_fn=<MeanBackward0>), 'neigh_loss': tensor(2.8284, device='cuda:0', grad_fn=<NllLossBackward0>)}\n",
      "INFO:root:iteration 4400: {'overall_loss': tensor(0.6711, device='cuda:0', grad_fn=<AddBackward0>), 'recon_loss': tensor(0.6711, device='cuda:0', grad_fn=<MseLossBackward0>), 'kl_loss': tensor(711.5510, device='cuda:0', grad_fn=<MeanBackward0>), 'neigh_loss': tensor(2.8694, device='cuda:0', grad_fn=<NllLossBackward0>)}\n",
      "INFO:root:iteration 4410: {'overall_loss': tensor(0.4349, device='cuda:0', grad_fn=<AddBackward0>), 'recon_loss': tensor(0.4349, device='cuda:0', grad_fn=<MseLossBackward0>), 'kl_loss': tensor(666.1323, device='cuda:0', grad_fn=<MeanBackward0>), 'neigh_loss': tensor(2.9027, device='cuda:0', grad_fn=<NllLossBackward0>)}\n"
     ]
    },
    {
     "name": "stderr",
     "output_type": "stream",
     "text": [
      "INFO:root:iteration 4420: {'overall_loss': tensor(0.6982, device='cuda:0', grad_fn=<AddBackward0>), 'recon_loss': tensor(0.6982, device='cuda:0', grad_fn=<MseLossBackward0>), 'kl_loss': tensor(726.6885, device='cuda:0', grad_fn=<MeanBackward0>), 'neigh_loss': tensor(2.9370, device='cuda:0', grad_fn=<NllLossBackward0>)}\n",
      "INFO:root:iteration 4430: {'overall_loss': tensor(0.5193, device='cuda:0', grad_fn=<AddBackward0>), 'recon_loss': tensor(0.5193, device='cuda:0', grad_fn=<MseLossBackward0>), 'kl_loss': tensor(670.7094, device='cuda:0', grad_fn=<MeanBackward0>), 'neigh_loss': tensor(2.8229, device='cuda:0', grad_fn=<NllLossBackward0>)}\n",
      "INFO:root:iteration 4440: {'overall_loss': tensor(0.5039, device='cuda:0', grad_fn=<AddBackward0>), 'recon_loss': tensor(0.5039, device='cuda:0', grad_fn=<MseLossBackward0>), 'kl_loss': tensor(675.9045, device='cuda:0', grad_fn=<MeanBackward0>), 'neigh_loss': tensor(2.9141, device='cuda:0', grad_fn=<NllLossBackward0>)}\n",
      "INFO:root:iteration 4450: {'overall_loss': tensor(0.5441, device='cuda:0', grad_fn=<AddBackward0>), 'recon_loss': tensor(0.5441, device='cuda:0', grad_fn=<MseLossBackward0>), 'kl_loss': tensor(697.8533, device='cuda:0', grad_fn=<MeanBackward0>), 'neigh_loss': tensor(2.8604, device='cuda:0', grad_fn=<NllLossBackward0>)}\n",
      "INFO:root:iteration 4460: {'overall_loss': tensor(0.6426, device='cuda:0', grad_fn=<AddBackward0>), 'recon_loss': tensor(0.6426, device='cuda:0', grad_fn=<MseLossBackward0>), 'kl_loss': tensor(722.6448, device='cuda:0', grad_fn=<MeanBackward0>), 'neigh_loss': tensor(2.9067, device='cuda:0', grad_fn=<NllLossBackward0>)}\n",
      "INFO:root:iteration 4470: {'overall_loss': tensor(0.6385, device='cuda:0', grad_fn=<AddBackward0>), 'recon_loss': tensor(0.6385, device='cuda:0', grad_fn=<MseLossBackward0>), 'kl_loss': tensor(720.3084, device='cuda:0', grad_fn=<MeanBackward0>), 'neigh_loss': tensor(2.8346, device='cuda:0', grad_fn=<NllLossBackward0>)}\n",
      "INFO:root:iteration 4480: {'overall_loss': tensor(0.6026, device='cuda:0', grad_fn=<AddBackward0>), 'recon_loss': tensor(0.6026, device='cuda:0', grad_fn=<MseLossBackward0>), 'kl_loss': tensor(708.4206, device='cuda:0', grad_fn=<MeanBackward0>), 'neigh_loss': tensor(2.9223, device='cuda:0', grad_fn=<NllLossBackward0>)}\n",
      "INFO:root:iteration 4490: {'overall_loss': tensor(0.5124, device='cuda:0', grad_fn=<AddBackward0>), 'recon_loss': tensor(0.5124, device='cuda:0', grad_fn=<MseLossBackward0>), 'kl_loss': tensor(698.2381, device='cuda:0', grad_fn=<MeanBackward0>), 'neigh_loss': tensor(2.8391, device='cuda:0', grad_fn=<NllLossBackward0>)}\n",
      "INFO:root:iteration 4500: {'overall_loss': tensor(0.5760, device='cuda:0', grad_fn=<AddBackward0>), 'recon_loss': tensor(0.5760, device='cuda:0', grad_fn=<MseLossBackward0>), 'kl_loss': tensor(703.4651, device='cuda:0', grad_fn=<MeanBackward0>), 'neigh_loss': tensor(2.9267, device='cuda:0', grad_fn=<NllLossBackward0>)}\n",
      "INFO:root:iteration 4510: {'overall_loss': tensor(0.5977, device='cuda:0', grad_fn=<AddBackward0>), 'recon_loss': tensor(0.5977, device='cuda:0', grad_fn=<MseLossBackward0>), 'kl_loss': tensor(715.9819, device='cuda:0', grad_fn=<MeanBackward0>), 'neigh_loss': tensor(2.9022, device='cuda:0', grad_fn=<NllLossBackward0>)}\n",
      "INFO:root:iteration 4520: {'overall_loss': tensor(0.6038, device='cuda:0', grad_fn=<AddBackward0>), 'recon_loss': tensor(0.6038, device='cuda:0', grad_fn=<MseLossBackward0>), 'kl_loss': tensor(729.6364, device='cuda:0', grad_fn=<MeanBackward0>), 'neigh_loss': tensor(3.0128, device='cuda:0', grad_fn=<NllLossBackward0>)}\n",
      "INFO:root:iteration 4530: {'overall_loss': tensor(0.6329, device='cuda:0', grad_fn=<AddBackward0>), 'recon_loss': tensor(0.6329, device='cuda:0', grad_fn=<MseLossBackward0>), 'kl_loss': tensor(719.7144, device='cuda:0', grad_fn=<MeanBackward0>), 'neigh_loss': tensor(2.8657, device='cuda:0', grad_fn=<NllLossBackward0>)}\n",
      "INFO:root:iteration 4540: {'overall_loss': tensor(0.5568, device='cuda:0', grad_fn=<AddBackward0>), 'recon_loss': tensor(0.5568, device='cuda:0', grad_fn=<MseLossBackward0>), 'kl_loss': tensor(721.2905, device='cuda:0', grad_fn=<MeanBackward0>), 'neigh_loss': tensor(2.9004, device='cuda:0', grad_fn=<NllLossBackward0>)}\n",
      "INFO:root:iteration 4550: {'overall_loss': tensor(0.5295, device='cuda:0', grad_fn=<AddBackward0>), 'recon_loss': tensor(0.5295, device='cuda:0', grad_fn=<MseLossBackward0>), 'kl_loss': tensor(722.0921, device='cuda:0', grad_fn=<MeanBackward0>), 'neigh_loss': tensor(2.9383, device='cuda:0', grad_fn=<NllLossBackward0>)}\n",
      "INFO:root:iteration 4560: {'overall_loss': tensor(0.5323, device='cuda:0', grad_fn=<AddBackward0>), 'recon_loss': tensor(0.5323, device='cuda:0', grad_fn=<MseLossBackward0>), 'kl_loss': tensor(746.1023, device='cuda:0', grad_fn=<MeanBackward0>), 'neigh_loss': tensor(2.9386, device='cuda:0', grad_fn=<NllLossBackward0>)}\n",
      "INFO:root:iteration 4570: {'overall_loss': tensor(0.5661, device='cuda:0', grad_fn=<AddBackward0>), 'recon_loss': tensor(0.5661, device='cuda:0', grad_fn=<MseLossBackward0>), 'kl_loss': tensor(731.7861, device='cuda:0', grad_fn=<MeanBackward0>), 'neigh_loss': tensor(2.9037, device='cuda:0', grad_fn=<NllLossBackward0>)}\n",
      "INFO:root:iteration 4580: {'overall_loss': tensor(0.7293, device='cuda:0', grad_fn=<AddBackward0>), 'recon_loss': tensor(0.7293, device='cuda:0', grad_fn=<MseLossBackward0>), 'kl_loss': tensor(756.9097, device='cuda:0', grad_fn=<MeanBackward0>), 'neigh_loss': tensor(2.9238, device='cuda:0', grad_fn=<NllLossBackward0>)}\n",
      "INFO:root:iteration 4590: {'overall_loss': tensor(0.6147, device='cuda:0', grad_fn=<AddBackward0>), 'recon_loss': tensor(0.6147, device='cuda:0', grad_fn=<MseLossBackward0>), 'kl_loss': tensor(752.6461, device='cuda:0', grad_fn=<MeanBackward0>), 'neigh_loss': tensor(2.9111, device='cuda:0', grad_fn=<NllLossBackward0>)}\n",
      "INFO:root:iteration 4600: {'overall_loss': tensor(0.6717, device='cuda:0', grad_fn=<AddBackward0>), 'recon_loss': tensor(0.6717, device='cuda:0', grad_fn=<MseLossBackward0>), 'kl_loss': tensor(743.9294, device='cuda:0', grad_fn=<MeanBackward0>), 'neigh_loss': tensor(2.9278, device='cuda:0', grad_fn=<NllLossBackward0>)}\n",
      "INFO:root:iteration 4610: {'overall_loss': tensor(0.5414, device='cuda:0', grad_fn=<AddBackward0>), 'recon_loss': tensor(0.5414, device='cuda:0', grad_fn=<MseLossBackward0>), 'kl_loss': tensor(733.6270, device='cuda:0', grad_fn=<MeanBackward0>), 'neigh_loss': tensor(2.9310, device='cuda:0', grad_fn=<NllLossBackward0>)}\n",
      "INFO:root:iteration 4620: {'overall_loss': tensor(0.5830, device='cuda:0', grad_fn=<AddBackward0>), 'recon_loss': tensor(0.5830, device='cuda:0', grad_fn=<MseLossBackward0>), 'kl_loss': tensor(735.6374, device='cuda:0', grad_fn=<MeanBackward0>), 'neigh_loss': tensor(2.8066, device='cuda:0', grad_fn=<NllLossBackward0>)}\n",
      "INFO:root:iteration 4630: {'overall_loss': tensor(0.5157, device='cuda:0', grad_fn=<AddBackward0>), 'recon_loss': tensor(0.5157, device='cuda:0', grad_fn=<MseLossBackward0>), 'kl_loss': tensor(735.1210, device='cuda:0', grad_fn=<MeanBackward0>), 'neigh_loss': tensor(2.7534, device='cuda:0', grad_fn=<NllLossBackward0>)}\n",
      "INFO:root:iteration 4640: {'overall_loss': tensor(0.6401, device='cuda:0', grad_fn=<AddBackward0>), 'recon_loss': tensor(0.6401, device='cuda:0', grad_fn=<MseLossBackward0>), 'kl_loss': tensor(768.3446, device='cuda:0', grad_fn=<MeanBackward0>), 'neigh_loss': tensor(2.9119, device='cuda:0', grad_fn=<NllLossBackward0>)}\n",
      "INFO:root:iteration 4650: {'overall_loss': tensor(0.5203, device='cuda:0', grad_fn=<AddBackward0>), 'recon_loss': tensor(0.5203, device='cuda:0', grad_fn=<MseLossBackward0>), 'kl_loss': tensor(737.2866, device='cuda:0', grad_fn=<MeanBackward0>), 'neigh_loss': tensor(2.9521, device='cuda:0', grad_fn=<NllLossBackward0>)}\n",
      "INFO:root:iteration 4660: {'overall_loss': tensor(0.5710, device='cuda:0', grad_fn=<AddBackward0>), 'recon_loss': tensor(0.5710, device='cuda:0', grad_fn=<MseLossBackward0>), 'kl_loss': tensor(740.4532, device='cuda:0', grad_fn=<MeanBackward0>), 'neigh_loss': tensor(2.9276, device='cuda:0', grad_fn=<NllLossBackward0>)}\n",
      "INFO:root:iteration 4670: {'overall_loss': tensor(0.6429, device='cuda:0', grad_fn=<AddBackward0>), 'recon_loss': tensor(0.6429, device='cuda:0', grad_fn=<MseLossBackward0>), 'kl_loss': tensor(762.8407, device='cuda:0', grad_fn=<MeanBackward0>), 'neigh_loss': tensor(2.8166, device='cuda:0', grad_fn=<NllLossBackward0>)}\n"
     ]
    },
    {
     "name": "stderr",
     "output_type": "stream",
     "text": [
      "INFO:root:iteration 4680: {'overall_loss': tensor(0.5556, device='cuda:0', grad_fn=<AddBackward0>), 'recon_loss': tensor(0.5556, device='cuda:0', grad_fn=<MseLossBackward0>), 'kl_loss': tensor(725.0492, device='cuda:0', grad_fn=<MeanBackward0>), 'neigh_loss': tensor(2.7786, device='cuda:0', grad_fn=<NllLossBackward0>)}\n",
      "INFO:root:iteration 4690: {'overall_loss': tensor(0.6163, device='cuda:0', grad_fn=<AddBackward0>), 'recon_loss': tensor(0.6163, device='cuda:0', grad_fn=<MseLossBackward0>), 'kl_loss': tensor(731.1859, device='cuda:0', grad_fn=<MeanBackward0>), 'neigh_loss': tensor(2.9288, device='cuda:0', grad_fn=<NllLossBackward0>)}\n",
      "INFO:root:iteration 4700: {'overall_loss': tensor(0.5752, device='cuda:0', grad_fn=<AddBackward0>), 'recon_loss': tensor(0.5752, device='cuda:0', grad_fn=<MseLossBackward0>), 'kl_loss': tensor(729.9708, device='cuda:0', grad_fn=<MeanBackward0>), 'neigh_loss': tensor(2.8416, device='cuda:0', grad_fn=<NllLossBackward0>)}\n",
      "INFO:root:iteration 4710: {'overall_loss': tensor(0.5285, device='cuda:0', grad_fn=<AddBackward0>), 'recon_loss': tensor(0.5285, device='cuda:0', grad_fn=<MseLossBackward0>), 'kl_loss': tensor(694.2532, device='cuda:0', grad_fn=<MeanBackward0>), 'neigh_loss': tensor(2.8440, device='cuda:0', grad_fn=<NllLossBackward0>)}\n",
      "INFO:root:iteration 4720: {'overall_loss': tensor(0.5547, device='cuda:0', grad_fn=<AddBackward0>), 'recon_loss': tensor(0.5547, device='cuda:0', grad_fn=<MseLossBackward0>), 'kl_loss': tensor(726.5346, device='cuda:0', grad_fn=<MeanBackward0>), 'neigh_loss': tensor(3.0171, device='cuda:0', grad_fn=<NllLossBackward0>)}\n",
      "INFO:root:iteration 4730: {'overall_loss': tensor(0.4762, device='cuda:0', grad_fn=<AddBackward0>), 'recon_loss': tensor(0.4762, device='cuda:0', grad_fn=<MseLossBackward0>), 'kl_loss': tensor(717.5607, device='cuda:0', grad_fn=<MeanBackward0>), 'neigh_loss': tensor(2.7993, device='cuda:0', grad_fn=<NllLossBackward0>)}\n",
      "INFO:root:iteration 4740: {'overall_loss': tensor(0.5318, device='cuda:0', grad_fn=<AddBackward0>), 'recon_loss': tensor(0.5318, device='cuda:0', grad_fn=<MseLossBackward0>), 'kl_loss': tensor(732.0119, device='cuda:0', grad_fn=<MeanBackward0>), 'neigh_loss': tensor(2.8454, device='cuda:0', grad_fn=<NllLossBackward0>)}\n",
      "INFO:root:iteration 4750: {'overall_loss': tensor(0.6218, device='cuda:0', grad_fn=<AddBackward0>), 'recon_loss': tensor(0.6218, device='cuda:0', grad_fn=<MseLossBackward0>), 'kl_loss': tensor(758.5278, device='cuda:0', grad_fn=<MeanBackward0>), 'neigh_loss': tensor(2.9645, device='cuda:0', grad_fn=<NllLossBackward0>)}\n",
      "INFO:root:iteration 4760: {'overall_loss': tensor(0.6207, device='cuda:0', grad_fn=<AddBackward0>), 'recon_loss': tensor(0.6207, device='cuda:0', grad_fn=<MseLossBackward0>), 'kl_loss': tensor(753.4995, device='cuda:0', grad_fn=<MeanBackward0>), 'neigh_loss': tensor(2.8938, device='cuda:0', grad_fn=<NllLossBackward0>)}\n",
      "INFO:root:iteration 4770: {'overall_loss': tensor(0.6947, device='cuda:0', grad_fn=<AddBackward0>), 'recon_loss': tensor(0.6947, device='cuda:0', grad_fn=<MseLossBackward0>), 'kl_loss': tensor(765.2748, device='cuda:0', grad_fn=<MeanBackward0>), 'neigh_loss': tensor(2.9490, device='cuda:0', grad_fn=<NllLossBackward0>)}\n",
      "INFO:root:iteration 4780: {'overall_loss': tensor(0.6244, device='cuda:0', grad_fn=<AddBackward0>), 'recon_loss': tensor(0.6244, device='cuda:0', grad_fn=<MseLossBackward0>), 'kl_loss': tensor(778.5316, device='cuda:0', grad_fn=<MeanBackward0>), 'neigh_loss': tensor(2.9363, device='cuda:0', grad_fn=<NllLossBackward0>)}\n",
      "INFO:root:iteration 4790: {'overall_loss': tensor(0.4646, device='cuda:0', grad_fn=<AddBackward0>), 'recon_loss': tensor(0.4646, device='cuda:0', grad_fn=<MseLossBackward0>), 'kl_loss': tensor(742.4659, device='cuda:0', grad_fn=<MeanBackward0>), 'neigh_loss': tensor(2.8295, device='cuda:0', grad_fn=<NllLossBackward0>)}\n",
      "INFO:root:iteration 4800: {'overall_loss': tensor(0.4671, device='cuda:0', grad_fn=<AddBackward0>), 'recon_loss': tensor(0.4671, device='cuda:0', grad_fn=<MseLossBackward0>), 'kl_loss': tensor(721.8019, device='cuda:0', grad_fn=<MeanBackward0>), 'neigh_loss': tensor(2.8610, device='cuda:0', grad_fn=<NllLossBackward0>)}\n",
      "INFO:root:iteration 4810: {'overall_loss': tensor(0.6243, device='cuda:0', grad_fn=<AddBackward0>), 'recon_loss': tensor(0.6243, device='cuda:0', grad_fn=<MseLossBackward0>), 'kl_loss': tensor(749.1597, device='cuda:0', grad_fn=<MeanBackward0>), 'neigh_loss': tensor(2.8674, device='cuda:0', grad_fn=<NllLossBackward0>)}\n",
      "INFO:root:iteration 4820: {'overall_loss': tensor(0.5767, device='cuda:0', grad_fn=<AddBackward0>), 'recon_loss': tensor(0.5767, device='cuda:0', grad_fn=<MseLossBackward0>), 'kl_loss': tensor(727.8974, device='cuda:0', grad_fn=<MeanBackward0>), 'neigh_loss': tensor(2.9201, device='cuda:0', grad_fn=<NllLossBackward0>)}\n",
      "INFO:root:iteration 4830: {'overall_loss': tensor(0.5574, device='cuda:0', grad_fn=<AddBackward0>), 'recon_loss': tensor(0.5574, device='cuda:0', grad_fn=<MseLossBackward0>), 'kl_loss': tensor(733.8214, device='cuda:0', grad_fn=<MeanBackward0>), 'neigh_loss': tensor(2.8209, device='cuda:0', grad_fn=<NllLossBackward0>)}\n",
      "INFO:root:iteration 4840: {'overall_loss': tensor(0.6581, device='cuda:0', grad_fn=<AddBackward0>), 'recon_loss': tensor(0.6581, device='cuda:0', grad_fn=<MseLossBackward0>), 'kl_loss': tensor(768.2032, device='cuda:0', grad_fn=<MeanBackward0>), 'neigh_loss': tensor(2.9889, device='cuda:0', grad_fn=<NllLossBackward0>)}\n",
      "INFO:root:iteration 4850: {'overall_loss': tensor(0.5896, device='cuda:0', grad_fn=<AddBackward0>), 'recon_loss': tensor(0.5896, device='cuda:0', grad_fn=<MseLossBackward0>), 'kl_loss': tensor(767.1398, device='cuda:0', grad_fn=<MeanBackward0>), 'neigh_loss': tensor(2.9102, device='cuda:0', grad_fn=<NllLossBackward0>)}\n",
      "INFO:root:iteration 4860: {'overall_loss': tensor(0.5856, device='cuda:0', grad_fn=<AddBackward0>), 'recon_loss': tensor(0.5856, device='cuda:0', grad_fn=<MseLossBackward0>), 'kl_loss': tensor(763.8036, device='cuda:0', grad_fn=<MeanBackward0>), 'neigh_loss': tensor(2.9193, device='cuda:0', grad_fn=<NllLossBackward0>)}\n",
      "INFO:root:iteration 4870: {'overall_loss': tensor(0.5012, device='cuda:0', grad_fn=<AddBackward0>), 'recon_loss': tensor(0.5012, device='cuda:0', grad_fn=<MseLossBackward0>), 'kl_loss': tensor(734.2739, device='cuda:0', grad_fn=<MeanBackward0>), 'neigh_loss': tensor(2.8859, device='cuda:0', grad_fn=<NllLossBackward0>)}\n",
      "INFO:root:iteration 4880: {'overall_loss': tensor(0.5627, device='cuda:0', grad_fn=<AddBackward0>), 'recon_loss': tensor(0.5627, device='cuda:0', grad_fn=<MseLossBackward0>), 'kl_loss': tensor(754.4941, device='cuda:0', grad_fn=<MeanBackward0>), 'neigh_loss': tensor(2.8630, device='cuda:0', grad_fn=<NllLossBackward0>)}\n",
      "INFO:root:iteration 4890: {'overall_loss': tensor(0.5708, device='cuda:0', grad_fn=<AddBackward0>), 'recon_loss': tensor(0.5708, device='cuda:0', grad_fn=<MseLossBackward0>), 'kl_loss': tensor(728.5187, device='cuda:0', grad_fn=<MeanBackward0>), 'neigh_loss': tensor(2.8513, device='cuda:0', grad_fn=<NllLossBackward0>)}\n",
      "INFO:root:iteration 4900: {'overall_loss': tensor(0.5758, device='cuda:0', grad_fn=<AddBackward0>), 'recon_loss': tensor(0.5758, device='cuda:0', grad_fn=<MseLossBackward0>), 'kl_loss': tensor(746.9598, device='cuda:0', grad_fn=<MeanBackward0>), 'neigh_loss': tensor(2.9962, device='cuda:0', grad_fn=<NllLossBackward0>)}\n",
      "INFO:root:iteration 4910: {'overall_loss': tensor(0.5392, device='cuda:0', grad_fn=<AddBackward0>), 'recon_loss': tensor(0.5392, device='cuda:0', grad_fn=<MseLossBackward0>), 'kl_loss': tensor(745.4066, device='cuda:0', grad_fn=<MeanBackward0>), 'neigh_loss': tensor(2.8472, device='cuda:0', grad_fn=<NllLossBackward0>)}\n",
      "INFO:root:iteration 4920: {'overall_loss': tensor(0.5531, device='cuda:0', grad_fn=<AddBackward0>), 'recon_loss': tensor(0.5531, device='cuda:0', grad_fn=<MseLossBackward0>), 'kl_loss': tensor(742.9326, device='cuda:0', grad_fn=<MeanBackward0>), 'neigh_loss': tensor(2.8857, device='cuda:0', grad_fn=<NllLossBackward0>)}\n",
      "INFO:root:iteration 4930: {'overall_loss': tensor(0.5029, device='cuda:0', grad_fn=<AddBackward0>), 'recon_loss': tensor(0.5029, device='cuda:0', grad_fn=<MseLossBackward0>), 'kl_loss': tensor(722.9030, device='cuda:0', grad_fn=<MeanBackward0>), 'neigh_loss': tensor(2.9470, device='cuda:0', grad_fn=<NllLossBackward0>)}\n"
     ]
    },
    {
     "name": "stderr",
     "output_type": "stream",
     "text": [
      "INFO:root:iteration 4940: {'overall_loss': tensor(0.5689, device='cuda:0', grad_fn=<AddBackward0>), 'recon_loss': tensor(0.5689, device='cuda:0', grad_fn=<MseLossBackward0>), 'kl_loss': tensor(729.7899, device='cuda:0', grad_fn=<MeanBackward0>), 'neigh_loss': tensor(2.8685, device='cuda:0', grad_fn=<NllLossBackward0>)}\n",
      "INFO:root:iteration 4950: {'overall_loss': tensor(0.5481, device='cuda:0', grad_fn=<AddBackward0>), 'recon_loss': tensor(0.5481, device='cuda:0', grad_fn=<MseLossBackward0>), 'kl_loss': tensor(739.2401, device='cuda:0', grad_fn=<MeanBackward0>), 'neigh_loss': tensor(2.8898, device='cuda:0', grad_fn=<NllLossBackward0>)}\n",
      "INFO:root:iteration 4960: {'overall_loss': tensor(0.6584, device='cuda:0', grad_fn=<AddBackward0>), 'recon_loss': tensor(0.6584, device='cuda:0', grad_fn=<MseLossBackward0>), 'kl_loss': tensor(771.6292, device='cuda:0', grad_fn=<MeanBackward0>), 'neigh_loss': tensor(2.8053, device='cuda:0', grad_fn=<NllLossBackward0>)}\n",
      "INFO:root:iteration 4970: {'overall_loss': tensor(0.5781, device='cuda:0', grad_fn=<AddBackward0>), 'recon_loss': tensor(0.5781, device='cuda:0', grad_fn=<MseLossBackward0>), 'kl_loss': tensor(735.2057, device='cuda:0', grad_fn=<MeanBackward0>), 'neigh_loss': tensor(2.9323, device='cuda:0', grad_fn=<NllLossBackward0>)}\n",
      "INFO:root:iteration 4980: {'overall_loss': tensor(0.5011, device='cuda:0', grad_fn=<AddBackward0>), 'recon_loss': tensor(0.5011, device='cuda:0', grad_fn=<MseLossBackward0>), 'kl_loss': tensor(728.4828, device='cuda:0', grad_fn=<MeanBackward0>), 'neigh_loss': tensor(2.8677, device='cuda:0', grad_fn=<NllLossBackward0>)}\n",
      "INFO:root:iteration 4990: {'overall_loss': tensor(0.6016, device='cuda:0', grad_fn=<AddBackward0>), 'recon_loss': tensor(0.6016, device='cuda:0', grad_fn=<MseLossBackward0>), 'kl_loss': tensor(741.0748, device='cuda:0', grad_fn=<MeanBackward0>), 'neigh_loss': tensor(2.9095, device='cuda:0', grad_fn=<NllLossBackward0>)}\n",
      "INFO:root:iteration 5000: {'overall_loss': tensor(0.5600, device='cuda:0', grad_fn=<AddBackward0>), 'recon_loss': tensor(0.5600, device='cuda:0', grad_fn=<MseLossBackward0>), 'kl_loss': tensor(742.3941, device='cuda:0', grad_fn=<MeanBackward0>), 'neigh_loss': tensor(2.9103, device='cuda:0', grad_fn=<NllLossBackward0>)}\n",
      "INFO:root:saving checkpoint to /data/estorrs/mushroom/data/projects/xenium_grant/mushroom/S18-25943_xenium/outputs/chkpts/5000iter.pt\n",
      "INFO:root:saving final checkpoint to /data/estorrs/mushroom/data/projects/xenium_grant/mushroom/S18-25943_xenium/outputs/chkpts/final.pt\n"
     ]
    }
   ],
   "source": [
    "mushroom.train()"
   ]
  },
  {
   "cell_type": "code",
   "execution_count": null,
   "id": "1a47841a",
   "metadata": {},
   "outputs": [],
   "source": []
  },
  {
   "cell_type": "code",
   "execution_count": null,
   "id": "7acfa716",
   "metadata": {},
   "outputs": [],
   "source": []
  }
 ],
 "metadata": {
  "kernelspec": {
   "display_name": "Python 3 (ipykernel)",
   "language": "python",
   "name": "python3"
  },
  "language_info": {
   "codemirror_mode": {
    "name": "ipython",
    "version": 3
   },
   "file_extension": ".py",
   "mimetype": "text/x-python",
   "name": "python",
   "nbconvert_exporter": "python",
   "pygments_lexer": "ipython3",
   "version": "3.9.18"
  }
 },
 "nbformat": 4,
 "nbformat_minor": 5
}
