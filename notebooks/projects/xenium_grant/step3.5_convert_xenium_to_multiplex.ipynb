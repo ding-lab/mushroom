{
 "cells": [
  {
   "cell_type": "code",
   "execution_count": 18,
   "id": "8c88d1f2",
   "metadata": {},
   "outputs": [],
   "source": [
    "# import logging\n",
    "import os\n",
    "import re\n",
    "from pathlib import Path\n",
    "from collections import Counter\n",
    "\n",
    "import matplotlib.pyplot as plt\n",
    "import numpy as np\n",
    "import pandas as pd\n",
    "import scanpy as sc\n",
    "import seaborn as sns\n",
    "import torch\n",
    "import yaml\n",
    "from einops import rearrange"
   ]
  },
  {
   "cell_type": "code",
   "execution_count": 19,
   "id": "4a8f541c",
   "metadata": {},
   "outputs": [
    {
     "name": "stdout",
     "output_type": "stream",
     "text": [
      "The autoreload extension is already loaded. To reload it, use:\n",
      "  %reload_ext autoreload\n"
     ]
    }
   ],
   "source": [
    "%load_ext autoreload"
   ]
  },
  {
   "cell_type": "code",
   "execution_count": 20,
   "id": "e7a7c860",
   "metadata": {},
   "outputs": [],
   "source": [
    "%autoreload 2"
   ]
  },
  {
   "cell_type": "code",
   "execution_count": 21,
   "id": "6f9f75d8",
   "metadata": {},
   "outputs": [],
   "source": [
    "from mushroom.mushroom import Mushroom\n",
    "import mushroom.data.xenium as xenium\n",
    "import mushroom.data.visium as visium\n",
    "import mushroom.data.multiplex as multiplex\n",
    "import mushroom.utils as utils"
   ]
  },
  {
   "cell_type": "code",
   "execution_count": 22,
   "id": "b7a5e2bd",
   "metadata": {},
   "outputs": [
    {
     "data": {
      "text/plain": [
       "['/data/estorrs/mushroom/data/projects/xenium_grant/mushroom/HT206B1/config.yaml',\n",
       " '/data/estorrs/mushroom/data/projects/xenium_grant/mushroom/S18-25943/config.yaml',\n",
       " '/data/estorrs/mushroom/data/projects/xenium_grant/mushroom/S18-9906/config.yaml']"
      ]
     },
     "execution_count": 22,
     "metadata": {},
     "output_type": "execute_result"
    }
   ],
   "source": [
    "run_dir = '/data/estorrs/mushroom/data/projects/xenium_grant'\n",
    "mushroom_dir = os.path.join(run_dir, 'mushroom')\n",
    "config_fps = sorted(utils.listfiles(mushroom_dir, regex=r'/config.yaml'))\n",
    "config_fps"
   ]
  },
  {
   "cell_type": "code",
   "execution_count": 23,
   "id": "92f2a7f3",
   "metadata": {
    "scrolled": true
   },
   "outputs": [],
   "source": [
    "# config"
   ]
  },
  {
   "cell_type": "code",
   "execution_count": 25,
   "id": "b65451d1",
   "metadata": {},
   "outputs": [
    {
     "name": "stdout",
     "output_type": "stream",
     "text": [
      "s0 /data/estorrs/mushroom/data/projects/xenium_grant/registered/S18-25943/s0_multiplex.ome.tiff (477, 182, 161)\n",
      "s1 /data/estorrs/mushroom/data/projects/xenium_grant/registered/S18-25943/s1_multiplex.ome.tiff (477, 182, 161)\n",
      "s2 /data/estorrs/mushroom/data/projects/xenium_grant/registered/S18-25943/s2_multiplex.ome.tiff (477, 182, 161)\n",
      "s4 /data/estorrs/mushroom/data/projects/xenium_grant/registered/S18-25943/s4_multiplex.ome.tiff (477, 182, 161)\n"
     ]
    }
   ],
   "source": [
    "tiling_size = 64\n",
    "for fp in config_fps[1:2]:\n",
    "    new_fp = fp.replace('config.yaml', 'config_xenium_multiplex.yaml')\n",
    "    config = yaml.safe_load(open(fp))\n",
    "    for entry in config:\n",
    "        sid = entry['id']\n",
    "        for mapping in entry['data']:\n",
    "            if mapping['dtype'] == 'multiplex':\n",
    "                mapping['dtype'] = 'multiplex_codex'\n",
    "            if mapping['dtype'] == 'xenium':\n",
    "                directory = '/'.join(mapping['filepath'].split('/')[:-1])\n",
    "                adata = sc.read_h5ad(mapping['filepath'])\n",
    "                data = rearrange(xenium.to_multiplex(adata, tiling_size=tiling_size), 'h w c -> c h w')\n",
    "                data = np.log1p(data)\n",
    "                channels = adata.var.index.to_list()\n",
    "                \n",
    "                # quick hack for now\n",
    "                if 'HT206B1' in directory:\n",
    "                    data = data[:, :102, :]\n",
    "                \n",
    "                out_fp = os.path.join(directory, f'{sid}_multiplex.ome.tiff')\n",
    "                print(sid, out_fp, data.shape)\n",
    "                multiplex.write_basic_ome_tiff(\n",
    "                    out_fp, data, channels, pix_per_micron=1. / tiling_size\n",
    "                )\n",
    "                \n",
    "                mapping['filepath'] = out_fp\n",
    "                mapping['dtype'] = 'multiplex'\n",
    "    yaml.safe_dump(config, open(new_fp, 'w'))"
   ]
  },
  {
   "cell_type": "code",
   "execution_count": null,
   "id": "4ba157e6",
   "metadata": {},
   "outputs": [],
   "source": []
  },
  {
   "cell_type": "code",
   "execution_count": null,
   "id": "6530b04b",
   "metadata": {},
   "outputs": [],
   "source": []
  },
  {
   "cell_type": "code",
   "execution_count": null,
   "id": "a37f84dd",
   "metadata": {},
   "outputs": [],
   "source": []
  },
  {
   "cell_type": "code",
   "execution_count": null,
   "id": "62c8ea90",
   "metadata": {},
   "outputs": [],
   "source": []
  },
  {
   "cell_type": "code",
   "execution_count": null,
   "id": "9c3d175c",
   "metadata": {},
   "outputs": [],
   "source": []
  },
  {
   "cell_type": "code",
   "execution_count": null,
   "id": "a0793cfd",
   "metadata": {},
   "outputs": [],
   "source": []
  },
  {
   "cell_type": "code",
   "execution_count": null,
   "id": "3bba47cc",
   "metadata": {},
   "outputs": [],
   "source": []
  },
  {
   "cell_type": "code",
   "execution_count": null,
   "id": "4f28370c",
   "metadata": {},
   "outputs": [],
   "source": []
  },
  {
   "cell_type": "code",
   "execution_count": null,
   "id": "8f289719",
   "metadata": {},
   "outputs": [],
   "source": []
  },
  {
   "cell_type": "code",
   "execution_count": null,
   "id": "9e034b94",
   "metadata": {},
   "outputs": [],
   "source": []
  },
  {
   "cell_type": "code",
   "execution_count": null,
   "id": "5c9739ca",
   "metadata": {},
   "outputs": [],
   "source": []
  },
  {
   "cell_type": "code",
   "execution_count": null,
   "id": "bdcceb71",
   "metadata": {},
   "outputs": [],
   "source": []
  },
  {
   "cell_type": "code",
   "execution_count": null,
   "id": "2f08c400",
   "metadata": {},
   "outputs": [],
   "source": []
  },
  {
   "cell_type": "code",
   "execution_count": null,
   "id": "8f4e50ed",
   "metadata": {},
   "outputs": [],
   "source": []
  },
  {
   "cell_type": "code",
   "execution_count": null,
   "id": "84e04bff",
   "metadata": {},
   "outputs": [],
   "source": []
  },
  {
   "cell_type": "code",
   "execution_count": null,
   "id": "30836466",
   "metadata": {},
   "outputs": [],
   "source": []
  },
  {
   "cell_type": "code",
   "execution_count": null,
   "id": "b41661dc",
   "metadata": {},
   "outputs": [],
   "source": []
  },
  {
   "cell_type": "code",
   "execution_count": null,
   "id": "c9355fb6",
   "metadata": {},
   "outputs": [],
   "source": []
  },
  {
   "cell_type": "code",
   "execution_count": 62,
   "id": "642d86ef",
   "metadata": {},
   "outputs": [
    {
     "data": {
      "text/plain": [
       "(3411, 2847)"
      ]
     },
     "execution_count": 62,
     "metadata": {},
     "output_type": "execute_result"
    }
   ],
   "source": [
    "a2 = sc.read_h5ad('/data/estorrs/mushroom/data/projects/xenium_grant/registered/HT206B1/s7_xenium.h5ad')\n",
    "a2.uns['spatial']['key']['images']['hires'].shape"
   ]
  },
  {
   "cell_type": "code",
   "execution_count": 69,
   "id": "4d48bc00",
   "metadata": {},
   "outputs": [],
   "source": [
    "def to_multiplex(adata, tiling_size=64):\n",
    "    size = visium.get_fullres_size(adata)\n",
    "    n_rows, n_cols = size[-2] // tiling_size + 1, size[-1] // tiling_size + 1\n",
    "    pts = adata.obsm['spatial'][:, [1, 0]]\n",
    "\n",
    "    img = np.zeros((n_rows, n_cols, adata.shape[1]))\n",
    "    for r in range(n_rows):\n",
    "        r1, r2 = r * tiling_size, (r + 1) * tiling_size\n",
    "        row_mask = ((pts[:, 0] >= r1) & (pts[:, 0] < r2))\n",
    "        row_adata, row_pts = adata[row_mask], pts[row_mask]\n",
    "        for c in range(n_cols):\n",
    "            c1, c2 = c * tiling_size, (c + 1) * tiling_size\n",
    "            col_mask = ((row_pts[:, 1] >= c1) & (row_pts[:, 1] < c2))\n",
    "            img[r, c] = row_adata[col_mask].X.sum(0)\n",
    "    return img  "
   ]
  },
  {
   "cell_type": "code",
   "execution_count": 63,
   "id": "0a0ebf85",
   "metadata": {},
   "outputs": [
    {
     "data": {
      "text/plain": [
       "AnnData object with n_obs × n_vars = 115764 × 477\n",
       "    obs: 'x_centroid', 'y_centroid', 'transcript_counts', 'control_probe_counts', 'control_codeword_counts', 'unassigned_codeword_counts', 'deprecated_codeword_counts', 'total_counts', 'cell_area', 'nucleus_area'\n",
       "    var: 'gene_ids', 'feature_types', 'genome'\n",
       "    uns: 'spatial', 'transcripts'\n",
       "    obsm: 'spatial'"
      ]
     },
     "execution_count": 63,
     "metadata": {},
     "output_type": "execute_result"
    }
   ],
   "source": [
    "a = sc.read_h5ad('/data/estorrs/mushroom/data/projects/xenium_grant/registered/HT206B1/s0_xenium.h5ad')\n",
    "a"
   ]
  },
  {
   "cell_type": "code",
   "execution_count": 70,
   "id": "84a5c168",
   "metadata": {},
   "outputs": [
    {
     "data": {
      "text/plain": [
       "(103, 95, 477)"
      ]
     },
     "execution_count": 70,
     "metadata": {},
     "output_type": "execute_result"
    }
   ],
   "source": [
    "multi = to_multiplex(a)\n",
    "multi.shape"
   ]
  },
  {
   "cell_type": "code",
   "execution_count": 72,
   "id": "eccb795e",
   "metadata": {},
   "outputs": [
    {
     "data": {
      "text/plain": [
       "<matplotlib.image.AxesImage at 0x7f46a834a2b0>"
      ]
     },
     "execution_count": 72,
     "metadata": {},
     "output_type": "execute_result"
    },
    {
     "data": {
      "image/png": "[encoded data removed]",
      "text/plain": [
       "<Figure size 640x480 with 1 Axes>"
      ]
     },
     "metadata": {},
     "output_type": "display_data"
    }
   ],
   "source": [
    "plt.imshow(multi[..., 1])"
   ]
  },
  {
   "cell_type": "code",
   "execution_count": 34,
   "id": "de73d6d8",
   "metadata": {},
   "outputs": [
    {
     "data": {
      "text/plain": [
       "((6530, 6054), 103, 95)"
      ]
     },
     "execution_count": 34,
     "metadata": {},
     "output_type": "execute_result"
    }
   ],
   "source": [
    "tiling_size = 64\n",
    "size = visium.get_fullres_size(a)\n",
    "n_rows, n_cols = size[-2] // tiling_size + 1, size[-1] // tiling_size + 1\n",
    "size, n_rows, n_cols\n",
    "# pad_h, pad_w = tiling_size - size[-2] % tiling_size, tiling_size - size[-1] % tiling_size\n",
    "# pad_top, pad_left, pad_bottom, pad_right = pad_w // 2, pad_h // 2, pad_w // 2 + pad_w % 2, pad_h // 2 + pad_h % 2\n",
    "# pad_top, pad_left, pad_bottom, pad_right"
   ]
  },
  {
   "cell_type": "code",
   "execution_count": 26,
   "id": "ec989b75",
   "metadata": {},
   "outputs": [
    {
     "data": {
      "text/plain": [
       "((20561285, 2), (20561285,))"
      ]
     },
     "execution_count": 26,
     "metadata": {},
     "output_type": "execute_result"
    }
   ],
   "source": [
    "df = a.uns['transcripts'].copy()\n",
    "df = df[df['cell_id']!='UNASSIGNED']\n",
    "pts = df[['y_location', 'x_location']].values\n",
    "genes = df['feature_name'].to_numpy()\n",
    "pts.shape, genes.shape"
   ]
  },
  {
   "cell_type": "code",
   "execution_count": 48,
   "id": "ea3ea1cc",
   "metadata": {},
   "outputs": [],
   "source": [
    "img = np.zeros((n_rows, n_cols, len(channels)))\n",
    "for r in range(n_rows):\n",
    "    r1, r2 = r * tiling_size, (r + 1) * tiling_size\n",
    "    row_mask = ((pts[:, 0] >= r1) & (pts[:, 0] < r2))\n",
    "    row_genes, row_pts = genes[row_mask], pts[row_mask]\n",
    "    for c in range(n_cols):\n",
    "        c1, c2 = c * tiling_size, (c + 1) * tiling_size\n",
    "        col_mask = ((row_pts[:, 1] >= c1) & (row_pts[:, 1] < c2))\n",
    "        gs = row_genes[col_mask]\n",
    "        counts = Counter(gs)\n",
    "        img[r, c] = np.asarray([counts.get(x, 0) for x in channels])\n",
    "        \n",
    "        "
   ]
  },
  {
   "cell_type": "code",
   "execution_count": 49,
   "id": "6081c4db",
   "metadata": {},
   "outputs": [
    {
     "data": {
      "text/plain": [
       "(103, 95, 377)"
      ]
     },
     "execution_count": 49,
     "metadata": {},
     "output_type": "execute_result"
    }
   ],
   "source": [
    "img.shape"
   ]
  },
  {
   "cell_type": "code",
   "execution_count": 50,
   "id": "fa0597f5",
   "metadata": {},
   "outputs": [
    {
     "data": {
      "text/plain": [
       "<matplotlib.image.AxesImage at 0x7f4f50bf58b0>"
      ]
     },
     "execution_count": 50,
     "metadata": {},
     "output_type": "execute_result"
    },
    {
     "data": {
      "image/png": "[encoded data removed]",
      "text/plain": [
       "<Figure size 640x480 with 1 Axes>"
      ]
     },
     "metadata": {},
     "output_type": "display_data"
    }
   ],
   "source": [
    "plt.imshow(img[..., channels.index('EPCAM')])"
   ]
  },
  {
   "cell_type": "code",
   "execution_count": null,
   "id": "b5442646",
   "metadata": {},
   "outputs": [],
   "source": []
  },
  {
   "cell_type": "code",
   "execution_count": null,
   "id": "9a2c1004",
   "metadata": {},
   "outputs": [],
   "source": []
  },
  {
   "cell_type": "code",
   "execution_count": null,
   "id": "6a6505ce",
   "metadata": {},
   "outputs": [],
   "source": []
  },
  {
   "cell_type": "code",
   "execution_count": null,
   "id": "17a97a5f",
   "metadata": {},
   "outputs": [],
   "source": []
  }
 ],
 "metadata": {
  "kernelspec": {
   "display_name": "Python 3 (ipykernel)",
   "language": "python",
   "name": "python3"
  },
  "language_info": {
   "codemirror_mode": {
    "name": "ipython",
    "version": 3
   },
   "file_extension": ".py",
   "mimetype": "text/x-python",
   "name": "python",
   "nbconvert_exporter": "python",
   "pygments_lexer": "ipython3",
   "version": "3.9.18"
  }
 },
 "nbformat": 4,
 "nbformat_minor": 5
}
