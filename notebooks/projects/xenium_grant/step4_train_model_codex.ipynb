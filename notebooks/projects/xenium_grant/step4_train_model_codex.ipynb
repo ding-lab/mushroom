{
 "cells": [
  {
   "cell_type": "code",
   "execution_count": 1,
   "id": "cd41302c",
   "metadata": {},
   "outputs": [],
   "source": [
    "# import logging\n",
    "import os\n",
    "import re\n",
    "from pathlib import Path\n",
    "from collections import Counter\n",
    "\n",
    "import matplotlib.pyplot as plt\n",
    "import numpy as np\n",
    "import pandas as pd\n",
    "import scanpy as sc\n",
    "import seaborn as sns\n",
    "import torch\n",
    "import yaml\n",
    "from einops import rearrange"
   ]
  },
  {
   "cell_type": "code",
   "execution_count": 2,
   "id": "6fd27424",
   "metadata": {},
   "outputs": [],
   "source": [
    "%load_ext autoreload"
   ]
  },
  {
   "cell_type": "code",
   "execution_count": 3,
   "id": "bda20df7",
   "metadata": {},
   "outputs": [],
   "source": [
    "%autoreload 2"
   ]
  },
  {
   "cell_type": "code",
   "execution_count": 4,
   "id": "316326f5",
   "metadata": {},
   "outputs": [
    {
     "name": "stderr",
     "output_type": "stream",
     "text": [
      "/data/estorrs/miniconda3/envs/mushroom/lib/python3.9/site-packages/geopandas/_compat.py:124: UserWarning: The Shapely GEOS version (3.11.1-CAPI-1.17.1) is incompatible with the GEOS version PyGEOS was compiled with (3.10.4-CAPI-1.16.2). Conversions between both will be slow.\n",
      "  warnings.warn(\n",
      "/data/estorrs/miniconda3/envs/mushroom/lib/python3.9/site-packages/spatialdata/__init__.py:9: UserWarning: Geopandas was set to use PyGEOS, changing to shapely 2.0 with:\n",
      "\n",
      "\tgeopandas.options.use_pygeos = True\n",
      "\n",
      "If you intended to use PyGEOS, set the option to False.\n",
      "  _check_geopandas_using_shapely()\n"
     ]
    }
   ],
   "source": [
    "from mushroom.mushroom import Mushroom\n",
    "import mushroom.data.xenium as xenium\n",
    "import mushroom.utils as utils"
   ]
  },
  {
   "cell_type": "code",
   "execution_count": 5,
   "id": "c6669882",
   "metadata": {},
   "outputs": [
    {
     "data": {
      "text/plain": [
       "['/data/estorrs/mushroom/data/projects/xenium_grant/mushroom/HT206B1/config.yaml',\n",
       " '/data/estorrs/mushroom/data/projects/xenium_grant/mushroom/S18-25943/config.yaml',\n",
       " '/data/estorrs/mushroom/data/projects/xenium_grant/mushroom/S18-9906/config.yaml']"
      ]
     },
     "execution_count": 5,
     "metadata": {},
     "output_type": "execute_result"
    }
   ],
   "source": [
    "run_dir = '/data/estorrs/mushroom/data/projects/xenium_grant'\n",
    "mushroom_dir = os.path.join(run_dir, 'mushroom')\n",
    "config_fps = sorted(utils.listfiles(mushroom_dir, regex=r'/config.yaml'))\n",
    "config_fps"
   ]
  },
  {
   "cell_type": "code",
   "execution_count": 6,
   "id": "7c60706f",
   "metadata": {},
   "outputs": [],
   "source": [
    "# # just specify up front so it doesnt take so long to load objects\n",
    "# channels = sc.read_h5ad(\n",
    "#     '/data/estorrs/mushroom/data/projects/xenium_grant/registered/HT206B1/s3_xenium.h5ad'\n",
    "# ).var.index.to_list()\n",
    "# len(channels)"
   ]
  },
  {
   "cell_type": "code",
   "execution_count": null,
   "id": "cae4f110",
   "metadata": {},
   "outputs": [],
   "source": []
  },
  {
   "cell_type": "code",
   "execution_count": 7,
   "id": "09bddfba",
   "metadata": {
    "code_folding": [
     2
    ]
   },
   "outputs": [],
   "source": [
    "# only relavent for dinglab data since our channel names are all over the place\n",
    "# will remove for official example\n",
    "official_to_options = {\n",
    "    'Pan-Cytokeratin': ['Pan-Cytokeratin', 'Pan-CK', 'Pan-CK (D)', 'PanCK (D)'],\n",
    "    'E-cadherin': ['E-cadherin'],\n",
    "    'CD45': ['CD45 (D)', 'CD45', 'CD45-(D)', 'CD45(D)'],\n",
    "    'CD45RO': ['CD45RO'],\n",
    "    'CD45RA': ['CD45RA'],\n",
    "    'CD8': ['CD8', 'CD8a'],\n",
    "    'DAPI': ['DAPI'],\n",
    "    'CD4': ['CD4', 'CD4 (D)'],\n",
    "    'CD3e': ['CD3e', 'CD3'],\n",
    "    'Vimentin': ['Vimentin-(D)', 'Vimentin', 'Vimentin (D)'],\n",
    "    'SMA': ['SMA-(D)', 'SMA', 'SMA (D)', 'a-SMA (D)'],\n",
    "    'CD31': ['CD31', 'CD31-(D)', 'CD31 (D)'],\n",
    "    'CD20': ['CD20-(D)', 'CD20', 'CD20 (D)', 'CD20-Akoya'],\n",
    "    'CD68': ['CD68', 'CD68 (D)', 'CD68-(D)'],\n",
    "    'CD163': ['CD163'],\n",
    "    'FOXP3': ['FoxP3', 'FOXP3', 'Foxp3'],\n",
    "    'cKit': ['cKIT (D)', 'cKit (D)', 'cKit', 'cKIT', 'cKIT-(D)'],\n",
    "    'MGP': ['MGP', 'MGP (D)', 'MGP-(D)'],\n",
    "    'CD36': ['CD36-(D)', 'CD36'],\n",
    "    'PR': ['PR', 'PR-(D)', 'PR (D)'],\n",
    "    'ER': ['ER', 'ER-(D)', 'ER (D)'],\n",
    "    'P21': ['P21', 'P21-(D)', 'P21-(D)', 'P21 (D)'],\n",
    "    'P16': ['P16-(D)'],\n",
    "    'CK5': ['Keratin 5', 'KRT5'],\n",
    "    'TFF1': ['TFF1', 'TFF1-(D)', 'TFF1 (D)'],\n",
    "    'beta-integrin': ['beta-integrin', 'beta3-integrin'],\n",
    "    'CK14': ['CK14', 'Keratin 14', 'CK14 (D)'],\n",
    "    'CK17': ['CK17', 'CK17 (D)', 'CK17-(D)', 'Keratin 17'],\n",
    "    'CK19': ['CK19', 'CK19 (D)', 'CK19-(D)'],\n",
    "    'CD11b': ['CD11b', 'CD11b (D)', 'CD11b-(D)'],\n",
    "    'GATA3': ['GATA3', 'GATA3-(D)', 'GATA3 (D)'],\n",
    "    'PLAT/tPA': ['PLAT/tPA', 'PLAT/tPA (D)'],\n",
    "    'COX6c': ['COX6c (D)'],\n",
    "    'Her2': ['Her2', 'Her2 (D)'],\n",
    "    'Bap1': ['Bap1 (D)'],\n",
    "    'GLUT1': ['Glut1', 'GLUT1', 'GLUT1-(D)', 'GLUT1 (D)'],\n",
    "    'CD11c': ['CD11c'],\n",
    "    'HLA-DR': ['HLA-DR'],\n",
    "    'Ki67': ['Ki67', 'KI67'],\n",
    "    'Podoplanin': ['Podoplanin', 'PDPN', 'Podoplanin (D)'],\n",
    "    'CTLA4': ['CTLA4', 'CTLA4 (D)', 'CTLA4-(D)'],\n",
    "    'SLC39A6': ['SLC39A6'],\n",
    "    'BCA1': ['BCA1'],\n",
    "    'BCAL': ['BCAL'],\n",
    "    'TUBB3': ['TUBB3', 'TUBB3 (D)'],\n",
    "    'PTPRZ1': ['PTPRZ1', 'PTPRZ1 (D)'],\n",
    "    'HIF1A': ['HIF1a', 'HIF1a (D)', 'HIF1A'],\n",
    "    'PAI1': ['PAI1', 'PAI1-(D)'],\n",
    "    'GFAP': ['GFAP', 'GFAP (D)'],\n",
    "    'VEGFA': ['VEGFA', 'VEGFA (D)'],\n",
    "    'IBA1': ['IBA1', 'IBA1 (D)'],\n",
    "    'OLIG2': ['OLIG2', 'OLIG2 (D)'],\n",
    "    'FN1': ['FN1', 'FN1 (D)'],\n",
    "    'a-Amylase': ['a-Amylase'],\n",
    "    'Hep-Par-1': ['Hep-Par-1 (D)'],\n",
    "    'Granzyme-B': ['Granzyme B'],\n",
    "    'TCF-1': ['TCF-1'],\n",
    "    'CD39': ['CD39'],\n",
    "    'PD1': ['PD-1'],\n",
    "    'PDL1': ['PD-L1'],\n",
    "    'Histone-H3-Pho': ['Histone H3 Pho'],\n",
    "    'Maspin': ['Maspin'],\n",
    "    'MMP9': ['MMP9'],\n",
    "    'CD44': ['CD44'],\n",
    "    'CD107A': ['CD107a'],\n",
    "    'FGFR3': ['FGFR3'],\n",
    "    'CD138': ['CD138'],\n",
    "    'MLPH': ['MLPH'],\n",
    "    'P63': ['P63'],\n",
    "    'GP2': ['GP2'],\n",
    "    'COX2': ['COX2'],\n",
    "    'Lyve-1': ['Lyve-1'],\n",
    "}\n",
    "channel_mapping = {v:k for k, vs in official_to_options.items() for v in vs}\n",
    "# channel_mapping = None"
   ]
  },
  {
   "cell_type": "code",
   "execution_count": 8,
   "id": "ce22d0e4",
   "metadata": {},
   "outputs": [],
   "source": [
    "xenium_config = {\n",
    "    'dtype': 'multiplex',\n",
    "#     'sections': config,\n",
    "    'chkpt_filepath': None,\n",
    "    'sae_kwargs': {\n",
    "        'size': 256,\n",
    "        'patch_size': 32,\n",
    "        'encoder_dim': 256,\n",
    "        'kl_scaler': 0.,\n",
    "        'recon_scaler': 1.,\n",
    "        'neigh_scaler': 0.,\n",
    "        'codebook_size': 30,\n",
    "        'decoder_dims': (256, 50, 50,)\n",
    "    },\n",
    "    'learner_kwargs': {\n",
    "        'scale': .5,\n",
    "        'contrast_pct': None,\n",
    "#         'pct_expression': .02,\n",
    "        'batch_size': 64,\n",
    "        'num_workers': 1,\n",
    "        'device': 'cuda:0',\n",
    "#         'channels': channels,\n",
    "        'channel_mapping': channel_mapping\n",
    "    },\n",
    "    'train_kwargs': {\n",
    "        'num_iters': 1000,\n",
    "        'lr': 1e-4,\n",
    "        'log_every': 10,\n",
    "        'save_every': 100,\n",
    "#         'save_dir': chkpt_dir       \n",
    "    },\n",
    "}"
   ]
  },
  {
   "cell_type": "code",
   "execution_count": 9,
   "id": "e39c21b8",
   "metadata": {},
   "outputs": [],
   "source": [
    "# config_fp = '/data/estorrs/mushroom/data/projects/xenium_grant/mushroom/HT206B1/config.yaml'\n",
    "# config_fp = '/data/estorrs/mushroom/data/projects/xenium_grant/mushroom/S18-9906/config.yaml'\n",
    "config_fp = '/data/estorrs/mushroom/data/projects/xenium_grant/mushroom/S18-25943/config.yaml'\n",
    "\n",
    "case = config_fp.split('/')[-2]\n",
    "out_dir = os.path.join(f'/data/estorrs/mushroom/data/projects/xenium_grant/mushroom/{case}_codex/outputs')\n",
    "\n",
    "config = yaml.safe_load(open(config_fp))\n",
    "\n",
    "chkpt_dir = os.path.join(out_dir, 'chkpts')\n",
    "Path(chkpt_dir).mkdir(parents=True, exist_ok=True)"
   ]
  },
  {
   "cell_type": "code",
   "execution_count": 10,
   "id": "660c5106",
   "metadata": {
    "scrolled": true
   },
   "outputs": [
    {
     "data": {
      "text/plain": [
       "[{'data': [{'dtype': 'xenium',\n",
       "    'filepath': '/data/estorrs/mushroom/data/projects/xenium_grant/registered/S18-25943/s0_xenium.h5ad'}],\n",
       "  'id': 's0',\n",
       "  'position': 0},\n",
       " {'data': [{'dtype': 'xenium',\n",
       "    'filepath': '/data/estorrs/mushroom/data/projects/xenium_grant/registered/S18-25943/s1_xenium.h5ad'}],\n",
       "  'id': 's1',\n",
       "  'position': 15},\n",
       " {'data': [{'dtype': 'xenium',\n",
       "    'filepath': '/data/estorrs/mushroom/data/projects/xenium_grant/registered/S18-25943/s2_xenium.h5ad'}],\n",
       "  'id': 's2',\n",
       "  'position': 35},\n",
       " {'data': [{'dtype': 'multiplex',\n",
       "    'filepath': '/data/estorrs/mushroom/data/projects/xenium_grant/registered/S18-25943/s3_multiplex.ome.tiff'}],\n",
       "  'id': 's3',\n",
       "  'position': 40},\n",
       " {'data': [{'dtype': 'xenium',\n",
       "    'filepath': '/data/estorrs/mushroom/data/projects/xenium_grant/registered/S18-25943/s4_xenium.h5ad'}],\n",
       "  'id': 's4',\n",
       "  'position': 50},\n",
       " {'data': [{'dtype': 'multiplex',\n",
       "    'filepath': '/data/estorrs/mushroom/data/projects/xenium_grant/registered/S18-25943/s5_multiplex.ome.tiff'}],\n",
       "  'id': 's5',\n",
       "  'position': 60}]"
      ]
     },
     "execution_count": 10,
     "metadata": {},
     "output_type": "execute_result"
    }
   ],
   "source": [
    "config"
   ]
  },
  {
   "cell_type": "code",
   "execution_count": 11,
   "id": "96fd5b4c",
   "metadata": {},
   "outputs": [],
   "source": [
    "# only keep the non-detached sections"
   ]
  },
  {
   "cell_type": "code",
   "execution_count": 12,
   "id": "85a03758",
   "metadata": {},
   "outputs": [
    {
     "name": "stdout",
     "output_type": "stream",
     "text": [
      "s3 40\n",
      "s5 60\n"
     ]
    }
   ],
   "source": [
    "for entry in config:\n",
    "    if entry['data'][0]['dtype'] == 'multiplex':\n",
    "        print(entry['id'], entry['position'])"
   ]
  },
  {
   "cell_type": "code",
   "execution_count": 13,
   "id": "977a62cb",
   "metadata": {},
   "outputs": [],
   "source": [
    "xenium_config['sections'] = config\n",
    "xenium_config['train_kwargs']['save_dir'] = chkpt_dir"
   ]
  },
  {
   "cell_type": "code",
   "execution_count": null,
   "id": "968d2f3e",
   "metadata": {},
   "outputs": [],
   "source": []
  },
  {
   "cell_type": "code",
   "execution_count": 14,
   "id": "529d5519",
   "metadata": {},
   "outputs": [
    {
     "name": "stderr",
     "output_type": "stream",
     "text": [
      "INFO:root:using device: cuda:0\n",
      "INFO:root:generating inputs for multiplex tissue sections\n",
      "INFO:root:using 26 channels\n",
      "INFO:root:2 sections detected: ['s3', 's5']\n",
      "INFO:root:processing sections\n",
      "INFO:root:generating image data for section s3\n",
      "INFO:root:generating image data for section s5\n",
      "INFO:root:generating training dataset\n",
      "INFO:root:generating inference dataset\n",
      "INFO:root:creating data loaders\n",
      "INFO:root:creating ViT\n",
      "INFO:root:learner initialized\n"
     ]
    }
   ],
   "source": [
    "mushroom = Mushroom.from_config(xenium_config)"
   ]
  },
  {
   "cell_type": "code",
   "execution_count": 15,
   "id": "4c42d62f",
   "metadata": {},
   "outputs": [],
   "source": [
    "# a1 = sc.read_h5ad('/data/estorrs/mushroom/data/projects/xenium_grant/registered/HT206B1/s0_xenium.h5ad')\n",
    "# a1"
   ]
  },
  {
   "cell_type": "code",
   "execution_count": 16,
   "id": "d5b9745d",
   "metadata": {},
   "outputs": [],
   "source": [
    "# a2 = sc.read_h5ad('/data/estorrs/mushroom/data/projects/xenium_grant/registered/HT206B1/s3_xenium.h5ad')\n",
    "# a2"
   ]
  },
  {
   "cell_type": "code",
   "execution_count": 17,
   "id": "168e3f7d",
   "metadata": {},
   "outputs": [
    {
     "data": {
      "text/plain": [
       "torch.Size([26, 5795, 5135])"
      ]
     },
     "execution_count": 17,
     "metadata": {},
     "output_type": "execute_result"
    }
   ],
   "source": [
    "next(iter(mushroom.learner.inference_ds.section_to_img.values())).shape"
   ]
  },
  {
   "cell_type": "code",
   "execution_count": 18,
   "id": "a108d25a",
   "metadata": {},
   "outputs": [
    {
     "data": {
      "text/plain": [
       "torch.Size([2, 26, 5760, 5248])"
      ]
     },
     "execution_count": 18,
     "metadata": {},
     "output_type": "execute_result"
    }
   ],
   "source": [
    "mushroom.true_imgs.shape"
   ]
  },
  {
   "cell_type": "code",
   "execution_count": 19,
   "id": "1cf2c0ae",
   "metadata": {},
   "outputs": [
    {
     "data": {
      "text/plain": [
       "['Amylase (D)',\n",
       " 'CD11b',\n",
       " 'CD163',\n",
       " 'CD20',\n",
       " 'CD31',\n",
       " 'CD3e',\n",
       " 'CD4',\n",
       " 'CD45',\n",
       " 'CD68',\n",
       " 'CD74 (D)',\n",
       " 'CD8',\n",
       " 'CFTR (D)',\n",
       " 'CRP (D)',\n",
       " 'DAPI',\n",
       " 'E-cadherin',\n",
       " 'HLA-DR',\n",
       " 'INS (D)',\n",
       " 'Ki67',\n",
       " 'LAMC2 (D)',\n",
       " 'MUC5AC (D)',\n",
       " 'PGC (D)',\n",
       " 'Podoplanin',\n",
       " 'REG3A (D)',\n",
       " 'SMA',\n",
       " 'TFF1',\n",
       " 'Vimentin']"
      ]
     },
     "execution_count": 19,
     "metadata": {},
     "output_type": "execute_result"
    }
   ],
   "source": [
    "mushroom.learner.channels"
   ]
  },
  {
   "cell_type": "code",
   "execution_count": 20,
   "id": "3c15c735",
   "metadata": {},
   "outputs": [],
   "source": [
    "b = next(iter(mushroom.learner.train_dl))"
   ]
  },
  {
   "cell_type": "code",
   "execution_count": 21,
   "id": "32ecdfcf",
   "metadata": {},
   "outputs": [
    {
     "name": "stdout",
     "output_type": "stream",
     "text": [
      "anchor_idx torch.Size([64])\n",
      "pos_idx torch.Size([64])\n",
      "anchor_tile torch.Size([64, 26, 256, 256])\n",
      "pos_tile torch.Size([64, 26, 256, 256])\n"
     ]
    }
   ],
   "source": [
    "for k, v in b.items(): print(k, v.shape)"
   ]
  },
  {
   "cell_type": "code",
   "execution_count": 23,
   "id": "9583cdb0",
   "metadata": {},
   "outputs": [
    {
     "data": {
      "image/png": "[encoded data removed]",
      "text/plain": [
       "<Figure size 640x480 with 10 Axes>"
      ]
     },
     "metadata": {},
     "output_type": "display_data"
    }
   ],
   "source": [
    "fig, axs = plt.subplots(ncols=10)\n",
    "for i, ax in enumerate(axs):\n",
    "    ax.imshow(b['anchor_tile'][i, mushroom.learner.channels.index('E-cadherin')])\n",
    "    ax.axis('off')"
   ]
  },
  {
   "cell_type": "code",
   "execution_count": 24,
   "id": "a526fc03",
   "metadata": {},
   "outputs": [
    {
     "data": {
      "image/png": "[encoded data removed]",
      "text/plain": [
       "<Figure size 640x480 with 10 Axes>"
      ]
     },
     "metadata": {},
     "output_type": "display_data"
    }
   ],
   "source": [
    "fig, axs = plt.subplots(ncols=10)\n",
    "for i, ax in enumerate(axs):\n",
    "    ax.imshow(b['pos_tile'][i, mushroom.learner.channels.index('E-cadherin')])\n",
    "    ax.axis('off')"
   ]
  },
  {
   "cell_type": "code",
   "execution_count": 25,
   "id": "f4190581",
   "metadata": {},
   "outputs": [
    {
     "data": {
      "image/png": "[encoded data removed]",
      "text/plain": [
       "<Figure size 640x480 with 10 Axes>"
      ]
     },
     "metadata": {},
     "output_type": "display_data"
    }
   ],
   "source": [
    "fig, axs = plt.subplots(ncols=10)\n",
    "for i, ax in enumerate(axs):\n",
    "    ax.imshow(b['anchor_tile'][i, mushroom.learner.channels.index('CD45')])\n",
    "    ax.axis('off')"
   ]
  },
  {
   "cell_type": "code",
   "execution_count": 26,
   "id": "7379a053",
   "metadata": {},
   "outputs": [
    {
     "data": {
      "image/png": "[encoded data removed]",
      "text/plain": [
       "<Figure size 640x480 with 10 Axes>"
      ]
     },
     "metadata": {},
     "output_type": "display_data"
    }
   ],
   "source": [
    "fig, axs = plt.subplots(ncols=10)\n",
    "for i, ax in enumerate(axs):\n",
    "    ax.imshow(b['pos_tile'][i, mushroom.learner.channels.index('CD45')])\n",
    "    ax.axis('off')"
   ]
  },
  {
   "cell_type": "code",
   "execution_count": null,
   "id": "4c5076eb",
   "metadata": {},
   "outputs": [],
   "source": []
  },
  {
   "cell_type": "code",
   "execution_count": null,
   "id": "025de095",
   "metadata": {},
   "outputs": [],
   "source": []
  },
  {
   "cell_type": "code",
   "execution_count": 27,
   "id": "df6bef8b",
   "metadata": {},
   "outputs": [],
   "source": [
    "with torch.no_grad():\n",
    "    device = mushroom.learner.device\n",
    "    anchor_x, anchor_slide = b['anchor_tile'], b['anchor_idx']\n",
    "    pos_x, pos_slide = b['pos_tile'], b['pos_idx']\n",
    "    x = torch.concat((anchor_x, pos_x))\n",
    "    slide = torch.concat((anchor_slide, pos_slide))\n",
    "    x, slide = x.to(device), slide.to(device)\n",
    "\n",
    "    losses, outputs = mushroom.learner.sae(x, slide)"
   ]
  },
  {
   "cell_type": "code",
   "execution_count": 28,
   "id": "f3ae92ca",
   "metadata": {},
   "outputs": [
    {
     "name": "stdout",
     "output_type": "stream",
     "text": [
      "overall_loss tensor(0.2714, device='cuda:0')\n",
      "recon_loss tensor(0.2714, device='cuda:0')\n",
      "kl_loss tensor(66.1231, device='cuda:0')\n",
      "neigh_loss tensor(3.3959, device='cuda:0')\n"
     ]
    }
   ],
   "source": [
    "for k, v in losses.items(): print(k, v)"
   ]
  },
  {
   "cell_type": "code",
   "execution_count": 29,
   "id": "c90753c5",
   "metadata": {},
   "outputs": [
    {
     "name": "stdout",
     "output_type": "stream",
     "text": [
      "encoded_tokens_prequant torch.Size([128, 65, 256])\n",
      "encoded_tokens torch.Size([128, 65, 256])\n",
      "pred_pixel_values torch.Size([128, 64, 26])\n",
      "clusters torch.Size([128, 64])\n"
     ]
    }
   ],
   "source": [
    "for k, v in outputs.items(): print(k, v.shape)"
   ]
  },
  {
   "cell_type": "code",
   "execution_count": 30,
   "id": "e15f07aa",
   "metadata": {},
   "outputs": [
    {
     "name": "stderr",
     "output_type": "stream",
     "text": [
      "INFO:root:iteration 0: {'overall_loss': tensor(0.3103, device='cuda:0', grad_fn=<AddBackward0>), 'recon_loss': tensor(0.3103, device='cuda:0', grad_fn=<MseLossBackward0>), 'kl_loss': tensor(66.1075, device='cuda:0', grad_fn=<MeanBackward0>), 'neigh_loss': tensor(3.3925, device='cuda:0', grad_fn=<NllLossBackward0>)}\n",
      "INFO:root:saving checkpoint to /data/estorrs/mushroom/data/projects/xenium_grant/mushroom/S18-25943_codex/outputs/chkpts/0iter.pt\n",
      "INFO:root:iteration 10: {'overall_loss': tensor(0.2414, device='cuda:0', grad_fn=<AddBackward0>), 'recon_loss': tensor(0.2414, device='cuda:0', grad_fn=<MseLossBackward0>), 'kl_loss': tensor(109.0366, device='cuda:0', grad_fn=<MeanBackward0>), 'neigh_loss': tensor(2.9820, device='cuda:0', grad_fn=<NllLossBackward0>)}\n",
      "INFO:root:iteration 20: {'overall_loss': tensor(0.4186, device='cuda:0', grad_fn=<AddBackward0>), 'recon_loss': tensor(0.4186, device='cuda:0', grad_fn=<MseLossBackward0>), 'kl_loss': tensor(133.4507, device='cuda:0', grad_fn=<MeanBackward0>), 'neigh_loss': tensor(2.7133, device='cuda:0', grad_fn=<NllLossBackward0>)}\n",
      "INFO:root:iteration 30: {'overall_loss': tensor(0.3219, device='cuda:0', grad_fn=<AddBackward0>), 'recon_loss': tensor(0.3219, device='cuda:0', grad_fn=<MseLossBackward0>), 'kl_loss': tensor(161.4418, device='cuda:0', grad_fn=<MeanBackward0>), 'neigh_loss': tensor(2.6609, device='cuda:0', grad_fn=<NllLossBackward0>)}\n",
      "INFO:root:iteration 40: {'overall_loss': tensor(0.2719, device='cuda:0', grad_fn=<AddBackward0>), 'recon_loss': tensor(0.2719, device='cuda:0', grad_fn=<MseLossBackward0>), 'kl_loss': tensor(181.6967, device='cuda:0', grad_fn=<MeanBackward0>), 'neigh_loss': tensor(2.6592, device='cuda:0', grad_fn=<NllLossBackward0>)}\n",
      "INFO:root:iteration 50: {'overall_loss': tensor(0.2937, device='cuda:0', grad_fn=<AddBackward0>), 'recon_loss': tensor(0.2937, device='cuda:0', grad_fn=<MseLossBackward0>), 'kl_loss': tensor(192.0070, device='cuda:0', grad_fn=<MeanBackward0>), 'neigh_loss': tensor(2.6590, device='cuda:0', grad_fn=<NllLossBackward0>)}\n",
      "INFO:root:iteration 60: {'overall_loss': tensor(0.2356, device='cuda:0', grad_fn=<AddBackward0>), 'recon_loss': tensor(0.2356, device='cuda:0', grad_fn=<MseLossBackward0>), 'kl_loss': tensor(208.3642, device='cuda:0', grad_fn=<MeanBackward0>), 'neigh_loss': tensor(2.7346, device='cuda:0', grad_fn=<NllLossBackward0>)}\n",
      "INFO:root:iteration 70: {'overall_loss': tensor(0.2780, device='cuda:0', grad_fn=<AddBackward0>), 'recon_loss': tensor(0.2780, device='cuda:0', grad_fn=<MseLossBackward0>), 'kl_loss': tensor(221.3815, device='cuda:0', grad_fn=<MeanBackward0>), 'neigh_loss': tensor(2.6939, device='cuda:0', grad_fn=<NllLossBackward0>)}\n",
      "INFO:root:iteration 80: {'overall_loss': tensor(0.2256, device='cuda:0', grad_fn=<AddBackward0>), 'recon_loss': tensor(0.2256, device='cuda:0', grad_fn=<MseLossBackward0>), 'kl_loss': tensor(228.1458, device='cuda:0', grad_fn=<MeanBackward0>), 'neigh_loss': tensor(2.7654, device='cuda:0', grad_fn=<NllLossBackward0>)}\n",
      "INFO:root:iteration 90: {'overall_loss': tensor(0.1871, device='cuda:0', grad_fn=<AddBackward0>), 'recon_loss': tensor(0.1871, device='cuda:0', grad_fn=<MseLossBackward0>), 'kl_loss': tensor(225.9211, device='cuda:0', grad_fn=<MeanBackward0>), 'neigh_loss': tensor(2.7480, device='cuda:0', grad_fn=<NllLossBackward0>)}\n",
      "INFO:root:iteration 100: {'overall_loss': tensor(0.2202, device='cuda:0', grad_fn=<AddBackward0>), 'recon_loss': tensor(0.2202, device='cuda:0', grad_fn=<MseLossBackward0>), 'kl_loss': tensor(232.3439, device='cuda:0', grad_fn=<MeanBackward0>), 'neigh_loss': tensor(2.7113, device='cuda:0', grad_fn=<NllLossBackward0>)}\n",
      "INFO:root:saving checkpoint to /data/estorrs/mushroom/data/projects/xenium_grant/mushroom/S18-25943_codex/outputs/chkpts/100iter.pt\n",
      "INFO:root:iteration 110: {'overall_loss': tensor(0.2767, device='cuda:0', grad_fn=<AddBackward0>), 'recon_loss': tensor(0.2767, device='cuda:0', grad_fn=<MseLossBackward0>), 'kl_loss': tensor(249.1582, device='cuda:0', grad_fn=<MeanBackward0>), 'neigh_loss': tensor(2.7226, device='cuda:0', grad_fn=<NllLossBackward0>)}\n",
      "INFO:root:iteration 120: {'overall_loss': tensor(0.2476, device='cuda:0', grad_fn=<AddBackward0>), 'recon_loss': tensor(0.2476, device='cuda:0', grad_fn=<MseLossBackward0>), 'kl_loss': tensor(250.0454, device='cuda:0', grad_fn=<MeanBackward0>), 'neigh_loss': tensor(2.7676, device='cuda:0', grad_fn=<NllLossBackward0>)}\n",
      "INFO:root:iteration 130: {'overall_loss': tensor(0.2660, device='cuda:0', grad_fn=<AddBackward0>), 'recon_loss': tensor(0.2660, device='cuda:0', grad_fn=<MseLossBackward0>), 'kl_loss': tensor(271.1768, device='cuda:0', grad_fn=<MeanBackward0>), 'neigh_loss': tensor(2.7011, device='cuda:0', grad_fn=<NllLossBackward0>)}\n",
      "INFO:root:iteration 140: {'overall_loss': tensor(0.2326, device='cuda:0', grad_fn=<AddBackward0>), 'recon_loss': tensor(0.2326, device='cuda:0', grad_fn=<MseLossBackward0>), 'kl_loss': tensor(269.0392, device='cuda:0', grad_fn=<MeanBackward0>), 'neigh_loss': tensor(2.7870, device='cuda:0', grad_fn=<NllLossBackward0>)}\n",
      "INFO:root:iteration 150: {'overall_loss': tensor(0.1595, device='cuda:0', grad_fn=<AddBackward0>), 'recon_loss': tensor(0.1595, device='cuda:0', grad_fn=<MseLossBackward0>), 'kl_loss': tensor(279.0338, device='cuda:0', grad_fn=<MeanBackward0>), 'neigh_loss': tensor(2.6345, device='cuda:0', grad_fn=<NllLossBackward0>)}\n",
      "INFO:root:iteration 160: {'overall_loss': tensor(0.1815, device='cuda:0', grad_fn=<AddBackward0>), 'recon_loss': tensor(0.1815, device='cuda:0', grad_fn=<MseLossBackward0>), 'kl_loss': tensor(284.6678, device='cuda:0', grad_fn=<MeanBackward0>), 'neigh_loss': tensor(2.6252, device='cuda:0', grad_fn=<NllLossBackward0>)}\n",
      "INFO:root:iteration 170: {'overall_loss': tensor(0.1987, device='cuda:0', grad_fn=<AddBackward0>), 'recon_loss': tensor(0.1987, device='cuda:0', grad_fn=<MseLossBackward0>), 'kl_loss': tensor(290.8204, device='cuda:0', grad_fn=<MeanBackward0>), 'neigh_loss': tensor(2.6346, device='cuda:0', grad_fn=<NllLossBackward0>)}\n",
      "INFO:root:iteration 180: {'overall_loss': tensor(0.2486, device='cuda:0', grad_fn=<AddBackward0>), 'recon_loss': tensor(0.2486, device='cuda:0', grad_fn=<MseLossBackward0>), 'kl_loss': tensor(292.7243, device='cuda:0', grad_fn=<MeanBackward0>), 'neigh_loss': tensor(2.6847, device='cuda:0', grad_fn=<NllLossBackward0>)}\n",
      "INFO:root:iteration 190: {'overall_loss': tensor(0.1405, device='cuda:0', grad_fn=<AddBackward0>), 'recon_loss': tensor(0.1405, device='cuda:0', grad_fn=<MseLossBackward0>), 'kl_loss': tensor(299.6030, device='cuda:0', grad_fn=<MeanBackward0>), 'neigh_loss': tensor(2.6783, device='cuda:0', grad_fn=<NllLossBackward0>)}\n",
      "INFO:root:iteration 200: {'overall_loss': tensor(0.2231, device='cuda:0', grad_fn=<AddBackward0>), 'recon_loss': tensor(0.2231, device='cuda:0', grad_fn=<MseLossBackward0>), 'kl_loss': tensor(306.2890, device='cuda:0', grad_fn=<MeanBackward0>), 'neigh_loss': tensor(2.7204, device='cuda:0', grad_fn=<NllLossBackward0>)}\n",
      "INFO:root:saving checkpoint to /data/estorrs/mushroom/data/projects/xenium_grant/mushroom/S18-25943_codex/outputs/chkpts/200iter.pt\n",
      "INFO:root:iteration 210: {'overall_loss': tensor(0.1640, device='cuda:0', grad_fn=<AddBackward0>), 'recon_loss': tensor(0.1640, device='cuda:0', grad_fn=<MseLossBackward0>), 'kl_loss': tensor(311.7026, device='cuda:0', grad_fn=<MeanBackward0>), 'neigh_loss': tensor(2.6392, device='cuda:0', grad_fn=<NllLossBackward0>)}\n",
      "INFO:root:iteration 220: {'overall_loss': tensor(0.1964, device='cuda:0', grad_fn=<AddBackward0>), 'recon_loss': tensor(0.1964, device='cuda:0', grad_fn=<MseLossBackward0>), 'kl_loss': tensor(318.3754, device='cuda:0', grad_fn=<MeanBackward0>), 'neigh_loss': tensor(2.6301, device='cuda:0', grad_fn=<NllLossBackward0>)}\n",
      "INFO:root:iteration 230: {'overall_loss': tensor(0.1538, device='cuda:0', grad_fn=<AddBackward0>), 'recon_loss': tensor(0.1538, device='cuda:0', grad_fn=<MseLossBackward0>), 'kl_loss': tensor(319.1944, device='cuda:0', grad_fn=<MeanBackward0>), 'neigh_loss': tensor(2.6921, device='cuda:0', grad_fn=<NllLossBackward0>)}\n",
      "INFO:root:iteration 240: {'overall_loss': tensor(0.1788, device='cuda:0', grad_fn=<AddBackward0>), 'recon_loss': tensor(0.1788, device='cuda:0', grad_fn=<MseLossBackward0>), 'kl_loss': tensor(322.6146, device='cuda:0', grad_fn=<MeanBackward0>), 'neigh_loss': tensor(2.6000, device='cuda:0', grad_fn=<NllLossBackward0>)}\n"
     ]
    },
    {
     "name": "stderr",
     "output_type": "stream",
     "text": [
      "INFO:root:iteration 250: {'overall_loss': tensor(0.1614, device='cuda:0', grad_fn=<AddBackward0>), 'recon_loss': tensor(0.1614, device='cuda:0', grad_fn=<MseLossBackward0>), 'kl_loss': tensor(327.1143, device='cuda:0', grad_fn=<MeanBackward0>), 'neigh_loss': tensor(2.6527, device='cuda:0', grad_fn=<NllLossBackward0>)}\n",
      "INFO:root:iteration 260: {'overall_loss': tensor(0.1504, device='cuda:0', grad_fn=<AddBackward0>), 'recon_loss': tensor(0.1504, device='cuda:0', grad_fn=<MseLossBackward0>), 'kl_loss': tensor(322.6439, device='cuda:0', grad_fn=<MeanBackward0>), 'neigh_loss': tensor(2.6959, device='cuda:0', grad_fn=<NllLossBackward0>)}\n",
      "INFO:root:iteration 270: {'overall_loss': tensor(0.2267, device='cuda:0', grad_fn=<AddBackward0>), 'recon_loss': tensor(0.2267, device='cuda:0', grad_fn=<MseLossBackward0>), 'kl_loss': tensor(334.6199, device='cuda:0', grad_fn=<MeanBackward0>), 'neigh_loss': tensor(2.6986, device='cuda:0', grad_fn=<NllLossBackward0>)}\n",
      "INFO:root:iteration 280: {'overall_loss': tensor(0.1422, device='cuda:0', grad_fn=<AddBackward0>), 'recon_loss': tensor(0.1422, device='cuda:0', grad_fn=<MseLossBackward0>), 'kl_loss': tensor(336.2568, device='cuda:0', grad_fn=<MeanBackward0>), 'neigh_loss': tensor(2.5908, device='cuda:0', grad_fn=<NllLossBackward0>)}\n",
      "INFO:root:iteration 290: {'overall_loss': tensor(0.1723, device='cuda:0', grad_fn=<AddBackward0>), 'recon_loss': tensor(0.1723, device='cuda:0', grad_fn=<MseLossBackward0>), 'kl_loss': tensor(331.7034, device='cuda:0', grad_fn=<MeanBackward0>), 'neigh_loss': tensor(2.6834, device='cuda:0', grad_fn=<NllLossBackward0>)}\n",
      "INFO:root:iteration 300: {'overall_loss': tensor(0.1970, device='cuda:0', grad_fn=<AddBackward0>), 'recon_loss': tensor(0.1970, device='cuda:0', grad_fn=<MseLossBackward0>), 'kl_loss': tensor(337.1935, device='cuda:0', grad_fn=<MeanBackward0>), 'neigh_loss': tensor(2.5987, device='cuda:0', grad_fn=<NllLossBackward0>)}\n",
      "INFO:root:saving checkpoint to /data/estorrs/mushroom/data/projects/xenium_grant/mushroom/S18-25943_codex/outputs/chkpts/300iter.pt\n",
      "INFO:root:iteration 310: {'overall_loss': tensor(0.1963, device='cuda:0', grad_fn=<AddBackward0>), 'recon_loss': tensor(0.1963, device='cuda:0', grad_fn=<MseLossBackward0>), 'kl_loss': tensor(340.9498, device='cuda:0', grad_fn=<MeanBackward0>), 'neigh_loss': tensor(2.6496, device='cuda:0', grad_fn=<NllLossBackward0>)}\n",
      "INFO:root:iteration 320: {'overall_loss': tensor(0.2453, device='cuda:0', grad_fn=<AddBackward0>), 'recon_loss': tensor(0.2453, device='cuda:0', grad_fn=<MseLossBackward0>), 'kl_loss': tensor(344.3747, device='cuda:0', grad_fn=<MeanBackward0>), 'neigh_loss': tensor(2.6380, device='cuda:0', grad_fn=<NllLossBackward0>)}\n",
      "INFO:root:iteration 330: {'overall_loss': tensor(0.2315, device='cuda:0', grad_fn=<AddBackward0>), 'recon_loss': tensor(0.2315, device='cuda:0', grad_fn=<MseLossBackward0>), 'kl_loss': tensor(340.2621, device='cuda:0', grad_fn=<MeanBackward0>), 'neigh_loss': tensor(2.5680, device='cuda:0', grad_fn=<NllLossBackward0>)}\n",
      "INFO:root:iteration 340: {'overall_loss': tensor(0.2075, device='cuda:0', grad_fn=<AddBackward0>), 'recon_loss': tensor(0.2075, device='cuda:0', grad_fn=<MseLossBackward0>), 'kl_loss': tensor(344.4143, device='cuda:0', grad_fn=<MeanBackward0>), 'neigh_loss': tensor(2.6524, device='cuda:0', grad_fn=<NllLossBackward0>)}\n",
      "INFO:root:iteration 350: {'overall_loss': tensor(0.1384, device='cuda:0', grad_fn=<AddBackward0>), 'recon_loss': tensor(0.1384, device='cuda:0', grad_fn=<MseLossBackward0>), 'kl_loss': tensor(349.4528, device='cuda:0', grad_fn=<MeanBackward0>), 'neigh_loss': tensor(2.6186, device='cuda:0', grad_fn=<NllLossBackward0>)}\n",
      "INFO:root:iteration 360: {'overall_loss': tensor(0.1530, device='cuda:0', grad_fn=<AddBackward0>), 'recon_loss': tensor(0.1530, device='cuda:0', grad_fn=<MseLossBackward0>), 'kl_loss': tensor(349.7463, device='cuda:0', grad_fn=<MeanBackward0>), 'neigh_loss': tensor(2.6159, device='cuda:0', grad_fn=<NllLossBackward0>)}\n",
      "INFO:root:iteration 370: {'overall_loss': tensor(0.2033, device='cuda:0', grad_fn=<AddBackward0>), 'recon_loss': tensor(0.2033, device='cuda:0', grad_fn=<MseLossBackward0>), 'kl_loss': tensor(349.7020, device='cuda:0', grad_fn=<MeanBackward0>), 'neigh_loss': tensor(2.6515, device='cuda:0', grad_fn=<NllLossBackward0>)}\n",
      "INFO:root:iteration 380: {'overall_loss': tensor(0.1236, device='cuda:0', grad_fn=<AddBackward0>), 'recon_loss': tensor(0.1236, device='cuda:0', grad_fn=<MseLossBackward0>), 'kl_loss': tensor(356.1075, device='cuda:0', grad_fn=<MeanBackward0>), 'neigh_loss': tensor(2.6682, device='cuda:0', grad_fn=<NllLossBackward0>)}\n",
      "INFO:root:iteration 390: {'overall_loss': tensor(0.1765, device='cuda:0', grad_fn=<AddBackward0>), 'recon_loss': tensor(0.1765, device='cuda:0', grad_fn=<MseLossBackward0>), 'kl_loss': tensor(355.0407, device='cuda:0', grad_fn=<MeanBackward0>), 'neigh_loss': tensor(2.7609, device='cuda:0', grad_fn=<NllLossBackward0>)}\n",
      "INFO:root:iteration 400: {'overall_loss': tensor(0.1509, device='cuda:0', grad_fn=<AddBackward0>), 'recon_loss': tensor(0.1509, device='cuda:0', grad_fn=<MseLossBackward0>), 'kl_loss': tensor(360.4504, device='cuda:0', grad_fn=<MeanBackward0>), 'neigh_loss': tensor(2.6011, device='cuda:0', grad_fn=<NllLossBackward0>)}\n",
      "INFO:root:saving checkpoint to /data/estorrs/mushroom/data/projects/xenium_grant/mushroom/S18-25943_codex/outputs/chkpts/400iter.pt\n",
      "INFO:root:iteration 410: {'overall_loss': tensor(0.2147, device='cuda:0', grad_fn=<AddBackward0>), 'recon_loss': tensor(0.2147, device='cuda:0', grad_fn=<MseLossBackward0>), 'kl_loss': tensor(367.5250, device='cuda:0', grad_fn=<MeanBackward0>), 'neigh_loss': tensor(2.5999, device='cuda:0', grad_fn=<NllLossBackward0>)}\n",
      "INFO:root:iteration 420: {'overall_loss': tensor(0.1649, device='cuda:0', grad_fn=<AddBackward0>), 'recon_loss': tensor(0.1649, device='cuda:0', grad_fn=<MseLossBackward0>), 'kl_loss': tensor(374.7481, device='cuda:0', grad_fn=<MeanBackward0>), 'neigh_loss': tensor(2.6739, device='cuda:0', grad_fn=<NllLossBackward0>)}\n",
      "INFO:root:iteration 430: {'overall_loss': tensor(0.1357, device='cuda:0', grad_fn=<AddBackward0>), 'recon_loss': tensor(0.1357, device='cuda:0', grad_fn=<MseLossBackward0>), 'kl_loss': tensor(373.8906, device='cuda:0', grad_fn=<MeanBackward0>), 'neigh_loss': tensor(2.7231, device='cuda:0', grad_fn=<NllLossBackward0>)}\n",
      "INFO:root:iteration 440: {'overall_loss': tensor(0.2281, device='cuda:0', grad_fn=<AddBackward0>), 'recon_loss': tensor(0.2281, device='cuda:0', grad_fn=<MseLossBackward0>), 'kl_loss': tensor(377.6496, device='cuda:0', grad_fn=<MeanBackward0>), 'neigh_loss': tensor(2.5763, device='cuda:0', grad_fn=<NllLossBackward0>)}\n",
      "INFO:root:iteration 450: {'overall_loss': tensor(0.2303, device='cuda:0', grad_fn=<AddBackward0>), 'recon_loss': tensor(0.2303, device='cuda:0', grad_fn=<MseLossBackward0>), 'kl_loss': tensor(376.9776, device='cuda:0', grad_fn=<MeanBackward0>), 'neigh_loss': tensor(2.6787, device='cuda:0', grad_fn=<NllLossBackward0>)}\n",
      "INFO:root:iteration 460: {'overall_loss': tensor(0.1697, device='cuda:0', grad_fn=<AddBackward0>), 'recon_loss': tensor(0.1697, device='cuda:0', grad_fn=<MseLossBackward0>), 'kl_loss': tensor(373.3358, device='cuda:0', grad_fn=<MeanBackward0>), 'neigh_loss': tensor(2.6698, device='cuda:0', grad_fn=<NllLossBackward0>)}\n",
      "INFO:root:iteration 470: {'overall_loss': tensor(0.2365, device='cuda:0', grad_fn=<AddBackward0>), 'recon_loss': tensor(0.2365, device='cuda:0', grad_fn=<MseLossBackward0>), 'kl_loss': tensor(382.1648, device='cuda:0', grad_fn=<MeanBackward0>), 'neigh_loss': tensor(2.6554, device='cuda:0', grad_fn=<NllLossBackward0>)}\n",
      "INFO:root:iteration 480: {'overall_loss': tensor(0.2598, device='cuda:0', grad_fn=<AddBackward0>), 'recon_loss': tensor(0.2598, device='cuda:0', grad_fn=<MseLossBackward0>), 'kl_loss': tensor(375.4939, device='cuda:0', grad_fn=<MeanBackward0>), 'neigh_loss': tensor(2.6472, device='cuda:0', grad_fn=<NllLossBackward0>)}\n",
      "INFO:root:iteration 490: {'overall_loss': tensor(0.1454, device='cuda:0', grad_fn=<AddBackward0>), 'recon_loss': tensor(0.1454, device='cuda:0', grad_fn=<MseLossBackward0>), 'kl_loss': tensor(380.2729, device='cuda:0', grad_fn=<MeanBackward0>), 'neigh_loss': tensor(2.6882, device='cuda:0', grad_fn=<NllLossBackward0>)}\n"
     ]
    },
    {
     "name": "stderr",
     "output_type": "stream",
     "text": [
      "INFO:root:iteration 500: {'overall_loss': tensor(0.2128, device='cuda:0', grad_fn=<AddBackward0>), 'recon_loss': tensor(0.2128, device='cuda:0', grad_fn=<MseLossBackward0>), 'kl_loss': tensor(381.9405, device='cuda:0', grad_fn=<MeanBackward0>), 'neigh_loss': tensor(2.6139, device='cuda:0', grad_fn=<NllLossBackward0>)}\n",
      "INFO:root:saving checkpoint to /data/estorrs/mushroom/data/projects/xenium_grant/mushroom/S18-25943_codex/outputs/chkpts/500iter.pt\n",
      "INFO:root:iteration 510: {'overall_loss': tensor(0.2131, device='cuda:0', grad_fn=<AddBackward0>), 'recon_loss': tensor(0.2131, device='cuda:0', grad_fn=<MseLossBackward0>), 'kl_loss': tensor(374.8635, device='cuda:0', grad_fn=<MeanBackward0>), 'neigh_loss': tensor(2.6883, device='cuda:0', grad_fn=<NllLossBackward0>)}\n",
      "INFO:root:iteration 520: {'overall_loss': tensor(0.1682, device='cuda:0', grad_fn=<AddBackward0>), 'recon_loss': tensor(0.1682, device='cuda:0', grad_fn=<MseLossBackward0>), 'kl_loss': tensor(375.5351, device='cuda:0', grad_fn=<MeanBackward0>), 'neigh_loss': tensor(2.6446, device='cuda:0', grad_fn=<NllLossBackward0>)}\n",
      "INFO:root:iteration 530: {'overall_loss': tensor(0.1778, device='cuda:0', grad_fn=<AddBackward0>), 'recon_loss': tensor(0.1778, device='cuda:0', grad_fn=<MseLossBackward0>), 'kl_loss': tensor(370.2726, device='cuda:0', grad_fn=<MeanBackward0>), 'neigh_loss': tensor(2.6598, device='cuda:0', grad_fn=<NllLossBackward0>)}\n",
      "INFO:root:iteration 540: {'overall_loss': tensor(0.2667, device='cuda:0', grad_fn=<AddBackward0>), 'recon_loss': tensor(0.2667, device='cuda:0', grad_fn=<MseLossBackward0>), 'kl_loss': tensor(354.1198, device='cuda:0', grad_fn=<MeanBackward0>), 'neigh_loss': tensor(2.6986, device='cuda:0', grad_fn=<NllLossBackward0>)}\n",
      "INFO:root:iteration 550: {'overall_loss': tensor(0.1662, device='cuda:0', grad_fn=<AddBackward0>), 'recon_loss': tensor(0.1662, device='cuda:0', grad_fn=<MseLossBackward0>), 'kl_loss': tensor(353.0253, device='cuda:0', grad_fn=<MeanBackward0>), 'neigh_loss': tensor(2.6631, device='cuda:0', grad_fn=<NllLossBackward0>)}\n",
      "INFO:root:iteration 560: {'overall_loss': tensor(0.1625, device='cuda:0', grad_fn=<AddBackward0>), 'recon_loss': tensor(0.1625, device='cuda:0', grad_fn=<MseLossBackward0>), 'kl_loss': tensor(346.5797, device='cuda:0', grad_fn=<MeanBackward0>), 'neigh_loss': tensor(2.7632, device='cuda:0', grad_fn=<NllLossBackward0>)}\n",
      "INFO:root:iteration 570: {'overall_loss': tensor(0.2104, device='cuda:0', grad_fn=<AddBackward0>), 'recon_loss': tensor(0.2104, device='cuda:0', grad_fn=<MseLossBackward0>), 'kl_loss': tensor(352.2821, device='cuda:0', grad_fn=<MeanBackward0>), 'neigh_loss': tensor(2.7402, device='cuda:0', grad_fn=<NllLossBackward0>)}\n",
      "INFO:root:iteration 580: {'overall_loss': tensor(0.2032, device='cuda:0', grad_fn=<AddBackward0>), 'recon_loss': tensor(0.2032, device='cuda:0', grad_fn=<MseLossBackward0>), 'kl_loss': tensor(323.5313, device='cuda:0', grad_fn=<MeanBackward0>), 'neigh_loss': tensor(2.7280, device='cuda:0', grad_fn=<NllLossBackward0>)}\n",
      "INFO:root:iteration 590: {'overall_loss': tensor(0.2242, device='cuda:0', grad_fn=<AddBackward0>), 'recon_loss': tensor(0.2242, device='cuda:0', grad_fn=<MseLossBackward0>), 'kl_loss': tensor(352.7212, device='cuda:0', grad_fn=<MeanBackward0>), 'neigh_loss': tensor(2.7399, device='cuda:0', grad_fn=<NllLossBackward0>)}\n",
      "INFO:root:iteration 600: {'overall_loss': tensor(0.1876, device='cuda:0', grad_fn=<AddBackward0>), 'recon_loss': tensor(0.1876, device='cuda:0', grad_fn=<MseLossBackward0>), 'kl_loss': tensor(335.3738, device='cuda:0', grad_fn=<MeanBackward0>), 'neigh_loss': tensor(2.8040, device='cuda:0', grad_fn=<NllLossBackward0>)}\n",
      "INFO:root:saving checkpoint to /data/estorrs/mushroom/data/projects/xenium_grant/mushroom/S18-25943_codex/outputs/chkpts/600iter.pt\n",
      "INFO:root:iteration 610: {'overall_loss': tensor(0.1231, device='cuda:0', grad_fn=<AddBackward0>), 'recon_loss': tensor(0.1231, device='cuda:0', grad_fn=<MseLossBackward0>), 'kl_loss': tensor(340.5663, device='cuda:0', grad_fn=<MeanBackward0>), 'neigh_loss': tensor(2.7323, device='cuda:0', grad_fn=<NllLossBackward0>)}\n",
      "INFO:root:iteration 620: {'overall_loss': tensor(0.1761, device='cuda:0', grad_fn=<AddBackward0>), 'recon_loss': tensor(0.1761, device='cuda:0', grad_fn=<MseLossBackward0>), 'kl_loss': tensor(361.0028, device='cuda:0', grad_fn=<MeanBackward0>), 'neigh_loss': tensor(2.6701, device='cuda:0', grad_fn=<NllLossBackward0>)}\n",
      "INFO:root:iteration 630: {'overall_loss': tensor(0.1154, device='cuda:0', grad_fn=<AddBackward0>), 'recon_loss': tensor(0.1154, device='cuda:0', grad_fn=<MseLossBackward0>), 'kl_loss': tensor(360.6599, device='cuda:0', grad_fn=<MeanBackward0>), 'neigh_loss': tensor(2.8277, device='cuda:0', grad_fn=<NllLossBackward0>)}\n",
      "INFO:root:iteration 640: {'overall_loss': tensor(0.1682, device='cuda:0', grad_fn=<AddBackward0>), 'recon_loss': tensor(0.1682, device='cuda:0', grad_fn=<MseLossBackward0>), 'kl_loss': tensor(365.3946, device='cuda:0', grad_fn=<MeanBackward0>), 'neigh_loss': tensor(2.7349, device='cuda:0', grad_fn=<NllLossBackward0>)}\n",
      "INFO:root:iteration 650: {'overall_loss': tensor(0.1489, device='cuda:0', grad_fn=<AddBackward0>), 'recon_loss': tensor(0.1489, device='cuda:0', grad_fn=<MseLossBackward0>), 'kl_loss': tensor(383.3696, device='cuda:0', grad_fn=<MeanBackward0>), 'neigh_loss': tensor(2.7470, device='cuda:0', grad_fn=<NllLossBackward0>)}\n",
      "INFO:root:iteration 660: {'overall_loss': tensor(0.1644, device='cuda:0', grad_fn=<AddBackward0>), 'recon_loss': tensor(0.1644, device='cuda:0', grad_fn=<MseLossBackward0>), 'kl_loss': tensor(380.7528, device='cuda:0', grad_fn=<MeanBackward0>), 'neigh_loss': tensor(2.7331, device='cuda:0', grad_fn=<NllLossBackward0>)}\n",
      "INFO:root:iteration 670: {'overall_loss': tensor(0.1849, device='cuda:0', grad_fn=<AddBackward0>), 'recon_loss': tensor(0.1849, device='cuda:0', grad_fn=<MseLossBackward0>), 'kl_loss': tensor(384.0912, device='cuda:0', grad_fn=<MeanBackward0>), 'neigh_loss': tensor(2.7783, device='cuda:0', grad_fn=<NllLossBackward0>)}\n",
      "INFO:root:iteration 680: {'overall_loss': tensor(0.1465, device='cuda:0', grad_fn=<AddBackward0>), 'recon_loss': tensor(0.1465, device='cuda:0', grad_fn=<MseLossBackward0>), 'kl_loss': tensor(361.0089, device='cuda:0', grad_fn=<MeanBackward0>), 'neigh_loss': tensor(2.8724, device='cuda:0', grad_fn=<NllLossBackward0>)}\n",
      "INFO:root:iteration 690: {'overall_loss': tensor(0.1591, device='cuda:0', grad_fn=<AddBackward0>), 'recon_loss': tensor(0.1591, device='cuda:0', grad_fn=<MseLossBackward0>), 'kl_loss': tensor(378.7320, device='cuda:0', grad_fn=<MeanBackward0>), 'neigh_loss': tensor(2.7732, device='cuda:0', grad_fn=<NllLossBackward0>)}\n",
      "INFO:root:iteration 700: {'overall_loss': tensor(0.1469, device='cuda:0', grad_fn=<AddBackward0>), 'recon_loss': tensor(0.1469, device='cuda:0', grad_fn=<MseLossBackward0>), 'kl_loss': tensor(388.7597, device='cuda:0', grad_fn=<MeanBackward0>), 'neigh_loss': tensor(2.8461, device='cuda:0', grad_fn=<NllLossBackward0>)}\n",
      "INFO:root:saving checkpoint to /data/estorrs/mushroom/data/projects/xenium_grant/mushroom/S18-25943_codex/outputs/chkpts/700iter.pt\n",
      "INFO:root:iteration 710: {'overall_loss': tensor(0.1435, device='cuda:0', grad_fn=<AddBackward0>), 'recon_loss': tensor(0.1435, device='cuda:0', grad_fn=<MseLossBackward0>), 'kl_loss': tensor(393.3253, device='cuda:0', grad_fn=<MeanBackward0>), 'neigh_loss': tensor(2.8093, device='cuda:0', grad_fn=<NllLossBackward0>)}\n",
      "INFO:root:iteration 720: {'overall_loss': tensor(0.1930, device='cuda:0', grad_fn=<AddBackward0>), 'recon_loss': tensor(0.1930, device='cuda:0', grad_fn=<MseLossBackward0>), 'kl_loss': tensor(385.1522, device='cuda:0', grad_fn=<MeanBackward0>), 'neigh_loss': tensor(2.7709, device='cuda:0', grad_fn=<NllLossBackward0>)}\n",
      "INFO:root:iteration 730: {'overall_loss': tensor(0.0970, device='cuda:0', grad_fn=<AddBackward0>), 'recon_loss': tensor(0.0970, device='cuda:0', grad_fn=<MseLossBackward0>), 'kl_loss': tensor(398.6917, device='cuda:0', grad_fn=<MeanBackward0>), 'neigh_loss': tensor(2.7907, device='cuda:0', grad_fn=<NllLossBackward0>)}\n",
      "INFO:root:iteration 740: {'overall_loss': tensor(0.1884, device='cuda:0', grad_fn=<AddBackward0>), 'recon_loss': tensor(0.1884, device='cuda:0', grad_fn=<MseLossBackward0>), 'kl_loss': tensor(401.4628, device='cuda:0', grad_fn=<MeanBackward0>), 'neigh_loss': tensor(2.8402, device='cuda:0', grad_fn=<NllLossBackward0>)}\n"
     ]
    },
    {
     "name": "stderr",
     "output_type": "stream",
     "text": [
      "INFO:root:iteration 750: {'overall_loss': tensor(0.1289, device='cuda:0', grad_fn=<AddBackward0>), 'recon_loss': tensor(0.1289, device='cuda:0', grad_fn=<MseLossBackward0>), 'kl_loss': tensor(399.9696, device='cuda:0', grad_fn=<MeanBackward0>), 'neigh_loss': tensor(2.7715, device='cuda:0', grad_fn=<NllLossBackward0>)}\n",
      "INFO:root:iteration 760: {'overall_loss': tensor(0.2533, device='cuda:0', grad_fn=<AddBackward0>), 'recon_loss': tensor(0.2533, device='cuda:0', grad_fn=<MseLossBackward0>), 'kl_loss': tensor(413.6085, device='cuda:0', grad_fn=<MeanBackward0>), 'neigh_loss': tensor(2.7832, device='cuda:0', grad_fn=<NllLossBackward0>)}\n",
      "INFO:root:iteration 770: {'overall_loss': tensor(0.1551, device='cuda:0', grad_fn=<AddBackward0>), 'recon_loss': tensor(0.1551, device='cuda:0', grad_fn=<MseLossBackward0>), 'kl_loss': tensor(402.0966, device='cuda:0', grad_fn=<MeanBackward0>), 'neigh_loss': tensor(2.8625, device='cuda:0', grad_fn=<NllLossBackward0>)}\n",
      "INFO:root:iteration 780: {'overall_loss': tensor(0.1068, device='cuda:0', grad_fn=<AddBackward0>), 'recon_loss': tensor(0.1068, device='cuda:0', grad_fn=<MseLossBackward0>), 'kl_loss': tensor(402.2954, device='cuda:0', grad_fn=<MeanBackward0>), 'neigh_loss': tensor(2.8449, device='cuda:0', grad_fn=<NllLossBackward0>)}\n",
      "INFO:root:iteration 790: {'overall_loss': tensor(0.1961, device='cuda:0', grad_fn=<AddBackward0>), 'recon_loss': tensor(0.1961, device='cuda:0', grad_fn=<MseLossBackward0>), 'kl_loss': tensor(410.5924, device='cuda:0', grad_fn=<MeanBackward0>), 'neigh_loss': tensor(2.7929, device='cuda:0', grad_fn=<NllLossBackward0>)}\n",
      "INFO:root:iteration 800: {'overall_loss': tensor(0.2047, device='cuda:0', grad_fn=<AddBackward0>), 'recon_loss': tensor(0.2047, device='cuda:0', grad_fn=<MseLossBackward0>), 'kl_loss': tensor(426.8212, device='cuda:0', grad_fn=<MeanBackward0>), 'neigh_loss': tensor(2.7673, device='cuda:0', grad_fn=<NllLossBackward0>)}\n",
      "INFO:root:saving checkpoint to /data/estorrs/mushroom/data/projects/xenium_grant/mushroom/S18-25943_codex/outputs/chkpts/800iter.pt\n",
      "INFO:root:iteration 810: {'overall_loss': tensor(0.1557, device='cuda:0', grad_fn=<AddBackward0>), 'recon_loss': tensor(0.1557, device='cuda:0', grad_fn=<MseLossBackward0>), 'kl_loss': tensor(428.1383, device='cuda:0', grad_fn=<MeanBackward0>), 'neigh_loss': tensor(2.8911, device='cuda:0', grad_fn=<NllLossBackward0>)}\n",
      "INFO:root:iteration 820: {'overall_loss': tensor(0.1632, device='cuda:0', grad_fn=<AddBackward0>), 'recon_loss': tensor(0.1632, device='cuda:0', grad_fn=<MseLossBackward0>), 'kl_loss': tensor(425.8026, device='cuda:0', grad_fn=<MeanBackward0>), 'neigh_loss': tensor(2.8231, device='cuda:0', grad_fn=<NllLossBackward0>)}\n",
      "INFO:root:iteration 830: {'overall_loss': tensor(0.1496, device='cuda:0', grad_fn=<AddBackward0>), 'recon_loss': tensor(0.1496, device='cuda:0', grad_fn=<MseLossBackward0>), 'kl_loss': tensor(422.4417, device='cuda:0', grad_fn=<MeanBackward0>), 'neigh_loss': tensor(2.7395, device='cuda:0', grad_fn=<NllLossBackward0>)}\n",
      "INFO:root:iteration 840: {'overall_loss': tensor(0.1234, device='cuda:0', grad_fn=<AddBackward0>), 'recon_loss': tensor(0.1234, device='cuda:0', grad_fn=<MseLossBackward0>), 'kl_loss': tensor(433.0534, device='cuda:0', grad_fn=<MeanBackward0>), 'neigh_loss': tensor(2.8138, device='cuda:0', grad_fn=<NllLossBackward0>)}\n",
      "INFO:root:iteration 850: {'overall_loss': tensor(0.2127, device='cuda:0', grad_fn=<AddBackward0>), 'recon_loss': tensor(0.2127, device='cuda:0', grad_fn=<MseLossBackward0>), 'kl_loss': tensor(429.2375, device='cuda:0', grad_fn=<MeanBackward0>), 'neigh_loss': tensor(2.8457, device='cuda:0', grad_fn=<NllLossBackward0>)}\n",
      "INFO:root:iteration 860: {'overall_loss': tensor(0.1319, device='cuda:0', grad_fn=<AddBackward0>), 'recon_loss': tensor(0.1319, device='cuda:0', grad_fn=<MseLossBackward0>), 'kl_loss': tensor(451.4688, device='cuda:0', grad_fn=<MeanBackward0>), 'neigh_loss': tensor(2.8580, device='cuda:0', grad_fn=<NllLossBackward0>)}\n",
      "INFO:root:iteration 870: {'overall_loss': tensor(0.1764, device='cuda:0', grad_fn=<AddBackward0>), 'recon_loss': tensor(0.1764, device='cuda:0', grad_fn=<MseLossBackward0>), 'kl_loss': tensor(450.4798, device='cuda:0', grad_fn=<MeanBackward0>), 'neigh_loss': tensor(2.7977, device='cuda:0', grad_fn=<NllLossBackward0>)}\n",
      "INFO:root:iteration 880: {'overall_loss': tensor(0.1369, device='cuda:0', grad_fn=<AddBackward0>), 'recon_loss': tensor(0.1369, device='cuda:0', grad_fn=<MseLossBackward0>), 'kl_loss': tensor(464.1868, device='cuda:0', grad_fn=<MeanBackward0>), 'neigh_loss': tensor(2.8882, device='cuda:0', grad_fn=<NllLossBackward0>)}\n",
      "INFO:root:iteration 890: {'overall_loss': tensor(0.1305, device='cuda:0', grad_fn=<AddBackward0>), 'recon_loss': tensor(0.1305, device='cuda:0', grad_fn=<MseLossBackward0>), 'kl_loss': tensor(446.1110, device='cuda:0', grad_fn=<MeanBackward0>), 'neigh_loss': tensor(2.7607, device='cuda:0', grad_fn=<NllLossBackward0>)}\n",
      "INFO:root:iteration 900: {'overall_loss': tensor(0.1143, device='cuda:0', grad_fn=<AddBackward0>), 'recon_loss': tensor(0.1143, device='cuda:0', grad_fn=<MseLossBackward0>), 'kl_loss': tensor(459.8215, device='cuda:0', grad_fn=<MeanBackward0>), 'neigh_loss': tensor(2.8644, device='cuda:0', grad_fn=<NllLossBackward0>)}\n",
      "INFO:root:saving checkpoint to /data/estorrs/mushroom/data/projects/xenium_grant/mushroom/S18-25943_codex/outputs/chkpts/900iter.pt\n",
      "INFO:root:iteration 910: {'overall_loss': tensor(0.1358, device='cuda:0', grad_fn=<AddBackward0>), 'recon_loss': tensor(0.1358, device='cuda:0', grad_fn=<MseLossBackward0>), 'kl_loss': tensor(452.3853, device='cuda:0', grad_fn=<MeanBackward0>), 'neigh_loss': tensor(2.8132, device='cuda:0', grad_fn=<NllLossBackward0>)}\n",
      "INFO:root:iteration 920: {'overall_loss': tensor(0.1690, device='cuda:0', grad_fn=<AddBackward0>), 'recon_loss': tensor(0.1690, device='cuda:0', grad_fn=<MseLossBackward0>), 'kl_loss': tensor(458.2886, device='cuda:0', grad_fn=<MeanBackward0>), 'neigh_loss': tensor(2.8205, device='cuda:0', grad_fn=<NllLossBackward0>)}\n",
      "INFO:root:iteration 930: {'overall_loss': tensor(0.1566, device='cuda:0', grad_fn=<AddBackward0>), 'recon_loss': tensor(0.1566, device='cuda:0', grad_fn=<MseLossBackward0>), 'kl_loss': tensor(456.9948, device='cuda:0', grad_fn=<MeanBackward0>), 'neigh_loss': tensor(2.8751, device='cuda:0', grad_fn=<NllLossBackward0>)}\n",
      "INFO:root:iteration 940: {'overall_loss': tensor(0.1437, device='cuda:0', grad_fn=<AddBackward0>), 'recon_loss': tensor(0.1437, device='cuda:0', grad_fn=<MseLossBackward0>), 'kl_loss': tensor(455.2203, device='cuda:0', grad_fn=<MeanBackward0>), 'neigh_loss': tensor(2.8617, device='cuda:0', grad_fn=<NllLossBackward0>)}\n",
      "INFO:root:iteration 950: {'overall_loss': tensor(0.1997, device='cuda:0', grad_fn=<AddBackward0>), 'recon_loss': tensor(0.1997, device='cuda:0', grad_fn=<MseLossBackward0>), 'kl_loss': tensor(448.3444, device='cuda:0', grad_fn=<MeanBackward0>), 'neigh_loss': tensor(2.7659, device='cuda:0', grad_fn=<NllLossBackward0>)}\n",
      "INFO:root:iteration 960: {'overall_loss': tensor(0.1487, device='cuda:0', grad_fn=<AddBackward0>), 'recon_loss': tensor(0.1487, device='cuda:0', grad_fn=<MseLossBackward0>), 'kl_loss': tensor(459.9821, device='cuda:0', grad_fn=<MeanBackward0>), 'neigh_loss': tensor(2.8533, device='cuda:0', grad_fn=<NllLossBackward0>)}\n",
      "INFO:root:iteration 970: {'overall_loss': tensor(0.1631, device='cuda:0', grad_fn=<AddBackward0>), 'recon_loss': tensor(0.1631, device='cuda:0', grad_fn=<MseLossBackward0>), 'kl_loss': tensor(450.0409, device='cuda:0', grad_fn=<MeanBackward0>), 'neigh_loss': tensor(2.7884, device='cuda:0', grad_fn=<NllLossBackward0>)}\n",
      "INFO:root:iteration 980: {'overall_loss': tensor(0.1290, device='cuda:0', grad_fn=<AddBackward0>), 'recon_loss': tensor(0.1290, device='cuda:0', grad_fn=<MseLossBackward0>), 'kl_loss': tensor(454.7238, device='cuda:0', grad_fn=<MeanBackward0>), 'neigh_loss': tensor(2.7815, device='cuda:0', grad_fn=<NllLossBackward0>)}\n",
      "INFO:root:iteration 990: {'overall_loss': tensor(0.1266, device='cuda:0', grad_fn=<AddBackward0>), 'recon_loss': tensor(0.1266, device='cuda:0', grad_fn=<MseLossBackward0>), 'kl_loss': tensor(460.1740, device='cuda:0', grad_fn=<MeanBackward0>), 'neigh_loss': tensor(2.8195, device='cuda:0', grad_fn=<NllLossBackward0>)}\n"
     ]
    },
    {
     "name": "stderr",
     "output_type": "stream",
     "text": [
      "INFO:root:iteration 1000: {'overall_loss': tensor(0.1038, device='cuda:0', grad_fn=<AddBackward0>), 'recon_loss': tensor(0.1038, device='cuda:0', grad_fn=<MseLossBackward0>), 'kl_loss': tensor(470.8878, device='cuda:0', grad_fn=<MeanBackward0>), 'neigh_loss': tensor(2.8277, device='cuda:0', grad_fn=<NllLossBackward0>)}\n",
      "INFO:root:saving checkpoint to /data/estorrs/mushroom/data/projects/xenium_grant/mushroom/S18-25943_codex/outputs/chkpts/1000iter.pt\n",
      "INFO:root:saving final checkpoint to /data/estorrs/mushroom/data/projects/xenium_grant/mushroom/S18-25943_codex/outputs/chkpts/final.pt\n"
     ]
    }
   ],
   "source": [
    "mushroom.train()"
   ]
  },
  {
   "cell_type": "code",
   "execution_count": null,
   "id": "f4018a47",
   "metadata": {},
   "outputs": [],
   "source": []
  },
  {
   "cell_type": "code",
   "execution_count": null,
   "id": "6691767e",
   "metadata": {},
   "outputs": [],
   "source": []
  }
 ],
 "metadata": {
  "kernelspec": {
   "display_name": "Python 3 (ipykernel)",
   "language": "python",
   "name": "python3"
  },
  "language_info": {
   "codemirror_mode": {
    "name": "ipython",
    "version": 3
   },
   "file_extension": ".py",
   "mimetype": "text/x-python",
   "name": "python",
   "nbconvert_exporter": "python",
   "pygments_lexer": "ipython3",
   "version": "3.9.18"
  }
 },
 "nbformat": 4,
 "nbformat_minor": 5
}
