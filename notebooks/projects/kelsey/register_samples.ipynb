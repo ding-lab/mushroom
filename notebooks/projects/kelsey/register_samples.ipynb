{
 "cells": [
  {
   "cell_type": "code",
   "execution_count": 5,
   "id": "5fe5b286",
   "metadata": {},
   "outputs": [],
   "source": [
    "import copy\n",
    "import os\n",
    "import re\n",
    "import shutil\n",
    "import sys\n",
    "from pathlib import Path\n",
    "\n",
    "import numpy as np\n",
    "import pandas as pd\n",
    "import tifffile\n",
    "import yaml\n",
    "from einops import rearrange"
   ]
  },
  {
   "cell_type": "code",
   "execution_count": 6,
   "id": "cca8aaa7",
   "metadata": {},
   "outputs": [
    {
     "name": "stdout",
     "output_type": "stream",
     "text": [
      "The autoreload extension is already loaded. To reload it, use:\n",
      "  %reload_ext autoreload\n"
     ]
    }
   ],
   "source": [
    "%load_ext autoreload"
   ]
  },
  {
   "cell_type": "code",
   "execution_count": 7,
   "id": "929ac09a",
   "metadata": {},
   "outputs": [],
   "source": [
    "%autoreload 2"
   ]
  },
  {
   "cell_type": "code",
   "execution_count": 8,
   "id": "73d1277b",
   "metadata": {},
   "outputs": [],
   "source": [
    "import mushroom.data.multiplex as multiplex\n",
    "import mushroom.data.visium as visium\n",
    "import mushroom.data.xenium as xenium\n",
    "import mushroom.data.cosmx as cosmx\n",
    "import mushroom.data.he as he\n",
    "import mushroom.data.user_points as points\n",
    "import mushroom.registration.bigwarp as bigwarp\n",
    "import mushroom.utils as utils"
   ]
  },
  {
   "cell_type": "code",
   "execution_count": 10,
   "id": "7e62f3d3",
   "metadata": {},
   "outputs": [],
   "source": [
    "project_dir = '/data/estorrs/mushroom/data/projects/kelsey'\n",
    "Path(project_dir).mkdir(parents=True, exist_ok=True)"
   ]
  },
  {
   "cell_type": "code",
   "execution_count": null,
   "id": "6f04ea7e",
   "metadata": {},
   "outputs": [],
   "source": [
    "# specifying a channel in multiplex imaging sections to use during registration/visualization\n",
    "multiplex_channel = 'DAPI'\n",
    "\n",
    "# scale factors for registration\n",
    "# each data type identifier will be downsampled by {default_scale}, or scale specified in {dtype_to_scale} (bigwarp registration can be cumbersome with large, full resolution images)\n",
    "# this scale factor DOES NOT downsample data input to mushroom, mushroom inputs will still be full resolution. It is purely to get bigwarp to run more smoothly.\n",
    "# here we just downsample every data type by 20%\n",
    "default_scale = .2\n",
    "\n",
    "# if you wanted a specific data type to be scaled more or less than other data types, you could specify here\n",
    "dtype_to_scale = {\n",
    "#     'multiplex': .1, # for example, if you uncommented this line multiplex data would be scaled by .1 instead of .2\n",
    "}"
   ]
  },
  {
   "cell_type": "code",
   "execution_count": null,
   "id": "c3d71bd7",
   "metadata": {},
   "outputs": [],
   "source": [
    "SN001H1-Md1Fp2b"
   ]
  }
 ],
 "metadata": {
  "kernelspec": {
   "display_name": "Python 3 (ipykernel)",
   "language": "python",
   "name": "python3"
  },
  "language_info": {
   "codemirror_mode": {
    "name": "ipython",
    "version": 3
   },
   "file_extension": ".py",
   "mimetype": "text/x-python",
   "name": "python",
   "nbconvert_exporter": "python",
   "pygments_lexer": "ipython3",
   "version": "3.10.13"
  }
 },
 "nbformat": 4,
 "nbformat_minor": 5
}
