{
 "cells": [
  {
   "cell_type": "code",
   "execution_count": 1,
   "id": "afd4a68a",
   "metadata": {},
   "outputs": [],
   "source": [
    "import pickle\n",
    "import json\n",
    "import os\n",
    "import sys\n",
    "from copy import deepcopy\n",
    "from pathlib import Path\n",
    "\n",
    "import matplotlib.pyplot as plt\n",
    "import numpy as np\n",
    "import skimage\n",
    "import tifffile\n",
    "import yaml"
   ]
  },
  {
   "cell_type": "code",
   "execution_count": 3,
   "id": "613b5641",
   "metadata": {},
   "outputs": [],
   "source": [
    "import matplotlib as mpl\n",
    "mpl.rcParams['pdf.fonttype'] = 42\n",
    "plt.rcParams['svg.fonttype'] = 'none'"
   ]
  },
  {
   "cell_type": "code",
   "execution_count": 4,
   "id": "0c50ff4e",
   "metadata": {},
   "outputs": [],
   "source": [
    "%load_ext autoreload"
   ]
  },
  {
   "cell_type": "code",
   "execution_count": 5,
   "id": "25e45f0e",
   "metadata": {},
   "outputs": [],
   "source": [
    "%autoreload 2"
   ]
  },
  {
   "cell_type": "code",
   "execution_count": 6,
   "id": "ada6fd33",
   "metadata": {},
   "outputs": [],
   "source": [
    "from mushroom.mushroom import Mushroom, DEFAULT_CONFIG\n",
    "import mushroom.utils as utils\n",
    "import mushroom.visualization.utils as vis_utils"
   ]
  },
  {
   "cell_type": "code",
   "execution_count": 7,
   "id": "aa4c7e11",
   "metadata": {},
   "outputs": [],
   "source": [
    "source_root = '/diskmnt/Projects/Users/estorrs/mushroom/data'\n",
    "target_root = '/data/estorrs/mushroom/data'"
   ]
  },
  {
   "cell_type": "code",
   "execution_count": 8,
   "id": "b66e6f3f",
   "metadata": {},
   "outputs": [],
   "source": [
    "run_dir = '/data/estorrs/mushroom/data/projects/kelsey/xenium'"
   ]
  },
  {
   "cell_type": "code",
   "execution_count": 9,
   "id": "7a684f03",
   "metadata": {},
   "outputs": [],
   "source": [
    "def alter_filesystem(config, source_root, target_root):\n",
    "    for entry in config['sections']:\n",
    "        for mapping in entry['data']:\n",
    "            mapping['filepath'] = mapping['filepath'].replace(source_root, target_root)\n",
    "    \n",
    "    if config['trainer_kwargs']['data_mask'] is not None:\n",
    "        config['trainer_kwargs']['data_mask'] = config['trainer_kwargs']['data_mask'].replace(source_root, target_root)\n",
    "        \n",
    "    return config"
   ]
  },
  {
   "cell_type": "code",
   "execution_count": 10,
   "id": "8eb0f6dc",
   "metadata": {
    "code_folding": [
     1
    ]
   },
   "outputs": [],
   "source": [
    "# fix issues where antibody names aren't consistent accross some images\n",
    "channel_to_idents = {\n",
    "    'Pan-Cytokeratin': ['Pan-Cytokeratin', 'Pan-CK', 'PanCK', 'PanCytokeratin'],\n",
    "    'E-cadherin': ['E-cadherin', 'E-Cadherin'],\n",
    "    'CD45': ['CD45'],\n",
    "    'CD45RO': ['CD45RO'],\n",
    "    'CD45RA': ['CD45RA'],\n",
    "    'CD8': ['CD8', 'CD8a'],\n",
    "    'DAPI': ['DAPI'],\n",
    "    'CD4': ['CD4'],\n",
    "    'CD3e': ['CD3e', 'CD3'],\n",
    "    'Vimentin': ['Vimentin', 'Vim', 'VIM'],\n",
    "    'SMA': ['SMA', 'a-SMA'],\n",
    "    'CD31': ['CD31'],\n",
    "    'CD20': ['CD20', 'CD20-Akoya'],\n",
    "    'CD68': ['CD68'],\n",
    "    'CD163': ['CD163'],\n",
    "    'FOXP3': ['FoxP3', 'FOXP3', 'Foxp3'],\n",
    "    'cKit': ['cKit', 'cKIT', 'ckit-(D)', 'ckit'],\n",
    "    'MGP': ['MGP'],\n",
    "    'CD36': ['CD36'],\n",
    "    'PR': ['PR'],\n",
    "    'ER': ['ER'],\n",
    "    'P21': ['P21'],\n",
    "    'P16': ['P16'],\n",
    "    'CK5': ['Keratin 5', 'KRT5', 'CK5'],\n",
    "    'CK7': ['CK7'],\n",
    "    'CK8/18': ['CK8/18'],\n",
    "    'TFF1': ['TFF1'],\n",
    "    'beta-integrin': ['beta-integrin', 'beta3-integrin'],\n",
    "    'CK14': ['CK14', 'Keratin 14', 'KRT14'],\n",
    "    'CK17': ['CK17', 'Keratin 17', 'CK17'],\n",
    "    'CK19': ['CK19', 'Keratin 19', 'KRT19'],\n",
    "    'CD11b': ['CD11b', 'CD11B', 'cd11b'],\n",
    "    'GATA3': ['GATA3'],\n",
    "    'PLAT/tPA': ['PLAT/tPA', 'PLAT'],\n",
    "    'COX6c': ['COX6c', 'COX6C (D)', 'COX6C'],\n",
    "    'Her2': ['Her2', 'HER2'],\n",
    "    'Bap1': ['Bap1', 'BAP1'],\n",
    "    'GLUT1': ['Glut1', 'GLUT1'],\n",
    "    'CD11c': ['CD11c'],\n",
    "    'HLA-DR': ['HLA-DR', 'HLADR'],\n",
    "    'Ki67': ['Ki67', 'KI67'],\n",
    "    'Podoplanin': ['Podoplanin', 'PDPN'],\n",
    "    'CTLA4': ['CTLA4'],\n",
    "    'SLC39A6': ['SLC39A6'],\n",
    "    'BCA1': ['BCA1'],\n",
    "    'BCAL': ['BCAL'],\n",
    "    'TUBB3': ['TUBB3'],\n",
    "    'PTPRZ1': ['PTPRZ1'],\n",
    "    'HIF1A': ['HIF1a', 'HIF1A'],\n",
    "    'PAI1': ['PAI1'],\n",
    "    'GFAP': ['GFAP'],\n",
    "    'VEGFA': ['VEGFA'],\n",
    "    'IBA1': ['IBA1'],\n",
    "    'OLIG2': ['OLIG2'],\n",
    "    'FN1': ['FN1'],\n",
    "    'a-Amylase': ['a-Amylase', 'Amylase (D', 'Amylase'],\n",
    "    'Hep-Par-1': ['Hep-Par-1', 'HepPar1-(D)', 'HepPar1'],\n",
    "    'Granzyme-B': ['Granzyme B', 'GZMB'],\n",
    "    'TCF-1': ['TCF-1'],\n",
    "    'CD39': ['CD39'],\n",
    "    'PD1': ['PD-1', 'PD1'],\n",
    "    'PDL1': ['PD-L1', 'PDL1'],\n",
    "    'Histone-H3-Pho': ['Histone H3 Pho'],\n",
    "    'Maspin': ['Maspin'],\n",
    "    'MMP9': ['MMP9'],\n",
    "    'CD44': ['CD44'],\n",
    "    'CD107A': ['CD107a'],\n",
    "    'FGFR3': ['FGFR3'],\n",
    "    'CD138': ['CD138'],\n",
    "    'MLPH': ['MLPH'],\n",
    "    'P63': ['P63', 'p63'],\n",
    "    'GP2': ['GP2'],\n",
    "    'COX2': ['COX2'],\n",
    "    'Lyve-1': ['Lyve-1', 'LYVE1'],\n",
    "    'CCL2': ['CCL2'],\n",
    "    'MUC2': ['MUC2'],\n",
    "    'SOX9': ['SOX9'],\n",
    "    'STEAP4': ['STEAP4'],\n",
    "    'AR': ['AR'],\n",
    "    'AMACR': ['AMACR'],\n",
    "    'PGC': ['PGC', 'PGC (D)'],\n",
    "    'CFTR': ['CFTR (D)', 'CFTR'],\n",
    "    'REG3A': ['REG3A (D)', 'REG3A'],\n",
    "    'LAMC2': ['LAMC2 (D)', 'LAMC2'],\n",
    "    'INS': ['INS (D)', 'INS'],\n",
    "    'CRP': ['CRP (D)', 'CRP'],\n",
    "    'CD74': ['CD74 (D)', 'CD74'],\n",
    "    'MUC5AC': ['MUC5AC (D)', 'MUC5AC'],\n",
    "    'AQP1': ['AQP1'],\n",
    "    'AQP2': ['Aqp2', 'AQP2'], \n",
    "    'LRP2': ['LRP2'],\n",
    "    'UMOD': ['UMOD'],\n",
    "    'CALB1': ['CALB1'],\n",
    "    'CP': ['CP'],\n",
    "    'CA9': ['CA9'],\n",
    "    'UCHL1': ['UCHL1'],\n",
    "}\n",
    "channel_mapping = {v:k for k, vs in channel_to_idents.items() for v in vs}\n",
    "\n",
    "# add in (D) variants\n",
    "variants = ['(D)', ' (D)', '(d)', ' (d)', '-(D)', '-(d)', ' (Dnew)', '(Dnew)', '-(Dnew)']\n",
    "channel_mapping.update({k + variant:v\n",
    "                      for k, v in channel_mapping.items()\n",
    "                      for variant in variants})"
   ]
  },
  {
   "cell_type": "code",
   "execution_count": 11,
   "id": "155cbd6f",
   "metadata": {},
   "outputs": [],
   "source": [
    "z_scaler = .2\n",
    "cluster_resolutions = [1., 1.25, 1.5]\n",
    "nbhd_resolution = 50"
   ]
  },
  {
   "cell_type": "code",
   "execution_count": null,
   "id": "98a2a049",
   "metadata": {},
   "outputs": [],
   "source": [
    "sections = [\n",
    "    {\n",
    "        'data': [\n",
    "            {\n",
    "                'dtype': 'he',\n",
    "                 'filepath': '/data/estorrs/mushroom/data/projects/submission_v1/HT413C1-Th1k4A1/registered/s0_HT413C1-Th1k4A1-U14_he.tif'\n",
    "            }\n",
    "        ],\n",
    "       'position': 0,\n",
    "        'sid': 'HT413C1-Th1k4A1-U14'\n",
    "    },\n",
    "]\n",
    "config = deepcopy(DEFAULT_CONFIG)\n",
    "\n",
    "config = utils.recursive_update(config, {\n",
    "    'sections': sections,\n",
    "    'trainer_kwargs': {\n",
    "        'input_resolution': metadata['resolution'],\n",
    "        'target_resolution': target_res,\n",
    "        'out_dir': os.path.join(run_dir, f'mushroom_{target_res}res'),\n",
    "        'accelerator': 'gpu',\n",
    "        'steps_per_epoch': 1000,\n",
    "        'data_mask': None,\n",
    "    },\n",
    "    'sae_kwargs': {\n",
    "        'neigh_scaler': 0.01\n",
    "    }\n",
    "})\n"
   ]
  },
  {
   "cell_type": "code",
   "execution_count": null,
   "id": "38fa2064",
   "metadata": {},
   "outputs": [],
   "source": []
  },
  {
   "cell_type": "code",
   "execution_count": null,
   "id": "0ff7461e",
   "metadata": {},
   "outputs": [],
   "source": []
  },
  {
   "cell_type": "code",
   "execution_count": null,
   "id": "297402d1",
   "metadata": {},
   "outputs": [],
   "source": []
  },
  {
   "cell_type": "code",
   "execution_count": null,
   "id": "3348599b",
   "metadata": {},
   "outputs": [],
   "source": []
  },
  {
   "cell_type": "code",
   "execution_count": null,
   "id": "bab29d48",
   "metadata": {},
   "outputs": [],
   "source": []
  },
  {
   "cell_type": "code",
   "execution_count": null,
   "id": "75a7f261",
   "metadata": {},
   "outputs": [],
   "source": []
  },
  {
   "cell_type": "code",
   "execution_count": null,
   "id": "dd9b3d32",
   "metadata": {},
   "outputs": [],
   "source": []
  }
 ],
 "metadata": {
  "kernelspec": {
   "display_name": "Python 3 (ipykernel)",
   "language": "python",
   "name": "python3"
  },
  "language_info": {
   "codemirror_mode": {
    "name": "ipython",
    "version": 3
   },
   "file_extension": ".py",
   "mimetype": "text/x-python",
   "name": "python",
   "nbconvert_exporter": "python",
   "pygments_lexer": "ipython3",
   "version": "3.10.13"
  }
 },
 "nbformat": 4,
 "nbformat_minor": 5
}
