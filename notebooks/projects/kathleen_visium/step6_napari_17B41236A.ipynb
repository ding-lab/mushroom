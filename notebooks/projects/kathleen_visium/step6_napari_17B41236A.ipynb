{
 "cells": [
  {
   "cell_type": "code",
   "execution_count": 1,
   "id": "66efbebf",
   "metadata": {},
   "outputs": [],
   "source": [
    "import numpy as np\n",
    "import seaborn as sns\n",
    "import matplotlib.pyplot as plt\n",
    "\n",
    "import napari"
   ]
  },
  {
   "cell_type": "code",
   "execution_count": 2,
   "id": "255c58d3",
   "metadata": {},
   "outputs": [],
   "source": [
    "# out_fp = '/Users/erikstorrs/Downloads/he_outputs.npy'\n",
    "# out_fp = '/Users/erikstorrs/Downloads/multiplex_outputs.npy'\n",
    "# out_fp = '/Users/erikstorrs/Downloads/xenium_outputs.npy'\n",
    "out_fp = '/Users/erikstorrs/Downloads/outputs.npy'\n",
    "data = np.load(out_fp, allow_pickle=True).flat[0]"
   ]
  },
  {
   "cell_type": "code",
   "execution_count": 3,
   "id": "76e32809",
   "metadata": {},
   "outputs": [
    {
     "data": {
      "text/plain": [
       "dict_keys(['cluster_ids', 'cluster_probs', 'cluster_volume'])"
      ]
     },
     "execution_count": 3,
     "metadata": {},
     "output_type": "execute_result"
    }
   ],
   "source": [
    "data.keys()"
   ]
  },
  {
   "cell_type": "code",
   "execution_count": 4,
   "id": "56087fb0",
   "metadata": {},
   "outputs": [
    {
     "data": {
      "text/plain": [
       "(84, 84)"
      ]
     },
     "execution_count": 4,
     "metadata": {},
     "output_type": "execute_result"
    }
   ],
   "source": [
    "data['cluster_ids'][-1].shape\n",
    "data['cluster_volume'][-1].shape"
   ]
  },
  {
   "cell_type": "code",
   "execution_count": 5,
   "id": "058d8a6d",
   "metadata": {},
   "outputs": [],
   "source": [
    "volume = data['cluster_volume'].copy()"
   ]
  },
  {
   "cell_type": "code",
   "execution_count": 6,
   "id": "456bf9ad",
   "metadata": {},
   "outputs": [],
   "source": [
    "volume = np.vstack((\n",
    "    np.expand_dims(np.zeros_like(volume[0]), 0) - 1,\n",
    "    volume,\n",
    "    np.expand_dims(np.zeros_like(volume[0]), 0) - 1,\n",
    "))"
   ]
  },
  {
   "cell_type": "code",
   "execution_count": null,
   "id": "1feeaba2",
   "metadata": {},
   "outputs": [],
   "source": []
  },
  {
   "cell_type": "code",
   "execution_count": null,
   "id": "096b04c1",
   "metadata": {},
   "outputs": [],
   "source": []
  },
  {
   "cell_type": "code",
   "execution_count": 7,
   "id": "e86c64c3",
   "metadata": {},
   "outputs": [],
   "source": [
    "# cluster_to_label = {i:f'cluster {i}' for i in np.unique(volume)}\n",
    "# for i in [4,8]:\n",
    "#     cluster_to_label[i] = 'immune enriched'\n",
    "# for i in [12]:\n",
    "#     cluster_to_label[i] = 'normal epithelial'\n",
    "# for i in [23,19,27,3]:\n",
    "#     cluster_to_label[i] = 'fibrotic'\n",
    "# for i in [20,9,28,11,25,7,16,10,17,15,24]:\n",
    "#     cluster_to_label[i] = 'malignant'"
   ]
  },
  {
   "cell_type": "code",
   "execution_count": 8,
   "id": "6f8adbec",
   "metadata": {},
   "outputs": [],
   "source": [
    "# cluster_to_label = {i:f'cluster {i}' for i in np.unique(volume)}\n",
    "cluster_to_label = {i:i for i in np.unique(volume)}\n",
    "# for i in [1]:\n",
    "#     cluster_to_label[i] = 'immune enriched'\n",
    "# for i in [6]:\n",
    "#     cluster_to_label[i] = 'fibrotic'\n",
    "# for i in [0,3]:\n",
    "#     cluster_to_label[i] = 'malignant'\n",
    "# for i in [8]:\n",
    "#     cluster_to_label[i] = 'normal epithelial'"
   ]
  },
  {
   "cell_type": "code",
   "execution_count": 9,
   "id": "32e5be5d",
   "metadata": {},
   "outputs": [],
   "source": [
    "# cluster_to_label = {i:f'cluster {i}' for i in np.unique(volume)}\n",
    "# for i in [4]:\n",
    "#     cluster_to_label[i] = 'epithelial'\n",
    "# for i in [0, 8, 2]:\n",
    "#     cluster_to_label[i] = 'immune boundary'\n",
    "    "
   ]
  },
  {
   "cell_type": "code",
   "execution_count": 10,
   "id": "22c4e215",
   "metadata": {},
   "outputs": [],
   "source": [
    "renamed = np.vectorize(cluster_to_label.get)(volume)"
   ]
  },
  {
   "cell_type": "code",
   "execution_count": 11,
   "id": "1df95bcb",
   "metadata": {},
   "outputs": [],
   "source": [
    "clusters = np.unique(renamed).tolist()"
   ]
  },
  {
   "cell_type": "code",
   "execution_count": 13,
   "id": "8d1247dc",
   "metadata": {},
   "outputs": [],
   "source": [
    "cmap = sns.color_palette('tab20') + sns.color_palette('tab20')"
   ]
  },
  {
   "cell_type": "code",
   "execution_count": 20,
   "id": "30ecf7f9",
   "metadata": {},
   "outputs": [],
   "source": [
    "viewer = napari.Viewer(ndisplay=3)\n",
    "for i, cluster in enumerate(clusters):\n",
    "    viewer.add_labels(\n",
    "        (renamed==cluster).astype(int), name=str(cluster), visible=False, opacity=1., color={1:cmap[cluster]}, num_colors=1)"
   ]
  },
  {
   "cell_type": "code",
   "execution_count": 19,
   "id": "8d441fae",
   "metadata": {},
   "outputs": [
    {
     "data": {
      "text/plain": [
       "[-1, 0, 2, 3, 4, 5, 6, 7, 8, 9, 10, 11]"
      ]
     },
     "execution_count": 19,
     "metadata": {},
     "output_type": "execute_result"
    }
   ],
   "source": [
    "clusters"
   ]
  },
  {
   "cell_type": "code",
   "execution_count": null,
   "id": "33cb7e99",
   "metadata": {},
   "outputs": [],
   "source": []
  },
  {
   "cell_type": "code",
   "execution_count": null,
   "id": "da2f6a4f",
   "metadata": {},
   "outputs": [],
   "source": []
  }
 ],
 "metadata": {
  "kernelspec": {
   "display_name": "Python 3 (ipykernel)",
   "language": "python",
   "name": "python3"
  },
  "language_info": {
   "codemirror_mode": {
    "name": "ipython",
    "version": 3
   },
   "file_extension": ".py",
   "mimetype": "text/x-python",
   "name": "python",
   "nbconvert_exporter": "python",
   "pygments_lexer": "ipython3",
   "version": "3.11.5"
  }
 },
 "nbformat": 4,
 "nbformat_minor": 5
}
