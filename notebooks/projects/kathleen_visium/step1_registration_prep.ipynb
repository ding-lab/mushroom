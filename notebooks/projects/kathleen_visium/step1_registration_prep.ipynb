{
 "cells": [
  {
   "cell_type": "code",
   "execution_count": 1,
   "id": "fa3a56db",
   "metadata": {},
   "outputs": [],
   "source": [
    "import os\n",
    "from pathlib import Path\n",
    "import shutil\n",
    "\n",
    "import numpy as np\n",
    "import pandas as pd\n",
    "import scanpy as sc\n",
    "import squidpy as sq\n",
    "import tifffile\n",
    "import torch\n",
    "import torchvision.transforms.functional as TF\n",
    "import yaml\n",
    "from einops import rearrange"
   ]
  },
  {
   "cell_type": "code",
   "execution_count": 2,
   "id": "e687909b",
   "metadata": {},
   "outputs": [],
   "source": [
    "%load_ext autoreload"
   ]
  },
  {
   "cell_type": "code",
   "execution_count": 3,
   "id": "5afec56f",
   "metadata": {},
   "outputs": [],
   "source": [
    "%autoreload 2"
   ]
  },
  {
   "cell_type": "code",
   "execution_count": 4,
   "id": "aa4da016",
   "metadata": {},
   "outputs": [],
   "source": [
    "from mushroom.data.multiplex import extract_ome_tiff, get_ome_tiff_channels, make_pseudo, pixels_per_micron\n",
    "import mushroom.data.multiplex as multiplex\n",
    "import mushroom.data.visium as visium\n",
    "from mushroom.data.xenium import adata_from_xenium"
   ]
  },
  {
   "cell_type": "code",
   "execution_count": 5,
   "id": "27360999",
   "metadata": {},
   "outputs": [],
   "source": [
    "run_dir = '/diskmnt/Projects/Users/estorrs/mushroom/data/projects/kathleen_visium'\n",
    "Path(run_dir).mkdir(parents=True, exist_ok=True)"
   ]
  },
  {
   "cell_type": "code",
   "execution_count": 6,
   "id": "d8db8fec",
   "metadata": {},
   "outputs": [],
   "source": [
    "reg_dir = os.path.join(run_dir, 'registration')\n",
    "Path(reg_dir).mkdir(parents=True, exist_ok=True)"
   ]
  },
  {
   "cell_type": "code",
   "execution_count": 11,
   "id": "fb953dcf",
   "metadata": {
    "code_folding": []
   },
   "outputs": [],
   "source": [
    "data_map = {\n",
    "    '17B41236A': {\n",
    "        'order': [\n",
    "            '17B41236A-A',\n",
    "            '17B41236A-B',\n",
    "            '17B41236A-C',\n",
    "            '17B41236A-D',\n",
    "        ],\n",
    "        'data': {\n",
    "            'visium': {\n",
    "                '17B41236A-A': '/diskmnt/Projects/Users/estorrs/imaging-analysis/data/kathleen/st/PC_A_spatial_outs/outs',\n",
    "                '17B41236A-B': '/diskmnt/Projects/Users/estorrs/imaging-analysis/data/kathleen/st/PC_B_spatial_outs/outs',\n",
    "                '17B41236A-C': '/diskmnt/Projects/Users/estorrs/imaging-analysis/data/kathleen/st/PC_C_spatial_outs/outs',\n",
    "                '17B41236A-D': '/diskmnt/Projects/Users/estorrs/imaging-analysis/data/kathleen/st/PC_D_spatial_outs/outs',\n",
    "            },\n",
    "        }\n",
    "    },\n",
    "}"
   ]
  },
  {
   "cell_type": "code",
   "execution_count": 12,
   "id": "9df7fb2c",
   "metadata": {},
   "outputs": [],
   "source": [
    "def rescale(x, scale=.1):\n",
    "    x = rearrange(torch.tensor(x), 'h w c -> c h w')\n",
    "    x = TF.resize(x, (int(x.shape[-2] * scale), int(x.shape[-1] * scale)), antialias=True)\n",
    "    x = TF.convert_image_dtype(x, torch.uint8)\n",
    "    x = rearrange(x.numpy(), 'c h w -> h w c')\n",
    "    \n",
    "    return x"
   ]
  },
  {
   "cell_type": "code",
   "execution_count": 13,
   "id": "4fef93ca",
   "metadata": {},
   "outputs": [],
   "source": [
    "scale = .2"
   ]
  },
  {
   "cell_type": "code",
   "execution_count": 14,
   "id": "935af05f",
   "metadata": {},
   "outputs": [],
   "source": [
    "official_to_options = {\n",
    "    'Pan-Cytokeratin': ['Pan-Cytokeratin', 'Pan-CK', 'Pan-CK (D)', 'PanCK (D)', 'PanCytokeratin'],\n",
    "    'CD45': ['CD45 (D)', 'CD45', 'CD45-(D)'],\n",
    "    'DAPI': ['DAPI'],\n",
    "    'SMA': ['SMA-(D)', 'SMA', 'SMA (D)', 'a-SMA (D)'],\n",
    "}\n",
    "channel_mapping = {v:k for k, vs in official_to_options.items() for v in vs}\n",
    "\n",
    "cmap = {\n",
    "    'DAPI': (0., 0., 1.),\n",
    "    'Pan-Cytokeratin': (1., 0., 0.),\n",
    "    'CD45': (0., 1., 0.),\n",
    "    'SMA': (1., 1., 1.)\n",
    "}"
   ]
  },
  {
   "cell_type": "code",
   "execution_count": 15,
   "id": "8e8262f4",
   "metadata": {
    "scrolled": true
   },
   "outputs": [
    {
     "name": "stdout",
     "output_type": "stream",
     "text": [
      "visium 17B41236A-A\n"
     ]
    },
    {
     "name": "stderr",
     "output_type": "stream",
     "text": [
      "/diskmnt/Projects/Users/estorrs/miniconda3/envs/mushroom/lib/python3.9/site-packages/anndata/_core/anndata.py:1840: UserWarning: Variable names are not unique. To make them unique, call `.var_names_make_unique`.\n",
      "  utils.warn_names_duplicates(\"var\")\n",
      "/diskmnt/Projects/Users/estorrs/miniconda3/envs/mushroom/lib/python3.9/site-packages/anndata/_core/anndata.py:1113: FutureWarning: is_categorical_dtype is deprecated and will be removed in a future version. Use isinstance(dtype, CategoricalDtype) instead\n",
      "  if not is_categorical_dtype(df_full[k]):\n",
      "/diskmnt/Projects/Users/estorrs/miniconda3/envs/mushroom/lib/python3.9/site-packages/anndata/_core/anndata.py:1840: UserWarning: Variable names are not unique. To make them unique, call `.var_names_make_unique`.\n",
      "  utils.warn_names_duplicates(\"var\")\n"
     ]
    },
    {
     "name": "stdout",
     "output_type": "stream",
     "text": [
      "visium 17B41236A-B\n"
     ]
    },
    {
     "name": "stderr",
     "output_type": "stream",
     "text": [
      "/diskmnt/Projects/Users/estorrs/miniconda3/envs/mushroom/lib/python3.9/site-packages/anndata/_core/anndata.py:1840: UserWarning: Variable names are not unique. To make them unique, call `.var_names_make_unique`.\n",
      "  utils.warn_names_duplicates(\"var\")\n",
      "/diskmnt/Projects/Users/estorrs/miniconda3/envs/mushroom/lib/python3.9/site-packages/anndata/_core/anndata.py:1113: FutureWarning: is_categorical_dtype is deprecated and will be removed in a future version. Use isinstance(dtype, CategoricalDtype) instead\n",
      "  if not is_categorical_dtype(df_full[k]):\n",
      "/diskmnt/Projects/Users/estorrs/miniconda3/envs/mushroom/lib/python3.9/site-packages/anndata/_core/anndata.py:1840: UserWarning: Variable names are not unique. To make them unique, call `.var_names_make_unique`.\n",
      "  utils.warn_names_duplicates(\"var\")\n"
     ]
    },
    {
     "name": "stdout",
     "output_type": "stream",
     "text": [
      "visium 17B41236A-C\n"
     ]
    },
    {
     "name": "stderr",
     "output_type": "stream",
     "text": [
      "/diskmnt/Projects/Users/estorrs/miniconda3/envs/mushroom/lib/python3.9/site-packages/anndata/_core/anndata.py:1840: UserWarning: Variable names are not unique. To make them unique, call `.var_names_make_unique`.\n",
      "  utils.warn_names_duplicates(\"var\")\n",
      "/diskmnt/Projects/Users/estorrs/miniconda3/envs/mushroom/lib/python3.9/site-packages/anndata/_core/anndata.py:1113: FutureWarning: is_categorical_dtype is deprecated and will be removed in a future version. Use isinstance(dtype, CategoricalDtype) instead\n",
      "  if not is_categorical_dtype(df_full[k]):\n",
      "/diskmnt/Projects/Users/estorrs/miniconda3/envs/mushroom/lib/python3.9/site-packages/anndata/_core/anndata.py:1840: UserWarning: Variable names are not unique. To make them unique, call `.var_names_make_unique`.\n",
      "  utils.warn_names_duplicates(\"var\")\n"
     ]
    },
    {
     "name": "stdout",
     "output_type": "stream",
     "text": [
      "visium 17B41236A-D\n"
     ]
    },
    {
     "name": "stderr",
     "output_type": "stream",
     "text": [
      "/diskmnt/Projects/Users/estorrs/miniconda3/envs/mushroom/lib/python3.9/site-packages/anndata/_core/anndata.py:1840: UserWarning: Variable names are not unique. To make them unique, call `.var_names_make_unique`.\n",
      "  utils.warn_names_duplicates(\"var\")\n",
      "/diskmnt/Projects/Users/estorrs/miniconda3/envs/mushroom/lib/python3.9/site-packages/anndata/_core/anndata.py:1113: FutureWarning: is_categorical_dtype is deprecated and will be removed in a future version. Use isinstance(dtype, CategoricalDtype) instead\n",
      "  if not is_categorical_dtype(df_full[k]):\n",
      "/diskmnt/Projects/Users/estorrs/miniconda3/envs/mushroom/lib/python3.9/site-packages/anndata/_core/anndata.py:1840: UserWarning: Variable names are not unique. To make them unique, call `.var_names_make_unique`.\n",
      "  utils.warn_names_duplicates(\"var\")\n"
     ]
    }
   ],
   "source": [
    "for case, d in data_map.items():\n",
    "    output_dir = os.path.join(reg_dir, case, 'unregistered_tifs')\n",
    "    Path(output_dir).mkdir(parents=True, exist_ok=True)\n",
    "    \n",
    "    order = d['order']\n",
    "    \n",
    "    for dtype, data in d['data'].items():\n",
    "        for sid, filepath in data.items():\n",
    "            print(dtype, sid)\n",
    "            idx = order.index(sid)\n",
    "            if dtype == 'visium':\n",
    "                adata = sq.read.visium(filepath)\n",
    "\n",
    "                d = next(iter(adata.uns['spatial'].values()))\n",
    "                he = d['images']['hires']\n",
    "                sf = scale / d['scalefactors']['tissue_hires_scalef']\n",
    "                he = rescale(he, scale=sf)\n",
    "                \n",
    "                tifffile.imwrite(os.path.join(output_dir, f's{idx}.tif'), he, compression='LZW')\n",
    "                \n",
    "            if dtype == 'multiplex':\n",
    "                channels = get_ome_tiff_channels(filepath)\n",
    "                keep = [c for c in channels if channel_mapping.get(c, c) in cmap]\n",
    "                d = extract_ome_tiff(filepath, channels=keep)\n",
    "                d = {channel_mapping[channel]:np.squeeze(rescale(np.expand_dims(img, -1), scale=scale))\n",
    "                     for channel, img in d.items()}\n",
    "\n",
    "                pseudo = make_pseudo(d, cmap=cmap, contrast_pct=90.)\n",
    "                pseudo /= pseudo.max()\n",
    "                pseudo *= 255\n",
    "                pseudo = pseudo.astype(np.uint8)\n",
    "\n",
    "                tifffile.imwrite(os.path.join(output_dir, f's{idx}.tif'), pseudo, compression='LZW')\n",
    "                \n",
    "            if dtype == 'xenium':\n",
    "                adata = adata_from_xenium(filepath)\n",
    "                \n",
    "                d = next(iter(adata.uns['spatial'].values()))\n",
    "                x = d['images']['hires']\n",
    "                sf = scale / d['scalefactors']['tissue_hires_scalef']\n",
    "                x = rescale(rearrange(x, 'h w -> h w 1'), scale=sf)\n",
    "                x = x.astype(np.float32) / x.max()\n",
    "                x *= 255.\n",
    "                x = x.astype(np.uint8)\n",
    "                \n",
    "                tifffile.imwrite(os.path.join(output_dir, f's{idx}.tif'), x, compression='LZW')\n",
    "                \n",
    "            if dtype == 'he':\n",
    "                x = tifffile.imread(filepath)\n",
    "                x = rescale(x, scale=scale)\n",
    "\n",
    "                tifffile.imwrite(os.path.join(output_dir, f's{idx}.tif'), x, compression='LZW')"
   ]
  },
  {
   "cell_type": "code",
   "execution_count": 16,
   "id": "2e77b57d",
   "metadata": {
    "code_folding": [],
    "scrolled": true
   },
   "outputs": [
    {
     "name": "stderr",
     "output_type": "stream",
     "text": [
      "/diskmnt/Projects/Users/estorrs/miniconda3/envs/mushroom/lib/python3.9/site-packages/anndata/_core/anndata.py:1840: UserWarning: Variable names are not unique. To make them unique, call `.var_names_make_unique`.\n",
      "  utils.warn_names_duplicates(\"var\")\n",
      "/diskmnt/Projects/Users/estorrs/miniconda3/envs/mushroom/lib/python3.9/site-packages/anndata/_core/anndata.py:1113: FutureWarning: is_categorical_dtype is deprecated and will be removed in a future version. Use isinstance(dtype, CategoricalDtype) instead\n",
      "  if not is_categorical_dtype(df_full[k]):\n",
      "/diskmnt/Projects/Users/estorrs/miniconda3/envs/mushroom/lib/python3.9/site-packages/anndata/_core/anndata.py:1840: UserWarning: Variable names are not unique. To make them unique, call `.var_names_make_unique`.\n",
      "  utils.warn_names_duplicates(\"var\")\n"
     ]
    }
   ],
   "source": [
    "metadata = {}\n",
    "for case, d in data_map.items(): \n",
    "    output_dir = os.path.join(reg_dir, case)\n",
    "    \n",
    "    sample = d['order'][0]\n",
    "    for k, v in d['data'].items():\n",
    "        if sample in v:\n",
    "            if k == 'xenium':\n",
    "                adata = adata_from_xenium(v[sample])\n",
    "                scalefactors = next(iter(adata.uns['spatial'].values()))['scalefactors']\n",
    "                registered_pixels_per_micron = scalefactors['tissue_hires_scalef'] # when read in coords are in microns, so hires_scalef is ppm\n",
    "            elif k == 'multiplex':\n",
    "                registered_pixels_per_micron = multiplex.pixels_per_micron(v[sample])\n",
    "            elif k == 'visium':\n",
    "                registered_pixels_per_micron = visium.pixels_per_micron(v[sample])\n",
    "            elif k == 'he':\n",
    "                # for now will just register to the first xenium image\n",
    "#                 registered_pixels_per_micron = multiplex.pixels_per_micron(next(iter(d['data']['multiplex'].values())))\n",
    "                adata = adata_from_xenium(next(iter(d['data']['xenium'].values())))\n",
    "                scalefactors = next(iter(adata.uns['spatial'].values()))['scalefactors']\n",
    "                registered_pixels_per_micron = scalefactors['tissue_hires_scalef'] # when read in coords are in microns, so hires_scalef is ppm\n",
    "            else:\n",
    "                raise RuntimeError('he not implemented yet')\n",
    "                \n",
    "\n",
    "    d.update({\n",
    "        'ids': [f's{i}' for i in range(len(d['order']))],\n",
    "        'scale': scale,\n",
    "        'registered_pixels_per_micron': registered_pixels_per_micron\n",
    "    })\n",
    "    metadata[case] = d\n"
   ]
  },
  {
   "cell_type": "code",
   "execution_count": 17,
   "id": "03b65ba5",
   "metadata": {},
   "outputs": [],
   "source": [
    "yaml.safe_dump(metadata, open(os.path.join(reg_dir, 'metadata.yaml'), 'w'))"
   ]
  },
  {
   "cell_type": "code",
   "execution_count": 18,
   "id": "b1f170bd",
   "metadata": {},
   "outputs": [
    {
     "data": {
      "text/plain": [
       "'/diskmnt/Projects/Users/estorrs/mushroom/data/projects/kathleen_visium/registration/metadata.yaml'"
      ]
     },
     "execution_count": 18,
     "metadata": {},
     "output_type": "execute_result"
    }
   ],
   "source": [
    "os.path.join(reg_dir, 'metadata.yaml')"
   ]
  },
  {
   "cell_type": "code",
   "execution_count": 19,
   "id": "e59c0d9b",
   "metadata": {},
   "outputs": [
    {
     "name": "stdout",
     "output_type": "stream",
     "text": [
      "17B41236A:\n",
      "  data:\n",
      "    visium:\n",
      "      17B41236A-A: /diskmnt/Projects/Users/estorrs/imaging-analysis/data/kathleen/st/PC_A_spatial_outs/outs\n",
      "      17B41236A-B: /diskmnt/Projects/Users/estorrs/imaging-analysis/data/kathleen/st/PC_B_spatial_outs/outs\n",
      "      17B41236A-C: /diskmnt/Projects/Users/estorrs/imaging-analysis/data/kathleen/st/PC_C_spatial_outs/outs\n",
      "      17B41236A-D: /diskmnt/Projects/Users/estorrs/imaging-analysis/data/kathleen/st/PC_D_spatial_outs/outs\n",
      "  ids:\n",
      "  - s0\n",
      "  - s1\n",
      "  - s2\n",
      "  - s3\n",
      "  order:\n",
      "  - 17B41236A-A\n",
      "  - 17B41236A-B\n",
      "  - 17B41236A-C\n",
      "  - 17B41236A-D\n",
      "  registered_pixels_per_micron: 1.1578182157391153\n",
      "  scale: 0.2\n"
     ]
    }
   ],
   "source": [
    "import sys\n",
    "yaml.safe_dump(metadata, sys.stdout)"
   ]
  },
  {
   "cell_type": "code",
   "execution_count": 26,
   "id": "17799ce0",
   "metadata": {},
   "outputs": [
    {
     "name": "stderr",
     "output_type": "stream",
     "text": [
      "/diskmnt/Projects/Users/estorrs/miniconda3/envs/mushroom/lib/python3.9/site-packages/anndata/_core/anndata.py:1840: UserWarning: Variable names are not unique. To make them unique, call `.var_names_make_unique`.\n",
      "  utils.warn_names_duplicates(\"var\")\n",
      "/diskmnt/Projects/Users/estorrs/miniconda3/envs/mushroom/lib/python3.9/site-packages/anndata/_core/anndata.py:1113: FutureWarning: is_categorical_dtype is deprecated and will be removed in a future version. Use isinstance(dtype, CategoricalDtype) instead\n",
      "  if not is_categorical_dtype(df_full[k]):\n",
      "/diskmnt/Projects/Users/estorrs/miniconda3/envs/mushroom/lib/python3.9/site-packages/anndata/_core/anndata.py:1840: UserWarning: Variable names are not unique. To make them unique, call `.var_names_make_unique`.\n",
      "  utils.warn_names_duplicates(\"var\")\n"
     ]
    },
    {
     "data": {
      "text/plain": [
       "AnnData object with n_obs × n_vars = 2277 × 17943\n",
       "    obs: 'in_tissue', 'array_row', 'array_col'\n",
       "    var: 'gene_ids', 'feature_types', 'genome'\n",
       "    uns: 'spatial'\n",
       "    obsm: 'spatial'"
      ]
     },
     "execution_count": 26,
     "metadata": {},
     "output_type": "execute_result"
    }
   ],
   "source": [
    "a = visium.adata_from_visium('/diskmnt/Projects/Users/estorrs/imaging-analysis/data/kathleen/st/PC_D_spatial_outs/outs')\n",
    "a"
   ]
  },
  {
   "cell_type": "code",
   "execution_count": 27,
   "id": "92d5fecb",
   "metadata": {},
   "outputs": [
    {
     "data": {
      "text/plain": [
       "1.1581378740241455"
      ]
     },
     "execution_count": 27,
     "metadata": {},
     "output_type": "execute_result"
    }
   ],
   "source": [
    "visium.pixels_per_micron(a)"
   ]
  },
  {
   "cell_type": "code",
   "execution_count": null,
   "id": "6076850f",
   "metadata": {},
   "outputs": [],
   "source": []
  }
 ],
 "metadata": {
  "kernelspec": {
   "display_name": "Python 3 (ipykernel)",
   "language": "python",
   "name": "python3"
  },
  "language_info": {
   "codemirror_mode": {
    "name": "ipython",
    "version": 3
   },
   "file_extension": ".py",
   "mimetype": "text/x-python",
   "name": "python",
   "nbconvert_exporter": "python",
   "pygments_lexer": "ipython3",
   "version": "3.9.18"
  }
 },
 "nbformat": 4,
 "nbformat_minor": 5
}
