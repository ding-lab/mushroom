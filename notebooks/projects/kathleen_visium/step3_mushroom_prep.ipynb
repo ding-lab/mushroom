{
 "cells": [
  {
   "cell_type": "code",
   "execution_count": 1,
   "id": "0179884f",
   "metadata": {},
   "outputs": [],
   "source": [
    "import os\n",
    "import re\n",
    "from pathlib import Path\n",
    "\n",
    "import matplotlib.pyplot as plt\n",
    "import numpy as np\n",
    "import pandas as pd \n",
    "import scanpy as sc\n",
    "import torch\n",
    "import torchvision.transforms.functional as TF\n",
    "import tifffile\n",
    "import yaml\n",
    "from einops import rearrange\n"
   ]
  },
  {
   "cell_type": "code",
   "execution_count": 2,
   "id": "66f81470",
   "metadata": {},
   "outputs": [],
   "source": [
    "%load_ext autoreload"
   ]
  },
  {
   "cell_type": "code",
   "execution_count": 3,
   "id": "c3a6f82c",
   "metadata": {},
   "outputs": [],
   "source": [
    "%autoreload 2"
   ]
  },
  {
   "cell_type": "code",
   "execution_count": 4,
   "id": "5323af15",
   "metadata": {},
   "outputs": [
    {
     "name": "stderr",
     "output_type": "stream",
     "text": [
      "/data/estorrs/miniconda3/envs/mushroom/lib/python3.9/site-packages/geopandas/_compat.py:124: UserWarning: The Shapely GEOS version (3.11.1-CAPI-1.17.1) is incompatible with the GEOS version PyGEOS was compiled with (3.10.4-CAPI-1.16.2). Conversions between both will be slow.\n",
      "  warnings.warn(\n",
      "/data/estorrs/miniconda3/envs/mushroom/lib/python3.9/site-packages/spatialdata/__init__.py:9: UserWarning: Geopandas was set to use PyGEOS, changing to shapely 2.0 with:\n",
      "\n",
      "\tgeopandas.options.use_pygeos = True\n",
      "\n",
      "If you intended to use PyGEOS, set the option to False.\n",
      "  _check_geopandas_using_shapely()\n"
     ]
    }
   ],
   "source": [
    "from mushroom.data.multiplex import extract_ome_tiff, write_basic_ome_tiff, get_ome_tiff_channels, make_pseudo\n",
    "from mushroom.data.visium import adata_from_visium\n",
    "from mushroom.visualization.utils import display_sections\n",
    "import mushroom.utils as utils"
   ]
  },
  {
   "cell_type": "code",
   "execution_count": 6,
   "id": "a50f21ac",
   "metadata": {},
   "outputs": [],
   "source": [
    "run_dir = '/data/estorrs/mushroom/data/projects/kathleen_visium'\n",
    "mushroom_dir = os.path.join(run_dir, 'mushroom')\n",
    "Path(mushroom_dir).mkdir(parents=True, exist_ok=True)"
   ]
  },
  {
   "cell_type": "code",
   "execution_count": 7,
   "id": "b30615f1",
   "metadata": {
    "scrolled": true
   },
   "outputs": [
    {
     "data": {
      "text/plain": [
       "{'17B41236A': {'data': {'visium': {'17B41236A-A': '/diskmnt/Projects/Users/estorrs/mushroom/data/projects/kathleen_visium/registered/17B41236A/s0_visium.h5ad',\n",
       "    '17B41236A-B': '/diskmnt/Projects/Users/estorrs/mushroom/data/projects/kathleen_visium/registered/17B41236A/s1_visium.h5ad',\n",
       "    '17B41236A-C': '/diskmnt/Projects/Users/estorrs/mushroom/data/projects/kathleen_visium/registered/17B41236A/s2_visium.h5ad',\n",
       "    '17B41236A-D': '/diskmnt/Projects/Users/estorrs/mushroom/data/projects/kathleen_visium/registered/17B41236A/s3_visium.h5ad'}},\n",
       "  'ids': ['s0', 's1', 's2', 's3'],\n",
       "  'order': ['17B41236A-A', '17B41236A-B', '17B41236A-C', '17B41236A-D'],\n",
       "  'registered_pixels_per_micron': 1.1578182157391153,\n",
       "  'scale': 0.2}}"
      ]
     },
     "execution_count": 7,
     "metadata": {},
     "output_type": "execute_result"
    }
   ],
   "source": [
    "metadata = yaml.safe_load(open(os.path.join(run_dir, 'registered', 'metadata.yaml')))\n",
    "metadata"
   ]
  },
  {
   "cell_type": "code",
   "execution_count": 8,
   "id": "3fb65837",
   "metadata": {
    "scrolled": true
   },
   "outputs": [
    {
     "data": {
      "text/plain": [
       "{'17B41236A': [{'id': 's0',\n",
       "   'position': 0,\n",
       "   'data': [{'dtype': 'visium',\n",
       "     'filepath': '/data/estorrs/mushroom/data/projects/kathleen_visium/registered/17B41236A/s0_visium.h5ad'}]},\n",
       "  {'id': 's1',\n",
       "   'position': 0,\n",
       "   'data': [{'dtype': 'visium',\n",
       "     'filepath': '/data/estorrs/mushroom/data/projects/kathleen_visium/registered/17B41236A/s1_visium.h5ad'}]},\n",
       "  {'id': 's2',\n",
       "   'position': 0,\n",
       "   'data': [{'dtype': 'visium',\n",
       "     'filepath': '/data/estorrs/mushroom/data/projects/kathleen_visium/registered/17B41236A/s2_visium.h5ad'}]},\n",
       "  {'id': 's3',\n",
       "   'position': 0,\n",
       "   'data': [{'dtype': 'visium',\n",
       "     'filepath': '/data/estorrs/mushroom/data/projects/kathleen_visium/registered/17B41236A/s3_visium.h5ad'}]}]}"
      ]
     },
     "execution_count": 8,
     "metadata": {},
     "output_type": "execute_result"
    }
   ],
   "source": [
    "configs = {}\n",
    "for case, data in metadata.items():\n",
    "    config = [\n",
    "        {\n",
    "            'id': sid,\n",
    "            'position': 0,\n",
    "            'data': []\n",
    "        }\n",
    "        for sid in data['ids']\n",
    "    ]\n",
    "    \n",
    "    for dtype, mapping in data['data'].items():\n",
    "        for sample_id, filepath in mapping.items():\n",
    "            idx = data['order'].index(sample_id)\n",
    "            \n",
    "            # convert from katmai to glacier\n",
    "            filepath = filepath.replace('/diskmnt/Projects/Users/estorrs', '/data/estorrs')\n",
    "            \n",
    "            config[idx]['data'].append(\n",
    "                {\n",
    "                    'dtype': dtype,\n",
    "                    'filepath': filepath,\n",
    "                }\n",
    "            )\n",
    "    configs[case] = config\n",
    "configs\n",
    "    "
   ]
  },
  {
   "cell_type": "code",
   "execution_count": 9,
   "id": "2394f341",
   "metadata": {
    "scrolled": true
   },
   "outputs": [
    {
     "name": "stdout",
     "output_type": "stream",
     "text": [
      "17B41236A:\n",
      "- data:\n",
      "  - dtype: visium\n",
      "    filepath: /data/estorrs/mushroom/data/projects/kathleen_visium/registered/17B41236A/s0_visium.h5ad\n",
      "  id: s0\n",
      "  position: 0\n",
      "- data:\n",
      "  - dtype: visium\n",
      "    filepath: /data/estorrs/mushroom/data/projects/kathleen_visium/registered/17B41236A/s1_visium.h5ad\n",
      "  id: s1\n",
      "  position: 0\n",
      "- data:\n",
      "  - dtype: visium\n",
      "    filepath: /data/estorrs/mushroom/data/projects/kathleen_visium/registered/17B41236A/s2_visium.h5ad\n",
      "  id: s2\n",
      "  position: 0\n",
      "- data:\n",
      "  - dtype: visium\n",
      "    filepath: /data/estorrs/mushroom/data/projects/kathleen_visium/registered/17B41236A/s3_visium.h5ad\n",
      "  id: s3\n",
      "  position: 0\n"
     ]
    }
   ],
   "source": [
    "import sys\n",
    "yaml.safe_dump(configs, sys.stdout)"
   ]
  },
  {
   "cell_type": "code",
   "execution_count": 19,
   "id": "796cb5dd",
   "metadata": {},
   "outputs": [],
   "source": [
    "# # filling out position seperately and reading back in\n",
    "# yaml.safe_dump(configs, open(os.path.join(mushroom_dir, 'configs_template.yaml'), 'w'))"
   ]
  },
  {
   "cell_type": "code",
   "execution_count": 10,
   "id": "1de301d0",
   "metadata": {
    "scrolled": true
   },
   "outputs": [
    {
     "data": {
      "text/plain": [
       "{'17B41236A': [{'data': [{'dtype': 'visium',\n",
       "     'filepath': '/data/estorrs/mushroom/data/projects/kathleen_visium/registered/17B41236A/s0_visium.h5ad'}],\n",
       "   'id': 's0',\n",
       "   'position': 0},\n",
       "  {'data': [{'dtype': 'visium',\n",
       "     'filepath': '/data/estorrs/mushroom/data/projects/kathleen_visium/registered/17B41236A/s1_visium.h5ad'}],\n",
       "   'id': 's1',\n",
       "   'position': 125},\n",
       "  {'data': [{'dtype': 'visium',\n",
       "     'filepath': '/data/estorrs/mushroom/data/projects/kathleen_visium/registered/17B41236A/s2_visium.h5ad'}],\n",
       "   'id': 's2',\n",
       "   'position': 250},\n",
       "  {'data': [{'dtype': 'visium',\n",
       "     'filepath': '/data/estorrs/mushroom/data/projects/kathleen_visium/registered/17B41236A/s3_visium.h5ad'}],\n",
       "   'id': 's3',\n",
       "   'position': 375}]}"
      ]
     },
     "execution_count": 10,
     "metadata": {},
     "output_type": "execute_result"
    }
   ],
   "source": [
    "configs = yaml.safe_load(open(os.path.join(mushroom_dir, 'configs_template.yaml')))\n",
    "configs"
   ]
  },
  {
   "cell_type": "code",
   "execution_count": 11,
   "id": "6e569fd0",
   "metadata": {},
   "outputs": [],
   "source": [
    "for case, config in configs.items():\n",
    "    directory = os.path.join(mushroom_dir, case)\n",
    "    Path(directory).mkdir(parents=True, exist_ok=True)\n",
    "    \n",
    "    yaml.safe_dump(config, open(os.path.join(directory, 'config.yaml'), 'w'))"
   ]
  },
  {
   "cell_type": "code",
   "execution_count": 12,
   "id": "97ab6bd7",
   "metadata": {},
   "outputs": [
    {
     "data": {
      "text/plain": [
       "'/data/estorrs/mushroom/data/projects/kathleen_visium/mushroom'"
      ]
     },
     "execution_count": 12,
     "metadata": {},
     "output_type": "execute_result"
    }
   ],
   "source": [
    "mushroom_dir"
   ]
  },
  {
   "cell_type": "code",
   "execution_count": null,
   "id": "db417f4b",
   "metadata": {},
   "outputs": [],
   "source": []
  },
  {
   "cell_type": "code",
   "execution_count": null,
   "id": "1d9f69f4",
   "metadata": {},
   "outputs": [],
   "source": []
  },
  {
   "cell_type": "code",
   "execution_count": null,
   "id": "b08773bb",
   "metadata": {},
   "outputs": [],
   "source": []
  }
 ],
 "metadata": {
  "kernelspec": {
   "display_name": "Python 3 (ipykernel)",
   "language": "python",
   "name": "python3"
  },
  "language_info": {
   "codemirror_mode": {
    "name": "ipython",
    "version": 3
   },
   "file_extension": ".py",
   "mimetype": "text/x-python",
   "name": "python",
   "nbconvert_exporter": "python",
   "pygments_lexer": "ipython3",
   "version": "3.9.18"
  }
 },
 "nbformat": 4,
 "nbformat_minor": 5
}
