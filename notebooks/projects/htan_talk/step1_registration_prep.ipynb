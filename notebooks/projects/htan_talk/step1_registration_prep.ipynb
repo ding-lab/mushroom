{
 "cells": [
  {
   "cell_type": "code",
   "execution_count": 1,
   "id": "fa3a56db",
   "metadata": {},
   "outputs": [],
   "source": [
    "import os\n",
    "from pathlib import Path\n",
    "import shutil\n",
    "\n",
    "import numpy as np\n",
    "import pandas as pd\n",
    "import scanpy as sc\n",
    "import squidpy as sq\n",
    "import tifffile\n",
    "import torch\n",
    "import torchvision.transforms.functional as TF\n",
    "import yaml\n",
    "from einops import rearrange"
   ]
  },
  {
   "cell_type": "code",
   "execution_count": 2,
   "id": "e687909b",
   "metadata": {},
   "outputs": [],
   "source": [
    "%load_ext autoreload"
   ]
  },
  {
   "cell_type": "code",
   "execution_count": 3,
   "id": "5afec56f",
   "metadata": {},
   "outputs": [],
   "source": [
    "%autoreload 2"
   ]
  },
  {
   "cell_type": "code",
   "execution_count": 47,
   "id": "aa4da016",
   "metadata": {},
   "outputs": [],
   "source": [
    "from mushroom.data.multiplex import extract_ome_tiff, get_ome_tiff_channels, make_pseudo, pixels_per_micron\n",
    "import mushroom.data.multiplex as multiplex\n",
    "import mushroom.data.visium as visium\n",
    "from mushroom.data.xenium import adata_from_xenium"
   ]
  },
  {
   "cell_type": "code",
   "execution_count": 5,
   "id": "27360999",
   "metadata": {},
   "outputs": [],
   "source": [
    "run_dir = '/diskmnt/Projects/Users/estorrs/mushroom/data/projects/htan_talk'\n",
    "Path(run_dir).mkdir(parents=True, exist_ok=True)"
   ]
  },
  {
   "cell_type": "code",
   "execution_count": 6,
   "id": "d8db8fec",
   "metadata": {},
   "outputs": [],
   "source": [
    "reg_dir = os.path.join(run_dir, 'registration')\n",
    "Path(reg_dir).mkdir(parents=True, exist_ok=True)"
   ]
  },
  {
   "cell_type": "code",
   "execution_count": 103,
   "id": "fb953dcf",
   "metadata": {
    "code_folding": []
   },
   "outputs": [],
   "source": [
    "data_map = {\n",
    "#     'HT206B1': {\n",
    "#         'order': [\n",
    "#             'HT206B1-U1',\n",
    "#             'HT206B1-U2',\n",
    "#             'HT206B1-U5',\n",
    "#             'HT206B1-U8',\n",
    "#             'HT206B1-U9',\n",
    "#             'HT206B1-U10',\n",
    "#             'HT206B1-U13',\n",
    "#             'HT206B1-U16',\n",
    "#             'HT206B1-U17',\n",
    "#             'HT206B1-U18',\n",
    "#             'HT206B1-U21',\n",
    "#             'HT206B1-U24',\n",
    "#         ],\n",
    "#         'data': {\n",
    "#             'xenium': {\n",
    "#                 'HT206B1-U24': '/diskmnt/primary/Xenium/data/20230830__153957__20230830_24001/output-XETG00122__0010528__HT206B1-H2L1Us1_1__20230830__154053',\n",
    "#                 'HT206B1-U16': '/diskmnt/primary/Xenium/data/20230830__153957__20230830_24001/output-XETG00122__0010528__HT206B1-H2L1Us1_9__20230830__154053',\n",
    "#                 'HT206B1-U8': '/diskmnt/primary/Xenium/data/20230830__153957__20230830_24001/output-XETG00122__0010528__HT206B1-H2L1Us1_17__20230830__154053',\n",
    "#                 'HT206B1-U1': '/diskmnt/primary/Xenium/data/20230919__220553__24003/output-XETG00122__0010520__HT206B1-H2L1Us1_8__20230919__220650',\n",
    "#                 'HT206B1-U9': '/diskmnt/primary/Xenium/data/20230919__220553__24003/output-XETG00122__0010520__HT206B1-H2L1Us1_15__20230919__220650',\n",
    "#                 'HT206B1-U17': '/diskmnt/primary/Xenium/data/20230919__220553__24003/output-XETG00122__0010520__HT206B1-H2L1Us1_24__20230919__220650',\n",
    "                \n",
    "#             },\n",
    "#             'multiplex': {\n",
    "#                 'HT206B1-U2': '/diskmnt/primary/CODEX/HTAN/20230914_BRCA_HT206B1-H2L1-2__HT206B1-H2L1-10__HT206B1-H2L1-18/HT206B1-H2L1-U2__20230914.ome.tiff',\n",
    "#                 'HT206B1-U10': '/diskmnt/primary/CODEX/HTAN/20230914_BRCA_HT206B1-H2L1-2__HT206B1-H2L1-10__HT206B1-H2L1-18/HT206B1-H2L1-U10__20230914.ome.tiff',\n",
    "#                 'HT206B1-U18': '/diskmnt/primary/CODEX/HTAN/20230914_BRCA_HT206B1-H2L1-2__HT206B1-H2L1-10__HT206B1-H2L1-18/HT206B1-H2L1-U18__20230914.ome.tiff',\n",
    "#                 'HT206B1-U5': '/diskmnt/primary/CODEX/HTAN/20231002_HT206B1-H2L1-2__HT206B1-H2L1-10__HT206B1-H2L1-18/HT206B1-H2L1-U5__20231002.ome.tiff',\n",
    "#                 'HT206B1-U13': '/diskmnt/primary/CODEX/HTAN/20231002_HT206B1-H2L1-2__HT206B1-H2L1-10__HT206B1-H2L1-18/HT206B1-H2L1-U13__20231002.ome.tiff',\n",
    "#                 'HT206B1-U21': '/diskmnt/primary/CODEX/HTAN/20231002_HT206B1-H2L1-2__HT206B1-H2L1-10__HT206B1-H2L1-18/HT206B1-H2L1-U21__20231002.ome.tiff',\n",
    "#             }\n",
    "#         }\n",
    "#     },\n",
    "#     'S18-9906': {\n",
    "#         'order': [\n",
    "#             'S18-9906-U1',\n",
    "#             'S18-9906-U2',\n",
    "#             'S18-9906-U3',\n",
    "#             'S18-9906-U9',\n",
    "#             'S18-9906-U10',\n",
    "#             'S18-9906-U16',\n",
    "#             'S18-9906-U17',\n",
    "#             'S18-9906-U18',\n",
    "#             'S18-9906-U24',\n",
    "#             'S18-9906-U25',\n",
    "#         ],\n",
    "#         'data': {\n",
    "#             'xenium': {\n",
    "#                 'S18-9906-U2': '/diskmnt/primary/Xenium/data/20230912__220334__24002/output-XETG00122__0010784__S18-9906-B27Us1_2Q1__20230912__220421',\n",
    "#                 'S18-9906-U17': '/diskmnt/primary/Xenium/data/20230912__220334__24002/output-XETG00122__0010784__S18-9906-B27Us1_17Q1__20230912__220421',\n",
    "#                 'S18-9906-U9': '/diskmnt/primary/Xenium/data/20230912__220334__24002/output-XETG00122__0010787__S18-9906-B27Us1_9Q1__20230912__220421',\n",
    "#                 'S18-9906-U24': '/diskmnt/primary/Xenium/data/20230912__220334__24002/output-XETG00122__0010787__S18-9906-B27Us1_24Q1__20230912__220421',\n",
    "                \n",
    "#             },\n",
    "#             'multiplex': {\n",
    "#                 'S18-9906-U3': '/diskmnt/primary/CODEX/HTAN/20231006_Prostate_Serial_S18-9906_slide_3/S18-9906-U3__20231006.ome.tiff',\n",
    "#                 'S18-9906-U10': '/diskmnt/primary/CODEX/HTAN/20231006_Prostate_Serial_S18-9906_slide_3/S18-9906-U10__20231006.ome.tiff',\n",
    "#                 'S18-9906-U18': '/diskmnt/primary/CODEX/HTAN/20231006_Prostate_Serial_S18-9906_slide_3/S18-9906-U18__20231006.ome.tiff',\n",
    "#                 'S18-9906-U25': '/diskmnt/primary/CODEX/HTAN/20231006_Prostate_Serial_S18-9906_slide_3/S18-9906-U25__20231006.ome.tiff',\n",
    "#             },\n",
    "#             'visium': {\n",
    "#                 'S18-9906-U1': '/diskmnt/Datasets/Spatial_Transcriptomics/outputs_FFPE/Human/S18-9906/B27Us1_1/S18-9906-B27Us1_1Bp1/outs',\n",
    "#                 'S18-9906-U16': '/diskmnt/Datasets/Spatial_Transcriptomics/outputs_FFPE/Human/S18-9906/B27Us1_16/S18-9906-B27Us1_16Bp1/outs',\n",
    "#             },\n",
    "#             'he': {\n",
    "# #                 'S18-9906-U1': '/diskmnt/Datasets/Spatial_Transcriptomics/images/all/A1_S18-9906-B27Us1_1.tif',\n",
    "#                 'S18-9906-U1': '/diskmnt/Projects/Users/estorrs/sandbox/S18-9906_U1_tmp.tif',\n",
    "# #                 'S18-9906-U16': '/diskmnt/Datasets/Spatial_Transcriptomics/images/all/B1_S18-9906-B27Us1_16.tif'\n",
    "#                 'S18-9906-U16': '/diskmnt/Projects/Users/estorrs/sandbox/S18-9906_U16_tmp.tif',\n",
    "#             }\n",
    "#         }\n",
    "#     },\n",
    "    'HT413C1_Th1k4A1': {\n",
    "        'order': [\n",
    "            'HT413C1_Th1k4A1_U14', # U14, U18, U19, and U20 are actually in front of U1 for this sample\n",
    "            'HT413C1_Th1k4A1_U18',\n",
    "            'HT413C1_Th1k4A1_U19',\n",
    "            'HT413C1_Th1k4A1_U20',\n",
    "            'HT413C1_Th1k4A1_U1',\n",
    "            'HT413C1_Th1k4A1_U2',\n",
    "            'HT413C1_Th1k4A1_U3',\n",
    "            'HT413C1_Th1k4A1_U4',\n",
    "            'HT413C1_Th1k4A1_U8',\n",
    "            'HT413C1_Th1k4A1_U9',\n",
    "#             'HT413C1_Th1k4A1_U10',\n",
    "            'HT413C1_Th1k4A1_U11',\n",
    "            'HT413C1_Th1k4A1_U21',\n",
    "            'HT413C1_Th1k4A1_U24',\n",
    "            'HT413C1_Th1k4A1_U25',\n",
    "            'HT413C1_Th1k4A1_U26',\n",
    "            'HT413C1_Th1k4A1_U27',\n",
    "            'HT413C1_Th1k4A1_U29',\n",
    "            'HT413C1_Th1k4A1_U30',\n",
    "            'HT413C1_Th1k4A1_U31',\n",
    "            'HT413C1_Th1k4A1_U32',\n",
    "            'HT413C1_Th1k4A1_U35',\n",
    "            'HT413C1_Th1k4A1_U36',\n",
    "            'HT413C1_Th1k4A1_U37',\n",
    "            'HT413C1_Th1k4A1_U38',\n",
    "            'HT413C1_Th1k4A1_U40',\n",
    "            'HT413C1_Th1k4A1_U41',\n",
    "            'HT413C1_Th1k4A1_U42',\n",
    "            \n",
    "        ],\n",
    "        'data': {\n",
    "            'xenium': {\n",
    "                'HT413C1_Th1k4A1_U2': '/diskmnt/primary/Xenium_primary/data/20240116__200025__24019/output-XETG00122__0010369__HT413C1-Th1K4A1Us1_2__20240116__200059',\n",
    "                'HT413C1_Th1k4A1_U9': '/diskmnt/primary/Xenium_primary/data/20240116__200025__24019/output-XETG00122__0010378__HT413C1-Th1K4A1Us1_9__20240116__200059',\n",
    "                'HT413C1_Th1k4A1_U19': '/diskmnt/primary/Xenium_primary/data/20240116__200025__24019/output-XETG00122__0010369__HT413C1-Th1K4A1Us1_19__20240116__200059',\n",
    "                'HT413C1_Th1k4A1_U25': '/diskmnt/primary/Xenium_primary/data/20240116__200025__24019/output-XETG00122__0010378__HT413C1-Th1K4A1Us1_25__20240116__200059',\n",
    "                'HT413C1_Th1k4A1_U31': '/diskmnt/primary/Xenium_primary/data/20240116__200025__24019/output-XETG00122__0010369__HT413C1-Th1K4A1Us1_31__20240116__200059',\n",
    "                'HT413C1_Th1k4A1_U36': '/diskmnt/primary/Xenium_primary/data/20240116__200025__24019/output-XETG00122__0010378__HT413C1-Th1K4A1Us1_36__20240116__200059',\n",
    "            },\n",
    "            'multiplex': { # U10 is cut off on top, U20 is in front of U1\n",
    "#                 'HT413C1_Th1k4A1_U10': '/diskmnt/primary/CODEX/HTAN/20240111_Human_mCRC_serial_sectrion_HT413C1_Th1k4A1_Slide_8/HT413C1_Th1k4A1_U10__20240111.ome.tiff',\n",
    "                'HT413C1_Th1k4A1_U26': '/diskmnt/primary/CODEX/HTAN/20240111_Human_mCRC_serial_sectrion_HT413C1_Th1k4A1_Slide_8/HT413C1_Th1k4A1_U26__20240111.ome.tiff',\n",
    "                'HT413C1_Th1k4A1_U37': '/diskmnt/primary/CODEX/HTAN/20240111_Human_mCRC_serial_sectrion_HT413C1_Th1k4A1_Slide_8/HT413C1_Th1k4A1_U37__20240111.ome.tiff',\n",
    "                'HT413C1_Th1k4A1_U42': '/diskmnt/primary/CODEX/HTAN/20240111_Human_mCRC_serial_sectrion_HT413C1_Th1k4A1_Slide_8/HT413C1_Th1k4A1_U42__20240111.ome.tiff',\n",
    "                'HT413C1_Th1k4A1_U3': '/diskmnt/primary/CODEX/HTAN/20240110_Human_mCRC_Serial_section_HT413C1_Th1k4A1_Slide3/HT413C1_Th1k4A1_U3__20240110.ome.tiff',\n",
    "                'HT413C1_Th1k4A1_U20': '/diskmnt/primary/CODEX/HTAN/20240110_Human_mCRC_Serial_section_HT413C1_Th1k4A1_Slide3/HT413C1_Th1k4A1_U20__20240110.ome.tiff',\n",
    "                'HT413C1_Th1k4A1_U32': '/diskmnt/primary/CODEX/HTAN/20240110_Human_mCRC_Serial_section_HT413C1_Th1k4A1_Slide3/HT413C1_Th1k4A1_U32__20240110.ome.tiff',\n",
    "                'HT413C1_Th1k4A1_U41': '/diskmnt/primary/CODEX/HTAN/20240110_Human_mCRC_Serial_section_HT413C1_Th1k4A1_Slide3/HT413C1_Th1k4A1_U41__20240110.ome.tiff',\n",
    "            },\n",
    "            'he': {\n",
    "                'HT413C1_Th1k4A1_U11': '/diskmnt/Projects/Users/estorrs/imaging-analysis/data/htan_talk/he/HT413C1/HT413C1-Th1K4A1-U11.ome.tif',\n",
    "                'HT413C1_Th1k4A1_U14': '/diskmnt/Projects/Users/estorrs/imaging-analysis/data/htan_talk/he/HT413C1/HT413C1-Th1K4A1-U14.ome.tif',\n",
    "                'HT413C1_Th1k4A1_U18': '/diskmnt/Projects/Users/estorrs/imaging-analysis/data/htan_talk/he/HT413C1/HT413C1-Th1K4A1-U18.ome.tif',\n",
    "                'HT413C1_Th1k4A1_U1': '/diskmnt/Projects/Users/estorrs/imaging-analysis/data/htan_talk/he/HT413C1/HT413C1-Th1K4A1-U1.ome.tif',\n",
    "                'HT413C1_Th1k4A1_U21': '/diskmnt/Projects/Users/estorrs/imaging-analysis/data/htan_talk/he/HT413C1/HT413C1-Th1K4A1-U21.ome.tif',\n",
    "                'HT413C1_Th1k4A1_U24': '/diskmnt/Projects/Users/estorrs/imaging-analysis/data/htan_talk/he/HT413C1/HT413C1-Th1K4A1-U24.ome.tif',\n",
    "                'HT413C1_Th1k4A1_U27': '/diskmnt/Projects/Users/estorrs/imaging-analysis/data/htan_talk/he/HT413C1/HT413C1-Th1K4A1-U27.ome.tif',\n",
    "                'HT413C1_Th1k4A1_U29': '/diskmnt/Projects/Users/estorrs/imaging-analysis/data/htan_talk/he/HT413C1/HT413C1-Th1K4A1-U29.ome.tif',\n",
    "                'HT413C1_Th1k4A1_U30': '/diskmnt/Projects/Users/estorrs/imaging-analysis/data/htan_talk/he/HT413C1/HT413C1-Th1K4A1-U30.ome.tif',\n",
    "                'HT413C1_Th1k4A1_U35': '/diskmnt/Projects/Users/estorrs/imaging-analysis/data/htan_talk/he/HT413C1/HT413C1-Th1K4A1-U35.ome.tif',\n",
    "                'HT413C1_Th1k4A1_U38': '/diskmnt/Projects/Users/estorrs/imaging-analysis/data/htan_talk/he/HT413C1/HT413C1-Th1K4A1-U38.ome.tif',\n",
    "                'HT413C1_Th1k4A1_U40': '/diskmnt/Projects/Users/estorrs/imaging-analysis/data/htan_talk/he/HT413C1/HT413C1-Th1K4A1-U40.ome.tif',\n",
    "                'HT413C1_Th1k4A1_U4': '/diskmnt/Projects/Users/estorrs/imaging-analysis/data/htan_talk/he/HT413C1/HT413C1-Th1K4A1-U4.ome.tif',\n",
    "                'HT413C1_Th1k4A1_U8': '/diskmnt/Projects/Users/estorrs/imaging-analysis/data/htan_talk/he/HT413C1/HT413C1-Th1K4A1-U8.ome.tif',\n",
    "            }\n",
    "        }\n",
    "    },\n",
    "#     'HT225C1': {\n",
    "#         'order': [\n",
    "# #             'HT225C1-U1',\n",
    "#             'HT225C1-U2',\n",
    "#             'HT225C1-U3',\n",
    "#             'HT225C1-U4',\n",
    "#             'HT225C1-U5',\n",
    "#         ],\n",
    "#         'data': {\n",
    "#             'visium': {\n",
    "# #                 'HT225C1-U1': '/diskmnt/Datasets/Spatial_Transcriptomics/outputs_OCT/Human/HT225C1/H1/HT225C1-Th1Fc1U1Z1B1/outs',\n",
    "#                 'HT225C1-U2': '/diskmnt/Datasets/Spatial_Transcriptomics/outputs_OCT/Human/HT225C1/H1/HT225C1-Th1Fc1U2Z1B1/outs',\n",
    "#                 'HT225C1-U3': '/diskmnt/Datasets/Spatial_Transcriptomics/outputs_OCT/Human/HT225C1/H1/HT225C1-Th1Fc1U3Z1B1/outs',\n",
    "#                 'HT225C1-U4': '/diskmnt/Datasets/Spatial_Transcriptomics/outputs_OCT/Human/HT225C1/H1/HT225C1-Th1Fc1U4Z1B1/outs',\n",
    "#                 'HT225C1-U5': '/diskmnt/Datasets/Spatial_Transcriptomics/outputs_OCT/Human/HT225C1/H1/HT225C1-Th1Fc1U5Z1B1/outs',\n",
    "#             },\n",
    "#         }\n",
    "#     },\n",
    "}"
   ]
  },
  {
   "cell_type": "code",
   "execution_count": 104,
   "id": "9df7fb2c",
   "metadata": {},
   "outputs": [],
   "source": [
    "def rescale(x, scale=.1):\n",
    "    x = rearrange(torch.tensor(x), 'h w c -> c h w')\n",
    "    x = TF.resize(x, (int(x.shape[-2] * scale), int(x.shape[-1] * scale)), antialias=True)\n",
    "    x = TF.convert_image_dtype(x, torch.uint8)\n",
    "    x = rearrange(x.numpy(), 'c h w -> h w c')\n",
    "    \n",
    "    return x"
   ]
  },
  {
   "cell_type": "code",
   "execution_count": 105,
   "id": "4fef93ca",
   "metadata": {},
   "outputs": [],
   "source": [
    "scale = .2"
   ]
  },
  {
   "cell_type": "code",
   "execution_count": 106,
   "id": "935af05f",
   "metadata": {},
   "outputs": [],
   "source": [
    "official_to_options = {\n",
    "    'Pan-Cytokeratin': ['Pan-Cytokeratin', 'Pan-CK', 'Pan-CK (D)', 'PanCK (D)', 'PanCytokeratin'],\n",
    "    'CD45': ['CD45 (D)', 'CD45', 'CD45-(D)'],\n",
    "    'DAPI': ['DAPI'],\n",
    "    'SMA': ['SMA-(D)', 'SMA', 'SMA (D)', 'a-SMA (D)'],\n",
    "}\n",
    "channel_mapping = {v:k for k, vs in official_to_options.items() for v in vs}\n",
    "\n",
    "cmap = {\n",
    "    'DAPI': (0., 0., 1.),\n",
    "    'Pan-Cytokeratin': (1., 0., 0.),\n",
    "    'CD45': (0., 1., 0.),\n",
    "    'SMA': (1., 1., 1.)\n",
    "}"
   ]
  },
  {
   "cell_type": "code",
   "execution_count": 107,
   "id": "8e8262f4",
   "metadata": {
    "scrolled": true
   },
   "outputs": [
    {
     "name": "stdout",
     "output_type": "stream",
     "text": [
      "xenium HT413C1_Th1k4A1_U2\n"
     ]
    },
    {
     "name": "stderr",
     "output_type": "stream",
     "text": [
      "/diskmnt/Projects/Users/estorrs/miniconda3/envs/mushroom/lib/python3.9/site-packages/anndata/_core/anndata.py:1113: FutureWarning: is_categorical_dtype is deprecated and will be removed in a future version. Use isinstance(dtype, CategoricalDtype) instead\n",
      "  if not is_categorical_dtype(df_full[k]):\n"
     ]
    },
    {
     "name": "stdout",
     "output_type": "stream",
     "text": [
      "xenium HT413C1_Th1k4A1_U9\n"
     ]
    },
    {
     "name": "stderr",
     "output_type": "stream",
     "text": [
      "/diskmnt/Projects/Users/estorrs/miniconda3/envs/mushroom/lib/python3.9/site-packages/anndata/_core/anndata.py:1113: FutureWarning: is_categorical_dtype is deprecated and will be removed in a future version. Use isinstance(dtype, CategoricalDtype) instead\n",
      "  if not is_categorical_dtype(df_full[k]):\n"
     ]
    },
    {
     "name": "stdout",
     "output_type": "stream",
     "text": [
      "xenium HT413C1_Th1k4A1_U19\n"
     ]
    },
    {
     "name": "stderr",
     "output_type": "stream",
     "text": [
      "/diskmnt/Projects/Users/estorrs/miniconda3/envs/mushroom/lib/python3.9/site-packages/anndata/_core/anndata.py:1113: FutureWarning: is_categorical_dtype is deprecated and will be removed in a future version. Use isinstance(dtype, CategoricalDtype) instead\n",
      "  if not is_categorical_dtype(df_full[k]):\n"
     ]
    },
    {
     "name": "stdout",
     "output_type": "stream",
     "text": [
      "xenium HT413C1_Th1k4A1_U25\n"
     ]
    },
    {
     "name": "stderr",
     "output_type": "stream",
     "text": [
      "/diskmnt/Projects/Users/estorrs/miniconda3/envs/mushroom/lib/python3.9/site-packages/anndata/_core/anndata.py:1113: FutureWarning: is_categorical_dtype is deprecated and will be removed in a future version. Use isinstance(dtype, CategoricalDtype) instead\n",
      "  if not is_categorical_dtype(df_full[k]):\n"
     ]
    },
    {
     "name": "stdout",
     "output_type": "stream",
     "text": [
      "xenium HT413C1_Th1k4A1_U31\n"
     ]
    },
    {
     "name": "stderr",
     "output_type": "stream",
     "text": [
      "/diskmnt/Projects/Users/estorrs/miniconda3/envs/mushroom/lib/python3.9/site-packages/anndata/_core/anndata.py:1113: FutureWarning: is_categorical_dtype is deprecated and will be removed in a future version. Use isinstance(dtype, CategoricalDtype) instead\n",
      "  if not is_categorical_dtype(df_full[k]):\n"
     ]
    },
    {
     "name": "stdout",
     "output_type": "stream",
     "text": [
      "xenium HT413C1_Th1k4A1_U36\n"
     ]
    },
    {
     "name": "stderr",
     "output_type": "stream",
     "text": [
      "/diskmnt/Projects/Users/estorrs/miniconda3/envs/mushroom/lib/python3.9/site-packages/anndata/_core/anndata.py:1113: FutureWarning: is_categorical_dtype is deprecated and will be removed in a future version. Use isinstance(dtype, CategoricalDtype) instead\n",
      "  if not is_categorical_dtype(df_full[k]):\n"
     ]
    },
    {
     "name": "stdout",
     "output_type": "stream",
     "text": [
      "multiplex HT413C1_Th1k4A1_U26\n",
      "multiplex HT413C1_Th1k4A1_U37\n",
      "multiplex HT413C1_Th1k4A1_U42\n",
      "multiplex HT413C1_Th1k4A1_U3\n",
      "multiplex HT413C1_Th1k4A1_U20\n",
      "multiplex HT413C1_Th1k4A1_U32\n",
      "multiplex HT413C1_Th1k4A1_U41\n",
      "he HT413C1_Th1k4A1_U11\n",
      "he HT413C1_Th1k4A1_U14\n",
      "he HT413C1_Th1k4A1_U18\n",
      "he HT413C1_Th1k4A1_U1\n",
      "he HT413C1_Th1k4A1_U21\n",
      "he HT413C1_Th1k4A1_U24\n",
      "he HT413C1_Th1k4A1_U27\n",
      "he HT413C1_Th1k4A1_U29\n",
      "he HT413C1_Th1k4A1_U30\n",
      "he HT413C1_Th1k4A1_U35\n",
      "he HT413C1_Th1k4A1_U38\n",
      "he HT413C1_Th1k4A1_U40\n",
      "he HT413C1_Th1k4A1_U4\n",
      "he HT413C1_Th1k4A1_U8\n"
     ]
    }
   ],
   "source": [
    "for case, d in data_map.items():\n",
    "    output_dir = os.path.join(reg_dir, case, 'unregistered_tifs')\n",
    "    Path(output_dir).mkdir(parents=True, exist_ok=True)\n",
    "    \n",
    "    order = d['order']\n",
    "    \n",
    "    for dtype, data in d['data'].items():\n",
    "        for sid, filepath in data.items():\n",
    "            print(dtype, sid)\n",
    "            idx = order.index(sid)\n",
    "            if dtype == 'visium':\n",
    "                adata = sq.read.visium(filepath)\n",
    "\n",
    "                d = next(iter(adata.uns['spatial'].values()))\n",
    "                he = d['images']['hires']\n",
    "                sf = scale / d['scalefactors']['tissue_hires_scalef']\n",
    "                he = rescale(he, scale=sf)\n",
    "                \n",
    "                tifffile.imwrite(os.path.join(output_dir, f's{idx}.tif'), he, compression='LZW')\n",
    "                \n",
    "            if dtype == 'multiplex':\n",
    "                channels = get_ome_tiff_channels(filepath)\n",
    "                keep = [c for c in channels if channel_mapping.get(c, c) in cmap]\n",
    "                d = extract_ome_tiff(filepath, channels=keep)\n",
    "                d = {channel_mapping[channel]:np.squeeze(rescale(np.expand_dims(img, -1), scale=scale))\n",
    "                     for channel, img in d.items()}\n",
    "\n",
    "                pseudo = make_pseudo(d, cmap=cmap, contrast_pct=90.)\n",
    "                pseudo /= pseudo.max()\n",
    "                pseudo *= 255\n",
    "                pseudo = pseudo.astype(np.uint8)\n",
    "\n",
    "                tifffile.imwrite(os.path.join(output_dir, f's{idx}.tif'), pseudo, compression='LZW')\n",
    "                \n",
    "            if dtype == 'xenium':\n",
    "                adata = adata_from_xenium(filepath)\n",
    "                \n",
    "                d = next(iter(adata.uns['spatial'].values()))\n",
    "                x = d['images']['hires']\n",
    "                sf = scale / d['scalefactors']['tissue_hires_scalef']\n",
    "                x = rescale(rearrange(x, 'h w -> h w 1'), scale=sf)\n",
    "                x = x.astype(np.float32) / x.max()\n",
    "                x *= 255.\n",
    "                x = x.astype(np.uint8)\n",
    "                \n",
    "                tifffile.imwrite(os.path.join(output_dir, f's{idx}.tif'), x, compression='LZW')\n",
    "                \n",
    "            if dtype == 'he':\n",
    "                x = tifffile.imread(filepath)\n",
    "                x = rescale(x, scale=scale)\n",
    "\n",
    "                tifffile.imwrite(os.path.join(output_dir, f's{idx}.tif'), x, compression='LZW')"
   ]
  },
  {
   "cell_type": "code",
   "execution_count": 108,
   "id": "8371876a",
   "metadata": {},
   "outputs": [],
   "source": [
    "# visium.pixels_per_micron('/diskmnt/Datasets/Spatial_Transcriptomics/outputs_OCT/Human/HT225C1/H1/HT225C1-Th1Fc1U1Z1B1/outs')"
   ]
  },
  {
   "cell_type": "code",
   "execution_count": 109,
   "id": "2e77b57d",
   "metadata": {
    "code_folding": [],
    "scrolled": true
   },
   "outputs": [
    {
     "name": "stderr",
     "output_type": "stream",
     "text": [
      "/diskmnt/Projects/Users/estorrs/miniconda3/envs/mushroom/lib/python3.9/site-packages/anndata/_core/anndata.py:1113: FutureWarning: is_categorical_dtype is deprecated and will be removed in a future version. Use isinstance(dtype, CategoricalDtype) instead\n",
      "  if not is_categorical_dtype(df_full[k]):\n"
     ]
    }
   ],
   "source": [
    "metadata = {}\n",
    "for case, d in data_map.items(): \n",
    "    output_dir = os.path.join(reg_dir, case)\n",
    "    \n",
    "    sample = d['order'][0]\n",
    "    for k, v in d['data'].items():\n",
    "        if sample in v:\n",
    "            if k == 'xenium':\n",
    "                adata = adata_from_xenium(v[sample])\n",
    "                scalefactors = next(iter(adata.uns['spatial'].values()))['scalefactors']\n",
    "                registered_pixels_per_micron = scalefactors['tissue_hires_scalef'] # when read in coords are in microns, so hires_scalef is ppm\n",
    "            elif k == 'multiplex':\n",
    "                registered_pixels_per_micron = multiplex.pixels_per_micron(v[sample])\n",
    "            elif k == 'visium':\n",
    "                registered_pixels_per_micron = visium.pixels_per_micron(v[sample])\n",
    "            elif k == 'he':\n",
    "                # for now will just register to the first xenium image\n",
    "#                 registered_pixels_per_micron = multiplex.pixels_per_micron(next(iter(d['data']['multiplex'].values())))\n",
    "                adata = adata_from_xenium(next(iter(d['data']['xenium'].values())))\n",
    "                scalefactors = next(iter(adata.uns['spatial'].values()))['scalefactors']\n",
    "                registered_pixels_per_micron = scalefactors['tissue_hires_scalef'] # when read in coords are in microns, so hires_scalef is ppm\n",
    "            else:\n",
    "                raise RuntimeError('he not implemented yet')\n",
    "                \n",
    "\n",
    "    d.update({\n",
    "        'ids': [f's{i}' for i in range(len(d['order']))],\n",
    "        'scale': scale,\n",
    "        'registered_pixels_per_micron': registered_pixels_per_micron\n",
    "    })\n",
    "    metadata[case] = d\n"
   ]
  },
  {
   "cell_type": "code",
   "execution_count": 110,
   "id": "03b65ba5",
   "metadata": {},
   "outputs": [],
   "source": [
    "yaml.safe_dump(metadata, open(os.path.join(reg_dir, 'metadata.yaml'), 'w'))"
   ]
  },
  {
   "cell_type": "code",
   "execution_count": 111,
   "id": "b1f170bd",
   "metadata": {},
   "outputs": [
    {
     "data": {
      "text/plain": [
       "'/diskmnt/Projects/Users/estorrs/mushroom/data/projects/htan_talk/registration/metadata.yaml'"
      ]
     },
     "execution_count": 111,
     "metadata": {},
     "output_type": "execute_result"
    }
   ],
   "source": [
    "os.path.join(reg_dir, 'metadata.yaml')"
   ]
  },
  {
   "cell_type": "code",
   "execution_count": 112,
   "id": "e59c0d9b",
   "metadata": {},
   "outputs": [
    {
     "name": "stdout",
     "output_type": "stream",
     "text": [
      "HT413C1_Th1k4A1:\n",
      "  data:\n",
      "    he:\n",
      "      HT413C1_Th1k4A1_U1: /diskmnt/Projects/Users/estorrs/imaging-analysis/data/htan_talk/he/HT413C1/HT413C1-Th1K4A1-U1.ome.tif\n",
      "      HT413C1_Th1k4A1_U11: /diskmnt/Projects/Users/estorrs/imaging-analysis/data/htan_talk/he/HT413C1/HT413C1-Th1K4A1-U11.ome.tif\n",
      "      HT413C1_Th1k4A1_U14: /diskmnt/Projects/Users/estorrs/imaging-analysis/data/htan_talk/he/HT413C1/HT413C1-Th1K4A1-U14.ome.tif\n",
      "      HT413C1_Th1k4A1_U18: /diskmnt/Projects/Users/estorrs/imaging-analysis/data/htan_talk/he/HT413C1/HT413C1-Th1K4A1-U18.ome.tif\n",
      "      HT413C1_Th1k4A1_U21: /diskmnt/Projects/Users/estorrs/imaging-analysis/data/htan_talk/he/HT413C1/HT413C1-Th1K4A1-U21.ome.tif\n",
      "      HT413C1_Th1k4A1_U24: /diskmnt/Projects/Users/estorrs/imaging-analysis/data/htan_talk/he/HT413C1/HT413C1-Th1K4A1-U24.ome.tif\n",
      "      HT413C1_Th1k4A1_U27: /diskmnt/Projects/Users/estorrs/imaging-analysis/data/htan_talk/he/HT413C1/HT413C1-Th1K4A1-U27.ome.tif\n",
      "      HT413C1_Th1k4A1_U29: /diskmnt/Projects/Users/estorrs/imaging-analysis/data/htan_talk/he/HT413C1/HT413C1-Th1K4A1-U29.ome.tif\n",
      "      HT413C1_Th1k4A1_U30: /diskmnt/Projects/Users/estorrs/imaging-analysis/data/htan_talk/he/HT413C1/HT413C1-Th1K4A1-U30.ome.tif\n",
      "      HT413C1_Th1k4A1_U35: /diskmnt/Projects/Users/estorrs/imaging-analysis/data/htan_talk/he/HT413C1/HT413C1-Th1K4A1-U35.ome.tif\n",
      "      HT413C1_Th1k4A1_U38: /diskmnt/Projects/Users/estorrs/imaging-analysis/data/htan_talk/he/HT413C1/HT413C1-Th1K4A1-U38.ome.tif\n",
      "      HT413C1_Th1k4A1_U4: /diskmnt/Projects/Users/estorrs/imaging-analysis/data/htan_talk/he/HT413C1/HT413C1-Th1K4A1-U4.ome.tif\n",
      "      HT413C1_Th1k4A1_U40: /diskmnt/Projects/Users/estorrs/imaging-analysis/data/htan_talk/he/HT413C1/HT413C1-Th1K4A1-U40.ome.tif\n",
      "      HT413C1_Th1k4A1_U8: /diskmnt/Projects/Users/estorrs/imaging-analysis/data/htan_talk/he/HT413C1/HT413C1-Th1K4A1-U8.ome.tif\n",
      "    multiplex:\n",
      "      HT413C1_Th1k4A1_U20: /diskmnt/primary/CODEX/HTAN/20240110_Human_mCRC_Serial_section_HT413C1_Th1k4A1_Slide3/HT413C1_Th1k4A1_U20__20240110.ome.tiff\n",
      "      HT413C1_Th1k4A1_U26: /diskmnt/primary/CODEX/HTAN/20240111_Human_mCRC_serial_sectrion_HT413C1_Th1k4A1_Slide_8/HT413C1_Th1k4A1_U26__20240111.ome.tiff\n",
      "      HT413C1_Th1k4A1_U3: /diskmnt/primary/CODEX/HTAN/20240110_Human_mCRC_Serial_section_HT413C1_Th1k4A1_Slide3/HT413C1_Th1k4A1_U3__20240110.ome.tiff\n",
      "      HT413C1_Th1k4A1_U32: /diskmnt/primary/CODEX/HTAN/20240110_Human_mCRC_Serial_section_HT413C1_Th1k4A1_Slide3/HT413C1_Th1k4A1_U32__20240110.ome.tiff\n",
      "      HT413C1_Th1k4A1_U37: /diskmnt/primary/CODEX/HTAN/20240111_Human_mCRC_serial_sectrion_HT413C1_Th1k4A1_Slide_8/HT413C1_Th1k4A1_U37__20240111.ome.tiff\n",
      "      HT413C1_Th1k4A1_U41: /diskmnt/primary/CODEX/HTAN/20240110_Human_mCRC_Serial_section_HT413C1_Th1k4A1_Slide3/HT413C1_Th1k4A1_U41__20240110.ome.tiff\n",
      "      HT413C1_Th1k4A1_U42: /diskmnt/primary/CODEX/HTAN/20240111_Human_mCRC_serial_sectrion_HT413C1_Th1k4A1_Slide_8/HT413C1_Th1k4A1_U42__20240111.ome.tiff\n",
      "    xenium:\n",
      "      HT413C1_Th1k4A1_U19: /diskmnt/primary/Xenium_primary/data/20240116__200025__24019/output-XETG00122__0010369__HT413C1-Th1K4A1Us1_19__20240116__200059\n",
      "      HT413C1_Th1k4A1_U2: /diskmnt/primary/Xenium_primary/data/20240116__200025__24019/output-XETG00122__0010369__HT413C1-Th1K4A1Us1_2__20240116__200059\n",
      "      HT413C1_Th1k4A1_U25: /diskmnt/primary/Xenium_primary/data/20240116__200025__24019/output-XETG00122__0010378__HT413C1-Th1K4A1Us1_25__20240116__200059\n",
      "      HT413C1_Th1k4A1_U31: /diskmnt/primary/Xenium_primary/data/20240116__200025__24019/output-XETG00122__0010369__HT413C1-Th1K4A1Us1_31__20240116__200059\n",
      "      HT413C1_Th1k4A1_U36: /diskmnt/primary/Xenium_primary/data/20240116__200025__24019/output-XETG00122__0010378__HT413C1-Th1K4A1Us1_36__20240116__200059\n",
      "      HT413C1_Th1k4A1_U9: /diskmnt/primary/Xenium_primary/data/20240116__200025__24019/output-XETG00122__0010378__HT413C1-Th1K4A1Us1_9__20240116__200059\n",
      "  ids:\n",
      "  - s0\n",
      "  - s1\n",
      "  - s2\n",
      "  - s3\n",
      "  - s4\n",
      "  - s5\n",
      "  - s6\n",
      "  - s7\n",
      "  - s8\n",
      "  - s9\n",
      "  - s10\n",
      "  - s11\n",
      "  - s12\n",
      "  - s13\n",
      "  - s14\n",
      "  - s15\n",
      "  - s16\n",
      "  - s17\n",
      "  - s18\n",
      "  - s19\n",
      "  - s20\n",
      "  - s21\n",
      "  - s22\n",
      "  - s23\n",
      "  - s24\n",
      "  - s25\n",
      "  - s26\n",
      "  order:\n",
      "  - HT413C1_Th1k4A1_U14\n",
      "  - HT413C1_Th1k4A1_U18\n",
      "  - HT413C1_Th1k4A1_U19\n",
      "  - HT413C1_Th1k4A1_U20\n",
      "  - HT413C1_Th1k4A1_U1\n",
      "  - HT413C1_Th1k4A1_U2\n",
      "  - HT413C1_Th1k4A1_U3\n",
      "  - HT413C1_Th1k4A1_U4\n",
      "  - HT413C1_Th1k4A1_U8\n",
      "  - HT413C1_Th1k4A1_U9\n",
      "  - HT413C1_Th1k4A1_U11\n",
      "  - HT413C1_Th1k4A1_U21\n",
      "  - HT413C1_Th1k4A1_U24\n",
      "  - HT413C1_Th1k4A1_U25\n",
      "  - HT413C1_Th1k4A1_U26\n",
      "  - HT413C1_Th1k4A1_U27\n",
      "  - HT413C1_Th1k4A1_U29\n",
      "  - HT413C1_Th1k4A1_U30\n",
      "  - HT413C1_Th1k4A1_U31\n",
      "  - HT413C1_Th1k4A1_U32\n",
      "  - HT413C1_Th1k4A1_U35\n",
      "  - HT413C1_Th1k4A1_U36\n",
      "  - HT413C1_Th1k4A1_U37\n",
      "  - HT413C1_Th1k4A1_U38\n",
      "  - HT413C1_Th1k4A1_U40\n",
      "  - HT413C1_Th1k4A1_U41\n",
      "  - HT413C1_Th1k4A1_U42\n",
      "  registered_pixels_per_micron: 0.4705882352941177\n",
      "  scale: 0.2\n"
     ]
    }
   ],
   "source": [
    "import sys\n",
    "yaml.safe_dump(metadata, sys.stdout)"
   ]
  },
  {
   "cell_type": "code",
   "execution_count": null,
   "id": "e0c8b6b7",
   "metadata": {},
   "outputs": [],
   "source": []
  },
  {
   "cell_type": "code",
   "execution_count": null,
   "id": "17799ce0",
   "metadata": {},
   "outputs": [],
   "source": []
  }
 ],
 "metadata": {
  "kernelspec": {
   "display_name": "Python 3 (ipykernel)",
   "language": "python",
   "name": "python3"
  },
  "language_info": {
   "codemirror_mode": {
    "name": "ipython",
    "version": 3
   },
   "file_extension": ".py",
   "mimetype": "text/x-python",
   "name": "python",
   "nbconvert_exporter": "python",
   "pygments_lexer": "ipython3",
   "version": "3.9.18"
  }
 },
 "nbformat": 4,
 "nbformat_minor": 5
}
