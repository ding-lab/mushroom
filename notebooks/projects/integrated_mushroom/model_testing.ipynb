{
 "cells": [
  {
   "cell_type": "code",
   "execution_count": 1,
   "id": "326e1f18",
   "metadata": {},
   "outputs": [],
   "source": [
    "# import logging\n",
    "import os\n",
    "import re\n",
    "from pathlib import Path\n",
    "from collections import Counter\n",
    "\n",
    "import matplotlib.pyplot as plt\n",
    "import numpy as np\n",
    "import pandas as pd\n",
    "import scanpy as sc\n",
    "import seaborn as sns\n",
    "import torch\n",
    "import yaml\n",
    "from einops import rearrange"
   ]
  },
  {
   "cell_type": "code",
   "execution_count": 2,
   "id": "aaa35bee",
   "metadata": {},
   "outputs": [],
   "source": [
    "%load_ext autoreload"
   ]
  },
  {
   "cell_type": "code",
   "execution_count": 3,
   "id": "aaa0e8a2",
   "metadata": {},
   "outputs": [],
   "source": [
    "%autoreload 2"
   ]
  },
  {
   "cell_type": "code",
   "execution_count": 4,
   "id": "3c4f7359",
   "metadata": {},
   "outputs": [
    {
     "name": "stderr",
     "output_type": "stream",
     "text": [
      "/data/estorrs/miniconda3/envs/mushroom/lib/python3.9/site-packages/geopandas/_compat.py:124: UserWarning: The Shapely GEOS version (3.11.1-CAPI-1.17.1) is incompatible with the GEOS version PyGEOS was compiled with (3.10.4-CAPI-1.16.2). Conversions between both will be slow.\n",
      "  warnings.warn(\n",
      "/data/estorrs/miniconda3/envs/mushroom/lib/python3.9/site-packages/spatialdata/__init__.py:9: UserWarning: Geopandas was set to use PyGEOS, changing to shapely 2.0 with:\n",
      "\n",
      "\tgeopandas.options.use_pygeos = True\n",
      "\n",
      "If you intended to use PyGEOS, set the option to False.\n",
      "  _check_geopandas_using_shapely()\n"
     ]
    }
   ],
   "source": [
    "from mushroom.mushroom import Mushroom\n",
    "import mushroom.data.xenium as xenium\n",
    "import mushroom.data.visium as visium\n",
    "import mushroom.utils as utils\n",
    "import mushroom.visualization.utils as vis_utils"
   ]
  },
  {
   "cell_type": "code",
   "execution_count": 5,
   "id": "247b4bb0",
   "metadata": {},
   "outputs": [
    {
     "data": {
      "text/plain": [
       "['/data/estorrs/mushroom/data/projects/xenium_grant/mushroom/HT206B1/config.yaml',\n",
       " '/data/estorrs/mushroom/data/projects/xenium_grant/mushroom/S18-25943/config.yaml',\n",
       " '/data/estorrs/mushroom/data/projects/xenium_grant/mushroom/S18-9906/config.yaml']"
      ]
     },
     "execution_count": 5,
     "metadata": {},
     "output_type": "execute_result"
    }
   ],
   "source": [
    "run_dir = '/data/estorrs/mushroom/data/projects/xenium_grant'\n",
    "mushroom_dir = os.path.join(run_dir, 'mushroom')\n",
    "config_fps = sorted(utils.listfiles(mushroom_dir, regex=r'/config.yaml'))\n",
    "config_fps"
   ]
  },
  {
   "cell_type": "code",
   "execution_count": 6,
   "id": "fd1c69ad",
   "metadata": {
    "code_folding": [
     2
    ]
   },
   "outputs": [],
   "source": [
    "# only relavent for dinglab data since our channel names are all over the place\n",
    "# will remove for official example\n",
    "official_to_options = {\n",
    "    'Pan-Cytokeratin': ['Pan-Cytokeratin', 'Pan-CK', 'Pan-CK (D)', 'PanCK (D)'],\n",
    "    'E-cadherin': ['E-cadherin'],\n",
    "    'CD45': ['CD45 (D)', 'CD45', 'CD45-(D)', 'CD45(D)'],\n",
    "    'CD45RO': ['CD45RO'],\n",
    "    'CD45RA': ['CD45RA'],\n",
    "    'CD8': ['CD8', 'CD8a'],\n",
    "    'DAPI': ['DAPI'],\n",
    "    'CD4': ['CD4', 'CD4 (D)'],\n",
    "    'CD3e': ['CD3e', 'CD3'],\n",
    "    'Vimentin': ['Vimentin-(D)', 'Vimentin', 'Vimentin (D)'],\n",
    "    'SMA': ['SMA-(D)', 'SMA', 'SMA (D)', 'a-SMA (D)'],\n",
    "    'CD31': ['CD31', 'CD31-(D)', 'CD31 (D)'],\n",
    "    'CD20': ['CD20-(D)', 'CD20', 'CD20 (D)', 'CD20-Akoya'],\n",
    "    'CD68': ['CD68', 'CD68 (D)', 'CD68-(D)'],\n",
    "    'CD163': ['CD163'],\n",
    "    'FOXP3': ['FoxP3', 'FOXP3', 'Foxp3'],\n",
    "    'cKit': ['cKIT (D)', 'cKit (D)', 'cKit', 'cKIT', 'cKIT-(D)'],\n",
    "    'MGP': ['MGP', 'MGP (D)', 'MGP-(D)'],\n",
    "    'CD36': ['CD36-(D)', 'CD36'],\n",
    "    'PR': ['PR', 'PR-(D)', 'PR (D)'],\n",
    "    'ER': ['ER', 'ER-(D)', 'ER (D)'],\n",
    "    'P21': ['P21', 'P21-(D)', 'P21-(D)', 'P21 (D)'],\n",
    "    'P16': ['P16-(D)'],\n",
    "    'CK5': ['Keratin 5', 'KRT5'],\n",
    "    'TFF1': ['TFF1', 'TFF1-(D)', 'TFF1 (D)'],\n",
    "    'beta-integrin': ['beta-integrin', 'beta3-integrin'],\n",
    "    'CK14': ['CK14', 'Keratin 14', 'CK14 (D)'],\n",
    "    'CK17': ['CK17', 'CK17 (D)', 'CK17-(D)', 'Keratin 17'],\n",
    "    'CK19': ['CK19', 'CK19 (D)', 'CK19-(D)'],\n",
    "    'CD11b': ['CD11b', 'CD11b (D)', 'CD11b-(D)'],\n",
    "    'GATA3': ['GATA3', 'GATA3-(D)', 'GATA3 (D)'],\n",
    "    'PLAT/tPA': ['PLAT/tPA', 'PLAT/tPA (D)'],\n",
    "    'COX6c': ['COX6c (D)'],\n",
    "    'Her2': ['Her2', 'Her2 (D)'],\n",
    "    'Bap1': ['Bap1 (D)'],\n",
    "    'GLUT1': ['Glut1', 'GLUT1', 'GLUT1-(D)', 'GLUT1 (D)'],\n",
    "    'CD11c': ['CD11c'],\n",
    "    'HLA-DR': ['HLA-DR'],\n",
    "    'Ki67': ['Ki67', 'KI67'],\n",
    "    'Podoplanin': ['Podoplanin', 'PDPN', 'Podoplanin (D)'],\n",
    "    'CTLA4': ['CTLA4', 'CTLA4 (D)', 'CTLA4-(D)'],\n",
    "    'SLC39A6': ['SLC39A6'],\n",
    "    'BCA1': ['BCA1'],\n",
    "    'BCAL': ['BCAL'],\n",
    "    'TUBB3': ['TUBB3', 'TUBB3 (D)'],\n",
    "    'PTPRZ1': ['PTPRZ1', 'PTPRZ1 (D)'],\n",
    "    'HIF1A': ['HIF1a', 'HIF1a (D)', 'HIF1A'],\n",
    "    'PAI1': ['PAI1', 'PAI1-(D)'],\n",
    "    'GFAP': ['GFAP', 'GFAP (D)'],\n",
    "    'VEGFA': ['VEGFA', 'VEGFA (D)'],\n",
    "    'IBA1': ['IBA1', 'IBA1 (D)'],\n",
    "    'OLIG2': ['OLIG2', 'OLIG2 (D)'],\n",
    "    'FN1': ['FN1', 'FN1 (D)'],\n",
    "    'a-Amylase': ['a-Amylase'],\n",
    "    'Hep-Par-1': ['Hep-Par-1 (D)'],\n",
    "    'Granzyme-B': ['Granzyme B'],\n",
    "    'TCF-1': ['TCF-1'],\n",
    "    'CD39': ['CD39'],\n",
    "    'PD1': ['PD-1'],\n",
    "    'PDL1': ['PD-L1'],\n",
    "    'Histone-H3-Pho': ['Histone H3 Pho'],\n",
    "    'Maspin': ['Maspin'],\n",
    "    'MMP9': ['MMP9'],\n",
    "    'CD44': ['CD44'],\n",
    "    'CD107A': ['CD107a'],\n",
    "    'FGFR3': ['FGFR3'],\n",
    "    'CD138': ['CD138'],\n",
    "    'MLPH': ['MLPH'],\n",
    "    'P63': ['P63'],\n",
    "    'GP2': ['GP2'],\n",
    "    'COX2': ['COX2'],\n",
    "    'Lyve-1': ['Lyve-1'],\n",
    "}\n",
    "channel_mapping = {v:k for k, vs in official_to_options.items() for v in vs}\n",
    "# channel_mapping = None"
   ]
  },
  {
   "cell_type": "code",
   "execution_count": 7,
   "id": "99be6e1a",
   "metadata": {},
   "outputs": [],
   "source": [
    "mushroom_config = {\n",
    "    'dtype': 'multiplex',\n",
    "#     'sections': config,\n",
    "    'sae_kwargs': {\n",
    "        'size': 256,\n",
    "        'patch_size': 32,\n",
    "        'encoder_dim': 256,\n",
    "        'kl_scaler': 0.,\n",
    "        'recon_scaler': 1.,\n",
    "        'neigh_scaler': .0,\n",
    "        'codebook_size': 30,\n",
    "        'decoder_dims': (256, 50, 50,)\n",
    "    },\n",
    "    'trainer_kwargs': {\n",
    "        'scale': .5,\n",
    "        'contrast_pct': None,\n",
    "        'pct_expression': .02,\n",
    "        'batch_size': 64,\n",
    "        'num_workers': 1,\n",
    "        'devices': 1,\n",
    "        'accelerator': 'gpu',\n",
    "        'enable_checkpointing': True,\n",
    "        'max_epochs': 5,\n",
    "        'steps_per_epoch': 10,\n",
    "        'channels': None,\n",
    "        'channel_mapping': channel_mapping,\n",
    "        'lr': 1e-4,\n",
    "        'save_every': 2,\n",
    "        'save_dir': './',\n",
    "        'log_dir': './'\n",
    "    },\n",
    "}"
   ]
  },
  {
   "cell_type": "code",
   "execution_count": 8,
   "id": "a81c9b38",
   "metadata": {},
   "outputs": [],
   "source": [
    "config_fp = '/data/estorrs/mushroom/data/projects/xenium_grant/mushroom/S18-9906/config.yaml'\n",
    "\n",
    "case = config_fp.split('/')[-2]\n",
    "out_dir = os.path.join(f'/data/estorrs/mushroom/data/projects/testing/mushroom/{case}_v1/outputs')\n",
    "save_dir = os.path.join(out_dir, 'chkpts')\n",
    "log_dir = os.path.join(out_dir, 'logs')\n",
    "\n",
    "config = yaml.safe_load(open(config_fp))"
   ]
  },
  {
   "cell_type": "code",
   "execution_count": 9,
   "id": "2b90bd7c",
   "metadata": {},
   "outputs": [],
   "source": [
    "mushroom_config['sections'] = config\n",
    "mushroom_config['trainer_kwargs']['save_dir'] = save_dir\n",
    "mushroom_config['trainer_kwargs']['log_dir'] = log_dir"
   ]
  },
  {
   "cell_type": "code",
   "execution_count": 54,
   "id": "06eb296a",
   "metadata": {},
   "outputs": [],
   "source": [
    "yaml.safe_dump(\n",
    "    mushroom_config,\n",
    "    open(os.path.join(mushroom_config['trainer_kwargs']['save_dir'], 'mushroom_config.yaml'), 'w')\n",
    ")"
   ]
  },
  {
   "cell_type": "code",
   "execution_count": 52,
   "id": "b653b974",
   "metadata": {},
   "outputs": [
    {
     "name": "stderr",
     "output_type": "stream",
     "text": [
      "INFO:root:generating inputs for multiplex tissue sections\n",
      "INFO:root:using 24 channels\n",
      "INFO:root:4 sections detected: ['s1', 's3', 's5', 's7']\n",
      "INFO:root:processing sections\n",
      "INFO:root:generating image data for section s1\n",
      "INFO:root:generating image data for section s3\n",
      "INFO:root:generating image data for section s5\n",
      "INFO:root:generating image data for section s7\n",
      "INFO:root:generating training dataset\n",
      "INFO:root:generating inference dataset\n",
      "INFO:root:creating data loaders\n",
      "INFO:root:creating ViT\n",
      "INFO:root:model initialized\n",
      "GPU available: True (cuda), used: True\n",
      "TPU available: False, using: 0 TPU cores\n",
      "IPU available: False, using: 0 IPUs\n",
      "HPU available: False, using: 0 HPUs\n"
     ]
    },
    {
     "name": "stdout",
     "output_type": "stream",
     "text": [
      "640\n"
     ]
    }
   ],
   "source": [
    "mushroom = Mushroom.from_config(mushroom_config)"
   ]
  },
  {
   "cell_type": "code",
   "execution_count": 53,
   "id": "149acb1e",
   "metadata": {
    "scrolled": true
   },
   "outputs": [
    {
     "name": "stderr",
     "output_type": "stream",
     "text": [
      "LOCAL_RANK: 0 - CUDA_VISIBLE_DEVICES: [0,1,2,3]\n",
      "\n",
      "  | Name | Type | Params\n",
      "------------------------------\n",
      "0 | sae  | SAE  | 16.3 M\n",
      "------------------------------\n",
      "16.3 M    Trainable params\n",
      "0         Non-trainable params\n",
      "16.3 M    Total params\n",
      "65.220    Total estimated model params size (MB)\n",
      "/data/estorrs/miniconda3/envs/mushroom/lib/python3.9/site-packages/lightning/pytorch/trainer/connectors/data_connector.py:441: The 'train_dataloader' does not have many workers which may be a bottleneck. Consider increasing the value of the `num_workers` argument` to `num_workers=63` in the `DataLoader` to improve performance.\n"
     ]
    },
    {
     "data": {
      "application/vnd.jupyter.widget-view+json": {
       "model_id": "904e3c1317b8445db0ccf0dca6e38afc",
       "version_major": 2,
       "version_minor": 0
      },
      "text/plain": [
       "Training: |                                                                                                   …"
      ]
     },
     "metadata": {},
     "output_type": "display_data"
    },
    {
     "name": "stderr",
     "output_type": "stream",
     "text": [
      "`Trainer.fit` stopped: `max_epochs=5` reached.\n"
     ]
    }
   ],
   "source": [
    "mushroom.train()"
   ]
  },
  {
   "cell_type": "code",
   "execution_count": 57,
   "id": "4a7d6630",
   "metadata": {},
   "outputs": [
    {
     "data": {
      "text/plain": [
       "'/data/estorrs/mushroom/data/projects/testing/mushroom/S18-9906_v1/outputs/chkpts/mushroom_config.yaml'"
      ]
     },
     "execution_count": 57,
     "metadata": {},
     "output_type": "execute_result"
    }
   ],
   "source": [
    "os.path.join(mushroom_config['trainer_kwargs']['save_dir'], 'mushroom_config.yaml')"
   ]
  },
  {
   "cell_type": "code",
   "execution_count": 10,
   "id": "973ee9f4",
   "metadata": {},
   "outputs": [
    {
     "name": "stderr",
     "output_type": "stream",
     "text": [
      "INFO:root:generating inputs for multiplex tissue sections\n",
      "INFO:root:using 24 channels\n",
      "INFO:root:4 sections detected: ['s1', 's3', 's5', 's7']\n",
      "INFO:root:processing sections\n",
      "INFO:root:generating image data for section s1\n",
      "INFO:root:generating image data for section s3\n",
      "INFO:root:generating image data for section s5\n",
      "INFO:root:generating image data for section s7\n",
      "INFO:root:generating training dataset\n",
      "INFO:root:generating inference dataset\n",
      "INFO:root:creating data loaders\n",
      "INFO:root:creating ViT\n",
      "INFO:root:model initialized\n"
     ]
    },
    {
     "name": "stdout",
     "output_type": "stream",
     "text": [
      "640\n"
     ]
    },
    {
     "name": "stderr",
     "output_type": "stream",
     "text": [
      "GPU available: True (cuda), used: False\n",
      "TPU available: False, using: 0 TPU cores\n",
      "IPU available: False, using: 0 IPUs\n",
      "HPU available: False, using: 0 HPUs\n",
      "/data/estorrs/miniconda3/envs/mushroom/lib/python3.9/site-packages/lightning/pytorch/trainer/setup.py:187: GPU available but not used. You can set it by doing `Trainer(accelerator='gpu')`.\n",
      "INFO:root:loading checkpoint: /data/estorrs/mushroom/data/projects/testing/mushroom/S18-9906_v1/outputs/chkpts/epoch=4-step=50.ckpt\n"
     ]
    }
   ],
   "source": [
    "new = Mushroom.from_config(\n",
    "    '/data/estorrs/mushroom/data/projects/testing/mushroom/S18-9906_v1/outputs/chkpts/mushroom_config.yaml',\n",
    "    chkpt_filepath='/data/estorrs/mushroom/data/projects/testing/mushroom/S18-9906_v1/outputs/chkpts/epoch=4-step=50.ckpt',\n",
    "    accelerator='cpu'\n",
    ")\n"
   ]
  },
  {
   "cell_type": "code",
   "execution_count": null,
   "id": "53586df8",
   "metadata": {},
   "outputs": [],
   "source": []
  },
  {
   "cell_type": "code",
   "execution_count": null,
   "id": "47f4a8b9",
   "metadata": {},
   "outputs": [],
   "source": []
  },
  {
   "cell_type": "code",
   "execution_count": null,
   "id": "1332e743",
   "metadata": {},
   "outputs": [],
   "source": [
    "new.model.predict_dataloader()"
   ]
  },
  {
   "cell_type": "code",
   "execution_count": null,
   "id": "12cfd9d7",
   "metadata": {},
   "outputs": [],
   "source": []
  },
  {
   "cell_type": "code",
   "execution_count": null,
   "id": "ff33249f",
   "metadata": {},
   "outputs": [],
   "source": []
  },
  {
   "cell_type": "code",
   "execution_count": null,
   "id": "1eef4034",
   "metadata": {},
   "outputs": [],
   "source": []
  },
  {
   "cell_type": "code",
   "execution_count": null,
   "id": "da797746",
   "metadata": {},
   "outputs": [],
   "source": []
  }
 ],
 "metadata": {
  "kernelspec": {
   "display_name": "Python 3 (ipykernel)",
   "language": "python",
   "name": "python3"
  },
  "language_info": {
   "codemirror_mode": {
    "name": "ipython",
    "version": 3
   },
   "file_extension": ".py",
   "mimetype": "text/x-python",
   "name": "python",
   "nbconvert_exporter": "python",
   "pygments_lexer": "ipython3",
   "version": "3.9.18"
  }
 },
 "nbformat": 4,
 "nbformat_minor": 5
}
