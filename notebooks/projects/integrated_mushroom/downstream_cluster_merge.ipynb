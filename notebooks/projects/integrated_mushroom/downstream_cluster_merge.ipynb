{
 "cells": [
  {
   "cell_type": "code",
   "execution_count": 1,
   "id": "e271add9",
   "metadata": {},
   "outputs": [],
   "source": [
    "import os\n",
    "\n",
    "import numpy as np\n",
    "import pandas as pd\n",
    "import torch\n",
    "import torch.nn.functional as TF"
   ]
  },
  {
   "cell_type": "code",
   "execution_count": 2,
   "id": "a7f2c0b7",
   "metadata": {},
   "outputs": [],
   "source": [
    "%load_ext autoreload"
   ]
  },
  {
   "cell_type": "code",
   "execution_count": 3,
   "id": "a35431cb",
   "metadata": {},
   "outputs": [],
   "source": [
    "%autoreload 2"
   ]
  },
  {
   "cell_type": "code",
   "execution_count": 7,
   "id": "4aaf19be",
   "metadata": {},
   "outputs": [
    {
     "name": "stderr",
     "output_type": "stream",
     "text": [
      "/data/estorrs/miniconda3/envs/mushroom/lib/python3.9/site-packages/geopandas/_compat.py:124: UserWarning: The Shapely GEOS version (3.11.1-CAPI-1.17.1) is incompatible with the GEOS version PyGEOS was compiled with (3.10.4-CAPI-1.16.2). Conversions between both will be slow.\n",
      "  warnings.warn(\n",
      "/data/estorrs/miniconda3/envs/mushroom/lib/python3.9/site-packages/spatialdata/__init__.py:9: UserWarning: Geopandas was set to use PyGEOS, changing to shapely 2.0 with:\n",
      "\n",
      "\tgeopandas.options.use_pygeos = True\n",
      "\n",
      "If you intended to use PyGEOS, set the option to False.\n",
      "  _check_geopandas_using_shapely()\n"
     ]
    }
   ],
   "source": [
    "# mushroom\n",
    "from mushroom.mushroom import Mushroom\n",
    "import mushroom.data.xenium as xenium\n",
    "import mushroom.data.visium as visium\n",
    "import mushroom.utils as utils\n",
    "import mushroom.visualization.utils as vis_utils"
   ]
  },
  {
   "cell_type": "code",
   "execution_count": 9,
   "id": "cd764190",
   "metadata": {},
   "outputs": [],
   "source": [
    "dtype_to_chkpt = {\n",
    "    'xenium': '/data/estorrs/mushroom/data/projects/htan_talk/mushroom/xenium_HT413C1_Th1k4A1_v1/outputs/chkpts/last-v1.ckpt',\n",
    "    'he': '/data/estorrs/mushroom/data/projects/htan_talk/mushroom/he_HT413C1_Th1k4A1_v1/outputs/chkpts/last.ckpt',\n",
    "    'multiplex': '/data/estorrs/mushroom/data/projects/htan_talk/mushroom/multiplex_HT413C1_Th1k4A1_v1/outputs/chkpts/last.ckpt'\n",
    "}\n",
    "dtype_to_config = {\n",
    "    'xenium': '/data/estorrs/mushroom/data/projects/htan_talk/mushroom/xenium_HT413C1_Th1k4A1_v1/outputs/chkpts/mushroom_config.yaml',\n",
    "    'he': '/data/estorrs/mushroom/data/projects/htan_talk/mushroom/he_HT413C1_Th1k4A1_v1/outputs/chkpts/mushroom_config.yaml',\n",
    "    'multiplex': '/data/estorrs/mushroom/data/projects/htan_talk/mushroom/multiplex_HT413C1_Th1k4A1_v1/outputs/chkpts/mushroom_config.yaml',\n",
    "}"
   ]
  },
  {
   "cell_type": "code",
   "execution_count": 10,
   "id": "0252e234",
   "metadata": {},
   "outputs": [
    {
     "name": "stderr",
     "output_type": "stream",
     "text": [
      "INFO:root:starting xenium processing\n",
      "INFO:root:using 477 channels\n",
      "INFO:root:5 sections detected: ['s2', 's5', 's9', 's13', 's21']\n",
      "INFO:root:processing sections\n",
      "INFO:root:generating image data for section s2\n",
      "INFO:root:generating image data for section s5\n",
      "INFO:root:generating image data for section s9\n",
      "INFO:root:generating image data for section s13\n",
      "INFO:root:generating image data for section s21\n",
      "INFO:root:generating training dataset\n",
      "INFO:root:generating inference dataset\n",
      "INFO:root:total of 5 sections detected: [('s2', 'xenium'), ('s5', 'xenium'), ('s9', 'xenium'), ('s13', 'xenium'), ('s21', 'xenium')]\n",
      "INFO:root:creating data loaders\n",
      "INFO:root:creating ViT\n",
      "INFO:root:model initialized\n",
      "\u001b[34m\u001b[1mwandb\u001b[0m: Currently logged in as: \u001b[33mestorrs\u001b[0m (\u001b[33mtme-st\u001b[0m). Use \u001b[1m`wandb login --relogin`\u001b[0m to force relogin\n"
     ]
    },
    {
     "data": {
      "application/vnd.jupyter.widget-view+json": {
       "model_id": "c147b1210cb440efa13bdd19a199ae42",
       "version_major": 2,
       "version_minor": 0
      },
      "text/plain": [
       "VBox(children=(Label(value='Waiting for wandb.init()...\\r'), FloatProgress(value=0.01111342708269755, max=1.0)…"
      ]
     },
     "metadata": {},
     "output_type": "display_data"
    },
    {
     "data": {
      "text/html": [
       "wandb version 0.16.2 is available!  To upgrade, please run:\n",
       " $ pip install wandb --upgrade"
      ],
      "text/plain": [
       "<IPython.core.display.HTML object>"
      ]
     },
     "metadata": {},
     "output_type": "display_data"
    },
    {
     "data": {
      "text/html": [
       "Tracking run with wandb version 0.15.10"
      ],
      "text/plain": [
       "<IPython.core.display.HTML object>"
      ]
     },
     "metadata": {},
     "output_type": "display_data"
    },
    {
     "data": {
      "text/html": [
       "Run data is saved locally in <code>/data/estorrs/mushroom/data/projects/htan_talk/mushroom/xenium_HT413C1_Th1k4A1_v1/outputs/logs/wandb/run-20240124_140658-zgqy161c</code>"
      ],
      "text/plain": [
       "<IPython.core.display.HTML object>"
      ]
     },
     "metadata": {},
     "output_type": "display_data"
    },
    {
     "data": {
      "text/html": [
       "Syncing run <strong><a href='https://wandb.ai/tme-st/model_testing_xenium_HT413C1_Th1k4A1/runs/zgqy161c' target=\"_blank\">chocolate-armadillo-4</a></strong> to <a href='https://wandb.ai/tme-st/model_testing_xenium_HT413C1_Th1k4A1' target=\"_blank\">Weights & Biases</a> (<a href='https://wandb.me/run' target=\"_blank\">docs</a>)<br/>"
      ],
      "text/plain": [
       "<IPython.core.display.HTML object>"
      ]
     },
     "metadata": {},
     "output_type": "display_data"
    },
    {
     "data": {
      "text/html": [
       " View project at <a href='https://wandb.ai/tme-st/model_testing_xenium_HT413C1_Th1k4A1' target=\"_blank\">https://wandb.ai/tme-st/model_testing_xenium_HT413C1_Th1k4A1</a>"
      ],
      "text/plain": [
       "<IPython.core.display.HTML object>"
      ]
     },
     "metadata": {},
     "output_type": "display_data"
    },
    {
     "data": {
      "text/html": [
       " View run at <a href='https://wandb.ai/tme-st/model_testing_xenium_HT413C1_Th1k4A1/runs/zgqy161c' target=\"_blank\">https://wandb.ai/tme-st/model_testing_xenium_HT413C1_Th1k4A1/runs/zgqy161c</a>"
      ],
      "text/plain": [
       "<IPython.core.display.HTML object>"
      ]
     },
     "metadata": {},
     "output_type": "display_data"
    },
    {
     "name": "stderr",
     "output_type": "stream",
     "text": [
      "GPU available: True (cuda), used: False\n",
      "TPU available: False, using: 0 TPU cores\n",
      "IPU available: False, using: 0 IPUs\n",
      "HPU available: False, using: 0 HPUs\n",
      "/data/estorrs/miniconda3/envs/mushroom/lib/python3.9/site-packages/lightning/pytorch/trainer/setup.py:187: GPU available but not used. You can set it by doing `Trainer(accelerator='gpu')`.\n",
      "INFO:root:loading checkpoint: /data/estorrs/mushroom/data/projects/htan_talk/mushroom/xenium_HT413C1_Th1k4A1_v1/outputs/chkpts/last-v1.ckpt\n"
     ]
    },
    {
     "ename": "RuntimeError",
     "evalue": "Error(s) in loading state_dict for LitMushroom:\n\tMissing key(s) in state_dict: \"sae.codes_to_integrated_logits.0.0.weight\", \"sae.codes_to_integrated_logits.0.0.bias\", \"sae.codes_to_integrated_logits.0.2.weight\", \"sae.codes_to_integrated_logits.0.2.bias\", \"sae.codes_to_integrated_logits.1.0.weight\", \"sae.codes_to_integrated_logits.1.0.bias\", \"sae.codes_to_integrated_logits.1.2.weight\", \"sae.codes_to_integrated_logits.1.2.bias\", \"sae.codes_to_integrated_logits.2.0.weight\", \"sae.codes_to_integrated_logits.2.0.bias\", \"sae.codes_to_integrated_logits.2.2.weight\", \"sae.codes_to_integrated_logits.2.2.bias\", \"sae.integrated_codebooks.0\", \"sae.integrated_codebooks.1\", \"sae.integrated_codebooks.2\". ",
     "output_type": "error",
     "traceback": [
      "\u001b[0;31m---------------------------------------------------------------------------\u001b[0m",
      "\u001b[0;31mRuntimeError\u001b[0m                              Traceback (most recent call last)",
      "Cell \u001b[0;32mIn[10], line 1\u001b[0m\n\u001b[0;32m----> 1\u001b[0m dtype_to_mushroom \u001b[38;5;241m=\u001b[39m {k:Mushroom\u001b[38;5;241m.\u001b[39mfrom_config(\n\u001b[1;32m      2\u001b[0m     dtype_to_config[k],\n\u001b[1;32m      3\u001b[0m     chkpt_filepath\u001b[38;5;241m=\u001b[39mdtype_to_chkpt[k],\n\u001b[1;32m      4\u001b[0m     accelerator\u001b[38;5;241m=\u001b[39m\u001b[38;5;124m'\u001b[39m\u001b[38;5;124mcpu\u001b[39m\u001b[38;5;124m'\u001b[39m\n\u001b[1;32m      5\u001b[0m ) \u001b[38;5;28;01mfor\u001b[39;00m k \u001b[38;5;129;01min\u001b[39;00m dtype_to_chkpt\u001b[38;5;241m.\u001b[39mkeys()}\n",
      "Cell \u001b[0;32mIn[10], line 1\u001b[0m, in \u001b[0;36m<dictcomp>\u001b[0;34m(.0)\u001b[0m\n\u001b[0;32m----> 1\u001b[0m dtype_to_mushroom \u001b[38;5;241m=\u001b[39m {k:\u001b[43mMushroom\u001b[49m\u001b[38;5;241;43m.\u001b[39;49m\u001b[43mfrom_config\u001b[49m\u001b[43m(\u001b[49m\n\u001b[1;32m      2\u001b[0m \u001b[43m    \u001b[49m\u001b[43mdtype_to_config\u001b[49m\u001b[43m[\u001b[49m\u001b[43mk\u001b[49m\u001b[43m]\u001b[49m\u001b[43m,\u001b[49m\n\u001b[1;32m      3\u001b[0m \u001b[43m    \u001b[49m\u001b[43mchkpt_filepath\u001b[49m\u001b[38;5;241;43m=\u001b[39;49m\u001b[43mdtype_to_chkpt\u001b[49m\u001b[43m[\u001b[49m\u001b[43mk\u001b[49m\u001b[43m]\u001b[49m\u001b[43m,\u001b[49m\n\u001b[1;32m      4\u001b[0m \u001b[43m    \u001b[49m\u001b[43maccelerator\u001b[49m\u001b[38;5;241;43m=\u001b[39;49m\u001b[38;5;124;43m'\u001b[39;49m\u001b[38;5;124;43mcpu\u001b[39;49m\u001b[38;5;124;43m'\u001b[39;49m\n\u001b[1;32m      5\u001b[0m \u001b[43m)\u001b[49m \u001b[38;5;28;01mfor\u001b[39;00m k \u001b[38;5;129;01min\u001b[39;00m dtype_to_chkpt\u001b[38;5;241m.\u001b[39mkeys()}\n",
      "File \u001b[0;32m/data/estorrs/mushroom/mushroom/mushroom.py:137\u001b[0m, in \u001b[0;36mMushroom.from_config\u001b[0;34m(mushroom_config, chkpt_filepath, accelerator)\u001b[0m\n\u001b[1;32m    135\u001b[0m     logging\u001b[38;5;241m.\u001b[39minfo(\u001b[38;5;124mf\u001b[39m\u001b[38;5;124m'\u001b[39m\u001b[38;5;124mloading checkpoint: \u001b[39m\u001b[38;5;132;01m{\u001b[39;00mchkpt_filepath\u001b[38;5;132;01m}\u001b[39;00m\u001b[38;5;124m'\u001b[39m)\n\u001b[1;32m    136\u001b[0m     state_dict \u001b[38;5;241m=\u001b[39m torch\u001b[38;5;241m.\u001b[39mload(chkpt_filepath)[\u001b[38;5;124m'\u001b[39m\u001b[38;5;124mstate_dict\u001b[39m\u001b[38;5;124m'\u001b[39m]\n\u001b[0;32m--> 137\u001b[0m     \u001b[43mmushroom\u001b[49m\u001b[38;5;241;43m.\u001b[39;49m\u001b[43mmodel\u001b[49m\u001b[38;5;241;43m.\u001b[39;49m\u001b[43mload_state_dict\u001b[49m\u001b[43m(\u001b[49m\u001b[43mstate_dict\u001b[49m\u001b[43m)\u001b[49m\n\u001b[1;32m    139\u001b[0m \u001b[38;5;28;01mreturn\u001b[39;00m mushroom\n",
      "File \u001b[0;32m/data/estorrs/miniconda3/envs/mushroom/lib/python3.9/site-packages/torch/nn/modules/module.py:2041\u001b[0m, in \u001b[0;36mModule.load_state_dict\u001b[0;34m(self, state_dict, strict)\u001b[0m\n\u001b[1;32m   2036\u001b[0m         error_msgs\u001b[38;5;241m.\u001b[39minsert(\n\u001b[1;32m   2037\u001b[0m             \u001b[38;5;241m0\u001b[39m, \u001b[38;5;124m'\u001b[39m\u001b[38;5;124mMissing key(s) in state_dict: \u001b[39m\u001b[38;5;132;01m{}\u001b[39;00m\u001b[38;5;124m. \u001b[39m\u001b[38;5;124m'\u001b[39m\u001b[38;5;241m.\u001b[39mformat(\n\u001b[1;32m   2038\u001b[0m                 \u001b[38;5;124m'\u001b[39m\u001b[38;5;124m, \u001b[39m\u001b[38;5;124m'\u001b[39m\u001b[38;5;241m.\u001b[39mjoin(\u001b[38;5;124m'\u001b[39m\u001b[38;5;124m\"\u001b[39m\u001b[38;5;132;01m{}\u001b[39;00m\u001b[38;5;124m\"\u001b[39m\u001b[38;5;124m'\u001b[39m\u001b[38;5;241m.\u001b[39mformat(k) \u001b[38;5;28;01mfor\u001b[39;00m k \u001b[38;5;129;01min\u001b[39;00m missing_keys)))\n\u001b[1;32m   2040\u001b[0m \u001b[38;5;28;01mif\u001b[39;00m \u001b[38;5;28mlen\u001b[39m(error_msgs) \u001b[38;5;241m>\u001b[39m \u001b[38;5;241m0\u001b[39m:\n\u001b[0;32m-> 2041\u001b[0m     \u001b[38;5;28;01mraise\u001b[39;00m \u001b[38;5;167;01mRuntimeError\u001b[39;00m(\u001b[38;5;124m'\u001b[39m\u001b[38;5;124mError(s) in loading state_dict for \u001b[39m\u001b[38;5;132;01m{}\u001b[39;00m\u001b[38;5;124m:\u001b[39m\u001b[38;5;130;01m\\n\u001b[39;00m\u001b[38;5;130;01m\\t\u001b[39;00m\u001b[38;5;132;01m{}\u001b[39;00m\u001b[38;5;124m'\u001b[39m\u001b[38;5;241m.\u001b[39mformat(\n\u001b[1;32m   2042\u001b[0m                        \u001b[38;5;28mself\u001b[39m\u001b[38;5;241m.\u001b[39m\u001b[38;5;18m__class__\u001b[39m\u001b[38;5;241m.\u001b[39m\u001b[38;5;18m__name__\u001b[39m, \u001b[38;5;124m\"\u001b[39m\u001b[38;5;130;01m\\n\u001b[39;00m\u001b[38;5;130;01m\\t\u001b[39;00m\u001b[38;5;124m\"\u001b[39m\u001b[38;5;241m.\u001b[39mjoin(error_msgs)))\n\u001b[1;32m   2043\u001b[0m \u001b[38;5;28;01mreturn\u001b[39;00m _IncompatibleKeys(missing_keys, unexpected_keys)\n",
      "\u001b[0;31mRuntimeError\u001b[0m: Error(s) in loading state_dict for LitMushroom:\n\tMissing key(s) in state_dict: \"sae.codes_to_integrated_logits.0.0.weight\", \"sae.codes_to_integrated_logits.0.0.bias\", \"sae.codes_to_integrated_logits.0.2.weight\", \"sae.codes_to_integrated_logits.0.2.bias\", \"sae.codes_to_integrated_logits.1.0.weight\", \"sae.codes_to_integrated_logits.1.0.bias\", \"sae.codes_to_integrated_logits.1.2.weight\", \"sae.codes_to_integrated_logits.1.2.bias\", \"sae.codes_to_integrated_logits.2.0.weight\", \"sae.codes_to_integrated_logits.2.0.bias\", \"sae.codes_to_integrated_logits.2.2.weight\", \"sae.codes_to_integrated_logits.2.2.bias\", \"sae.integrated_codebooks.0\", \"sae.integrated_codebooks.1\", \"sae.integrated_codebooks.2\". "
     ]
    }
   ],
   "source": [
    "dtype_to_mushroom = {k:Mushroom.from_config(\n",
    "    dtype_to_config[k],\n",
    "    chkpt_filepath=dtype_to_chkpt[k],\n",
    "    accelerator='cpu'\n",
    ") for k in dtype_to_chkpt.keys()}"
   ]
  },
  {
   "cell_type": "code",
   "execution_count": null,
   "id": "b227cf50",
   "metadata": {},
   "outputs": [],
   "source": [
    "for dtype, mushroom in dtype_to_mushroom.items():\n",
    "    mushroom.embed_sections()"
   ]
  },
  {
   "cell_type": "code",
   "execution_count": 5,
   "id": "58212134",
   "metadata": {},
   "outputs": [
    {
     "ename": "AttributeError",
     "evalue": "'dict' object has no attribute 'shape'",
     "output_type": "error",
     "traceback": [
      "\u001b[0;31m---------------------------------------------------------------------------\u001b[0m",
      "\u001b[0;31mAttributeError\u001b[0m                            Traceback (most recent call last)",
      "Cell \u001b[0;32mIn[5], line 13\u001b[0m\n\u001b[1;32m      5\u001b[0m multiplex_volume \u001b[38;5;241m=\u001b[39m np\u001b[38;5;241m.\u001b[39mload(\n\u001b[1;32m      6\u001b[0m     \u001b[38;5;124m'\u001b[39m\u001b[38;5;124m/data/estorrs/mushroom/data/projects/htan_talk/mushroom/multiplex_HT413C1_Th1k4A1_v1/outputs/chkpts/outputs.npy\u001b[39m\u001b[38;5;124m'\u001b[39m,\n\u001b[1;32m      7\u001b[0m     allow_pickle\u001b[38;5;241m=\u001b[39m\u001b[38;5;28;01mTrue\u001b[39;00m\n\u001b[1;32m      8\u001b[0m )\u001b[38;5;241m.\u001b[39mflat[\u001b[38;5;241m0\u001b[39m]\n\u001b[1;32m      9\u001b[0m visium_volume \u001b[38;5;241m=\u001b[39m np\u001b[38;5;241m.\u001b[39mload(\n\u001b[1;32m     10\u001b[0m     \u001b[38;5;124m'\u001b[39m\u001b[38;5;124m/data/estorrs/mushroom/data/projects/htan_talk/mushroom/xenium_HT413C1_Th1k4A1_v1/outputs/chkpts/outputs.npy\u001b[39m\u001b[38;5;124m'\u001b[39m,\n\u001b[1;32m     11\u001b[0m     allow_pickle\u001b[38;5;241m=\u001b[39m\u001b[38;5;28;01mTrue\u001b[39;00m\n\u001b[1;32m     12\u001b[0m )\u001b[38;5;241m.\u001b[39mflat[\u001b[38;5;241m0\u001b[39m]\n\u001b[0;32m---> 13\u001b[0m \u001b[43mhe_volume\u001b[49m\u001b[38;5;241;43m.\u001b[39;49m\u001b[43mshape\u001b[49m, multiplex_volume\u001b[38;5;241m.\u001b[39mshape, visium_volume\u001b[38;5;241m.\u001b[39mshape\n",
      "\u001b[0;31mAttributeError\u001b[0m: 'dict' object has no attribute 'shape'"
     ]
    }
   ],
   "source": [
    "he_volume = np.load(\n",
    "    '/data/estorrs/mushroom/data/projects/htan_talk/mushroom/xenium_HT413C1_Th1k4A1_v1/outputs/chkpts/outputs.npy',\n",
    "    allow_pickle=True\n",
    ").flat[0]\n",
    "multiplex_volume = np.load(\n",
    "    '/data/estorrs/mushroom/data/projects/htan_talk/mushroom/multiplex_HT413C1_Th1k4A1_v1/outputs/chkpts/outputs.npy',\n",
    "    allow_pickle=True\n",
    ").flat[0]\n",
    "visium_volume = np.load(\n",
    "    '/data/estorrs/mushroom/data/projects/htan_talk/mushroom/xenium_HT413C1_Th1k4A1_v1/outputs/chkpts/outputs.npy',\n",
    "    allow_pickle=True\n",
    ").flat[0]\n",
    "he_volume.shape, multiplex_volume.shape, visium_volume.shape"
   ]
  },
  {
   "cell_type": "code",
   "execution_count": 6,
   "id": "f7a9232d",
   "metadata": {},
   "outputs": [
    {
     "data": {
      "text/plain": [
       "dict_keys(['cluster_ids', 'cluster_probs', 'cluster_volume'])"
      ]
     },
     "execution_count": 6,
     "metadata": {},
     "output_type": "execute_result"
    }
   ],
   "source": [
    "he_volume.keys()"
   ]
  },
  {
   "cell_type": "code",
   "execution_count": null,
   "id": "6cff29ee",
   "metadata": {},
   "outputs": [],
   "source": []
  },
  {
   "cell_type": "code",
   "execution_count": null,
   "id": "8a58069b",
   "metadata": {},
   "outputs": [],
   "source": []
  }
 ],
 "metadata": {
  "kernelspec": {
   "display_name": "Python 3 (ipykernel)",
   "language": "python",
   "name": "python3"
  },
  "language_info": {
   "codemirror_mode": {
    "name": "ipython",
    "version": 3
   },
   "file_extension": ".py",
   "mimetype": "text/x-python",
   "name": "python",
   "nbconvert_exporter": "python",
   "pygments_lexer": "ipython3",
   "version": "3.9.18"
  }
 },
 "nbformat": 4,
 "nbformat_minor": 5
}
