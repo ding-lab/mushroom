{
 "cells": [
  {
   "cell_type": "code",
   "execution_count": 1,
   "id": "bd53eb48",
   "metadata": {},
   "outputs": [],
   "source": [
    "# import logging\n",
    "import os\n",
    "import re\n",
    "from pathlib import Path\n",
    "from collections import Counter\n",
    "\n",
    "import matplotlib.pyplot as plt\n",
    "import numpy as np\n",
    "import pandas as pd\n",
    "import scanpy as sc\n",
    "import seaborn as sns\n",
    "import torch\n",
    "import wandb\n",
    "import yaml\n",
    "from einops import rearrange"
   ]
  },
  {
   "cell_type": "code",
   "execution_count": 2,
   "id": "79afa1cc",
   "metadata": {},
   "outputs": [],
   "source": [
    "%load_ext autoreload"
   ]
  },
  {
   "cell_type": "code",
   "execution_count": 3,
   "id": "1af0e48a",
   "metadata": {},
   "outputs": [],
   "source": [
    "%autoreload 2"
   ]
  },
  {
   "cell_type": "code",
   "execution_count": 4,
   "id": "763e3136",
   "metadata": {},
   "outputs": [
    {
     "name": "stderr",
     "output_type": "stream",
     "text": [
      "/data/estorrs/miniconda3/envs/mushroom/lib/python3.9/site-packages/geopandas/_compat.py:124: UserWarning: The Shapely GEOS version (3.11.1-CAPI-1.17.1) is incompatible with the GEOS version PyGEOS was compiled with (3.10.4-CAPI-1.16.2). Conversions between both will be slow.\n",
      "  warnings.warn(\n",
      "/data/estorrs/miniconda3/envs/mushroom/lib/python3.9/site-packages/spatialdata/__init__.py:9: UserWarning: Geopandas was set to use PyGEOS, changing to shapely 2.0 with:\n",
      "\n",
      "\tgeopandas.options.use_pygeos = True\n",
      "\n",
      "If you intended to use PyGEOS, set the option to False.\n",
      "  _check_geopandas_using_shapely()\n"
     ]
    }
   ],
   "source": [
    "from mushroom.mushroom import Mushroom\n",
    "import mushroom.data.xenium as xenium\n",
    "import mushroom.data.visium as visium\n",
    "import mushroom.utils as utils\n",
    "import mushroom.visualization.utils as vis_utils"
   ]
  },
  {
   "cell_type": "code",
   "execution_count": 5,
   "id": "0c5be5c6",
   "metadata": {},
   "outputs": [
    {
     "name": "stderr",
     "output_type": "stream",
     "text": [
      "\u001b[34m\u001b[1mwandb\u001b[0m: Currently logged in as: \u001b[33mestorrs\u001b[0m (\u001b[33mtme-st\u001b[0m). Use \u001b[1m`wandb login --relogin`\u001b[0m to force relogin\n"
     ]
    },
    {
     "data": {
      "text/plain": [
       "True"
      ]
     },
     "execution_count": 5,
     "metadata": {},
     "output_type": "execute_result"
    }
   ],
   "source": [
    "wandb.login()"
   ]
  },
  {
   "cell_type": "code",
   "execution_count": 6,
   "id": "e3cffd8f",
   "metadata": {},
   "outputs": [
    {
     "data": {
      "text/plain": [
       "['/data/estorrs/mushroom/data/projects/xenium_grant/mushroom/HT206B1/config.yaml',\n",
       " '/data/estorrs/mushroom/data/projects/xenium_grant/mushroom/S18-25943/config.yaml',\n",
       " '/data/estorrs/mushroom/data/projects/xenium_grant/mushroom/S18-9906/config.yaml']"
      ]
     },
     "execution_count": 6,
     "metadata": {},
     "output_type": "execute_result"
    }
   ],
   "source": [
    "run_dir = '/data/estorrs/mushroom/data/projects/xenium_grant'\n",
    "mushroom_dir = os.path.join(run_dir, 'mushroom')\n",
    "config_fps = sorted(utils.listfiles(mushroom_dir, regex=r'/config.yaml'))\n",
    "config_fps"
   ]
  },
  {
   "cell_type": "code",
   "execution_count": 7,
   "id": "350b2195",
   "metadata": {
    "code_folding": [
     2
    ]
   },
   "outputs": [],
   "source": [
    "# only relavent for dinglab data since our channel names are all over the place\n",
    "# will remove for official example\n",
    "official_to_options = {\n",
    "    'Pan-Cytokeratin': ['Pan-Cytokeratin', 'Pan-CK', 'Pan-CK (D)', 'PanCK (D)'],\n",
    "    'E-cadherin': ['E-cadherin'],\n",
    "    'CD45': ['CD45 (D)', 'CD45', 'CD45-(D)', 'CD45(D)'],\n",
    "    'CD45RO': ['CD45RO'],\n",
    "    'CD45RA': ['CD45RA'],\n",
    "    'CD8': ['CD8', 'CD8a'],\n",
    "    'DAPI': ['DAPI'],\n",
    "    'CD4': ['CD4', 'CD4 (D)'],\n",
    "    'CD3e': ['CD3e', 'CD3'],\n",
    "    'Vimentin': ['Vimentin-(D)', 'Vimentin', 'Vimentin (D)'],\n",
    "    'SMA': ['SMA-(D)', 'SMA', 'SMA (D)', 'a-SMA (D)'],\n",
    "    'CD31': ['CD31', 'CD31-(D)', 'CD31 (D)'],\n",
    "    'CD20': ['CD20-(D)', 'CD20', 'CD20 (D)', 'CD20-Akoya'],\n",
    "    'CD68': ['CD68', 'CD68 (D)', 'CD68-(D)'],\n",
    "    'CD163': ['CD163'],\n",
    "    'FOXP3': ['FoxP3', 'FOXP3', 'Foxp3'],\n",
    "    'cKit': ['cKIT (D)', 'cKit (D)', 'cKit', 'cKIT', 'cKIT-(D)'],\n",
    "    'MGP': ['MGP', 'MGP (D)', 'MGP-(D)'],\n",
    "    'CD36': ['CD36-(D)', 'CD36'],\n",
    "    'PR': ['PR', 'PR-(D)', 'PR (D)'],\n",
    "    'ER': ['ER', 'ER-(D)', 'ER (D)'],\n",
    "    'P21': ['P21', 'P21-(D)', 'P21-(D)', 'P21 (D)'],\n",
    "    'P16': ['P16-(D)'],\n",
    "    'CK5': ['Keratin 5', 'KRT5'],\n",
    "    'TFF1': ['TFF1', 'TFF1-(D)', 'TFF1 (D)'],\n",
    "    'beta-integrin': ['beta-integrin', 'beta3-integrin'],\n",
    "    'CK14': ['CK14', 'Keratin 14', 'CK14 (D)'],\n",
    "    'CK17': ['CK17', 'CK17 (D)', 'CK17-(D)', 'Keratin 17'],\n",
    "    'CK19': ['CK19', 'CK19 (D)', 'CK19-(D)'],\n",
    "    'CD11b': ['CD11b', 'CD11b (D)', 'CD11b-(D)'],\n",
    "    'GATA3': ['GATA3', 'GATA3-(D)', 'GATA3 (D)'],\n",
    "    'PLAT/tPA': ['PLAT/tPA', 'PLAT/tPA (D)'],\n",
    "    'COX6c': ['COX6c (D)'],\n",
    "    'Her2': ['Her2', 'Her2 (D)'],\n",
    "    'Bap1': ['Bap1 (D)'],\n",
    "    'GLUT1': ['Glut1', 'GLUT1', 'GLUT1-(D)', 'GLUT1 (D)'],\n",
    "    'CD11c': ['CD11c'],\n",
    "    'HLA-DR': ['HLA-DR'],\n",
    "    'Ki67': ['Ki67', 'KI67'],\n",
    "    'Podoplanin': ['Podoplanin', 'PDPN', 'Podoplanin (D)'],\n",
    "    'CTLA4': ['CTLA4', 'CTLA4 (D)', 'CTLA4-(D)'],\n",
    "    'SLC39A6': ['SLC39A6'],\n",
    "    'BCA1': ['BCA1'],\n",
    "    'BCAL': ['BCAL'],\n",
    "    'TUBB3': ['TUBB3', 'TUBB3 (D)'],\n",
    "    'PTPRZ1': ['PTPRZ1', 'PTPRZ1 (D)'],\n",
    "    'HIF1A': ['HIF1a', 'HIF1a (D)', 'HIF1A'],\n",
    "    'PAI1': ['PAI1', 'PAI1-(D)'],\n",
    "    'GFAP': ['GFAP', 'GFAP (D)'],\n",
    "    'VEGFA': ['VEGFA', 'VEGFA (D)'],\n",
    "    'IBA1': ['IBA1', 'IBA1 (D)'],\n",
    "    'OLIG2': ['OLIG2', 'OLIG2 (D)'],\n",
    "    'FN1': ['FN1', 'FN1 (D)'],\n",
    "    'a-Amylase': ['a-Amylase'],\n",
    "    'Hep-Par-1': ['Hep-Par-1 (D)'],\n",
    "    'Granzyme-B': ['Granzyme B'],\n",
    "    'TCF-1': ['TCF-1'],\n",
    "    'CD39': ['CD39'],\n",
    "    'PD1': ['PD-1'],\n",
    "    'PDL1': ['PD-L1'],\n",
    "    'Histone-H3-Pho': ['Histone H3 Pho'],\n",
    "    'Maspin': ['Maspin'],\n",
    "    'MMP9': ['MMP9'],\n",
    "    'CD44': ['CD44'],\n",
    "    'CD107A': ['CD107a'],\n",
    "    'FGFR3': ['FGFR3'],\n",
    "    'CD138': ['CD138'],\n",
    "    'MLPH': ['MLPH'],\n",
    "    'P63': ['P63'],\n",
    "    'GP2': ['GP2'],\n",
    "    'COX2': ['COX2'],\n",
    "    'Lyve-1': ['Lyve-1'],\n",
    "}\n",
    "channel_mapping = {v:k for k, vs in official_to_options.items() for v in vs}\n",
    "# channel_mapping = None"
   ]
  },
  {
   "cell_type": "code",
   "execution_count": 8,
   "id": "6906a3a7",
   "metadata": {},
   "outputs": [],
   "source": [
    "mushroom_config = {\n",
    "#     'sections': config,\n",
    "    'sae_kwargs': {\n",
    "        'size': 8,\n",
    "        'patch_size': 1,\n",
    "        'encoder_dim': 256,\n",
    "        'num_clusters': (8, 4, 2,),\n",
    "        'dtype_to_decoder_dims': {'multiplex': (256, 128, 64,), 'visium': (256, 512, 1024 * 2,), 'xenium': (256, 256, 256,)},\n",
    "        'recon_scaler': 1.,\n",
    "        'neigh_scaler': .0,\n",
    "        'codebook_dim': 64,\n",
    "    },\n",
    "    'trainer_kwargs': {\n",
    "        'input_ppm': 0.4705882352941177,\n",
    "        'target_ppm': .01, # 100 microns per tile\n",
    "        'contrast_pct': None,\n",
    "        'pct_expression': .02,\n",
    "        'batch_size': 64,\n",
    "        'num_workers': 1,\n",
    "        'devices': 1,\n",
    "        'accelerator': 'cpu',\n",
    "        'enable_checkpointing': True,\n",
    "        'max_epochs': 5,\n",
    "        'steps_per_epoch': 200,\n",
    "        'channel_mapping': channel_mapping,\n",
    "        'lr': 1e-4,\n",
    "        'save_every': 1,\n",
    "        'save_dir': './',\n",
    "        'log_dir': './',\n",
    "        'log_every_n_steps': 10,\n",
    "#         'logger_project': 'model_testing_S18-9906',\n",
    "        'logger_channel': 'CD45',\n",
    "        'logger_type': 'wandb'\n",
    "    },\n",
    "}"
   ]
  },
  {
   "cell_type": "code",
   "execution_count": 9,
   "id": "b5453640",
   "metadata": {},
   "outputs": [],
   "source": [
    "config_fp = '/data/estorrs/mushroom/data/projects/xenium_grant/mushroom/S18-9906/config.yaml'\n",
    "\n",
    "case = config_fp.split('/')[-2]\n",
    "out_dir = os.path.join(f'/data/estorrs/mushroom/data/projects/testing/mushroom/integrated_{case}_v1/outputs')\n",
    "save_dir = os.path.join(out_dir, 'chkpts')\n",
    "log_dir = os.path.join(out_dir, 'logs')\n",
    "\n",
    "Path(save_dir).mkdir(parents=True, exist_ok=True)\n",
    "\n",
    "config = yaml.safe_load(open(config_fp))"
   ]
  },
  {
   "cell_type": "code",
   "execution_count": 10,
   "id": "2a97c44e",
   "metadata": {},
   "outputs": [
    {
     "data": {
      "text/plain": [
       "[{'data': [{'dtype': 'xenium',\n",
       "    'filepath': '/data/estorrs/mushroom/data/projects/xenium_grant/registered/S18-9906/s0_xenium.h5ad'}],\n",
       "  'id': 's0',\n",
       "  'position': 0},\n",
       " {'data': [{'dtype': 'multiplex',\n",
       "    'filepath': '/data/estorrs/mushroom/data/projects/xenium_grant/registered/S18-9906/s1_multiplex.ome.tiff'}],\n",
       "  'id': 's1',\n",
       "  'position': 5},\n",
       " {'data': [{'dtype': 'xenium',\n",
       "    'filepath': '/data/estorrs/mushroom/data/projects/xenium_grant/registered/S18-9906/s2_xenium.h5ad'}],\n",
       "  'id': 's2',\n",
       "  'position': 35},\n",
       " {'data': [{'dtype': 'multiplex',\n",
       "    'filepath': '/data/estorrs/mushroom/data/projects/xenium_grant/registered/S18-9906/s3_multiplex.ome.tiff'}],\n",
       "  'id': 's3',\n",
       "  'position': 40},\n",
       " {'data': [{'dtype': 'xenium',\n",
       "    'filepath': '/data/estorrs/mushroom/data/projects/xenium_grant/registered/S18-9906/s4_xenium.h5ad'}],\n",
       "  'id': 's4',\n",
       "  'position': 75},\n",
       " {'data': [{'dtype': 'multiplex',\n",
       "    'filepath': '/data/estorrs/mushroom/data/projects/xenium_grant/registered/S18-9906/s5_multiplex.ome.tiff'}],\n",
       "  'id': 's5',\n",
       "  'position': 80},\n",
       " {'data': [{'dtype': 'xenium',\n",
       "    'filepath': '/data/estorrs/mushroom/data/projects/xenium_grant/registered/S18-9906/s6_xenium.h5ad'}],\n",
       "  'id': 's6',\n",
       "  'position': 110},\n",
       " {'data': [{'dtype': 'multiplex',\n",
       "    'filepath': '/data/estorrs/mushroom/data/projects/xenium_grant/registered/S18-9906/s7_multiplex.ome.tiff'}],\n",
       "  'id': 's7',\n",
       "  'position': 115}]"
      ]
     },
     "execution_count": 10,
     "metadata": {},
     "output_type": "execute_result"
    }
   ],
   "source": [
    "config"
   ]
  },
  {
   "cell_type": "code",
   "execution_count": 11,
   "id": "cc504250",
   "metadata": {},
   "outputs": [],
   "source": [
    "mushroom_config['sections'] = config\n",
    "mushroom_config['trainer_kwargs']['logger_project'] = f'model_testing_integrated_{case}'\n",
    "mushroom_config['trainer_kwargs']['save_dir'] = save_dir\n",
    "mushroom_config['trainer_kwargs']['log_dir'] = log_dir"
   ]
  },
  {
   "cell_type": "code",
   "execution_count": 12,
   "id": "832e144d",
   "metadata": {},
   "outputs": [],
   "source": [
    "yaml.safe_dump(\n",
    "    mushroom_config,\n",
    "    open(os.path.join(mushroom_config['trainer_kwargs']['save_dir'], 'mushroom_config.yaml'), 'w')\n",
    ")"
   ]
  },
  {
   "cell_type": "code",
   "execution_count": 13,
   "id": "b7940010",
   "metadata": {},
   "outputs": [
    {
     "name": "stderr",
     "output_type": "stream",
     "text": [
      "INFO:root:starting multiplex processing\n",
      "INFO:root:using 24 channels\n",
      "INFO:root:4 sections detected: ['s1', 's3', 's5', 's7']\n",
      "INFO:root:processing sections\n",
      "INFO:root:generating image data for section s1\n",
      "INFO:root:generating image data for section s3\n",
      "INFO:root:generating image data for section s5\n",
      "INFO:root:generating image data for section s7\n",
      "INFO:root:starting xenium processing\n",
      "INFO:root:using 377 channels\n",
      "INFO:root:4 sections detected: ['s0', 's2', 's4', 's6']\n",
      "INFO:root:processing sections\n",
      "INFO:root:generating image data for section s0\n",
      "INFO:root:generating image data for section s2\n",
      "INFO:root:generating image data for section s4\n",
      "INFO:root:generating image data for section s6\n",
      "INFO:root:generating training dataset\n",
      "INFO:root:generating inference dataset\n",
      "INFO:root:total of 8 sections detected: [('s0', 'xenium'), ('s1', 'multiplex'), ('s2', 'xenium'), ('s3', 'multiplex'), ('s4', 'xenium'), ('s5', 'multiplex'), ('s6', 'xenium'), ('s7', 'multiplex')]\n",
      "INFO:root:creating data loaders\n",
      "INFO:root:creating ViT\n",
      "INFO:root:model initialized\n"
     ]
    },
    {
     "data": {
      "text/html": [
       "wandb version 0.16.1 is available!  To upgrade, please run:\n",
       " $ pip install wandb --upgrade"
      ],
      "text/plain": [
       "<IPython.core.display.HTML object>"
      ]
     },
     "metadata": {},
     "output_type": "display_data"
    },
    {
     "data": {
      "text/html": [
       "Tracking run with wandb version 0.15.10"
      ],
      "text/plain": [
       "<IPython.core.display.HTML object>"
      ]
     },
     "metadata": {},
     "output_type": "display_data"
    },
    {
     "data": {
      "text/html": [
       "Run data is saved locally in <code>/data/estorrs/mushroom/data/projects/testing/mushroom/integrated_S18-9906_v1/outputs/logs/wandb/run-20231207_205205-o4xo0uiv</code>"
      ],
      "text/plain": [
       "<IPython.core.display.HTML object>"
      ]
     },
     "metadata": {},
     "output_type": "display_data"
    },
    {
     "data": {
      "text/html": [
       "Syncing run <strong><a href='https://wandb.ai/tme-st/model_testing_integrated_S18-9906/runs/o4xo0uiv' target=\"_blank\">usual-dew-6</a></strong> to <a href='https://wandb.ai/tme-st/model_testing_integrated_S18-9906' target=\"_blank\">Weights & Biases</a> (<a href='https://wandb.me/run' target=\"_blank\">docs</a>)<br/>"
      ],
      "text/plain": [
       "<IPython.core.display.HTML object>"
      ]
     },
     "metadata": {},
     "output_type": "display_data"
    },
    {
     "data": {
      "text/html": [
       " View project at <a href='https://wandb.ai/tme-st/model_testing_integrated_S18-9906' target=\"_blank\">https://wandb.ai/tme-st/model_testing_integrated_S18-9906</a>"
      ],
      "text/plain": [
       "<IPython.core.display.HTML object>"
      ]
     },
     "metadata": {},
     "output_type": "display_data"
    },
    {
     "data": {
      "text/html": [
       " View run at <a href='https://wandb.ai/tme-st/model_testing_integrated_S18-9906/runs/o4xo0uiv' target=\"_blank\">https://wandb.ai/tme-st/model_testing_integrated_S18-9906/runs/o4xo0uiv</a>"
      ],
      "text/plain": [
       "<IPython.core.display.HTML object>"
      ]
     },
     "metadata": {},
     "output_type": "display_data"
    },
    {
     "name": "stderr",
     "output_type": "stream",
     "text": [
      "GPU available: True (cuda), used: False\n",
      "TPU available: False, using: 0 TPU cores\n",
      "IPU available: False, using: 0 IPUs\n",
      "HPU available: False, using: 0 HPUs\n",
      "/data/estorrs/miniconda3/envs/mushroom/lib/python3.9/site-packages/lightning/pytorch/trainer/setup.py:187: GPU available but not used. You can set it by doing `Trainer(accelerator='gpu')`.\n"
     ]
    }
   ],
   "source": [
    "mushroom = Mushroom.from_config(mushroom_config)"
   ]
  },
  {
   "cell_type": "code",
   "execution_count": 14,
   "id": "ecaa07cb",
   "metadata": {},
   "outputs": [],
   "source": [
    "batch = next(iter(mushroom.train_dl))"
   ]
  },
  {
   "cell_type": "code",
   "execution_count": 15,
   "id": "d22de7de",
   "metadata": {},
   "outputs": [
    {
     "data": {
      "text/plain": [
       "dict_keys(['tiles', 'slides', 'dtypes', 'pairs', 'is_anchor'])"
      ]
     },
     "execution_count": 15,
     "metadata": {},
     "output_type": "execute_result"
    }
   ],
   "source": [
    "batch.keys()"
   ]
  },
  {
   "cell_type": "code",
   "execution_count": 16,
   "id": "699b1a58",
   "metadata": {},
   "outputs": [
    {
     "data": {
      "image/png": "[encoded data removed]",
      "text/plain": [
       "<Figure size 640x480 with 2 Axes>"
      ]
     },
     "metadata": {},
     "output_type": "display_data"
    }
   ],
   "source": [
    "idx = 0\n",
    "mushroom.train_dl.dataset.display_batch(\n",
    "    batch, idx, mushroom.learner_data.dtype_to_channels,\n",
    "    display_channels={'xenium': 'EPCAM', 'multiplex': 'E-Cadherin'}\n",
    ")"
   ]
  },
  {
   "cell_type": "code",
   "execution_count": 18,
   "id": "127ad552",
   "metadata": {
    "code_folding": []
   },
   "outputs": [],
   "source": [
    "device = mushroom.model.device\n",
    "with torch.no_grad():\n",
    "    tiles, slides, dtypes = batch['tiles'], batch['slides'], batch['dtypes']\n",
    "    pairs, is_anchor = batch['pairs'], batch['is_anchor']\n",
    "    \n",
    "    tiles, slides, dtypes = [x.to(device) for x in tiles], [x.to(device) for x in slides], [x.to(device) for x in dtypes]\n",
    "    pairs, is_anchor = [x.to(device) for x in pairs], [x.to(device) for x in is_anchor]\n",
    "    losses, outputs = mushroom.model.sae(tiles, slides, dtypes, pairs=pairs, is_anchor=is_anchor)"
   ]
  },
  {
   "cell_type": "code",
   "execution_count": 20,
   "id": "d4370650",
   "metadata": {},
   "outputs": [
    {
     "data": {
      "text/plain": [
       "{'neigh_loss_level_0': tensor(2.0117),\n",
       " 'recon_loss_0_multiplex': tensor(6.6020),\n",
       " 'recon_loss_0_xenium': tensor(0.6830),\n",
       " 'neigh_loss_level_1': tensor(1.2381),\n",
       " 'recon_loss_1_multiplex': tensor(6.6027),\n",
       " 'recon_loss_1_xenium': tensor(0.6831),\n",
       " 'neigh_loss_level_2': tensor(0.5994),\n",
       " 'recon_loss_2_multiplex': tensor(6.6023),\n",
       " 'recon_loss_2_xenium': tensor(0.6831),\n",
       " 'recon_loss': tensor(21.8563),\n",
       " 'neigh_loss': tensor(3.8492),\n",
       " 'overall_loss': tensor(21.8563)}"
      ]
     },
     "execution_count": 20,
     "metadata": {},
     "output_type": "execute_result"
    }
   ],
   "source": [
    "losses"
   ]
  },
  {
   "cell_type": "code",
   "execution_count": 21,
   "id": "b378157e",
   "metadata": {},
   "outputs": [
    {
     "data": {
      "text/plain": [
       "dict_keys(['encoded_tokens_prequant', 'level_to_encoded', 'cluster_probs', 'clusters', 'dtype_to_true_pixels', 'dtype_to_pred_pixels'])"
      ]
     },
     "execution_count": 21,
     "metadata": {},
     "output_type": "execute_result"
    }
   ],
   "source": [
    "outputs.keys()"
   ]
  },
  {
   "cell_type": "code",
   "execution_count": 24,
   "id": "03e45cba",
   "metadata": {},
   "outputs": [
    {
     "name": "stdout",
     "output_type": "stream",
     "text": [
      "torch.Size([128, 64, 8])\n",
      "torch.Size([128, 64, 4])\n",
      "torch.Size([128, 64, 2])\n"
     ]
    }
   ],
   "source": [
    "for level in outputs['cluster_probs']: print(level.shape)"
   ]
  },
  {
   "cell_type": "code",
   "execution_count": 25,
   "id": "1e96c3e4",
   "metadata": {},
   "outputs": [
    {
     "name": "stdout",
     "output_type": "stream",
     "text": [
      "torch.Size([128, 64])\n",
      "torch.Size([128, 64])\n",
      "torch.Size([128, 64])\n"
     ]
    }
   ],
   "source": [
    "for level in outputs['clusters']: print(level.shape)"
   ]
  },
  {
   "cell_type": "code",
   "execution_count": 26,
   "id": "f5afc86b",
   "metadata": {},
   "outputs": [
    {
     "name": "stdout",
     "output_type": "stream",
     "text": [
      "tensor([0, 1, 2, 3, 4, 5, 6, 7])\n",
      "tensor([0, 1, 2, 3])\n",
      "tensor([0, 1])\n"
     ]
    }
   ],
   "source": [
    "for level in outputs['clusters']: print(level.unique())"
   ]
  },
  {
   "cell_type": "code",
   "execution_count": 38,
   "id": "b6681532",
   "metadata": {},
   "outputs": [
    {
     "name": "stdout",
     "output_type": "stream",
     "text": [
      "8\n",
      "32\n",
      "64\n"
     ]
    }
   ],
   "source": [
    "for level in outputs['level_to_encoded']: print(len(level.sum(-1).unique()))"
   ]
  },
  {
   "cell_type": "code",
   "execution_count": 28,
   "id": "6830d723",
   "metadata": {},
   "outputs": [
    {
     "data": {
      "text/plain": [
       "torch.Size([64, 64, 24])"
      ]
     },
     "execution_count": 28,
     "metadata": {},
     "output_type": "execute_result"
    }
   ],
   "source": [
    "outputs['dtype_to_true_pixels']['multiplex'].shape"
   ]
  },
  {
   "cell_type": "code",
   "execution_count": 29,
   "id": "534b188e",
   "metadata": {},
   "outputs": [
    {
     "data": {
      "text/plain": [
       "torch.Size([64, 64, 377])"
      ]
     },
     "execution_count": 29,
     "metadata": {},
     "output_type": "execute_result"
    }
   ],
   "source": [
    "outputs['dtype_to_true_pixels']['xenium'].shape"
   ]
  },
  {
   "cell_type": "code",
   "execution_count": 30,
   "id": "6a6c1ca3",
   "metadata": {},
   "outputs": [
    {
     "data": {
      "text/plain": [
       "torch.Size([3, 64, 64, 24])"
      ]
     },
     "execution_count": 30,
     "metadata": {},
     "output_type": "execute_result"
    }
   ],
   "source": [
    "outputs['dtype_to_pred_pixels']['multiplex'].shape"
   ]
  },
  {
   "cell_type": "code",
   "execution_count": 31,
   "id": "8ead1f32",
   "metadata": {},
   "outputs": [
    {
     "data": {
      "text/plain": [
       "torch.Size([3, 64, 64, 377])"
      ]
     },
     "execution_count": 31,
     "metadata": {},
     "output_type": "execute_result"
    }
   ],
   "source": [
    "outputs['dtype_to_pred_pixels']['xenium'].shape"
   ]
  },
  {
   "cell_type": "code",
   "execution_count": null,
   "id": "94dbff4e",
   "metadata": {},
   "outputs": [],
   "source": []
  },
  {
   "cell_type": "code",
   "execution_count": null,
   "id": "5e8675af",
   "metadata": {},
   "outputs": [],
   "source": []
  },
  {
   "cell_type": "code",
   "execution_count": null,
   "id": "dc3fc5e7",
   "metadata": {},
   "outputs": [],
   "source": []
  },
  {
   "cell_type": "code",
   "execution_count": null,
   "id": "48fffd6b",
   "metadata": {},
   "outputs": [],
   "source": []
  },
  {
   "cell_type": "code",
   "execution_count": null,
   "id": "50688c4b",
   "metadata": {},
   "outputs": [],
   "source": []
  },
  {
   "cell_type": "code",
   "execution_count": null,
   "id": "55c11682",
   "metadata": {
    "scrolled": true
   },
   "outputs": [
    {
     "name": "stderr",
     "output_type": "stream",
     "text": [
      "/data/estorrs/miniconda3/envs/mushroom/lib/python3.9/site-packages/lightning/pytorch/callbacks/model_checkpoint.py:639: Checkpoint directory /data/estorrs/mushroom/data/projects/testing/mushroom/integrated_S18-9906_v1/outputs/chkpts exists and is not empty.\n",
      "\n",
      "  | Name | Type | Params\n",
      "------------------------------\n",
      "0 | sae  | SAE  | 10.3 M\n",
      "------------------------------\n",
      "10.3 M    Trainable params\n",
      "0         Non-trainable params\n",
      "10.3 M    Total params\n",
      "41.146    Total estimated model params size (MB)\n",
      "/data/estorrs/miniconda3/envs/mushroom/lib/python3.9/site-packages/lightning/pytorch/trainer/connectors/data_connector.py:441: The 'train_dataloader' does not have many workers which may be a bottleneck. Consider increasing the value of the `num_workers` argument` to `num_workers=63` in the `DataLoader` to improve performance.\n"
     ]
    },
    {
     "data": {
      "application/vnd.jupyter.widget-view+json": {
       "model_id": "769191985f7946468030520109f1efdb",
       "version_major": 2,
       "version_minor": 0
      },
      "text/plain": [
       "Training: |                                                                                                   …"
      ]
     },
     "metadata": {},
     "output_type": "display_data"
    }
   ],
   "source": [
    "mushroom.train()"
   ]
  },
  {
   "cell_type": "code",
   "execution_count": null,
   "id": "911e712d",
   "metadata": {},
   "outputs": [],
   "source": [
    "# ~.75 iter per second"
   ]
  },
  {
   "cell_type": "code",
   "execution_count": null,
   "id": "f72c6744",
   "metadata": {},
   "outputs": [],
   "source": [
    "os.path.join(mushroom_config['trainer_kwargs']['save_dir'], 'mushroom_config.yaml')"
   ]
  },
  {
   "cell_type": "code",
   "execution_count": null,
   "id": "5493330a",
   "metadata": {},
   "outputs": [],
   "source": [
    "new = Mushroom.from_config(\n",
    "    '/data/estorrs/mushroom/data/projects/testing/mushroom/S18-9906_v1/outputs/chkpts/mushroom_config.yaml',\n",
    "    chkpt_filepath='/data/estorrs/mushroom/data/projects/testing/mushroom/S18-9906_v1/outputs/chkpts/epoch=9-step=1000.ckpt',\n",
    "    accelerator='cpu'\n",
    ")\n"
   ]
  },
  {
   "cell_type": "code",
   "execution_count": null,
   "id": "9abd25c2",
   "metadata": {},
   "outputs": [],
   "source": [
    "new.embed_sections()"
   ]
  },
  {
   "cell_type": "code",
   "execution_count": null,
   "id": "ca88e62d",
   "metadata": {},
   "outputs": [],
   "source": [
    "new.display_predicted_pixels('Pan-Cytokeratin')"
   ]
  },
  {
   "cell_type": "code",
   "execution_count": null,
   "id": "e907abf0",
   "metadata": {},
   "outputs": [],
   "source": [
    "new.display_cluster_probs()"
   ]
  },
  {
   "cell_type": "code",
   "execution_count": null,
   "id": "a65252a0",
   "metadata": {},
   "outputs": [],
   "source": [
    "new.display_clusters()"
   ]
  },
  {
   "cell_type": "code",
   "execution_count": null,
   "id": "3b72a88d",
   "metadata": {},
   "outputs": [],
   "source": [
    "df = new.get_cluster_intensities()\n",
    "df"
   ]
  },
  {
   "cell_type": "code",
   "execution_count": null,
   "id": "f00d87d6",
   "metadata": {},
   "outputs": [],
   "source": [
    "volume = new.generate_interpolated_volume(z_scaler=.1)\n",
    "volume.shape"
   ]
  },
  {
   "cell_type": "code",
   "execution_count": null,
   "id": "b6139da7",
   "metadata": {
    "scrolled": true
   },
   "outputs": [],
   "source": [
    "vis_utils.display_clusters(volume, horizontal=False, preserve_indices=True)"
   ]
  },
  {
   "cell_type": "code",
   "execution_count": null,
   "id": "1c8c6368",
   "metadata": {},
   "outputs": [],
   "source": [
    "mushroom.model.sae.encoder.to_patch_embedding"
   ]
  },
  {
   "cell_type": "code",
   "execution_count": null,
   "id": "87d4c741",
   "metadata": {},
   "outputs": [],
   "source": [
    "next(iter(mushroom.model.sae.encoder.to_patch_embedding[1].parameters())).shape[0]"
   ]
  },
  {
   "cell_type": "code",
   "execution_count": null,
   "id": "3d34e847",
   "metadata": {},
   "outputs": [],
   "source": [
    "x = tuple([1,2,3])"
   ]
  },
  {
   "cell_type": "code",
   "execution_count": null,
   "id": "2ccfb486",
   "metadata": {},
   "outputs": [],
   "source": [
    "x"
   ]
  },
  {
   "cell_type": "code",
   "execution_count": null,
   "id": "ae47539b",
   "metadata": {},
   "outputs": [],
   "source": [
    "x.index(2)"
   ]
  },
  {
   "cell_type": "code",
   "execution_count": null,
   "id": "3b3f7ad3",
   "metadata": {},
   "outputs": [],
   "source": [
    "mushroom.model.sae.encoder.pos_embedding.shape[-2:]"
   ]
  },
  {
   "cell_type": "code",
   "execution_count": null,
   "id": "6e167c9f",
   "metadata": {},
   "outputs": [],
   "source": [
    "mushroom.model.sae.encoder.pos_embedding"
   ]
  },
  {
   "cell_type": "code",
   "execution_count": null,
   "id": "a3439432",
   "metadata": {},
   "outputs": [],
   "source": []
  },
  {
   "cell_type": "code",
   "execution_count": null,
   "id": "3095aa75",
   "metadata": {},
   "outputs": [],
   "source": []
  },
  {
   "cell_type": "code",
   "execution_count": null,
   "id": "7c772af3",
   "metadata": {},
   "outputs": [],
   "source": []
  },
  {
   "cell_type": "code",
   "execution_count": null,
   "id": "1b321ef7",
   "metadata": {},
   "outputs": [],
   "source": [
    "x = torch.rand(200, 200, 10000)\n",
    "x.shape"
   ]
  },
  {
   "cell_type": "code",
   "execution_count": null,
   "id": "391fbb37",
   "metadata": {},
   "outputs": [],
   "source": [
    "x.size()"
   ]
  },
  {
   "cell_type": "code",
   "execution_count": null,
   "id": "b6908fa4",
   "metadata": {},
   "outputs": [],
   "source": [
    "x.element_size() * x.nelement()"
   ]
  },
  {
   "cell_type": "code",
   "execution_count": null,
   "id": "7ee0b588",
   "metadata": {},
   "outputs": [],
   "source": []
  },
  {
   "cell_type": "code",
   "execution_count": null,
   "id": "1f19f083",
   "metadata": {},
   "outputs": [],
   "source": []
  },
  {
   "cell_type": "code",
   "execution_count": null,
   "id": "b3c7d360",
   "metadata": {},
   "outputs": [],
   "source": []
  },
  {
   "cell_type": "code",
   "execution_count": null,
   "id": "afb4d2c5",
   "metadata": {},
   "outputs": [],
   "source": []
  },
  {
   "cell_type": "code",
   "execution_count": null,
   "id": "fcd41452",
   "metadata": {},
   "outputs": [],
   "source": []
  },
  {
   "cell_type": "code",
   "execution_count": null,
   "id": "7cdbdcfe",
   "metadata": {},
   "outputs": [],
   "source": []
  },
  {
   "cell_type": "code",
   "execution_count": null,
   "id": "be454fc3",
   "metadata": {},
   "outputs": [],
   "source": []
  },
  {
   "cell_type": "code",
   "execution_count": null,
   "id": "8539ea30",
   "metadata": {},
   "outputs": [],
   "source": [
    "from vit_pytorch import ViT"
   ]
  },
  {
   "cell_type": "code",
   "execution_count": null,
   "id": "9e35f03a",
   "metadata": {},
   "outputs": [],
   "source": [
    "import torch.nn.functional as F\n",
    "import torch\n",
    "from einops import rearrange, repeat"
   ]
  },
  {
   "cell_type": "code",
   "execution_count": null,
   "id": "60202749",
   "metadata": {},
   "outputs": [],
   "source": [
    "encoder = ViT(image_size=256,\n",
    "    patch_size=32,\n",
    "    num_classes=100,\n",
    "    dim=128,\n",
    "    depth=6,\n",
    "    heads=2,\n",
    "    mlp_dim=1000,)"
   ]
  },
  {
   "cell_type": "code",
   "execution_count": null,
   "id": "12cda26c",
   "metadata": {},
   "outputs": [],
   "source": [
    "self.patch_dim = next(iter(encoder.to_patch_embedding[1].parameters())).shape[0]"
   ]
  },
  {
   "cell_type": "code",
   "execution_count": null,
   "id": "6ac234b4",
   "metadata": {},
   "outputs": [],
   "source": [
    "encoder.to_patch_embedding"
   ]
  },
  {
   "cell_type": "code",
   "execution_count": null,
   "id": "51a9b262",
   "metadata": {},
   "outputs": [],
   "source": [
    "encoder.to_patch_embedding[0].axes_lengths['p1']"
   ]
  },
  {
   "cell_type": "code",
   "execution_count": null,
   "id": "1a85893e",
   "metadata": {},
   "outputs": [],
   "source": []
  },
  {
   "cell_type": "code",
   "execution_count": null,
   "id": "52158505",
   "metadata": {},
   "outputs": [],
   "source": [
    "anchor_clusters = torch.randint(10, (4, 5))\n",
    "pos_clusters = torch.randint(10, (4, 5))\n",
    "anchor_clusters, pos_clusters"
   ]
  },
  {
   "cell_type": "code",
   "execution_count": null,
   "id": "96e9854e",
   "metadata": {},
   "outputs": [],
   "source": [
    "anchor_pairs = torch.tensor([2,3,1,0,4])\n",
    "pos_pairs = torch.tensor([1,2,0,3,4])"
   ]
  },
  {
   "cell_type": "code",
   "execution_count": null,
   "id": "511fda38",
   "metadata": {},
   "outputs": [],
   "source": [
    "anchor_clusters[:, anchor_pairs.argsort()], pos_clusters[:, pos_pairs.argsort()]"
   ]
  },
  {
   "cell_type": "code",
   "execution_count": null,
   "id": "586ba4fb",
   "metadata": {},
   "outputs": [],
   "source": []
  },
  {
   "cell_type": "code",
   "execution_count": null,
   "id": "f0fd62aa",
   "metadata": {},
   "outputs": [],
   "source": []
  },
  {
   "cell_type": "code",
   "execution_count": null,
   "id": "bd6d6fb8",
   "metadata": {},
   "outputs": [],
   "source": []
  },
  {
   "cell_type": "code",
   "execution_count": null,
   "id": "42107c92",
   "metadata": {},
   "outputs": [],
   "source": [
    "x = torch.rand(10,) > .5"
   ]
  },
  {
   "cell_type": "code",
   "execution_count": null,
   "id": "b8f119b5",
   "metadata": {},
   "outputs": [],
   "source": [
    "~x"
   ]
  },
  {
   "cell_type": "code",
   "execution_count": null,
   "id": "efa3099e",
   "metadata": {},
   "outputs": [],
   "source": []
  },
  {
   "cell_type": "code",
   "execution_count": null,
   "id": "01974e14",
   "metadata": {},
   "outputs": [],
   "source": [
    "x = torch.rand(4, 32, 64, 10)\n",
    "y = torch.rand(32, 20)\n",
    "y = repeat(y, '32 20 -> a 32 20', a=4)"
   ]
  },
  {
   "cell_type": "code",
   "execution_count": null,
   "id": "0807b3f1",
   "metadata": {},
   "outputs": [],
   "source": [
    "x = torch.rand(4, 32, 64, 64)\n",
    "y = torch.rand(1, 32, 1, 256)\n",
    "y = repeat(y, 'a b c d -> (a a1) b (c c1) d', a1=4, c1=64)\n",
    "y.shape"
   ]
  },
  {
   "cell_type": "code",
   "execution_count": null,
   "id": "6abde7a6",
   "metadata": {},
   "outputs": [],
   "source": [
    "torch.concat((x, y), dim=-1).shape"
   ]
  },
  {
   "cell_type": "code",
   "execution_count": null,
   "id": "e8facbdc",
   "metadata": {},
   "outputs": [],
   "source": []
  },
  {
   "cell_type": "code",
   "execution_count": null,
   "id": "822434ab",
   "metadata": {},
   "outputs": [],
   "source": []
  },
  {
   "cell_type": "code",
   "execution_count": null,
   "id": "695dc1ea",
   "metadata": {},
   "outputs": [],
   "source": []
  }
 ],
 "metadata": {
  "kernelspec": {
   "display_name": "Python 3 (ipykernel)",
   "language": "python",
   "name": "python3"
  },
  "language_info": {
   "codemirror_mode": {
    "name": "ipython",
    "version": 3
   },
   "file_extension": ".py",
   "mimetype": "text/x-python",
   "name": "python",
   "nbconvert_exporter": "python",
   "pygments_lexer": "ipython3",
   "version": "3.9.18"
  }
 },
 "nbformat": 4,
 "nbformat_minor": 5
}
