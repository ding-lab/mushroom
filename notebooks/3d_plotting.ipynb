{
 "cells": [
  {
   "cell_type": "code",
   "execution_count": 1,
   "id": "98c07de4",
   "metadata": {},
   "outputs": [],
   "source": [
    "import numpy as np\n",
    "\n",
    "import pyvista as pv\n",
    "from pyvista import examples"
   ]
  },
  {
   "cell_type": "code",
   "execution_count": 2,
   "id": "0a7bc11e",
   "metadata": {},
   "outputs": [],
   "source": [
    "pv.set_jupyter_backend('static')  "
   ]
  },
  {
   "cell_type": "code",
   "execution_count": 3,
   "id": "d91b8f34",
   "metadata": {},
   "outputs": [
    {
     "data": {
      "text/plain": [
       "pyvista_ndarray([[4.81089475e+05, 4.40015900e+06, 1.75931006e+03],\n",
       "                 [4.80933475e+05, 4.40024040e+06, 1.76244995e+03],\n",
       "                 [4.81070675e+05, 4.40016750e+06, 1.76001001e+03],\n",
       "                 [4.81123075e+05, 4.40024660e+06, 1.77366003e+03],\n",
       "                 [4.81028075e+05, 4.40021920e+06, 1.76910999e+03]])"
      ]
     },
     "execution_count": 3,
     "metadata": {},
     "output_type": "execute_result"
    }
   ],
   "source": [
    "# Define some helpers - ignore these and use your own data!\n",
    "def generate_points(subset=0.02):\n",
    "    \"\"\"A helper to make a 3D NumPy array of points (n_points by 3)\"\"\"\n",
    "    dataset = examples.download_lidar()\n",
    "    ids = np.random.randint(low=0, high=dataset.n_points - 1, size=int(dataset.n_points * subset))\n",
    "    return dataset.points[ids]\n",
    "\n",
    "\n",
    "points = generate_points()\n",
    "# Print first 5 rows to prove its a numpy array (n_points by 3)\n",
    "# Columns are (X Y Z)\n",
    "points[0:5, :]"
   ]
  },
  {
   "cell_type": "code",
   "execution_count": 4,
   "id": "8b6ee1a2",
   "metadata": {},
   "outputs": [
    {
     "data": {
      "text/plain": [
       "(67841, 3)"
      ]
     },
     "execution_count": 4,
     "metadata": {},
     "output_type": "execute_result"
    }
   ],
   "source": [
    "points.shape"
   ]
  },
  {
   "cell_type": "code",
   "execution_count": 5,
   "id": "bfea937c",
   "metadata": {},
   "outputs": [
    {
     "data": {
      "text/html": [
       "\n",
       "<table>\n",
       "<tr><th>PolyData</th><th>Information</th></tr>\n",
       "<tr><td>N Cells</td><td>67841</td></tr>\n",
       "<tr><td>N Points</td><td>67841</td></tr>\n",
       "<tr><td>N Strips</td><td>0</td></tr>\n",
       "<tr><td>X Bounds</td><td>4.809e+05, 4.811e+05</td></tr>\n",
       "<tr><td>Y Bounds</td><td>4.400e+06, 4.400e+06</td></tr>\n",
       "<tr><td>Z Bounds</td><td>1.754e+03, 1.785e+03</td></tr>\n",
       "<tr><td>N Arrays</td><td>0</td></tr>\n",
       "</table>\n",
       "\n"
      ],
      "text/plain": [
       "PolyData (0x7f2b4f177940)\n",
       "  N Cells:    67841\n",
       "  N Points:   67841\n",
       "  N Strips:   0\n",
       "  X Bounds:   4.809e+05, 4.811e+05\n",
       "  Y Bounds:   4.400e+06, 4.400e+06\n",
       "  Z Bounds:   1.754e+03, 1.785e+03\n",
       "  N Arrays:   0"
      ]
     },
     "execution_count": 5,
     "metadata": {},
     "output_type": "execute_result"
    }
   ],
   "source": [
    "point_cloud = pv.PolyData(points)\n",
    "point_cloud"
   ]
  },
  {
   "cell_type": "code",
   "execution_count": 6,
   "id": "a52b9b30",
   "metadata": {},
   "outputs": [
    {
     "data": {
      "text/plain": [
       "True"
      ]
     },
     "execution_count": 6,
     "metadata": {},
     "output_type": "execute_result"
    }
   ],
   "source": [
    "np.allclose(points, point_cloud.points)"
   ]
  },
  {
   "cell_type": "code",
   "execution_count": null,
   "id": "2f7bacd0",
   "metadata": {},
   "outputs": [],
   "source": [
    "point_cloud.plot(eye_dome_lighting=True)"
   ]
  },
  {
   "cell_type": "code",
   "execution_count": null,
   "id": "b4b1cd2f",
   "metadata": {},
   "outputs": [],
   "source": []
  },
  {
   "cell_type": "code",
   "execution_count": null,
   "id": "47d7c40c",
   "metadata": {},
   "outputs": [],
   "source": []
  },
  {
   "cell_type": "code",
   "execution_count": null,
   "id": "eeab8df9",
   "metadata": {},
   "outputs": [],
   "source": [
    "import pyvista as pv\n",
    "from pyvista import examples\n",
    "\n",
    "# download an example and display it using physically based rendering.\n",
    "mesh = examples.download_lucy()\n",
    "mesh.plot(color='lightgrey', pbr=True, metallic=0.2,\n",
    "          jupyter_backend='pythreejs')"
   ]
  },
  {
   "cell_type": "code",
   "execution_count": null,
   "id": "5f9371c0",
   "metadata": {},
   "outputs": [],
   "source": []
  },
  {
   "cell_type": "code",
   "execution_count": 1,
   "id": "7b8710eb",
   "metadata": {},
   "outputs": [
    {
     "name": "stderr",
     "output_type": "stream",
     "text": [
      "/data/estorrs/miniconda3/envs/mushroom/lib/python3.10/site-packages/pyvista/plotting/plotting.py:147: UserWarning: \n",
      "This system does not appear to be running an xserver.\n",
      "PyVista will likely segfault when rendering.\n",
      "\n",
      "Try starting a virtual frame buffer with xvfb, or using\n",
      "  ``pyvista.start_xvfb()``\n",
      "\n",
      "  warnings.warn(\n"
     ]
    },
    {
     "ename": "ImportError",
     "evalue": "The use of custom colormaps requires the installation of matplotlib>=3.5.0.",
     "output_type": "error",
     "traceback": [
      "\u001b[0;31m---------------------------------------------------------------------------\u001b[0m",
      "\u001b[0;31mImportError\u001b[0m                               Traceback (most recent call last)",
      "Cell \u001b[0;32mIn[1], line 2\u001b[0m\n\u001b[1;32m      1\u001b[0m \u001b[38;5;28;01mfrom\u001b[39;00m \u001b[38;5;21;01mpyvista\u001b[39;00m \u001b[38;5;28;01mimport\u001b[39;00m demos\n\u001b[0;32m----> 2\u001b[0m \u001b[43mdemos\u001b[49m\u001b[38;5;241;43m.\u001b[39;49m\u001b[43mplot_logo\u001b[49m\u001b[43m(\u001b[49m\u001b[43mjupyter_backend\u001b[49m\u001b[38;5;241;43m=\u001b[39;49m\u001b[38;5;124;43m'\u001b[39;49m\u001b[38;5;124;43mpanel\u001b[39;49m\u001b[38;5;124;43m'\u001b[39;49m\u001b[43m)\u001b[49m\n",
      "File \u001b[0;32m/data/estorrs/miniconda3/envs/mushroom/lib/python3.10/site-packages/pyvista/demos/logo.py:150\u001b[0m, in \u001b[0;36mplot_logo\u001b[0;34m(window_size, off_screen, screenshot, cpos, just_return_plotter, show_note, **kwargs)\u001b[0m\n\u001b[1;32m    148\u001b[0m faces[:, \u001b[38;5;241m1\u001b[39m:] \u001b[38;5;241m=\u001b[39m faces[:, \u001b[38;5;241m1\u001b[39m:][:, ::\u001b[38;5;241m-\u001b[39m\u001b[38;5;241m1\u001b[39m]\n\u001b[1;32m    149\u001b[0m v_grid_atom_surf\u001b[38;5;241m.\u001b[39mfaces \u001b[38;5;241m=\u001b[39m faces\n\u001b[0;32m--> 150\u001b[0m \u001b[43mplotter\u001b[49m\u001b[38;5;241;43m.\u001b[39;49m\u001b[43madd_mesh\u001b[49m\u001b[43m(\u001b[49m\n\u001b[1;32m    151\u001b[0m \u001b[43m    \u001b[49m\u001b[43mv_grid_atom_surf\u001b[49m\u001b[43m,\u001b[49m\u001b[43m \u001b[49m\u001b[43mscalars\u001b[49m\u001b[38;5;241;43m=\u001b[39;49m\u001b[38;5;124;43m'\u001b[39;49m\u001b[38;5;124;43mscalars\u001b[39;49m\u001b[38;5;124;43m'\u001b[39;49m\u001b[43m,\u001b[49m\u001b[43m \u001b[49m\u001b[43mshow_edges\u001b[49m\u001b[38;5;241;43m=\u001b[39;49m\u001b[38;5;28;43;01mTrue\u001b[39;49;00m\u001b[43m,\u001b[49m\u001b[43m \u001b[49m\u001b[43mcmap\u001b[49m\u001b[38;5;241;43m=\u001b[39;49m\u001b[38;5;124;43m'\u001b[39;49m\u001b[38;5;124;43mwinter\u001b[39;49m\u001b[38;5;124;43m'\u001b[39;49m\u001b[43m,\u001b[49m\u001b[43m \u001b[49m\u001b[43mshow_scalar_bar\u001b[49m\u001b[38;5;241;43m=\u001b[39;49m\u001b[38;5;28;43;01mFalse\u001b[39;49;00m\n\u001b[1;32m    152\u001b[0m \u001b[43m\u001b[49m\u001b[43m)\u001b[49m\n\u001b[1;32m    154\u001b[0m \u001b[38;5;66;03m# letter 'i'\u001b[39;00m\n\u001b[1;32m    155\u001b[0m i_grid \u001b[38;5;241m=\u001b[39m pyvista\u001b[38;5;241m.\u001b[39mvoxelize(mesh_letters[\u001b[38;5;124m'\u001b[39m\u001b[38;5;124mi\u001b[39m\u001b[38;5;124m'\u001b[39m], density\u001b[38;5;241m=\u001b[39m\u001b[38;5;241m0.1\u001b[39m)\n",
      "File \u001b[0;32m/data/estorrs/miniconda3/envs/mushroom/lib/python3.10/site-packages/pyvista/plotting/plotting.py:3399\u001b[0m, in \u001b[0;36mBasePlotter.add_mesh\u001b[0;34m(self, mesh, color, style, scalars, clim, show_edges, edge_color, point_size, line_width, opacity, flip_scalars, lighting, n_colors, interpolate_before_map, cmap, label, reset_camera, scalar_bar_args, show_scalar_bar, multi_colors, name, texture, render_points_as_spheres, render_lines_as_tubes, smooth_shading, split_sharp_edges, ambient, diffuse, specular, specular_power, nan_color, nan_opacity, culling, rgb, categories, silhouette, use_transparency, below_color, above_color, annotations, pickable, preference, log_scale, pbr, metallic, roughness, render, component, emissive, copy_mesh, backface_params, show_vertices, **kwargs)\u001b[0m\n\u001b[1;32m   3397\u001b[0m \u001b[38;5;66;03m# Scalars formatting ==================================================\u001b[39;00m\n\u001b[1;32m   3398\u001b[0m \u001b[38;5;28;01mif\u001b[39;00m scalars \u001b[38;5;129;01mis\u001b[39;00m \u001b[38;5;129;01mnot\u001b[39;00m \u001b[38;5;28;01mNone\u001b[39;00m:\n\u001b[0;32m-> 3399\u001b[0m     \u001b[38;5;28;43mself\u001b[39;49m\u001b[38;5;241;43m.\u001b[39;49m\u001b[43mmapper\u001b[49m\u001b[38;5;241;43m.\u001b[39;49m\u001b[43mset_scalars\u001b[49m\u001b[43m(\u001b[49m\n\u001b[1;32m   3400\u001b[0m \u001b[43m        \u001b[49m\u001b[43mscalars\u001b[49m\u001b[43m,\u001b[49m\n\u001b[1;32m   3401\u001b[0m \u001b[43m        \u001b[49m\u001b[43mscalars_name\u001b[49m\u001b[43m,\u001b[49m\n\u001b[1;32m   3402\u001b[0m \u001b[43m        \u001b[49m\u001b[43mn_colors\u001b[49m\u001b[43m,\u001b[49m\n\u001b[1;32m   3403\u001b[0m \u001b[43m        \u001b[49m\u001b[43mscalar_bar_args\u001b[49m\u001b[43m,\u001b[49m\n\u001b[1;32m   3404\u001b[0m \u001b[43m        \u001b[49m\u001b[43mrgb\u001b[49m\u001b[43m,\u001b[49m\n\u001b[1;32m   3405\u001b[0m \u001b[43m        \u001b[49m\u001b[43mcomponent\u001b[49m\u001b[43m,\u001b[49m\n\u001b[1;32m   3406\u001b[0m \u001b[43m        \u001b[49m\u001b[43mpreference\u001b[49m\u001b[43m,\u001b[49m\n\u001b[1;32m   3407\u001b[0m \u001b[43m        \u001b[49m\u001b[43mcustom_opac\u001b[49m\u001b[43m,\u001b[49m\n\u001b[1;32m   3408\u001b[0m \u001b[43m        \u001b[49m\u001b[43mannotations\u001b[49m\u001b[43m,\u001b[49m\n\u001b[1;32m   3409\u001b[0m \u001b[43m        \u001b[49m\u001b[43mlog_scale\u001b[49m\u001b[43m,\u001b[49m\n\u001b[1;32m   3410\u001b[0m \u001b[43m        \u001b[49m\u001b[43mnan_color\u001b[49m\u001b[43m,\u001b[49m\n\u001b[1;32m   3411\u001b[0m \u001b[43m        \u001b[49m\u001b[43mabove_color\u001b[49m\u001b[43m,\u001b[49m\n\u001b[1;32m   3412\u001b[0m \u001b[43m        \u001b[49m\u001b[43mbelow_color\u001b[49m\u001b[43m,\u001b[49m\n\u001b[1;32m   3413\u001b[0m \u001b[43m        \u001b[49m\u001b[43mcmap\u001b[49m\u001b[43m,\u001b[49m\n\u001b[1;32m   3414\u001b[0m \u001b[43m        \u001b[49m\u001b[43mflip_scalars\u001b[49m\u001b[43m,\u001b[49m\n\u001b[1;32m   3415\u001b[0m \u001b[43m        \u001b[49m\u001b[43mopacity\u001b[49m\u001b[43m,\u001b[49m\n\u001b[1;32m   3416\u001b[0m \u001b[43m        \u001b[49m\u001b[43mcategories\u001b[49m\u001b[43m,\u001b[49m\n\u001b[1;32m   3417\u001b[0m \u001b[43m        \u001b[49m\u001b[43mclim\u001b[49m\u001b[43m,\u001b[49m\n\u001b[1;32m   3418\u001b[0m \u001b[43m    \u001b[49m\u001b[43m)\u001b[49m\n\u001b[1;32m   3419\u001b[0m     \u001b[38;5;28mself\u001b[39m\u001b[38;5;241m.\u001b[39mmapper\u001b[38;5;241m.\u001b[39mscalar_visibility \u001b[38;5;241m=\u001b[39m \u001b[38;5;28;01mTrue\u001b[39;00m\n\u001b[1;32m   3420\u001b[0m \u001b[38;5;28;01melif\u001b[39;00m custom_opac:  \u001b[38;5;66;03m# no scalars but custom opacity\u001b[39;00m\n",
      "File \u001b[0;32m/data/estorrs/miniconda3/envs/mushroom/lib/python3.10/site-packages/pyvista/plotting/mapper.py:694\u001b[0m, in \u001b[0;36mDataSetMapper.set_scalars\u001b[0;34m(self, scalars, scalars_name, n_colors, scalar_bar_args, rgb, component, preference, custom_opac, annotations, log_scale, nan_color, above_color, below_color, cmap, flip_scalars, opacity, categories, clim)\u001b[0m\n\u001b[1;32m    691\u001b[0m         n_colors \u001b[38;5;241m=\u001b[39m categories\n\u001b[1;32m    693\u001b[0m \u001b[38;5;28;01mif\u001b[39;00m cmap \u001b[38;5;129;01mis\u001b[39;00m \u001b[38;5;129;01mnot\u001b[39;00m \u001b[38;5;28;01mNone\u001b[39;00m:\n\u001b[0;32m--> 694\u001b[0m     \u001b[38;5;28;43mself\u001b[39;49m\u001b[38;5;241;43m.\u001b[39;49m\u001b[43mlookup_table\u001b[49m\u001b[38;5;241;43m.\u001b[39;49m\u001b[43mapply_cmap\u001b[49m\u001b[43m(\u001b[49m\u001b[43mcmap\u001b[49m\u001b[43m,\u001b[49m\u001b[43m \u001b[49m\u001b[43mn_colors\u001b[49m\u001b[43m)\u001b[49m\n\u001b[1;32m    695\u001b[0m \u001b[38;5;28;01melse\u001b[39;00m:  \u001b[38;5;66;03m# pragma: no cover\u001b[39;00m\n\u001b[1;32m    696\u001b[0m     \u001b[38;5;66;03m# should be impossible to get to this point as VTK package\u001b[39;00m\n\u001b[1;32m    697\u001b[0m     \u001b[38;5;66;03m# no requires matplotlib\u001b[39;00m\n\u001b[1;32m    698\u001b[0m     \u001b[38;5;28mself\u001b[39m\u001b[38;5;241m.\u001b[39mlookup_table\u001b[38;5;241m.\u001b[39mn_values \u001b[38;5;241m=\u001b[39m n_colors\n",
      "File \u001b[0;32m/data/estorrs/miniconda3/envs/mushroom/lib/python3.10/site-packages/pyvista/plotting/lookup_table.py:765\u001b[0m, in \u001b[0;36mLookupTable.apply_cmap\u001b[0;34m(self, cmap, n_values, flip)\u001b[0m\n\u001b[1;32m    762\u001b[0m \u001b[38;5;28;01mif\u001b[39;00m \u001b[38;5;28misinstance\u001b[39m(cmap, \u001b[38;5;28mlist\u001b[39m):\n\u001b[1;32m    763\u001b[0m     n_values \u001b[38;5;241m=\u001b[39m \u001b[38;5;28mlen\u001b[39m(cmap)\n\u001b[0;32m--> 765\u001b[0m cmap \u001b[38;5;241m=\u001b[39m \u001b[43mget_cmap_safe\u001b[49m\u001b[43m(\u001b[49m\u001b[43mcmap\u001b[49m\u001b[43m)\u001b[49m\n\u001b[1;32m    766\u001b[0m values \u001b[38;5;241m=\u001b[39m cmap(np\u001b[38;5;241m.\u001b[39mlinspace(\u001b[38;5;241m0\u001b[39m, \u001b[38;5;241m1\u001b[39m, n_values)) \u001b[38;5;241m*\u001b[39m \u001b[38;5;241m255\u001b[39m\n\u001b[1;32m    768\u001b[0m \u001b[38;5;28;01mif\u001b[39;00m flip:\n",
      "File \u001b[0;32m/data/estorrs/miniconda3/envs/mushroom/lib/python3.10/site-packages/pyvista/plotting/colors.py:1221\u001b[0m, in \u001b[0;36mget_cmap_safe\u001b[0;34m(cmap)\u001b[0m\n\u001b[1;32m   1219\u001b[0m     min_req \u001b[38;5;241m=\u001b[39m \u001b[38;5;124m'\u001b[39m\u001b[38;5;124m3.5.0\u001b[39m\u001b[38;5;124m'\u001b[39m\n\u001b[1;32m   1220\u001b[0m     \u001b[38;5;28;01mif\u001b[39;00m \u001b[38;5;129;01mnot\u001b[39;00m scooby\u001b[38;5;241m.\u001b[39mmeets_version(matplotlib\u001b[38;5;241m.\u001b[39m__version__, min_req):\n\u001b[0;32m-> 1221\u001b[0m         \u001b[38;5;28;01mraise\u001b[39;00m \u001b[38;5;167;01mImportError\u001b[39;00m(\n\u001b[1;32m   1222\u001b[0m             \u001b[38;5;124m'\u001b[39m\u001b[38;5;124mThe use of custom colormaps requires the installation of \u001b[39m\u001b[38;5;124m'\u001b[39m\n\u001b[1;32m   1223\u001b[0m             \u001b[38;5;124mf\u001b[39m\u001b[38;5;124m'\u001b[39m\u001b[38;5;124mmatplotlib>=\u001b[39m\u001b[38;5;132;01m{\u001b[39;00mmin_req\u001b[38;5;132;01m}\u001b[39;00m\u001b[38;5;124m.\u001b[39m\u001b[38;5;124m'\u001b[39m\n\u001b[1;32m   1224\u001b[0m         ) \u001b[38;5;28;01mfrom\u001b[39;00m \u001b[38;5;28mNone\u001b[39m\n\u001b[1;32m   1226\u001b[0m \u001b[38;5;28;01mif\u001b[39;00m \u001b[38;5;129;01mnot\u001b[39;00m \u001b[38;5;28misinstance\u001b[39m(cmap, colors\u001b[38;5;241m.\u001b[39mColormap):\n\u001b[1;32m   1227\u001b[0m     cmap \u001b[38;5;241m=\u001b[39m colormaps[cmap]\n",
      "\u001b[0;31mImportError\u001b[0m: The use of custom colormaps requires the installation of matplotlib>=3.5.0."
     ]
    }
   ],
   "source": [
    "from pyvista import demos\n",
    "demos.plot_logo(jupyter_backend='panel')"
   ]
  },
  {
   "cell_type": "code",
   "execution_count": 2,
   "id": "f59f6093",
   "metadata": {},
   "outputs": [],
   "source": [
    "import matplotlib"
   ]
  },
  {
   "cell_type": "code",
   "execution_count": 3,
   "id": "7129d1d2",
   "metadata": {},
   "outputs": [
    {
     "data": {
      "text/plain": [
       "'3.4.3'"
      ]
     },
     "execution_count": 3,
     "metadata": {},
     "output_type": "execute_result"
    }
   ],
   "source": [
    "matplotlib.__version__"
   ]
  },
  {
   "cell_type": "code",
   "execution_count": null,
   "id": "b341fa5f",
   "metadata": {},
   "outputs": [],
   "source": []
  }
 ],
 "metadata": {
  "kernelspec": {
   "display_name": "Python 3 (ipykernel)",
   "language": "python",
   "name": "python3"
  },
  "language_info": {
   "codemirror_mode": {
    "name": "ipython",
    "version": 3
   },
   "file_extension": ".py",
   "mimetype": "text/x-python",
   "name": "python",
   "nbconvert_exporter": "python",
   "pygments_lexer": "ipython3",
   "version": "3.10.9"
  }
 },
 "nbformat": 4,
 "nbformat_minor": 5
}
