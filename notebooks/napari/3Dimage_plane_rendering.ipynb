{
 "cells": [
  {
   "cell_type": "markdown",
   "metadata": {},
   "source": [
    "\n",
    "# 3D image plane rendering\n",
    "\n",
    "Display one 3D image layer and display it as a plane\n",
    "with a simple widget for modifying plane parameters.\n",
    "\n",
    ".. tags:: visualization-advanced, gui, layers\n"
   ]
  },
  {
   "cell_type": "code",
   "execution_count": 1,
   "metadata": {},
   "outputs": [],
   "source": [
    "import numpy as np\n",
    "from skimage import data\n",
    "\n",
    "import napari\n",
    "from napari.utils.translations import trans\n",
    "\n",
    "viewer = napari.Viewer(ndisplay=3)\n",
    "\n",
    "# add a 3D image\n",
    "blobs = data.binary_blobs(\n",
    "    length=64, volume_fraction=0.1, n_dim=3\n",
    ").astype(np.float32)\n",
    "image_layer = viewer.add_image(\n",
    "    blobs, rendering='mip', name='volume', blending='additive', opacity=0.25\n",
    ")\n",
    "\n",
    "# add the same 3D image and render as plane\n",
    "# plane should be in 'additive' blending mode or depth looks all wrong\n",
    "plane_parameters = {\n",
    "    'position': (32, 32, 32),\n",
    "    'normal': (0, 1, 0),\n",
    "    'thickness': 10,\n",
    "}\n",
    "\n",
    "plane_layer = viewer.add_image(\n",
    "    blobs,\n",
    "    rendering='average',\n",
    "    name='plane',\n",
    "    depiction='plane',\n",
    "    blending='additive',\n",
    "    opacity=0.5,\n",
    "    plane=plane_parameters\n",
    ")\n",
    "viewer.axes.visible = True\n",
    "viewer.camera.angles = (45, 45, 45)\n",
    "viewer.camera.zoom = 5\n",
    "viewer.text_overlay.text = trans._(\n",
    "    \"\"\"\n",
    "shift + click and drag to move the plane\n",
    "press 'x', 'y' or 'z' to orient the plane along that axis around the cursor\n",
    "press 'o' to orient the plane normal along the camera view direction\n",
    "press and hold 'o' then click and drag to make the plane normal follow the camera\n",
    "\"\"\"\n",
    ")\n",
    "viewer.text_overlay.visible = True\n",
    "if __name__ == '__main__':\n",
    "    napari.run()"
   ]
  },
  {
   "cell_type": "code",
   "execution_count": null,
   "metadata": {},
   "outputs": [],
   "source": []
  }
 ],
 "metadata": {
  "kernelspec": {
   "display_name": "Python 3 (ipykernel)",
   "language": "python",
   "name": "python3"
  },
  "language_info": {
   "codemirror_mode": {
    "name": "ipython",
    "version": 3
   },
   "file_extension": ".py",
   "mimetype": "text/x-python",
   "name": "python",
   "nbconvert_exporter": "python",
   "pygments_lexer": "ipython3",
   "version": "3.11.5"
  }
 },
 "nbformat": 4,
 "nbformat_minor": 1
}
