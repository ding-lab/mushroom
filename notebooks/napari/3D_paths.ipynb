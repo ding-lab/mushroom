{
 "cells": [
  {
   "cell_type": "markdown",
   "metadata": {},
   "source": [
    "\n",
    "# 3D Paths\n",
    "\n",
    "Display two vectors layers ontop of a 4-D image layer. One of the vectors\n",
    "layers is 3D and \"sliced\" with a different set of vectors appearing on\n",
    "different 3D slices. Another is 2D and \"broadcast\" with the same vectors\n",
    "appearing on each slice.\n",
    "\n",
    ".. tags:: visualization-advanced, layers\n"
   ]
  },
  {
   "cell_type": "code",
   "execution_count": 1,
   "metadata": {},
   "outputs": [
    {
     "name": "stdout",
     "output_type": "stream",
     "text": [
      "Path (2, 6, 3)\n"
     ]
    }
   ],
   "source": [
    "import numpy as np\n",
    "from skimage import data\n",
    "\n",
    "import napari\n",
    "\n",
    "blobs = data.binary_blobs(\n",
    "            length=128, blob_size_fraction=0.05, n_dim=3, volume_fraction=0.05\n",
    "        )\n",
    "\n",
    "viewer = napari.Viewer(ndisplay=3)\n",
    "viewer.add_image(blobs.astype(float))\n",
    "\n",
    "# sample vector coord-like data\n",
    "path = np.array([np.array([[0, 0, 0], [0, 10, 10], [0, 5, 15], [20, 5, 15],\n",
    "    [56, 70, 21], [127, 127, 127]]),\n",
    "    np.array([[0, 0, 0], [0, 10, 10], [0, 5, 15], [0, 5, 15],\n",
    "        [0, 70, 21], [0, 127, 127]])])\n",
    "\n",
    "print('Path', path.shape)\n",
    "layer = viewer.add_shapes(\n",
    "    path, shape_type='path', edge_width=4, edge_color=['red', 'blue']\n",
    ")\n",
    "\n",
    "if __name__ == '__main__':\n",
    "    napari.run()"
   ]
  },
  {
   "cell_type": "code",
   "execution_count": null,
   "metadata": {},
   "outputs": [],
   "source": []
  }
 ],
 "metadata": {
  "kernelspec": {
   "display_name": "Python 3 (ipykernel)",
   "language": "python",
   "name": "python3"
  },
  "language_info": {
   "codemirror_mode": {
    "name": "ipython",
    "version": 3
   },
   "file_extension": ".py",
   "mimetype": "text/x-python",
   "name": "python",
   "nbconvert_exporter": "python",
   "pygments_lexer": "ipython3",
   "version": "3.11.5"
  }
 },
 "nbformat": 4,
 "nbformat_minor": 1
}
