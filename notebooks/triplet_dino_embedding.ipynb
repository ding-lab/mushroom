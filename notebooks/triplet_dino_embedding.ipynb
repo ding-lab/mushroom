{
 "cells": [
  {
   "cell_type": "code",
   "execution_count": 66,
   "id": "21dc529b",
   "metadata": {},
   "outputs": [],
   "source": [
    "import json\n",
    "import re\n",
    "import os\n",
    "from pathlib import Path\n",
    "\n",
    "import scanpy as sc\n",
    "import numpy as np\n",
    "import matplotlib.pyplot as plt\n",
    "import tifffile\n",
    "import torch\n",
    "import torch.nn.functional as T\n",
    "import torchvision.transforms.functional as TF\n",
    "from torch.utils.data import Dataset, DataLoader\n",
    "from einops import rearrange"
   ]
  },
  {
   "cell_type": "code",
   "execution_count": 2,
   "id": "d8d4dea8",
   "metadata": {},
   "outputs": [],
   "source": [
    "%load_ext autoreload"
   ]
  },
  {
   "cell_type": "code",
   "execution_count": 3,
   "id": "5ca021bc",
   "metadata": {},
   "outputs": [],
   "source": [
    "%autoreload 2"
   ]
  },
  {
   "cell_type": "code",
   "execution_count": 4,
   "id": "750191c6",
   "metadata": {},
   "outputs": [],
   "source": [
    "import mushroom.utils as utils"
   ]
  },
  {
   "cell_type": "code",
   "execution_count": 13,
   "id": "7277f1e7",
   "metadata": {},
   "outputs": [
    {
     "name": "stdout",
     "output_type": "stream",
     "text": [
      "clustered_patches torch.Size([192, 188])\n",
      "patch_centroids torch.Size([50, 1024])\n",
      "patch_embs torch.Size([1024, 192, 188])\n"
     ]
    }
   ],
   "source": [
    "s0 = torch.load('/data/estorrs/DINO-extended/data/runs/HT397B1/metagene_dino_v2/results/s0_50knn.pt')\n",
    "s1 = torch.load('/data/estorrs/DINO-extended/data/runs/HT397B1_v1/codex/run_1/results/s1_20knn.pt')\n",
    "s2 = torch.load('/data/estorrs/DINO-extended/data/runs/HT397B1_v1/codex/run_1/results/s2_20knn.pt')\n",
    "s3 = torch.load('/data/estorrs/DINO-extended/data/runs/HT397B1/metagene_dino_v2/results/s3_50knn.pt')\n",
    "for k, v in s0.items():\n",
    "    print(k, v.shape)"
   ]
  },
  {
   "cell_type": "code",
   "execution_count": 14,
   "id": "752e37cf",
   "metadata": {},
   "outputs": [
    {
     "name": "stdout",
     "output_type": "stream",
     "text": [
      "torch.Size([1024, 192, 188])\n",
      "torch.Size([1024, 240, 236])\n",
      "torch.Size([1024, 240, 236])\n",
      "torch.Size([1024, 192, 188])\n"
     ]
    }
   ],
   "source": [
    "for s in [s0, s1, s2, s3]:\n",
    "    print(s['patch_embs'].shape)"
   ]
  },
  {
   "cell_type": "code",
   "execution_count": 15,
   "id": "dfdee1bf",
   "metadata": {},
   "outputs": [
    {
     "data": {
      "text/plain": [
       "torch.Size([240, 236])"
      ]
     },
     "execution_count": 15,
     "metadata": {},
     "output_type": "execute_result"
    }
   ],
   "source": [
    "x1.shape[1:]"
   ]
  },
  {
   "cell_type": "code",
   "execution_count": 16,
   "id": "7bb181fc",
   "metadata": {},
   "outputs": [
    {
     "data": {
      "text/plain": [
       "(torch.Size([1024, 240, 236]),\n",
       " torch.Size([1024, 240, 236]),\n",
       " torch.Size([1024, 240, 236]),\n",
       " torch.Size([1024, 240, 236]))"
      ]
     },
     "execution_count": 16,
     "metadata": {},
     "output_type": "execute_result"
    }
   ],
   "source": [
    "x0, x1, x2, x3 = s0['patch_embs'], s1['patch_embs'], s2['patch_embs'], s3['patch_embs']\n",
    "x0 = TF.resize(x0, x1.shape[1:], antialias=False)\n",
    "x3 = TF.resize(x3, x1.shape[1:], antialias=False)\n",
    "x0.shape, x1.shape, x2.shape, x3.shape"
   ]
  },
  {
   "cell_type": "code",
   "execution_count": 23,
   "id": "326b9cc8",
   "metadata": {},
   "outputs": [],
   "source": [
    "slices = [x0, x1, x2, x3]"
   ]
  },
  {
   "cell_type": "code",
   "execution_count": 25,
   "id": "14119108",
   "metadata": {},
   "outputs": [
    {
     "data": {
      "text/plain": [
       "torch.Size([56640, 1024])"
      ]
     },
     "execution_count": 25,
     "metadata": {},
     "output_type": "execute_result"
    }
   ],
   "source": [
    "slices = [rearrange(x, 'c h w -> (h w) c') for x in slices]\n",
    "slices[0].shape"
   ]
  },
  {
   "cell_type": "code",
   "execution_count": 46,
   "id": "59611c1e",
   "metadata": {},
   "outputs": [],
   "source": [
    "def normalize(x):\n",
    "    x -= x.mean(dim=0)\n",
    "    x /= x.std(dim=0)\n",
    "    return x"
   ]
  },
  {
   "cell_type": "code",
   "execution_count": 54,
   "id": "f8e2019e",
   "metadata": {},
   "outputs": [],
   "source": [
    "slices = [normalize(x) for x in slices]"
   ]
  },
  {
   "cell_type": "code",
   "execution_count": 92,
   "id": "7b404b69",
   "metadata": {},
   "outputs": [],
   "source": [
    "class SliceTripletDataset(Dataset):\n",
    "    def __init__(self, slices):\n",
    "        self.slices = slices\n",
    "        self.idxs = torch.arange(len(self.slices[0]))\n",
    "    \n",
    "    def __len__(self):\n",
    "        return len(self.idxs)\n",
    "    \n",
    "    def __getitem__(self, idx):\n",
    "        neg_patch_idx = torch.randint(0, len(self.idxs), (1,)).item()\n",
    "        \n",
    "        pool = np.arange(len(self.slices))\n",
    "        anchor_slide_idx = np.random.choice(pool)\n",
    "        pool = np.delete(pool, anchor_slide_idx)\n",
    "        pos_slide_idx = np.random.choice(pool)\n",
    "        neg_slide_idx = np.random.choice(pool)\n",
    "        \n",
    "        return {\n",
    "            'anchor': self.slices[anchor_slide_idx][idx],\n",
    "            'pos': self.slices[pos_slide_idx][idx],\n",
    "            'neg': self.slices[neg_slide_idx][neg_patch_idx]\n",
    "        }"
   ]
  },
  {
   "cell_type": "code",
   "execution_count": 93,
   "id": "36fa3c44",
   "metadata": {},
   "outputs": [],
   "source": [
    "ds = SliceTripletDataset(slices)"
   ]
  },
  {
   "cell_type": "code",
   "execution_count": 94,
   "id": "0a608850",
   "metadata": {},
   "outputs": [
    {
     "data": {
      "text/plain": [
       "{'anchor': tensor([-0.7145, -0.5873,  1.8824,  ..., -2.1483,  0.8828,  1.9796]),\n",
       " 'pos': tensor([-0.6299,  0.7921,  1.2935,  ..., -0.6145,  0.9024,  1.0062]),\n",
       " 'neg': tensor([ 0.9497,  0.0120, -1.4810,  ..., -0.5854, -0.6937, -1.2840])}"
      ]
     },
     "execution_count": 94,
     "metadata": {},
     "output_type": "execute_result"
    }
   ],
   "source": [
    "ds[0]"
   ]
  },
  {
   "cell_type": "code",
   "execution_count": 95,
   "id": "0a163085",
   "metadata": {},
   "outputs": [],
   "source": [
    "batch_size = 256\n",
    "dl = DataLoader(ds, batch_size=batch_size, shuffle=True, num_workers=10)"
   ]
  },
  {
   "cell_type": "code",
   "execution_count": 96,
   "id": "6ef17e88",
   "metadata": {},
   "outputs": [],
   "source": [
    "b = next(iter(dl))"
   ]
  },
  {
   "cell_type": "code",
   "execution_count": null,
   "id": "2d6a8e23",
   "metadata": {},
   "outputs": [],
   "source": []
  },
  {
   "cell_type": "code",
   "execution_count": 87,
   "id": "a07e22d3",
   "metadata": {},
   "outputs": [],
   "source": [
    "class SliceCluster(torch.nn.Module):\n",
    "    def __init__(self, in_dim, emb_dim=64):\n",
    "        super().__init__()\n",
    "        self.in_dim = in_dim\n",
    "        self.emb_dim = emb_dim\n",
    "        \n",
    "        self.encoder = torch.nn.Sequential(\n",
    "            torch.nn.Linear(self.in_dim, self.in_dim // 2),\n",
    "            torch.nn.BatchNorm1d(self.in_dim // 2),\n",
    "            torch.nn.ReLU(),\n",
    "            torch.nn.Linear(self.in_dim // 2, self.in_dim // 4),\n",
    "            torch.nn.BatchNorm1d(self.in_dim // 4),\n",
    "            torch.nn.ReLU(),\n",
    "            torch.nn.Linear(self.in_dim // 4, self.in_dim // 8),\n",
    "            torch.nn.BatchNorm1d(self.in_dim // 8),\n",
    "            torch.nn.ReLU(),\n",
    "            torch.nn.Linear(self.in_dim // 8, self.emb_dim)\n",
    "        )\n",
    "        \n",
    "        self.loss = torch.nn.TripletMarginLoss()\n",
    "        \n",
    "    def calculate_loss(self, anchor, pos, neg):\n",
    "        return self.loss(anchor, pos, neg)\n",
    "        \n",
    "    def forward(self, anchor, pos, neg):\n",
    "        anchor = self.encoder(anchor)\n",
    "        pos = self.encoder(pos)\n",
    "        neg = self.encoder(neg)\n",
    "        \n",
    "        return anchor, pos, neg"
   ]
  },
  {
   "cell_type": "code",
   "execution_count": 88,
   "id": "52f0de2e",
   "metadata": {},
   "outputs": [],
   "source": [
    "model = SliceCluster(len(ds[0]['anchor']))"
   ]
  },
  {
   "cell_type": "code",
   "execution_count": 99,
   "id": "b4894d0f",
   "metadata": {},
   "outputs": [
    {
     "data": {
      "text/plain": [
       "torch.Size([256, 64])"
      ]
     },
     "execution_count": 99,
     "metadata": {},
     "output_type": "execute_result"
    }
   ],
   "source": [
    "anchor, pos, neg = b['anchor'], b['pos'], b['neg']\n",
    "anchor, pos, neg = model(anchor, pos, neg)\n",
    "anchor.shape"
   ]
  },
  {
   "cell_type": "code",
   "execution_count": 100,
   "id": "e2e6d0c2",
   "metadata": {},
   "outputs": [
    {
     "data": {
      "text/plain": [
       "tensor(1.0697, grad_fn=<MeanBackward0>)"
      ]
     },
     "execution_count": 100,
     "metadata": {},
     "output_type": "execute_result"
    }
   ],
   "source": [
    "model.calculate_loss(anchor, pos, neg)"
   ]
  },
  {
   "cell_type": "code",
   "execution_count": null,
   "id": "77bf9cd2",
   "metadata": {},
   "outputs": [],
   "source": []
  }
 ],
 "metadata": {
  "kernelspec": {
   "display_name": "Python 3 (ipykernel)",
   "language": "python",
   "name": "python3"
  },
  "language_info": {
   "codemirror_mode": {
    "name": "ipython",
    "version": 3
   },
   "file_extension": ".py",
   "mimetype": "text/x-python",
   "name": "python",
   "nbconvert_exporter": "python",
   "pygments_lexer": "ipython3",
   "version": "3.10.9"
  }
 },
 "nbformat": 4,
 "nbformat_minor": 5
}
