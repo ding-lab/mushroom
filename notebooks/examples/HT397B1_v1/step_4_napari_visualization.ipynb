{
 "cells": [
  {
   "cell_type": "code",
   "execution_count": 2,
   "id": "de43fe6c",
   "metadata": {},
   "outputs": [],
   "source": [
    "import os\n",
    "import re\n",
    "\n",
    "import matplotlib.pyplot as plt\n",
    "import numpy as np\n",
    "import scanpy as sc\n",
    "import seaborn as sns\n",
    "import torch\n",
    "import tifffile\n",
    "import yaml\n",
    "from torchio.transforms import Resize\n",
    "from einops import rearrange\n",
    "\n",
    "import napari"
   ]
  },
  {
   "cell_type": "code",
   "execution_count": 3,
   "id": "ef473770",
   "metadata": {},
   "outputs": [],
   "source": [
    "%load_ext autoreload"
   ]
  },
  {
   "cell_type": "code",
   "execution_count": 4,
   "id": "76b3d07f",
   "metadata": {},
   "outputs": [],
   "source": [
    "%autoreload 2"
   ]
  },
  {
   "cell_type": "code",
   "execution_count": 5,
   "id": "5ed280cb",
   "metadata": {},
   "outputs": [],
   "source": [
    "import mushroom.visualization.viewer as viewer\n",
    "from mushroom.visualization.napari import display_napari"
   ]
  },
  {
   "cell_type": "code",
   "execution_count": 6,
   "id": "4f164229",
   "metadata": {},
   "outputs": [],
   "source": [
    "config_filepath = '/Users/erikstorrs/Documents/ding/mushroom/data/examples/HT397B1_v1/mushroom_outputs/multiplex/config_local.yaml'\n",
    "outputs_filepath = '/Users/erikstorrs/Documents/ding/mushroom/data/examples/HT397B1_v1/mushroom_outputs/multiplex/outputs.pt'\n"
   ]
  },
  {
   "cell_type": "code",
   "execution_count": 7,
   "id": "18e87c4a",
   "metadata": {},
   "outputs": [
    {
     "data": {
      "text/plain": [
       "dict_keys(['recon_embs', 'recon_imgs', 'true_imgs', 'cluster_distances', 'cluster_distance_volume', 'cluster_centroids', 'cluster_ids'])"
      ]
     },
     "execution_count": 7,
     "metadata": {},
     "output_type": "execute_result"
    }
   ],
   "source": [
    "data = torch.load(outputs_filepath)\n",
    "data.keys()"
   ]
  },
  {
   "cell_type": "code",
   "execution_count": 8,
   "id": "ac506da9",
   "metadata": {},
   "outputs": [
    {
     "name": "stdout",
     "output_type": "stream",
     "text": [
      "recon_embs torch.Size([4, 1024, 60, 60])\n",
      "recon_imgs torch.Size([4, 24, 1920, 1920])\n",
      "true_imgs torch.Size([4, 24, 1920, 1920])\n",
      "cluster_distances torch.Size([4, 60, 60, 20])\n",
      "cluster_distance_volume torch.Size([30, 60, 60, 20])\n",
      "cluster_centroids torch.Size([20, 1024])\n",
      "cluster_ids torch.Size([4, 60, 60])\n"
     ]
    }
   ],
   "source": [
    "for k, v in data.items():\n",
    "    print(k, v.shape)"
   ]
  },
  {
   "cell_type": "code",
   "execution_count": 9,
   "id": "485a4b74",
   "metadata": {},
   "outputs": [
    {
     "data": {
      "text/plain": [
       "[{'data': [{'dtype': 'he',\n",
       "    'filepath': '/Users/erikstorrs/Documents/ding/mushroom/data/examples/HT397B1_v1/registration/registered/s0_he.tif'},\n",
       "   {'dtype': 'visium',\n",
       "    'filepath': '/Users/erikstorrs/Documents/ding/mushroom/data/examples/HT397B1_v1/registration/registered/s0_visium.h5ad'}],\n",
       "  'id': 's0',\n",
       "  'position': 0},\n",
       " {'data': [{'dtype': 'multiplex',\n",
       "    'filepath': '/Users/erikstorrs/Documents/ding/mushroom/data/examples/HT397B1_v1/registration/registered/s1_multiplex.ome.tiff'}],\n",
       "  'id': 's1',\n",
       "  'position': 1},\n",
       " {'data': [{'dtype': 'multiplex',\n",
       "    'filepath': '/Users/erikstorrs/Documents/ding/mushroom/data/examples/HT397B1_v1/registration/registered/s2_multiplex.ome.tiff'}],\n",
       "  'id': 's2',\n",
       "  'position': 11},\n",
       " {'data': [{'dtype': 'he',\n",
       "    'filepath': '/Users/erikstorrs/Documents/ding/mushroom/data/examples/HT397B1_v1/registration/registered/s3_he.tif'},\n",
       "   {'dtype': 'visium',\n",
       "    'filepath': '/Users/erikstorrs/Documents/ding/mushroom/data/examples/HT397B1_v1/registration/registered/s3_visium.h5ad'}],\n",
       "  'id': 's3',\n",
       "  'position': 20},\n",
       " {'data': [{'dtype': 'multiplex',\n",
       "    'filepath': '/Users/erikstorrs/Documents/ding/mushroom/data/examples/HT397B1_v1/registration/registered/s4_multiplex.ome.tiff'}],\n",
       "  'id': 's4',\n",
       "  'position': 21},\n",
       " {'data': [{'dtype': 'multiplex',\n",
       "    'filepath': '/Users/erikstorrs/Documents/ding/mushroom/data/examples/HT397B1_v1/registration/registered/s5_multiplex.ome.tiff'}],\n",
       "  'id': 's5',\n",
       "  'position': 30}]"
      ]
     },
     "execution_count": 9,
     "metadata": {},
     "output_type": "execute_result"
    }
   ],
   "source": [
    "config = yaml.safe_load(open(config_filepath))\n",
    "sections = config['sections']\n",
    "sections"
   ]
  },
  {
   "cell_type": "code",
   "execution_count": 10,
   "id": "77e03357",
   "metadata": {},
   "outputs": [],
   "source": [
    "obj = viewer.MushroomViewer(config, data, downsample=.5)"
   ]
  },
  {
   "cell_type": "code",
   "execution_count": 20,
   "id": "4eb93d29",
   "metadata": {},
   "outputs": [],
   "source": [
    "dtype_to_marker = {\n",
    "    'visium': ['EPCAM', 'CD8A', 'IL7R'],\n",
    "    'multiplex': ['Pan-Cytokeratin', 'CD8', 'CD45', 'SMA']\n",
    "}\n",
    "\n",
    "napari_args_list = obj.get_sections(dtype_to_marker=dtype_to_marker)"
   ]
  },
  {
   "cell_type": "code",
   "execution_count": 21,
   "id": "91d6ff5b",
   "metadata": {},
   "outputs": [],
   "source": [
    "# napari_args_list[3]"
   ]
  },
  {
   "cell_type": "code",
   "execution_count": 42,
   "id": "c7ceb7ff",
   "metadata": {
    "scrolled": true
   },
   "outputs": [],
   "source": [
    "display_napari(napari_args_list, obj.volume)\n",
    "napari.run()"
   ]
  },
  {
   "cell_type": "code",
   "execution_count": 27,
   "id": "079af30f",
   "metadata": {},
   "outputs": [],
   "source": [
    "from mushroom.visualization.napari import to_uint8"
   ]
  },
  {
   "cell_type": "code",
   "execution_count": 31,
   "id": "327a9b66",
   "metadata": {},
   "outputs": [
    {
     "data": {
      "text/plain": [
       "(20, 17, 960, 960)"
      ]
     },
     "execution_count": 31,
     "metadata": {},
     "output_type": "execute_result"
    }
   ],
   "source": [
    "volume = obj.volume.max() - obj.volume\n",
    "volume = to_uint8(volume)\n",
    "volume.shape"
   ]
  },
  {
   "cell_type": "code",
   "execution_count": 33,
   "id": "84907e0c",
   "metadata": {},
   "outputs": [
    {
     "data": {
      "text/plain": [
       "array([100.79606592, 102.55868483, 101.838717  , 101.60108507,\n",
       "        91.69741039,  88.65454433, 104.88467084, 100.44085593,\n",
       "        99.50361245, 103.23097631,  83.23634772, 104.31251666,\n",
       "        96.8032164 ,  81.83422635,  87.43895361,  96.21299811,\n",
       "        98.45984164, 105.38283171, 102.9230329 ,  97.19070664])"
      ]
     },
     "execution_count": 33,
     "metadata": {},
     "output_type": "execute_result"
    }
   ],
   "source": [
    "volume.mean(axis=(1,2,3))"
   ]
  },
  {
   "cell_type": "code",
   "execution_count": null,
   "id": "f4796ab0",
   "metadata": {},
   "outputs": [],
   "source": [
    "pct = .99\n",
    "pct = "
   ]
  },
  {
   "cell_type": "code",
   "execution_count": 38,
   "id": "30885876",
   "metadata": {},
   "outputs": [
    {
     "data": {
      "text/plain": [
       "torch.Size([20, 17, 960, 960])"
      ]
     },
     "execution_count": 38,
     "metadata": {},
     "output_type": "execute_result"
    }
   ],
   "source": [
    "obj.volume.shape"
   ]
  },
  {
   "cell_type": "code",
   "execution_count": 39,
   "id": "b4ba4972",
   "metadata": {},
   "outputs": [
    {
     "data": {
      "text/plain": [
       "torch.Size([20, 17, 960, 960])"
      ]
     },
     "execution_count": 39,
     "metadata": {},
     "output_type": "execute_result"
    }
   ],
   "source": [
    "probs = torch.nn.functional.softmax(obj.volume, dim=0)\n",
    "probs.shape"
   ]
  },
  {
   "cell_type": "code",
   "execution_count": 35,
   "id": "85d654f4",
   "metadata": {},
   "outputs": [
    {
     "name": "stderr",
     "output_type": "stream",
     "text": [
      "/Users/erikstorrs/miniconda3/envs/mushroom-dev/lib/python3.11/site-packages/seaborn/axisgrid.py:118: UserWarning: The figure layout has changed to tight\n",
      "  self._figure.tight_layout(*args, **kwargs)\n"
     ]
    },
    {
     "data": {
      "text/plain": [
       "<seaborn.axisgrid.FacetGrid at 0x38e22e810>"
      ]
     },
     "execution_count": 35,
     "metadata": {},
     "output_type": "execute_result"
    },
    {
     "data": {
      "image/png": "[encoded data removed]",
      "text/plain": [
       "<Figure size 500x500 with 1 Axes>"
      ]
     },
     "metadata": {},
     "output_type": "display_data"
    }
   ],
   "source": [
    "sns.displot(np.random.choice(volume[19].flatten(), size=5000))"
   ]
  },
  {
   "cell_type": "code",
   "execution_count": 36,
   "id": "d5350c44",
   "metadata": {},
   "outputs": [
    {
     "name": "stderr",
     "output_type": "stream",
     "text": [
      "/Users/erikstorrs/miniconda3/envs/mushroom-dev/lib/python3.11/site-packages/seaborn/axisgrid.py:118: UserWarning: The figure layout has changed to tight\n",
      "  self._figure.tight_layout(*args, **kwargs)\n"
     ]
    },
    {
     "data": {
      "text/plain": [
       "<seaborn.axisgrid.FacetGrid at 0x38e291ed0>"
      ]
     },
     "execution_count": 36,
     "metadata": {},
     "output_type": "execute_result"
    },
    {
     "data": {
      "image/png": "[encoded data removed]",
      "text/plain": [
       "<Figure size 500x500 with 1 Axes>"
      ]
     },
     "metadata": {},
     "output_type": "display_data"
    }
   ],
   "source": [
    "sns.displot(np.random.choice(volume[18].flatten(), size=5000))"
   ]
  },
  {
   "cell_type": "code",
   "execution_count": 37,
   "id": "5c5b533a",
   "metadata": {},
   "outputs": [
    {
     "name": "stderr",
     "output_type": "stream",
     "text": [
      "/Users/erikstorrs/miniconda3/envs/mushroom-dev/lib/python3.11/site-packages/seaborn/axisgrid.py:118: UserWarning: The figure layout has changed to tight\n",
      "  self._figure.tight_layout(*args, **kwargs)\n"
     ]
    },
    {
     "data": {
      "text/plain": [
       "<seaborn.axisgrid.FacetGrid at 0x3aaa17150>"
      ]
     },
     "execution_count": 37,
     "metadata": {},
     "output_type": "execute_result"
    },
    {
     "data": {
      "image/png": "[encoded data removed]",
      "text/plain": [
       "<Figure size 500x500 with 1 Axes>"
      ]
     },
     "metadata": {},
     "output_type": "display_data"
    }
   ],
   "source": [
    "sns.displot(np.random.choice(volume[17].flatten(), size=5000))"
   ]
  },
  {
   "cell_type": "code",
   "execution_count": null,
   "id": "19ece239",
   "metadata": {},
   "outputs": [],
   "source": [
    "pct = .99\n",
    "pc"
   ]
  }
 ],
 "metadata": {
  "kernelspec": {
   "display_name": "Python 3 (ipykernel)",
   "language": "python",
   "name": "python3"
  },
  "language_info": {
   "codemirror_mode": {
    "name": "ipython",
    "version": 3
   },
   "file_extension": ".py",
   "mimetype": "text/x-python",
   "name": "python",
   "nbconvert_exporter": "python",
   "pygments_lexer": "ipython3",
   "version": "3.11.5"
  }
 },
 "nbformat": 4,
 "nbformat_minor": 5
}
