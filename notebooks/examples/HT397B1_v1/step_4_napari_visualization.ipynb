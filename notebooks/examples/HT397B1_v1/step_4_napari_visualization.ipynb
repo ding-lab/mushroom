{
 "cells": [
  {
   "cell_type": "code",
   "execution_count": 77,
   "id": "60cda340",
   "metadata": {},
   "outputs": [],
   "source": [
    "import os\n",
    "import re\n",
    "\n",
    "import numpy as np\n",
    "import scanpy as sc\n",
    "import torch\n",
    "import tifffile\n",
    "import yaml\n",
    "from torchio.transforms import Resize\n",
    "from einops import rearrange\n",
    "\n",
    "import napari"
   ]
  },
  {
   "cell_type": "code",
   "execution_count": 2,
   "id": "1c83ace8",
   "metadata": {},
   "outputs": [],
   "source": [
    "%load_ext autoreload"
   ]
  },
  {
   "cell_type": "code",
   "execution_count": 3,
   "id": "7f9068ee",
   "metadata": {},
   "outputs": [],
   "source": [
    "%autoreload 2"
   ]
  },
  {
   "cell_type": "code",
   "execution_count": 85,
   "id": "a205c6f2",
   "metadata": {},
   "outputs": [],
   "source": [
    "from mushroom.data.multiplex import extract_ome_tiff\n",
    "from mushroom.data.visium import adata_from_visium, pixels_per_micron\n",
    "from mushroom.visualization.utils import calculate_target_visualization_shape"
   ]
  },
  {
   "cell_type": "code",
   "execution_count": 8,
   "id": "e74bdf67",
   "metadata": {},
   "outputs": [],
   "source": [
    "config_filepath = '/Users/erikstorrs/Documents/ding/mushroom/data/examples/HT397B1_v1/mushroom_outputs/multiplex/config_local.yaml'\n",
    "outputs_filepath = '/Users/erikstorrs/Documents/ding/mushroom/data/examples/HT397B1_v1/mushroom_outputs/multiplex/outputs.pt'\n"
   ]
  },
  {
   "cell_type": "code",
   "execution_count": 9,
   "id": "f894832d",
   "metadata": {},
   "outputs": [
    {
     "data": {
      "text/plain": [
       "dict_keys(['recon_embs', 'recon_imgs', 'true_imgs', 'cluster_distances', 'cluster_distance_volume', 'cluster_centroids', 'cluster_ids'])"
      ]
     },
     "execution_count": 9,
     "metadata": {},
     "output_type": "execute_result"
    }
   ],
   "source": [
    "data = torch.load(outputs_filepath)\n",
    "data.keys()"
   ]
  },
  {
   "cell_type": "code",
   "execution_count": 10,
   "id": "117eaa5e",
   "metadata": {},
   "outputs": [
    {
     "name": "stdout",
     "output_type": "stream",
     "text": [
      "recon_embs torch.Size([4, 1024, 60, 60])\n",
      "recon_imgs torch.Size([4, 24, 1920, 1920])\n",
      "true_imgs torch.Size([4, 24, 1920, 1920])\n",
      "cluster_distances torch.Size([4, 60, 60, 20])\n",
      "cluster_distance_volume torch.Size([30, 60, 60, 20])\n",
      "cluster_centroids torch.Size([20, 1024])\n",
      "cluster_ids torch.Size([4, 60, 60])\n"
     ]
    }
   ],
   "source": [
    "for k, v in data.items():\n",
    "    print(k, v.shape)"
   ]
  },
  {
   "cell_type": "code",
   "execution_count": 66,
   "id": "08931509",
   "metadata": {},
   "outputs": [
    {
     "data": {
      "text/plain": [
       "[{'data': [{'dtype': 'he',\n",
       "    'filepath': '/Users/erikstorrs/Documents/ding/mushroom/data/examples/HT397B1_v1/registration/registered/s0_he.tif'},\n",
       "   {'dtype': 'visium',\n",
       "    'filepath': '/Users/erikstorrs/Documents/ding/mushroom/data/examples/HT397B1_v1/registration/registered/s0_visium.h5ad'}],\n",
       "  'id': 's0',\n",
       "  'position': 0},\n",
       " {'data': [{'dtype': 'multiplex',\n",
       "    'filepath': '/Users/erikstorrs/Documents/ding/mushroom/data/examples/HT397B1_v1/registration/registered/s1_multiplex.ome.tiff'}],\n",
       "  'id': 's1',\n",
       "  'position': 1},\n",
       " {'data': [{'dtype': 'multiplex',\n",
       "    'filepath': '/Users/erikstorrs/Documents/ding/mushroom/data/examples/HT397B1_v1/registration/registered/s2_multiplex.ome.tiff'}],\n",
       "  'id': 's2',\n",
       "  'position': 11},\n",
       " {'data': [{'dtype': 'he',\n",
       "    'filepath': '/Users/erikstorrs/Documents/ding/mushroom/data/examples/HT397B1_v1/registration/registered/s3_he.tif'},\n",
       "   {'dtype': 'visium',\n",
       "    'filepath': '/Users/erikstorrs/Documents/ding/mushroom/data/examples/HT397B1_v1/registration/registered/s3_visium.h5ad'}],\n",
       "  'id': 's3',\n",
       "  'position': 20},\n",
       " {'data': [{'dtype': 'multiplex',\n",
       "    'filepath': '/Users/erikstorrs/Documents/ding/mushroom/data/examples/HT397B1_v1/registration/registered/s4_multiplex.ome.tiff'}],\n",
       "  'id': 's4',\n",
       "  'position': 21},\n",
       " {'data': [{'dtype': 'multiplex',\n",
       "    'filepath': '/Users/erikstorrs/Documents/ding/mushroom/data/examples/HT397B1_v1/registration/registered/s5_multiplex.ome.tiff'}],\n",
       "  'id': 's5',\n",
       "  'position': 30}]"
      ]
     },
     "execution_count": 66,
     "metadata": {},
     "output_type": "execute_result"
    }
   ],
   "source": [
    "config = yaml.safe_load(open(config_filepath))\n",
    "sections = config['sections']\n",
    "sections"
   ]
  },
  {
   "cell_type": "code",
   "execution_count": 75,
   "id": "251c961e",
   "metadata": {},
   "outputs": [
    {
     "data": {
      "text/plain": [
       "(1920, 1920, 34)"
      ]
     },
     "execution_count": 75,
     "metadata": {},
     "output_type": "execute_result"
    }
   ],
   "source": [
    "target_shape = calculate_target_visualization_shape(config, data, microns_per_section=5) # (x y z)\n",
    "target_shape"
   ]
  },
  {
   "cell_type": "code",
   "execution_count": 78,
   "id": "7bda96db",
   "metadata": {},
   "outputs": [
    {
     "data": {
      "text/plain": [
       "torch.Size([20, 1920, 1920, 34])"
      ]
     },
     "execution_count": 78,
     "metadata": {},
     "output_type": "execute_result"
    }
   ],
   "source": [
    "distance_volume = rearrange(data['cluster_distance_volume'], 'z y x d -> d x y z')\n",
    "transform = Resize(target_shape)\n",
    "distance_volume = transform(distance_volume)\n",
    "distance_volume.shape"
   ]
  },
  {
   "cell_type": "code",
   "execution_count": null,
   "id": "126ed894",
   "metadata": {},
   "outputs": [],
   "source": [
    "# what do we need\n",
    "# downsample = .1 -> further downsample from initial downsample that mushroom does\n",
    "# downsample_shape -> (x y z)\n",
    "# the following data \n",
    "## methods to reconstruc"
   ]
  },
  {
   "cell_type": "code",
   "execution_count": null,
   "id": "242af93d",
   "metadata": {},
   "outputs": [],
   "source": []
  },
  {
   "cell_type": "code",
   "execution_count": 15,
   "id": "3238d6a7",
   "metadata": {},
   "outputs": [
    {
     "data": {
      "text/plain": [
       "[{'data': [{'dtype': 'he',\n",
       "    'filepath': '/Users/erikstorrs/Documents/ding/mushroom/data/examples/HT397B1_v1/registration/registered/s0_he.tif'},\n",
       "   {'dtype': 'visium',\n",
       "    'filepath': '/Users/erikstorrs/Documents/ding/mushroom/data/examples/HT397B1_v1/registration/registered/s0_visium.h5ad'}],\n",
       "  'id': 's0',\n",
       "  'position': 0},\n",
       " {'data': [{'dtype': 'multiplex',\n",
       "    'filepath': '/Users/erikstorrs/Documents/ding/mushroom/data/examples/HT397B1_v1/registration/registered/s1_multiplex.ome.tiff'}],\n",
       "  'id': 's1',\n",
       "  'position': 1},\n",
       " {'data': [{'dtype': 'multiplex',\n",
       "    'filepath': '/Users/erikstorrs/Documents/ding/mushroom/data/examples/HT397B1_v1/registration/registered/s2_multiplex.ome.tiff'}],\n",
       "  'id': 's2',\n",
       "  'position': 11},\n",
       " {'data': [{'dtype': 'he',\n",
       "    'filepath': '/Users/erikstorrs/Documents/ding/mushroom/data/examples/HT397B1_v1/registration/registered/s3_he.tif'},\n",
       "   {'dtype': 'visium',\n",
       "    'filepath': '/Users/erikstorrs/Documents/ding/mushroom/data/examples/HT397B1_v1/registration/registered/s3_visium.h5ad'}],\n",
       "  'id': 's3',\n",
       "  'position': 20},\n",
       " {'data': [{'dtype': 'multiplex',\n",
       "    'filepath': '/Users/erikstorrs/Documents/ding/mushroom/data/examples/HT397B1_v1/registration/registered/s4_multiplex.ome.tiff'}],\n",
       "  'id': 's4',\n",
       "  'position': 21},\n",
       " {'data': [{'dtype': 'multiplex',\n",
       "    'filepath': '/Users/erikstorrs/Documents/ding/mushroom/data/examples/HT397B1_v1/registration/registered/s5_multiplex.ome.tiff'}],\n",
       "  'id': 's5',\n",
       "  'position': 30}]"
      ]
     },
     "execution_count": 15,
     "metadata": {},
     "output_type": "execute_result"
    }
   ],
   "source": [
    "config = yaml.safe_load(open(config_filepath))\n",
    "sections = config['sections']\n",
    "sections"
   ]
  },
  {
   "cell_type": "code",
   "execution_count": 33,
   "id": "f67cc097",
   "metadata": {},
   "outputs": [
    {
     "name": "stderr",
     "output_type": "stream",
     "text": [
      "DEBUG:h5py._conv:Creating converter from 3 to 5\n"
     ]
    },
    {
     "data": {
      "text/plain": [
       "AnnData object with n_obs × n_vars = 3058 × 17943\n",
       "    obs: 'in_tissue', 'array_row', 'array_col'\n",
       "    var: 'gene_ids', 'feature_types', 'genome'\n",
       "    uns: 'spatial'\n",
       "    obsm: 'spatial'"
      ]
     },
     "execution_count": 33,
     "metadata": {},
     "output_type": "execute_result"
    }
   ],
   "source": [
    "s = sections[0]\n",
    "fp = [entry['filepath'] for entry in s['data'] if entry['dtype']=='visium'][0]\n",
    "adata = sc.read_h5ad(fp)\n",
    "adata"
   ]
  },
  {
   "cell_type": "code",
   "execution_count": 38,
   "id": "ef13e12c",
   "metadata": {},
   "outputs": [
    {
     "data": {
      "text/plain": [
       "2.3223207975307805"
      ]
     },
     "execution_count": 38,
     "metadata": {},
     "output_type": "execute_result"
    }
   ],
   "source": [
    "scalefactors = next(iter(adata.uns['spatial'].values()))['scalefactors']\n",
    "pixels_per_micron = scalefactors['spot_diameter_fullres'] / 65. # each spot is 65 microns wide\n",
    "pixels_per_micron"
   ]
  },
  {
   "cell_type": "code",
   "execution_count": 44,
   "id": "5d3bbfb5",
   "metadata": {},
   "outputs": [
    {
     "data": {
      "text/plain": [
       "(18643, 18381)"
      ]
     },
     "execution_count": 44,
     "metadata": {},
     "output_type": "execute_result"
    }
   ],
   "source": [
    "scalef = scalefactors['tissue_hires_scalef']\n",
    "hires_shape = next(iter(adata.uns['spatial'].values()))['images']['hires'].shape\n",
    "fullres_shape = (int(hires_shape[0] / scalef), int(hires_shape[1] / scalef))\n",
    "fullres_shape"
   ]
  },
  {
   "cell_type": "code",
   "execution_count": 53,
   "id": "1aa8600b",
   "metadata": {},
   "outputs": [
    {
     "data": {
      "text/plain": [
       "34"
      ]
     },
     "execution_count": 53,
     "metadata": {},
     "output_type": "execute_result"
    }
   ],
   "source": [
    "step_size = pixels_per_micron * 5 * config['learner_kwargs']['scale']\n",
    "z_max = int(step_size * np.max([entry['position'] for entry in sections]))\n",
    "z_max"
   ]
  },
  {
   "cell_type": "code",
   "execution_count": 54,
   "id": "fb7863b3",
   "metadata": {},
   "outputs": [
    {
     "data": {
      "text/plain": [
       "(1920, 1920, 34)"
      ]
     },
     "execution_count": 54,
     "metadata": {},
     "output_type": "execute_result"
    }
   ],
   "source": [
    "target_shape = (data['true_imgs'].shape[-2], data['true_imgs'].shape[-1], z_max)\n",
    "target_shape"
   ]
  },
  {
   "cell_type": "code",
   "execution_count": null,
   "id": "7c2488cb",
   "metadata": {},
   "outputs": [],
   "source": []
  },
  {
   "cell_type": "code",
   "execution_count": 45,
   "id": "b827d142",
   "metadata": {},
   "outputs": [
    {
     "data": {
      "text/plain": [
       "dict_keys(['chkpt_filepath', 'cluster_kwargs', 'dtype', 'learner_kwargs', 'sae_kwargs', 'sections', 'train_kwargs'])"
      ]
     },
     "execution_count": 45,
     "metadata": {},
     "output_type": "execute_result"
    }
   ],
   "source": [
    "config.keys()"
   ]
  },
  {
   "cell_type": "code",
   "execution_count": null,
   "id": "0afadce7",
   "metadata": {},
   "outputs": [],
   "source": [
    "step_size = "
   ]
  },
  {
   "cell_type": "code",
   "execution_count": 42,
   "id": "a83cb5d8",
   "metadata": {},
   "outputs": [
    {
     "data": {
      "text/plain": [
       "{'fiducial_diameter_fullres': 243.84368374073196,\n",
       " 'spot_diameter_fullres': 150.95085183950073,\n",
       " 'tissue_hires_scalef': 0.10727887,\n",
       " 'tissue_lowres_scalef': 0.032183662}"
      ]
     },
     "execution_count": 42,
     "metadata": {},
     "output_type": "execute_result"
    }
   ],
   "source": [
    "scalefactors"
   ]
  },
  {
   "cell_type": "code",
   "execution_count": 58,
   "id": "9e18d3fa",
   "metadata": {},
   "outputs": [],
   "source": [
    "from ome_types import from_xml\n",
    "tif = tifffile.TiffFile('/Users/erikstorrs/Documents/ding/mushroom/data/examples/HT397B1_v1/registration/registered/s2_multiplex.ome.tiff')\n",
    "ome = from_xml(tif.ome_metadata)\n",
    "im = ome.images[0]"
   ]
  },
  {
   "cell_type": "code",
   "execution_count": 61,
   "id": "a5bae9d7",
   "metadata": {},
   "outputs": [
    {
     "data": {
      "text/plain": [
       "2.3223207975307805"
      ]
     },
     "execution_count": 61,
     "metadata": {},
     "output_type": "execute_result"
    }
   ],
   "source": [
    "im.pixels.physical_size_x"
   ]
  },
  {
   "cell_type": "code",
   "execution_count": 63,
   "id": "690f038e",
   "metadata": {},
   "outputs": [
    {
     "data": {
      "text/plain": [
       "[{'dtype': 'he',\n",
       "  'filepath': '/Users/erikstorrs/Documents/ding/mushroom/data/examples/HT397B1_v1/registration/registered/s0_he.tif'},\n",
       " {'dtype': 'visium',\n",
       "  'filepath': '/Users/erikstorrs/Documents/ding/mushroom/data/examples/HT397B1_v1/registration/registered/s0_visium.h5ad'}]"
      ]
     },
     "execution_count": 63,
     "metadata": {},
     "output_type": "execute_result"
    }
   ],
   "source": [
    "sections[0]['data']"
   ]
  },
  {
   "cell_type": "code",
   "execution_count": 79,
   "id": "4d0e1646",
   "metadata": {},
   "outputs": [
    {
     "data": {
      "text/plain": [
       "AnnData object with n_obs × n_vars = 3058 × 17943\n",
       "    obs: 'in_tissue', 'array_row', 'array_col'\n",
       "    var: 'gene_ids', 'feature_types', 'genome'\n",
       "    uns: 'spatial'\n",
       "    obsm: 'spatial'"
      ]
     },
     "execution_count": 79,
     "metadata": {},
     "output_type": "execute_result"
    }
   ],
   "source": [
    "adata"
   ]
  },
  {
   "cell_type": "code",
   "execution_count": null,
   "id": "51aa16e6",
   "metadata": {},
   "outputs": [],
   "source": []
  },
  {
   "cell_type": "code",
   "execution_count": 82,
   "id": "4572da91",
   "metadata": {},
   "outputs": [
    {
     "data": {
      "text/plain": [
       "dict_keys(['images', 'metadata', 'scalefactors'])"
      ]
     },
     "execution_count": 82,
     "metadata": {},
     "output_type": "execute_result"
    }
   ],
   "source": [
    "d = next(iter(adata.uns['spatial'].values()))\n",
    "d.keys()"
   ]
  },
  {
   "cell_type": "code",
   "execution_count": 83,
   "id": "d77ee9aa",
   "metadata": {},
   "outputs": [
    {
     "data": {
      "text/plain": [
       "{'fiducial_diameter_fullres': 243.84368374073196,\n",
       " 'spot_diameter_fullres': 150.95085183950073,\n",
       " 'tissue_hires_scalef': 0.10727887,\n",
       " 'tissue_lowres_scalef': 0.032183662}"
      ]
     },
     "execution_count": 83,
     "metadata": {},
     "output_type": "execute_result"
    }
   ],
   "source": [
    "d['scalefactors']"
   ]
  },
  {
   "cell_type": "code",
   "execution_count": 84,
   "id": "32d08488",
   "metadata": {},
   "outputs": [
    {
     "data": {
      "text/plain": [
       "dict_keys(['hires', 'lowres'])"
      ]
     },
     "execution_count": 84,
     "metadata": {},
     "output_type": "execute_result"
    }
   ],
   "source": [
    "d['images'].keys()"
   ]
  },
  {
   "cell_type": "code",
   "execution_count": 86,
   "id": "28e43957",
   "metadata": {},
   "outputs": [
    {
     "data": {
      "text/plain": [
       "2.3223207975307805"
      ]
     },
     "execution_count": 86,
     "metadata": {},
     "output_type": "execute_result"
    }
   ],
   "source": [
    "pixels_per_micron = pixels_per_micron(adata)\n",
    "pixels_per_micron"
   ]
  },
  {
   "cell_type": "code",
   "execution_count": 87,
   "id": "dc8aa8a1",
   "metadata": {},
   "outputs": [
    {
     "data": {
      "text/plain": [
       "0.023223207975307806"
      ]
     },
     "execution_count": 87,
     "metadata": {},
     "output_type": "execute_result"
    }
   ],
   "source": [
    "scale = .1\n",
    "downsample = .1\n",
    "downsample_ppm = pixels_per_micron * scale * downsample\n",
    "downsample_ppm"
   ]
  },
  {
   "cell_type": "code",
   "execution_count": 89,
   "id": "9cb4677a",
   "metadata": {},
   "outputs": [
    {
     "data": {
      "text/plain": [
       "'<?xml version=\"1.0\" encoding=\"UTF-8\"?><OME xmlns=\"http://www.openmicroscopy.org/Schemas/OME/2016-06\" xmlns:xsi=\"http://www.w3.org/2001/XMLSchema-instance\" xsi:schemaLocation=\"http://www.openmicroscopy.org/Schemas/OME/2016-06 http://www.openmicroscopy.org/Schemas/OME/2016-06/ome.xsd\" UUID=\"urn:uuid:13a44b72-411d-11ee-ab10-ac1f6b9e3060\"  Creator=\"tifffile.py 2023.8.12\"><Image ID=\"Image:0\" Name=\"Image0\"><Pixels ID=\"Pixels:0\" DimensionOrder=\"XYZCT\" Type=\"uint8\" SizeX=\"18370\" SizeY=\"18640\" SizeZ=\"1\" SizeC=\"25\" SizeT=\"1\" PhysicalSizeX=\"2.3223207975307805\" PhysicalSizeXUnit=\"µm\" PhysicalSizeY=\"2.3223207975307805\" PhysicalSizeYUnit=\"µm\"><Channel ID=\"Channel:0:0\" SamplesPerPixel=\"1\" Name=\"DAPI\"><LightPath/></Channel><Channel ID=\"Channel:0:1\" SamplesPerPixel=\"1\" Name=\"CD8\"><LightPath/></Channel><Channel ID=\"Channel:0:2\" SamplesPerPixel=\"1\" Name=\"Her2 (D)\"><LightPath/></Channel><Channel ID=\"Channel:0:3\" SamplesPerPixel=\"1\" Name=\"GATA3 (D)\"><LightPath/></Channel><Channel ID=\"Channel:0:4\" SamplesPerPixel=\"1\" Name=\"cKIT-(D)\"><LightPath/></Channel><Channel ID=\"Channel:0:5\" SamplesPerPixel=\"1\" Name=\"Pan-Cytokeratin\"><LightPath/></Channel><Channel ID=\"Channel:0:6\" SamplesPerPixel=\"1\" Name=\"GLUT1-(D)\"><LightPath/></Channel><Channel ID=\"Channel:0:7\" SamplesPerPixel=\"1\" Name=\"Podoplanin\"><LightPath/></Channel><Channel ID=\"Channel:0:8\" SamplesPerPixel=\"1\" Name=\"CD68 (D)\"><LightPath/></Channel><Channel ID=\"Channel:0:9\" SamplesPerPixel=\"1\" Name=\"HLA-DR\"><LightPath/></Channel><Channel ID=\"Channel:0:10\" SamplesPerPixel=\"1\" Name=\"Keratin 14\"><LightPath/></Channel><Channel ID=\"Channel:0:11\" SamplesPerPixel=\"1\" Name=\"FoxP3\"><LightPath/></Channel><Channel ID=\"Channel:0:12\" SamplesPerPixel=\"1\" Name=\"MGP-(D)\"><LightPath/></Channel><Channel ID=\"Channel:0:13\" SamplesPerPixel=\"1\" Name=\"CD20-(D)\"><LightPath/></Channel><Channel ID=\"Channel:0:14\" SamplesPerPixel=\"1\" Name=\"SMA-(D)\"><LightPath/></Channel><Channel ID=\"Channel:0:15\" SamplesPerPixel=\"1\" Name=\"Ki67\"><LightPath/></Channel><Channel ID=\"Channel:0:16\" SamplesPerPixel=\"1\" Name=\"Vimentin-(D)\"><LightPath/></Channel><Channel ID=\"Channel:0:17\" SamplesPerPixel=\"1\" Name=\"PR-(D)\"><LightPath/></Channel><Channel ID=\"Channel:0:18\" SamplesPerPixel=\"1\" Name=\"Bap1 (D)\"><LightPath/></Channel><Channel ID=\"Channel:0:19\" SamplesPerPixel=\"1\" Name=\"CD45 (D)\"><LightPath/></Channel><Channel ID=\"Channel:0:20\" SamplesPerPixel=\"1\" Name=\"ER\"><LightPath/></Channel><Channel ID=\"Channel:0:21\" SamplesPerPixel=\"1\" Name=\"CD31\"><LightPath/></Channel><Channel ID=\"Channel:0:22\" SamplesPerPixel=\"1\" Name=\"COX6c (D)\"><LightPath/></Channel><Channel ID=\"Channel:0:23\" SamplesPerPixel=\"1\" Name=\"CK19\"><LightPath/></Channel><Channel ID=\"Channel:0:24\" SamplesPerPixel=\"1\" Name=\"PLAT/tPA (D)\"><LightPath/></Channel><TiffData IFD=\"0\" PlaneCount=\"25\"/></Pixels></Image></OME>'"
      ]
     },
     "execution_count": 89,
     "metadata": {},
     "output_type": "execute_result"
    }
   ],
   "source": [
    "tif.ome_metadata"
   ]
  },
  {
   "cell_type": "code",
   "execution_count": 91,
   "id": "b259909a",
   "metadata": {},
   "outputs": [
    {
     "data": {
      "text/plain": [
       "(18370, 18640)"
      ]
     },
     "execution_count": 91,
     "metadata": {},
     "output_type": "execute_result"
    }
   ],
   "source": [
    "im.pixels.size_x, im.pixels.size_y"
   ]
  },
  {
   "cell_type": "code",
   "execution_count": 92,
   "id": "c2bff87a",
   "metadata": {},
   "outputs": [],
   "source": [
    "tif = tifffile.TiffFile(\n",
    "    '/Users/erikstorrs/Documents/ding/mushroom/data/examples/HT397B1_v1/registration/registered/s0_he.tif'\n",
    ")"
   ]
  },
  {
   "cell_type": "code",
   "execution_count": 94,
   "id": "5a35d7f6",
   "metadata": {},
   "outputs": [
    {
     "data": {
      "text/plain": [
       "<tifffile.TiffPage 0 @8>"
      ]
     },
     "execution_count": 94,
     "metadata": {},
     "output_type": "execute_result"
    }
   ],
   "source": [
    "p = next(iter(tif.pages))\n",
    "p"
   ]
  },
  {
   "cell_type": "code",
   "execution_count": 95,
   "id": "56f6f9c0",
   "metadata": {},
   "outputs": [
    {
     "data": {
      "text/plain": [
       "(18643, 18378, 3)"
      ]
     },
     "execution_count": 95,
     "metadata": {},
     "output_type": "execute_result"
    }
   ],
   "source": [
    "p.shape"
   ]
  },
  {
   "cell_type": "code",
   "execution_count": 96,
   "id": "8d0ab92e",
   "metadata": {},
   "outputs": [
    {
     "data": {
      "text/plain": [
       "{'fiducial_diameter_fullres': 243.84368374073196,\n",
       " 'spot_diameter_fullres': 150.95085183950073,\n",
       " 'tissue_hires_scalef': 0.10727887,\n",
       " 'tissue_lowres_scalef': 0.032183662}"
      ]
     },
     "execution_count": 96,
     "metadata": {},
     "output_type": "execute_result"
    }
   ],
   "source": [
    "scalefactors"
   ]
  },
  {
   "cell_type": "code",
   "execution_count": null,
   "id": "71f0dfcf",
   "metadata": {},
   "outputs": [],
   "source": []
  }
 ],
 "metadata": {
  "kernelspec": {
   "display_name": "Python 3 (ipykernel)",
   "language": "python",
   "name": "python3"
  },
  "language_info": {
   "codemirror_mode": {
    "name": "ipython",
    "version": 3
   },
   "file_extension": ".py",
   "mimetype": "text/x-python",
   "name": "python",
   "nbconvert_exporter": "python",
   "pygments_lexer": "ipython3",
   "version": "3.11.5"
  }
 },
 "nbformat": 4,
 "nbformat_minor": 5
}
