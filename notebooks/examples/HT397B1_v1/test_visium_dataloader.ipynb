{
 "cells": [
  {
   "cell_type": "code",
   "execution_count": 5,
   "id": "60b2175e",
   "metadata": {},
   "outputs": [],
   "source": [
    "# import logging\n",
    "import os\n",
    "import re\n",
    "from pathlib import Path\n",
    "from collections import Counter\n",
    "\n",
    "import matplotlib.pyplot as plt\n",
    "import numpy\n",
    "import torch\n",
    "import torch.nn.functional as F\n",
    "import torchvision.transforms.functional as TF\n",
    "import yaml\n",
    "import scanpy as sc\n",
    "from einops import rearrange"
   ]
  },
  {
   "cell_type": "code",
   "execution_count": 2,
   "id": "347ccb9d",
   "metadata": {},
   "outputs": [],
   "source": [
    "%load_ext autoreload"
   ]
  },
  {
   "cell_type": "code",
   "execution_count": 3,
   "id": "bd87efc1",
   "metadata": {},
   "outputs": [],
   "source": [
    "%autoreload 2"
   ]
  },
  {
   "cell_type": "code",
   "execution_count": 4,
   "id": "23372eba",
   "metadata": {},
   "outputs": [],
   "source": [
    "from mushroom.data.visium import get_common_channels, adata_from_visium"
   ]
  },
  {
   "cell_type": "code",
   "execution_count": 6,
   "id": "2de7bdf9",
   "metadata": {},
   "outputs": [
    {
     "data": {
      "text/plain": [
       "[{'data': [{'dtype': 'he',\n",
       "    'filepath': '/data/estorrs/mushroom/data/examples/HT397B1_v1/registration/registered/s0_he.tif'},\n",
       "   {'dtype': 'visium',\n",
       "    'filepath': '/data/estorrs/mushroom/data/examples/HT397B1_v1/registration/registered/s0_visium.h5ad'}],\n",
       "  'id': 's0',\n",
       "  'position': 0},\n",
       " {'data': [{'dtype': 'multiplex',\n",
       "    'filepath': '/data/estorrs/mushroom/data/examples/HT397B1_v1/registration/registered/s1_multiplex.ome.tiff'}],\n",
       "  'id': 's1',\n",
       "  'position': 1},\n",
       " {'data': [{'dtype': 'multiplex',\n",
       "    'filepath': '/data/estorrs/mushroom/data/examples/HT397B1_v1/registration/registered/s2_multiplex.ome.tiff'}],\n",
       "  'id': 's2',\n",
       "  'position': 11},\n",
       " {'data': [{'dtype': 'he',\n",
       "    'filepath': '/data/estorrs/mushroom/data/examples/HT397B1_v1/registration/registered/s3_he.tif'},\n",
       "   {'dtype': 'visium',\n",
       "    'filepath': '/data/estorrs/mushroom/data/examples/HT397B1_v1/registration/registered/s3_visium.h5ad'}],\n",
       "  'id': 's3',\n",
       "  'position': 20},\n",
       " {'data': [{'dtype': 'multiplex',\n",
       "    'filepath': '/data/estorrs/mushroom/data/examples/HT397B1_v1/registration/registered/s4_multiplex.ome.tiff'}],\n",
       "  'id': 's4',\n",
       "  'position': 21},\n",
       " {'data': [{'dtype': 'multiplex',\n",
       "    'filepath': '/data/estorrs/mushroom/data/examples/HT397B1_v1/registration/registered/s5_multiplex.ome.tiff'}],\n",
       "  'id': 's5',\n",
       "  'position': 30}]"
      ]
     },
     "execution_count": 6,
     "metadata": {},
     "output_type": "execute_result"
    }
   ],
   "source": [
    "section_config = yaml.safe_load(\n",
    "    open('/data/estorrs/mushroom/data/examples/HT397B1_v1/registration/registered/mushroom_inputs.yaml')\n",
    ")\n",
    "section_config"
   ]
  },
  {
   "cell_type": "code",
   "execution_count": 7,
   "id": "1a23e310",
   "metadata": {},
   "outputs": [
    {
     "data": {
      "text/plain": [
       "['/data/estorrs/mushroom/data/examples/HT397B1_v1/registration/registered/s0_visium.h5ad',\n",
       " '/data/estorrs/mushroom/data/examples/HT397B1_v1/registration/registered/s3_visium.h5ad']"
      ]
     },
     "execution_count": 7,
     "metadata": {},
     "output_type": "execute_result"
    }
   ],
   "source": [
    "fps = [entry['filepath'] for item in section_config for entry in item['data'] if entry['dtype']=='visium']\n",
    "fps"
   ]
  },
  {
   "cell_type": "code",
   "execution_count": null,
   "id": "611927c7",
   "metadata": {},
   "outputs": [],
   "source": [
    "a = sc.read_visium('/data/estorrs/mushroom/data/examples/HT397B1_v1/')"
   ]
  },
  {
   "cell_type": "code",
   "execution_count": null,
   "id": "1f391be8",
   "metadata": {},
   "outputs": [],
   "source": []
  },
  {
   "cell_type": "code",
   "execution_count": null,
   "id": "7467997f",
   "metadata": {},
   "outputs": [],
   "source": []
  },
  {
   "cell_type": "code",
   "execution_count": null,
   "id": "9d3e0b61",
   "metadata": {},
   "outputs": [],
   "source": []
  }
 ],
 "metadata": {
  "kernelspec": {
   "display_name": "Python 3 (ipykernel)",
   "language": "python",
   "name": "python3"
  },
  "language_info": {
   "codemirror_mode": {
    "name": "ipython",
    "version": 3
   },
   "file_extension": ".py",
   "mimetype": "text/x-python",
   "name": "python",
   "nbconvert_exporter": "python",
   "pygments_lexer": "ipython3",
   "version": "3.9.18"
  }
 },
 "nbformat": 4,
 "nbformat_minor": 5
}
