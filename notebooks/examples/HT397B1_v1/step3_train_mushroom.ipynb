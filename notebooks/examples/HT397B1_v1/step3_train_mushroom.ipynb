{
 "cells": [
  {
   "cell_type": "code",
   "execution_count": 17,
   "id": "b0972557",
   "metadata": {},
   "outputs": [],
   "source": [
    "import os\n",
    "import re\n",
    "from pathlib import Path\n",
    "from collections import Counter\n",
    "\n",
    "import yaml"
   ]
  },
  {
   "cell_type": "code",
   "execution_count": 8,
   "id": "897daca8",
   "metadata": {},
   "outputs": [
    {
     "name": "stdout",
     "output_type": "stream",
     "text": [
      "The autoreload extension is already loaded. To reload it, use:\n",
      "  %reload_ext autoreload\n"
     ]
    }
   ],
   "source": [
    "%load_ext autoreload"
   ]
  },
  {
   "cell_type": "code",
   "execution_count": 9,
   "id": "7c3d42e3",
   "metadata": {},
   "outputs": [],
   "source": [
    "%autoreload 2"
   ]
  },
  {
   "cell_type": "code",
   "execution_count": 10,
   "id": "3d6c04ec",
   "metadata": {},
   "outputs": [],
   "source": [
    "import mushroom.data.multiplex as multiplex"
   ]
  },
  {
   "cell_type": "code",
   "execution_count": 11,
   "id": "4aa72633",
   "metadata": {},
   "outputs": [],
   "source": [
    "out_dir = '/data/estorrs/mushroom/data/examples/HT397B1_v1/mushroom_outputs'\n",
    "Path(out_dir).mkdir(parents=True, exist_ok=True)"
   ]
  },
  {
   "cell_type": "code",
   "execution_count": 12,
   "id": "cf43cd39",
   "metadata": {},
   "outputs": [
    {
     "data": {
      "text/plain": [
       "[{'data': [{'dtype': 'he',\n",
       "    'filepath': '/data/estorrs/mushroom/data/examples/HT397B1_v1/registration/registered/s0_he.tif'},\n",
       "   {'dtype': 'visium',\n",
       "    'filepath': '/data/estorrs/mushroom/data/examples/HT397B1_v1/registration/registered/s0_visium.h5ad'}],\n",
       "  'id': 's0',\n",
       "  'position': 0},\n",
       " {'data': [{'dtype': 'multiplex',\n",
       "    'filepath': '/data/estorrs/mushroom/data/examples/HT397B1_v1/registration/registered/s1_multiplex.ome.tiff'}],\n",
       "  'id': 's1',\n",
       "  'position': 1},\n",
       " {'data': [{'dtype': 'multiplex',\n",
       "    'filepath': '/data/estorrs/mushroom/data/examples/HT397B1_v1/registration/registered/s2_multiplex.ome.tiff'}],\n",
       "  'id': 's2',\n",
       "  'position': 11},\n",
       " {'data': [{'dtype': 'he',\n",
       "    'filepath': '/data/estorrs/mushroom/data/examples/HT397B1_v1/registration/registered/s3_he.tif'},\n",
       "   {'dtype': 'visium',\n",
       "    'filepath': '/data/estorrs/mushroom/data/examples/HT397B1_v1/registration/registered/s3_visium.h5ad'}],\n",
       "  'id': 's3',\n",
       "  'position': 20},\n",
       " {'data': [{'dtype': 'multiplex',\n",
       "    'filepath': '/data/estorrs/mushroom/data/examples/HT397B1_v1/registration/registered/s4_multiplex.ome.tiff'}],\n",
       "  'id': 's4',\n",
       "  'position': 21},\n",
       " {'data': [{'dtype': 'multiplex',\n",
       "    'filepath': '/data/estorrs/mushroom/data/examples/HT397B1_v1/registration/registered/s5_multiplex.ome.tiff'}],\n",
       "  'id': 's5',\n",
       "  'position': 30}]"
      ]
     },
     "execution_count": 12,
     "metadata": {},
     "output_type": "execute_result"
    }
   ],
   "source": [
    "config = yaml.safe_load(\n",
    "    open('/data/estorrs/mushroom/data/examples/HT397B1_v1/registration/registered/mushroom_inputs.yaml')\n",
    ")\n",
    "config"
   ]
  },
  {
   "cell_type": "markdown",
   "id": "dbec07d2",
   "metadata": {},
   "source": [
    "## train multiplex"
   ]
  },
  {
   "cell_type": "code",
   "execution_count": 22,
   "id": "a162fd2d",
   "metadata": {
    "code_folding": [
     2
    ]
   },
   "outputs": [],
   "source": [
    "# only relavent for dinglab data since our channel names are all over the place\n",
    "# will remove for official example\n",
    "official_to_options = {\n",
    "    'Pan-Cytokeratin': ['Pan-Cytokeratin', 'Pan-CK', 'Pan-CK (D)', 'PanCK (D)'],\n",
    "    'E-cadherin': ['E-cadherin'],\n",
    "    'CD45': ['CD45 (D)', 'CD45', 'CD45-(D)'],\n",
    "    'CD45RO': ['CD45RO'],\n",
    "    'CD45RA': ['CD45RA'],\n",
    "    'CD8': ['CD8', 'CD8a'],\n",
    "    'DAPI': ['DAPI'],\n",
    "    'CD4': ['CD4', 'CD4 (D)'],\n",
    "    'CD3e': ['CD3e', 'CD3'],\n",
    "    'Vimentin': ['Vimentin-(D)', 'Vimentin', 'Vimentin (D)'],\n",
    "    'SMA': ['SMA-(D)', 'SMA', 'SMA (D)', 'a-SMA (D)'],\n",
    "    'CD31': ['CD31', 'CD31-(D)', 'CD31 (D)'],\n",
    "    'CD20': ['CD20-(D)', 'CD20', 'CD20 (D)', 'CD20-Akoya'],\n",
    "    'CD68': ['CD68', 'CD68 (D)', 'CD68-(D)'],\n",
    "    'CD163': ['CD163'],\n",
    "    'FOXP3': ['FoxP3', 'FOXP3', 'Foxp3'],\n",
    "    'cKit': ['cKIT (D)', 'cKit (D)', 'cKit', 'cKIT', 'cKIT-(D)'],\n",
    "    'MGP': ['MGP', 'MGP (D)', 'MGP-(D)'],\n",
    "    'CD36': ['CD36-(D)', 'CD36'],\n",
    "    'PR': ['PR', 'PR-(D)', 'PR (D)'],\n",
    "    'ER': ['ER', 'ER-(D)', 'ER (D)'],\n",
    "    'P21': ['P21', 'P21-(D)', 'P21-(D)', 'P21 (D)'],\n",
    "    'P16': ['P16-(D)'],\n",
    "    'CK5': ['Keratin 5', 'KRT5'],\n",
    "    'TFF1': ['TFF1', 'TFF1-(D)', 'TFF1 (D)'],\n",
    "    'beta-integrin': ['beta-integrin', 'beta3-integrin'],\n",
    "    'CK14': ['CK14', 'Keratin 14', 'CK14 (D)'],\n",
    "    'CK17': ['CK17', 'CK17 (D)', 'CK17-(D)', 'Keratin 17'],\n",
    "    'CK19': ['CK19', 'CK19 (D)', 'CK19-(D)'],\n",
    "    'CD11b': ['CD11b', 'CD11b (D)', 'CD11b-(D)'],\n",
    "    'GATA3': ['GATA3', 'GATA3-(D)', 'GATA3 (D)'],\n",
    "    'PLAT/tPA': ['PLAT/tPA', 'PLAT/tPA (D)'],\n",
    "    'COX6c': ['COX6c (D)'],\n",
    "    'Her2': ['Her2', 'Her2 (D)'],\n",
    "    'Bap1': ['Bap1 (D)'],\n",
    "    'GLUT1': ['Glut1', 'GLUT1', 'GLUT1-(D)', 'GLUT1 (D)'],\n",
    "    'CD11c': ['CD11c'],\n",
    "    'HLA-DR': ['HLA-DR'],\n",
    "    'Ki67': ['Ki67', 'KI67'],\n",
    "    'Podoplanin': ['Podoplanin', 'PDPN', 'Podoplanin (D)'],\n",
    "    'CTLA4': ['CTLA4', 'CTLA4 (D)', 'CTLA4-(D)'],\n",
    "    'SLC39A6': ['SLC39A6'],\n",
    "    'BCA1': ['BCA1'],\n",
    "    'BCAL': ['BCAL'],\n",
    "    'TUBB3': ['TUBB3', 'TUBB3 (D)'],\n",
    "    'PTPRZ1': ['PTPRZ1', 'PTPRZ1 (D)'],\n",
    "    'HIF1A': ['HIF1a', 'HIF1a (D)', 'HIF1A'],\n",
    "    'PAI1': ['PAI1', 'PAI1-(D)'],\n",
    "    'GFAP': ['GFAP', 'GFAP (D)'],\n",
    "    'VEGFA': ['VEGFA', 'VEGFA (D)'],\n",
    "    'IBA1': ['IBA1', 'IBA1 (D)'],\n",
    "    'OLIG2': ['OLIG2', 'OLIG2 (D)'],\n",
    "    'FN1': ['FN1', 'FN1 (D)'],\n",
    "    'a-Amylase': ['a-Amylase'],\n",
    "    'Hep-Par-1': ['Hep-Par-1 (D)'],\n",
    "    'Granzyme-B': ['Granzyme B'],\n",
    "    'TCF-1': ['TCF-1'],\n",
    "    'CD39': ['CD39'],\n",
    "    'PD1': ['PD-1'],\n",
    "    'PDL1': ['PD-L1'],\n",
    "    'Histone-H3-Pho': ['Histone H3 Pho'],\n",
    "    'Maspin': ['Maspin'],\n",
    "    'MMP9': ['MMP9'],\n",
    "    'CD44': ['CD44'],\n",
    "    'CD107A': ['CD107a'],\n",
    "    'FGFR3': ['FGFR3'],\n",
    "    'CD138': ['CD138'],\n",
    "    'MLPH': ['MLPH'],\n",
    "    'P63': ['P63'],\n",
    "    'GP2': ['GP2'],\n",
    "    'COX2': ['COX2'],\n",
    "    'Lyve-1': ['Lyve-1'],\n",
    "}\n",
    "channel_mapping = {v:k for k, vs in official_to_options.items() for v in vs}"
   ]
  },
  {
   "cell_type": "code",
   "execution_count": 15,
   "id": "f865f12f",
   "metadata": {},
   "outputs": [
    {
     "data": {
      "text/plain": [
       "['/data/estorrs/mushroom/data/examples/HT397B1_v1/registration/registered/s1_multiplex.ome.tiff',\n",
       " '/data/estorrs/mushroom/data/examples/HT397B1_v1/registration/registered/s2_multiplex.ome.tiff',\n",
       " '/data/estorrs/mushroom/data/examples/HT397B1_v1/registration/registered/s4_multiplex.ome.tiff',\n",
       " '/data/estorrs/mushroom/data/examples/HT397B1_v1/registration/registered/s5_multiplex.ome.tiff']"
      ]
     },
     "execution_count": 15,
     "metadata": {},
     "output_type": "execute_result"
    }
   ],
   "source": [
    "fps = [d['filepath'] for entry in config for d in entry['data'] if d['dtype']=='multiplex']\n",
    "fps"
   ]
  },
  {
   "cell_type": "code",
   "execution_count": 23,
   "id": "10f94c3e",
   "metadata": {
    "scrolled": true
   },
   "outputs": [
    {
     "data": {
      "text/plain": [
       "['Bap1',\n",
       " 'CD31',\n",
       " 'CD45',\n",
       " 'CD68',\n",
       " 'CD8',\n",
       " 'CK14',\n",
       " 'CK19',\n",
       " 'COX6c',\n",
       " 'DAPI',\n",
       " 'ER',\n",
       " 'FOXP3',\n",
       " 'GATA3',\n",
       " 'GLUT1',\n",
       " 'HLA-DR',\n",
       " 'Her2',\n",
       " 'Ki67',\n",
       " 'MGP',\n",
       " 'PLAT/tPA',\n",
       " 'PR',\n",
       " 'Pan-Cytokeratin',\n",
       " 'Podoplanin',\n",
       " 'SMA',\n",
       " 'Vimentin',\n",
       " 'cKit']"
      ]
     },
     "execution_count": 23,
     "metadata": {},
     "output_type": "execute_result"
    }
   ],
   "source": [
    "multiplex.get_common_channels(fps, channel_mapping)"
   ]
  },
  {
   "cell_type": "code",
   "execution_count": 19,
   "id": "4027af7f",
   "metadata": {
    "scrolled": true
   },
   "outputs": [
    {
     "data": {
      "text/plain": [
       "['Bap1',\n",
       " 'CD31',\n",
       " 'CD45',\n",
       " 'CD68',\n",
       " 'CD8',\n",
       " 'CK14',\n",
       " 'CK19',\n",
       " 'COX6c',\n",
       " 'DAPI',\n",
       " 'ER',\n",
       " 'FOXP3',\n",
       " 'GATA3',\n",
       " 'GLUT1',\n",
       " 'HLA-DR',\n",
       " 'Her2',\n",
       " 'Ki67',\n",
       " 'MGP',\n",
       " 'PLAT/tPA',\n",
       " 'PR',\n",
       " 'Pan-Cytokeratin',\n",
       " 'Podoplanin',\n",
       " 'SMA',\n",
       " 'Vimentin',\n",
       " 'cKit']"
      ]
     },
     "execution_count": 19,
     "metadata": {},
     "output_type": "execute_result"
    }
   ],
   "source": [
    "channels = sorted([c for c, count in Counter(pool).items() if count==len(fps)])\n",
    "channels"
   ]
  },
  {
   "cell_type": "code",
   "execution_count": null,
   "id": "568a9ca9",
   "metadata": {},
   "outputs": [],
   "source": [
    "scale = .1\n",
    "slide_to_img = {}\n",
    "for fp in fps:\n",
    "    sample = fp.split('/')[-1].replace('.ome.tiff', '')\n",
    "    cs, img = utils.extract_ome_tiff(fp, as_dict=False)\n",
    "    img = torch.tensor(img)\n",
    "    thumbnail = TF.resize(img, (int(scale * img.shape[-2]), int(scale * img.shape[-1])))\n",
    "    thumbnail = thumbnail.to(torch.float32)\n",
    "    \n",
    "    cs = [utils.R_CHANNEL_MAPPING[c] for c in cs]\n",
    "    idxs = [cs.index(c) for c in channels]\n",
    "    thumbnail = thumbnail[idxs]\n",
    "    \n",
    "    slide_to_img[sample] = thumbnail"
   ]
  },
  {
   "cell_type": "code",
   "execution_count": 24,
   "id": "92205f7c",
   "metadata": {},
   "outputs": [],
   "source": [
    "from dataclasses import dataclass\n",
    "@dataclass\n",
    "class VitArgs:\n",
    "    image_size: int = 256\n",
    "    patch_size: int = 32\n",
    "    dim: int = 1024\n",
    "    depth: int = 6\n",
    "    heads: int = 8\n",
    "    mlp_dim: int = 2048\n",
    "    channels: int = 3"
   ]
  },
  {
   "cell_type": "code",
   "execution_count": 25,
   "id": "5eb8ccfa",
   "metadata": {},
   "outputs": [],
   "source": [
    "args = VitArgs()"
   ]
  },
  {
   "cell_type": "code",
   "execution_count": 29,
   "id": "65ac87f2",
   "metadata": {},
   "outputs": [],
   "source": [
    "import torch"
   ]
  },
  {
   "cell_type": "code",
   "execution_count": 30,
   "id": "d905e36c",
   "metadata": {},
   "outputs": [
    {
     "data": {
      "text/plain": [
       "torch.device"
      ]
     },
     "execution_count": 30,
     "metadata": {},
     "output_type": "execute_result"
    }
   ],
   "source": [
    "torch.device"
   ]
  },
  {
   "cell_type": "code",
   "execution_count": 32,
   "id": "005acc53",
   "metadata": {},
   "outputs": [
    {
     "data": {
      "text/plain": [
       "True"
      ]
     },
     "execution_count": 32,
     "metadata": {},
     "output_type": "execute_result"
    }
   ],
   "source": [
    "torch.cuda.is_available()"
   ]
  },
  {
   "cell_type": "code",
   "execution_count": 36,
   "id": "b45c643c",
   "metadata": {},
   "outputs": [
    {
     "data": {
      "text/plain": [
       "4"
      ]
     },
     "execution_count": 36,
     "metadata": {},
     "output_type": "execute_result"
    }
   ],
   "source": [
    "torch.cuda.device_count()"
   ]
  },
  {
   "cell_type": "code",
   "execution_count": 41,
   "id": "d38176d3",
   "metadata": {},
   "outputs": [],
   "source": [
    "x = torch.rand(1, 1, 1, device='cuda')"
   ]
  },
  {
   "cell_type": "code",
   "execution_count": 42,
   "id": "e5e89ae9",
   "metadata": {},
   "outputs": [
    {
     "data": {
      "text/plain": [
       "device(type='cuda', index=0)"
      ]
     },
     "execution_count": 42,
     "metadata": {},
     "output_type": "execute_result"
    }
   ],
   "source": [
    "x.device"
   ]
  },
  {
   "cell_type": "code",
   "execution_count": null,
   "id": "450e2a3d",
   "metadata": {},
   "outputs": [],
   "source": []
  },
  {
   "cell_type": "code",
   "execution_count": null,
   "id": "ab67ef21",
   "metadata": {},
   "outputs": [],
   "source": []
  },
  {
   "cell_type": "code",
   "execution_count": 67,
   "id": "69bad6bb",
   "metadata": {},
   "outputs": [],
   "source": [
    "class MyModel(torch.nn.Module):\n",
    "    def __init__(self, a='hello'):\n",
    "        super().__init__()\n",
    "        self.m = torch.nn.Sequential(\n",
    "            torch.nn.Linear(10, 10),\n",
    "        )\n",
    "        self.a = a\n",
    "\n",
    "    def forward(self, x):\n",
    "        return self.m(x)"
   ]
  },
  {
   "cell_type": "code",
   "execution_count": 68,
   "id": "31d76bd1",
   "metadata": {},
   "outputs": [],
   "source": [
    "m = MyModel(a='world')"
   ]
  },
  {
   "cell_type": "code",
   "execution_count": 69,
   "id": "d15a2c0d",
   "metadata": {},
   "outputs": [],
   "source": [
    "torch.save(m.state_dict(), '/data/estorrs/sandbox/test.pt')"
   ]
  },
  {
   "cell_type": "code",
   "execution_count": 49,
   "id": "98dbe22b",
   "metadata": {},
   "outputs": [],
   "source": [
    "import pickle"
   ]
  },
  {
   "cell_type": "code",
   "execution_count": 52,
   "id": "eca17210",
   "metadata": {},
   "outputs": [],
   "source": [
    "with open('/data/estorrs/sandbox/test.pt', 'wb') as handle:\n",
    "    pickle.dump(m, handle, protocol=pickle.HIGHEST_PROTOCOL)"
   ]
  },
  {
   "cell_type": "code",
   "execution_count": 53,
   "id": "d8a42a4b",
   "metadata": {},
   "outputs": [],
   "source": [
    "with open('/data/estorrs/sandbox/test.pt', 'rb') as handle:\n",
    "    b = pickle.load(handle)"
   ]
  },
  {
   "cell_type": "code",
   "execution_count": 70,
   "id": "6cc82c27",
   "metadata": {},
   "outputs": [
    {
     "data": {
      "text/plain": [
       "OrderedDict([('m.0.weight',\n",
       "              tensor([[ 0.2271, -0.0835,  0.1331,  0.0984, -0.1592, -0.0435,  0.1436,  0.2511,\n",
       "                        0.0489, -0.0235],\n",
       "                      [ 0.2308,  0.0871, -0.1251, -0.2266, -0.1047, -0.2408,  0.0744, -0.1246,\n",
       "                       -0.3153, -0.2009],\n",
       "                      [ 0.2196, -0.1324,  0.1127,  0.0433,  0.0710,  0.2446, -0.1160,  0.0699,\n",
       "                       -0.0647, -0.0979],\n",
       "                      [-0.0448,  0.3034, -0.0991, -0.2263, -0.1555,  0.2916, -0.0454,  0.2337,\n",
       "                        0.0383, -0.0366],\n",
       "                      [-0.2109,  0.1334, -0.0319, -0.1295,  0.2019, -0.2051,  0.0440, -0.1576,\n",
       "                        0.2542,  0.2031],\n",
       "                      [ 0.1629, -0.2477,  0.0604, -0.2224, -0.2191,  0.1731, -0.1431,  0.0859,\n",
       "                       -0.0729, -0.2662],\n",
       "                      [ 0.2087, -0.1349,  0.2903, -0.0050,  0.2802,  0.2694,  0.2463,  0.1801,\n",
       "                        0.2321,  0.1710],\n",
       "                      [ 0.1271, -0.2326, -0.0924,  0.2335,  0.1163, -0.2872,  0.0392, -0.2809,\n",
       "                       -0.2850,  0.1877],\n",
       "                      [ 0.3106,  0.2055, -0.0780,  0.2097, -0.1613, -0.1736, -0.0684, -0.2968,\n",
       "                       -0.1539,  0.1469],\n",
       "                      [ 0.0769, -0.0028,  0.1640,  0.1451,  0.2038,  0.0977,  0.1703,  0.1939,\n",
       "                       -0.1643, -0.2128]])),\n",
       "             ('m.0.bias',\n",
       "              tensor([ 0.0062,  0.2687,  0.0633,  0.2642,  0.2795,  0.0624,  0.2402, -0.2452,\n",
       "                      -0.0968, -0.0887]))])"
      ]
     },
     "execution_count": 70,
     "metadata": {},
     "output_type": "execute_result"
    }
   ],
   "source": [
    "b = torch.load('/data/estorrs/sandbox/test.pt')\n",
    "b"
   ]
  },
  {
   "cell_type": "code",
   "execution_count": 71,
   "id": "bfb90a9f",
   "metadata": {},
   "outputs": [
    {
     "ename": "AttributeError",
     "evalue": "'collections.OrderedDict' object has no attribute 'a'",
     "output_type": "error",
     "traceback": [
      "\u001b[0;31m---------------------------------------------------------------------------\u001b[0m",
      "\u001b[0;31mAttributeError\u001b[0m                            Traceback (most recent call last)",
      "Cell \u001b[0;32mIn[71], line 1\u001b[0m\n\u001b[0;32m----> 1\u001b[0m \u001b[43mb\u001b[49m\u001b[38;5;241;43m.\u001b[39;49m\u001b[43ma\u001b[49m\n",
      "\u001b[0;31mAttributeError\u001b[0m: 'collections.OrderedDict' object has no attribute 'a'"
     ]
    }
   ],
   "source": [
    "b.a"
   ]
  },
  {
   "cell_type": "code",
   "execution_count": null,
   "id": "b6fa3e71",
   "metadata": {},
   "outputs": [],
   "source": []
  }
 ],
 "metadata": {
  "kernelspec": {
   "display_name": "Python 3 (ipykernel)",
   "language": "python",
   "name": "python3"
  },
  "language_info": {
   "codemirror_mode": {
    "name": "ipython",
    "version": 3
   },
   "file_extension": ".py",
   "mimetype": "text/x-python",
   "name": "python",
   "nbconvert_exporter": "python",
   "pygments_lexer": "ipython3",
   "version": "3.9.17"
  }
 },
 "nbformat": 4,
 "nbformat_minor": 5
}
