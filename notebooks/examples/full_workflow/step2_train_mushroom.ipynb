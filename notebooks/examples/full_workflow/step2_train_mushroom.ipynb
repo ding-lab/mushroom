{
 "cells": [
  {
   "cell_type": "code",
   "execution_count": 14,
   "id": "6eac352b",
   "metadata": {},
   "outputs": [],
   "source": [
    "import os\n",
    "import sys\n",
    "from copy import deepcopy\n",
    "from pathlib import Path\n",
    "\n",
    "import yaml"
   ]
  },
  {
   "cell_type": "code",
   "execution_count": 2,
   "id": "dda4db94",
   "metadata": {},
   "outputs": [],
   "source": [
    "%load_ext autoreload"
   ]
  },
  {
   "cell_type": "code",
   "execution_count": 3,
   "id": "bbe90f7f",
   "metadata": {},
   "outputs": [],
   "source": [
    "%autoreload 2"
   ]
  },
  {
   "cell_type": "code",
   "execution_count": 67,
   "id": "315c1932",
   "metadata": {},
   "outputs": [],
   "source": [
    "from mushroom.mushroom import Mushroom, DEFAULT_CONFIG\n",
    "import mushroom.data.multiplex as multiplex\n",
    "import mushroom.utils as utils\n",
    "import mushroom.visualization.utils as vis_utils"
   ]
  },
  {
   "cell_type": "code",
   "execution_count": 68,
   "id": "57393fab",
   "metadata": {},
   "outputs": [],
   "source": [
    "run_dir = '/diskmnt/Projects/Users/estorrs/mushroom/data/projects/examples/full_workflow'\n",
    "mushroom_dir = os.path.join(run_dir, f'mushroom') # where mushroom results will be saved\n",
    "Path(mushroom_dir).mkdir(parents=True, exist_ok=True)"
   ]
  },
  {
   "cell_type": "markdown",
   "id": "827f21e2",
   "metadata": {},
   "source": [
    "## specify inputs"
   ]
  },
  {
   "cell_type": "code",
   "execution_count": 69,
   "id": "dadd8c08",
   "metadata": {
    "scrolled": true
   },
   "outputs": [
    {
     "name": "stdout",
     "output_type": "stream",
     "text": [
      "resolution: 1.0\n",
      "sections:\n",
      "- data:\n",
      "  - dtype: visium\n",
      "    filepath: /diskmnt/Projects/Users/estorrs/mushroom/data/projects/examples/full_workflow/registered/s0_S18-9906-U1_visium.h5ad\n",
      "  - dtype: he\n",
      "    filepath: /diskmnt/Projects/Users/estorrs/mushroom/data/projects/examples/full_workflow/registered/s0_S18-9906-U1_he.tif\n",
      "  position: 0\n",
      "  sid: S18-9906-U1\n",
      "- data:\n",
      "  - dtype: xenium\n",
      "    filepath: /diskmnt/Projects/Users/estorrs/mushroom/data/projects/examples/full_workflow/registered/s1_S18-9906-U2_xenium.h5ad\n",
      "  position: 5\n",
      "  sid: S18-9906-U2\n",
      "- data:\n",
      "  - dtype: multiplex\n",
      "    filepath: /diskmnt/Projects/Users/estorrs/mushroom/data/projects/examples/full_workflow/registered/s2_S18-9906-U3_multiplex.ome.tiff\n",
      "  position: 10\n",
      "  sid: S18-9906-U3\n",
      "- data:\n",
      "  - dtype: xenium\n",
      "    filepath: /diskmnt/Projects/Users/estorrs/mushroom/data/projects/examples/full_workflow/registered/s3_S18-9906-U9_xenium.h5ad\n",
      "  position: 40\n",
      "  sid: S18-9906-U9\n",
      "- data:\n",
      "  - dtype: multiplex\n",
      "    filepath: /diskmnt/Projects/Users/estorrs/mushroom/data/projects/examples/full_workflow/registered/s4_S18-9906-U10_multiplex.ome.tiff\n",
      "  position: 45\n",
      "  sid: S18-9906-U10\n",
      "- data:\n",
      "  - dtype: visium\n",
      "    filepath: /diskmnt/Projects/Users/estorrs/mushroom/data/projects/examples/full_workflow/registered/s5_S18-9906-U16_visium.h5ad\n",
      "  - dtype: he\n",
      "    filepath: /diskmnt/Projects/Users/estorrs/mushroom/data/projects/examples/full_workflow/registered/s5_S18-9906-U16_he.tif\n",
      "  position: 105\n",
      "  sid: S18-9906-U16\n",
      "- data:\n",
      "  - dtype: xenium\n",
      "    filepath: /diskmnt/Projects/Users/estorrs/mushroom/data/projects/examples/full_workflow/registered/s6_S18-9906-U17_xenium.h5ad\n",
      "  position: 120\n",
      "  sid: S18-9906-U17\n",
      "- data:\n",
      "  - dtype: multiplex\n",
      "    filepath: /diskmnt/Projects/Users/estorrs/mushroom/data/projects/examples/full_workflow/registered/s7_S18-9906-U18_multiplex.ome.tiff\n",
      "  position: 125\n",
      "  sid: S18-9906-U18\n",
      "- data:\n",
      "  - dtype: xenium\n",
      "    filepath: /diskmnt/Projects/Users/estorrs/mushroom/data/projects/examples/full_workflow/registered/s8_S18-9906-U24_xenium.h5ad\n",
      "  position: 155\n",
      "  sid: S18-9906-U24\n",
      "- data:\n",
      "  - dtype: multiplex\n",
      "    filepath: /diskmnt/Projects/Users/estorrs/mushroom/data/projects/examples/full_workflow/registered/s9_S18-9906-U25_multiplex.ome.tiff\n",
      "  position: 160\n",
      "  sid: S18-9906-U25\n",
      "target_sid: S18-9906-U2\n"
     ]
    }
   ],
   "source": [
    "metadata = yaml.safe_load(open(os.path.join(run_dir, 'registered', 'metadata.yaml')))\n",
    "yaml.safe_dump(metadata, sys.stdout)"
   ]
  },
  {
   "cell_type": "code",
   "execution_count": 70,
   "id": "7b4d1916",
   "metadata": {
    "scrolled": true
   },
   "outputs": [
    {
     "data": {
      "text/plain": [
       "{'sections': None,\n",
       " 'dtype_to_chkpt': None,\n",
       " 'dtype_specific_params': None,\n",
       " 'sae_kwargs': {'size': 8,\n",
       "  'patch_size': 1,\n",
       "  'encoder_dim': 128,\n",
       "  'codebook_dim': 64,\n",
       "  'num_clusters': (8, 4, 2),\n",
       "  'dtype_to_decoder_dims': {'multiplex': (256, 128, 64),\n",
       "   'he': (256, 128, 10),\n",
       "   'visium': (256, 512, 2048),\n",
       "   'xenium': (256, 256, 256),\n",
       "   'cosmx': (256, 512, 1024),\n",
       "   'points': (256, 512, 1024)},\n",
       "  'recon_scaler': 1.0,\n",
       "  'neigh_scaler': 0.01},\n",
       " 'trainer_kwargs': {'input_resolution': 1.0,\n",
       "  'target_resolution': 0.02,\n",
       "  'pct_expression': 0.05,\n",
       "  'batch_size': 128,\n",
       "  'num_workers': 1,\n",
       "  'devices': 1,\n",
       "  'accelerator': 'cpu',\n",
       "  'max_epochs': 1,\n",
       "  'steps_per_epoch': 1000,\n",
       "  'lr': 0.0001,\n",
       "  'out_dir': './outputs',\n",
       "  'save_every': 1,\n",
       "  'log_every_n_steps': 10,\n",
       "  'logger_type': 'tensorboard',\n",
       "  'logger_project': 'portobello',\n",
       "  'channel_mapping': {}}}"
      ]
     },
     "execution_count": 70,
     "metadata": {},
     "output_type": "execute_result"
    }
   ],
   "source": [
    "DEFAULT_CONFIG"
   ]
  },
  {
   "cell_type": "code",
   "execution_count": 71,
   "id": "b63049e8",
   "metadata": {
    "scrolled": true
   },
   "outputs": [
    {
     "data": {
      "text/plain": [
       "{'sections': [{'data': [{'dtype': 'visium',\n",
       "     'filepath': '/diskmnt/Projects/Users/estorrs/mushroom/data/projects/examples/full_workflow/registered/s0_S18-9906-U1_visium.h5ad'},\n",
       "    {'dtype': 'he',\n",
       "     'filepath': '/diskmnt/Projects/Users/estorrs/mushroom/data/projects/examples/full_workflow/registered/s0_S18-9906-U1_he.tif'}],\n",
       "   'position': 0,\n",
       "   'sid': 'S18-9906-U1'},\n",
       "  {'data': [{'dtype': 'xenium',\n",
       "     'filepath': '/diskmnt/Projects/Users/estorrs/mushroom/data/projects/examples/full_workflow/registered/s1_S18-9906-U2_xenium.h5ad'}],\n",
       "   'position': 5,\n",
       "   'sid': 'S18-9906-U2'},\n",
       "  {'data': [{'dtype': 'multiplex',\n",
       "     'filepath': '/diskmnt/Projects/Users/estorrs/mushroom/data/projects/examples/full_workflow/registered/s2_S18-9906-U3_multiplex.ome.tiff'}],\n",
       "   'position': 10,\n",
       "   'sid': 'S18-9906-U3'},\n",
       "  {'data': [{'dtype': 'xenium',\n",
       "     'filepath': '/diskmnt/Projects/Users/estorrs/mushroom/data/projects/examples/full_workflow/registered/s3_S18-9906-U9_xenium.h5ad'}],\n",
       "   'position': 40,\n",
       "   'sid': 'S18-9906-U9'},\n",
       "  {'data': [{'dtype': 'multiplex',\n",
       "     'filepath': '/diskmnt/Projects/Users/estorrs/mushroom/data/projects/examples/full_workflow/registered/s4_S18-9906-U10_multiplex.ome.tiff'}],\n",
       "   'position': 45,\n",
       "   'sid': 'S18-9906-U10'},\n",
       "  {'data': [{'dtype': 'visium',\n",
       "     'filepath': '/diskmnt/Projects/Users/estorrs/mushroom/data/projects/examples/full_workflow/registered/s5_S18-9906-U16_visium.h5ad'},\n",
       "    {'dtype': 'he',\n",
       "     'filepath': '/diskmnt/Projects/Users/estorrs/mushroom/data/projects/examples/full_workflow/registered/s5_S18-9906-U16_he.tif'}],\n",
       "   'position': 105,\n",
       "   'sid': 'S18-9906-U16'},\n",
       "  {'data': [{'dtype': 'xenium',\n",
       "     'filepath': '/diskmnt/Projects/Users/estorrs/mushroom/data/projects/examples/full_workflow/registered/s6_S18-9906-U17_xenium.h5ad'}],\n",
       "   'position': 120,\n",
       "   'sid': 'S18-9906-U17'},\n",
       "  {'data': [{'dtype': 'multiplex',\n",
       "     'filepath': '/diskmnt/Projects/Users/estorrs/mushroom/data/projects/examples/full_workflow/registered/s7_S18-9906-U18_multiplex.ome.tiff'}],\n",
       "   'position': 125,\n",
       "   'sid': 'S18-9906-U18'},\n",
       "  {'data': [{'dtype': 'xenium',\n",
       "     'filepath': '/diskmnt/Projects/Users/estorrs/mushroom/data/projects/examples/full_workflow/registered/s8_S18-9906-U24_xenium.h5ad'}],\n",
       "   'position': 155,\n",
       "   'sid': 'S18-9906-U24'},\n",
       "  {'data': [{'dtype': 'multiplex',\n",
       "     'filepath': '/diskmnt/Projects/Users/estorrs/mushroom/data/projects/examples/full_workflow/registered/s9_S18-9906-U25_multiplex.ome.tiff'}],\n",
       "   'position': 160,\n",
       "   'sid': 'S18-9906-U25'}],\n",
       " 'dtype_to_chkpt': None,\n",
       " 'dtype_specific_params': None,\n",
       " 'sae_kwargs': {'size': 8,\n",
       "  'patch_size': 1,\n",
       "  'encoder_dim': 128,\n",
       "  'codebook_dim': 64,\n",
       "  'num_clusters': (8, 4, 2),\n",
       "  'dtype_to_decoder_dims': {'multiplex': (256, 128, 64),\n",
       "   'he': (256, 128, 10),\n",
       "   'visium': (256, 512, 2048),\n",
       "   'xenium': (256, 256, 256),\n",
       "   'cosmx': (256, 512, 1024),\n",
       "   'points': (256, 512, 1024)},\n",
       "  'recon_scaler': 1.0,\n",
       "  'neigh_scaler': 0.01},\n",
       " 'trainer_kwargs': {'input_resolution': 1.0,\n",
       "  'target_resolution': 0.02,\n",
       "  'pct_expression': 0.05,\n",
       "  'batch_size': 128,\n",
       "  'num_workers': 1,\n",
       "  'devices': 1,\n",
       "  'accelerator': 'cpu',\n",
       "  'max_epochs': 1,\n",
       "  'steps_per_epoch': 1000,\n",
       "  'lr': 0.0001,\n",
       "  'out_dir': '/diskmnt/Projects/Users/estorrs/mushroom/data/projects/examples/full_workflow/mushroom/outputs',\n",
       "  'save_every': 1,\n",
       "  'log_every_n_steps': 10,\n",
       "  'logger_type': 'tensorboard',\n",
       "  'logger_project': 'portobello',\n",
       "  'channel_mapping': {}}}"
      ]
     },
     "execution_count": 71,
     "metadata": {},
     "output_type": "execute_result"
    }
   ],
   "source": [
    "config = deepcopy(DEFAULT_CONFIG)\n",
    "config = utils.recursive_update(config, {\n",
    "    'sections': metadata['sections'],\n",
    "    'trainer_kwargs': {\n",
    "        'input_resolution': metadata['resolution'],\n",
    "        'target_resolution': metadata['resolution'] / 50.,\n",
    "        'out_dir': os.path.join(mushroom_dir, 'outputs'),\n",
    "    }\n",
    "})\n",
    "config"
   ]
  },
  {
   "cell_type": "code",
   "execution_count": 72,
   "id": "7407806b",
   "metadata": {},
   "outputs": [],
   "source": [
    "# fps = [mapping['filepath'] \n",
    "#        for item in config['sections']\n",
    "#        for mapping in item['data']\n",
    "#        if 'multiplex' == mapping['dtype']]\n",
    "# multiplex.get_channel_counts(fps)"
   ]
  },
  {
   "cell_type": "code",
   "execution_count": 73,
   "id": "c92a04ab",
   "metadata": {
    "scrolled": true
   },
   "outputs": [
    {
     "data": {
      "text/plain": [
       "{'sections': [{'data': [{'dtype': 'visium',\n",
       "     'filepath': '/diskmnt/Projects/Users/estorrs/mushroom/data/projects/examples/full_workflow/registered/s0_S18-9906-U1_visium.h5ad'},\n",
       "    {'dtype': 'he',\n",
       "     'filepath': '/diskmnt/Projects/Users/estorrs/mushroom/data/projects/examples/full_workflow/registered/s0_S18-9906-U1_he.tif'}],\n",
       "   'position': 0,\n",
       "   'sid': 'S18-9906-U1'},\n",
       "  {'data': [{'dtype': 'xenium',\n",
       "     'filepath': '/diskmnt/Projects/Users/estorrs/mushroom/data/projects/examples/full_workflow/registered/s1_S18-9906-U2_xenium.h5ad'}],\n",
       "   'position': 5,\n",
       "   'sid': 'S18-9906-U2'},\n",
       "  {'data': [{'dtype': 'multiplex',\n",
       "     'filepath': '/diskmnt/Projects/Users/estorrs/mushroom/data/projects/examples/full_workflow/registered/s2_S18-9906-U3_multiplex.ome.tiff'}],\n",
       "   'position': 10,\n",
       "   'sid': 'S18-9906-U3'},\n",
       "  {'data': [{'dtype': 'xenium',\n",
       "     'filepath': '/diskmnt/Projects/Users/estorrs/mushroom/data/projects/examples/full_workflow/registered/s3_S18-9906-U9_xenium.h5ad'}],\n",
       "   'position': 40,\n",
       "   'sid': 'S18-9906-U9'},\n",
       "  {'data': [{'dtype': 'multiplex',\n",
       "     'filepath': '/diskmnt/Projects/Users/estorrs/mushroom/data/projects/examples/full_workflow/registered/s4_S18-9906-U10_multiplex.ome.tiff'}],\n",
       "   'position': 45,\n",
       "   'sid': 'S18-9906-U10'},\n",
       "  {'data': [{'dtype': 'visium',\n",
       "     'filepath': '/diskmnt/Projects/Users/estorrs/mushroom/data/projects/examples/full_workflow/registered/s5_S18-9906-U16_visium.h5ad'},\n",
       "    {'dtype': 'he',\n",
       "     'filepath': '/diskmnt/Projects/Users/estorrs/mushroom/data/projects/examples/full_workflow/registered/s5_S18-9906-U16_he.tif'}],\n",
       "   'position': 105,\n",
       "   'sid': 'S18-9906-U16'},\n",
       "  {'data': [{'dtype': 'xenium',\n",
       "     'filepath': '/diskmnt/Projects/Users/estorrs/mushroom/data/projects/examples/full_workflow/registered/s6_S18-9906-U17_xenium.h5ad'}],\n",
       "   'position': 120,\n",
       "   'sid': 'S18-9906-U17'},\n",
       "  {'data': [{'dtype': 'multiplex',\n",
       "     'filepath': '/diskmnt/Projects/Users/estorrs/mushroom/data/projects/examples/full_workflow/registered/s7_S18-9906-U18_multiplex.ome.tiff'}],\n",
       "   'position': 125,\n",
       "   'sid': 'S18-9906-U18'},\n",
       "  {'data': [{'dtype': 'xenium',\n",
       "     'filepath': '/diskmnt/Projects/Users/estorrs/mushroom/data/projects/examples/full_workflow/registered/s8_S18-9906-U24_xenium.h5ad'}],\n",
       "   'position': 155,\n",
       "   'sid': 'S18-9906-U24'},\n",
       "  {'data': [{'dtype': 'multiplex',\n",
       "     'filepath': '/diskmnt/Projects/Users/estorrs/mushroom/data/projects/examples/full_workflow/registered/s9_S18-9906-U25_multiplex.ome.tiff'}],\n",
       "   'position': 160,\n",
       "   'sid': 'S18-9906-U25'}],\n",
       " 'dtype_to_chkpt': None,\n",
       " 'dtype_specific_params': {'visium': {'trainer_kwargs': {'target_resolution': 0.01}}},\n",
       " 'sae_kwargs': {'size': 8,\n",
       "  'patch_size': 1,\n",
       "  'encoder_dim': 128,\n",
       "  'codebook_dim': 64,\n",
       "  'num_clusters': (8, 4, 2),\n",
       "  'dtype_to_decoder_dims': {'multiplex': (256, 128, 64),\n",
       "   'he': (256, 128, 10),\n",
       "   'visium': (256, 512, 2048),\n",
       "   'xenium': (256, 256, 256),\n",
       "   'cosmx': (256, 512, 1024),\n",
       "   'points': (256, 512, 1024)},\n",
       "  'recon_scaler': 1.0,\n",
       "  'neigh_scaler': 0.01},\n",
       " 'trainer_kwargs': {'input_resolution': 1.0,\n",
       "  'target_resolution': 0.02,\n",
       "  'pct_expression': 0.05,\n",
       "  'batch_size': 128,\n",
       "  'num_workers': 1,\n",
       "  'devices': 1,\n",
       "  'accelerator': 'cpu',\n",
       "  'max_epochs': 1,\n",
       "  'steps_per_epoch': 1000,\n",
       "  'lr': 0.0001,\n",
       "  'out_dir': '/diskmnt/Projects/Users/estorrs/mushroom/data/projects/examples/full_workflow/mushroom/outputs',\n",
       "  'save_every': 1,\n",
       "  'log_every_n_steps': 10,\n",
       "  'logger_type': 'tensorboard',\n",
       "  'logger_project': 'portobello',\n",
       "  'channel_mapping': {}}}"
      ]
     },
     "execution_count": 73,
     "metadata": {},
     "output_type": "execute_result"
    }
   ],
   "source": [
    "config['dtype_specific_params'] = {\n",
    "    'visium': {\n",
    "        'trainer_kwargs': {\n",
    "            'target_resolution': .01 # lower resolution for visium\n",
    "        }\n",
    "    }\n",
    "}\n",
    "config"
   ]
  },
  {
   "cell_type": "markdown",
   "id": "03d6bc36",
   "metadata": {},
   "source": [
    "## train mushroom"
   ]
  },
  {
   "cell_type": "code",
   "execution_count": 74,
   "id": "9a896e68",
   "metadata": {
    "scrolled": true
   },
   "outputs": [
    {
     "name": "stderr",
     "output_type": "stream",
     "text": [
      "INFO:root:loading spore for he\n",
      "INFO:root:starting he processing\n",
      "INFO:root:2 sections detected: ['S18-9906-U1', 'S18-9906-U16']\n",
      "INFO:root:processing sections\n",
      "INFO:root:generating image data for section S18-9906-U1\n",
      "INFO:root:generating image data for section S18-9906-U16\n",
      "INFO:root:generating training dataset\n",
      "INFO:root:generating inference dataset\n",
      "INFO:root:total of 2 sections detected: [('S18-9906-U1', 'he'), ('S18-9906-U16', 'he')]\n",
      "INFO:root:creating data loaders\n",
      "INFO:root:creating ViT\n",
      "INFO:root:model initialized\n",
      "GPU available: False, used: False\n",
      "TPU available: False, using: 0 TPU cores\n",
      "IPU available: False, using: 0 IPUs\n",
      "HPU available: False, using: 0 HPUs\n",
      "INFO:root:loading spore for multiplex\n",
      "INFO:root:starting multiplex processing\n",
      "INFO:root:using 24 channels\n",
      "INFO:root:4 sections detected: ['S18-9906-U3', 'S18-9906-U10', 'S18-9906-U18', 'S18-9906-U25']\n",
      "INFO:root:processing sections\n",
      "INFO:root:generating image data for section S18-9906-U3\n",
      "INFO:root:generating image data for section S18-9906-U10\n",
      "INFO:root:generating image data for section S18-9906-U18\n",
      "INFO:root:generating image data for section S18-9906-U25\n",
      "INFO:root:generating training dataset\n",
      "INFO:root:generating inference dataset\n",
      "INFO:root:total of 4 sections detected: [('S18-9906-U3', 'multiplex'), ('S18-9906-U10', 'multiplex'), ('S18-9906-U18', 'multiplex'), ('S18-9906-U25', 'multiplex')]\n",
      "INFO:root:creating data loaders\n",
      "INFO:root:creating ViT\n",
      "INFO:root:model initialized\n",
      "/diskmnt/Projects/Users/estorrs/miniconda3/envs/mushroom/lib/python3.9/site-packages/lightning/fabric/plugins/environments/slurm.py:204: The `srun` command is available on your system but is not used. HINT: If your intention is to run Lightning on SLURM, prepend your python command with `srun` like so: srun python /diskmnt/Projects/Users/estorrs/miniconda3/envs/mush ...\n",
      "GPU available: False, used: False\n",
      "TPU available: False, using: 0 TPU cores\n",
      "IPU available: False, using: 0 IPUs\n",
      "HPU available: False, using: 0 HPUs\n",
      "INFO:root:loading spore for visium\n",
      "INFO:root:starting visium processing\n",
      "INFO:root:using 8587 channels\n",
      "INFO:root:2 sections detected: ['S18-9906-U1', 'S18-9906-U16']\n",
      "INFO:root:processing sections\n",
      "INFO:root:generating image data for section S18-9906-U1\n",
      "INFO:root:generating image data for section S18-9906-U16\n",
      "INFO:root:generating training dataset\n",
      "INFO:root:generating inference dataset\n",
      "INFO:root:total of 2 sections detected: [('S18-9906-U1', 'visium'), ('S18-9906-U16', 'visium')]\n",
      "INFO:root:creating data loaders\n",
      "INFO:root:creating ViT\n",
      "INFO:root:model initialized\n",
      "/diskmnt/Projects/Users/estorrs/miniconda3/envs/mushroom/lib/python3.9/site-packages/lightning/fabric/plugins/environments/slurm.py:204: The `srun` command is available on your system but is not used. HINT: If your intention is to run Lightning on SLURM, prepend your python command with `srun` like so: srun python /diskmnt/Projects/Users/estorrs/miniconda3/envs/mush ...\n",
      "GPU available: False, used: False\n",
      "TPU available: False, using: 0 TPU cores\n",
      "IPU available: False, using: 0 IPUs\n",
      "HPU available: False, using: 0 HPUs\n",
      "INFO:root:loading spore for xenium\n",
      "INFO:root:starting xenium processing\n",
      "INFO:root:using 377 channels\n",
      "INFO:root:4 sections detected: ['S18-9906-U2', 'S18-9906-U9', 'S18-9906-U17', 'S18-9906-U24']\n",
      "INFO:root:processing sections\n",
      "INFO:root:generating image data for section S18-9906-U2\n",
      "INFO:root:generating image data for section S18-9906-U9\n",
      "INFO:root:generating image data for section S18-9906-U17\n",
      "INFO:root:generating image data for section S18-9906-U24\n",
      "INFO:root:generating training dataset\n",
      "INFO:root:generating inference dataset\n",
      "INFO:root:total of 4 sections detected: [('S18-9906-U2', 'xenium'), ('S18-9906-U9', 'xenium'), ('S18-9906-U17', 'xenium'), ('S18-9906-U24', 'xenium')]\n",
      "INFO:root:creating data loaders\n",
      "INFO:root:creating ViT\n",
      "INFO:root:model initialized\n",
      "/diskmnt/Projects/Users/estorrs/miniconda3/envs/mushroom/lib/python3.9/site-packages/lightning/fabric/plugins/environments/slurm.py:204: The `srun` command is available on your system but is not used. HINT: If your intention is to run Lightning on SLURM, prepend your python command with `srun` like so: srun python /diskmnt/Projects/Users/estorrs/miniconda3/envs/mush ...\n",
      "GPU available: False, used: False\n",
      "TPU available: False, using: 0 TPU cores\n",
      "IPU available: False, using: 0 IPUs\n",
      "HPU available: False, using: 0 HPUs\n"
     ]
    }
   ],
   "source": [
    "mushroom = Mushroom.from_config(config)"
   ]
  },
  {
   "cell_type": "code",
   "execution_count": 77,
   "id": "d4106aac",
   "metadata": {},
   "outputs": [
    {
     "data": {
      "text/plain": [
       "[('S18-9906-U1', 'visium'),\n",
       " ('S18-9906-U1', 'he'),\n",
       " ('S18-9906-U2', 'xenium'),\n",
       " ('S18-9906-U3', 'multiplex'),\n",
       " ('S18-9906-U9', 'xenium'),\n",
       " ('S18-9906-U10', 'multiplex'),\n",
       " ('S18-9906-U16', 'visium'),\n",
       " ('S18-9906-U16', 'he'),\n",
       " ('S18-9906-U17', 'xenium'),\n",
       " ('S18-9906-U18', 'multiplex'),\n",
       " ('S18-9906-U24', 'xenium'),\n",
       " ('S18-9906-U25', 'multiplex')]"
      ]
     },
     "execution_count": 77,
     "metadata": {},
     "output_type": "execute_result"
    }
   ],
   "source": [
    "mushroom.section_ids"
   ]
  },
  {
   "cell_type": "code",
   "execution_count": 78,
   "id": "060310e1",
   "metadata": {},
   "outputs": [
    {
     "name": "stderr",
     "output_type": "stream",
     "text": [
      "INFO:root:starting training for he\n",
      "/diskmnt/Projects/Users/estorrs/miniconda3/envs/mushroom/lib/python3.9/site-packages/lightning/fabric/plugins/environments/slurm.py:204: The `srun` command is available on your system but is not used. HINT: If your intention is to run Lightning on SLURM, prepend your python command with `srun` like so: srun python /diskmnt/Projects/Users/estorrs/miniconda3/envs/mush ...\n",
      "Missing logger folder: /diskmnt/Projects/Users/estorrs/mushroom/data/projects/examples/full_workflow/mushroom/outputs/he_logs/lightning_logs\n",
      "\n",
      "  | Name | Type | Params\n",
      "------------------------------\n",
      "0 | sae  | SAE  | 5.0 M \n",
      "------------------------------\n",
      "5.0 M     Trainable params\n",
      "0         Non-trainable params\n",
      "5.0 M     Total params\n",
      "19.868    Total estimated model params size (MB)\n",
      "/diskmnt/Projects/Users/estorrs/miniconda3/envs/mushroom/lib/python3.9/site-packages/lightning/pytorch/trainer/connectors/data_connector.py:441: The 'train_dataloader' does not have many workers which may be a bottleneck. Consider increasing the value of the `num_workers` argument` to `num_workers=55` in the `DataLoader` to improve performance.\n"
     ]
    },
    {
     "data": {
      "application/vnd.jupyter.widget-view+json": {
       "model_id": "ba0a90aaf54c4562bc679351ee23b991",
       "version_major": 2,
       "version_minor": 0
      },
      "text/plain": [
       "Training: |                                                                                         | 0/? [00:…"
      ]
     },
     "metadata": {},
     "output_type": "display_data"
    },
    {
     "name": "stderr",
     "output_type": "stream",
     "text": [
      "`Trainer.fit` stopped: `max_epochs=1` reached.\n",
      "Traceback (most recent call last):\n",
      "  File \"/diskmnt/Projects/Users/estorrs/miniconda3/envs/mushroom/lib/python3.9/multiprocessing/util.py\", line 300, in _run_finalizers\n",
      "    finalizer()\n",
      "  File \"/diskmnt/Projects/Users/estorrs/miniconda3/envs/mushroom/lib/python3.9/multiprocessing/util.py\", line 224, in __call__\n",
      "    res = self._callback(*self._args, **self._kwargs)\n",
      "  File \"/diskmnt/Projects/Users/estorrs/miniconda3/envs/mushroom/lib/python3.9/multiprocessing/util.py\", line 133, in _remove_temp_dir\n",
      "    rmtree(tempdir)\n",
      "  File \"/diskmnt/Projects/Users/estorrs/miniconda3/envs/mushroom/lib/python3.9/shutil.py\", line 734, in rmtree\n",
      "    _rmtree_safe_fd(fd, path, onerror)\n",
      "  File \"/diskmnt/Projects/Users/estorrs/miniconda3/envs/mushroom/lib/python3.9/shutil.py\", line 690, in _rmtree_safe_fd\n",
      "    onerror(os.unlink, fullname, sys.exc_info())\n",
      "  File \"/diskmnt/Projects/Users/estorrs/miniconda3/envs/mushroom/lib/python3.9/shutil.py\", line 688, in _rmtree_safe_fd\n",
      "    os.unlink(entry.name, dir_fd=topfd)\n",
      "OSError: [Errno 16] Device or resource busy: '.nfs0000002c4000b4e30000ab58'\n",
      "INFO:root:finished training he, saved chkpt to /diskmnt/Projects/Users/estorrs/mushroom/data/projects/examples/full_workflow/mushroom/outputs/he_chkpts/last.ckpt\n",
      "INFO:root:starting training for multiplex\n",
      "/diskmnt/Projects/Users/estorrs/miniconda3/envs/mushroom/lib/python3.9/site-packages/lightning/fabric/plugins/environments/slurm.py:204: The `srun` command is available on your system but is not used. HINT: If your intention is to run Lightning on SLURM, prepend your python command with `srun` like so: srun python /diskmnt/Projects/Users/estorrs/miniconda3/envs/mush ...\n",
      "Missing logger folder: /diskmnt/Projects/Users/estorrs/mushroom/data/projects/examples/full_workflow/mushroom/outputs/multiplex_logs/lightning_logs\n",
      "\n",
      "  | Name | Type | Params\n",
      "------------------------------\n",
      "0 | sae  | SAE  | 5.0 M \n",
      "------------------------------\n",
      "5.0 M     Trainable params\n",
      "0         Non-trainable params\n",
      "5.0 M     Total params\n",
      "19.914    Total estimated model params size (MB)\n"
     ]
    },
    {
     "data": {
      "application/vnd.jupyter.widget-view+json": {
       "model_id": "43e737b22fcc4239a6bfeb4af8958f9d",
       "version_major": 2,
       "version_minor": 0
      },
      "text/plain": [
       "Training: |                                                                                         | 0/? [00:…"
      ]
     },
     "metadata": {},
     "output_type": "display_data"
    },
    {
     "name": "stderr",
     "output_type": "stream",
     "text": [
      "`Trainer.fit` stopped: `max_epochs=1` reached.\n",
      "Traceback (most recent call last):\n",
      "  File \"/diskmnt/Projects/Users/estorrs/miniconda3/envs/mushroom/lib/python3.9/multiprocessing/util.py\", line 300, in _run_finalizers\n",
      "    finalizer()\n",
      "  File \"/diskmnt/Projects/Users/estorrs/miniconda3/envs/mushroom/lib/python3.9/multiprocessing/util.py\", line 224, in __call__\n",
      "    res = self._callback(*self._args, **self._kwargs)\n",
      "  File \"/diskmnt/Projects/Users/estorrs/miniconda3/envs/mushroom/lib/python3.9/multiprocessing/util.py\", line 133, in _remove_temp_dir\n",
      "    rmtree(tempdir)\n",
      "  File \"/diskmnt/Projects/Users/estorrs/miniconda3/envs/mushroom/lib/python3.9/shutil.py\", line 734, in rmtree\n",
      "    _rmtree_safe_fd(fd, path, onerror)\n",
      "  File \"/diskmnt/Projects/Users/estorrs/miniconda3/envs/mushroom/lib/python3.9/shutil.py\", line 690, in _rmtree_safe_fd\n",
      "    onerror(os.unlink, fullname, sys.exc_info())\n",
      "  File \"/diskmnt/Projects/Users/estorrs/miniconda3/envs/mushroom/lib/python3.9/shutil.py\", line 688, in _rmtree_safe_fd\n",
      "    os.unlink(entry.name, dir_fd=topfd)\n",
      "OSError: [Errno 16] Device or resource busy: '.nfs000000021d8b49aa0000ab59'\n",
      "INFO:root:finished training multiplex, saved chkpt to /diskmnt/Projects/Users/estorrs/mushroom/data/projects/examples/full_workflow/mushroom/outputs/multiplex_chkpts/last.ckpt\n",
      "INFO:root:starting training for visium\n",
      "Missing logger folder: /diskmnt/Projects/Users/estorrs/mushroom/data/projects/examples/full_workflow/mushroom/outputs/visium_logs/lightning_logs\n",
      "\n",
      "  | Name | Type | Params\n",
      "------------------------------\n",
      "0 | sae  | SAE  | 24.8 M\n",
      "------------------------------\n",
      "24.8 M    Trainable params\n",
      "0         Non-trainable params\n",
      "24.8 M    Total params\n",
      "99.234    Total estimated model params size (MB)\n"
     ]
    },
    {
     "data": {
      "application/vnd.jupyter.widget-view+json": {
       "model_id": "d19fac73df98454b81d7a886b713cc40",
       "version_major": 2,
       "version_minor": 0
      },
      "text/plain": [
       "Training: |                                                                                         | 0/? [00:…"
      ]
     },
     "metadata": {},
     "output_type": "display_data"
    },
    {
     "name": "stderr",
     "output_type": "stream",
     "text": [
      "`Trainer.fit` stopped: `max_epochs=1` reached.\n",
      "Traceback (most recent call last):\n",
      "  File \"/diskmnt/Projects/Users/estorrs/miniconda3/envs/mushroom/lib/python3.9/multiprocessing/util.py\", line 300, in _run_finalizers\n",
      "    finalizer()\n",
      "  File \"/diskmnt/Projects/Users/estorrs/miniconda3/envs/mushroom/lib/python3.9/multiprocessing/util.py\", line 224, in __call__\n",
      "    res = self._callback(*self._args, **self._kwargs)\n",
      "  File \"/diskmnt/Projects/Users/estorrs/miniconda3/envs/mushroom/lib/python3.9/multiprocessing/util.py\", line 133, in _remove_temp_dir\n",
      "    rmtree(tempdir)\n",
      "  File \"/diskmnt/Projects/Users/estorrs/miniconda3/envs/mushroom/lib/python3.9/shutil.py\", line 734, in rmtree\n",
      "    _rmtree_safe_fd(fd, path, onerror)\n",
      "  File \"/diskmnt/Projects/Users/estorrs/miniconda3/envs/mushroom/lib/python3.9/shutil.py\", line 690, in _rmtree_safe_fd\n",
      "    onerror(os.unlink, fullname, sys.exc_info())\n",
      "  File \"/diskmnt/Projects/Users/estorrs/miniconda3/envs/mushroom/lib/python3.9/shutil.py\", line 688, in _rmtree_safe_fd\n",
      "    os.unlink(entry.name, dir_fd=topfd)\n",
      "OSError: [Errno 16] Device or resource busy: '.nfs00000026dce5c3290000ab5a'\n",
      "INFO:root:finished training visium, saved chkpt to /diskmnt/Projects/Users/estorrs/mushroom/data/projects/examples/full_workflow/mushroom/outputs/visium_chkpts/last.ckpt\n",
      "INFO:root:starting training for xenium\n",
      "Missing logger folder: /diskmnt/Projects/Users/estorrs/mushroom/data/projects/examples/full_workflow/mushroom/outputs/xenium_logs/lightning_logs\n",
      "\n",
      "  | Name | Type | Params\n",
      "------------------------------\n",
      "0 | sae  | SAE  | 5.2 M \n",
      "------------------------------\n",
      "5.2 M     Trainable params\n",
      "0         Non-trainable params\n",
      "5.2 M     Total params\n",
      "20.838    Total estimated model params size (MB)\n"
     ]
    },
    {
     "data": {
      "application/vnd.jupyter.widget-view+json": {
       "model_id": "056e29bc4bb045b6a5c7d5ff3d98b513",
       "version_major": 2,
       "version_minor": 0
      },
      "text/plain": [
       "Training: |                                                                                         | 0/? [00:…"
      ]
     },
     "metadata": {},
     "output_type": "display_data"
    },
    {
     "name": "stderr",
     "output_type": "stream",
     "text": [
      "IOPub message rate exceeded.\n",
      "The notebook server will temporarily stop sending output\n",
      "to the client in order to avoid crashing it.\n",
      "To change this limit, set the config variable\n",
      "`--NotebookApp.iopub_msg_rate_limit`.\n",
      "\n",
      "Current values:\n",
      "NotebookApp.iopub_msg_rate_limit=1000.0 (msgs/sec)\n",
      "NotebookApp.rate_limit_window=3.0 (secs)\n",
      "\n"
     ]
    }
   ],
   "source": [
    "mushroom.train()"
   ]
  },
  {
   "cell_type": "code",
   "execution_count": 82,
   "id": "26bca869",
   "metadata": {},
   "outputs": [
    {
     "name": "stderr",
     "output_type": "stream",
     "text": [
      "INFO:root:embedding he spore\n"
     ]
    },
    {
     "data": {
      "application/vnd.jupyter.widget-view+json": {
       "model_id": "3e69d36ca49749afb6ff912b6b5cdf44",
       "version_major": 2,
       "version_minor": 0
      },
      "text/plain": [
       "Predicting: |                                                                                                 …"
      ]
     },
     "metadata": {},
     "output_type": "display_data"
    },
    {
     "name": "stderr",
     "output_type": "stream",
     "text": [
      "Traceback (most recent call last):\n",
      "  File \"/diskmnt/Projects/Users/estorrs/miniconda3/envs/mushroom/lib/python3.9/multiprocessing/util.py\", line 300, in _run_finalizers\n",
      "    finalizer()\n",
      "  File \"/diskmnt/Projects/Users/estorrs/miniconda3/envs/mushroom/lib/python3.9/multiprocessing/util.py\", line 224, in __call__\n",
      "    res = self._callback(*self._args, **self._kwargs)\n",
      "  File \"/diskmnt/Projects/Users/estorrs/miniconda3/envs/mushroom/lib/python3.9/multiprocessing/util.py\", line 133, in _remove_temp_dir\n",
      "    rmtree(tempdir)\n",
      "  File \"/diskmnt/Projects/Users/estorrs/miniconda3/envs/mushroom/lib/python3.9/shutil.py\", line 734, in rmtree\n",
      "    _rmtree_safe_fd(fd, path, onerror)\n",
      "  File \"/diskmnt/Projects/Users/estorrs/miniconda3/envs/mushroom/lib/python3.9/shutil.py\", line 690, in _rmtree_safe_fd\n",
      "    onerror(os.unlink, fullname, sys.exc_info())\n",
      "  File \"/diskmnt/Projects/Users/estorrs/miniconda3/envs/mushroom/lib/python3.9/shutil.py\", line 688, in _rmtree_safe_fd\n",
      "    os.unlink(entry.name, dir_fd=topfd)\n",
      "OSError: [Errno 16] Device or resource busy: '.nfs00000014f07ff6100000ab66'\n",
      "INFO:root:embedding multiplex spore\n"
     ]
    },
    {
     "name": "stdout",
     "output_type": "stream",
     "text": [
      "predicted_pixels 3 2 (172, 172, 3)\n",
      "true_pixels 2 (172, 172, 3)\n",
      "clusters 3 (2, 172, 172)\n",
      "agg_clusters 3 (2, 172, 172)\n",
      "cluster_probs_agg 3 (2, 172, 172, 8)\n",
      "cluster_to_agg 3 {0: (0,)}\n",
      "cluster_probs 3 (2, 172, 172, 1) <class 'list'>\n",
      "cluster_probs_all 3 (2, 172, 172, 8) <class 'list'>\n",
      "cluster_probs 3 (2, 172, 172, 1) <class 'list'>\n",
      "cluster_probs_all 3 (2, 172, 172, 8, 4) <class 'list'>\n",
      "cluster_probs 3 (2, 172, 172, 1) <class 'list'>\n",
      "cluster_probs_all 3 (2, 172, 172, 8, 4, 2) <class 'list'>\n"
     ]
    },
    {
     "data": {
      "application/vnd.jupyter.widget-view+json": {
       "model_id": "95f6cf07b352452185c42af5d7dfb4f6",
       "version_major": 2,
       "version_minor": 0
      },
      "text/plain": [
       "Predicting: |                                                                                                 …"
      ]
     },
     "metadata": {},
     "output_type": "display_data"
    },
    {
     "name": "stderr",
     "output_type": "stream",
     "text": [
      "Traceback (most recent call last):\n",
      "  File \"/diskmnt/Projects/Users/estorrs/miniconda3/envs/mushroom/lib/python3.9/multiprocessing/util.py\", line 300, in _run_finalizers\n",
      "    finalizer()\n",
      "  File \"/diskmnt/Projects/Users/estorrs/miniconda3/envs/mushroom/lib/python3.9/multiprocessing/util.py\", line 224, in __call__\n",
      "    res = self._callback(*self._args, **self._kwargs)\n",
      "  File \"/diskmnt/Projects/Users/estorrs/miniconda3/envs/mushroom/lib/python3.9/multiprocessing/util.py\", line 133, in _remove_temp_dir\n",
      "    rmtree(tempdir)\n",
      "  File \"/diskmnt/Projects/Users/estorrs/miniconda3/envs/mushroom/lib/python3.9/shutil.py\", line 734, in rmtree\n",
      "    _rmtree_safe_fd(fd, path, onerror)\n",
      "  File \"/diskmnt/Projects/Users/estorrs/miniconda3/envs/mushroom/lib/python3.9/shutil.py\", line 690, in _rmtree_safe_fd\n",
      "    onerror(os.unlink, fullname, sys.exc_info())\n",
      "  File \"/diskmnt/Projects/Users/estorrs/miniconda3/envs/mushroom/lib/python3.9/shutil.py\", line 688, in _rmtree_safe_fd\n",
      "    os.unlink(entry.name, dir_fd=topfd)\n",
      "OSError: [Errno 16] Device or resource busy: '.nfs00000014f07ff6110000ab67'\n",
      "INFO:root:embedding visium spore\n"
     ]
    },
    {
     "name": "stdout",
     "output_type": "stream",
     "text": [
      "predicted_pixels 3 4 (172, 172, 24)\n",
      "true_pixels 4 (172, 172, 24)\n",
      "clusters 3 (4, 172, 172)\n",
      "agg_clusters 3 (4, 172, 172)\n",
      "cluster_probs_agg 3 (4, 172, 172, 8)\n",
      "cluster_to_agg 3 {0: (0,)}\n",
      "cluster_probs 3 (4, 172, 172, 1) <class 'list'>\n",
      "cluster_probs_all 3 (4, 172, 172, 8) <class 'list'>\n",
      "cluster_probs 3 (4, 172, 172, 1) <class 'list'>\n",
      "cluster_probs_all 3 (4, 172, 172, 8, 4) <class 'list'>\n",
      "cluster_probs 3 (4, 172, 172, 1) <class 'list'>\n",
      "cluster_probs_all 3 (4, 172, 172, 8, 4, 2) <class 'list'>\n"
     ]
    },
    {
     "data": {
      "application/vnd.jupyter.widget-view+json": {
       "model_id": "b7fd381f8b584eb5b232c33325b3c373",
       "version_major": 2,
       "version_minor": 0
      },
      "text/plain": [
       "Predicting: |                                                                                                 …"
      ]
     },
     "metadata": {},
     "output_type": "display_data"
    },
    {
     "name": "stderr",
     "output_type": "stream",
     "text": [
      "Traceback (most recent call last):\n",
      "  File \"/diskmnt/Projects/Users/estorrs/miniconda3/envs/mushroom/lib/python3.9/multiprocessing/util.py\", line 300, in _run_finalizers\n",
      "    finalizer()\n",
      "  File \"/diskmnt/Projects/Users/estorrs/miniconda3/envs/mushroom/lib/python3.9/multiprocessing/util.py\", line 224, in __call__\n",
      "    res = self._callback(*self._args, **self._kwargs)\n",
      "  File \"/diskmnt/Projects/Users/estorrs/miniconda3/envs/mushroom/lib/python3.9/multiprocessing/util.py\", line 133, in _remove_temp_dir\n",
      "    rmtree(tempdir)\n",
      "  File \"/diskmnt/Projects/Users/estorrs/miniconda3/envs/mushroom/lib/python3.9/shutil.py\", line 734, in rmtree\n",
      "    _rmtree_safe_fd(fd, path, onerror)\n",
      "  File \"/diskmnt/Projects/Users/estorrs/miniconda3/envs/mushroom/lib/python3.9/shutil.py\", line 690, in _rmtree_safe_fd\n",
      "    onerror(os.unlink, fullname, sys.exc_info())\n",
      "  File \"/diskmnt/Projects/Users/estorrs/miniconda3/envs/mushroom/lib/python3.9/shutil.py\", line 688, in _rmtree_safe_fd\n",
      "    os.unlink(entry.name, dir_fd=topfd)\n",
      "OSError: [Errno 16] Device or resource busy: '.nfs00000014f07ff6120000ab68'\n"
     ]
    },
    {
     "name": "stdout",
     "output_type": "stream",
     "text": [
      "predicted_pixels 3 2 (84, 84, 8587)\n",
      "true_pixels 2 (84, 84, 8587)\n",
      "clusters 3 (2, 84, 84)\n",
      "agg_clusters 3 (2, 84, 84)\n",
      "cluster_probs_agg 3 (2, 84, 84, 8)\n",
      "cluster_to_agg 3 {0: (0,)}\n",
      "cluster_probs 3 (2, 84, 84, 1) <class 'list'>\n",
      "cluster_probs_all 3 (2, 84, 84, 8) <class 'list'>\n",
      "cluster_probs 3 (2, 84, 84, 1) <class 'list'>\n",
      "cluster_probs_all 3 (2, 84, 84, 8, 4) <class 'list'>\n",
      "cluster_probs 3 (2, 84, 84, 1) <class 'list'>\n",
      "cluster_probs_all 3 (2, 84, 84, 8, 4, 2) <class 'list'>\n"
     ]
    },
    {
     "name": "stderr",
     "output_type": "stream",
     "text": [
      "INFO:root:embedding xenium spore\n"
     ]
    },
    {
     "data": {
      "application/vnd.jupyter.widget-view+json": {
       "model_id": "4b741aad77aa4cdaa2bc42a6e1b51cd5",
       "version_major": 2,
       "version_minor": 0
      },
      "text/plain": [
       "Predicting: |                                                                                                 …"
      ]
     },
     "metadata": {},
     "output_type": "display_data"
    },
    {
     "name": "stderr",
     "output_type": "stream",
     "text": [
      "Traceback (most recent call last):\n",
      "  File \"/diskmnt/Projects/Users/estorrs/miniconda3/envs/mushroom/lib/python3.9/multiprocessing/util.py\", line 300, in _run_finalizers\n",
      "    finalizer()\n",
      "  File \"/diskmnt/Projects/Users/estorrs/miniconda3/envs/mushroom/lib/python3.9/multiprocessing/util.py\", line 224, in __call__\n",
      "    res = self._callback(*self._args, **self._kwargs)\n",
      "  File \"/diskmnt/Projects/Users/estorrs/miniconda3/envs/mushroom/lib/python3.9/multiprocessing/util.py\", line 133, in _remove_temp_dir\n",
      "    rmtree(tempdir)\n",
      "  File \"/diskmnt/Projects/Users/estorrs/miniconda3/envs/mushroom/lib/python3.9/shutil.py\", line 734, in rmtree\n",
      "    _rmtree_safe_fd(fd, path, onerror)\n",
      "  File \"/diskmnt/Projects/Users/estorrs/miniconda3/envs/mushroom/lib/python3.9/shutil.py\", line 690, in _rmtree_safe_fd\n",
      "    onerror(os.unlink, fullname, sys.exc_info())\n",
      "  File \"/diskmnt/Projects/Users/estorrs/miniconda3/envs/mushroom/lib/python3.9/shutil.py\", line 688, in _rmtree_safe_fd\n",
      "    os.unlink(entry.name, dir_fd=topfd)\n",
      "OSError: [Errno 16] Device or resource busy: '.nfs00000014f07ff6130000ab69'\n"
     ]
    },
    {
     "name": "stdout",
     "output_type": "stream",
     "text": [
      "predicted_pixels 3 4 (172, 172, 377)\n",
      "true_pixels 4 (172, 172, 377)\n",
      "clusters 3 (4, 172, 172)\n",
      "agg_clusters 3 (4, 172, 172)\n",
      "cluster_probs_agg 3 (4, 172, 172, 8)\n",
      "cluster_to_agg 3 {0: (0,)}\n",
      "cluster_probs 3 (4, 172, 172, 1) <class 'list'>\n",
      "cluster_probs_all 3 (4, 172, 172, 8) <class 'list'>\n",
      "cluster_probs 3 (4, 172, 172, 1) <class 'list'>\n",
      "cluster_probs_all 3 (4, 172, 172, 8, 4) <class 'list'>\n",
      "cluster_probs 3 (4, 172, 172, 1) <class 'list'>\n",
      "cluster_probs_all 3 (4, 172, 172, 8, 4, 2) <class 'list'>\n"
     ]
    }
   ],
   "source": [
    "mushroom.embed_sections()"
   ]
  },
  {
   "cell_type": "code",
   "execution_count": 84,
   "id": "6538cb51",
   "metadata": {},
   "outputs": [
    {
     "ename": "IndexError",
     "evalue": "too many indices for array: array is 1-dimensional, but 2 were indexed",
     "output_type": "error",
     "traceback": [
      "\u001b[0;31m---------------------------------------------------------------------------\u001b[0m",
      "\u001b[0;31mIndexError\u001b[0m                                Traceback (most recent call last)",
      "Cell \u001b[0;32mIn[84], line 2\u001b[0m\n\u001b[1;32m      1\u001b[0m spore \u001b[38;5;241m=\u001b[39m mushroom\u001b[38;5;241m.\u001b[39mdtype_to_spore[\u001b[38;5;124m'\u001b[39m\u001b[38;5;124mhe\u001b[39m\u001b[38;5;124m'\u001b[39m]\n\u001b[0;32m----> 2\u001b[0m \u001b[43mspore\u001b[49m\u001b[38;5;241;43m.\u001b[39;49m\u001b[43mdisplay_cluster_probs\u001b[49m\u001b[43m(\u001b[49m\u001b[43m)\u001b[49m\n",
      "File \u001b[0;32m/diskmnt/Projects/Users/estorrs/mushroom/mushroom/mushroom.py:707\u001b[0m, in \u001b[0;36mSpore.display_cluster_probs\u001b[0;34m(self, level, prob_type, return_axs)\u001b[0m\n\u001b[1;32m    705\u001b[0m \u001b[38;5;28;01mfor\u001b[39;00m c \u001b[38;5;129;01min\u001b[39;00m \u001b[38;5;28mrange\u001b[39m(cluster_probs\u001b[38;5;241m.\u001b[39mshape[\u001b[38;5;241m0\u001b[39m]):\n\u001b[1;32m    706\u001b[0m     \u001b[38;5;28;01mfor\u001b[39;00m r \u001b[38;5;129;01min\u001b[39;00m \u001b[38;5;28mrange\u001b[39m(cluster_probs\u001b[38;5;241m.\u001b[39mshape[\u001b[38;5;241m-\u001b[39m\u001b[38;5;241m1\u001b[39m]):\n\u001b[0;32m--> 707\u001b[0m         ax \u001b[38;5;241m=\u001b[39m \u001b[43maxs\u001b[49m\u001b[43m[\u001b[49m\u001b[43mr\u001b[49m\u001b[43m,\u001b[49m\u001b[43m \u001b[49m\u001b[43mc\u001b[49m\u001b[43m]\u001b[49m\n\u001b[1;32m    708\u001b[0m         ax\u001b[38;5;241m.\u001b[39mimshow(cluster_probs[c, \u001b[38;5;241m.\u001b[39m\u001b[38;5;241m.\u001b[39m\u001b[38;5;241m.\u001b[39m, r])\n\u001b[1;32m    709\u001b[0m         ax\u001b[38;5;241m.\u001b[39mset_yticks([])\n",
      "\u001b[0;31mIndexError\u001b[0m: too many indices for array: array is 1-dimensional, but 2 were indexed"
     ]
    },
    {
     "data": {
      "image/png": "[encoded data removed]",
      "text/plain": [
       "<Figure size 200x100 with 2 Axes>"
      ]
     },
     "metadata": {},
     "output_type": "display_data"
    }
   ],
   "source": [
    "spore = mushroom.dtype_to_spore['he']\n",
    "spore.display_cluster_probs()"
   ]
  },
  {
   "cell_type": "code",
   "execution_count": 86,
   "id": "f272a62b",
   "metadata": {},
   "outputs": [
    {
     "data": {
      "image/png": "[encoded data removed]",
      "text/plain": [
       "<Figure size 400x500 with 3 Axes>"
      ]
     },
     "metadata": {},
     "output_type": "display_data"
    }
   ],
   "source": [
    "spore.display_clusters()"
   ]
  },
  {
   "cell_type": "code",
   "execution_count": 85,
   "id": "944b76a4",
   "metadata": {},
   "outputs": [
    {
     "ename": "IndexError",
     "evalue": "too many indices for array: array is 1-dimensional, but 2 were indexed",
     "output_type": "error",
     "traceback": [
      "\u001b[0;31m---------------------------------------------------------------------------\u001b[0m",
      "\u001b[0;31mIndexError\u001b[0m                                Traceback (most recent call last)",
      "Cell \u001b[0;32mIn[85], line 1\u001b[0m\n\u001b[0;32m----> 1\u001b[0m \u001b[43mmushroom\u001b[49m\u001b[38;5;241;43m.\u001b[39;49m\u001b[43mdisplay_cluster_probs\u001b[49m\u001b[43m(\u001b[49m\u001b[38;5;124;43m'\u001b[39;49m\u001b[38;5;124;43mhe\u001b[39;49m\u001b[38;5;124;43m'\u001b[39;49m\u001b[43m)\u001b[49m\n",
      "File \u001b[0;32m/diskmnt/Projects/Users/estorrs/mushroom/mushroom/mushroom.py:328\u001b[0m, in \u001b[0;36mMushroom.display_cluster_probs\u001b[0;34m(self, dtype, level, return_axs)\u001b[0m\n\u001b[1;32m    326\u001b[0m \u001b[38;5;28;01melse\u001b[39;00m:\n\u001b[1;32m    327\u001b[0m     spore \u001b[38;5;241m=\u001b[39m \u001b[38;5;28mself\u001b[39m\u001b[38;5;241m.\u001b[39mdtype_to_spore[dtype]\n\u001b[0;32m--> 328\u001b[0m     \u001b[38;5;28;01mreturn\u001b[39;00m \u001b[43mspore\u001b[49m\u001b[38;5;241;43m.\u001b[39;49m\u001b[43mdisplay_cluster_probs\u001b[49m\u001b[43m(\u001b[49m\u001b[43mlevel\u001b[49m\u001b[38;5;241;43m=\u001b[39;49m\u001b[43mlevel\u001b[49m\u001b[43m,\u001b[49m\u001b[43m \u001b[49m\u001b[43mreturn_axs\u001b[49m\u001b[38;5;241;43m=\u001b[39;49m\u001b[43mreturn_axs\u001b[49m\u001b[43m)\u001b[49m\n",
      "File \u001b[0;32m/diskmnt/Projects/Users/estorrs/mushroom/mushroom/mushroom.py:707\u001b[0m, in \u001b[0;36mSpore.display_cluster_probs\u001b[0;34m(self, level, prob_type, return_axs)\u001b[0m\n\u001b[1;32m    705\u001b[0m \u001b[38;5;28;01mfor\u001b[39;00m c \u001b[38;5;129;01min\u001b[39;00m \u001b[38;5;28mrange\u001b[39m(cluster_probs\u001b[38;5;241m.\u001b[39mshape[\u001b[38;5;241m0\u001b[39m]):\n\u001b[1;32m    706\u001b[0m     \u001b[38;5;28;01mfor\u001b[39;00m r \u001b[38;5;129;01min\u001b[39;00m \u001b[38;5;28mrange\u001b[39m(cluster_probs\u001b[38;5;241m.\u001b[39mshape[\u001b[38;5;241m-\u001b[39m\u001b[38;5;241m1\u001b[39m]):\n\u001b[0;32m--> 707\u001b[0m         ax \u001b[38;5;241m=\u001b[39m \u001b[43maxs\u001b[49m\u001b[43m[\u001b[49m\u001b[43mr\u001b[49m\u001b[43m,\u001b[49m\u001b[43m \u001b[49m\u001b[43mc\u001b[49m\u001b[43m]\u001b[49m\n\u001b[1;32m    708\u001b[0m         ax\u001b[38;5;241m.\u001b[39mimshow(cluster_probs[c, \u001b[38;5;241m.\u001b[39m\u001b[38;5;241m.\u001b[39m\u001b[38;5;241m.\u001b[39m, r])\n\u001b[1;32m    709\u001b[0m         ax\u001b[38;5;241m.\u001b[39mset_yticks([])\n",
      "\u001b[0;31mIndexError\u001b[0m: too many indices for array: array is 1-dimensional, but 2 were indexed"
     ]
    },
    {
     "data": {
      "image/png": "[encoded data removed]",
      "text/plain": [
       "<Figure size 200x100 with 2 Axes>"
      ]
     },
     "metadata": {},
     "output_type": "display_data"
    }
   ],
   "source": [
    "mushroom.display_cluster_probs('he')"
   ]
  },
  {
   "cell_type": "code",
   "execution_count": 75,
   "id": "252516cb",
   "metadata": {},
   "outputs": [
    {
     "data": {
      "text/plain": [
       "0.01"
      ]
     },
     "execution_count": 75,
     "metadata": {},
     "output_type": "execute_result"
    }
   ],
   "source": [
    "mushroom.dtype_to_spore['visium'].target_ppm"
   ]
  },
  {
   "cell_type": "code",
   "execution_count": 76,
   "id": "c0960fda",
   "metadata": {},
   "outputs": [
    {
     "data": {
      "text/plain": [
       "2.0"
      ]
     },
     "execution_count": 76,
     "metadata": {},
     "output_type": "execute_result"
    }
   ],
   "source": [
    "mushroom.dtype_to_spore['visium'].res_scaler"
   ]
  },
  {
   "cell_type": "code",
   "execution_count": null,
   "id": "08e07082",
   "metadata": {},
   "outputs": [],
   "source": []
  }
 ],
 "metadata": {
  "kernelspec": {
   "display_name": "Python 3 (ipykernel)",
   "language": "python",
   "name": "python3"
  },
  "language_info": {
   "codemirror_mode": {
    "name": "ipython",
    "version": 3
   },
   "file_extension": ".py",
   "mimetype": "text/x-python",
   "name": "python",
   "nbconvert_exporter": "python",
   "pygments_lexer": "ipython3",
   "version": "3.9.18"
  }
 },
 "nbformat": 4,
 "nbformat_minor": 5
}
