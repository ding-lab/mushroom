{
 "cells": [
  {
   "cell_type": "code",
   "execution_count": 13,
   "id": "78ba82d1",
   "metadata": {},
   "outputs": [],
   "source": [
    "import copy\n",
    "import os\n",
    "import re\n",
    "import shutil\n",
    "import sys\n",
    "from pathlib import Path\n",
    "\n",
    "import numpy as np\n",
    "import pandas as pd\n",
    "import spatialdata as sd\n",
    "import tifffile\n",
    "import yaml\n",
    "import zarr\n",
    "from einops import rearrange"
   ]
  },
  {
   "cell_type": "code",
   "execution_count": 3,
   "id": "782a0174",
   "metadata": {},
   "outputs": [
    {
     "name": "stdout",
     "output_type": "stream",
     "text": [
      "The autoreload extension is already loaded. To reload it, use:\n",
      "  %reload_ext autoreload\n"
     ]
    }
   ],
   "source": [
    "%load_ext autoreload"
   ]
  },
  {
   "cell_type": "code",
   "execution_count": 4,
   "id": "b80e4bbc",
   "metadata": {},
   "outputs": [],
   "source": [
    "%autoreload 2"
   ]
  },
  {
   "cell_type": "code",
   "execution_count": 5,
   "id": "4091ece8",
   "metadata": {},
   "outputs": [],
   "source": [
    "import mushroom.data.visium as visium\n",
    "import mushroom.data.xenium as xenium\n",
    "import mushroom.data.he as he\n",
    "import mushroom.registration.bigwarp as bigwarp\n",
    "import mushroom.utils as utils"
   ]
  },
  {
   "cell_type": "markdown",
   "id": "1ae02ded",
   "metadata": {},
   "source": [
    "Specifying a directory to store the mushroom results"
   ]
  },
  {
   "cell_type": "code",
   "execution_count": null,
   "id": "e5554979",
   "metadata": {},
   "outputs": [],
   "source": [
    "run_dir = '/data/estorrs/mushroom/data/projects/examples/basic_workflow'\n",
    "Path(run_dir).mkdir(parents=True, exist_ok=True)"
   ]
  },
  {
   "cell_type": "markdown",
   "id": "29237e37",
   "metadata": {},
   "source": [
    "## Defining input data"
   ]
  },
  {
   "cell_type": "markdown",
   "id": "eee7b7bb",
   "metadata": {},
   "source": [
    "For this example, we'll use the following adjacent [visium](https://s3.embl.de/spatialdata/spatialdata-sandbox/visium_associated_xenium_io.zip) and [xenium](https://s3.embl.de/spatialdata/spatialdata-sandbox/xenium_rep1_io.zip) sections from the [SpatialData repository](https://spatialdata.scverse.org/en/latest/tutorials/notebooks/datasets/README.html) by scverse."
   ]
  },
  {
   "cell_type": "code",
   "execution_count": 15,
   "id": "d9c8b1a2",
   "metadata": {},
   "outputs": [
    {
     "data": {
      "text/plain": [
       "<zarr.hierarchy.Group '/' read-only>"
      ]
     },
     "execution_count": 15,
     "metadata": {},
     "output_type": "execute_result"
    }
   ],
   "source": [
    "root = zarr.open('/data/estorrs/mushroom/data/projects/examples/basic/xenium/data.zarr', mode='r')\n",
    "root"
   ]
  },
  {
   "cell_type": "code",
   "execution_count": null,
   "id": "d0b10f05",
   "metadata": {},
   "outputs": [],
   "source": [
    "root"
   ]
  },
  {
   "cell_type": "code",
   "execution_count": 10,
   "id": "faaa2bb1",
   "metadata": {},
   "outputs": [
    {
     "ename": "AttributeError",
     "evalue": "type object 'MultiscaleSpatialImage' has no attribute 'from_dict'",
     "output_type": "error",
     "traceback": [
      "\u001b[0;31m---------------------------------------------------------------------------\u001b[0m",
      "\u001b[0;31mAttributeError\u001b[0m                            Traceback (most recent call last)",
      "Cell \u001b[0;32mIn[10], line 1\u001b[0m\n\u001b[0;32m----> 1\u001b[0m xenium_sdata \u001b[38;5;241m=\u001b[39m \u001b[43msd\u001b[49m\u001b[38;5;241;43m.\u001b[39;49m\u001b[43mread_zarr\u001b[49m\u001b[43m(\u001b[49m\u001b[38;5;124;43m\"\u001b[39;49m\u001b[38;5;124;43m/data/estorrs/mushroom/data/projects/examples/basic/xenium/data.zarr\u001b[39;49m\u001b[38;5;124;43m\"\u001b[39;49m\u001b[43m)\u001b[49m\n\u001b[1;32m      2\u001b[0m xenium_sdata\n",
      "File \u001b[0;32m/data/estorrs/miniconda3/envs/mushroom/lib/python3.10/site-packages/spatialdata/_io/io_zarr.py:36\u001b[0m, in \u001b[0;36mread_zarr\u001b[0;34m(store)\u001b[0m\n\u001b[1;32m     34\u001b[0m         f_elem \u001b[38;5;241m=\u001b[39m f[k]\u001b[38;5;241m.\u001b[39mname\n\u001b[1;32m     35\u001b[0m         f_elem_store \u001b[38;5;241m=\u001b[39m \u001b[38;5;124mf\u001b[39m\u001b[38;5;124m\"\u001b[39m\u001b[38;5;132;01m{\u001b[39;00mimages_store\u001b[38;5;132;01m}\u001b[39;00m\u001b[38;5;132;01m{\u001b[39;00mf_elem\u001b[38;5;132;01m}\u001b[39;00m\u001b[38;5;124m\"\u001b[39m\n\u001b[0;32m---> 36\u001b[0m         images[k] \u001b[38;5;241m=\u001b[39m \u001b[43m_read_multiscale\u001b[49m\u001b[43m(\u001b[49m\u001b[43mf_elem_store\u001b[49m\u001b[43m,\u001b[49m\u001b[43m \u001b[49m\u001b[43mraster_type\u001b[49m\u001b[38;5;241;43m=\u001b[39;49m\u001b[38;5;124;43m\"\u001b[39;49m\u001b[38;5;124;43mimage\u001b[39;49m\u001b[38;5;124;43m\"\u001b[39;49m\u001b[43m)\u001b[49m\n\u001b[1;32m     38\u001b[0m \u001b[38;5;66;03m# read multiscale labels\u001b[39;00m\n\u001b[1;32m     39\u001b[0m \u001b[38;5;28;01mwith\u001b[39;00m ome_zarr_logger(logging\u001b[38;5;241m.\u001b[39mERROR):\n",
      "File \u001b[0;32m/data/estorrs/miniconda3/envs/mushroom/lib/python3.10/site-packages/spatialdata/_io/io_raster.py:86\u001b[0m, in \u001b[0;36m_read_multiscale\u001b[0;34m(store, raster_type, fmt)\u001b[0m\n\u001b[1;32m     79\u001b[0m     data \u001b[38;5;241m=\u001b[39m node\u001b[38;5;241m.\u001b[39mload(Multiscales)\u001b[38;5;241m.\u001b[39marray(resolution\u001b[38;5;241m=\u001b[39md, version\u001b[38;5;241m=\u001b[39mfmt\u001b[38;5;241m.\u001b[39mversion)\n\u001b[1;32m     80\u001b[0m     multiscale_image[\u001b[38;5;124mf\u001b[39m\u001b[38;5;124m\"\u001b[39m\u001b[38;5;124mscale\u001b[39m\u001b[38;5;132;01m{\u001b[39;00mi\u001b[38;5;132;01m}\u001b[39;00m\u001b[38;5;124m\"\u001b[39m] \u001b[38;5;241m=\u001b[39m DataArray(\n\u001b[1;32m     81\u001b[0m         data,\n\u001b[1;32m     82\u001b[0m         name\u001b[38;5;241m=\u001b[39mname,\n\u001b[1;32m     83\u001b[0m         dims\u001b[38;5;241m=\u001b[39maxes,\n\u001b[1;32m     84\u001b[0m         coords\u001b[38;5;241m=\u001b[39m{\u001b[38;5;124m\"\u001b[39m\u001b[38;5;124mc\u001b[39m\u001b[38;5;124m\"\u001b[39m: channels} \u001b[38;5;28;01mif\u001b[39;00m channels \u001b[38;5;129;01mis\u001b[39;00m \u001b[38;5;129;01mnot\u001b[39;00m \u001b[38;5;28;01mNone\u001b[39;00m \u001b[38;5;28;01melse\u001b[39;00m {},\n\u001b[1;32m     85\u001b[0m     )\n\u001b[0;32m---> 86\u001b[0m msi \u001b[38;5;241m=\u001b[39m \u001b[43mMultiscaleSpatialImage\u001b[49m\u001b[38;5;241;43m.\u001b[39;49m\u001b[43mfrom_dict\u001b[49m(multiscale_image)\n\u001b[1;32m     87\u001b[0m _set_transformations(msi, transformations)\n\u001b[1;32m     88\u001b[0m \u001b[38;5;28;01mreturn\u001b[39;00m compute_coordinates(msi)\n",
      "\u001b[0;31mAttributeError\u001b[0m: type object 'MultiscaleSpatialImage' has no attribute 'from_dict'"
     ]
    }
   ],
   "source": [
    "xenium_sdata = sd.read_zarr(\"/data/estorrs/mushroom/data/projects/examples/basic/xenium/data.zarr\")\n",
    "xenium_sdata"
   ]
  },
  {
   "cell_type": "code",
   "execution_count": 11,
   "id": "fdd9994c",
   "metadata": {},
   "outputs": [
    {
     "ename": "AttributeError",
     "evalue": "type object 'MultiscaleSpatialImage' has no attribute 'from_dict'",
     "output_type": "error",
     "traceback": [
      "\u001b[0;31m---------------------------------------------------------------------------\u001b[0m",
      "\u001b[0;31mAttributeError\u001b[0m                            Traceback (most recent call last)",
      "Cell \u001b[0;32mIn[11], line 1\u001b[0m\n\u001b[0;32m----> 1\u001b[0m visium_sdata \u001b[38;5;241m=\u001b[39m \u001b[43msd\u001b[49m\u001b[38;5;241;43m.\u001b[39;49m\u001b[43mread_zarr\u001b[49m\u001b[43m(\u001b[49m\u001b[38;5;124;43m\"\u001b[39;49m\u001b[38;5;124;43m/data/estorrs/mushroom/data/projects/examples/basic/visium/data.zarr\u001b[39;49m\u001b[38;5;124;43m\"\u001b[39;49m\u001b[43m)\u001b[49m\n\u001b[1;32m      2\u001b[0m visium_sdata\n",
      "File \u001b[0;32m/data/estorrs/miniconda3/envs/mushroom/lib/python3.10/site-packages/spatialdata/_io/io_zarr.py:36\u001b[0m, in \u001b[0;36mread_zarr\u001b[0;34m(store)\u001b[0m\n\u001b[1;32m     34\u001b[0m         f_elem \u001b[38;5;241m=\u001b[39m f[k]\u001b[38;5;241m.\u001b[39mname\n\u001b[1;32m     35\u001b[0m         f_elem_store \u001b[38;5;241m=\u001b[39m \u001b[38;5;124mf\u001b[39m\u001b[38;5;124m\"\u001b[39m\u001b[38;5;132;01m{\u001b[39;00mimages_store\u001b[38;5;132;01m}\u001b[39;00m\u001b[38;5;132;01m{\u001b[39;00mf_elem\u001b[38;5;132;01m}\u001b[39;00m\u001b[38;5;124m\"\u001b[39m\n\u001b[0;32m---> 36\u001b[0m         images[k] \u001b[38;5;241m=\u001b[39m \u001b[43m_read_multiscale\u001b[49m\u001b[43m(\u001b[49m\u001b[43mf_elem_store\u001b[49m\u001b[43m,\u001b[49m\u001b[43m \u001b[49m\u001b[43mraster_type\u001b[49m\u001b[38;5;241;43m=\u001b[39;49m\u001b[38;5;124;43m\"\u001b[39;49m\u001b[38;5;124;43mimage\u001b[39;49m\u001b[38;5;124;43m\"\u001b[39;49m\u001b[43m)\u001b[49m\n\u001b[1;32m     38\u001b[0m \u001b[38;5;66;03m# read multiscale labels\u001b[39;00m\n\u001b[1;32m     39\u001b[0m \u001b[38;5;28;01mwith\u001b[39;00m ome_zarr_logger(logging\u001b[38;5;241m.\u001b[39mERROR):\n",
      "File \u001b[0;32m/data/estorrs/miniconda3/envs/mushroom/lib/python3.10/site-packages/spatialdata/_io/io_raster.py:86\u001b[0m, in \u001b[0;36m_read_multiscale\u001b[0;34m(store, raster_type, fmt)\u001b[0m\n\u001b[1;32m     79\u001b[0m     data \u001b[38;5;241m=\u001b[39m node\u001b[38;5;241m.\u001b[39mload(Multiscales)\u001b[38;5;241m.\u001b[39marray(resolution\u001b[38;5;241m=\u001b[39md, version\u001b[38;5;241m=\u001b[39mfmt\u001b[38;5;241m.\u001b[39mversion)\n\u001b[1;32m     80\u001b[0m     multiscale_image[\u001b[38;5;124mf\u001b[39m\u001b[38;5;124m\"\u001b[39m\u001b[38;5;124mscale\u001b[39m\u001b[38;5;132;01m{\u001b[39;00mi\u001b[38;5;132;01m}\u001b[39;00m\u001b[38;5;124m\"\u001b[39m] \u001b[38;5;241m=\u001b[39m DataArray(\n\u001b[1;32m     81\u001b[0m         data,\n\u001b[1;32m     82\u001b[0m         name\u001b[38;5;241m=\u001b[39mname,\n\u001b[1;32m     83\u001b[0m         dims\u001b[38;5;241m=\u001b[39maxes,\n\u001b[1;32m     84\u001b[0m         coords\u001b[38;5;241m=\u001b[39m{\u001b[38;5;124m\"\u001b[39m\u001b[38;5;124mc\u001b[39m\u001b[38;5;124m\"\u001b[39m: channels} \u001b[38;5;28;01mif\u001b[39;00m channels \u001b[38;5;129;01mis\u001b[39;00m \u001b[38;5;129;01mnot\u001b[39;00m \u001b[38;5;28;01mNone\u001b[39;00m \u001b[38;5;28;01melse\u001b[39;00m {},\n\u001b[1;32m     85\u001b[0m     )\n\u001b[0;32m---> 86\u001b[0m msi \u001b[38;5;241m=\u001b[39m \u001b[43mMultiscaleSpatialImage\u001b[49m\u001b[38;5;241;43m.\u001b[39;49m\u001b[43mfrom_dict\u001b[49m(multiscale_image)\n\u001b[1;32m     87\u001b[0m _set_transformations(msi, transformations)\n\u001b[1;32m     88\u001b[0m \u001b[38;5;28;01mreturn\u001b[39;00m compute_coordinates(msi)\n",
      "\u001b[0;31mAttributeError\u001b[0m: type object 'MultiscaleSpatialImage' has no attribute 'from_dict'"
     ]
    }
   ],
   "source": [
    "visium_sdata = sd.read_zarr(\"/data/estorrs/mushroom/data/projects/examples/basic/visium/data.zarr\", )\n",
    "visium_sdata"
   ]
  },
  {
   "cell_type": "markdown",
   "id": "e623f9f9",
   "metadata": {},
   "source": [
    "## Register data"
   ]
  },
  {
   "cell_type": "code",
   "execution_count": null,
   "id": "4b72ad2c",
   "metadata": {},
   "outputs": [],
   "source": []
  },
  {
   "cell_type": "code",
   "execution_count": null,
   "id": "669c9edd",
   "metadata": {},
   "outputs": [],
   "source": []
  },
  {
   "cell_type": "code",
   "execution_count": null,
   "id": "802fba95",
   "metadata": {},
   "outputs": [],
   "source": []
  },
  {
   "cell_type": "code",
   "execution_count": null,
   "id": "f9db43d7",
   "metadata": {},
   "outputs": [],
   "source": []
  },
  {
   "cell_type": "markdown",
   "id": "9aa30e11",
   "metadata": {},
   "source": [
    "## Train Mushroom"
   ]
  },
  {
   "cell_type": "code",
   "execution_count": null,
   "id": "23afbfb4",
   "metadata": {},
   "outputs": [],
   "source": []
  },
  {
   "cell_type": "code",
   "execution_count": null,
   "id": "41d5065b",
   "metadata": {},
   "outputs": [],
   "source": []
  },
  {
   "cell_type": "markdown",
   "id": "253c938e",
   "metadata": {},
   "source": [
    "## Visualize results"
   ]
  },
  {
   "cell_type": "code",
   "execution_count": null,
   "id": "5f08f8cf",
   "metadata": {},
   "outputs": [],
   "source": []
  },
  {
   "cell_type": "code",
   "execution_count": null,
   "id": "31b89427",
   "metadata": {},
   "outputs": [],
   "source": []
  },
  {
   "cell_type": "code",
   "execution_count": null,
   "id": "0a8f513b",
   "metadata": {},
   "outputs": [],
   "source": []
  }
 ],
 "metadata": {
  "kernelspec": {
   "display_name": "Python 3 (ipykernel)",
   "language": "python",
   "name": "python3"
  },
  "language_info": {
   "codemirror_mode": {
    "name": "ipython",
    "version": 3
   },
   "file_extension": ".py",
   "mimetype": "text/x-python",
   "name": "python",
   "nbconvert_exporter": "python",
   "pygments_lexer": "ipython3",
   "version": "3.10.13"
  }
 },
 "nbformat": 4,
 "nbformat_minor": 5
}
