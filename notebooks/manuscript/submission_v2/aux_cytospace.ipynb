{
 "cells": [
  {
   "cell_type": "code",
   "execution_count": 1,
   "id": "7d67d7ef-14f9-4c39-91d5-fefc2a5e319f",
   "metadata": {},
   "outputs": [],
   "source": [
    "import os\n",
    "import re\n",
    "import pickle\n",
    "from pathlib import Path\n",
    "import yaml\n",
    "\n",
    "import numpy as np\n",
    "import matplotlib.pyplot as plt\n",
    "import scanpy as sc\n",
    "import pandas as pd\n",
    "import torch\n",
    "import tifffile\n",
    "from einops import rearrange, repeat"
   ]
  },
  {
   "cell_type": "code",
   "execution_count": 2,
   "id": "25ae0b10-689f-4e32-842a-6e37ebc02827",
   "metadata": {},
   "outputs": [],
   "source": [
    "%load_ext autoreload"
   ]
  },
  {
   "cell_type": "code",
   "execution_count": 3,
   "id": "c81a4c9f-cc1f-4506-b036-4c127a12fc08",
   "metadata": {},
   "outputs": [],
   "source": [
    "%autoreload 2"
   ]
  },
  {
   "cell_type": "code",
   "execution_count": 4,
   "id": "4ee65ff8-33f9-40ef-822e-f660e539693d",
   "metadata": {},
   "outputs": [],
   "source": [
    "import mushroom.utils as utils\n",
    "import mushroom.visualization.utils as vis_utils"
   ]
  },
  {
   "cell_type": "code",
   "execution_count": 5,
   "id": "54745827-9172-4e9b-a687-c90ac3b3c3f3",
   "metadata": {},
   "outputs": [],
   "source": [
    "project_dir = Path('/data/estorrs/mushroom/data/projects/submission_v1')"
   ]
  },
  {
   "cell_type": "code",
   "execution_count": 6,
   "id": "be787154-57d5-4050-933a-097188c9d1c6",
   "metadata": {},
   "outputs": [],
   "source": [
    "case_order = [\n",
    "    'HT206B1',\n",
    "    'HT268B1',\n",
    "    'HT339B2-H1',\n",
    "    'HT397B1',\n",
    "    'HT565B1-H2',\n",
    "    'HT704B1',\n",
    "    'HT891Z1',\n",
    "    'HT913Z1',\n",
    "    'S18-5591-C8',\n",
    "    'S18-9906',\n",
    "]"
   ]
  },
  {
   "cell_type": "code",
   "execution_count": null,
   "id": "bec40fd1-4e9b-49cf-8117-f6d82bc2da6c",
   "metadata": {},
   "outputs": [],
   "source": []
  },
  {
   "cell_type": "code",
   "execution_count": null,
   "id": "d9086e6b-06bc-4825-84ec-4ad4fb11cf34",
   "metadata": {},
   "outputs": [],
   "source": []
  },
  {
   "cell_type": "code",
   "execution_count": null,
   "id": "72710663-06fd-46ac-855b-4c7c292b3815",
   "metadata": {},
   "outputs": [],
   "source": []
  },
  {
   "cell_type": "code",
   "execution_count": null,
   "id": "3a00a731-da0a-470e-99ba-c80295b9df48",
   "metadata": {},
   "outputs": [],
   "source": []
  },
  {
   "cell_type": "code",
   "execution_count": null,
   "id": "19c6be51-87a7-48dc-9d75-bf620b5f7408",
   "metadata": {},
   "outputs": [],
   "source": []
  },
  {
   "cell_type": "code",
   "execution_count": null,
   "id": "05f68d8d-ab96-43a2-980b-76f733cb3ca6",
   "metadata": {},
   "outputs": [],
   "source": []
  },
  {
   "cell_type": "code",
   "execution_count": null,
   "id": "c6114c14-a4c5-4000-a816-e6ddc61b2d4a",
   "metadata": {},
   "outputs": [],
   "source": []
  },
  {
   "cell_type": "code",
   "execution_count": null,
   "id": "4e17918c-29a6-47ec-8b22-58e2d936120f",
   "metadata": {},
   "outputs": [],
   "source": []
  },
  {
   "cell_type": "code",
   "execution_count": null,
   "id": "f3027706-e107-48c5-82e5-f8e17b75053e",
   "metadata": {},
   "outputs": [],
   "source": []
  },
  {
   "cell_type": "code",
   "execution_count": null,
   "id": "78fe41dc-e612-4e41-ac81-881047f09d5d",
   "metadata": {},
   "outputs": [],
   "source": []
  },
  {
   "cell_type": "code",
   "execution_count": null,
   "id": "8e21a320-8ec3-47cd-96ee-ae78701179da",
   "metadata": {},
   "outputs": [],
   "source": []
  },
  {
   "cell_type": "code",
   "execution_count": null,
   "id": "43924114-ae5b-41d1-92cf-f4729e029dad",
   "metadata": {},
   "outputs": [],
   "source": []
  },
  {
   "cell_type": "code",
   "execution_count": null,
   "id": "315ead5d-0a00-4039-85e1-2796ce11e103",
   "metadata": {},
   "outputs": [],
   "source": []
  },
  {
   "cell_type": "code",
   "execution_count": null,
   "id": "ec23c446-c1a2-4e94-9f45-a3b1e73537f3",
   "metadata": {},
   "outputs": [],
   "source": []
  }
 ],
 "metadata": {
  "kernelspec": {
   "display_name": "Python 3 (ipykernel)",
   "language": "python",
   "name": "python3"
  },
  "language_info": {
   "codemirror_mode": {
    "name": "ipython",
    "version": 3
   },
   "file_extension": ".py",
   "mimetype": "text/x-python",
   "name": "python",
   "nbconvert_exporter": "python",
   "pygments_lexer": "ipython3",
   "version": "3.10.15"
  }
 },
 "nbformat": 4,
 "nbformat_minor": 5
}
