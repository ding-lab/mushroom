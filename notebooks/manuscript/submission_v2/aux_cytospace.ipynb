{
 "cells": [
  {
   "cell_type": "code",
   "execution_count": 1,
   "id": "7d67d7ef-14f9-4c39-91d5-fefc2a5e319f",
   "metadata": {},
   "outputs": [],
   "source": [
    "import os\n",
    "import re\n",
    "import pickle\n",
    "from pathlib import Path\n",
    "import yaml\n",
    "\n",
    "import numpy as np\n",
    "import matplotlib.pyplot as plt\n",
    "import scanpy as sc\n",
    "import pandas as pd\n",
    "import torch\n",
    "import tifffile\n",
    "from einops import rearrange, repeat"
   ]
  },
  {
   "cell_type": "code",
   "execution_count": 2,
   "id": "25ae0b10-689f-4e32-842a-6e37ebc02827",
   "metadata": {},
   "outputs": [],
   "source": [
    "%load_ext autoreload"
   ]
  },
  {
   "cell_type": "code",
   "execution_count": 3,
   "id": "c81a4c9f-cc1f-4506-b036-4c127a12fc08",
   "metadata": {},
   "outputs": [],
   "source": [
    "%autoreload 2"
   ]
  },
  {
   "cell_type": "code",
   "execution_count": 4,
   "id": "4ee65ff8-33f9-40ef-822e-f660e539693d",
   "metadata": {},
   "outputs": [],
   "source": [
    "import mushroom.utils as utils\n",
    "import mushroom.visualization.utils as vis_utils"
   ]
  },
  {
   "cell_type": "code",
   "execution_count": 5,
   "id": "54745827-9172-4e9b-a687-c90ac3b3c3f3",
   "metadata": {},
   "outputs": [],
   "source": [
    "project_dir = Path('/data/estorrs/mushroom/data/projects/submission_v1')"
   ]
  },
  {
   "cell_type": "code",
   "execution_count": 6,
   "id": "be787154-57d5-4050-933a-097188c9d1c6",
   "metadata": {},
   "outputs": [],
   "source": [
    "case_order = [\n",
    "    'HT206B1',\n",
    "    'HT268B1',\n",
    "    'HT339B2-H1',\n",
    "    'HT397B1',\n",
    "    'HT565B1-H2',\n",
    "    'HT704B1',\n",
    "    'HT891Z1',\n",
    "    'HT913Z1',\n",
    "    'S18-5591-C8',\n",
    "    'S18-9906',\n",
    "]"
   ]
  },
  {
   "cell_type": "code",
   "execution_count": null,
   "id": "768743e8",
   "metadata": {},
   "outputs": [],
   "source": [
    "def downsample_adata(adata, n, key, sample=None):\n",
    "    cell_types = sorted(set(adata.obs[key]))\n",
    "    cell_ids = []\n",
    "    for ct in cell_types:\n",
    "        f = adata.obs[adata.obs[key]==ct]\n",
    "        \n",
    "        if sample is not None:\n",
    "            if not isinstance(sample, list):\n",
    "                f = f[f['orig.ident']==sample]\n",
    "            else:\n",
    "                m = None\n",
    "                for sid in sample:\n",
    "                    if m is None:\n",
    "                        m = f['orig.ident']==sid\n",
    "                    else:\n",
    "                        m |= f['orig.ident']==sid\n",
    "                f = f[m]\n",
    "        \n",
    "        if f.shape[0] > n:\n",
    "            cell_ids += np.random.choice(f.index.to_list(), size=n, replace=False).tolist()\n",
    "        else:\n",
    "            cell_ids += f.index.to_list()\n",
    "    return adata[cell_ids]\n",
    "\n",
    "def get_sc_dfs(adata, n, key, samples=None):\n",
    "    down = downsample_adata(adata, n, key, sample=samples)\n",
    "    \n",
    "    exp_df = pd.DataFrame(data=down.X.toarray().astype(int),\n",
    "                          columns=down.var.index.to_list(),\n",
    "                          index=down.obs.index.to_list()).T\n",
    "    exp_df.index.name = 'GENES'\n",
    "\n",
    "    sc_annot = down.obs[[key]]\n",
    "    sc_annot.index.name = 'Cell IDs'\n",
    "    sc_annot.columns = ['CellType']\n",
    "    \n",
    "    return exp_df, sc_annot"
   ]
  },
  {
   "cell_type": "markdown",
   "id": "cbeafd26",
   "metadata": {},
   "source": [
    "## load in single cell data"
   ]
  },
  {
   "cell_type": "markdown",
   "id": "fa08e557",
   "metadata": {},
   "source": [
    "integratedprostate.annotated.rds from simon"
   ]
  },
  {
   "cell_type": "code",
   "execution_count": 61,
   "id": "5724fb00",
   "metadata": {},
   "outputs": [],
   "source": [
    "out_dir = Path('/diskmnt/Projects/Users/estorrs/mushroom/data/projects/submission_v1/cytospace/prostate')\n",
    "out_dir.mkdir(parents=True, exist_ok=True)"
   ]
  },
  {
   "cell_type": "code",
   "execution_count": 68,
   "id": "72710663-06fd-46ac-855b-4c7c292b3815",
   "metadata": {},
   "outputs": [
    {
     "data": {
      "text/plain": [
       "AnnData object with n_obs × n_vars = 56111 × 36601\n",
       "    obs: 'orig.ident', 'nCount_RNA', 'nFeature_RNA', 'is_cell', 'excluded_reason', 'gex_raw_reads', 'gex_mapped_reads', 'gex_conf_intergenic_reads', 'gex_conf_exonic_reads', 'gex_conf_intronic_reads', 'gex_conf_exonic_unique_reads', 'gex_conf_exonic_antisense_reads', 'gex_conf_exonic_dup_reads', 'gex_exonic_umis', 'gex_conf_intronic_unique_reads', 'gex_conf_intronic_antisense_reads', 'gex_conf_intronic_dup_reads', 'gex_intronic_umis', 'gex_conf_txomic_unique_reads', 'gex_umis_count', 'gex_genes_count', 'atac_raw_reads', 'atac_unmapped_reads', 'atac_lowmapq', 'atac_dup_reads', 'atac_chimeric_reads', 'atac_mitochondrial_reads', 'atac_fragments', 'atac_TSS_fragments', 'atac_peak_region_fragments', 'atac_peak_region_cutsites', 'rho', 'percent.mt', 'log10GenesPerUMI', 'nUMI', 'nGene', 'nCount_ATAC', 'nFeature_ATAC', 'doublet_score_rna', 'predicted_doublet_rna', 'doublet_score_atac', 'predicted_doublet_atac', 'predicted_doublet', 'nCount_ATAC_MACS2', 'nFeature_ATAC_MACS2', 'pct_read_in_peaks_500MACS2', 'peak_region_fragments_500MACS2', 'nucleosome_signal', 'nucleosome_percentile', 'TSS.enrichment', 'TSS.percentile', 'blacklist_region_fragments', 'blacklist_ratio', 'high.tss', 'nucleosome_group', 'remove_based_on_RNA', 'remove_based_on_ATAC', 'remove', 'S.Score', 'G2M.Score', 'Phase', 'nCount_SCT', 'nFeature_SCT', 'SCT.weight', 'ATAC_MACS2.weight', 'wsnn_res.0.8', 'seurat_clusters', 'percent.rb', 'doublet_score', 'SCT_snn_res.0.5', 'custom_snn_res.0.7', 'custom_snn_res.1', 'RNA_snn_res.2', 'RNA_snn_res.1', 'dotcat', 'celltypes'\n",
       "    var: 'vst.mean', 'vst.variance', 'vst.variance.expected', 'vst.variance.standardized', 'vst.variable', 'vf_vst_counts.HT771Z1-S1H1A3Y1Nd1_mean', 'vf_vst_counts.HT771Z1-S1H1A3Y1Nd1_variance', 'vf_vst_counts.HT771Z1-S1H1A3Y1Nd1_variance.expected', 'vf_vst_counts.HT771Z1-S1H1A3Y1Nd1_variance.standardized', 'vf_vst_counts.HT771Z1-S1H1A3Y1Nd1_variable', 'vf_vst_counts.HT771Z1-S1H1A3Y1Nd1_rank', 'vf_vst_counts.HT781Z1-S1H1A3Y1Nd1_mean', 'vf_vst_counts.HT781Z1-S1H1A3Y1Nd1_variance', 'vf_vst_counts.HT781Z1-S1H1A3Y1Nd1_variance.expected', 'vf_vst_counts.HT781Z1-S1H1A3Y1Nd1_variance.standardized', 'vf_vst_counts.HT781Z1-S1H1A3Y1Nd1_variable', 'vf_vst_counts.HT781Z1-S1H1A3Y1Nd1_rank', 'vf_vst_counts.HT817Z1-S1H1A3Y1Nd1_mean', 'vf_vst_counts.HT817Z1-S1H1A3Y1Nd1_variance', 'vf_vst_counts.HT817Z1-S1H1A3Y1Nd1_variance.expected', 'vf_vst_counts.HT817Z1-S1H1A3Y1Nd1_variance.standardized', 'vf_vst_counts.HT817Z1-S1H1A3Y1Nd1_variable', 'vf_vst_counts.HT817Z1-S1H1A3Y1Nd1_rank', 'vf_vst_counts.HT849Z1-S1H1Fc2Nd1_mean', 'vf_vst_counts.HT849Z1-S1H1Fc2Nd1_variance', 'vf_vst_counts.HT849Z1-S1H1Fc2Nd1_variance.expected', 'vf_vst_counts.HT849Z1-S1H1Fc2Nd1_variance.standardized', 'vf_vst_counts.HT849Z1-S1H1Fc2Nd1_variable', 'vf_vst_counts.HT849Z1-S1H1Fc2Nd1_rank', 'vf_vst_counts.HT898Z1-S1H1A3Nd1_mean', 'vf_vst_counts.HT898Z1-S1H1A3Nd1_variance', 'vf_vst_counts.HT898Z1-S1H1A3Nd1_variance.expected', 'vf_vst_counts.HT898Z1-S1H1A3Nd1_variance.standardized', 'vf_vst_counts.HT898Z1-S1H1A3Nd1_variable', 'vf_vst_counts.HT898Z1-S1H1A3Nd1_rank', 'vf_vst_counts.HT891Z1-S2H3A2Y1Nd1_1Z1_1Bmn1_1_mean', 'vf_vst_counts.HT891Z1-S2H3A2Y1Nd1_1Z1_1Bmn1_1_variance', 'vf_vst_counts.HT891Z1-S2H3A2Y1Nd1_1Z1_1Bmn1_1_variance.expected', 'vf_vst_counts.HT891Z1-S2H3A2Y1Nd1_1Z1_1Bmn1_1_variance.standardized', 'vf_vst_counts.HT891Z1-S2H3A2Y1Nd1_1Z1_1Bmn1_1_variable', 'vf_vst_counts.HT891Z1-S2H3A2Y1Nd1_1Z1_1Bmn1_1_rank', 'vf_vst_counts.HT814Z1-S1A3Y1Nd1_mean', 'vf_vst_counts.HT814Z1-S1A3Y1Nd1_variance', 'vf_vst_counts.HT814Z1-S1A3Y1Nd1_variance.expected', 'vf_vst_counts.HT814Z1-S1A3Y1Nd1_variance.standardized', 'vf_vst_counts.HT814Z1-S1A3Y1Nd1_variable', 'vf_vst_counts.HT814Z1-S1A3Y1Nd1_rank', 'vf_vst_counts.HT832Z1-S1H1A2Y1Nd1_mean', 'vf_vst_counts.HT832Z1-S1H1A2Y1Nd1_variance', 'vf_vst_counts.HT832Z1-S1H1A2Y1Nd1_variance.expected', 'vf_vst_counts.HT832Z1-S1H1A2Y1Nd1_variance.standardized', 'vf_vst_counts.HT832Z1-S1H1A2Y1Nd1_variable', 'vf_vst_counts.HT832Z1-S1H1A2Y1Nd1_rank', 'vf_vst_counts.HT913Z1-S2H1A3Y1Nd1_mean', 'vf_vst_counts.HT913Z1-S2H1A3Y1Nd1_variance', 'vf_vst_counts.HT913Z1-S2H1A3Y1Nd1_variance.expected', 'vf_vst_counts.HT913Z1-S2H1A3Y1Nd1_variance.standardized', 'vf_vst_counts.HT913Z1-S2H1A3Y1Nd1_variable', 'vf_vst_counts.HT913Z1-S2H1A3Y1Nd1_rank', 'var.features', 'var.features.rank'"
      ]
     },
     "execution_count": 68,
     "metadata": {},
     "output_type": "execute_result"
    }
   ],
   "source": [
    "adata = sc.read_h5ad('/diskmnt/Projects/Users/estorrs/mushroom/data/projects/submission_v1/single_cell/prostate_v2.h5ad')\n",
    "adata"
   ]
  },
  {
   "cell_type": "code",
   "execution_count": 69,
   "id": "7e5d6003",
   "metadata": {},
   "outputs": [
    {
     "data": {
      "text/plain": [
       "array([  0.,   1.,   2.,   3.,   4.,   5.,   6.,   7.,   8.,   9.,  10.,\n",
       "        11.,  12.,  13.,  14.,  15.,  16.,  17.,  20.,  23.,  26.,  27.,\n",
       "       259.])"
      ]
     },
     "execution_count": 69,
     "metadata": {},
     "output_type": "execute_result"
    }
   ],
   "source": [
    "np.unique(adata.raw.X[0].toarray())"
   ]
  },
  {
   "cell_type": "code",
   "execution_count": 70,
   "id": "bc2162bf",
   "metadata": {},
   "outputs": [
    {
     "data": {
      "text/plain": [
       "array([<1x36601 sparse matrix of type '<class 'numpy.float64'>'\n",
       "       \twith 1750 stored elements in Compressed Sparse Row format>],\n",
       "      dtype=object)"
      ]
     },
     "execution_count": 70,
     "metadata": {},
     "output_type": "execute_result"
    }
   ],
   "source": [
    "np.unique(adata.X[0])"
   ]
  },
  {
   "cell_type": "code",
   "execution_count": 71,
   "id": "5c3bc0f1",
   "metadata": {},
   "outputs": [
    {
     "name": "stderr",
     "output_type": "stream",
     "text": [
      "/diskmnt/Projects/Users/estorrs/miniconda3/envs/mushroom/lib/python3.9/site-packages/anndata/_core/anndata.py:1113: FutureWarning: is_categorical_dtype is deprecated and will be removed in a future version. Use isinstance(dtype, CategoricalDtype) instead\n",
      "  if not is_categorical_dtype(df_full[k]):\n"
     ]
    },
    {
     "data": {
      "text/plain": [
       "(56111, 36588)"
      ]
     },
     "execution_count": 71,
     "metadata": {},
     "output_type": "execute_result"
    }
   ],
   "source": [
    "adata = adata[:, [x for x in adata.var.index.to_list() if 'MT-' not in x]]\n",
    "adata.shape"
   ]
  },
  {
   "cell_type": "code",
   "execution_count": 72,
   "id": "3a00a731-da0a-470e-99ba-c80295b9df48",
   "metadata": {},
   "outputs": [
    {
     "data": {
      "text/html": [
       "<div>\n",
       "<style scoped>\n",
       "    .dataframe tbody tr th:only-of-type {\n",
       "        vertical-align: middle;\n",
       "    }\n",
       "\n",
       "    .dataframe tbody tr th {\n",
       "        vertical-align: top;\n",
       "    }\n",
       "\n",
       "    .dataframe thead th {\n",
       "        text-align: right;\n",
       "    }\n",
       "</style>\n",
       "<table border=\"1\" class=\"dataframe\">\n",
       "  <thead>\n",
       "    <tr style=\"text-align: right;\">\n",
       "      <th></th>\n",
       "      <th>orig.ident</th>\n",
       "      <th>nCount_RNA</th>\n",
       "      <th>nFeature_RNA</th>\n",
       "      <th>is_cell</th>\n",
       "      <th>excluded_reason</th>\n",
       "      <th>gex_raw_reads</th>\n",
       "      <th>gex_mapped_reads</th>\n",
       "      <th>gex_conf_intergenic_reads</th>\n",
       "      <th>gex_conf_exonic_reads</th>\n",
       "      <th>gex_conf_intronic_reads</th>\n",
       "      <th>...</th>\n",
       "      <th>seurat_clusters</th>\n",
       "      <th>percent.rb</th>\n",
       "      <th>doublet_score</th>\n",
       "      <th>SCT_snn_res.0.5</th>\n",
       "      <th>custom_snn_res.0.7</th>\n",
       "      <th>custom_snn_res.1</th>\n",
       "      <th>RNA_snn_res.2</th>\n",
       "      <th>RNA_snn_res.1</th>\n",
       "      <th>dotcat</th>\n",
       "      <th>celltypes</th>\n",
       "    </tr>\n",
       "  </thead>\n",
       "  <tbody>\n",
       "    <tr>\n",
       "      <th>HT771_AAACAGCCAGGACACA-1</th>\n",
       "      <td>HT771Z1-S1H1A3Y1Nd1</td>\n",
       "      <td>3342.0</td>\n",
       "      <td>1708</td>\n",
       "      <td>1</td>\n",
       "      <td>0</td>\n",
       "      <td>19784</td>\n",
       "      <td>18974</td>\n",
       "      <td>1120</td>\n",
       "      <td>3626</td>\n",
       "      <td>13595</td>\n",
       "      <td>...</td>\n",
       "      <td>0</td>\n",
       "      <td>NaN</td>\n",
       "      <td>NaN</td>\n",
       "      <td>NA</td>\n",
       "      <td>18</td>\n",
       "      <td>25</td>\n",
       "      <td>0</td>\n",
       "      <td>0</td>\n",
       "      <td>Luminal Cells</td>\n",
       "      <td>Luminal 1 Cells</td>\n",
       "    </tr>\n",
       "    <tr>\n",
       "      <th>HT771_AAACAGCCAGTGAACG-1</th>\n",
       "      <td>HT771Z1-S1H1A3Y1Nd1</td>\n",
       "      <td>2456.0</td>\n",
       "      <td>1333</td>\n",
       "      <td>1</td>\n",
       "      <td>0</td>\n",
       "      <td>13450</td>\n",
       "      <td>12844</td>\n",
       "      <td>821</td>\n",
       "      <td>2264</td>\n",
       "      <td>9187</td>\n",
       "      <td>...</td>\n",
       "      <td>3</td>\n",
       "      <td>NaN</td>\n",
       "      <td>NaN</td>\n",
       "      <td>NA</td>\n",
       "      <td>18</td>\n",
       "      <td>25</td>\n",
       "      <td>3</td>\n",
       "      <td>0</td>\n",
       "      <td>Luminal Cells</td>\n",
       "      <td>Luminal 1 Cells</td>\n",
       "    </tr>\n",
       "    <tr>\n",
       "      <th>HT771_AAACAGCCATGGTTAT-1</th>\n",
       "      <td>HT771Z1-S1H1A3Y1Nd1</td>\n",
       "      <td>3107.0</td>\n",
       "      <td>1567</td>\n",
       "      <td>1</td>\n",
       "      <td>0</td>\n",
       "      <td>17521</td>\n",
       "      <td>16823</td>\n",
       "      <td>826</td>\n",
       "      <td>3434</td>\n",
       "      <td>11981</td>\n",
       "      <td>...</td>\n",
       "      <td>3</td>\n",
       "      <td>NaN</td>\n",
       "      <td>NaN</td>\n",
       "      <td>NA</td>\n",
       "      <td>18</td>\n",
       "      <td>25</td>\n",
       "      <td>3</td>\n",
       "      <td>0</td>\n",
       "      <td>Luminal Cells</td>\n",
       "      <td>Luminal 1 Cells</td>\n",
       "    </tr>\n",
       "    <tr>\n",
       "      <th>HT771_AAACAGCCATTCCTGT-1</th>\n",
       "      <td>HT771Z1-S1H1A3Y1Nd1</td>\n",
       "      <td>1344.0</td>\n",
       "      <td>870</td>\n",
       "      <td>1</td>\n",
       "      <td>0</td>\n",
       "      <td>3777</td>\n",
       "      <td>3549</td>\n",
       "      <td>268</td>\n",
       "      <td>1220</td>\n",
       "      <td>1722</td>\n",
       "      <td>...</td>\n",
       "      <td>0</td>\n",
       "      <td>NaN</td>\n",
       "      <td>NaN</td>\n",
       "      <td>NA</td>\n",
       "      <td>18</td>\n",
       "      <td>25</td>\n",
       "      <td>0</td>\n",
       "      <td>7</td>\n",
       "      <td>Luminal Cells</td>\n",
       "      <td>Luminal 1 Cells</td>\n",
       "    </tr>\n",
       "    <tr>\n",
       "      <th>HT771_AAACATGCAGCATGTC-1</th>\n",
       "      <td>HT771Z1-S1H1A3Y1Nd1</td>\n",
       "      <td>4131.0</td>\n",
       "      <td>1845</td>\n",
       "      <td>1</td>\n",
       "      <td>0</td>\n",
       "      <td>23859</td>\n",
       "      <td>22845</td>\n",
       "      <td>1052</td>\n",
       "      <td>4341</td>\n",
       "      <td>16818</td>\n",
       "      <td>...</td>\n",
       "      <td>3</td>\n",
       "      <td>NaN</td>\n",
       "      <td>NaN</td>\n",
       "      <td>NA</td>\n",
       "      <td>18</td>\n",
       "      <td>25</td>\n",
       "      <td>3</td>\n",
       "      <td>0</td>\n",
       "      <td>Luminal Cells</td>\n",
       "      <td>Luminal 1 Cells</td>\n",
       "    </tr>\n",
       "    <tr>\n",
       "      <th>...</th>\n",
       "      <td>...</td>\n",
       "      <td>...</td>\n",
       "      <td>...</td>\n",
       "      <td>...</td>\n",
       "      <td>...</td>\n",
       "      <td>...</td>\n",
       "      <td>...</td>\n",
       "      <td>...</td>\n",
       "      <td>...</td>\n",
       "      <td>...</td>\n",
       "      <td>...</td>\n",
       "      <td>...</td>\n",
       "      <td>...</td>\n",
       "      <td>...</td>\n",
       "      <td>...</td>\n",
       "      <td>...</td>\n",
       "      <td>...</td>\n",
       "      <td>...</td>\n",
       "      <td>...</td>\n",
       "      <td>...</td>\n",
       "      <td>...</td>\n",
       "    </tr>\n",
       "    <tr>\n",
       "      <th>HT913_TTTGGTGCACGAATCC-1</th>\n",
       "      <td>HT913Z1-S2H1A3Y1Nd1</td>\n",
       "      <td>3167.0</td>\n",
       "      <td>1527</td>\n",
       "      <td>1</td>\n",
       "      <td>0</td>\n",
       "      <td>16276</td>\n",
       "      <td>15360</td>\n",
       "      <td>1084</td>\n",
       "      <td>2854</td>\n",
       "      <td>10170</td>\n",
       "      <td>...</td>\n",
       "      <td>9</td>\n",
       "      <td>NaN</td>\n",
       "      <td>NaN</td>\n",
       "      <td>NA</td>\n",
       "      <td>7</td>\n",
       "      <td>8</td>\n",
       "      <td>9</td>\n",
       "      <td>1</td>\n",
       "      <td>Tumor</td>\n",
       "      <td>Tumor 2</td>\n",
       "    </tr>\n",
       "    <tr>\n",
       "      <th>HT913_TTTGTCCCACGTGCTG-1</th>\n",
       "      <td>HT913Z1-S2H1A3Y1Nd1</td>\n",
       "      <td>4141.0</td>\n",
       "      <td>1910</td>\n",
       "      <td>1</td>\n",
       "      <td>0</td>\n",
       "      <td>20664</td>\n",
       "      <td>19545</td>\n",
       "      <td>1316</td>\n",
       "      <td>3510</td>\n",
       "      <td>13395</td>\n",
       "      <td>...</td>\n",
       "      <td>8</td>\n",
       "      <td>NaN</td>\n",
       "      <td>NaN</td>\n",
       "      <td>NA</td>\n",
       "      <td>7</td>\n",
       "      <td>8</td>\n",
       "      <td>8</td>\n",
       "      <td>2</td>\n",
       "      <td>Luminal Cells</td>\n",
       "      <td>Luminal 1 Cells</td>\n",
       "    </tr>\n",
       "    <tr>\n",
       "      <th>HT913_TTTGTCTAGTTTGAGC-1</th>\n",
       "      <td>HT913Z1-S2H1A3Y1Nd1</td>\n",
       "      <td>8403.0</td>\n",
       "      <td>2964</td>\n",
       "      <td>1</td>\n",
       "      <td>0</td>\n",
       "      <td>52327</td>\n",
       "      <td>49990</td>\n",
       "      <td>3295</td>\n",
       "      <td>8505</td>\n",
       "      <td>35607</td>\n",
       "      <td>...</td>\n",
       "      <td>35</td>\n",
       "      <td>NaN</td>\n",
       "      <td>NaN</td>\n",
       "      <td>NA</td>\n",
       "      <td>7</td>\n",
       "      <td>8</td>\n",
       "      <td>35</td>\n",
       "      <td>24</td>\n",
       "      <td>Tumor</td>\n",
       "      <td>Tumor 2</td>\n",
       "    </tr>\n",
       "    <tr>\n",
       "      <th>HT913_TTTGTGGCAGCACGAA-1</th>\n",
       "      <td>HT913Z1-S2H1A3Y1Nd1</td>\n",
       "      <td>4257.0</td>\n",
       "      <td>1993</td>\n",
       "      <td>1</td>\n",
       "      <td>0</td>\n",
       "      <td>20153</td>\n",
       "      <td>19083</td>\n",
       "      <td>1289</td>\n",
       "      <td>3210</td>\n",
       "      <td>13927</td>\n",
       "      <td>...</td>\n",
       "      <td>2</td>\n",
       "      <td>NaN</td>\n",
       "      <td>NaN</td>\n",
       "      <td>NA</td>\n",
       "      <td>7</td>\n",
       "      <td>8</td>\n",
       "      <td>2</td>\n",
       "      <td>6</td>\n",
       "      <td>Tumor</td>\n",
       "      <td>Tumor 1</td>\n",
       "    </tr>\n",
       "    <tr>\n",
       "      <th>HT913_TTTGTGGCATCCAGGT-1</th>\n",
       "      <td>HT913Z1-S2H1A3Y1Nd1</td>\n",
       "      <td>3507.0</td>\n",
       "      <td>1774</td>\n",
       "      <td>1</td>\n",
       "      <td>0</td>\n",
       "      <td>19139</td>\n",
       "      <td>18236</td>\n",
       "      <td>1353</td>\n",
       "      <td>2898</td>\n",
       "      <td>13095</td>\n",
       "      <td>...</td>\n",
       "      <td>35</td>\n",
       "      <td>NaN</td>\n",
       "      <td>NaN</td>\n",
       "      <td>NA</td>\n",
       "      <td>7</td>\n",
       "      <td>8</td>\n",
       "      <td>35</td>\n",
       "      <td>24</td>\n",
       "      <td>Tumor</td>\n",
       "      <td>Tumor 2</td>\n",
       "    </tr>\n",
       "  </tbody>\n",
       "</table>\n",
       "<p>56111 rows × 76 columns</p>\n",
       "</div>"
      ],
      "text/plain": [
       "                                   orig.ident  nCount_RNA  nFeature_RNA  \\\n",
       "HT771_AAACAGCCAGGACACA-1  HT771Z1-S1H1A3Y1Nd1      3342.0          1708   \n",
       "HT771_AAACAGCCAGTGAACG-1  HT771Z1-S1H1A3Y1Nd1      2456.0          1333   \n",
       "HT771_AAACAGCCATGGTTAT-1  HT771Z1-S1H1A3Y1Nd1      3107.0          1567   \n",
       "HT771_AAACAGCCATTCCTGT-1  HT771Z1-S1H1A3Y1Nd1      1344.0           870   \n",
       "HT771_AAACATGCAGCATGTC-1  HT771Z1-S1H1A3Y1Nd1      4131.0          1845   \n",
       "...                                       ...         ...           ...   \n",
       "HT913_TTTGGTGCACGAATCC-1  HT913Z1-S2H1A3Y1Nd1      3167.0          1527   \n",
       "HT913_TTTGTCCCACGTGCTG-1  HT913Z1-S2H1A3Y1Nd1      4141.0          1910   \n",
       "HT913_TTTGTCTAGTTTGAGC-1  HT913Z1-S2H1A3Y1Nd1      8403.0          2964   \n",
       "HT913_TTTGTGGCAGCACGAA-1  HT913Z1-S2H1A3Y1Nd1      4257.0          1993   \n",
       "HT913_TTTGTGGCATCCAGGT-1  HT913Z1-S2H1A3Y1Nd1      3507.0          1774   \n",
       "\n",
       "                          is_cell  excluded_reason  gex_raw_reads  \\\n",
       "HT771_AAACAGCCAGGACACA-1        1                0          19784   \n",
       "HT771_AAACAGCCAGTGAACG-1        1                0          13450   \n",
       "HT771_AAACAGCCATGGTTAT-1        1                0          17521   \n",
       "HT771_AAACAGCCATTCCTGT-1        1                0           3777   \n",
       "HT771_AAACATGCAGCATGTC-1        1                0          23859   \n",
       "...                           ...              ...            ...   \n",
       "HT913_TTTGGTGCACGAATCC-1        1                0          16276   \n",
       "HT913_TTTGTCCCACGTGCTG-1        1                0          20664   \n",
       "HT913_TTTGTCTAGTTTGAGC-1        1                0          52327   \n",
       "HT913_TTTGTGGCAGCACGAA-1        1                0          20153   \n",
       "HT913_TTTGTGGCATCCAGGT-1        1                0          19139   \n",
       "\n",
       "                          gex_mapped_reads  gex_conf_intergenic_reads  \\\n",
       "HT771_AAACAGCCAGGACACA-1             18974                       1120   \n",
       "HT771_AAACAGCCAGTGAACG-1             12844                        821   \n",
       "HT771_AAACAGCCATGGTTAT-1             16823                        826   \n",
       "HT771_AAACAGCCATTCCTGT-1              3549                        268   \n",
       "HT771_AAACATGCAGCATGTC-1             22845                       1052   \n",
       "...                                    ...                        ...   \n",
       "HT913_TTTGGTGCACGAATCC-1             15360                       1084   \n",
       "HT913_TTTGTCCCACGTGCTG-1             19545                       1316   \n",
       "HT913_TTTGTCTAGTTTGAGC-1             49990                       3295   \n",
       "HT913_TTTGTGGCAGCACGAA-1             19083                       1289   \n",
       "HT913_TTTGTGGCATCCAGGT-1             18236                       1353   \n",
       "\n",
       "                          gex_conf_exonic_reads  gex_conf_intronic_reads  ...  \\\n",
       "HT771_AAACAGCCAGGACACA-1                   3626                    13595  ...   \n",
       "HT771_AAACAGCCAGTGAACG-1                   2264                     9187  ...   \n",
       "HT771_AAACAGCCATGGTTAT-1                   3434                    11981  ...   \n",
       "HT771_AAACAGCCATTCCTGT-1                   1220                     1722  ...   \n",
       "HT771_AAACATGCAGCATGTC-1                   4341                    16818  ...   \n",
       "...                                         ...                      ...  ...   \n",
       "HT913_TTTGGTGCACGAATCC-1                   2854                    10170  ...   \n",
       "HT913_TTTGTCCCACGTGCTG-1                   3510                    13395  ...   \n",
       "HT913_TTTGTCTAGTTTGAGC-1                   8505                    35607  ...   \n",
       "HT913_TTTGTGGCAGCACGAA-1                   3210                    13927  ...   \n",
       "HT913_TTTGTGGCATCCAGGT-1                   2898                    13095  ...   \n",
       "\n",
       "                          seurat_clusters  percent.rb  doublet_score  \\\n",
       "HT771_AAACAGCCAGGACACA-1                0         NaN            NaN   \n",
       "HT771_AAACAGCCAGTGAACG-1                3         NaN            NaN   \n",
       "HT771_AAACAGCCATGGTTAT-1                3         NaN            NaN   \n",
       "HT771_AAACAGCCATTCCTGT-1                0         NaN            NaN   \n",
       "HT771_AAACATGCAGCATGTC-1                3         NaN            NaN   \n",
       "...                                   ...         ...            ...   \n",
       "HT913_TTTGGTGCACGAATCC-1                9         NaN            NaN   \n",
       "HT913_TTTGTCCCACGTGCTG-1                8         NaN            NaN   \n",
       "HT913_TTTGTCTAGTTTGAGC-1               35         NaN            NaN   \n",
       "HT913_TTTGTGGCAGCACGAA-1                2         NaN            NaN   \n",
       "HT913_TTTGTGGCATCCAGGT-1               35         NaN            NaN   \n",
       "\n",
       "                          SCT_snn_res.0.5  custom_snn_res.0.7  \\\n",
       "HT771_AAACAGCCAGGACACA-1               NA                  18   \n",
       "HT771_AAACAGCCAGTGAACG-1               NA                  18   \n",
       "HT771_AAACAGCCATGGTTAT-1               NA                  18   \n",
       "HT771_AAACAGCCATTCCTGT-1               NA                  18   \n",
       "HT771_AAACATGCAGCATGTC-1               NA                  18   \n",
       "...                                   ...                 ...   \n",
       "HT913_TTTGGTGCACGAATCC-1               NA                   7   \n",
       "HT913_TTTGTCCCACGTGCTG-1               NA                   7   \n",
       "HT913_TTTGTCTAGTTTGAGC-1               NA                   7   \n",
       "HT913_TTTGTGGCAGCACGAA-1               NA                   7   \n",
       "HT913_TTTGTGGCATCCAGGT-1               NA                   7   \n",
       "\n",
       "                          custom_snn_res.1  RNA_snn_res.2  RNA_snn_res.1  \\\n",
       "HT771_AAACAGCCAGGACACA-1                25              0              0   \n",
       "HT771_AAACAGCCAGTGAACG-1                25              3              0   \n",
       "HT771_AAACAGCCATGGTTAT-1                25              3              0   \n",
       "HT771_AAACAGCCATTCCTGT-1                25              0              7   \n",
       "HT771_AAACATGCAGCATGTC-1                25              3              0   \n",
       "...                                    ...            ...            ...   \n",
       "HT913_TTTGGTGCACGAATCC-1                 8              9              1   \n",
       "HT913_TTTGTCCCACGTGCTG-1                 8              8              2   \n",
       "HT913_TTTGTCTAGTTTGAGC-1                 8             35             24   \n",
       "HT913_TTTGTGGCAGCACGAA-1                 8              2              6   \n",
       "HT913_TTTGTGGCATCCAGGT-1                 8             35             24   \n",
       "\n",
       "                                 dotcat        celltypes  \n",
       "HT771_AAACAGCCAGGACACA-1  Luminal Cells  Luminal 1 Cells  \n",
       "HT771_AAACAGCCAGTGAACG-1  Luminal Cells  Luminal 1 Cells  \n",
       "HT771_AAACAGCCATGGTTAT-1  Luminal Cells  Luminal 1 Cells  \n",
       "HT771_AAACAGCCATTCCTGT-1  Luminal Cells  Luminal 1 Cells  \n",
       "HT771_AAACATGCAGCATGTC-1  Luminal Cells  Luminal 1 Cells  \n",
       "...                                 ...              ...  \n",
       "HT913_TTTGGTGCACGAATCC-1          Tumor          Tumor 2  \n",
       "HT913_TTTGTCCCACGTGCTG-1  Luminal Cells  Luminal 1 Cells  \n",
       "HT913_TTTGTCTAGTTTGAGC-1          Tumor          Tumor 2  \n",
       "HT913_TTTGTGGCAGCACGAA-1          Tumor          Tumor 1  \n",
       "HT913_TTTGTGGCATCCAGGT-1          Tumor          Tumor 2  \n",
       "\n",
       "[56111 rows x 76 columns]"
      ]
     },
     "execution_count": 72,
     "metadata": {},
     "output_type": "execute_result"
    }
   ],
   "source": [
    "adata.obs"
   ]
  },
  {
   "cell_type": "code",
   "execution_count": 73,
   "id": "c180a70e",
   "metadata": {},
   "outputs": [
    {
     "data": {
      "text/plain": [
       "{'HT771Z1-S1H1A3Y1Nd1',\n",
       " 'HT781Z1-S1H1A3Y1Nd1',\n",
       " 'HT814Z1-S1A3Y1Nd1',\n",
       " 'HT817Z1-S1H1A3Y1Nd1',\n",
       " 'HT832Z1-S1H1A2Y1Nd1',\n",
       " 'HT849Z1-S1H1Fc2Nd1',\n",
       " 'HT891Z1-S2H3A2Y1Nd1_1Z1_1Bmn1_1',\n",
       " 'HT898Z1-S1H1A3Nd1',\n",
       " 'HT913Z1-S2H1A3Y1Nd1'}"
      ]
     },
     "execution_count": 73,
     "metadata": {},
     "output_type": "execute_result"
    }
   ],
   "source": [
    "set(adata.obs['orig.ident'])"
   ]
  },
  {
   "cell_type": "code",
   "execution_count": 75,
   "id": "0c773ca0",
   "metadata": {},
   "outputs": [
    {
     "name": "stdout",
     "output_type": "stream",
     "text": [
      "HT814Z1-S1A3Y1Nd1\n",
      "[('Luminal 1 Cells', 2696), ('Luminal 2 Cells', 365), ('Tumor 2', 353), ('Fibroblasts', 169), ('T-Cells', 115), ('Macrophages', 93), ('Tumor 1', 41), ('Club Cells', 30), ('Club/Hillock Cells', 26), ('Smooth Muscle Cells', 23), ('Basal Cells', 21), ('Endothelial Cells', 20), ('Mast Cells', 16), ('B-Cells', 13), ('Pericytes', 13), ('Basophils', 10)]\n",
      "HT913Z1-S2H1A3Y1Nd1\n",
      "[('Luminal 1 Cells', 813), ('Tumor 2', 357), ('Fibroblasts', 206), ('Macrophages', 164), ('Luminal 2 Cells', 140), ('Basal Cells', 91), ('T-Cells', 91), ('Mast Cells', 45), ('Tumor 1', 37), ('Club Cells', 30), ('Smooth Muscle Cells', 25), ('Endothelial Cells', 11), ('Basophils', 10), ('B-Cells', 9), ('Pericytes', 7), ('Club/Hillock Cells', 6)]\n",
      "HT781Z1-S1H1A3Y1Nd1\n",
      "[('Luminal 1 Cells', 4603), ('Basal Cells', 575), ('T-Cells', 420), ('B-Cells', 410), ('Macrophages', 332), ('Luminal 2 Cells', 258), ('Club Cells', 207), ('Fibroblasts', 155), ('Mast Cells', 111), ('Endothelial Cells', 71), ('Club/Hillock Cells', 55), ('Smooth Muscle Cells', 53), ('Pericytes', 18), ('Basophils', 13)]\n",
      "HT849Z1-S1H1Fc2Nd1\n",
      "[('Basal Cells', 809), ('Luminal 1 Cells', 798), ('Club Cells', 103), ('Macrophages', 103), ('Fibroblasts', 93), ('T-Cells', 88), ('Smooth Muscle Cells', 58), ('Luminal 2 Cells', 50), ('B-Cells', 46), ('Pericytes', 35), ('Club/Hillock Cells', 26), ('Endothelial Cells', 21), ('Mast Cells', 18), ('Basophils', 10)]\n",
      "HT832Z1-S1H1A2Y1Nd1\n",
      "[('Tumor 1', 8696), ('Luminal 1 Cells', 822), ('Fibroblasts', 516), ('Luminal 2 Cells', 286), ('T-Cells', 259), ('Macrophages', 233), ('Basal Cells', 132), ('Endothelial Cells', 87), ('Basophils', 80), ('Club Cells', 74), ('Smooth Muscle Cells', 61), ('Pericytes', 41), ('Mast Cells', 38), ('B-Cells', 26), ('Club/Hillock Cells', 18)]\n",
      "HT891Z1-S2H3A2Y1Nd1_1Z1_1Bmn1_1\n",
      "[('Tumor 2', 9258), ('Luminal 1 Cells', 1043), ('Luminal 2 Cells', 311), ('Basophils', 251), ('Basal Cells', 237), ('Club Cells', 167), ('T-Cells', 101), ('Macrophages', 86), ('Fibroblasts', 83), ('Endothelial Cells', 61), ('Smooth Muscle Cells', 43), ('Tumor 1', 28), ('Club/Hillock Cells', 25), ('Pericytes', 19), ('Mast Cells', 15), ('B-Cells', 8)]\n",
      "HT771Z1-S1H1A3Y1Nd1\n",
      "[('Luminal 1 Cells', 3604), ('Basal Cells', 1925), ('Fibroblasts', 531), ('Club Cells', 458), ('T-Cells', 335), ('Macrophages', 274), ('Smooth Muscle Cells', 251), ('Endothelial Cells', 121), ('Luminal 2 Cells', 119), ('Mast Cells', 108), ('Club/Hillock Cells', 85), ('Pericytes', 37), ('B-Cells', 14), ('Tumor 1', 5), ('Basophils', 3)]\n",
      "HT817Z1-S1H1A3Y1Nd1\n",
      "[('Luminal 1 Cells', 2283), ('Basal Cells', 1677), ('Club Cells', 208), ('T-Cells', 201), ('Luminal 2 Cells', 163), ('Macrophages', 141), ('Fibroblasts', 109), ('Smooth Muscle Cells', 76), ('Club/Hillock Cells', 41), ('Endothelial Cells', 35), ('Pericytes', 25), ('B-Cells', 23), ('Mast Cells', 12), ('Tumor 1', 9), ('Basophils', 9), ('Tumor 2', 1)]\n",
      "HT898Z1-S1H1A3Nd1\n",
      "[('Luminal 1 Cells', 1783), ('Basal Cells', 1148), ('Club Cells', 433), ('B-Cells', 419), ('T-Cells', 212), ('Macrophages', 149), ('Smooth Muscle Cells', 90), ('Fibroblasts', 75), ('Endothelial Cells', 71), ('Mast Cells', 66), ('Pericytes', 29), ('Basophils', 25), ('Club/Hillock Cells', 20), ('Luminal 2 Cells', 16), ('Tumor 1', 2)]\n"
     ]
    }
   ],
   "source": [
    "for sid in set(adata.obs['orig.ident']):\n",
    "    print(sid)\n",
    "    f = adata[adata.obs['orig.ident']==sid]\n",
    "    print(Counter(f.obs['celltypes']).most_common())"
   ]
  },
  {
   "cell_type": "code",
   "execution_count": 76,
   "id": "13cf53d1",
   "metadata": {},
   "outputs": [
    {
     "data": {
      "text/plain": [
       "{'B-Cells',\n",
       " 'Basal Cells',\n",
       " 'Basophils',\n",
       " 'Club Cells',\n",
       " 'Club/Hillock Cells',\n",
       " 'Endothelial Cells',\n",
       " 'Fibroblasts',\n",
       " 'Luminal 1 Cells',\n",
       " 'Luminal 2 Cells',\n",
       " 'Macrophages',\n",
       " 'Mast Cells',\n",
       " 'Pericytes',\n",
       " 'Smooth Muscle Cells',\n",
       " 'T-Cells',\n",
       " 'Tumor 1',\n",
       " 'Tumor 2'}"
      ]
     },
     "execution_count": 76,
     "metadata": {},
     "output_type": "execute_result"
    }
   ],
   "source": [
    "set(adata.obs['celltypes'])"
   ]
  },
  {
   "cell_type": "code",
   "execution_count": 79,
   "id": "30251e63",
   "metadata": {},
   "outputs": [],
   "source": [
    "case_map = {\n",
    "    'HT891Z1': ['HT891Z1-S2H3A2Y1Nd1_1Z1_1Bmn1_1'],\n",
    "    'HT913Z1': ['HT913Z1-S2H1A3Y1Nd1'],\n",
    "}\n",
    "\n",
    "mapping = {\n",
    "    'B cell': ['B-Cells'],\n",
    "    'Basal': ['Basal Cells'],\n",
    "    'Epithelial': ['Luminal 1 Cells', 'Luminal 2 Cells', 'Tumor 1', 'Tumor 2'],\n",
    "    'T cell': ['T-Cells'],\n",
    "    'Macrophage': ['Macrophages'],\n",
    "    'Fibroblast': ['Fibroblasts'],\n",
    "    'Smooth Muscle Cells': ['Smooth Muscle Cells'],\n",
    "    'Endothelial': ['Endothelial Cells'],\n",
    "    'Club Cells': ['Club Cells', 'Club/Hillock Cells'],\n",
    "    'Mast': ['Mast Cells'],\n",
    "    'Pericyte': ['Pericytes'],\n",
    "    'Exclude': ['Basophils']\n",
    "}\n",
    "cell_type_map = {\n",
    "    v:k for k, vs in mapping.items() for v in vs\n",
    "}"
   ]
  },
  {
   "cell_type": "code",
   "execution_count": 80,
   "id": "48b528df",
   "metadata": {
    "scrolled": true
   },
   "outputs": [
    {
     "name": "stderr",
     "output_type": "stream",
     "text": [
      "/diskmnt/Projects/Users/estorrs/sandbox/tmp/ipykernel_222878/949718273.py:1: ImplicitModificationWarning: Trying to modify attribute `.obs` of view, initializing view as actual.\n",
      "  adata.obs['renamed_cell_types'] = [cell_type_map[c] for c in adata.obs['celltypes']]\n",
      "/diskmnt/Projects/Users/estorrs/miniconda3/envs/mushroom/lib/python3.9/site-packages/anndata/_core/anndata.py:1113: FutureWarning: is_categorical_dtype is deprecated and will be removed in a future version. Use isinstance(dtype, CategoricalDtype) instead\n",
      "  if not is_categorical_dtype(df_full[k]):\n"
     ]
    },
    {
     "data": {
      "text/plain": [
       "View of AnnData object with n_obs × n_vars = 55700 × 36588\n",
       "    obs: 'orig.ident', 'nCount_RNA', 'nFeature_RNA', 'is_cell', 'excluded_reason', 'gex_raw_reads', 'gex_mapped_reads', 'gex_conf_intergenic_reads', 'gex_conf_exonic_reads', 'gex_conf_intronic_reads', 'gex_conf_exonic_unique_reads', 'gex_conf_exonic_antisense_reads', 'gex_conf_exonic_dup_reads', 'gex_exonic_umis', 'gex_conf_intronic_unique_reads', 'gex_conf_intronic_antisense_reads', 'gex_conf_intronic_dup_reads', 'gex_intronic_umis', 'gex_conf_txomic_unique_reads', 'gex_umis_count', 'gex_genes_count', 'atac_raw_reads', 'atac_unmapped_reads', 'atac_lowmapq', 'atac_dup_reads', 'atac_chimeric_reads', 'atac_mitochondrial_reads', 'atac_fragments', 'atac_TSS_fragments', 'atac_peak_region_fragments', 'atac_peak_region_cutsites', 'rho', 'percent.mt', 'log10GenesPerUMI', 'nUMI', 'nGene', 'nCount_ATAC', 'nFeature_ATAC', 'doublet_score_rna', 'predicted_doublet_rna', 'doublet_score_atac', 'predicted_doublet_atac', 'predicted_doublet', 'nCount_ATAC_MACS2', 'nFeature_ATAC_MACS2', 'pct_read_in_peaks_500MACS2', 'peak_region_fragments_500MACS2', 'nucleosome_signal', 'nucleosome_percentile', 'TSS.enrichment', 'TSS.percentile', 'blacklist_region_fragments', 'blacklist_ratio', 'high.tss', 'nucleosome_group', 'remove_based_on_RNA', 'remove_based_on_ATAC', 'remove', 'S.Score', 'G2M.Score', 'Phase', 'nCount_SCT', 'nFeature_SCT', 'SCT.weight', 'ATAC_MACS2.weight', 'wsnn_res.0.8', 'seurat_clusters', 'percent.rb', 'doublet_score', 'SCT_snn_res.0.5', 'custom_snn_res.0.7', 'custom_snn_res.1', 'RNA_snn_res.2', 'RNA_snn_res.1', 'dotcat', 'celltypes', 'renamed_cell_types'\n",
       "    var: 'vst.mean', 'vst.variance', 'vst.variance.expected', 'vst.variance.standardized', 'vst.variable', 'vf_vst_counts.HT771Z1-S1H1A3Y1Nd1_mean', 'vf_vst_counts.HT771Z1-S1H1A3Y1Nd1_variance', 'vf_vst_counts.HT771Z1-S1H1A3Y1Nd1_variance.expected', 'vf_vst_counts.HT771Z1-S1H1A3Y1Nd1_variance.standardized', 'vf_vst_counts.HT771Z1-S1H1A3Y1Nd1_variable', 'vf_vst_counts.HT771Z1-S1H1A3Y1Nd1_rank', 'vf_vst_counts.HT781Z1-S1H1A3Y1Nd1_mean', 'vf_vst_counts.HT781Z1-S1H1A3Y1Nd1_variance', 'vf_vst_counts.HT781Z1-S1H1A3Y1Nd1_variance.expected', 'vf_vst_counts.HT781Z1-S1H1A3Y1Nd1_variance.standardized', 'vf_vst_counts.HT781Z1-S1H1A3Y1Nd1_variable', 'vf_vst_counts.HT781Z1-S1H1A3Y1Nd1_rank', 'vf_vst_counts.HT817Z1-S1H1A3Y1Nd1_mean', 'vf_vst_counts.HT817Z1-S1H1A3Y1Nd1_variance', 'vf_vst_counts.HT817Z1-S1H1A3Y1Nd1_variance.expected', 'vf_vst_counts.HT817Z1-S1H1A3Y1Nd1_variance.standardized', 'vf_vst_counts.HT817Z1-S1H1A3Y1Nd1_variable', 'vf_vst_counts.HT817Z1-S1H1A3Y1Nd1_rank', 'vf_vst_counts.HT849Z1-S1H1Fc2Nd1_mean', 'vf_vst_counts.HT849Z1-S1H1Fc2Nd1_variance', 'vf_vst_counts.HT849Z1-S1H1Fc2Nd1_variance.expected', 'vf_vst_counts.HT849Z1-S1H1Fc2Nd1_variance.standardized', 'vf_vst_counts.HT849Z1-S1H1Fc2Nd1_variable', 'vf_vst_counts.HT849Z1-S1H1Fc2Nd1_rank', 'vf_vst_counts.HT898Z1-S1H1A3Nd1_mean', 'vf_vst_counts.HT898Z1-S1H1A3Nd1_variance', 'vf_vst_counts.HT898Z1-S1H1A3Nd1_variance.expected', 'vf_vst_counts.HT898Z1-S1H1A3Nd1_variance.standardized', 'vf_vst_counts.HT898Z1-S1H1A3Nd1_variable', 'vf_vst_counts.HT898Z1-S1H1A3Nd1_rank', 'vf_vst_counts.HT891Z1-S2H3A2Y1Nd1_1Z1_1Bmn1_1_mean', 'vf_vst_counts.HT891Z1-S2H3A2Y1Nd1_1Z1_1Bmn1_1_variance', 'vf_vst_counts.HT891Z1-S2H3A2Y1Nd1_1Z1_1Bmn1_1_variance.expected', 'vf_vst_counts.HT891Z1-S2H3A2Y1Nd1_1Z1_1Bmn1_1_variance.standardized', 'vf_vst_counts.HT891Z1-S2H3A2Y1Nd1_1Z1_1Bmn1_1_variable', 'vf_vst_counts.HT891Z1-S2H3A2Y1Nd1_1Z1_1Bmn1_1_rank', 'vf_vst_counts.HT814Z1-S1A3Y1Nd1_mean', 'vf_vst_counts.HT814Z1-S1A3Y1Nd1_variance', 'vf_vst_counts.HT814Z1-S1A3Y1Nd1_variance.expected', 'vf_vst_counts.HT814Z1-S1A3Y1Nd1_variance.standardized', 'vf_vst_counts.HT814Z1-S1A3Y1Nd1_variable', 'vf_vst_counts.HT814Z1-S1A3Y1Nd1_rank', 'vf_vst_counts.HT832Z1-S1H1A2Y1Nd1_mean', 'vf_vst_counts.HT832Z1-S1H1A2Y1Nd1_variance', 'vf_vst_counts.HT832Z1-S1H1A2Y1Nd1_variance.expected', 'vf_vst_counts.HT832Z1-S1H1A2Y1Nd1_variance.standardized', 'vf_vst_counts.HT832Z1-S1H1A2Y1Nd1_variable', 'vf_vst_counts.HT832Z1-S1H1A2Y1Nd1_rank', 'vf_vst_counts.HT913Z1-S2H1A3Y1Nd1_mean', 'vf_vst_counts.HT913Z1-S2H1A3Y1Nd1_variance', 'vf_vst_counts.HT913Z1-S2H1A3Y1Nd1_variance.expected', 'vf_vst_counts.HT913Z1-S2H1A3Y1Nd1_variance.standardized', 'vf_vst_counts.HT913Z1-S2H1A3Y1Nd1_variable', 'vf_vst_counts.HT913Z1-S2H1A3Y1Nd1_rank', 'var.features', 'var.features.rank'"
      ]
     },
     "execution_count": 80,
     "metadata": {},
     "output_type": "execute_result"
    }
   ],
   "source": [
    "adata.obs['renamed_cell_types'] = [cell_type_map[c] for c in adata.obs['celltypes']]\n",
    "adata = adata[adata.obs['renamed_cell_types']!='Exclude']\n",
    "adata"
   ]
  },
  {
   "cell_type": "code",
   "execution_count": 81,
   "id": "113c5f9d",
   "metadata": {},
   "outputs": [
    {
     "name": "stdout",
     "output_type": "stream",
     "text": [
      "HT891Z1 ['HT891Z1-S2H3A2Y1Nd1_1Z1_1Bmn1_1']\n"
     ]
    },
    {
     "name": "stderr",
     "output_type": "stream",
     "text": [
      "/diskmnt/Projects/Users/estorrs/miniconda3/envs/mushroom/lib/python3.9/site-packages/anndata/_core/anndata.py:1113: FutureWarning: is_categorical_dtype is deprecated and will be removed in a future version. Use isinstance(dtype, CategoricalDtype) instead\n",
      "  if not is_categorical_dtype(df_full[k]):\n"
     ]
    },
    {
     "name": "stdout",
     "output_type": "stream",
     "text": [
      "(36588, 2845)\n",
      "HT913Z1 ['HT913Z1-S2H1A3Y1Nd1']\n"
     ]
    },
    {
     "name": "stderr",
     "output_type": "stream",
     "text": [
      "/diskmnt/Projects/Users/estorrs/miniconda3/envs/mushroom/lib/python3.9/site-packages/anndata/_core/anndata.py:1113: FutureWarning: is_categorical_dtype is deprecated and will be removed in a future version. Use isinstance(dtype, CategoricalDtype) instead\n",
      "  if not is_categorical_dtype(df_full[k]):\n"
     ]
    },
    {
     "name": "stdout",
     "output_type": "stream",
     "text": [
      "(36588, 2032)\n",
      "all\n"
     ]
    },
    {
     "name": "stderr",
     "output_type": "stream",
     "text": [
      "/diskmnt/Projects/Users/estorrs/miniconda3/envs/mushroom/lib/python3.9/site-packages/anndata/_core/anndata.py:1113: FutureWarning: is_categorical_dtype is deprecated and will be removed in a future version. Use isinstance(dtype, CategoricalDtype) instead\n",
      "  if not is_categorical_dtype(df_full[k]):\n"
     ]
    }
   ],
   "source": [
    "n = 2000\n",
    "\n",
    "for sid, samples in case_map.items():\n",
    "    print(sid, samples)\n",
    "    exp_df, sc_annot = get_sc_dfs(adata, n, 'renamed_cell_types', samples=samples)\n",
    "    print(exp_df.shape)\n",
    "    exp_df.to_csv(os.path.join(out_dir, f'{sid}_input_sc_exp.txt'), sep='\\t')\n",
    "    sc_annot.to_csv(os.path.join(out_dir, f'{sid}_input_sc_annot.txt'), sep='\\t')\n",
    "\n",
    "print('all')\n",
    "exp_df, sc_annot = get_sc_dfs(adata, n, 'renamed_cell_types', samples=[v for vs in case_map.values() for v in vs])\n",
    "exp_df.to_csv(os.path.join(out_dir, f'all_input_sc_exp.txt'), sep='\\t')\n",
    "sc_annot.to_csv(os.path.join(out_dir, f'all_input_sc_annot.txt'), sep='\\t')\n",
    "\n",
    "\n"
   ]
  },
  {
   "cell_type": "markdown",
   "id": "afbe00d5",
   "metadata": {},
   "source": [
    "breast"
   ]
  },
  {
   "cell_type": "code",
   "execution_count": 40,
   "id": "59d3bb8e",
   "metadata": {},
   "outputs": [],
   "source": [
    "out_dir = Path('/diskmnt/Projects/Users/estorrs/mushroom/data/projects/submission_v1/cytospace/breast')\n",
    "out_dir.mkdir(parents=True, exist_ok=True)"
   ]
  },
  {
   "cell_type": "code",
   "execution_count": 11,
   "id": "05f68d8d-ab96-43a2-980b-76f733cb3ca6",
   "metadata": {},
   "outputs": [
    {
     "data": {
      "text/plain": [
       "AnnData object with n_obs × n_vars = 131348 × 36601\n",
       "    obs: 'orig.ident', 'nCount_RNA', 'nFeature_RNA', 'percent.mito', 'nCount_SCT', 'nFeature_SCT', 'SCT_snn_res.0.5', 'seurat_clusters', 'cell_type_final', 'is_cell', 'excluded_reason', 'gex_raw_reads', 'gex_mapped_reads', 'gex_conf_intergenic_reads', 'gex_conf_exonic_reads', 'gex_conf_intronic_reads', 'gex_conf_exonic_unique_reads', 'gex_conf_exonic_antisense_reads', 'gex_conf_exonic_dup_reads', 'gex_exonic_umis', 'gex_conf_intronic_unique_reads', 'gex_conf_intronic_antisense_reads', 'gex_conf_intronic_dup_reads', 'gex_intronic_umis', 'gex_conf_txomic_unique_reads', 'gex_umis_count', 'gex_genes_count', 'atac_raw_reads', 'atac_unmapped_reads', 'atac_lowmapq', 'atac_dup_reads', 'atac_chimeric_reads', 'atac_mitochondrial_reads', 'atac_fragments', 'atac_TSS_fragments', 'atac_peak_region_fragments', 'atac_peak_region_cutsites', 'percent.mt', 'nCount_ATAC', 'nFeature_ATAC', 'nCount_ATAC_MACS2', 'nFeature_ATAC_MACS2', 'pct_read_in_peaks_500MACS2', 'peak_region_fragments_500MACS2', 'nucleosome_signal', 'nucleosome_percentile', 'TSS.enrichment', 'TSS.percentile', 'high.tss', 'nucleosome_group', 'ATAC_qual', 'SCT.weight', 'ATAC_MACS2.weight', 'wsnn_res.0.8', 'SCT_snn_res.0.8', 'sample_id'\n",
       "    var: 'features'"
      ]
     },
     "execution_count": 11,
     "metadata": {},
     "output_type": "execute_result"
    }
   ],
   "source": [
    "adata = sc.read_h5ad('/diskmnt/Projects/Users/estorrs/mushroom/data/projects/submission_v1/single_cell/breast.h5ad')\n",
    "adata"
   ]
  },
  {
   "cell_type": "code",
   "execution_count": 34,
   "id": "98da2c5d",
   "metadata": {},
   "outputs": [
    {
     "data": {
      "text/plain": [
       "array([  0.,   1.,   2.,   3.,   4.,   5.,   6.,   7.,   8.,   9.,  10.,\n",
       "        11.,  12.,  13.,  14.,  15.,  16.,  17.,  18.,  19.,  20.,  21.,\n",
       "        22.,  23.,  24.,  25.,  29.,  30.,  31.,  32.,  34.,  37.,  40.,\n",
       "        47.,  50.,  58.,  59.,  82.,  92., 455.])"
      ]
     },
     "execution_count": 34,
     "metadata": {},
     "output_type": "execute_result"
    }
   ],
   "source": [
    "np.unique(adata.raw.X[0].toarray())"
   ]
  },
  {
   "cell_type": "code",
   "execution_count": 29,
   "id": "8c1217c5",
   "metadata": {},
   "outputs": [
    {
     "data": {
      "text/plain": [
       "array([0.        , 0.51213571, 0.84916889, 1.10079482, 1.30166369,\n",
       "       1.46885495, 1.61205638, 1.73729643, 1.84858278, 1.94871539,\n",
       "       2.03972776, 2.12314347, 2.20013356, 2.27161757, 2.33833075,\n",
       "       2.40087027, 2.45972775, 2.51531274, 2.56797006, 2.61799274,\n",
       "       2.66563191, 2.71110441, 2.75459879, 2.79628   , 2.83629318,\n",
       "       2.87476672, 3.01537292, 3.04763888, 3.07889621, 3.10920607,\n",
       "       3.16720156, 3.24833787, 3.32338225, 3.47926967, 3.53929356,\n",
       "       3.68370086, 3.70036928, 4.02259485, 4.13571593, 5.72138487])"
      ]
     },
     "execution_count": 29,
     "metadata": {},
     "output_type": "execute_result"
    }
   ],
   "source": [
    "np.unique(adata.X[0].toarray())"
   ]
  },
  {
   "cell_type": "code",
   "execution_count": null,
   "id": "1ca7d7a3",
   "metadata": {},
   "outputs": [],
   "source": [
    "adata.X = adata.raw.X"
   ]
  },
  {
   "cell_type": "code",
   "execution_count": 58,
   "id": "c8c862c1",
   "metadata": {},
   "outputs": [
    {
     "name": "stderr",
     "output_type": "stream",
     "text": [
      "/diskmnt/Projects/Users/estorrs/miniconda3/envs/mushroom/lib/python3.9/site-packages/anndata/_core/anndata.py:1113: FutureWarning: is_categorical_dtype is deprecated and will be removed in a future version. Use isinstance(dtype, CategoricalDtype) instead\n",
      "  if not is_categorical_dtype(df_full[k]):\n"
     ]
    },
    {
     "data": {
      "text/plain": [
       "(45740, 36588)"
      ]
     },
     "execution_count": 58,
     "metadata": {},
     "output_type": "execute_result"
    }
   ],
   "source": [
    "adata = adata[:, [x for x in adata.var.index.to_list() if 'MT-' not in x]]\n",
    "adata.shape"
   ]
  },
  {
   "cell_type": "code",
   "execution_count": 12,
   "id": "fc8796c2",
   "metadata": {},
   "outputs": [
    {
     "data": {
      "text/html": [
       "<div>\n",
       "<style scoped>\n",
       "    .dataframe tbody tr th:only-of-type {\n",
       "        vertical-align: middle;\n",
       "    }\n",
       "\n",
       "    .dataframe tbody tr th {\n",
       "        vertical-align: top;\n",
       "    }\n",
       "\n",
       "    .dataframe thead th {\n",
       "        text-align: right;\n",
       "    }\n",
       "</style>\n",
       "<table border=\"1\" class=\"dataframe\">\n",
       "  <thead>\n",
       "    <tr style=\"text-align: right;\">\n",
       "      <th></th>\n",
       "      <th>orig.ident</th>\n",
       "      <th>nCount_RNA</th>\n",
       "      <th>nFeature_RNA</th>\n",
       "      <th>percent.mito</th>\n",
       "      <th>nCount_SCT</th>\n",
       "      <th>nFeature_SCT</th>\n",
       "      <th>SCT_snn_res.0.5</th>\n",
       "      <th>seurat_clusters</th>\n",
       "      <th>cell_type_final</th>\n",
       "      <th>is_cell</th>\n",
       "      <th>...</th>\n",
       "      <th>TSS.enrichment</th>\n",
       "      <th>TSS.percentile</th>\n",
       "      <th>high.tss</th>\n",
       "      <th>nucleosome_group</th>\n",
       "      <th>ATAC_qual</th>\n",
       "      <th>SCT.weight</th>\n",
       "      <th>ATAC_MACS2.weight</th>\n",
       "      <th>wsnn_res.0.8</th>\n",
       "      <th>SCT_snn_res.0.8</th>\n",
       "      <th>sample_id</th>\n",
       "    </tr>\n",
       "  </thead>\n",
       "  <tbody>\n",
       "    <tr>\n",
       "      <th>HT206B1-S1H4_AAACCCACAGATTCGT-1</th>\n",
       "      <td>HT206B1-S1H4</td>\n",
       "      <td>14951</td>\n",
       "      <td>5706</td>\n",
       "      <td>0.000535081265467193</td>\n",
       "      <td>3405</td>\n",
       "      <td>2489</td>\n",
       "      <td>1</td>\n",
       "      <td>15</td>\n",
       "      <td>T</td>\n",
       "      <td>NA</td>\n",
       "      <td>...</td>\n",
       "      <td>NA</td>\n",
       "      <td>NA</td>\n",
       "      <td>NA</td>\n",
       "      <td>NA</td>\n",
       "      <td>NA</td>\n",
       "      <td>NA</td>\n",
       "      <td>NA</td>\n",
       "      <td>NA</td>\n",
       "      <td>15</td>\n",
       "      <td>HT206B1-S1H4</td>\n",
       "    </tr>\n",
       "    <tr>\n",
       "      <th>HT206B1-S1H4_AAACCCACAGGCATTT-1</th>\n",
       "      <td>HT206B1-S1H4</td>\n",
       "      <td>2964</td>\n",
       "      <td>1550</td>\n",
       "      <td>0.0823211875843455</td>\n",
       "      <td>2999</td>\n",
       "      <td>1550</td>\n",
       "      <td>1</td>\n",
       "      <td>9</td>\n",
       "      <td>T</td>\n",
       "      <td>NA</td>\n",
       "      <td>...</td>\n",
       "      <td>NA</td>\n",
       "      <td>NA</td>\n",
       "      <td>NA</td>\n",
       "      <td>NA</td>\n",
       "      <td>NA</td>\n",
       "      <td>NA</td>\n",
       "      <td>NA</td>\n",
       "      <td>NA</td>\n",
       "      <td>9</td>\n",
       "      <td>HT206B1-S1H4</td>\n",
       "    </tr>\n",
       "    <tr>\n",
       "      <th>HT206B1-S1H4_AAACCCACATGACGTT-1</th>\n",
       "      <td>HT206B1-S1H4</td>\n",
       "      <td>2585</td>\n",
       "      <td>1596</td>\n",
       "      <td>0.0421663442940039</td>\n",
       "      <td>2743</td>\n",
       "      <td>1596</td>\n",
       "      <td>2</td>\n",
       "      <td>9</td>\n",
       "      <td>T</td>\n",
       "      <td>NA</td>\n",
       "      <td>...</td>\n",
       "      <td>NA</td>\n",
       "      <td>NA</td>\n",
       "      <td>NA</td>\n",
       "      <td>NA</td>\n",
       "      <td>NA</td>\n",
       "      <td>NA</td>\n",
       "      <td>NA</td>\n",
       "      <td>NA</td>\n",
       "      <td>9</td>\n",
       "      <td>HT206B1-S1H4</td>\n",
       "    </tr>\n",
       "    <tr>\n",
       "      <th>HT206B1-S1H4_AAACCCAGTCCTACAA-1</th>\n",
       "      <td>HT206B1-S1H4</td>\n",
       "      <td>1662</td>\n",
       "      <td>1120</td>\n",
       "      <td>0.00842358604091456</td>\n",
       "      <td>2697</td>\n",
       "      <td>1121</td>\n",
       "      <td>13</td>\n",
       "      <td>9</td>\n",
       "      <td>NK</td>\n",
       "      <td>NA</td>\n",
       "      <td>...</td>\n",
       "      <td>NA</td>\n",
       "      <td>NA</td>\n",
       "      <td>NA</td>\n",
       "      <td>NA</td>\n",
       "      <td>NA</td>\n",
       "      <td>NA</td>\n",
       "      <td>NA</td>\n",
       "      <td>NA</td>\n",
       "      <td>9</td>\n",
       "      <td>HT206B1-S1H4</td>\n",
       "    </tr>\n",
       "    <tr>\n",
       "      <th>HT206B1-S1H4_AAACCCAGTCTAGTGT-1</th>\n",
       "      <td>HT206B1-S1H4</td>\n",
       "      <td>1290</td>\n",
       "      <td>969</td>\n",
       "      <td>0.0124031007751938</td>\n",
       "      <td>2609</td>\n",
       "      <td>978</td>\n",
       "      <td>2</td>\n",
       "      <td>9</td>\n",
       "      <td>T</td>\n",
       "      <td>NA</td>\n",
       "      <td>...</td>\n",
       "      <td>NA</td>\n",
       "      <td>NA</td>\n",
       "      <td>NA</td>\n",
       "      <td>NA</td>\n",
       "      <td>NA</td>\n",
       "      <td>NA</td>\n",
       "      <td>NA</td>\n",
       "      <td>NA</td>\n",
       "      <td>9</td>\n",
       "      <td>HT206B1-S1H4</td>\n",
       "    </tr>\n",
       "    <tr>\n",
       "      <th>...</th>\n",
       "      <td>...</td>\n",
       "      <td>...</td>\n",
       "      <td>...</td>\n",
       "      <td>...</td>\n",
       "      <td>...</td>\n",
       "      <td>...</td>\n",
       "      <td>...</td>\n",
       "      <td>...</td>\n",
       "      <td>...</td>\n",
       "      <td>...</td>\n",
       "      <td>...</td>\n",
       "      <td>...</td>\n",
       "      <td>...</td>\n",
       "      <td>...</td>\n",
       "      <td>...</td>\n",
       "      <td>...</td>\n",
       "      <td>...</td>\n",
       "      <td>...</td>\n",
       "      <td>...</td>\n",
       "      <td>...</td>\n",
       "      <td>...</td>\n",
       "    </tr>\n",
       "    <tr>\n",
       "      <th>HT486B1-S1H1_combo_TTTGTGGCATTAAACC-1</th>\n",
       "      <td>HT486B1-S1H1_combo</td>\n",
       "      <td>1582</td>\n",
       "      <td>987</td>\n",
       "      <td>NA</td>\n",
       "      <td>2661</td>\n",
       "      <td>992</td>\n",
       "      <td>NA</td>\n",
       "      <td>22</td>\n",
       "      <td>NA</td>\n",
       "      <td>1</td>\n",
       "      <td>...</td>\n",
       "      <td>4.42498677792799</td>\n",
       "      <td>0.53</td>\n",
       "      <td>High</td>\n",
       "      <td>NS &lt; 4</td>\n",
       "      <td>ATAC_good</td>\n",
       "      <td>0.997894767494635</td>\n",
       "      <td>0.00210523250536479</td>\n",
       "      <td>7</td>\n",
       "      <td>22</td>\n",
       "      <td>HT486B1-S1H1_combo</td>\n",
       "    </tr>\n",
       "    <tr>\n",
       "      <th>HT486B1-S1H1_combo_TTTGTGTTCATTGACA-1</th>\n",
       "      <td>HT486B1-S1H1_combo</td>\n",
       "      <td>5713</td>\n",
       "      <td>2166</td>\n",
       "      <td>NA</td>\n",
       "      <td>3855</td>\n",
       "      <td>2097</td>\n",
       "      <td>NA</td>\n",
       "      <td>11</td>\n",
       "      <td>NA</td>\n",
       "      <td>1</td>\n",
       "      <td>...</td>\n",
       "      <td>4.58041958041958</td>\n",
       "      <td>0.58</td>\n",
       "      <td>High</td>\n",
       "      <td>NS &lt; 4</td>\n",
       "      <td>ATAC_poor</td>\n",
       "      <td>0.407859736253307</td>\n",
       "      <td>0.592140263746693</td>\n",
       "      <td>0</td>\n",
       "      <td>11</td>\n",
       "      <td>HT486B1-S1H1_combo</td>\n",
       "    </tr>\n",
       "    <tr>\n",
       "      <th>HT486B1-S1H1_combo_TTTGTGTTCATTTGTC-1</th>\n",
       "      <td>HT486B1-S1H1_combo</td>\n",
       "      <td>23435</td>\n",
       "      <td>5935</td>\n",
       "      <td>NA</td>\n",
       "      <td>3292</td>\n",
       "      <td>1939</td>\n",
       "      <td>NA</td>\n",
       "      <td>11</td>\n",
       "      <td>NA</td>\n",
       "      <td>1</td>\n",
       "      <td>...</td>\n",
       "      <td>4.90509490509489</td>\n",
       "      <td>0.68</td>\n",
       "      <td>High</td>\n",
       "      <td>NS &lt; 4</td>\n",
       "      <td>ATAC_good</td>\n",
       "      <td>0.504711994422915</td>\n",
       "      <td>0.495288005577085</td>\n",
       "      <td>11</td>\n",
       "      <td>11</td>\n",
       "      <td>HT486B1-S1H1_combo</td>\n",
       "    </tr>\n",
       "    <tr>\n",
       "      <th>HT486B1-S1H1_combo_TTTGTGTTCGATTATG-1</th>\n",
       "      <td>HT486B1-S1H1_combo</td>\n",
       "      <td>1825</td>\n",
       "      <td>950</td>\n",
       "      <td>NA</td>\n",
       "      <td>2639</td>\n",
       "      <td>950</td>\n",
       "      <td>NA</td>\n",
       "      <td>11</td>\n",
       "      <td>NA</td>\n",
       "      <td>1</td>\n",
       "      <td>...</td>\n",
       "      <td>4.84131253362022</td>\n",
       "      <td>0.66</td>\n",
       "      <td>High</td>\n",
       "      <td>NS &lt; 4</td>\n",
       "      <td>ATAC_poor</td>\n",
       "      <td>0.512599953219932</td>\n",
       "      <td>0.487400046780068</td>\n",
       "      <td>2</td>\n",
       "      <td>11</td>\n",
       "      <td>HT486B1-S1H1_combo</td>\n",
       "    </tr>\n",
       "    <tr>\n",
       "      <th>HT486B1-S1H1_combo_TTTGTTGGTGTTGTAG-1</th>\n",
       "      <td>HT486B1-S1H1_combo</td>\n",
       "      <td>15007</td>\n",
       "      <td>4568</td>\n",
       "      <td>NA</td>\n",
       "      <td>3425</td>\n",
       "      <td>1939</td>\n",
       "      <td>NA</td>\n",
       "      <td>11</td>\n",
       "      <td>NA</td>\n",
       "      <td>1</td>\n",
       "      <td>...</td>\n",
       "      <td>5.11405692752842</td>\n",
       "      <td>0.74</td>\n",
       "      <td>High</td>\n",
       "      <td>NS &lt; 4</td>\n",
       "      <td>ATAC_good</td>\n",
       "      <td>0.561955541050202</td>\n",
       "      <td>0.438044458949798</td>\n",
       "      <td>0</td>\n",
       "      <td>11</td>\n",
       "      <td>HT486B1-S1H1_combo</td>\n",
       "    </tr>\n",
       "  </tbody>\n",
       "</table>\n",
       "<p>131348 rows × 56 columns</p>\n",
       "</div>"
      ],
      "text/plain": [
       "                                               orig.ident nCount_RNA  \\\n",
       "HT206B1-S1H4_AAACCCACAGATTCGT-1              HT206B1-S1H4      14951   \n",
       "HT206B1-S1H4_AAACCCACAGGCATTT-1              HT206B1-S1H4       2964   \n",
       "HT206B1-S1H4_AAACCCACATGACGTT-1              HT206B1-S1H4       2585   \n",
       "HT206B1-S1H4_AAACCCAGTCCTACAA-1              HT206B1-S1H4       1662   \n",
       "HT206B1-S1H4_AAACCCAGTCTAGTGT-1              HT206B1-S1H4       1290   \n",
       "...                                                   ...        ...   \n",
       "HT486B1-S1H1_combo_TTTGTGGCATTAAACC-1  HT486B1-S1H1_combo       1582   \n",
       "HT486B1-S1H1_combo_TTTGTGTTCATTGACA-1  HT486B1-S1H1_combo       5713   \n",
       "HT486B1-S1H1_combo_TTTGTGTTCATTTGTC-1  HT486B1-S1H1_combo      23435   \n",
       "HT486B1-S1H1_combo_TTTGTGTTCGATTATG-1  HT486B1-S1H1_combo       1825   \n",
       "HT486B1-S1H1_combo_TTTGTTGGTGTTGTAG-1  HT486B1-S1H1_combo      15007   \n",
       "\n",
       "                                      nFeature_RNA          percent.mito  \\\n",
       "HT206B1-S1H4_AAACCCACAGATTCGT-1               5706  0.000535081265467193   \n",
       "HT206B1-S1H4_AAACCCACAGGCATTT-1               1550    0.0823211875843455   \n",
       "HT206B1-S1H4_AAACCCACATGACGTT-1               1596    0.0421663442940039   \n",
       "HT206B1-S1H4_AAACCCAGTCCTACAA-1               1120   0.00842358604091456   \n",
       "HT206B1-S1H4_AAACCCAGTCTAGTGT-1                969    0.0124031007751938   \n",
       "...                                            ...                   ...   \n",
       "HT486B1-S1H1_combo_TTTGTGGCATTAAACC-1          987                    NA   \n",
       "HT486B1-S1H1_combo_TTTGTGTTCATTGACA-1         2166                    NA   \n",
       "HT486B1-S1H1_combo_TTTGTGTTCATTTGTC-1         5935                    NA   \n",
       "HT486B1-S1H1_combo_TTTGTGTTCGATTATG-1          950                    NA   \n",
       "HT486B1-S1H1_combo_TTTGTTGGTGTTGTAG-1         4568                    NA   \n",
       "\n",
       "                                      nCount_SCT nFeature_SCT SCT_snn_res.0.5  \\\n",
       "HT206B1-S1H4_AAACCCACAGATTCGT-1             3405         2489               1   \n",
       "HT206B1-S1H4_AAACCCACAGGCATTT-1             2999         1550               1   \n",
       "HT206B1-S1H4_AAACCCACATGACGTT-1             2743         1596               2   \n",
       "HT206B1-S1H4_AAACCCAGTCCTACAA-1             2697         1121              13   \n",
       "HT206B1-S1H4_AAACCCAGTCTAGTGT-1             2609          978               2   \n",
       "...                                          ...          ...             ...   \n",
       "HT486B1-S1H1_combo_TTTGTGGCATTAAACC-1       2661          992              NA   \n",
       "HT486B1-S1H1_combo_TTTGTGTTCATTGACA-1       3855         2097              NA   \n",
       "HT486B1-S1H1_combo_TTTGTGTTCATTTGTC-1       3292         1939              NA   \n",
       "HT486B1-S1H1_combo_TTTGTGTTCGATTATG-1       2639          950              NA   \n",
       "HT486B1-S1H1_combo_TTTGTTGGTGTTGTAG-1       3425         1939              NA   \n",
       "\n",
       "                                      seurat_clusters cell_type_final is_cell  \\\n",
       "HT206B1-S1H4_AAACCCACAGATTCGT-1                    15               T      NA   \n",
       "HT206B1-S1H4_AAACCCACAGGCATTT-1                     9               T      NA   \n",
       "HT206B1-S1H4_AAACCCACATGACGTT-1                     9               T      NA   \n",
       "HT206B1-S1H4_AAACCCAGTCCTACAA-1                     9              NK      NA   \n",
       "HT206B1-S1H4_AAACCCAGTCTAGTGT-1                     9               T      NA   \n",
       "...                                               ...             ...     ...   \n",
       "HT486B1-S1H1_combo_TTTGTGGCATTAAACC-1              22              NA       1   \n",
       "HT486B1-S1H1_combo_TTTGTGTTCATTGACA-1              11              NA       1   \n",
       "HT486B1-S1H1_combo_TTTGTGTTCATTTGTC-1              11              NA       1   \n",
       "HT486B1-S1H1_combo_TTTGTGTTCGATTATG-1              11              NA       1   \n",
       "HT486B1-S1H1_combo_TTTGTTGGTGTTGTAG-1              11              NA       1   \n",
       "\n",
       "                                       ...    TSS.enrichment TSS.percentile  \\\n",
       "HT206B1-S1H4_AAACCCACAGATTCGT-1        ...                NA             NA   \n",
       "HT206B1-S1H4_AAACCCACAGGCATTT-1        ...                NA             NA   \n",
       "HT206B1-S1H4_AAACCCACATGACGTT-1        ...                NA             NA   \n",
       "HT206B1-S1H4_AAACCCAGTCCTACAA-1        ...                NA             NA   \n",
       "HT206B1-S1H4_AAACCCAGTCTAGTGT-1        ...                NA             NA   \n",
       "...                                    ...               ...            ...   \n",
       "HT486B1-S1H1_combo_TTTGTGGCATTAAACC-1  ...  4.42498677792799           0.53   \n",
       "HT486B1-S1H1_combo_TTTGTGTTCATTGACA-1  ...  4.58041958041958           0.58   \n",
       "HT486B1-S1H1_combo_TTTGTGTTCATTTGTC-1  ...  4.90509490509489           0.68   \n",
       "HT486B1-S1H1_combo_TTTGTGTTCGATTATG-1  ...  4.84131253362022           0.66   \n",
       "HT486B1-S1H1_combo_TTTGTTGGTGTTGTAG-1  ...  5.11405692752842           0.74   \n",
       "\n",
       "                                      high.tss nucleosome_group  ATAC_qual  \\\n",
       "HT206B1-S1H4_AAACCCACAGATTCGT-1             NA               NA         NA   \n",
       "HT206B1-S1H4_AAACCCACAGGCATTT-1             NA               NA         NA   \n",
       "HT206B1-S1H4_AAACCCACATGACGTT-1             NA               NA         NA   \n",
       "HT206B1-S1H4_AAACCCAGTCCTACAA-1             NA               NA         NA   \n",
       "HT206B1-S1H4_AAACCCAGTCTAGTGT-1             NA               NA         NA   \n",
       "...                                        ...              ...        ...   \n",
       "HT486B1-S1H1_combo_TTTGTGGCATTAAACC-1     High           NS < 4  ATAC_good   \n",
       "HT486B1-S1H1_combo_TTTGTGTTCATTGACA-1     High           NS < 4  ATAC_poor   \n",
       "HT486B1-S1H1_combo_TTTGTGTTCATTTGTC-1     High           NS < 4  ATAC_good   \n",
       "HT486B1-S1H1_combo_TTTGTGTTCGATTATG-1     High           NS < 4  ATAC_poor   \n",
       "HT486B1-S1H1_combo_TTTGTTGGTGTTGTAG-1     High           NS < 4  ATAC_good   \n",
       "\n",
       "                                              SCT.weight    ATAC_MACS2.weight  \\\n",
       "HT206B1-S1H4_AAACCCACAGATTCGT-1                       NA                   NA   \n",
       "HT206B1-S1H4_AAACCCACAGGCATTT-1                       NA                   NA   \n",
       "HT206B1-S1H4_AAACCCACATGACGTT-1                       NA                   NA   \n",
       "HT206B1-S1H4_AAACCCAGTCCTACAA-1                       NA                   NA   \n",
       "HT206B1-S1H4_AAACCCAGTCTAGTGT-1                       NA                   NA   \n",
       "...                                                  ...                  ...   \n",
       "HT486B1-S1H1_combo_TTTGTGGCATTAAACC-1  0.997894767494635  0.00210523250536479   \n",
       "HT486B1-S1H1_combo_TTTGTGTTCATTGACA-1  0.407859736253307    0.592140263746693   \n",
       "HT486B1-S1H1_combo_TTTGTGTTCATTTGTC-1  0.504711994422915    0.495288005577085   \n",
       "HT486B1-S1H1_combo_TTTGTGTTCGATTATG-1  0.512599953219932    0.487400046780068   \n",
       "HT486B1-S1H1_combo_TTTGTTGGTGTTGTAG-1  0.561955541050202    0.438044458949798   \n",
       "\n",
       "                                      wsnn_res.0.8 SCT_snn_res.0.8  \\\n",
       "HT206B1-S1H4_AAACCCACAGATTCGT-1                 NA              15   \n",
       "HT206B1-S1H4_AAACCCACAGGCATTT-1                 NA               9   \n",
       "HT206B1-S1H4_AAACCCACATGACGTT-1                 NA               9   \n",
       "HT206B1-S1H4_AAACCCAGTCCTACAA-1                 NA               9   \n",
       "HT206B1-S1H4_AAACCCAGTCTAGTGT-1                 NA               9   \n",
       "...                                            ...             ...   \n",
       "HT486B1-S1H1_combo_TTTGTGGCATTAAACC-1            7              22   \n",
       "HT486B1-S1H1_combo_TTTGTGTTCATTGACA-1            0              11   \n",
       "HT486B1-S1H1_combo_TTTGTGTTCATTTGTC-1           11              11   \n",
       "HT486B1-S1H1_combo_TTTGTGTTCGATTATG-1            2              11   \n",
       "HT486B1-S1H1_combo_TTTGTTGGTGTTGTAG-1            0              11   \n",
       "\n",
       "                                                sample_id  \n",
       "HT206B1-S1H4_AAACCCACAGATTCGT-1              HT206B1-S1H4  \n",
       "HT206B1-S1H4_AAACCCACAGGCATTT-1              HT206B1-S1H4  \n",
       "HT206B1-S1H4_AAACCCACATGACGTT-1              HT206B1-S1H4  \n",
       "HT206B1-S1H4_AAACCCAGTCCTACAA-1              HT206B1-S1H4  \n",
       "HT206B1-S1H4_AAACCCAGTCTAGTGT-1              HT206B1-S1H4  \n",
       "...                                                   ...  \n",
       "HT486B1-S1H1_combo_TTTGTGGCATTAAACC-1  HT486B1-S1H1_combo  \n",
       "HT486B1-S1H1_combo_TTTGTGTTCATTGACA-1  HT486B1-S1H1_combo  \n",
       "HT486B1-S1H1_combo_TTTGTGTTCATTTGTC-1  HT486B1-S1H1_combo  \n",
       "HT486B1-S1H1_combo_TTTGTGTTCGATTATG-1  HT486B1-S1H1_combo  \n",
       "HT486B1-S1H1_combo_TTTGTTGGTGTTGTAG-1  HT486B1-S1H1_combo  \n",
       "\n",
       "[131348 rows x 56 columns]"
      ]
     },
     "execution_count": 12,
     "metadata": {},
     "output_type": "execute_result"
    }
   ],
   "source": [
    "adata.obs"
   ]
  },
  {
   "cell_type": "code",
   "execution_count": 13,
   "id": "a5989506",
   "metadata": {},
   "outputs": [
    {
     "data": {
      "text/plain": [
       "{'HT206B1-S1H4',\n",
       " 'HT235B1-S1H1_combo',\n",
       " 'HT243B1-H3A2',\n",
       " 'HT243B1-S1H4_combo',\n",
       " 'HT262B1-S1H3',\n",
       " 'HT263B1-S1H1_combo',\n",
       " 'HT271B1-S1H3_combo',\n",
       " 'HT297B1-S1H1_combo',\n",
       " 'HT305B1-S1H1_combo',\n",
       " 'HT308B1-S1V1_combo',\n",
       " 'HT323B1-S1H1_combo',\n",
       " 'HT339B1-S1H3_combo',\n",
       " 'HT339B2-S1H2_combo',\n",
       " 'HT365B1-S1H1_combo',\n",
       " 'HT397B1-S1H4_combo',\n",
       " 'HT425B1-S1H1_combo',\n",
       " 'HT486B1-S1H1_combo'}"
      ]
     },
     "execution_count": 13,
     "metadata": {},
     "output_type": "execute_result"
    }
   ],
   "source": [
    "set(adata.obs['orig.ident'])"
   ]
  },
  {
   "cell_type": "code",
   "execution_count": 17,
   "id": "060d40ca",
   "metadata": {},
   "outputs": [
    {
     "data": {
      "text/plain": [
       "[('NA', 84283),\n",
       " ('Tumor', 24070),\n",
       " ('T', 6554),\n",
       " ('Macrophage', 5918),\n",
       " ('Fibroblast', 2315),\n",
       " ('Basal', 1224),\n",
       " ('T_reg', 1045),\n",
       " ('LumHR', 804),\n",
       " ('Remove_Unknown', 725),\n",
       " ('B', 713),\n",
       " ('Plasma', 628),\n",
       " ('Endothelial', 606),\n",
       " ('pDC', 485),\n",
       " ('Doublet', 475),\n",
       " ('NK', 385),\n",
       " ('Pericyte', 350),\n",
       " ('LumSec', 206),\n",
       " ('mregDC', 190),\n",
       " ('Mast', 151),\n",
       " ('Lymphatic', 125),\n",
       " ('cDC1', 55),\n",
       " ('Basal/LumSec', 41)]"
      ]
     },
     "execution_count": 17,
     "metadata": {},
     "output_type": "execute_result"
    }
   ],
   "source": [
    "from collections import Counter\n",
    "Counter(adata.obs['cell_type_final']).most_common()"
   ]
  },
  {
   "cell_type": "code",
   "execution_count": 18,
   "id": "1f6339f5",
   "metadata": {
    "scrolled": true
   },
   "outputs": [
    {
     "name": "stdout",
     "output_type": "stream",
     "text": [
      "HT365B1-S1H1_combo\n",
      "[('NA', 5833)]\n",
      "HT297B1-S1H1_combo\n",
      "[('NA', 4574)]\n",
      "HT235B1-S1H1_combo\n",
      "[('NA', 7516)]\n",
      "HT486B1-S1H1_combo\n"
     ]
    },
    {
     "name": "stderr",
     "output_type": "stream",
     "text": [
      "/diskmnt/Projects/Users/estorrs/miniconda3/envs/mushroom/lib/python3.9/site-packages/anndata/_core/anndata.py:1113: FutureWarning: is_categorical_dtype is deprecated and will be removed in a future version. Use isinstance(dtype, CategoricalDtype) instead\n",
      "  if not is_categorical_dtype(df_full[k]):\n"
     ]
    },
    {
     "name": "stdout",
     "output_type": "stream",
     "text": [
      "[('NA', 4867)]\n",
      "HT339B1-S1H3_combo\n",
      "[('Tumor', 1979), ('Macrophage', 1242), ('T', 756), ('Fibroblast', 689), ('LumHR', 520), ('Basal', 490), ('T_reg', 255), ('NK', 119), ('Mast', 111), ('Plasma', 103), ('pDC', 39)]\n",
      "HT262B1-S1H3\n",
      "[('NA', 3772)]\n",
      "HT243B1-S1H4_combo\n",
      "[('NA', 7970)]\n",
      "HT206B1-S1H4\n",
      "[('T', 3714), ('Macrophage', 1950), ('Tumor', 1296), ('T_reg', 742), ('Remove_Unknown', 725), ('Fibroblast', 567), ('B', 314), ('Plasma', 288), ('pDC', 274), ('NK', 266), ('LumSec', 206), ('LumHR', 169), ('Basal', 143), ('mregDC', 122), ('Endothelial', 119), ('Pericyte', 65), ('cDC1', 55), ('Mast', 40)]\n",
      "HT425B1-S1H1_combo\n",
      "[('NA', 3627)]\n",
      "HT323B1-S1H1_combo\n",
      "[('NA', 8607)]\n",
      "HT308B1-S1V1_combo\n",
      "[('Tumor', 8289), ('Macrophage', 1115), ('T', 496), ('Doublet', 228), ('Plasma', 156), ('Fibroblast', 140), ('LumHR', 115), ('B', 51), ('T_reg', 48), ('Basal/LumSec', 41), ('Endothelial', 32)]\n",
      "HT271B1-S1H3_combo\n",
      "[('NA', 13161)]\n",
      "HT339B2-S1H2_combo\n",
      "[('Tumor', 7751), ('Macrophage', 378), ('Fibroblast', 320), ('Endothelial', 247), ('Pericyte', 216), ('Basal', 193), ('T', 81), ('NA', 64)]\n",
      "HT243B1-H3A2\n",
      "[('NA', 517)]\n",
      "HT397B1-S1H4_combo\n",
      "[('Tumor', 4755), ('T', 1507), ('Macrophage', 1233), ('Fibroblast', 599), ('Basal', 398), ('B', 348), ('Doublet', 247), ('Endothelial', 208), ('pDC', 172), ('Lymphatic', 125), ('NA', 85), ('Plasma', 81), ('Pericyte', 69), ('mregDC', 68)]\n",
      "HT263B1-S1H1_combo\n",
      "[('NA', 11336)]\n",
      "HT305B1-S1H1_combo\n",
      "[('NA', 12354)]\n"
     ]
    }
   ],
   "source": [
    "for sid in set(adata.obs['orig.ident']):\n",
    "    print(sid)\n",
    "    f = adata[adata.obs['orig.ident']==sid]\n",
    "    print(Counter(f.obs['cell_type_final']).most_common())"
   ]
  },
  {
   "cell_type": "code",
   "execution_count": 37,
   "id": "533e5d39",
   "metadata": {},
   "outputs": [],
   "source": [
    "case_map = {\n",
    "    'HT206B1': ['HT206B1-S1H4'],\n",
    "    'HT339B2': ['HT339B2-S1H2_combo', 'HT339B1-S1H3_combo'],\n",
    "    'HT397B1': ['HT397B1-S1H4_combo'],\n",
    "}\n",
    "\n",
    "mapping = {\n",
    "    'B cell': ['B'],\n",
    "    'Epithelial': ['Basal', 'Basal/LumSec', 'LumHR', 'LumSec', 'Tumor'],\n",
    "    'T cell': ['T'],\n",
    "    'NK cell': ['NK'],\n",
    "    'Macrophage': ['Macrophage'],\n",
    "    'Fibroblast': ['Fibroblast'],\n",
    "    'Treg': ['T_reg'],\n",
    "    'Plasma': ['Plasma'],\n",
    "    'Endothelial': ['Endothelial'],\n",
    "    'pDC': ['pDC'],\n",
    "    'mregDC': ['mregDC'],\n",
    "    'Mast': ['Mast'],\n",
    "    'cDC': ['cDC1'],\n",
    "    'Pericyte': ['Pericyte'],\n",
    "    'Exclude': ['NA', 'Remove_Unknown', 'Doublet', 'Lymphatic']\n",
    "}\n",
    "cell_type_map = {\n",
    "    v:k for k, vs in mapping.items() for v in vs\n",
    "}"
   ]
  },
  {
   "cell_type": "code",
   "execution_count": 48,
   "id": "b9b39e1d",
   "metadata": {},
   "outputs": [
    {
     "name": "stderr",
     "output_type": "stream",
     "text": [
      "/diskmnt/Projects/Users/estorrs/miniconda3/envs/mushroom/lib/python3.9/site-packages/anndata/_core/anndata.py:1113: FutureWarning: is_categorical_dtype is deprecated and will be removed in a future version. Use isinstance(dtype, CategoricalDtype) instead\n",
      "  if not is_categorical_dtype(df_full[k]):\n"
     ]
    },
    {
     "data": {
      "text/plain": [
       "View of AnnData object with n_obs × n_vars = 45740 × 36601\n",
       "    obs: 'orig.ident', 'nCount_RNA', 'nFeature_RNA', 'percent.mito', 'nCount_SCT', 'nFeature_SCT', 'SCT_snn_res.0.5', 'seurat_clusters', 'cell_type_final', 'is_cell', 'excluded_reason', 'gex_raw_reads', 'gex_mapped_reads', 'gex_conf_intergenic_reads', 'gex_conf_exonic_reads', 'gex_conf_intronic_reads', 'gex_conf_exonic_unique_reads', 'gex_conf_exonic_antisense_reads', 'gex_conf_exonic_dup_reads', 'gex_exonic_umis', 'gex_conf_intronic_unique_reads', 'gex_conf_intronic_antisense_reads', 'gex_conf_intronic_dup_reads', 'gex_intronic_umis', 'gex_conf_txomic_unique_reads', 'gex_umis_count', 'gex_genes_count', 'atac_raw_reads', 'atac_unmapped_reads', 'atac_lowmapq', 'atac_dup_reads', 'atac_chimeric_reads', 'atac_mitochondrial_reads', 'atac_fragments', 'atac_TSS_fragments', 'atac_peak_region_fragments', 'atac_peak_region_cutsites', 'percent.mt', 'nCount_ATAC', 'nFeature_ATAC', 'nCount_ATAC_MACS2', 'nFeature_ATAC_MACS2', 'pct_read_in_peaks_500MACS2', 'peak_region_fragments_500MACS2', 'nucleosome_signal', 'nucleosome_percentile', 'TSS.enrichment', 'TSS.percentile', 'high.tss', 'nucleosome_group', 'ATAC_qual', 'SCT.weight', 'ATAC_MACS2.weight', 'wsnn_res.0.8', 'SCT_snn_res.0.8', 'sample_id', 'renamed_cell_types'\n",
       "    var: 'features'"
      ]
     },
     "execution_count": 48,
     "metadata": {},
     "output_type": "execute_result"
    }
   ],
   "source": [
    "adata.obs['renamed_cell_types'] = [cell_type_map[c] for c in adata.obs['cell_type_final']]\n",
    "adata = adata[adata.obs['renamed_cell_types']!='Exclude']\n",
    "adata"
   ]
  },
  {
   "cell_type": "code",
   "execution_count": 60,
   "id": "5c7b1a8d",
   "metadata": {},
   "outputs": [
    {
     "name": "stdout",
     "output_type": "stream",
     "text": [
      "all\n"
     ]
    },
    {
     "name": "stderr",
     "output_type": "stream",
     "text": [
      "/diskmnt/Projects/Users/estorrs/miniconda3/envs/mushroom/lib/python3.9/site-packages/anndata/_core/anndata.py:1113: FutureWarning: is_categorical_dtype is deprecated and will be removed in a future version. Use isinstance(dtype, CategoricalDtype) instead\n",
      "  if not is_categorical_dtype(df_full[k]):\n"
     ]
    }
   ],
   "source": [
    "n = 2000\n",
    "\n",
    "for sid, samples in case_map.items():\n",
    "    print(sid, samples)\n",
    "    exp_df, sc_annot = get_sc_dfs(adata, n, 'renamed_cell_types', samples=samples)\n",
    "    print(exp_df.shape)\n",
    "    exp_df.to_csv(os.path.join(out_dir, f'{sid}_input_sc_exp.txt'), sep='\\t')\n",
    "    sc_annot.to_csv(os.path.join(out_dir, f'{sid}_input_sc_annot.txt'), sep='\\t')\n",
    "\n",
    "print('all')\n",
    "exp_df, sc_annot = get_sc_dfs(adata, n, 'renamed_cell_types', samples=[v for vs in case_map.values() for v in vs])\n",
    "exp_df.to_csv(os.path.join(out_dir, f'all_input_sc_exp.txt'), sep='\\t')\n",
    "sc_annot.to_csv(os.path.join(out_dir, f'all_input_sc_annot.txt'), sep='\\t')\n",
    "\n",
    "\n"
   ]
  },
  {
   "cell_type": "code",
   "execution_count": null,
   "id": "4e17918c-29a6-47ec-8b22-58e2d936120f",
   "metadata": {},
   "outputs": [],
   "source": []
  },
  {
   "cell_type": "code",
   "execution_count": null,
   "id": "78fe41dc-e612-4e41-ac81-881047f09d5d",
   "metadata": {},
   "outputs": [],
   "source": []
  },
  {
   "cell_type": "code",
   "execution_count": null,
   "id": "da25ce7f",
   "metadata": {},
   "outputs": [],
   "source": []
  },
  {
   "cell_type": "code",
   "execution_count": null,
   "id": "8e21a320-8ec3-47cd-96ee-ae78701179da",
   "metadata": {},
   "outputs": [],
   "source": []
  },
  {
   "cell_type": "code",
   "execution_count": null,
   "id": "43924114-ae5b-41d1-92cf-f4729e029dad",
   "metadata": {},
   "outputs": [],
   "source": []
  },
  {
   "cell_type": "code",
   "execution_count": null,
   "id": "315ead5d-0a00-4039-85e1-2796ce11e103",
   "metadata": {},
   "outputs": [],
   "source": []
  },
  {
   "cell_type": "code",
   "execution_count": null,
   "id": "ec23c446-c1a2-4e94-9f45-a3b1e73537f3",
   "metadata": {},
   "outputs": [],
   "source": []
  }
 ],
 "metadata": {
  "kernelspec": {
   "display_name": "Python 3 (ipykernel)",
   "language": "python",
   "name": "python3"
  },
  "language_info": {
   "codemirror_mode": {
    "name": "ipython",
    "version": 3
   },
   "file_extension": ".py",
   "mimetype": "text/x-python",
   "name": "python",
   "nbconvert_exporter": "python",
   "pygments_lexer": "ipython3",
   "version": "3.9.18"
  }
 },
 "nbformat": 4,
 "nbformat_minor": 5
}
