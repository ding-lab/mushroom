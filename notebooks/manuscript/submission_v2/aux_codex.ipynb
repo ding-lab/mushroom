{
 "cells": [
  {
   "cell_type": "code",
   "execution_count": 1,
   "id": "49795b30-1d6c-4fae-b3dd-7f4000fe5075",
   "metadata": {},
   "outputs": [],
   "source": [
    "import os\n",
    "import re\n",
    "import pickle\n",
    "from pathlib import Path\n",
    "import yaml\n",
    "import json\n",
    "\n",
    "import numpy as np\n",
    "import matplotlib.pyplot as plt\n",
    "import scanpy as sc\n",
    "import pandas as pd\n",
    "import torch\n",
    "import tifffile\n",
    "from einops import rearrange, repeat"
   ]
  },
  {
   "cell_type": "code",
   "execution_count": 2,
   "id": "14a5f3f2-49cc-42ce-9fe0-0c4985070c00",
   "metadata": {},
   "outputs": [],
   "source": [
    "%load_ext autoreload"
   ]
  },
  {
   "cell_type": "code",
   "execution_count": 3,
   "id": "b04b6379-aaaa-4c22-99c8-1aa6c1ffa431",
   "metadata": {},
   "outputs": [],
   "source": [
    "%autoreload 2"
   ]
  },
  {
   "cell_type": "code",
   "execution_count": 4,
   "id": "eb1ceefe-5138-4306-b8ea-049e426c214c",
   "metadata": {},
   "outputs": [],
   "source": [
    "import mushroom.utils as utils"
   ]
  },
  {
   "cell_type": "code",
   "execution_count": 6,
   "id": "0234596c-67fb-4144-9b99-da1e15319416",
   "metadata": {},
   "outputs": [],
   "source": [
    "project_dir = Path('/data/estorrs/mushroom/data/projects/submission_v1')"
   ]
  },
  {
   "cell_type": "code",
   "execution_count": 7,
   "id": "54054cfc-0dbf-41ea-ba0d-84b6bc775c28",
   "metadata": {},
   "outputs": [],
   "source": [
    "# source_root = '/diskmnt/Projects/Users/estorrs/mushroom/data'\n",
    "# target_root = '/data/estorrs/mushroom/data'\n",
    "\n",
    "# def alter_filesystem(config, source_root, target_root):\n",
    "#     for entry in config['sections']:\n",
    "#         for mapping in entry['data']:\n",
    "#             mapping['filepath'] = mapping['filepath'].replace(source_root, target_root)\n",
    "    \n",
    "#     if 'trainer_kwargs' in config and config['trainer_kwargs']['data_mask'] is not None:\n",
    "#         config['trainer_kwargs']['data_mask'] = config['trainer_kwargs']['data_mask'].replace(source_root, target_root)\n",
    "        \n",
    "#     return config"
   ]
  },
  {
   "cell_type": "code",
   "execution_count": 8,
   "id": "48f9ae9d-360f-491c-97e1-382d89f38207",
   "metadata": {},
   "outputs": [],
   "source": [
    "case_order = [\n",
    "    'HT206B1',\n",
    "    'HT268B1',\n",
    "    'HT339B2-H1',\n",
    "    'HT397B1',\n",
    "    'HT565B1-H2',\n",
    "    'HT704B1',\n",
    "    'HT891Z1',\n",
    "    'HT913Z1',\n",
    "    'S18-5591-C8',\n",
    "    'S18-9906',\n",
    "]"
   ]
  },
  {
   "cell_type": "code",
   "execution_count": null,
   "id": "6d7a1573-cb55-4ff6-b30a-d6b34425144a",
   "metadata": {},
   "outputs": [],
   "source": [
    "'/da"
   ]
  },
  {
   "cell_type": "code",
   "execution_count": null,
   "id": "3aee7384-98d4-4679-8846-f3c39090eefe",
   "metadata": {},
   "outputs": [],
   "source": []
  },
  {
   "cell_type": "code",
   "execution_count": null,
   "id": "16289cb7-39e8-45db-8010-0d229133806d",
   "metadata": {},
   "outputs": [],
   "source": []
  },
  {
   "cell_type": "code",
   "execution_count": null,
   "id": "ae0cebf3-d429-4348-8bc9-2e02a32325b8",
   "metadata": {},
   "outputs": [],
   "source": []
  },
  {
   "cell_type": "code",
   "execution_count": null,
   "id": "3093c59e-dc7c-4853-a778-6c701a01d811",
   "metadata": {},
   "outputs": [],
   "source": []
  },
  {
   "cell_type": "code",
   "execution_count": null,
   "id": "aaf0d0e7-59fc-4f85-bc47-35bc9b02ec6b",
   "metadata": {},
   "outputs": [],
   "source": []
  },
  {
   "cell_type": "code",
   "execution_count": null,
   "id": "c64ecc3d-908a-415e-9f26-462527620db9",
   "metadata": {},
   "outputs": [],
   "source": []
  },
  {
   "cell_type": "code",
   "execution_count": null,
   "id": "d13f240b-ef51-4899-9208-7c22d82f82c4",
   "metadata": {},
   "outputs": [],
   "source": []
  }
 ],
 "metadata": {
  "kernelspec": {
   "display_name": "Python 3 (ipykernel)",
   "language": "python",
   "name": "python3"
  },
  "language_info": {
   "codemirror_mode": {
    "name": "ipython",
    "version": 3
   },
   "file_extension": ".py",
   "mimetype": "text/x-python",
   "name": "python",
   "nbconvert_exporter": "python",
   "pygments_lexer": "ipython3",
   "version": "3.10.15"
  }
 },
 "nbformat": 4,
 "nbformat_minor": 5
}
