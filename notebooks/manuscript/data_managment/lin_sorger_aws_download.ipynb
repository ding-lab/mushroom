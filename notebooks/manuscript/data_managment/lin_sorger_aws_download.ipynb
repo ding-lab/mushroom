{
 "cells": [
  {
   "cell_type": "code",
   "execution_count": 1,
   "id": "1379ba9f",
   "metadata": {},
   "outputs": [],
   "source": [
    "# !pip install boto3"
   ]
  },
  {
   "cell_type": "code",
   "execution_count": 1,
   "id": "f0cf42b0",
   "metadata": {},
   "outputs": [],
   "source": [
    "import os\n",
    "import re\n",
    "from pathlib import Path\n",
    "\n",
    "import pandas as pd\n",
    "import numpy as np"
   ]
  },
  {
   "cell_type": "code",
   "execution_count": 2,
   "id": "ec52bee0",
   "metadata": {},
   "outputs": [],
   "source": [
    "import boto3"
   ]
  },
  {
   "cell_type": "code",
   "execution_count": 16,
   "id": "b99b88aa",
   "metadata": {},
   "outputs": [],
   "source": [
    "output_dir = '/diskmnt/Projects/Users/estorrs/mushroom/data/public/lin_et_al'"
   ]
  },
  {
   "cell_type": "code",
   "execution_count": 5,
   "id": "dfd132b0",
   "metadata": {},
   "outputs": [],
   "source": [
    "name = 'lin-2021-crc-atlas'"
   ]
  },
  {
   "cell_type": "code",
   "execution_count": 10,
   "id": "a12cb838",
   "metadata": {},
   "outputs": [],
   "source": [
    "s3 = boto3.resource('s3',)\n",
    "bucket = s3.Bucket(name)"
   ]
  },
  {
   "cell_type": "code",
   "execution_count": 14,
   "id": "4c93d0eb",
   "metadata": {
    "scrolled": true
   },
   "outputs": [
    {
     "data": {
      "text/plain": [
       "(47,\n",
       " ['data/WD-76845-001.ome.tif',\n",
       "  'data/WD-76845-002.ome.tif',\n",
       "  'data/WD-76845-006.ome.tif',\n",
       "  'data/WD-76845-007.ome.tif',\n",
       "  'data/WD-76845-013.ome.tif',\n",
       "  'data/WD-76845-014.ome.tif',\n",
       "  'data/WD-76845-019.ome.tif',\n",
       "  'data/WD-76845-020.ome.tif',\n",
       "  'data/WD-76845-024.ome.tif',\n",
       "  'data/WD-76845-025.ome.tif',\n",
       "  'data/WD-76845-028.ome.tif',\n",
       "  'data/WD-76845-029.ome.tif',\n",
       "  'data/WD-76845-033.ome.tif',\n",
       "  'data/WD-76845-034.ome.tif',\n",
       "  'data/WD-76845-038.ome.tif',\n",
       "  'data/WD-76845-039.ome.tif',\n",
       "  'data/WD-76845-043.ome.tif',\n",
       "  'data/WD-76845-044.ome.tif',\n",
       "  'data/WD-76845-048.ome.tif',\n",
       "  'data/WD-76845-049.ome.tif',\n",
       "  'data/WD-76845-050.ome.tif',\n",
       "  'data/WD-76845-051.ome.tif',\n",
       "  'data/WD-76845-052.ome.tif',\n",
       "  'data/WD-76845-053.ome.tif',\n",
       "  'data/WD-76845-054.ome.tif',\n",
       "  'data/WD-76845-058.ome.tif',\n",
       "  'data/WD-76845-059.ome.tif',\n",
       "  'data/WD-76845-063.ome.tif',\n",
       "  'data/WD-76845-064.ome.tif',\n",
       "  'data/WD-76845-068.ome.tif',\n",
       "  'data/WD-76845-069.ome.tif',\n",
       "  'data/WD-76845-073.ome.tif',\n",
       "  'data/WD-76845-074.ome.tif',\n",
       "  'data/WD-76845-077.ome.tif',\n",
       "  'data/WD-76845-078.ome.tif',\n",
       "  'data/WD-76845-083.ome.tif',\n",
       "  'data/WD-76845-084.ome.tif',\n",
       "  'data/WD-76845-085.ome.tif',\n",
       "  'data/WD-76845-086.ome.tif',\n",
       "  'data/WD-76845-090.ome.tif',\n",
       "  'data/WD-76845-091.ome.tif',\n",
       "  'data/WD-76845-096.ome.tif',\n",
       "  'data/WD-76845-097.ome.tif',\n",
       "  'data/WD-76845-101.ome.tif',\n",
       "  'data/WD-76845-102.ome.tif',\n",
       "  'data/WD-76845-105.ome.tif',\n",
       "  'data/WD-76845-106.ome.tif'])"
      ]
     },
     "execution_count": 14,
     "metadata": {},
     "output_type": "execute_result"
    }
   ],
   "source": [
    "fps = []\n",
    "for obj in bucket.objects.all():\n",
    "    if re.findall(r'WD-76845.*ome.tif', obj.key):\n",
    "        fps.append(obj.key)\n",
    "len(fps), fps"
   ]
  },
  {
   "cell_type": "code",
   "execution_count": 30,
   "id": "023d97e1",
   "metadata": {
    "scrolled": true
   },
   "outputs": [
    {
     "name": "stdout",
     "output_type": "stream",
     "text": [
      "data/WD-76845-001.ome.tif\n",
      "data/WD-76845-002.ome.tif\n",
      "data/WD-76845-006.ome.tif\n",
      "data/WD-76845-007.ome.tif\n",
      "data/WD-76845-013.ome.tif\n",
      "data/WD-76845-014.ome.tif\n",
      "data/WD-76845-019.ome.tif\n",
      "data/WD-76845-020.ome.tif\n",
      "data/WD-76845-024.ome.tif\n",
      "data/WD-76845-025.ome.tif\n",
      "data/WD-76845-028.ome.tif\n",
      "data/WD-76845-029.ome.tif\n",
      "data/WD-76845-033.ome.tif\n",
      "data/WD-76845-034.ome.tif\n",
      "data/WD-76845-038.ome.tif\n",
      "data/WD-76845-039.ome.tif\n",
      "data/WD-76845-043.ome.tif\n",
      "data/WD-76845-044.ome.tif\n",
      "data/WD-76845-048.ome.tif\n",
      "data/WD-76845-049.ome.tif\n",
      "data/WD-76845-050.ome.tif\n",
      "data/WD-76845-051.ome.tif\n",
      "data/WD-76845-052.ome.tif\n",
      "data/WD-76845-053.ome.tif\n",
      "data/WD-76845-054.ome.tif\n",
      "data/WD-76845-058.ome.tif\n",
      "data/WD-76845-059.ome.tif\n",
      "data/WD-76845-063.ome.tif\n",
      "data/WD-76845-064.ome.tif\n",
      "data/WD-76845-068.ome.tif\n",
      "data/WD-76845-069.ome.tif\n",
      "data/WD-76845-073.ome.tif\n",
      "data/WD-76845-074.ome.tif\n",
      "data/WD-76845-077.ome.tif\n",
      "data/WD-76845-078.ome.tif\n",
      "data/WD-76845-083.ome.tif\n",
      "data/WD-76845-084.ome.tif\n",
      "data/WD-76845-085.ome.tif\n",
      "data/WD-76845-086.ome.tif\n",
      "data/WD-76845-090.ome.tif\n",
      "data/WD-76845-091.ome.tif\n",
      "data/WD-76845-096.ome.tif\n",
      "data/WD-76845-097.ome.tif\n",
      "data/WD-76845-101.ome.tif\n",
      "data/WD-76845-102.ome.tif\n",
      "data/WD-76845-105.ome.tif\n",
      "data/WD-76845-106.ome.tif\n"
     ]
    }
   ],
   "source": [
    "from botocore import UNSIGNED\n",
    "from botocore.config import Config\n",
    "s3 = boto3.client('s3', config=Config(signature_version=UNSIGNED)) # just confirming that its anonymous in case bucket is requester pays\n",
    "for obj_name in fps:\n",
    "    print(obj_name)\n",
    "    root = obj_name.replace('data/', '')\n",
    "    with open(os.path.join(output_dir, root), 'wb') as f:\n",
    "        s3.download_fileobj(name, obj_name, f)"
   ]
  },
  {
   "cell_type": "code",
   "execution_count": 31,
   "id": "f0d5b951",
   "metadata": {
    "scrolled": true
   },
   "outputs": [
    {
     "data": {
      "text/plain": [
       "(47,\n",
       " ['metadata/WD-76845-001-metadata.csv',\n",
       "  'metadata/WD-76845-002-metadata.csv',\n",
       "  'metadata/WD-76845-006-metadata.csv',\n",
       "  'metadata/WD-76845-007-metadata.csv',\n",
       "  'metadata/WD-76845-013-metadata.csv',\n",
       "  'metadata/WD-76845-014-metadata.csv',\n",
       "  'metadata/WD-76845-019-metadata.csv',\n",
       "  'metadata/WD-76845-020-metadata.csv',\n",
       "  'metadata/WD-76845-024-metadata.csv',\n",
       "  'metadata/WD-76845-025-metadata.csv',\n",
       "  'metadata/WD-76845-028-metadata.csv',\n",
       "  'metadata/WD-76845-029-metadata.csv',\n",
       "  'metadata/WD-76845-033-metadata.csv',\n",
       "  'metadata/WD-76845-034-metadata.csv',\n",
       "  'metadata/WD-76845-038-metadata.csv',\n",
       "  'metadata/WD-76845-039-metadata.csv',\n",
       "  'metadata/WD-76845-043-metadata.csv',\n",
       "  'metadata/WD-76845-044-metadata.csv',\n",
       "  'metadata/WD-76845-048-metadata.csv',\n",
       "  'metadata/WD-76845-049-metadata.csv',\n",
       "  'metadata/WD-76845-050-metadata.csv',\n",
       "  'metadata/WD-76845-051-metadata.csv',\n",
       "  'metadata/WD-76845-052-metadata.csv',\n",
       "  'metadata/WD-76845-053-metadata.csv',\n",
       "  'metadata/WD-76845-054-metadata.csv',\n",
       "  'metadata/WD-76845-058-metadata.csv',\n",
       "  'metadata/WD-76845-059-metadata.csv',\n",
       "  'metadata/WD-76845-063-metadata.csv',\n",
       "  'metadata/WD-76845-064-metadata.csv',\n",
       "  'metadata/WD-76845-068-metadata.csv',\n",
       "  'metadata/WD-76845-069-metadata.csv',\n",
       "  'metadata/WD-76845-073-metadata.csv',\n",
       "  'metadata/WD-76845-074-metadata.csv',\n",
       "  'metadata/WD-76845-077-metadata.csv',\n",
       "  'metadata/WD-76845-078-metadata.csv',\n",
       "  'metadata/WD-76845-083-metadata.csv',\n",
       "  'metadata/WD-76845-084-metadata.csv',\n",
       "  'metadata/WD-76845-085-metadata.csv',\n",
       "  'metadata/WD-76845-086-metadata.csv',\n",
       "  'metadata/WD-76845-090-metadata.csv',\n",
       "  'metadata/WD-76845-091-metadata.csv',\n",
       "  'metadata/WD-76845-096-metadata.csv',\n",
       "  'metadata/WD-76845-097-metadata.csv',\n",
       "  'metadata/WD-76845-101-metadata.csv',\n",
       "  'metadata/WD-76845-102-metadata.csv',\n",
       "  'metadata/WD-76845-105-metadata.csv',\n",
       "  'metadata/WD-76845-106-metadata.csv'])"
      ]
     },
     "execution_count": 31,
     "metadata": {},
     "output_type": "execute_result"
    }
   ],
   "source": [
    "fps = []\n",
    "for obj in bucket.objects.all():\n",
    "    if re.findall(r'WD-76845.*meta', obj.key):\n",
    "        fps.append(obj.key)\n",
    "len(fps), fps"
   ]
  },
  {
   "cell_type": "code",
   "execution_count": 32,
   "id": "87da179f",
   "metadata": {
    "scrolled": true
   },
   "outputs": [
    {
     "name": "stdout",
     "output_type": "stream",
     "text": [
      "metadata/WD-76845-001-metadata.csv\n",
      "metadata/WD-76845-002-metadata.csv\n",
      "metadata/WD-76845-006-metadata.csv\n",
      "metadata/WD-76845-007-metadata.csv\n",
      "metadata/WD-76845-013-metadata.csv\n",
      "metadata/WD-76845-014-metadata.csv\n",
      "metadata/WD-76845-019-metadata.csv\n",
      "metadata/WD-76845-020-metadata.csv\n",
      "metadata/WD-76845-024-metadata.csv\n",
      "metadata/WD-76845-025-metadata.csv\n",
      "metadata/WD-76845-028-metadata.csv\n",
      "metadata/WD-76845-029-metadata.csv\n",
      "metadata/WD-76845-033-metadata.csv\n",
      "metadata/WD-76845-034-metadata.csv\n",
      "metadata/WD-76845-038-metadata.csv\n",
      "metadata/WD-76845-039-metadata.csv\n",
      "metadata/WD-76845-043-metadata.csv\n",
      "metadata/WD-76845-044-metadata.csv\n",
      "metadata/WD-76845-048-metadata.csv\n",
      "metadata/WD-76845-049-metadata.csv\n",
      "metadata/WD-76845-050-metadata.csv\n",
      "metadata/WD-76845-051-metadata.csv\n",
      "metadata/WD-76845-052-metadata.csv\n",
      "metadata/WD-76845-053-metadata.csv\n",
      "metadata/WD-76845-054-metadata.csv\n",
      "metadata/WD-76845-058-metadata.csv\n",
      "metadata/WD-76845-059-metadata.csv\n",
      "metadata/WD-76845-063-metadata.csv\n",
      "metadata/WD-76845-064-metadata.csv\n",
      "metadata/WD-76845-068-metadata.csv\n",
      "metadata/WD-76845-069-metadata.csv\n",
      "metadata/WD-76845-073-metadata.csv\n",
      "metadata/WD-76845-074-metadata.csv\n",
      "metadata/WD-76845-077-metadata.csv\n",
      "metadata/WD-76845-078-metadata.csv\n",
      "metadata/WD-76845-083-metadata.csv\n",
      "metadata/WD-76845-084-metadata.csv\n",
      "metadata/WD-76845-085-metadata.csv\n",
      "metadata/WD-76845-086-metadata.csv\n",
      "metadata/WD-76845-090-metadata.csv\n",
      "metadata/WD-76845-091-metadata.csv\n",
      "metadata/WD-76845-096-metadata.csv\n",
      "metadata/WD-76845-097-metadata.csv\n",
      "metadata/WD-76845-101-metadata.csv\n",
      "metadata/WD-76845-102-metadata.csv\n",
      "metadata/WD-76845-105-metadata.csv\n",
      "metadata/WD-76845-106-metadata.csv\n"
     ]
    }
   ],
   "source": [
    "from botocore import UNSIGNED\n",
    "from botocore.config import Config\n",
    "s3 = boto3.client('s3', config=Config(signature_version=UNSIGNED)) # just confirming that its anonymous in case bucket is requester pays\n",
    "for obj_name in fps:\n",
    "    print(obj_name)\n",
    "    root = obj_name.replace('metadata/', '')\n",
    "    with open(os.path.join(output_dir, root), 'wb') as f:\n",
    "        s3.download_fileobj(name, obj_name, f)"
   ]
  },
  {
   "cell_type": "code",
   "execution_count": null,
   "id": "1bae11e8",
   "metadata": {},
   "outputs": [],
   "source": []
  }
 ],
 "metadata": {
  "kernelspec": {
   "display_name": "Python 3 (ipykernel)",
   "language": "python",
   "name": "python3"
  },
  "language_info": {
   "codemirror_mode": {
    "name": "ipython",
    "version": 3
   },
   "file_extension": ".py",
   "mimetype": "text/x-python",
   "name": "python",
   "nbconvert_exporter": "python",
   "pygments_lexer": "ipython3",
   "version": "3.9.18"
  }
 },
 "nbformat": 4,
 "nbformat_minor": 5
}
