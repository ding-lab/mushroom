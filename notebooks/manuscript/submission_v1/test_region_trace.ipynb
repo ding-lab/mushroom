{
 "cells": [
  {
   "cell_type": "code",
   "execution_count": null,
   "id": "d00d4da3",
   "metadata": {},
   "outputs": [],
   "source": [
    "import pickle\n",
    "import json\n",
    "import os\n",
    "import re\n",
    "import sys\n",
    "from copy import deepcopy\n",
    "from pathlib import Path\n",
    "\n",
    "import matplotlib.pyplot as plt\n",
    "import numpy as np\n",
    "import pandas as pd\n",
    "import skimage\n",
    "import tifffile\n",
    "import yaml\n",
    "from matplotlib.collections import PolyCollection\n",
    "from einops import rearrange, repeat"
   ]
  },
  {
   "cell_type": "code",
   "execution_count": null,
   "id": "524ac119",
   "metadata": {},
   "outputs": [],
   "source": [
    "import matplotlib as mpl\n",
    "mpl.rcParams['pdf.fonttype'] = 42"
   ]
  },
  {
   "cell_type": "code",
   "execution_count": null,
   "id": "7e4ab32f",
   "metadata": {},
   "outputs": [],
   "source": [
    "%load_ext autoreload"
   ]
  },
  {
   "cell_type": "code",
   "execution_count": null,
   "id": "70fa2851",
   "metadata": {},
   "outputs": [],
   "source": [
    "%autoreload 2"
   ]
  },
  {
   "cell_type": "code",
   "execution_count": null,
   "id": "ad713538",
   "metadata": {},
   "outputs": [],
   "source": [
    "from mushroom.mushroom import Mushroom, DEFAULT_CONFIG\n",
    "import mushroom.utils as utils\n",
    "import mushroom.visualization.utils as vis_utils\n",
    "import mushroom.data.multiplex as multiplex\n",
    "import mushroom.data.visium as visium\n",
    "import mushroom.data.xenium as xenium\n",
    "import mushroom.data.cosmx as cosmx\n",
    "import mushroom.visualization.tiling_utils as tiling_utils"
   ]
  },
  {
   "cell_type": "code",
   "execution_count": null,
   "id": "29ec9025",
   "metadata": {},
   "outputs": [],
   "source": [
    "source_root = '/diskmnt/Projects/Users/estorrs/mushroom/data'\n",
    "target_root = '/data/estorrs/mushroom/data'"
   ]
  },
  {
   "cell_type": "code",
   "execution_count": null,
   "id": "9c548776",
   "metadata": {},
   "outputs": [],
   "source": [
    "run_dir = '/data/estorrs/mushroom/data/projects/submission_v1'"
   ]
  },
  {
   "cell_type": "code",
   "execution_count": null,
   "id": "8295d20e",
   "metadata": {},
   "outputs": [],
   "source": [
    "def alter_filesystem(config, source_root, target_root):\n",
    "    for entry in config['sections']:\n",
    "        for mapping in entry['data']:\n",
    "            mapping['filepath'] = mapping['filepath'].replace(source_root, target_root)\n",
    "        \n",
    "    return config"
   ]
  },
  {
   "cell_type": "code",
   "execution_count": null,
   "id": "053cddb9",
   "metadata": {},
   "outputs": [],
   "source": [
    "# case = 'HT913Z1'\n",
    "case = 'HT891Z1'\n",
    "# case = 'HT704B1'\n",
    "# case = 'HT206B1'\n",
    "# case = 'HT397B1'\n",
    "# case = 'HT413C1-Th1k4A1'"
   ]
  },
  {
   "cell_type": "code",
   "execution_count": null,
   "id": "f13fb183",
   "metadata": {},
   "outputs": [],
   "source": [
    "project_dir = Path(f'/data/estorrs/mushroom/data/projects/submission_v1/{case}')"
   ]
  },
  {
   "cell_type": "code",
   "execution_count": null,
   "id": "cc77a842",
   "metadata": {
    "scrolled": true
   },
   "outputs": [],
   "source": [
    "config = yaml.safe_load(open(os.path.join(project_dir, 'registered', 'metadata.yaml')))\n",
    "config = alter_filesystem(config, source_root, target_root)\n",
    "config"
   ]
  },
  {
   "cell_type": "code",
   "execution_count": null,
   "id": "b2ff3dc2",
   "metadata": {},
   "outputs": [],
   "source": [
    "multiplex_view_settings = [\n",
    "    {\n",
    "        'channel': 'E-Cadherin',\n",
    "        'color': 'red',\n",
    "        'min_value': 15,\n",
    "        'max_value': 100,\n",
    "        'gamma': 1.\n",
    "    },\n",
    "#     {\n",
    "#         'channel': 'Pan-Cytokeratin',\n",
    "#         'color': 'red',\n",
    "#         'min_value': 15,\n",
    "#         'max_value': 100,\n",
    "#         'gamma': 1.\n",
    "#     },\n",
    "    {\n",
    "        'channel': 'HLA-DR',\n",
    "        'color': 'magenta',\n",
    "        'min_value': 15,\n",
    "        'max_value': 255,\n",
    "        'gamma': 1.\n",
    "    },\n",
    "    {\n",
    "        'channel': 'CK5',\n",
    "        'color': 'white',\n",
    "        'min_value': 15,\n",
    "        'max_value': 255,\n",
    "        'gamma': 1.\n",
    "    },\n",
    "#     {\n",
    "#         'channel': 'Keratin 14',\n",
    "#         'color': 'white',\n",
    "#         'min_value': 10,\n",
    "#         'max_value': 30,\n",
    "#         'gamma': 1.\n",
    "#     },\n",
    "#     {\n",
    "#         'channel': 'SMA (D)',\n",
    "#         'color': 'white',\n",
    "#         'min_value': 15,\n",
    "#         'max_value': 255,\n",
    "#         'gamma': 1.\n",
    "#     },\n",
    "    {\n",
    "        'channel': 'CD3e',\n",
    "        'color': 'green',\n",
    "        'min_value': 20,\n",
    "        'max_value': 75,\n",
    "        'gamma': 1.\n",
    "    },\n",
    "#     {\n",
    "#         'channel': 'CD45 (D)',\n",
    "#         'color': 'green',\n",
    "#         'min_value': 10,\n",
    "#         'max_value': 20,\n",
    "#         'gamma': 1.\n",
    "#     },\n",
    "    {\n",
    "        'channel': 'CD68',\n",
    "        'color': 'cyan',\n",
    "        'min_value': 15,\n",
    "        'max_value': 255,\n",
    "        'gamma': 1.\n",
    "    },\n",
    "]\n",
    "\n",
    "def get_multiplex_pseudo(fp, view_settings):\n",
    "    channels = [x['channel'] for x in view_settings]\n",
    "    colors = [x['color'] for x in view_settings]\n",
    "    min_values = [x['min_value'] for x in view_settings]\n",
    "    max_values = [x['max_value'] for x in view_settings]\n",
    "    gammas = [x['gamma'] for x in view_settings]\n",
    "    \n",
    "    channel_to_img = multiplex.extract_ome_tiff(fp, as_dict=True)\n",
    "    data = np.stack([channel_to_img[x] for x in channels])\n",
    "    \n",
    "    rgb = multiplex.to_pseudocolor(\n",
    "        data,\n",
    "        colors=colors,\n",
    "        min_values=min_values,\n",
    "        max_values=max_values,\n",
    "        gammas=gammas\n",
    "    )\n",
    "    \n",
    "    rgb *= 255.\n",
    "    rgb = rgb.astype(np.uint8)\n",
    "    \n",
    "    return rgb"
   ]
  },
  {
   "cell_type": "code",
   "execution_count": null,
   "id": "821892b8",
   "metadata": {},
   "outputs": [],
   "source": [
    "xenium_view_settings = [\n",
    "    {\n",
    "        'channel': 'EPCAM',\n",
    "        'color': 'red',\n",
    "        'min_value': 0,\n",
    "        'max_value': 20,\n",
    "        'gamma': 1.\n",
    "    },\n",
    "#     {\n",
    "#         'channel': 'HLA-DQB2',\n",
    "#         'color': 'magenta',\n",
    "#         'min_value': 0,\n",
    "#         'max_value': 50,\n",
    "#         'gamma': 1.\n",
    "#     },\n",
    "    {\n",
    "        'channel': 'TP63',\n",
    "        'color': 'white',\n",
    "        'min_value': 0,\n",
    "        'max_value': 20,\n",
    "        'gamma': 1.\n",
    "    },\n",
    "    {\n",
    "        'channel': 'KRT5',\n",
    "        'color': 'white',\n",
    "        'min_value': 0,\n",
    "        'max_value': 20,\n",
    "        'gamma': 1.\n",
    "    },\n",
    "#     {\n",
    "#         'channel': 'ACTA2',\n",
    "#         'color': 'white',\n",
    "#         'min_value': 0,\n",
    "#         'max_value': 20,\n",
    "#         'gamma': 1.\n",
    "#     },\n",
    "    {\n",
    "        'channel': 'CP',\n",
    "        'color': 'cyan',\n",
    "        'min_value': 0,\n",
    "        'max_value': 30,\n",
    "        'gamma': 1.\n",
    "    },\n",
    "    {\n",
    "        'channel': 'CD3E',\n",
    "        'color': 'green',\n",
    "        'min_value': 0,\n",
    "        'max_value': 30,\n",
    "        'gamma': 1.\n",
    "    },\n",
    "    {\n",
    "        'channel': 'CD68',\n",
    "        'color': 'magenta',\n",
    "        'min_value': 0,\n",
    "        'max_value': 30,\n",
    "        'gamma': 1.\n",
    "    },\n",
    "]\n",
    "\n",
    "def tile_xenium(adata, target_size=None, tile_size=20):\n",
    "    if target_size is None:\n",
    "        target_size = xenium.get_fullres_size(adata)\n",
    "    \n",
    "    adata.obs['grid_name'] = [f'{x // tile_size}_{y // tile_size}' for x, y in adata.obsm['spatial']]\n",
    "    df = pd.DataFrame(data=adata.X, columns=adata.var.index.to_list(), index=adata.obs.index.to_list())\n",
    "    df['grid_name'] = adata.obs['grid_name'].to_list()\n",
    "    df = df.groupby('grid_name').sum()\n",
    "    \n",
    "    img = np.zeros((target_size[0] // tile_size + 1, target_size[1] // tile_size + 1, df.shape[1]))\n",
    "    for name, row in df.iterrows():\n",
    "        x, y = [int(x) for x in name.split('_')]\n",
    "        img[y, x] = row.values\n",
    "    return img\n",
    "    \n",
    "\n",
    "def get_xenium_pseudo(fp, view_settings, tile_size=20, target_size=None):\n",
    "    channels = [x['channel'] for x in view_settings]\n",
    "    colors = [x['color'] for x in view_settings]\n",
    "    min_values = [x['min_value'] for x in view_settings]\n",
    "    max_values = [x['max_value'] for x in view_settings]\n",
    "    gammas = [x['gamma'] for x in view_settings]\n",
    "    \n",
    "    adata = xenium.adata_from_xenium(fp)\n",
    "    if target_size is None:\n",
    "        target_size = xenium.get_fullres_size(adata)\n",
    "    \n",
    "    img = tile_xenium(adata, tile_size=tile_size)\n",
    "    \n",
    "    both = set(channels).intersection(set(adata.var.index.to_list()))\n",
    "    missing = set(channels) - both\n",
    "    print('missing', missing)\n",
    "    data = np.zeros((img.shape[0], img.shape[1], len(channels)), dtype=img.dtype)\n",
    "    for channel in both:\n",
    "        idx = channels.index(channel)\n",
    "        data[..., channels.index(channel)] = img[..., adata.var.index.to_list().index(channel)]\n",
    "    for channel in missing:\n",
    "        idx = channels.index(channel)\n",
    "        data[..., channels.index(channel)] = np.zeros_like(img[..., 0])\n",
    "        data[0, 0, idx] = 1.\n",
    "        \n",
    "    \n",
    "    data -= data.min((0, 1))\n",
    "    data /= data.max((0, 1))\n",
    "    data *= 255.\n",
    "    data = data.astype(np.uint8)\n",
    "    data = rearrange(data, 'h w c -> c h w')\n",
    "    \n",
    "    rgb = multiplex.to_pseudocolor(\n",
    "        data,\n",
    "        colors=colors,\n",
    "        min_values=min_values,\n",
    "        max_values=max_values,\n",
    "        gammas=gammas\n",
    "    )\n",
    "    rgb = utils.rescale(rgb, size=target_size, dim_order='h w c', target_dtype=rgb.dtype)\n",
    "    \n",
    "    rgb *= 255.\n",
    "    rgb = rgb.astype(np.uint8)\n",
    "#     plt.imshow(rgb[4000:4500, 4000:4500])\n",
    "#     plt.show()\n",
    "    \n",
    "    return rgb"
   ]
  },
  {
   "cell_type": "code",
   "execution_count": null,
   "id": "d886b6e0",
   "metadata": {},
   "outputs": [],
   "source": [
    "target_size = xenium.get_fullres_size(xenium.adata_from_xenium(config['sections'][0]['data'][0]['filepath']))\n",
    "# target_size = tifffile.imread(config['sections'][1]['data'][0]['filepath']).shape[1:]\n",
    "# target_size = [int(x * .5) for x in target_size]\n",
    "target_size"
   ]
  },
  {
   "cell_type": "code",
   "execution_count": null,
   "id": "5393f7d7",
   "metadata": {},
   "outputs": [],
   "source": []
  },
  {
   "cell_type": "code",
   "execution_count": null,
   "id": "171736e2",
   "metadata": {},
   "outputs": [],
   "source": [
    "imaris_dir = project_dir / 'imaris' / 'rois'\n",
    "imaris_dir.mkdir(parents=True, exist_ok=True)"
   ]
  },
  {
   "cell_type": "code",
   "execution_count": null,
   "id": "957713b0",
   "metadata": {},
   "outputs": [],
   "source": [
    "r1, r2, c1, c2 = 1300, 2100, 2500, 3500\n",
    "rgbs = []\n",
    "for i, section in enumerate(config['sections']):\n",
    "    print(i, section['sid'])\n",
    "    sid = section['sid']\n",
    "    for entry in section['data']:\n",
    "        dtype = entry['dtype']\n",
    "        fp = entry['filepath']\n",
    "        position = section['position']\n",
    "\n",
    "        if dtype in ['he', 'batch2_he']: \n",
    "            rgb = tifffile.imread(fp)\n",
    "        elif dtype == 'xenium':\n",
    "            rgb = get_xenium_pseudo(\n",
    "                fp,\n",
    "                xenium_view_settings,\n",
    "                tile_size=10,\n",
    "                target_size=target_size,\n",
    "            )\n",
    "        elif dtype == 'multiplex':\n",
    "            rgb = get_multiplex_pseudo(\n",
    "                fp,\n",
    "                multiplex_view_settings\n",
    "            )\n",
    "        else:\n",
    "            rgb = None\n",
    "\n",
    "\n",
    "        if rgb is not None:\n",
    "            if rgb.shape[:2] != target_size:\n",
    "                rgb = utils.rescale(rgb, size=target_size, dim_order='h w c', target_dtype=rgb.dtype)\n",
    "            rgbs.append(rgb[r1:r2, c1:c2])\n"
   ]
  },
  {
   "cell_type": "code",
   "execution_count": null,
   "id": "2bf88763",
   "metadata": {},
   "outputs": [],
   "source": [
    "stacked = np.stack(rgbs)\n",
    "stacked.shape"
   ]
  },
  {
   "cell_type": "code",
   "execution_count": null,
   "id": "cdb794aa",
   "metadata": {},
   "outputs": [],
   "source": [
    "multiplex.write_basic_ome_tiff(\n",
    "    imaris_dir / 'roi1.ome.tif',\n",
    "    rearrange(stacked, 'z h w c -> 1 z c h w'),\n",
    "    ['red', 'green', 'blue'],\n",
    "    1.\n",
    ")"
   ]
  },
  {
   "cell_type": "code",
   "execution_count": null,
   "id": "91279dfa",
   "metadata": {},
   "outputs": [],
   "source": [
    "sid_to_rgb = {entry['sid']:x for entry, x in zip(config['sections'], stacked)}"
   ]
  },
  {
   "cell_type": "code",
   "execution_count": null,
   "id": "41c1a1ae",
   "metadata": {},
   "outputs": [],
   "source": [
    "def load_regions(regions_fp):\n",
    "    regions = json.load(open(regions_fp))['features'] \n",
    "    regions = [{'id': x['id'], 'z': x['geometry']['plane']['z'] if 'plane' in x['geometry'] else 0, 'coordinates': np.asarray(x['geometry']['coordinates'])}\n",
    "               for x in regions]\n",
    "    regions = [x for x in regions if len(x['coordinates'].shape) == 3]\n",
    "    for x in regions:\n",
    "        x['coordinates'] = x['coordinates'][0][:, [1, 0]]\n",
    "        x['mask'] = skimage.draw.polygon2mask(stacked.shape[1:3], x['coordinates'])\n",
    "\n",
    "    return regions"
   ]
  },
  {
   "cell_type": "code",
   "execution_count": null,
   "id": "8ab8e7f0",
   "metadata": {},
   "outputs": [],
   "source": [
    "regions_fp = imaris_dir / 'roi1.geojson'\n",
    "regions = load_regions(regions_fp)\n",
    "\n",
    "len(regions), regions[0].keys()"
   ]
  },
  {
   "cell_type": "code",
   "execution_count": null,
   "id": "439775c5",
   "metadata": {},
   "outputs": [],
   "source": [
    "for region in regions:\n",
    "    print(region['id'] + '\\t' + str(region['z']))"
   ]
  },
  {
   "cell_type": "code",
   "execution_count": null,
   "id": "703a76f1",
   "metadata": {},
   "outputs": [],
   "source": [
    "dtype_to_channels = {\n",
    "    'xenium': [],\n",
    "    'multiplex': []\n",
    "}\n",
    "for dtype in dtype_to_channels.keys():\n",
    "    fps = [entry['data'][0]['filepath'] for entry in config['sections'] if entry['data'][0]['dtype']==dtype]\n",
    "    if 'multiplex' in dtype:\n",
    "        dtype_to_channels[dtype] = multiplex.get_common_channels(fps)\n",
    "    else:\n",
    "        dtype_to_channels[dtype] = xenium.get_common_channels(fps)\n",
    "dtype_to_channels"
   ]
  },
  {
   "cell_type": "code",
   "execution_count": null,
   "id": "55e9535a",
   "metadata": {},
   "outputs": [],
   "source": [
    "fullres_size = xenium.get_fullres_size(xenium.adata_from_xenium(config['sections'][0]['data'][0]['filepath']))\n",
    "tiling_size = 10\n",
    "size = [x // tiling_size for x in fullres_size]\n",
    "size"
   ]
  },
  {
   "cell_type": "code",
   "execution_count": null,
   "id": "92341bd5",
   "metadata": {},
   "outputs": [],
   "source": [
    "dtype_to_tiled = {}\n",
    "for dtype, channels in dtype_to_channels.items():\n",
    "    dtype_to_tiled[dtype] = tiling_utils.get_tiled_sections(\n",
    "        config, dtype=dtype, channel_names=channels,\n",
    "        tiling_size=tiling_size, target_size=size\n",
    "    )\n",
    "for dtype, tiled in dtype_to_tiled.items():\n",
    "    print(dtype, tiled.shape)"
   ]
  },
  {
   "cell_type": "code",
   "execution_count": null,
   "id": "046ba66a",
   "metadata": {},
   "outputs": [],
   "source": [
    "sid_to_tiled, sid_to_dtype = {}, {}\n",
    "for dtype in dtype_to_channels.keys():\n",
    "    tiled = dtype_to_tiled[dtype]\n",
    "    sids = [entry['sid'] for entry in config['sections'] if entry['data'][0]['dtype']==dtype]\n",
    "    for sid, t in zip(sids, tiled):\n",
    "        sid_to_tiled[sid] = t\n",
    "        sid_to_dtype[sid] = dtype\n",
    "sid_to_tiled.keys()"
   ]
  },
  {
   "cell_type": "code",
   "execution_count": null,
   "id": "a705a06d",
   "metadata": {},
   "outputs": [],
   "source": [
    "dtype_to_epi = {\n",
    "    'xenium': ('EPCAM', 1.),\n",
    "    'multiplex': ('Pan-Cytokeratin', 10.),\n",
    "}\n",
    "\n",
    "local_r1, local_r2, local_c1, local_c2 = [x // tiling_resolution for x in [r1, r2, c1, c2]]\n",
    "for region in regions:\n",
    "    sid = config['sections'][region['z']]['sid']\n",
    "    \n",
    "    if sid in sid_to_tiled:\n",
    "        tiled = sid_to_tiled[sid]\n",
    "        dtype = sid_to_dtype[sid]\n",
    "        channels = dtype_to_channels[dtype]\n",
    "\n",
    "        coords = region['coordinates'] + np.asarray([r1, c1])\n",
    "        coords //= tiling_resolution\n",
    "        mask = skimage.draw.polygon2mask(tiled.shape[-2:], coords)\n",
    "\n",
    "        outer = mask.copy()\n",
    "        for i in range(1):\n",
    "            outer = skimage.morphology.binary_dilation(outer)\n",
    "        inner = mask.copy()\n",
    "        for i in range(1):\n",
    "            inner = skimage.morphology.binary_erosion(inner)\n",
    "        expanded = mask.copy()\n",
    "        for i in range(5):\n",
    "            expanded = skimage.morphology.binary_dilation(expanded)\n",
    "\n",
    "        ring = outer ^ inner\n",
    "        means = tiled[:, ring].mean(1)\n",
    "        fracs = np.count_nonzero(tiled[:, ring] > 0, axis=1) / np.count_nonzero(ring)\n",
    "        \n",
    "        tme = expanded ^ outer\n",
    "        channel, thresh = dtype_to_epi[dtype]\n",
    "        m = tiled[channels.index(channel)] > thresh\n",
    "        tme = np.logical_and(tme, ~m)\n",
    "        tme_means = tiled[:, tme].mean(1)\n",
    "        tme_fracs = np.count_nonzero(tiled[:, tme] > 0, axis=1) / np.count_nonzero(tme)\n",
    "        \n",
    "        \n",
    "        \n",
    "        region['sid'] = sid\n",
    "        region['fracs'] = fracs\n",
    "        region['means'] = means\n",
    "        region['fracs_tme'] = tme_means\n",
    "        region['means_tme'] = tme_fracs\n",
    "        region['dtype'] = dtype\n",
    "        region['channels'] = channels\n",
    "        region['ring'] = ring\n",
    "        region['tme'] = tme\n",
    "        \n",
    "        \n"
   ]
  },
  {
   "cell_type": "code",
   "execution_count": null,
   "id": "150832f0",
   "metadata": {},
   "outputs": [],
   "source": [
    "# cs, zs, vals = [], [], []\n",
    "# for region in regions:\n",
    "#     if 'dtype' in region and region['dtype'] == 'xenium':\n",
    "#         cs.append(region['coordinates'])\n",
    "#         zs.append(region['z'] * 5)\n",
    "#         vals.append(region['means'][region['channels'].index('KRT5')])\n",
    "# zs, vals = np.asarray(zs), np.asarray(vals)\n",
    "# vals -= vals.min()\n",
    "# vals /= vals.max()\n",
    "# cmap = plt.colormaps['viridis_r']\n",
    "# facecolors = [cmap(x) for x in vals]\n"
   ]
  },
  {
   "cell_type": "code",
   "execution_count": null,
   "id": "d599f689",
   "metadata": {},
   "outputs": [],
   "source": [
    "cs, zs, vals = [], [], []\n",
    "for region in regions:\n",
    "    if 'dtype' in region and region['dtype'] == 'xenium':\n",
    "        cs.append(region['coordinates'])\n",
    "        zs.append(region['z'] * 5)\n",
    "\n",
    "        if 'dtype' in region and region['dtype'] == 'xenium':\n",
    "            print(region['sid'])\n",
    "            vals.append(region['means'][region['channels'].index('KRT5')])\n",
    "        else:\n",
    "            vals.append(0.)\n",
    "zs, vals = np.asarray(zs), np.asarray(vals)\n",
    "vals -= vals.min()\n",
    "vals /= vals.max()\n",
    "cmap = plt.colormaps['viridis_r']\n",
    "facecolors = [cmap(x) for x in vals]\n"
   ]
  },
  {
   "cell_type": "code",
   "execution_count": null,
   "id": "76af820f",
   "metadata": {},
   "outputs": [],
   "source": [
    "ax = plt.figure().add_subplot(projection='3d')\n",
    "poly = PolyCollection(cs, facecolors=facecolors, alpha=.7)\n",
    "ax.set(xlim=(0, max([x[0] for xs in cs for x in xs])),\n",
    "       ylim=(0,  max([x[1] for xs in cs for x in xs])),\n",
    "       zlim=(0, max(zs)))\n",
    "ax.add_collection3d(poly, zs=zs, zdir='z')\n",
    "plt.show()"
   ]
  },
  {
   "cell_type": "code",
   "execution_count": null,
   "id": "47aed81a",
   "metadata": {
    "scrolled": false
   },
   "outputs": [],
   "source": [
    "ax = plt.figure().add_subplot(projection='3d')\n",
    "\n",
    "coords = [x['coordinates'] for x in regions]\n",
    "zs = [x['z'] * 5 for x in regions]\n",
    "facecolors = [(.3, .3, .8, 1.) for i in range(len(zs))]\n",
    "poly = PolyCollection(coords, facecolors=facecolors, alpha=.7, edgecolor=(.3, .3, .3, 1.))\n",
    "\n",
    "ax.set(xlim=(0, 1000), ylim=(0, 1000), zlim=(0, 50 * 5))\n",
    "ax.add_collection3d(poly, zs=zs, zdir='z')\n",
    "ax.view_init(elev=10., azim=70)\n",
    "plt.show()"
   ]
  },
  {
   "cell_type": "code",
   "execution_count": null,
   "id": "dcfdea73",
   "metadata": {},
   "outputs": [],
   "source": [
    "connectivity_fp = imaris_dir / 'roi1_aligned.geojson'\n",
    "conn_regions = load_regions(connectivity_fp)\n",
    "\n",
    "len(conn_regions), conn_regions[0].keys()"
   ]
  },
  {
   "cell_type": "code",
   "execution_count": null,
   "id": "23a315de",
   "metadata": {},
   "outputs": [],
   "source": [
    "def regions_to_volume(regions):\n",
    "    zs = [region['z'] for region in regions]\n",
    "    rgb = next(iter(sid_to_rgb.values()))\n",
    "    labeled = np.zeros((max(zs) + 1, *rgb.shape[:2]))\n",
    "    region_id_to_label = {}\n",
    "    for i, region in enumerate(regions):\n",
    "        sid = config['sections'][region['z']]['sid']\n",
    "        coords = region['coordinates'] + np.asarray([r1, c1])\n",
    "        coords //= tiling_resolution\n",
    "        mask = skimage.draw.polygon2mask(rgb.shape[:2], coords)\n",
    "        labeled[region['z'], mask] = i + 1\n",
    "        region_id_to_label[region['id']] = i + 1\n",
    "        \n",
    "    return labeled.astype(int), region_id_to_label"
   ]
  },
  {
   "cell_type": "code",
   "execution_count": null,
   "id": "eba05ec5",
   "metadata": {},
   "outputs": [],
   "source": [
    "labeled, region_id_to_label = regions_to_volume(conn_regions)"
   ]
  },
  {
   "cell_type": "code",
   "execution_count": null,
   "id": "a01d2a04",
   "metadata": {},
   "outputs": [],
   "source": [
    "def graph_from_labeled(labeled):\n",
    "    edges = []\n",
    "    for i in range(labeled.shape[0]):\n",
    "        m1, m3 = None, None\n",
    "        m2 = labeled[i]\n",
    "        if i == 0:\n",
    "            m3 = labeled[i + 1]\n",
    "        elif i == labeled.shape[0] - 1:\n",
    "            m1 = labeled[i - 1]\n",
    "        else:\n",
    "            m1 = labeled[i - 1]\n",
    "            m3 = labeled[i + 1]\n",
    "        \n",
    "        for label in np.unique(m2)[1:]:\n",
    "            if m1 is not None:\n",
    "                overlap = [l for l in np.unique(m1[m2==label]) if l]\n",
    "                for l in overlap:\n",
    "                    edges.append((label, l))\n",
    "            if m3 is not None:\n",
    "                overlap = [l for l in np.unique(m3[m2==label]) if l]\n",
    "                for l in overlap:\n",
    "                    edges.append((label, l))\n",
    "        \n",
    "    return edges\n",
    "            \n",
    "        \n",
    "        \n",
    "        "
   ]
  },
  {
   "cell_type": "code",
   "execution_count": null,
   "id": "db953ebc",
   "metadata": {},
   "outputs": [],
   "source": [
    "import networkx"
   ]
  },
  {
   "cell_type": "code",
   "execution_count": null,
   "id": "9d2e4909",
   "metadata": {},
   "outputs": [],
   "source": [
    "graph_from_labeled(labeled)"
   ]
  },
  {
   "cell_type": "code",
   "execution_count": null,
   "id": "8818ec43",
   "metadata": {},
   "outputs": [],
   "source": [
    "for x in labeled:\n",
    "    print(np.unique(x))\n",
    "    plt.imshow(x)\n",
    "    plt.show()"
   ]
  },
  {
   "cell_type": "code",
   "execution_count": null,
   "id": "35eda79f",
   "metadata": {
    "scrolled": true
   },
   "outputs": [],
   "source": [
    "pts = json.load(open(regions_fp))['features']\n",
    "pts = [x['geometry'] for x in pts if x['geometry']['type']=='Point']\n",
    "pts = [{'coordinates': np.asarray(x['coordinates'])[[1, 0]], 'z': x['plane']['z']} for x in pts]\n",
    "pts"
   ]
  },
  {
   "cell_type": "code",
   "execution_count": null,
   "id": "f4e8450b",
   "metadata": {},
   "outputs": [],
   "source": [
    "def get_means_and_fracs(regions, pts, dtype='xenium', mean_key='means', frac_key='fracs'):\n",
    "    vals = []\n",
    "    fracs = []\n",
    "    selected_regions = {}\n",
    "    for region in regions:\n",
    "        if 'dtype' in region and region['dtype'] == dtype:\n",
    "            for pt in pts:\n",
    "                r, c = [int(x) for x in pt['coordinates']]\n",
    "                if region['mask'][r, c] and region['z']==pt['z']:\n",
    "                    print(region['z'])\n",
    "                    vals.append(region[mean_key])\n",
    "                    fracs.append(region[frac_key])\n",
    "                    selected_regions[region['sid']] = region\n",
    "    vals, fracs = np.stack(vals), np.stack(fracs)\n",
    "    vals, fracs = rearrange(vals, 'c n -> n c'), rearrange(fracs, 'c n -> n c')\n",
    "    return vals, fracs\n",
    "\n",
    "def get_correlations(vals, default=0.):\n",
    "    coors = []\n",
    "    for row in vals:\n",
    "        x = scipy.stats.pearsonr(row, np.arange(len(row))).correlation\n",
    "        if not pd.isnull(pval):\n",
    "            coors.append(x)\n",
    "        else:\n",
    "            coors.append(default)\n",
    "    return np.asarray(coors)"
   ]
  },
  {
   "cell_type": "code",
   "execution_count": null,
   "id": "656b3849",
   "metadata": {},
   "outputs": [],
   "source": [
    "vals, fracs = get_means_and_fracs(regions, pts)\n",
    "coors = get_correlations(vals)\n",
    "vals.shape, fracs.shape, coors.shape"
   ]
  },
  {
   "cell_type": "code",
   "execution_count": null,
   "id": "5f67a021",
   "metadata": {
    "scrolled": true
   },
   "outputs": [],
   "source": [
    "idxs = np.argsort(coors)\n",
    "np.asarray(dtype_to_channels['xenium'])[idxs]"
   ]
  },
  {
   "cell_type": "code",
   "execution_count": null,
   "id": "60c5e113",
   "metadata": {
    "scrolled": true
   },
   "outputs": [],
   "source": [
    "np.asarray(dtype_to_channels['xenium'])[np.flip(idxs)]"
   ]
  },
  {
   "cell_type": "code",
   "execution_count": null,
   "id": "77d901de",
   "metadata": {
    "scrolled": true
   },
   "outputs": [],
   "source": [
    "idxs = [i for i in idxs if fracs[i].max() > .1]\n",
    "np.asarray(dtype_to_channels['xenium'])[idxs]"
   ]
  },
  {
   "cell_type": "code",
   "execution_count": null,
   "id": "661bb5e3",
   "metadata": {},
   "outputs": [],
   "source": [
    "import seaborn as sns\n",
    "for i in range(10):\n",
    "    sns.lineplot(np.flip(vals[idxs[i]]))"
   ]
  },
  {
   "cell_type": "code",
   "execution_count": null,
   "id": "e4a0aaa7",
   "metadata": {},
   "outputs": [],
   "source": [
    "import seaborn as sns\n",
    "for i in range(1, 10, 1):\n",
    "    sns.lineplot(np.flip(vals[idxs[-i]]))"
   ]
  },
  {
   "cell_type": "code",
   "execution_count": null,
   "id": "5d12309a",
   "metadata": {},
   "outputs": [],
   "source": [
    "size"
   ]
  },
  {
   "cell_type": "code",
   "execution_count": null,
   "id": "9391680c",
   "metadata": {},
   "outputs": [],
   "source": [
    "def display_genes(gene, dt='xenium', figsize=(6, 20), mask_key='ring'):\n",
    "    fig, axs = plt.subplots(ncols=3, nrows=len(dtype_to_tiled[dt]), figsize=figsize)\n",
    "\n",
    "    for idx, (sid, tiled) in enumerate(sid_to_tiled.items()):\n",
    "        dtype = sid_to_dtype[sid]\n",
    "        rgb = sid_to_rgb[sid]\n",
    "        if dtype == dt:\n",
    "            channels = dtype_to_channels[dtype]\n",
    "            local_r1, local_r2, local_c1, local_c2 = [x // tiling_resolution for x in [r1, r2, c1, c2]]\n",
    "            x = tiled[channels.index(gene), local_r1:local_r2, local_c1:local_c2].copy()\n",
    "            mask = None\n",
    "            if sid in selected_regions:\n",
    "                region = selected_regions[sid]\n",
    "                mask = region[mask_key][local_r1:local_r2, local_c1:local_c2].copy()\n",
    "#                 initial = scipy.ndimage.binary_fill_holes(mask)\n",
    "#                 outer = skimage.morphology.binary_dilation(initial)\n",
    "#                 mask = outer ^ initial\n",
    "#                 x[mask] = x.max()\n",
    "                axs[idx, 2].imshow(mask)\n",
    "\n",
    "            axs[idx, 0].imshow(rgb)\n",
    "            axs[idx, 1].imshow(x)\n",
    "\n",
    "\n",
    "    "
   ]
  },
  {
   "cell_type": "code",
   "execution_count": null,
   "id": "1182e548",
   "metadata": {},
   "outputs": [],
   "source": [
    "for i in range(0, 10, 1):\n",
    "    gene = dtype_to_channels['xenium'][idxs[i]]\n",
    "    print(gene)\n",
    "    display_genes(gene)\n",
    "    plt.show()"
   ]
  },
  {
   "cell_type": "code",
   "execution_count": null,
   "id": "f4c5e5b1",
   "metadata": {},
   "outputs": [],
   "source": [
    "for i in range(1, 10, 1):\n",
    "    gene = dtype_to_channels['xenium'][idxs[-i]]\n",
    "    print(gene)\n",
    "    display_genes(gene)\n",
    "    plt.show()"
   ]
  },
  {
   "cell_type": "code",
   "execution_count": null,
   "id": "7c211a99",
   "metadata": {},
   "outputs": [],
   "source": [
    "vals, fracs = get_means_and_fracs(regions, pts, mean_key='means_tme', frac_key='fracs_tme')\n",
    "coors = get_correlations(vals)\n",
    "vals.shape, fracs.shape, coors.shape"
   ]
  },
  {
   "cell_type": "code",
   "execution_count": null,
   "id": "a506f132",
   "metadata": {
    "scrolled": true
   },
   "outputs": [],
   "source": [
    "idxs = np.argsort(coors)\n",
    "np.asarray(dtype_to_channels['xenium'])[idxs]"
   ]
  },
  {
   "cell_type": "code",
   "execution_count": null,
   "id": "0ada612d",
   "metadata": {
    "scrolled": true
   },
   "outputs": [],
   "source": [
    "idxs = [i for i in idxs if fracs[i].max() > .1]\n",
    "np.asarray(dtype_to_channels['xenium'])[idxs]"
   ]
  },
  {
   "cell_type": "code",
   "execution_count": null,
   "id": "2c9f0aa2",
   "metadata": {
    "scrolled": true
   },
   "outputs": [],
   "source": [
    "np.asarray(dtype_to_channels['xenium'])[np.flip(idxs)]"
   ]
  },
  {
   "cell_type": "code",
   "execution_count": null,
   "id": "69b953b8",
   "metadata": {},
   "outputs": [],
   "source": [
    "import seaborn as sns\n",
    "for i in range(10):\n",
    "    sns.lineplot(np.flip(vals[idxs[i]]))"
   ]
  },
  {
   "cell_type": "code",
   "execution_count": null,
   "id": "686487d5",
   "metadata": {},
   "outputs": [],
   "source": [
    "import seaborn as sns\n",
    "for i in range(1, 10, 1):\n",
    "    sns.lineplot(np.flip(vals[idxs[-i]]))"
   ]
  },
  {
   "cell_type": "code",
   "execution_count": null,
   "id": "fcce65e9",
   "metadata": {
    "scrolled": true
   },
   "outputs": [],
   "source": [
    "for i in range(0, 20, 1):\n",
    "    gene = dtype_to_channels['xenium'][idxs[i]]\n",
    "    print(gene)\n",
    "    display_genes(gene, mask_key='tme')\n",
    "    plt.show()"
   ]
  },
  {
   "cell_type": "code",
   "execution_count": null,
   "id": "bde6ff70",
   "metadata": {
    "scrolled": true
   },
   "outputs": [],
   "source": [
    "for i in range(1, 10, 1):\n",
    "    gene = dtype_to_channels['xenium'][idxs[-i]]\n",
    "    print(gene)\n",
    "    display_genes(gene, mask_key='tme')\n",
    "    plt.show()"
   ]
  },
  {
   "cell_type": "code",
   "execution_count": null,
   "id": "1dddfd5f",
   "metadata": {},
   "outputs": [],
   "source": [
    "display_genes('C5AR1', mask_key='tme')"
   ]
  },
  {
   "cell_type": "code",
   "execution_count": null,
   "id": "88c1708c",
   "metadata": {},
   "outputs": [],
   "source": []
  },
  {
   "cell_type": "code",
   "execution_count": null,
   "id": "bf091ea4",
   "metadata": {},
   "outputs": [],
   "source": []
  },
  {
   "cell_type": "code",
   "execution_count": null,
   "id": "5ccf2e76",
   "metadata": {},
   "outputs": [],
   "source": []
  },
  {
   "cell_type": "code",
   "execution_count": null,
   "id": "30d27a03",
   "metadata": {},
   "outputs": [],
   "source": []
  },
  {
   "cell_type": "code",
   "execution_count": null,
   "id": "3abf8d2e",
   "metadata": {},
   "outputs": [],
   "source": []
  },
  {
   "cell_type": "code",
   "execution_count": null,
   "id": "c3bab2fb",
   "metadata": {},
   "outputs": [],
   "source": []
  },
  {
   "cell_type": "code",
   "execution_count": null,
   "id": "a9cfbacf",
   "metadata": {},
   "outputs": [],
   "source": []
  },
  {
   "cell_type": "code",
   "execution_count": null,
   "id": "45d6c015",
   "metadata": {},
   "outputs": [],
   "source": [
    "import math\n",
    "\n",
    "import matplotlib.pyplot as plt\n",
    "import numpy as np\n",
    "\n",
    "from matplotlib.collections import PolyCollection\n",
    "\n",
    "# Fixing random state for reproducibility\n",
    "np.random.seed(19680801)\n",
    "\n",
    "\n",
    "def polygon_under_graph(x, y):\n",
    "    \"\"\"\n",
    "    Construct the vertex list which defines the polygon filling the space under\n",
    "    the (x, y) line graph. This assumes x is in ascending order.\n",
    "    \"\"\"\n",
    "    return [(x[0], 0.), *zip(x, y), (x[-1], 0.)]\n",
    "\n",
    "\n",
    "ax = plt.figure().add_subplot(projection='3d')\n",
    "\n",
    "x = np.linspace(0., 10., 31)\n",
    "lambdas = range(1, 9)\n",
    "\n",
    "# verts[i] is a list of (x, y) pairs defining polygon i.\n",
    "gamma = np.vectorize(math.gamma)\n",
    "verts = [polygon_under_graph(x, l**x * np.exp(-l) / gamma(x + 1))\n",
    "         for l in lambdas]\n",
    "facecolors = plt.colormaps['viridis_r'](np.linspace(0, 1, len(verts)))\n",
    "verts = [np.asarray(x) for x in verts]\n",
    "print(len(verts), verts[0].shape)\n",
    "\n",
    "poly = PolyCollection(verts, facecolors=facecolors, alpha=.7)\n",
    "ax.add_collection3d(poly, zs=lambdas, zdir='y')\n",
    "\n",
    "ax.set(xlim=(0, 10), ylim=(1, 9), zlim=(0, 0.35),\n",
    "       xlabel='x', ylabel=r'$\\lambda$', zlabel='probability')\n",
    "\n",
    "plt.show()"
   ]
  },
  {
   "cell_type": "code",
   "execution_count": null,
   "id": "6dfdcf15",
   "metadata": {},
   "outputs": [],
   "source": [
    "ax = plt.figure().add_subplot(projection='3d')\n",
    "poly = PolyCollection(verts, facecolors=facecolors, alpha=.7)\n",
    "ax.add_collection3d(poly, zs=lambdas, zdir='y')"
   ]
  },
  {
   "cell_type": "code",
   "execution_count": null,
   "id": "1023c75c",
   "metadata": {},
   "outputs": [],
   "source": []
  },
  {
   "cell_type": "code",
   "execution_count": null,
   "id": "2cd81ef1",
   "metadata": {},
   "outputs": [],
   "source": []
  },
  {
   "cell_type": "code",
   "execution_count": null,
   "id": "62456887",
   "metadata": {},
   "outputs": [],
   "source": []
  },
  {
   "cell_type": "code",
   "execution_count": null,
   "id": "637340b0",
   "metadata": {},
   "outputs": [],
   "source": []
  },
  {
   "cell_type": "code",
   "execution_count": null,
   "id": "a549d1b4",
   "metadata": {},
   "outputs": [],
   "source": []
  },
  {
   "cell_type": "code",
   "execution_count": null,
   "id": "cee23432",
   "metadata": {},
   "outputs": [],
   "source": []
  },
  {
   "cell_type": "code",
   "execution_count": null,
   "id": "293ca114",
   "metadata": {},
   "outputs": [],
   "source": [
    "dtype_to_channels = {\n",
    "    'xenium': [],\n",
    "    'multiplex': []\n",
    "}\n",
    "for dtype in dtype_to_channels.keys():\n",
    "    fps = [entry['data'][0]['filepath'] for entry in config['sections'] if entry['data'][0]['dtype']==dtype]\n",
    "    if 'multiplex' in dtype:\n",
    "        dtype_to_channels[dtype] = multiplex.get_common_channels(fps)\n",
    "    else:\n",
    "        dtype_to_channels[dtype] = xenium.get_common_channels(fps)\n",
    "dtype_to_channels"
   ]
  },
  {
   "cell_type": "code",
   "execution_count": null,
   "id": "b9b0d5e8",
   "metadata": {},
   "outputs": [],
   "source": [
    "dtype_to_tiled = {}\n",
    "for dtype, channels in dtype_to_channels.items():\n",
    "    dtype_to_tiled[dtype] = tiling_utils.get_tiled_sections(\n",
    "        config, dtype=dtype, channel_names=channels,\n",
    "        tiling_size=tiling_size, target_size=target_size\n",
    "    )\n",
    "for dtype, tiled in dtype_to_tiled.items():\n",
    "    print(dtype, tiled.shape)"
   ]
  },
  {
   "cell_type": "code",
   "execution_count": null,
   "id": "d4180e11",
   "metadata": {},
   "outputs": [],
   "source": []
  },
  {
   "cell_type": "code",
   "execution_count": null,
   "id": "1917b612",
   "metadata": {},
   "outputs": [],
   "source": []
  },
  {
   "cell_type": "code",
   "execution_count": null,
   "id": "9bb48c0c",
   "metadata": {},
   "outputs": [],
   "source": []
  },
  {
   "cell_type": "code",
   "execution_count": null,
   "id": "9e2ef630",
   "metadata": {},
   "outputs": [],
   "source": []
  },
  {
   "cell_type": "code",
   "execution_count": null,
   "id": "3934d5fb",
   "metadata": {},
   "outputs": [],
   "source": []
  },
  {
   "cell_type": "code",
   "execution_count": null,
   "id": "646a8396",
   "metadata": {},
   "outputs": [],
   "source": []
  },
  {
   "cell_type": "code",
   "execution_count": null,
   "id": "6f46b89e",
   "metadata": {},
   "outputs": [],
   "source": []
  },
  {
   "cell_type": "code",
   "execution_count": null,
   "id": "73f9cb93",
   "metadata": {},
   "outputs": [],
   "source": []
  }
 ],
 "metadata": {
  "kernelspec": {
   "display_name": "Python 3 (ipykernel)",
   "language": "python",
   "name": "python3"
  },
  "language_info": {
   "codemirror_mode": {
    "name": "ipython",
    "version": 3
   },
   "file_extension": ".py",
   "mimetype": "text/x-python",
   "name": "python",
   "nbconvert_exporter": "python",
   "pygments_lexer": "ipython3",
   "version": "3.10.13"
  }
 },
 "nbformat": 4,
 "nbformat_minor": 5
}
