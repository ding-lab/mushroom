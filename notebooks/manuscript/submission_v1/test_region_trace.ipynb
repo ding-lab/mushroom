{
 "cells": [
  {
   "cell_type": "code",
   "execution_count": null,
   "id": "d00d4da3",
   "metadata": {},
   "outputs": [],
   "source": [
    "import pickle\n",
    "import json\n",
    "import os\n",
    "import re\n",
    "import sys\n",
    "from copy import deepcopy\n",
    "from pathlib import Path\n",
    "\n",
    "import matplotlib.pyplot as plt\n",
    "import numpy as np\n",
    "import pandas as pd\n",
    "import skimage\n",
    "import tifffile\n",
    "import yaml\n",
    "from matplotlib.collections import PolyCollection\n",
    "from einops import rearrange, repeat\n",
    "from pydantic_extra_types.color import Color"
   ]
  },
  {
   "cell_type": "code",
   "execution_count": null,
   "id": "524ac119",
   "metadata": {},
   "outputs": [],
   "source": [
    "import matplotlib as mpl\n",
    "mpl.rcParams['pdf.fonttype'] = 42\n",
    "mpl.rcParams['svg.fonttype'] = 'none'"
   ]
  },
  {
   "cell_type": "code",
   "execution_count": null,
   "id": "7e4ab32f",
   "metadata": {},
   "outputs": [],
   "source": [
    "%load_ext autoreload"
   ]
  },
  {
   "cell_type": "code",
   "execution_count": null,
   "id": "70fa2851",
   "metadata": {},
   "outputs": [],
   "source": [
    "%autoreload 2"
   ]
  },
  {
   "cell_type": "code",
   "execution_count": null,
   "id": "ad713538",
   "metadata": {},
   "outputs": [],
   "source": [
    "from mushroom.mushroom import Mushroom, DEFAULT_CONFIG\n",
    "import mushroom.utils as utils\n",
    "import mushroom.visualization.utils as vis_utils\n",
    "import mushroom.data.multiplex as multiplex\n",
    "import mushroom.data.visium as visium\n",
    "import mushroom.data.xenium as xenium\n",
    "import mushroom.data.cosmx as cosmx\n",
    "import mushroom.visualization.tiling_utils as tiling_utils"
   ]
  },
  {
   "cell_type": "code",
   "execution_count": null,
   "id": "29ec9025",
   "metadata": {},
   "outputs": [],
   "source": [
    "source_root = '/diskmnt/Projects/Users/estorrs/mushroom/data'\n",
    "target_root = '/data/estorrs/mushroom/data'"
   ]
  },
  {
   "cell_type": "code",
   "execution_count": null,
   "id": "9c548776",
   "metadata": {},
   "outputs": [],
   "source": [
    "run_dir = '/data/estorrs/mushroom/data/projects/submission_v1'"
   ]
  },
  {
   "cell_type": "code",
   "execution_count": null,
   "id": "8295d20e",
   "metadata": {},
   "outputs": [],
   "source": [
    "def alter_filesystem(config, source_root, target_root):\n",
    "    for entry in config['sections']:\n",
    "        for mapping in entry['data']:\n",
    "            mapping['filepath'] = mapping['filepath'].replace(source_root, target_root)\n",
    "        \n",
    "    return config"
   ]
  },
  {
   "cell_type": "code",
   "execution_count": null,
   "id": "053cddb9",
   "metadata": {},
   "outputs": [],
   "source": [
    "# case = 'HT913Z1'\n",
    "case = 'HT891Z1'\n",
    "# case = 'HT704B1'\n",
    "# case = 'HT206B1'\n",
    "# case = 'HT397B1'\n",
    "# case = 'HT413C1-Th1k4A1'"
   ]
  },
  {
   "cell_type": "code",
   "execution_count": null,
   "id": "f13fb183",
   "metadata": {},
   "outputs": [],
   "source": [
    "project_dir = Path(f'/data/estorrs/mushroom/data/projects/submission_v1/{case}')"
   ]
  },
  {
   "cell_type": "code",
   "execution_count": null,
   "id": "dcd6b122",
   "metadata": {},
   "outputs": [],
   "source": [
    "fig_dir = project_dir / 'figures' \n",
    "fig_dir.mkdir(parents=True, exist_ok=True)"
   ]
  },
  {
   "cell_type": "code",
   "execution_count": null,
   "id": "cc77a842",
   "metadata": {
    "scrolled": true
   },
   "outputs": [],
   "source": [
    "config = yaml.safe_load(open(os.path.join(project_dir, 'registered', 'metadata.yaml')))\n",
    "config = alter_filesystem(config, source_root, target_root)\n",
    "config"
   ]
  },
  {
   "cell_type": "code",
   "execution_count": null,
   "id": "ab34481c",
   "metadata": {
    "code_folding": [
     1,
     75,
     112,
     156
    ]
   },
   "outputs": [],
   "source": [
    "case_to_multiplex_view_settings = {\n",
    "    'HT913Z1': [\n",
    "        {\n",
    "            'channel': 'E-Cadherin',\n",
    "            'color': 'red',\n",
    "            'min_value': 15,\n",
    "            'max_value': 100,\n",
    "            'gamma': 1.\n",
    "        },\n",
    "        {\n",
    "            'channel': 'HLA-DR',\n",
    "            'color': 'yellow',\n",
    "            'min_value': 15,\n",
    "            'max_value': 255,\n",
    "            'gamma': 1.\n",
    "        },\n",
    "        {\n",
    "            'channel': 'CK5',\n",
    "            'color': 'white',\n",
    "            'min_value': 15,\n",
    "            'max_value': 255,\n",
    "            'gamma': 1.\n",
    "        },\n",
    "        {\n",
    "            'channel': 'CD3e',\n",
    "            'color': 'green',\n",
    "            'min_value': 20,\n",
    "            'max_value': 75,\n",
    "            'gamma': 1.\n",
    "        },\n",
    "        {\n",
    "            'channel': 'CD68',\n",
    "            'color': 'cyan',\n",
    "            'min_value': 15,\n",
    "            'max_value': 255,\n",
    "            'gamma': 1.\n",
    "        },\n",
    "    ],\n",
    "    'HT891Z1': [\n",
    "        {\n",
    "            'channel': 'E-Cadherin',\n",
    "            'color': 'red',\n",
    "            'min_value': 15,\n",
    "            'max_value': 100,\n",
    "            'gamma': 1.\n",
    "        },\n",
    "        {\n",
    "            'channel': 'HLA-DR',\n",
    "            'color': 'yellow',\n",
    "            'min_value': 15,\n",
    "            'max_value': 255,\n",
    "            'gamma': 1.\n",
    "        },\n",
    "        {\n",
    "            'channel': 'CK5',\n",
    "            'color': 'white',\n",
    "            'min_value': 15,\n",
    "            'max_value': 255,\n",
    "            'gamma': 1.\n",
    "        },\n",
    "        {\n",
    "            'channel': 'CD3e',\n",
    "            'color': 'green',\n",
    "            'min_value': 20,\n",
    "            'max_value': 255,\n",
    "            'gamma': 1.\n",
    "        },\n",
    "        {\n",
    "            'channel': 'CD68',\n",
    "            'color': 'cyan',\n",
    "            'min_value': 15,\n",
    "            'max_value': 255,\n",
    "            'gamma': 1.\n",
    "        },\n",
    "    ],\n",
    "    'HT704B1': [\n",
    "        {\n",
    "            'channel': 'Pan-Cytokeratin',\n",
    "            'color': 'red',\n",
    "            'min_value': 15,\n",
    "            'max_value': 100,\n",
    "            'gamma': 1.\n",
    "        },\n",
    "        {\n",
    "            'channel': 'HLA-DR',\n",
    "            'color': 'yellow',\n",
    "            'min_value': 15,\n",
    "            'max_value': 255,\n",
    "            'gamma': 1.\n",
    "        },\n",
    "        {\n",
    "            'channel': 'Keratin 5',\n",
    "            'color': 'white',\n",
    "            'min_value': 15,\n",
    "            'max_value': 255,\n",
    "            'gamma': 1.\n",
    "        },\n",
    "        {\n",
    "            'channel': 'CD3e',\n",
    "            'color': 'green',\n",
    "            'min_value': 20,\n",
    "            'max_value': 255,\n",
    "            'gamma': 1.\n",
    "        },\n",
    "        {\n",
    "            'channel': 'CD68',\n",
    "            'color': 'cyan',\n",
    "            'min_value': 15,\n",
    "            'max_value': 255,\n",
    "            'gamma': 1.\n",
    "        },\n",
    "    ],\n",
    "    'HT206B1': [\n",
    "        {\n",
    "            'channel': 'Pan-Cytokeratin',\n",
    "            'color': 'red',\n",
    "            'min_value': 15,\n",
    "            'max_value': 100,\n",
    "            'gamma': 1.\n",
    "        },\n",
    "        {\n",
    "            'channel': 'HLA-DR',\n",
    "            'color': 'yellow',\n",
    "            'min_value': 15,\n",
    "            'max_value': 150,\n",
    "            'gamma': 1.\n",
    "        },\n",
    "        {\n",
    "            'channel': 'SMA (D)',\n",
    "            'color': 'white',\n",
    "            'min_value': 15,\n",
    "            'max_value': 150,\n",
    "            'gamma': 1.\n",
    "        },\n",
    "        {\n",
    "            'channel': 'Podoplanin (D)',\n",
    "            'color': 'white',\n",
    "            'min_value': 15,\n",
    "            'max_value': 65,\n",
    "            'gamma': 1.\n",
    "        },\n",
    "        {\n",
    "            'channel': 'CD4 (D)',\n",
    "            'color': 'green',\n",
    "            'min_value': 20,\n",
    "            'max_value': 165,\n",
    "            'gamma': 1.\n",
    "        },\n",
    "        {\n",
    "            'channel': 'CD45 (D)',\n",
    "            'color': 'cyan',\n",
    "            'min_value': 40,\n",
    "            'max_value': 130,\n",
    "            'gamma': 1.\n",
    "        },\n",
    "    ],\n",
    "    'HT397B1': [\n",
    "        {\n",
    "            'channel': 'Pan-Cytokeratin',\n",
    "            'color': 'red',\n",
    "            'min_value': 15,\n",
    "            'max_value': 255,\n",
    "            'gamma': 1.\n",
    "        },\n",
    "        {\n",
    "            'channel': 'HLA-DR',\n",
    "            'color': 'yellow',\n",
    "            'min_value': 20,\n",
    "            'max_value': 255,\n",
    "            'gamma': 1.\n",
    "        },\n",
    "        {\n",
    "            'channel': 'Keratin 14',\n",
    "            'color': 'white',\n",
    "            'min_value': 25,\n",
    "            'max_value': 100,\n",
    "            'gamma': 1.\n",
    "        },\n",
    "        {\n",
    "            'channel': 'CD8',\n",
    "            'color': 'green',\n",
    "            'min_value': 10,\n",
    "            'max_value': 31,\n",
    "            'gamma': 1.\n",
    "        },\n",
    "        {\n",
    "            'channel': 'CD45 (D)',\n",
    "            'color': 'cyan',\n",
    "            'min_value': 15,\n",
    "            'max_value': 35,\n",
    "            'gamma': 1.\n",
    "        },\n",
    "    ]\n",
    "}"
   ]
  },
  {
   "cell_type": "code",
   "execution_count": null,
   "id": "b2ff3dc2",
   "metadata": {},
   "outputs": [],
   "source": [
    "\n",
    "multiplex_view_settings = case_to_multiplex_view_settings[case]\n",
    "\n",
    "def get_multiplex_pseudo(fp, view_settings):\n",
    "    channels = [x['channel'] for x in view_settings]\n",
    "    colors = [x['color'] for x in view_settings]\n",
    "    min_values = [x['min_value'] for x in view_settings]\n",
    "    max_values = [x['max_value'] for x in view_settings]\n",
    "    gammas = [x['gamma'] for x in view_settings]\n",
    "    \n",
    "    channel_to_img = multiplex.extract_ome_tiff(fp, as_dict=True)\n",
    "    data = np.stack([channel_to_img[x] for x in channels])\n",
    "    \n",
    "    rgb = multiplex.to_pseudocolor(\n",
    "        data,\n",
    "        colors=colors,\n",
    "        min_values=min_values,\n",
    "        max_values=max_values,\n",
    "        gammas=gammas\n",
    "    )\n",
    "    \n",
    "    rgb *= 255.\n",
    "    rgb = rgb.astype(np.uint8)\n",
    "    \n",
    "    return rgb"
   ]
  },
  {
   "cell_type": "code",
   "execution_count": null,
   "id": "e9dfda56",
   "metadata": {
    "code_folding": [
     32,
     106,
     138,
     170
    ]
   },
   "outputs": [],
   "source": [
    "XENIUM_FOCUS_SETTINGS = [\n",
    "    {\n",
    "        'channel': 'DAPI',\n",
    "        'color': 'blue',\n",
    "        'min_value': 0,\n",
    "        'max_value': 100,\n",
    "        'gamma': 1.\n",
    "    },\n",
    "    {\n",
    "        'channel': 'ATP1A1/CD45/E-Cadherin',\n",
    "        'color': 'magenta',\n",
    "        'min_value': 0,\n",
    "        'max_value': 100,\n",
    "        'gamma': 1.\n",
    "    },\n",
    "                         {\n",
    "        'channel': '18S',\n",
    "        'color': 'yellow',\n",
    "        'min_value': 0,\n",
    "        'max_value': 50,\n",
    "        'gamma': 1.\n",
    "    },\n",
    "                         {\n",
    "        'channel': 'alphaSMA/Vimentin',\n",
    "        'color': 'green',\n",
    "        'min_value': 0,\n",
    "        'max_value': 100,\n",
    "        'gamma': 1.\n",
    "    },\n",
    "]\n",
    "\n",
    "case_to_xenium_view_settings = {\n",
    "    'HT913Z1': [\n",
    "        {\n",
    "            'channel': 'EPCAM',\n",
    "            'color': 'red',\n",
    "            'marker': '.',\n",
    "        },\n",
    "        {\n",
    "            'channel': 'HLA-DQB2',\n",
    "            'color': 'yellow',\n",
    "            'marker': 'v',\n",
    "        },\n",
    "        {\n",
    "            'channel': 'TP63',\n",
    "            'color': 'white',\n",
    "            'marker': 's',\n",
    "        },\n",
    "        {\n",
    "            'channel': 'KRT5',\n",
    "            'color': 'white',\n",
    "            'marker': 's',\n",
    "        },\n",
    "        {\n",
    "            'channel': 'CP',\n",
    "            'color': 'purple',\n",
    "            'marker': 'P',\n",
    "        },\n",
    "        {\n",
    "            'channel': 'CD3E',\n",
    "            'color': 'limegreen',\n",
    "            'marker': '*',\n",
    "        },\n",
    "        {\n",
    "            'channel': 'CD68',\n",
    "            'color': 'cyan',\n",
    "            'marker': 'D',\n",
    "        },\n",
    "    ],\n",
    "    'HT891Z1': [\n",
    "        {\n",
    "            'channel': 'EPCAM',\n",
    "            'color': 'red',\n",
    "            'marker': '.',\n",
    "        },\n",
    "        {\n",
    "            'channel': 'HLA-DQB2',\n",
    "            'color': 'yellow',\n",
    "            'marker': 'v',\n",
    "        },\n",
    "        {\n",
    "            'channel': 'TP63',\n",
    "            'color': 'white',\n",
    "            'marker': 's',\n",
    "        },\n",
    "        {\n",
    "            'channel': 'KRT5',\n",
    "            'color': 'white',\n",
    "            'marker': 's',\n",
    "        },\n",
    "        {\n",
    "            'channel': 'CP',\n",
    "            'color': 'purple',\n",
    "            'marker': 'P',\n",
    "        },\n",
    "        {\n",
    "            'channel': 'CD3E',\n",
    "            'color': 'limegreen',\n",
    "            'marker': '*',\n",
    "        },\n",
    "        {\n",
    "            'channel': 'CD68',\n",
    "            'color': 'cyan',\n",
    "            'marker': 'D',\n",
    "        },\n",
    "    ],\n",
    "    'HT704B1': [\n",
    "        {\n",
    "            'channel': 'EPCAM',\n",
    "            'color': 'red',\n",
    "            'marker': '.',\n",
    "        },\n",
    "        {\n",
    "            'channel': 'HLA-DQB2',\n",
    "            'color': 'yellow',\n",
    "            'marker': 'v',\n",
    "        },\n",
    "        {\n",
    "            'channel': 'KRT5',\n",
    "            'color': 'white',\n",
    "            'marker': 's',\n",
    "        },\n",
    "        {\n",
    "            'channel': 'TP63',\n",
    "            'color': 'white',\n",
    "            'marker': 's',\n",
    "        },\n",
    "        {\n",
    "            'channel': 'CD3E',\n",
    "            'color': 'limegreen',\n",
    "            'marker': '*',\n",
    "        },\n",
    "        {\n",
    "            'channel': 'CD68',\n",
    "            'color': 'cyan',\n",
    "            'marker': 'D',\n",
    "        },\n",
    "    ],\n",
    "    'HT206B1': [\n",
    "        {\n",
    "            'channel': 'EPCAM',\n",
    "            'color': 'red',\n",
    "            'marker': '.',\n",
    "        },\n",
    "        {\n",
    "            'channel': 'HLA-DQB2',\n",
    "            'color': 'yellow',\n",
    "            'marker': 'v',\n",
    "        },\n",
    "        {\n",
    "            'channel': 'ACTA2',\n",
    "            'color': 'white',\n",
    "            'marker': 's',\n",
    "        },\n",
    "        {\n",
    "            'channel': 'PDPN',\n",
    "            'color': 'white',\n",
    "            'marker': 's',\n",
    "        },\n",
    "        {\n",
    "            'channel': 'CD3E',\n",
    "            'color': 'limegreen',\n",
    "            'marker': '*',\n",
    "        },\n",
    "        {\n",
    "            'channel': 'CD68',\n",
    "            'color': 'cyan',\n",
    "            'marker': 'D',\n",
    "        },\n",
    "    ],\n",
    "    'HT397B1': [\n",
    "        {\n",
    "            'channel': 'EPCAM',\n",
    "            'color': 'red',\n",
    "            'marker': '.',\n",
    "        },\n",
    "        {\n",
    "            'channel': 'HLA-DQB2',\n",
    "            'color': 'yellow',\n",
    "            'marker': 'v',\n",
    "        },\n",
    "        {\n",
    "            'channel': 'KRT5',\n",
    "            'color': 'white',\n",
    "            'marker': 's',\n",
    "        },\n",
    "        {\n",
    "            'channel': 'CD3E',\n",
    "            'color': 'limegreen',\n",
    "            'marker': '*',\n",
    "        },\n",
    "        {\n",
    "            'channel': 'CD68',\n",
    "            'color': 'cyan',\n",
    "            'marker': 'D',\n",
    "        },\n",
    "    ],\n",
    "}\n",
    "\n",
    "xenium_view_settings = case_to_xenium_view_settings[case]\n",
    "\n",
    "def get_xenium_pseudo(morph_fp):\n",
    "    cs = multiplex.get_ome_tiff_channels(morph_fp)\n",
    "    if len(cs) == 1: # just nuclei\n",
    "        channels = ['DAPI']\n",
    "        colors = ['white']\n",
    "        min_values = [0.]\n",
    "        max_values = [100.]\n",
    "        gammas = [1.]\n",
    "    else: # multiple channels\n",
    "        channels = [x['channel'] for x in XENIUM_FOCUS_SETTINGS]\n",
    "        colors = [x['color'] for x in XENIUM_FOCUS_SETTINGS]\n",
    "        min_values = [x['min_value'] for x in XENIUM_FOCUS_SETTINGS]\n",
    "        max_values = [x['max_value'] for x in XENIUM_FOCUS_SETTINGS]\n",
    "        gammas = [x['gamma'] for x in XENIUM_FOCUS_SETTINGS]\n",
    "    \n",
    "    channel_to_img = multiplex.extract_ome_tiff(morph_fp, as_dict=True)\n",
    "    data = np.stack([channel_to_img[x] for x in channels])\n",
    "    \n",
    "    rgb = multiplex.to_pseudocolor(\n",
    "        data,\n",
    "        colors=colors,\n",
    "        min_values=min_values,\n",
    "        max_values=max_values,\n",
    "        gammas=gammas\n",
    "    )\n",
    "    \n",
    "    rgb *= 255.\n",
    "    rgb = rgb.astype(np.uint8)\n",
    "    \n",
    "    return rgb\n",
    "\n",
    "def plot_xenium_pseudo(ax, rgb, transcripts, view_settings, s=.1):\n",
    "    ax.imshow(rgb)\n",
    "    \n",
    "    if not isinstance(transcripts, pd.DataFrame):\n",
    "        transcripts = pd.read_parquet(transcripts)\n",
    "        \n",
    "    pool = set(transcripts['feature_name'])\n",
    "    for entry in view_settings:\n",
    "        color = np.asarray(Color(entry['color']).as_rgb_tuple()) / 255.\n",
    "        channel = entry['channel']\n",
    "        marker = entry['marker']\n",
    "        \n",
    "        if channel in pool:\n",
    "            small = transcripts[transcripts['feature_name']==channel]\n",
    "            X = small[['y_location', 'x_location']].values.astype(int)\n",
    "            ax.scatter(X[:, 1], X[:, 0], color=color, s=s, marker=marker, edgecolors='none')\n",
    "    return ax\n",
    "\n",
    "def add_transcripts_to_rgb(rgb, transcripts, xenium_view_settings, pt_scaler=50):\n",
    "    if not isinstance(transcripts, pd.DataFrame):\n",
    "        transcripts = pd.read_parquet(transcripts)\n",
    "\n",
    "    size = (rgb.shape[1] / 1000, rgb.shape[0] / 1000)\n",
    "    fig, ax = plt.subplots(figsize=(rgb.shape[1] / 1000, rgb.shape[0] / 1000))\n",
    "    ax.set_axis_off()\n",
    "    ax = plot_xenium_pseudo(ax, rgb, transcripts, xenium_view_settings, s=size[0] / pt_scaler)\n",
    "    plt.savefig('temp.tif', bbox_inches='tight', pad_inches=0, dpi=int(1000 * 1.2987411728584588))\n",
    "    rgb = tifffile.imread('temp.tif')\n",
    "    os.remove('temp.tif')\n",
    "    \n",
    "    if rgb.shape[-1] == 4:\n",
    "        rgb = rgb[..., :-1]\n",
    "    \n",
    "    return rgb\n",
    "\n"
   ]
  },
  {
   "cell_type": "code",
   "execution_count": null,
   "id": "911c3367",
   "metadata": {},
   "outputs": [],
   "source": []
  },
  {
   "cell_type": "code",
   "execution_count": null,
   "id": "64d74d53",
   "metadata": {},
   "outputs": [],
   "source": []
  },
  {
   "cell_type": "code",
   "execution_count": null,
   "id": "d886b6e0",
   "metadata": {},
   "outputs": [],
   "source": [
    "target_size = xenium.get_fullres_size(xenium.adata_from_xenium(config['sections'][0]['data'][0]['filepath']))\n",
    "# target_size = tifffile.imread(config['sections'][1]['data'][0]['filepath']).shape[1:]\n",
    "# target_size = [int(x * .5) for x in target_size]\n",
    "target_size"
   ]
  },
  {
   "cell_type": "code",
   "execution_count": null,
   "id": "91edaa1b",
   "metadata": {},
   "outputs": [],
   "source": []
  },
  {
   "cell_type": "code",
   "execution_count": null,
   "id": "c789f5a8",
   "metadata": {},
   "outputs": [],
   "source": [
    "imaris_dir = project_dir / 'imaris' / 'rois'\n",
    "imaris_dir.mkdir(parents=True, exist_ok=True)"
   ]
  },
  {
   "cell_type": "code",
   "execution_count": null,
   "id": "228a4fd6",
   "metadata": {},
   "outputs": [],
   "source": [
    "r1, r2, c1, c2 = 1300, 2100, 2500, 3500\n",
    "# r1, r2, c1, c2 = 1450, 1900, 2670, 2670 + 450\n",
    "rgbs = []\n",
    "for i, section in enumerate(config['sections']):\n",
    "    print(i, section['sid'])\n",
    "    sid = section['sid']\n",
    "    for entry in section['data']:\n",
    "        dtype = entry['dtype']\n",
    "        fp = entry['filepath']\n",
    "        position = section['position']\n",
    "\n",
    "        if dtype in ['he', 'batch2_he']: \n",
    "            rgb = tifffile.imread(fp)\n",
    "            if rgb.shape[0] <= 4:\n",
    "                rgb = rearrange(rgb, 'c h w -> h w c')\n",
    "        elif dtype == 'xenium':\n",
    "            transcripts_fp = fp.replace('.h5ad', '_transcripts.parquet')\n",
    "            morph_fp = fp.replace('.h5ad', '_morphologyfocus.ome.tiff')\n",
    "            assert Path(transcripts_fp).exists()\n",
    "            assert Path(morph_fp).exists()\n",
    "            rgb = get_xenium_pseudo(morph_fp)\n",
    "            rgb = add_transcripts_to_rgb(rgb, transcripts_fp, xenium_view_settings)\n",
    "\n",
    "        elif dtype == 'multiplex':\n",
    "            rgb = get_multiplex_pseudo(\n",
    "                fp,\n",
    "                multiplex_view_settings\n",
    "            )\n",
    "        else:\n",
    "            rgb = None\n",
    "\n",
    "        if rgb is not None:\n",
    "            if rgb.shape[:2] != target_size:\n",
    "                rgb = utils.rescale(rgb, size=target_size, dim_order='h w c', target_dtype=rgb.dtype)\n",
    "            rgbs.append(rgb[r1:r2, c1:c2])\n"
   ]
  },
  {
   "cell_type": "code",
   "execution_count": null,
   "id": "dc70ddd5",
   "metadata": {},
   "outputs": [],
   "source": [
    "stacked = np.stack(rgbs)\n",
    "stacked.shape"
   ]
  },
  {
   "cell_type": "code",
   "execution_count": null,
   "id": "1bfaf89f",
   "metadata": {},
   "outputs": [],
   "source": [
    "# aa660b20-6a7b-484f-99b1-ece711a44c9a -> ef0a6544-d5f0-420e-9fef-2d8bf1049dfe"
   ]
  },
  {
   "cell_type": "code",
   "execution_count": null,
   "id": "62f100c3",
   "metadata": {},
   "outputs": [],
   "source": [
    "multiplex.write_basic_ome_tiff(\n",
    "    imaris_dir / 'roi1.ome.tif',\n",
    "    rearrange(stacked, 'z h w c -> 1 z c h w'),\n",
    "    ['red', 'green', 'blue'],\n",
    "    1.\n",
    ")"
   ]
  },
  {
   "cell_type": "code",
   "execution_count": null,
   "id": "1db2bc3d",
   "metadata": {},
   "outputs": [],
   "source": [
    "sid_to_rgb = {entry['sid']:x for entry, x in zip(config['sections'], stacked)}"
   ]
  },
  {
   "cell_type": "code",
   "execution_count": null,
   "id": "a0d6e369",
   "metadata": {},
   "outputs": [],
   "source": [
    "for i, (sid, rgb) in enumerate(sid_to_rgb.items()):\n",
    "    print(i, sid)\n",
    "    plt.imshow(rgb)\n",
    "    plt.axis('off')\n",
    "    plt.show()"
   ]
  },
  {
   "cell_type": "code",
   "execution_count": null,
   "id": "8a1f7a1a",
   "metadata": {},
   "outputs": [],
   "source": [
    "def load_regions(regions_fp):\n",
    "    regions = json.load(open(regions_fp))['features'] \n",
    "    regions = [{'id': x['id'], 'z': x['geometry']['plane']['z'] if 'plane' in x['geometry'] else 0, 'coordinates': np.asarray(x['geometry']['coordinates'])}\n",
    "               for x in regions]\n",
    "    regions = [x for x in regions if len(x['coordinates'].shape) == 3]\n",
    "    for x in regions:\n",
    "        x['coordinates'] = x['coordinates'][0][:, [1, 0]]\n",
    "        x['mask'] = skimage.draw.polygon2mask(stacked.shape[1:3], x['coordinates'])\n",
    "\n",
    "    return regions"
   ]
  },
  {
   "cell_type": "code",
   "execution_count": null,
   "id": "38b1f98f",
   "metadata": {},
   "outputs": [],
   "source": [
    "dtype_to_channels = {\n",
    "    'xenium': [],\n",
    "    'multiplex': []\n",
    "}\n",
    "for dtype in dtype_to_channels.keys():\n",
    "    fps = [entry['data'][0]['filepath'] for entry in config['sections'] if entry['data'][0]['dtype']==dtype]\n",
    "    if 'multiplex' in dtype:\n",
    "        dtype_to_channels[dtype] = multiplex.get_common_channels(fps)\n",
    "    else:\n",
    "        dtype_to_channels[dtype] = xenium.get_common_channels(fps)\n",
    "dtype_to_channels"
   ]
  },
  {
   "cell_type": "code",
   "execution_count": null,
   "id": "19159f6b",
   "metadata": {},
   "outputs": [],
   "source": [
    "fullres_size = xenium.get_fullres_size(xenium.adata_from_xenium(config['sections'][0]['data'][0]['filepath']))\n",
    "tiling_size = 10\n",
    "tiling_resolution = tiling_size\n",
    "size = [x // tiling_size for x in fullres_size]\n",
    "size"
   ]
  },
  {
   "cell_type": "code",
   "execution_count": null,
   "id": "09f1da2c",
   "metadata": {},
   "outputs": [],
   "source": [
    "transcripts = pd.read_parquet('/data/estorrs/mushroom/data/projects/submission_v1/HT891Z1/registered/s0_HT891Z1-U1_xenium_transcripts.parquet')\n",
    "transcripts\n"
   ]
  },
  {
   "cell_type": "code",
   "execution_count": null,
   "id": "488ea8e3",
   "metadata": {},
   "outputs": [],
   "source": [
    "set(transcripts['feature_name'])"
   ]
  },
  {
   "cell_type": "code",
   "execution_count": null,
   "id": "96e2abdd",
   "metadata": {},
   "outputs": [],
   "source": [
    "adata = xenium.adata_from_xenium('/data/estorrs/mushroom/data/projects/submission_v1/HT891Z1/registered/s0_HT891Z1-U1_xenium.h5ad')\n",
    "adata"
   ]
  },
  {
   "cell_type": "code",
   "execution_count": null,
   "id": "5e51569e",
   "metadata": {},
   "outputs": [],
   "source": [
    "# tiled, tiled_channels = tiling_utils.tile_xenium(adata, tile_size=10, transcripts=transcripts)\n",
    "# tiled.shape"
   ]
  },
  {
   "cell_type": "code",
   "execution_count": null,
   "id": "a4570a9d",
   "metadata": {},
   "outputs": [],
   "source": [
    "dtype_to_tiled = {}\n",
    "for dtype, channels in dtype_to_channels.items():\n",
    "    dtype_to_tiled[dtype] = tiling_utils.get_tiled_sections(\n",
    "        config, dtype=dtype, channel_names=channels,\n",
    "        tiling_size=tiling_size, target_size=size, use_transcripts=True\n",
    "    )\n",
    "for dtype, tiled in dtype_to_tiled.items():\n",
    "    print(dtype, tiled.shape)"
   ]
  },
  {
   "cell_type": "code",
   "execution_count": null,
   "id": "b6930622",
   "metadata": {},
   "outputs": [],
   "source": [
    "sid_to_tiled, sid_to_dtype = {}, {}\n",
    "for dtype in dtype_to_channels.keys():\n",
    "    tiled = dtype_to_tiled[dtype]\n",
    "    sids = [entry['sid'] for entry in config['sections'] if entry['data'][0]['dtype']==dtype]\n",
    "    for sid, t in zip(sids, tiled):\n",
    "        sid_to_tiled[sid] = t / t.std(axis=(-2, -1), keepdims=True)\n",
    "        sid_to_dtype[sid] = dtype\n",
    "sid_to_tiled.keys()"
   ]
  },
  {
   "cell_type": "code",
   "execution_count": null,
   "id": "1a1a88ad",
   "metadata": {},
   "outputs": [],
   "source": [
    "regions_fp = imaris_dir / 'roi1.geojson'\n",
    "regions = load_regions(regions_fp)\n",
    "\n",
    "len(regions), regions[0].keys()"
   ]
  },
  {
   "cell_type": "code",
   "execution_count": null,
   "id": "c6e717e9",
   "metadata": {},
   "outputs": [],
   "source": [
    "dtype_to_epi = {\n",
    "    'xenium': ('EPCAM', 1.),\n",
    "    'multiplex': ('E-Cadherin', 10.),\n",
    "}\n",
    "\n",
    "local_r1, local_r2, local_c1, local_c2 = [x // tiling_resolution for x in [r1, r2, c1, c2]]\n",
    "for region in regions:\n",
    "    sid = config['sections'][region['z']]['sid']\n",
    "    region['position'] = config['sections'][region['z']]['position']\n",
    "    if sid in sid_to_tiled:\n",
    "        tiled = sid_to_tiled[sid]\n",
    "        dtype = sid_to_dtype[sid]\n",
    "        channels = dtype_to_channels[dtype]\n",
    "\n",
    "        coords = region['coordinates'] + np.asarray([r1, c1])\n",
    "        coords //= tiling_resolution\n",
    "        mask = skimage.draw.polygon2mask(tiled.shape[-2:], coords)\n",
    "\n",
    "        outer = mask.copy()\n",
    "        for i in range(1):\n",
    "            outer = skimage.morphology.binary_dilation(outer)\n",
    "        inner = mask.copy()\n",
    "        for i in range(1):\n",
    "            inner = skimage.morphology.binary_erosion(inner)\n",
    "        expanded = mask.copy()\n",
    "        for i in range(5):\n",
    "            expanded = skimage.morphology.binary_dilation(expanded)\n",
    "\n",
    "        ring = outer ^ inner\n",
    "        means = tiled[:, ring].mean(1)\n",
    "        fracs = np.count_nonzero(tiled[:, ring] > 0, axis=1) / np.count_nonzero(ring)\n",
    "        \n",
    "        tme = expanded ^ outer\n",
    "        channel, thresh = dtype_to_epi[dtype]\n",
    "        m = tiled[channels.index(channel)] > thresh\n",
    "        tme = np.logical_and(tme, ~m)\n",
    "        tme_means = tiled[:, tme].mean(1)\n",
    "        tme_fracs = np.count_nonzero(tiled[:, tme] > 0, axis=1) / np.count_nonzero(tme)\n",
    "        \n",
    "        region['fracs'] = fracs\n",
    "        region['means'] = means\n",
    "        region['fracs_tme'] = tme_means\n",
    "        region['means_tme'] = tme_fracs\n",
    "        region['dtype'] = dtype\n",
    "        region['channels'] = channels\n",
    "        region['ring'] = ring\n",
    "        region['tme'] = tme\n",
    "    region['sid'] = sid\n",
    "        \n",
    "        \n"
   ]
  },
  {
   "cell_type": "code",
   "execution_count": null,
   "id": "6c59a504",
   "metadata": {},
   "outputs": [],
   "source": [
    "region_id_to_region = {x['id']:x for x in regions}"
   ]
  },
  {
   "cell_type": "code",
   "execution_count": null,
   "id": "838fb498",
   "metadata": {},
   "outputs": [],
   "source": [
    "# cs, zs, vals = [], [], []\n",
    "# for region in regions:\n",
    "#     if 'dtype' in region and region['dtype'] == 'xenium':\n",
    "#         cs.append(region['coordinates'])\n",
    "#         zs.append(region['z'] * 5)\n",
    "#         vals.append(region['means'][region['channels'].index('KRT5')])\n",
    "# zs, vals = np.asarray(zs), np.asarray(vals)\n",
    "# vals -= vals.min()\n",
    "# vals /= vals.max()\n",
    "# cmap = plt.colormaps['viridis_r']\n",
    "# facecolors = [cmap(x) for x in vals]\n"
   ]
  },
  {
   "cell_type": "code",
   "execution_count": null,
   "id": "a671c64d",
   "metadata": {},
   "outputs": [],
   "source": [
    "cs, zs, vals = [], [], []\n",
    "for region in regions:\n",
    "    if 'dtype' in region and region['dtype'] == 'xenium':\n",
    "        cs.append(region['coordinates'])\n",
    "        zs.append(region['z'] * 5)\n",
    "\n",
    "        if 'dtype' in region and region['dtype'] == 'xenium':\n",
    "            print(region['sid'])\n",
    "            vals.append(region['means'][region['channels'].index('KRT5')])\n",
    "        else:\n",
    "            vals.append(0.)\n",
    "zs, vals = np.asarray(zs), np.asarray(vals)\n",
    "vals -= vals.min()\n",
    "vals /= vals.max()\n",
    "cmap = plt.colormaps['viridis_r']\n",
    "facecolors = [cmap(x) for x in vals]\n"
   ]
  },
  {
   "cell_type": "code",
   "execution_count": null,
   "id": "e92b4f38",
   "metadata": {},
   "outputs": [],
   "source": [
    "ax = plt.figure().add_subplot(projection='3d')\n",
    "poly = PolyCollection(cs, facecolors=facecolors, alpha=.7)\n",
    "ax.set(xlim=(0, max([x[0] for xs in cs for x in xs])),\n",
    "       ylim=(0,  max([x[1] for xs in cs for x in xs])),\n",
    "       zlim=(0, max(zs)))\n",
    "ax.add_collection3d(poly, zs=zs, zdir='z')\n",
    "plt.show()"
   ]
  },
  {
   "cell_type": "code",
   "execution_count": null,
   "id": "a9037a6c",
   "metadata": {
    "scrolled": false
   },
   "outputs": [],
   "source": [
    "ax = plt.figure(figsize=(10, 10)).add_subplot(projection='3d')\n",
    "\n",
    "coords = [x['coordinates'] for x in regions]\n",
    "# zs = [x['z'] * 5 for x in regions]\n",
    "zs = [x['position'] for x in regions]\n",
    "facecolors = [(.5, .5, .5, 1.) for i in range(len(zs))]\n",
    "poly = PolyCollection(coords, facecolors=facecolors, alpha=.7, edgecolor=(.2, .2, .2, 1.))\n",
    "\n",
    "ax.set(xlim=(0, 1000), ylim=(0, 1000), zlim=(0, max(zs)))\n",
    "ax.add_collection3d(poly, zs=zs, zdir='z')\n",
    "ax.view_init(elev=10., azim=80)\n",
    "ax.invert_zaxis()\n",
    "plt.show()"
   ]
  },
  {
   "cell_type": "code",
   "execution_count": null,
   "id": "69beb1d3",
   "metadata": {},
   "outputs": [],
   "source": [
    "# x = json.load(open(connectivity_fp))\n",
    "# [geom for geom in x['features'] if geom['geometry']['type']!='Polygon']"
   ]
  },
  {
   "cell_type": "code",
   "execution_count": null,
   "id": "ef13fb12",
   "metadata": {},
   "outputs": [],
   "source": [
    "connectivity_fp = imaris_dir / 'roi1_aligned.geojson'\n",
    "conn_regions = load_regions(connectivity_fp)\n",
    "\n",
    "len(conn_regions), conn_regions[0].keys()"
   ]
  },
  {
   "cell_type": "code",
   "execution_count": null,
   "id": "e60fc334",
   "metadata": {},
   "outputs": [],
   "source": [
    "assert len(set([x['id'] for x in conn_regions]).intersection(set([x['id'] for x in regions]))) == len(regions)"
   ]
  },
  {
   "cell_type": "code",
   "execution_count": null,
   "id": "5513149f",
   "metadata": {},
   "outputs": [],
   "source": [
    "# def regions_to_volume(regions):\n",
    "#     zs = [region['z'] for region in regions]\n",
    "#     rgb = next(iter(sid_to_rgb.values()))\n",
    "#     labeled = np.zeros((max(zs) + 1, *rgb.shape[:2]))\n",
    "#     region_id_to_label = {}\n",
    "#     for i, region in enumerate(regions):\n",
    "#         sid = config['sections'][region['z']]['sid']\n",
    "#         coords = region['coordinates'] + np.asarray([r1, c1])\n",
    "#         coords //= tiling_resolution\n",
    "#         mask = skimage.draw.polygon2mask(rgb.shape[:2], coords)\n",
    "#         labeled[region['z'], mask] = i + 1\n",
    "#         region_id_to_label[region['id']] = i + 1\n",
    "\n",
    "#     return labeled.astype(int), region_id_to_label\n",
    "def regions_to_volume(regions):\n",
    "    zs = [region['z'] for region in regions]\n",
    "    h, w = r2 - r1, c2 - c1\n",
    "    labeled = np.zeros((max(zs) + 1, h, w))\n",
    "    region_id_to_label = {}\n",
    "    for i, region in enumerate(regions):\n",
    "        sid = config['sections'][region['z']]['sid']\n",
    "        coords = region['coordinates']\n",
    "        mask = skimage.draw.polygon2mask((h, w), coords)\n",
    "        labeled[region['z'], mask] = i + 1\n",
    "        region_id_to_label[region['id']] = i + 1\n",
    "\n",
    "    return labeled.astype(int), region_id_to_label"
   ]
  },
  {
   "cell_type": "code",
   "execution_count": null,
   "id": "055e9297",
   "metadata": {},
   "outputs": [],
   "source": [
    "labeled, region_id_to_label = regions_to_volume(conn_regions)\n",
    "label_to_region_id = {v:k for k, v in region_id_to_label.items()}"
   ]
  },
  {
   "cell_type": "code",
   "execution_count": null,
   "id": "ac0714a2",
   "metadata": {},
   "outputs": [],
   "source": [
    "# for i, x in enumerate(labeled):\n",
    "#     plt.imshow(x>0)\n",
    "#     plt.title(i)\n",
    "#     plt.show()"
   ]
  },
  {
   "cell_type": "code",
   "execution_count": null,
   "id": "6d7cc904",
   "metadata": {},
   "outputs": [],
   "source": [
    "def graph_from_labeled(labeled):\n",
    "    edges = []\n",
    "    for i in range(labeled.shape[0]):\n",
    "        m1, m3 = None, None\n",
    "        m2 = labeled[i]\n",
    "        if i == 0:\n",
    "            m3 = labeled[i + 1]\n",
    "        elif i == labeled.shape[0] - 1:\n",
    "            m1 = labeled[i - 1]\n",
    "        else:\n",
    "            m1 = labeled[i - 1]\n",
    "            m3 = labeled[i + 1]\n",
    "        \n",
    "        labels = [l for l in np.unique(m2) if l]\n",
    "        for label in labels:\n",
    "            if m1 is not None:\n",
    "                overlap = [l for l in np.unique(m1[m2==label]) if l]\n",
    "                for l in overlap:\n",
    "                    edges.append((label, l))\n",
    "            if m3 is not None:\n",
    "                overlap = [l for l in np.unique(m3[m2==label]) if l]\n",
    "                for l in overlap:\n",
    "                    edges.append((label, l))\n",
    "        \n",
    "    return edges"
   ]
  },
  {
   "cell_type": "code",
   "execution_count": null,
   "id": "5ff53e06",
   "metadata": {},
   "outputs": [],
   "source": [
    "edges = graph_from_labeled(labeled)"
   ]
  },
  {
   "cell_type": "code",
   "execution_count": null,
   "id": "feb224dc",
   "metadata": {},
   "outputs": [],
   "source": [
    "import networkx as nx"
   ]
  },
  {
   "cell_type": "code",
   "execution_count": null,
   "id": "967826fd",
   "metadata": {},
   "outputs": [],
   "source": [
    "G = nx.Graph()\n",
    "G.add_edges_from(edges)"
   ]
  },
  {
   "cell_type": "code",
   "execution_count": null,
   "id": "997f9c3b",
   "metadata": {},
   "outputs": [],
   "source": [
    "terminals = [k for k, v in G.adj.items() if len(v) == 1]\n",
    "terminals"
   ]
  },
  {
   "cell_type": "code",
   "execution_count": null,
   "id": "77d22109",
   "metadata": {},
   "outputs": [],
   "source": [
    "[c for c in sorted(nx.connected_components(G), key=len, reverse=True)]"
   ]
  },
  {
   "cell_type": "code",
   "execution_count": null,
   "id": "347586eb",
   "metadata": {},
   "outputs": [],
   "source": [
    "# missing = []\n",
    "# for i, x in enumerate(labeled):\n",
    "#     m = np.zeros_like(x, dtype=bool)\n",
    "#     for node in missing:\n",
    "#         m |= x==node\n",
    "#     plt.imshow(m)\n",
    "#     plt.title(i)\n",
    "#     plt.show()"
   ]
  },
  {
   "cell_type": "code",
   "execution_count": null,
   "id": "a2bb0d59",
   "metadata": {},
   "outputs": [],
   "source": [
    "fig, ax = plt.subplots(figsize=(10, 10))\n",
    "nx.draw_networkx(G, font_size=6, node_size=100)"
   ]
  },
  {
   "cell_type": "code",
   "execution_count": null,
   "id": "57cd2209",
   "metadata": {},
   "outputs": [],
   "source": [
    "# Object ID\tbd096426-679b-4216-a698-7d35a88fe3f0\n",
    "# endpoints = {\n",
    "#     'T1': ('f6032595-1fd0-44c2-82b0-72a3fac80f03', 'bd096426-679b-4216-a698-7d35a88fe3f0'),\n",
    "#     'P1': ('cc6ab9c1-0805-46d4-87bb-8b3fb8b3b98d', '18073a83-5d22-4c2a-8cc8-e1b27a4de88e'),\n",
    "#     'P2': ('6c6e1ff9-1c07-408b-a4a6-e4e029a14523', '18073a83-5d22-4c2a-8cc8-e1b27a4de88e'),\n",
    "#     'P3': ('7ac3ea71-73a8-4311-8379-1b646d2f278b', '18073a83-5d22-4c2a-8cc8-e1b27a4de88e'),\n",
    "#     'P4': ('7ac3ea71-73a8-4311-8379-1b646d2f278b', '18073a83-5d22-4c2a-8cc8-e1b27a4de88e'),\n",
    "# }\n",
    "# Object ID\t18073a83-5d22-4c2a-8cc8-e1b27a4de88e\n",
    "endpoints = [\n",
    "    'f6032595-1fd0-44c2-82b0-72a3fac80f03', '18073a83-5d22-4c2a-8cc8-e1b27a4de88e'\n",
    "]\n"
   ]
  },
  {
   "cell_type": "code",
   "execution_count": null,
   "id": "e626b073",
   "metadata": {},
   "outputs": [],
   "source": [
    "n1, n2 = endpoints\n",
    "path = nx.algorithms.shortest_path(G, region_id_to_label[n1], region_id_to_label[n2])\n",
    "path\n",
    "# for n1 in terminals:\n",
    "#     for n2 in terminals:\n",
    "#         if n1 != n2:\n",
    "#             path = nx.algorithms.shortest_path(G, n1, n2)\n",
    "#             paths.append(path)"
   ]
  },
  {
   "cell_type": "code",
   "execution_count": null,
   "id": "0a0ffb65",
   "metadata": {},
   "outputs": [],
   "source": [
    "keep = [label_to_region_id[l] for l in path]"
   ]
  },
  {
   "cell_type": "code",
   "execution_count": null,
   "id": "e051dae1",
   "metadata": {},
   "outputs": [],
   "source": [
    "for x in keep:\n",
    "    region = region_id_to_region[x]\n",
    "    if region.get('dtype', '') == 'xenium':\n",
    "        print(region['id'], region['position'])"
   ]
  },
  {
   "cell_type": "code",
   "execution_count": null,
   "id": "546b4007",
   "metadata": {},
   "outputs": [],
   "source": [
    "import seaborn as sns\n",
    "colors = sns.color_palette('deep')\n",
    "colors"
   ]
  },
  {
   "cell_type": "code",
   "execution_count": null,
   "id": "c4f92db3",
   "metadata": {},
   "outputs": [],
   "source": [
    "colors[0]"
   ]
  },
  {
   "cell_type": "code",
   "execution_count": null,
   "id": "0a6d2023",
   "metadata": {},
   "outputs": [],
   "source": [
    "dtype_to_color = {\n",
    "    'xenium': colors[0],\n",
    "    'multiplex': colors[2],\n",
    "    'he': colors[4]\n",
    "}\n",
    "\n",
    "dtype_to_edgecolor = {\n",
    "    'xenium': sns.color_palette('dark')[0],\n",
    "    'multiplex': sns.color_palette('dark')[2],\n",
    "    'he': sns.color_palette('dark')[4]\n",
    "}"
   ]
  },
  {
   "cell_type": "code",
   "execution_count": null,
   "id": "0b48d4de",
   "metadata": {},
   "outputs": [],
   "source": [
    "ax = plt.figure(figsize=(10, 10)).add_subplot(projection='3d')\n",
    "\n",
    "rs = [x for x in regions if x['id'] not in keep]\n",
    "coords = [x['coordinates'] for x in rs]\n",
    "zs = [x['position'] for x in rs]\n",
    "facecolors = [(.5, .5, .5, 1.)] * len(rs)\n",
    "edgecolors = [(.2, .2, .2, 1.)] * len(rs)\n",
    "\n",
    "\n",
    "rs = [x for x in regions if x['id'] in keep]\n",
    "coords += [x['coordinates'] for x in rs]\n",
    "zs += [x['position'] for x in rs]\n",
    "facecolors += [(.5, .5, .5, 1.)] * len(rs)\n",
    "edgecolors += [(.8, .2, .2, 1.)] * len(rs)\n",
    "poly = PolyCollection(coords, facecolors=facecolors, alpha=.7, edgecolor=edgecolors)\n",
    "\n",
    "ax.set(xlim=(0, 1000), ylim=(0, 1000), zlim=(0, max(zs)))\n",
    "ax.add_collection3d(poly, zs=zs, zdir='z')\n",
    "ax.view_init(elev=10., azim=80)\n",
    "ax.invert_zaxis()\n",
    "\n",
    "plt.show()"
   ]
  },
  {
   "cell_type": "code",
   "execution_count": null,
   "id": "07c15fff",
   "metadata": {},
   "outputs": [],
   "source": [
    "ax = plt.figure(figsize=(10, 10)).add_subplot(projection='3d')\n",
    "\n",
    "rs = [x for x in regions if x['id'] in keep]\n",
    "coords = [x['coordinates'] for x in rs]\n",
    "zs = [x['position'] for x in rs]\n",
    "facecolors = [dtype_to_color[x.get('dtype', 'he')] for x in rs]\n",
    "edgecolors = [dtype_to_edgecolor[x.get('dtype', 'he')] for x in rs]\n",
    "poly = PolyCollection(coords, facecolors=facecolors, alpha=.7, edgecolor=edgecolors)\n",
    "\n",
    "ax.set(xlim=(0, 1000), ylim=(0, 1000), zlim=(0, max(zs)))\n",
    "ax.add_collection3d(poly, zs=zs, zdir='z')\n",
    "ax.view_init(elev=10., azim=80)\n",
    "ax.invert_zaxis()\n",
    "ax.set_axis_off()\n",
    "\n",
    "plt.show()"
   ]
  },
  {
   "cell_type": "code",
   "execution_count": null,
   "id": "386761c2",
   "metadata": {},
   "outputs": [],
   "source": [
    "# missing = [1, 174]\n",
    "# for x in labeled:\n",
    "#     m = np.zeros_like(x, dtype=bool)\n",
    "#     for node in missing:\n",
    "#         m |= x==node\n",
    "#     plt.imshow(m)\n",
    "#     plt.show()\n",
    "    "
   ]
  },
  {
   "cell_type": "code",
   "execution_count": null,
   "id": "c0436a2c",
   "metadata": {},
   "outputs": [],
   "source": [
    "# for x in missing:\n",
    "#     print(label_to_region_id[x])"
   ]
  },
  {
   "cell_type": "code",
   "execution_count": null,
   "id": "85ea2fd9",
   "metadata": {},
   "outputs": [],
   "source": [
    "def get_means_and_fracs(region_id_to_regions, paths, dtype='xenium', mean_key='means', frac_key='fracs'):\n",
    "    results = []\n",
    "    for path in paths:\n",
    "        vals, fracs, zs, other_vals, other_fracs = [], [], [], [], []\n",
    "        for k in path:\n",
    "            region = region_id_to_region[label_to_region_id[k]]\n",
    "            if 'dtype' in region and region['dtype'] == dtype:\n",
    "                vals.append(region[mean_key])\n",
    "                fracs.append(region[frac_key])\n",
    "                zs.append(region['position'])\n",
    "                \n",
    "                rs = [x for x in region_id_to_region.values() if x['position']==region['position'] and x['id']!=region['id']]\n",
    "                other_vals.append(np.stack([x[mean_key] for x in rs]))\n",
    "                other_fracs.append(np.stack([x[frac_key] for x in rs]))\n",
    "                \n",
    "        if vals:\n",
    "            vals, fracs = np.stack(vals), np.stack(fracs)\n",
    "            vals, fracs = rearrange(vals, 'd n -> n d'), rearrange(fracs, 'd n -> n d')\n",
    "            results.append({\n",
    "                'vals': vals,\n",
    "                'fracs': fracs,\n",
    "                'other_vals': other_vals,\n",
    "                'other_fracs': other_fracs,\n",
    "                'zs': zs,\n",
    "            })\n",
    "    return results\n",
    "\n",
    "import scipy\n",
    "def get_correlations(vals, default=0.):\n",
    "    coors, pvals = [], []\n",
    "    for row in vals:\n",
    "        r = scipy.stats.pearsonr(row, np.arange(len(row)))\n",
    "        if not pd.isnull(r.pvalue):\n",
    "            coors.append(r.correlation)\n",
    "            pvals.append(r.pvalue)\n",
    "        else:\n",
    "            coors.append(default)\n",
    "            pvals.append(1.)\n",
    "    return np.asarray(coors), np.asarray(pvals)"
   ]
  },
  {
   "cell_type": "code",
   "execution_count": null,
   "id": "921c8e3c",
   "metadata": {},
   "outputs": [],
   "source": [
    "result = get_means_and_fracs(region_id_to_region, [path])[0]"
   ]
  },
  {
   "cell_type": "code",
   "execution_count": null,
   "id": "e64d0bef",
   "metadata": {},
   "outputs": [],
   "source": [
    "result['vals'].shape"
   ]
  },
  {
   "cell_type": "code",
   "execution_count": null,
   "id": "cd396909",
   "metadata": {},
   "outputs": [],
   "source": [
    "# avg = np.stack([x.mean(0) for x in result['other_vals']]).T\n",
    "# coors, pvals = get_correlations(result['vals'] - avg)\n",
    "coors, pvals = get_correlations(result['vals'])\n",
    "vals, fracs, zs, other_vals, other_fracs = result['vals'], result['fracs'], result['zs'], result['other_vals'], result['other_fracs']\n",
    "\n",
    "coors.shape"
   ]
  },
  {
   "cell_type": "code",
   "execution_count": null,
   "id": "ed20da95",
   "metadata": {},
   "outputs": [],
   "source": [
    "avg.shape, result['vals'].shape"
   ]
  },
  {
   "cell_type": "code",
   "execution_count": null,
   "id": "1e8e15d3",
   "metadata": {},
   "outputs": [],
   "source": [
    "pvals"
   ]
  },
  {
   "cell_type": "code",
   "execution_count": null,
   "id": "264ba15c",
   "metadata": {
    "scrolled": true
   },
   "outputs": [],
   "source": [
    "idxs = np.argsort(coors)\n",
    "m = np.asarray([x > .1 for x in fracs[idxs].max(-1)])\n",
    "m &= pvals[idxs] < .05\n",
    "idxs = idxs[m]\n",
    "\n",
    "ordered = np.asarray(dtype_to_channels['xenium'])[idxs]\n",
    "\n",
    "ordered"
   ]
  },
  {
   "cell_type": "code",
   "execution_count": null,
   "id": "eb1ef075",
   "metadata": {},
   "outputs": [],
   "source": [
    "# n = 15\n",
    "\n",
    "# data = vals[idxs[:n]]\n",
    "# data = np.concatenate((data, vals[idxs[-n:]]))\n",
    "# source = pd.DataFrame(data=data.T, columns=np.concatenate((ordered[:n], ordered[-n:])), index=zs)\n",
    "data = vals[idxs]\n",
    "source = pd.DataFrame(data=data.T, columns=ordered, index=zs)\n",
    "source"
   ]
  },
  {
   "cell_type": "code",
   "execution_count": null,
   "id": "7bd14abd",
   "metadata": {},
   "outputs": [],
   "source": [
    "fig_dir"
   ]
  },
  {
   "cell_type": "code",
   "execution_count": null,
   "id": "55da21cf",
   "metadata": {},
   "outputs": [],
   "source": [
    "fig, ax = plt.subplots(figsize=(15, 10))\n",
    "sns.heatmap(source, cmap='Blues')\n",
    "plt.savefig(fig_dir / 'roi1_gene_heatmap.svg')"
   ]
  },
  {
   "cell_type": "code",
   "execution_count": null,
   "id": "be291faf",
   "metadata": {
    "scrolled": true
   },
   "outputs": [],
   "source": [
    "df = pd.DataFrame(coors, index=dtype_to_channels['xenium'], columns=['correlation'])\n",
    "df['pvals'] = pvals\n",
    "df = df.loc[source.columns]\n",
    "df"
   ]
  },
  {
   "cell_type": "code",
   "execution_count": null,
   "id": "cac3c640",
   "metadata": {},
   "outputs": [],
   "source": [
    "sns.heatmap(df[['correlation']], cmap='PiYG')\n",
    "plt.savefig(fig_dir / 'roi1_gene_heatmap_corrs.svg')"
   ]
  },
  {
   "cell_type": "code",
   "execution_count": null,
   "id": "b92febc0",
   "metadata": {},
   "outputs": [],
   "source": [
    "sns.heatmap(df[['pvals']], cmap='cividis_r', vmin=0, vmax=.05)\n",
    "plt.savefig(fig_dir / 'roi1_gene_heatmap_pvals.svg')"
   ]
  },
  {
   "cell_type": "code",
   "execution_count": null,
   "id": "bcf05326",
   "metadata": {},
   "outputs": [],
   "source": [
    "region['coordinates']"
   ]
  },
  {
   "cell_type": "code",
   "execution_count": null,
   "id": "8633d9ee",
   "metadata": {},
   "outputs": [],
   "source": [
    "radius = 150\n",
    "imgs = []\n",
    "for rid in keep:\n",
    "    region = region_id_to_region[rid]\n",
    "    mask = region['mask']\n",
    "    \n",
    "    expanded = mask.copy()\n",
    "    for i in range(15):\n",
    "        expanded = skimage.morphology.binary_dilation(expanded)\n",
    "    \n",
    "    rlabeled = skimage.morphology.label(mask)\n",
    "    prop = skimage.measure.regionprops(rlabeled)[0]\n",
    "    r, c = prop['centroid']\n",
    "    r, c = int(r), int(c)\n",
    "    \n",
    "    r1 = max(0, r - radius)\n",
    "    c1 = max(0, c - radius)\n",
    "    r2 = min(mask.shape[0] - 1, r + 100)\n",
    "    c2 = min(mask.shape[1] - 1, c + 100)\n",
    "    \n",
    "    rgb = sid_to_rgb[region['sid']]\n",
    "    \n",
    "    inner = expanded.copy()\n",
    "    for i in range(5):\n",
    "        inner = skimage.morphology.binary_erosion(inner)\n",
    "    ring = expanded ^ inner\n",
    "    rgb[ring] = [255, 255, 0]\n",
    "    \n",
    "    imgs.append(rgb[r1:r2, c1:c2])\n",
    "len(imgs)"
   ]
  },
  {
   "cell_type": "code",
   "execution_count": null,
   "id": "39717df8",
   "metadata": {},
   "outputs": [],
   "source": [
    "\n",
    "for img in imgs:\n",
    "    plt.imshow(img)\n",
    "    plt.show()"
   ]
  },
  {
   "cell_type": "code",
   "execution_count": null,
   "id": "393025c0",
   "metadata": {},
   "outputs": [],
   "source": [
    "fig, axs = plt.subplots(ncols=len(imgs), figsize=(len(imgs), 1))\n",
    "\n",
    "for rid, img, ax in zip(keep, imgs, axs):\n",
    "    region = region_id_to_region[rid]\n",
    "    position = region['position']\n",
    "    \n",
    "    ax.imshow(img)\n",
    "    ax.set_axis_off()\n",
    "    ax.set_aspect('equal')\n",
    "    \n",
    "    ax.set_title(f'Z{position}')\n",
    "plt.subplots_adjust(wspace=0, hspace=0)\n",
    "plt.savefig(fig_dir / 'roi1_all_images.svg')"
   ]
  },
  {
   "cell_type": "code",
   "execution_count": null,
   "id": "db238d2c",
   "metadata": {},
   "outputs": [],
   "source": []
  },
  {
   "cell_type": "code",
   "execution_count": null,
   "id": "f1723c73",
   "metadata": {},
   "outputs": [],
   "source": [
    "region = list(region_id_to_region.values())[0]\n",
    "region.keys()"
   ]
  },
  {
   "cell_type": "code",
   "execution_count": null,
   "id": "888283ba",
   "metadata": {},
   "outputs": [],
   "source": [
    "rlabeled = skimage.morphology.label(region['mask'])\n",
    "prop = skimage.measure.regionprops(rlabeled)[0]\n",
    "prop"
   ]
  },
  {
   "cell_type": "code",
   "execution_count": null,
   "id": "192f263f",
   "metadata": {},
   "outputs": [],
   "source": [
    "plt.imshow(region['mask'])"
   ]
  },
  {
   "cell_type": "code",
   "execution_count": null,
   "id": "2c461dbd",
   "metadata": {},
   "outputs": [],
   "source": [
    "prop.centroid_local"
   ]
  },
  {
   "cell_type": "code",
   "execution_count": null,
   "id": "b4a6f7f4",
   "metadata": {},
   "outputs": [],
   "source": [
    "prop.centroid"
   ]
  },
  {
   "cell_type": "code",
   "execution_count": null,
   "id": "2d811d01",
   "metadata": {},
   "outputs": [],
   "source": []
  },
  {
   "cell_type": "code",
   "execution_count": null,
   "id": "b7fcb472",
   "metadata": {},
   "outputs": [],
   "source": []
  },
  {
   "cell_type": "code",
   "execution_count": null,
   "id": "7c7261a0",
   "metadata": {},
   "outputs": [],
   "source": []
  },
  {
   "cell_type": "code",
   "execution_count": null,
   "id": "dbfdcaca",
   "metadata": {},
   "outputs": [],
   "source": []
  },
  {
   "cell_type": "code",
   "execution_count": null,
   "id": "b877b184",
   "metadata": {},
   "outputs": [],
   "source": []
  },
  {
   "cell_type": "code",
   "execution_count": null,
   "id": "31507401",
   "metadata": {},
   "outputs": [],
   "source": []
  },
  {
   "cell_type": "code",
   "execution_count": null,
   "id": "1ac2b927",
   "metadata": {},
   "outputs": [],
   "source": []
  },
  {
   "cell_type": "code",
   "execution_count": null,
   "id": "53ec5a21",
   "metadata": {},
   "outputs": [],
   "source": []
  },
  {
   "cell_type": "code",
   "execution_count": null,
   "id": "81113930",
   "metadata": {},
   "outputs": [],
   "source": []
  },
  {
   "cell_type": "code",
   "execution_count": null,
   "id": "3a79d9fc",
   "metadata": {},
   "outputs": [],
   "source": []
  },
  {
   "cell_type": "code",
   "execution_count": null,
   "id": "033fd13a",
   "metadata": {},
   "outputs": [],
   "source": [
    "def plot_genes(genes):\n",
    "    cmap = sns.color_palette()\n",
    "    for i, gene in enumerate(genes):\n",
    "        sns.lineplot(x=zs, y=vals[dtype_to_channels['xenium'].index(gene)], label=gene, c=cmap[i])\n",
    "\n",
    "#         xs = [z for i, z in enumerate(zs) for j in range(len(other_vals[i]))]\n",
    "#         sns.lineplot(x=xs,\n",
    "#                      y=[val for x in other_vals for val in x[:, dtype_to_channels['xenium'].index(gene)]],\n",
    "#                      c=cmap[i], dashes=(2, 2), err_style='bars')\n",
    "\n",
    "    plt.xlabel('Z depth')\n",
    "    plt.ylabel('Expression')\n",
    "    plt.gca().legend(loc='center left', bbox_to_anchor=(1, 0.5))\n",
    "    plt.gca().invert_xaxis()"
   ]
  },
  {
   "cell_type": "code",
   "execution_count": null,
   "id": "49ff2da6",
   "metadata": {},
   "outputs": [],
   "source": [
    "genes = ordered[:10]\n",
    "plot_genes(genes)\n",
    "plt.savefig(fig_dir / 'roi1_expression_lineplot_pos.svg', dpi=300)"
   ]
  },
  {
   "cell_type": "code",
   "execution_count": null,
   "id": "2f82aba7",
   "metadata": {},
   "outputs": [],
   "source": [
    "genes = np.flip(ordered[-10:])\n",
    "plot_genes(genes)\n",
    "plt.savefig(fig_dir / 'roi1_expression_lineplot_neg.svg', dpi=300)"
   ]
  },
  {
   "cell_type": "code",
   "execution_count": null,
   "id": "77c5e0f0",
   "metadata": {},
   "outputs": [],
   "source": [
    "import enrichrpy.enrichr as een\n",
    "import enrichrpy.plotting as epl\n"
   ]
  },
  {
   "cell_type": "code",
   "execution_count": null,
   "id": "9092c18f",
   "metadata": {},
   "outputs": [],
   "source": [
    "df = een.get_pathway_enrichment(ordered[:10], gene_set_library='GO_Biological_Process_2021')\n",
    "epl.enrichment_barplot(df, n=20)"
   ]
  },
  {
   "cell_type": "code",
   "execution_count": null,
   "id": "766fbd53",
   "metadata": {},
   "outputs": [],
   "source": [
    "df = een.get_pathway_enrichment(ordered[-10:], gene_set_library='GO_Biological_Process_2021')\n",
    "epl.enrichment_barplot(df, n=20)"
   ]
  },
  {
   "cell_type": "code",
   "execution_count": null,
   "id": "af7fa2f9",
   "metadata": {},
   "outputs": [],
   "source": [
    "results = get_means_and_fracs(region_id_to_region, paths.values(), mean_key='means_tme', frac_key='fracs_tme')\n",
    "avg = np.stack([x.mean(0) for x in results[0]['other_vals']]).T\n",
    "coors = get_correlations(results[0]['vals'] - avg)\n",
    "vals, fracs, zs, other_vals, other_fracs = results[0]['vals'], results[0]['fracs'], results[0]['zs'], results[0]['other_vals'], results[0]['other_fracs']\n",
    "\n",
    "idxs = np.argsort(coors)\n",
    "idxs = idxs[[x > .01 for x in fracs[idxs].max(-1)]]\n",
    "ordered = np.asarray(dtype_to_channels['xenium'])[idxs]\n",
    "\n",
    "# ordered = ordered[[x > .01 for x in fracs.max(-1)]]\n",
    "ordered"
   ]
  },
  {
   "cell_type": "code",
   "execution_count": null,
   "id": "077629d1",
   "metadata": {},
   "outputs": [],
   "source": [
    "genes = ordered[:10]\n",
    "plot_genes(genes)\n",
    "plt.savefig(fig_dir / 'roi1_expression_lineplot_pos_tme.svg', dpi=300)"
   ]
  },
  {
   "cell_type": "code",
   "execution_count": null,
   "id": "f58e0a11",
   "metadata": {},
   "outputs": [],
   "source": [
    "genes = np.flip(ordered[-10:])\n",
    "plot_genes(genes)\n",
    "plt.savefig(fig_dir / 'roi1_expression_lineplot_neg_tme.svg', dpi=300)"
   ]
  },
  {
   "cell_type": "code",
   "execution_count": null,
   "id": "ae4a7ca9",
   "metadata": {},
   "outputs": [],
   "source": [
    "def display_genes(gene, dt='xenium', figsize=(6, 20), mask_key='ring'):\n",
    "    fig, axs = plt.subplots(ncols=3, nrows=len(dtype_to_tiled[dt]), figsize=figsize)\n",
    "\n",
    "    for idx, (sid, tiled) in enumerate(sid_to_tiled.items()):\n",
    "        dtype = sid_to_dtype[sid]\n",
    "        rgb = sid_to_rgb[sid]\n",
    "        if dtype == dt:\n",
    "            channels = dtype_to_channels[dtype]\n",
    "            local_r1, local_r2, local_c1, local_c2 = [x // tiling_resolution for x in [r1, r2, c1, c2]]\n",
    "            x = tiled[channels.index(gene), local_r1:local_r2, local_c1:local_c2].copy()\n",
    "            mask = None\n",
    "#             if sid in selected_regions:\n",
    "#                 region = selected_regions[sid]\n",
    "#                 mask = region[mask_key][local_r1:local_r2, local_c1:local_c2].copy()\n",
    "# #                 initial = scipy.ndimage.binary_fill_holes(mask)\n",
    "# #                 outer = skimage.morphology.binary_dilation(initial)\n",
    "# #                 mask = outer ^ initial\n",
    "# #                 x[mask] = x.max()\n",
    "#                 axs[idx, 2].imshow(mask)\n",
    "\n",
    "            axs[idx, 0].imshow(rgb)\n",
    "            axs[idx, 1].imshow(x)\n",
    "\n",
    "\n",
    "    "
   ]
  },
  {
   "cell_type": "code",
   "execution_count": null,
   "id": "c8fdf371",
   "metadata": {},
   "outputs": [],
   "source": [
    "display_genes('AQP9', mask_key='tme')"
   ]
  },
  {
   "cell_type": "code",
   "execution_count": null,
   "id": "028f165d",
   "metadata": {},
   "outputs": [],
   "source": []
  },
  {
   "cell_type": "code",
   "execution_count": null,
   "id": "14abcb9b",
   "metadata": {},
   "outputs": [],
   "source": [
    "transcripts = pd.read_parquet(project_dir / 'sandbox' / 'transcripts.parquet')\n",
    "transcripts"
   ]
  },
  {
   "cell_type": "code",
   "execution_count": null,
   "id": "52ff193a",
   "metadata": {},
   "outputs": [],
   "source": [
    "h, w = transcripts['y_location'].max(), transcripts['x_location'].max()\n",
    "h, w = int(h) + 1, int(w) + 1\n",
    "h, w"
   ]
  },
  {
   "cell_type": "code",
   "execution_count": null,
   "id": "980af3d1",
   "metadata": {},
   "outputs": [],
   "source": []
  },
  {
   "cell_type": "code",
   "execution_count": null,
   "id": "eaa11149",
   "metadata": {},
   "outputs": [],
   "source": [
    "intact_coords = pd.read_csv(project_dir / 'sandbox' / 'intact_coordinates.csv', skiprows=2)\n",
    "intact_coords"
   ]
  },
  {
   "cell_type": "code",
   "execution_count": null,
   "id": "387c5c1b",
   "metadata": {},
   "outputs": [],
   "source": [
    "deg_coords = pd.read_csv(project_dir / 'sandbox' / 'degraded_coordinates.csv', skiprows=2)\n",
    "deg_coords"
   ]
  },
  {
   "cell_type": "code",
   "execution_count": null,
   "id": "75d20042",
   "metadata": {},
   "outputs": [],
   "source": [
    "def get_transcripts(coord_df, transcripts_df):\n",
    "    sections = sorted(set(coord_df['Selection']))\n",
    "    mask = np.zeros((h, w), dtype=bool)\n",
    "    for section in sections:\n",
    "        f = intact_coords[coord_df['Selection']==section]\n",
    "        mask |= skimage.draw.polygon2mask((h, w), f[['Y', 'X']].values)\n",
    "        \n",
    "    keep = np.asarray([mask[int(r), int(c)] for r, c in zip(transcripts_df['y_location'], transcripts_df['x_location'])])\n",
    "    return transcripts_df[keep]"
   ]
  },
  {
   "cell_type": "code",
   "execution_count": null,
   "id": "1165d5ea",
   "metadata": {},
   "outputs": [],
   "source": [
    "intact_df = get_transcripts(intact_coords, transcripts)\n",
    "intact_df"
   ]
  },
  {
   "cell_type": "code",
   "execution_count": null,
   "id": "de47bb76",
   "metadata": {},
   "outputs": [],
   "source": [
    "deg_df = get_transcripts(deg_coords, transcripts)\n",
    "deg_df"
   ]
  },
  {
   "cell_type": "code",
   "execution_count": null,
   "id": "a3ae054c",
   "metadata": {},
   "outputs": [],
   "source": [
    "intact_counts = {i:x for i, x in intact_df.groupby('feature_name').count()['transcript_id'].items()}\n",
    "deg_counts = {i:x for i, x in deg_df.groupby('feature_name').count()['transcript_id'].items()}\n",
    "\n",
    "pool = set(intact_counts.keys()).union(set(deg_counts.keys()))\n",
    "pool = [x for x in pool if intact_counts.get(x, 0) > 10 or deg_counts.get(x, 0) > 10]\n",
    "len(pool)"
   ]
  },
  {
   "cell_type": "code",
   "execution_count": null,
   "id": "4a8535a5",
   "metadata": {},
   "outputs": [],
   "source": [
    "ratios = np.asarray([deg_counts.get(gene, 0) / (deg_counts.get(gene, 0) + intact_counts.get(gene, 0)) for gene in pool])\n",
    "ratios"
   ]
  },
  {
   "cell_type": "code",
   "execution_count": null,
   "id": "3e845062",
   "metadata": {},
   "outputs": [],
   "source": [
    "np.asarray(pool)[np.argsort(ratios)]"
   ]
  },
  {
   "cell_type": "code",
   "execution_count": null,
   "id": "2c2c5b00",
   "metadata": {},
   "outputs": [],
   "source": []
  },
  {
   "cell_type": "code",
   "execution_count": null,
   "id": "ffffd6d3",
   "metadata": {},
   "outputs": [],
   "source": []
  },
  {
   "cell_type": "code",
   "execution_count": null,
   "id": "e6729bbc",
   "metadata": {},
   "outputs": [],
   "source": []
  },
  {
   "cell_type": "code",
   "execution_count": null,
   "id": "c27e9056",
   "metadata": {},
   "outputs": [],
   "source": []
  },
  {
   "cell_type": "code",
   "execution_count": null,
   "id": "be1dcafb",
   "metadata": {},
   "outputs": [],
   "source": []
  },
  {
   "cell_type": "code",
   "execution_count": null,
   "id": "ebf55aa8",
   "metadata": {},
   "outputs": [],
   "source": []
  },
  {
   "cell_type": "code",
   "execution_count": null,
   "id": "8ecb8607",
   "metadata": {},
   "outputs": [],
   "source": []
  },
  {
   "cell_type": "code",
   "execution_count": null,
   "id": "cb88f533",
   "metadata": {},
   "outputs": [],
   "source": []
  },
  {
   "cell_type": "code",
   "execution_count": null,
   "id": "5adca81a",
   "metadata": {},
   "outputs": [],
   "source": []
  },
  {
   "cell_type": "code",
   "execution_count": null,
   "id": "55f4e7c3",
   "metadata": {},
   "outputs": [],
   "source": []
  },
  {
   "cell_type": "code",
   "execution_count": null,
   "id": "5c377b87",
   "metadata": {},
   "outputs": [],
   "source": []
  },
  {
   "cell_type": "code",
   "execution_count": null,
   "id": "085518ea",
   "metadata": {},
   "outputs": [],
   "source": []
  },
  {
   "cell_type": "code",
   "execution_count": null,
   "id": "ca0b5995",
   "metadata": {},
   "outputs": [],
   "source": []
  },
  {
   "cell_type": "code",
   "execution_count": null,
   "id": "49e9d889",
   "metadata": {},
   "outputs": [],
   "source": []
  },
  {
   "cell_type": "code",
   "execution_count": null,
   "id": "0efae82c",
   "metadata": {},
   "outputs": [],
   "source": []
  },
  {
   "cell_type": "code",
   "execution_count": null,
   "id": "9da23095",
   "metadata": {},
   "outputs": [],
   "source": []
  },
  {
   "cell_type": "code",
   "execution_count": null,
   "id": "4682c523",
   "metadata": {},
   "outputs": [],
   "source": []
  },
  {
   "cell_type": "code",
   "execution_count": null,
   "id": "8252a7cd",
   "metadata": {},
   "outputs": [],
   "source": []
  },
  {
   "cell_type": "code",
   "execution_count": null,
   "id": "6a74b657",
   "metadata": {},
   "outputs": [],
   "source": []
  },
  {
   "cell_type": "code",
   "execution_count": null,
   "id": "85381baf",
   "metadata": {},
   "outputs": [],
   "source": []
  },
  {
   "cell_type": "code",
   "execution_count": null,
   "id": "6369ef38",
   "metadata": {},
   "outputs": [],
   "source": []
  },
  {
   "cell_type": "code",
   "execution_count": null,
   "id": "61fd8d68",
   "metadata": {},
   "outputs": [],
   "source": []
  },
  {
   "cell_type": "code",
   "execution_count": null,
   "id": "7b279b55",
   "metadata": {},
   "outputs": [],
   "source": []
  },
  {
   "cell_type": "code",
   "execution_count": null,
   "id": "01bfe7b5",
   "metadata": {},
   "outputs": [],
   "source": []
  },
  {
   "cell_type": "code",
   "execution_count": null,
   "id": "3d30f8dd",
   "metadata": {},
   "outputs": [],
   "source": [
    "genes = ordered[:5]\n",
    "fig, axs = plt.subplots(ncols=1, nrows=len(results))\n",
    "for ax, result in zip(axs, results):\n",
    "    for gene in genes:\n",
    "        sns.lineplot(x=result['zs'], y=result['vals'][dtype_to_channels['xenium'].index(gene)], ax=ax)\n",
    "    ax.set_ylim(0, 1.5)\n",
    "    ax.set_xlim(0, 600)"
   ]
  },
  {
   "cell_type": "code",
   "execution_count": null,
   "id": "bf97d07b",
   "metadata": {},
   "outputs": [],
   "source": [
    "genes = np.flip(ordered[-5:])\n",
    "fig, axs = plt.subplots(ncols=1, nrows=len(results))\n",
    "for ax, result in zip(axs, results):\n",
    "    for gene in genes:\n",
    "        sns.lineplot(x=result['zs'], y=result['vals'][dtype_to_channels['xenium'].index(gene)], ax=ax)\n",
    "    ax.set_ylim(0, 2.5)\n",
    "    ax.set_xlim(0, 600)"
   ]
  },
  {
   "cell_type": "code",
   "execution_count": null,
   "id": "001ada3f",
   "metadata": {},
   "outputs": [],
   "source": [
    "import seaborn as sns"
   ]
  },
  {
   "cell_type": "code",
   "execution_count": null,
   "id": "c7c14feb",
   "metadata": {},
   "outputs": [],
   "source": []
  },
  {
   "cell_type": "code",
   "execution_count": null,
   "id": "7d1c4cf5",
   "metadata": {},
   "outputs": [],
   "source": []
  },
  {
   "cell_type": "code",
   "execution_count": null,
   "id": "b120fafc",
   "metadata": {
    "scrolled": true
   },
   "outputs": [],
   "source": [
    "pts = json.load(open(regions_fp))['features']\n",
    "pts = [x['geometry'] for x in pts if x['geometry']['type']=='Point']\n",
    "pts = [{'coordinates': np.asarray(x['coordinates'])[[1, 0]], 'z': x['plane']['z']} for x in pts]\n",
    "pts"
   ]
  },
  {
   "cell_type": "code",
   "execution_count": null,
   "id": "1f540c37",
   "metadata": {},
   "outputs": [],
   "source": [
    "def get_means_and_fracs(regions, pts, dtype='xenium', mean_key='means', frac_key='fracs'):\n",
    "    vals = []\n",
    "    fracs = []\n",
    "    selected_regions = {}\n",
    "    for region in regions:\n",
    "        if 'dtype' in region and region['dtype'] == dtype:\n",
    "            for pt in pts:\n",
    "                r, c = [int(x) for x in pt['coordinates']]\n",
    "                if region['mask'][r, c] and region['z']==pt['z']:\n",
    "                    print(region['z'])\n",
    "                    vals.append(region[mean_key])\n",
    "                    fracs.append(region[frac_key])\n",
    "                    selected_regions[region['sid']] = region\n",
    "    vals, fracs = np.stack(vals), np.stack(fracs)\n",
    "    vals, fracs = rearrange(vals, 'c n -> n c'), rearrange(fracs, 'c n -> n c')\n",
    "    return vals, fracs\n",
    "\n",
    "def get_correlations(vals, default=0.):\n",
    "    coors = []\n",
    "    for row in vals:\n",
    "        x = scipy.stats.pearsonr(row, np.arange(len(row))).correlation\n",
    "        if not pd.isnull(pval):\n",
    "            coors.append(x)\n",
    "        else:\n",
    "            coors.append(default)\n",
    "    return np.asarray(coors)"
   ]
  },
  {
   "cell_type": "code",
   "execution_count": null,
   "id": "978639eb",
   "metadata": {},
   "outputs": [],
   "source": [
    "vals, fracs = get_means_and_fracs(regions, pts)\n",
    "coors = get_correlations(vals)\n",
    "vals.shape, fracs.shape, coors.shape"
   ]
  },
  {
   "cell_type": "code",
   "execution_count": null,
   "id": "7b057aa2",
   "metadata": {
    "scrolled": true
   },
   "outputs": [],
   "source": [
    "idxs = np.argsort(coors)\n",
    "np.asarray(dtype_to_channels['xenium'])[idxs]"
   ]
  },
  {
   "cell_type": "code",
   "execution_count": null,
   "id": "7c616ad0",
   "metadata": {
    "scrolled": true
   },
   "outputs": [],
   "source": [
    "np.asarray(dtype_to_channels['xenium'])[np.flip(idxs)]"
   ]
  },
  {
   "cell_type": "code",
   "execution_count": null,
   "id": "dc197f5c",
   "metadata": {
    "scrolled": true
   },
   "outputs": [],
   "source": [
    "idxs = [i for i in idxs if fracs[i].max() > .1]\n",
    "np.asarray(dtype_to_channels['xenium'])[idxs]"
   ]
  },
  {
   "cell_type": "code",
   "execution_count": null,
   "id": "5b57ebdc",
   "metadata": {},
   "outputs": [],
   "source": [
    "import seaborn as sns\n",
    "for i in range(10):\n",
    "    sns.lineplot(np.flip(vals[idxs[i]]))"
   ]
  },
  {
   "cell_type": "code",
   "execution_count": null,
   "id": "a4fe4182",
   "metadata": {},
   "outputs": [],
   "source": [
    "import seaborn as sns\n",
    "for i in range(1, 10, 1):\n",
    "    sns.lineplot(np.flip(vals[idxs[-i]]))"
   ]
  },
  {
   "cell_type": "code",
   "execution_count": null,
   "id": "ef5b8f5b",
   "metadata": {},
   "outputs": [],
   "source": [
    "size"
   ]
  },
  {
   "cell_type": "code",
   "execution_count": null,
   "id": "23736ea1",
   "metadata": {},
   "outputs": [],
   "source": [
    "def display_genes(gene, dt='xenium', figsize=(6, 20), mask_key='ring'):\n",
    "    fig, axs = plt.subplots(ncols=3, nrows=len(dtype_to_tiled[dt]), figsize=figsize)\n",
    "\n",
    "    for idx, (sid, tiled) in enumerate(sid_to_tiled.items()):\n",
    "        dtype = sid_to_dtype[sid]\n",
    "        rgb = sid_to_rgb[sid]\n",
    "        if dtype == dt:\n",
    "            channels = dtype_to_channels[dtype]\n",
    "            local_r1, local_r2, local_c1, local_c2 = [x // tiling_resolution for x in [r1, r2, c1, c2]]\n",
    "            x = tiled[channels.index(gene), local_r1:local_r2, local_c1:local_c2].copy()\n",
    "            mask = None\n",
    "            if sid in selected_regions:\n",
    "                region = selected_regions[sid]\n",
    "                mask = region[mask_key][local_r1:local_r2, local_c1:local_c2].copy()\n",
    "#                 initial = scipy.ndimage.binary_fill_holes(mask)\n",
    "#                 outer = skimage.morphology.binary_dilation(initial)\n",
    "#                 mask = outer ^ initial\n",
    "#                 x[mask] = x.max()\n",
    "                axs[idx, 2].imshow(mask)\n",
    "\n",
    "            axs[idx, 0].imshow(rgb)\n",
    "            axs[idx, 1].imshow(x)\n",
    "\n",
    "\n",
    "    "
   ]
  },
  {
   "cell_type": "code",
   "execution_count": null,
   "id": "ff8db0b3",
   "metadata": {},
   "outputs": [],
   "source": [
    "for i in range(0, 10, 1):\n",
    "    gene = dtype_to_channels['xenium'][idxs[i]]\n",
    "    print(gene)\n",
    "    display_genes(gene)\n",
    "    plt.show()"
   ]
  },
  {
   "cell_type": "code",
   "execution_count": null,
   "id": "68a98c84",
   "metadata": {},
   "outputs": [],
   "source": [
    "for i in range(1, 10, 1):\n",
    "    gene = dtype_to_channels['xenium'][idxs[-i]]\n",
    "    print(gene)\n",
    "    display_genes(gene)\n",
    "    plt.show()"
   ]
  },
  {
   "cell_type": "code",
   "execution_count": null,
   "id": "5a4745bc",
   "metadata": {},
   "outputs": [],
   "source": [
    "vals, fracs = get_means_and_fracs(regions, pts, mean_key='means_tme', frac_key='fracs_tme')\n",
    "coors = get_correlations(vals)\n",
    "vals.shape, fracs.shape, coors.shape"
   ]
  },
  {
   "cell_type": "code",
   "execution_count": null,
   "id": "10359dc0",
   "metadata": {
    "scrolled": true
   },
   "outputs": [],
   "source": [
    "idxs = np.argsort(coors)\n",
    "np.asarray(dtype_to_channels['xenium'])[idxs]"
   ]
  },
  {
   "cell_type": "code",
   "execution_count": null,
   "id": "e9659b57",
   "metadata": {
    "scrolled": true
   },
   "outputs": [],
   "source": [
    "idxs = [i for i in idxs if fracs[i].max() > .1]\n",
    "np.asarray(dtype_to_channels['xenium'])[idxs]"
   ]
  },
  {
   "cell_type": "code",
   "execution_count": null,
   "id": "e85f5080",
   "metadata": {
    "scrolled": true
   },
   "outputs": [],
   "source": [
    "np.asarray(dtype_to_channels['xenium'])[np.flip(idxs)]"
   ]
  },
  {
   "cell_type": "code",
   "execution_count": null,
   "id": "fa2bd209",
   "metadata": {},
   "outputs": [],
   "source": [
    "import seaborn as sns\n",
    "for i in range(10):\n",
    "    sns.lineplot(np.flip(vals[idxs[i]]))"
   ]
  },
  {
   "cell_type": "code",
   "execution_count": null,
   "id": "b4e531d5",
   "metadata": {},
   "outputs": [],
   "source": [
    "import seaborn as sns\n",
    "for i in range(1, 10, 1):\n",
    "    sns.lineplot(np.flip(vals[idxs[-i]]))"
   ]
  },
  {
   "cell_type": "code",
   "execution_count": null,
   "id": "3fb9bbab",
   "metadata": {
    "scrolled": true
   },
   "outputs": [],
   "source": [
    "for i in range(0, 20, 1):\n",
    "    gene = dtype_to_channels['xenium'][idxs[i]]\n",
    "    print(gene)\n",
    "    display_genes(gene, mask_key='tme')\n",
    "    plt.show()"
   ]
  },
  {
   "cell_type": "code",
   "execution_count": null,
   "id": "284f44cd",
   "metadata": {
    "scrolled": true
   },
   "outputs": [],
   "source": [
    "for i in range(1, 10, 1):\n",
    "    gene = dtype_to_channels['xenium'][idxs[-i]]\n",
    "    print(gene)\n",
    "    display_genes(gene, mask_key='tme')\n",
    "    plt.show()"
   ]
  },
  {
   "cell_type": "code",
   "execution_count": null,
   "id": "057ad822",
   "metadata": {},
   "outputs": [],
   "source": [
    "display_genes('C5AR1', mask_key='tme')"
   ]
  },
  {
   "cell_type": "code",
   "execution_count": null,
   "id": "8d8e2964",
   "metadata": {},
   "outputs": [],
   "source": []
  },
  {
   "cell_type": "code",
   "execution_count": null,
   "id": "77c01f6b",
   "metadata": {},
   "outputs": [],
   "source": []
  },
  {
   "cell_type": "code",
   "execution_count": null,
   "id": "00a25f50",
   "metadata": {},
   "outputs": [],
   "source": []
  },
  {
   "cell_type": "code",
   "execution_count": null,
   "id": "d5e7f328",
   "metadata": {},
   "outputs": [],
   "source": []
  },
  {
   "cell_type": "code",
   "execution_count": null,
   "id": "dface441",
   "metadata": {},
   "outputs": [],
   "source": []
  },
  {
   "cell_type": "code",
   "execution_count": null,
   "id": "b9f6ed04",
   "metadata": {},
   "outputs": [],
   "source": []
  },
  {
   "cell_type": "code",
   "execution_count": null,
   "id": "dfe983d3",
   "metadata": {},
   "outputs": [],
   "source": []
  },
  {
   "cell_type": "code",
   "execution_count": null,
   "id": "83974a1f",
   "metadata": {},
   "outputs": [],
   "source": [
    "import math\n",
    "\n",
    "import matplotlib.pyplot as plt\n",
    "import numpy as np\n",
    "\n",
    "from matplotlib.collections import PolyCollection\n",
    "\n",
    "# Fixing random state for reproducibility\n",
    "np.random.seed(19680801)\n",
    "\n",
    "\n",
    "def polygon_under_graph(x, y):\n",
    "    \"\"\"\n",
    "    Construct the vertex list which defines the polygon filling the space under\n",
    "    the (x, y) line graph. This assumes x is in ascending order.\n",
    "    \"\"\"\n",
    "    return [(x[0], 0.), *zip(x, y), (x[-1], 0.)]\n",
    "\n",
    "\n",
    "ax = plt.figure().add_subplot(projection='3d')\n",
    "\n",
    "x = np.linspace(0., 10., 31)\n",
    "lambdas = range(1, 9)\n",
    "\n",
    "# verts[i] is a list of (x, y) pairs defining polygon i.\n",
    "gamma = np.vectorize(math.gamma)\n",
    "verts = [polygon_under_graph(x, l**x * np.exp(-l) / gamma(x + 1))\n",
    "         for l in lambdas]\n",
    "facecolors = plt.colormaps['viridis_r'](np.linspace(0, 1, len(verts)))\n",
    "verts = [np.asarray(x) for x in verts]\n",
    "print(len(verts), verts[0].shape)\n",
    "\n",
    "poly = PolyCollection(verts, facecolors=facecolors, alpha=.7)\n",
    "ax.add_collection3d(poly, zs=lambdas, zdir='y')\n",
    "\n",
    "ax.set(xlim=(0, 10), ylim=(1, 9), zlim=(0, 0.35),\n",
    "       xlabel='x', ylabel=r'$\\lambda$', zlabel='probability')\n",
    "\n",
    "plt.show()"
   ]
  },
  {
   "cell_type": "code",
   "execution_count": null,
   "id": "fb775c69",
   "metadata": {},
   "outputs": [],
   "source": [
    "ax = plt.figure().add_subplot(projection='3d')\n",
    "poly = PolyCollection(verts, facecolors=facecolors, alpha=.7)\n",
    "ax.add_collection3d(poly, zs=lambdas, zdir='y')"
   ]
  },
  {
   "cell_type": "code",
   "execution_count": null,
   "id": "8388fdbe",
   "metadata": {},
   "outputs": [],
   "source": []
  },
  {
   "cell_type": "code",
   "execution_count": null,
   "id": "ed748148",
   "metadata": {},
   "outputs": [],
   "source": []
  },
  {
   "cell_type": "code",
   "execution_count": null,
   "id": "69b5a69e",
   "metadata": {},
   "outputs": [],
   "source": []
  },
  {
   "cell_type": "code",
   "execution_count": null,
   "id": "6246d707",
   "metadata": {},
   "outputs": [],
   "source": []
  },
  {
   "cell_type": "code",
   "execution_count": null,
   "id": "9eacc154",
   "metadata": {},
   "outputs": [],
   "source": []
  },
  {
   "cell_type": "code",
   "execution_count": null,
   "id": "4d7ed3e0",
   "metadata": {},
   "outputs": [],
   "source": []
  },
  {
   "cell_type": "code",
   "execution_count": null,
   "id": "243a0e37",
   "metadata": {},
   "outputs": [],
   "source": [
    "dtype_to_channels = {\n",
    "    'xenium': [],\n",
    "    'multiplex': []\n",
    "}\n",
    "for dtype in dtype_to_channels.keys():\n",
    "    fps = [entry['data'][0]['filepath'] for entry in config['sections'] if entry['data'][0]['dtype']==dtype]\n",
    "    if 'multiplex' in dtype:\n",
    "        dtype_to_channels[dtype] = multiplex.get_common_channels(fps)\n",
    "    else:\n",
    "        dtype_to_channels[dtype] = xenium.get_common_channels(fps)\n",
    "dtype_to_channels"
   ]
  },
  {
   "cell_type": "code",
   "execution_count": null,
   "id": "dab0b8e6",
   "metadata": {},
   "outputs": [],
   "source": [
    "dtype_to_tiled = {}\n",
    "for dtype, channels in dtype_to_channels.items():\n",
    "    dtype_to_tiled[dtype] = tiling_utils.get_tiled_sections(\n",
    "        config, dtype=dtype, channel_names=channels,\n",
    "        tiling_size=tiling_size, target_size=target_size\n",
    "    )\n",
    "for dtype, tiled in dtype_to_tiled.items():\n",
    "    print(dtype, tiled.shape)"
   ]
  },
  {
   "cell_type": "code",
   "execution_count": null,
   "id": "e57ca9fd",
   "metadata": {},
   "outputs": [],
   "source": []
  },
  {
   "cell_type": "code",
   "execution_count": null,
   "id": "d9c8c8d0",
   "metadata": {},
   "outputs": [],
   "source": []
  },
  {
   "cell_type": "code",
   "execution_count": null,
   "id": "9d15eeb5",
   "metadata": {},
   "outputs": [],
   "source": []
  },
  {
   "cell_type": "code",
   "execution_count": null,
   "id": "d0a76986",
   "metadata": {},
   "outputs": [],
   "source": []
  },
  {
   "cell_type": "code",
   "execution_count": null,
   "id": "9ee48f0f",
   "metadata": {},
   "outputs": [],
   "source": []
  },
  {
   "cell_type": "code",
   "execution_count": null,
   "id": "4a45f843",
   "metadata": {},
   "outputs": [],
   "source": []
  },
  {
   "cell_type": "code",
   "execution_count": null,
   "id": "1ce7cb4e",
   "metadata": {},
   "outputs": [],
   "source": []
  },
  {
   "cell_type": "code",
   "execution_count": null,
   "id": "e2e41743",
   "metadata": {},
   "outputs": [],
   "source": []
  }
 ],
 "metadata": {
  "kernelspec": {
   "display_name": "Python 3 (ipykernel)",
   "language": "python",
   "name": "python3"
  },
  "language_info": {
   "codemirror_mode": {
    "name": "ipython",
    "version": 3
   },
   "file_extension": ".py",
   "mimetype": "text/x-python",
   "name": "python",
   "nbconvert_exporter": "python",
   "pygments_lexer": "ipython3",
   "version": "3.10.13"
  }
 },
 "nbformat": 4,
 "nbformat_minor": 5
}
