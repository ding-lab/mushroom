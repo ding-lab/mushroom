{
 "cells": [
  {
   "cell_type": "code",
   "execution_count": 30,
   "id": "5d42af27",
   "metadata": {},
   "outputs": [],
   "source": [
    "import copy\n",
    "import json\n",
    "import os\n",
    "import re\n",
    "import shutil\n",
    "import sys\n",
    "from pathlib import Path\n",
    "\n",
    "import numpy as np\n",
    "import matplotlib.pyplot as plt\n",
    "import skimage\n",
    "import tifffile\n",
    "import yaml\n",
    "from einops import rearrange"
   ]
  },
  {
   "cell_type": "code",
   "execution_count": 2,
   "id": "faa2fe89",
   "metadata": {},
   "outputs": [],
   "source": [
    "%load_ext autoreload"
   ]
  },
  {
   "cell_type": "code",
   "execution_count": 3,
   "id": "d5be9820",
   "metadata": {},
   "outputs": [],
   "source": [
    "%autoreload 2"
   ]
  },
  {
   "cell_type": "code",
   "execution_count": 4,
   "id": "a43cac83",
   "metadata": {},
   "outputs": [],
   "source": [
    "import mushroom.data.multiplex as multiplex\n",
    "import mushroom.data.visium as visium\n",
    "import mushroom.data.xenium as xenium\n",
    "import mushroom.data.cosmx as cosmx\n",
    "import mushroom.data.he as he\n",
    "import mushroom.data.user_points as points\n",
    "import mushroom.registration.bigwarp as bigwarp\n",
    "import mushroom.utils as utils"
   ]
  },
  {
   "cell_type": "code",
   "execution_count": 5,
   "id": "9936c7de",
   "metadata": {},
   "outputs": [],
   "source": [
    "project_dir = '/diskmnt/Projects/Users/estorrs/mushroom/data/projects/submission_v1'\n",
    "Path(project_dir).mkdir(parents=True, exist_ok=True)"
   ]
  },
  {
   "cell_type": "code",
   "execution_count": 10,
   "id": "f4f48da2",
   "metadata": {},
   "outputs": [],
   "source": [
    "multiplex_channel = 'DAPI'"
   ]
  },
  {
   "cell_type": "markdown",
   "id": "6b8c7ff4",
   "metadata": {},
   "source": [
    "## input data"
   ]
  },
  {
   "cell_type": "code",
   "execution_count": 6,
   "id": "93eaa385",
   "metadata": {},
   "outputs": [
    {
     "data": {
      "text/plain": [
       "['/diskmnt/Projects/Users/estorrs/mushroom/data/projects/submission_v1/C3L-00982/registered/metadata.yaml',\n",
       " '/diskmnt/Projects/Users/estorrs/mushroom/data/projects/submission_v1/C3L-02551/registered/metadata.yaml',\n",
       " '/diskmnt/Projects/Users/estorrs/mushroom/data/projects/submission_v1/HT206B1/registered/metadata.yaml',\n",
       " '/diskmnt/Projects/Users/estorrs/mushroom/data/projects/submission_v1/HT225C1/registered/metadata.yaml',\n",
       " '/diskmnt/Projects/Users/estorrs/mushroom/data/projects/submission_v1/HT268B1/registered/metadata.yaml',\n",
       " '/diskmnt/Projects/Users/estorrs/mushroom/data/projects/submission_v1/HT397B1/registered/metadata.yaml',\n",
       " '/diskmnt/Projects/Users/estorrs/mushroom/data/projects/submission_v1/HT413C1-Th1k4A1/registered/metadata.yaml',\n",
       " '/diskmnt/Projects/Users/estorrs/mushroom/data/projects/submission_v1/S18-25943-A7/registered/metadata.yaml',\n",
       " '/diskmnt/Projects/Users/estorrs/mushroom/data/projects/submission_v1/S18-5591-C8/registered/metadata.yaml',\n",
       " '/diskmnt/Projects/Users/estorrs/mushroom/data/projects/submission_v1/S18-9906/registered/metadata.yaml']"
      ]
     },
     "execution_count": 6,
     "metadata": {},
     "output_type": "execute_result"
    }
   ],
   "source": [
    "fps = sorted(utils.listfiles(project_dir, regex=r'registered/metadata.yaml$'))\n",
    "fps"
   ]
  },
  {
   "cell_type": "markdown",
   "id": "a6e436b0",
   "metadata": {
    "heading_collapsed": true
   },
   "source": [
    "###### C3L-00982"
   ]
  },
  {
   "cell_type": "code",
   "execution_count": 9,
   "id": "7df36703",
   "metadata": {
    "hidden": true
   },
   "outputs": [
    {
     "data": {
      "text/plain": [
       "{'resolution': 1.0,\n",
       " 'sections': [{'data': [{'dtype': 'multiplex',\n",
       "     'filepath': '/diskmnt/Projects/Users/estorrs/mushroom/data/projects/submission_v1/C3L-00982/registered/s0_C3L-00982-U1_multiplex.ome.tiff'}],\n",
       "   'position': 0,\n",
       "   'sid': 'C3L-00982-U1'},\n",
       "  {'data': [{'dtype': 'xenium',\n",
       "     'filepath': '/diskmnt/Projects/Users/estorrs/mushroom/data/projects/submission_v1/C3L-00982/registered/s1_C3L-00982-U2_xenium.h5ad'}],\n",
       "   'position': 5,\n",
       "   'sid': 'C3L-00982-U2'},\n",
       "  {'data': [{'dtype': 'multiplex',\n",
       "     'filepath': '/diskmnt/Projects/Users/estorrs/mushroom/data/projects/submission_v1/C3L-00982/registered/s2_C3L-00982-U4_multiplex.ome.tiff'}],\n",
       "   'position': 15,\n",
       "   'sid': 'C3L-00982-U4'},\n",
       "  {'data': [{'dtype': 'multiplex',\n",
       "     'filepath': '/diskmnt/Projects/Users/estorrs/mushroom/data/projects/submission_v1/C3L-00982/registered/s3_C3L-00982-U7_multiplex.ome.tiff'}],\n",
       "   'position': 30,\n",
       "   'sid': 'C3L-00982-U7'}],\n",
       " 'target_sid': 'C3L-00982-U2'}"
      ]
     },
     "execution_count": 9,
     "metadata": {},
     "output_type": "execute_result"
    }
   ],
   "source": [
    "case = 'C3L-00982'\n",
    "fp = [fp for fp in fps if case == fp.split('/')[-3]][0]\n",
    "data_map = yaml.safe_load(open(fp))\n",
    "\n",
    "output_dir = os.path.join(project_dir, case, 'masks')\n",
    "Path(output_dir).mkdir(parents=True, exist_ok=True)\n",
    "\n",
    "data_map"
   ]
  },
  {
   "cell_type": "markdown",
   "id": "30aa7405",
   "metadata": {
    "heading_collapsed": true
   },
   "source": [
    "###### C3L-02551"
   ]
  },
  {
   "cell_type": "code",
   "execution_count": 33,
   "id": "320a9c50",
   "metadata": {
    "hidden": true
   },
   "outputs": [
    {
     "data": {
      "text/plain": [
       "{'resolution': 1.0,\n",
       " 'sections': [{'data': [{'dtype': 'multiplex',\n",
       "     'filepath': '/diskmnt/Projects/Users/estorrs/mushroom/data/projects/submission_v1/C3L-02551/registered/s0_C3L-02551-U1_multiplex.ome.tiff'}],\n",
       "   'position': 0,\n",
       "   'sid': 'C3L-02551-U1'},\n",
       "  {'data': [{'dtype': 'xenium',\n",
       "     'filepath': '/diskmnt/Projects/Users/estorrs/mushroom/data/projects/submission_v1/C3L-02551/registered/s1_C3L-02551-U3_xenium.h5ad'}],\n",
       "   'position': 10,\n",
       "   'sid': 'C3L-02551-U3'},\n",
       "  {'data': [{'dtype': 'multiplex',\n",
       "     'filepath': '/diskmnt/Projects/Users/estorrs/mushroom/data/projects/submission_v1/C3L-02551/registered/s2_C3L-02551-U4_multiplex.ome.tiff'}],\n",
       "   'position': 15,\n",
       "   'sid': 'C3L-02551-U4'},\n",
       "  {'data': [{'dtype': 'multiplex',\n",
       "     'filepath': '/diskmnt/Projects/Users/estorrs/mushroom/data/projects/submission_v1/C3L-02551/registered/s3_C3L-02551-U8_multiplex.ome.tiff'}],\n",
       "   'position': 35,\n",
       "   'sid': 'C3L-02551-U8'}],\n",
       " 'target_sid': 'C3L-02551-U3'}"
      ]
     },
     "execution_count": 33,
     "metadata": {},
     "output_type": "execute_result"
    }
   ],
   "source": [
    "case = 'C3L-02551'\n",
    "fp = [fp for fp in fps if case == fp.split('/')[-3]][0]\n",
    "data_map = yaml.safe_load(open(fp))\n",
    "\n",
    "output_dir = os.path.join(project_dir, case, 'masks')\n",
    "Path(output_dir).mkdir(parents=True, exist_ok=True)\n",
    "\n",
    "data_map"
   ]
  },
  {
   "cell_type": "markdown",
   "id": "bce5a8e8",
   "metadata": {
    "heading_collapsed": true
   },
   "source": [
    "###### HT206B1"
   ]
  },
  {
   "cell_type": "code",
   "execution_count": 43,
   "id": "9aa31d3b",
   "metadata": {
    "hidden": true
   },
   "outputs": [
    {
     "data": {
      "text/plain": [
       "{'resolution': 1.0,\n",
       " 'sections': [{'data': [{'dtype': 'xenium',\n",
       "     'filepath': '/diskmnt/Projects/Users/estorrs/mushroom/data/projects/submission_v1/HT206B1/registered/s0_HT206B1-U1_xenium.h5ad'}],\n",
       "   'position': 0,\n",
       "   'sid': 'HT206B1-U1'},\n",
       "  {'data': [{'dtype': 'multiplex',\n",
       "     'filepath': '/diskmnt/Projects/Users/estorrs/mushroom/data/projects/submission_v1/HT206B1/registered/s1_HT206B1-U2_multiplex.ome.tiff'}],\n",
       "   'position': 5,\n",
       "   'sid': 'HT206B1-U2'},\n",
       "  {'data': [{'dtype': 'multiplex',\n",
       "     'filepath': '/diskmnt/Projects/Users/estorrs/mushroom/data/projects/submission_v1/HT206B1/registered/s2_HT206B1-U5_multiplex.ome.tiff'}],\n",
       "   'position': 20,\n",
       "   'sid': 'HT206B1-U5'},\n",
       "  {'data': [{'dtype': 'xenium',\n",
       "     'filepath': '/diskmnt/Projects/Users/estorrs/mushroom/data/projects/submission_v1/HT206B1/registered/s3_HT206B1-U8_xenium.h5ad'}],\n",
       "   'position': 40,\n",
       "   'sid': 'HT206B1-U8'},\n",
       "  {'data': [{'dtype': 'xenium',\n",
       "     'filepath': '/diskmnt/Projects/Users/estorrs/mushroom/data/projects/submission_v1/HT206B1/registered/s4_HT206B1-U9_xenium.h5ad'}],\n",
       "   'position': 45,\n",
       "   'sid': 'HT206B1-U9'},\n",
       "  {'data': [{'dtype': 'multiplex',\n",
       "     'filepath': '/diskmnt/Projects/Users/estorrs/mushroom/data/projects/submission_v1/HT206B1/registered/s5_HT206B1-U10_multiplex.ome.tiff'}],\n",
       "   'position': 50,\n",
       "   'sid': 'HT206B1-U10'},\n",
       "  {'data': [{'dtype': 'multiplex',\n",
       "     'filepath': '/diskmnt/Projects/Users/estorrs/mushroom/data/projects/submission_v1/HT206B1/registered/s6_HT206B1-U13_multiplex.ome.tiff'}],\n",
       "   'position': 65,\n",
       "   'sid': 'HT206B1-U13'},\n",
       "  {'data': [{'dtype': 'xenium',\n",
       "     'filepath': '/diskmnt/Projects/Users/estorrs/mushroom/data/projects/submission_v1/HT206B1/registered/s7_HT206B1-U16_xenium.h5ad'}],\n",
       "   'position': 80,\n",
       "   'sid': 'HT206B1-U16'},\n",
       "  {'data': [{'dtype': 'xenium',\n",
       "     'filepath': '/diskmnt/Projects/Users/estorrs/mushroom/data/projects/submission_v1/HT206B1/registered/s8_HT206B1-U17_xenium.h5ad'}],\n",
       "   'position': 85,\n",
       "   'sid': 'HT206B1-U17'},\n",
       "  {'data': [{'dtype': 'multiplex',\n",
       "     'filepath': '/diskmnt/Projects/Users/estorrs/mushroom/data/projects/submission_v1/HT206B1/registered/s9_HT206B1-U18_multiplex.ome.tiff'}],\n",
       "   'position': 90,\n",
       "   'sid': 'HT206B1-U18'},\n",
       "  {'data': [{'dtype': 'multiplex',\n",
       "     'filepath': '/diskmnt/Projects/Users/estorrs/mushroom/data/projects/submission_v1/HT206B1/registered/s10_HT206B1-U21_multiplex.ome.tiff'}],\n",
       "   'position': 105,\n",
       "   'sid': 'HT206B1-U21'},\n",
       "  {'data': [{'dtype': 'xenium',\n",
       "     'filepath': '/diskmnt/Projects/Users/estorrs/mushroom/data/projects/submission_v1/HT206B1/registered/s11_HT206B1-U24_xenium.h5ad'}],\n",
       "   'position': 120,\n",
       "   'sid': 'HT206B1-U24'}],\n",
       " 'target_sid': 'HT206B1-U1'}"
      ]
     },
     "execution_count": 43,
     "metadata": {},
     "output_type": "execute_result"
    }
   ],
   "source": [
    "case = 'HT206B1'\n",
    "fp = [fp for fp in fps if case == fp.split('/')[-3]][0]\n",
    "data_map = yaml.safe_load(open(fp))\n",
    "\n",
    "output_dir = os.path.join(project_dir, case, 'masks')\n",
    "Path(output_dir).mkdir(parents=True, exist_ok=True)\n",
    "\n",
    "data_map"
   ]
  },
  {
   "cell_type": "markdown",
   "id": "017eb1f1",
   "metadata": {
    "heading_collapsed": true
   },
   "source": [
    "###### HT225C1"
   ]
  },
  {
   "cell_type": "code",
   "execution_count": 60,
   "id": "5a354b07",
   "metadata": {
    "hidden": true
   },
   "outputs": [
    {
     "data": {
      "text/plain": [
       "{'resolution': 2.484081102305233,\n",
       " 'sections': [{'data': [{'dtype': 'visium',\n",
       "     'filepath': '/diskmnt/Projects/Users/estorrs/mushroom/data/projects/submission_v1/HT225C1/registered/s0_HT225C1-U2_visium.h5ad'}],\n",
       "   'position': 0,\n",
       "   'sid': 'HT225C1-U2'},\n",
       "  {'data': [{'dtype': 'visium',\n",
       "     'filepath': '/diskmnt/Projects/Users/estorrs/mushroom/data/projects/submission_v1/HT225C1/registered/s1_HT225C1-U3_visium.h5ad'}],\n",
       "   'position': 60,\n",
       "   'sid': 'HT225C1-U3'},\n",
       "  {'data': [{'dtype': 'visium',\n",
       "     'filepath': '/diskmnt/Projects/Users/estorrs/mushroom/data/projects/submission_v1/HT225C1/registered/s2_HT225C1-U4_visium.h5ad'}],\n",
       "   'position': 120,\n",
       "   'sid': 'HT225C1-U4'},\n",
       "  {'data': [{'dtype': 'visium',\n",
       "     'filepath': '/diskmnt/Projects/Users/estorrs/mushroom/data/projects/submission_v1/HT225C1/registered/s3_HT225C1-U5_visium.h5ad'}],\n",
       "   'position': 180,\n",
       "   'sid': 'HT225C1-U5'}],\n",
       " 'target_sid': 'HT225C1-U2'}"
      ]
     },
     "execution_count": 60,
     "metadata": {},
     "output_type": "execute_result"
    }
   ],
   "source": [
    "case = 'HT225C1'\n",
    "fp = [fp for fp in fps if case == fp.split('/')[-3]][0]\n",
    "data_map = yaml.safe_load(open(fp))\n",
    "\n",
    "output_dir = os.path.join(project_dir, case, 'masks')\n",
    "Path(output_dir).mkdir(parents=True, exist_ok=True)\n",
    "\n",
    "data_map"
   ]
  },
  {
   "cell_type": "markdown",
   "id": "c057dd41",
   "metadata": {
    "heading_collapsed": true
   },
   "source": [
    "###### HT268B1"
   ]
  },
  {
   "cell_type": "code",
   "execution_count": 85,
   "id": "6a4c85e5",
   "metadata": {
    "hidden": true
   },
   "outputs": [
    {
     "data": {
      "text/plain": [
       "{'resolution': 2.416043983128135,\n",
       " 'sections': [{'data': [{'dtype': 'visium',\n",
       "     'filepath': '/diskmnt/Projects/Users/estorrs/mushroom/data/projects/submission_v1/HT268B1/registered/s0_HT268B1-U2_visium.h5ad'}],\n",
       "   'position': 5,\n",
       "   'sid': 'HT268B1-U2'},\n",
       "  {'data': [{'dtype': 'visium',\n",
       "     'filepath': '/diskmnt/Projects/Users/estorrs/mushroom/data/projects/submission_v1/HT268B1/registered/s1_HT268B1-U12_visium.h5ad'}],\n",
       "   'position': 55,\n",
       "   'sid': 'HT268B1-U12'},\n",
       "  {'data': [{'dtype': 'visium',\n",
       "     'filepath': '/diskmnt/Projects/Users/estorrs/mushroom/data/projects/submission_v1/HT268B1/registered/s2_HT268B1-U22_visium.h5ad'}],\n",
       "   'position': 105,\n",
       "   'sid': 'HT268B1-U22'},\n",
       "  {'data': [{'dtype': 'visium',\n",
       "     'filepath': '/diskmnt/Projects/Users/estorrs/mushroom/data/projects/submission_v1/HT268B1/registered/s3_HT268B1-U32_visium.h5ad'}],\n",
       "   'position': 155,\n",
       "   'sid': 'HT268B1-U32'}],\n",
       " 'target_sid': 'HT268B1-U2'}"
      ]
     },
     "execution_count": 85,
     "metadata": {},
     "output_type": "execute_result"
    }
   ],
   "source": [
    "case = 'HT268B1'\n",
    "fp = [fp for fp in fps if case == fp.split('/')[-3]][0]\n",
    "data_map = yaml.safe_load(open(fp))\n",
    "\n",
    "output_dir = os.path.join(project_dir, case, 'masks')\n",
    "Path(output_dir).mkdir(parents=True, exist_ok=True)\n",
    "\n",
    "data_map"
   ]
  },
  {
   "cell_type": "markdown",
   "id": "f6c6ee55",
   "metadata": {
    "heading_collapsed": true
   },
   "source": [
    "###### HT397B1"
   ]
  },
  {
   "cell_type": "code",
   "execution_count": 97,
   "id": "4a7362cf",
   "metadata": {
    "hidden": true
   },
   "outputs": [
    {
     "data": {
      "text/plain": [
       "{'resolution': 2.3223207975307805,\n",
       " 'sections': [{'data': [{'dtype': 'visium',\n",
       "     'filepath': '/diskmnt/Projects/Users/estorrs/mushroom/data/projects/submission_v1/HT397B1/registered/s0_HT397B1-U1_visium.h5ad'},\n",
       "    {'dtype': 'he',\n",
       "     'filepath': '/diskmnt/Projects/Users/estorrs/mushroom/data/projects/submission_v1/HT397B1/registered/s0_HT397B1-U1_he.tif'}],\n",
       "   'position': 0,\n",
       "   'sid': 'HT397B1-U1'},\n",
       "  {'data': [{'dtype': 'multiplex',\n",
       "     'filepath': '/diskmnt/Projects/Users/estorrs/mushroom/data/projects/submission_v1/HT397B1/registered/s1_HT397B1-U2_multiplex.ome.tiff'}],\n",
       "   'position': 5,\n",
       "   'sid': 'HT397B1-U2'},\n",
       "  {'data': [{'dtype': 'multiplex',\n",
       "     'filepath': '/diskmnt/Projects/Users/estorrs/mushroom/data/projects/submission_v1/HT397B1/registered/s2_HT397B1-U12_multiplex.ome.tiff'}],\n",
       "   'position': 55,\n",
       "   'sid': 'HT397B1-U12'},\n",
       "  {'data': [{'dtype': 'visium',\n",
       "     'filepath': '/diskmnt/Projects/Users/estorrs/mushroom/data/projects/submission_v1/HT397B1/registered/s3_HT397B1-U21_visium.h5ad'},\n",
       "    {'dtype': 'he',\n",
       "     'filepath': '/diskmnt/Projects/Users/estorrs/mushroom/data/projects/submission_v1/HT397B1/registered/s3_HT397B1-U21_he.tif'}],\n",
       "   'position': 100,\n",
       "   'sid': 'HT397B1-U21'},\n",
       "  {'data': [{'dtype': 'multiplex',\n",
       "     'filepath': '/diskmnt/Projects/Users/estorrs/mushroom/data/projects/submission_v1/HT397B1/registered/s4_HT397B1-U22_multiplex.ome.tiff'}],\n",
       "   'position': 105,\n",
       "   'sid': 'HT397B1-U22'},\n",
       "  {'data': [{'dtype': 'multiplex',\n",
       "     'filepath': '/diskmnt/Projects/Users/estorrs/mushroom/data/projects/submission_v1/HT397B1/registered/s5_HT397B1-U31_multiplex.ome.tiff'}],\n",
       "   'position': 150,\n",
       "   'sid': 'HT397B1-U31'}],\n",
       " 'target_sid': 'HT397B1-U1'}"
      ]
     },
     "execution_count": 97,
     "metadata": {},
     "output_type": "execute_result"
    }
   ],
   "source": [
    "case = 'HT397B1'\n",
    "fp = [fp for fp in fps if case == fp.split('/')[-3]][0]\n",
    "data_map = yaml.safe_load(open(fp))\n",
    "\n",
    "output_dir = os.path.join(project_dir, case, 'masks')\n",
    "Path(output_dir).mkdir(parents=True, exist_ok=True)\n",
    "\n",
    "data_map"
   ]
  },
  {
   "cell_type": "markdown",
   "id": "174c438c",
   "metadata": {
    "heading_collapsed": true
   },
   "source": [
    "###### HT413C1-Th1k4A1"
   ]
  },
  {
   "cell_type": "code",
   "execution_count": 108,
   "id": "fd9e7a9b",
   "metadata": {
    "hidden": true
   },
   "outputs": [
    {
     "data": {
      "text/plain": [
       "{'resolution': 1.0,\n",
       " 'sections': [{'data': [{'dtype': 'he',\n",
       "     'filepath': '/diskmnt/Projects/Users/estorrs/mushroom/data/projects/submission_v1/HT413C1-Th1k4A1/registered/s0_HT413C1-Th1k4A1-U14_he.tif'}],\n",
       "   'position': 0,\n",
       "   'sid': 'HT413C1-Th1k4A1-U14'},\n",
       "  {'data': [{'dtype': 'he',\n",
       "     'filepath': '/diskmnt/Projects/Users/estorrs/mushroom/data/projects/submission_v1/HT413C1-Th1k4A1/registered/s1_HT413C1-Th1k4A1-U18_he.tif'}],\n",
       "   'position': 20,\n",
       "   'sid': 'HT413C1-Th1k4A1-U18'},\n",
       "  {'data': [{'dtype': 'xenium',\n",
       "     'filepath': '/diskmnt/Projects/Users/estorrs/mushroom/data/projects/submission_v1/HT413C1-Th1k4A1/registered/s2_HT413C1-Th1k4A1-U19_xenium.h5ad'}],\n",
       "   'position': 25,\n",
       "   'sid': 'HT413C1-Th1k4A1-U19'},\n",
       "  {'data': [{'dtype': 'multiplex',\n",
       "     'filepath': '/diskmnt/Projects/Users/estorrs/mushroom/data/projects/submission_v1/HT413C1-Th1k4A1/registered/s3_HT413C1-Th1k4A1-U20_multiplex.ome.tiff'}],\n",
       "   'position': 30,\n",
       "   'sid': 'HT413C1-Th1k4A1-U20'},\n",
       "  {'data': [{'dtype': 'he',\n",
       "     'filepath': '/diskmnt/Projects/Users/estorrs/mushroom/data/projects/submission_v1/HT413C1-Th1k4A1/registered/s4_HT413C1-Th1k4A1-U1_he.tif'}],\n",
       "   'position': 45,\n",
       "   'sid': 'HT413C1-Th1k4A1-U1'},\n",
       "  {'data': [{'dtype': 'xenium',\n",
       "     'filepath': '/diskmnt/Projects/Users/estorrs/mushroom/data/projects/submission_v1/HT413C1-Th1k4A1/registered/s5_HT413C1-Th1k4A1-U2_xenium.h5ad'}],\n",
       "   'position': 50,\n",
       "   'sid': 'HT413C1-Th1k4A1-U2'},\n",
       "  {'data': [{'dtype': 'multiplex',\n",
       "     'filepath': '/diskmnt/Projects/Users/estorrs/mushroom/data/projects/submission_v1/HT413C1-Th1k4A1/registered/s6_HT413C1-Th1k4A1-U3_multiplex.ome.tiff'}],\n",
       "   'position': 55,\n",
       "   'sid': 'HT413C1-Th1k4A1-U3'},\n",
       "  {'data': [{'dtype': 'he',\n",
       "     'filepath': '/diskmnt/Projects/Users/estorrs/mushroom/data/projects/submission_v1/HT413C1-Th1k4A1/registered/s7_HT413C1-Th1k4A1-U4_he.tif'}],\n",
       "   'position': 60,\n",
       "   'sid': 'HT413C1-Th1k4A1-U4'},\n",
       "  {'data': [{'dtype': 'cosmx',\n",
       "     'filepath': '/diskmnt/Projects/Users/estorrs/mushroom/data/projects/submission_v1/HT413C1-Th1k4A1/registered/s8_HT413C1-Th1k4A1-U7_cosmx.h5ad'}],\n",
       "   'position': 75,\n",
       "   'sid': 'HT413C1-Th1k4A1-U7'},\n",
       "  {'data': [{'dtype': 'he',\n",
       "     'filepath': '/diskmnt/Projects/Users/estorrs/mushroom/data/projects/submission_v1/HT413C1-Th1k4A1/registered/s9_HT413C1-Th1k4A1-U8_he.tif'}],\n",
       "   'position': 80,\n",
       "   'sid': 'HT413C1-Th1k4A1-U8'},\n",
       "  {'data': [{'dtype': 'xenium',\n",
       "     'filepath': '/diskmnt/Projects/Users/estorrs/mushroom/data/projects/submission_v1/HT413C1-Th1k4A1/registered/s10_HT413C1-Th1k4A1-U9_xenium.h5ad'}],\n",
       "   'position': 85,\n",
       "   'sid': 'HT413C1-Th1k4A1-U9'},\n",
       "  {'data': [{'dtype': 'he',\n",
       "     'filepath': '/diskmnt/Projects/Users/estorrs/mushroom/data/projects/submission_v1/HT413C1-Th1k4A1/registered/s11_HT413C1-Th1k4A1-U11_he.tif'}],\n",
       "   'position': 95,\n",
       "   'sid': 'HT413C1-Th1k4A1-U11'},\n",
       "  {'data': [{'dtype': 'he',\n",
       "     'filepath': '/diskmnt/Projects/Users/estorrs/mushroom/data/projects/submission_v1/HT413C1-Th1k4A1/registered/s12_HT413C1-Th1k4A1-U21_he.tif'}],\n",
       "   'position': 100,\n",
       "   'sid': 'HT413C1-Th1k4A1-U21'},\n",
       "  {'data': [{'dtype': 'he',\n",
       "     'filepath': '/diskmnt/Projects/Users/estorrs/mushroom/data/projects/submission_v1/HT413C1-Th1k4A1/registered/s13_HT413C1-Th1k4A1-U24_he.tif'}],\n",
       "   'position': 115,\n",
       "   'sid': 'HT413C1-Th1k4A1-U24'},\n",
       "  {'data': [{'dtype': 'xenium',\n",
       "     'filepath': '/diskmnt/Projects/Users/estorrs/mushroom/data/projects/submission_v1/HT413C1-Th1k4A1/registered/s14_HT413C1-Th1k4A1-U25_xenium.h5ad'}],\n",
       "   'position': 120,\n",
       "   'sid': 'HT413C1-Th1k4A1-U25'},\n",
       "  {'data': [{'dtype': 'multiplex',\n",
       "     'filepath': '/diskmnt/Projects/Users/estorrs/mushroom/data/projects/submission_v1/HT413C1-Th1k4A1/registered/s15_HT413C1-Th1k4A1-U26_multiplex.ome.tiff'}],\n",
       "   'position': 125,\n",
       "   'sid': 'HT413C1-Th1k4A1-U26'},\n",
       "  {'data': [{'dtype': 'he',\n",
       "     'filepath': '/diskmnt/Projects/Users/estorrs/mushroom/data/projects/submission_v1/HT413C1-Th1k4A1/registered/s16_HT413C1-Th1k4A1-U27_he.tif'}],\n",
       "   'position': 130,\n",
       "   'sid': 'HT413C1-Th1k4A1-U27'},\n",
       "  {'data': [{'dtype': 'he',\n",
       "     'filepath': '/diskmnt/Projects/Users/estorrs/mushroom/data/projects/submission_v1/HT413C1-Th1k4A1/registered/s17_HT413C1-Th1k4A1-U29_he.tif'}],\n",
       "   'position': 140,\n",
       "   'sid': 'HT413C1-Th1k4A1-U29'},\n",
       "  {'data': [{'dtype': 'he',\n",
       "     'filepath': '/diskmnt/Projects/Users/estorrs/mushroom/data/projects/submission_v1/HT413C1-Th1k4A1/registered/s18_HT413C1-Th1k4A1-U30_he.tif'}],\n",
       "   'position': 145,\n",
       "   'sid': 'HT413C1-Th1k4A1-U30'},\n",
       "  {'data': [{'dtype': 'xenium',\n",
       "     'filepath': '/diskmnt/Projects/Users/estorrs/mushroom/data/projects/submission_v1/HT413C1-Th1k4A1/registered/s19_HT413C1-Th1k4A1-U31_xenium.h5ad'}],\n",
       "   'position': 150,\n",
       "   'sid': 'HT413C1-Th1k4A1-U31'},\n",
       "  {'data': [{'dtype': 'multiplex',\n",
       "     'filepath': '/diskmnt/Projects/Users/estorrs/mushroom/data/projects/submission_v1/HT413C1-Th1k4A1/registered/s20_HT413C1-Th1k4A1-U32_multiplex.ome.tiff'}],\n",
       "   'position': 155,\n",
       "   'sid': 'HT413C1-Th1k4A1-U32'},\n",
       "  {'data': [{'dtype': 'cosmx',\n",
       "     'filepath': '/diskmnt/Projects/Users/estorrs/mushroom/data/projects/submission_v1/HT413C1-Th1k4A1/registered/s21_HT413C1-Th1k4A1-U34_cosmx.h5ad'}],\n",
       "   'position': 165,\n",
       "   'sid': 'HT413C1-Th1k4A1-U34'},\n",
       "  {'data': [{'dtype': 'he',\n",
       "     'filepath': '/diskmnt/Projects/Users/estorrs/mushroom/data/projects/submission_v1/HT413C1-Th1k4A1/registered/s22_HT413C1-Th1k4A1-U35_he.tif'}],\n",
       "   'position': 170,\n",
       "   'sid': 'HT413C1-Th1k4A1-U35'},\n",
       "  {'data': [{'dtype': 'xenium',\n",
       "     'filepath': '/diskmnt/Projects/Users/estorrs/mushroom/data/projects/submission_v1/HT413C1-Th1k4A1/registered/s23_HT413C1-Th1k4A1-U36_xenium.h5ad'}],\n",
       "   'position': 175,\n",
       "   'sid': 'HT413C1-Th1k4A1-U36'},\n",
       "  {'data': [{'dtype': 'multiplex',\n",
       "     'filepath': '/diskmnt/Projects/Users/estorrs/mushroom/data/projects/submission_v1/HT413C1-Th1k4A1/registered/s24_HT413C1-Th1k4A1-U37_multiplex.ome.tiff'}],\n",
       "   'position': 180,\n",
       "   'sid': 'HT413C1-Th1k4A1-U37'},\n",
       "  {'data': [{'dtype': 'he',\n",
       "     'filepath': '/diskmnt/Projects/Users/estorrs/mushroom/data/projects/submission_v1/HT413C1-Th1k4A1/registered/s25_HT413C1-Th1k4A1-U38_he.tif'}],\n",
       "   'position': 185,\n",
       "   'sid': 'HT413C1-Th1k4A1-U38'},\n",
       "  {'data': [{'dtype': 'he',\n",
       "     'filepath': '/diskmnt/Projects/Users/estorrs/mushroom/data/projects/submission_v1/HT413C1-Th1k4A1/registered/s26_HT413C1-Th1k4A1-U40_he.tif'}],\n",
       "   'position': 195,\n",
       "   'sid': 'HT413C1-Th1k4A1-U40'},\n",
       "  {'data': [{'dtype': 'multiplex',\n",
       "     'filepath': '/diskmnt/Projects/Users/estorrs/mushroom/data/projects/submission_v1/HT413C1-Th1k4A1/registered/s27_HT413C1-Th1k4A1-U41_multiplex.ome.tiff'}],\n",
       "   'position': 200,\n",
       "   'sid': 'HT413C1-Th1k4A1-U41'},\n",
       "  {'data': [{'dtype': 'multiplex',\n",
       "     'filepath': '/diskmnt/Projects/Users/estorrs/mushroom/data/projects/submission_v1/HT413C1-Th1k4A1/registered/s28_HT413C1-Th1k4A1-U42_multiplex.ome.tiff'}],\n",
       "   'position': 205,\n",
       "   'sid': 'HT413C1-Th1k4A1-U42'}],\n",
       " 'target_sid': 'HT413C1-Th1k4A1-U19'}"
      ]
     },
     "execution_count": 108,
     "metadata": {},
     "output_type": "execute_result"
    }
   ],
   "source": [
    "case = 'HT413C1-Th1k4A1'\n",
    "fp = [fp for fp in fps if case == fp.split('/')[-3]][0]\n",
    "data_map = yaml.safe_load(open(fp))\n",
    "\n",
    "output_dir = os.path.join(project_dir, case, 'masks')\n",
    "Path(output_dir).mkdir(parents=True, exist_ok=True)\n",
    "\n",
    "data_map"
   ]
  },
  {
   "cell_type": "markdown",
   "id": "2dd7fae7",
   "metadata": {
    "heading_collapsed": true
   },
   "source": [
    "###### S18-25943-A7"
   ]
  },
  {
   "cell_type": "code",
   "execution_count": 119,
   "id": "7eaa4f9d",
   "metadata": {
    "hidden": true
   },
   "outputs": [
    {
     "data": {
      "text/plain": [
       "{'resolution': 1.0,\n",
       " 'sections': [{'data': [{'dtype': 'xenium',\n",
       "     'filepath': '/diskmnt/Projects/Users/estorrs/mushroom/data/projects/submission_v1/S18-25943-A7/registered/s0_S18-25943-A7-U1_xenium.h5ad'}],\n",
       "   'position': 0,\n",
       "   'sid': 'S18-25943-A7-U1'},\n",
       "  {'data': [{'dtype': 'xenium',\n",
       "     'filepath': '/diskmnt/Projects/Users/estorrs/mushroom/data/projects/submission_v1/S18-25943-A7/registered/s1_S18-25943-A7-U4_xenium.h5ad'}],\n",
       "   'position': 15,\n",
       "   'sid': 'S18-25943-A7-U4'},\n",
       "  {'data': [{'dtype': 'xenium',\n",
       "     'filepath': '/diskmnt/Projects/Users/estorrs/mushroom/data/projects/submission_v1/S18-25943-A7/registered/s2_S18-25943-A7-U8_xenium.h5ad'}],\n",
       "   'position': 35,\n",
       "   'sid': 'S18-25943-A7-U8'},\n",
       "  {'data': [{'dtype': 'multiplex',\n",
       "     'filepath': '/diskmnt/Projects/Users/estorrs/mushroom/data/projects/submission_v1/S18-25943-A7/registered/s3_S18-25943-A7-U9_multiplex.ome.tiff'}],\n",
       "   'position': 40,\n",
       "   'sid': 'S18-25943-A7-U9'},\n",
       "  {'data': [{'dtype': 'xenium',\n",
       "     'filepath': '/diskmnt/Projects/Users/estorrs/mushroom/data/projects/submission_v1/S18-25943-A7/registered/s4_S18-25943-A7-U11_xenium.h5ad'}],\n",
       "   'position': 50,\n",
       "   'sid': 'S18-25943-A7-U11'},\n",
       "  {'data': [{'dtype': 'multiplex',\n",
       "     'filepath': '/diskmnt/Projects/Users/estorrs/mushroom/data/projects/submission_v1/S18-25943-A7/registered/s5_S18-25943-A7-U13_multiplex.ome.tiff'}],\n",
       "   'position': 60,\n",
       "   'sid': 'S18-25943-A7-U13'}],\n",
       " 'target_sid': 'S18-25943-A7-U1'}"
      ]
     },
     "execution_count": 119,
     "metadata": {},
     "output_type": "execute_result"
    }
   ],
   "source": [
    "case = 'S18-25943-A7'\n",
    "fp = [fp for fp in fps if case == fp.split('/')[-3]][0]\n",
    "data_map = yaml.safe_load(open(fp))\n",
    "\n",
    "output_dir = os.path.join(project_dir, case, 'masks')\n",
    "Path(output_dir).mkdir(parents=True, exist_ok=True)\n",
    "\n",
    "data_map"
   ]
  },
  {
   "cell_type": "markdown",
   "id": "052030b4",
   "metadata": {
    "heading_collapsed": true
   },
   "source": [
    "###### S18-5591-C8"
   ]
  },
  {
   "cell_type": "code",
   "execution_count": 130,
   "id": "6089812e",
   "metadata": {
    "hidden": true
   },
   "outputs": [
    {
     "data": {
      "text/plain": [
       "{'resolution': 1.0,\n",
       " 'sections': [{'data': [{'dtype': 'xenium',\n",
       "     'filepath': '/diskmnt/Projects/Users/estorrs/mushroom/data/projects/submission_v1/S18-5591-C8/registered/s0_S18-5591-C8-U1_xenium.h5ad'}],\n",
       "   'position': 0,\n",
       "   'sid': 'S18-5591-C8-U1'},\n",
       "  {'data': [{'dtype': 'xenium',\n",
       "     'filepath': '/diskmnt/Projects/Users/estorrs/mushroom/data/projects/submission_v1/S18-5591-C8/registered/s1_S18-5591-C8-U5_xenium.h5ad'}],\n",
       "   'position': 20,\n",
       "   'sid': 'S18-5591-C8-U5'},\n",
       "  {'data': [{'dtype': 'xenium',\n",
       "     'filepath': '/diskmnt/Projects/Users/estorrs/mushroom/data/projects/submission_v1/S18-5591-C8/registered/s2_S18-5591-C8-U7_xenium.h5ad'}],\n",
       "   'position': 30,\n",
       "   'sid': 'S18-5591-C8-U7'},\n",
       "  {'data': [{'dtype': 'multiplex',\n",
       "     'filepath': '/diskmnt/Projects/Users/estorrs/mushroom/data/projects/submission_v1/S18-5591-C8/registered/s3_S18-5591-C8-U8_multiplex.ome.tiff'}],\n",
       "   'position': 35,\n",
       "   'sid': 'S18-5591-C8-U8'},\n",
       "  {'data': [{'dtype': 'xenium',\n",
       "     'filepath': '/diskmnt/Projects/Users/estorrs/mushroom/data/projects/submission_v1/S18-5591-C8/registered/s4_S18-5591-C8-U12_xenium.h5ad'}],\n",
       "   'position': 55,\n",
       "   'sid': 'S18-5591-C8-U12'},\n",
       "  {'data': [{'dtype': 'multiplex',\n",
       "     'filepath': '/diskmnt/Projects/Users/estorrs/mushroom/data/projects/submission_v1/S18-5591-C8/registered/s5_S18-5591-C8-U14_multiplex.ome.tiff'}],\n",
       "   'position': 65,\n",
       "   'sid': 'S18-5591-C8-U14'},\n",
       "  {'data': [{'dtype': 'xenium',\n",
       "     'filepath': '/diskmnt/Projects/Users/estorrs/mushroom/data/projects/submission_v1/S18-5591-C8/registered/s6_S18-5591-C8-U18_xenium.h5ad'}],\n",
       "   'position': 85,\n",
       "   'sid': 'S18-5591-C8-U18'},\n",
       "  {'data': [{'dtype': 'multiplex',\n",
       "     'filepath': '/diskmnt/Projects/Users/estorrs/mushroom/data/projects/submission_v1/S18-5591-C8/registered/s7_S18-5591-C8-U19_multiplex.ome.tiff'}],\n",
       "   'position': 90,\n",
       "   'sid': 'S18-5591-C8-U19'},\n",
       "  {'data': [{'dtype': 'xenium',\n",
       "     'filepath': '/diskmnt/Projects/Users/estorrs/mushroom/data/projects/submission_v1/S18-5591-C8/registered/s8_S18-5591-C8-U20_xenium.h5ad'}],\n",
       "   'position': 95,\n",
       "   'sid': 'S18-5591-C8-U20'},\n",
       "  {'data': [{'dtype': 'multiplex',\n",
       "     'filepath': '/diskmnt/Projects/Users/estorrs/mushroom/data/projects/submission_v1/S18-5591-C8/registered/s9_S18-5591-C8-U21_multiplex.ome.tiff'}],\n",
       "   'position': 100,\n",
       "   'sid': 'S18-5591-C8-U21'},\n",
       "  {'data': [{'dtype': 'multiplex',\n",
       "     'filepath': '/diskmnt/Projects/Users/estorrs/mushroom/data/projects/submission_v1/S18-5591-C8/registered/s10_S18-5591-C8-U23_multiplex.ome.tiff'}],\n",
       "   'position': 110,\n",
       "   'sid': 'S18-5591-C8-U23'},\n",
       "  {'data': [{'dtype': 'multiplex',\n",
       "     'filepath': '/diskmnt/Projects/Users/estorrs/mushroom/data/projects/submission_v1/S18-5591-C8/registered/s11_S18-5591-C8-U24_multiplex.ome.tiff'}],\n",
       "   'position': 115,\n",
       "   'sid': 'S18-5591-C8-U24'}],\n",
       " 'target_sid': 'S18-5591-C8-U1'}"
      ]
     },
     "execution_count": 130,
     "metadata": {},
     "output_type": "execute_result"
    }
   ],
   "source": [
    "case = 'S18-5591-C8'\n",
    "fp = [fp for fp in fps if case == fp.split('/')[-3]][0]\n",
    "data_map = yaml.safe_load(open(fp))\n",
    "\n",
    "output_dir = os.path.join(project_dir, case, 'masks')\n",
    "Path(output_dir).mkdir(parents=True, exist_ok=True)\n",
    "\n",
    "data_map"
   ]
  },
  {
   "cell_type": "markdown",
   "id": "2eb11c17",
   "metadata": {
    "heading_collapsed": true
   },
   "source": [
    "###### S18-9906"
   ]
  },
  {
   "cell_type": "code",
   "execution_count": 145,
   "id": "55c00ed4",
   "metadata": {
    "hidden": true
   },
   "outputs": [
    {
     "data": {
      "text/plain": [
       "{'resolution': 1.0,\n",
       " 'sections': [{'data': [{'dtype': 'visium',\n",
       "     'filepath': '/diskmnt/Projects/Users/estorrs/mushroom/data/projects/submission_v1/S18-9906/registered/s0_S18-9906-U1_visium.h5ad'},\n",
       "    {'dtype': 'he',\n",
       "     'filepath': '/diskmnt/Projects/Users/estorrs/mushroom/data/projects/submission_v1/S18-9906/registered/s0_S18-9906-U1_he.tif'}],\n",
       "   'position': 0,\n",
       "   'sid': 'S18-9906-U1'},\n",
       "  {'data': [{'dtype': 'xenium',\n",
       "     'filepath': '/diskmnt/Projects/Users/estorrs/mushroom/data/projects/submission_v1/S18-9906/registered/s1_S18-9906-U2_xenium.h5ad'}],\n",
       "   'position': 5,\n",
       "   'sid': 'S18-9906-U2'},\n",
       "  {'data': [{'dtype': 'multiplex',\n",
       "     'filepath': '/diskmnt/Projects/Users/estorrs/mushroom/data/projects/submission_v1/S18-9906/registered/s2_S18-9906-U3_multiplex.ome.tiff'}],\n",
       "   'position': 10,\n",
       "   'sid': 'S18-9906-U3'},\n",
       "  {'data': [{'dtype': 'xenium',\n",
       "     'filepath': '/diskmnt/Projects/Users/estorrs/mushroom/data/projects/submission_v1/S18-9906/registered/s3_S18-9906-U9_xenium.h5ad'}],\n",
       "   'position': 40,\n",
       "   'sid': 'S18-9906-U9'},\n",
       "  {'data': [{'dtype': 'multiplex',\n",
       "     'filepath': '/diskmnt/Projects/Users/estorrs/mushroom/data/projects/submission_v1/S18-9906/registered/s4_S18-9906-U10_multiplex.ome.tiff'}],\n",
       "   'position': 45,\n",
       "   'sid': 'S18-9906-U10'},\n",
       "  {'data': [{'dtype': 'visium',\n",
       "     'filepath': '/diskmnt/Projects/Users/estorrs/mushroom/data/projects/submission_v1/S18-9906/registered/s5_S18-9906-U16_visium.h5ad'},\n",
       "    {'dtype': 'he',\n",
       "     'filepath': '/diskmnt/Projects/Users/estorrs/mushroom/data/projects/submission_v1/S18-9906/registered/s5_S18-9906-U16_he.tif'}],\n",
       "   'position': 105,\n",
       "   'sid': 'S18-9906-U16'},\n",
       "  {'data': [{'dtype': 'xenium',\n",
       "     'filepath': '/diskmnt/Projects/Users/estorrs/mushroom/data/projects/submission_v1/S18-9906/registered/s6_S18-9906-U17_xenium.h5ad'}],\n",
       "   'position': 120,\n",
       "   'sid': 'S18-9906-U17'},\n",
       "  {'data': [{'dtype': 'multiplex',\n",
       "     'filepath': '/diskmnt/Projects/Users/estorrs/mushroom/data/projects/submission_v1/S18-9906/registered/s7_S18-9906-U18_multiplex.ome.tiff'}],\n",
       "   'position': 125,\n",
       "   'sid': 'S18-9906-U18'},\n",
       "  {'data': [{'dtype': 'xenium',\n",
       "     'filepath': '/diskmnt/Projects/Users/estorrs/mushroom/data/projects/submission_v1/S18-9906/registered/s8_S18-9906-U24_xenium.h5ad'}],\n",
       "   'position': 155,\n",
       "   'sid': 'S18-9906-U24'},\n",
       "  {'data': [{'dtype': 'multiplex',\n",
       "     'filepath': '/diskmnt/Projects/Users/estorrs/mushroom/data/projects/submission_v1/S18-9906/registered/s9_S18-9906-U25_multiplex.ome.tiff'}],\n",
       "   'position': 160,\n",
       "   'sid': 'S18-9906-U25'}],\n",
       " 'target_sid': 'S18-9906-U2'}"
      ]
     },
     "execution_count": 145,
     "metadata": {},
     "output_type": "execute_result"
    }
   ],
   "source": [
    "case = 'S18-9906'\n",
    "fp = [fp for fp in fps if case == fp.split('/')[-3]][0]\n",
    "data_map = yaml.safe_load(open(fp))\n",
    "\n",
    "output_dir = os.path.join(project_dir, case, 'masks')\n",
    "Path(output_dir).mkdir(parents=True, exist_ok=True)\n",
    "\n",
    "data_map"
   ]
  },
  {
   "cell_type": "markdown",
   "id": "5c58ba05",
   "metadata": {},
   "source": [
    "## create combined_image"
   ]
  },
  {
   "cell_type": "code",
   "execution_count": 146,
   "id": "f5000b22",
   "metadata": {},
   "outputs": [],
   "source": [
    "def correct_scale(img, ths):\n",
    "    sf = 1 / ths\n",
    "    \n",
    "    dim_order = 'h w' if len(img.shape) == 2 else 'h w c'\n",
    "    img = utils.rescale(img, scale=sf, dim_order=dim_order, target_dtype=np.uint8) # scale image    \n",
    "    return img\n",
    "#     sf = scale / image_data['scalefactors']['tissue_hires_scalef']\n",
    "    \n",
    "#     dim_order = 'h w' if dtype in ['xenium', 'cosmx'] else 'h w c'\n",
    "#     img = utils.rescale(img, scale=sf, dim_order=dim_order, target_dtype=np.uint8) # scale image    "
   ]
  },
  {
   "cell_type": "code",
   "execution_count": 147,
   "id": "8e94f2de",
   "metadata": {},
   "outputs": [],
   "source": [
    "# target_img = None\n",
    "# for idx, item in enumerate(data_map['sections']):\n",
    "#     if data_map['target_sid'] == item['sid']:\n",
    "#         print(item['sid'])"
   ]
  },
  {
   "cell_type": "code",
   "execution_count": 148,
   "id": "d7da4a1a",
   "metadata": {},
   "outputs": [
    {
     "name": "stdout",
     "output_type": "stream",
     "text": [
      "S18-9906-U1 visium\n",
      "(8688, 8453, 1)\n",
      "S18-9906-U2 xenium\n",
      "(8697, 8461, 1)\n",
      "S18-9906-U3 multiplex\n",
      "(8695, 8460, 1)\n",
      "S18-9906-U9 xenium\n",
      "(8693, 8459, 1)\n",
      "S18-9906-U10 multiplex\n",
      "(8695, 8460, 1)\n",
      "S18-9906-U16 visium\n",
      "(8692, 8456, 1)\n",
      "S18-9906-U17 xenium\n",
      "(8693, 8459, 1)\n",
      "S18-9906-U18 multiplex\n",
      "(8695, 8460, 1)\n",
      "S18-9906-U24 xenium\n",
      "(8693, 8459, 1)\n",
      "S18-9906-U25 multiplex\n",
      "(8695, 8460, 1)\n",
      "(8688, 8453, 1) uint8\n",
      "(8697, 8461, 1) uint8\n",
      "(8695, 8460, 1) uint8\n",
      "(8693, 8459, 1) uint8\n",
      "(8695, 8460, 1) uint8\n",
      "(8692, 8456, 1) uint8\n",
      "(8693, 8459, 1) uint8\n",
      "(8695, 8460, 1) uint8\n",
      "(8693, 8459, 1) uint8\n",
      "(8695, 8460, 1) uint8\n"
     ]
    }
   ],
   "source": [
    "imgs = []\n",
    "for idx, item in enumerate(data_map['sections']):\n",
    "    sid = item['sid']\n",
    "    mapping = item['data'][0]\n",
    "    dtype, filepath = mapping['dtype'], mapping['filepath']\n",
    "    print(sid, dtype)\n",
    "\n",
    "    if utils.parse_dtype(dtype) == 'visium':\n",
    "        adata = visium.adata_from_visium(filepath)\n",
    "        img = next(iter(adata.uns['spatial'].values()))['images']['hires']\n",
    "        ths = next(iter(adata.uns['spatial'].values()))['scalefactors']['tissue_hires_scalef']\n",
    "        img = correct_scale(img, ths)\n",
    "        img = img[..., 0]\n",
    "    elif utils.parse_dtype(dtype) == 'xenium':\n",
    "        adata = xenium.adata_from_xenium(filepath)\n",
    "        img = next(iter(adata.uns['spatial'].values()))['images']['hires']\n",
    "        ths = next(iter(adata.uns['spatial'].values()))['scalefactors']['tissue_hires_scalef']\n",
    "        img = correct_scale(img, ths)\n",
    "    elif utils.parse_dtype(dtype) == 'cosmx':\n",
    "        adata = cosmx.adata_from_cosmx(filepath)\n",
    "        img = next(iter(adata.uns['spatial'].values()))['images']['hires']\n",
    "        ths = next(iter(adata.uns['spatial'].values()))['scalefactors']['tissue_hires_scalef']\n",
    "        img = correct_scale(img, ths)\n",
    "    elif utils.parse_dtype(dtype) == 'multiplex':\n",
    "        img = multiplex.extract_ome_tiff(\n",
    "            filepath, channels=[multiplex_channel],\n",
    "        )[multiplex_channel]\n",
    "    elif utils.parse_dtype(dtype) == 'he':\n",
    "        img = he.read_he(filepath)\n",
    "        img = img[..., 0]\n",
    "    else:\n",
    "        raise RuntimeError(f'{dtype} not valid st data type')\n",
    "\n",
    "    if len(img.shape) == 2:\n",
    "        img = rearrange(img, 'h w -> h w 1')\n",
    "    \n",
    "    if combined is None:\n",
    "        combined = img\n",
    "    else:\n",
    "        print(img.shape)\n",
    "        \n",
    "#         assert combined.shape[:2] == img.shape[:2]\n",
    "#         assert combined.dtype == img.dtype\n",
    "        imgs.append(img)\n",
    "#         combined = np.concatenate(combined, img, axis=-1)\n",
    "for img in imgs:\n",
    "    print(img.shape, img.dtype)"
   ]
  },
  {
   "cell_type": "code",
   "execution_count": 149,
   "id": "31725960",
   "metadata": {},
   "outputs": [
    {
     "data": {
      "text/plain": [
       "(8688, 8453, 10)"
      ]
     },
     "execution_count": 149,
     "metadata": {},
     "output_type": "execute_result"
    }
   ],
   "source": [
    "min_h, min_w = min([img.shape[0] for img in imgs]), min([img.shape[1] for img in imgs])\n",
    "combined = np.concatenate([img[:min_h, :min_w] for img in imgs], axis=-1)\n",
    "combined.shape"
   ]
  },
  {
   "cell_type": "code",
   "execution_count": 150,
   "id": "4d240b08",
   "metadata": {},
   "outputs": [],
   "source": [
    "multiplex.write_basic_ome_tiff(os.path.join(output_dir, 'combined_image.tif'),\n",
    "                               rearrange(combined, 'h w c -> c h w'), channels=list(range(combined.shape[-1])))"
   ]
  },
  {
   "cell_type": "code",
   "execution_count": 151,
   "id": "42169bbe",
   "metadata": {},
   "outputs": [
    {
     "data": {
      "text/plain": [
       "'/diskmnt/Projects/Users/estorrs/mushroom/data/projects/submission_v1/S18-9906/masks/combined_image.tif'"
      ]
     },
     "execution_count": 151,
     "metadata": {},
     "output_type": "execute_result"
    }
   ],
   "source": [
    "os.path.join(output_dir, 'combined_image.tif')"
   ]
  },
  {
   "cell_type": "markdown",
   "id": "45446663",
   "metadata": {},
   "source": [
    "###### load in qupath polygon and save mask"
   ]
  },
  {
   "cell_type": "code",
   "execution_count": 159,
   "id": "2296874a",
   "metadata": {
    "scrolled": true
   },
   "outputs": [
    {
     "data": {
      "text/plain": [
       "[array([[7162, 1893],\n",
       "        [1110, 1984],\n",
       "        [1454, 7868],\n",
       "        [4375, 7634],\n",
       "        [6711, 7334],\n",
       "        [7468, 6895],\n",
       "        [7162, 1893]])]"
      ]
     },
     "execution_count": 159,
     "metadata": {},
     "output_type": "execute_result"
    }
   ],
   "source": [
    "geo = json.load(open(os.path.join(output_dir, 'tissue_mask.geojson')))\n",
    "\n",
    "polygons = []\n",
    "for feat in geo['features']:\n",
    "    \n",
    "    if feat['geometry']['type'] == 'Polygon':\n",
    "        pts = feat['geometry']['coordinates'][0]\n",
    "    else:\n",
    "        pts = feat['geometry']['coordinates'][-1][0]\n",
    "    polygons.append(np.asarray(pts, dtype=int))\n",
    "polygons"
   ]
  },
  {
   "cell_type": "code",
   "execution_count": 160,
   "id": "7f8fc83d",
   "metadata": {},
   "outputs": [
    {
     "data": {
      "text/plain": [
       "(8688, 8453)"
      ]
     },
     "execution_count": 160,
     "metadata": {},
     "output_type": "execute_result"
    }
   ],
   "source": [
    "size = combined.shape[:2]\n",
    "mask = np.zeros(size, dtype=bool)\n",
    "for pts in polygons:\n",
    "    mask |= skimage.draw.polygon2mask(size, pts[:, [1, 0]])\n",
    "mask.shape"
   ]
  },
  {
   "cell_type": "code",
   "execution_count": 161,
   "id": "c5dabf05",
   "metadata": {},
   "outputs": [
    {
     "data": {
      "image/png": "[encoded data removed]",
      "text/plain": [
       "<Figure size 640x480 with 2 Axes>"
      ]
     },
     "metadata": {},
     "output_type": "display_data"
    }
   ],
   "source": [
    "fig, axs = plt.subplots(ncols=2)\n",
    "axs[0].imshow(combined[..., 0])\n",
    "axs[1].imshow(mask)\n",
    "for ax in axs:\n",
    "    ax.axis('off')"
   ]
  },
  {
   "cell_type": "code",
   "execution_count": 162,
   "id": "51c2734d",
   "metadata": {},
   "outputs": [],
   "source": [
    "tifffile.imwrite(os.path.join(output_dir, 'tissue_mask.tif'), mask, compression='LZW')"
   ]
  },
  {
   "cell_type": "code",
   "execution_count": null,
   "id": "4efc1a88",
   "metadata": {},
   "outputs": [],
   "source": []
  }
 ],
 "metadata": {
  "kernelspec": {
   "display_name": "Python 3 (ipykernel)",
   "language": "python",
   "name": "python3"
  },
  "language_info": {
   "codemirror_mode": {
    "name": "ipython",
    "version": 3
   },
   "file_extension": ".py",
   "mimetype": "text/x-python",
   "name": "python",
   "nbconvert_exporter": "python",
   "pygments_lexer": "ipython3",
   "version": "3.9.18"
  }
 },
 "nbformat": 4,
 "nbformat_minor": 5
}
