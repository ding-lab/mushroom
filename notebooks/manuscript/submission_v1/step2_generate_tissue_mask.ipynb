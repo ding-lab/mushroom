{
 "cells": [
  {
   "cell_type": "code",
   "execution_count": 1,
   "id": "5d42af27",
   "metadata": {},
   "outputs": [],
   "source": [
    "import copy\n",
    "import json\n",
    "import os\n",
    "import re\n",
    "import shutil\n",
    "import sys\n",
    "from pathlib import Path\n",
    "\n",
    "import numpy as np\n",
    "import matplotlib.pyplot as plt\n",
    "import skimage\n",
    "import tifffile\n",
    "import yaml\n",
    "from einops import rearrange"
   ]
  },
  {
   "cell_type": "code",
   "execution_count": 2,
   "id": "faa2fe89",
   "metadata": {},
   "outputs": [],
   "source": [
    "%load_ext autoreload"
   ]
  },
  {
   "cell_type": "code",
   "execution_count": 3,
   "id": "d5be9820",
   "metadata": {},
   "outputs": [],
   "source": [
    "%autoreload 2"
   ]
  },
  {
   "cell_type": "code",
   "execution_count": 4,
   "id": "a43cac83",
   "metadata": {},
   "outputs": [],
   "source": [
    "import mushroom.data.multiplex as multiplex\n",
    "import mushroom.data.visium as visium\n",
    "import mushroom.data.xenium as xenium\n",
    "import mushroom.data.cosmx as cosmx\n",
    "import mushroom.data.he as he\n",
    "import mushroom.data.user_points as points\n",
    "import mushroom.registration.bigwarp as bigwarp\n",
    "import mushroom.utils as utils"
   ]
  },
  {
   "cell_type": "code",
   "execution_count": 5,
   "id": "9936c7de",
   "metadata": {},
   "outputs": [],
   "source": [
    "project_dir = '/diskmnt/Projects/Users/estorrs/mushroom/data/projects/submission_v1'\n",
    "Path(project_dir).mkdir(parents=True, exist_ok=True)"
   ]
  },
  {
   "cell_type": "code",
   "execution_count": 6,
   "id": "f4f48da2",
   "metadata": {},
   "outputs": [],
   "source": [
    "multiplex_channel = 'DAPI'"
   ]
  },
  {
   "cell_type": "markdown",
   "id": "6b8c7ff4",
   "metadata": {},
   "source": [
    "## input data"
   ]
  },
  {
   "cell_type": "code",
   "execution_count": 89,
   "id": "93eaa385",
   "metadata": {},
   "outputs": [
    {
     "data": {
      "text/plain": [
       "['/diskmnt/Projects/Users/estorrs/mushroom/data/projects/submission_v1/C3L-00970/registered/metadata.yaml',\n",
       " '/diskmnt/Projects/Users/estorrs/mushroom/data/projects/submission_v1/C3L-00982/registered/metadata.yaml',\n",
       " '/diskmnt/Projects/Users/estorrs/mushroom/data/projects/submission_v1/C3L-01287/registered/metadata.yaml',\n",
       " '/diskmnt/Projects/Users/estorrs/mushroom/data/projects/submission_v1/C3L-02551/registered/metadata.yaml',\n",
       " '/diskmnt/Projects/Users/estorrs/mushroom/data/projects/submission_v1/HT206B1/registered/metadata.yaml',\n",
       " '/diskmnt/Projects/Users/estorrs/mushroom/data/projects/submission_v1/HT225C1/registered/metadata.yaml',\n",
       " '/diskmnt/Projects/Users/estorrs/mushroom/data/projects/submission_v1/HT268B1/registered/metadata.yaml',\n",
       " '/diskmnt/Projects/Users/estorrs/mushroom/data/projects/submission_v1/HT339B2-H1/registered/metadata.yaml',\n",
       " '/diskmnt/Projects/Users/estorrs/mushroom/data/projects/submission_v1/HT397B1/registered/metadata.yaml',\n",
       " '/diskmnt/Projects/Users/estorrs/mushroom/data/projects/submission_v1/HT413C1-K2/registered/metadata.yaml',\n",
       " '/diskmnt/Projects/Users/estorrs/mushroom/data/projects/submission_v1/HT413C1-Th1k4A1/registered/metadata.yaml',\n",
       " '/diskmnt/Projects/Users/estorrs/mushroom/data/projects/submission_v1/HT448C1-Th1K1Fp1/registered/metadata.yaml',\n",
       " '/diskmnt/Projects/Users/estorrs/mushroom/data/projects/submission_v1/HT553P1-H2/registered/metadata.yaml',\n",
       " '/diskmnt/Projects/Users/estorrs/mushroom/data/projects/submission_v1/HT565B1-H2/registered/metadata.yaml',\n",
       " '/diskmnt/Projects/Users/estorrs/mushroom/data/projects/submission_v1/S18-25943-A7/registered/metadata.yaml',\n",
       " '/diskmnt/Projects/Users/estorrs/mushroom/data/projects/submission_v1/S18-5591-C8/registered/metadata.yaml',\n",
       " '/diskmnt/Projects/Users/estorrs/mushroom/data/projects/submission_v1/S18-9906/registered/metadata.yaml',\n",
       " '/diskmnt/Projects/Users/estorrs/mushroom/data/projects/submission_v1/WD-76845/registered/metadata.yaml',\n",
       " '/diskmnt/Projects/Users/estorrs/mushroom/data/projects/submission_v1/kidney/NMK12F-Fp1/registered/metadata.yaml',\n",
       " '/diskmnt/Projects/Users/estorrs/mushroom/data/projects/submission_v1/kidney/NMK12M-Fp1/registered/metadata.yaml',\n",
       " '/diskmnt/Projects/Users/estorrs/mushroom/data/projects/submission_v1/kidney/NMK3F-Fp1/registered/metadata.yaml',\n",
       " '/diskmnt/Projects/Users/estorrs/mushroom/data/projects/submission_v1/kidney/NMK3M-Fp1/registered/metadata.yaml',\n",
       " '/diskmnt/Projects/Users/estorrs/mushroom/data/projects/submission_v1/kidney/NMK92F-Fp1/registered/metadata.yaml',\n",
       " '/diskmnt/Projects/Users/estorrs/mushroom/data/projects/submission_v1/kidney/NMK92F2-Fc1U1Bs2/registered/metadata.yaml',\n",
       " '/diskmnt/Projects/Users/estorrs/mushroom/data/projects/submission_v1/kidney/NMK92M-Fp1/registered/metadata.yaml',\n",
       " '/diskmnt/Projects/Users/estorrs/mushroom/data/projects/submission_v1/kidney/NMK92M1-Fc1U1Bs2/registered/metadata.yaml',\n",
       " '/diskmnt/Projects/Users/estorrs/mushroom/data/projects/submission_v1/kidney/P1F1MnR-Fp1/registered/metadata.yaml',\n",
       " '/diskmnt/Projects/Users/estorrs/mushroom/data/projects/submission_v1/kidney/P1M3MnR-Fp1/registered/metadata.yaml',\n",
       " '/diskmnt/Projects/Users/estorrs/mushroom/data/projects/submission_v1/kidney/P1_F1LM3l/registered/metadata.yaml',\n",
       " '/diskmnt/Projects/Users/estorrs/mushroom/data/projects/submission_v1/kidney/P21_F2RM6R/registered/metadata.yaml',\n",
       " '/diskmnt/Projects/Users/estorrs/mushroom/data/projects/submission_v1/lightsheet/HT427PI-A1_20x/registered/metadata.yaml',\n",
       " '/diskmnt/Projects/Users/estorrs/mushroom/data/projects/submission_v1/lightsheet/HT427PI-A1_5x/registered/metadata.yaml',\n",
       " '/diskmnt/Projects/Users/estorrs/mushroom/data/projects/submission_v1/lightsheet/HT427PI-A2_20x/registered/metadata.yaml',\n",
       " '/diskmnt/Projects/Users/estorrs/mushroom/data/projects/submission_v1/lightsheet/HT427PI-A2_5x/registered/metadata.yaml',\n",
       " '/diskmnt/Projects/Users/estorrs/mushroom/data/projects/submission_v1/lightsheet/HT427PI-A3_20x/registered/metadata.yaml',\n",
       " '/diskmnt/Projects/Users/estorrs/mushroom/data/projects/submission_v1/lightsheet/HT427PI-A3_5x/registered/metadata.yaml',\n",
       " '/diskmnt/Projects/Users/estorrs/mushroom/data/projects/submission_v1/lightsheet/HT427PI-A4_20x/registered/metadata.yaml',\n",
       " '/diskmnt/Projects/Users/estorrs/mushroom/data/projects/submission_v1/lightsheet/HT427PI-A4_5x/registered/metadata.yaml',\n",
       " '/diskmnt/Projects/Users/estorrs/mushroom/data/projects/submission_v1/lightsheet/HT442PI-A1_20x/registered/metadata.yaml',\n",
       " '/diskmnt/Projects/Users/estorrs/mushroom/data/projects/submission_v1/lightsheet/HT442PI-A1_5x/registered/metadata.yaml',\n",
       " '/diskmnt/Projects/Users/estorrs/mushroom/data/projects/submission_v1/lightsheet/HT442PI-A2_20x/registered/metadata.yaml',\n",
       " '/diskmnt/Projects/Users/estorrs/mushroom/data/projects/submission_v1/lightsheet/HT442PI-A2_5x/registered/metadata.yaml',\n",
       " '/diskmnt/Projects/Users/estorrs/mushroom/data/projects/submission_v1/lightsheet/HT442PI-A3_20x/registered/metadata.yaml',\n",
       " '/diskmnt/Projects/Users/estorrs/mushroom/data/projects/submission_v1/lightsheet/HT442PI-A3_5x/registered/metadata.yaml',\n",
       " '/diskmnt/Projects/Users/estorrs/mushroom/data/projects/submission_v1/lightsheet/HT442PI-A4_20x/registered/metadata.yaml',\n",
       " '/diskmnt/Projects/Users/estorrs/mushroom/data/projects/submission_v1/lightsheet/HT442PI-A4_5x/registered/metadata.yaml',\n",
       " '/diskmnt/Projects/Users/estorrs/mushroom/data/projects/submission_v1/lightsheet/HT460P1-A1_20x/registered/metadata.yaml',\n",
       " '/diskmnt/Projects/Users/estorrs/mushroom/data/projects/submission_v1/lightsheet/HT460P1-A1_5x/registered/metadata.yaml',\n",
       " '/diskmnt/Projects/Users/estorrs/mushroom/data/projects/submission_v1/lightsheet/HT460P1-A2_20x/registered/metadata.yaml',\n",
       " '/diskmnt/Projects/Users/estorrs/mushroom/data/projects/submission_v1/lightsheet/HT460P1-A2_5x/registered/metadata.yaml',\n",
       " '/diskmnt/Projects/Users/estorrs/mushroom/data/projects/submission_v1/lightsheet/HT460P1-A3_20x/registered/metadata.yaml',\n",
       " '/diskmnt/Projects/Users/estorrs/mushroom/data/projects/submission_v1/lightsheet/HT460P1-A3_5x/registered/metadata.yaml',\n",
       " '/diskmnt/Projects/Users/estorrs/mushroom/data/projects/submission_v1/lightsheet/HT461B1-A2_20x/registered/metadata.yaml',\n",
       " '/diskmnt/Projects/Users/estorrs/mushroom/data/projects/submission_v1/lightsheet/HT461B1-A2_5x/registered/metadata.yaml',\n",
       " '/diskmnt/Projects/Users/estorrs/mushroom/data/projects/submission_v1/lightsheet/HT461B1-A3_20x/registered/metadata.yaml',\n",
       " '/diskmnt/Projects/Users/estorrs/mushroom/data/projects/submission_v1/lightsheet/HT461B1-A3_5x/registered/metadata.yaml',\n",
       " '/diskmnt/Projects/Users/estorrs/mushroom/data/projects/submission_v1/lightsheet/HT462P1-A2_20x/registered/metadata.yaml',\n",
       " '/diskmnt/Projects/Users/estorrs/mushroom/data/projects/submission_v1/lightsheet/HT462P1-A2_5x/registered/metadata.yaml',\n",
       " '/diskmnt/Projects/Users/estorrs/mushroom/data/projects/submission_v1/lightsheet/HT462P1-A3_20x/registered/metadata.yaml',\n",
       " '/diskmnt/Projects/Users/estorrs/mushroom/data/projects/submission_v1/lightsheet/HT462P1-A3_5x/registered/metadata.yaml',\n",
       " '/diskmnt/Projects/Users/estorrs/mushroom/data/projects/submission_v1/lightsheet/HT486B1-A1_20x/registered/metadata.yaml',\n",
       " '/diskmnt/Projects/Users/estorrs/mushroom/data/projects/submission_v1/lightsheet/HT486B1-A1_5x/registered/metadata.yaml',\n",
       " '/diskmnt/Projects/Users/estorrs/mushroom/data/projects/submission_v1/lightsheet/HT491P1-A1_20x/registered/metadata.yaml',\n",
       " '/diskmnt/Projects/Users/estorrs/mushroom/data/projects/submission_v1/lightsheet/HT491P1-A1_5x/registered/metadata.yaml',\n",
       " '/diskmnt/Projects/Users/estorrs/mushroom/data/projects/submission_v1/lightsheet/HT491P1-A2_20x/registered/metadata.yaml',\n",
       " '/diskmnt/Projects/Users/estorrs/mushroom/data/projects/submission_v1/lightsheet/HT491P1-A2_5x/registered/metadata.yaml',\n",
       " '/diskmnt/Projects/Users/estorrs/mushroom/data/projects/submission_v1/lightsheet/HT491P1-A4_20x/registered/metadata.yaml',\n",
       " '/diskmnt/Projects/Users/estorrs/mushroom/data/projects/submission_v1/lightsheet/HT491P1-A4_5x/registered/metadata.yaml',\n",
       " '/diskmnt/Projects/Users/estorrs/mushroom/data/projects/submission_v1/lightsheet/HT495-A2_20x/registered/metadata.yaml',\n",
       " '/diskmnt/Projects/Users/estorrs/mushroom/data/projects/submission_v1/lightsheet/HT495-A2_5x/registered/metadata.yaml',\n",
       " '/diskmnt/Projects/Users/estorrs/mushroom/data/projects/submission_v1/lightsheet/HT495-A3_20x/registered/metadata.yaml',\n",
       " '/diskmnt/Projects/Users/estorrs/mushroom/data/projects/submission_v1/lightsheet/HT495-A3_5x/registered/metadata.yaml',\n",
       " '/diskmnt/Projects/Users/estorrs/mushroom/data/projects/submission_v1/lightsheet/HT495-A4_20x/registered/metadata.yaml',\n",
       " '/diskmnt/Projects/Users/estorrs/mushroom/data/projects/submission_v1/lightsheet/HT495-A4_5x/registered/metadata.yaml',\n",
       " '/diskmnt/Projects/Users/estorrs/mushroom/data/projects/submission_v1/lightsheet/HT497P1-A1_20x/registered/metadata.yaml',\n",
       " '/diskmnt/Projects/Users/estorrs/mushroom/data/projects/submission_v1/lightsheet/HT497P1-A1_5x/registered/metadata.yaml',\n",
       " '/diskmnt/Projects/Users/estorrs/mushroom/data/projects/submission_v1/lightsheet/HT497P1-A2_20x/registered/metadata.yaml',\n",
       " '/diskmnt/Projects/Users/estorrs/mushroom/data/projects/submission_v1/lightsheet/HT497P1-A2_5x/registered/metadata.yaml',\n",
       " '/diskmnt/Projects/Users/estorrs/mushroom/data/projects/submission_v1/lightsheet/HT497P1-A3_20x/registered/metadata.yaml',\n",
       " '/diskmnt/Projects/Users/estorrs/mushroom/data/projects/submission_v1/lightsheet/HT497P1-A3_5x/registered/metadata.yaml',\n",
       " '/diskmnt/Projects/Users/estorrs/mushroom/data/projects/submission_v1/lightsheet/HT502P1-A2_20x/registered/metadata.yaml',\n",
       " '/diskmnt/Projects/Users/estorrs/mushroom/data/projects/submission_v1/lightsheet/HT502P1-A2_5x/registered/metadata.yaml',\n",
       " '/diskmnt/Projects/Users/estorrs/mushroom/data/projects/submission_v1/lightsheet/HT502P1-A3_20x/registered/metadata.yaml',\n",
       " '/diskmnt/Projects/Users/estorrs/mushroom/data/projects/submission_v1/lightsheet/HT502P1-A3_5x/registered/metadata.yaml',\n",
       " '/diskmnt/Projects/Users/estorrs/mushroom/data/projects/submission_v1/lightsheet/HT514B1-A2_20x/registered/metadata.yaml',\n",
       " '/diskmnt/Projects/Users/estorrs/mushroom/data/projects/submission_v1/lightsheet/HT514B1-A2_5x/registered/metadata.yaml',\n",
       " '/diskmnt/Projects/Users/estorrs/mushroom/data/projects/submission_v1/lightsheet/HT514B1-A3_20x/registered/metadata.yaml',\n",
       " '/diskmnt/Projects/Users/estorrs/mushroom/data/projects/submission_v1/lightsheet/HT514B1-A3_5x/registered/metadata.yaml',\n",
       " '/diskmnt/Projects/Users/estorrs/mushroom/data/projects/submission_v1/lightsheet/HT517B1-A2_20x/registered/metadata.yaml',\n",
       " '/diskmnt/Projects/Users/estorrs/mushroom/data/projects/submission_v1/lightsheet/HT517B1-A2_5x/registered/metadata.yaml',\n",
       " '/diskmnt/Projects/Users/estorrs/mushroom/data/projects/submission_v1/lightsheet/HT530P1-A1_20x/registered/metadata.yaml',\n",
       " '/diskmnt/Projects/Users/estorrs/mushroom/data/projects/submission_v1/lightsheet/HT530P1-A1_5x/registered/metadata.yaml',\n",
       " '/diskmnt/Projects/Users/estorrs/mushroom/data/projects/submission_v1/lightsheet/HT530P1-A2_20x/registered/metadata.yaml',\n",
       " '/diskmnt/Projects/Users/estorrs/mushroom/data/projects/submission_v1/lightsheet/HT530P1-A2_5x/registered/metadata.yaml',\n",
       " '/diskmnt/Projects/Users/estorrs/mushroom/data/projects/submission_v1/lightsheet/HT530P1-A3_20x/registered/metadata.yaml',\n",
       " '/diskmnt/Projects/Users/estorrs/mushroom/data/projects/submission_v1/lightsheet/HT530P1-A3_5x/registered/metadata.yaml',\n",
       " '/diskmnt/Projects/Users/estorrs/mushroom/data/projects/submission_v1/lightsheet/HT530P1-A4_20x/registered/metadata.yaml',\n",
       " '/diskmnt/Projects/Users/estorrs/mushroom/data/projects/submission_v1/lightsheet/HT530P1-A4_5x/registered/metadata.yaml',\n",
       " '/diskmnt/Projects/Users/estorrs/mushroom/data/projects/submission_v1/lightsheet/HT535P1-A2_20x/registered/metadata.yaml',\n",
       " '/diskmnt/Projects/Users/estorrs/mushroom/data/projects/submission_v1/lightsheet/HT535P1-A2_5x/registered/metadata.yaml',\n",
       " '/diskmnt/Projects/Users/estorrs/mushroom/data/projects/submission_v1/lightsheet/HT535P1-A4_20x/registered/metadata.yaml',\n",
       " '/diskmnt/Projects/Users/estorrs/mushroom/data/projects/submission_v1/lightsheet/HT535P1-A4_5x/registered/metadata.yaml',\n",
       " '/diskmnt/Projects/Users/estorrs/mushroom/data/projects/submission_v1/lightsheet/HT541P1-A3_20x/registered/metadata.yaml',\n",
       " '/diskmnt/Projects/Users/estorrs/mushroom/data/projects/submission_v1/lightsheet/HT541P1-A3_5x/registered/metadata.yaml',\n",
       " '/diskmnt/Projects/Users/estorrs/mushroom/data/projects/submission_v1/lightsheet/HT545B1-A1_20x/registered/metadata.yaml',\n",
       " '/diskmnt/Projects/Users/estorrs/mushroom/data/projects/submission_v1/lightsheet/HT545B1-A1_5x/registered/metadata.yaml',\n",
       " '/diskmnt/Projects/Users/estorrs/mushroom/data/projects/submission_v1/lightsheet/HT545B1-A2_20x/registered/metadata.yaml',\n",
       " '/diskmnt/Projects/Users/estorrs/mushroom/data/projects/submission_v1/lightsheet/HT545B1-A2_5x/registered/metadata.yaml',\n",
       " '/diskmnt/Projects/Users/estorrs/mushroom/data/projects/submission_v1/lightsheet/HT545B1-A4_20x/registered/metadata.yaml',\n",
       " '/diskmnt/Projects/Users/estorrs/mushroom/data/projects/submission_v1/lightsheet/HT545B1-A4_5x/registered/metadata.yaml',\n",
       " '/diskmnt/Projects/Users/estorrs/mushroom/data/projects/submission_v1/lightsheet/HT547P1-A1_20x/registered/metadata.yaml',\n",
       " '/diskmnt/Projects/Users/estorrs/mushroom/data/projects/submission_v1/lightsheet/HT547P1-A1_5x/registered/metadata.yaml',\n",
       " '/diskmnt/Projects/Users/estorrs/mushroom/data/projects/submission_v1/lightsheet/HT547P1-A2_20x/registered/metadata.yaml',\n",
       " '/diskmnt/Projects/Users/estorrs/mushroom/data/projects/submission_v1/lightsheet/HT547P1-A2_5x/registered/metadata.yaml',\n",
       " '/diskmnt/Projects/Users/estorrs/mushroom/data/projects/submission_v1/lightsheet/HT547P1-A3_20x/registered/metadata.yaml',\n",
       " '/diskmnt/Projects/Users/estorrs/mushroom/data/projects/submission_v1/lightsheet/HT547P1-A3_5x/registered/metadata.yaml',\n",
       " '/diskmnt/Projects/Users/estorrs/mushroom/data/projects/submission_v1/lightsheet/HT553P1-A2_20x/registered/metadata.yaml',\n",
       " '/diskmnt/Projects/Users/estorrs/mushroom/data/projects/submission_v1/lightsheet/HT553P1-A2_5x/registered/metadata.yaml',\n",
       " '/diskmnt/Projects/Users/estorrs/mushroom/data/projects/submission_v1/lightsheet/HT553P1-A3_20x/registered/metadata.yaml',\n",
       " '/diskmnt/Projects/Users/estorrs/mushroom/data/projects/submission_v1/lightsheet/HT553P1-A3_5x/registered/metadata.yaml',\n",
       " '/diskmnt/Projects/Users/estorrs/mushroom/data/projects/submission_v1/lightsheet/HT553P1-A4_20x/registered/metadata.yaml',\n",
       " '/diskmnt/Projects/Users/estorrs/mushroom/data/projects/submission_v1/lightsheet/HT553P1-A4_5x/registered/metadata.yaml',\n",
       " '/diskmnt/Projects/Users/estorrs/mushroom/data/projects/submission_v1/lightsheet/HT555P1-A1_20x/registered/metadata.yaml',\n",
       " '/diskmnt/Projects/Users/estorrs/mushroom/data/projects/submission_v1/lightsheet/HT555P1-A1_5x/registered/metadata.yaml',\n",
       " '/diskmnt/Projects/Users/estorrs/mushroom/data/projects/submission_v1/lightsheet/HT555P1-A3_20x/registered/metadata.yaml',\n",
       " '/diskmnt/Projects/Users/estorrs/mushroom/data/projects/submission_v1/lightsheet/HT555P1-A3_5x/registered/metadata.yaml',\n",
       " '/diskmnt/Projects/Users/estorrs/mushroom/data/projects/submission_v1/lightsheet/HT555P1-A4_20x/registered/metadata.yaml',\n",
       " '/diskmnt/Projects/Users/estorrs/mushroom/data/projects/submission_v1/lightsheet/HT555P1-A4_5x/registered/metadata.yaml',\n",
       " '/diskmnt/Projects/Users/estorrs/mushroom/data/projects/submission_v1/lightsheet/HT559P1-A1_20x/registered/metadata.yaml',\n",
       " '/diskmnt/Projects/Users/estorrs/mushroom/data/projects/submission_v1/lightsheet/HT559P1-A1_5x/registered/metadata.yaml']"
      ]
     },
     "execution_count": 89,
     "metadata": {},
     "output_type": "execute_result"
    }
   ],
   "source": [
    "fps = sorted(utils.listfiles(project_dir, regex=r'registered/metadata.yaml$'))\n",
    "fps"
   ]
  },
  {
   "cell_type": "markdown",
   "id": "a6e436b0",
   "metadata": {
    "heading_collapsed": true
   },
   "source": [
    "###### C3L-00982"
   ]
  },
  {
   "cell_type": "code",
   "execution_count": 9,
   "id": "7df36703",
   "metadata": {
    "hidden": true
   },
   "outputs": [
    {
     "data": {
      "text/plain": [
       "{'resolution': 1.0,\n",
       " 'sections': [{'data': [{'dtype': 'multiplex',\n",
       "     'filepath': '/diskmnt/Projects/Users/estorrs/mushroom/data/projects/submission_v1/C3L-00982/registered/s0_C3L-00982-U1_multiplex.ome.tiff'}],\n",
       "   'position': 0,\n",
       "   'sid': 'C3L-00982-U1'},\n",
       "  {'data': [{'dtype': 'xenium',\n",
       "     'filepath': '/diskmnt/Projects/Users/estorrs/mushroom/data/projects/submission_v1/C3L-00982/registered/s1_C3L-00982-U2_xenium.h5ad'}],\n",
       "   'position': 5,\n",
       "   'sid': 'C3L-00982-U2'},\n",
       "  {'data': [{'dtype': 'multiplex',\n",
       "     'filepath': '/diskmnt/Projects/Users/estorrs/mushroom/data/projects/submission_v1/C3L-00982/registered/s2_C3L-00982-U4_multiplex.ome.tiff'}],\n",
       "   'position': 15,\n",
       "   'sid': 'C3L-00982-U4'},\n",
       "  {'data': [{'dtype': 'multiplex',\n",
       "     'filepath': '/diskmnt/Projects/Users/estorrs/mushroom/data/projects/submission_v1/C3L-00982/registered/s3_C3L-00982-U7_multiplex.ome.tiff'}],\n",
       "   'position': 30,\n",
       "   'sid': 'C3L-00982-U7'}],\n",
       " 'target_sid': 'C3L-00982-U2'}"
      ]
     },
     "execution_count": 9,
     "metadata": {},
     "output_type": "execute_result"
    }
   ],
   "source": [
    "case = 'C3L-00982'\n",
    "fp = [fp for fp in fps if case == fp.split('/')[-3]][0]\n",
    "data_map = yaml.safe_load(open(fp))\n",
    "\n",
    "output_dir = os.path.join(project_dir, case, 'masks')\n",
    "Path(output_dir).mkdir(parents=True, exist_ok=True)\n",
    "\n",
    "data_map"
   ]
  },
  {
   "cell_type": "markdown",
   "id": "30aa7405",
   "metadata": {
    "heading_collapsed": true
   },
   "source": [
    "###### C3L-02551"
   ]
  },
  {
   "cell_type": "code",
   "execution_count": 33,
   "id": "320a9c50",
   "metadata": {
    "hidden": true
   },
   "outputs": [
    {
     "data": {
      "text/plain": [
       "{'resolution': 1.0,\n",
       " 'sections': [{'data': [{'dtype': 'multiplex',\n",
       "     'filepath': '/diskmnt/Projects/Users/estorrs/mushroom/data/projects/submission_v1/C3L-02551/registered/s0_C3L-02551-U1_multiplex.ome.tiff'}],\n",
       "   'position': 0,\n",
       "   'sid': 'C3L-02551-U1'},\n",
       "  {'data': [{'dtype': 'xenium',\n",
       "     'filepath': '/diskmnt/Projects/Users/estorrs/mushroom/data/projects/submission_v1/C3L-02551/registered/s1_C3L-02551-U3_xenium.h5ad'}],\n",
       "   'position': 10,\n",
       "   'sid': 'C3L-02551-U3'},\n",
       "  {'data': [{'dtype': 'multiplex',\n",
       "     'filepath': '/diskmnt/Projects/Users/estorrs/mushroom/data/projects/submission_v1/C3L-02551/registered/s2_C3L-02551-U4_multiplex.ome.tiff'}],\n",
       "   'position': 15,\n",
       "   'sid': 'C3L-02551-U4'},\n",
       "  {'data': [{'dtype': 'multiplex',\n",
       "     'filepath': '/diskmnt/Projects/Users/estorrs/mushroom/data/projects/submission_v1/C3L-02551/registered/s3_C3L-02551-U8_multiplex.ome.tiff'}],\n",
       "   'position': 35,\n",
       "   'sid': 'C3L-02551-U8'}],\n",
       " 'target_sid': 'C3L-02551-U3'}"
      ]
     },
     "execution_count": 33,
     "metadata": {},
     "output_type": "execute_result"
    }
   ],
   "source": [
    "case = 'C3L-02551'\n",
    "fp = [fp for fp in fps if case == fp.split('/')[-3]][0]\n",
    "data_map = yaml.safe_load(open(fp))\n",
    "\n",
    "output_dir = os.path.join(project_dir, case, 'masks')\n",
    "Path(output_dir).mkdir(parents=True, exist_ok=True)\n",
    "\n",
    "data_map"
   ]
  },
  {
   "cell_type": "markdown",
   "id": "bce5a8e8",
   "metadata": {
    "heading_collapsed": true
   },
   "source": [
    "###### HT206B1"
   ]
  },
  {
   "cell_type": "code",
   "execution_count": 43,
   "id": "9aa31d3b",
   "metadata": {
    "hidden": true
   },
   "outputs": [
    {
     "data": {
      "text/plain": [
       "{'resolution': 1.0,\n",
       " 'sections': [{'data': [{'dtype': 'xenium',\n",
       "     'filepath': '/diskmnt/Projects/Users/estorrs/mushroom/data/projects/submission_v1/HT206B1/registered/s0_HT206B1-U1_xenium.h5ad'}],\n",
       "   'position': 0,\n",
       "   'sid': 'HT206B1-U1'},\n",
       "  {'data': [{'dtype': 'multiplex',\n",
       "     'filepath': '/diskmnt/Projects/Users/estorrs/mushroom/data/projects/submission_v1/HT206B1/registered/s1_HT206B1-U2_multiplex.ome.tiff'}],\n",
       "   'position': 5,\n",
       "   'sid': 'HT206B1-U2'},\n",
       "  {'data': [{'dtype': 'multiplex',\n",
       "     'filepath': '/diskmnt/Projects/Users/estorrs/mushroom/data/projects/submission_v1/HT206B1/registered/s2_HT206B1-U5_multiplex.ome.tiff'}],\n",
       "   'position': 20,\n",
       "   'sid': 'HT206B1-U5'},\n",
       "  {'data': [{'dtype': 'xenium',\n",
       "     'filepath': '/diskmnt/Projects/Users/estorrs/mushroom/data/projects/submission_v1/HT206B1/registered/s3_HT206B1-U8_xenium.h5ad'}],\n",
       "   'position': 40,\n",
       "   'sid': 'HT206B1-U8'},\n",
       "  {'data': [{'dtype': 'xenium',\n",
       "     'filepath': '/diskmnt/Projects/Users/estorrs/mushroom/data/projects/submission_v1/HT206B1/registered/s4_HT206B1-U9_xenium.h5ad'}],\n",
       "   'position': 45,\n",
       "   'sid': 'HT206B1-U9'},\n",
       "  {'data': [{'dtype': 'multiplex',\n",
       "     'filepath': '/diskmnt/Projects/Users/estorrs/mushroom/data/projects/submission_v1/HT206B1/registered/s5_HT206B1-U10_multiplex.ome.tiff'}],\n",
       "   'position': 50,\n",
       "   'sid': 'HT206B1-U10'},\n",
       "  {'data': [{'dtype': 'multiplex',\n",
       "     'filepath': '/diskmnt/Projects/Users/estorrs/mushroom/data/projects/submission_v1/HT206B1/registered/s6_HT206B1-U13_multiplex.ome.tiff'}],\n",
       "   'position': 65,\n",
       "   'sid': 'HT206B1-U13'},\n",
       "  {'data': [{'dtype': 'xenium',\n",
       "     'filepath': '/diskmnt/Projects/Users/estorrs/mushroom/data/projects/submission_v1/HT206B1/registered/s7_HT206B1-U16_xenium.h5ad'}],\n",
       "   'position': 80,\n",
       "   'sid': 'HT206B1-U16'},\n",
       "  {'data': [{'dtype': 'xenium',\n",
       "     'filepath': '/diskmnt/Projects/Users/estorrs/mushroom/data/projects/submission_v1/HT206B1/registered/s8_HT206B1-U17_xenium.h5ad'}],\n",
       "   'position': 85,\n",
       "   'sid': 'HT206B1-U17'},\n",
       "  {'data': [{'dtype': 'multiplex',\n",
       "     'filepath': '/diskmnt/Projects/Users/estorrs/mushroom/data/projects/submission_v1/HT206B1/registered/s9_HT206B1-U18_multiplex.ome.tiff'}],\n",
       "   'position': 90,\n",
       "   'sid': 'HT206B1-U18'},\n",
       "  {'data': [{'dtype': 'multiplex',\n",
       "     'filepath': '/diskmnt/Projects/Users/estorrs/mushroom/data/projects/submission_v1/HT206B1/registered/s10_HT206B1-U21_multiplex.ome.tiff'}],\n",
       "   'position': 105,\n",
       "   'sid': 'HT206B1-U21'},\n",
       "  {'data': [{'dtype': 'xenium',\n",
       "     'filepath': '/diskmnt/Projects/Users/estorrs/mushroom/data/projects/submission_v1/HT206B1/registered/s11_HT206B1-U24_xenium.h5ad'}],\n",
       "   'position': 120,\n",
       "   'sid': 'HT206B1-U24'}],\n",
       " 'target_sid': 'HT206B1-U1'}"
      ]
     },
     "execution_count": 43,
     "metadata": {},
     "output_type": "execute_result"
    }
   ],
   "source": [
    "case = 'HT206B1'\n",
    "fp = [fp for fp in fps if case == fp.split('/')[-3]][0]\n",
    "data_map = yaml.safe_load(open(fp))\n",
    "\n",
    "output_dir = os.path.join(project_dir, case, 'masks')\n",
    "Path(output_dir).mkdir(parents=True, exist_ok=True)\n",
    "\n",
    "data_map"
   ]
  },
  {
   "cell_type": "markdown",
   "id": "017eb1f1",
   "metadata": {
    "heading_collapsed": true
   },
   "source": [
    "###### HT225C1"
   ]
  },
  {
   "cell_type": "code",
   "execution_count": 60,
   "id": "5a354b07",
   "metadata": {
    "hidden": true
   },
   "outputs": [
    {
     "data": {
      "text/plain": [
       "{'resolution': 2.484081102305233,\n",
       " 'sections': [{'data': [{'dtype': 'visium',\n",
       "     'filepath': '/diskmnt/Projects/Users/estorrs/mushroom/data/projects/submission_v1/HT225C1/registered/s0_HT225C1-U2_visium.h5ad'}],\n",
       "   'position': 0,\n",
       "   'sid': 'HT225C1-U2'},\n",
       "  {'data': [{'dtype': 'visium',\n",
       "     'filepath': '/diskmnt/Projects/Users/estorrs/mushroom/data/projects/submission_v1/HT225C1/registered/s1_HT225C1-U3_visium.h5ad'}],\n",
       "   'position': 60,\n",
       "   'sid': 'HT225C1-U3'},\n",
       "  {'data': [{'dtype': 'visium',\n",
       "     'filepath': '/diskmnt/Projects/Users/estorrs/mushroom/data/projects/submission_v1/HT225C1/registered/s2_HT225C1-U4_visium.h5ad'}],\n",
       "   'position': 120,\n",
       "   'sid': 'HT225C1-U4'},\n",
       "  {'data': [{'dtype': 'visium',\n",
       "     'filepath': '/diskmnt/Projects/Users/estorrs/mushroom/data/projects/submission_v1/HT225C1/registered/s3_HT225C1-U5_visium.h5ad'}],\n",
       "   'position': 180,\n",
       "   'sid': 'HT225C1-U5'}],\n",
       " 'target_sid': 'HT225C1-U2'}"
      ]
     },
     "execution_count": 60,
     "metadata": {},
     "output_type": "execute_result"
    }
   ],
   "source": [
    "case = 'HT225C1'\n",
    "fp = [fp for fp in fps if case == fp.split('/')[-3]][0]\n",
    "data_map = yaml.safe_load(open(fp))\n",
    "\n",
    "output_dir = os.path.join(project_dir, case, 'masks')\n",
    "Path(output_dir).mkdir(parents=True, exist_ok=True)\n",
    "\n",
    "data_map"
   ]
  },
  {
   "cell_type": "markdown",
   "id": "c057dd41",
   "metadata": {
    "heading_collapsed": true
   },
   "source": [
    "###### HT268B1"
   ]
  },
  {
   "cell_type": "code",
   "execution_count": 85,
   "id": "6a4c85e5",
   "metadata": {
    "hidden": true
   },
   "outputs": [
    {
     "data": {
      "text/plain": [
       "{'resolution': 2.416043983128135,\n",
       " 'sections': [{'data': [{'dtype': 'visium',\n",
       "     'filepath': '/diskmnt/Projects/Users/estorrs/mushroom/data/projects/submission_v1/HT268B1/registered/s0_HT268B1-U2_visium.h5ad'}],\n",
       "   'position': 5,\n",
       "   'sid': 'HT268B1-U2'},\n",
       "  {'data': [{'dtype': 'visium',\n",
       "     'filepath': '/diskmnt/Projects/Users/estorrs/mushroom/data/projects/submission_v1/HT268B1/registered/s1_HT268B1-U12_visium.h5ad'}],\n",
       "   'position': 55,\n",
       "   'sid': 'HT268B1-U12'},\n",
       "  {'data': [{'dtype': 'visium',\n",
       "     'filepath': '/diskmnt/Projects/Users/estorrs/mushroom/data/projects/submission_v1/HT268B1/registered/s2_HT268B1-U22_visium.h5ad'}],\n",
       "   'position': 105,\n",
       "   'sid': 'HT268B1-U22'},\n",
       "  {'data': [{'dtype': 'visium',\n",
       "     'filepath': '/diskmnt/Projects/Users/estorrs/mushroom/data/projects/submission_v1/HT268B1/registered/s3_HT268B1-U32_visium.h5ad'}],\n",
       "   'position': 155,\n",
       "   'sid': 'HT268B1-U32'}],\n",
       " 'target_sid': 'HT268B1-U2'}"
      ]
     },
     "execution_count": 85,
     "metadata": {},
     "output_type": "execute_result"
    }
   ],
   "source": [
    "case = 'HT268B1'\n",
    "fp = [fp for fp in fps if case == fp.split('/')[-3]][0]\n",
    "data_map = yaml.safe_load(open(fp))\n",
    "\n",
    "output_dir = os.path.join(project_dir, case, 'masks')\n",
    "Path(output_dir).mkdir(parents=True, exist_ok=True)\n",
    "\n",
    "data_map"
   ]
  },
  {
   "cell_type": "markdown",
   "id": "f6c6ee55",
   "metadata": {
    "heading_collapsed": true
   },
   "source": [
    "###### HT397B1"
   ]
  },
  {
   "cell_type": "code",
   "execution_count": 97,
   "id": "4a7362cf",
   "metadata": {
    "hidden": true
   },
   "outputs": [
    {
     "data": {
      "text/plain": [
       "{'resolution': 2.3223207975307805,\n",
       " 'sections': [{'data': [{'dtype': 'visium',\n",
       "     'filepath': '/diskmnt/Projects/Users/estorrs/mushroom/data/projects/submission_v1/HT397B1/registered/s0_HT397B1-U1_visium.h5ad'},\n",
       "    {'dtype': 'he',\n",
       "     'filepath': '/diskmnt/Projects/Users/estorrs/mushroom/data/projects/submission_v1/HT397B1/registered/s0_HT397B1-U1_he.tif'}],\n",
       "   'position': 0,\n",
       "   'sid': 'HT397B1-U1'},\n",
       "  {'data': [{'dtype': 'multiplex',\n",
       "     'filepath': '/diskmnt/Projects/Users/estorrs/mushroom/data/projects/submission_v1/HT397B1/registered/s1_HT397B1-U2_multiplex.ome.tiff'}],\n",
       "   'position': 5,\n",
       "   'sid': 'HT397B1-U2'},\n",
       "  {'data': [{'dtype': 'multiplex',\n",
       "     'filepath': '/diskmnt/Projects/Users/estorrs/mushroom/data/projects/submission_v1/HT397B1/registered/s2_HT397B1-U12_multiplex.ome.tiff'}],\n",
       "   'position': 55,\n",
       "   'sid': 'HT397B1-U12'},\n",
       "  {'data': [{'dtype': 'visium',\n",
       "     'filepath': '/diskmnt/Projects/Users/estorrs/mushroom/data/projects/submission_v1/HT397B1/registered/s3_HT397B1-U21_visium.h5ad'},\n",
       "    {'dtype': 'he',\n",
       "     'filepath': '/diskmnt/Projects/Users/estorrs/mushroom/data/projects/submission_v1/HT397B1/registered/s3_HT397B1-U21_he.tif'}],\n",
       "   'position': 100,\n",
       "   'sid': 'HT397B1-U21'},\n",
       "  {'data': [{'dtype': 'multiplex',\n",
       "     'filepath': '/diskmnt/Projects/Users/estorrs/mushroom/data/projects/submission_v1/HT397B1/registered/s4_HT397B1-U22_multiplex.ome.tiff'}],\n",
       "   'position': 105,\n",
       "   'sid': 'HT397B1-U22'},\n",
       "  {'data': [{'dtype': 'multiplex',\n",
       "     'filepath': '/diskmnt/Projects/Users/estorrs/mushroom/data/projects/submission_v1/HT397B1/registered/s5_HT397B1-U31_multiplex.ome.tiff'}],\n",
       "   'position': 150,\n",
       "   'sid': 'HT397B1-U31'}],\n",
       " 'target_sid': 'HT397B1-U1'}"
      ]
     },
     "execution_count": 97,
     "metadata": {},
     "output_type": "execute_result"
    }
   ],
   "source": [
    "case = 'HT397B1'\n",
    "fp = [fp for fp in fps if case == fp.split('/')[-3]][0]\n",
    "data_map = yaml.safe_load(open(fp))\n",
    "\n",
    "output_dir = os.path.join(project_dir, case, 'masks')\n",
    "Path(output_dir).mkdir(parents=True, exist_ok=True)\n",
    "\n",
    "data_map"
   ]
  },
  {
   "cell_type": "markdown",
   "id": "174c438c",
   "metadata": {
    "heading_collapsed": true
   },
   "source": [
    "###### HT413C1-Th1k4A1"
   ]
  },
  {
   "cell_type": "code",
   "execution_count": 108,
   "id": "fd9e7a9b",
   "metadata": {
    "hidden": true
   },
   "outputs": [
    {
     "data": {
      "text/plain": [
       "{'resolution': 1.0,\n",
       " 'sections': [{'data': [{'dtype': 'he',\n",
       "     'filepath': '/diskmnt/Projects/Users/estorrs/mushroom/data/projects/submission_v1/HT413C1-Th1k4A1/registered/s0_HT413C1-Th1k4A1-U14_he.tif'}],\n",
       "   'position': 0,\n",
       "   'sid': 'HT413C1-Th1k4A1-U14'},\n",
       "  {'data': [{'dtype': 'he',\n",
       "     'filepath': '/diskmnt/Projects/Users/estorrs/mushroom/data/projects/submission_v1/HT413C1-Th1k4A1/registered/s1_HT413C1-Th1k4A1-U18_he.tif'}],\n",
       "   'position': 20,\n",
       "   'sid': 'HT413C1-Th1k4A1-U18'},\n",
       "  {'data': [{'dtype': 'xenium',\n",
       "     'filepath': '/diskmnt/Projects/Users/estorrs/mushroom/data/projects/submission_v1/HT413C1-Th1k4A1/registered/s2_HT413C1-Th1k4A1-U19_xenium.h5ad'}],\n",
       "   'position': 25,\n",
       "   'sid': 'HT413C1-Th1k4A1-U19'},\n",
       "  {'data': [{'dtype': 'multiplex',\n",
       "     'filepath': '/diskmnt/Projects/Users/estorrs/mushroom/data/projects/submission_v1/HT413C1-Th1k4A1/registered/s3_HT413C1-Th1k4A1-U20_multiplex.ome.tiff'}],\n",
       "   'position': 30,\n",
       "   'sid': 'HT413C1-Th1k4A1-U20'},\n",
       "  {'data': [{'dtype': 'he',\n",
       "     'filepath': '/diskmnt/Projects/Users/estorrs/mushroom/data/projects/submission_v1/HT413C1-Th1k4A1/registered/s4_HT413C1-Th1k4A1-U1_he.tif'}],\n",
       "   'position': 45,\n",
       "   'sid': 'HT413C1-Th1k4A1-U1'},\n",
       "  {'data': [{'dtype': 'xenium',\n",
       "     'filepath': '/diskmnt/Projects/Users/estorrs/mushroom/data/projects/submission_v1/HT413C1-Th1k4A1/registered/s5_HT413C1-Th1k4A1-U2_xenium.h5ad'}],\n",
       "   'position': 50,\n",
       "   'sid': 'HT413C1-Th1k4A1-U2'},\n",
       "  {'data': [{'dtype': 'multiplex',\n",
       "     'filepath': '/diskmnt/Projects/Users/estorrs/mushroom/data/projects/submission_v1/HT413C1-Th1k4A1/registered/s6_HT413C1-Th1k4A1-U3_multiplex.ome.tiff'}],\n",
       "   'position': 55,\n",
       "   'sid': 'HT413C1-Th1k4A1-U3'},\n",
       "  {'data': [{'dtype': 'he',\n",
       "     'filepath': '/diskmnt/Projects/Users/estorrs/mushroom/data/projects/submission_v1/HT413C1-Th1k4A1/registered/s7_HT413C1-Th1k4A1-U4_he.tif'}],\n",
       "   'position': 60,\n",
       "   'sid': 'HT413C1-Th1k4A1-U4'},\n",
       "  {'data': [{'dtype': 'cosmx',\n",
       "     'filepath': '/diskmnt/Projects/Users/estorrs/mushroom/data/projects/submission_v1/HT413C1-Th1k4A1/registered/s8_HT413C1-Th1k4A1-U7_cosmx.h5ad'}],\n",
       "   'position': 75,\n",
       "   'sid': 'HT413C1-Th1k4A1-U7'},\n",
       "  {'data': [{'dtype': 'he',\n",
       "     'filepath': '/diskmnt/Projects/Users/estorrs/mushroom/data/projects/submission_v1/HT413C1-Th1k4A1/registered/s9_HT413C1-Th1k4A1-U8_he.tif'}],\n",
       "   'position': 80,\n",
       "   'sid': 'HT413C1-Th1k4A1-U8'},\n",
       "  {'data': [{'dtype': 'xenium',\n",
       "     'filepath': '/diskmnt/Projects/Users/estorrs/mushroom/data/projects/submission_v1/HT413C1-Th1k4A1/registered/s10_HT413C1-Th1k4A1-U9_xenium.h5ad'}],\n",
       "   'position': 85,\n",
       "   'sid': 'HT413C1-Th1k4A1-U9'},\n",
       "  {'data': [{'dtype': 'he',\n",
       "     'filepath': '/diskmnt/Projects/Users/estorrs/mushroom/data/projects/submission_v1/HT413C1-Th1k4A1/registered/s11_HT413C1-Th1k4A1-U11_he.tif'}],\n",
       "   'position': 95,\n",
       "   'sid': 'HT413C1-Th1k4A1-U11'},\n",
       "  {'data': [{'dtype': 'he',\n",
       "     'filepath': '/diskmnt/Projects/Users/estorrs/mushroom/data/projects/submission_v1/HT413C1-Th1k4A1/registered/s12_HT413C1-Th1k4A1-U21_he.tif'}],\n",
       "   'position': 100,\n",
       "   'sid': 'HT413C1-Th1k4A1-U21'},\n",
       "  {'data': [{'dtype': 'he',\n",
       "     'filepath': '/diskmnt/Projects/Users/estorrs/mushroom/data/projects/submission_v1/HT413C1-Th1k4A1/registered/s13_HT413C1-Th1k4A1-U24_he.tif'}],\n",
       "   'position': 115,\n",
       "   'sid': 'HT413C1-Th1k4A1-U24'},\n",
       "  {'data': [{'dtype': 'xenium',\n",
       "     'filepath': '/diskmnt/Projects/Users/estorrs/mushroom/data/projects/submission_v1/HT413C1-Th1k4A1/registered/s14_HT413C1-Th1k4A1-U25_xenium.h5ad'}],\n",
       "   'position': 120,\n",
       "   'sid': 'HT413C1-Th1k4A1-U25'},\n",
       "  {'data': [{'dtype': 'multiplex',\n",
       "     'filepath': '/diskmnt/Projects/Users/estorrs/mushroom/data/projects/submission_v1/HT413C1-Th1k4A1/registered/s15_HT413C1-Th1k4A1-U26_multiplex.ome.tiff'}],\n",
       "   'position': 125,\n",
       "   'sid': 'HT413C1-Th1k4A1-U26'},\n",
       "  {'data': [{'dtype': 'he',\n",
       "     'filepath': '/diskmnt/Projects/Users/estorrs/mushroom/data/projects/submission_v1/HT413C1-Th1k4A1/registered/s16_HT413C1-Th1k4A1-U27_he.tif'}],\n",
       "   'position': 130,\n",
       "   'sid': 'HT413C1-Th1k4A1-U27'},\n",
       "  {'data': [{'dtype': 'he',\n",
       "     'filepath': '/diskmnt/Projects/Users/estorrs/mushroom/data/projects/submission_v1/HT413C1-Th1k4A1/registered/s17_HT413C1-Th1k4A1-U29_he.tif'}],\n",
       "   'position': 140,\n",
       "   'sid': 'HT413C1-Th1k4A1-U29'},\n",
       "  {'data': [{'dtype': 'he',\n",
       "     'filepath': '/diskmnt/Projects/Users/estorrs/mushroom/data/projects/submission_v1/HT413C1-Th1k4A1/registered/s18_HT413C1-Th1k4A1-U30_he.tif'}],\n",
       "   'position': 145,\n",
       "   'sid': 'HT413C1-Th1k4A1-U30'},\n",
       "  {'data': [{'dtype': 'xenium',\n",
       "     'filepath': '/diskmnt/Projects/Users/estorrs/mushroom/data/projects/submission_v1/HT413C1-Th1k4A1/registered/s19_HT413C1-Th1k4A1-U31_xenium.h5ad'}],\n",
       "   'position': 150,\n",
       "   'sid': 'HT413C1-Th1k4A1-U31'},\n",
       "  {'data': [{'dtype': 'multiplex',\n",
       "     'filepath': '/diskmnt/Projects/Users/estorrs/mushroom/data/projects/submission_v1/HT413C1-Th1k4A1/registered/s20_HT413C1-Th1k4A1-U32_multiplex.ome.tiff'}],\n",
       "   'position': 155,\n",
       "   'sid': 'HT413C1-Th1k4A1-U32'},\n",
       "  {'data': [{'dtype': 'cosmx',\n",
       "     'filepath': '/diskmnt/Projects/Users/estorrs/mushroom/data/projects/submission_v1/HT413C1-Th1k4A1/registered/s21_HT413C1-Th1k4A1-U34_cosmx.h5ad'}],\n",
       "   'position': 165,\n",
       "   'sid': 'HT413C1-Th1k4A1-U34'},\n",
       "  {'data': [{'dtype': 'he',\n",
       "     'filepath': '/diskmnt/Projects/Users/estorrs/mushroom/data/projects/submission_v1/HT413C1-Th1k4A1/registered/s22_HT413C1-Th1k4A1-U35_he.tif'}],\n",
       "   'position': 170,\n",
       "   'sid': 'HT413C1-Th1k4A1-U35'},\n",
       "  {'data': [{'dtype': 'xenium',\n",
       "     'filepath': '/diskmnt/Projects/Users/estorrs/mushroom/data/projects/submission_v1/HT413C1-Th1k4A1/registered/s23_HT413C1-Th1k4A1-U36_xenium.h5ad'}],\n",
       "   'position': 175,\n",
       "   'sid': 'HT413C1-Th1k4A1-U36'},\n",
       "  {'data': [{'dtype': 'multiplex',\n",
       "     'filepath': '/diskmnt/Projects/Users/estorrs/mushroom/data/projects/submission_v1/HT413C1-Th1k4A1/registered/s24_HT413C1-Th1k4A1-U37_multiplex.ome.tiff'}],\n",
       "   'position': 180,\n",
       "   'sid': 'HT413C1-Th1k4A1-U37'},\n",
       "  {'data': [{'dtype': 'he',\n",
       "     'filepath': '/diskmnt/Projects/Users/estorrs/mushroom/data/projects/submission_v1/HT413C1-Th1k4A1/registered/s25_HT413C1-Th1k4A1-U38_he.tif'}],\n",
       "   'position': 185,\n",
       "   'sid': 'HT413C1-Th1k4A1-U38'},\n",
       "  {'data': [{'dtype': 'he',\n",
       "     'filepath': '/diskmnt/Projects/Users/estorrs/mushroom/data/projects/submission_v1/HT413C1-Th1k4A1/registered/s26_HT413C1-Th1k4A1-U40_he.tif'}],\n",
       "   'position': 195,\n",
       "   'sid': 'HT413C1-Th1k4A1-U40'},\n",
       "  {'data': [{'dtype': 'multiplex',\n",
       "     'filepath': '/diskmnt/Projects/Users/estorrs/mushroom/data/projects/submission_v1/HT413C1-Th1k4A1/registered/s27_HT413C1-Th1k4A1-U41_multiplex.ome.tiff'}],\n",
       "   'position': 200,\n",
       "   'sid': 'HT413C1-Th1k4A1-U41'},\n",
       "  {'data': [{'dtype': 'multiplex',\n",
       "     'filepath': '/diskmnt/Projects/Users/estorrs/mushroom/data/projects/submission_v1/HT413C1-Th1k4A1/registered/s28_HT413C1-Th1k4A1-U42_multiplex.ome.tiff'}],\n",
       "   'position': 205,\n",
       "   'sid': 'HT413C1-Th1k4A1-U42'}],\n",
       " 'target_sid': 'HT413C1-Th1k4A1-U19'}"
      ]
     },
     "execution_count": 108,
     "metadata": {},
     "output_type": "execute_result"
    }
   ],
   "source": [
    "case = 'HT413C1-Th1k4A1'\n",
    "fp = [fp for fp in fps if case == fp.split('/')[-3]][0]\n",
    "data_map = yaml.safe_load(open(fp))\n",
    "\n",
    "output_dir = os.path.join(project_dir, case, 'masks')\n",
    "Path(output_dir).mkdir(parents=True, exist_ok=True)\n",
    "\n",
    "data_map"
   ]
  },
  {
   "cell_type": "markdown",
   "id": "2dd7fae7",
   "metadata": {
    "heading_collapsed": true
   },
   "source": [
    "###### S18-25943-A7"
   ]
  },
  {
   "cell_type": "code",
   "execution_count": 119,
   "id": "7eaa4f9d",
   "metadata": {
    "hidden": true
   },
   "outputs": [
    {
     "data": {
      "text/plain": [
       "{'resolution': 1.0,\n",
       " 'sections': [{'data': [{'dtype': 'xenium',\n",
       "     'filepath': '/diskmnt/Projects/Users/estorrs/mushroom/data/projects/submission_v1/S18-25943-A7/registered/s0_S18-25943-A7-U1_xenium.h5ad'}],\n",
       "   'position': 0,\n",
       "   'sid': 'S18-25943-A7-U1'},\n",
       "  {'data': [{'dtype': 'xenium',\n",
       "     'filepath': '/diskmnt/Projects/Users/estorrs/mushroom/data/projects/submission_v1/S18-25943-A7/registered/s1_S18-25943-A7-U4_xenium.h5ad'}],\n",
       "   'position': 15,\n",
       "   'sid': 'S18-25943-A7-U4'},\n",
       "  {'data': [{'dtype': 'xenium',\n",
       "     'filepath': '/diskmnt/Projects/Users/estorrs/mushroom/data/projects/submission_v1/S18-25943-A7/registered/s2_S18-25943-A7-U8_xenium.h5ad'}],\n",
       "   'position': 35,\n",
       "   'sid': 'S18-25943-A7-U8'},\n",
       "  {'data': [{'dtype': 'multiplex',\n",
       "     'filepath': '/diskmnt/Projects/Users/estorrs/mushroom/data/projects/submission_v1/S18-25943-A7/registered/s3_S18-25943-A7-U9_multiplex.ome.tiff'}],\n",
       "   'position': 40,\n",
       "   'sid': 'S18-25943-A7-U9'},\n",
       "  {'data': [{'dtype': 'xenium',\n",
       "     'filepath': '/diskmnt/Projects/Users/estorrs/mushroom/data/projects/submission_v1/S18-25943-A7/registered/s4_S18-25943-A7-U11_xenium.h5ad'}],\n",
       "   'position': 50,\n",
       "   'sid': 'S18-25943-A7-U11'},\n",
       "  {'data': [{'dtype': 'multiplex',\n",
       "     'filepath': '/diskmnt/Projects/Users/estorrs/mushroom/data/projects/submission_v1/S18-25943-A7/registered/s5_S18-25943-A7-U13_multiplex.ome.tiff'}],\n",
       "   'position': 60,\n",
       "   'sid': 'S18-25943-A7-U13'}],\n",
       " 'target_sid': 'S18-25943-A7-U1'}"
      ]
     },
     "execution_count": 119,
     "metadata": {},
     "output_type": "execute_result"
    }
   ],
   "source": [
    "case = 'S18-25943-A7'\n",
    "fp = [fp for fp in fps if case == fp.split('/')[-3]][0]\n",
    "data_map = yaml.safe_load(open(fp))\n",
    "\n",
    "output_dir = os.path.join(project_dir, case, 'masks')\n",
    "Path(output_dir).mkdir(parents=True, exist_ok=True)\n",
    "\n",
    "data_map"
   ]
  },
  {
   "cell_type": "markdown",
   "id": "052030b4",
   "metadata": {
    "heading_collapsed": true
   },
   "source": [
    "###### S18-5591-C8"
   ]
  },
  {
   "cell_type": "code",
   "execution_count": 130,
   "id": "6089812e",
   "metadata": {
    "hidden": true
   },
   "outputs": [
    {
     "data": {
      "text/plain": [
       "{'resolution': 1.0,\n",
       " 'sections': [{'data': [{'dtype': 'xenium',\n",
       "     'filepath': '/diskmnt/Projects/Users/estorrs/mushroom/data/projects/submission_v1/S18-5591-C8/registered/s0_S18-5591-C8-U1_xenium.h5ad'}],\n",
       "   'position': 0,\n",
       "   'sid': 'S18-5591-C8-U1'},\n",
       "  {'data': [{'dtype': 'xenium',\n",
       "     'filepath': '/diskmnt/Projects/Users/estorrs/mushroom/data/projects/submission_v1/S18-5591-C8/registered/s1_S18-5591-C8-U5_xenium.h5ad'}],\n",
       "   'position': 20,\n",
       "   'sid': 'S18-5591-C8-U5'},\n",
       "  {'data': [{'dtype': 'xenium',\n",
       "     'filepath': '/diskmnt/Projects/Users/estorrs/mushroom/data/projects/submission_v1/S18-5591-C8/registered/s2_S18-5591-C8-U7_xenium.h5ad'}],\n",
       "   'position': 30,\n",
       "   'sid': 'S18-5591-C8-U7'},\n",
       "  {'data': [{'dtype': 'multiplex',\n",
       "     'filepath': '/diskmnt/Projects/Users/estorrs/mushroom/data/projects/submission_v1/S18-5591-C8/registered/s3_S18-5591-C8-U8_multiplex.ome.tiff'}],\n",
       "   'position': 35,\n",
       "   'sid': 'S18-5591-C8-U8'},\n",
       "  {'data': [{'dtype': 'xenium',\n",
       "     'filepath': '/diskmnt/Projects/Users/estorrs/mushroom/data/projects/submission_v1/S18-5591-C8/registered/s4_S18-5591-C8-U12_xenium.h5ad'}],\n",
       "   'position': 55,\n",
       "   'sid': 'S18-5591-C8-U12'},\n",
       "  {'data': [{'dtype': 'multiplex',\n",
       "     'filepath': '/diskmnt/Projects/Users/estorrs/mushroom/data/projects/submission_v1/S18-5591-C8/registered/s5_S18-5591-C8-U14_multiplex.ome.tiff'}],\n",
       "   'position': 65,\n",
       "   'sid': 'S18-5591-C8-U14'},\n",
       "  {'data': [{'dtype': 'xenium',\n",
       "     'filepath': '/diskmnt/Projects/Users/estorrs/mushroom/data/projects/submission_v1/S18-5591-C8/registered/s6_S18-5591-C8-U18_xenium.h5ad'}],\n",
       "   'position': 85,\n",
       "   'sid': 'S18-5591-C8-U18'},\n",
       "  {'data': [{'dtype': 'multiplex',\n",
       "     'filepath': '/diskmnt/Projects/Users/estorrs/mushroom/data/projects/submission_v1/S18-5591-C8/registered/s7_S18-5591-C8-U19_multiplex.ome.tiff'}],\n",
       "   'position': 90,\n",
       "   'sid': 'S18-5591-C8-U19'},\n",
       "  {'data': [{'dtype': 'xenium',\n",
       "     'filepath': '/diskmnt/Projects/Users/estorrs/mushroom/data/projects/submission_v1/S18-5591-C8/registered/s8_S18-5591-C8-U20_xenium.h5ad'}],\n",
       "   'position': 95,\n",
       "   'sid': 'S18-5591-C8-U20'},\n",
       "  {'data': [{'dtype': 'multiplex',\n",
       "     'filepath': '/diskmnt/Projects/Users/estorrs/mushroom/data/projects/submission_v1/S18-5591-C8/registered/s9_S18-5591-C8-U21_multiplex.ome.tiff'}],\n",
       "   'position': 100,\n",
       "   'sid': 'S18-5591-C8-U21'},\n",
       "  {'data': [{'dtype': 'multiplex',\n",
       "     'filepath': '/diskmnt/Projects/Users/estorrs/mushroom/data/projects/submission_v1/S18-5591-C8/registered/s10_S18-5591-C8-U23_multiplex.ome.tiff'}],\n",
       "   'position': 110,\n",
       "   'sid': 'S18-5591-C8-U23'},\n",
       "  {'data': [{'dtype': 'multiplex',\n",
       "     'filepath': '/diskmnt/Projects/Users/estorrs/mushroom/data/projects/submission_v1/S18-5591-C8/registered/s11_S18-5591-C8-U24_multiplex.ome.tiff'}],\n",
       "   'position': 115,\n",
       "   'sid': 'S18-5591-C8-U24'}],\n",
       " 'target_sid': 'S18-5591-C8-U1'}"
      ]
     },
     "execution_count": 130,
     "metadata": {},
     "output_type": "execute_result"
    }
   ],
   "source": [
    "case = 'S18-5591-C8'\n",
    "fp = [fp for fp in fps if case == fp.split('/')[-3]][0]\n",
    "data_map = yaml.safe_load(open(fp))\n",
    "\n",
    "output_dir = os.path.join(project_dir, case, 'masks')\n",
    "Path(output_dir).mkdir(parents=True, exist_ok=True)\n",
    "\n",
    "data_map"
   ]
  },
  {
   "cell_type": "markdown",
   "id": "2eb11c17",
   "metadata": {
    "heading_collapsed": true
   },
   "source": [
    "###### S18-9906"
   ]
  },
  {
   "cell_type": "code",
   "execution_count": 145,
   "id": "55c00ed4",
   "metadata": {
    "hidden": true
   },
   "outputs": [
    {
     "data": {
      "text/plain": [
       "{'resolution': 1.0,\n",
       " 'sections': [{'data': [{'dtype': 'visium',\n",
       "     'filepath': '/diskmnt/Projects/Users/estorrs/mushroom/data/projects/submission_v1/S18-9906/registered/s0_S18-9906-U1_visium.h5ad'},\n",
       "    {'dtype': 'he',\n",
       "     'filepath': '/diskmnt/Projects/Users/estorrs/mushroom/data/projects/submission_v1/S18-9906/registered/s0_S18-9906-U1_he.tif'}],\n",
       "   'position': 0,\n",
       "   'sid': 'S18-9906-U1'},\n",
       "  {'data': [{'dtype': 'xenium',\n",
       "     'filepath': '/diskmnt/Projects/Users/estorrs/mushroom/data/projects/submission_v1/S18-9906/registered/s1_S18-9906-U2_xenium.h5ad'}],\n",
       "   'position': 5,\n",
       "   'sid': 'S18-9906-U2'},\n",
       "  {'data': [{'dtype': 'multiplex',\n",
       "     'filepath': '/diskmnt/Projects/Users/estorrs/mushroom/data/projects/submission_v1/S18-9906/registered/s2_S18-9906-U3_multiplex.ome.tiff'}],\n",
       "   'position': 10,\n",
       "   'sid': 'S18-9906-U3'},\n",
       "  {'data': [{'dtype': 'xenium',\n",
       "     'filepath': '/diskmnt/Projects/Users/estorrs/mushroom/data/projects/submission_v1/S18-9906/registered/s3_S18-9906-U9_xenium.h5ad'}],\n",
       "   'position': 40,\n",
       "   'sid': 'S18-9906-U9'},\n",
       "  {'data': [{'dtype': 'multiplex',\n",
       "     'filepath': '/diskmnt/Projects/Users/estorrs/mushroom/data/projects/submission_v1/S18-9906/registered/s4_S18-9906-U10_multiplex.ome.tiff'}],\n",
       "   'position': 45,\n",
       "   'sid': 'S18-9906-U10'},\n",
       "  {'data': [{'dtype': 'visium',\n",
       "     'filepath': '/diskmnt/Projects/Users/estorrs/mushroom/data/projects/submission_v1/S18-9906/registered/s5_S18-9906-U16_visium.h5ad'},\n",
       "    {'dtype': 'he',\n",
       "     'filepath': '/diskmnt/Projects/Users/estorrs/mushroom/data/projects/submission_v1/S18-9906/registered/s5_S18-9906-U16_he.tif'}],\n",
       "   'position': 105,\n",
       "   'sid': 'S18-9906-U16'},\n",
       "  {'data': [{'dtype': 'xenium',\n",
       "     'filepath': '/diskmnt/Projects/Users/estorrs/mushroom/data/projects/submission_v1/S18-9906/registered/s6_S18-9906-U17_xenium.h5ad'}],\n",
       "   'position': 120,\n",
       "   'sid': 'S18-9906-U17'},\n",
       "  {'data': [{'dtype': 'multiplex',\n",
       "     'filepath': '/diskmnt/Projects/Users/estorrs/mushroom/data/projects/submission_v1/S18-9906/registered/s7_S18-9906-U18_multiplex.ome.tiff'}],\n",
       "   'position': 125,\n",
       "   'sid': 'S18-9906-U18'},\n",
       "  {'data': [{'dtype': 'xenium',\n",
       "     'filepath': '/diskmnt/Projects/Users/estorrs/mushroom/data/projects/submission_v1/S18-9906/registered/s8_S18-9906-U24_xenium.h5ad'}],\n",
       "   'position': 155,\n",
       "   'sid': 'S18-9906-U24'},\n",
       "  {'data': [{'dtype': 'multiplex',\n",
       "     'filepath': '/diskmnt/Projects/Users/estorrs/mushroom/data/projects/submission_v1/S18-9906/registered/s9_S18-9906-U25_multiplex.ome.tiff'}],\n",
       "   'position': 160,\n",
       "   'sid': 'S18-9906-U25'}],\n",
       " 'target_sid': 'S18-9906-U2'}"
      ]
     },
     "execution_count": 145,
     "metadata": {},
     "output_type": "execute_result"
    }
   ],
   "source": [
    "case = 'S18-9906'\n",
    "fp = [fp for fp in fps if case == fp.split('/')[-3]][0]\n",
    "data_map = yaml.safe_load(open(fp))\n",
    "\n",
    "output_dir = os.path.join(project_dir, case, 'masks')\n",
    "Path(output_dir).mkdir(parents=True, exist_ok=True)\n",
    "\n",
    "data_map"
   ]
  },
  {
   "cell_type": "markdown",
   "id": "4487d0a7",
   "metadata": {
    "heading_collapsed": true
   },
   "source": [
    "###### C3L-00970"
   ]
  },
  {
   "cell_type": "code",
   "execution_count": 9,
   "id": "304e808f",
   "metadata": {
    "hidden": true
   },
   "outputs": [
    {
     "data": {
      "text/plain": [
       "{'resolution': 1.0,\n",
       " 'sections': [{'data': [{'dtype': 'xenium',\n",
       "     'filepath': '/diskmnt/Projects/Users/estorrs/mushroom/data/projects/submission_v1/C3L-00970/registered/s0_C3L-00970-U1_xenium.h5ad'}],\n",
       "   'position': 0,\n",
       "   'sid': 'C3L-00970-U1'},\n",
       "  {'data': [{'dtype': 'multiplex',\n",
       "     'filepath': '/diskmnt/Projects/Users/estorrs/mushroom/data/projects/submission_v1/C3L-00970/registered/s1_C3L-00970-U2_multiplex.ome.tiff'}],\n",
       "   'position': 5,\n",
       "   'sid': 'C3L-00970-U2'}],\n",
       " 'target_sid': 'C3L-00970-U1'}"
      ]
     },
     "execution_count": 9,
     "metadata": {},
     "output_type": "execute_result"
    }
   ],
   "source": [
    "case = 'C3L-00970'\n",
    "fp = [fp for fp in fps if case == fp.split('/')[-3]][0]\n",
    "data_map = yaml.safe_load(open(fp))\n",
    "\n",
    "output_dir = os.path.join(project_dir, case, 'masks')\n",
    "Path(output_dir).mkdir(parents=True, exist_ok=True)\n",
    "\n",
    "data_map"
   ]
  },
  {
   "cell_type": "markdown",
   "id": "ebc9c757",
   "metadata": {
    "heading_collapsed": true
   },
   "source": [
    "###### C3L-01287"
   ]
  },
  {
   "cell_type": "code",
   "execution_count": 21,
   "id": "a4353c04",
   "metadata": {
    "hidden": true
   },
   "outputs": [
    {
     "data": {
      "text/plain": [
       "{'resolution': 1.0,\n",
       " 'sections': [{'data': [{'dtype': 'xenium',\n",
       "     'filepath': '/diskmnt/Projects/Users/estorrs/mushroom/data/projects/submission_v1/C3L-01287/registered/s0_C3L-01287-U1_xenium.h5ad'}],\n",
       "   'position': 0,\n",
       "   'sid': 'C3L-01287-U1'},\n",
       "  {'data': [{'dtype': 'multiplex',\n",
       "     'filepath': '/diskmnt/Projects/Users/estorrs/mushroom/data/projects/submission_v1/C3L-01287/registered/s1_C3L-01287-U2_multiplex.ome.tiff'}],\n",
       "   'position': 5,\n",
       "   'sid': 'C3L-01287-U2'}],\n",
       " 'target_sid': 'C3L-01287-U1'}"
      ]
     },
     "execution_count": 21,
     "metadata": {},
     "output_type": "execute_result"
    }
   ],
   "source": [
    "case = 'C3L-01287'\n",
    "fp = [fp for fp in fps if case == fp.split('/')[-3]][0]\n",
    "data_map = yaml.safe_load(open(fp))\n",
    "\n",
    "output_dir = os.path.join(project_dir, case, 'masks')\n",
    "Path(output_dir).mkdir(parents=True, exist_ok=True)\n",
    "\n",
    "data_map"
   ]
  },
  {
   "cell_type": "markdown",
   "id": "a45aaf56",
   "metadata": {
    "heading_collapsed": true
   },
   "source": [
    "###### HT413C1-K2"
   ]
  },
  {
   "cell_type": "code",
   "execution_count": 32,
   "id": "124a387b",
   "metadata": {
    "hidden": true
   },
   "outputs": [
    {
     "data": {
      "text/plain": [
       "{'resolution': 2.3845710250431806,\n",
       " 'sections': [{'data': [{'dtype': 'visium',\n",
       "     'filepath': '/diskmnt/Projects/Users/estorrs/mushroom/data/projects/submission_v1/HT413C1-K2/registered/s0_HT413C1-K2-U1_visium.h5ad'},\n",
       "    {'dtype': 'he',\n",
       "     'filepath': '/diskmnt/Projects/Users/estorrs/mushroom/data/projects/submission_v1/HT413C1-K2/registered/s0_HT413C1-K2-U1_he.tif'}],\n",
       "   'position': 0,\n",
       "   'sid': 'HT413C1-K2-U1'},\n",
       "  {'data': [{'dtype': 'multiplex',\n",
       "     'filepath': '/diskmnt/Projects/Users/estorrs/mushroom/data/projects/submission_v1/HT413C1-K2/registered/s1_HT413C1-K2-U2_multiplex.ome.tiff'}],\n",
       "   'position': 5,\n",
       "   'sid': 'HT413C1-K2-U2'}],\n",
       " 'target_sid': 'HT413C1-K2-U1'}"
      ]
     },
     "execution_count": 32,
     "metadata": {},
     "output_type": "execute_result"
    }
   ],
   "source": [
    "case = 'HT413C1-K2'\n",
    "fp = [fp for fp in fps if case == fp.split('/')[-3]][0]\n",
    "data_map = yaml.safe_load(open(fp))\n",
    "\n",
    "output_dir = os.path.join(project_dir, case, 'masks')\n",
    "Path(output_dir).mkdir(parents=True, exist_ok=True)\n",
    "\n",
    "data_map"
   ]
  },
  {
   "cell_type": "markdown",
   "id": "e5cd2a27",
   "metadata": {
    "heading_collapsed": true
   },
   "source": [
    "###### HT339B2-H1"
   ]
  },
  {
   "cell_type": "code",
   "execution_count": 45,
   "id": "36a5d4b3",
   "metadata": {
    "hidden": true
   },
   "outputs": [
    {
     "data": {
      "text/plain": [
       "{'resolution': 2.4157693208707984,\n",
       " 'sections': [{'data': [{'dtype': 'visium',\n",
       "     'filepath': '/diskmnt/Projects/Users/estorrs/mushroom/data/projects/submission_v1/HT339B2-H1/registered/s0_HT339B2-H1-U1_visium.h5ad'},\n",
       "    {'dtype': 'he',\n",
       "     'filepath': '/diskmnt/Projects/Users/estorrs/mushroom/data/projects/submission_v1/HT339B2-H1/registered/s0_HT339B2-H1-U1_he.tif'}],\n",
       "   'position': 0,\n",
       "   'sid': 'HT339B2-H1-U1'},\n",
       "  {'data': [{'dtype': 'multiplex',\n",
       "     'filepath': '/diskmnt/Projects/Users/estorrs/mushroom/data/projects/submission_v1/HT339B2-H1/registered/s1_HT339B2-H1-U2_multiplex.ome.tiff'}],\n",
       "   'position': 5,\n",
       "   'sid': 'HT339B2-H1-U2'}],\n",
       " 'target_sid': 'HT339B2-H1-U1'}"
      ]
     },
     "execution_count": 45,
     "metadata": {},
     "output_type": "execute_result"
    }
   ],
   "source": [
    "case = 'HT339B2-H1'\n",
    "fp = [fp for fp in fps if case == fp.split('/')[-3]][0]\n",
    "data_map = yaml.safe_load(open(fp))\n",
    "\n",
    "output_dir = os.path.join(project_dir, case, 'masks')\n",
    "Path(output_dir).mkdir(parents=True, exist_ok=True)\n",
    "\n",
    "data_map"
   ]
  },
  {
   "cell_type": "markdown",
   "id": "c686442e",
   "metadata": {
    "heading_collapsed": true
   },
   "source": [
    "###### HT553P1-H2"
   ]
  },
  {
   "cell_type": "code",
   "execution_count": 56,
   "id": "651bf389",
   "metadata": {
    "hidden": true
   },
   "outputs": [
    {
     "data": {
      "text/plain": [
       "{'resolution': 2.4161187954381664,\n",
       " 'sections': [{'data': [{'dtype': 'visium',\n",
       "     'filepath': '/diskmnt/Projects/Users/estorrs/mushroom/data/projects/submission_v1/HT553P1-H2/registered/s0_HT553P1-H2-U1_visium.h5ad'},\n",
       "    {'dtype': 'he',\n",
       "     'filepath': '/diskmnt/Projects/Users/estorrs/mushroom/data/projects/submission_v1/HT553P1-H2/registered/s0_HT553P1-H2-U1_he.tif'}],\n",
       "   'position': 0,\n",
       "   'sid': 'HT553P1-H2-U1'},\n",
       "  {'data': [{'dtype': 'multiplex',\n",
       "     'filepath': '/diskmnt/Projects/Users/estorrs/mushroom/data/projects/submission_v1/HT553P1-H2/registered/s1_HT553P1-H2-U2_multiplex.ome.tiff'}],\n",
       "   'position': 5,\n",
       "   'sid': 'HT553P1-H2-U2'}],\n",
       " 'target_sid': 'HT553P1-H2-U1'}"
      ]
     },
     "execution_count": 56,
     "metadata": {},
     "output_type": "execute_result"
    }
   ],
   "source": [
    "case = 'HT553P1-H2'\n",
    "fp = [fp for fp in fps if case == fp.split('/')[-3]][0]\n",
    "data_map = yaml.safe_load(open(fp))\n",
    "\n",
    "output_dir = os.path.join(project_dir, case, 'masks')\n",
    "Path(output_dir).mkdir(parents=True, exist_ok=True)\n",
    "\n",
    "data_map"
   ]
  },
  {
   "cell_type": "markdown",
   "id": "d3c24f41",
   "metadata": {
    "heading_collapsed": true
   },
   "source": [
    "###### HT565B1-H2"
   ]
  },
  {
   "cell_type": "code",
   "execution_count": 67,
   "id": "10f240bd",
   "metadata": {
    "hidden": true
   },
   "outputs": [
    {
     "data": {
      "text/plain": [
       "{'resolution': 2.4783396219710836,\n",
       " 'sections': [{'data': [{'dtype': 'visium',\n",
       "     'filepath': '/diskmnt/Projects/Users/estorrs/mushroom/data/projects/submission_v1/HT565B1-H2/registered/s0_HT565B1-H2-U1_visium.h5ad'},\n",
       "    {'dtype': 'he',\n",
       "     'filepath': '/diskmnt/Projects/Users/estorrs/mushroom/data/projects/submission_v1/HT565B1-H2/registered/s0_HT565B1-H2-U1_he.tif'}],\n",
       "   'position': 0,\n",
       "   'sid': 'HT565B1-H2-U1'},\n",
       "  {'data': [{'dtype': 'multiplex',\n",
       "     'filepath': '/diskmnt/Projects/Users/estorrs/mushroom/data/projects/submission_v1/HT565B1-H2/registered/s1_HT565B1-H2-U2_multiplex.ome.tiff'}],\n",
       "   'position': 0,\n",
       "   'sid': 'HT565B1-H2-U2'}],\n",
       " 'target_sid': 'HT565B1-H2-U1'}"
      ]
     },
     "execution_count": 67,
     "metadata": {},
     "output_type": "execute_result"
    }
   ],
   "source": [
    "case = 'HT565B1-H2'\n",
    "fp = [fp for fp in fps if case == fp.split('/')[-3]][0]\n",
    "data_map = yaml.safe_load(open(fp))\n",
    "\n",
    "output_dir = os.path.join(project_dir, case, 'masks')\n",
    "Path(output_dir).mkdir(parents=True, exist_ok=True)\n",
    "\n",
    "data_map"
   ]
  },
  {
   "cell_type": "markdown",
   "id": "e495aa87",
   "metadata": {
    "heading_collapsed": true
   },
   "source": [
    "###### HT448C1-Th1K1Fp1"
   ]
  },
  {
   "cell_type": "code",
   "execution_count": 78,
   "id": "b4b746b5",
   "metadata": {
    "hidden": true
   },
   "outputs": [
    {
     "data": {
      "text/plain": [
       "{'resolution': 2.320742392851537,\n",
       " 'sections': [{'data': [{'dtype': 'visium',\n",
       "     'filepath': '/diskmnt/Projects/Users/estorrs/mushroom/data/projects/submission_v1/HT448C1-Th1K1Fp1/registered/s0_HT448C1-Th1K1Fp1-U1_visium.h5ad'},\n",
       "    {'dtype': 'he',\n",
       "     'filepath': '/diskmnt/Projects/Users/estorrs/mushroom/data/projects/submission_v1/HT448C1-Th1K1Fp1/registered/s0_HT448C1-Th1K1Fp1-U1_he.tif'}],\n",
       "   'position': 0,\n",
       "   'sid': 'HT448C1-Th1K1Fp1-U1'},\n",
       "  {'data': [{'dtype': 'multiplex',\n",
       "     'filepath': '/diskmnt/Projects/Users/estorrs/mushroom/data/projects/submission_v1/HT448C1-Th1K1Fp1/registered/s1_HT448C1-Th1K1Fp1-U2_multiplex.ome.tiff'}],\n",
       "   'position': 5,\n",
       "   'sid': 'HT448C1-Th1K1Fp1-U2'},\n",
       "  {'data': [{'dtype': 'visium',\n",
       "     'filepath': '/diskmnt/Projects/Users/estorrs/mushroom/data/projects/submission_v1/HT448C1-Th1K1Fp1/registered/s2_HT448C1-Th1K1Fp1-U13_visium.h5ad'},\n",
       "    {'dtype': 'he',\n",
       "     'filepath': '/diskmnt/Projects/Users/estorrs/mushroom/data/projects/submission_v1/HT448C1-Th1K1Fp1/registered/s2_HT448C1-Th1K1Fp1-U13_he.tif'}],\n",
       "   'position': 60,\n",
       "   'sid': 'HT448C1-Th1K1Fp1-U13'},\n",
       "  {'data': [{'dtype': 'multiplex',\n",
       "     'filepath': '/diskmnt/Projects/Users/estorrs/mushroom/data/projects/submission_v1/HT448C1-Th1K1Fp1/registered/s3_HT448C1-Th1K1Fp1-U14_multiplex.ome.tiff'}],\n",
       "   'position': 65,\n",
       "   'sid': 'HT448C1-Th1K1Fp1-U14'}],\n",
       " 'target_sid': 'HT448C1-Th1K1Fp1-U1'}"
      ]
     },
     "execution_count": 78,
     "metadata": {},
     "output_type": "execute_result"
    }
   ],
   "source": [
    "case = 'HT448C1-Th1K1Fp1'\n",
    "fp = [fp for fp in fps if case == fp.split('/')[-3]][0]\n",
    "data_map = yaml.safe_load(open(fp))\n",
    "\n",
    "output_dir = os.path.join(project_dir, case, 'masks')\n",
    "Path(output_dir).mkdir(parents=True, exist_ok=True)\n",
    "\n",
    "data_map"
   ]
  },
  {
   "cell_type": "markdown",
   "id": "2b0dafe1",
   "metadata": {},
   "source": [
    "###### WD-76845"
   ]
  },
  {
   "cell_type": "code",
   "execution_count": 90,
   "id": "81875b70",
   "metadata": {},
   "outputs": [
    {
     "data": {
      "text/plain": [
       "{'resolution': 0.6499999761581421,\n",
       " 'sections': [{'data': [{'dtype': 'he',\n",
       "     'filepath': '/diskmnt/Projects/Users/estorrs/mushroom/data/projects/submission_v1/WD-76845/registered/s0_WD-76845-U1_he.tif'}],\n",
       "   'position': 5,\n",
       "   'sid': 'WD-76845-U1'},\n",
       "  {'data': [{'dtype': 'multiplex',\n",
       "     'filepath': '/diskmnt/Projects/Users/estorrs/mushroom/data/projects/submission_v1/WD-76845/registered/s1_WD-76845-U2_multiplex.ome.tiff'}],\n",
       "   'position': 10,\n",
       "   'sid': 'WD-76845-U2'},\n",
       "  {'data': [{'dtype': 'he',\n",
       "     'filepath': '/diskmnt/Projects/Users/estorrs/mushroom/data/projects/submission_v1/WD-76845/registered/s2_WD-76845-U6_he.tif'}],\n",
       "   'position': 30,\n",
       "   'sid': 'WD-76845-U6'},\n",
       "  {'data': [{'dtype': 'multiplex',\n",
       "     'filepath': '/diskmnt/Projects/Users/estorrs/mushroom/data/projects/submission_v1/WD-76845/registered/s3_WD-76845-U7_multiplex.ome.tiff'}],\n",
       "   'position': 35,\n",
       "   'sid': 'WD-76845-U7'},\n",
       "  {'data': [{'dtype': 'he',\n",
       "     'filepath': '/diskmnt/Projects/Users/estorrs/mushroom/data/projects/submission_v1/WD-76845/registered/s4_WD-76845-U13_he.tif'}],\n",
       "   'position': 65,\n",
       "   'sid': 'WD-76845-U13'},\n",
       "  {'data': [{'dtype': 'multiplex',\n",
       "     'filepath': '/diskmnt/Projects/Users/estorrs/mushroom/data/projects/submission_v1/WD-76845/registered/s5_WD-76845-U14_multiplex.ome.tiff'}],\n",
       "   'position': 70,\n",
       "   'sid': 'WD-76845-U14'},\n",
       "  {'data': [{'dtype': 'he',\n",
       "     'filepath': '/diskmnt/Projects/Users/estorrs/mushroom/data/projects/submission_v1/WD-76845/registered/s6_WD-76845-U19_he.tif'}],\n",
       "   'position': 95,\n",
       "   'sid': 'WD-76845-U19'},\n",
       "  {'data': [{'dtype': 'multiplex',\n",
       "     'filepath': '/diskmnt/Projects/Users/estorrs/mushroom/data/projects/submission_v1/WD-76845/registered/s7_WD-76845-U20_multiplex.ome.tiff'}],\n",
       "   'position': 100,\n",
       "   'sid': 'WD-76845-U20'},\n",
       "  {'data': [{'dtype': 'he',\n",
       "     'filepath': '/diskmnt/Projects/Users/estorrs/mushroom/data/projects/submission_v1/WD-76845/registered/s8_WD-76845-U24_he.tif'}],\n",
       "   'position': 120,\n",
       "   'sid': 'WD-76845-U24'},\n",
       "  {'data': [{'dtype': 'multiplex',\n",
       "     'filepath': '/diskmnt/Projects/Users/estorrs/mushroom/data/projects/submission_v1/WD-76845/registered/s9_WD-76845-U25_multiplex.ome.tiff'}],\n",
       "   'position': 125,\n",
       "   'sid': 'WD-76845-U25'},\n",
       "  {'data': [{'dtype': 'he',\n",
       "     'filepath': '/diskmnt/Projects/Users/estorrs/mushroom/data/projects/submission_v1/WD-76845/registered/s10_WD-76845-U28_he.tif'}],\n",
       "   'position': 140,\n",
       "   'sid': 'WD-76845-U28'},\n",
       "  {'data': [{'dtype': 'multiplex',\n",
       "     'filepath': '/diskmnt/Projects/Users/estorrs/mushroom/data/projects/submission_v1/WD-76845/registered/s11_WD-76845-U29_multiplex.ome.tiff'}],\n",
       "   'position': 145,\n",
       "   'sid': 'WD-76845-U29'},\n",
       "  {'data': [{'dtype': 'he',\n",
       "     'filepath': '/diskmnt/Projects/Users/estorrs/mushroom/data/projects/submission_v1/WD-76845/registered/s12_WD-76845-U33_he.tif'}],\n",
       "   'position': 165,\n",
       "   'sid': 'WD-76845-U33'},\n",
       "  {'data': [{'dtype': 'multiplex',\n",
       "     'filepath': '/diskmnt/Projects/Users/estorrs/mushroom/data/projects/submission_v1/WD-76845/registered/s13_WD-76845-U34_multiplex.ome.tiff'}],\n",
       "   'position': 170,\n",
       "   'sid': 'WD-76845-U34'},\n",
       "  {'data': [{'dtype': 'he',\n",
       "     'filepath': '/diskmnt/Projects/Users/estorrs/mushroom/data/projects/submission_v1/WD-76845/registered/s14_WD-76845-U38_he.tif'}],\n",
       "   'position': 190,\n",
       "   'sid': 'WD-76845-U38'},\n",
       "  {'data': [{'dtype': 'multiplex',\n",
       "     'filepath': '/diskmnt/Projects/Users/estorrs/mushroom/data/projects/submission_v1/WD-76845/registered/s15_WD-76845-U39_multiplex.ome.tiff'}],\n",
       "   'position': 195,\n",
       "   'sid': 'WD-76845-U39'},\n",
       "  {'data': [{'dtype': 'he',\n",
       "     'filepath': '/diskmnt/Projects/Users/estorrs/mushroom/data/projects/submission_v1/WD-76845/registered/s16_WD-76845-U43_he.tif'}],\n",
       "   'position': 215,\n",
       "   'sid': 'WD-76845-U43'},\n",
       "  {'data': [{'dtype': 'multiplex',\n",
       "     'filepath': '/diskmnt/Projects/Users/estorrs/mushroom/data/projects/submission_v1/WD-76845/registered/s17_WD-76845-U44_multiplex.ome.tiff'}],\n",
       "   'position': 220,\n",
       "   'sid': 'WD-76845-U44'},\n",
       "  {'data': [{'dtype': 'he',\n",
       "     'filepath': '/diskmnt/Projects/Users/estorrs/mushroom/data/projects/submission_v1/WD-76845/registered/s18_WD-76845-U48_he.tif'}],\n",
       "   'position': 240,\n",
       "   'sid': 'WD-76845-U48'},\n",
       "  {'data': [{'dtype': 'multiplex',\n",
       "     'filepath': '/diskmnt/Projects/Users/estorrs/mushroom/data/projects/submission_v1/WD-76845/registered/s19_WD-76845-U49_multiplex.ome.tiff'}],\n",
       "   'position': 245,\n",
       "   'sid': 'WD-76845-U49'},\n",
       "  {'data': [{'dtype': 'multiplex',\n",
       "     'filepath': '/diskmnt/Projects/Users/estorrs/mushroom/data/projects/submission_v1/WD-76845/registered/s20_WD-76845-U50_multiplex.ome.tiff'}],\n",
       "   'position': 250,\n",
       "   'sid': 'WD-76845-U50'},\n",
       "  {'data': [{'dtype': 'multiplex',\n",
       "     'filepath': '/diskmnt/Projects/Users/estorrs/mushroom/data/projects/submission_v1/WD-76845/registered/s21_WD-76845-U51_multiplex.ome.tiff'}],\n",
       "   'position': 255,\n",
       "   'sid': 'WD-76845-U51'},\n",
       "  {'data': [{'dtype': 'multiplex',\n",
       "     'filepath': '/diskmnt/Projects/Users/estorrs/mushroom/data/projects/submission_v1/WD-76845/registered/s22_WD-76845-U52_multiplex.ome.tiff'}],\n",
       "   'position': 260,\n",
       "   'sid': 'WD-76845-U52'},\n",
       "  {'data': [{'dtype': 'he',\n",
       "     'filepath': '/diskmnt/Projects/Users/estorrs/mushroom/data/projects/submission_v1/WD-76845/registered/s23_WD-76845-U53_he.tif'}],\n",
       "   'position': 265,\n",
       "   'sid': 'WD-76845-U53'},\n",
       "  {'data': [{'dtype': 'multiplex',\n",
       "     'filepath': '/diskmnt/Projects/Users/estorrs/mushroom/data/projects/submission_v1/WD-76845/registered/s24_WD-76845-U54_multiplex.ome.tiff'}],\n",
       "   'position': 270,\n",
       "   'sid': 'WD-76845-U54'},\n",
       "  {'data': [{'dtype': 'he',\n",
       "     'filepath': '/diskmnt/Projects/Users/estorrs/mushroom/data/projects/submission_v1/WD-76845/registered/s25_WD-76845-U58_he.tif'}],\n",
       "   'position': 290,\n",
       "   'sid': 'WD-76845-U58'},\n",
       "  {'data': [{'dtype': 'multiplex',\n",
       "     'filepath': '/diskmnt/Projects/Users/estorrs/mushroom/data/projects/submission_v1/WD-76845/registered/s26_WD-76845-U59_multiplex.ome.tiff'}],\n",
       "   'position': 295,\n",
       "   'sid': 'WD-76845-U59'},\n",
       "  {'data': [{'dtype': 'he',\n",
       "     'filepath': '/diskmnt/Projects/Users/estorrs/mushroom/data/projects/submission_v1/WD-76845/registered/s27_WD-76845-U63_he.tif'}],\n",
       "   'position': 315,\n",
       "   'sid': 'WD-76845-U63'},\n",
       "  {'data': [{'dtype': 'multiplex',\n",
       "     'filepath': '/diskmnt/Projects/Users/estorrs/mushroom/data/projects/submission_v1/WD-76845/registered/s28_WD-76845-U64_multiplex.ome.tiff'}],\n",
       "   'position': 320,\n",
       "   'sid': 'WD-76845-U64'},\n",
       "  {'data': [{'dtype': 'he',\n",
       "     'filepath': '/diskmnt/Projects/Users/estorrs/mushroom/data/projects/submission_v1/WD-76845/registered/s29_WD-76845-U68_he.tif'}],\n",
       "   'position': 340,\n",
       "   'sid': 'WD-76845-U68'},\n",
       "  {'data': [{'dtype': 'multiplex',\n",
       "     'filepath': '/diskmnt/Projects/Users/estorrs/mushroom/data/projects/submission_v1/WD-76845/registered/s30_WD-76845-U69_multiplex.ome.tiff'}],\n",
       "   'position': 345,\n",
       "   'sid': 'WD-76845-U69'},\n",
       "  {'data': [{'dtype': 'he',\n",
       "     'filepath': '/diskmnt/Projects/Users/estorrs/mushroom/data/projects/submission_v1/WD-76845/registered/s31_WD-76845-U73_he.tif'}],\n",
       "   'position': 365,\n",
       "   'sid': 'WD-76845-U73'},\n",
       "  {'data': [{'dtype': 'multiplex',\n",
       "     'filepath': '/diskmnt/Projects/Users/estorrs/mushroom/data/projects/submission_v1/WD-76845/registered/s32_WD-76845-U74_multiplex.ome.tiff'}],\n",
       "   'position': 370,\n",
       "   'sid': 'WD-76845-U74'},\n",
       "  {'data': [{'dtype': 'he',\n",
       "     'filepath': '/diskmnt/Projects/Users/estorrs/mushroom/data/projects/submission_v1/WD-76845/registered/s33_WD-76845-U77_he.tif'}],\n",
       "   'position': 385,\n",
       "   'sid': 'WD-76845-U77'},\n",
       "  {'data': [{'dtype': 'multiplex',\n",
       "     'filepath': '/diskmnt/Projects/Users/estorrs/mushroom/data/projects/submission_v1/WD-76845/registered/s34_WD-76845-U78_multiplex.ome.tiff'}],\n",
       "   'position': 390,\n",
       "   'sid': 'WD-76845-U78'},\n",
       "  {'data': [{'dtype': 'he',\n",
       "     'filepath': '/diskmnt/Projects/Users/estorrs/mushroom/data/projects/submission_v1/WD-76845/registered/s35_WD-76845-U83_he.tif'}],\n",
       "   'position': 415,\n",
       "   'sid': 'WD-76845-U83'},\n",
       "  {'data': [{'dtype': 'multiplex',\n",
       "     'filepath': '/diskmnt/Projects/Users/estorrs/mushroom/data/projects/submission_v1/WD-76845/registered/s36_WD-76845-U84_multiplex.ome.tiff'}],\n",
       "   'position': 420,\n",
       "   'sid': 'WD-76845-U84'},\n",
       "  {'data': [{'dtype': 'he',\n",
       "     'filepath': '/diskmnt/Projects/Users/estorrs/mushroom/data/projects/submission_v1/WD-76845/registered/s37_WD-76845-U85_he.tif'}],\n",
       "   'position': 425,\n",
       "   'sid': 'WD-76845-U85'},\n",
       "  {'data': [{'dtype': 'multiplex',\n",
       "     'filepath': '/diskmnt/Projects/Users/estorrs/mushroom/data/projects/submission_v1/WD-76845/registered/s38_WD-76845-U86_multiplex.ome.tiff'}],\n",
       "   'position': 430,\n",
       "   'sid': 'WD-76845-U86'},\n",
       "  {'data': [{'dtype': 'he',\n",
       "     'filepath': '/diskmnt/Projects/Users/estorrs/mushroom/data/projects/submission_v1/WD-76845/registered/s39_WD-76845-U90_he.tif'}],\n",
       "   'position': 450,\n",
       "   'sid': 'WD-76845-U90'},\n",
       "  {'data': [{'dtype': 'multiplex',\n",
       "     'filepath': '/diskmnt/Projects/Users/estorrs/mushroom/data/projects/submission_v1/WD-76845/registered/s40_WD-76845-U91_multiplex.ome.tiff'}],\n",
       "   'position': 455,\n",
       "   'sid': 'WD-76845-U91'},\n",
       "  {'data': [{'dtype': 'he',\n",
       "     'filepath': '/diskmnt/Projects/Users/estorrs/mushroom/data/projects/submission_v1/WD-76845/registered/s41_WD-76845-U96_he.tif'}],\n",
       "   'position': 480,\n",
       "   'sid': 'WD-76845-U96'},\n",
       "  {'data': [{'dtype': 'multiplex',\n",
       "     'filepath': '/diskmnt/Projects/Users/estorrs/mushroom/data/projects/submission_v1/WD-76845/registered/s42_WD-76845-U97_multiplex.ome.tiff'}],\n",
       "   'position': 485,\n",
       "   'sid': 'WD-76845-U97'},\n",
       "  {'data': [{'dtype': 'he',\n",
       "     'filepath': '/diskmnt/Projects/Users/estorrs/mushroom/data/projects/submission_v1/WD-76845/registered/s43_WD-76845-U101_he.tif'}],\n",
       "   'position': 505,\n",
       "   'sid': 'WD-76845-U101'},\n",
       "  {'data': [{'dtype': 'multiplex',\n",
       "     'filepath': '/diskmnt/Projects/Users/estorrs/mushroom/data/projects/submission_v1/WD-76845/registered/s44_WD-76845-U102_multiplex.ome.tiff'}],\n",
       "   'position': 510,\n",
       "   'sid': 'WD-76845-U102'},\n",
       "  {'data': [{'dtype': 'he',\n",
       "     'filepath': '/diskmnt/Projects/Users/estorrs/mushroom/data/projects/submission_v1/WD-76845/registered/s45_WD-76845-U105_he.tif'}],\n",
       "   'position': 525,\n",
       "   'sid': 'WD-76845-U105'},\n",
       "  {'data': [{'dtype': 'multiplex',\n",
       "     'filepath': '/diskmnt/Projects/Users/estorrs/mushroom/data/projects/submission_v1/WD-76845/registered/s46_WD-76845-U106_multiplex.ome.tiff'}],\n",
       "   'position': 530,\n",
       "   'sid': 'WD-76845-U106'}],\n",
       " 'target_sid': 'WD-76845-U2'}"
      ]
     },
     "execution_count": 90,
     "metadata": {},
     "output_type": "execute_result"
    }
   ],
   "source": [
    "case = 'WD-76845'\n",
    "fp = [fp for fp in fps if case == fp.split('/')[-3]][0]\n",
    "data_map = yaml.safe_load(open(fp))\n",
    "\n",
    "output_dir = os.path.join(project_dir, case, 'masks')\n",
    "Path(output_dir).mkdir(parents=True, exist_ok=True)\n",
    "\n",
    "data_map"
   ]
  },
  {
   "cell_type": "code",
   "execution_count": 97,
   "id": "38bf51df",
   "metadata": {},
   "outputs": [],
   "source": [
    "downscale = .05\n",
    "multiplex_channel = 'DNA'"
   ]
  },
  {
   "cell_type": "markdown",
   "id": "5c58ba05",
   "metadata": {},
   "source": [
    "## create combined_image"
   ]
  },
  {
   "cell_type": "code",
   "execution_count": 94,
   "id": "f5000b22",
   "metadata": {},
   "outputs": [],
   "source": [
    "def correct_scale(img, ths):\n",
    "    sf = 1 / ths\n",
    "    \n",
    "    dim_order = 'h w' if len(img.shape) == 2 else 'h w c'\n",
    "    img = utils.rescale(img, scale=sf, dim_order=dim_order, target_dtype=np.uint8) # scale image    \n",
    "    return img  "
   ]
  },
  {
   "cell_type": "code",
   "execution_count": 119,
   "id": "d7da4a1a",
   "metadata": {},
   "outputs": [
    {
     "name": "stdout",
     "output_type": "stream",
     "text": [
      "WD-76845-U1 he\n",
      "WD-76845-U2 multiplex\n",
      "WD-76845-U6 he\n",
      "WD-76845-U7 multiplex\n",
      "WD-76845-U13 he\n",
      "WD-76845-U14 multiplex\n",
      "WD-76845-U19 he\n",
      "WD-76845-U20 multiplex\n",
      "WD-76845-U24 he\n",
      "WD-76845-U25 multiplex\n",
      "WD-76845-U28 he\n",
      "WD-76845-U29 multiplex\n",
      "WD-76845-U33 he\n",
      "WD-76845-U34 multiplex\n",
      "WD-76845-U38 he\n",
      "WD-76845-U39 multiplex\n",
      "WD-76845-U43 he\n",
      "WD-76845-U44 multiplex\n",
      "WD-76845-U48 he\n",
      "WD-76845-U49 multiplex\n",
      "WD-76845-U50 multiplex\n",
      "WD-76845-U51 multiplex\n",
      "WD-76845-U52 multiplex\n",
      "WD-76845-U53 he\n",
      "WD-76845-U54 multiplex\n",
      "WD-76845-U58 he\n",
      "WD-76845-U59 multiplex\n",
      "WD-76845-U63 he\n",
      "WD-76845-U64 multiplex\n",
      "WD-76845-U68 he\n",
      "WD-76845-U69 multiplex\n",
      "WD-76845-U73 he\n",
      "WD-76845-U74 multiplex\n",
      "WD-76845-U77 he\n",
      "WD-76845-U78 multiplex\n",
      "WD-76845-U83 he\n",
      "WD-76845-U84 multiplex\n",
      "WD-76845-U85 he\n",
      "WD-76845-U86 multiplex\n",
      "WD-76845-U90 he\n",
      "WD-76845-U91 multiplex\n",
      "WD-76845-U96 he\n",
      "WD-76845-U97 multiplex\n",
      "WD-76845-U101 he\n",
      "WD-76845-U102 multiplex\n",
      "WD-76845-U105 he\n",
      "WD-76845-U106 multiplex\n",
      "(1407, 1493, 1) uint8\n",
      "(1407, 1493, 1) uint8\n",
      "(1407, 1493, 1) uint8\n",
      "(1407, 1493, 1) uint8\n",
      "(1407, 1493, 1) uint8\n",
      "(1407, 1493, 1) uint8\n",
      "(1407, 1493, 1) uint8\n",
      "(1407, 1493, 1) uint8\n",
      "(1407, 1493, 1) uint8\n",
      "(1407, 1493, 1) uint8\n",
      "(1407, 1493, 1) uint8\n",
      "(1407, 1493, 1) uint8\n",
      "(1407, 1493, 1) uint8\n",
      "(1407, 1493, 1) uint8\n",
      "(1407, 1493, 1) uint8\n",
      "(1407, 1493, 1) uint8\n",
      "(1407, 1493, 1) uint8\n",
      "(1407, 1493, 1) uint8\n",
      "(1407, 1493, 1) uint8\n",
      "(1407, 1493, 1) uint8\n",
      "(1407, 1493, 1) uint8\n",
      "(1407, 1493, 1) uint8\n",
      "(1407, 1493, 1) uint8\n",
      "(1407, 1493, 1) uint8\n",
      "(1407, 1493, 1) uint8\n",
      "(1407, 1493, 1) uint8\n",
      "(1407, 1493, 1) uint8\n",
      "(1407, 1493, 1) uint8\n",
      "(1407, 1493, 1) uint8\n",
      "(1407, 1493, 1) uint8\n",
      "(1407, 1493, 1) uint8\n",
      "(1407, 1493, 1) uint8\n",
      "(1407, 1493, 1) uint8\n",
      "(1407, 1493, 1) uint8\n",
      "(1407, 1493, 1) uint8\n",
      "(1407, 1493, 1) uint8\n",
      "(1407, 1493, 1) uint8\n",
      "(1407, 1493, 1) uint8\n",
      "(1407, 1493, 1) uint8\n",
      "(1407, 1493, 1) uint8\n",
      "(1407, 1493, 1) uint8\n",
      "(1407, 1493, 1) uint8\n",
      "(1407, 1493, 1) uint8\n",
      "(1407, 1493, 1) uint8\n",
      "(1407, 1493, 1) uint8\n",
      "(1407, 1493, 1) uint8\n",
      "(1407, 1493, 1) uint8\n"
     ]
    }
   ],
   "source": [
    "imgs = []\n",
    "for idx, item in enumerate(data_map['sections']):\n",
    "    sid = item['sid']\n",
    "    mapping = item['data'][0]\n",
    "    dtype, filepath = mapping['dtype'], mapping['filepath']\n",
    "    print(sid, dtype)\n",
    "\n",
    "    if utils.parse_dtype(dtype) == 'visium':\n",
    "        adata = visium.adata_from_visium(filepath)\n",
    "        img = next(iter(adata.uns['spatial'].values()))['images']['hires']\n",
    "        ths = next(iter(adata.uns['spatial'].values()))['scalefactors']['tissue_hires_scalef']\n",
    "        img = correct_scale(img, ths)\n",
    "        img = img[..., 0]\n",
    "    elif utils.parse_dtype(dtype) == 'xenium':\n",
    "        adata = xenium.adata_from_xenium(filepath)\n",
    "        img = next(iter(adata.uns['spatial'].values()))['images']['hires']\n",
    "        ths = next(iter(adata.uns['spatial'].values()))['scalefactors']['tissue_hires_scalef']\n",
    "        img = correct_scale(img, ths)\n",
    "    elif utils.parse_dtype(dtype) == 'cosmx':\n",
    "        adata = cosmx.adata_from_cosmx(filepath)\n",
    "        img = next(iter(adata.uns['spatial'].values()))['images']['hires']\n",
    "        ths = next(iter(adata.uns['spatial'].values()))['scalefactors']['tissue_hires_scalef']\n",
    "        img = correct_scale(img, ths)\n",
    "    elif utils.parse_dtype(dtype) == 'multiplex':\n",
    "        img = multiplex.extract_ome_tiff(\n",
    "            filepath, channels=[multiplex_channel],\n",
    "        )[multiplex_channel]\n",
    "    elif utils.parse_dtype(dtype) == 'he':\n",
    "        img = he.read_he(filepath)\n",
    "        img = img[..., 0]\n",
    "    else:\n",
    "        raise RuntimeError(f'{dtype} not valid st data type')\n",
    "\n",
    "    \n",
    "    if downscale is not None:\n",
    "        img = utils.rescale(img, scale=downscale, dim_order='h w')\n",
    "        \n",
    "    img = rearrange(img, 'h w -> h w 1')\n",
    "    \n",
    "    \n",
    "    imgs.append(img)\n",
    "\n",
    "for img in imgs:\n",
    "    print(img.shape, img.dtype)"
   ]
  },
  {
   "cell_type": "code",
   "execution_count": 120,
   "id": "31725960",
   "metadata": {},
   "outputs": [
    {
     "data": {
      "text/plain": [
       "(1407, 1493, 47)"
      ]
     },
     "execution_count": 120,
     "metadata": {},
     "output_type": "execute_result"
    }
   ],
   "source": [
    "min_h, min_w = min([img.shape[0] for img in imgs]), min([img.shape[1] for img in imgs])\n",
    "combined = np.concatenate([img[:min_h, :min_w] for img in imgs], axis=-1)\n",
    "combined.shape"
   ]
  },
  {
   "cell_type": "code",
   "execution_count": 121,
   "id": "4d240b08",
   "metadata": {},
   "outputs": [],
   "source": [
    "multiplex.write_basic_ome_tiff(os.path.join(output_dir, 'combined_image.tif'),\n",
    "                               rearrange(combined, 'h w c -> c h w'), channels=list(range(combined.shape[-1])))"
   ]
  },
  {
   "cell_type": "code",
   "execution_count": 122,
   "id": "42169bbe",
   "metadata": {},
   "outputs": [
    {
     "data": {
      "text/plain": [
       "'/diskmnt/Projects/Users/estorrs/mushroom/data/projects/submission_v1/WD-76845/masks/combined_image.tif'"
      ]
     },
     "execution_count": 122,
     "metadata": {},
     "output_type": "execute_result"
    }
   ],
   "source": [
    "os.path.join(output_dir, 'combined_image.tif')"
   ]
  },
  {
   "cell_type": "markdown",
   "id": "45446663",
   "metadata": {},
   "source": [
    "###### load in qupath polygon and save mask"
   ]
  },
  {
   "cell_type": "code",
   "execution_count": 125,
   "id": "2296874a",
   "metadata": {
    "scrolled": true
   },
   "outputs": [
    {
     "data": {
      "text/plain": [
       "[array([[ 713,   24],\n",
       "        [ 534,  104],\n",
       "        [ 427,  228],\n",
       "        [ 318,  402],\n",
       "        [ 235,  568],\n",
       "        [ 175,  680],\n",
       "        [ 136,  826],\n",
       "        [ 232, 1072],\n",
       "        [ 285, 1177],\n",
       "        [ 387, 1282],\n",
       "        [ 570, 1335],\n",
       "        [ 846, 1406],\n",
       "        [1246, 1404],\n",
       "        [1406,  769],\n",
       "        [1357,  604],\n",
       "        [1297,  439],\n",
       "        [1232,  359],\n",
       "        [1156,  254],\n",
       "        [1031,  115],\n",
       "        [ 866,   37],\n",
       "        [ 713,   24]])]"
      ]
     },
     "execution_count": 125,
     "metadata": {},
     "output_type": "execute_result"
    }
   ],
   "source": [
    "geo = json.load(open(os.path.join(output_dir, 'tissue_mask.geojson')))\n",
    "\n",
    "polygons = []\n",
    "for feat in geo['features']:\n",
    "    \n",
    "    if feat['geometry']['type'] == 'Polygon':\n",
    "        pts = feat['geometry']['coordinates'][0]\n",
    "    else:\n",
    "        pts = feat['geometry']['coordinates'][-1][0]\n",
    "    polygons.append(np.asarray(pts, dtype=int))\n",
    "polygons"
   ]
  },
  {
   "cell_type": "code",
   "execution_count": 126,
   "id": "7f8fc83d",
   "metadata": {},
   "outputs": [
    {
     "data": {
      "text/plain": [
       "(1407, 1493)"
      ]
     },
     "execution_count": 126,
     "metadata": {},
     "output_type": "execute_result"
    }
   ],
   "source": [
    "size = combined.shape[:2]\n",
    "mask = np.zeros(size, dtype=bool)\n",
    "for pts in polygons:\n",
    "    mask |= skimage.draw.polygon2mask(size, pts[:, [1, 0]])\n",
    "mask.shape"
   ]
  },
  {
   "cell_type": "code",
   "execution_count": 127,
   "id": "c5dabf05",
   "metadata": {},
   "outputs": [
    {
     "data": {
      "image/png": "[encoded data removed]",
      "text/plain": [
       "<Figure size 640x480 with 2 Axes>"
      ]
     },
     "metadata": {},
     "output_type": "display_data"
    }
   ],
   "source": [
    "fig, axs = plt.subplots(ncols=2)\n",
    "axs[0].imshow(combined[..., 0])\n",
    "axs[1].imshow(mask)\n",
    "for ax in axs:\n",
    "    ax.axis('off')"
   ]
  },
  {
   "cell_type": "code",
   "execution_count": 129,
   "id": "57106fb5",
   "metadata": {},
   "outputs": [
    {
     "data": {
      "text/plain": [
       "((28140, 29860), dtype('bool'))"
      ]
     },
     "execution_count": 129,
     "metadata": {},
     "output_type": "execute_result"
    }
   ],
   "source": [
    "import torchvision.transforms.functional as TF\n",
    "if downscale is not None:\n",
    "    mask = utils.rescale(mask, scale= 1 / downscale, dim_order='h w', target_dtype=bool, antialias=False, interpolation=TF.InterpolationMode.NEAREST)\n",
    "mask.shape, mask.dtype"
   ]
  },
  {
   "cell_type": "code",
   "execution_count": 130,
   "id": "77301bc4",
   "metadata": {},
   "outputs": [
    {
     "data": {
      "text/plain": [
       "<matplotlib.image.AxesImage at 0x7f886a316040>"
      ]
     },
     "execution_count": 130,
     "metadata": {},
     "output_type": "execute_result"
    },
    {
     "data": {
      "image/png": "[encoded data removed]",
      "text/plain": [
       "<Figure size 640x480 with 1 Axes>"
      ]
     },
     "metadata": {},
     "output_type": "display_data"
    }
   ],
   "source": [
    "plt.imshow(mask)"
   ]
  },
  {
   "cell_type": "code",
   "execution_count": 131,
   "id": "51c2734d",
   "metadata": {},
   "outputs": [],
   "source": [
    "tifffile.imwrite(os.path.join(output_dir, 'tissue_mask.tif'), mask, compression='LZW')"
   ]
  },
  {
   "cell_type": "code",
   "execution_count": null,
   "id": "4efc1a88",
   "metadata": {},
   "outputs": [],
   "source": []
  }
 ],
 "metadata": {
  "kernelspec": {
   "display_name": "Python 3 (ipykernel)",
   "language": "python",
   "name": "python3"
  },
  "language_info": {
   "codemirror_mode": {
    "name": "ipython",
    "version": 3
   },
   "file_extension": ".py",
   "mimetype": "text/x-python",
   "name": "python",
   "nbconvert_exporter": "python",
   "pygments_lexer": "ipython3",
   "version": "3.9.18"
  }
 },
 "nbformat": 4,
 "nbformat_minor": 5
}
