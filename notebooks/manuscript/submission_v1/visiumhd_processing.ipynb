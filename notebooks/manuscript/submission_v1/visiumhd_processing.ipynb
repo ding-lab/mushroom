{
 "cells": [
  {
   "cell_type": "code",
   "execution_count": 1,
   "id": "3e4188ca",
   "metadata": {},
   "outputs": [],
   "source": [
    "import os\n",
    "from pathlib import Path\n",
    "\n",
    "import numpy as np\n",
    "import pandas as pd\n",
    "import scanpy as sc"
   ]
  },
  {
   "cell_type": "code",
   "execution_count": 2,
   "id": "b20eef02",
   "metadata": {},
   "outputs": [],
   "source": [
    "%load_ext autoreload"
   ]
  },
  {
   "cell_type": "code",
   "execution_count": 3,
   "id": "c7f9ef7d",
   "metadata": {},
   "outputs": [],
   "source": [
    "%autoreload 2"
   ]
  },
  {
   "cell_type": "code",
   "execution_count": 44,
   "id": "1c4394fe",
   "metadata": {},
   "outputs": [],
   "source": [
    "import mushroom.data.cosmx as cosmx\n",
    "import mushroom.data.multiplex as multiplex\n",
    "import mushroom.registration.bigwarp as bigwarp\n",
    "import mushroom.utils as utils"
   ]
  },
  {
   "cell_type": "code",
   "execution_count": null,
   "id": "9e41ae54",
   "metadata": {},
   "outputs": [],
   "source": []
  },
  {
   "cell_type": "code",
   "execution_count": null,
   "id": "77c35dad",
   "metadata": {},
   "outputs": [],
   "source": []
  },
  {
   "cell_type": "markdown",
   "id": "ac0e0388",
   "metadata": {},
   "source": [
    "## HT704B1"
   ]
  },
  {
   "cell_type": "code",
   "execution_count": 1,
   "id": "53e03f45",
   "metadata": {},
   "outputs": [],
   "source": [
    "# visium hd\n",
    "# /diskmnt/primary/Spatial_Transcriptomics/VisiumHD_run/FFPE/SpacerangerOut/HTAN/BRCA/HT704B1-S1H3Fp1//HT704B1-S1H3Fp1U2/outs\n",
    "# /diskmnt/primary/Spatial_Transcriptomics/VisiumHD_run/FFPE/SpacerangerOut/HTAN/BRCA/HT704B1-S1H3Fp1//HT704B1-S1H3Fp1U51/outs\n",
    "\n",
    "# he\n",
    "# /diskmnt/Projects/Users/estorrs/imaging-analysis/data/htan_talk/visium_hd/HT704B1-S1H3Fp1U2.ome.tif\n",
    "# /diskmnt/Projects/Users/estorrs/imaging-analysis/data/htan_talk/visium_hd/HT704B1-S1H3Fp1U51.ome.tif"
   ]
  },
  {
   "cell_type": "code",
   "execution_count": null,
   "id": "7432fe97",
   "metadata": {},
   "outputs": [],
   "source": []
  },
  {
   "cell_type": "code",
   "execution_count": null,
   "id": "ac820c9a",
   "metadata": {},
   "outputs": [],
   "source": []
  },
  {
   "cell_type": "code",
   "execution_count": null,
   "id": "ad553ec6",
   "metadata": {},
   "outputs": [],
   "source": []
  },
  {
   "cell_type": "code",
   "execution_count": null,
   "id": "f1bc568e",
   "metadata": {},
   "outputs": [],
   "source": []
  },
  {
   "cell_type": "code",
   "execution_count": null,
   "id": "ce3e4835",
   "metadata": {},
   "outputs": [],
   "source": [
    "\n",
    "\n",
    "\n",
    "\n",
    "\n",
    "sid = 'HT704B1-U2'\n",
    "\n",
    "visium_dir = Path('/diskmnt/primary/Spatial_Transcriptomics/VisiumHD_run/FFPE/SpacerangerOut/HTAN/BRCA/HT704B1-S1H3Fp1/HT704B1-S1H3Fp1U2/outs')\n",
    "he_fp = '/d'\n"
   ]
  },
  {
   "cell_type": "code",
   "execution_count": null,
   "id": "a53c49a5",
   "metadata": {},
   "outputs": [],
   "source": []
  },
  {
   "cell_type": "code",
   "execution_count": null,
   "id": "39e3bb41",
   "metadata": {},
   "outputs": [],
   "source": []
  },
  {
   "cell_type": "code",
   "execution_count": null,
   "id": "33c18d22",
   "metadata": {},
   "outputs": [],
   "source": []
  },
  {
   "cell_type": "code",
   "execution_count": null,
   "id": "ea237a33",
   "metadata": {},
   "outputs": [],
   "source": []
  },
  {
   "cell_type": "code",
   "execution_count": null,
   "id": "d4223bc0",
   "metadata": {},
   "outputs": [],
   "source": []
  },
  {
   "cell_type": "code",
   "execution_count": 34,
   "id": "8ac83032",
   "metadata": {},
   "outputs": [],
   "source": [
    "import tifffile\n",
    "scaler = .2\n",
    "sid = 'sidecar1_HT206B1-U15'\n",
    "img = utils.rescale(sample_to_stitched[sid][0], scale=scaler, dim_order='h w', target_dtype=data.dtype)\n",
    "output_filepath = project_dir / 'registration' / 'unregistered_tifs' / f'{sid}.tif'\n",
    "tifffile.imwrite(output_filepath, img, compression='LZW')"
   ]
  },
  {
   "cell_type": "code",
   "execution_count": 33,
   "id": "bf6a0b72",
   "metadata": {},
   "outputs": [
    {
     "data": {
      "text/plain": [
       "dict_keys(['sidecar1_HT206B1-U15'])"
      ]
     },
     "execution_count": 33,
     "metadata": {},
     "output_type": "execute_result"
    }
   ],
   "source": [
    "samples"
   ]
  },
  {
   "cell_type": "code",
   "execution_count": null,
   "id": "cf8574a7",
   "metadata": {},
   "outputs": [],
   "source": []
  },
  {
   "cell_type": "code",
   "execution_count": null,
   "id": "f8a8a8a4",
   "metadata": {},
   "outputs": [],
   "source": []
  }
 ],
 "metadata": {
  "kernelspec": {
   "display_name": "Python 3 (ipykernel)",
   "language": "python",
   "name": "python3"
  },
  "language_info": {
   "codemirror_mode": {
    "name": "ipython",
    "version": 3
   },
   "file_extension": ".py",
   "mimetype": "text/x-python",
   "name": "python",
   "nbconvert_exporter": "python",
   "pygments_lexer": "ipython3",
   "version": "3.10.13"
  }
 },
 "nbformat": 4,
 "nbformat_minor": 5
}
