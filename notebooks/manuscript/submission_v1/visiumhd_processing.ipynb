{
 "cells": [
  {
   "cell_type": "code",
   "execution_count": 1,
   "id": "3e4188ca",
   "metadata": {},
   "outputs": [],
   "source": [
    "import os\n",
    "from pathlib import Path\n",
    "\n",
    "import numpy as np\n",
    "import pandas as pd\n",
    "import scanpy as sc"
   ]
  },
  {
   "cell_type": "code",
   "execution_count": 2,
   "id": "b20eef02",
   "metadata": {},
   "outputs": [],
   "source": [
    "%load_ext autoreload"
   ]
  },
  {
   "cell_type": "code",
   "execution_count": 3,
   "id": "c7f9ef7d",
   "metadata": {},
   "outputs": [],
   "source": [
    "%autoreload 2"
   ]
  },
  {
   "cell_type": "code",
   "execution_count": 44,
   "id": "1c4394fe",
   "metadata": {},
   "outputs": [],
   "source": [
    "import mushroom.data.cosmx as cosmx\n",
    "import mushroom.data.multiplex as multiplex\n",
    "import mushroom.registration.bigwarp as bigwarp\n",
    "import mushroom.utils as utils"
   ]
  },
  {
   "cell_type": "code",
   "execution_count": null,
   "id": "9e41ae54",
   "metadata": {},
   "outputs": [],
   "source": []
  },
  {
   "cell_type": "code",
   "execution_count": null,
   "id": "77c35dad",
   "metadata": {},
   "outputs": [],
   "source": []
  },
  {
   "cell_type": "markdown",
   "id": "ac0e0388",
   "metadata": {},
   "source": [
    "## HT704B1"
   ]
  },
  {
   "cell_type": "code",
   "execution_count": 1,
   "id": "53e03f45",
   "metadata": {},
   "outputs": [],
   "source": [
    "# visium hd\n",
    "# /diskmnt/primary/Spatial_Transcriptomics/VisiumHD_run/FFPE/SpacerangerOut/HTAN/BRCA/HT704B1-S1H3Fp1//HT704B1-S1H3Fp1U2/outs\n",
    "# /diskmnt/primary/Spatial_Transcriptomics/VisiumHD_run/FFPE/SpacerangerOut/HTAN/BRCA/HT704B1-S1H3Fp1//HT704B1-S1H3Fp1U51/outs\n",
    "\n",
    "# he\n",
    "# /diskmnt/Projects/Users/estorrs/imaging-analysis/data/htan_talk/visium_hd/HT704B1-S1H3Fp1U2.ome.tif\n",
    "# /diskmnt/Projects/Users/estorrs/imaging-analysis/data/htan_talk/visium_hd/HT704B1-S1H3Fp1U51.ome.tif"
   ]
  },
  {
   "cell_type": "code",
   "execution_count": null,
   "id": "7432fe97",
   "metadata": {},
   "outputs": [],
   "source": []
  },
  {
   "cell_type": "code",
   "execution_count": null,
   "id": "ac820c9a",
   "metadata": {},
   "outputs": [],
   "source": []
  },
  {
   "cell_type": "code",
   "execution_count": null,
   "id": "ad553ec6",
   "metadata": {},
   "outputs": [],
   "source": []
  },
  {
   "cell_type": "code",
   "execution_count": null,
   "id": "f1bc568e",
   "metadata": {},
   "outputs": [],
   "source": []
  },
  {
   "cell_type": "code",
   "execution_count": null,
   "id": "ce3e4835",
   "metadata": {},
   "outputs": [],
   "source": [
    "\n",
    "\n",
    "\n",
    "\n",
    "\n",
    "\n",
    "\n",
    "visium_dir = Path('/diskmnt/primary/Spatial_Transcriptomics/VisiumHD_run/FFPE/SpacerangerOut/HTAN/BRCA/HT704B1-S1H3Fp1//HT704B1-S1H3Fp1U2/outs')\n",
    "he_fp = ''\n"
   ]
  },
  {
   "cell_type": "code",
   "execution_count": null,
   "id": "a53c49a5",
   "metadata": {},
   "outputs": [],
   "source": []
  },
  {
   "cell_type": "code",
   "execution_count": null,
   "id": "39e3bb41",
   "metadata": {},
   "outputs": [],
   "source": []
  },
  {
   "cell_type": "code",
   "execution_count": null,
   "id": "f8a8a8a4",
   "metadata": {},
   "outputs": [],
   "source": []
  }
 ],
 "metadata": {
  "kernelspec": {
   "display_name": "Python 3 (ipykernel)",
   "language": "python",
   "name": "python3"
  },
  "language_info": {
   "codemirror_mode": {
    "name": "ipython",
    "version": 3
   },
   "file_extension": ".py",
   "mimetype": "text/x-python",
   "name": "python",
   "nbconvert_exporter": "python",
   "pygments_lexer": "ipython3",
   "version": "3.9.18"
  }
 },
 "nbformat": 4,
 "nbformat_minor": 5
}
