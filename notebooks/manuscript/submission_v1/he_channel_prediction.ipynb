{
 "cells": [
  {
   "cell_type": "code",
   "execution_count": 1,
   "id": "dc7c8824",
   "metadata": {},
   "outputs": [
    {
     "name": "stderr",
     "output_type": "stream",
     "text": [
      "/data/estorrs/miniconda3/envs/mushroom/lib/python3.10/site-packages/torchvision/datapoints/__init__.py:12: UserWarning: The torchvision.datapoints and torchvision.transforms.v2 namespaces are still Beta. While we do not expect major breaking changes, some APIs may still change according to user feedback. Please submit any feedback you may have in this issue: https://github.com/pytorch/vision/issues/6753, and you can also check out https://github.com/pytorch/vision/issues/7319 to learn more about the APIs that we suspect might involve future changes. You can silence this warning by calling torchvision.disable_beta_transforms_warning().\n",
      "  warnings.warn(_BETA_TRANSFORMS_WARNING)\n",
      "/data/estorrs/miniconda3/envs/mushroom/lib/python3.10/site-packages/torchvision/transforms/v2/__init__.py:54: UserWarning: The torchvision.datapoints and torchvision.transforms.v2 namespaces are still Beta. While we do not expect major breaking changes, some APIs may still change according to user feedback. Please submit any feedback you may have in this issue: https://github.com/pytorch/vision/issues/6753, and you can also check out https://github.com/pytorch/vision/issues/7319 to learn more about the APIs that we suspect might involve future changes. You can silence this warning by calling torchvision.disable_beta_transforms_warning().\n",
      "  warnings.warn(_BETA_TRANSFORMS_WARNING)\n"
     ]
    }
   ],
   "source": [
    "from pathlib import Path\n",
    "from typing import Optional, List\n",
    "import os\n",
    "import json\n",
    "\n",
    "from einops import rearrange\n",
    "from timm import create_model\n",
    "from torch.utils.data import DataLoader, Dataset\n",
    "import lightning as pl\n",
    "import pandas as pd\n",
    "import matplotlib.pyplot as plt\n",
    "import numpy as np\n",
    "import skimage\n",
    "import torch\n",
    "import torch.nn as nn\n",
    "import torch.nn.functional as F\n",
    "import torchvision.transforms.v2.functional as TF\n",
    "import torchvision.transforms.v2 as transforms\n",
    "import tifffile\n",
    "import timm\n",
    "import yaml\n"
   ]
  },
  {
   "cell_type": "code",
   "execution_count": 2,
   "id": "44d90feb",
   "metadata": {},
   "outputs": [],
   "source": [
    "%load_ext autoreload"
   ]
  },
  {
   "cell_type": "code",
   "execution_count": 3,
   "id": "628e65e0",
   "metadata": {},
   "outputs": [],
   "source": [
    "%autoreload 2"
   ]
  },
  {
   "cell_type": "code",
   "execution_count": 4,
   "id": "56e5f0e5",
   "metadata": {},
   "outputs": [],
   "source": [
    "import mushroom.data.multiplex as multiplex\n",
    "import mushroom.utils as utils"
   ]
  },
  {
   "cell_type": "code",
   "execution_count": 5,
   "id": "c2de4686",
   "metadata": {},
   "outputs": [],
   "source": [
    "project_dir = Path('/data/estorrs/mushroom/data/projects/submission_v1')"
   ]
  },
  {
   "cell_type": "code",
   "execution_count": 6,
   "id": "d8e400c9",
   "metadata": {},
   "outputs": [],
   "source": [
    "# case = 'HT206B1'\n",
    "# train_multiplex_fp = '/data/estorrs/mushroom/data/projects/submission_v1/HT206B1/registered/s6_HT206B1-U10_multiplex.ome.tiff'\n",
    "# train_he_fp = '/data/estorrs/mushroom/data/projects/submission_v1/HT206B1/registered/s7_HT206B1-U12_he.tif'\n",
    "# val_multiplex_fp = '/data/estorrs/mushroom/data/projects/submission_v1/HT206B1/registered/s11_HT206B1-U18_multiplex.ome.tiff'\n",
    "# val_he_fp = '/data/estorrs/mushroom/data/projects/submission_v1/HT206B1/registered/s12_HT206B1-U20_he.tif'\n",
    "\n",
    "# exclusion_geojson = None\n",
    "\n",
    "# target_channels = [\n",
    "#     'Pan-Cytokeratin',\n",
    "#     'SMA (D)',\n",
    "#     'CD31',\n",
    "#     'CD68',\n",
    "#     'HLA-DR',\n",
    "#     'CD8'\n",
    "# ]\n",
    "\n",
    "# he_dtype = 'he'"
   ]
  },
  {
   "cell_type": "code",
   "execution_count": 7,
   "id": "c8ac979c",
   "metadata": {},
   "outputs": [],
   "source": [
    "# case = 'HT704B1'\n",
    "# train_multiplex_fp = '/data/estorrs/mushroom/data/projects/submission_v1/HT704B1/registered/s1_HT704B1-U11_multiplex.ome.tiff'\n",
    "# train_he_fp = '/data/estorrs/mushroom/data/projects/submission_v1/HT704B1/registered/s2_HT704B1-U12_he.tif'\n",
    "# val_multiplex_fp = '/data/estorrs/mushroom/data/projects/submission_v1/HT704B1/registered/s40_HT704B1-U91_multiplex.ome.tiff'\n",
    "# val_he_fp = '/data/estorrs/mushroom/data/projects/submission_v1/HT704B1/registered/s41_HT704B1-U93_he.tif'\n",
    "\n",
    "# exclusion_geojson = '/data/estorrs/sandbox/ht704B1_s1_exclusion_regions.geojson'\n",
    "\n",
    "# target_channels = [\n",
    "#     'Pan-Cytokeratin',\n",
    "#     'Keratin 5',\n",
    "#     'CD31',\n",
    "#     'CD68',\n",
    "#     'HLA-DR',\n",
    "#     'CD3e'\n",
    "# ]\n",
    "\n",
    "# he_dtype = 'he'"
   ]
  },
  {
   "cell_type": "code",
   "execution_count": 8,
   "id": "2fb2c3bf",
   "metadata": {},
   "outputs": [],
   "source": [
    "# case = 'HT397B1'\n",
    "# train_multiplex_fp = '/data/estorrs/mushroom/data/projects/submission_v1/HT397B1/registered/s1_HT397B1-U2_multiplex.ome.tiff'\n",
    "# train_he_fp = '/data/estorrs/mushroom/data/projects/submission_v1/HT397B1/registered/s2_HT397B1-U4_batch2_he.tif'\n",
    "# val_multiplex_fp = '/data/estorrs/mushroom/data/projects/submission_v1/HT397B1/registered/s11_HT397B1-U31_multiplex.ome.tiff'\n",
    "# val_he_fp = '/data/estorrs/mushroom/data/projects/submission_v1/HT397B1/registered/s10_HT397B1-U28_batch2_he.tif'\n",
    "\n",
    "# exclusion_geojson = None\n",
    "\n",
    "# target_channels = [\n",
    "#     'Pan-Cytokeratin',\n",
    "#     'Keratin 14',\n",
    "#     'CD31',\n",
    "#     'CD45 (D)',\n",
    "#     'HLA-DR',\n",
    "#     'CD8'\n",
    "# ]\n",
    "\n",
    "# he_dtype = 'batch2_he'"
   ]
  },
  {
   "cell_type": "code",
   "execution_count": 9,
   "id": "3e9920bb",
   "metadata": {},
   "outputs": [],
   "source": [
    "case = 'HT891Z1'\n",
    "train_multiplex_fp = '/data/estorrs/mushroom/data/projects/submission_v1/HT891Z1/registered/s18_HT891Z1-U46_multiplex.ome.tiff'\n",
    "train_he_fp = '/data/estorrs/mushroom/data/projects/submission_v1/HT891Z1/registered/s19_HT891Z1-U47_he.tif'\n",
    "val_multiplex_fp = '/data/estorrs/mushroom/data/projects/submission_v1/HT891Z1/registered/s29_HT891Z1-U79_multiplex.ome.tiff'\n",
    "val_he_fp = '/data/estorrs/mushroom/data/projects/submission_v1/HT891Z1/registered/s28_HT891Z1-U70_he.tif'\n",
    "\n",
    "exclusion_geojson = None\n",
    "\n",
    "target_channels = [\n",
    "    'Pan-Cytokeratin',\n",
    "    'E-Cadherin',\n",
    "    'CK5',\n",
    "    'CD45(D)',\n",
    "    'HLA-DR',\n",
    "    'CD31',\n",
    "    'CD68',\n",
    "    'SMA (D)'\n",
    "]\n",
    "\n",
    "he_dtype = 'he'"
   ]
  },
  {
   "cell_type": "code",
   "execution_count": 10,
   "id": "07b95c7b",
   "metadata": {},
   "outputs": [],
   "source": [
    "# case = 'HT913Z1'\n",
    "# train_multiplex_fp = '/data/estorrs/mushroom/data/projects/submission_v1/HT913Z1/registered/s1_HT913Z1-U2_multiplex.ome.tiff'\n",
    "# train_he_fp = '/data/estorrs/mushroom/data/projects/submission_v1/HT913Z1/registered/s2_HT913Z1-U3_he.tif'\n",
    "# val_multiplex_fp = '/data/estorrs/mushroom/data/projects/submission_v1/HT913Z1/registered/s55_HT913Z1-U91_multiplex.ome.tiff'\n",
    "# val_he_fp = '/data/estorrs/mushroom/data/projects/submission_v1/HT913Z1/registered/s56_HT913Z1-U92_he.tif'\n",
    "\n",
    "# exclusion_geojson = None\n",
    "\n",
    "# target_channels = [\n",
    "#     'Pan-Cytokeratin',\n",
    "#     'E-Cadherin',\n",
    "#     'CK5',\n",
    "#     'CD45(D)',\n",
    "#     'HLA-DR',\n",
    "#     'CD31',\n",
    "#     'CD68',\n",
    "#     'SMA (D)'\n",
    "# ]\n",
    "\n",
    "# he_dtype = 'he'"
   ]
  },
  {
   "cell_type": "code",
   "execution_count": 11,
   "id": "1bd53182",
   "metadata": {
    "scrolled": true
   },
   "outputs": [
    {
     "data": {
      "text/plain": [
       "['DAPI',\n",
       " 'CK14',\n",
       " 'LYVE1',\n",
       " 'CD4',\n",
       " 'CK5',\n",
       " 'STEAP4',\n",
       " 'CD68',\n",
       " 'E-Cadherin',\n",
       " 'SMA (D)',\n",
       " 'CD45(D)',\n",
       " 'p63',\n",
       " 'Pan-Cytokeratin',\n",
       " 'HLA-DR',\n",
       " 'Podoplanin',\n",
       " 'Vimentin',\n",
       " 'CD3e',\n",
       " 'CD8',\n",
       " 'CK7',\n",
       " 'CD44',\n",
       " 'Foxp3',\n",
       " 'CD20',\n",
       " 'Ki67',\n",
       " 'AR',\n",
       " 'AMACR',\n",
       " 'CD31']"
      ]
     },
     "execution_count": 11,
     "metadata": {},
     "output_type": "execute_result"
    }
   ],
   "source": [
    "multiplex.get_ome_tiff_channels(train_multiplex_fp)"
   ]
  },
  {
   "cell_type": "code",
   "execution_count": 12,
   "id": "a3584d24",
   "metadata": {},
   "outputs": [],
   "source": [
    "def geojson_to_mask(fp, size):\n",
    "    d = json.load(open(fp))\n",
    "    regions = [np.asarray(f['geometry']['coordinates'][0])\n",
    "           for f in d['features'] if f['geometry']['type'] == 'Polygon']\n",
    "    mask = np.zeros(size, dtype=bool)\n",
    "    for region in regions:\n",
    "        mask = mask | skimage.draw.polygon2mask(train_multiplex.shape[1:], region[:, [1, 0]])\n",
    "    return mask\n",
    "    "
   ]
  },
  {
   "cell_type": "code",
   "execution_count": 13,
   "id": "ba37ebe4",
   "metadata": {},
   "outputs": [],
   "source": [
    "def to_he(x, norm=None):\n",
    "    if x.shape[0] == 3:\n",
    "        x = rearrange(x, 'c h w -> h w c')\n",
    "    \n",
    "    if norm is not None:\n",
    "        x *= rearrange(np.asarray(norm.std), 'n -> 1 1 n')\n",
    "        x += rearrange(np.asarray(norm.mean), 'n -> 1 1 n')\n",
    "    \n",
    "    if not isinstance(x, np.ndarray):\n",
    "        x = x.numpy()\n",
    "\n",
    "    return x.astype(np.uint8)"
   ]
  },
  {
   "cell_type": "code",
   "execution_count": 14,
   "id": "aee21851",
   "metadata": {},
   "outputs": [
    {
     "data": {
      "text/plain": [
       "{'resolution': 1.0,\n",
       " 'sections': [{'data': [{'dtype': 'xenium',\n",
       "     'filepath': '/diskmnt/Projects/Users/estorrs/mushroom/data/projects/submission_v1/HT891Z1/registered/s0_HT891Z1-U1_xenium.h5ad'}],\n",
       "   'position': 0,\n",
       "   'sid': 'HT891Z1-U1'},\n",
       "  {'data': [{'dtype': 'he',\n",
       "     'filepath': '/diskmnt/Projects/Users/estorrs/mushroom/data/projects/submission_v1/HT891Z1/registered/s1_HT891Z1-U4_he.tif'}],\n",
       "   'position': 15,\n",
       "   'sid': 'HT891Z1-U4'},\n",
       "  {'data': [{'dtype': 'he',\n",
       "     'filepath': '/diskmnt/Projects/Users/estorrs/mushroom/data/projects/submission_v1/HT891Z1/registered/s2_HT891Z1-U5_he.tif'}],\n",
       "   'position': 20,\n",
       "   'sid': 'HT891Z1-U5'},\n",
       "  {'data': [{'dtype': 'he',\n",
       "     'filepath': '/diskmnt/Projects/Users/estorrs/mushroom/data/projects/submission_v1/HT891Z1/registered/s3_HT891Z1-U6_he.tif'}],\n",
       "   'position': 25,\n",
       "   'sid': 'HT891Z1-U6'},\n",
       "  {'data': [{'dtype': 'he',\n",
       "     'filepath': '/diskmnt/Projects/Users/estorrs/mushroom/data/projects/submission_v1/HT891Z1/registered/s4_HT891Z1-U7_he.tif'}],\n",
       "   'position': 30,\n",
       "   'sid': 'HT891Z1-U7'},\n",
       "  {'data': [{'dtype': 'multiplex',\n",
       "     'filepath': '/diskmnt/Projects/Users/estorrs/mushroom/data/projects/submission_v1/HT891Z1/registered/s5_HT891Z1-U14_multiplex.ome.tiff'}],\n",
       "   'position': 65,\n",
       "   'sid': 'HT891Z1-U14'},\n",
       "  {'data': [{'dtype': 'xenium',\n",
       "     'filepath': '/diskmnt/Projects/Users/estorrs/mushroom/data/projects/submission_v1/HT891Z1/registered/s6_HT891Z1-U21_xenium.h5ad'}],\n",
       "   'position': 100,\n",
       "   'sid': 'HT891Z1-U21'},\n",
       "  {'data': [{'dtype': 'he',\n",
       "     'filepath': '/diskmnt/Projects/Users/estorrs/mushroom/data/projects/submission_v1/HT891Z1/registered/s7_HT891Z1-U28_he.tif'}],\n",
       "   'position': 135,\n",
       "   'sid': 'HT891Z1-U28'},\n",
       "  {'data': [{'dtype': 'he',\n",
       "     'filepath': '/diskmnt/Projects/Users/estorrs/mushroom/data/projects/submission_v1/HT891Z1/registered/s8_HT891Z1-U29_he.tif'}],\n",
       "   'position': 140,\n",
       "   'sid': 'HT891Z1-U29'},\n",
       "  {'data': [{'dtype': 'he',\n",
       "     'filepath': '/diskmnt/Projects/Users/estorrs/mushroom/data/projects/submission_v1/HT891Z1/registered/s9_HT891Z1-U30_he.tif'}],\n",
       "   'position': 145,\n",
       "   'sid': 'HT891Z1-U30'},\n",
       "  {'data': [{'dtype': 'xenium',\n",
       "     'filepath': '/diskmnt/Projects/Users/estorrs/mushroom/data/projects/submission_v1/HT891Z1/registered/s10_HT891Z1-U31_xenium.h5ad'}],\n",
       "   'position': 150,\n",
       "   'sid': 'HT891Z1-U31'},\n",
       "  {'data': [{'dtype': 'multiplex',\n",
       "     'filepath': '/diskmnt/Projects/Users/estorrs/mushroom/data/projects/submission_v1/HT891Z1/registered/s11_HT891Z1-U32_multiplex.ome.tiff'}],\n",
       "   'position': 155,\n",
       "   'sid': 'HT891Z1-U32'},\n",
       "  {'data': [{'dtype': 'he',\n",
       "     'filepath': '/diskmnt/Projects/Users/estorrs/mushroom/data/projects/submission_v1/HT891Z1/registered/s12_HT891Z1-U35_he.tif'}],\n",
       "   'position': 170,\n",
       "   'sid': 'HT891Z1-U35'},\n",
       "  {'data': [{'dtype': 'multiplex',\n",
       "     'filepath': '/diskmnt/Projects/Users/estorrs/mushroom/data/projects/submission_v1/HT891Z1/registered/s13_HT891Z1-U40_multiplex.ome.tiff'}],\n",
       "   'position': 195,\n",
       "   'sid': 'HT891Z1-U40'},\n",
       "  {'data': [{'dtype': 'multiplex',\n",
       "     'filepath': '/diskmnt/Projects/Users/estorrs/mushroom/data/projects/submission_v1/HT891Z1/registered/s14_HT891Z1-U41_multiplex.ome.tiff'}],\n",
       "   'position': 200,\n",
       "   'sid': 'HT891Z1-U41'},\n",
       "  {'data': [{'dtype': 'multiplex',\n",
       "     'filepath': '/diskmnt/Projects/Users/estorrs/mushroom/data/projects/submission_v1/HT891Z1/registered/s15_HT891Z1-U43_multiplex.ome.tiff'}],\n",
       "   'position': 210,\n",
       "   'sid': 'HT891Z1-U43'},\n",
       "  {'data': [{'dtype': 'xenium',\n",
       "     'filepath': '/diskmnt/Projects/Users/estorrs/mushroom/data/projects/submission_v1/HT891Z1/registered/s16_HT891Z1-U44_xenium.h5ad'}],\n",
       "   'position': 215,\n",
       "   'sid': 'HT891Z1-U44'},\n",
       "  {'data': [{'dtype': 'multiplex',\n",
       "     'filepath': '/diskmnt/Projects/Users/estorrs/mushroom/data/projects/submission_v1/HT891Z1/registered/s17_HT891Z1-U45_multiplex.ome.tiff'}],\n",
       "   'position': 220,\n",
       "   'sid': 'HT891Z1-U45'},\n",
       "  {'data': [{'dtype': 'multiplex',\n",
       "     'filepath': '/diskmnt/Projects/Users/estorrs/mushroom/data/projects/submission_v1/HT891Z1/registered/s18_HT891Z1-U46_multiplex.ome.tiff'}],\n",
       "   'position': 225,\n",
       "   'sid': 'HT891Z1-U46'},\n",
       "  {'data': [{'dtype': 'he',\n",
       "     'filepath': '/diskmnt/Projects/Users/estorrs/mushroom/data/projects/submission_v1/HT891Z1/registered/s19_HT891Z1-U47_he.tif'}],\n",
       "   'position': 230,\n",
       "   'sid': 'HT891Z1-U47'},\n",
       "  {'data': [{'dtype': 'he',\n",
       "     'filepath': '/diskmnt/Projects/Users/estorrs/mushroom/data/projects/submission_v1/HT891Z1/registered/s20_HT891Z1-U48_he.tif'}],\n",
       "   'position': 235,\n",
       "   'sid': 'HT891Z1-U48'},\n",
       "  {'data': [{'dtype': 'he',\n",
       "     'filepath': '/diskmnt/Projects/Users/estorrs/mushroom/data/projects/submission_v1/HT891Z1/registered/s21_HT891Z1-U49_he.tif'}],\n",
       "   'position': 240,\n",
       "   'sid': 'HT891Z1-U49'},\n",
       "  {'data': [{'dtype': 'he',\n",
       "     'filepath': '/diskmnt/Projects/Users/estorrs/mushroom/data/projects/submission_v1/HT891Z1/registered/s22_HT891Z1-U50_he.tif'}],\n",
       "   'position': 245,\n",
       "   'sid': 'HT891Z1-U50'},\n",
       "  {'data': [{'dtype': 'multiplex',\n",
       "     'filepath': '/diskmnt/Projects/Users/estorrs/mushroom/data/projects/submission_v1/HT891Z1/registered/s23_HT891Z1-U58_multiplex.ome.tiff'}],\n",
       "   'position': 285,\n",
       "   'sid': 'HT891Z1-U58'},\n",
       "  {'data': [{'dtype': 'xenium',\n",
       "     'filepath': '/diskmnt/Projects/Users/estorrs/mushroom/data/projects/submission_v1/HT891Z1/registered/s24_HT891Z1-U59_xenium.h5ad'}],\n",
       "   'position': 290,\n",
       "   'sid': 'HT891Z1-U59'},\n",
       "  {'data': [{'dtype': 'he',\n",
       "     'filepath': '/diskmnt/Projects/Users/estorrs/mushroom/data/projects/submission_v1/HT891Z1/registered/s25_HT891Z1-U66_he.tif'}],\n",
       "   'position': 325,\n",
       "   'sid': 'HT891Z1-U66'},\n",
       "  {'data': [{'dtype': 'he',\n",
       "     'filepath': '/diskmnt/Projects/Users/estorrs/mushroom/data/projects/submission_v1/HT891Z1/registered/s26_HT891Z1-U68_he.tif'}],\n",
       "   'position': 335,\n",
       "   'sid': 'HT891Z1-U68'},\n",
       "  {'data': [{'dtype': 'xenium',\n",
       "     'filepath': '/diskmnt/Projects/Users/estorrs/mushroom/data/projects/submission_v1/HT891Z1/registered/s27_HT891Z1-U69_xenium.h5ad'}],\n",
       "   'position': 340,\n",
       "   'sid': 'HT891Z1-U69'},\n",
       "  {'data': [{'dtype': 'he',\n",
       "     'filepath': '/diskmnt/Projects/Users/estorrs/mushroom/data/projects/submission_v1/HT891Z1/registered/s28_HT891Z1-U70_he.tif'}],\n",
       "   'position': 345,\n",
       "   'sid': 'HT891Z1-U70'},\n",
       "  {'data': [{'dtype': 'multiplex',\n",
       "     'filepath': '/diskmnt/Projects/Users/estorrs/mushroom/data/projects/submission_v1/HT891Z1/registered/s29_HT891Z1-U79_multiplex.ome.tiff'}],\n",
       "   'position': 390,\n",
       "   'sid': 'HT891Z1-U79'},\n",
       "  {'data': [{'dtype': 'xenium',\n",
       "     'filepath': '/diskmnt/Projects/Users/estorrs/mushroom/data/projects/submission_v1/HT891Z1/registered/s30_HT891Z1-U81_xenium.h5ad'}],\n",
       "   'position': 400,\n",
       "   'sid': 'HT891Z1-U81'},\n",
       "  {'data': [{'dtype': 'he',\n",
       "     'filepath': '/diskmnt/Projects/Users/estorrs/mushroom/data/projects/submission_v1/HT891Z1/registered/s31_HT891Z1-U84_he.tif'}],\n",
       "   'position': 415,\n",
       "   'sid': 'HT891Z1-U84'},\n",
       "  {'data': [{'dtype': 'he',\n",
       "     'filepath': '/diskmnt/Projects/Users/estorrs/mushroom/data/projects/submission_v1/HT891Z1/registered/s32_HT891Z1-U89_he.tif'}],\n",
       "   'position': 440,\n",
       "   'sid': 'HT891Z1-U89'},\n",
       "  {'data': [{'dtype': 'he',\n",
       "     'filepath': '/diskmnt/Projects/Users/estorrs/mushroom/data/projects/submission_v1/HT891Z1/registered/s33_HT891Z1-U90_he.tif'}],\n",
       "   'position': 445,\n",
       "   'sid': 'HT891Z1-U90'},\n",
       "  {'data': [{'dtype': 'multiplex',\n",
       "     'filepath': '/diskmnt/Projects/Users/estorrs/mushroom/data/projects/submission_v1/HT891Z1/registered/s34_HT891Z1-U93_multiplex.ome.tiff'}],\n",
       "   'position': 460,\n",
       "   'sid': 'HT891Z1-U93'},\n",
       "  {'data': [{'dtype': 'xenium',\n",
       "     'filepath': '/diskmnt/Projects/Users/estorrs/mushroom/data/projects/submission_v1/HT891Z1/registered/s35_HT891Z1-U94_xenium.h5ad'}],\n",
       "   'position': 465,\n",
       "   'sid': 'HT891Z1-U94'},\n",
       "  {'data': [{'dtype': 'he',\n",
       "     'filepath': '/diskmnt/Projects/Users/estorrs/mushroom/data/projects/submission_v1/HT891Z1/registered/s36_HT891Z1-U101_he.tif'}],\n",
       "   'position': 500,\n",
       "   'sid': 'HT891Z1-U101'},\n",
       "  {'data': [{'dtype': 'he',\n",
       "     'filepath': '/diskmnt/Projects/Users/estorrs/mushroom/data/projects/submission_v1/HT891Z1/registered/s37_HT891Z1-U102_he.tif'}],\n",
       "   'position': 505,\n",
       "   'sid': 'HT891Z1-U102'},\n",
       "  {'data': [{'dtype': 'multiplex',\n",
       "     'filepath': '/diskmnt/Projects/Users/estorrs/mushroom/data/projects/submission_v1/HT891Z1/registered/s38_HT891Z1-U103_multiplex.ome.tiff'}],\n",
       "   'position': 510,\n",
       "   'sid': 'HT891Z1-U103'},\n",
       "  {'data': [{'dtype': 'xenium',\n",
       "     'filepath': '/diskmnt/Projects/Users/estorrs/mushroom/data/projects/submission_v1/HT891Z1/registered/s39_HT891Z1-U104_xenium.h5ad'}],\n",
       "   'position': 515,\n",
       "   'sid': 'HT891Z1-U104'},\n",
       "  {'data': [{'dtype': 'he',\n",
       "     'filepath': '/diskmnt/Projects/Users/estorrs/mushroom/data/projects/submission_v1/HT891Z1/registered/s40_HT891Z1-U106_he.tif'}],\n",
       "   'position': 525,\n",
       "   'sid': 'HT891Z1-U106'},\n",
       "  {'data': [{'dtype': 'he',\n",
       "     'filepath': '/diskmnt/Projects/Users/estorrs/mushroom/data/projects/submission_v1/HT891Z1/registered/s41_HT891Z1-U107_he.tif'}],\n",
       "   'position': 530,\n",
       "   'sid': 'HT891Z1-U107'},\n",
       "  {'data': [{'dtype': 'multiplex',\n",
       "     'filepath': '/diskmnt/Projects/Users/estorrs/mushroom/data/projects/submission_v1/HT891Z1/registered/s42_HT891Z1-U108_multiplex.ome.tiff'}],\n",
       "   'position': 535,\n",
       "   'sid': 'HT891Z1-U108'},\n",
       "  {'data': [{'dtype': 'multiplex',\n",
       "     'filepath': '/diskmnt/Projects/Users/estorrs/mushroom/data/projects/submission_v1/HT891Z1/registered/s43_HT891Z1-U109_multiplex.ome.tiff'}],\n",
       "   'position': 540,\n",
       "   'sid': 'HT891Z1-U109'},\n",
       "  {'data': [{'dtype': 'multiplex',\n",
       "     'filepath': '/diskmnt/Projects/Users/estorrs/mushroom/data/projects/submission_v1/HT891Z1/registered/s44_HT891Z1-U110_multiplex.ome.tiff'}],\n",
       "   'position': 545,\n",
       "   'sid': 'HT891Z1-U110'},\n",
       "  {'data': [{'dtype': 'multiplex',\n",
       "     'filepath': '/diskmnt/Projects/Users/estorrs/mushroom/data/projects/submission_v1/HT891Z1/registered/s45_HT891Z1-U111_multiplex.ome.tiff'}],\n",
       "   'position': 550,\n",
       "   'sid': 'HT891Z1-U111'},\n",
       "  {'data': [{'dtype': 'multiplex',\n",
       "     'filepath': '/diskmnt/Projects/Users/estorrs/mushroom/data/projects/submission_v1/HT891Z1/registered/s46_HT891Z1-U113_multiplex.ome.tiff'}],\n",
       "   'position': 560,\n",
       "   'sid': 'HT891Z1-U113'},\n",
       "  {'data': [{'dtype': 'he',\n",
       "     'filepath': '/diskmnt/Projects/Users/estorrs/mushroom/data/projects/submission_v1/HT891Z1/registered/s47_HT891Z1-U114_he.tif'}],\n",
       "   'position': 565,\n",
       "   'sid': 'HT891Z1-U114'},\n",
       "  {'data': [{'dtype': 'he',\n",
       "     'filepath': '/diskmnt/Projects/Users/estorrs/mushroom/data/projects/submission_v1/HT891Z1/registered/s48_HT891Z1-U115_he.tif'}],\n",
       "   'position': 570,\n",
       "   'sid': 'HT891Z1-U115'},\n",
       "  {'data': [{'dtype': 'he',\n",
       "     'filepath': '/diskmnt/Projects/Users/estorrs/mushroom/data/projects/submission_v1/HT891Z1/registered/s49_HT891Z1-U116_he.tif'}],\n",
       "   'position': 575,\n",
       "   'sid': 'HT891Z1-U116'}],\n",
       " 'target_sid': 'HT891Z1-U1'}"
      ]
     },
     "execution_count": 14,
     "metadata": {},
     "output_type": "execute_result"
    }
   ],
   "source": [
    "metadata = yaml.safe_load(open(project_dir / case / 'registered' / 'metadata.yaml'))\n",
    "metadata"
   ]
  },
  {
   "cell_type": "code",
   "execution_count": 15,
   "id": "ddc273ba",
   "metadata": {
    "scrolled": true
   },
   "outputs": [],
   "source": [
    "scales = [1, 2, 4, 8]"
   ]
  },
  {
   "cell_type": "code",
   "execution_count": 16,
   "id": "a5e6ec67",
   "metadata": {},
   "outputs": [],
   "source": [
    "d = multiplex.extract_ome_tiff(train_multiplex_fp, channels=target_channels)\n",
    "train_multiplex = np.stack([d[k] for k in target_channels])\n",
    "d = multiplex.extract_ome_tiff(val_multiplex_fp, channels=target_channels)\n",
    "val_multiplex = np.stack([d[k] for k in target_channels])\n",
    "\n",
    "train_he = tifffile.imread(train_he_fp)\n",
    "val_he = tifffile.imread(val_he_fp)"
   ]
  },
  {
   "cell_type": "code",
   "execution_count": 17,
   "id": "a120d323",
   "metadata": {},
   "outputs": [],
   "source": [
    "if exclusion_geojson is not None:\n",
    "    exclusion_mask = geojson_to_mask(exclusion_geojson, train_multiplex.shape[1:])\n",
    "    plt.imshow(exclusion_mask)\n",
    "else:\n",
    "    exclusion_mask = None"
   ]
  },
  {
   "cell_type": "code",
   "execution_count": 18,
   "id": "a489c171",
   "metadata": {},
   "outputs": [
    {
     "data": {
      "text/plain": [
       "<matplotlib.image.AxesImage at 0x7f4669c17b80>"
      ]
     },
     "execution_count": 18,
     "metadata": {},
     "output_type": "execute_result"
    },
    {
     "data": {
      "image/png": "[encoded data removed]",
      "text/plain": [
       "<Figure size 640x480 with 6 Axes>"
      ]
     },
     "metadata": {},
     "output_type": "display_data"
    }
   ],
   "source": [
    "fig, ax = plt.subplots(nrows=3, ncols=2)\n",
    "ax[0, 0].imshow(train_he)\n",
    "ax[0, 1].imshow(val_he)\n",
    "ax[1, 0].imshow(train_multiplex[0])\n",
    "ax[1, 1].imshow(val_multiplex[0])\n",
    "ax[2, 0].imshow(train_multiplex[1])\n",
    "ax[2, 1].imshow(val_multiplex[1])"
   ]
  },
  {
   "cell_type": "code",
   "execution_count": 19,
   "id": "0540831f",
   "metadata": {},
   "outputs": [],
   "source": [
    "train_he = rearrange(train_he, 'h w c -> c h w').astype(np.float32)\n",
    "val_he = rearrange(val_he, 'h w c -> c h w').astype(np.float32)\n",
    "\n",
    "train_multiplex = train_multiplex.astype(np.float32)\n",
    "val_multiplex = val_multiplex.astype(np.float32)"
   ]
  },
  {
   "cell_type": "code",
   "execution_count": 20,
   "id": "bf31e51c",
   "metadata": {},
   "outputs": [
    {
     "data": {
      "text/plain": [
       "(array([90.65865, 90.65865, 90.65865], dtype=float32),\n",
       " array([107.72329, 107.72329, 107.72329], dtype=float32))"
      ]
     },
     "execution_count": 20,
     "metadata": {},
     "output_type": "execute_result"
    }
   ],
   "source": [
    "means, stds = train_he.mean((-2, -1)), train_he.std((-2, -1))\n",
    "norm = transforms.Normalize(means, stds)\n",
    "means, stds"
   ]
  },
  {
   "cell_type": "code",
   "execution_count": 21,
   "id": "e4104a70",
   "metadata": {},
   "outputs": [
    {
     "name": "stdout",
     "output_type": "stream",
     "text": [
      "(3, 6530, 7255)\n",
      "(3, 3265, 3627)\n",
      "(3, 1632, 1813)\n",
      "(3, 816, 906)\n"
     ]
    }
   ],
   "source": [
    "train_hes = [utils.rescale(train_he, scale=1 / scale, dim_order='c h w', target_dtype=np.float32)\n",
    "             for scale in scales]\n",
    "val_hes = [utils.rescale(val_he, scale=1 / scale, dim_order='c h w', target_dtype=np.float32)\n",
    "           for scale in scales]\n",
    "\n",
    "for x in train_hes:\n",
    "    print(x.shape)"
   ]
  },
  {
   "cell_type": "code",
   "execution_count": 22,
   "id": "89ad08a4",
   "metadata": {},
   "outputs": [
    {
     "data": {
      "image/png": "[encoded data removed]",
      "text/plain": [
       "<Figure size 640x480 with 8 Axes>"
      ]
     },
     "metadata": {},
     "output_type": "display_data"
    }
   ],
   "source": [
    "fig, axs = plt.subplots(nrows=len(scales), ncols=2)\n",
    "for i, he in enumerate(train_hes):\n",
    "    axs[i, 0].imshow(to_he(he))\n",
    "    axs[i, 1].imshow(train_multiplex[0])"
   ]
  },
  {
   "cell_type": "code",
   "execution_count": 23,
   "id": "dd1ebf8e",
   "metadata": {},
   "outputs": [
    {
     "data": {
      "text/plain": [
       "array([255., 255., 255., 255., 255., 255., 255., 255.], dtype=float32)"
      ]
     },
     "execution_count": 23,
     "metadata": {},
     "output_type": "execute_result"
    }
   ],
   "source": [
    "multiplex_maxs = train_multiplex.max((-2, -1))\n",
    "multiplex_maxs"
   ]
  },
  {
   "cell_type": "code",
   "execution_count": 24,
   "id": "a8921eca",
   "metadata": {},
   "outputs": [],
   "source": [
    "train_hes = [torch.tensor(x) for x in train_hes]\n",
    "val_hes = [torch.tensor(x) for x in val_hes]\n",
    "\n",
    "train_multiplex = torch.tensor(train_multiplex / rearrange(multiplex_maxs, 'n -> n 1 1'))\n",
    "val_multiplex = torch.tensor(val_multiplex / rearrange(multiplex_maxs, 'n -> n 1 1'))"
   ]
  },
  {
   "cell_type": "code",
   "execution_count": 25,
   "id": "c25d215a",
   "metadata": {},
   "outputs": [],
   "source": [
    "class TrainingTransform(object):\n",
    "    def __init__(self, norm):\n",
    "        self.norm = norm\n",
    "\n",
    "    def __call__(self, he_tiles, y_tile):\n",
    "        vflip = np.random.rand() > .5\n",
    "        hflip = np.random.rand() > .5\n",
    "        \n",
    "        if hflip:\n",
    "            he_tiles = [TF.hflip(tile) for tile in he_tiles]\n",
    "            y_tile = TF.hflip(y_tile)\n",
    "        \n",
    "        if vflip:\n",
    "            he_tiles = [TF.vflip(tile) for tile in he_tiles]\n",
    "            y_tile = TF.vflip(y_tile)\n",
    "            \n",
    "        he_tiles = [self.norm(tile) for tile in he_tiles]\n",
    "\n",
    "        return he_tiles, y_tile\n",
    "    \n",
    "class ValTransform(object):\n",
    "    def __init__(self, norm):\n",
    "        self.norm = norm\n",
    "\n",
    "    def __call__(self, he_tiles, y_tile):\n",
    "        he_tiles = [self.norm(tile) for tile in he_tiles]\n",
    "        \n",
    "        return he_tiles, y_tile\n",
    "    \n",
    "class InferenceTransform(object):\n",
    "    def __init__(self, norm):\n",
    "        self.norm = norm\n",
    "\n",
    "    def __call__(self, he_tiles):\n",
    "        he_tiles = [self.norm(tile) for tile in he_tiles]\n",
    "        \n",
    "        return he_tiles"
   ]
  },
  {
   "cell_type": "code",
   "execution_count": 26,
   "id": "3ef03910",
   "metadata": {},
   "outputs": [],
   "source": [
    "class TrainingDataset(Dataset):\n",
    "    def __init__(self, hes, y, scales, transform, size=256, n=None, exclusion_mask=None):\n",
    "        assert hes[0].shape[1:] == y.shape[1:]\n",
    "        assert len(scales) == len(hes)\n",
    "        \n",
    "        if exclusion_mask is not None:\n",
    "            assert exclusion_mask.shape == y.shape[1:]\n",
    "        \n",
    "        self.n_zooms = len(hes)\n",
    "        self.scales = scales\n",
    "        \n",
    "        self.hes = hes\n",
    "        self.y = y\n",
    "        \n",
    "        self.h, self.w = hes[0].shape[1:]\n",
    "        self.size = size\n",
    "        self.hs = np.arange(self.h - size - 1)\n",
    "        self.ws = np.arange(self.w - size - 1)\n",
    "        \n",
    "        if exclusion_mask is not None:\n",
    "            hs, ws = [], []\n",
    "            for h, w in zip(self.hs, self.ws):\n",
    "                if not exclusion_mask[h, w]:\n",
    "                    hs.append(h)\n",
    "                    ws.append(w)\n",
    "            self.hw, self.ws = hs, ws\n",
    "        \n",
    "        self.zoom_to_coords = []\n",
    "        for i, scale in enumerate(self.scales):\n",
    "            hs = [x + self.size // 2 for x in self.hs] # to center\n",
    "            ws = [x + self.size // 2 for x in self.ws]\n",
    "            \n",
    "            hs = [x // scale for x in hs] # scale\n",
    "            ws = [x // scale for x in ws]\n",
    "            \n",
    "            hs = [x - self.size // 2 for x in hs] # to top left corner\n",
    "            ws = [x - self.size // 2 for x in ws]\n",
    "            \n",
    "            self.zoom_to_coords.append([hs, ws])\n",
    "\n",
    "        self.transform = transform\n",
    "\n",
    "        self.n = np.iinfo(np.int64).max if n is None else n\n",
    "\n",
    "    def __len__(self):\n",
    "        return self.n\n",
    "\n",
    "    def __getitem__(self, idx):\n",
    "        h_idx, w_idx = np.random.choice(np.arange(len(self.hs))), np.random.choice(np.arange(len(self.ws)))\n",
    "\n",
    "        he_tiles = []\n",
    "        y_tile = None\n",
    "        h_coord, w_coord = None, None\n",
    "        for i, ((hs, ws), scale, he) in enumerate(zip(self.zoom_to_coords, self.scales, self.hes)):\n",
    "            h, w = hs[h_idx], ws[w_idx]\n",
    "            left, top, right, bottom = 0, 0, 0, 0\n",
    "            if h < 0:\n",
    "                top = abs(h)\n",
    "            if w < 0:\n",
    "                left = abs(w)\n",
    "            if h + self.size >= he.shape[-2]:\n",
    "                bottom = h + self.size - he.shape[-2]\n",
    "            if w + self.size >= he.shape[-1]:\n",
    "                right = w + self.size - he.shape[-1]\n",
    "            \n",
    "            r, c = max(h, 0), max(w, 0)\n",
    "            he_tiles.append(TF.pad(\n",
    "                he[:, r:r + self.size - top, c:c + self.size - left],\n",
    "                padding=(left, top, right, bottom), \n",
    "                padding_mode='reflect'\n",
    "            ))\n",
    "            \n",
    "            if i == 0:\n",
    "                y_tile = TF.pad(\n",
    "                    self.y[:, r:r + self.size - top, c:c + self.size - left],\n",
    "                    padding=(left, top, right, bottom), \n",
    "                    padding_mode='reflect'\n",
    "                )\n",
    "                h_coord, w_coord = r, c\n",
    "                \n",
    "        he_tiles, y_tile = self.transform(he_tiles, y_tile)   \n",
    "\n",
    "        return {\n",
    "            'h_coord': h_coord,\n",
    "            'w_coord': w_coord,\n",
    "            'he': he_tiles,\n",
    "            'y': y_tile,\n",
    "        }\n",
    "    \n",
    "class InferenceDataset(Dataset):\n",
    "    def __init__(self, hes, scales, transform, size=256, stride=None):\n",
    "        assert len(scales) == len(hes)\n",
    "        \n",
    "        self.stride = stride\n",
    "        if stride is None:\n",
    "            self.stride = size\n",
    "        \n",
    "        self.n_zooms = len(hes)\n",
    "        self.scales = scales\n",
    "        \n",
    "        self.hes = hes\n",
    "        \n",
    "        self.h, self.w = hes[0].shape[1:]\n",
    "        self.size = size\n",
    "        self.hs = []\n",
    "        self.ws = []\n",
    "        for h in np.arange(0, self.h - size - 1, stride):\n",
    "            for w in np.arange(0, self.w - size - 1, stride):\n",
    "                self.hs.append(h)\n",
    "                self.ws.append(w)\n",
    "        \n",
    "        self.zoom_to_coords = []\n",
    "        for i, scale in enumerate(self.scales):\n",
    "            hs = [x + self.size // 2 for x in self.hs] # to center\n",
    "            ws = [x + self.size // 2 for x in self.ws]\n",
    "            \n",
    "            hs = [x // scale for x in hs] # scale\n",
    "            ws = [x // scale for x in ws]\n",
    "            \n",
    "            hs = [x - self.size // 2 for x in hs] # to top left corner\n",
    "            ws = [x - self.size // 2 for x in ws]\n",
    "            \n",
    "            self.zoom_to_coords.append([hs, ws])\n",
    "\n",
    "        self.transform = transform\n",
    "\n",
    "        self.n = len(self.hs)\n",
    "\n",
    "    def __len__(self):\n",
    "        return self.n\n",
    "\n",
    "    def __getitem__(self, idx):\n",
    "        he_tiles = []\n",
    "        h_coord, w_coord = None, None\n",
    "        for i, ((hs, ws), scale, he) in enumerate(zip(self.zoom_to_coords, self.scales, self.hes)):\n",
    "            h, w = hs[idx], ws[idx]\n",
    "            left, top, right, bottom = 0, 0, 0, 0\n",
    "            if h < 0:\n",
    "                top = abs(h)\n",
    "            if w < 0:\n",
    "                left = abs(w)\n",
    "            if h + self.size >= he.shape[-2]:\n",
    "                bottom = h + self.size - he.shape[-2]\n",
    "            if w + self.size >= he.shape[-1]:\n",
    "                right = w + self.size - he.shape[-1]\n",
    "            \n",
    "            r, c = max(h, 0), max(w, 0)\n",
    "            he_tiles.append(TF.pad(\n",
    "                he[:, r:r + self.size - top, c:c + self.size - left],\n",
    "                padding=(left, top, right, bottom), \n",
    "                padding_mode='reflect'\n",
    "            ))\n",
    "            \n",
    "            if i == 0:\n",
    "                h_coord, w_coord = r, c\n",
    "\n",
    "        he_tiles = self.transform(he_tiles)   \n",
    "\n",
    "        return {\n",
    "            'h_coord': h_coord,\n",
    "            'w_coord': w_coord,\n",
    "            'he': he_tiles,\n",
    "        }\n",
    "    \n",
    "    "
   ]
  },
  {
   "cell_type": "code",
   "execution_count": 27,
   "id": "aa746d0a",
   "metadata": {},
   "outputs": [],
   "source": [
    "size = 256\n",
    "batch_size = 64"
   ]
  },
  {
   "cell_type": "code",
   "execution_count": 28,
   "id": "8ccc59b7",
   "metadata": {},
   "outputs": [],
   "source": [
    "train_transform = TrainingTransform(norm)\n",
    "train_ds = TrainingDataset(\n",
    "    train_hes, train_multiplex, scales, train_transform,\n",
    "    size=size, n=batch_size * 100, exclusion_mask=exclusion_mask)\n",
    "\n",
    "val_transform = ValTransform(norm)\n",
    "val_ds = TrainingDataset(val_hes, val_multiplex, scales, val_transform, size=size, n=batch_size * 10)"
   ]
  },
  {
   "cell_type": "code",
   "execution_count": null,
   "id": "2412a85e",
   "metadata": {},
   "outputs": [],
   "source": []
  },
  {
   "cell_type": "code",
   "execution_count": 29,
   "id": "b0e0e28b",
   "metadata": {},
   "outputs": [],
   "source": [
    "\"\"\"\n",
    "https://gist.github.com/rwightman/f8b24f4e6f5504aba03e999e02460d31\n",
    "\n",
    "A simple U-Net w/ timm backbone encoder\n",
    "Based off an old version of Unet in https://github.com/qubvel/segmentation_models.pytorch\n",
    "Hacked together by Ross Wightman\n",
    "\"\"\"\n",
    "\n",
    "from typing import Optional, List\n",
    "import torch.nn as nn\n",
    "from timm import create_model\n",
    "\n",
    "\n",
    "class Unet(nn.Module):\n",
    "    \"\"\"Unet is a fully convolution neural network for image semantic segmentation\n",
    "    Args:\n",
    "        encoder_name: name of classification model (without last dense layers) used as feature\n",
    "            extractor to build segmentation model.\n",
    "        encoder_weights: one of ``None`` (random initialization), ``imagenet`` (pre-training on ImageNet).\n",
    "        decoder_channels: list of numbers of ``Conv2D`` layer filters in decoder blocks\n",
    "        decoder_use_batchnorm: if ``True``, ``BatchNormalisation`` layer between ``Conv2D`` and ``Activation`` layers\n",
    "            is used.\n",
    "        num_classes: a number of classes for output (output shape - ``(batch, classes, h, w)``).\n",
    "        center: if ``True`` add ``Conv2dReLU`` block on encoder head\n",
    "    NOTE: This is based off an old version of Unet in https://github.com/qubvel/segmentation_models.pytorch\n",
    "    \"\"\"\n",
    "\n",
    "    def __init__(\n",
    "            self,\n",
    "            backbone='resnet50',\n",
    "            backbone_kwargs=None,\n",
    "            backbone_indices=None,\n",
    "            decoder_use_batchnorm=True,\n",
    "            decoder_channels=(256, 128, 64, 32, 16),\n",
    "            in_chans=1,\n",
    "            num_classes=5,\n",
    "            center=False,\n",
    "            norm_layer=nn.BatchNorm2d,\n",
    "    ):\n",
    "        super().__init__()\n",
    "        backbone_kwargs = backbone_kwargs or {}\n",
    "        # NOTE some models need different backbone indices specified based on the alignment of features\n",
    "        # and some models won't have a full enough range of feature strides to work properly.\n",
    "        encoder = create_model(\n",
    "            backbone, features_only=True, out_indices=backbone_indices, in_chans=in_chans,\n",
    "            pretrained=True, **backbone_kwargs)\n",
    "        encoder_channels = encoder.feature_info.channels()[::-1]\n",
    "        self.encoder = encoder\n",
    "\n",
    "        if not decoder_use_batchnorm:\n",
    "            norm_layer = None\n",
    "        self.decoder = UnetDecoder(\n",
    "            encoder_channels=encoder_channels,\n",
    "            decoder_channels=decoder_channels,\n",
    "            final_channels=num_classes,\n",
    "            norm_layer=norm_layer,\n",
    "            center=center,\n",
    "        )\n",
    "\n",
    "    def forward(self, x: torch.Tensor):\n",
    "        x = self.encoder(x)\n",
    "        x.reverse()  # torchscript doesn't work with [::-1]\n",
    "        x = self.decoder(x)\n",
    "        return x\n",
    "\n",
    "\n",
    "class Conv2dBnAct(nn.Module):\n",
    "    def __init__(self, in_channels, out_channels, kernel_size, padding=0,\n",
    "                 stride=1, act_layer=nn.ReLU, norm_layer=nn.BatchNorm2d):\n",
    "        super().__init__()\n",
    "        self.conv = nn.Conv2d(in_channels, out_channels, kernel_size, stride=stride, padding=padding, bias=False)\n",
    "        self.bn = norm_layer(out_channels)\n",
    "        self.act = act_layer(inplace=True)\n",
    "\n",
    "    def forward(self, x):\n",
    "        x = self.conv(x)\n",
    "        x = self.bn(x)\n",
    "        x = self.act(x)\n",
    "        return x\n",
    "\n",
    "\n",
    "class DecoderBlock(nn.Module):\n",
    "    def __init__(self, in_channels, out_channels, scale_factor=2.0, act_layer=nn.ReLU, norm_layer=nn.BatchNorm2d):\n",
    "        super().__init__()\n",
    "        conv_args = dict(kernel_size=3, padding=1, act_layer=act_layer)\n",
    "        self.scale_factor = scale_factor\n",
    "        if norm_layer is None:\n",
    "            self.conv1 = Conv2dBnAct(in_channels, out_channels, **conv_args)\n",
    "            self.conv2 = Conv2dBnAct(out_channels, out_channels,  **conv_args)\n",
    "        else:\n",
    "            self.conv1 = Conv2dBnAct(in_channels, out_channels, norm_layer=norm_layer, **conv_args)\n",
    "            self.conv2 = Conv2dBnAct(out_channels, out_channels, norm_layer=norm_layer, **conv_args)\n",
    "\n",
    "    def forward(self, x, skip: Optional[torch.Tensor] = None):\n",
    "        if self.scale_factor != 1.0:\n",
    "            x = F.interpolate(x, scale_factor=self.scale_factor, mode='nearest')\n",
    "        if skip is not None:\n",
    "            x = torch.cat([x, skip], dim=1)\n",
    "        x = self.conv1(x)\n",
    "        x = self.conv2(x)\n",
    "        return x\n",
    "\n",
    "\n",
    "class UnetDecoder(nn.Module):\n",
    "\n",
    "    def __init__(\n",
    "            self,\n",
    "            encoder_channels,\n",
    "            decoder_channels=(256, 128, 64, 32, 16),\n",
    "            final_channels=1,\n",
    "            norm_layer=nn.BatchNorm2d,\n",
    "            center=False,\n",
    "    ):\n",
    "        super().__init__()\n",
    "\n",
    "        if center:\n",
    "            channels = encoder_channels[0]\n",
    "            self.center = DecoderBlock(channels, channels, scale_factor=1.0, norm_layer=norm_layer)\n",
    "        else:\n",
    "            self.center = nn.Identity()\n",
    "\n",
    "        in_channels = [in_chs + skip_chs for in_chs, skip_chs in zip(\n",
    "            [encoder_channels[0]] + list(decoder_channels[:-1]),\n",
    "            list(encoder_channels[1:]) + [0])]\n",
    "        out_channels = decoder_channels\n",
    "\n",
    "        self.blocks = nn.ModuleList()\n",
    "        for in_chs, out_chs in zip(in_channels, out_channels):\n",
    "            self.blocks.append(DecoderBlock(in_chs, out_chs, norm_layer=norm_layer))\n",
    "        self.final_conv = nn.Conv2d(out_channels[-1], final_channels, kernel_size=(1, 1))\n",
    "\n",
    "        self._init_weight()\n",
    "\n",
    "    def _init_weight(self):\n",
    "        for m in self.modules():\n",
    "            if isinstance(m, nn.Conv2d):\n",
    "                torch.nn.init.kaiming_normal_(m.weight)\n",
    "            elif isinstance(m, nn.BatchNorm2d):\n",
    "                m.weight.data.fill_(1)\n",
    "                m.bias.data.zero_()\n",
    "\n",
    "    def forward(self, x: List[torch.Tensor]):\n",
    "        encoder_head = x[0]\n",
    "        skips = x[1:]\n",
    "        x = self.center(encoder_head)\n",
    "        for i, b in enumerate(self.blocks):\n",
    "            skip = skips[i] if i < len(skips) else None\n",
    "            x = b(x, skip)\n",
    "        x = self.final_conv(x)\n",
    "        return x"
   ]
  },
  {
   "cell_type": "code",
   "execution_count": 30,
   "id": "ea6e7908",
   "metadata": {},
   "outputs": [],
   "source": [
    "class Model(nn.Module):\n",
    "    def __init__(\n",
    "            self,\n",
    "            size=256,\n",
    "            n_zooms=3,\n",
    "            backbone='resnet18',\n",
    "            backbone_kwargs=None,\n",
    "            backbone_indices=None,\n",
    "            decoder_use_batchnorm=True,\n",
    "            decoder_channels=(256, 128, 64, 32, 16),\n",
    "            in_chans=3,\n",
    "            out_chans=1,\n",
    "            center=False,\n",
    "            norm_layer=nn.BatchNorm2d,\n",
    "        ):\n",
    "        super().__init__()\n",
    "        \n",
    "        self.size = size\n",
    "        self.n_zooms = n_zooms\n",
    "        \n",
    "        self.unets = torch.nn.ModuleList([Unet(\n",
    "            backbone=backbone,\n",
    "            backbone_kwargs=backbone_kwargs,\n",
    "            backbone_indices=backbone_indices,\n",
    "            decoder_use_batchnorm=decoder_use_batchnorm,\n",
    "            decoder_channels=decoder_channels,\n",
    "            in_chans=in_chans,\n",
    "            num_classes=out_chans,\n",
    "            center=center,\n",
    "            norm_layer=norm_layer,\n",
    "        ) for n in range(n_zooms)])\n",
    "        \n",
    "        self.head = nn.Sequential(\n",
    "            nn.Conv2d(n_zooms * out_chans, out_chans, 1),\n",
    "            nn.ReLU(),\n",
    "            nn.Conv2d(out_chans, out_chans, 1),\n",
    "            nn.ReLU(),\n",
    "            nn.Conv2d(out_chans, out_chans, 1),\n",
    "            nn.ReLU(),\n",
    "            nn.Conv2d(out_chans, out_chans, 1),\n",
    "            nn.Sigmoid(),\n",
    "        )\n",
    "    \n",
    "    def calculate_loss(self, x, y):\n",
    "        return F.mse_loss(x, y)\n",
    "\n",
    "    def forward(self, hes):\n",
    "        activations = torch.concat([unet(x) for unet, x in zip(self.unets, hes)], dim=1)\n",
    "        return self.head(activations)\n",
    "    \n",
    "    \n",
    "class LitModel(pl.LightningModule):\n",
    "    def __init__(\n",
    "            self,\n",
    "            size=256,\n",
    "            scales=[1,2,4],\n",
    "            backbone='resnet18',\n",
    "            batch_size=64,\n",
    "            lr=1e-4,\n",
    "            total_steps=1,\n",
    "            out_chans=1,\n",
    "            ):\n",
    "        super().__init__()\n",
    "        self.size = size\n",
    "        self.scales = scales\n",
    "        self.batch_size = batch_size\n",
    "        self.lr = lr\n",
    "\n",
    "        self.model = Model(\n",
    "            size=size,\n",
    "            n_zooms=len(scales),\n",
    "            backbone=backbone,\n",
    "            out_chans=out_chans,\n",
    "        )\n",
    "\n",
    "        self.outputs = None\n",
    "\n",
    "    def configure_optimizers(self):\n",
    "        optimizer = torch.optim.Adam(self.parameters(), lr=self.lr)\n",
    "        return optimizer\n",
    "\n",
    "    def training_step(self, batch, batch_idx):\n",
    "        hes, y = batch['he'], batch['y']\n",
    "        outs = self.forward(hes, y)\n",
    "        self.log_dict(\n",
    "            {f'train_{k}_step':v for k, v in outs.items() if k!='outputs'},\n",
    "            on_step=True, on_epoch=False, prog_bar=True, batch_size=self.batch_size\n",
    "        )\n",
    "        self.log_dict(\n",
    "            {f'train_{k}_epoch':v for k, v in outs.items() if k!='outputs'},\n",
    "            on_step=True, on_epoch=True, prog_bar=True, batch_size=self.batch_size\n",
    "        )\n",
    "        return outs\n",
    "\n",
    "    def validation_step(self, batch, batch_idx):\n",
    "        hes, y = batch['he'], batch['y']\n",
    "        outs = self.forward(hes, y)\n",
    "        self.log_dict(\n",
    "            {f'val_{k}_step':v for k, v in outs.items() if k!='outputs'},\n",
    "            on_step=True, on_epoch=False, prog_bar=True, batch_size=self.batch_size\n",
    "        )\n",
    "        self.log_dict(\n",
    "            {f'val_{k}_epoch':v for k, v in outs.items() if k!='outputs'},\n",
    "            on_step=True, on_epoch=True, prog_bar=True, batch_size=self.batch_size\n",
    "        )\n",
    "        return outs\n",
    "    \n",
    "    def predict_step(self, batch):\n",
    "        hes = batch['he']\n",
    "        return self.model(hes)\n",
    "    \n",
    "\n",
    "    def forward(self, hes, y):\n",
    "        preds = self.model(hes)\n",
    "        return {\n",
    "            'loss': self.model.calculate_loss(preds, y),\n",
    "            'outputs': preds\n",
    "        }\n"
   ]
  },
  {
   "cell_type": "code",
   "execution_count": 31,
   "id": "133f3c62",
   "metadata": {},
   "outputs": [],
   "source": [
    "model = LitModel(\n",
    "    size=size,\n",
    "    scales=scales,\n",
    "    backbone='resnet18',\n",
    "    batch_size=batch_size, \n",
    "    out_chans=len(target_channels)\n",
    ")"
   ]
  },
  {
   "cell_type": "code",
   "execution_count": 32,
   "id": "568bc4e6",
   "metadata": {},
   "outputs": [],
   "source": [
    "train_dl = DataLoader(train_ds, batch_size=64, shuffle=False, num_workers=10)\n",
    "val_dl = DataLoader(val_ds, batch_size=64, shuffle=False, num_workers=1)"
   ]
  },
  {
   "cell_type": "code",
   "execution_count": 33,
   "id": "e0b17292",
   "metadata": {},
   "outputs": [],
   "source": [
    "run_dir = project_dir / case / 'multiplex_prediction'\n",
    "log_dir = run_dir / 'logs'\n",
    "output_dir = run_dir / 'predictions'\n",
    "log_dir.mkdir(parents=True, exist_ok=True)\n",
    "output_dir.mkdir(parents=True, exist_ok=True)"
   ]
  },
  {
   "cell_type": "code",
   "execution_count": null,
   "id": "d642ed89",
   "metadata": {},
   "outputs": [],
   "source": []
  },
  {
   "cell_type": "code",
   "execution_count": 34,
   "id": "b81f4c3a",
   "metadata": {},
   "outputs": [
    {
     "name": "stderr",
     "output_type": "stream",
     "text": [
      "Trainer will use only 1 of 4 GPUs because it is running inside an interactive / notebook environment. You may try to set `Trainer(devices=4)` but please note that multi-GPU inside interactive / notebook environments is considered experimental and unstable. Your mileage may vary.\n",
      "GPU available: True (cuda), used: True\n",
      "TPU available: False, using: 0 TPU cores\n",
      "IPU available: False, using: 0 IPUs\n",
      "HPU available: False, using: 0 HPUs\n"
     ]
    }
   ],
   "source": [
    "trainer = pl.Trainer(\n",
    "    accelerator='gpu',\n",
    "    max_epochs=100,\n",
    "    logger=pl.pytorch.loggers.TensorBoardLogger(save_dir=log_dir)\n",
    ")"
   ]
  },
  {
   "cell_type": "code",
   "execution_count": 35,
   "id": "3e38e168",
   "metadata": {
    "scrolled": false
   },
   "outputs": [
    {
     "name": "stderr",
     "output_type": "stream",
     "text": [
      "LOCAL_RANK: 0 - CUDA_VISIBLE_DEVICES: [0,1,2,3]\n",
      "\n",
      "  | Name  | Type  | Params\n",
      "--------------------------------\n",
      "0 | model | Model | 57.3 M\n",
      "--------------------------------\n",
      "57.3 M    Trainable params\n",
      "0         Non-trainable params\n",
      "57.3 M    Total params\n",
      "229.253   Total estimated model params size (MB)\n"
     ]
    },
    {
     "data": {
      "application/vnd.jupyter.widget-view+json": {
       "model_id": "",
       "version_major": 2,
       "version_minor": 0
      },
      "text/plain": [
       "Sanity Checking: |                                                                                            …"
      ]
     },
     "metadata": {},
     "output_type": "display_data"
    },
    {
     "name": "stderr",
     "output_type": "stream",
     "text": [
      "/data/estorrs/miniconda3/envs/mushroom/lib/python3.10/site-packages/lightning/pytorch/trainer/connectors/data_connector.py:441: The 'val_dataloader' does not have many workers which may be a bottleneck. Consider increasing the value of the `num_workers` argument` to `num_workers=63` in the `DataLoader` to improve performance.\n"
     ]
    },
    {
     "data": {
      "application/vnd.jupyter.widget-view+json": {
       "model_id": "63496a49fe764775a995ebd2649dec99",
       "version_major": 2,
       "version_minor": 0
      },
      "text/plain": [
       "Training: |                                                                                                   …"
      ]
     },
     "metadata": {},
     "output_type": "display_data"
    },
    {
     "data": {
      "application/vnd.jupyter.widget-view+json": {
       "model_id": "",
       "version_major": 2,
       "version_minor": 0
      },
      "text/plain": [
       "Validation: |                                                                                                 …"
      ]
     },
     "metadata": {},
     "output_type": "display_data"
    },
    {
     "data": {
      "application/vnd.jupyter.widget-view+json": {
       "model_id": "",
       "version_major": 2,
       "version_minor": 0
      },
      "text/plain": [
       "Validation: |                                                                                                 …"
      ]
     },
     "metadata": {},
     "output_type": "display_data"
    },
    {
     "data": {
      "application/vnd.jupyter.widget-view+json": {
       "model_id": "",
       "version_major": 2,
       "version_minor": 0
      },
      "text/plain": [
       "Validation: |                                                                                                 …"
      ]
     },
     "metadata": {},
     "output_type": "display_data"
    },
    {
     "data": {
      "application/vnd.jupyter.widget-view+json": {
       "model_id": "",
       "version_major": 2,
       "version_minor": 0
      },
      "text/plain": [
       "Validation: |                                                                                                 …"
      ]
     },
     "metadata": {},
     "output_type": "display_data"
    },
    {
     "data": {
      "application/vnd.jupyter.widget-view+json": {
       "model_id": "",
       "version_major": 2,
       "version_minor": 0
      },
      "text/plain": [
       "Validation: |                                                                                                 …"
      ]
     },
     "metadata": {},
     "output_type": "display_data"
    },
    {
     "data": {
      "application/vnd.jupyter.widget-view+json": {
       "model_id": "",
       "version_major": 2,
       "version_minor": 0
      },
      "text/plain": [
       "Validation: |                                                                                                 …"
      ]
     },
     "metadata": {},
     "output_type": "display_data"
    },
    {
     "data": {
      "application/vnd.jupyter.widget-view+json": {
       "model_id": "",
       "version_major": 2,
       "version_minor": 0
      },
      "text/plain": [
       "Validation: |                                                                                                 …"
      ]
     },
     "metadata": {},
     "output_type": "display_data"
    },
    {
     "data": {
      "application/vnd.jupyter.widget-view+json": {
       "model_id": "",
       "version_major": 2,
       "version_minor": 0
      },
      "text/plain": [
       "Validation: |                                                                                                 …"
      ]
     },
     "metadata": {},
     "output_type": "display_data"
    },
    {
     "data": {
      "application/vnd.jupyter.widget-view+json": {
       "model_id": "",
       "version_major": 2,
       "version_minor": 0
      },
      "text/plain": [
       "Validation: |                                                                                                 …"
      ]
     },
     "metadata": {},
     "output_type": "display_data"
    },
    {
     "data": {
      "application/vnd.jupyter.widget-view+json": {
       "model_id": "",
       "version_major": 2,
       "version_minor": 0
      },
      "text/plain": [
       "Validation: |                                                                                                 …"
      ]
     },
     "metadata": {},
     "output_type": "display_data"
    },
    {
     "data": {
      "application/vnd.jupyter.widget-view+json": {
       "model_id": "",
       "version_major": 2,
       "version_minor": 0
      },
      "text/plain": [
       "Validation: |                                                                                                 …"
      ]
     },
     "metadata": {},
     "output_type": "display_data"
    },
    {
     "data": {
      "application/vnd.jupyter.widget-view+json": {
       "model_id": "",
       "version_major": 2,
       "version_minor": 0
      },
      "text/plain": [
       "Validation: |                                                                                                 …"
      ]
     },
     "metadata": {},
     "output_type": "display_data"
    },
    {
     "data": {
      "application/vnd.jupyter.widget-view+json": {
       "model_id": "",
       "version_major": 2,
       "version_minor": 0
      },
      "text/plain": [
       "Validation: |                                                                                                 …"
      ]
     },
     "metadata": {},
     "output_type": "display_data"
    },
    {
     "data": {
      "application/vnd.jupyter.widget-view+json": {
       "model_id": "",
       "version_major": 2,
       "version_minor": 0
      },
      "text/plain": [
       "Validation: |                                                                                                 …"
      ]
     },
     "metadata": {},
     "output_type": "display_data"
    },
    {
     "data": {
      "application/vnd.jupyter.widget-view+json": {
       "model_id": "",
       "version_major": 2,
       "version_minor": 0
      },
      "text/plain": [
       "Validation: |                                                                                                 …"
      ]
     },
     "metadata": {},
     "output_type": "display_data"
    },
    {
     "data": {
      "application/vnd.jupyter.widget-view+json": {
       "model_id": "",
       "version_major": 2,
       "version_minor": 0
      },
      "text/plain": [
       "Validation: |                                                                                                 …"
      ]
     },
     "metadata": {},
     "output_type": "display_data"
    },
    {
     "data": {
      "application/vnd.jupyter.widget-view+json": {
       "model_id": "",
       "version_major": 2,
       "version_minor": 0
      },
      "text/plain": [
       "Validation: |                                                                                                 …"
      ]
     },
     "metadata": {},
     "output_type": "display_data"
    },
    {
     "data": {
      "application/vnd.jupyter.widget-view+json": {
       "model_id": "",
       "version_major": 2,
       "version_minor": 0
      },
      "text/plain": [
       "Validation: |                                                                                                 …"
      ]
     },
     "metadata": {},
     "output_type": "display_data"
    },
    {
     "data": {
      "application/vnd.jupyter.widget-view+json": {
       "model_id": "",
       "version_major": 2,
       "version_minor": 0
      },
      "text/plain": [
       "Validation: |                                                                                                 …"
      ]
     },
     "metadata": {},
     "output_type": "display_data"
    },
    {
     "data": {
      "application/vnd.jupyter.widget-view+json": {
       "model_id": "",
       "version_major": 2,
       "version_minor": 0
      },
      "text/plain": [
       "Validation: |                                                                                                 …"
      ]
     },
     "metadata": {},
     "output_type": "display_data"
    },
    {
     "data": {
      "application/vnd.jupyter.widget-view+json": {
       "model_id": "",
       "version_major": 2,
       "version_minor": 0
      },
      "text/plain": [
       "Validation: |                                                                                                 …"
      ]
     },
     "metadata": {},
     "output_type": "display_data"
    },
    {
     "data": {
      "application/vnd.jupyter.widget-view+json": {
       "model_id": "",
       "version_major": 2,
       "version_minor": 0
      },
      "text/plain": [
       "Validation: |                                                                                                 …"
      ]
     },
     "metadata": {},
     "output_type": "display_data"
    },
    {
     "data": {
      "application/vnd.jupyter.widget-view+json": {
       "model_id": "",
       "version_major": 2,
       "version_minor": 0
      },
      "text/plain": [
       "Validation: |                                                                                                 …"
      ]
     },
     "metadata": {},
     "output_type": "display_data"
    },
    {
     "data": {
      "application/vnd.jupyter.widget-view+json": {
       "model_id": "",
       "version_major": 2,
       "version_minor": 0
      },
      "text/plain": [
       "Validation: |                                                                                                 …"
      ]
     },
     "metadata": {},
     "output_type": "display_data"
    },
    {
     "data": {
      "application/vnd.jupyter.widget-view+json": {
       "model_id": "",
       "version_major": 2,
       "version_minor": 0
      },
      "text/plain": [
       "Validation: |                                                                                                 …"
      ]
     },
     "metadata": {},
     "output_type": "display_data"
    },
    {
     "data": {
      "application/vnd.jupyter.widget-view+json": {
       "model_id": "",
       "version_major": 2,
       "version_minor": 0
      },
      "text/plain": [
       "Validation: |                                                                                                 …"
      ]
     },
     "metadata": {},
     "output_type": "display_data"
    },
    {
     "data": {
      "application/vnd.jupyter.widget-view+json": {
       "model_id": "",
       "version_major": 2,
       "version_minor": 0
      },
      "text/plain": [
       "Validation: |                                                                                                 …"
      ]
     },
     "metadata": {},
     "output_type": "display_data"
    },
    {
     "data": {
      "application/vnd.jupyter.widget-view+json": {
       "model_id": "",
       "version_major": 2,
       "version_minor": 0
      },
      "text/plain": [
       "Validation: |                                                                                                 …"
      ]
     },
     "metadata": {},
     "output_type": "display_data"
    },
    {
     "data": {
      "application/vnd.jupyter.widget-view+json": {
       "model_id": "",
       "version_major": 2,
       "version_minor": 0
      },
      "text/plain": [
       "Validation: |                                                                                                 …"
      ]
     },
     "metadata": {},
     "output_type": "display_data"
    },
    {
     "data": {
      "application/vnd.jupyter.widget-view+json": {
       "model_id": "",
       "version_major": 2,
       "version_minor": 0
      },
      "text/plain": [
       "Validation: |                                                                                                 …"
      ]
     },
     "metadata": {},
     "output_type": "display_data"
    },
    {
     "data": {
      "application/vnd.jupyter.widget-view+json": {
       "model_id": "",
       "version_major": 2,
       "version_minor": 0
      },
      "text/plain": [
       "Validation: |                                                                                                 …"
      ]
     },
     "metadata": {},
     "output_type": "display_data"
    },
    {
     "data": {
      "application/vnd.jupyter.widget-view+json": {
       "model_id": "",
       "version_major": 2,
       "version_minor": 0
      },
      "text/plain": [
       "Validation: |                                                                                                 …"
      ]
     },
     "metadata": {},
     "output_type": "display_data"
    },
    {
     "data": {
      "application/vnd.jupyter.widget-view+json": {
       "model_id": "",
       "version_major": 2,
       "version_minor": 0
      },
      "text/plain": [
       "Validation: |                                                                                                 …"
      ]
     },
     "metadata": {},
     "output_type": "display_data"
    },
    {
     "data": {
      "application/vnd.jupyter.widget-view+json": {
       "model_id": "",
       "version_major": 2,
       "version_minor": 0
      },
      "text/plain": [
       "Validation: |                                                                                                 …"
      ]
     },
     "metadata": {},
     "output_type": "display_data"
    },
    {
     "data": {
      "application/vnd.jupyter.widget-view+json": {
       "model_id": "",
       "version_major": 2,
       "version_minor": 0
      },
      "text/plain": [
       "Validation: |                                                                                                 …"
      ]
     },
     "metadata": {},
     "output_type": "display_data"
    },
    {
     "data": {
      "application/vnd.jupyter.widget-view+json": {
       "model_id": "",
       "version_major": 2,
       "version_minor": 0
      },
      "text/plain": [
       "Validation: |                                                                                                 …"
      ]
     },
     "metadata": {},
     "output_type": "display_data"
    },
    {
     "data": {
      "application/vnd.jupyter.widget-view+json": {
       "model_id": "",
       "version_major": 2,
       "version_minor": 0
      },
      "text/plain": [
       "Validation: |                                                                                                 …"
      ]
     },
     "metadata": {},
     "output_type": "display_data"
    },
    {
     "data": {
      "application/vnd.jupyter.widget-view+json": {
       "model_id": "",
       "version_major": 2,
       "version_minor": 0
      },
      "text/plain": [
       "Validation: |                                                                                                 …"
      ]
     },
     "metadata": {},
     "output_type": "display_data"
    },
    {
     "data": {
      "application/vnd.jupyter.widget-view+json": {
       "model_id": "",
       "version_major": 2,
       "version_minor": 0
      },
      "text/plain": [
       "Validation: |                                                                                                 …"
      ]
     },
     "metadata": {},
     "output_type": "display_data"
    },
    {
     "data": {
      "application/vnd.jupyter.widget-view+json": {
       "model_id": "",
       "version_major": 2,
       "version_minor": 0
      },
      "text/plain": [
       "Validation: |                                                                                                 …"
      ]
     },
     "metadata": {},
     "output_type": "display_data"
    },
    {
     "data": {
      "application/vnd.jupyter.widget-view+json": {
       "model_id": "",
       "version_major": 2,
       "version_minor": 0
      },
      "text/plain": [
       "Validation: |                                                                                                 …"
      ]
     },
     "metadata": {},
     "output_type": "display_data"
    },
    {
     "data": {
      "application/vnd.jupyter.widget-view+json": {
       "model_id": "",
       "version_major": 2,
       "version_minor": 0
      },
      "text/plain": [
       "Validation: |                                                                                                 …"
      ]
     },
     "metadata": {},
     "output_type": "display_data"
    },
    {
     "data": {
      "application/vnd.jupyter.widget-view+json": {
       "model_id": "",
       "version_major": 2,
       "version_minor": 0
      },
      "text/plain": [
       "Validation: |                                                                                                 …"
      ]
     },
     "metadata": {},
     "output_type": "display_data"
    },
    {
     "data": {
      "application/vnd.jupyter.widget-view+json": {
       "model_id": "",
       "version_major": 2,
       "version_minor": 0
      },
      "text/plain": [
       "Validation: |                                                                                                 …"
      ]
     },
     "metadata": {},
     "output_type": "display_data"
    },
    {
     "data": {
      "application/vnd.jupyter.widget-view+json": {
       "model_id": "",
       "version_major": 2,
       "version_minor": 0
      },
      "text/plain": [
       "Validation: |                                                                                                 …"
      ]
     },
     "metadata": {},
     "output_type": "display_data"
    },
    {
     "data": {
      "application/vnd.jupyter.widget-view+json": {
       "model_id": "",
       "version_major": 2,
       "version_minor": 0
      },
      "text/plain": [
       "Validation: |                                                                                                 …"
      ]
     },
     "metadata": {},
     "output_type": "display_data"
    },
    {
     "data": {
      "application/vnd.jupyter.widget-view+json": {
       "model_id": "",
       "version_major": 2,
       "version_minor": 0
      },
      "text/plain": [
       "Validation: |                                                                                                 …"
      ]
     },
     "metadata": {},
     "output_type": "display_data"
    },
    {
     "data": {
      "application/vnd.jupyter.widget-view+json": {
       "model_id": "",
       "version_major": 2,
       "version_minor": 0
      },
      "text/plain": [
       "Validation: |                                                                                                 …"
      ]
     },
     "metadata": {},
     "output_type": "display_data"
    },
    {
     "data": {
      "application/vnd.jupyter.widget-view+json": {
       "model_id": "",
       "version_major": 2,
       "version_minor": 0
      },
      "text/plain": [
       "Validation: |                                                                                                 …"
      ]
     },
     "metadata": {},
     "output_type": "display_data"
    },
    {
     "data": {
      "application/vnd.jupyter.widget-view+json": {
       "model_id": "",
       "version_major": 2,
       "version_minor": 0
      },
      "text/plain": [
       "Validation: |                                                                                                 …"
      ]
     },
     "metadata": {},
     "output_type": "display_data"
    },
    {
     "data": {
      "application/vnd.jupyter.widget-view+json": {
       "model_id": "",
       "version_major": 2,
       "version_minor": 0
      },
      "text/plain": [
       "Validation: |                                                                                                 …"
      ]
     },
     "metadata": {},
     "output_type": "display_data"
    },
    {
     "data": {
      "application/vnd.jupyter.widget-view+json": {
       "model_id": "",
       "version_major": 2,
       "version_minor": 0
      },
      "text/plain": [
       "Validation: |                                                                                                 …"
      ]
     },
     "metadata": {},
     "output_type": "display_data"
    },
    {
     "data": {
      "application/vnd.jupyter.widget-view+json": {
       "model_id": "",
       "version_major": 2,
       "version_minor": 0
      },
      "text/plain": [
       "Validation: |                                                                                                 …"
      ]
     },
     "metadata": {},
     "output_type": "display_data"
    },
    {
     "data": {
      "application/vnd.jupyter.widget-view+json": {
       "model_id": "",
       "version_major": 2,
       "version_minor": 0
      },
      "text/plain": [
       "Validation: |                                                                                                 …"
      ]
     },
     "metadata": {},
     "output_type": "display_data"
    },
    {
     "data": {
      "application/vnd.jupyter.widget-view+json": {
       "model_id": "",
       "version_major": 2,
       "version_minor": 0
      },
      "text/plain": [
       "Validation: |                                                                                                 …"
      ]
     },
     "metadata": {},
     "output_type": "display_data"
    },
    {
     "data": {
      "application/vnd.jupyter.widget-view+json": {
       "model_id": "",
       "version_major": 2,
       "version_minor": 0
      },
      "text/plain": [
       "Validation: |                                                                                                 …"
      ]
     },
     "metadata": {},
     "output_type": "display_data"
    },
    {
     "data": {
      "application/vnd.jupyter.widget-view+json": {
       "model_id": "",
       "version_major": 2,
       "version_minor": 0
      },
      "text/plain": [
       "Validation: |                                                                                                 …"
      ]
     },
     "metadata": {},
     "output_type": "display_data"
    },
    {
     "data": {
      "application/vnd.jupyter.widget-view+json": {
       "model_id": "",
       "version_major": 2,
       "version_minor": 0
      },
      "text/plain": [
       "Validation: |                                                                                                 …"
      ]
     },
     "metadata": {},
     "output_type": "display_data"
    },
    {
     "data": {
      "application/vnd.jupyter.widget-view+json": {
       "model_id": "",
       "version_major": 2,
       "version_minor": 0
      },
      "text/plain": [
       "Validation: |                                                                                                 …"
      ]
     },
     "metadata": {},
     "output_type": "display_data"
    },
    {
     "data": {
      "application/vnd.jupyter.widget-view+json": {
       "model_id": "",
       "version_major": 2,
       "version_minor": 0
      },
      "text/plain": [
       "Validation: |                                                                                                 …"
      ]
     },
     "metadata": {},
     "output_type": "display_data"
    },
    {
     "data": {
      "application/vnd.jupyter.widget-view+json": {
       "model_id": "",
       "version_major": 2,
       "version_minor": 0
      },
      "text/plain": [
       "Validation: |                                                                                                 …"
      ]
     },
     "metadata": {},
     "output_type": "display_data"
    },
    {
     "data": {
      "application/vnd.jupyter.widget-view+json": {
       "model_id": "",
       "version_major": 2,
       "version_minor": 0
      },
      "text/plain": [
       "Validation: |                                                                                                 …"
      ]
     },
     "metadata": {},
     "output_type": "display_data"
    },
    {
     "data": {
      "application/vnd.jupyter.widget-view+json": {
       "model_id": "",
       "version_major": 2,
       "version_minor": 0
      },
      "text/plain": [
       "Validation: |                                                                                                 …"
      ]
     },
     "metadata": {},
     "output_type": "display_data"
    },
    {
     "data": {
      "application/vnd.jupyter.widget-view+json": {
       "model_id": "",
       "version_major": 2,
       "version_minor": 0
      },
      "text/plain": [
       "Validation: |                                                                                                 …"
      ]
     },
     "metadata": {},
     "output_type": "display_data"
    },
    {
     "data": {
      "application/vnd.jupyter.widget-view+json": {
       "model_id": "",
       "version_major": 2,
       "version_minor": 0
      },
      "text/plain": [
       "Validation: |                                                                                                 …"
      ]
     },
     "metadata": {},
     "output_type": "display_data"
    },
    {
     "data": {
      "application/vnd.jupyter.widget-view+json": {
       "model_id": "",
       "version_major": 2,
       "version_minor": 0
      },
      "text/plain": [
       "Validation: |                                                                                                 …"
      ]
     },
     "metadata": {},
     "output_type": "display_data"
    },
    {
     "data": {
      "application/vnd.jupyter.widget-view+json": {
       "model_id": "",
       "version_major": 2,
       "version_minor": 0
      },
      "text/plain": [
       "Validation: |                                                                                                 …"
      ]
     },
     "metadata": {},
     "output_type": "display_data"
    },
    {
     "data": {
      "application/vnd.jupyter.widget-view+json": {
       "model_id": "",
       "version_major": 2,
       "version_minor": 0
      },
      "text/plain": [
       "Validation: |                                                                                                 …"
      ]
     },
     "metadata": {},
     "output_type": "display_data"
    },
    {
     "data": {
      "application/vnd.jupyter.widget-view+json": {
       "model_id": "",
       "version_major": 2,
       "version_minor": 0
      },
      "text/plain": [
       "Validation: |                                                                                                 …"
      ]
     },
     "metadata": {},
     "output_type": "display_data"
    },
    {
     "data": {
      "application/vnd.jupyter.widget-view+json": {
       "model_id": "",
       "version_major": 2,
       "version_minor": 0
      },
      "text/plain": [
       "Validation: |                                                                                                 …"
      ]
     },
     "metadata": {},
     "output_type": "display_data"
    },
    {
     "data": {
      "application/vnd.jupyter.widget-view+json": {
       "model_id": "",
       "version_major": 2,
       "version_minor": 0
      },
      "text/plain": [
       "Validation: |                                                                                                 …"
      ]
     },
     "metadata": {},
     "output_type": "display_data"
    },
    {
     "data": {
      "application/vnd.jupyter.widget-view+json": {
       "model_id": "",
       "version_major": 2,
       "version_minor": 0
      },
      "text/plain": [
       "Validation: |                                                                                                 …"
      ]
     },
     "metadata": {},
     "output_type": "display_data"
    },
    {
     "data": {
      "application/vnd.jupyter.widget-view+json": {
       "model_id": "",
       "version_major": 2,
       "version_minor": 0
      },
      "text/plain": [
       "Validation: |                                                                                                 …"
      ]
     },
     "metadata": {},
     "output_type": "display_data"
    },
    {
     "data": {
      "application/vnd.jupyter.widget-view+json": {
       "model_id": "",
       "version_major": 2,
       "version_minor": 0
      },
      "text/plain": [
       "Validation: |                                                                                                 …"
      ]
     },
     "metadata": {},
     "output_type": "display_data"
    },
    {
     "data": {
      "application/vnd.jupyter.widget-view+json": {
       "model_id": "",
       "version_major": 2,
       "version_minor": 0
      },
      "text/plain": [
       "Validation: |                                                                                                 …"
      ]
     },
     "metadata": {},
     "output_type": "display_data"
    },
    {
     "data": {
      "application/vnd.jupyter.widget-view+json": {
       "model_id": "",
       "version_major": 2,
       "version_minor": 0
      },
      "text/plain": [
       "Validation: |                                                                                                 …"
      ]
     },
     "metadata": {},
     "output_type": "display_data"
    },
    {
     "data": {
      "application/vnd.jupyter.widget-view+json": {
       "model_id": "",
       "version_major": 2,
       "version_minor": 0
      },
      "text/plain": [
       "Validation: |                                                                                                 …"
      ]
     },
     "metadata": {},
     "output_type": "display_data"
    },
    {
     "data": {
      "application/vnd.jupyter.widget-view+json": {
       "model_id": "",
       "version_major": 2,
       "version_minor": 0
      },
      "text/plain": [
       "Validation: |                                                                                                 …"
      ]
     },
     "metadata": {},
     "output_type": "display_data"
    },
    {
     "data": {
      "application/vnd.jupyter.widget-view+json": {
       "model_id": "",
       "version_major": 2,
       "version_minor": 0
      },
      "text/plain": [
       "Validation: |                                                                                                 …"
      ]
     },
     "metadata": {},
     "output_type": "display_data"
    },
    {
     "data": {
      "application/vnd.jupyter.widget-view+json": {
       "model_id": "",
       "version_major": 2,
       "version_minor": 0
      },
      "text/plain": [
       "Validation: |                                                                                                 …"
      ]
     },
     "metadata": {},
     "output_type": "display_data"
    },
    {
     "data": {
      "application/vnd.jupyter.widget-view+json": {
       "model_id": "",
       "version_major": 2,
       "version_minor": 0
      },
      "text/plain": [
       "Validation: |                                                                                                 …"
      ]
     },
     "metadata": {},
     "output_type": "display_data"
    },
    {
     "data": {
      "application/vnd.jupyter.widget-view+json": {
       "model_id": "",
       "version_major": 2,
       "version_minor": 0
      },
      "text/plain": [
       "Validation: |                                                                                                 …"
      ]
     },
     "metadata": {},
     "output_type": "display_data"
    },
    {
     "data": {
      "application/vnd.jupyter.widget-view+json": {
       "model_id": "",
       "version_major": 2,
       "version_minor": 0
      },
      "text/plain": [
       "Validation: |                                                                                                 …"
      ]
     },
     "metadata": {},
     "output_type": "display_data"
    },
    {
     "data": {
      "application/vnd.jupyter.widget-view+json": {
       "model_id": "",
       "version_major": 2,
       "version_minor": 0
      },
      "text/plain": [
       "Validation: |                                                                                                 …"
      ]
     },
     "metadata": {},
     "output_type": "display_data"
    },
    {
     "data": {
      "application/vnd.jupyter.widget-view+json": {
       "model_id": "",
       "version_major": 2,
       "version_minor": 0
      },
      "text/plain": [
       "Validation: |                                                                                                 …"
      ]
     },
     "metadata": {},
     "output_type": "display_data"
    },
    {
     "data": {
      "application/vnd.jupyter.widget-view+json": {
       "model_id": "",
       "version_major": 2,
       "version_minor": 0
      },
      "text/plain": [
       "Validation: |                                                                                                 …"
      ]
     },
     "metadata": {},
     "output_type": "display_data"
    },
    {
     "data": {
      "application/vnd.jupyter.widget-view+json": {
       "model_id": "",
       "version_major": 2,
       "version_minor": 0
      },
      "text/plain": [
       "Validation: |                                                                                                 …"
      ]
     },
     "metadata": {},
     "output_type": "display_data"
    },
    {
     "data": {
      "application/vnd.jupyter.widget-view+json": {
       "model_id": "",
       "version_major": 2,
       "version_minor": 0
      },
      "text/plain": [
       "Validation: |                                                                                                 …"
      ]
     },
     "metadata": {},
     "output_type": "display_data"
    },
    {
     "data": {
      "application/vnd.jupyter.widget-view+json": {
       "model_id": "",
       "version_major": 2,
       "version_minor": 0
      },
      "text/plain": [
       "Validation: |                                                                                                 …"
      ]
     },
     "metadata": {},
     "output_type": "display_data"
    },
    {
     "data": {
      "application/vnd.jupyter.widget-view+json": {
       "model_id": "",
       "version_major": 2,
       "version_minor": 0
      },
      "text/plain": [
       "Validation: |                                                                                                 …"
      ]
     },
     "metadata": {},
     "output_type": "display_data"
    },
    {
     "data": {
      "application/vnd.jupyter.widget-view+json": {
       "model_id": "",
       "version_major": 2,
       "version_minor": 0
      },
      "text/plain": [
       "Validation: |                                                                                                 …"
      ]
     },
     "metadata": {},
     "output_type": "display_data"
    },
    {
     "data": {
      "application/vnd.jupyter.widget-view+json": {
       "model_id": "",
       "version_major": 2,
       "version_minor": 0
      },
      "text/plain": [
       "Validation: |                                                                                                 …"
      ]
     },
     "metadata": {},
     "output_type": "display_data"
    },
    {
     "data": {
      "application/vnd.jupyter.widget-view+json": {
       "model_id": "",
       "version_major": 2,
       "version_minor": 0
      },
      "text/plain": [
       "Validation: |                                                                                                 …"
      ]
     },
     "metadata": {},
     "output_type": "display_data"
    },
    {
     "data": {
      "application/vnd.jupyter.widget-view+json": {
       "model_id": "",
       "version_major": 2,
       "version_minor": 0
      },
      "text/plain": [
       "Validation: |                                                                                                 …"
      ]
     },
     "metadata": {},
     "output_type": "display_data"
    },
    {
     "data": {
      "application/vnd.jupyter.widget-view+json": {
       "model_id": "",
       "version_major": 2,
       "version_minor": 0
      },
      "text/plain": [
       "Validation: |                                                                                                 …"
      ]
     },
     "metadata": {},
     "output_type": "display_data"
    },
    {
     "data": {
      "application/vnd.jupyter.widget-view+json": {
       "model_id": "",
       "version_major": 2,
       "version_minor": 0
      },
      "text/plain": [
       "Validation: |                                                                                                 …"
      ]
     },
     "metadata": {},
     "output_type": "display_data"
    },
    {
     "data": {
      "application/vnd.jupyter.widget-view+json": {
       "model_id": "",
       "version_major": 2,
       "version_minor": 0
      },
      "text/plain": [
       "Validation: |                                                                                                 …"
      ]
     },
     "metadata": {},
     "output_type": "display_data"
    },
    {
     "data": {
      "application/vnd.jupyter.widget-view+json": {
       "model_id": "",
       "version_major": 2,
       "version_minor": 0
      },
      "text/plain": [
       "Validation: |                                                                                                 …"
      ]
     },
     "metadata": {},
     "output_type": "display_data"
    },
    {
     "data": {
      "application/vnd.jupyter.widget-view+json": {
       "model_id": "",
       "version_major": 2,
       "version_minor": 0
      },
      "text/plain": [
       "Validation: |                                                                                                 …"
      ]
     },
     "metadata": {},
     "output_type": "display_data"
    },
    {
     "data": {
      "application/vnd.jupyter.widget-view+json": {
       "model_id": "",
       "version_major": 2,
       "version_minor": 0
      },
      "text/plain": [
       "Validation: |                                                                                                 …"
      ]
     },
     "metadata": {},
     "output_type": "display_data"
    },
    {
     "name": "stderr",
     "output_type": "stream",
     "text": [
      "`Trainer.fit` stopped: `max_epochs=100` reached.\n"
     ]
    }
   ],
   "source": [
    "trainer.fit(\n",
    "    model,\n",
    "    train_dl,\n",
    "    val_dl\n",
    ")"
   ]
  },
  {
   "cell_type": "code",
   "execution_count": 36,
   "id": "a8787c43",
   "metadata": {},
   "outputs": [],
   "source": [
    "chkpt_path = run_dir / 'model.ckpt'"
   ]
  },
  {
   "cell_type": "code",
   "execution_count": 37,
   "id": "a048fc55",
   "metadata": {},
   "outputs": [],
   "source": [
    "torch.save(model.state_dict(), chkpt_path)"
   ]
  },
  {
   "cell_type": "code",
   "execution_count": 38,
   "id": "bdc72fdc",
   "metadata": {},
   "outputs": [],
   "source": [
    "# model = LitModel(\n",
    "#     size=size,\n",
    "#     scales=scales,\n",
    "#     backbone='resnet18',\n",
    "#     batch_size=batch_size,\n",
    "#     out_chans=len(target_channels)\n",
    "# )\n",
    "# model.load_state_dict(torch.load(chkpt_path))"
   ]
  },
  {
   "cell_type": "code",
   "execution_count": 39,
   "id": "f88543ff",
   "metadata": {},
   "outputs": [
    {
     "data": {
      "text/plain": [
       "['/data/estorrs/mushroom/data/projects/submission_v1/HT891Z1/registered/s1_HT891Z1-U4_he.tif',\n",
       " '/data/estorrs/mushroom/data/projects/submission_v1/HT891Z1/registered/s2_HT891Z1-U5_he.tif',\n",
       " '/data/estorrs/mushroom/data/projects/submission_v1/HT891Z1/registered/s3_HT891Z1-U6_he.tif',\n",
       " '/data/estorrs/mushroom/data/projects/submission_v1/HT891Z1/registered/s4_HT891Z1-U7_he.tif',\n",
       " '/data/estorrs/mushroom/data/projects/submission_v1/HT891Z1/registered/s7_HT891Z1-U28_he.tif',\n",
       " '/data/estorrs/mushroom/data/projects/submission_v1/HT891Z1/registered/s8_HT891Z1-U29_he.tif',\n",
       " '/data/estorrs/mushroom/data/projects/submission_v1/HT891Z1/registered/s9_HT891Z1-U30_he.tif',\n",
       " '/data/estorrs/mushroom/data/projects/submission_v1/HT891Z1/registered/s12_HT891Z1-U35_he.tif',\n",
       " '/data/estorrs/mushroom/data/projects/submission_v1/HT891Z1/registered/s19_HT891Z1-U47_he.tif',\n",
       " '/data/estorrs/mushroom/data/projects/submission_v1/HT891Z1/registered/s20_HT891Z1-U48_he.tif',\n",
       " '/data/estorrs/mushroom/data/projects/submission_v1/HT891Z1/registered/s21_HT891Z1-U49_he.tif',\n",
       " '/data/estorrs/mushroom/data/projects/submission_v1/HT891Z1/registered/s22_HT891Z1-U50_he.tif',\n",
       " '/data/estorrs/mushroom/data/projects/submission_v1/HT891Z1/registered/s25_HT891Z1-U66_he.tif',\n",
       " '/data/estorrs/mushroom/data/projects/submission_v1/HT891Z1/registered/s26_HT891Z1-U68_he.tif',\n",
       " '/data/estorrs/mushroom/data/projects/submission_v1/HT891Z1/registered/s28_HT891Z1-U70_he.tif',\n",
       " '/data/estorrs/mushroom/data/projects/submission_v1/HT891Z1/registered/s31_HT891Z1-U84_he.tif',\n",
       " '/data/estorrs/mushroom/data/projects/submission_v1/HT891Z1/registered/s32_HT891Z1-U89_he.tif',\n",
       " '/data/estorrs/mushroom/data/projects/submission_v1/HT891Z1/registered/s33_HT891Z1-U90_he.tif',\n",
       " '/data/estorrs/mushroom/data/projects/submission_v1/HT891Z1/registered/s36_HT891Z1-U101_he.tif',\n",
       " '/data/estorrs/mushroom/data/projects/submission_v1/HT891Z1/registered/s37_HT891Z1-U102_he.tif',\n",
       " '/data/estorrs/mushroom/data/projects/submission_v1/HT891Z1/registered/s40_HT891Z1-U106_he.tif',\n",
       " '/data/estorrs/mushroom/data/projects/submission_v1/HT891Z1/registered/s41_HT891Z1-U107_he.tif',\n",
       " '/data/estorrs/mushroom/data/projects/submission_v1/HT891Z1/registered/s47_HT891Z1-U114_he.tif',\n",
       " '/data/estorrs/mushroom/data/projects/submission_v1/HT891Z1/registered/s48_HT891Z1-U115_he.tif',\n",
       " '/data/estorrs/mushroom/data/projects/submission_v1/HT891Z1/registered/s49_HT891Z1-U116_he.tif']"
      ]
     },
     "execution_count": 39,
     "metadata": {},
     "output_type": "execute_result"
    }
   ],
   "source": [
    "he_fps = [entry['data'][0]['filepath'] for entry in metadata['sections']\n",
    "         if entry['data'][0]['dtype'] == he_dtype]\n",
    "he_fps = [fp.replace('/diskmnt/Projects/Users', '/data') for fp in he_fps]\n",
    "he_fps"
   ]
  },
  {
   "cell_type": "code",
   "execution_count": 40,
   "id": "b0f743bb",
   "metadata": {},
   "outputs": [],
   "source": [
    "def tile_predictions(dl, outputs, size, stride=None):\n",
    "    if stride is None:\n",
    "        stride = size\n",
    "    padding = stride // 2\n",
    "\n",
    "    max_h, max_w = max(dl.dataset.hs) + size, max(dl.dataset.ws) + size\n",
    "    tiled_pred = torch.zeros((len(target_channels), max_h, max_w), dtype=torch.float32)\n",
    "    tiled_he = torch.zeros((3, max_h, max_w), dtype=torch.float32)\n",
    "    \n",
    "    min_val_r, max_val_r = min(dl.dataset.hs), max(dl.dataset.hs)\n",
    "    min_val_c, max_val_c = min(dl.dataset.ws), max(dl.dataset.ws)\n",
    "\n",
    "    for b, outs in zip(dl, outputs):\n",
    "        for i, (r, c) in enumerate(zip(b['h_coord'], b['w_coord'])):\n",
    "            r1, r2 = r + padding, r + size - padding\n",
    "            c1, c2 = c + padding, c + size - padding\n",
    "            \n",
    "            local_r1, local_r2, local_c1, local_c2 = padding, size - padding, padding, size - padding\n",
    "            if r == min_val_r:\n",
    "                r1 -= padding\n",
    "                local_r1 -= padding\n",
    "            if r == max_val_r:\n",
    "                r2 += padding\n",
    "                local_r2 += padding\n",
    "            if c == min_val_c:\n",
    "                c1 -= padding\n",
    "                local_c1 -= padding\n",
    "            if c == max_val_c:\n",
    "                c2 += padding\n",
    "                local_c2 += padding\n",
    "\n",
    "            tiled_pred[:, r1:r2, c1:c2] = outs[i][:, local_r1:local_r2, local_c1:local_c2]\n",
    "            tiled_he[:, r1:r2, c1:c2] = b['he'][0][i][:, local_r1:local_r2, local_c1:local_c2]\n",
    "    return tiled_pred, tiled_he"
   ]
  },
  {
   "cell_type": "code",
   "execution_count": 41,
   "id": "edc6ed0d",
   "metadata": {
    "scrolled": true
   },
   "outputs": [
    {
     "name": "stdout",
     "output_type": "stream",
     "text": [
      "/data/estorrs/mushroom/data/projects/submission_v1/HT891Z1/registered/s1_HT891Z1-U4_he.tif\n"
     ]
    },
    {
     "name": "stderr",
     "output_type": "stream",
     "text": [
      "LOCAL_RANK: 0 - CUDA_VISIBLE_DEVICES: [0,1,2,3]\n",
      "/data/estorrs/miniconda3/envs/mushroom/lib/python3.10/site-packages/lightning/pytorch/trainer/connectors/data_connector.py:441: The 'predict_dataloader' does not have many workers which may be a bottleneck. Consider increasing the value of the `num_workers` argument` to `num_workers=63` in the `DataLoader` to improve performance.\n"
     ]
    },
    {
     "data": {
      "application/vnd.jupyter.widget-view+json": {
       "model_id": "bc6fb81dfd744022b0168deb2b4758a3",
       "version_major": 2,
       "version_minor": 0
      },
      "text/plain": [
       "Predicting: |                                                                                                 …"
      ]
     },
     "metadata": {},
     "output_type": "display_data"
    },
    {
     "name": "stdout",
     "output_type": "stream",
     "text": [
      "/data/estorrs/mushroom/data/projects/submission_v1/HT891Z1/registered/s2_HT891Z1-U5_he.tif\n"
     ]
    },
    {
     "name": "stderr",
     "output_type": "stream",
     "text": [
      "LOCAL_RANK: 0 - CUDA_VISIBLE_DEVICES: [0,1,2,3]\n"
     ]
    },
    {
     "data": {
      "application/vnd.jupyter.widget-view+json": {
       "model_id": "ca99c27fd0e742e6ace6b6827322a5b8",
       "version_major": 2,
       "version_minor": 0
      },
      "text/plain": [
       "Predicting: |                                                                                                 …"
      ]
     },
     "metadata": {},
     "output_type": "display_data"
    },
    {
     "name": "stdout",
     "output_type": "stream",
     "text": [
      "/data/estorrs/mushroom/data/projects/submission_v1/HT891Z1/registered/s3_HT891Z1-U6_he.tif\n"
     ]
    },
    {
     "name": "stderr",
     "output_type": "stream",
     "text": [
      "LOCAL_RANK: 0 - CUDA_VISIBLE_DEVICES: [0,1,2,3]\n"
     ]
    },
    {
     "data": {
      "application/vnd.jupyter.widget-view+json": {
       "model_id": "0c1e749afdd247b89990c2f673f2e6d0",
       "version_major": 2,
       "version_minor": 0
      },
      "text/plain": [
       "Predicting: |                                                                                                 …"
      ]
     },
     "metadata": {},
     "output_type": "display_data"
    },
    {
     "name": "stdout",
     "output_type": "stream",
     "text": [
      "/data/estorrs/mushroom/data/projects/submission_v1/HT891Z1/registered/s4_HT891Z1-U7_he.tif\n"
     ]
    },
    {
     "name": "stderr",
     "output_type": "stream",
     "text": [
      "LOCAL_RANK: 0 - CUDA_VISIBLE_DEVICES: [0,1,2,3]\n"
     ]
    },
    {
     "data": {
      "application/vnd.jupyter.widget-view+json": {
       "model_id": "65c9ca1ecd8b49068a0d21ff30fae924",
       "version_major": 2,
       "version_minor": 0
      },
      "text/plain": [
       "Predicting: |                                                                                                 …"
      ]
     },
     "metadata": {},
     "output_type": "display_data"
    },
    {
     "name": "stdout",
     "output_type": "stream",
     "text": [
      "/data/estorrs/mushroom/data/projects/submission_v1/HT891Z1/registered/s7_HT891Z1-U28_he.tif\n"
     ]
    },
    {
     "name": "stderr",
     "output_type": "stream",
     "text": [
      "LOCAL_RANK: 0 - CUDA_VISIBLE_DEVICES: [0,1,2,3]\n"
     ]
    },
    {
     "data": {
      "application/vnd.jupyter.widget-view+json": {
       "model_id": "041c2c2f0d7542a29dad0f0a3ede3b93",
       "version_major": 2,
       "version_minor": 0
      },
      "text/plain": [
       "Predicting: |                                                                                                 …"
      ]
     },
     "metadata": {},
     "output_type": "display_data"
    },
    {
     "name": "stdout",
     "output_type": "stream",
     "text": [
      "/data/estorrs/mushroom/data/projects/submission_v1/HT891Z1/registered/s8_HT891Z1-U29_he.tif\n"
     ]
    },
    {
     "name": "stderr",
     "output_type": "stream",
     "text": [
      "LOCAL_RANK: 0 - CUDA_VISIBLE_DEVICES: [0,1,2,3]\n"
     ]
    },
    {
     "data": {
      "application/vnd.jupyter.widget-view+json": {
       "model_id": "35a7a58e31b149f7a28e486fb401c5a9",
       "version_major": 2,
       "version_minor": 0
      },
      "text/plain": [
       "Predicting: |                                                                                                 …"
      ]
     },
     "metadata": {},
     "output_type": "display_data"
    },
    {
     "name": "stdout",
     "output_type": "stream",
     "text": [
      "/data/estorrs/mushroom/data/projects/submission_v1/HT891Z1/registered/s9_HT891Z1-U30_he.tif\n"
     ]
    },
    {
     "name": "stderr",
     "output_type": "stream",
     "text": [
      "LOCAL_RANK: 0 - CUDA_VISIBLE_DEVICES: [0,1,2,3]\n"
     ]
    },
    {
     "data": {
      "application/vnd.jupyter.widget-view+json": {
       "model_id": "cfdb97dcdbed429cae5c8a80e181d7ed",
       "version_major": 2,
       "version_minor": 0
      },
      "text/plain": [
       "Predicting: |                                                                                                 …"
      ]
     },
     "metadata": {},
     "output_type": "display_data"
    },
    {
     "name": "stdout",
     "output_type": "stream",
     "text": [
      "/data/estorrs/mushroom/data/projects/submission_v1/HT891Z1/registered/s12_HT891Z1-U35_he.tif\n"
     ]
    },
    {
     "name": "stderr",
     "output_type": "stream",
     "text": [
      "LOCAL_RANK: 0 - CUDA_VISIBLE_DEVICES: [0,1,2,3]\n"
     ]
    },
    {
     "data": {
      "application/vnd.jupyter.widget-view+json": {
       "model_id": "8d09f50ab4e24dfa8984a1f6c3b799b6",
       "version_major": 2,
       "version_minor": 0
      },
      "text/plain": [
       "Predicting: |                                                                                                 …"
      ]
     },
     "metadata": {},
     "output_type": "display_data"
    },
    {
     "name": "stdout",
     "output_type": "stream",
     "text": [
      "/data/estorrs/mushroom/data/projects/submission_v1/HT891Z1/registered/s19_HT891Z1-U47_he.tif\n"
     ]
    },
    {
     "name": "stderr",
     "output_type": "stream",
     "text": [
      "LOCAL_RANK: 0 - CUDA_VISIBLE_DEVICES: [0,1,2,3]\n"
     ]
    },
    {
     "data": {
      "application/vnd.jupyter.widget-view+json": {
       "model_id": "a2791017fd0041ae8475b1300fcb01ff",
       "version_major": 2,
       "version_minor": 0
      },
      "text/plain": [
       "Predicting: |                                                                                                 …"
      ]
     },
     "metadata": {},
     "output_type": "display_data"
    },
    {
     "name": "stdout",
     "output_type": "stream",
     "text": [
      "/data/estorrs/mushroom/data/projects/submission_v1/HT891Z1/registered/s20_HT891Z1-U48_he.tif\n"
     ]
    },
    {
     "name": "stderr",
     "output_type": "stream",
     "text": [
      "LOCAL_RANK: 0 - CUDA_VISIBLE_DEVICES: [0,1,2,3]\n"
     ]
    },
    {
     "data": {
      "application/vnd.jupyter.widget-view+json": {
       "model_id": "602fa8c27754465f981c212a9c60097d",
       "version_major": 2,
       "version_minor": 0
      },
      "text/plain": [
       "Predicting: |                                                                                                 …"
      ]
     },
     "metadata": {},
     "output_type": "display_data"
    },
    {
     "name": "stdout",
     "output_type": "stream",
     "text": [
      "/data/estorrs/mushroom/data/projects/submission_v1/HT891Z1/registered/s21_HT891Z1-U49_he.tif\n"
     ]
    },
    {
     "name": "stderr",
     "output_type": "stream",
     "text": [
      "LOCAL_RANK: 0 - CUDA_VISIBLE_DEVICES: [0,1,2,3]\n"
     ]
    },
    {
     "data": {
      "application/vnd.jupyter.widget-view+json": {
       "model_id": "930574a0a24e421ea4cd8590ff9979af",
       "version_major": 2,
       "version_minor": 0
      },
      "text/plain": [
       "Predicting: |                                                                                                 …"
      ]
     },
     "metadata": {},
     "output_type": "display_data"
    },
    {
     "name": "stdout",
     "output_type": "stream",
     "text": [
      "/data/estorrs/mushroom/data/projects/submission_v1/HT891Z1/registered/s22_HT891Z1-U50_he.tif\n"
     ]
    },
    {
     "name": "stderr",
     "output_type": "stream",
     "text": [
      "LOCAL_RANK: 0 - CUDA_VISIBLE_DEVICES: [0,1,2,3]\n"
     ]
    },
    {
     "data": {
      "application/vnd.jupyter.widget-view+json": {
       "model_id": "b97171fe78604bae9d69181aec9341a0",
       "version_major": 2,
       "version_minor": 0
      },
      "text/plain": [
       "Predicting: |                                                                                                 …"
      ]
     },
     "metadata": {},
     "output_type": "display_data"
    },
    {
     "name": "stdout",
     "output_type": "stream",
     "text": [
      "/data/estorrs/mushroom/data/projects/submission_v1/HT891Z1/registered/s25_HT891Z1-U66_he.tif\n"
     ]
    },
    {
     "name": "stderr",
     "output_type": "stream",
     "text": [
      "LOCAL_RANK: 0 - CUDA_VISIBLE_DEVICES: [0,1,2,3]\n"
     ]
    },
    {
     "data": {
      "application/vnd.jupyter.widget-view+json": {
       "model_id": "432b302ea1ed4227a703429169ebde91",
       "version_major": 2,
       "version_minor": 0
      },
      "text/plain": [
       "Predicting: |                                                                                                 …"
      ]
     },
     "metadata": {},
     "output_type": "display_data"
    },
    {
     "name": "stdout",
     "output_type": "stream",
     "text": [
      "/data/estorrs/mushroom/data/projects/submission_v1/HT891Z1/registered/s26_HT891Z1-U68_he.tif\n"
     ]
    },
    {
     "name": "stderr",
     "output_type": "stream",
     "text": [
      "LOCAL_RANK: 0 - CUDA_VISIBLE_DEVICES: [0,1,2,3]\n"
     ]
    },
    {
     "data": {
      "application/vnd.jupyter.widget-view+json": {
       "model_id": "5903805ced6042868d27a4d8bbf7f8db",
       "version_major": 2,
       "version_minor": 0
      },
      "text/plain": [
       "Predicting: |                                                                                                 …"
      ]
     },
     "metadata": {},
     "output_type": "display_data"
    },
    {
     "name": "stdout",
     "output_type": "stream",
     "text": [
      "/data/estorrs/mushroom/data/projects/submission_v1/HT891Z1/registered/s28_HT891Z1-U70_he.tif\n"
     ]
    },
    {
     "name": "stderr",
     "output_type": "stream",
     "text": [
      "LOCAL_RANK: 0 - CUDA_VISIBLE_DEVICES: [0,1,2,3]\n"
     ]
    },
    {
     "data": {
      "application/vnd.jupyter.widget-view+json": {
       "model_id": "b31295cb9b1d4c919c11d3d029d8561b",
       "version_major": 2,
       "version_minor": 0
      },
      "text/plain": [
       "Predicting: |                                                                                                 …"
      ]
     },
     "metadata": {},
     "output_type": "display_data"
    },
    {
     "name": "stdout",
     "output_type": "stream",
     "text": [
      "/data/estorrs/mushroom/data/projects/submission_v1/HT891Z1/registered/s31_HT891Z1-U84_he.tif\n"
     ]
    },
    {
     "name": "stderr",
     "output_type": "stream",
     "text": [
      "LOCAL_RANK: 0 - CUDA_VISIBLE_DEVICES: [0,1,2,3]\n"
     ]
    },
    {
     "data": {
      "application/vnd.jupyter.widget-view+json": {
       "model_id": "ef221283e41245cc8c358d2f7368636c",
       "version_major": 2,
       "version_minor": 0
      },
      "text/plain": [
       "Predicting: |                                                                                                 …"
      ]
     },
     "metadata": {},
     "output_type": "display_data"
    },
    {
     "name": "stdout",
     "output_type": "stream",
     "text": [
      "/data/estorrs/mushroom/data/projects/submission_v1/HT891Z1/registered/s32_HT891Z1-U89_he.tif\n"
     ]
    },
    {
     "name": "stderr",
     "output_type": "stream",
     "text": [
      "LOCAL_RANK: 0 - CUDA_VISIBLE_DEVICES: [0,1,2,3]\n"
     ]
    },
    {
     "data": {
      "application/vnd.jupyter.widget-view+json": {
       "model_id": "ae4825dc376b47ac9dbabb25d1a90716",
       "version_major": 2,
       "version_minor": 0
      },
      "text/plain": [
       "Predicting: |                                                                                                 …"
      ]
     },
     "metadata": {},
     "output_type": "display_data"
    },
    {
     "name": "stdout",
     "output_type": "stream",
     "text": [
      "/data/estorrs/mushroom/data/projects/submission_v1/HT891Z1/registered/s33_HT891Z1-U90_he.tif\n"
     ]
    },
    {
     "name": "stderr",
     "output_type": "stream",
     "text": [
      "LOCAL_RANK: 0 - CUDA_VISIBLE_DEVICES: [0,1,2,3]\n"
     ]
    },
    {
     "data": {
      "application/vnd.jupyter.widget-view+json": {
       "model_id": "a8ac1e0a665241f89019343e55c1cdd3",
       "version_major": 2,
       "version_minor": 0
      },
      "text/plain": [
       "Predicting: |                                                                                                 …"
      ]
     },
     "metadata": {},
     "output_type": "display_data"
    },
    {
     "name": "stdout",
     "output_type": "stream",
     "text": [
      "/data/estorrs/mushroom/data/projects/submission_v1/HT891Z1/registered/s36_HT891Z1-U101_he.tif\n"
     ]
    },
    {
     "name": "stderr",
     "output_type": "stream",
     "text": [
      "LOCAL_RANK: 0 - CUDA_VISIBLE_DEVICES: [0,1,2,3]\n"
     ]
    },
    {
     "data": {
      "application/vnd.jupyter.widget-view+json": {
       "model_id": "1649b7c6669c4469a377afe86a616a63",
       "version_major": 2,
       "version_minor": 0
      },
      "text/plain": [
       "Predicting: |                                                                                                 …"
      ]
     },
     "metadata": {},
     "output_type": "display_data"
    },
    {
     "name": "stdout",
     "output_type": "stream",
     "text": [
      "/data/estorrs/mushroom/data/projects/submission_v1/HT891Z1/registered/s37_HT891Z1-U102_he.tif\n"
     ]
    },
    {
     "name": "stderr",
     "output_type": "stream",
     "text": [
      "LOCAL_RANK: 0 - CUDA_VISIBLE_DEVICES: [0,1,2,3]\n"
     ]
    },
    {
     "data": {
      "application/vnd.jupyter.widget-view+json": {
       "model_id": "0e34aa68dfed4563a1f9756dc9c54963",
       "version_major": 2,
       "version_minor": 0
      },
      "text/plain": [
       "Predicting: |                                                                                                 …"
      ]
     },
     "metadata": {},
     "output_type": "display_data"
    },
    {
     "name": "stdout",
     "output_type": "stream",
     "text": [
      "/data/estorrs/mushroom/data/projects/submission_v1/HT891Z1/registered/s40_HT891Z1-U106_he.tif\n"
     ]
    },
    {
     "name": "stderr",
     "output_type": "stream",
     "text": [
      "LOCAL_RANK: 0 - CUDA_VISIBLE_DEVICES: [0,1,2,3]\n"
     ]
    },
    {
     "data": {
      "application/vnd.jupyter.widget-view+json": {
       "model_id": "9c2c32a6462f42c39f1febd6c4df1a8d",
       "version_major": 2,
       "version_minor": 0
      },
      "text/plain": [
       "Predicting: |                                                                                                 …"
      ]
     },
     "metadata": {},
     "output_type": "display_data"
    },
    {
     "name": "stdout",
     "output_type": "stream",
     "text": [
      "/data/estorrs/mushroom/data/projects/submission_v1/HT891Z1/registered/s41_HT891Z1-U107_he.tif\n"
     ]
    },
    {
     "name": "stderr",
     "output_type": "stream",
     "text": [
      "LOCAL_RANK: 0 - CUDA_VISIBLE_DEVICES: [0,1,2,3]\n"
     ]
    },
    {
     "data": {
      "application/vnd.jupyter.widget-view+json": {
       "model_id": "d31cb28b21ba41a4896c44f8db352edb",
       "version_major": 2,
       "version_minor": 0
      },
      "text/plain": [
       "Predicting: |                                                                                                 …"
      ]
     },
     "metadata": {},
     "output_type": "display_data"
    },
    {
     "name": "stdout",
     "output_type": "stream",
     "text": [
      "/data/estorrs/mushroom/data/projects/submission_v1/HT891Z1/registered/s47_HT891Z1-U114_he.tif\n"
     ]
    },
    {
     "name": "stderr",
     "output_type": "stream",
     "text": [
      "LOCAL_RANK: 0 - CUDA_VISIBLE_DEVICES: [0,1,2,3]\n"
     ]
    },
    {
     "data": {
      "application/vnd.jupyter.widget-view+json": {
       "model_id": "42a162315b0448dea6010bffa454a7e6",
       "version_major": 2,
       "version_minor": 0
      },
      "text/plain": [
       "Predicting: |                                                                                                 …"
      ]
     },
     "metadata": {},
     "output_type": "display_data"
    },
    {
     "name": "stdout",
     "output_type": "stream",
     "text": [
      "/data/estorrs/mushroom/data/projects/submission_v1/HT891Z1/registered/s48_HT891Z1-U115_he.tif\n"
     ]
    },
    {
     "name": "stderr",
     "output_type": "stream",
     "text": [
      "LOCAL_RANK: 0 - CUDA_VISIBLE_DEVICES: [0,1,2,3]\n"
     ]
    },
    {
     "data": {
      "application/vnd.jupyter.widget-view+json": {
       "model_id": "cc2663b5f85c4d50876713c3d70ac573",
       "version_major": 2,
       "version_minor": 0
      },
      "text/plain": [
       "Predicting: |                                                                                                 …"
      ]
     },
     "metadata": {},
     "output_type": "display_data"
    },
    {
     "name": "stdout",
     "output_type": "stream",
     "text": [
      "/data/estorrs/mushroom/data/projects/submission_v1/HT891Z1/registered/s49_HT891Z1-U116_he.tif\n"
     ]
    },
    {
     "name": "stderr",
     "output_type": "stream",
     "text": [
      "LOCAL_RANK: 0 - CUDA_VISIBLE_DEVICES: [0,1,2,3]\n"
     ]
    },
    {
     "data": {
      "application/vnd.jupyter.widget-view+json": {
       "model_id": "12149595fdf743728bf99e379b2e0248",
       "version_major": 2,
       "version_minor": 0
      },
      "text/plain": [
       "Predicting: |                                                                                                 …"
      ]
     },
     "metadata": {},
     "output_type": "display_data"
    }
   ],
   "source": [
    "stride = size // 2\n",
    "pred_transform = InferenceTransform(norm)\n",
    "tiled_preds, tiled_hes = [], []\n",
    "sids = [fp.split('/')[-1].replace(f'_{he_dtype}.tif', '') for fp in he_fps]\n",
    "for sid, fp in zip(sids, he_fps):\n",
    "    print(fp)\n",
    "    x = tifffile.imread(fp)\n",
    "    x = rearrange(x, 'h w c -> c h w')\n",
    "    xs = [utils.rescale(x, scale=1 / scale, dim_order='c h w', target_dtype=x.dtype)\n",
    "                 for scale in scales]\n",
    "    xs = [torch.tensor(x.astype(np.float32)) for x in xs]\n",
    "\n",
    "    ds = InferenceDataset(xs, scales, pred_transform, size=size, stride=stride)\n",
    "    dl = DataLoader(ds, batch_size=64, shuffle=False, num_workers=1)\n",
    "    outputs = trainer.predict(model, dl)\n",
    "    \n",
    "    tiled_pred, tiled_he = tile_predictions(dl, outputs, size, stride=stride)\n",
    "    x = tiled_pred.numpy() * rearrange(multiplex_maxs, 'n -> n 1 1')\n",
    "    x = x.astype(np.uint8)\n",
    "    \n",
    "    fp = output_dir / f'{sid}.ome.tif'\n",
    "    \n",
    "    multiplex.write_basic_ome_tiff(fp, x, target_channels)\n",
    "    \n",
    "#     tiled_preds.append(tiled_pred)\n",
    "#     tiled_hes.append(tiled_he)\n"
   ]
  },
  {
   "cell_type": "code",
   "execution_count": 42,
   "id": "47f2b32e",
   "metadata": {},
   "outputs": [],
   "source": [
    "# for tiled_pred, tiled_he in zip(tiled_preds, tiled_hes):\n",
    "#     fig, axs = plt.subplots(ncols=1 + len(target_channels))\n",
    "#     axs[0].imshow(to_he(tiled_he, norm=norm))\n",
    "#     for i in range(len(target_channels)):\n",
    "#         axs[i + 1].imshow(tiled_pred[i])\n",
    "    \n",
    "#     for ax in axs:\n",
    "#         ax.axis('off')\n",
    "#     plt.show()"
   ]
  },
  {
   "cell_type": "code",
   "execution_count": null,
   "id": "b619f0ee",
   "metadata": {},
   "outputs": [],
   "source": [
    "# he_fps[18]"
   ]
  },
  {
   "cell_type": "code",
   "execution_count": null,
   "id": "f631c055",
   "metadata": {},
   "outputs": [],
   "source": [
    "# val_he_fp"
   ]
  },
  {
   "cell_type": "code",
   "execution_count": null,
   "id": "e684d185",
   "metadata": {
    "scrolled": true
   },
   "outputs": [],
   "source": [
    "# r1, r2, c1, c2 = 1000, 3000, 500, 2500\n",
    "# idx = 18\n",
    "\n",
    "# def plot_tiles(idx, bbox):\n",
    "#     r1, r2, c1, c2 = bbox\n",
    "    \n",
    "#     nrows = len(target_channels)\n",
    "#     fig, axs = plt.subplots(nrows=nrows, ncols=3, figsize=(10, 3 * nrows))\n",
    "#     for i, c in enumerate(target_channels):\n",
    "#         axs[i, 0].imshow(tiled_preds[idx][i, r1:r2, c1:c2])\n",
    "#         axs[i, 1].imshow(val_multiplex[i, r1:r2, c1:c2])\n",
    "#         axs[i, 2].imshow(to_he(tiled_hes[idx][:, r1:r2, c1:c2], norm=norm))\n",
    "\n",
    "#         axs[i, 0].set_ylabel(c, rotation=90)\n",
    "\n",
    "#     axs[0, 0].set_title('predicted')\n",
    "#     axs[0, 1].set_title('true')\n",
    "#     axs[0, 2].set_title('he')\n",
    "\n",
    "#     for ax in axs.flatten():\n",
    "#         ax.set_xticks([])\n",
    "#         ax.set_yticks([])\n",
    "\n",
    "# plot_tiles(idx, (r1, r2, c1, c2))"
   ]
  },
  {
   "cell_type": "code",
   "execution_count": null,
   "id": "c65f3755",
   "metadata": {
    "scrolled": true
   },
   "outputs": [],
   "source": [
    "# r1, r2, c1, c2 = 3000, 5000, 500, 2500\n",
    "\n",
    "# plot_tiles(idx, (r1, r2, c1, c2))"
   ]
  },
  {
   "cell_type": "code",
   "execution_count": null,
   "id": "de9616a2",
   "metadata": {},
   "outputs": [],
   "source": [
    "# sids = [fp.split('/')[-1].replace('_he.tif', '') for fp in he_fps]\n",
    "# for sid, x in zip(sids, tiled_preds):\n",
    "#     print(sid)\n",
    "#     x = x.numpy()\n",
    "#     x *= rearrange(multiplex_maxs, 'n -> n 1 1')\n",
    "#     x = x.astype(np.uint8)\n",
    "    \n",
    "#     fp = output_dir / f'{sid}.ome.tif'\n",
    "    \n",
    "#     multiplex.write_basic_ome_tiff(fp, x, target_channels)\n",
    "    \n"
   ]
  },
  {
   "cell_type": "code",
   "execution_count": null,
   "id": "cc849bb1",
   "metadata": {},
   "outputs": [],
   "source": []
  },
  {
   "cell_type": "code",
   "execution_count": null,
   "id": "5c100abb",
   "metadata": {},
   "outputs": [],
   "source": []
  },
  {
   "cell_type": "code",
   "execution_count": null,
   "id": "0d3da982",
   "metadata": {},
   "outputs": [],
   "source": []
  }
 ],
 "metadata": {
  "kernelspec": {
   "display_name": "Python 3 (ipykernel)",
   "language": "python",
   "name": "python3"
  },
  "language_info": {
   "codemirror_mode": {
    "name": "ipython",
    "version": 3
   },
   "file_extension": ".py",
   "mimetype": "text/x-python",
   "name": "python",
   "nbconvert_exporter": "python",
   "pygments_lexer": "ipython3",
   "version": "3.10.13"
  }
 },
 "nbformat": 4,
 "nbformat_minor": 5
}
