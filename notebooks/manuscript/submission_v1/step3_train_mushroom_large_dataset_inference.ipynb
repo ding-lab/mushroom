{
 "cells": [
  {
   "cell_type": "code",
   "execution_count": 1,
   "id": "5e6a3f24",
   "metadata": {},
   "outputs": [],
   "source": [
    "import json\n",
    "import os\n",
    "import sys\n",
    "from copy import deepcopy\n",
    "from pathlib import Path\n",
    "\n",
    "import matplotlib.pyplot as plt\n",
    "import numpy as np\n",
    "import skimage\n",
    "import tifffile\n",
    "import yaml"
   ]
  },
  {
   "cell_type": "code",
   "execution_count": 2,
   "id": "c13f0768",
   "metadata": {},
   "outputs": [],
   "source": [
    "import matplotlib as mpl\n",
    "mpl.rcParams['pdf.fonttype'] = 42"
   ]
  },
  {
   "cell_type": "code",
   "execution_count": 3,
   "id": "7e4ab32f",
   "metadata": {},
   "outputs": [],
   "source": [
    "%load_ext autoreload"
   ]
  },
  {
   "cell_type": "code",
   "execution_count": 4,
   "id": "70fa2851",
   "metadata": {},
   "outputs": [],
   "source": [
    "%autoreload 2"
   ]
  },
  {
   "cell_type": "code",
   "execution_count": 5,
   "id": "ad713538",
   "metadata": {},
   "outputs": [],
   "source": [
    "from mushroom.mushroom import Mushroom, DEFAULT_CONFIG\n",
    "import mushroom.utils as utils\n",
    "import mushroom.visualization.utils as vis_utils"
   ]
  },
  {
   "cell_type": "code",
   "execution_count": 6,
   "id": "29ec9025",
   "metadata": {},
   "outputs": [],
   "source": [
    "# source_root = '/diskmnt/Projects/Users/estorrs/mushroom/data'\n",
    "# target_root = '/data/estorrs/mushroom/data'\n",
    "\n",
    "source_root = '/data/estorrs/mushroom/data'\n",
    "target_root = '/diskmnt/Projects/Users/estorrs/mushroom/data'"
   ]
  },
  {
   "cell_type": "code",
   "execution_count": 7,
   "id": "9c548776",
   "metadata": {},
   "outputs": [],
   "source": [
    "run_dir = '/diskmnt/Projects/Users/estorrs/mushroom/data/projects/submission_v1'"
   ]
  },
  {
   "cell_type": "code",
   "execution_count": 8,
   "id": "8295d20e",
   "metadata": {},
   "outputs": [],
   "source": [
    "def alter_filesystem(config, source_root, target_root):\n",
    "    for entry in config['sections']:\n",
    "        for mapping in entry['data']:\n",
    "            mapping['filepath'] = mapping['filepath'].replace(source_root, target_root)\n",
    "    \n",
    "    kwargs = config['trainer_kwargs']\n",
    "    if kwargs['data_mask'] is not None:\n",
    "        kwargs['data_mask'] = kwargs['data_mask'].replace(source_root, target_root)\n",
    "    if kwargs['out_dir'] is not None:\n",
    "        kwargs['out_dir'] = kwargs['out_dir'].replace(source_root, target_root)\n",
    "    \n",
    "    \n",
    "        \n",
    "    return config"
   ]
  },
  {
   "cell_type": "markdown",
   "id": "8d4b43ae",
   "metadata": {},
   "source": [
    "## define inputs"
   ]
  },
  {
   "cell_type": "markdown",
   "id": "fa271138",
   "metadata": {},
   "source": [
    "###### WD-76845"
   ]
  },
  {
   "cell_type": "code",
   "execution_count": 9,
   "id": "e76c6438",
   "metadata": {},
   "outputs": [
    {
     "data": {
      "text/plain": [
       "{'resolution': 0.6499999761581421,\n",
       " 'sections': [{'data': [{'dtype': 'he',\n",
       "     'filepath': '/diskmnt/Projects/Users/estorrs/mushroom/data/projects/submission_v1/WD-76845/registered/s0_WD-76845-U1_he.tif'}],\n",
       "   'position': 5,\n",
       "   'sid': 'WD-76845-U1'},\n",
       "  {'data': [{'dtype': 'multiplex',\n",
       "     'filepath': '/diskmnt/Projects/Users/estorrs/mushroom/data/projects/submission_v1/WD-76845/registered/s1_WD-76845-U2_multiplex.ome.tiff'}],\n",
       "   'position': 10,\n",
       "   'sid': 'WD-76845-U2'},\n",
       "  {'data': [{'dtype': 'he',\n",
       "     'filepath': '/diskmnt/Projects/Users/estorrs/mushroom/data/projects/submission_v1/WD-76845/registered/s2_WD-76845-U6_he.tif'}],\n",
       "   'position': 30,\n",
       "   'sid': 'WD-76845-U6'},\n",
       "  {'data': [{'dtype': 'multiplex',\n",
       "     'filepath': '/diskmnt/Projects/Users/estorrs/mushroom/data/projects/submission_v1/WD-76845/registered/s3_WD-76845-U7_multiplex.ome.tiff'}],\n",
       "   'position': 35,\n",
       "   'sid': 'WD-76845-U7'},\n",
       "  {'data': [{'dtype': 'he',\n",
       "     'filepath': '/diskmnt/Projects/Users/estorrs/mushroom/data/projects/submission_v1/WD-76845/registered/s4_WD-76845-U13_he.tif'}],\n",
       "   'position': 65,\n",
       "   'sid': 'WD-76845-U13'},\n",
       "  {'data': [{'dtype': 'multiplex',\n",
       "     'filepath': '/diskmnt/Projects/Users/estorrs/mushroom/data/projects/submission_v1/WD-76845/registered/s5_WD-76845-U14_multiplex.ome.tiff'}],\n",
       "   'position': 70,\n",
       "   'sid': 'WD-76845-U14'},\n",
       "  {'data': [{'dtype': 'he',\n",
       "     'filepath': '/diskmnt/Projects/Users/estorrs/mushroom/data/projects/submission_v1/WD-76845/registered/s6_WD-76845-U19_he.tif'}],\n",
       "   'position': 95,\n",
       "   'sid': 'WD-76845-U19'},\n",
       "  {'data': [{'dtype': 'multiplex',\n",
       "     'filepath': '/diskmnt/Projects/Users/estorrs/mushroom/data/projects/submission_v1/WD-76845/registered/s7_WD-76845-U20_multiplex.ome.tiff'}],\n",
       "   'position': 100,\n",
       "   'sid': 'WD-76845-U20'},\n",
       "  {'data': [{'dtype': 'he',\n",
       "     'filepath': '/diskmnt/Projects/Users/estorrs/mushroom/data/projects/submission_v1/WD-76845/registered/s8_WD-76845-U24_he.tif'}],\n",
       "   'position': 120,\n",
       "   'sid': 'WD-76845-U24'},\n",
       "  {'data': [{'dtype': 'multiplex',\n",
       "     'filepath': '/diskmnt/Projects/Users/estorrs/mushroom/data/projects/submission_v1/WD-76845/registered/s9_WD-76845-U25_multiplex.ome.tiff'}],\n",
       "   'position': 125,\n",
       "   'sid': 'WD-76845-U25'},\n",
       "  {'data': [{'dtype': 'he',\n",
       "     'filepath': '/diskmnt/Projects/Users/estorrs/mushroom/data/projects/submission_v1/WD-76845/registered/s10_WD-76845-U28_he.tif'}],\n",
       "   'position': 140,\n",
       "   'sid': 'WD-76845-U28'},\n",
       "  {'data': [{'dtype': 'multiplex',\n",
       "     'filepath': '/diskmnt/Projects/Users/estorrs/mushroom/data/projects/submission_v1/WD-76845/registered/s11_WD-76845-U29_multiplex.ome.tiff'}],\n",
       "   'position': 145,\n",
       "   'sid': 'WD-76845-U29'},\n",
       "  {'data': [{'dtype': 'he',\n",
       "     'filepath': '/diskmnt/Projects/Users/estorrs/mushroom/data/projects/submission_v1/WD-76845/registered/s12_WD-76845-U33_he.tif'}],\n",
       "   'position': 165,\n",
       "   'sid': 'WD-76845-U33'},\n",
       "  {'data': [{'dtype': 'multiplex',\n",
       "     'filepath': '/diskmnt/Projects/Users/estorrs/mushroom/data/projects/submission_v1/WD-76845/registered/s13_WD-76845-U34_multiplex.ome.tiff'}],\n",
       "   'position': 170,\n",
       "   'sid': 'WD-76845-U34'},\n",
       "  {'data': [{'dtype': 'he',\n",
       "     'filepath': '/diskmnt/Projects/Users/estorrs/mushroom/data/projects/submission_v1/WD-76845/registered/s14_WD-76845-U38_he.tif'}],\n",
       "   'position': 190,\n",
       "   'sid': 'WD-76845-U38'},\n",
       "  {'data': [{'dtype': 'multiplex',\n",
       "     'filepath': '/diskmnt/Projects/Users/estorrs/mushroom/data/projects/submission_v1/WD-76845/registered/s15_WD-76845-U39_multiplex.ome.tiff'}],\n",
       "   'position': 195,\n",
       "   'sid': 'WD-76845-U39'},\n",
       "  {'data': [{'dtype': 'he',\n",
       "     'filepath': '/diskmnt/Projects/Users/estorrs/mushroom/data/projects/submission_v1/WD-76845/registered/s16_WD-76845-U43_he.tif'}],\n",
       "   'position': 215,\n",
       "   'sid': 'WD-76845-U43'},\n",
       "  {'data': [{'dtype': 'multiplex',\n",
       "     'filepath': '/diskmnt/Projects/Users/estorrs/mushroom/data/projects/submission_v1/WD-76845/registered/s17_WD-76845-U44_multiplex.ome.tiff'}],\n",
       "   'position': 220,\n",
       "   'sid': 'WD-76845-U44'},\n",
       "  {'data': [{'dtype': 'he',\n",
       "     'filepath': '/diskmnt/Projects/Users/estorrs/mushroom/data/projects/submission_v1/WD-76845/registered/s18_WD-76845-U48_he.tif'}],\n",
       "   'position': 240,\n",
       "   'sid': 'WD-76845-U48'},\n",
       "  {'data': [{'dtype': 'multiplex',\n",
       "     'filepath': '/diskmnt/Projects/Users/estorrs/mushroom/data/projects/submission_v1/WD-76845/registered/s19_WD-76845-U49_multiplex.ome.tiff'}],\n",
       "   'position': 245,\n",
       "   'sid': 'WD-76845-U49'},\n",
       "  {'data': [{'dtype': 'multiplex',\n",
       "     'filepath': '/diskmnt/Projects/Users/estorrs/mushroom/data/projects/submission_v1/WD-76845/registered/s20_WD-76845-U50_multiplex.ome.tiff'}],\n",
       "   'position': 250,\n",
       "   'sid': 'WD-76845-U50'},\n",
       "  {'data': [{'dtype': 'multiplex',\n",
       "     'filepath': '/diskmnt/Projects/Users/estorrs/mushroom/data/projects/submission_v1/WD-76845/registered/s21_WD-76845-U51_multiplex.ome.tiff'}],\n",
       "   'position': 255,\n",
       "   'sid': 'WD-76845-U51'},\n",
       "  {'data': [{'dtype': 'multiplex',\n",
       "     'filepath': '/diskmnt/Projects/Users/estorrs/mushroom/data/projects/submission_v1/WD-76845/registered/s22_WD-76845-U52_multiplex.ome.tiff'}],\n",
       "   'position': 260,\n",
       "   'sid': 'WD-76845-U52'},\n",
       "  {'data': [{'dtype': 'he',\n",
       "     'filepath': '/diskmnt/Projects/Users/estorrs/mushroom/data/projects/submission_v1/WD-76845/registered/s23_WD-76845-U53_he.tif'}],\n",
       "   'position': 265,\n",
       "   'sid': 'WD-76845-U53'},\n",
       "  {'data': [{'dtype': 'multiplex',\n",
       "     'filepath': '/diskmnt/Projects/Users/estorrs/mushroom/data/projects/submission_v1/WD-76845/registered/s24_WD-76845-U54_multiplex.ome.tiff'}],\n",
       "   'position': 270,\n",
       "   'sid': 'WD-76845-U54'},\n",
       "  {'data': [{'dtype': 'he',\n",
       "     'filepath': '/diskmnt/Projects/Users/estorrs/mushroom/data/projects/submission_v1/WD-76845/registered/s25_WD-76845-U58_he.tif'}],\n",
       "   'position': 290,\n",
       "   'sid': 'WD-76845-U58'},\n",
       "  {'data': [{'dtype': 'multiplex',\n",
       "     'filepath': '/diskmnt/Projects/Users/estorrs/mushroom/data/projects/submission_v1/WD-76845/registered/s26_WD-76845-U59_multiplex.ome.tiff'}],\n",
       "   'position': 295,\n",
       "   'sid': 'WD-76845-U59'},\n",
       "  {'data': [{'dtype': 'he',\n",
       "     'filepath': '/diskmnt/Projects/Users/estorrs/mushroom/data/projects/submission_v1/WD-76845/registered/s27_WD-76845-U63_he.tif'}],\n",
       "   'position': 315,\n",
       "   'sid': 'WD-76845-U63'},\n",
       "  {'data': [{'dtype': 'multiplex',\n",
       "     'filepath': '/diskmnt/Projects/Users/estorrs/mushroom/data/projects/submission_v1/WD-76845/registered/s28_WD-76845-U64_multiplex.ome.tiff'}],\n",
       "   'position': 320,\n",
       "   'sid': 'WD-76845-U64'},\n",
       "  {'data': [{'dtype': 'he',\n",
       "     'filepath': '/diskmnt/Projects/Users/estorrs/mushroom/data/projects/submission_v1/WD-76845/registered/s29_WD-76845-U68_he.tif'}],\n",
       "   'position': 340,\n",
       "   'sid': 'WD-76845-U68'},\n",
       "  {'data': [{'dtype': 'multiplex',\n",
       "     'filepath': '/diskmnt/Projects/Users/estorrs/mushroom/data/projects/submission_v1/WD-76845/registered/s30_WD-76845-U69_multiplex.ome.tiff'}],\n",
       "   'position': 345,\n",
       "   'sid': 'WD-76845-U69'},\n",
       "  {'data': [{'dtype': 'he',\n",
       "     'filepath': '/diskmnt/Projects/Users/estorrs/mushroom/data/projects/submission_v1/WD-76845/registered/s31_WD-76845-U73_he.tif'}],\n",
       "   'position': 365,\n",
       "   'sid': 'WD-76845-U73'},\n",
       "  {'data': [{'dtype': 'multiplex',\n",
       "     'filepath': '/diskmnt/Projects/Users/estorrs/mushroom/data/projects/submission_v1/WD-76845/registered/s32_WD-76845-U74_multiplex.ome.tiff'}],\n",
       "   'position': 370,\n",
       "   'sid': 'WD-76845-U74'},\n",
       "  {'data': [{'dtype': 'he',\n",
       "     'filepath': '/diskmnt/Projects/Users/estorrs/mushroom/data/projects/submission_v1/WD-76845/registered/s33_WD-76845-U77_he.tif'}],\n",
       "   'position': 385,\n",
       "   'sid': 'WD-76845-U77'},\n",
       "  {'data': [{'dtype': 'multiplex',\n",
       "     'filepath': '/diskmnt/Projects/Users/estorrs/mushroom/data/projects/submission_v1/WD-76845/registered/s34_WD-76845-U78_multiplex.ome.tiff'}],\n",
       "   'position': 390,\n",
       "   'sid': 'WD-76845-U78'},\n",
       "  {'data': [{'dtype': 'he',\n",
       "     'filepath': '/diskmnt/Projects/Users/estorrs/mushroom/data/projects/submission_v1/WD-76845/registered/s35_WD-76845-U83_he.tif'}],\n",
       "   'position': 415,\n",
       "   'sid': 'WD-76845-U83'},\n",
       "  {'data': [{'dtype': 'multiplex',\n",
       "     'filepath': '/diskmnt/Projects/Users/estorrs/mushroom/data/projects/submission_v1/WD-76845/registered/s36_WD-76845-U84_multiplex.ome.tiff'}],\n",
       "   'position': 420,\n",
       "   'sid': 'WD-76845-U84'},\n",
       "  {'data': [{'dtype': 'he',\n",
       "     'filepath': '/diskmnt/Projects/Users/estorrs/mushroom/data/projects/submission_v1/WD-76845/registered/s37_WD-76845-U85_he.tif'}],\n",
       "   'position': 425,\n",
       "   'sid': 'WD-76845-U85'},\n",
       "  {'data': [{'dtype': 'multiplex',\n",
       "     'filepath': '/diskmnt/Projects/Users/estorrs/mushroom/data/projects/submission_v1/WD-76845/registered/s38_WD-76845-U86_multiplex.ome.tiff'}],\n",
       "   'position': 430,\n",
       "   'sid': 'WD-76845-U86'},\n",
       "  {'data': [{'dtype': 'he',\n",
       "     'filepath': '/diskmnt/Projects/Users/estorrs/mushroom/data/projects/submission_v1/WD-76845/registered/s39_WD-76845-U90_he.tif'}],\n",
       "   'position': 450,\n",
       "   'sid': 'WD-76845-U90'},\n",
       "  {'data': [{'dtype': 'multiplex',\n",
       "     'filepath': '/diskmnt/Projects/Users/estorrs/mushroom/data/projects/submission_v1/WD-76845/registered/s40_WD-76845-U91_multiplex.ome.tiff'}],\n",
       "   'position': 455,\n",
       "   'sid': 'WD-76845-U91'},\n",
       "  {'data': [{'dtype': 'he',\n",
       "     'filepath': '/diskmnt/Projects/Users/estorrs/mushroom/data/projects/submission_v1/WD-76845/registered/s41_WD-76845-U96_he.tif'}],\n",
       "   'position': 480,\n",
       "   'sid': 'WD-76845-U96'},\n",
       "  {'data': [{'dtype': 'multiplex',\n",
       "     'filepath': '/diskmnt/Projects/Users/estorrs/mushroom/data/projects/submission_v1/WD-76845/registered/s42_WD-76845-U97_multiplex.ome.tiff'}],\n",
       "   'position': 485,\n",
       "   'sid': 'WD-76845-U97'},\n",
       "  {'data': [{'dtype': 'he',\n",
       "     'filepath': '/diskmnt/Projects/Users/estorrs/mushroom/data/projects/submission_v1/WD-76845/registered/s43_WD-76845-U101_he.tif'}],\n",
       "   'position': 505,\n",
       "   'sid': 'WD-76845-U101'},\n",
       "  {'data': [{'dtype': 'multiplex',\n",
       "     'filepath': '/diskmnt/Projects/Users/estorrs/mushroom/data/projects/submission_v1/WD-76845/registered/s44_WD-76845-U102_multiplex.ome.tiff'}],\n",
       "   'position': 510,\n",
       "   'sid': 'WD-76845-U102'},\n",
       "  {'data': [{'dtype': 'he',\n",
       "     'filepath': '/diskmnt/Projects/Users/estorrs/mushroom/data/projects/submission_v1/WD-76845/registered/s45_WD-76845-U105_he.tif'}],\n",
       "   'position': 525,\n",
       "   'sid': 'WD-76845-U105'},\n",
       "  {'data': [{'dtype': 'multiplex',\n",
       "     'filepath': '/diskmnt/Projects/Users/estorrs/mushroom/data/projects/submission_v1/WD-76845/registered/s46_WD-76845-U106_multiplex.ome.tiff'}],\n",
       "   'position': 530,\n",
       "   'sid': 'WD-76845-U106'}],\n",
       " 'target_sid': 'WD-76845-U2'}"
      ]
     },
     "execution_count": 9,
     "metadata": {},
     "output_type": "execute_result"
    }
   ],
   "source": [
    "case = 'WD-76845'\n",
    "metadata = yaml.safe_load(open(os.path.join(run_dir, case, 'registered', 'metadata.yaml')))\n",
    "\n",
    "z_scaler = .2\n",
    "cluster_resolutions = [1., 1.25, 1.5]\n",
    "dtype_to_weight = None\n",
    "\n",
    "metadata"
   ]
  },
  {
   "cell_type": "code",
   "execution_count": 10,
   "id": "d893bbb2",
   "metadata": {},
   "outputs": [
    {
     "data": {
      "text/plain": [
       "{'dtype_specific_params': {'visium': {'trainer_kwargs': {'target_resolution': 0.01,\n",
       "    'tiling_method': 'radius'}}},\n",
       " 'dtype_to_chkpt': None,\n",
       " 'sae_kwargs': {'codebook_dim': 64,\n",
       "  'dtype_to_decoder_dims': {'cosmx': [256, 512, 1024],\n",
       "   'he': [256, 128, 10],\n",
       "   'multiplex': [256, 128, 64],\n",
       "   'points': [256, 512, 1024],\n",
       "   'visium': [256, 512, 2048],\n",
       "   'xenium': [256, 256, 256]},\n",
       "  'encoder_dim': 128,\n",
       "  'neigh_scaler': 0.01,\n",
       "  'num_clusters': [8, 4, 2],\n",
       "  'patch_size': 1,\n",
       "  'recon_scaler': 1.0,\n",
       "  'size': 8},\n",
       " 'sections': [{'data': [{'dtype': 'he',\n",
       "     'filepath': '/diskmnt/Projects/Users/estorrs/mushroom/data/projects/submission_v1/WD-76845/registered/s0_WD-76845-U1_he.tif'}],\n",
       "   'position': 5,\n",
       "   'sid': 'WD-76845-U1'},\n",
       "  {'data': [{'dtype': 'multiplex',\n",
       "     'filepath': '/diskmnt/Projects/Users/estorrs/mushroom/data/projects/submission_v1/WD-76845/registered/s1_WD-76845-U2_multiplex.ome.tiff'}],\n",
       "   'position': 10,\n",
       "   'sid': 'WD-76845-U2'},\n",
       "  {'data': [{'dtype': 'he',\n",
       "     'filepath': '/diskmnt/Projects/Users/estorrs/mushroom/data/projects/submission_v1/WD-76845/registered/s2_WD-76845-U6_he.tif'}],\n",
       "   'position': 30,\n",
       "   'sid': 'WD-76845-U6'},\n",
       "  {'data': [{'dtype': 'multiplex',\n",
       "     'filepath': '/diskmnt/Projects/Users/estorrs/mushroom/data/projects/submission_v1/WD-76845/registered/s3_WD-76845-U7_multiplex.ome.tiff'}],\n",
       "   'position': 35,\n",
       "   'sid': 'WD-76845-U7'},\n",
       "  {'data': [{'dtype': 'he',\n",
       "     'filepath': '/diskmnt/Projects/Users/estorrs/mushroom/data/projects/submission_v1/WD-76845/registered/s4_WD-76845-U13_he.tif'}],\n",
       "   'position': 65,\n",
       "   'sid': 'WD-76845-U13'},\n",
       "  {'data': [{'dtype': 'multiplex',\n",
       "     'filepath': '/diskmnt/Projects/Users/estorrs/mushroom/data/projects/submission_v1/WD-76845/registered/s5_WD-76845-U14_multiplex.ome.tiff'}],\n",
       "   'position': 70,\n",
       "   'sid': 'WD-76845-U14'},\n",
       "  {'data': [{'dtype': 'he',\n",
       "     'filepath': '/diskmnt/Projects/Users/estorrs/mushroom/data/projects/submission_v1/WD-76845/registered/s6_WD-76845-U19_he.tif'}],\n",
       "   'position': 95,\n",
       "   'sid': 'WD-76845-U19'},\n",
       "  {'data': [{'dtype': 'multiplex',\n",
       "     'filepath': '/diskmnt/Projects/Users/estorrs/mushroom/data/projects/submission_v1/WD-76845/registered/s7_WD-76845-U20_multiplex.ome.tiff'}],\n",
       "   'position': 100,\n",
       "   'sid': 'WD-76845-U20'},\n",
       "  {'data': [{'dtype': 'he',\n",
       "     'filepath': '/diskmnt/Projects/Users/estorrs/mushroom/data/projects/submission_v1/WD-76845/registered/s8_WD-76845-U24_he.tif'}],\n",
       "   'position': 120,\n",
       "   'sid': 'WD-76845-U24'},\n",
       "  {'data': [{'dtype': 'multiplex',\n",
       "     'filepath': '/diskmnt/Projects/Users/estorrs/mushroom/data/projects/submission_v1/WD-76845/registered/s9_WD-76845-U25_multiplex.ome.tiff'}],\n",
       "   'position': 125,\n",
       "   'sid': 'WD-76845-U25'},\n",
       "  {'data': [{'dtype': 'he',\n",
       "     'filepath': '/diskmnt/Projects/Users/estorrs/mushroom/data/projects/submission_v1/WD-76845/registered/s10_WD-76845-U28_he.tif'}],\n",
       "   'position': 140,\n",
       "   'sid': 'WD-76845-U28'},\n",
       "  {'data': [{'dtype': 'multiplex',\n",
       "     'filepath': '/diskmnt/Projects/Users/estorrs/mushroom/data/projects/submission_v1/WD-76845/registered/s11_WD-76845-U29_multiplex.ome.tiff'}],\n",
       "   'position': 145,\n",
       "   'sid': 'WD-76845-U29'},\n",
       "  {'data': [{'dtype': 'he',\n",
       "     'filepath': '/diskmnt/Projects/Users/estorrs/mushroom/data/projects/submission_v1/WD-76845/registered/s12_WD-76845-U33_he.tif'}],\n",
       "   'position': 165,\n",
       "   'sid': 'WD-76845-U33'},\n",
       "  {'data': [{'dtype': 'multiplex',\n",
       "     'filepath': '/diskmnt/Projects/Users/estorrs/mushroom/data/projects/submission_v1/WD-76845/registered/s13_WD-76845-U34_multiplex.ome.tiff'}],\n",
       "   'position': 170,\n",
       "   'sid': 'WD-76845-U34'},\n",
       "  {'data': [{'dtype': 'he',\n",
       "     'filepath': '/diskmnt/Projects/Users/estorrs/mushroom/data/projects/submission_v1/WD-76845/registered/s14_WD-76845-U38_he.tif'}],\n",
       "   'position': 190,\n",
       "   'sid': 'WD-76845-U38'},\n",
       "  {'data': [{'dtype': 'multiplex',\n",
       "     'filepath': '/diskmnt/Projects/Users/estorrs/mushroom/data/projects/submission_v1/WD-76845/registered/s15_WD-76845-U39_multiplex.ome.tiff'}],\n",
       "   'position': 195,\n",
       "   'sid': 'WD-76845-U39'},\n",
       "  {'data': [{'dtype': 'he',\n",
       "     'filepath': '/diskmnt/Projects/Users/estorrs/mushroom/data/projects/submission_v1/WD-76845/registered/s16_WD-76845-U43_he.tif'}],\n",
       "   'position': 215,\n",
       "   'sid': 'WD-76845-U43'},\n",
       "  {'data': [{'dtype': 'multiplex',\n",
       "     'filepath': '/diskmnt/Projects/Users/estorrs/mushroom/data/projects/submission_v1/WD-76845/registered/s17_WD-76845-U44_multiplex.ome.tiff'}],\n",
       "   'position': 220,\n",
       "   'sid': 'WD-76845-U44'},\n",
       "  {'data': [{'dtype': 'he',\n",
       "     'filepath': '/diskmnt/Projects/Users/estorrs/mushroom/data/projects/submission_v1/WD-76845/registered/s18_WD-76845-U48_he.tif'}],\n",
       "   'position': 240,\n",
       "   'sid': 'WD-76845-U48'},\n",
       "  {'data': [{'dtype': 'multiplex',\n",
       "     'filepath': '/diskmnt/Projects/Users/estorrs/mushroom/data/projects/submission_v1/WD-76845/registered/s19_WD-76845-U49_multiplex.ome.tiff'}],\n",
       "   'position': 245,\n",
       "   'sid': 'WD-76845-U49'},\n",
       "  {'data': [{'dtype': 'multiplex',\n",
       "     'filepath': '/diskmnt/Projects/Users/estorrs/mushroom/data/projects/submission_v1/WD-76845/registered/s20_WD-76845-U50_multiplex.ome.tiff'}],\n",
       "   'position': 250,\n",
       "   'sid': 'WD-76845-U50'},\n",
       "  {'data': [{'dtype': 'multiplex',\n",
       "     'filepath': '/diskmnt/Projects/Users/estorrs/mushroom/data/projects/submission_v1/WD-76845/registered/s21_WD-76845-U51_multiplex.ome.tiff'}],\n",
       "   'position': 255,\n",
       "   'sid': 'WD-76845-U51'},\n",
       "  {'data': [{'dtype': 'multiplex',\n",
       "     'filepath': '/diskmnt/Projects/Users/estorrs/mushroom/data/projects/submission_v1/WD-76845/registered/s22_WD-76845-U52_multiplex.ome.tiff'}],\n",
       "   'position': 260,\n",
       "   'sid': 'WD-76845-U52'},\n",
       "  {'data': [{'dtype': 'he',\n",
       "     'filepath': '/diskmnt/Projects/Users/estorrs/mushroom/data/projects/submission_v1/WD-76845/registered/s23_WD-76845-U53_he.tif'}],\n",
       "   'position': 265,\n",
       "   'sid': 'WD-76845-U53'},\n",
       "  {'data': [{'dtype': 'multiplex',\n",
       "     'filepath': '/diskmnt/Projects/Users/estorrs/mushroom/data/projects/submission_v1/WD-76845/registered/s24_WD-76845-U54_multiplex.ome.tiff'}],\n",
       "   'position': 270,\n",
       "   'sid': 'WD-76845-U54'},\n",
       "  {'data': [{'dtype': 'he',\n",
       "     'filepath': '/diskmnt/Projects/Users/estorrs/mushroom/data/projects/submission_v1/WD-76845/registered/s25_WD-76845-U58_he.tif'}],\n",
       "   'position': 290,\n",
       "   'sid': 'WD-76845-U58'},\n",
       "  {'data': [{'dtype': 'multiplex',\n",
       "     'filepath': '/diskmnt/Projects/Users/estorrs/mushroom/data/projects/submission_v1/WD-76845/registered/s26_WD-76845-U59_multiplex.ome.tiff'}],\n",
       "   'position': 295,\n",
       "   'sid': 'WD-76845-U59'},\n",
       "  {'data': [{'dtype': 'he',\n",
       "     'filepath': '/diskmnt/Projects/Users/estorrs/mushroom/data/projects/submission_v1/WD-76845/registered/s27_WD-76845-U63_he.tif'}],\n",
       "   'position': 315,\n",
       "   'sid': 'WD-76845-U63'},\n",
       "  {'data': [{'dtype': 'multiplex',\n",
       "     'filepath': '/diskmnt/Projects/Users/estorrs/mushroom/data/projects/submission_v1/WD-76845/registered/s28_WD-76845-U64_multiplex.ome.tiff'}],\n",
       "   'position': 320,\n",
       "   'sid': 'WD-76845-U64'},\n",
       "  {'data': [{'dtype': 'he',\n",
       "     'filepath': '/diskmnt/Projects/Users/estorrs/mushroom/data/projects/submission_v1/WD-76845/registered/s29_WD-76845-U68_he.tif'}],\n",
       "   'position': 340,\n",
       "   'sid': 'WD-76845-U68'},\n",
       "  {'data': [{'dtype': 'multiplex',\n",
       "     'filepath': '/diskmnt/Projects/Users/estorrs/mushroom/data/projects/submission_v1/WD-76845/registered/s30_WD-76845-U69_multiplex.ome.tiff'}],\n",
       "   'position': 345,\n",
       "   'sid': 'WD-76845-U69'},\n",
       "  {'data': [{'dtype': 'he',\n",
       "     'filepath': '/diskmnt/Projects/Users/estorrs/mushroom/data/projects/submission_v1/WD-76845/registered/s31_WD-76845-U73_he.tif'}],\n",
       "   'position': 365,\n",
       "   'sid': 'WD-76845-U73'},\n",
       "  {'data': [{'dtype': 'multiplex',\n",
       "     'filepath': '/diskmnt/Projects/Users/estorrs/mushroom/data/projects/submission_v1/WD-76845/registered/s32_WD-76845-U74_multiplex.ome.tiff'}],\n",
       "   'position': 370,\n",
       "   'sid': 'WD-76845-U74'},\n",
       "  {'data': [{'dtype': 'he',\n",
       "     'filepath': '/diskmnt/Projects/Users/estorrs/mushroom/data/projects/submission_v1/WD-76845/registered/s33_WD-76845-U77_he.tif'}],\n",
       "   'position': 385,\n",
       "   'sid': 'WD-76845-U77'},\n",
       "  {'data': [{'dtype': 'multiplex',\n",
       "     'filepath': '/diskmnt/Projects/Users/estorrs/mushroom/data/projects/submission_v1/WD-76845/registered/s34_WD-76845-U78_multiplex.ome.tiff'}],\n",
       "   'position': 390,\n",
       "   'sid': 'WD-76845-U78'},\n",
       "  {'data': [{'dtype': 'he',\n",
       "     'filepath': '/diskmnt/Projects/Users/estorrs/mushroom/data/projects/submission_v1/WD-76845/registered/s35_WD-76845-U83_he.tif'}],\n",
       "   'position': 415,\n",
       "   'sid': 'WD-76845-U83'},\n",
       "  {'data': [{'dtype': 'multiplex',\n",
       "     'filepath': '/diskmnt/Projects/Users/estorrs/mushroom/data/projects/submission_v1/WD-76845/registered/s36_WD-76845-U84_multiplex.ome.tiff'}],\n",
       "   'position': 420,\n",
       "   'sid': 'WD-76845-U84'},\n",
       "  {'data': [{'dtype': 'he',\n",
       "     'filepath': '/diskmnt/Projects/Users/estorrs/mushroom/data/projects/submission_v1/WD-76845/registered/s37_WD-76845-U85_he.tif'}],\n",
       "   'position': 425,\n",
       "   'sid': 'WD-76845-U85'},\n",
       "  {'data': [{'dtype': 'multiplex',\n",
       "     'filepath': '/diskmnt/Projects/Users/estorrs/mushroom/data/projects/submission_v1/WD-76845/registered/s38_WD-76845-U86_multiplex.ome.tiff'}],\n",
       "   'position': 430,\n",
       "   'sid': 'WD-76845-U86'},\n",
       "  {'data': [{'dtype': 'he',\n",
       "     'filepath': '/diskmnt/Projects/Users/estorrs/mushroom/data/projects/submission_v1/WD-76845/registered/s39_WD-76845-U90_he.tif'}],\n",
       "   'position': 450,\n",
       "   'sid': 'WD-76845-U90'},\n",
       "  {'data': [{'dtype': 'multiplex',\n",
       "     'filepath': '/diskmnt/Projects/Users/estorrs/mushroom/data/projects/submission_v1/WD-76845/registered/s40_WD-76845-U91_multiplex.ome.tiff'}],\n",
       "   'position': 455,\n",
       "   'sid': 'WD-76845-U91'},\n",
       "  {'data': [{'dtype': 'he',\n",
       "     'filepath': '/diskmnt/Projects/Users/estorrs/mushroom/data/projects/submission_v1/WD-76845/registered/s41_WD-76845-U96_he.tif'}],\n",
       "   'position': 480,\n",
       "   'sid': 'WD-76845-U96'},\n",
       "  {'data': [{'dtype': 'multiplex',\n",
       "     'filepath': '/diskmnt/Projects/Users/estorrs/mushroom/data/projects/submission_v1/WD-76845/registered/s42_WD-76845-U97_multiplex.ome.tiff'}],\n",
       "   'position': 485,\n",
       "   'sid': 'WD-76845-U97'},\n",
       "  {'data': [{'dtype': 'he',\n",
       "     'filepath': '/diskmnt/Projects/Users/estorrs/mushroom/data/projects/submission_v1/WD-76845/registered/s43_WD-76845-U101_he.tif'}],\n",
       "   'position': 505,\n",
       "   'sid': 'WD-76845-U101'},\n",
       "  {'data': [{'dtype': 'multiplex',\n",
       "     'filepath': '/diskmnt/Projects/Users/estorrs/mushroom/data/projects/submission_v1/WD-76845/registered/s44_WD-76845-U102_multiplex.ome.tiff'}],\n",
       "   'position': 510,\n",
       "   'sid': 'WD-76845-U102'},\n",
       "  {'data': [{'dtype': 'he',\n",
       "     'filepath': '/diskmnt/Projects/Users/estorrs/mushroom/data/projects/submission_v1/WD-76845/registered/s45_WD-76845-U105_he.tif'}],\n",
       "   'position': 525,\n",
       "   'sid': 'WD-76845-U105'},\n",
       "  {'data': [{'dtype': 'multiplex',\n",
       "     'filepath': '/diskmnt/Projects/Users/estorrs/mushroom/data/projects/submission_v1/WD-76845/registered/s46_WD-76845-U106_multiplex.ome.tiff'}],\n",
       "   'position': 530,\n",
       "   'sid': 'WD-76845-U106'}],\n",
       " 'trainer_kwargs': {'accelerator': 'gpu',\n",
       "  'batch_size': 128,\n",
       "  'channel_mapping': {},\n",
       "  'data_mask': None,\n",
       "  'devices': 1,\n",
       "  'input_resolution': 0.6499999761581421,\n",
       "  'log_base': 2.718281828459045,\n",
       "  'log_every_n_steps': 10,\n",
       "  'logger_project': 'portobello',\n",
       "  'logger_type': 'tensorboard',\n",
       "  'lr': 0.0001,\n",
       "  'max_epochs': 1,\n",
       "  'num_workers': 0,\n",
       "  'out_dir': '/diskmnt/Projects/Users/estorrs/mushroom/data/projects/submission_v1/WD-76845/mushroom',\n",
       "  'pct_expression': 0.05,\n",
       "  'save_every': 1,\n",
       "  'steps_per_epoch': 1000,\n",
       "  'target_resolution': 0.02,\n",
       "  'tiling_method': 'grid',\n",
       "  'tiling_radius': 1.0}}"
      ]
     },
     "execution_count": 10,
     "metadata": {},
     "output_type": "execute_result"
    }
   ],
   "source": [
    "config = yaml.safe_load(open(os.path.join(run_dir, case, 'mushroom', 'config.yaml')))\n",
    "config = alter_filesystem(config, source_root, target_root)\n",
    "config"
   ]
  },
  {
   "cell_type": "code",
   "execution_count": 11,
   "id": "a0357a57",
   "metadata": {},
   "outputs": [],
   "source": [
    "config['dtype_to_chkpt'] = {\n",
    "    'he': '/diskmnt/Projects/Users/estorrs/mushroom/data/projects/submission_v1/WD-76845/mushroom/he_chkpts/last-v1.ckpt',\n",
    "    'multiplex': '/diskmnt/Projects/Users/estorrs/mushroom/data/projects/submission_v1/WD-76845/mushroom/multiplex_chkpts/last-v1.ckpt',\n",
    "}\n",
    "config['trainer_kwargs']['accelerator'] = 'cpu'"
   ]
  },
  {
   "cell_type": "code",
   "execution_count": null,
   "id": "9b409e05",
   "metadata": {},
   "outputs": [],
   "source": []
  },
  {
   "cell_type": "code",
   "execution_count": null,
   "id": "2ff0a80a",
   "metadata": {},
   "outputs": [],
   "source": []
  },
  {
   "cell_type": "code",
   "execution_count": 12,
   "id": "01fe3435",
   "metadata": {},
   "outputs": [],
   "source": [
    "config_fp = os.path.join(run_dir, case, 'mushroom', 'config_katmai.yaml')\n",
    "yaml.safe_dump(config, open(config_fp, 'w'))"
   ]
  },
  {
   "cell_type": "markdown",
   "id": "735732a8",
   "metadata": {},
   "source": [
    "## inference"
   ]
  },
  {
   "cell_type": "code",
   "execution_count": 13,
   "id": "6f5653f9",
   "metadata": {
    "scrolled": true
   },
   "outputs": [
    {
     "name": "stderr",
     "output_type": "stream",
     "text": [
      "INFO:root:loading spore for he\n",
      "INFO:root:data mask detected\n",
      "INFO:root:starting he processing\n",
      "INFO:root:22 sections detected: ['WD-76845-U1', 'WD-76845-U6', 'WD-76845-U13', 'WD-76845-U19', 'WD-76845-U24', 'WD-76845-U28', 'WD-76845-U33', 'WD-76845-U38', 'WD-76845-U43', 'WD-76845-U48', 'WD-76845-U53', 'WD-76845-U58', 'WD-76845-U63', 'WD-76845-U68', 'WD-76845-U73', 'WD-76845-U77', 'WD-76845-U83', 'WD-76845-U85', 'WD-76845-U90', 'WD-76845-U96', 'WD-76845-U101', 'WD-76845-U105']\n",
      "INFO:root:processing sections\n",
      "INFO:root:generating image data for section WD-76845-U1\n",
      "INFO:root:generating image data for section WD-76845-U6\n",
      "INFO:root:generating image data for section WD-76845-U13\n",
      "INFO:root:generating image data for section WD-76845-U19\n",
      "INFO:root:generating image data for section WD-76845-U24\n",
      "INFO:root:generating image data for section WD-76845-U28\n",
      "INFO:root:generating image data for section WD-76845-U33\n",
      "INFO:root:generating image data for section WD-76845-U38\n",
      "INFO:root:generating image data for section WD-76845-U43\n",
      "INFO:root:generating image data for section WD-76845-U48\n",
      "INFO:root:generating image data for section WD-76845-U53\n",
      "INFO:root:generating image data for section WD-76845-U58\n",
      "INFO:root:generating image data for section WD-76845-U63\n",
      "INFO:root:generating image data for section WD-76845-U68\n",
      "INFO:root:generating image data for section WD-76845-U73\n",
      "INFO:root:generating image data for section WD-76845-U77\n",
      "INFO:root:generating image data for section WD-76845-U83\n",
      "INFO:root:generating image data for section WD-76845-U85\n",
      "INFO:root:generating image data for section WD-76845-U90\n",
      "INFO:root:generating image data for section WD-76845-U96\n",
      "INFO:root:generating image data for section WD-76845-U101\n",
      "INFO:root:generating image data for section WD-76845-U105\n",
      "INFO:root:generating training dataset\n",
      "INFO:root:generating inference dataset\n",
      "INFO:root:total of 22 sections detected: [('WD-76845-U1', 'he'), ('WD-76845-U6', 'he'), ('WD-76845-U13', 'he'), ('WD-76845-U19', 'he'), ('WD-76845-U24', 'he'), ('WD-76845-U28', 'he'), ('WD-76845-U33', 'he'), ('WD-76845-U38', 'he'), ('WD-76845-U43', 'he'), ('WD-76845-U48', 'he'), ('WD-76845-U53', 'he'), ('WD-76845-U58', 'he'), ('WD-76845-U63', 'he'), ('WD-76845-U68', 'he'), ('WD-76845-U73', 'he'), ('WD-76845-U77', 'he'), ('WD-76845-U83', 'he'), ('WD-76845-U85', 'he'), ('WD-76845-U90', 'he'), ('WD-76845-U96', 'he'), ('WD-76845-U101', 'he'), ('WD-76845-U105', 'he')]\n",
      "INFO:root:creating data loaders\n",
      "INFO:root:creating ViT\n",
      "INFO:root:model initialized\n",
      "GPU available: False, used: False\n",
      "TPU available: False, using: 0 TPU cores\n",
      "IPU available: False, using: 0 IPUs\n",
      "HPU available: False, using: 0 HPUs\n",
      "INFO:root:loading checkpoint: /diskmnt/Projects/Users/estorrs/mushroom/data/projects/submission_v1/WD-76845/mushroom/he_chkpts/last-v1.ckpt\n",
      "INFO:root:loading spore for multiplex\n",
      "INFO:root:data mask detected\n",
      "INFO:root:starting multiplex processing\n",
      "INFO:root:using 40 channels\n",
      "INFO:root:25 sections detected: ['WD-76845-U2', 'WD-76845-U7', 'WD-76845-U14', 'WD-76845-U20', 'WD-76845-U25', 'WD-76845-U29', 'WD-76845-U34', 'WD-76845-U39', 'WD-76845-U44', 'WD-76845-U49', 'WD-76845-U50', 'WD-76845-U51', 'WD-76845-U52', 'WD-76845-U54', 'WD-76845-U59', 'WD-76845-U64', 'WD-76845-U69', 'WD-76845-U74', 'WD-76845-U78', 'WD-76845-U84', 'WD-76845-U86', 'WD-76845-U91', 'WD-76845-U97', 'WD-76845-U102', 'WD-76845-U106']\n",
      "INFO:root:processing sections\n",
      "INFO:root:generating image data for section WD-76845-U2\n",
      "INFO:root:generating image data for section WD-76845-U7\n",
      "INFO:root:generating image data for section WD-76845-U14\n",
      "INFO:root:generating image data for section WD-76845-U20\n",
      "INFO:root:generating image data for section WD-76845-U25\n",
      "INFO:root:generating image data for section WD-76845-U29\n",
      "INFO:root:generating image data for section WD-76845-U34\n",
      "INFO:root:generating image data for section WD-76845-U39\n",
      "INFO:root:generating image data for section WD-76845-U44\n",
      "INFO:root:generating image data for section WD-76845-U49\n",
      "INFO:root:generating image data for section WD-76845-U50\n",
      "INFO:root:generating image data for section WD-76845-U51\n",
      "INFO:root:generating image data for section WD-76845-U52\n",
      "INFO:root:generating image data for section WD-76845-U54\n",
      "INFO:root:generating image data for section WD-76845-U59\n",
      "INFO:root:generating image data for section WD-76845-U64\n",
      "INFO:root:generating image data for section WD-76845-U69\n",
      "INFO:root:generating image data for section WD-76845-U74\n",
      "INFO:root:generating image data for section WD-76845-U78\n",
      "INFO:root:generating image data for section WD-76845-U84\n",
      "INFO:root:generating image data for section WD-76845-U86\n",
      "INFO:root:generating image data for section WD-76845-U91\n",
      "INFO:root:generating image data for section WD-76845-U97\n",
      "INFO:root:generating image data for section WD-76845-U102\n",
      "INFO:root:generating image data for section WD-76845-U106\n",
      "INFO:root:generating training dataset\n",
      "INFO:root:generating inference dataset\n",
      "INFO:root:total of 25 sections detected: [('WD-76845-U2', 'multiplex'), ('WD-76845-U7', 'multiplex'), ('WD-76845-U14', 'multiplex'), ('WD-76845-U20', 'multiplex'), ('WD-76845-U25', 'multiplex'), ('WD-76845-U29', 'multiplex'), ('WD-76845-U34', 'multiplex'), ('WD-76845-U39', 'multiplex'), ('WD-76845-U44', 'multiplex'), ('WD-76845-U49', 'multiplex'), ('WD-76845-U50', 'multiplex'), ('WD-76845-U51', 'multiplex'), ('WD-76845-U52', 'multiplex'), ('WD-76845-U54', 'multiplex'), ('WD-76845-U59', 'multiplex'), ('WD-76845-U64', 'multiplex'), ('WD-76845-U69', 'multiplex'), ('WD-76845-U74', 'multiplex'), ('WD-76845-U78', 'multiplex'), ('WD-76845-U84', 'multiplex'), ('WD-76845-U86', 'multiplex'), ('WD-76845-U91', 'multiplex'), ('WD-76845-U97', 'multiplex'), ('WD-76845-U102', 'multiplex'), ('WD-76845-U106', 'multiplex')]\n",
      "INFO:root:creating data loaders\n",
      "INFO:root:creating ViT\n",
      "INFO:root:model initialized\n",
      "GPU available: False, used: False\n",
      "TPU available: False, using: 0 TPU cores\n",
      "IPU available: False, using: 0 IPUs\n",
      "HPU available: False, using: 0 HPUs\n",
      "INFO:root:loading checkpoint: /diskmnt/Projects/Users/estorrs/mushroom/data/projects/submission_v1/WD-76845/mushroom/multiplex_chkpts/last-v1.ckpt\n",
      "INFO:root:chkpt files detected, embedding to spores\n",
      "INFO:root:embedding he spore\n",
      "/diskmnt/Projects/Users/estorrs/miniconda3/envs/mushroom/lib/python3.9/site-packages/lightning/pytorch/trainer/connectors/data_connector.py:441: The 'predict_dataloader' does not have many workers which may be a bottleneck. Consider increasing the value of the `num_workers` argument` to `num_workers=95` in the `DataLoader` to improve performance.\n"
     ]
    },
    {
     "data": {
      "application/vnd.jupyter.widget-view+json": {
       "model_id": "14063f6d7fba4cb6a2ec57e01cbea00d",
       "version_major": 2,
       "version_minor": 0
      },
      "text/plain": [
       "Predicting: |                                                                                                 …"
      ]
     },
     "metadata": {},
     "output_type": "display_data"
    },
    {
     "name": "stderr",
     "output_type": "stream",
     "text": [
      "INFO:root:embedding multiplex spore\n"
     ]
    },
    {
     "data": {
      "application/vnd.jupyter.widget-view+json": {
       "model_id": "83c774cd56c74b4080efc7906186ef08",
       "version_major": 2,
       "version_minor": 0
      },
      "text/plain": [
       "Predicting: |                                                                                                 …"
      ]
     },
     "metadata": {},
     "output_type": "display_data"
    }
   ],
   "source": [
    "mushroom = Mushroom.from_config(config)"
   ]
  },
  {
   "cell_type": "code",
   "execution_count": 17,
   "id": "d5edbded",
   "metadata": {},
   "outputs": [],
   "source": [
    "test = {\n",
    "    'a': np.asarray([1,2,3,4,45]),\n",
    "    'b': np.asarray([1,2,3,4,5]),\n",
    "    'c': {\n",
    "        'z': np.asarray([[1,2,3]])\n",
    "    }\n",
    "}"
   ]
  },
  {
   "cell_type": "code",
   "execution_count": 19,
   "id": "ef82ef06",
   "metadata": {},
   "outputs": [],
   "source": [
    "import pickle\n",
    "test_fp = '/diskmnt/Projects/Users/estorrs/sandbox/test.pkl'\n",
    "pickle.dump(test, open(test_fp, 'wb'), protocol=4)"
   ]
  },
  {
   "cell_type": "code",
   "execution_count": 22,
   "id": "1755a1b8",
   "metadata": {},
   "outputs": [
    {
     "data": {
      "text/plain": [
       "{'a': array([ 1,  2,  3,  4, 45]),\n",
       " 'b': array([1, 2, 3, 4, 5]),\n",
       " 'c': {'z': array([[1, 2, 3]])}}"
      ]
     },
     "execution_count": 22,
     "metadata": {},
     "output_type": "execute_result"
    }
   ],
   "source": [
    "x = pickle.load(open(test_fp, 'rb'))\n",
    "x"
   ]
  },
  {
   "cell_type": "code",
   "execution_count": 16,
   "id": "6616ba08",
   "metadata": {},
   "outputs": [
    {
     "name": "stdout",
     "output_type": "stream",
     "text": [
      "/diskmnt/Projects/Users/estorrs/miniconda3/envs/mushroom/bin/python\r\n",
      "/usr/bin/python\r\n"
     ]
    }
   ],
   "source": [
    "!which -a python\n"
   ]
  },
  {
   "cell_type": "code",
   "execution_count": 14,
   "id": "0f076d16",
   "metadata": {},
   "outputs": [
    {
     "name": "stderr",
     "output_type": "stream",
     "text": [
      "INFO:root:saving config and outputs to /diskmnt/Projects/Users/estorrs/mushroom/data/projects/submission_v1/WD-76845/mushroom\n"
     ]
    },
    {
     "ename": "OverflowError",
     "evalue": "serializing a bytes object larger than 4 GiB requires pickle protocol 4 or higher",
     "output_type": "error",
     "traceback": [
      "\u001b[0;31m---------------------------------------------------------------------------\u001b[0m",
      "\u001b[0;31mOverflowError\u001b[0m                             Traceback (most recent call last)",
      "Cell \u001b[0;32mIn[14], line 1\u001b[0m\n\u001b[0;32m----> 1\u001b[0m \u001b[43mmushroom\u001b[49m\u001b[38;5;241;43m.\u001b[39;49m\u001b[43msave\u001b[49m\u001b[43m(\u001b[49m\u001b[43m)\u001b[49m\n",
      "File \u001b[0;32m/diskmnt/Projects/Users/estorrs/mushroom/mushroom/mushroom.py:266\u001b[0m, in \u001b[0;36mMushroom.save\u001b[0;34m(self, output_dir)\u001b[0m\n\u001b[1;32m    251\u001b[0m outputs \u001b[38;5;241m=\u001b[39m {\n\u001b[1;32m    252\u001b[0m     \u001b[38;5;124m'\u001b[39m\u001b[38;5;124msection_positions\u001b[39m\u001b[38;5;124m'\u001b[39m: \u001b[38;5;28mself\u001b[39m\u001b[38;5;241m.\u001b[39msection_positions,\n\u001b[1;32m    253\u001b[0m     \u001b[38;5;124m'\u001b[39m\u001b[38;5;124msection_ids\u001b[39m\u001b[38;5;124m'\u001b[39m: \u001b[38;5;28mself\u001b[39m\u001b[38;5;241m.\u001b[39msection_ids,\n\u001b[0;32m   (...)\u001b[0m\n\u001b[1;32m    259\u001b[0m     \u001b[38;5;124m'\u001b[39m\u001b[38;5;124mdtype_to_cluster_intensities\u001b[39m\u001b[38;5;124m'\u001b[39m: dtype_to_cluster_intensities,\n\u001b[1;32m    260\u001b[0m }\n\u001b[1;32m    262\u001b[0m yaml\u001b[38;5;241m.\u001b[39msafe_dump(\n\u001b[1;32m    263\u001b[0m     config,\n\u001b[1;32m    264\u001b[0m     \u001b[38;5;28mopen\u001b[39m(os\u001b[38;5;241m.\u001b[39mpath\u001b[38;5;241m.\u001b[39mjoin(output_dir, \u001b[38;5;124mf\u001b[39m\u001b[38;5;124m'\u001b[39m\u001b[38;5;124mconfig.yaml\u001b[39m\u001b[38;5;124m'\u001b[39m), \u001b[38;5;124m'\u001b[39m\u001b[38;5;124mw\u001b[39m\u001b[38;5;124m'\u001b[39m)\n\u001b[1;32m    265\u001b[0m )\n\u001b[0;32m--> 266\u001b[0m \u001b[43mnp\u001b[49m\u001b[38;5;241;43m.\u001b[39;49m\u001b[43msave\u001b[49m\u001b[43m(\u001b[49m\n\u001b[1;32m    267\u001b[0m \u001b[43m    \u001b[49m\u001b[43mos\u001b[49m\u001b[38;5;241;43m.\u001b[39;49m\u001b[43mpath\u001b[49m\u001b[38;5;241;43m.\u001b[39;49m\u001b[43mjoin\u001b[49m\u001b[43m(\u001b[49m\u001b[43moutput_dir\u001b[49m\u001b[43m,\u001b[49m\u001b[43m \u001b[49m\u001b[38;5;124;43mf\u001b[39;49m\u001b[38;5;124;43m'\u001b[39;49m\u001b[38;5;124;43moutputs.npy\u001b[39;49m\u001b[38;5;124;43m'\u001b[39;49m\u001b[43m)\u001b[49m\u001b[43m,\u001b[49m\n\u001b[1;32m    268\u001b[0m \u001b[43m    \u001b[49m\u001b[43moutputs\u001b[49m\n\u001b[1;32m    269\u001b[0m \u001b[43m\u001b[49m\u001b[43m)\u001b[49m\n",
      "File \u001b[0;32m<__array_function__ internals>:180\u001b[0m, in \u001b[0;36msave\u001b[0;34m(*args, **kwargs)\u001b[0m\n",
      "File \u001b[0;32m/diskmnt/Projects/Users/estorrs/miniconda3/envs/mushroom/lib/python3.9/site-packages/numpy/lib/npyio.py:502\u001b[0m, in \u001b[0;36msave\u001b[0;34m(file, arr, allow_pickle, fix_imports)\u001b[0m\n\u001b[1;32m    500\u001b[0m \u001b[38;5;28;01mwith\u001b[39;00m file_ctx \u001b[38;5;28;01mas\u001b[39;00m fid:\n\u001b[1;32m    501\u001b[0m     arr \u001b[38;5;241m=\u001b[39m np\u001b[38;5;241m.\u001b[39masanyarray(arr)\n\u001b[0;32m--> 502\u001b[0m     \u001b[38;5;28;43mformat\u001b[39;49m\u001b[38;5;241;43m.\u001b[39;49m\u001b[43mwrite_array\u001b[49m\u001b[43m(\u001b[49m\u001b[43mfid\u001b[49m\u001b[43m,\u001b[49m\u001b[43m \u001b[49m\u001b[43marr\u001b[49m\u001b[43m,\u001b[49m\u001b[43m \u001b[49m\u001b[43mallow_pickle\u001b[49m\u001b[38;5;241;43m=\u001b[39;49m\u001b[43mallow_pickle\u001b[49m\u001b[43m,\u001b[49m\n\u001b[1;32m    503\u001b[0m \u001b[43m                       \u001b[49m\u001b[43mpickle_kwargs\u001b[49m\u001b[38;5;241;43m=\u001b[39;49m\u001b[38;5;28;43mdict\u001b[39;49m\u001b[43m(\u001b[49m\u001b[43mfix_imports\u001b[49m\u001b[38;5;241;43m=\u001b[39;49m\u001b[43mfix_imports\u001b[49m\u001b[43m)\u001b[49m\u001b[43m)\u001b[49m\n",
      "File \u001b[0;32m/diskmnt/Projects/Users/estorrs/miniconda3/envs/mushroom/lib/python3.9/site-packages/numpy/lib/format.py:678\u001b[0m, in \u001b[0;36mwrite_array\u001b[0;34m(fp, array, version, allow_pickle, pickle_kwargs)\u001b[0m\n\u001b[1;32m    676\u001b[0m     \u001b[38;5;28;01mif\u001b[39;00m pickle_kwargs \u001b[38;5;129;01mis\u001b[39;00m \u001b[38;5;28;01mNone\u001b[39;00m:\n\u001b[1;32m    677\u001b[0m         pickle_kwargs \u001b[38;5;241m=\u001b[39m {}\n\u001b[0;32m--> 678\u001b[0m     \u001b[43mpickle\u001b[49m\u001b[38;5;241;43m.\u001b[39;49m\u001b[43mdump\u001b[49m\u001b[43m(\u001b[49m\u001b[43marray\u001b[49m\u001b[43m,\u001b[49m\u001b[43m \u001b[49m\u001b[43mfp\u001b[49m\u001b[43m,\u001b[49m\u001b[43m \u001b[49m\u001b[43mprotocol\u001b[49m\u001b[38;5;241;43m=\u001b[39;49m\u001b[38;5;241;43m3\u001b[39;49m\u001b[43m,\u001b[49m\u001b[43m \u001b[49m\u001b[38;5;241;43m*\u001b[39;49m\u001b[38;5;241;43m*\u001b[39;49m\u001b[43mpickle_kwargs\u001b[49m\u001b[43m)\u001b[49m\n\u001b[1;32m    679\u001b[0m \u001b[38;5;28;01melif\u001b[39;00m array\u001b[38;5;241m.\u001b[39mflags\u001b[38;5;241m.\u001b[39mf_contiguous \u001b[38;5;129;01mand\u001b[39;00m \u001b[38;5;129;01mnot\u001b[39;00m array\u001b[38;5;241m.\u001b[39mflags\u001b[38;5;241m.\u001b[39mc_contiguous:\n\u001b[1;32m    680\u001b[0m     \u001b[38;5;28;01mif\u001b[39;00m isfileobj(fp):\n",
      "\u001b[0;31mOverflowError\u001b[0m: serializing a bytes object larger than 4 GiB requires pickle protocol 4 or higher"
     ]
    }
   ],
   "source": [
    "mushroom.save()"
   ]
  },
  {
   "cell_type": "code",
   "execution_count": null,
   "id": "7eff1285",
   "metadata": {},
   "outputs": [],
   "source": [
    "out_dir = mushroom.trainer_kwargs['out_dir']\n",
    "fig_dir = os.path.join(out_dir, 'figures')\n",
    "Path(fig_dir).mkdir(parents=True, exist_ok=True)"
   ]
  },
  {
   "cell_type": "code",
   "execution_count": null,
   "id": "276ca427",
   "metadata": {},
   "outputs": [],
   "source": [
    "for dtype in mushroom.dtypes:\n",
    "    for level in range(mushroom.num_levels):\n",
    "        print(dtype, level)\n",
    "        mushroom.display_clusters(dtype, level=level)\n",
    "        plt.savefig(os.path.join(fig_dir, f'nbhds_{dtype}_l{level}.pdf'), dpi=300)\n",
    "        plt.show()"
   ]
  },
  {
   "cell_type": "code",
   "execution_count": null,
   "id": "2b2853b0",
   "metadata": {},
   "outputs": [],
   "source": [
    "for level, cluster_res in enumerate(cluster_resolutions):\n",
    "    print(level)\n",
    "    dtype_to_volume = mushroom.generate_interpolated_volumes(\n",
    "        z_scaler=z_scaler, level=level, integrate=True, dtype_to_weight=dtype_to_weight, resolution=cluster_res)\n",
    "    dtype_to_volume_labels = {k:v.argmax(-1) if k != 'integrated' else v for k, v in dtype_to_volume.items()}\n",
    "    \n",
    "    mushroom.display_volumes(dtype_to_volume=dtype_to_volume_labels, positions=mushroom.section_positions)\n",
    "    \n",
    "    plt.savefig(os.path.join(fig_dir, f'nbhd_volumes_l{level}.pdf'), dpi=300)\n",
    "    plt.show()\n",
    "    \n",
    "    np.save(os.path.join(out_dir, f'nbhd_volumes_l{level}.npy'), {\n",
    "        'probs': dtype_to_volume,\n",
    "        'labeled': dtype_to_volume_labels\n",
    "    })\n",
    "    \n",
    "    del(dtype_to_volume)\n",
    "    del(dtype_to_volume_labels)"
   ]
  },
  {
   "cell_type": "code",
   "execution_count": null,
   "id": "06a3aa90",
   "metadata": {},
   "outputs": [],
   "source": [
    "fig_dir"
   ]
  },
  {
   "cell_type": "code",
   "execution_count": null,
   "id": "bd8617f1",
   "metadata": {},
   "outputs": [],
   "source": [
    "mushroom.save()"
   ]
  },
  {
   "cell_type": "code",
   "execution_count": null,
   "id": "9a7bc16a",
   "metadata": {},
   "outputs": [],
   "source": [
    "clustering_params = {\n",
    "    'z_scaler': z_scaler,\n",
    "    'cluster_resolutions': cluster_resolutions,\n",
    "    'dtype_to_weight': dtype_to_weight\n",
    "}\n",
    "yaml.safe_dump(clustering_params, open(os.path.join(out_dir, 'nbhd_volume_params.yaml'), 'w'))"
   ]
  },
  {
   "cell_type": "code",
   "execution_count": null,
   "id": "2efe46ce",
   "metadata": {},
   "outputs": [],
   "source": []
  },
  {
   "cell_type": "code",
   "execution_count": null,
   "id": "eb1ce2ee",
   "metadata": {},
   "outputs": [],
   "source": []
  },
  {
   "cell_type": "code",
   "execution_count": null,
   "id": "9823d69c",
   "metadata": {},
   "outputs": [],
   "source": []
  },
  {
   "cell_type": "code",
   "execution_count": 22,
   "id": "5aae3008",
   "metadata": {},
   "outputs": [],
   "source": [
    "# new = Mushroom.from_config('/data/estorrs/mushroom/data/projects/submission_v1/HT413C1-Th1k4A1/mushroom')\n"
   ]
  },
  {
   "cell_type": "code",
   "execution_count": 23,
   "id": "99544e32",
   "metadata": {},
   "outputs": [],
   "source": [
    "# mushroom.display_clusters('he', level=0)"
   ]
  },
  {
   "cell_type": "code",
   "execution_count": null,
   "id": "7137fbfc",
   "metadata": {},
   "outputs": [],
   "source": []
  },
  {
   "cell_type": "code",
   "execution_count": null,
   "id": "c69e0a20",
   "metadata": {},
   "outputs": [],
   "source": []
  },
  {
   "cell_type": "code",
   "execution_count": null,
   "id": "4df3965d",
   "metadata": {},
   "outputs": [],
   "source": []
  },
  {
   "cell_type": "code",
   "execution_count": null,
   "id": "d9a57dac",
   "metadata": {},
   "outputs": [],
   "source": []
  }
 ],
 "metadata": {
  "kernelspec": {
   "display_name": "Python 3 (ipykernel)",
   "language": "python",
   "name": "python3"
  },
  "language_info": {
   "codemirror_mode": {
    "name": "ipython",
    "version": 3
   },
   "file_extension": ".py",
   "mimetype": "text/x-python",
   "name": "python",
   "nbconvert_exporter": "python",
   "pygments_lexer": "ipython3",
   "version": "3.9.18"
  }
 },
 "nbformat": 4,
 "nbformat_minor": 5
}
