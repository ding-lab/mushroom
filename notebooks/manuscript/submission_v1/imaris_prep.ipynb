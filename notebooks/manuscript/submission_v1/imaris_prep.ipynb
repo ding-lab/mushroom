{
 "cells": [
  {
   "cell_type": "code",
   "execution_count": 1,
   "id": "5e6a3f24",
   "metadata": {},
   "outputs": [],
   "source": [
    "import pickle\n",
    "import json\n",
    "import os\n",
    "import sys\n",
    "from copy import deepcopy\n",
    "from pathlib import Path\n",
    "\n",
    "import matplotlib.pyplot as plt\n",
    "import numpy as np\n",
    "import skimage\n",
    "import tifffile\n",
    "import yaml"
   ]
  },
  {
   "cell_type": "code",
   "execution_count": 2,
   "id": "c13f0768",
   "metadata": {},
   "outputs": [],
   "source": [
    "import matplotlib as mpl\n",
    "mpl.rcParams['pdf.fonttype'] = 42"
   ]
  },
  {
   "cell_type": "code",
   "execution_count": 3,
   "id": "7e4ab32f",
   "metadata": {},
   "outputs": [],
   "source": [
    "%load_ext autoreload"
   ]
  },
  {
   "cell_type": "code",
   "execution_count": 4,
   "id": "70fa2851",
   "metadata": {},
   "outputs": [],
   "source": [
    "%autoreload 2"
   ]
  },
  {
   "cell_type": "code",
   "execution_count": 21,
   "id": "ad713538",
   "metadata": {},
   "outputs": [],
   "source": [
    "from mushroom.mushroom import Mushroom, DEFAULT_CONFIG\n",
    "import mushroom.utils as utils\n",
    "import mushroom.visualization.utils as vis_utils\n",
    "import mushroom.data.multiplex as multiplex\n",
    "import mushroom.data.xenium as xenium\n",
    "import mushroom.data.cosmx as cosmx"
   ]
  },
  {
   "cell_type": "code",
   "execution_count": 6,
   "id": "29ec9025",
   "metadata": {},
   "outputs": [],
   "source": [
    "source_root = '/diskmnt/Projects/Users/estorrs/mushroom/data'\n",
    "target_root = '/data/estorrs/mushroom/data'"
   ]
  },
  {
   "cell_type": "code",
   "execution_count": 7,
   "id": "9c548776",
   "metadata": {},
   "outputs": [],
   "source": [
    "run_dir = '/data/estorrs/mushroom/data/projects/submission_v1'"
   ]
  },
  {
   "cell_type": "code",
   "execution_count": 8,
   "id": "8295d20e",
   "metadata": {},
   "outputs": [],
   "source": [
    "def alter_filesystem(config, source_root, target_root):\n",
    "    for entry in config['sections']:\n",
    "        for mapping in entry['data']:\n",
    "            mapping['filepath'] = mapping['filepath'].replace(source_root, target_root)\n",
    "        \n",
    "    return config"
   ]
  },
  {
   "cell_type": "code",
   "execution_count": 114,
   "id": "053cddb9",
   "metadata": {},
   "outputs": [],
   "source": [
    "case = 'HT206B1'\n",
    "# case = 'HT413C1-Th1k4A1'"
   ]
  },
  {
   "cell_type": "code",
   "execution_count": 115,
   "id": "f13fb183",
   "metadata": {},
   "outputs": [],
   "source": [
    "project_dir = f'/data/estorrs/mushroom/data/projects/submission_v1/{case}'"
   ]
  },
  {
   "cell_type": "code",
   "execution_count": 116,
   "id": "cc77a842",
   "metadata": {},
   "outputs": [
    {
     "data": {
      "text/plain": [
       "{'resolution': 1.0,\n",
       " 'sections': [{'data': [{'dtype': 'xenium',\n",
       "     'filepath': '/data/estorrs/mushroom/data/projects/submission_v1/HT206B1/registered/s0_HT206B1-U1_xenium.h5ad'}],\n",
       "   'position': 0,\n",
       "   'sid': 'HT206B1-U1'},\n",
       "  {'data': [{'dtype': 'multiplex',\n",
       "     'filepath': '/data/estorrs/mushroom/data/projects/submission_v1/HT206B1/registered/s1_HT206B1-U2_multiplex.ome.tiff'}],\n",
       "   'position': 5,\n",
       "   'sid': 'HT206B1-U2'},\n",
       "  {'data': [{'dtype': 'he',\n",
       "     'filepath': '/data/estorrs/mushroom/data/projects/submission_v1/HT206B1/registered/s2_HT206B1-U4_he.tif'}],\n",
       "   'position': 15,\n",
       "   'sid': 'HT206B1-U4'},\n",
       "  {'data': [{'dtype': 'multiplex',\n",
       "     'filepath': '/data/estorrs/mushroom/data/projects/submission_v1/HT206B1/registered/s3_HT206B1-U5_multiplex.ome.tiff'}],\n",
       "   'position': 20,\n",
       "   'sid': 'HT206B1-U5'},\n",
       "  {'data': [{'dtype': 'xenium',\n",
       "     'filepath': '/data/estorrs/mushroom/data/projects/submission_v1/HT206B1/registered/s4_HT206B1-U8_xenium.h5ad'}],\n",
       "   'position': 40,\n",
       "   'sid': 'HT206B1-U8'},\n",
       "  {'data': [{'dtype': 'xenium',\n",
       "     'filepath': '/data/estorrs/mushroom/data/projects/submission_v1/HT206B1/registered/s5_HT206B1-U9_xenium.h5ad'}],\n",
       "   'position': 45,\n",
       "   'sid': 'HT206B1-U9'},\n",
       "  {'data': [{'dtype': 'multiplex',\n",
       "     'filepath': '/data/estorrs/mushroom/data/projects/submission_v1/HT206B1/registered/s6_HT206B1-U10_multiplex.ome.tiff'}],\n",
       "   'position': 50,\n",
       "   'sid': 'HT206B1-U10'},\n",
       "  {'data': [{'dtype': 'he',\n",
       "     'filepath': '/data/estorrs/mushroom/data/projects/submission_v1/HT206B1/registered/s7_HT206B1-U12_he.tif'}],\n",
       "   'position': 60,\n",
       "   'sid': 'HT206B1-U12'},\n",
       "  {'data': [{'dtype': 'multiplex',\n",
       "     'filepath': '/data/estorrs/mushroom/data/projects/submission_v1/HT206B1/registered/s8_HT206B1-U13_multiplex.ome.tiff'}],\n",
       "   'position': 65,\n",
       "   'sid': 'HT206B1-U13'},\n",
       "  {'data': [{'dtype': 'xenium',\n",
       "     'filepath': '/data/estorrs/mushroom/data/projects/submission_v1/HT206B1/registered/s9_HT206B1-U16_xenium.h5ad'}],\n",
       "   'position': 80,\n",
       "   'sid': 'HT206B1-U16'},\n",
       "  {'data': [{'dtype': 'xenium',\n",
       "     'filepath': '/data/estorrs/mushroom/data/projects/submission_v1/HT206B1/registered/s10_HT206B1-U17_xenium.h5ad'}],\n",
       "   'position': 85,\n",
       "   'sid': 'HT206B1-U17'},\n",
       "  {'data': [{'dtype': 'multiplex',\n",
       "     'filepath': '/data/estorrs/mushroom/data/projects/submission_v1/HT206B1/registered/s11_HT206B1-U18_multiplex.ome.tiff'}],\n",
       "   'position': 90,\n",
       "   'sid': 'HT206B1-U18'},\n",
       "  {'data': [{'dtype': 'he',\n",
       "     'filepath': '/data/estorrs/mushroom/data/projects/submission_v1/HT206B1/registered/s12_HT206B1-U20_he.tif'}],\n",
       "   'position': 100,\n",
       "   'sid': 'HT206B1-U20'},\n",
       "  {'data': [{'dtype': 'multiplex',\n",
       "     'filepath': '/data/estorrs/mushroom/data/projects/submission_v1/HT206B1/registered/s13_HT206B1-U21_multiplex.ome.tiff'}],\n",
       "   'position': 105,\n",
       "   'sid': 'HT206B1-U21'},\n",
       "  {'data': [{'dtype': 'xenium',\n",
       "     'filepath': '/data/estorrs/mushroom/data/projects/submission_v1/HT206B1/registered/s14_HT206B1-U24_xenium.h5ad'}],\n",
       "   'position': 120,\n",
       "   'sid': 'HT206B1-U24'}],\n",
       " 'target_sid': 'HT206B1-U1'}"
      ]
     },
     "execution_count": 116,
     "metadata": {},
     "output_type": "execute_result"
    }
   ],
   "source": [
    "config = yaml.safe_load(open(os.path.join(project_dir, 'registered', 'metadata.yaml')))\n",
    "config = alter_filesystem(config, source_root, target_root)\n",
    "config"
   ]
  },
  {
   "cell_type": "code",
   "execution_count": 95,
   "id": "1e277cbd",
   "metadata": {},
   "outputs": [],
   "source": [
    "# tiling_size = 10 # in microns per pixel"
   ]
  },
  {
   "cell_type": "code",
   "execution_count": 108,
   "id": "9ada3fff",
   "metadata": {},
   "outputs": [],
   "source": [
    "from einops import rearrange\n",
    "def write_imaris(config, dtype='multiplex', channel_names=None, tiling_size=10, drop=None):\n",
    "    sections = [x for x in config['sections'] if x['data'][0]['dtype']==dtype]\n",
    "    \n",
    "    if drop is not None:\n",
    "        sections = [x for x in sections if x['sid'] not in drop]\n",
    "    \n",
    "    print([x['sid'] for x in sections])\n",
    "    \n",
    "    fps = [x['data'][0]['filepath'] for x in sections]\n",
    "    \n",
    "    if dtype == 'multiplex':\n",
    "        channels = multiplex.get_common_channels(fps)\n",
    "    elif dtype == 'xenium':\n",
    "        channels = xenium.get_common_channels(fps)\n",
    "    elif dtype == 'cosmx':\n",
    "        channels = cosmx.get_common_channels(fps)\n",
    "    else:\n",
    "        raise ValueError(f'{dtype} is not valid dtype')\n",
    "        \n",
    "    if channel_names is not None:\n",
    "        present = [channel for channel in channel_names if channel in channels]\n",
    "        assert len(present) == len(channel_names), f'{set(channel_names) - set(present)} not in all images'\n",
    "        channels = channel_names\n",
    "    print(channels)\n",
    "\n",
    "    imgs = []\n",
    "    target_size = None\n",
    "    for fp in fps:\n",
    "        \n",
    "        if dtype == 'multiplex':\n",
    "            channel_to_img = multiplex.extract_ome_tiff(fp, channels=channels, as_dict=True)\n",
    "            img = np.stack([channel_to_img[c] for c in channels])\n",
    "        elif dtype == 'xenium':\n",
    "            adata = xenium.adata_from_xenium(fp)\n",
    "            adata = adata[:, channels]\n",
    "            img = xenium.to_multiplex(adata, tiling_size=tiling_size, method='grid')\n",
    "            img = rearrange(img, 'h w c -> c h w')\n",
    "        elif dtype == 'cosmx':\n",
    "            adata = cosmx.adata_from_cosmx(fp)\n",
    "            adata = adata[:, channels]\n",
    "            img = xenium.to_multiplex(adata, tiling_size=tiling_size, method='grid')\n",
    "            img = rearrange(img, 'h w c -> c h w')\n",
    "        if target_size is None:\n",
    "            target_size = img.shape[-2:]\n",
    "        \n",
    "        if img.shape[-2:] != target_size:\n",
    "            img = utils.rescale(img, size=target_size, target_dtype=img.dtype, dim_order='c h w')\n",
    "        \n",
    "        print(img.shape)\n",
    "        imgs.append(img)\n",
    "    x = np.stack(imgs)\n",
    "    print(x.shape, x.dtype)\n",
    "    \n",
    "    if x.dtype != np.uint8:\n",
    "        x = x - x.min()\n",
    "        x = x / x.max()\n",
    "        x = x * 255\n",
    "        x = x.astype(np.uint8)\n",
    "    \n",
    "    directory = Path(os.path.join(project_dir, 'imaris', dtype))\n",
    "    directory.mkdir(parents=True, exist_ok=True)\n",
    "    for c in range(x.shape[1]):\n",
    "        print(c, channels[c])\n",
    "        filepath = directory / f'{case}_C{c}.tif'\n",
    "        with tifffile.TiffWriter(filepath, bigtiff=True) as tif:\n",
    "            metadata={\n",
    "                'axes': 'XYZCT',\n",
    "                'PhysicalSizeX': config['resolution'],\n",
    "                'PhysicalSizeXUnit': 'µm',\n",
    "                'PhysicalSizeY': config['resolution'],\n",
    "                'PhysicalSizeYUnit': 'µm',\n",
    "            }\n",
    "            tif.write(\n",
    "                rearrange(x[:, c], 'z h w -> 1 1 z h w'),\n",
    "                metadata=metadata,\n",
    "                compression='LZW',\n",
    "            )\n",
    "    meta = {\n",
    "        'channels': channels,\n",
    "        'sections': [entry['sid'] for entry in sections]\n",
    "    }\n",
    "    yaml.safe_dump(meta, open(directory / 'metadata.yaml', 'w'))\n",
    "    \n",
    "    del(img)\n",
    "    \n",
    "    \n",
    "    "
   ]
  },
  {
   "cell_type": "code",
   "execution_count": 99,
   "id": "6aa44ae0",
   "metadata": {},
   "outputs": [
    {
     "name": "stdout",
     "output_type": "stream",
     "text": [
      "['CCL2', 'CD11b', 'CD20 (D)', 'CD31', 'CD3e (D)', 'CD4 (D)', 'CD45', 'CD68 (D)', 'CD8', 'CK14', 'CK7', 'CK8/18', 'DAPI', 'E-cadherin', 'FoxP3', 'GLUT1 (D)', 'HLA-DR', 'Hep-Par-1 (D)', 'Ki67', 'MUC2', 'P16 (Dnew)', 'P21 (D)', 'PAI1 (D)', 'PanCytokeratin', 'Podoplanin', 'SMA (D)', 'SOX9']\n",
      "(27, 5085, 3640)\n",
      "(27, 5085, 3640)\n",
      "(27, 5085, 3640)\n",
      "(27, 5085, 3640)\n",
      "(27, 5085, 3640)\n",
      "(27, 5085, 3640)\n",
      "(27, 5085, 3640)\n",
      "(7, 27, 5085, 3640) uint8\n",
      "0 CCL2\n",
      "1 CD11b\n",
      "2 CD20 (D)\n",
      "3 CD31\n",
      "4 CD3e (D)\n",
      "5 CD4 (D)\n",
      "6 CD45\n",
      "7 CD68 (D)\n",
      "8 CD8\n",
      "9 CK14\n",
      "10 CK7\n",
      "11 CK8/18\n",
      "12 DAPI\n",
      "13 E-cadherin\n",
      "14 FoxP3\n",
      "15 GLUT1 (D)\n",
      "16 HLA-DR\n",
      "17 Hep-Par-1 (D)\n",
      "18 Ki67\n",
      "19 MUC2\n",
      "20 P16 (Dnew)\n",
      "21 P21 (D)\n",
      "22 PAI1 (D)\n",
      "23 PanCytokeratin\n",
      "24 Podoplanin\n",
      "25 SMA (D)\n",
      "26 SOX9\n"
     ]
    }
   ],
   "source": [
    "write_imaris(config, dtype='multiplex')"
   ]
  },
  {
   "cell_type": "code",
   "execution_count": 110,
   "id": "c30bbbd0",
   "metadata": {},
   "outputs": [],
   "source": [
    "genes = [\n",
    "    'EPCAM', 'ACTA2', 'PDPN', 'PECAM1', 'CD8A', 'PTPRC', 'IL7R', 'CD44', 'FN1', 'ENTPD1', 'TGFB1', 'PTN', 'PLAT', 'CD68', 'CD163', 'LAG3', 'PDCD1', 'MGP', 'MS4A1', 'CD3D'\n",
    "]\n",
    "# genes = [\n",
    "#     'EPCAM', 'ACTA2', 'PDPN', 'PECAM1', 'CD8A', 'PTPRC', 'IL7R', 'PTN', 'CD68', 'CD163', 'LAG3', 'PDCD1'\n",
    "# ]"
   ]
  },
  {
   "cell_type": "code",
   "execution_count": 111,
   "id": "d211277d",
   "metadata": {},
   "outputs": [],
   "source": [
    "drop = ['HT413C1-Th1k4A1-U31']"
   ]
  },
  {
   "cell_type": "code",
   "execution_count": 112,
   "id": "eecf7d11",
   "metadata": {},
   "outputs": [
    {
     "name": "stdout",
     "output_type": "stream",
     "text": [
      "['HT413C1-Th1k4A1-U19', 'HT413C1-Th1k4A1-U2', 'HT413C1-Th1k4A1-U9', 'HT413C1-Th1k4A1-U25', 'HT413C1-Th1k4A1-U36']\n",
      "['EPCAM', 'ACTA2', 'PDPN', 'PECAM1', 'CD8A', 'PTPRC', 'IL7R', 'CD44', 'FN1', 'ENTPD1', 'TGFB1', 'PTN', 'PLAT', 'CD68', 'CD163', 'LAG3', 'PDCD1', 'MGP', 'MS4A1', 'CD3D']\n",
      "(20, 255, 183)\n",
      "(20, 255, 183)\n",
      "(20, 255, 183)\n",
      "(20, 255, 183)\n",
      "(20, 255, 183)\n",
      "(5, 20, 255, 183) float64\n",
      "0 EPCAM\n",
      "1 ACTA2\n",
      "2 PDPN\n",
      "3 PECAM1\n",
      "4 CD8A\n",
      "5 PTPRC\n",
      "6 IL7R\n",
      "7 CD44\n",
      "8 FN1\n",
      "9 ENTPD1\n",
      "10 TGFB1\n",
      "11 PTN\n",
      "12 PLAT\n",
      "13 CD68\n",
      "14 CD163\n",
      "15 LAG3\n",
      "16 PDCD1\n",
      "17 MGP\n",
      "18 MS4A1\n",
      "19 CD3D\n"
     ]
    }
   ],
   "source": [
    "write_imaris(config, dtype='xenium', channel_names=genes, tiling_size=20, drop=drop)"
   ]
  },
  {
   "cell_type": "code",
   "execution_count": null,
   "id": "4e2c5bcc",
   "metadata": {},
   "outputs": [],
   "source": []
  },
  {
   "cell_type": "code",
   "execution_count": null,
   "id": "6e946d6a",
   "metadata": {},
   "outputs": [],
   "source": []
  },
  {
   "cell_type": "code",
   "execution_count": 117,
   "id": "9dbcd3c3",
   "metadata": {},
   "outputs": [
    {
     "data": {
      "text/plain": [
       "[{'data': [{'dtype': 'multiplex',\n",
       "    'filepath': '/data/estorrs/mushroom/data/projects/submission_v1/HT206B1/registered/s1_HT206B1-U2_multiplex.ome.tiff'}],\n",
       "  'position': 5,\n",
       "  'sid': 'HT206B1-U2'},\n",
       " {'data': [{'dtype': 'multiplex',\n",
       "    'filepath': '/data/estorrs/mushroom/data/projects/submission_v1/HT206B1/registered/s3_HT206B1-U5_multiplex.ome.tiff'}],\n",
       "  'position': 20,\n",
       "  'sid': 'HT206B1-U5'},\n",
       " {'data': [{'dtype': 'multiplex',\n",
       "    'filepath': '/data/estorrs/mushroom/data/projects/submission_v1/HT206B1/registered/s6_HT206B1-U10_multiplex.ome.tiff'}],\n",
       "  'position': 50,\n",
       "  'sid': 'HT206B1-U10'},\n",
       " {'data': [{'dtype': 'multiplex',\n",
       "    'filepath': '/data/estorrs/mushroom/data/projects/submission_v1/HT206B1/registered/s8_HT206B1-U13_multiplex.ome.tiff'}],\n",
       "  'position': 65,\n",
       "  'sid': 'HT206B1-U13'},\n",
       " {'data': [{'dtype': 'multiplex',\n",
       "    'filepath': '/data/estorrs/mushroom/data/projects/submission_v1/HT206B1/registered/s11_HT206B1-U18_multiplex.ome.tiff'}],\n",
       "  'position': 90,\n",
       "  'sid': 'HT206B1-U18'},\n",
       " {'data': [{'dtype': 'multiplex',\n",
       "    'filepath': '/data/estorrs/mushroom/data/projects/submission_v1/HT206B1/registered/s13_HT206B1-U21_multiplex.ome.tiff'}],\n",
       "  'position': 105,\n",
       "  'sid': 'HT206B1-U21'}]"
      ]
     },
     "execution_count": 117,
     "metadata": {},
     "output_type": "execute_result"
    }
   ],
   "source": [
    "sections = [x for x in config['sections'] if x['data'][0]['dtype']=='multiplex']\n",
    "sections"
   ]
  },
  {
   "cell_type": "code",
   "execution_count": 118,
   "id": "b766a0ae",
   "metadata": {},
   "outputs": [
    {
     "data": {
      "text/plain": [
       "['/data/estorrs/mushroom/data/projects/submission_v1/HT206B1/registered/s1_HT206B1-U2_multiplex.ome.tiff',\n",
       " '/data/estorrs/mushroom/data/projects/submission_v1/HT206B1/registered/s3_HT206B1-U5_multiplex.ome.tiff',\n",
       " '/data/estorrs/mushroom/data/projects/submission_v1/HT206B1/registered/s6_HT206B1-U10_multiplex.ome.tiff',\n",
       " '/data/estorrs/mushroom/data/projects/submission_v1/HT206B1/registered/s8_HT206B1-U13_multiplex.ome.tiff',\n",
       " '/data/estorrs/mushroom/data/projects/submission_v1/HT206B1/registered/s11_HT206B1-U18_multiplex.ome.tiff',\n",
       " '/data/estorrs/mushroom/data/projects/submission_v1/HT206B1/registered/s13_HT206B1-U21_multiplex.ome.tiff']"
      ]
     },
     "execution_count": 118,
     "metadata": {},
     "output_type": "execute_result"
    }
   ],
   "source": [
    "fps = [x['data'][0]['filepath'] for x in sections]\n",
    "fps"
   ]
  },
  {
   "cell_type": "code",
   "execution_count": 119,
   "id": "a266dcdf",
   "metadata": {},
   "outputs": [],
   "source": [
    "mpp = 1.\n",
    "from einops import rearrange"
   ]
  },
  {
   "cell_type": "code",
   "execution_count": 120,
   "id": "3952c9b5",
   "metadata": {},
   "outputs": [
    {
     "data": {
      "text/plain": [
       "(6, 33, 1000, 1000)"
      ]
     },
     "execution_count": 120,
     "metadata": {},
     "output_type": "execute_result"
    }
   ],
   "source": [
    "channels = multiplex.get_common_channels(fps)\n",
    "imgs = []\n",
    "for fp in fps:\n",
    "    channel_to_img = multiplex.extract_ome_tiff(fp, channels=channels, as_dict=True)\n",
    "    img = np.stack([channel_to_img[c] for c in channels])\n",
    "    img = img[:, 2000:3000, 2000:3000]\n",
    "    imgs.append(img)\n",
    "x = np.stack(imgs)\n",
    "x.shape"
   ]
  },
  {
   "cell_type": "code",
   "execution_count": 128,
   "id": "fcd27092",
   "metadata": {},
   "outputs": [],
   "source": [
    "from ome_types import OME, model, to_xml"
   ]
  },
  {
   "cell_type": "code",
   "execution_count": 141,
   "id": "5eb1d2c0",
   "metadata": {},
   "outputs": [
    {
     "data": {
      "text/plain": [
       "OME(images=[<1 field_type>])"
      ]
     },
     "execution_count": 141,
     "metadata": {},
     "output_type": "execute_result"
    }
   ],
   "source": [
    "\n",
    "\n",
    "o = model.OME()\n",
    "o.images.append(\n",
    "    model.Image(\n",
    "        id='Image:0',\n",
    "        pixels=model.Pixels(\n",
    "            dimension_order='XYCZT',\n",
    "            size_c=len(channels),\n",
    "            size_t=1,\n",
    "            size_x=x.shape[-2],\n",
    "            size_y=x.shape[-1],\n",
    "            size_z=x.shape[0],\n",
    "            type='uint8',\n",
    "            big_endian=False,\n",
    "            channels=[model.Channel(id=f'Channel:{i}', name=c) for i, c in enumerate(channels)],\n",
    "            physical_size_x=config['resolution'],\n",
    "            physical_size_y=config['resolution'],\n",
    "            physical_size_x_unit='µm',\n",
    "            physical_size_y_unit='µm'\n",
    "        )\n",
    "    )\n",
    ")\n",
    "\n",
    "im = o.images[0]\n",
    "for i in range(len(im.pixels.channels)):\n",
    "    for j in range(x.shape[0]):\n",
    "        im.pixels.planes.append(model.Plane(the_c=i, the_t=0, the_z=j))\n",
    "im.pixels.tiff_data_blocks.append(model.TiffData(plane_count=len(im.pixels.planes)))\n",
    "\n",
    "o"
   ]
  },
  {
   "cell_type": "code",
   "execution_count": 146,
   "id": "31dcc1c1",
   "metadata": {},
   "outputs": [],
   "source": [
    "def write_HTAN_ome(output_fp, data, ome_model):\n",
    "    with tifffile.TiffWriter(output_fp, ome=True, bigtiff=True) as out_tif:\n",
    "        opts = {\n",
    "            'compression': 'LZW',\n",
    "        }\n",
    "        out_tif.write(\n",
    "#             rearrange(data, 'x y c z t -> t c y x z'),\n",
    "            rearrange(data, 'x y c z t -> t z c y x'),\n",
    "            metadata={'SamplesPerPixel': 1.0},\n",
    "            **opts\n",
    "        )\n",
    "        xml_str = to_xml(ome_model)\n",
    "        out_tif.overwrite_description(xml_str.encode())"
   ]
  },
  {
   "cell_type": "code",
   "execution_count": 147,
   "id": "70cc3432",
   "metadata": {},
   "outputs": [],
   "source": [
    "directory = Path(os.path.join(project_dir, 'imaris', 'multiplex'))\n",
    "directory.mkdir(parents=True, exist_ok=True)\n",
    "\n",
    "write_HTAN_ome(\n",
    "    directory / 'test.ome.tif',\n",
    "    rearrange(x, 'z c h w -> w h c z 1'),\n",
    "    o\n",
    ")"
   ]
  },
  {
   "cell_type": "code",
   "execution_count": 133,
   "id": "4b68f5b5",
   "metadata": {},
   "outputs": [
    {
     "data": {
      "text/plain": [
       "PosixPath('/data/estorrs/mushroom/data/projects/submission_v1/HT206B1/imaris/multiplex')"
      ]
     },
     "execution_count": 133,
     "metadata": {},
     "output_type": "execute_result"
    }
   ],
   "source": [
    "directory"
   ]
  },
  {
   "cell_type": "code",
   "execution_count": 19,
   "id": "455f5779",
   "metadata": {},
   "outputs": [
    {
     "name": "stdout",
     "output_type": "stream",
     "text": [
      "0\n",
      "1\n",
      "2\n",
      "3\n",
      "4\n",
      "5\n",
      "6\n",
      "7\n",
      "8\n",
      "9\n",
      "10\n",
      "11\n",
      "12\n",
      "13\n",
      "14\n",
      "15\n",
      "16\n",
      "17\n",
      "18\n",
      "19\n",
      "20\n",
      "21\n",
      "22\n",
      "23\n",
      "24\n",
      "25\n",
      "26\n",
      "27\n",
      "28\n",
      "29\n",
      "30\n",
      "31\n",
      "32\n"
     ]
    }
   ],
   "source": [
    "directory = Path(os.path.join(project_dir, 'imaris', 'multiplex'))\n",
    "directory.mkdir(parents=True, exist_ok=True)\n",
    "\n",
    "with tifffile.TiffWriter(filepath) as tif:\n",
    "    metadata={\n",
    "        'axes': 'ZYX',\n",
    "        'PhysicalSizeX': mpp,\n",
    "        'PhysicalSizeXUnit': 'µm',\n",
    "        'PhysicalSizeY': mpp,\n",
    "        'PhysicalSizeYUnit': 'µm',\n",
    "    }\n",
    "    tif.write(\n",
    "        rearrange(x, 'z c h w -> z h w'),\n",
    "        metadata=metadata,\n",
    "        compression='LZW',\n",
    "    )\n",
    "meta = {\n",
    "'channels': channels,\n",
    "'sections': [entry['sid'] for entry in sections]\n",
    "}\n",
    "yaml.safe_dump(meta, open(directory / 'metadata.yaml', 'w'))"
   ]
  },
  {
   "cell_type": "code",
   "execution_count": 57,
   "id": "aeb383a0",
   "metadata": {},
   "outputs": [
    {
     "name": "stdout",
     "output_type": "stream",
     "text": [
      "1 BCA1 (D)\n",
      "2 CD163\n",
      "3 CD20\n",
      "4 CD31\n",
      "5 CD39\n",
      "6 CD4 (D)\n",
      "7 CD45 (D)\n",
      "8 CD68\n",
      "9 CD8\n",
      "10 CK14 (D)\n",
      "11 COX6C (D)\n",
      "12 DAPI\n",
      "13 E-cadherin\n",
      "14 FOXP3\n",
      "15 GATA3 (D)\n",
      "16 Granzyme B\n",
      "17 HER2 (D)\n",
      "18 HIF1a\n",
      "19 HLA-DR\n",
      "20 Keratin 5\n",
      "21 Ki67\n",
      "22 MGP (D)\n",
      "23 PD-1\n",
      "24 PLAT/tPA (D)\n",
      "25 PR (D)\n",
      "26 Pan-Cytokeratin\n",
      "27 Podoplanin (D)\n",
      "28 SLC39A6 (D)\n",
      "29 SMA (D)\n",
      "30 TCF-1\n",
      "31 TFF1 (D)\n",
      "32 Vimentin\n",
      "33 cd11b\n"
     ]
    }
   ],
   "source": [
    "for i, c in enumerate(channels):\n",
    "    print(i + 1, c)"
   ]
  },
  {
   "cell_type": "code",
   "execution_count": null,
   "id": "6124a276",
   "metadata": {},
   "outputs": [],
   "source": []
  },
  {
   "cell_type": "code",
   "execution_count": null,
   "id": "a68cdec0",
   "metadata": {},
   "outputs": [],
   "source": []
  },
  {
   "cell_type": "code",
   "execution_count": null,
   "id": "b42f13bb",
   "metadata": {},
   "outputs": [],
   "source": [
    "def tile_img(adata, tiling_size, size):\n",
    "    n_rows, n_cols = size[-2] // tiling_size + 1, size[-1] // tiling_size + 1\n",
    "\n",
    "    pts = adata.obsm['spatial'][:, [1, 0]]\n",
    "\n",
    "    img = np.zeros((n_rows, n_cols, adata.shape[1]))\n",
    "    for r in range(n_rows):\n",
    "        r1, r2 = r * tiling_size, (r + 1) * tiling_size\n",
    "        row_mask = ((pts[:, 0] >= r1) & (pts[:, 0] < r2))\n",
    "        row_adata, row_pts = adata[row_mask], pts[row_mask]\n",
    "        for c in range(n_cols):\n",
    "            c1, c2 = c * tiling_size, (c + 1) * tiling_size\n",
    "            col_mask = ((row_pts[:, 1] >= c1) & (row_pts[:, 1] < c2))\n",
    "            img[r, c] = row_adata[col_mask].X.sum(0)\n",
    "    return img\n"
   ]
  },
  {
   "cell_type": "code",
   "execution_count": null,
   "id": "1ec3a89c",
   "metadata": {},
   "outputs": [],
   "source": [
    "sid_to_img = {\n",
    "    k:tile_img(a, tiling_size, size) for k, a in sid_to_adata.items()\n",
    "}"
   ]
  },
  {
   "cell_type": "code",
   "execution_count": null,
   "id": "c6e49288",
   "metadata": {},
   "outputs": [],
   "source": []
  },
  {
   "cell_type": "code",
   "execution_count": null,
   "id": "507354bf",
   "metadata": {},
   "outputs": [],
   "source": []
  },
  {
   "cell_type": "code",
   "execution_count": null,
   "id": "36bd3b44",
   "metadata": {},
   "outputs": [],
   "source": []
  },
  {
   "cell_type": "code",
   "execution_count": null,
   "id": "3bd4e831",
   "metadata": {},
   "outputs": [],
   "source": []
  },
  {
   "cell_type": "code",
   "execution_count": null,
   "id": "2b3f54bb",
   "metadata": {},
   "outputs": [],
   "source": []
  },
  {
   "cell_type": "code",
   "execution_count": null,
   "id": "8d56584e",
   "metadata": {},
   "outputs": [],
   "source": []
  },
  {
   "cell_type": "code",
   "execution_count": null,
   "id": "742df9ba",
   "metadata": {},
   "outputs": [],
   "source": []
  },
  {
   "cell_type": "code",
   "execution_count": null,
   "id": "a0df8116",
   "metadata": {},
   "outputs": [],
   "source": []
  },
  {
   "cell_type": "code",
   "execution_count": null,
   "id": "fe15e6e3",
   "metadata": {},
   "outputs": [],
   "source": []
  },
  {
   "cell_type": "code",
   "execution_count": null,
   "id": "8af0cff7",
   "metadata": {},
   "outputs": [],
   "source": []
  }
 ],
 "metadata": {
  "kernelspec": {
   "display_name": "Python 3 (ipykernel)",
   "language": "python",
   "name": "python3"
  },
  "language_info": {
   "codemirror_mode": {
    "name": "ipython",
    "version": 3
   },
   "file_extension": ".py",
   "mimetype": "text/x-python",
   "name": "python",
   "nbconvert_exporter": "python",
   "pygments_lexer": "ipython3",
   "version": "3.10.13"
  }
 },
 "nbformat": 4,
 "nbformat_minor": 5
}
