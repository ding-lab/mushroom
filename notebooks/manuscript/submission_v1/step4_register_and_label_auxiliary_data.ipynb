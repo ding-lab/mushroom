{
 "cells": [
  {
   "cell_type": "code",
   "execution_count": 5,
   "id": "c39f3b9d",
   "metadata": {},
   "outputs": [],
   "source": [
    "import copy\n",
    "import os\n",
    "import re\n",
    "import shutil\n",
    "import sys\n",
    "from pathlib import Path\n",
    "\n",
    "import pandas as pd\n",
    "import matplotlib.pyplot as plt\n",
    "import numpy as np\n",
    "import seaborn as sns\n",
    "import tifffile\n",
    "import yaml\n",
    "from einops import rearrange"
   ]
  },
  {
   "cell_type": "code",
   "execution_count": 6,
   "id": "39e6cd0c",
   "metadata": {},
   "outputs": [],
   "source": [
    "%load_ext autoreload"
   ]
  },
  {
   "cell_type": "code",
   "execution_count": 7,
   "id": "5abb0dda",
   "metadata": {},
   "outputs": [],
   "source": [
    "%autoreload 2"
   ]
  },
  {
   "cell_type": "code",
   "execution_count": 8,
   "id": "d6947cf0",
   "metadata": {},
   "outputs": [],
   "source": [
    "\n",
    "import mushroom.registration.bigwarp as bigwarp\n",
    "import mushroom.utils as utils"
   ]
  },
  {
   "cell_type": "code",
   "execution_count": 9,
   "id": "d39301c2",
   "metadata": {},
   "outputs": [],
   "source": [
    "project_dir = '/diskmnt/Projects/Users/estorrs/mushroom/data/projects/submission_v1'"
   ]
  },
  {
   "cell_type": "code",
   "execution_count": 10,
   "id": "957b3ba8",
   "metadata": {},
   "outputs": [],
   "source": [
    "default_scale = .2\n",
    "dtype_to_scale = {}"
   ]
  },
  {
   "cell_type": "markdown",
   "id": "82936ad1",
   "metadata": {},
   "source": [
    "## Define inputs"
   ]
  },
  {
   "cell_type": "code",
   "execution_count": 11,
   "id": "494f0769",
   "metadata": {},
   "outputs": [],
   "source": [
    "def ddfs_from_data_map(data_map):\n",
    "    target_sid = data_map['target_sid']\n",
    "\n",
    "    sid_to_ddf = {}\n",
    "\n",
    "    for idx, item in enumerate(data_map['sections']):\n",
    "        sid = item['sid']\n",
    "        mapping = item['data'][0]\n",
    "        dtype, filepath = mapping['dtype'], mapping['filepath']\n",
    "        scale = dtype_to_scale.get(dtype, default_scale)\n",
    "\n",
    "        if sid != target_sid: # initial registration target section will not have ddf\n",
    "            ddf_fp = os.path.join(reg_dir, f's{idx}_{sid}_ddf.tif')\n",
    "\n",
    "            assert os.path.exists(ddf_fp), f'Expected a warp field file at {ddf_fp}, but no file was found.'\n",
    "            ddf = bigwarp.read_bigwarp_warp_field(ddf_fp, scale) # ddfs are (c h w)\n",
    "            sid_to_ddf[sid] = ddf\n",
    "    return sid_to_ddf"
   ]
  },
  {
   "cell_type": "markdown",
   "id": "1d9d853f",
   "metadata": {
    "heading_collapsed": true
   },
   "source": [
    "###### HT397B1"
   ]
  },
  {
   "cell_type": "code",
   "execution_count": 12,
   "id": "91fa30b0",
   "metadata": {
    "hidden": true
   },
   "outputs": [],
   "source": [
    "case = 'HT397B1'\n",
    "output_dir = os.path.join(project_dir, case, 'auxiliary')\n",
    "Path(output_dir).mkdir(parents=True, exist_ok=True)"
   ]
  },
  {
   "cell_type": "code",
   "execution_count": 13,
   "id": "fd468c62",
   "metadata": {
    "hidden": true
   },
   "outputs": [],
   "source": [
    "sid_to_multiplex = {\n",
    "    'HT397B1-U2': '/diskmnt/Projects/Users/estorrs/imaging-analysis/results/mushroom/HT397B1/spatial_features/HT397B1-S1H3A1-U2_spatial_features.txt', \n",
    "    'HT397B1-U12': '/diskmnt/Projects/Users/estorrs/imaging-analysis/results/mushroom/HT397B1/spatial_features/HT397B1-S1H3A1-U12_spatial_features.txt',\n",
    "    'HT397B1-U22': '/diskmnt/Projects/Users/estorrs/imaging-analysis/results/mushroom/HT397B1/spatial_features/HT397B1-S1H3A1-U22_spatial_features.txt',\n",
    "    'HT397B1-U31': '/diskmnt/Projects/Users/estorrs/imaging-analysis/results/mushroom/HT397B1/spatial_features/HT397B1-S1H3A1-U31_spatial_features.txt'\n",
    "}"
   ]
  },
  {
   "cell_type": "markdown",
   "id": "f3dcd0ac",
   "metadata": {
    "heading_collapsed": true
   },
   "source": [
    "###### S18-9906"
   ]
  },
  {
   "cell_type": "code",
   "execution_count": 64,
   "id": "78bbce74",
   "metadata": {
    "hidden": true
   },
   "outputs": [],
   "source": [
    "case = 'S18-9906'\n",
    "output_dir = os.path.join(project_dir, case, 'auxiliary')\n",
    "Path(output_dir).mkdir(parents=True, exist_ok=True)"
   ]
  },
  {
   "cell_type": "code",
   "execution_count": 69,
   "id": "900eaa61",
   "metadata": {
    "hidden": true
   },
   "outputs": [],
   "source": [
    "sid_to_multiplex = {\n",
    "    'S18-9906-U3': '/diskmnt/Projects/Users/estorrs/imaging-analysis/results/mushroom/S18-9906/spatial_features/S18-9906-U10_spatial_features.txt', \n",
    "    'S18-9906-U10': '/diskmnt/Projects/Users/estorrs/imaging-analysis/results/mushroom/S18-9906/spatial_features/S18-9906-U10_spatial_features.txt', \n",
    "    'S18-9906-U18': '/diskmnt/Projects/Users/estorrs/imaging-analysis/results/mushroom/S18-9906/spatial_features/S18-9906-U18_spatial_features.txt',\n",
    "    'S18-9906-U25': '/diskmnt/Projects/Users/estorrs/imaging-analysis/results/mushroom/S18-9906/spatial_features/S18-9906-U25_spatial_features.txt',\n",
    "}"
   ]
  },
  {
   "cell_type": "markdown",
   "id": "5733215a",
   "metadata": {
    "heading_collapsed": true
   },
   "source": [
    "###### HT413C1-Th1k4A1"
   ]
  },
  {
   "cell_type": "code",
   "execution_count": 74,
   "id": "b2334403",
   "metadata": {
    "hidden": true
   },
   "outputs": [],
   "source": [
    "case = 'HT413C1-Th1k4A1'\n",
    "output_dir = os.path.join(project_dir, case, 'auxiliary')\n",
    "Path(output_dir).mkdir(parents=True, exist_ok=True)"
   ]
  },
  {
   "cell_type": "code",
   "execution_count": 81,
   "id": "f14ea889",
   "metadata": {
    "hidden": true
   },
   "outputs": [],
   "source": [
    "sid_to_multiplex = {\n",
    "    'HT413C1-Th1k4A1-U3': '/diskmnt/Projects/Users/estorrs/imaging-analysis/results/mushroom/HT413C1-Th1k4A1/spatial_features/HT413C1_Th1k4A1_U3_spatial_features.txt', \n",
    "#     'HT413C1-Th1k4A1-U10': '/diskmnt/Projects/Users/estorrs/imaging-analysis/results/mushroom/HT413C1-Th1k4A1/spatial_features/HT413C1_Th1k4A1_U10_spatial_features.txt', \n",
    "    'HT413C1-Th1k4A1-U20': '/diskmnt/Projects/Users/estorrs/imaging-analysis/results/mushroom/HT413C1-Th1k4A1/spatial_features/HT413C1_Th1k4A1_U20_spatial_features.txt',\n",
    "    'HT413C1-Th1k4A1-U26': '/diskmnt/Projects/Users/estorrs/imaging-analysis/results/mushroom/HT413C1-Th1k4A1/spatial_features/HT413C1_Th1k4A1_U26_spatial_features.txt',\n",
    "    'HT413C1-Th1k4A1-U32': '/diskmnt/Projects/Users/estorrs/imaging-analysis/results/mushroom/HT413C1-Th1k4A1/spatial_features/HT413C1_Th1k4A1_U32_spatial_features.txt',\n",
    "    'HT413C1-Th1k4A1-U37': '/diskmnt/Projects/Users/estorrs/imaging-analysis/results/mushroom/HT413C1-Th1k4A1/spatial_features/HT413C1_Th1k4A1_U37_spatial_features.txt',\n",
    "    'HT413C1-Th1k4A1-U41': '/diskmnt/Projects/Users/estorrs/imaging-analysis/results/mushroom/HT413C1-Th1k4A1/spatial_features/HT413C1_Th1k4A1_U41_spatial_features.txt',\n",
    "    'HT413C1-Th1k4A1-U42': '/diskmnt/Projects/Users/estorrs/imaging-analysis/results/mushroom/HT413C1-Th1k4A1/spatial_features/HT413C1_Th1k4A1_U42_spatial_features.txt',\n",
    "}"
   ]
  },
  {
   "cell_type": "markdown",
   "id": "bf6229ec",
   "metadata": {
    "heading_collapsed": true
   },
   "source": [
    "###### S18-25943-A7"
   ]
  },
  {
   "cell_type": "code",
   "execution_count": 86,
   "id": "a985f2b7",
   "metadata": {
    "hidden": true
   },
   "outputs": [],
   "source": [
    "case = 'S18-25943-A7'\n",
    "output_dir = os.path.join(project_dir, case, 'auxiliary')\n",
    "Path(output_dir).mkdir(parents=True, exist_ok=True)"
   ]
  },
  {
   "cell_type": "code",
   "execution_count": 91,
   "id": "f5cd6d21",
   "metadata": {
    "hidden": true
   },
   "outputs": [],
   "source": [
    "sid_to_multiplex = {\n",
    "#     'S18-25943-A7-U2': '/diskmnt/Projects/Users/estorrs/imaging-analysis/results/mushroom/S18-25943-A7/spatial_features/S18-25943-U2_spatial_features.txt', \n",
    "    'S18-25943-A7-U9': '/diskmnt/Projects/Users/estorrs/imaging-analysis/results/mushroom/S18-25943-A7/spatial_features/S18-25943-U9_spatial_features.txt', \n",
    "    'S18-25943-A7-U13': '/diskmnt/Projects/Users/estorrs/imaging-analysis/results/mushroom/S18-25943-A7/spatial_features/S18-25943-U13_spatial_features.txt',\n",
    "#     'S18-25943-A7-U16': '/diskmnt/Projects/Users/estorrs/imaging-analysis/results/mushroom/S18-25943-A7/spatial_features/S18-25943-U16_spatial_features.txt',\n",
    "}"
   ]
  },
  {
   "cell_type": "markdown",
   "id": "167efbe8",
   "metadata": {
    "heading_collapsed": true
   },
   "source": [
    "###### HT206B1"
   ]
  },
  {
   "cell_type": "code",
   "execution_count": 97,
   "id": "f61f2dad",
   "metadata": {
    "hidden": true
   },
   "outputs": [],
   "source": [
    "case = 'HT206B1'\n",
    "output_dir = os.path.join(project_dir, case, 'auxiliary')\n",
    "Path(output_dir).mkdir(parents=True, exist_ok=True)"
   ]
  },
  {
   "cell_type": "code",
   "execution_count": 100,
   "id": "6ac90167",
   "metadata": {
    "hidden": true
   },
   "outputs": [],
   "source": [
    "sid_to_multiplex = {\n",
    "    'HT206B1-U2': '/diskmnt/Projects/Users/estorrs/imaging-analysis/results/mushroom/HT206B1/spatial_features/HT206B1-H2L1-U2_spatial_features.txt', \n",
    "    'HT206B1-U5': '/diskmnt/Projects/Users/estorrs/imaging-analysis/results/mushroom/HT206B1/spatial_features/HT206B1-H2L1-U5_spatial_features.txt', \n",
    "    'HT206B1-U10': '/diskmnt/Projects/Users/estorrs/imaging-analysis/results/mushroom/HT206B1/spatial_features/HT206B1-H2L1-U10_spatial_features.txt',\n",
    "    'HT206B1-U13': '/diskmnt/Projects/Users/estorrs/imaging-analysis/results/mushroom/HT206B1/spatial_features/HT206B1-H2L1-U13_spatial_features.txt',\n",
    "    'HT206B1-U18': '/diskmnt/Projects/Users/estorrs/imaging-analysis/results/mushroom/HT206B1/spatial_features/HT206B1-H2L1-U18_spatial_features.txt',\n",
    "    'HT206B1-U21': '/diskmnt/Projects/Users/estorrs/imaging-analysis/results/mushroom/HT206B1/spatial_features/HT206B1-H2L1-U21_spatial_features.txt',\n",
    "}"
   ]
  },
  {
   "cell_type": "markdown",
   "id": "5189658f",
   "metadata": {
    "heading_collapsed": true
   },
   "source": [
    "###### S18-5591-C8"
   ]
  },
  {
   "cell_type": "code",
   "execution_count": 117,
   "id": "231c586d",
   "metadata": {
    "hidden": true
   },
   "outputs": [],
   "source": [
    "case = 'S18-5591-C8'\n",
    "output_dir = os.path.join(project_dir, case, 'auxiliary')\n",
    "Path(output_dir).mkdir(parents=True, exist_ok=True)"
   ]
  },
  {
   "cell_type": "code",
   "execution_count": 122,
   "id": "70bf5521",
   "metadata": {
    "hidden": true
   },
   "outputs": [],
   "source": [
    "sid_to_multiplex = {\n",
    "#     'S18-5591-C8-U2': '/diskmnt/Projects/Users/estorrs/imaging-analysis/results/mushroom/S18-5591-C8/spatial_features/S18-5591-U2_spatial_features.txt', \n",
    "#     'S18-5591-C8-U6': '/diskmnt/Projects/Users/estorrs/imaging-analysis/results/mushroom/S18-5591-C8/spatial_features/S18-5591-U6_spatial_features.txt', \n",
    "    'S18-5591-C8-U8': '/diskmnt/Projects/Users/estorrs/imaging-analysis/results/mushroom/S18-5591-C8/spatial_features/S18-5591-U8_spatial_features.txt',\n",
    "    'S18-5591-C8-U14': '/diskmnt/Projects/Users/estorrs/imaging-analysis/results/mushroom/S18-5591-C8/spatial_features/S18-5591-U14_spatial_features.txt',\n",
    "    'S18-5591-C8-U19': '/diskmnt/Projects/Users/estorrs/imaging-analysis/results/mushroom/S18-5591-C8/spatial_features/S18-5591-U19_spatial_features.txt', \n",
    "    'S18-5591-C8-U21': '/diskmnt/Projects/Users/estorrs/imaging-analysis/results/mushroom/S18-5591-C8/spatial_features/S18-5591-U21_spatial_features.txt', \n",
    "    'S18-5591-C8-U23': '/diskmnt/Projects/Users/estorrs/imaging-analysis/results/mushroom/S18-5591-C8/spatial_features/S18-5591-U23_spatial_features.txt',\n",
    "    'S18-5591-C8-U24': '/diskmnt/Projects/Users/estorrs/imaging-analysis/results/mushroom/S18-5591-C8/spatial_features/S18-5591-U24_spatial_features.txt',\n",
    "}"
   ]
  },
  {
   "cell_type": "markdown",
   "id": "4fef4194",
   "metadata": {
    "heading_collapsed": true
   },
   "source": [
    "###### C3L-00982"
   ]
  },
  {
   "cell_type": "code",
   "execution_count": 128,
   "id": "1edc3650",
   "metadata": {
    "hidden": true
   },
   "outputs": [],
   "source": [
    "case = 'C3L-00982'\n",
    "output_dir = os.path.join(project_dir, case, 'auxiliary')\n",
    "Path(output_dir).mkdir(parents=True, exist_ok=True)"
   ]
  },
  {
   "cell_type": "code",
   "execution_count": 133,
   "id": "3f499ace",
   "metadata": {
    "hidden": true
   },
   "outputs": [],
   "source": [
    "sid_to_multiplex = {\n",
    "    'C3L-00982-U1': '/diskmnt/Projects/Users/estorrs/imaging-analysis/results/mushroom/C3L-00982/spatial_features/C3L-00982-11_U1_spatial_features.txt', \n",
    "    'C3L-00982-U4': '/diskmnt/Projects/Users/estorrs/imaging-analysis/results/mushroom/C3L-00982/spatial_features/C3L-00982-11_U4_spatial_features.txt', \n",
    "    'C3L-00982-U7': '/diskmnt/Projects/Users/estorrs/imaging-analysis/results/mushroom/C3L-00982/spatial_features/C3L-00982-11_U7_spatial_features.txt',\n",
    "}"
   ]
  },
  {
   "cell_type": "markdown",
   "id": "4091009d",
   "metadata": {
    "heading_collapsed": true
   },
   "source": [
    "###### C3L-02551"
   ]
  },
  {
   "cell_type": "code",
   "execution_count": 142,
   "id": "d25cfc8b",
   "metadata": {
    "hidden": true
   },
   "outputs": [],
   "source": [
    "case = 'C3L-02551'\n",
    "output_dir = os.path.join(project_dir, case, 'auxiliary')\n",
    "Path(output_dir).mkdir(parents=True, exist_ok=True)"
   ]
  },
  {
   "cell_type": "code",
   "execution_count": 143,
   "id": "09beb15d",
   "metadata": {
    "hidden": true
   },
   "outputs": [],
   "source": [
    "sid_to_multiplex = {\n",
    "    'C3L-02551-U1': '/diskmnt/Projects/Users/estorrs/imaging-analysis/results/mushroom/C3L-02551/spatial_features/C3L-02551-11_U1_spatial_features.txt', \n",
    "    'C3L-02551-U4': '/diskmnt/Projects/Users/estorrs/imaging-analysis/results/mushroom/C3L-02551/spatial_features/C3L-02551-11_U4_spatial_features.txt', \n",
    "    'C3L-02551-U8': '/diskmnt/Projects/Users/estorrs/imaging-analysis/results/mushroom/C3L-02551/spatial_features/C3L-02551-11_U8_spatial_features.txt',\n",
    "}"
   ]
  },
  {
   "cell_type": "markdown",
   "id": "1327db9e",
   "metadata": {
    "heading_collapsed": true
   },
   "source": [
    "###### C3L-00970"
   ]
  },
  {
   "cell_type": "code",
   "execution_count": 148,
   "id": "4fe8601a",
   "metadata": {
    "hidden": true
   },
   "outputs": [],
   "source": [
    "case = 'C3L-00970'\n",
    "output_dir = os.path.join(project_dir, case, 'auxiliary')\n",
    "Path(output_dir).mkdir(parents=True, exist_ok=True)"
   ]
  },
  {
   "cell_type": "code",
   "execution_count": 151,
   "id": "61ceb390",
   "metadata": {
    "hidden": true
   },
   "outputs": [],
   "source": [
    "sid_to_multiplex = {\n",
    "    'C3L-00970-U2': '/diskmnt/Projects/Users/estorrs/imaging-analysis/results/mushroom/C3L-00970/spatial_features/C3L-00970-13u2_spatial_features.txt', \n",
    "}"
   ]
  },
  {
   "cell_type": "markdown",
   "id": "3a78e4f4",
   "metadata": {
    "heading_collapsed": true
   },
   "source": [
    "###### C3L-01287"
   ]
  },
  {
   "cell_type": "code",
   "execution_count": 157,
   "id": "78c7f96d",
   "metadata": {
    "hidden": true
   },
   "outputs": [],
   "source": [
    "case = 'C3L-01287'\n",
    "output_dir = os.path.join(project_dir, case, 'auxiliary')\n",
    "Path(output_dir).mkdir(parents=True, exist_ok=True)"
   ]
  },
  {
   "cell_type": "code",
   "execution_count": 160,
   "id": "007f413e",
   "metadata": {
    "hidden": true
   },
   "outputs": [],
   "source": [
    "sid_to_multiplex = {\n",
    "    'C3L-01287-U2': '/diskmnt/Projects/Users/estorrs/imaging-analysis/results/mushroom/C3L-01287/spatial_features/C3L-01287-11Us1_spatial_features.txt', \n",
    "}"
   ]
  },
  {
   "cell_type": "markdown",
   "id": "d4b171bc",
   "metadata": {
    "heading_collapsed": true
   },
   "source": [
    "###### HT413C1-K2"
   ]
  },
  {
   "cell_type": "code",
   "execution_count": 165,
   "id": "cb97f79a",
   "metadata": {
    "hidden": true
   },
   "outputs": [],
   "source": [
    "case = 'HT413C1-K2'\n",
    "output_dir = os.path.join(project_dir, case, 'auxiliary')\n",
    "Path(output_dir).mkdir(parents=True, exist_ok=True)"
   ]
  },
  {
   "cell_type": "code",
   "execution_count": 168,
   "id": "7db98778",
   "metadata": {
    "hidden": true
   },
   "outputs": [],
   "source": [
    "sid_to_multiplex = {\n",
    "    'HT413C1-K2-U2': '/diskmnt/Projects/Users/estorrs/imaging-analysis/results/mushroom/HT413C1-K2/spatial_features/HT413C1-K2_spatial_features.txt', \n",
    "}"
   ]
  },
  {
   "cell_type": "markdown",
   "id": "7a730191",
   "metadata": {
    "heading_collapsed": true
   },
   "source": [
    "###### HT339B2-H1"
   ]
  },
  {
   "cell_type": "code",
   "execution_count": 173,
   "id": "d671935f",
   "metadata": {
    "hidden": true
   },
   "outputs": [],
   "source": [
    "case = 'HT339B2-H1'\n",
    "output_dir = os.path.join(project_dir, case, 'auxiliary')\n",
    "Path(output_dir).mkdir(parents=True, exist_ok=True)"
   ]
  },
  {
   "cell_type": "code",
   "execution_count": 176,
   "id": "117a8712",
   "metadata": {
    "hidden": true
   },
   "outputs": [],
   "source": [
    "sid_to_multiplex = {\n",
    "    'HT339B2-H1-U2': '/diskmnt/Projects/Users/estorrs/imaging-analysis/results/mushroom/HT339B2-H1/spatial_features/HT339B2-H1_spatial_features.txt', \n",
    "}"
   ]
  },
  {
   "cell_type": "markdown",
   "id": "c64dfac6",
   "metadata": {
    "heading_collapsed": true
   },
   "source": [
    "###### HT553P1-H2"
   ]
  },
  {
   "cell_type": "code",
   "execution_count": 181,
   "id": "21ff38cc",
   "metadata": {
    "hidden": true
   },
   "outputs": [],
   "source": [
    "case = 'HT553P1-H2'\n",
    "output_dir = os.path.join(project_dir, case, 'auxiliary')\n",
    "Path(output_dir).mkdir(parents=True, exist_ok=True)"
   ]
  },
  {
   "cell_type": "code",
   "execution_count": 184,
   "id": "1ae94f53",
   "metadata": {
    "hidden": true
   },
   "outputs": [],
   "source": [
    "sid_to_multiplex = {\n",
    "    'HT553P1-H2-U2': '/diskmnt/Projects/Users/estorrs/imaging-analysis/results/mushroom/HT553P1-H2/spatial_features/HT553P1-H2_spatial_features.txt', \n",
    "}"
   ]
  },
  {
   "cell_type": "markdown",
   "id": "977e8c80",
   "metadata": {
    "heading_collapsed": true
   },
   "source": [
    "###### HT565B1-H2"
   ]
  },
  {
   "cell_type": "code",
   "execution_count": 192,
   "id": "e91085d6",
   "metadata": {
    "hidden": true
   },
   "outputs": [],
   "source": [
    "case = 'HT565B1-H2'\n",
    "output_dir = os.path.join(project_dir, case, 'auxiliary')\n",
    "Path(output_dir).mkdir(parents=True, exist_ok=True)"
   ]
  },
  {
   "cell_type": "code",
   "execution_count": 193,
   "id": "87d54513",
   "metadata": {
    "hidden": true
   },
   "outputs": [],
   "source": [
    "sid_to_multiplex = {\n",
    "    'HT565B1-H2-U2': '/diskmnt/Projects/Users/estorrs/imaging-analysis/results/mushroom/HT565B1-H2/spatial_features/HT565B1-H2_spatial_features.txt', \n",
    "}"
   ]
  },
  {
   "cell_type": "markdown",
   "id": "92aa356b",
   "metadata": {
    "heading_collapsed": true
   },
   "source": [
    "###### HT448C1-Th1K1Fp1"
   ]
  },
  {
   "cell_type": "code",
   "execution_count": 198,
   "id": "0c61f56d",
   "metadata": {
    "hidden": true
   },
   "outputs": [],
   "source": [
    "case = 'HT448C1-Th1K1Fp1'\n",
    "output_dir = os.path.join(project_dir, case, 'auxiliary')\n",
    "Path(output_dir).mkdir(parents=True, exist_ok=True)"
   ]
  },
  {
   "cell_type": "code",
   "execution_count": 202,
   "id": "bea6bd89",
   "metadata": {
    "hidden": true
   },
   "outputs": [],
   "source": [
    "sid_to_multiplex = {\n",
    "    'HT448C1-Th1K1Fp1-U2': '/diskmnt/Projects/Users/estorrs/imaging-analysis/results/mushroom/HT448C1-Th1K1Fp1/spatial_features/HT488C1-Th1K1Fp1_spatial_features.txt', \n",
    "    'HT448C1-Th1K1Fp1-U14': '/diskmnt/Projects/Users/estorrs/imaging-analysis/results/mushroom/HT448C1-Th1K1Fp1/spatial_features/HT488C1-Th1K1Fp1-U14_spatial_features.txt', \n",
    "}"
   ]
  },
  {
   "cell_type": "code",
   "execution_count": null,
   "id": "e5c43f96",
   "metadata": {
    "hidden": true
   },
   "outputs": [],
   "source": []
  },
  {
   "cell_type": "code",
   "execution_count": null,
   "id": "c23cdefe",
   "metadata": {
    "hidden": true
   },
   "outputs": [],
   "source": []
  },
  {
   "cell_type": "code",
   "execution_count": null,
   "id": "1724327e",
   "metadata": {
    "hidden": true
   },
   "outputs": [],
   "source": []
  },
  {
   "cell_type": "code",
   "execution_count": null,
   "id": "3656a927",
   "metadata": {
    "hidden": true
   },
   "outputs": [],
   "source": []
  },
  {
   "cell_type": "markdown",
   "id": "23b0298e",
   "metadata": {},
   "source": [
    "##### common"
   ]
  },
  {
   "cell_type": "code",
   "execution_count": 14,
   "id": "9a1441d8",
   "metadata": {},
   "outputs": [
    {
     "data": {
      "text/plain": [
       "dict_keys(['HT397B1-U2', 'HT397B1-U12', 'HT397B1-U21', 'HT397B1-U22', 'HT397B1-U31'])"
      ]
     },
     "execution_count": 14,
     "metadata": {},
     "output_type": "execute_result"
    }
   ],
   "source": [
    "reg_dir = os.path.join(project_dir, case, 'registration')\n",
    "data_map = yaml.safe_load(open(os.path.join(project_dir, case, 'registered', 'metadata.yaml')))\n",
    "\n",
    "sid_to_ddf = ddfs_from_data_map(data_map)\n",
    "\n",
    "sid_to_ddf.keys()"
   ]
  },
  {
   "cell_type": "code",
   "execution_count": 15,
   "id": "325ad12b",
   "metadata": {},
   "outputs": [
    {
     "data": {
      "text/plain": [
       "['/diskmnt/Projects/Users/estorrs/imaging-analysis/results/mushroom/HT397B1/spatial_features/HT397B1-S1H3A1-U12_spatial_features.txt',\n",
       " '/diskmnt/Projects/Users/estorrs/imaging-analysis/results/mushroom/HT397B1/spatial_features/HT397B1-S1H3A1-U22_spatial_features.txt',\n",
       " '/diskmnt/Projects/Users/estorrs/imaging-analysis/results/mushroom/HT397B1/spatial_features/HT397B1-S1H3A1-U2_spatial_features.txt',\n",
       " '/diskmnt/Projects/Users/estorrs/imaging-analysis/results/mushroom/HT397B1/spatial_features/HT397B1-S1H3A1-U31_spatial_features.txt']"
      ]
     },
     "execution_count": 15,
     "metadata": {},
     "output_type": "execute_result"
    }
   ],
   "source": [
    "multiplex_fps = sorted(utils.listfiles(\n",
    "    f'/diskmnt/Projects/Users/estorrs/imaging-analysis/results/mushroom/{case}/spatial_features',\n",
    "    regex=r'features.txt$'\n",
    "))\n",
    "multiplex_fps"
   ]
  },
  {
   "cell_type": "code",
   "execution_count": 16,
   "id": "93f65d17",
   "metadata": {},
   "outputs": [
    {
     "data": {
      "text/plain": [
       "set()"
      ]
     },
     "execution_count": 16,
     "metadata": {},
     "output_type": "execute_result"
    }
   ],
   "source": [
    "set(sid_to_multiplex.keys()) - set(sid_to_ddf.keys())"
   ]
  },
  {
   "cell_type": "code",
   "execution_count": null,
   "id": "f335b5c8",
   "metadata": {},
   "outputs": [],
   "source": [
    "# sid_to_multiplex = {\n",
    "#     '-U': '', \n",
    "#     '-U': '', \n",
    "#     '-U': '',\n",
    "#     '-U': '',\n",
    "# }"
   ]
  },
  {
   "cell_type": "markdown",
   "id": "a449463f",
   "metadata": {},
   "source": [
    "## common multiplex processing"
   ]
  },
  {
   "cell_type": "code",
   "execution_count": 17,
   "id": "93b5ca6c",
   "metadata": {
    "scrolled": true
   },
   "outputs": [
    {
     "name": "stdout",
     "output_type": "stream",
     "text": [
      "HT397B1-U2\n"
     ]
    },
    {
     "name": "stderr",
     "output_type": "stream",
     "text": [
      "/diskmnt/Projects/Users/estorrs/sandbox/tmp/ipykernel_17683/1599489034.py:10: SettingWithCopyWarning: \n",
      "A value is trying to be set on a copy of a slice from a DataFrame.\n",
      "Try using .loc[row_indexer,col_indexer] = value instead\n",
      "\n",
      "See the caveats in the documentation: https://pandas.pydata.org/pandas-docs/stable/user_guide/indexing.html#returning-a-view-versus-a-copy\n",
      "  f['row'] = warped[:, 0]\n",
      "/diskmnt/Projects/Users/estorrs/sandbox/tmp/ipykernel_17683/1599489034.py:11: SettingWithCopyWarning: \n",
      "A value is trying to be set on a copy of a slice from a DataFrame.\n",
      "Try using .loc[row_indexer,col_indexer] = value instead\n",
      "\n",
      "See the caveats in the documentation: https://pandas.pydata.org/pandas-docs/stable/user_guide/indexing.html#returning-a-view-versus-a-copy\n",
      "  f['col'] = warped[:, 1]\n"
     ]
    },
    {
     "name": "stdout",
     "output_type": "stream",
     "text": [
      "HT397B1-U2 torch.return_types.max(\n",
      "values=tensor([18636, 18228]),\n",
      "indices=tensor([333,   5])) torch.Size([2, 18640, 18380])\n",
      "HT397B1-U12\n"
     ]
    },
    {
     "name": "stderr",
     "output_type": "stream",
     "text": [
      "/diskmnt/Projects/Users/estorrs/sandbox/tmp/ipykernel_17683/1599489034.py:10: SettingWithCopyWarning: \n",
      "A value is trying to be set on a copy of a slice from a DataFrame.\n",
      "Try using .loc[row_indexer,col_indexer] = value instead\n",
      "\n",
      "See the caveats in the documentation: https://pandas.pydata.org/pandas-docs/stable/user_guide/indexing.html#returning-a-view-versus-a-copy\n",
      "  f['row'] = warped[:, 0]\n",
      "/diskmnt/Projects/Users/estorrs/sandbox/tmp/ipykernel_17683/1599489034.py:11: SettingWithCopyWarning: \n",
      "A value is trying to be set on a copy of a slice from a DataFrame.\n",
      "Try using .loc[row_indexer,col_indexer] = value instead\n",
      "\n",
      "See the caveats in the documentation: https://pandas.pydata.org/pandas-docs/stable/user_guide/indexing.html#returning-a-view-versus-a-copy\n",
      "  f['col'] = warped[:, 1]\n"
     ]
    },
    {
     "name": "stdout",
     "output_type": "stream",
     "text": [
      "HT397B1-U12 torch.return_types.max(\n",
      "values=tensor([18638, 18372]),\n",
      "indices=tensor([181228, 151671])) torch.Size([2, 18640, 18380])\n",
      "HT397B1-U22\n"
     ]
    },
    {
     "name": "stderr",
     "output_type": "stream",
     "text": [
      "/diskmnt/Projects/Users/estorrs/sandbox/tmp/ipykernel_17683/1599489034.py:10: SettingWithCopyWarning: \n",
      "A value is trying to be set on a copy of a slice from a DataFrame.\n",
      "Try using .loc[row_indexer,col_indexer] = value instead\n",
      "\n",
      "See the caveats in the documentation: https://pandas.pydata.org/pandas-docs/stable/user_guide/indexing.html#returning-a-view-versus-a-copy\n",
      "  f['row'] = warped[:, 0]\n",
      "/diskmnt/Projects/Users/estorrs/sandbox/tmp/ipykernel_17683/1599489034.py:11: SettingWithCopyWarning: \n",
      "A value is trying to be set on a copy of a slice from a DataFrame.\n",
      "Try using .loc[row_indexer,col_indexer] = value instead\n",
      "\n",
      "See the caveats in the documentation: https://pandas.pydata.org/pandas-docs/stable/user_guide/indexing.html#returning-a-view-versus-a-copy\n",
      "  f['col'] = warped[:, 1]\n"
     ]
    },
    {
     "name": "stdout",
     "output_type": "stream",
     "text": [
      "HT397B1-U22 torch.return_types.max(\n",
      "values=tensor([18633, 17987]),\n",
      "indices=tensor([154221, 131538])) torch.Size([2, 18640, 18380])\n",
      "HT397B1-U31\n",
      "HT397B1-U31 torch.return_types.max(\n",
      "values=tensor([18639, 17492]),\n",
      "indices=tensor([117046, 116424])) torch.Size([2, 18640, 18380])\n"
     ]
    },
    {
     "name": "stderr",
     "output_type": "stream",
     "text": [
      "/diskmnt/Projects/Users/estorrs/sandbox/tmp/ipykernel_17683/1599489034.py:10: SettingWithCopyWarning: \n",
      "A value is trying to be set on a copy of a slice from a DataFrame.\n",
      "Try using .loc[row_indexer,col_indexer] = value instead\n",
      "\n",
      "See the caveats in the documentation: https://pandas.pydata.org/pandas-docs/stable/user_guide/indexing.html#returning-a-view-versus-a-copy\n",
      "  f['row'] = warped[:, 0]\n",
      "/diskmnt/Projects/Users/estorrs/sandbox/tmp/ipykernel_17683/1599489034.py:11: SettingWithCopyWarning: \n",
      "A value is trying to be set on a copy of a slice from a DataFrame.\n",
      "Try using .loc[row_indexer,col_indexer] = value instead\n",
      "\n",
      "See the caveats in the documentation: https://pandas.pydata.org/pandas-docs/stable/user_guide/indexing.html#returning-a-view-versus-a-copy\n",
      "  f['col'] = warped[:, 1]\n"
     ]
    }
   ],
   "source": [
    "sid_to_warped_df = {}\n",
    "for sid, fp in sid_to_multiplex.items():\n",
    "    print(sid)\n",
    "    ddf = sid_to_ddf[sid]\n",
    "    df = pd.read_csv(fp, sep='\\t', index_col=0)\n",
    "    pts = df[['row', 'col']].values.astype(int)\n",
    "    warped, mask = bigwarp.warp_pts(pts, ddf)\n",
    "    \n",
    "    f = df[mask.numpy()]\n",
    "    f['row'] = warped[:, 0]\n",
    "    f['col'] = warped[:, 1]\n",
    "    \n",
    "#     print(sid, warped.max(0), ddf.shape)\n",
    "    \n",
    "    sid_to_warped_df[sid] = f"
   ]
  },
  {
   "cell_type": "code",
   "execution_count": 204,
   "id": "ccc99cfb",
   "metadata": {},
   "outputs": [
    {
     "data": {
      "image/png": "[encoded data removed]",
      "text/plain": [
       "<Figure size 1100x200 with 22 Axes>"
      ]
     },
     "metadata": {},
     "output_type": "display_data"
    }
   ],
   "source": [
    "def format_axis(ax):\n",
    "    ax.invert_yaxis()\n",
    "    ax.axis('equal')\n",
    "    ax.set_xticks([])\n",
    "    ax.set_yticks([])\n",
    "    ax.title.set_fontsize(8)\n",
    "    ax.yaxis.label.set_fontsize(6)\n",
    "    \n",
    "cell_types = sorted(set([x for df in sid_to_warped_df.values() for x in df['cell_type']]))\n",
    "cmap = sns.color_palette('tab20') + sns.color_palette('tab20b') + sns.color_palette('tab20c')\n",
    "cell_type_to_color = {ct:c for ct, c in zip(cell_types, cmap)}\n",
    "\n",
    "nrows, ncols = len(sid_to_warped_df), len(cell_types) + 1\n",
    "fig, axs = plt.subplots(nrows=nrows, ncols=ncols, figsize=(ncols, nrows))\n",
    "if nrows == 1:\n",
    "    axs = rearrange(axs, 'n -> 1 n')\n",
    "max_x, max_y = 0, 0\n",
    "for i, (sid, df) in enumerate(sid_to_warped_df.items()):\n",
    "    ax = axs[i, 0]\n",
    "    ax.scatter(df['col'], df['row'], c=[cell_type_to_color[x] for x in df['cell_type']], s=.1)\n",
    "    ax.set_ylabel(sid, rotation=90)\n",
    "    if i == 0:\n",
    "        ax.set_title('cell_type', rotation=90)\n",
    "    \n",
    "    for j, ct in enumerate(cell_types):\n",
    "        ax = axs[i, j + 1]\n",
    "        f = df[df['cell_type']==ct]\n",
    "        ax.scatter(f['col'], f['row'], s=.1)\n",
    "        \n",
    "        if i == 0:\n",
    "            ax.set_title(ct, rotation=90)\n",
    "    \n",
    "    max_x = max(max_x, df['col'].max())\n",
    "    max_y = max(max_y, df['row'].max())\n",
    "\n",
    "for ax in axs.flatten():\n",
    "    ax.set_xlim(0, max_x)\n",
    "    ax.set_ylim(0, max_y)\n",
    "    format_axis(ax)\n"
   ]
  },
  {
   "cell_type": "code",
   "execution_count": 205,
   "id": "2032ca0d",
   "metadata": {},
   "outputs": [],
   "source": [
    "save_dir = os.path.join(output_dir, 'multiplex')\n",
    "Path(save_dir).mkdir(parents=True, exist_ok=True)\n",
    "for sid, df in sid_to_warped_df.items():\n",
    "    df.to_csv(os.path.join(save_dir, f'{sid}.txt'), sep='\\t')"
   ]
  },
  {
   "cell_type": "code",
   "execution_count": 206,
   "id": "ffc1b1bc",
   "metadata": {},
   "outputs": [
    {
     "data": {
      "text/plain": [
       "'/diskmnt/Projects/Users/estorrs/mushroom/data/projects/submission_v1/HT448C1-Th1K1Fp1/auxiliary/multiplex'"
      ]
     },
     "execution_count": 206,
     "metadata": {},
     "output_type": "execute_result"
    }
   ],
   "source": [
    "save_dir"
   ]
  },
  {
   "cell_type": "code",
   "execution_count": 3,
   "id": "b8499781",
   "metadata": {},
   "outputs": [
    {
     "name": "stdout",
     "output_type": "stream",
     "text": [
      "/diskmnt/Projects/Users/estorrs/mushroom/data/projects/submission_v1/C3L-00970/auxiliary/multiplex/C3L-00970-U2.txt\r\n",
      "/diskmnt/Projects/Users/estorrs/mushroom/data/projects/submission_v1/C3L-00982/auxiliary/multiplex/C3L-00982-U1.txt\r\n",
      "/diskmnt/Projects/Users/estorrs/mushroom/data/projects/submission_v1/C3L-00982/auxiliary/multiplex/C3L-00982-U4.txt\r\n",
      "/diskmnt/Projects/Users/estorrs/mushroom/data/projects/submission_v1/C3L-00982/auxiliary/multiplex/C3L-00982-U7.txt\r\n",
      "/diskmnt/Projects/Users/estorrs/mushroom/data/projects/submission_v1/C3L-01287/auxiliary/multiplex/C3L-01287-U2.txt\r\n",
      "/diskmnt/Projects/Users/estorrs/mushroom/data/projects/submission_v1/C3L-02551/auxiliary/multiplex/C3L-02551-U1.txt\r\n",
      "/diskmnt/Projects/Users/estorrs/mushroom/data/projects/submission_v1/C3L-02551/auxiliary/multiplex/C3L-02551-U4.txt\r\n",
      "/diskmnt/Projects/Users/estorrs/mushroom/data/projects/submission_v1/C3L-02551/auxiliary/multiplex/C3L-02551-U8.txt\r\n",
      "/diskmnt/Projects/Users/estorrs/mushroom/data/projects/submission_v1/HT206B1/auxiliary/multiplex/HT206B1-U10.txt\r\n",
      "/diskmnt/Projects/Users/estorrs/mushroom/data/projects/submission_v1/HT206B1/auxiliary/multiplex/HT206B1-U13.txt\r\n",
      "/diskmnt/Projects/Users/estorrs/mushroom/data/projects/submission_v1/HT206B1/auxiliary/multiplex/HT206B1-U18.txt\r\n",
      "/diskmnt/Projects/Users/estorrs/mushroom/data/projects/submission_v1/HT206B1/auxiliary/multiplex/HT206B1-U21.txt\r\n",
      "/diskmnt/Projects/Users/estorrs/mushroom/data/projects/submission_v1/HT206B1/auxiliary/multiplex/HT206B1-U2.txt\r\n",
      "/diskmnt/Projects/Users/estorrs/mushroom/data/projects/submission_v1/HT206B1/auxiliary/multiplex/HT206B1-U5.txt\r\n",
      "/diskmnt/Projects/Users/estorrs/mushroom/data/projects/submission_v1/HT339B2-H1/auxiliary/multiplex/HT339B2-H1-U2.txt\r\n",
      "/diskmnt/Projects/Users/estorrs/mushroom/data/projects/submission_v1/HT397B1/auxiliary/multiplex/HT397B1-U12.txt\r\n",
      "/diskmnt/Projects/Users/estorrs/mushroom/data/projects/submission_v1/HT397B1/auxiliary/multiplex/HT397B1-U22.txt\r\n",
      "/diskmnt/Projects/Users/estorrs/mushroom/data/projects/submission_v1/HT397B1/auxiliary/multiplex/HT397B1-U2.txt\r\n",
      "/diskmnt/Projects/Users/estorrs/mushroom/data/projects/submission_v1/HT397B1/auxiliary/multiplex/HT397B1-U31.txt\r\n",
      "/diskmnt/Projects/Users/estorrs/mushroom/data/projects/submission_v1/HT413C1-K2/auxiliary/multiplex/HT413C1-K2-U2.txt\r\n",
      "/diskmnt/Projects/Users/estorrs/mushroom/data/projects/submission_v1/HT413C1-Th1k4A1/auxiliary/multiplex/HT413C1-Th1k4A1-U20.txt\r\n",
      "/diskmnt/Projects/Users/estorrs/mushroom/data/projects/submission_v1/HT413C1-Th1k4A1/auxiliary/multiplex/HT413C1-Th1k4A1-U26.txt\r\n",
      "/diskmnt/Projects/Users/estorrs/mushroom/data/projects/submission_v1/HT413C1-Th1k4A1/auxiliary/multiplex/HT413C1-Th1k4A1-U32.txt\r\n",
      "/diskmnt/Projects/Users/estorrs/mushroom/data/projects/submission_v1/HT413C1-Th1k4A1/auxiliary/multiplex/HT413C1-Th1k4A1-U37.txt\r\n",
      "/diskmnt/Projects/Users/estorrs/mushroom/data/projects/submission_v1/HT413C1-Th1k4A1/auxiliary/multiplex/HT413C1-Th1k4A1-U3.txt\r\n",
      "/diskmnt/Projects/Users/estorrs/mushroom/data/projects/submission_v1/HT413C1-Th1k4A1/auxiliary/multiplex/HT413C1-Th1k4A1-U41.txt\r\n",
      "/diskmnt/Projects/Users/estorrs/mushroom/data/projects/submission_v1/HT413C1-Th1k4A1/auxiliary/multiplex/HT413C1-Th1k4A1-U42.txt\r\n",
      "/diskmnt/Projects/Users/estorrs/mushroom/data/projects/submission_v1/HT448C1-Th1K1Fp1/auxiliary/multiplex/HT448C1-Th1K1Fp1-U14.txt\r\n",
      "/diskmnt/Projects/Users/estorrs/mushroom/data/projects/submission_v1/HT448C1-Th1K1Fp1/auxiliary/multiplex/HT448C1-Th1K1Fp1-U2.txt\r\n",
      "/diskmnt/Projects/Users/estorrs/mushroom/data/projects/submission_v1/HT553P1-H2/auxiliary/multiplex/HT553P1-H2-U2.txt\r\n",
      "/diskmnt/Projects/Users/estorrs/mushroom/data/projects/submission_v1/HT565B1-H2/auxiliary/multiplex/HT565B1-H2-U2.txt\r\n",
      "/diskmnt/Projects/Users/estorrs/mushroom/data/projects/submission_v1/S18-25943-A7/auxiliary/multiplex/S18-25943-A7-U13.txt\r\n",
      "/diskmnt/Projects/Users/estorrs/mushroom/data/projects/submission_v1/S18-25943-A7/auxiliary/multiplex/S18-25943-A7-U9.txt\r\n",
      "/diskmnt/Projects/Users/estorrs/mushroom/data/projects/submission_v1/S18-5591-C8/auxiliary/multiplex/S18-5591-C8-U14.txt\r\n",
      "/diskmnt/Projects/Users/estorrs/mushroom/data/projects/submission_v1/S18-5591-C8/auxiliary/multiplex/S18-5591-C8-U19.txt\r\n",
      "/diskmnt/Projects/Users/estorrs/mushroom/data/projects/submission_v1/S18-5591-C8/auxiliary/multiplex/S18-5591-C8-U21.txt\r\n",
      "/diskmnt/Projects/Users/estorrs/mushroom/data/projects/submission_v1/S18-5591-C8/auxiliary/multiplex/S18-5591-C8-U23.txt\r\n",
      "/diskmnt/Projects/Users/estorrs/mushroom/data/projects/submission_v1/S18-5591-C8/auxiliary/multiplex/S18-5591-C8-U24.txt\r\n",
      "/diskmnt/Projects/Users/estorrs/mushroom/data/projects/submission_v1/S18-5591-C8/auxiliary/multiplex/S18-5591-C8-U8.txt\r\n",
      "/diskmnt/Projects/Users/estorrs/mushroom/data/projects/submission_v1/S18-9906/auxiliary/multiplex/S18-9906-U10.txt\r\n",
      "/diskmnt/Projects/Users/estorrs/mushroom/data/projects/submission_v1/S18-9906/auxiliary/multiplex/S18-9906-U18.txt\r\n",
      "/diskmnt/Projects/Users/estorrs/mushroom/data/projects/submission_v1/S18-9906/auxiliary/multiplex/S18-9906-U25.txt\r\n",
      "/diskmnt/Projects/Users/estorrs/mushroom/data/projects/submission_v1/S18-9906/auxiliary/multiplex/S18-9906-U3.txt\r\n"
     ]
    }
   ],
   "source": [
    "!ls /diskmnt/Projects/Users/estorrs/mushroom/data/projects/submission_v1/**/auxiliary/multiplex/*.txt"
   ]
  },
  {
   "cell_type": "code",
   "execution_count": null,
   "id": "dd3edbd5",
   "metadata": {},
   "outputs": [],
   "source": []
  }
 ],
 "metadata": {
  "kernelspec": {
   "display_name": "Python 3 (ipykernel)",
   "language": "python",
   "name": "python3"
  },
  "language_info": {
   "codemirror_mode": {
    "name": "ipython",
    "version": 3
   },
   "file_extension": ".py",
   "mimetype": "text/x-python",
   "name": "python",
   "nbconvert_exporter": "python",
   "pygments_lexer": "ipython3",
   "version": "3.9.18"
  }
 },
 "nbformat": 4,
 "nbformat_minor": 5
}
