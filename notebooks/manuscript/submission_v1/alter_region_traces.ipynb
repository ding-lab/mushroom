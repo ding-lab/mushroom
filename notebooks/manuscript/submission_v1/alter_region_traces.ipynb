{
 "cells": [
  {
   "cell_type": "markdown",
   "id": "e94da268",
   "metadata": {},
   "source": [
    "Region traces were intially only done for H&E, CODEX, and Xenium. Here adding in Cosmx and Visium HD "
   ]
  },
  {
   "cell_type": "code",
   "execution_count": 115,
   "id": "d00d4da3",
   "metadata": {},
   "outputs": [],
   "source": [
    "import pickle\n",
    "import json\n",
    "import os\n",
    "import re\n",
    "import sys\n",
    "from copy import deepcopy\n",
    "from pathlib import Path\n",
    "\n",
    "import matplotlib.pyplot as plt\n",
    "import numpy as np\n",
    "import pandas as pd\n",
    "import scanpy as sc\n",
    "import skimage\n",
    "import tifffile\n",
    "import yaml\n",
    "from matplotlib.collections import PolyCollection\n",
    "from einops import rearrange, repeat\n",
    "from pydantic_extra_types.color import Color"
   ]
  },
  {
   "cell_type": "code",
   "execution_count": 116,
   "id": "524ac119",
   "metadata": {},
   "outputs": [],
   "source": [
    "import matplotlib as mpl\n",
    "mpl.rcParams['pdf.fonttype'] = 42\n",
    "mpl.rcParams['svg.fonttype'] = 'none'"
   ]
  },
  {
   "cell_type": "code",
   "execution_count": 117,
   "id": "7e4ab32f",
   "metadata": {},
   "outputs": [
    {
     "name": "stdout",
     "output_type": "stream",
     "text": [
      "The autoreload extension is already loaded. To reload it, use:\n",
      "  %reload_ext autoreload\n"
     ]
    }
   ],
   "source": [
    "%load_ext autoreload"
   ]
  },
  {
   "cell_type": "code",
   "execution_count": 118,
   "id": "70fa2851",
   "metadata": {},
   "outputs": [],
   "source": [
    "%autoreload 2"
   ]
  },
  {
   "cell_type": "code",
   "execution_count": 119,
   "id": "ad713538",
   "metadata": {},
   "outputs": [],
   "source": [
    "from mushroom.mushroom import Mushroom, DEFAULT_CONFIG\n",
    "import mushroom.utils as utils\n",
    "import mushroom.visualization.utils as vis_utils\n",
    "import mushroom.data.multiplex as multiplex\n",
    "import mushroom.data.visium as visium\n",
    "import mushroom.data.xenium as xenium\n",
    "import mushroom.data.cosmx as cosmx\n",
    "import mushroom.visualization.tiling_utils as tiling_utils"
   ]
  },
  {
   "cell_type": "code",
   "execution_count": 120,
   "id": "29ec9025",
   "metadata": {},
   "outputs": [],
   "source": [
    "source_root = '/diskmnt/Projects/Users/estorrs/mushroom/data'\n",
    "target_root = '/data/estorrs/mushroom/data'"
   ]
  },
  {
   "cell_type": "code",
   "execution_count": 121,
   "id": "9c548776",
   "metadata": {},
   "outputs": [],
   "source": [
    "run_dir = '/data/estorrs/mushroom/data/projects/submission_v1'\n"
   ]
  },
  {
   "cell_type": "code",
   "execution_count": 122,
   "id": "8295d20e",
   "metadata": {},
   "outputs": [],
   "source": [
    "def alter_filesystem(config, source_root, target_root):\n",
    "    for entry in config['sections']:\n",
    "        for mapping in entry['data']:\n",
    "            mapping['filepath'] = mapping['filepath'].replace(source_root, target_root)\n",
    "        \n",
    "    return config"
   ]
  },
  {
   "cell_type": "code",
   "execution_count": 123,
   "id": "053cddb9",
   "metadata": {},
   "outputs": [],
   "source": [
    "case = 'HT891Z1'\n",
    "# case = 'HT704B1'\n",
    "# case = 'HT206B1'"
   ]
  },
  {
   "cell_type": "code",
   "execution_count": 124,
   "id": "f13fb183",
   "metadata": {},
   "outputs": [],
   "source": [
    "project_dir = Path(f'/data/estorrs/mushroom/data/projects/submission_v1/{case}')\n",
    "imaris_dir = project_dir / 'imaris' / 'rois'\n",
    "imaris_dir_old = project_dir / 'imaris' / 'rois_old'"
   ]
  },
  {
   "cell_type": "code",
   "execution_count": 125,
   "id": "dcd6b122",
   "metadata": {},
   "outputs": [],
   "source": [
    "fig_dir = project_dir / 'figures' \n",
    "fig_dir.mkdir(parents=True, exist_ok=True)"
   ]
  },
  {
   "cell_type": "code",
   "execution_count": 126,
   "id": "cc77a842",
   "metadata": {
    "scrolled": true
   },
   "outputs": [
    {
     "data": {
      "text/plain": [
       "{'resolution': 1.0,\n",
       " 'sections': [{'data': [{'dtype': 'xenium',\n",
       "     'filepath': '/data/estorrs/mushroom/data/projects/submission_v1/HT891Z1/registered/s0_HT891Z1-U1_xenium.h5ad'}],\n",
       "   'position': 0,\n",
       "   'sid': 'HT891Z1-U1'},\n",
       "  {'data': [{'dtype': 'he',\n",
       "     'filepath': '/data/estorrs/mushroom/data/projects/submission_v1/HT891Z1/registered/s1_HT891Z1-U4_he.tif'}],\n",
       "   'position': 10,\n",
       "   'sid': 'HT891Z1-U4'},\n",
       "  {'data': [{'dtype': 'vishd',\n",
       "     'filepath': '/data/estorrs/mushroom/data/projects/submission_v1/HT891Z1/registered/HT891Z1-U2_visiumhd.h5ad'}],\n",
       "   'position': 15,\n",
       "   'sid': 'HT891Z1-U2'},\n",
       "  {'data': [{'dtype': 'he',\n",
       "     'filepath': '/data/estorrs/mushroom/data/projects/submission_v1/HT891Z1/registered/s2_HT891Z1-U5_he.tif'}],\n",
       "   'position': 20,\n",
       "   'sid': 'HT891Z1-U5'},\n",
       "  {'data': [{'dtype': 'he',\n",
       "     'filepath': '/data/estorrs/mushroom/data/projects/submission_v1/HT891Z1/registered/s3_HT891Z1-U6_he.tif'}],\n",
       "   'position': 25,\n",
       "   'sid': 'HT891Z1-U6'},\n",
       "  {'data': [{'dtype': 'he',\n",
       "     'filepath': '/data/estorrs/mushroom/data/projects/submission_v1/HT891Z1/registered/s4_HT891Z1-U7_he.tif'}],\n",
       "   'position': 30,\n",
       "   'sid': 'HT891Z1-U7'},\n",
       "  {'data': [{'dtype': 'multiplex',\n",
       "     'filepath': '/data/estorrs/mushroom/data/projects/submission_v1/HT891Z1/registered/s5_HT891Z1-U14_multiplex.ome.tiff'}],\n",
       "   'position': 65,\n",
       "   'sid': 'HT891Z1-U14'},\n",
       "  {'data': [{'dtype': 'xenium',\n",
       "     'filepath': '/data/estorrs/mushroom/data/projects/submission_v1/HT891Z1/registered/s6_HT891Z1-U21_xenium.h5ad'}],\n",
       "   'position': 100,\n",
       "   'sid': 'HT891Z1-U21'},\n",
       "  {'data': [{'dtype': 'he',\n",
       "     'filepath': '/data/estorrs/mushroom/data/projects/submission_v1/HT891Z1/registered/s7_HT891Z1-U28_he.tif'}],\n",
       "   'position': 135,\n",
       "   'sid': 'HT891Z1-U28'},\n",
       "  {'data': [{'dtype': 'he',\n",
       "     'filepath': '/data/estorrs/mushroom/data/projects/submission_v1/HT891Z1/registered/s8_HT891Z1-U29_he.tif'}],\n",
       "   'position': 140,\n",
       "   'sid': 'HT891Z1-U29'},\n",
       "  {'data': [{'dtype': 'he',\n",
       "     'filepath': '/data/estorrs/mushroom/data/projects/submission_v1/HT891Z1/registered/s9_HT891Z1-U30_he.tif'}],\n",
       "   'position': 145,\n",
       "   'sid': 'HT891Z1-U30'},\n",
       "  {'data': [{'dtype': 'xenium',\n",
       "     'filepath': '/data/estorrs/mushroom/data/projects/submission_v1/HT891Z1/registered/s10_HT891Z1-U31_xenium.h5ad'}],\n",
       "   'position': 150,\n",
       "   'sid': 'HT891Z1-U31'},\n",
       "  {'data': [{'dtype': 'multiplex',\n",
       "     'filepath': '/data/estorrs/mushroom/data/projects/submission_v1/HT891Z1/registered/s11_HT891Z1-U32_multiplex.ome.tiff'}],\n",
       "   'position': 155,\n",
       "   'sid': 'HT891Z1-U32'},\n",
       "  {'data': [{'dtype': 'vishd',\n",
       "     'filepath': '/data/estorrs/mushroom/data/projects/submission_v1/HT891Z1/registered/HT891Z1-U33_visiumhd.h5ad'}],\n",
       "   'position': 160,\n",
       "   'sid': 'HT891Z1-U33'},\n",
       "  {'data': [{'dtype': 'he',\n",
       "     'filepath': '/data/estorrs/mushroom/data/projects/submission_v1/HT891Z1/registered/s12_HT891Z1-U35_he.tif'}],\n",
       "   'position': 170,\n",
       "   'sid': 'HT891Z1-U35'},\n",
       "  {'data': [{'dtype': 'multiplex',\n",
       "     'filepath': '/data/estorrs/mushroom/data/projects/submission_v1/HT891Z1/registered/s13_HT891Z1-U40_multiplex.ome.tiff'}],\n",
       "   'position': 195,\n",
       "   'sid': 'HT891Z1-U40'},\n",
       "  {'data': [{'dtype': 'multiplex',\n",
       "     'filepath': '/data/estorrs/mushroom/data/projects/submission_v1/HT891Z1/registered/s14_HT891Z1-U41_multiplex.ome.tiff'}],\n",
       "   'position': 200,\n",
       "   'sid': 'HT891Z1-U41'},\n",
       "  {'data': [{'dtype': 'multiplex',\n",
       "     'filepath': '/data/estorrs/mushroom/data/projects/submission_v1/HT891Z1/registered/s15_HT891Z1-U43_multiplex.ome.tiff'}],\n",
       "   'position': 210,\n",
       "   'sid': 'HT891Z1-U43'},\n",
       "  {'data': [{'dtype': 'xenium',\n",
       "     'filepath': '/data/estorrs/mushroom/data/projects/submission_v1/HT891Z1/registered/s16_HT891Z1-U44_xenium.h5ad'}],\n",
       "   'position': 215,\n",
       "   'sid': 'HT891Z1-U44'},\n",
       "  {'data': [{'dtype': 'multiplex',\n",
       "     'filepath': '/data/estorrs/mushroom/data/projects/submission_v1/HT891Z1/registered/s17_HT891Z1-U45_multiplex.ome.tiff'}],\n",
       "   'position': 220,\n",
       "   'sid': 'HT891Z1-U45'},\n",
       "  {'data': [{'dtype': 'multiplex',\n",
       "     'filepath': '/data/estorrs/mushroom/data/projects/submission_v1/HT891Z1/registered/s18_HT891Z1-U46_multiplex.ome.tiff'}],\n",
       "   'position': 225,\n",
       "   'sid': 'HT891Z1-U46'},\n",
       "  {'data': [{'dtype': 'he',\n",
       "     'filepath': '/data/estorrs/mushroom/data/projects/submission_v1/HT891Z1/registered/s19_HT891Z1-U47_he.tif'}],\n",
       "   'position': 230,\n",
       "   'sid': 'HT891Z1-U47'},\n",
       "  {'data': [{'dtype': 'he',\n",
       "     'filepath': '/data/estorrs/mushroom/data/projects/submission_v1/HT891Z1/registered/s20_HT891Z1-U48_he.tif'}],\n",
       "   'position': 235,\n",
       "   'sid': 'HT891Z1-U48'},\n",
       "  {'data': [{'dtype': 'he',\n",
       "     'filepath': '/data/estorrs/mushroom/data/projects/submission_v1/HT891Z1/registered/s21_HT891Z1-U49_he.tif'}],\n",
       "   'position': 240,\n",
       "   'sid': 'HT891Z1-U49'},\n",
       "  {'data': [{'dtype': 'he',\n",
       "     'filepath': '/data/estorrs/mushroom/data/projects/submission_v1/HT891Z1/registered/s22_HT891Z1-U50_he.tif'}],\n",
       "   'position': 245,\n",
       "   'sid': 'HT891Z1-U50'},\n",
       "  {'data': [{'dtype': 'multiplex',\n",
       "     'filepath': '/data/estorrs/mushroom/data/projects/submission_v1/HT891Z1/registered/s23_HT891Z1-U58_multiplex.ome.tiff'}],\n",
       "   'position': 285,\n",
       "   'sid': 'HT891Z1-U58'},\n",
       "  {'data': [{'dtype': 'xenium',\n",
       "     'filepath': '/data/estorrs/mushroom/data/projects/submission_v1/HT891Z1/registered/s24_HT891Z1-U59_xenium.h5ad'}],\n",
       "   'position': 290,\n",
       "   'sid': 'HT891Z1-U59'},\n",
       "  {'data': [{'dtype': 'he',\n",
       "     'filepath': '/data/estorrs/mushroom/data/projects/submission_v1/HT891Z1/registered/s25_HT891Z1-U66_he.tif'}],\n",
       "   'position': 325,\n",
       "   'sid': 'HT891Z1-U66'},\n",
       "  {'data': [{'dtype': 'he',\n",
       "     'filepath': '/data/estorrs/mushroom/data/projects/submission_v1/HT891Z1/registered/s26_HT891Z1-U68_he.tif'}],\n",
       "   'position': 335,\n",
       "   'sid': 'HT891Z1-U68'},\n",
       "  {'data': [{'dtype': 'xenium',\n",
       "     'filepath': '/data/estorrs/mushroom/data/projects/submission_v1/HT891Z1/registered/s27_HT891Z1-U69_xenium.h5ad'}],\n",
       "   'position': 340,\n",
       "   'sid': 'HT891Z1-U69'},\n",
       "  {'data': [{'dtype': 'he',\n",
       "     'filepath': '/data/estorrs/mushroom/data/projects/submission_v1/HT891Z1/registered/s28_HT891Z1-U70_he.tif'}],\n",
       "   'position': 345,\n",
       "   'sid': 'HT891Z1-U70'},\n",
       "  {'data': [{'dtype': 'multiplex',\n",
       "     'filepath': '/data/estorrs/mushroom/data/projects/submission_v1/HT891Z1/registered/s29_HT891Z1-U79_multiplex.ome.tiff'}],\n",
       "   'position': 390,\n",
       "   'sid': 'HT891Z1-U79'},\n",
       "  {'data': [{'dtype': 'xenium',\n",
       "     'filepath': '/data/estorrs/mushroom/data/projects/submission_v1/HT891Z1/registered/s30_HT891Z1-U81_xenium.h5ad'}],\n",
       "   'position': 400,\n",
       "   'sid': 'HT891Z1-U81'},\n",
       "  {'data': [{'dtype': 'he',\n",
       "     'filepath': '/data/estorrs/mushroom/data/projects/submission_v1/HT891Z1/registered/s31_HT891Z1-U84_he.tif'}],\n",
       "   'position': 415,\n",
       "   'sid': 'HT891Z1-U84'},\n",
       "  {'data': [{'dtype': 'he',\n",
       "     'filepath': '/data/estorrs/mushroom/data/projects/submission_v1/HT891Z1/registered/s32_HT891Z1-U89_he.tif'}],\n",
       "   'position': 440,\n",
       "   'sid': 'HT891Z1-U89'},\n",
       "  {'data': [{'dtype': 'he',\n",
       "     'filepath': '/data/estorrs/mushroom/data/projects/submission_v1/HT891Z1/registered/s33_HT891Z1-U90_he.tif'}],\n",
       "   'position': 445,\n",
       "   'sid': 'HT891Z1-U90'},\n",
       "  {'data': [{'dtype': 'multiplex',\n",
       "     'filepath': '/data/estorrs/mushroom/data/projects/submission_v1/HT891Z1/registered/s34_HT891Z1-U93_multiplex.ome.tiff'}],\n",
       "   'position': 460,\n",
       "   'sid': 'HT891Z1-U93'},\n",
       "  {'data': [{'dtype': 'xenium',\n",
       "     'filepath': '/data/estorrs/mushroom/data/projects/submission_v1/HT891Z1/registered/s35_HT891Z1-U94_xenium.h5ad'}],\n",
       "   'position': 465,\n",
       "   'sid': 'HT891Z1-U94'},\n",
       "  {'data': [{'dtype': 'he',\n",
       "     'filepath': '/data/estorrs/mushroom/data/projects/submission_v1/HT891Z1/registered/s36_HT891Z1-U101_he.tif'}],\n",
       "   'position': 500,\n",
       "   'sid': 'HT891Z1-U101'},\n",
       "  {'data': [{'dtype': 'he',\n",
       "     'filepath': '/data/estorrs/mushroom/data/projects/submission_v1/HT891Z1/registered/s37_HT891Z1-U102_he.tif'}],\n",
       "   'position': 505,\n",
       "   'sid': 'HT891Z1-U102'},\n",
       "  {'data': [{'dtype': 'multiplex',\n",
       "     'filepath': '/data/estorrs/mushroom/data/projects/submission_v1/HT891Z1/registered/s38_HT891Z1-U103_multiplex.ome.tiff'}],\n",
       "   'position': 510,\n",
       "   'sid': 'HT891Z1-U103'},\n",
       "  {'data': [{'dtype': 'xenium',\n",
       "     'filepath': '/data/estorrs/mushroom/data/projects/submission_v1/HT891Z1/registered/s39_HT891Z1-U104_xenium.h5ad'}],\n",
       "   'position': 515,\n",
       "   'sid': 'HT891Z1-U104'},\n",
       "  {'data': [{'dtype': 'he',\n",
       "     'filepath': '/data/estorrs/mushroom/data/projects/submission_v1/HT891Z1/registered/s40_HT891Z1-U106_he.tif'}],\n",
       "   'position': 525,\n",
       "   'sid': 'HT891Z1-U106'},\n",
       "  {'data': [{'dtype': 'he',\n",
       "     'filepath': '/data/estorrs/mushroom/data/projects/submission_v1/HT891Z1/registered/s41_HT891Z1-U107_he.tif'}],\n",
       "   'position': 530,\n",
       "   'sid': 'HT891Z1-U107'},\n",
       "  {'data': [{'dtype': 'multiplex',\n",
       "     'filepath': '/data/estorrs/mushroom/data/projects/submission_v1/HT891Z1/registered/s42_HT891Z1-U108_multiplex.ome.tiff'}],\n",
       "   'position': 535,\n",
       "   'sid': 'HT891Z1-U108'},\n",
       "  {'data': [{'dtype': 'multiplex',\n",
       "     'filepath': '/data/estorrs/mushroom/data/projects/submission_v1/HT891Z1/registered/s43_HT891Z1-U109_multiplex.ome.tiff'}],\n",
       "   'position': 540,\n",
       "   'sid': 'HT891Z1-U109'},\n",
       "  {'data': [{'dtype': 'multiplex',\n",
       "     'filepath': '/data/estorrs/mushroom/data/projects/submission_v1/HT891Z1/registered/s44_HT891Z1-U110_multiplex.ome.tiff'}],\n",
       "   'position': 545,\n",
       "   'sid': 'HT891Z1-U110'},\n",
       "  {'data': [{'dtype': 'multiplex',\n",
       "     'filepath': '/data/estorrs/mushroom/data/projects/submission_v1/HT891Z1/registered/s45_HT891Z1-U111_multiplex.ome.tiff'}],\n",
       "   'position': 550,\n",
       "   'sid': 'HT891Z1-U111'},\n",
       "  {'data': [{'dtype': 'multiplex',\n",
       "     'filepath': '/data/estorrs/mushroom/data/projects/submission_v1/HT891Z1/registered/s46_HT891Z1-U113_multiplex.ome.tiff'}],\n",
       "   'position': 560,\n",
       "   'sid': 'HT891Z1-U113'},\n",
       "  {'data': [{'dtype': 'he',\n",
       "     'filepath': '/data/estorrs/mushroom/data/projects/submission_v1/HT891Z1/registered/s47_HT891Z1-U114_he.tif'}],\n",
       "   'position': 565,\n",
       "   'sid': 'HT891Z1-U114'},\n",
       "  {'data': [{'dtype': 'he',\n",
       "     'filepath': '/data/estorrs/mushroom/data/projects/submission_v1/HT891Z1/registered/s48_HT891Z1-U115_he.tif'}],\n",
       "   'position': 570,\n",
       "   'sid': 'HT891Z1-U115'},\n",
       "  {'data': [{'dtype': 'he',\n",
       "     'filepath': '/data/estorrs/mushroom/data/projects/submission_v1/HT891Z1/registered/s49_HT891Z1-U116_he.tif'}],\n",
       "   'position': 575,\n",
       "   'sid': 'HT891Z1-U116'}],\n",
       " 'target_sid': 'HT891Z1-U1'}"
      ]
     },
     "execution_count": 126,
     "metadata": {},
     "output_type": "execute_result"
    }
   ],
   "source": [
    "config = yaml.safe_load(open(os.path.join(project_dir, 'registered', 'metadata.yaml')))\n",
    "config = alter_filesystem(config, source_root, target_root)\n",
    "config"
   ]
  },
  {
   "cell_type": "code",
   "execution_count": 127,
   "id": "3f7c1653",
   "metadata": {},
   "outputs": [],
   "source": [
    "sid_to_z = {entry['sid']:i for i, entry in enumerate(config['sections'])}"
   ]
  },
  {
   "cell_type": "code",
   "execution_count": 128,
   "id": "77053cdc",
   "metadata": {},
   "outputs": [],
   "source": [
    "case_to_rois = {\n",
    "    'HT891Z1': {\n",
    "        'roi1': (1300, 2100, 2500, 3500), # normal -> gp3\n",
    "        'roi2': (4650, 5650, 1900, 2900), # normal -> gp3\n",
    "        'roi2-p2': (4650, 5650, 1900, 2900), # PIN -> gp3\n",
    "    },\n",
    "    'HT913Z1': {\n",
    "        'roi1': (4000, 4750, 5800, 7200), # normal -> gp3\n",
    "        'roi1-p2': (4000, 4750, 5800, 7200) # normal -> gp3\n",
    "    },\n",
    "    'HT704B1': {\n",
    "        'roi1': (2400, 3000, 5800, 6600), # DCIS -> IDC\n",
    "        'roi2': (3700, 4300, 5750, 6500), # DCIS -> partial IDC\n",
    "        'roi3': (0, 7250, 0, 9063), # full region trace of dcis\n",
    "    }\n",
    "}"
   ]
  },
  {
   "cell_type": "code",
   "execution_count": 143,
   "id": "8e95dc8e",
   "metadata": {},
   "outputs": [],
   "source": [
    "roi = 'roi1'"
   ]
  },
  {
   "cell_type": "code",
   "execution_count": 144,
   "id": "6060bfd3",
   "metadata": {},
   "outputs": [
    {
     "data": {
      "text/plain": [
       "((52, 3, 800, 1000), (50, 3, 800, 1000))"
      ]
     },
     "execution_count": 144,
     "metadata": {},
     "output_type": "execute_result"
    }
   ],
   "source": [
    "stacked_old = tifffile.imread(imaris_dir_old / f'{roi}.ome.tif')\n",
    "stacked = tifffile.imread(imaris_dir / f'{roi}.ome.tif')\n",
    "stacked.shape, stacked_old.shape"
   ]
  },
  {
   "cell_type": "code",
   "execution_count": 145,
   "id": "025996f4",
   "metadata": {
    "scrolled": true
   },
   "outputs": [
    {
     "data": {
      "text/plain": [
       "(52, 50)"
      ]
     },
     "execution_count": 145,
     "metadata": {},
     "output_type": "execute_result"
    }
   ],
   "source": [
    "sids, sids_old = [], []\n",
    "for i, section in enumerate(config['sections']):\n",
    "    sid = section['sid']\n",
    "    # these dtypes are initially in there\n",
    "    for entry in section['data']:\n",
    "        dtype = entry['dtype']\n",
    "        if dtype in ['he', 'batch2_he', 'xenium', 'multiplex']:\n",
    "            sids_old.append(sid)\n",
    "        if dtype in ['he', 'batch2_he', 'xenium', 'multiplex', 'cosmx', 'vishd']:\n",
    "            sids.append(sid)\n",
    "len(sids), len(sids_old)"
   ]
  },
  {
   "cell_type": "code",
   "execution_count": 146,
   "id": "6f545971",
   "metadata": {},
   "outputs": [],
   "source": [
    "assert len(stacked) == len(sids)\n",
    "assert len(stacked_old) == len(sids_old)"
   ]
  },
  {
   "cell_type": "code",
   "execution_count": 147,
   "id": "2dfc7dd0",
   "metadata": {},
   "outputs": [],
   "source": [
    "geojson_fp = imaris_dir_old / f'{roi}.geojson'\n",
    "assert geojson_fp.exists()\n",
    "d_old = json.load(open(geojson_fp))\n",
    "# d_old"
   ]
  },
  {
   "cell_type": "code",
   "execution_count": 148,
   "id": "27b2ec75",
   "metadata": {},
   "outputs": [],
   "source": [
    "d = deepcopy(d_old)\n",
    "for i, x in enumerate(d_old['features']):\n",
    "    z_old = x['geometry']['plane']['z'] if 'plane' in x['geometry'] else 0\n",
    "\n",
    "    sid_old = sids_old[z_old]\n",
    "    \n",
    "    z = sids.index(sid_old)\n",
    "    \n",
    "    if 'plane' in x['geometry']:\n",
    "        d['features'][i]['geometry']['plane']['z'] = z\n",
    "    "
   ]
  },
  {
   "cell_type": "code",
   "execution_count": null,
   "id": "acf3ac0a",
   "metadata": {},
   "outputs": [],
   "source": []
  },
  {
   "cell_type": "code",
   "execution_count": 149,
   "id": "04d6643c",
   "metadata": {},
   "outputs": [],
   "source": [
    "json.dump(d, open(imaris_dir / f'{roi}.geojson', 'w'))"
   ]
  },
  {
   "cell_type": "code",
   "execution_count": null,
   "id": "192ad7c4",
   "metadata": {},
   "outputs": [],
   "source": []
  },
  {
   "cell_type": "code",
   "execution_count": null,
   "id": "1d7b434d",
   "metadata": {},
   "outputs": [],
   "source": []
  },
  {
   "cell_type": "code",
   "execution_count": null,
   "id": "2d5ac5a2",
   "metadata": {},
   "outputs": [],
   "source": []
  },
  {
   "cell_type": "code",
   "execution_count": null,
   "id": "5f6f1267",
   "metadata": {},
   "outputs": [],
   "source": []
  },
  {
   "cell_type": "code",
   "execution_count": null,
   "id": "f47e279b",
   "metadata": {},
   "outputs": [],
   "source": []
  },
  {
   "cell_type": "code",
   "execution_count": null,
   "id": "2af50a81",
   "metadata": {},
   "outputs": [],
   "source": []
  },
  {
   "cell_type": "code",
   "execution_count": null,
   "id": "f43ad4e1",
   "metadata": {},
   "outputs": [],
   "source": []
  },
  {
   "cell_type": "code",
   "execution_count": null,
   "id": "6223a5fa",
   "metadata": {},
   "outputs": [],
   "source": []
  }
 ],
 "metadata": {
  "kernelspec": {
   "display_name": "Python 3 (ipykernel)",
   "language": "python",
   "name": "python3"
  },
  "language_info": {
   "codemirror_mode": {
    "name": "ipython",
    "version": 3
   },
   "file_extension": ".py",
   "mimetype": "text/x-python",
   "name": "python",
   "nbconvert_exporter": "python",
   "pygments_lexer": "ipython3",
   "version": "3.10.13"
  }
 },
 "nbformat": 4,
 "nbformat_minor": 5
}
