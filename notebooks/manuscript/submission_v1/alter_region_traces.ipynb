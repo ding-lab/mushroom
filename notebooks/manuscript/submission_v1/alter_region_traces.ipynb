{
 "cells": [
  {
   "cell_type": "markdown",
   "id": "e94da268",
   "metadata": {},
   "source": [
    "Region traces were intially only done for H&E, CODEX, and Xenium. Here adding in Cosmx and Visium HD "
   ]
  },
  {
   "cell_type": "code",
   "execution_count": 41,
   "id": "d00d4da3",
   "metadata": {},
   "outputs": [],
   "source": [
    "import pickle\n",
    "import json\n",
    "import os\n",
    "import re\n",
    "import sys\n",
    "from copy import deepcopy\n",
    "from pathlib import Path\n",
    "\n",
    "import matplotlib.pyplot as plt\n",
    "import numpy as np\n",
    "import pandas as pd\n",
    "import scanpy as sc\n",
    "import skimage\n",
    "import tifffile\n",
    "import yaml\n",
    "from matplotlib.collections import PolyCollection\n",
    "from einops import rearrange, repeat\n",
    "from pydantic_extra_types.color import Color"
   ]
  },
  {
   "cell_type": "code",
   "execution_count": 42,
   "id": "524ac119",
   "metadata": {},
   "outputs": [],
   "source": [
    "import matplotlib as mpl\n",
    "mpl.rcParams['pdf.fonttype'] = 42\n",
    "mpl.rcParams['svg.fonttype'] = 'none'"
   ]
  },
  {
   "cell_type": "code",
   "execution_count": 43,
   "id": "7e4ab32f",
   "metadata": {},
   "outputs": [
    {
     "name": "stdout",
     "output_type": "stream",
     "text": [
      "The autoreload extension is already loaded. To reload it, use:\n",
      "  %reload_ext autoreload\n"
     ]
    }
   ],
   "source": [
    "%load_ext autoreload"
   ]
  },
  {
   "cell_type": "code",
   "execution_count": 44,
   "id": "70fa2851",
   "metadata": {},
   "outputs": [],
   "source": [
    "%autoreload 2"
   ]
  },
  {
   "cell_type": "code",
   "execution_count": 45,
   "id": "ad713538",
   "metadata": {},
   "outputs": [],
   "source": [
    "from mushroom.mushroom import Mushroom, DEFAULT_CONFIG\n",
    "import mushroom.utils as utils\n",
    "import mushroom.visualization.utils as vis_utils\n",
    "import mushroom.data.multiplex as multiplex\n",
    "import mushroom.data.visium as visium\n",
    "import mushroom.data.xenium as xenium\n",
    "import mushroom.data.cosmx as cosmx\n",
    "import mushroom.visualization.tiling_utils as tiling_utils"
   ]
  },
  {
   "cell_type": "code",
   "execution_count": 46,
   "id": "29ec9025",
   "metadata": {},
   "outputs": [],
   "source": [
    "source_root = '/diskmnt/Projects/Users/estorrs/mushroom/data'\n",
    "target_root = '/data/estorrs/mushroom/data'"
   ]
  },
  {
   "cell_type": "code",
   "execution_count": 47,
   "id": "9c548776",
   "metadata": {},
   "outputs": [],
   "source": [
    "run_dir = '/data/estorrs/mushroom/data/projects/submission_v1'\n"
   ]
  },
  {
   "cell_type": "code",
   "execution_count": 48,
   "id": "8295d20e",
   "metadata": {},
   "outputs": [],
   "source": [
    "def alter_filesystem(config, source_root, target_root):\n",
    "    for entry in config['sections']:\n",
    "        for mapping in entry['data']:\n",
    "            mapping['filepath'] = mapping['filepath'].replace(source_root, target_root)\n",
    "        \n",
    "    return config"
   ]
  },
  {
   "cell_type": "code",
   "execution_count": 49,
   "id": "053cddb9",
   "metadata": {},
   "outputs": [],
   "source": [
    "# case = 'HT891Z1'\n",
    "# case = 'HT704B1'\n",
    "case = 'HT206B1'"
   ]
  },
  {
   "cell_type": "code",
   "execution_count": 50,
   "id": "f13fb183",
   "metadata": {},
   "outputs": [],
   "source": [
    "project_dir = Path(f'/data/estorrs/mushroom/data/projects/submission_v1/{case}')\n",
    "imaris_dir = project_dir / 'imaris' / 'rois'\n",
    "imaris_dir_old = project_dir / 'imaris' / 'rois_old'"
   ]
  },
  {
   "cell_type": "code",
   "execution_count": 51,
   "id": "dcd6b122",
   "metadata": {},
   "outputs": [],
   "source": [
    "fig_dir = project_dir / 'figures' \n",
    "fig_dir.mkdir(parents=True, exist_ok=True)"
   ]
  },
  {
   "cell_type": "code",
   "execution_count": 52,
   "id": "cc77a842",
   "metadata": {
    "scrolled": true
   },
   "outputs": [
    {
     "data": {
      "text/plain": [
       "{'resolution': 1.0,\n",
       " 'sections': [{'data': [{'dtype': 'xenium',\n",
       "     'filepath': '/data/estorrs/mushroom/data/projects/submission_v1/HT206B1/registered/s0_HT206B1-U1_xenium.h5ad'}],\n",
       "   'position': 0,\n",
       "   'sid': 'HT206B1-U1'},\n",
       "  {'data': [{'dtype': 'he',\n",
       "     'filepath': '/data/estorrs/mushroom/data/projects/submission_v1/HT206B1/registered/s2_HT206B1-U4_he.tif'}],\n",
       "   'position': 5,\n",
       "   'sid': 'HT206B1-U4'},\n",
       "  {'data': [{'dtype': 'multiplex',\n",
       "     'filepath': '/data/estorrs/mushroom/data/projects/submission_v1/HT206B1/registered/s1_HT206B1-U2_multiplex.ome.tiff'}],\n",
       "   'position': 15,\n",
       "   'sid': 'HT206B1-U2'},\n",
       "  {'data': [{'dtype': 'multiplex',\n",
       "     'filepath': '/data/estorrs/mushroom/data/projects/submission_v1/HT206B1/registered/s3_HT206B1-U5_multiplex.ome.tiff'}],\n",
       "   'position': 20,\n",
       "   'sid': 'HT206B1-U5'},\n",
       "  {'data': [{'dtype': 'xenium',\n",
       "     'filepath': '/data/estorrs/mushroom/data/projects/submission_v1/HT206B1/registered/s4_HT206B1-U8_xenium.h5ad'}],\n",
       "   'position': 40,\n",
       "   'sid': 'HT206B1-U8'},\n",
       "  {'data': [{'dtype': 'xenium',\n",
       "     'filepath': '/data/estorrs/mushroom/data/projects/submission_v1/HT206B1/registered/s5_HT206B1-U9_xenium.h5ad'}],\n",
       "   'position': 45,\n",
       "   'sid': 'HT206B1-U9'},\n",
       "  {'data': [{'dtype': 'multiplex',\n",
       "     'filepath': '/data/estorrs/mushroom/data/projects/submission_v1/HT206B1/registered/s6_HT206B1-U10_multiplex.ome.tiff'}],\n",
       "   'position': 50,\n",
       "   'sid': 'HT206B1-U10'},\n",
       "  {'data': [{'dtype': 'he',\n",
       "     'filepath': '/data/estorrs/mushroom/data/projects/submission_v1/HT206B1/registered/s7_HT206B1-U12_he.tif'}],\n",
       "   'position': 60,\n",
       "   'sid': 'HT206B1-U12'},\n",
       "  {'data': [{'dtype': 'multiplex',\n",
       "     'filepath': '/data/estorrs/mushroom/data/projects/submission_v1/HT206B1/registered/s8_HT206B1-U13_multiplex.ome.tiff'}],\n",
       "   'position': 65,\n",
       "   'sid': 'HT206B1-U13'},\n",
       "  {'data': [{'dtype': 'cosmx',\n",
       "     'filepath': '/data/estorrs/mushroom/data/projects/submission_v1/HT206B1/registered/sidecar1_HT206B1-U15_cosmx.h5ad'}],\n",
       "   'position': 75,\n",
       "   'sid': 'HT206B1-U15'},\n",
       "  {'data': [{'dtype': 'xenium',\n",
       "     'filepath': '/data/estorrs/mushroom/data/projects/submission_v1/HT206B1/registered/s9_HT206B1-U16_xenium.h5ad'}],\n",
       "   'position': 80,\n",
       "   'sid': 'HT206B1-U16'},\n",
       "  {'data': [{'dtype': 'xenium',\n",
       "     'filepath': '/data/estorrs/mushroom/data/projects/submission_v1/HT206B1/registered/s10_HT206B1-U17_xenium.h5ad'}],\n",
       "   'position': 85,\n",
       "   'sid': 'HT206B1-U17'},\n",
       "  {'data': [{'dtype': 'multiplex',\n",
       "     'filepath': '/data/estorrs/mushroom/data/projects/submission_v1/HT206B1/registered/s11_HT206B1-U18_multiplex.ome.tiff'}],\n",
       "   'position': 90,\n",
       "   'sid': 'HT206B1-U18'},\n",
       "  {'data': [{'dtype': 'he',\n",
       "     'filepath': '/data/estorrs/mushroom/data/projects/submission_v1/HT206B1/registered/s12_HT206B1-U20_he.tif'}],\n",
       "   'position': 100,\n",
       "   'sid': 'HT206B1-U20'},\n",
       "  {'data': [{'dtype': 'multiplex',\n",
       "     'filepath': '/data/estorrs/mushroom/data/projects/submission_v1/HT206B1/registered/s13_HT206B1-U21_multiplex.ome.tiff'}],\n",
       "   'position': 105,\n",
       "   'sid': 'HT206B1-U21'},\n",
       "  {'data': [{'dtype': 'xenium',\n",
       "     'filepath': '/data/estorrs/mushroom/data/projects/submission_v1/HT206B1/registered/s14_HT206B1-U24_xenium.h5ad'}],\n",
       "   'position': 120,\n",
       "   'sid': 'HT206B1-U24'}],\n",
       " 'target_sid': 'HT206B1-U1'}"
      ]
     },
     "execution_count": 52,
     "metadata": {},
     "output_type": "execute_result"
    }
   ],
   "source": [
    "config = yaml.safe_load(open(os.path.join(project_dir, 'registered', 'metadata.yaml')))\n",
    "config = alter_filesystem(config, source_root, target_root)\n",
    "config"
   ]
  },
  {
   "cell_type": "code",
   "execution_count": 53,
   "id": "3f7c1653",
   "metadata": {},
   "outputs": [],
   "source": [
    "sid_to_z = {entry['sid']:i for i, entry in enumerate(config['sections'])}"
   ]
  },
  {
   "cell_type": "code",
   "execution_count": 54,
   "id": "77053cdc",
   "metadata": {},
   "outputs": [],
   "source": [
    "case_to_rois = {\n",
    "    'HT891Z1': {\n",
    "        'roi1': (1300, 2100, 2500, 3500), # normal -> gp3\n",
    "        'roi2': (4650, 5650, 1900, 2900), # normal -> gp3\n",
    "        'roi2-p2': (4650, 5650, 1900, 2900), # PIN -> gp3\n",
    "    },\n",
    "    'HT913Z1': {\n",
    "        'roi1': (4000, 4750, 5800, 7200), # normal -> gp3\n",
    "        'roi1-p2': (4000, 4750, 5800, 7200) # normal -> gp3\n",
    "    },\n",
    "    'HT704B1': {\n",
    "        'roi1': (2400, 3000, 5800, 6600), # DCIS -> IDC\n",
    "        'roi2': (3700, 4300, 5750, 6500), # DCIS -> partial IDC\n",
    "        'roi3': (0, 7250, 0, 9063), # full region trace of dcis\n",
    "    },\n",
    "    'HT206B1': {\n",
    "        'roi1': (1650, 2600, 4900, 5750), # dcis -> idc\n",
    "        'roi2': (2700, 4300, 3600, 5500) # dcis -> idc\n",
    "    },\n",
    "}"
   ]
  },
  {
   "cell_type": "code",
   "execution_count": 63,
   "id": "8e95dc8e",
   "metadata": {},
   "outputs": [],
   "source": [
    "roi = 'roi2'"
   ]
  },
  {
   "cell_type": "code",
   "execution_count": 64,
   "id": "6060bfd3",
   "metadata": {},
   "outputs": [
    {
     "data": {
      "text/plain": [
       "((16, 3, 1600, 1900), (15, 3, 1600, 1900))"
      ]
     },
     "execution_count": 64,
     "metadata": {},
     "output_type": "execute_result"
    }
   ],
   "source": [
    "stacked_old = tifffile.imread(imaris_dir_old / f'{roi}.ome.tif')\n",
    "stacked = tifffile.imread(imaris_dir / f'{roi}.ome.tif')\n",
    "stacked.shape, stacked_old.shape"
   ]
  },
  {
   "cell_type": "code",
   "execution_count": 65,
   "id": "025996f4",
   "metadata": {
    "scrolled": true
   },
   "outputs": [
    {
     "data": {
      "text/plain": [
       "(16, 15)"
      ]
     },
     "execution_count": 65,
     "metadata": {},
     "output_type": "execute_result"
    }
   ],
   "source": [
    "sids, sids_old = [], []\n",
    "for i, section in enumerate(config['sections']):\n",
    "    sid = section['sid']\n",
    "    # these dtypes are initially in there\n",
    "    for entry in section['data']:\n",
    "        dtype = entry['dtype']\n",
    "        if dtype in ['he', 'batch2_he', 'xenium', 'multiplex']:\n",
    "            sids_old.append(sid)\n",
    "        if dtype in ['he', 'batch2_he', 'xenium', 'multiplex', 'cosmx', 'vishd']:\n",
    "            sids.append(sid)\n",
    "len(sids), len(sids_old)"
   ]
  },
  {
   "cell_type": "code",
   "execution_count": null,
   "id": "84c4ba88-24b4-489a-9fe9-29049e643807",
   "metadata": {},
   "outputs": [],
   "source": []
  },
  {
   "cell_type": "code",
   "execution_count": 66,
   "id": "6f545971",
   "metadata": {},
   "outputs": [],
   "source": [
    "assert len(stacked) == len(sids)\n",
    "assert len(stacked_old) == len(sids_old)"
   ]
  },
  {
   "cell_type": "code",
   "execution_count": null,
   "id": "14095d81-df4e-427e-a271-35e6929c0b49",
   "metadata": {},
   "outputs": [],
   "source": []
  },
  {
   "cell_type": "code",
   "execution_count": 67,
   "id": "2dfc7dd0",
   "metadata": {},
   "outputs": [],
   "source": [
    "geojson_fp = imaris_dir_old / f'{roi}.geojson'\n",
    "assert geojson_fp.exists()\n",
    "d_old = json.load(open(geojson_fp))\n",
    "# d_old"
   ]
  },
  {
   "cell_type": "code",
   "execution_count": 68,
   "id": "27b2ec75",
   "metadata": {},
   "outputs": [],
   "source": [
    "d = deepcopy(d_old)\n",
    "for i, x in enumerate(d_old['features']):\n",
    "    z_old = x['geometry']['plane']['z'] if 'plane' in x['geometry'] else 0\n",
    "\n",
    "    sid_old = sids_old[z_old]\n",
    "    \n",
    "    z = sids.index(sid_old)\n",
    "    \n",
    "    if 'plane' in x['geometry']:\n",
    "        d['features'][i]['geometry']['plane']['z'] = z\n",
    "    "
   ]
  },
  {
   "cell_type": "code",
   "execution_count": null,
   "id": "acf3ac0a",
   "metadata": {},
   "outputs": [],
   "source": []
  },
  {
   "cell_type": "code",
   "execution_count": 69,
   "id": "04d6643c",
   "metadata": {},
   "outputs": [],
   "source": [
    "json.dump(d, open(imaris_dir / f'{roi}.geojson', 'w'))"
   ]
  },
  {
   "cell_type": "code",
   "execution_count": null,
   "id": "192ad7c4",
   "metadata": {},
   "outputs": [],
   "source": []
  },
  {
   "cell_type": "code",
   "execution_count": null,
   "id": "1d7b434d",
   "metadata": {},
   "outputs": [],
   "source": []
  },
  {
   "cell_type": "code",
   "execution_count": null,
   "id": "2d5ac5a2",
   "metadata": {},
   "outputs": [],
   "source": []
  },
  {
   "cell_type": "code",
   "execution_count": null,
   "id": "5f6f1267",
   "metadata": {},
   "outputs": [],
   "source": []
  },
  {
   "cell_type": "code",
   "execution_count": null,
   "id": "f47e279b",
   "metadata": {},
   "outputs": [],
   "source": []
  },
  {
   "cell_type": "code",
   "execution_count": null,
   "id": "2af50a81",
   "metadata": {},
   "outputs": [],
   "source": []
  },
  {
   "cell_type": "code",
   "execution_count": null,
   "id": "f43ad4e1",
   "metadata": {},
   "outputs": [],
   "source": []
  },
  {
   "cell_type": "code",
   "execution_count": null,
   "id": "6223a5fa",
   "metadata": {},
   "outputs": [],
   "source": []
  }
 ],
 "metadata": {
  "kernelspec": {
   "display_name": "Python 3 (ipykernel)",
   "language": "python",
   "name": "python3"
  },
  "language_info": {
   "codemirror_mode": {
    "name": "ipython",
    "version": 3
   },
   "file_extension": ".py",
   "mimetype": "text/x-python",
   "name": "python",
   "nbconvert_exporter": "python",
   "pygments_lexer": "ipython3",
   "version": "3.10.15"
  }
 },
 "nbformat": 4,
 "nbformat_minor": 5
}
