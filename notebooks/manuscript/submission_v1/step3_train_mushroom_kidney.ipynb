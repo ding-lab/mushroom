{
 "cells": [
  {
   "cell_type": "code",
   "execution_count": 2,
   "id": "589c42e2",
   "metadata": {},
   "outputs": [],
   "source": [
    "import json\n",
    "import os\n",
    "import sys\n",
    "from copy import deepcopy\n",
    "from pathlib import Path\n",
    "\n",
    "import matplotlib.pyplot as plt\n",
    "import numpy as np\n",
    "import skimage\n",
    "import seaborn as sns\n",
    "import tifffile\n",
    "import yaml"
   ]
  },
  {
   "cell_type": "code",
   "execution_count": 3,
   "id": "55d89975",
   "metadata": {},
   "outputs": [],
   "source": [
    "%load_ext autoreload"
   ]
  },
  {
   "cell_type": "code",
   "execution_count": 4,
   "id": "be2bf99c",
   "metadata": {},
   "outputs": [],
   "source": [
    "%autoreload 2"
   ]
  },
  {
   "cell_type": "code",
   "execution_count": 5,
   "id": "772f1acf",
   "metadata": {},
   "outputs": [],
   "source": [
    "from mushroom.mushroom import Mushroom, DEFAULT_CONFIG\n",
    "import mushroom.data.he as he\n",
    "import mushroom.data.multiplex as multiplex\n",
    "import mushroom.data.visium as visium\n",
    "import mushroom.utils as utils\n",
    "import mushroom.visualization.utils as vis_utils"
   ]
  },
  {
   "cell_type": "code",
   "execution_count": 6,
   "id": "8392a40c",
   "metadata": {},
   "outputs": [],
   "source": [
    "source_root = '/diskmnt/Projects/Users/estorrs/mushroom/data'\n",
    "target_root = '/data/estorrs/mushroom/data'"
   ]
  },
  {
   "cell_type": "code",
   "execution_count": 7,
   "id": "3dc9ca41",
   "metadata": {},
   "outputs": [],
   "source": [
    "run_dir = '/data/estorrs/mushroom/data/projects/submission_v1/kidney/'"
   ]
  },
  {
   "cell_type": "markdown",
   "id": "39a0703c",
   "metadata": {},
   "source": [
    "## define inputs"
   ]
  },
  {
   "cell_type": "code",
   "execution_count": 14,
   "id": "d01f60fe",
   "metadata": {},
   "outputs": [
    {
     "data": {
      "text/plain": [
       "['/data/estorrs/mushroom/data/projects/submission_v1/kidney/NMK12F-Fp1/registered/metadata.yaml',\n",
       " '/data/estorrs/mushroom/data/projects/submission_v1/kidney/NMK12M-Fp1/registered/metadata.yaml',\n",
       " '/data/estorrs/mushroom/data/projects/submission_v1/kidney/NMK3F-Fp1/registered/metadata.yaml',\n",
       " '/data/estorrs/mushroom/data/projects/submission_v1/kidney/NMK3M-Fp1/registered/metadata.yaml',\n",
       " '/data/estorrs/mushroom/data/projects/submission_v1/kidney/NMK92F-Fp1/registered/metadata.yaml',\n",
       " '/data/estorrs/mushroom/data/projects/submission_v1/kidney/NMK92F2-Fc1U1Bs2/registered/metadata.yaml',\n",
       " '/data/estorrs/mushroom/data/projects/submission_v1/kidney/NMK92M-Fp1/registered/metadata.yaml',\n",
       " '/data/estorrs/mushroom/data/projects/submission_v1/kidney/NMK92M1-Fc1U1Bs2/registered/metadata.yaml',\n",
       " '/data/estorrs/mushroom/data/projects/submission_v1/kidney/P1F1MnR-Fp1/registered/metadata.yaml',\n",
       " '/data/estorrs/mushroom/data/projects/submission_v1/kidney/P1M3MnR-Fp1/registered/metadata.yaml',\n",
       " '/data/estorrs/mushroom/data/projects/submission_v1/kidney/P1_F1LM3l/registered/metadata.yaml',\n",
       " '/data/estorrs/mushroom/data/projects/submission_v1/kidney/P21_F2RM6R/registered/metadata.yaml']"
      ]
     },
     "execution_count": 14,
     "metadata": {},
     "output_type": "execute_result"
    }
   ],
   "source": [
    "fps = sorted(utils.listfiles(run_dir, regex=r'registered/metadata.yaml$'))\n",
    "fps"
   ]
  },
  {
   "cell_type": "code",
   "execution_count": 15,
   "id": "537bff5a",
   "metadata": {},
   "outputs": [],
   "source": [
    "# fps = [\n",
    "#     '/data/estorrs/mushroom/data/projects/submission_v1/kidney/P21_F2RM6R/registered/metadata.yaml'\n",
    "# ]\n",
    "# fps"
   ]
  },
  {
   "cell_type": "code",
   "execution_count": 16,
   "id": "2c766bbd",
   "metadata": {},
   "outputs": [
    {
     "data": {
      "text/plain": [
       "{'sections': None,\n",
       " 'dtype_to_chkpt': None,\n",
       " 'dtype_specific_params': {'visium': {'trainer_kwargs': {'tiling_method': 'radius'}}},\n",
       " 'sae_kwargs': {'size': 8,\n",
       "  'patch_size': 1,\n",
       "  'encoder_dim': 128,\n",
       "  'codebook_dim': 64,\n",
       "  'num_clusters': (8, 4, 2),\n",
       "  'dtype_to_decoder_dims': {'multiplex': (256, 128, 64),\n",
       "   'he': (256, 128, 10),\n",
       "   'visium': (256, 512, 2048),\n",
       "   'xenium': (256, 256, 256),\n",
       "   'cosmx': (256, 512, 1024),\n",
       "   'points': (256, 512, 1024)},\n",
       "  'recon_scaler': 1.0,\n",
       "  'neigh_scaler': 0.01},\n",
       " 'trainer_kwargs': {'input_resolution': 1.0,\n",
       "  'target_resolution': 0.02,\n",
       "  'pct_expression': 0.05,\n",
       "  'log_base': 2.718281828459045,\n",
       "  'tiling_method': 'grid',\n",
       "  'tiling_radius': 1.0,\n",
       "  'batch_size': 128,\n",
       "  'num_workers': 0,\n",
       "  'devices': 1,\n",
       "  'accelerator': 'cpu',\n",
       "  'max_epochs': 1,\n",
       "  'steps_per_epoch': 1000,\n",
       "  'lr': 0.0001,\n",
       "  'out_dir': './outputs',\n",
       "  'save_every': 1,\n",
       "  'log_every_n_steps': 10,\n",
       "  'logger_type': 'tensorboard',\n",
       "  'logger_project': 'portobello',\n",
       "  'channel_mapping': {},\n",
       "  'data_mask': None}}"
      ]
     },
     "execution_count": 16,
     "metadata": {},
     "output_type": "execute_result"
    }
   ],
   "source": [
    "DEFAULT_CONFIG"
   ]
  },
  {
   "cell_type": "code",
   "execution_count": 17,
   "id": "7964a9dd",
   "metadata": {},
   "outputs": [],
   "source": [
    "def alter_filesystem(config, source_root, target_root):\n",
    "    for entry in config['sections']:\n",
    "        for mapping in entry['data']:\n",
    "            mapping['filepath'] = mapping['filepath'].replace(source_root, target_root)\n",
    "    \n",
    "    if config['trainer_kwargs']['data_mask'] is not None:\n",
    "        config['trainer_kwargs']['data_mask'] = config['trainer_kwargs']['data_mask'].replace(source_root, target_root)\n",
    "        \n",
    "    return config"
   ]
  },
  {
   "cell_type": "code",
   "execution_count": 18,
   "id": "e49eefff",
   "metadata": {},
   "outputs": [],
   "source": [
    "case_to_config = {}\n",
    "\n",
    "for fp in fps:\n",
    "    metadata = yaml.safe_load(open(fp))\n",
    "    \n",
    "    case = fp.split('/')[-3]\n",
    "    \n",
    "    config = deepcopy(DEFAULT_CONFIG)\n",
    "    config = utils.recursive_update(config, {\n",
    "        'sections': metadata['sections'],\n",
    "        'trainer_kwargs': {\n",
    "            'input_resolution': metadata['resolution'],\n",
    "            'target_resolution': 50, # 50 ppm\n",
    "            'out_dir': os.path.join(run_dir, case, 'mushroom'),\n",
    "            'accelerator': 'gpu',\n",
    "            'steps_per_epoch': 1000,\n",
    "        }\n",
    "    })\n",
    "    \n",
    "    config['dtype_specific_params'] = utils.recursive_update(config['dtype_specific_params'], {\n",
    "        'visium': {\n",
    "            'trainer_kwargs': {\n",
    "                'target_resolution': 100  # do visium at lower res\n",
    "            }\n",
    "        }\n",
    "    })\n",
    "    \n",
    "    config = alter_filesystem(config, source_root, target_root)\n",
    "    \n",
    "    case_to_config[case] = config"
   ]
  },
  {
   "cell_type": "code",
   "execution_count": 19,
   "id": "4bfa25be",
   "metadata": {},
   "outputs": [
    {
     "data": {
      "text/plain": [
       "dict_keys(['NMK12F-Fp1', 'NMK12M-Fp1', 'NMK3F-Fp1', 'NMK3M-Fp1', 'NMK92F-Fp1', 'NMK92F2-Fc1U1Bs2', 'NMK92M-Fp1', 'NMK92M1-Fc1U1Bs2', 'P1F1MnR-Fp1', 'P1M3MnR-Fp1', 'P1_F1LM3l', 'P21_F2RM6R'])"
      ]
     },
     "execution_count": 19,
     "metadata": {},
     "output_type": "execute_result"
    }
   ],
   "source": [
    "case_to_config.keys()"
   ]
  },
  {
   "cell_type": "code",
   "execution_count": 20,
   "id": "8e4747d6",
   "metadata": {},
   "outputs": [
    {
     "data": {
      "text/plain": [
       "{'NMK12F-Fp1': {'sections': [{'data': [{'dtype': 'xenium',\n",
       "      'filepath': '/data/estorrs/mushroom/data/projects/submission_v1/kidney/NMK12F-Fp1/registered/NMK12F-Fp1_xenium.h5ad'}],\n",
       "    'position': 0,\n",
       "    'sid': 'NMK12F-Fp1-U1'}],\n",
       "  'dtype_to_chkpt': None,\n",
       "  'dtype_specific_params': {'visium': {'trainer_kwargs': {'tiling_method': 'radius',\n",
       "     'target_resolution': 100}}},\n",
       "  'sae_kwargs': {'size': 8,\n",
       "   'patch_size': 1,\n",
       "   'encoder_dim': 128,\n",
       "   'codebook_dim': 64,\n",
       "   'num_clusters': (8, 4, 2),\n",
       "   'dtype_to_decoder_dims': {'multiplex': (256, 128, 64),\n",
       "    'he': (256, 128, 10),\n",
       "    'visium': (256, 512, 2048),\n",
       "    'xenium': (256, 256, 256),\n",
       "    'cosmx': (256, 512, 1024),\n",
       "    'points': (256, 512, 1024)},\n",
       "   'recon_scaler': 1.0,\n",
       "   'neigh_scaler': 0.01},\n",
       "  'trainer_kwargs': {'input_resolution': 1.0,\n",
       "   'target_resolution': 50,\n",
       "   'pct_expression': 0.05,\n",
       "   'log_base': 2.718281828459045,\n",
       "   'tiling_method': 'grid',\n",
       "   'tiling_radius': 1.0,\n",
       "   'batch_size': 128,\n",
       "   'num_workers': 0,\n",
       "   'devices': 1,\n",
       "   'accelerator': 'gpu',\n",
       "   'max_epochs': 1,\n",
       "   'steps_per_epoch': 1000,\n",
       "   'lr': 0.0001,\n",
       "   'out_dir': '/data/estorrs/mushroom/data/projects/submission_v1/kidney/NMK12F-Fp1/mushroom',\n",
       "   'save_every': 1,\n",
       "   'log_every_n_steps': 10,\n",
       "   'logger_type': 'tensorboard',\n",
       "   'logger_project': 'portobello',\n",
       "   'channel_mapping': {},\n",
       "   'data_mask': None}},\n",
       " 'NMK12M-Fp1': {'sections': [{'data': [{'dtype': 'xenium',\n",
       "      'filepath': '/data/estorrs/mushroom/data/projects/submission_v1/kidney/NMK12M-Fp1/registered/NMK12M-Fp1_xenium.h5ad'}],\n",
       "    'position': 0,\n",
       "    'sid': 'NMK12M-Fp1-U1'}],\n",
       "  'dtype_to_chkpt': None,\n",
       "  'dtype_specific_params': {'visium': {'trainer_kwargs': {'tiling_method': 'radius',\n",
       "     'target_resolution': 100}}},\n",
       "  'sae_kwargs': {'size': 8,\n",
       "   'patch_size': 1,\n",
       "   'encoder_dim': 128,\n",
       "   'codebook_dim': 64,\n",
       "   'num_clusters': (8, 4, 2),\n",
       "   'dtype_to_decoder_dims': {'multiplex': (256, 128, 64),\n",
       "    'he': (256, 128, 10),\n",
       "    'visium': (256, 512, 2048),\n",
       "    'xenium': (256, 256, 256),\n",
       "    'cosmx': (256, 512, 1024),\n",
       "    'points': (256, 512, 1024)},\n",
       "   'recon_scaler': 1.0,\n",
       "   'neigh_scaler': 0.01},\n",
       "  'trainer_kwargs': {'input_resolution': 1.0,\n",
       "   'target_resolution': 50,\n",
       "   'pct_expression': 0.05,\n",
       "   'log_base': 2.718281828459045,\n",
       "   'tiling_method': 'grid',\n",
       "   'tiling_radius': 1.0,\n",
       "   'batch_size': 128,\n",
       "   'num_workers': 0,\n",
       "   'devices': 1,\n",
       "   'accelerator': 'gpu',\n",
       "   'max_epochs': 1,\n",
       "   'steps_per_epoch': 1000,\n",
       "   'lr': 0.0001,\n",
       "   'out_dir': '/data/estorrs/mushroom/data/projects/submission_v1/kidney/NMK12M-Fp1/mushroom',\n",
       "   'save_every': 1,\n",
       "   'log_every_n_steps': 10,\n",
       "   'logger_type': 'tensorboard',\n",
       "   'logger_project': 'portobello',\n",
       "   'channel_mapping': {},\n",
       "   'data_mask': None}},\n",
       " 'NMK3F-Fp1': {'sections': [{'data': [{'dtype': 'xenium',\n",
       "      'filepath': '/data/estorrs/mushroom/data/projects/submission_v1/kidney/NMK3F-Fp1/registered/NMK3F-Fp1_xenium.h5ad'}],\n",
       "    'position': 0,\n",
       "    'sid': 'NMK3F-Fp1-U1'}],\n",
       "  'dtype_to_chkpt': None,\n",
       "  'dtype_specific_params': {'visium': {'trainer_kwargs': {'tiling_method': 'radius',\n",
       "     'target_resolution': 100}}},\n",
       "  'sae_kwargs': {'size': 8,\n",
       "   'patch_size': 1,\n",
       "   'encoder_dim': 128,\n",
       "   'codebook_dim': 64,\n",
       "   'num_clusters': (8, 4, 2),\n",
       "   'dtype_to_decoder_dims': {'multiplex': (256, 128, 64),\n",
       "    'he': (256, 128, 10),\n",
       "    'visium': (256, 512, 2048),\n",
       "    'xenium': (256, 256, 256),\n",
       "    'cosmx': (256, 512, 1024),\n",
       "    'points': (256, 512, 1024)},\n",
       "   'recon_scaler': 1.0,\n",
       "   'neigh_scaler': 0.01},\n",
       "  'trainer_kwargs': {'input_resolution': 1.0,\n",
       "   'target_resolution': 50,\n",
       "   'pct_expression': 0.05,\n",
       "   'log_base': 2.718281828459045,\n",
       "   'tiling_method': 'grid',\n",
       "   'tiling_radius': 1.0,\n",
       "   'batch_size': 128,\n",
       "   'num_workers': 0,\n",
       "   'devices': 1,\n",
       "   'accelerator': 'gpu',\n",
       "   'max_epochs': 1,\n",
       "   'steps_per_epoch': 1000,\n",
       "   'lr': 0.0001,\n",
       "   'out_dir': '/data/estorrs/mushroom/data/projects/submission_v1/kidney/NMK3F-Fp1/mushroom',\n",
       "   'save_every': 1,\n",
       "   'log_every_n_steps': 10,\n",
       "   'logger_type': 'tensorboard',\n",
       "   'logger_project': 'portobello',\n",
       "   'channel_mapping': {},\n",
       "   'data_mask': None}},\n",
       " 'NMK3M-Fp1': {'sections': [{'data': [{'dtype': 'xenium',\n",
       "      'filepath': '/data/estorrs/mushroom/data/projects/submission_v1/kidney/NMK3M-Fp1/registered/NMK3M-Fp1_xenium.h5ad'}],\n",
       "    'position': 0,\n",
       "    'sid': 'NMK3M-Fp1-U1'}],\n",
       "  'dtype_to_chkpt': None,\n",
       "  'dtype_specific_params': {'visium': {'trainer_kwargs': {'tiling_method': 'radius',\n",
       "     'target_resolution': 100}}},\n",
       "  'sae_kwargs': {'size': 8,\n",
       "   'patch_size': 1,\n",
       "   'encoder_dim': 128,\n",
       "   'codebook_dim': 64,\n",
       "   'num_clusters': (8, 4, 2),\n",
       "   'dtype_to_decoder_dims': {'multiplex': (256, 128, 64),\n",
       "    'he': (256, 128, 10),\n",
       "    'visium': (256, 512, 2048),\n",
       "    'xenium': (256, 256, 256),\n",
       "    'cosmx': (256, 512, 1024),\n",
       "    'points': (256, 512, 1024)},\n",
       "   'recon_scaler': 1.0,\n",
       "   'neigh_scaler': 0.01},\n",
       "  'trainer_kwargs': {'input_resolution': 1.0,\n",
       "   'target_resolution': 50,\n",
       "   'pct_expression': 0.05,\n",
       "   'log_base': 2.718281828459045,\n",
       "   'tiling_method': 'grid',\n",
       "   'tiling_radius': 1.0,\n",
       "   'batch_size': 128,\n",
       "   'num_workers': 0,\n",
       "   'devices': 1,\n",
       "   'accelerator': 'gpu',\n",
       "   'max_epochs': 1,\n",
       "   'steps_per_epoch': 1000,\n",
       "   'lr': 0.0001,\n",
       "   'out_dir': '/data/estorrs/mushroom/data/projects/submission_v1/kidney/NMK3M-Fp1/mushroom',\n",
       "   'save_every': 1,\n",
       "   'log_every_n_steps': 10,\n",
       "   'logger_type': 'tensorboard',\n",
       "   'logger_project': 'portobello',\n",
       "   'channel_mapping': {},\n",
       "   'data_mask': None}},\n",
       " 'NMK92F-Fp1': {'sections': [{'data': [{'dtype': 'xenium',\n",
       "      'filepath': '/data/estorrs/mushroom/data/projects/submission_v1/kidney/NMK92F-Fp1/registered/NMK92F-Fp1_xenium.h5ad'}],\n",
       "    'position': 0,\n",
       "    'sid': 'NMK92F-Fp1-U1'}],\n",
       "  'dtype_to_chkpt': None,\n",
       "  'dtype_specific_params': {'visium': {'trainer_kwargs': {'tiling_method': 'radius',\n",
       "     'target_resolution': 100}}},\n",
       "  'sae_kwargs': {'size': 8,\n",
       "   'patch_size': 1,\n",
       "   'encoder_dim': 128,\n",
       "   'codebook_dim': 64,\n",
       "   'num_clusters': (8, 4, 2),\n",
       "   'dtype_to_decoder_dims': {'multiplex': (256, 128, 64),\n",
       "    'he': (256, 128, 10),\n",
       "    'visium': (256, 512, 2048),\n",
       "    'xenium': (256, 256, 256),\n",
       "    'cosmx': (256, 512, 1024),\n",
       "    'points': (256, 512, 1024)},\n",
       "   'recon_scaler': 1.0,\n",
       "   'neigh_scaler': 0.01},\n",
       "  'trainer_kwargs': {'input_resolution': 1.0,\n",
       "   'target_resolution': 50,\n",
       "   'pct_expression': 0.05,\n",
       "   'log_base': 2.718281828459045,\n",
       "   'tiling_method': 'grid',\n",
       "   'tiling_radius': 1.0,\n",
       "   'batch_size': 128,\n",
       "   'num_workers': 0,\n",
       "   'devices': 1,\n",
       "   'accelerator': 'gpu',\n",
       "   'max_epochs': 1,\n",
       "   'steps_per_epoch': 1000,\n",
       "   'lr': 0.0001,\n",
       "   'out_dir': '/data/estorrs/mushroom/data/projects/submission_v1/kidney/NMK92F-Fp1/mushroom',\n",
       "   'save_every': 1,\n",
       "   'log_every_n_steps': 10,\n",
       "   'logger_type': 'tensorboard',\n",
       "   'logger_project': 'portobello',\n",
       "   'channel_mapping': {},\n",
       "   'data_mask': None}},\n",
       " 'NMK92F2-Fc1U1Bs2': {'sections': [{'data': [{'dtype': 'visium',\n",
       "      'filepath': '/data/estorrs/mushroom/data/projects/submission_v1/kidney/NMK92F2-Fc1U1Bs2/registered/NMK92F2-Fc1U1Bs2_visium.h5ad'}],\n",
       "    'position': 0,\n",
       "    'sid': 'NMK92F2-Fc1U1Bs2-U1'}],\n",
       "  'dtype_to_chkpt': None,\n",
       "  'dtype_specific_params': {'visium': {'trainer_kwargs': {'tiling_method': 'radius',\n",
       "     'target_resolution': 100}}},\n",
       "  'sae_kwargs': {'size': 8,\n",
       "   'patch_size': 1,\n",
       "   'encoder_dim': 128,\n",
       "   'codebook_dim': 64,\n",
       "   'num_clusters': (8, 4, 2),\n",
       "   'dtype_to_decoder_dims': {'multiplex': (256, 128, 64),\n",
       "    'he': (256, 128, 10),\n",
       "    'visium': (256, 512, 2048),\n",
       "    'xenium': (256, 256, 256),\n",
       "    'cosmx': (256, 512, 1024),\n",
       "    'points': (256, 512, 1024)},\n",
       "   'recon_scaler': 1.0,\n",
       "   'neigh_scaler': 0.01},\n",
       "  'trainer_kwargs': {'input_resolution': 0.4151641907861879,\n",
       "   'target_resolution': 50,\n",
       "   'pct_expression': 0.05,\n",
       "   'log_base': 2.718281828459045,\n",
       "   'tiling_method': 'grid',\n",
       "   'tiling_radius': 1.0,\n",
       "   'batch_size': 128,\n",
       "   'num_workers': 0,\n",
       "   'devices': 1,\n",
       "   'accelerator': 'gpu',\n",
       "   'max_epochs': 1,\n",
       "   'steps_per_epoch': 1000,\n",
       "   'lr': 0.0001,\n",
       "   'out_dir': '/data/estorrs/mushroom/data/projects/submission_v1/kidney/NMK92F2-Fc1U1Bs2/mushroom',\n",
       "   'save_every': 1,\n",
       "   'log_every_n_steps': 10,\n",
       "   'logger_type': 'tensorboard',\n",
       "   'logger_project': 'portobello',\n",
       "   'channel_mapping': {},\n",
       "   'data_mask': None}},\n",
       " 'NMK92M-Fp1': {'sections': [{'data': [{'dtype': 'xenium',\n",
       "      'filepath': '/data/estorrs/mushroom/data/projects/submission_v1/kidney/NMK92M-Fp1/registered/NMK92M-Fp1_xenium.h5ad'}],\n",
       "    'position': 0,\n",
       "    'sid': 'NMK92M-Fp1-U1'}],\n",
       "  'dtype_to_chkpt': None,\n",
       "  'dtype_specific_params': {'visium': {'trainer_kwargs': {'tiling_method': 'radius',\n",
       "     'target_resolution': 100}}},\n",
       "  'sae_kwargs': {'size': 8,\n",
       "   'patch_size': 1,\n",
       "   'encoder_dim': 128,\n",
       "   'codebook_dim': 64,\n",
       "   'num_clusters': (8, 4, 2),\n",
       "   'dtype_to_decoder_dims': {'multiplex': (256, 128, 64),\n",
       "    'he': (256, 128, 10),\n",
       "    'visium': (256, 512, 2048),\n",
       "    'xenium': (256, 256, 256),\n",
       "    'cosmx': (256, 512, 1024),\n",
       "    'points': (256, 512, 1024)},\n",
       "   'recon_scaler': 1.0,\n",
       "   'neigh_scaler': 0.01},\n",
       "  'trainer_kwargs': {'input_resolution': 1.0,\n",
       "   'target_resolution': 50,\n",
       "   'pct_expression': 0.05,\n",
       "   'log_base': 2.718281828459045,\n",
       "   'tiling_method': 'grid',\n",
       "   'tiling_radius': 1.0,\n",
       "   'batch_size': 128,\n",
       "   'num_workers': 0,\n",
       "   'devices': 1,\n",
       "   'accelerator': 'gpu',\n",
       "   'max_epochs': 1,\n",
       "   'steps_per_epoch': 1000,\n",
       "   'lr': 0.0001,\n",
       "   'out_dir': '/data/estorrs/mushroom/data/projects/submission_v1/kidney/NMK92M-Fp1/mushroom',\n",
       "   'save_every': 1,\n",
       "   'log_every_n_steps': 10,\n",
       "   'logger_type': 'tensorboard',\n",
       "   'logger_project': 'portobello',\n",
       "   'channel_mapping': {},\n",
       "   'data_mask': None}},\n",
       " 'NMK92M1-Fc1U1Bs2': {'sections': [{'data': [{'dtype': 'visium',\n",
       "      'filepath': '/data/estorrs/mushroom/data/projects/submission_v1/kidney/NMK92M1-Fc1U1Bs2/registered/NMK92M1-Fc1U1Bs2_visium.h5ad'}],\n",
       "    'position': 0,\n",
       "    'sid': 'NMK92M1-Fc1U1Bs2-U1'}],\n",
       "  'dtype_to_chkpt': None,\n",
       "  'dtype_specific_params': {'visium': {'trainer_kwargs': {'tiling_method': 'radius',\n",
       "     'target_resolution': 100}}},\n",
       "  'sae_kwargs': {'size': 8,\n",
       "   'patch_size': 1,\n",
       "   'encoder_dim': 128,\n",
       "   'codebook_dim': 64,\n",
       "   'num_clusters': (8, 4, 2),\n",
       "   'dtype_to_decoder_dims': {'multiplex': (256, 128, 64),\n",
       "    'he': (256, 128, 10),\n",
       "    'visium': (256, 512, 2048),\n",
       "    'xenium': (256, 256, 256),\n",
       "    'cosmx': (256, 512, 1024),\n",
       "    'points': (256, 512, 1024)},\n",
       "   'recon_scaler': 1.0,\n",
       "   'neigh_scaler': 0.01},\n",
       "  'trainer_kwargs': {'input_resolution': 0.44679364211352635,\n",
       "   'target_resolution': 50,\n",
       "   'pct_expression': 0.05,\n",
       "   'log_base': 2.718281828459045,\n",
       "   'tiling_method': 'grid',\n",
       "   'tiling_radius': 1.0,\n",
       "   'batch_size': 128,\n",
       "   'num_workers': 0,\n",
       "   'devices': 1,\n",
       "   'accelerator': 'gpu',\n",
       "   'max_epochs': 1,\n",
       "   'steps_per_epoch': 1000,\n",
       "   'lr': 0.0001,\n",
       "   'out_dir': '/data/estorrs/mushroom/data/projects/submission_v1/kidney/NMK92M1-Fc1U1Bs2/mushroom',\n",
       "   'save_every': 1,\n",
       "   'log_every_n_steps': 10,\n",
       "   'logger_type': 'tensorboard',\n",
       "   'logger_project': 'portobello',\n",
       "   'channel_mapping': {},\n",
       "   'data_mask': None}},\n",
       " 'P1F1MnR-Fp1': {'sections': [{'data': [{'dtype': 'xenium',\n",
       "      'filepath': '/data/estorrs/mushroom/data/projects/submission_v1/kidney/P1F1MnR-Fp1/registered/P1F1MnR-Fp1_xenium.h5ad'}],\n",
       "    'position': 0,\n",
       "    'sid': 'P1F1MnR-Fp1-U1'}],\n",
       "  'dtype_to_chkpt': None,\n",
       "  'dtype_specific_params': {'visium': {'trainer_kwargs': {'tiling_method': 'radius',\n",
       "     'target_resolution': 100}}},\n",
       "  'sae_kwargs': {'size': 8,\n",
       "   'patch_size': 1,\n",
       "   'encoder_dim': 128,\n",
       "   'codebook_dim': 64,\n",
       "   'num_clusters': (8, 4, 2),\n",
       "   'dtype_to_decoder_dims': {'multiplex': (256, 128, 64),\n",
       "    'he': (256, 128, 10),\n",
       "    'visium': (256, 512, 2048),\n",
       "    'xenium': (256, 256, 256),\n",
       "    'cosmx': (256, 512, 1024),\n",
       "    'points': (256, 512, 1024)},\n",
       "   'recon_scaler': 1.0,\n",
       "   'neigh_scaler': 0.01},\n",
       "  'trainer_kwargs': {'input_resolution': 1.0,\n",
       "   'target_resolution': 50,\n",
       "   'pct_expression': 0.05,\n",
       "   'log_base': 2.718281828459045,\n",
       "   'tiling_method': 'grid',\n",
       "   'tiling_radius': 1.0,\n",
       "   'batch_size': 128,\n",
       "   'num_workers': 0,\n",
       "   'devices': 1,\n",
       "   'accelerator': 'gpu',\n",
       "   'max_epochs': 1,\n",
       "   'steps_per_epoch': 1000,\n",
       "   'lr': 0.0001,\n",
       "   'out_dir': '/data/estorrs/mushroom/data/projects/submission_v1/kidney/P1F1MnR-Fp1/mushroom',\n",
       "   'save_every': 1,\n",
       "   'log_every_n_steps': 10,\n",
       "   'logger_type': 'tensorboard',\n",
       "   'logger_project': 'portobello',\n",
       "   'channel_mapping': {},\n",
       "   'data_mask': None}},\n",
       " 'P1M3MnR-Fp1': {'sections': [{'data': [{'dtype': 'xenium',\n",
       "      'filepath': '/data/estorrs/mushroom/data/projects/submission_v1/kidney/P1M3MnR-Fp1/registered/P1M3MnR-Fp1_xenium.h5ad'}],\n",
       "    'position': 0,\n",
       "    'sid': 'P1M3MnR-Fp1-U1'}],\n",
       "  'dtype_to_chkpt': None,\n",
       "  'dtype_specific_params': {'visium': {'trainer_kwargs': {'tiling_method': 'radius',\n",
       "     'target_resolution': 100}}},\n",
       "  'sae_kwargs': {'size': 8,\n",
       "   'patch_size': 1,\n",
       "   'encoder_dim': 128,\n",
       "   'codebook_dim': 64,\n",
       "   'num_clusters': (8, 4, 2),\n",
       "   'dtype_to_decoder_dims': {'multiplex': (256, 128, 64),\n",
       "    'he': (256, 128, 10),\n",
       "    'visium': (256, 512, 2048),\n",
       "    'xenium': (256, 256, 256),\n",
       "    'cosmx': (256, 512, 1024),\n",
       "    'points': (256, 512, 1024)},\n",
       "   'recon_scaler': 1.0,\n",
       "   'neigh_scaler': 0.01},\n",
       "  'trainer_kwargs': {'input_resolution': 1.0,\n",
       "   'target_resolution': 50,\n",
       "   'pct_expression': 0.05,\n",
       "   'log_base': 2.718281828459045,\n",
       "   'tiling_method': 'grid',\n",
       "   'tiling_radius': 1.0,\n",
       "   'batch_size': 128,\n",
       "   'num_workers': 0,\n",
       "   'devices': 1,\n",
       "   'accelerator': 'gpu',\n",
       "   'max_epochs': 1,\n",
       "   'steps_per_epoch': 1000,\n",
       "   'lr': 0.0001,\n",
       "   'out_dir': '/data/estorrs/mushroom/data/projects/submission_v1/kidney/P1M3MnR-Fp1/mushroom',\n",
       "   'save_every': 1,\n",
       "   'log_every_n_steps': 10,\n",
       "   'logger_type': 'tensorboard',\n",
       "   'logger_project': 'portobello',\n",
       "   'channel_mapping': {},\n",
       "   'data_mask': None}},\n",
       " 'P1_F1LM3l': {'sections': [{'data': [{'dtype': 'multiplex',\n",
       "      'filepath': '/data/estorrs/mushroom/data/projects/submission_v1/kidney/P1_F1LM3l/registered/P1_F1LM3l_multiplex.ome.tiff'}],\n",
       "    'position': 0,\n",
       "    'sid': 'P1_F1LM3l-U1'}],\n",
       "  'dtype_to_chkpt': None,\n",
       "  'dtype_specific_params': {'visium': {'trainer_kwargs': {'tiling_method': 'radius',\n",
       "     'target_resolution': 100}}},\n",
       "  'sae_kwargs': {'size': 8,\n",
       "   'patch_size': 1,\n",
       "   'encoder_dim': 128,\n",
       "   'codebook_dim': 64,\n",
       "   'num_clusters': (8, 4, 2),\n",
       "   'dtype_to_decoder_dims': {'multiplex': (256, 128, 64),\n",
       "    'he': (256, 128, 10),\n",
       "    'visium': (256, 512, 2048),\n",
       "    'xenium': (256, 256, 256),\n",
       "    'cosmx': (256, 512, 1024),\n",
       "    'points': (256, 512, 1024)},\n",
       "   'recon_scaler': 1.0,\n",
       "   'neigh_scaler': 0.01},\n",
       "  'trainer_kwargs': {'input_resolution': 0.5100762527233116,\n",
       "   'target_resolution': 50,\n",
       "   'pct_expression': 0.05,\n",
       "   'log_base': 2.718281828459045,\n",
       "   'tiling_method': 'grid',\n",
       "   'tiling_radius': 1.0,\n",
       "   'batch_size': 128,\n",
       "   'num_workers': 0,\n",
       "   'devices': 1,\n",
       "   'accelerator': 'gpu',\n",
       "   'max_epochs': 1,\n",
       "   'steps_per_epoch': 1000,\n",
       "   'lr': 0.0001,\n",
       "   'out_dir': '/data/estorrs/mushroom/data/projects/submission_v1/kidney/P1_F1LM3l/mushroom',\n",
       "   'save_every': 1,\n",
       "   'log_every_n_steps': 10,\n",
       "   'logger_type': 'tensorboard',\n",
       "   'logger_project': 'portobello',\n",
       "   'channel_mapping': {},\n",
       "   'data_mask': None}},\n",
       " 'P21_F2RM6R': {'sections': [{'data': [{'dtype': 'multiplex',\n",
       "      'filepath': '/data/estorrs/mushroom/data/projects/submission_v1/kidney/P21_F2RM6R/registered/P21_F2RM6R_multiplex.ome.tiff'}],\n",
       "    'position': 0,\n",
       "    'sid': 'P21_F2RM6R-U1'}],\n",
       "  'dtype_to_chkpt': None,\n",
       "  'dtype_specific_params': {'visium': {'trainer_kwargs': {'tiling_method': 'radius',\n",
       "     'target_resolution': 100}}},\n",
       "  'sae_kwargs': {'size': 8,\n",
       "   'patch_size': 1,\n",
       "   'encoder_dim': 128,\n",
       "   'codebook_dim': 64,\n",
       "   'num_clusters': (8, 4, 2),\n",
       "   'dtype_to_decoder_dims': {'multiplex': (256, 128, 64),\n",
       "    'he': (256, 128, 10),\n",
       "    'visium': (256, 512, 2048),\n",
       "    'xenium': (256, 256, 256),\n",
       "    'cosmx': (256, 512, 1024),\n",
       "    'points': (256, 512, 1024)},\n",
       "   'recon_scaler': 1.0,\n",
       "   'neigh_scaler': 0.01},\n",
       "  'trainer_kwargs': {'input_resolution': 0.5100762527233116,\n",
       "   'target_resolution': 50,\n",
       "   'pct_expression': 0.05,\n",
       "   'log_base': 2.718281828459045,\n",
       "   'tiling_method': 'grid',\n",
       "   'tiling_radius': 1.0,\n",
       "   'batch_size': 128,\n",
       "   'num_workers': 0,\n",
       "   'devices': 1,\n",
       "   'accelerator': 'gpu',\n",
       "   'max_epochs': 1,\n",
       "   'steps_per_epoch': 1000,\n",
       "   'lr': 0.0001,\n",
       "   'out_dir': '/data/estorrs/mushroom/data/projects/submission_v1/kidney/P21_F2RM6R/mushroom',\n",
       "   'save_every': 1,\n",
       "   'log_every_n_steps': 10,\n",
       "   'logger_type': 'tensorboard',\n",
       "   'logger_project': 'portobello',\n",
       "   'channel_mapping': {},\n",
       "   'data_mask': None}}}"
      ]
     },
     "execution_count": 20,
     "metadata": {},
     "output_type": "execute_result"
    }
   ],
   "source": [
    "case_to_config"
   ]
  },
  {
   "cell_type": "code",
   "execution_count": 13,
   "id": "fa0f582f",
   "metadata": {},
   "outputs": [],
   "source": [
    "completed = []\n",
    "\n",
    "# completed = [\n",
    "#     'NMK12F-Fp1',\n",
    "#     'NMK12M-Fp1',\n",
    "#     'NMK3F-Fp1',\n",
    "#     'NMK3M-Fp1',\n",
    "#     'NMK92F-Fp1',\n",
    "# ]"
   ]
  },
  {
   "cell_type": "code",
   "execution_count": 1,
   "id": "60d54d69",
   "metadata": {},
   "outputs": [],
   "source": [
    "# for case, config in case_to_config.items():\n",
    "#     if case not in completed:\n",
    "#         print(case)\n",
    "#         mushroom = Mushroom.from_config(config)\n",
    "#         mushroom.train()\n",
    "#         mushroom.embed_sections()\n",
    "#         mushroom.save()\n",
    "\n",
    "#         del(mushroom)"
   ]
  },
  {
   "cell_type": "code",
   "execution_count": null,
   "id": "0657e430",
   "metadata": {},
   "outputs": [],
   "source": []
  },
  {
   "cell_type": "markdown",
   "id": "bfdd70cd",
   "metadata": {},
   "source": [
    "###### multi-res for best cases"
   ]
  },
  {
   "cell_type": "code",
   "execution_count": 21,
   "id": "e5ff9554",
   "metadata": {},
   "outputs": [],
   "source": [
    "target_resolutions = [25, 50, 100, 200]\n",
    "keep = [\n",
    "    'P21_F2RM6R',\n",
    "]"
   ]
  },
  {
   "cell_type": "code",
   "execution_count": 22,
   "id": "46327ef6",
   "metadata": {},
   "outputs": [
    {
     "name": "stderr",
     "output_type": "stream",
     "text": [
      "INFO:root:loading spore for multiplex\n",
      "INFO:root:singleton section detected, creating temporary duplicate\n",
      "INFO:root:data mask detected\n",
      "INFO:root:starting multiplex processing\n",
      "INFO:root:using 27 channels\n",
      "INFO:root:2 sections detected: ['P21_F2RM6R-U1', 'P21_F2RM6R-U1_dup']\n",
      "INFO:root:processing sections\n",
      "INFO:root:generating image data for section P21_F2RM6R-U1\n"
     ]
    },
    {
     "name": "stdout",
     "output_type": "stream",
     "text": [
      "P21_F2RM6R 25\n",
      "0.020403050108932463\n"
     ]
    },
    {
     "name": "stderr",
     "output_type": "stream",
     "text": [
      "INFO:root:generating image data for section P21_F2RM6R-U1_dup\n",
      "INFO:root:generating training dataset\n",
      "INFO:root:generating inference dataset\n",
      "INFO:root:total of 2 sections detected: [('P21_F2RM6R-U1', 'multiplex'), ('P21_F2RM6R-U1_dup', 'multiplex')]\n",
      "INFO:root:creating data loaders\n",
      "INFO:torch.distributed.nn.jit.instantiator:Created a temporary directory at /tmp/tmpjzeodiqw\n",
      "INFO:torch.distributed.nn.jit.instantiator:Writing /tmp/tmpjzeodiqw/_remote_module_non_scriptable.py\n",
      "INFO:root:creating ViT\n",
      "INFO:root:model initialized\n"
     ]
    },
    {
     "name": "stdout",
     "output_type": "stream",
     "text": [
      "multiplex torch.Size([27, 285, 183])\n"
     ]
    },
    {
     "name": "stderr",
     "output_type": "stream",
     "text": [
      "GPU available: True (cuda), used: True\n",
      "TPU available: False, using: 0 TPU cores\n",
      "IPU available: False, using: 0 IPUs\n",
      "HPU available: False, using: 0 HPUs\n",
      "INFO:root:starting training for multiplex\n",
      "Missing logger folder: /data/estorrs/mushroom/data/projects/submission_v1/kidney/P21_F2RM6R/mushroom_25res/multiplex_logs/lightning_logs\n",
      "LOCAL_RANK: 0 - CUDA_VISIBLE_DEVICES: [0,1,2,3]\n",
      "\n",
      "  | Name | Type | Params\n",
      "------------------------------\n",
      "0 | sae  | SAE  | 5.0 M \n",
      "------------------------------\n",
      "5.0 M     Trainable params\n",
      "0         Non-trainable params\n",
      "5.0 M     Total params\n",
      "19.915    Total estimated model params size (MB)\n",
      "/data/estorrs/miniconda3/envs/mushroom/lib/python3.10/site-packages/lightning/pytorch/trainer/connectors/data_connector.py:441: The 'train_dataloader' does not have many workers which may be a bottleneck. Consider increasing the value of the `num_workers` argument` to `num_workers=63` in the `DataLoader` to improve performance.\n"
     ]
    },
    {
     "data": {
      "application/vnd.jupyter.widget-view+json": {
       "model_id": "241010b9ba884ba4843094a9bd4df126",
       "version_major": 2,
       "version_minor": 0
      },
      "text/plain": [
       "Training: |                                                                                                   …"
      ]
     },
     "metadata": {},
     "output_type": "display_data"
    },
    {
     "name": "stderr",
     "output_type": "stream",
     "text": [
      "`Trainer.fit` stopped: `max_epochs=1` reached.\n",
      "INFO:root:finished training multiplex, saved chkpt to /data/estorrs/mushroom/data/projects/submission_v1/kidney/P21_F2RM6R/mushroom_25res/multiplex_chkpts/last.ckpt\n",
      "INFO:root:embedding multiplex spore\n",
      "LOCAL_RANK: 0 - CUDA_VISIBLE_DEVICES: [0,1,2,3]\n",
      "/data/estorrs/miniconda3/envs/mushroom/lib/python3.10/site-packages/lightning/pytorch/trainer/connectors/data_connector.py:441: The 'predict_dataloader' does not have many workers which may be a bottleneck. Consider increasing the value of the `num_workers` argument` to `num_workers=63` in the `DataLoader` to improve performance.\n"
     ]
    },
    {
     "data": {
      "application/vnd.jupyter.widget-view+json": {
       "model_id": "3edad40c2fd04ab490c075168ce4a07a",
       "version_major": 2,
       "version_minor": 0
      },
      "text/plain": [
       "Predicting: |                                                                                                 …"
      ]
     },
     "metadata": {},
     "output_type": "display_data"
    },
    {
     "name": "stderr",
     "output_type": "stream",
     "text": [
      "INFO:root:saving config and outputs to /data/estorrs/mushroom/data/projects/submission_v1/kidney/P21_F2RM6R/mushroom_25res\n",
      "INFO:root:loading spore for multiplex\n",
      "INFO:root:singleton section detected, creating temporary duplicate\n",
      "INFO:root:data mask detected\n",
      "INFO:root:starting multiplex processing\n",
      "INFO:root:using 27 channels\n",
      "INFO:root:2 sections detected: ['P21_F2RM6R-U1', 'P21_F2RM6R-U1_dup']\n",
      "INFO:root:processing sections\n",
      "INFO:root:generating image data for section P21_F2RM6R-U1\n"
     ]
    },
    {
     "name": "stdout",
     "output_type": "stream",
     "text": [
      "P21_F2RM6R 50\n",
      "0.010201525054466231\n"
     ]
    },
    {
     "name": "stderr",
     "output_type": "stream",
     "text": [
      "INFO:root:generating image data for section P21_F2RM6R-U1_dup\n",
      "INFO:root:generating training dataset\n",
      "INFO:root:generating inference dataset\n",
      "INFO:root:total of 2 sections detected: [('P21_F2RM6R-U1', 'multiplex'), ('P21_F2RM6R-U1_dup', 'multiplex')]\n",
      "INFO:root:creating data loaders\n",
      "INFO:root:creating ViT\n",
      "INFO:root:model initialized\n",
      "GPU available: True (cuda), used: True\n",
      "TPU available: False, using: 0 TPU cores\n",
      "IPU available: False, using: 0 IPUs\n",
      "HPU available: False, using: 0 HPUs\n",
      "INFO:root:starting training for multiplex\n",
      "Missing logger folder: /data/estorrs/mushroom/data/projects/submission_v1/kidney/P21_F2RM6R/mushroom_50res/multiplex_logs/lightning_logs\n",
      "LOCAL_RANK: 0 - CUDA_VISIBLE_DEVICES: [0,1,2,3]\n",
      "\n",
      "  | Name | Type | Params\n",
      "------------------------------\n",
      "0 | sae  | SAE  | 5.0 M \n",
      "------------------------------\n",
      "5.0 M     Trainable params\n",
      "0         Non-trainable params\n",
      "5.0 M     Total params\n",
      "19.915    Total estimated model params size (MB)\n"
     ]
    },
    {
     "name": "stdout",
     "output_type": "stream",
     "text": [
      "multiplex torch.Size([27, 142, 91])\n"
     ]
    },
    {
     "name": "stderr",
     "output_type": "stream",
     "text": [
      "/data/estorrs/miniconda3/envs/mushroom/lib/python3.10/site-packages/lightning/pytorch/trainer/connectors/data_connector.py:441: The 'train_dataloader' does not have many workers which may be a bottleneck. Consider increasing the value of the `num_workers` argument` to `num_workers=63` in the `DataLoader` to improve performance.\n"
     ]
    },
    {
     "data": {
      "application/vnd.jupyter.widget-view+json": {
       "model_id": "56910a2a2e0640c6b1f00375a0673274",
       "version_major": 2,
       "version_minor": 0
      },
      "text/plain": [
       "Training: |                                                                                                   …"
      ]
     },
     "metadata": {},
     "output_type": "display_data"
    },
    {
     "name": "stderr",
     "output_type": "stream",
     "text": [
      "`Trainer.fit` stopped: `max_epochs=1` reached.\n",
      "INFO:root:finished training multiplex, saved chkpt to /data/estorrs/mushroom/data/projects/submission_v1/kidney/P21_F2RM6R/mushroom_50res/multiplex_chkpts/last.ckpt\n",
      "INFO:root:embedding multiplex spore\n",
      "LOCAL_RANK: 0 - CUDA_VISIBLE_DEVICES: [0,1,2,3]\n",
      "/data/estorrs/miniconda3/envs/mushroom/lib/python3.10/site-packages/lightning/pytorch/trainer/connectors/data_connector.py:441: The 'predict_dataloader' does not have many workers which may be a bottleneck. Consider increasing the value of the `num_workers` argument` to `num_workers=63` in the `DataLoader` to improve performance.\n"
     ]
    },
    {
     "data": {
      "application/vnd.jupyter.widget-view+json": {
       "model_id": "c1bd41b948db4218b37b889bb8f857d2",
       "version_major": 2,
       "version_minor": 0
      },
      "text/plain": [
       "Predicting: |                                                                                                 …"
      ]
     },
     "metadata": {},
     "output_type": "display_data"
    },
    {
     "name": "stderr",
     "output_type": "stream",
     "text": [
      "INFO:root:saving config and outputs to /data/estorrs/mushroom/data/projects/submission_v1/kidney/P21_F2RM6R/mushroom_50res\n",
      "INFO:root:loading spore for multiplex\n",
      "INFO:root:singleton section detected, creating temporary duplicate\n",
      "INFO:root:data mask detected\n",
      "INFO:root:starting multiplex processing\n",
      "INFO:root:using 27 channels\n",
      "INFO:root:2 sections detected: ['P21_F2RM6R-U1', 'P21_F2RM6R-U1_dup']\n",
      "INFO:root:processing sections\n",
      "INFO:root:generating image data for section P21_F2RM6R-U1\n"
     ]
    },
    {
     "name": "stdout",
     "output_type": "stream",
     "text": [
      "P21_F2RM6R 100\n",
      "0.005100762527233116\n"
     ]
    },
    {
     "name": "stderr",
     "output_type": "stream",
     "text": [
      "INFO:root:generating image data for section P21_F2RM6R-U1_dup\n",
      "INFO:root:generating training dataset\n",
      "INFO:root:generating inference dataset\n",
      "INFO:root:total of 2 sections detected: [('P21_F2RM6R-U1', 'multiplex'), ('P21_F2RM6R-U1_dup', 'multiplex')]\n",
      "INFO:root:creating data loaders\n",
      "INFO:root:creating ViT\n",
      "INFO:root:model initialized\n",
      "GPU available: True (cuda), used: True\n",
      "TPU available: False, using: 0 TPU cores\n",
      "IPU available: False, using: 0 IPUs\n",
      "HPU available: False, using: 0 HPUs\n",
      "INFO:root:starting training for multiplex\n",
      "Missing logger folder: /data/estorrs/mushroom/data/projects/submission_v1/kidney/P21_F2RM6R/mushroom_100res/multiplex_logs/lightning_logs\n",
      "LOCAL_RANK: 0 - CUDA_VISIBLE_DEVICES: [0,1,2,3]\n",
      "\n",
      "  | Name | Type | Params\n",
      "------------------------------\n",
      "0 | sae  | SAE  | 5.0 M \n",
      "------------------------------\n",
      "5.0 M     Trainable params\n",
      "0         Non-trainable params\n",
      "5.0 M     Total params\n",
      "19.915    Total estimated model params size (MB)\n"
     ]
    },
    {
     "name": "stdout",
     "output_type": "stream",
     "text": [
      "multiplex torch.Size([27, 71, 45])\n"
     ]
    },
    {
     "name": "stderr",
     "output_type": "stream",
     "text": [
      "/data/estorrs/miniconda3/envs/mushroom/lib/python3.10/site-packages/lightning/pytorch/trainer/connectors/data_connector.py:441: The 'train_dataloader' does not have many workers which may be a bottleneck. Consider increasing the value of the `num_workers` argument` to `num_workers=63` in the `DataLoader` to improve performance.\n"
     ]
    },
    {
     "data": {
      "application/vnd.jupyter.widget-view+json": {
       "model_id": "cb0310d9a4bf4fef82884fa1a27fcc44",
       "version_major": 2,
       "version_minor": 0
      },
      "text/plain": [
       "Training: |                                                                                                   …"
      ]
     },
     "metadata": {},
     "output_type": "display_data"
    },
    {
     "name": "stderr",
     "output_type": "stream",
     "text": [
      "`Trainer.fit` stopped: `max_epochs=1` reached.\n",
      "INFO:root:finished training multiplex, saved chkpt to /data/estorrs/mushroom/data/projects/submission_v1/kidney/P21_F2RM6R/mushroom_100res/multiplex_chkpts/last.ckpt\n",
      "INFO:root:embedding multiplex spore\n",
      "LOCAL_RANK: 0 - CUDA_VISIBLE_DEVICES: [0,1,2,3]\n",
      "/data/estorrs/miniconda3/envs/mushroom/lib/python3.10/site-packages/lightning/pytorch/trainer/connectors/data_connector.py:441: The 'predict_dataloader' does not have many workers which may be a bottleneck. Consider increasing the value of the `num_workers` argument` to `num_workers=63` in the `DataLoader` to improve performance.\n"
     ]
    },
    {
     "data": {
      "application/vnd.jupyter.widget-view+json": {
       "model_id": "d3d1b25c0e1649a089c1701857b45ca5",
       "version_major": 2,
       "version_minor": 0
      },
      "text/plain": [
       "Predicting: |                                                                                                 …"
      ]
     },
     "metadata": {},
     "output_type": "display_data"
    },
    {
     "name": "stderr",
     "output_type": "stream",
     "text": [
      "INFO:root:saving config and outputs to /data/estorrs/mushroom/data/projects/submission_v1/kidney/P21_F2RM6R/mushroom_100res\n",
      "INFO:root:loading spore for multiplex\n",
      "INFO:root:singleton section detected, creating temporary duplicate\n",
      "INFO:root:data mask detected\n",
      "INFO:root:starting multiplex processing\n",
      "INFO:root:using 27 channels\n",
      "INFO:root:2 sections detected: ['P21_F2RM6R-U1', 'P21_F2RM6R-U1_dup']\n",
      "INFO:root:processing sections\n",
      "INFO:root:generating image data for section P21_F2RM6R-U1\n"
     ]
    },
    {
     "name": "stdout",
     "output_type": "stream",
     "text": [
      "P21_F2RM6R 200\n",
      "0.002550381263616558\n"
     ]
    },
    {
     "name": "stderr",
     "output_type": "stream",
     "text": [
      "INFO:root:generating image data for section P21_F2RM6R-U1_dup\n",
      "INFO:root:generating training dataset\n",
      "INFO:root:generating inference dataset\n",
      "INFO:root:total of 2 sections detected: [('P21_F2RM6R-U1', 'multiplex'), ('P21_F2RM6R-U1_dup', 'multiplex')]\n",
      "INFO:root:creating data loaders\n",
      "INFO:root:creating ViT\n",
      "INFO:root:model initialized\n",
      "GPU available: True (cuda), used: True\n",
      "TPU available: False, using: 0 TPU cores\n",
      "IPU available: False, using: 0 IPUs\n",
      "HPU available: False, using: 0 HPUs\n",
      "INFO:root:starting training for multiplex\n",
      "Missing logger folder: /data/estorrs/mushroom/data/projects/submission_v1/kidney/P21_F2RM6R/mushroom_200res/multiplex_logs/lightning_logs\n"
     ]
    },
    {
     "name": "stdout",
     "output_type": "stream",
     "text": [
      "multiplex torch.Size([27, 35, 22])\n"
     ]
    },
    {
     "name": "stderr",
     "output_type": "stream",
     "text": [
      "LOCAL_RANK: 0 - CUDA_VISIBLE_DEVICES: [0,1,2,3]\n",
      "\n",
      "  | Name | Type | Params\n",
      "------------------------------\n",
      "0 | sae  | SAE  | 5.0 M \n",
      "------------------------------\n",
      "5.0 M     Trainable params\n",
      "0         Non-trainable params\n",
      "5.0 M     Total params\n",
      "19.915    Total estimated model params size (MB)\n",
      "/data/estorrs/miniconda3/envs/mushroom/lib/python3.10/site-packages/lightning/pytorch/trainer/connectors/data_connector.py:441: The 'train_dataloader' does not have many workers which may be a bottleneck. Consider increasing the value of the `num_workers` argument` to `num_workers=63` in the `DataLoader` to improve performance.\n"
     ]
    },
    {
     "data": {
      "application/vnd.jupyter.widget-view+json": {
       "model_id": "ea2e4de265af4d5e964df3162ee99891",
       "version_major": 2,
       "version_minor": 0
      },
      "text/plain": [
       "Training: |                                                                                                   …"
      ]
     },
     "metadata": {},
     "output_type": "display_data"
    },
    {
     "name": "stderr",
     "output_type": "stream",
     "text": [
      "`Trainer.fit` stopped: `max_epochs=1` reached.\n",
      "INFO:root:finished training multiplex, saved chkpt to /data/estorrs/mushroom/data/projects/submission_v1/kidney/P21_F2RM6R/mushroom_200res/multiplex_chkpts/last.ckpt\n",
      "INFO:root:embedding multiplex spore\n",
      "LOCAL_RANK: 0 - CUDA_VISIBLE_DEVICES: [0,1,2,3]\n",
      "/data/estorrs/miniconda3/envs/mushroom/lib/python3.10/site-packages/lightning/pytorch/trainer/connectors/data_connector.py:441: The 'predict_dataloader' does not have many workers which may be a bottleneck. Consider increasing the value of the `num_workers` argument` to `num_workers=63` in the `DataLoader` to improve performance.\n"
     ]
    },
    {
     "data": {
      "application/vnd.jupyter.widget-view+json": {
       "model_id": "930dd64a4ccd452987e49915dbf246f4",
       "version_major": 2,
       "version_minor": 0
      },
      "text/plain": [
       "Predicting: |                                                                                                 …"
      ]
     },
     "metadata": {},
     "output_type": "display_data"
    },
    {
     "name": "stderr",
     "output_type": "stream",
     "text": [
      "INFO:root:saving config and outputs to /data/estorrs/mushroom/data/projects/submission_v1/kidney/P21_F2RM6R/mushroom_200res\n"
     ]
    }
   ],
   "source": [
    "for case in keep:\n",
    "    config = deepcopy(case_to_config[case])\n",
    "    for res in target_resolutions:\n",
    "        config['trainer_kwargs']['target_resolution'] = res\n",
    "        config['trainer_kwargs']['out_dir'] = os.path.join(run_dir, case, f'mushroom_{res}res')\n",
    "        print(case, res)\n",
    "        mushroom = Mushroom.from_config(config)\n",
    "        mushroom.train()\n",
    "        mushroom.embed_sections()\n",
    "        mushroom.save()\n",
    "\n",
    "        del(mushroom)"
   ]
  },
  {
   "cell_type": "code",
   "execution_count": 23,
   "id": "507d47ae",
   "metadata": {},
   "outputs": [],
   "source": [
    "target_resolutions = [.001, .002, .004, .006]\n",
    "keep = [\n",
    "    'NMK92F2-Fc1U1Bs2'\n",
    "]"
   ]
  },
  {
   "cell_type": "code",
   "execution_count": null,
   "id": "ba43dc5e",
   "metadata": {},
   "outputs": [
    {
     "name": "stderr",
     "output_type": "stream",
     "text": [
      "INFO:root:loading spore for visium\n",
      "INFO:root:singleton section detected, creating temporary duplicate\n",
      "INFO:root:data mask detected\n",
      "INFO:root:starting visium processing\n"
     ]
    },
    {
     "name": "stdout",
     "output_type": "stream",
     "text": [
      "NMK92F2-Fc1U1Bs2 0.001\n"
     ]
    },
    {
     "name": "stderr",
     "output_type": "stream",
     "text": [
      "INFO:root:using 11508 channels\n",
      "INFO:root:2 sections detected: ['NMK92F2-Fc1U1Bs2-U1', 'NMK92F2-Fc1U1Bs2-U1_dup']\n",
      "INFO:root:processing sections\n",
      "INFO:root:generating image data for section NMK92F2-Fc1U1Bs2-U1\n",
      "INFO:root:generating image data for section NMK92F2-Fc1U1Bs2-U1_dup\n",
      "INFO:root:generating training dataset\n",
      "INFO:root:generating inference dataset\n",
      "INFO:root:total of 2 sections detected: [('NMK92F2-Fc1U1Bs2-U1', 'visium'), ('NMK92F2-Fc1U1Bs2-U1_dup', 'visium')]\n",
      "INFO:root:creating data loaders\n",
      "INFO:root:creating ViT\n",
      "INFO:root:model initialized\n",
      "GPU available: True (cuda), used: True\n",
      "TPU available: False, using: 0 TPU cores\n",
      "IPU available: False, using: 0 IPUs\n",
      "HPU available: False, using: 0 HPUs\n",
      "INFO:root:starting training for visium\n",
      "Missing logger folder: /data/estorrs/mushroom/data/projects/submission_v1/kidney/NMK92F2-Fc1U1Bs2/mushroom_0.001res/visium_logs/lightning_logs\n",
      "LOCAL_RANK: 0 - CUDA_VISIBLE_DEVICES: [0,1,2,3]\n",
      "\n",
      "  | Name | Type | Params\n",
      "------------------------------\n",
      "0 | sae  | SAE  | 31.2 M\n",
      "------------------------------\n",
      "31.2 M    Trainable params\n",
      "0         Non-trainable params\n",
      "31.2 M    Total params\n",
      "124.670   Total estimated model params size (MB)\n",
      "/data/estorrs/miniconda3/envs/mushroom/lib/python3.10/site-packages/lightning/pytorch/trainer/connectors/data_connector.py:441: The 'train_dataloader' does not have many workers which may be a bottleneck. Consider increasing the value of the `num_workers` argument` to `num_workers=63` in the `DataLoader` to improve performance.\n"
     ]
    },
    {
     "data": {
      "application/vnd.jupyter.widget-view+json": {
       "model_id": "135c6455964549e884abbab1dcc291d1",
       "version_major": 2,
       "version_minor": 0
      },
      "text/plain": [
       "Training: |                                                                                                   …"
      ]
     },
     "metadata": {},
     "output_type": "display_data"
    },
    {
     "name": "stderr",
     "output_type": "stream",
     "text": [
      "`Trainer.fit` stopped: `max_epochs=1` reached.\n",
      "INFO:root:finished training visium, saved chkpt to /data/estorrs/mushroom/data/projects/submission_v1/kidney/NMK92F2-Fc1U1Bs2/mushroom_0.001res/visium_chkpts/last.ckpt\n",
      "INFO:root:embedding visium spore\n",
      "LOCAL_RANK: 0 - CUDA_VISIBLE_DEVICES: [0,1,2,3]\n",
      "/data/estorrs/miniconda3/envs/mushroom/lib/python3.10/site-packages/lightning/pytorch/trainer/connectors/data_connector.py:441: The 'predict_dataloader' does not have many workers which may be a bottleneck. Consider increasing the value of the `num_workers` argument` to `num_workers=63` in the `DataLoader` to improve performance.\n"
     ]
    },
    {
     "data": {
      "application/vnd.jupyter.widget-view+json": {
       "model_id": "95a9fbce76b64b3a960bafeee72530cc",
       "version_major": 2,
       "version_minor": 0
      },
      "text/plain": [
       "Predicting: |                                                                                                 …"
      ]
     },
     "metadata": {},
     "output_type": "display_data"
    },
    {
     "name": "stderr",
     "output_type": "stream",
     "text": [
      "INFO:root:saving config and outputs to /data/estorrs/mushroom/data/projects/submission_v1/kidney/NMK92F2-Fc1U1Bs2/mushroom_0.001res\n",
      "INFO:root:loading spore for visium\n",
      "INFO:root:singleton section detected, creating temporary duplicate\n",
      "INFO:root:data mask detected\n",
      "INFO:root:starting visium processing\n"
     ]
    },
    {
     "name": "stdout",
     "output_type": "stream",
     "text": [
      "NMK92F2-Fc1U1Bs2 0.002\n"
     ]
    },
    {
     "name": "stderr",
     "output_type": "stream",
     "text": [
      "INFO:root:using 11508 channels\n",
      "INFO:root:2 sections detected: ['NMK92F2-Fc1U1Bs2-U1', 'NMK92F2-Fc1U1Bs2-U1_dup']\n",
      "INFO:root:processing sections\n",
      "INFO:root:generating image data for section NMK92F2-Fc1U1Bs2-U1\n",
      "INFO:root:generating image data for section NMK92F2-Fc1U1Bs2-U1_dup\n",
      "INFO:root:generating training dataset\n",
      "INFO:root:generating inference dataset\n",
      "INFO:root:total of 2 sections detected: [('NMK92F2-Fc1U1Bs2-U1', 'visium'), ('NMK92F2-Fc1U1Bs2-U1_dup', 'visium')]\n",
      "INFO:root:creating data loaders\n",
      "INFO:root:creating ViT\n",
      "INFO:root:model initialized\n",
      "GPU available: True (cuda), used: True\n",
      "TPU available: False, using: 0 TPU cores\n",
      "IPU available: False, using: 0 IPUs\n",
      "HPU available: False, using: 0 HPUs\n",
      "INFO:root:starting training for visium\n",
      "Missing logger folder: /data/estorrs/mushroom/data/projects/submission_v1/kidney/NMK92F2-Fc1U1Bs2/mushroom_0.002res/visium_logs/lightning_logs\n",
      "LOCAL_RANK: 0 - CUDA_VISIBLE_DEVICES: [0,1,2,3]\n",
      "\n",
      "  | Name | Type | Params\n",
      "------------------------------\n",
      "0 | sae  | SAE  | 31.2 M\n",
      "------------------------------\n",
      "31.2 M    Trainable params\n",
      "0         Non-trainable params\n",
      "31.2 M    Total params\n",
      "124.670   Total estimated model params size (MB)\n",
      "/data/estorrs/miniconda3/envs/mushroom/lib/python3.10/site-packages/lightning/pytorch/trainer/connectors/data_connector.py:441: The 'train_dataloader' does not have many workers which may be a bottleneck. Consider increasing the value of the `num_workers` argument` to `num_workers=63` in the `DataLoader` to improve performance.\n"
     ]
    },
    {
     "data": {
      "application/vnd.jupyter.widget-view+json": {
       "model_id": "0c174d150caf438997c45ccf53c200e7",
       "version_major": 2,
       "version_minor": 0
      },
      "text/plain": [
       "Training: |                                                                                                   …"
      ]
     },
     "metadata": {},
     "output_type": "display_data"
    },
    {
     "name": "stderr",
     "output_type": "stream",
     "text": [
      "`Trainer.fit` stopped: `max_epochs=1` reached.\n",
      "INFO:root:finished training visium, saved chkpt to /data/estorrs/mushroom/data/projects/submission_v1/kidney/NMK92F2-Fc1U1Bs2/mushroom_0.002res/visium_chkpts/last.ckpt\n",
      "INFO:root:embedding visium spore\n",
      "LOCAL_RANK: 0 - CUDA_VISIBLE_DEVICES: [0,1,2,3]\n",
      "/data/estorrs/miniconda3/envs/mushroom/lib/python3.10/site-packages/lightning/pytorch/trainer/connectors/data_connector.py:441: The 'predict_dataloader' does not have many workers which may be a bottleneck. Consider increasing the value of the `num_workers` argument` to `num_workers=63` in the `DataLoader` to improve performance.\n"
     ]
    },
    {
     "data": {
      "application/vnd.jupyter.widget-view+json": {
       "model_id": "5386120abd354cd7bd2c575242d1dee4",
       "version_major": 2,
       "version_minor": 0
      },
      "text/plain": [
       "Predicting: |                                                                                                 …"
      ]
     },
     "metadata": {},
     "output_type": "display_data"
    },
    {
     "name": "stderr",
     "output_type": "stream",
     "text": [
      "INFO:root:saving config and outputs to /data/estorrs/mushroom/data/projects/submission_v1/kidney/NMK92F2-Fc1U1Bs2/mushroom_0.002res\n",
      "INFO:root:loading spore for visium\n",
      "INFO:root:singleton section detected, creating temporary duplicate\n",
      "INFO:root:data mask detected\n",
      "INFO:root:starting visium processing\n"
     ]
    },
    {
     "name": "stdout",
     "output_type": "stream",
     "text": [
      "NMK92F2-Fc1U1Bs2 0.004\n"
     ]
    },
    {
     "name": "stderr",
     "output_type": "stream",
     "text": [
      "INFO:root:using 11508 channels\n",
      "INFO:root:2 sections detected: ['NMK92F2-Fc1U1Bs2-U1', 'NMK92F2-Fc1U1Bs2-U1_dup']\n",
      "INFO:root:processing sections\n",
      "INFO:root:generating image data for section NMK92F2-Fc1U1Bs2-U1\n",
      "INFO:root:generating image data for section NMK92F2-Fc1U1Bs2-U1_dup\n",
      "INFO:root:generating training dataset\n",
      "INFO:root:generating inference dataset\n",
      "INFO:root:total of 2 sections detected: [('NMK92F2-Fc1U1Bs2-U1', 'visium'), ('NMK92F2-Fc1U1Bs2-U1_dup', 'visium')]\n",
      "INFO:root:creating data loaders\n",
      "INFO:root:creating ViT\n",
      "INFO:root:model initialized\n",
      "GPU available: True (cuda), used: True\n",
      "TPU available: False, using: 0 TPU cores\n",
      "IPU available: False, using: 0 IPUs\n",
      "HPU available: False, using: 0 HPUs\n",
      "INFO:root:starting training for visium\n",
      "Missing logger folder: /data/estorrs/mushroom/data/projects/submission_v1/kidney/NMK92F2-Fc1U1Bs2/mushroom_0.004res/visium_logs/lightning_logs\n",
      "LOCAL_RANK: 0 - CUDA_VISIBLE_DEVICES: [0,1,2,3]\n",
      "\n",
      "  | Name | Type | Params\n",
      "------------------------------\n",
      "0 | sae  | SAE  | 31.2 M\n",
      "------------------------------\n",
      "31.2 M    Trainable params\n",
      "0         Non-trainable params\n",
      "31.2 M    Total params\n",
      "124.670   Total estimated model params size (MB)\n",
      "/data/estorrs/miniconda3/envs/mushroom/lib/python3.10/site-packages/lightning/pytorch/trainer/connectors/data_connector.py:441: The 'train_dataloader' does not have many workers which may be a bottleneck. Consider increasing the value of the `num_workers` argument` to `num_workers=63` in the `DataLoader` to improve performance.\n"
     ]
    },
    {
     "data": {
      "application/vnd.jupyter.widget-view+json": {
       "model_id": "020e252b79fe4dcb98b465a73b06fed9",
       "version_major": 2,
       "version_minor": 0
      },
      "text/plain": [
       "Training: |                                                                                                   …"
      ]
     },
     "metadata": {},
     "output_type": "display_data"
    },
    {
     "name": "stderr",
     "output_type": "stream",
     "text": [
      "`Trainer.fit` stopped: `max_epochs=1` reached.\n",
      "INFO:root:finished training visium, saved chkpt to /data/estorrs/mushroom/data/projects/submission_v1/kidney/NMK92F2-Fc1U1Bs2/mushroom_0.004res/visium_chkpts/last.ckpt\n",
      "INFO:root:embedding visium spore\n",
      "LOCAL_RANK: 0 - CUDA_VISIBLE_DEVICES: [0,1,2,3]\n",
      "/data/estorrs/miniconda3/envs/mushroom/lib/python3.10/site-packages/lightning/pytorch/trainer/connectors/data_connector.py:441: The 'predict_dataloader' does not have many workers which may be a bottleneck. Consider increasing the value of the `num_workers` argument` to `num_workers=63` in the `DataLoader` to improve performance.\n"
     ]
    },
    {
     "data": {
      "application/vnd.jupyter.widget-view+json": {
       "model_id": "7def571bcce04de99ef073fa828c4218",
       "version_major": 2,
       "version_minor": 0
      },
      "text/plain": [
       "Predicting: |                                                                                                 …"
      ]
     },
     "metadata": {},
     "output_type": "display_data"
    },
    {
     "name": "stderr",
     "output_type": "stream",
     "text": [
      "INFO:root:saving config and outputs to /data/estorrs/mushroom/data/projects/submission_v1/kidney/NMK92F2-Fc1U1Bs2/mushroom_0.004res\n",
      "INFO:root:loading spore for visium\n",
      "INFO:root:singleton section detected, creating temporary duplicate\n",
      "INFO:root:data mask detected\n",
      "INFO:root:starting visium processing\n"
     ]
    },
    {
     "name": "stdout",
     "output_type": "stream",
     "text": [
      "NMK92F2-Fc1U1Bs2 0.006\n"
     ]
    },
    {
     "name": "stderr",
     "output_type": "stream",
     "text": [
      "INFO:root:using 11508 channels\n",
      "INFO:root:2 sections detected: ['NMK92F2-Fc1U1Bs2-U1', 'NMK92F2-Fc1U1Bs2-U1_dup']\n",
      "INFO:root:processing sections\n",
      "INFO:root:generating image data for section NMK92F2-Fc1U1Bs2-U1\n",
      "INFO:root:generating image data for section NMK92F2-Fc1U1Bs2-U1_dup\n",
      "INFO:root:generating training dataset\n",
      "INFO:root:generating inference dataset\n",
      "INFO:root:total of 2 sections detected: [('NMK92F2-Fc1U1Bs2-U1', 'visium'), ('NMK92F2-Fc1U1Bs2-U1_dup', 'visium')]\n",
      "INFO:root:creating data loaders\n",
      "INFO:root:creating ViT\n",
      "INFO:root:model initialized\n",
      "GPU available: True (cuda), used: True\n",
      "TPU available: False, using: 0 TPU cores\n",
      "IPU available: False, using: 0 IPUs\n",
      "HPU available: False, using: 0 HPUs\n",
      "INFO:root:starting training for visium\n",
      "Missing logger folder: /data/estorrs/mushroom/data/projects/submission_v1/kidney/NMK92F2-Fc1U1Bs2/mushroom_0.006res/visium_logs/lightning_logs\n",
      "LOCAL_RANK: 0 - CUDA_VISIBLE_DEVICES: [0,1,2,3]\n",
      "\n",
      "  | Name | Type | Params\n",
      "------------------------------\n",
      "0 | sae  | SAE  | 31.2 M\n",
      "------------------------------\n",
      "31.2 M    Trainable params\n",
      "0         Non-trainable params\n",
      "31.2 M    Total params\n",
      "124.670   Total estimated model params size (MB)\n",
      "/data/estorrs/miniconda3/envs/mushroom/lib/python3.10/site-packages/lightning/pytorch/trainer/connectors/data_connector.py:441: The 'train_dataloader' does not have many workers which may be a bottleneck. Consider increasing the value of the `num_workers` argument` to `num_workers=63` in the `DataLoader` to improve performance.\n"
     ]
    },
    {
     "data": {
      "application/vnd.jupyter.widget-view+json": {
       "model_id": "359f7f188d56459286f825d3816ae021",
       "version_major": 2,
       "version_minor": 0
      },
      "text/plain": [
       "Training: |                                                                                                   …"
      ]
     },
     "metadata": {},
     "output_type": "display_data"
    },
    {
     "name": "stderr",
     "output_type": "stream",
     "text": [
      "`Trainer.fit` stopped: `max_epochs=1` reached.\n",
      "INFO:root:finished training visium, saved chkpt to /data/estorrs/mushroom/data/projects/submission_v1/kidney/NMK92F2-Fc1U1Bs2/mushroom_0.006res/visium_chkpts/last.ckpt\n",
      "INFO:root:embedding visium spore\n",
      "LOCAL_RANK: 0 - CUDA_VISIBLE_DEVICES: [0,1,2,3]\n",
      "/data/estorrs/miniconda3/envs/mushroom/lib/python3.10/site-packages/lightning/pytorch/trainer/connectors/data_connector.py:441: The 'predict_dataloader' does not have many workers which may be a bottleneck. Consider increasing the value of the `num_workers` argument` to `num_workers=63` in the `DataLoader` to improve performance.\n"
     ]
    },
    {
     "data": {
      "application/vnd.jupyter.widget-view+json": {
       "model_id": "be4df26c080c4284864caf75361d7176",
       "version_major": 2,
       "version_minor": 0
      },
      "text/plain": [
       "Predicting: |                                                                                                 …"
      ]
     },
     "metadata": {},
     "output_type": "display_data"
    }
   ],
   "source": [
    "for case in keep:\n",
    "    config = deepcopy(case_to_config[case])\n",
    "    for res in target_resolutions:\n",
    "        config['trainer_kwargs']['target_resolution'] = res\n",
    "        config['trainer_kwargs']['out_dir'] = os.path.join(run_dir, case, f'mushroom_{res}res')\n",
    "        config['dtype_specific_params'] = utils.recursive_update(config['dtype_specific_params'], {\n",
    "            'visium': {\n",
    "                'trainer_kwargs': {\n",
    "                    'target_resolution': res\n",
    "                }\n",
    "            }\n",
    "        })\n",
    "\n",
    "        print(case, res)\n",
    "        mushroom = Mushroom.from_config(config)\n",
    "        mushroom.train()\n",
    "        mushroom.embed_sections()\n",
    "        mushroom.save()\n",
    "\n",
    "        del(mushroom)"
   ]
  },
  {
   "cell_type": "code",
   "execution_count": null,
   "id": "f75a2618",
   "metadata": {},
   "outputs": [],
   "source": []
  },
  {
   "cell_type": "code",
   "execution_count": null,
   "id": "157aa91c",
   "metadata": {},
   "outputs": [],
   "source": []
  },
  {
   "cell_type": "code",
   "execution_count": null,
   "id": "9497db29",
   "metadata": {},
   "outputs": [],
   "source": []
  }
 ],
 "metadata": {
  "kernelspec": {
   "display_name": "Python 3 (ipykernel)",
   "language": "python",
   "name": "python3"
  },
  "language_info": {
   "codemirror_mode": {
    "name": "ipython",
    "version": 3
   },
   "file_extension": ".py",
   "mimetype": "text/x-python",
   "name": "python",
   "nbconvert_exporter": "python",
   "pygments_lexer": "ipython3",
   "version": "3.10.13"
  }
 },
 "nbformat": 4,
 "nbformat_minor": 5
}
