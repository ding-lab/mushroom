{
 "cells": [
  {
   "cell_type": "code",
   "execution_count": 1,
   "id": "5734da13",
   "metadata": {},
   "outputs": [],
   "source": [
    "import os\n",
    "from pathlib import Path\n",
    "\n",
    "import numpy as np\n",
    "import pandas as pd\n",
    "\n",
    "import scanpy as sc\n",
    "import matplotlib.pyplot as plt"
   ]
  },
  {
   "cell_type": "code",
   "execution_count": 2,
   "id": "c4c39326",
   "metadata": {},
   "outputs": [],
   "source": [
    "%load_ext autoreload"
   ]
  },
  {
   "cell_type": "code",
   "execution_count": 3,
   "id": "1927d22d",
   "metadata": {},
   "outputs": [],
   "source": [
    "%autoreload 2"
   ]
  },
  {
   "cell_type": "code",
   "execution_count": 4,
   "id": "a0fe27ee",
   "metadata": {},
   "outputs": [],
   "source": [
    "import mushroom.data.cosmx as cosmx\n",
    "import mushroom.data.multiplex as multiplex\n",
    "import mushroom.registration.bigwarp as bigwarp\n",
    "import mushroom.utils as utils"
   ]
  },
  {
   "cell_type": "markdown",
   "id": "57a446f6",
   "metadata": {},
   "source": [
    "#### HT704B1"
   ]
  },
  {
   "cell_type": "code",
   "execution_count": 5,
   "id": "13bd26aa",
   "metadata": {},
   "outputs": [],
   "source": [
    "# U14\n",
    "# U22\n",
    "# U47\n",
    "# U56\n",
    "\n",
    "# bottom\n",
    "# top\n",
    "# bottom\n",
    "# top\n",
    "\n",
    "# /diskmnt/primary/CosMx/data/HT704B1-S1H3Fp1U14___HT704B1-S1H3Fp1U22/\n",
    "# /diskmnt/primary/CosMx/data/HT704B1-S1H3Fp1U14___HT704B1-S1H3Fp1U22/\n",
    "# /diskmnt/primary/CosMx/data/HT704B1-S1H3Fp1U56___HT704B1-S1H3Fp1U47/\n",
    "# /diskmnt/primary/CosMx/data/HT704B1-S1H3Fp1U56___HT704B1-S1H3Fp1U47/\n",
    "\n",
    "# /diskmnt/primary/CosMx/data/HT704B1-S1H3Fp1U14___HT704B1-S1H3Fp1U22/flatfiles/transfer_v1.3/\n",
    "# /diskmnt/primary/CosMx/data/HT704B1-S1H3Fp1U14___HT704B1-S1H3Fp1U22/flatfiles/transfer_v1.3/\n",
    "# /diskmnt/primary/CosMx/data/HT704B1-S1H3Fp1U56___HT704B1-S1H3Fp1U47/flatfiles/transfer_v1.3/\n",
    "# /diskmnt/primary/CosMx/data/HT704B1-S1H3Fp1U56___HT704B1-S1H3Fp1U47/flatfiles/transfer_v1.3/"
   ]
  },
  {
   "cell_type": "code",
   "execution_count": 24,
   "id": "31c86dd5",
   "metadata": {},
   "outputs": [],
   "source": [
    "case = 'HT704B1'\n",
    "mapping = {\n",
    "    's3_HT704B1-U14': (0, 5, 0, 10),\n",
    "    's8_HT704B1-U22': (6, 14, 0, 10),\n",
    "}\n",
    "\n",
    "sample_to_ddf = {\n",
    "    's3_HT704B1-U14': '/diskmnt/Projects/Users/estorrs/mushroom/data/projects/submission_v1/HT704B1/registration/s3_HT704B1-U14_ddf.tif',\n",
    "    's8_HT704B1-U22': '/diskmnt/Projects/Users/estorrs/mushroom/data/projects/submission_v1/HT704B1/registration/s8_HT704B1-U22_ddf.tif',\n",
    "}\n",
    "\n",
    "cosmx_dir = '/diskmnt/primary/CosMx/data/HT704B1-S1H3Fp1U14___HT704B1-S1H3Fp1U22'\n",
    "flatfiles_dir = '/diskmnt/primary/CosMx/data/HT704B1-S1H3Fp1U14___HT704B1-S1H3Fp1U22/flatfiles/transfer_v1.3'\n",
    "morphology_dir = '/diskmnt/primary/CosMx/data/HT704B1-S1H3Fp1U14___HT704B1-S1H3Fp1U22/HT704B1_S1H3Fp1slide8/20240620_214004_S1/CellStatsDir/Morphology2D'\n",
    "transcripts_fp = list(utils.listfiles(flatfiles_dir, regex=r'\\/[^\\.][^\\/]*tx_file.csv.gz$'))[0]\n",
    "\n",
    "assert os.path.exists(transcripts_fp)"
   ]
  },
  {
   "cell_type": "code",
   "execution_count": 7,
   "id": "a0e798a0",
   "metadata": {},
   "outputs": [],
   "source": [
    "case = 'HT704B1'\n",
    "mapping = {\n",
    "    's21_HT704B1-U47': (0, 5, 0, 10),\n",
    "    's26_HT704B1-U56': (6, 14, 0, 10),\n",
    "}\n",
    "\n",
    "sample_to_ddf = {\n",
    "    's21_HT704B1-U47': '/diskmnt/Projects/Users/estorrs/mushroom/data/projects/submission_v1/HT704B1/registration/s21_HT704B1-U47_ddf.tif',\n",
    "    's26_HT704B1-U56': '/diskmnt/Projects/Users/estorrs/mushroom/data/projects/submission_v1/HT704B1/registration/s26_HT704B1-U56_ddf.tif',\n",
    "}\n",
    "\n",
    "cosmx_dir = '/diskmnt/primary/CosMx/data/HT704B1-S1H3Fp1U56___HT704B1-S1H3Fp1U47'\n",
    "flatfiles_dir = '/diskmnt/primary/CosMx/data/HT704B1-S1H3Fp1U56___HT704B1-S1H3Fp1U47/flatfiles/transfer_v1.3'\n",
    "morphology_dir = '/diskmnt/primary/CosMx/data/HT704B1-S1H3Fp1U56___HT704B1-S1H3Fp1U47/HT704B1_S1H3Fp1slide19/20240620_214004_S2/CellStatsDir/Morphology2D'\n",
    "transcripts_fp = list(utils.listfiles(flatfiles_dir, regex=r'\\/[^\\.][^\\/]*tx_file.csv.gz$'))[0]\n",
    "\n",
    "assert os.path.exists(transcripts_fp)"
   ]
  },
  {
   "cell_type": "markdown",
   "id": "e5a4b63d",
   "metadata": {},
   "source": [
    "#### HT206B1\n"
   ]
  },
  {
   "cell_type": "code",
   "execution_count": null,
   "id": "de9ffa91",
   "metadata": {},
   "outputs": [],
   "source": [
    "# spreadsheet is wrong, this is u15 not u22\n",
    "# /diskmnt/primary/CosMx/data/HT206B1-H2L1U15_1___HT206B1-H2L1U23_1/\n",
    "\n",
    "# HT206B1-H2L1U23_1\n",
    "\n",
    "# /diskmnt/primary/CosMx/data/HT206B1-H2L1U15_1___HT206B1-H2L1U23_1/flatfiles/"
   ]
  },
  {
   "cell_type": "code",
   "execution_count": 35,
   "id": "dccad17f",
   "metadata": {},
   "outputs": [],
   "source": [
    "case = 'HT206B1'\n",
    "mapping = {\n",
    "    'sidecar1_HT206B1-U15': (0, 6, 0, 6),\n",
    "}\n",
    "\n",
    "sample_to_ddf = {\n",
    "    'sidecar1_HT206B1-U15': '/diskmnt/Projects/Users/estorrs/mushroom/data/projects/submission_v1/HT206B1/registration/sidecar1_HT206B1-U15_ddf.tif',\n",
    "}\n",
    "\n",
    "cosmx_dir = '/diskmnt/primary/CosMx/data/HT206B1-H2L1U15_1___HT206B1-H2L1U23_1'\n",
    "flatfiles_dir = '/diskmnt/primary/CosMx/data/HT206B1-H2L1U15_1___HT206B1-H2L1U23_1/flatfiles'\n",
    "morphology_dir = '/diskmnt/primary/CosMx/data/HT206B1-H2L1U15_1___HT206B1-H2L1U23_1/7206B1H2L1/20240112_213110_S4/CellStatsDir/Morphology2D'\n",
    "transcripts_fp = list(utils.listfiles(flatfiles_dir, regex=r'\\/[^\\.][^\\/]*tx_file.csv.gz$'))[0]\n",
    "\n",
    "assert os.path.exists(transcripts_fp)"
   ]
  },
  {
   "cell_type": "code",
   "execution_count": null,
   "id": "9b6352e6",
   "metadata": {},
   "outputs": [],
   "source": []
  },
  {
   "cell_type": "code",
   "execution_count": 14,
   "id": "dcfe7de7",
   "metadata": {},
   "outputs": [
    {
     "data": {
      "text/plain": [
       "PosixPath('/diskmnt/Projects/Users/estorrs/mushroom/data/projects/submission_v1/HT206B1')"
      ]
     },
     "execution_count": 14,
     "metadata": {},
     "output_type": "execute_result"
    }
   ],
   "source": [
    "project_dir = Path(f'/diskmnt/Projects/Users/estorrs/mushroom/data/projects/submission_v1/{case}')\n",
    "project_dir\n"
   ]
  },
  {
   "cell_type": "code",
   "execution_count": 15,
   "id": "fe1ef5e2",
   "metadata": {},
   "outputs": [
    {
     "name": "stdout",
     "output_type": "stream",
     "text": [
      "/diskmnt/primary/CosMx/data/HT206B1-H2L1U15_1___HT206B1-H2L1U23_1/flatfiles/7206B1H2L1_fov_positions_file.csv.gz\n"
     ]
    },
    {
     "name": "stderr",
     "output_type": "stream",
     "text": [
      "/diskmnt/Projects/Users/estorrs/miniconda3/envs/mushroom/lib/python3.9/site-packages/seaborn/_oldcore.py:1498: FutureWarning: is_categorical_dtype is deprecated and will be removed in a future version. Use isinstance(dtype, CategoricalDtype) instead\n",
      "  if pd.api.types.is_categorical_dtype(vector):\n",
      "/diskmnt/Projects/Users/estorrs/miniconda3/envs/mushroom/lib/python3.9/site-packages/seaborn/_oldcore.py:1498: FutureWarning: is_categorical_dtype is deprecated and will be removed in a future version. Use isinstance(dtype, CategoricalDtype) instead\n",
      "  if pd.api.types.is_categorical_dtype(vector):\n"
     ]
    },
    {
     "data": {
      "image/png": "[encoded data removed]",
      "text/plain": [
       "<Figure size 640x480 with 1 Axes>"
      ]
     },
     "metadata": {},
     "output_type": "display_data"
    }
   ],
   "source": [
    "cosmx.display_fovs(cosmx_dir, flatfiles_dir=flatfiles_dir, )"
   ]
  },
  {
   "cell_type": "code",
   "execution_count": 17,
   "id": "45d4a6fa",
   "metadata": {},
   "outputs": [
    {
     "name": "stderr",
     "output_type": "stream",
     "text": [
      "/diskmnt/Projects/Users/estorrs/mushroom/mushroom/data/cosmx.py:70: DtypeWarning: Columns (9) have mixed types. Specify dtype option on import or set low_memory=False.\n",
      "  transcripts_df = pd.read_csv(transcripts_fp, sep=',')\n"
     ]
    },
    {
     "name": "stdout",
     "output_type": "stream",
     "text": [
      "reading fov 1\n"
     ]
    },
    {
     "name": "stderr",
     "output_type": "stream",
     "text": [
      "/diskmnt/Projects/Users/estorrs/mushroom/mushroom/data/cosmx.py:129: SettingWithCopyWarning: \n",
      "A value is trying to be set on a copy of a slice from a DataFrame.\n",
      "Try using .loc[row_indexer,col_indexer] = value instead\n",
      "\n",
      "See the caveats in the documentation: https://pandas.pydata.org/pandas-docs/stable/user_guide/indexing.html#returning-a-view-versus-a-copy\n",
      "  transcripts_f['x_local_px'] = transcripts_f['x_local_px'] + c1\n",
      "/diskmnt/Projects/Users/estorrs/mushroom/mushroom/data/cosmx.py:130: SettingWithCopyWarning: \n",
      "A value is trying to be set on a copy of a slice from a DataFrame.\n",
      "Try using .loc[row_indexer,col_indexer] = value instead\n",
      "\n",
      "See the caveats in the documentation: https://pandas.pydata.org/pandas-docs/stable/user_guide/indexing.html#returning-a-view-versus-a-copy\n",
      "  transcripts_f['y_local_px'] = np.abs(transcripts_f['y_local_px'] - tile_size[-2]) + r1\n"
     ]
    },
    {
     "name": "stdout",
     "output_type": "stream",
     "text": [
      "reading fov 2\n"
     ]
    },
    {
     "name": "stderr",
     "output_type": "stream",
     "text": [
      "/diskmnt/Projects/Users/estorrs/mushroom/mushroom/data/cosmx.py:129: SettingWithCopyWarning: \n",
      "A value is trying to be set on a copy of a slice from a DataFrame.\n",
      "Try using .loc[row_indexer,col_indexer] = value instead\n",
      "\n",
      "See the caveats in the documentation: https://pandas.pydata.org/pandas-docs/stable/user_guide/indexing.html#returning-a-view-versus-a-copy\n",
      "  transcripts_f['x_local_px'] = transcripts_f['x_local_px'] + c1\n",
      "/diskmnt/Projects/Users/estorrs/mushroom/mushroom/data/cosmx.py:130: SettingWithCopyWarning: \n",
      "A value is trying to be set on a copy of a slice from a DataFrame.\n",
      "Try using .loc[row_indexer,col_indexer] = value instead\n",
      "\n",
      "See the caveats in the documentation: https://pandas.pydata.org/pandas-docs/stable/user_guide/indexing.html#returning-a-view-versus-a-copy\n",
      "  transcripts_f['y_local_px'] = np.abs(transcripts_f['y_local_px'] - tile_size[-2]) + r1\n"
     ]
    },
    {
     "name": "stdout",
     "output_type": "stream",
     "text": [
      "reading fov 3\n"
     ]
    },
    {
     "name": "stderr",
     "output_type": "stream",
     "text": [
      "/diskmnt/Projects/Users/estorrs/mushroom/mushroom/data/cosmx.py:129: SettingWithCopyWarning: \n",
      "A value is trying to be set on a copy of a slice from a DataFrame.\n",
      "Try using .loc[row_indexer,col_indexer] = value instead\n",
      "\n",
      "See the caveats in the documentation: https://pandas.pydata.org/pandas-docs/stable/user_guide/indexing.html#returning-a-view-versus-a-copy\n",
      "  transcripts_f['x_local_px'] = transcripts_f['x_local_px'] + c1\n",
      "/diskmnt/Projects/Users/estorrs/mushroom/mushroom/data/cosmx.py:130: SettingWithCopyWarning: \n",
      "A value is trying to be set on a copy of a slice from a DataFrame.\n",
      "Try using .loc[row_indexer,col_indexer] = value instead\n",
      "\n",
      "See the caveats in the documentation: https://pandas.pydata.org/pandas-docs/stable/user_guide/indexing.html#returning-a-view-versus-a-copy\n",
      "  transcripts_f['y_local_px'] = np.abs(transcripts_f['y_local_px'] - tile_size[-2]) + r1\n"
     ]
    },
    {
     "name": "stdout",
     "output_type": "stream",
     "text": [
      "reading fov 4\n"
     ]
    },
    {
     "name": "stderr",
     "output_type": "stream",
     "text": [
      "/diskmnt/Projects/Users/estorrs/mushroom/mushroom/data/cosmx.py:129: SettingWithCopyWarning: \n",
      "A value is trying to be set on a copy of a slice from a DataFrame.\n",
      "Try using .loc[row_indexer,col_indexer] = value instead\n",
      "\n",
      "See the caveats in the documentation: https://pandas.pydata.org/pandas-docs/stable/user_guide/indexing.html#returning-a-view-versus-a-copy\n",
      "  transcripts_f['x_local_px'] = transcripts_f['x_local_px'] + c1\n",
      "/diskmnt/Projects/Users/estorrs/mushroom/mushroom/data/cosmx.py:130: SettingWithCopyWarning: \n",
      "A value is trying to be set on a copy of a slice from a DataFrame.\n",
      "Try using .loc[row_indexer,col_indexer] = value instead\n",
      "\n",
      "See the caveats in the documentation: https://pandas.pydata.org/pandas-docs/stable/user_guide/indexing.html#returning-a-view-versus-a-copy\n",
      "  transcripts_f['y_local_px'] = np.abs(transcripts_f['y_local_px'] - tile_size[-2]) + r1\n"
     ]
    },
    {
     "name": "stdout",
     "output_type": "stream",
     "text": [
      "reading fov 5\n"
     ]
    },
    {
     "name": "stderr",
     "output_type": "stream",
     "text": [
      "/diskmnt/Projects/Users/estorrs/mushroom/mushroom/data/cosmx.py:129: SettingWithCopyWarning: \n",
      "A value is trying to be set on a copy of a slice from a DataFrame.\n",
      "Try using .loc[row_indexer,col_indexer] = value instead\n",
      "\n",
      "See the caveats in the documentation: https://pandas.pydata.org/pandas-docs/stable/user_guide/indexing.html#returning-a-view-versus-a-copy\n",
      "  transcripts_f['x_local_px'] = transcripts_f['x_local_px'] + c1\n",
      "/diskmnt/Projects/Users/estorrs/mushroom/mushroom/data/cosmx.py:130: SettingWithCopyWarning: \n",
      "A value is trying to be set on a copy of a slice from a DataFrame.\n",
      "Try using .loc[row_indexer,col_indexer] = value instead\n",
      "\n",
      "See the caveats in the documentation: https://pandas.pydata.org/pandas-docs/stable/user_guide/indexing.html#returning-a-view-versus-a-copy\n",
      "  transcripts_f['y_local_px'] = np.abs(transcripts_f['y_local_px'] - tile_size[-2]) + r1\n"
     ]
    },
    {
     "name": "stdout",
     "output_type": "stream",
     "text": [
      "reading fov 6\n"
     ]
    },
    {
     "name": "stderr",
     "output_type": "stream",
     "text": [
      "/diskmnt/Projects/Users/estorrs/mushroom/mushroom/data/cosmx.py:129: SettingWithCopyWarning: \n",
      "A value is trying to be set on a copy of a slice from a DataFrame.\n",
      "Try using .loc[row_indexer,col_indexer] = value instead\n",
      "\n",
      "See the caveats in the documentation: https://pandas.pydata.org/pandas-docs/stable/user_guide/indexing.html#returning-a-view-versus-a-copy\n",
      "  transcripts_f['x_local_px'] = transcripts_f['x_local_px'] + c1\n",
      "/diskmnt/Projects/Users/estorrs/mushroom/mushroom/data/cosmx.py:130: SettingWithCopyWarning: \n",
      "A value is trying to be set on a copy of a slice from a DataFrame.\n",
      "Try using .loc[row_indexer,col_indexer] = value instead\n",
      "\n",
      "See the caveats in the documentation: https://pandas.pydata.org/pandas-docs/stable/user_guide/indexing.html#returning-a-view-versus-a-copy\n",
      "  transcripts_f['y_local_px'] = np.abs(transcripts_f['y_local_px'] - tile_size[-2]) + r1\n"
     ]
    },
    {
     "name": "stdout",
     "output_type": "stream",
     "text": [
      "reading fov 7\n"
     ]
    },
    {
     "name": "stderr",
     "output_type": "stream",
     "text": [
      "/diskmnt/Projects/Users/estorrs/mushroom/mushroom/data/cosmx.py:129: SettingWithCopyWarning: \n",
      "A value is trying to be set on a copy of a slice from a DataFrame.\n",
      "Try using .loc[row_indexer,col_indexer] = value instead\n",
      "\n",
      "See the caveats in the documentation: https://pandas.pydata.org/pandas-docs/stable/user_guide/indexing.html#returning-a-view-versus-a-copy\n",
      "  transcripts_f['x_local_px'] = transcripts_f['x_local_px'] + c1\n",
      "/diskmnt/Projects/Users/estorrs/mushroom/mushroom/data/cosmx.py:130: SettingWithCopyWarning: \n",
      "A value is trying to be set on a copy of a slice from a DataFrame.\n",
      "Try using .loc[row_indexer,col_indexer] = value instead\n",
      "\n",
      "See the caveats in the documentation: https://pandas.pydata.org/pandas-docs/stable/user_guide/indexing.html#returning-a-view-versus-a-copy\n",
      "  transcripts_f['y_local_px'] = np.abs(transcripts_f['y_local_px'] - tile_size[-2]) + r1\n"
     ]
    },
    {
     "name": "stdout",
     "output_type": "stream",
     "text": [
      "reading fov 8\n",
      "reading fov 9\n"
     ]
    },
    {
     "name": "stderr",
     "output_type": "stream",
     "text": [
      "/diskmnt/Projects/Users/estorrs/mushroom/mushroom/data/cosmx.py:129: SettingWithCopyWarning: \n",
      "A value is trying to be set on a copy of a slice from a DataFrame.\n",
      "Try using .loc[row_indexer,col_indexer] = value instead\n",
      "\n",
      "See the caveats in the documentation: https://pandas.pydata.org/pandas-docs/stable/user_guide/indexing.html#returning-a-view-versus-a-copy\n",
      "  transcripts_f['x_local_px'] = transcripts_f['x_local_px'] + c1\n",
      "/diskmnt/Projects/Users/estorrs/mushroom/mushroom/data/cosmx.py:130: SettingWithCopyWarning: \n",
      "A value is trying to be set on a copy of a slice from a DataFrame.\n",
      "Try using .loc[row_indexer,col_indexer] = value instead\n",
      "\n",
      "See the caveats in the documentation: https://pandas.pydata.org/pandas-docs/stable/user_guide/indexing.html#returning-a-view-versus-a-copy\n",
      "  transcripts_f['y_local_px'] = np.abs(transcripts_f['y_local_px'] - tile_size[-2]) + r1\n"
     ]
    },
    {
     "name": "stdout",
     "output_type": "stream",
     "text": [
      "reading fov 10\n"
     ]
    },
    {
     "name": "stderr",
     "output_type": "stream",
     "text": [
      "/diskmnt/Projects/Users/estorrs/mushroom/mushroom/data/cosmx.py:129: SettingWithCopyWarning: \n",
      "A value is trying to be set on a copy of a slice from a DataFrame.\n",
      "Try using .loc[row_indexer,col_indexer] = value instead\n",
      "\n",
      "See the caveats in the documentation: https://pandas.pydata.org/pandas-docs/stable/user_guide/indexing.html#returning-a-view-versus-a-copy\n",
      "  transcripts_f['x_local_px'] = transcripts_f['x_local_px'] + c1\n",
      "/diskmnt/Projects/Users/estorrs/mushroom/mushroom/data/cosmx.py:130: SettingWithCopyWarning: \n",
      "A value is trying to be set on a copy of a slice from a DataFrame.\n",
      "Try using .loc[row_indexer,col_indexer] = value instead\n",
      "\n",
      "See the caveats in the documentation: https://pandas.pydata.org/pandas-docs/stable/user_guide/indexing.html#returning-a-view-versus-a-copy\n",
      "  transcripts_f['y_local_px'] = np.abs(transcripts_f['y_local_px'] - tile_size[-2]) + r1\n"
     ]
    },
    {
     "name": "stdout",
     "output_type": "stream",
     "text": [
      "reading fov 11\n"
     ]
    },
    {
     "name": "stderr",
     "output_type": "stream",
     "text": [
      "/diskmnt/Projects/Users/estorrs/mushroom/mushroom/data/cosmx.py:129: SettingWithCopyWarning: \n",
      "A value is trying to be set on a copy of a slice from a DataFrame.\n",
      "Try using .loc[row_indexer,col_indexer] = value instead\n",
      "\n",
      "See the caveats in the documentation: https://pandas.pydata.org/pandas-docs/stable/user_guide/indexing.html#returning-a-view-versus-a-copy\n",
      "  transcripts_f['x_local_px'] = transcripts_f['x_local_px'] + c1\n",
      "/diskmnt/Projects/Users/estorrs/mushroom/mushroom/data/cosmx.py:130: SettingWithCopyWarning: \n",
      "A value is trying to be set on a copy of a slice from a DataFrame.\n",
      "Try using .loc[row_indexer,col_indexer] = value instead\n",
      "\n",
      "See the caveats in the documentation: https://pandas.pydata.org/pandas-docs/stable/user_guide/indexing.html#returning-a-view-versus-a-copy\n",
      "  transcripts_f['y_local_px'] = np.abs(transcripts_f['y_local_px'] - tile_size[-2]) + r1\n"
     ]
    },
    {
     "name": "stdout",
     "output_type": "stream",
     "text": [
      "reading fov 12\n"
     ]
    },
    {
     "name": "stderr",
     "output_type": "stream",
     "text": [
      "/diskmnt/Projects/Users/estorrs/mushroom/mushroom/data/cosmx.py:129: SettingWithCopyWarning: \n",
      "A value is trying to be set on a copy of a slice from a DataFrame.\n",
      "Try using .loc[row_indexer,col_indexer] = value instead\n",
      "\n",
      "See the caveats in the documentation: https://pandas.pydata.org/pandas-docs/stable/user_guide/indexing.html#returning-a-view-versus-a-copy\n",
      "  transcripts_f['x_local_px'] = transcripts_f['x_local_px'] + c1\n",
      "/diskmnt/Projects/Users/estorrs/mushroom/mushroom/data/cosmx.py:130: SettingWithCopyWarning: \n",
      "A value is trying to be set on a copy of a slice from a DataFrame.\n",
      "Try using .loc[row_indexer,col_indexer] = value instead\n",
      "\n",
      "See the caveats in the documentation: https://pandas.pydata.org/pandas-docs/stable/user_guide/indexing.html#returning-a-view-versus-a-copy\n",
      "  transcripts_f['y_local_px'] = np.abs(transcripts_f['y_local_px'] - tile_size[-2]) + r1\n"
     ]
    },
    {
     "name": "stdout",
     "output_type": "stream",
     "text": [
      "reading fov 13\n"
     ]
    },
    {
     "name": "stderr",
     "output_type": "stream",
     "text": [
      "/diskmnt/Projects/Users/estorrs/mushroom/mushroom/data/cosmx.py:129: SettingWithCopyWarning: \n",
      "A value is trying to be set on a copy of a slice from a DataFrame.\n",
      "Try using .loc[row_indexer,col_indexer] = value instead\n",
      "\n",
      "See the caveats in the documentation: https://pandas.pydata.org/pandas-docs/stable/user_guide/indexing.html#returning-a-view-versus-a-copy\n",
      "  transcripts_f['x_local_px'] = transcripts_f['x_local_px'] + c1\n",
      "/diskmnt/Projects/Users/estorrs/mushroom/mushroom/data/cosmx.py:130: SettingWithCopyWarning: \n",
      "A value is trying to be set on a copy of a slice from a DataFrame.\n",
      "Try using .loc[row_indexer,col_indexer] = value instead\n",
      "\n",
      "See the caveats in the documentation: https://pandas.pydata.org/pandas-docs/stable/user_guide/indexing.html#returning-a-view-versus-a-copy\n",
      "  transcripts_f['y_local_px'] = np.abs(transcripts_f['y_local_px'] - tile_size[-2]) + r1\n"
     ]
    },
    {
     "name": "stdout",
     "output_type": "stream",
     "text": [
      "reading fov 14\n"
     ]
    },
    {
     "name": "stderr",
     "output_type": "stream",
     "text": [
      "/diskmnt/Projects/Users/estorrs/mushroom/mushroom/data/cosmx.py:129: SettingWithCopyWarning: \n",
      "A value is trying to be set on a copy of a slice from a DataFrame.\n",
      "Try using .loc[row_indexer,col_indexer] = value instead\n",
      "\n",
      "See the caveats in the documentation: https://pandas.pydata.org/pandas-docs/stable/user_guide/indexing.html#returning-a-view-versus-a-copy\n",
      "  transcripts_f['x_local_px'] = transcripts_f['x_local_px'] + c1\n",
      "/diskmnt/Projects/Users/estorrs/mushroom/mushroom/data/cosmx.py:130: SettingWithCopyWarning: \n",
      "A value is trying to be set on a copy of a slice from a DataFrame.\n",
      "Try using .loc[row_indexer,col_indexer] = value instead\n",
      "\n",
      "See the caveats in the documentation: https://pandas.pydata.org/pandas-docs/stable/user_guide/indexing.html#returning-a-view-versus-a-copy\n",
      "  transcripts_f['y_local_px'] = np.abs(transcripts_f['y_local_px'] - tile_size[-2]) + r1\n"
     ]
    },
    {
     "name": "stdout",
     "output_type": "stream",
     "text": [
      "reading fov 15\n"
     ]
    },
    {
     "name": "stderr",
     "output_type": "stream",
     "text": [
      "/diskmnt/Projects/Users/estorrs/mushroom/mushroom/data/cosmx.py:129: SettingWithCopyWarning: \n",
      "A value is trying to be set on a copy of a slice from a DataFrame.\n",
      "Try using .loc[row_indexer,col_indexer] = value instead\n",
      "\n",
      "See the caveats in the documentation: https://pandas.pydata.org/pandas-docs/stable/user_guide/indexing.html#returning-a-view-versus-a-copy\n",
      "  transcripts_f['x_local_px'] = transcripts_f['x_local_px'] + c1\n",
      "/diskmnt/Projects/Users/estorrs/mushroom/mushroom/data/cosmx.py:130: SettingWithCopyWarning: \n",
      "A value is trying to be set on a copy of a slice from a DataFrame.\n",
      "Try using .loc[row_indexer,col_indexer] = value instead\n",
      "\n",
      "See the caveats in the documentation: https://pandas.pydata.org/pandas-docs/stable/user_guide/indexing.html#returning-a-view-versus-a-copy\n",
      "  transcripts_f['y_local_px'] = np.abs(transcripts_f['y_local_px'] - tile_size[-2]) + r1\n"
     ]
    },
    {
     "name": "stdout",
     "output_type": "stream",
     "text": [
      "reading fov 16\n"
     ]
    },
    {
     "name": "stderr",
     "output_type": "stream",
     "text": [
      "/diskmnt/Projects/Users/estorrs/mushroom/mushroom/data/cosmx.py:129: SettingWithCopyWarning: \n",
      "A value is trying to be set on a copy of a slice from a DataFrame.\n",
      "Try using .loc[row_indexer,col_indexer] = value instead\n",
      "\n",
      "See the caveats in the documentation: https://pandas.pydata.org/pandas-docs/stable/user_guide/indexing.html#returning-a-view-versus-a-copy\n",
      "  transcripts_f['x_local_px'] = transcripts_f['x_local_px'] + c1\n",
      "/diskmnt/Projects/Users/estorrs/mushroom/mushroom/data/cosmx.py:130: SettingWithCopyWarning: \n",
      "A value is trying to be set on a copy of a slice from a DataFrame.\n",
      "Try using .loc[row_indexer,col_indexer] = value instead\n",
      "\n",
      "See the caveats in the documentation: https://pandas.pydata.org/pandas-docs/stable/user_guide/indexing.html#returning-a-view-versus-a-copy\n",
      "  transcripts_f['y_local_px'] = np.abs(transcripts_f['y_local_px'] - tile_size[-2]) + r1\n"
     ]
    },
    {
     "name": "stdout",
     "output_type": "stream",
     "text": [
      "reading fov 17\n"
     ]
    },
    {
     "name": "stderr",
     "output_type": "stream",
     "text": [
      "/diskmnt/Projects/Users/estorrs/mushroom/mushroom/data/cosmx.py:129: SettingWithCopyWarning: \n",
      "A value is trying to be set on a copy of a slice from a DataFrame.\n",
      "Try using .loc[row_indexer,col_indexer] = value instead\n",
      "\n",
      "See the caveats in the documentation: https://pandas.pydata.org/pandas-docs/stable/user_guide/indexing.html#returning-a-view-versus-a-copy\n",
      "  transcripts_f['x_local_px'] = transcripts_f['x_local_px'] + c1\n",
      "/diskmnt/Projects/Users/estorrs/mushroom/mushroom/data/cosmx.py:130: SettingWithCopyWarning: \n",
      "A value is trying to be set on a copy of a slice from a DataFrame.\n",
      "Try using .loc[row_indexer,col_indexer] = value instead\n",
      "\n",
      "See the caveats in the documentation: https://pandas.pydata.org/pandas-docs/stable/user_guide/indexing.html#returning-a-view-versus-a-copy\n",
      "  transcripts_f['y_local_px'] = np.abs(transcripts_f['y_local_px'] - tile_size[-2]) + r1\n"
     ]
    },
    {
     "name": "stdout",
     "output_type": "stream",
     "text": [
      "reading fov 18\n"
     ]
    },
    {
     "name": "stderr",
     "output_type": "stream",
     "text": [
      "/diskmnt/Projects/Users/estorrs/mushroom/mushroom/data/cosmx.py:129: SettingWithCopyWarning: \n",
      "A value is trying to be set on a copy of a slice from a DataFrame.\n",
      "Try using .loc[row_indexer,col_indexer] = value instead\n",
      "\n",
      "See the caveats in the documentation: https://pandas.pydata.org/pandas-docs/stable/user_guide/indexing.html#returning-a-view-versus-a-copy\n",
      "  transcripts_f['x_local_px'] = transcripts_f['x_local_px'] + c1\n",
      "/diskmnt/Projects/Users/estorrs/mushroom/mushroom/data/cosmx.py:130: SettingWithCopyWarning: \n",
      "A value is trying to be set on a copy of a slice from a DataFrame.\n",
      "Try using .loc[row_indexer,col_indexer] = value instead\n",
      "\n",
      "See the caveats in the documentation: https://pandas.pydata.org/pandas-docs/stable/user_guide/indexing.html#returning-a-view-versus-a-copy\n",
      "  transcripts_f['y_local_px'] = np.abs(transcripts_f['y_local_px'] - tile_size[-2]) + r1\n"
     ]
    },
    {
     "name": "stdout",
     "output_type": "stream",
     "text": [
      "reading fov 19\n"
     ]
    },
    {
     "name": "stderr",
     "output_type": "stream",
     "text": [
      "/diskmnt/Projects/Users/estorrs/mushroom/mushroom/data/cosmx.py:129: SettingWithCopyWarning: \n",
      "A value is trying to be set on a copy of a slice from a DataFrame.\n",
      "Try using .loc[row_indexer,col_indexer] = value instead\n",
      "\n",
      "See the caveats in the documentation: https://pandas.pydata.org/pandas-docs/stable/user_guide/indexing.html#returning-a-view-versus-a-copy\n",
      "  transcripts_f['x_local_px'] = transcripts_f['x_local_px'] + c1\n",
      "/diskmnt/Projects/Users/estorrs/mushroom/mushroom/data/cosmx.py:130: SettingWithCopyWarning: \n",
      "A value is trying to be set on a copy of a slice from a DataFrame.\n",
      "Try using .loc[row_indexer,col_indexer] = value instead\n",
      "\n",
      "See the caveats in the documentation: https://pandas.pydata.org/pandas-docs/stable/user_guide/indexing.html#returning-a-view-versus-a-copy\n",
      "  transcripts_f['y_local_px'] = np.abs(transcripts_f['y_local_px'] - tile_size[-2]) + r1\n"
     ]
    },
    {
     "name": "stdout",
     "output_type": "stream",
     "text": [
      "reading fov 20\n"
     ]
    },
    {
     "name": "stderr",
     "output_type": "stream",
     "text": [
      "/diskmnt/Projects/Users/estorrs/mushroom/mushroom/data/cosmx.py:129: SettingWithCopyWarning: \n",
      "A value is trying to be set on a copy of a slice from a DataFrame.\n",
      "Try using .loc[row_indexer,col_indexer] = value instead\n",
      "\n",
      "See the caveats in the documentation: https://pandas.pydata.org/pandas-docs/stable/user_guide/indexing.html#returning-a-view-versus-a-copy\n",
      "  transcripts_f['x_local_px'] = transcripts_f['x_local_px'] + c1\n",
      "/diskmnt/Projects/Users/estorrs/mushroom/mushroom/data/cosmx.py:130: SettingWithCopyWarning: \n",
      "A value is trying to be set on a copy of a slice from a DataFrame.\n",
      "Try using .loc[row_indexer,col_indexer] = value instead\n",
      "\n",
      "See the caveats in the documentation: https://pandas.pydata.org/pandas-docs/stable/user_guide/indexing.html#returning-a-view-versus-a-copy\n",
      "  transcripts_f['y_local_px'] = np.abs(transcripts_f['y_local_px'] - tile_size[-2]) + r1\n"
     ]
    },
    {
     "name": "stdout",
     "output_type": "stream",
     "text": [
      "reading fov 21\n"
     ]
    },
    {
     "name": "stderr",
     "output_type": "stream",
     "text": [
      "/diskmnt/Projects/Users/estorrs/mushroom/mushroom/data/cosmx.py:129: SettingWithCopyWarning: \n",
      "A value is trying to be set on a copy of a slice from a DataFrame.\n",
      "Try using .loc[row_indexer,col_indexer] = value instead\n",
      "\n",
      "See the caveats in the documentation: https://pandas.pydata.org/pandas-docs/stable/user_guide/indexing.html#returning-a-view-versus-a-copy\n",
      "  transcripts_f['x_local_px'] = transcripts_f['x_local_px'] + c1\n",
      "/diskmnt/Projects/Users/estorrs/mushroom/mushroom/data/cosmx.py:130: SettingWithCopyWarning: \n",
      "A value is trying to be set on a copy of a slice from a DataFrame.\n",
      "Try using .loc[row_indexer,col_indexer] = value instead\n",
      "\n",
      "See the caveats in the documentation: https://pandas.pydata.org/pandas-docs/stable/user_guide/indexing.html#returning-a-view-versus-a-copy\n",
      "  transcripts_f['y_local_px'] = np.abs(transcripts_f['y_local_px'] - tile_size[-2]) + r1\n"
     ]
    },
    {
     "name": "stdout",
     "output_type": "stream",
     "text": [
      "reading fov 22\n"
     ]
    },
    {
     "name": "stderr",
     "output_type": "stream",
     "text": [
      "/diskmnt/Projects/Users/estorrs/mushroom/mushroom/data/cosmx.py:129: SettingWithCopyWarning: \n",
      "A value is trying to be set on a copy of a slice from a DataFrame.\n",
      "Try using .loc[row_indexer,col_indexer] = value instead\n",
      "\n",
      "See the caveats in the documentation: https://pandas.pydata.org/pandas-docs/stable/user_guide/indexing.html#returning-a-view-versus-a-copy\n",
      "  transcripts_f['x_local_px'] = transcripts_f['x_local_px'] + c1\n",
      "/diskmnt/Projects/Users/estorrs/mushroom/mushroom/data/cosmx.py:130: SettingWithCopyWarning: \n",
      "A value is trying to be set on a copy of a slice from a DataFrame.\n",
      "Try using .loc[row_indexer,col_indexer] = value instead\n",
      "\n",
      "See the caveats in the documentation: https://pandas.pydata.org/pandas-docs/stable/user_guide/indexing.html#returning-a-view-versus-a-copy\n",
      "  transcripts_f['y_local_px'] = np.abs(transcripts_f['y_local_px'] - tile_size[-2]) + r1\n"
     ]
    },
    {
     "name": "stdout",
     "output_type": "stream",
     "text": [
      "reading fov 23\n"
     ]
    },
    {
     "name": "stderr",
     "output_type": "stream",
     "text": [
      "/diskmnt/Projects/Users/estorrs/mushroom/mushroom/data/cosmx.py:129: SettingWithCopyWarning: \n",
      "A value is trying to be set on a copy of a slice from a DataFrame.\n",
      "Try using .loc[row_indexer,col_indexer] = value instead\n",
      "\n",
      "See the caveats in the documentation: https://pandas.pydata.org/pandas-docs/stable/user_guide/indexing.html#returning-a-view-versus-a-copy\n",
      "  transcripts_f['x_local_px'] = transcripts_f['x_local_px'] + c1\n",
      "/diskmnt/Projects/Users/estorrs/mushroom/mushroom/data/cosmx.py:130: SettingWithCopyWarning: \n",
      "A value is trying to be set on a copy of a slice from a DataFrame.\n",
      "Try using .loc[row_indexer,col_indexer] = value instead\n",
      "\n",
      "See the caveats in the documentation: https://pandas.pydata.org/pandas-docs/stable/user_guide/indexing.html#returning-a-view-versus-a-copy\n",
      "  transcripts_f['y_local_px'] = np.abs(transcripts_f['y_local_px'] - tile_size[-2]) + r1\n"
     ]
    },
    {
     "name": "stdout",
     "output_type": "stream",
     "text": [
      "reading fov 24\n"
     ]
    },
    {
     "name": "stderr",
     "output_type": "stream",
     "text": [
      "/diskmnt/Projects/Users/estorrs/mushroom/mushroom/data/cosmx.py:129: SettingWithCopyWarning: \n",
      "A value is trying to be set on a copy of a slice from a DataFrame.\n",
      "Try using .loc[row_indexer,col_indexer] = value instead\n",
      "\n",
      "See the caveats in the documentation: https://pandas.pydata.org/pandas-docs/stable/user_guide/indexing.html#returning-a-view-versus-a-copy\n",
      "  transcripts_f['x_local_px'] = transcripts_f['x_local_px'] + c1\n",
      "/diskmnt/Projects/Users/estorrs/mushroom/mushroom/data/cosmx.py:130: SettingWithCopyWarning: \n",
      "A value is trying to be set on a copy of a slice from a DataFrame.\n",
      "Try using .loc[row_indexer,col_indexer] = value instead\n",
      "\n",
      "See the caveats in the documentation: https://pandas.pydata.org/pandas-docs/stable/user_guide/indexing.html#returning-a-view-versus-a-copy\n",
      "  transcripts_f['y_local_px'] = np.abs(transcripts_f['y_local_px'] - tile_size[-2]) + r1\n"
     ]
    },
    {
     "name": "stdout",
     "output_type": "stream",
     "text": [
      "reading fov 25\n"
     ]
    },
    {
     "name": "stderr",
     "output_type": "stream",
     "text": [
      "/diskmnt/Projects/Users/estorrs/mushroom/mushroom/data/cosmx.py:129: SettingWithCopyWarning: \n",
      "A value is trying to be set on a copy of a slice from a DataFrame.\n",
      "Try using .loc[row_indexer,col_indexer] = value instead\n",
      "\n",
      "See the caveats in the documentation: https://pandas.pydata.org/pandas-docs/stable/user_guide/indexing.html#returning-a-view-versus-a-copy\n",
      "  transcripts_f['x_local_px'] = transcripts_f['x_local_px'] + c1\n",
      "/diskmnt/Projects/Users/estorrs/mushroom/mushroom/data/cosmx.py:130: SettingWithCopyWarning: \n",
      "A value is trying to be set on a copy of a slice from a DataFrame.\n",
      "Try using .loc[row_indexer,col_indexer] = value instead\n",
      "\n",
      "See the caveats in the documentation: https://pandas.pydata.org/pandas-docs/stable/user_guide/indexing.html#returning-a-view-versus-a-copy\n",
      "  transcripts_f['y_local_px'] = np.abs(transcripts_f['y_local_px'] - tile_size[-2]) + r1\n"
     ]
    },
    {
     "name": "stdout",
     "output_type": "stream",
     "text": [
      "reading fov 26\n"
     ]
    },
    {
     "name": "stderr",
     "output_type": "stream",
     "text": [
      "/diskmnt/Projects/Users/estorrs/mushroom/mushroom/data/cosmx.py:129: SettingWithCopyWarning: \n",
      "A value is trying to be set on a copy of a slice from a DataFrame.\n",
      "Try using .loc[row_indexer,col_indexer] = value instead\n",
      "\n",
      "See the caveats in the documentation: https://pandas.pydata.org/pandas-docs/stable/user_guide/indexing.html#returning-a-view-versus-a-copy\n",
      "  transcripts_f['x_local_px'] = transcripts_f['x_local_px'] + c1\n",
      "/diskmnt/Projects/Users/estorrs/mushroom/mushroom/data/cosmx.py:130: SettingWithCopyWarning: \n",
      "A value is trying to be set on a copy of a slice from a DataFrame.\n",
      "Try using .loc[row_indexer,col_indexer] = value instead\n",
      "\n",
      "See the caveats in the documentation: https://pandas.pydata.org/pandas-docs/stable/user_guide/indexing.html#returning-a-view-versus-a-copy\n",
      "  transcripts_f['y_local_px'] = np.abs(transcripts_f['y_local_px'] - tile_size[-2]) + r1\n"
     ]
    },
    {
     "name": "stdout",
     "output_type": "stream",
     "text": [
      "reading fov 27\n"
     ]
    },
    {
     "name": "stderr",
     "output_type": "stream",
     "text": [
      "/diskmnt/Projects/Users/estorrs/mushroom/mushroom/data/cosmx.py:129: SettingWithCopyWarning: \n",
      "A value is trying to be set on a copy of a slice from a DataFrame.\n",
      "Try using .loc[row_indexer,col_indexer] = value instead\n",
      "\n",
      "See the caveats in the documentation: https://pandas.pydata.org/pandas-docs/stable/user_guide/indexing.html#returning-a-view-versus-a-copy\n",
      "  transcripts_f['x_local_px'] = transcripts_f['x_local_px'] + c1\n",
      "/diskmnt/Projects/Users/estorrs/mushroom/mushroom/data/cosmx.py:130: SettingWithCopyWarning: \n",
      "A value is trying to be set on a copy of a slice from a DataFrame.\n",
      "Try using .loc[row_indexer,col_indexer] = value instead\n",
      "\n",
      "See the caveats in the documentation: https://pandas.pydata.org/pandas-docs/stable/user_guide/indexing.html#returning-a-view-versus-a-copy\n",
      "  transcripts_f['y_local_px'] = np.abs(transcripts_f['y_local_px'] - tile_size[-2]) + r1\n"
     ]
    },
    {
     "name": "stdout",
     "output_type": "stream",
     "text": [
      "reading fov 28\n"
     ]
    },
    {
     "name": "stderr",
     "output_type": "stream",
     "text": [
      "/diskmnt/Projects/Users/estorrs/mushroom/mushroom/data/cosmx.py:129: SettingWithCopyWarning: \n",
      "A value is trying to be set on a copy of a slice from a DataFrame.\n",
      "Try using .loc[row_indexer,col_indexer] = value instead\n",
      "\n",
      "See the caveats in the documentation: https://pandas.pydata.org/pandas-docs/stable/user_guide/indexing.html#returning-a-view-versus-a-copy\n",
      "  transcripts_f['x_local_px'] = transcripts_f['x_local_px'] + c1\n",
      "/diskmnt/Projects/Users/estorrs/mushroom/mushroom/data/cosmx.py:130: SettingWithCopyWarning: \n",
      "A value is trying to be set on a copy of a slice from a DataFrame.\n",
      "Try using .loc[row_indexer,col_indexer] = value instead\n",
      "\n",
      "See the caveats in the documentation: https://pandas.pydata.org/pandas-docs/stable/user_guide/indexing.html#returning-a-view-versus-a-copy\n",
      "  transcripts_f['y_local_px'] = np.abs(transcripts_f['y_local_px'] - tile_size[-2]) + r1\n"
     ]
    },
    {
     "name": "stdout",
     "output_type": "stream",
     "text": [
      "reading fov 29\n"
     ]
    },
    {
     "name": "stderr",
     "output_type": "stream",
     "text": [
      "/diskmnt/Projects/Users/estorrs/mushroom/mushroom/data/cosmx.py:129: SettingWithCopyWarning: \n",
      "A value is trying to be set on a copy of a slice from a DataFrame.\n",
      "Try using .loc[row_indexer,col_indexer] = value instead\n",
      "\n",
      "See the caveats in the documentation: https://pandas.pydata.org/pandas-docs/stable/user_guide/indexing.html#returning-a-view-versus-a-copy\n",
      "  transcripts_f['x_local_px'] = transcripts_f['x_local_px'] + c1\n",
      "/diskmnt/Projects/Users/estorrs/mushroom/mushroom/data/cosmx.py:130: SettingWithCopyWarning: \n",
      "A value is trying to be set on a copy of a slice from a DataFrame.\n",
      "Try using .loc[row_indexer,col_indexer] = value instead\n",
      "\n",
      "See the caveats in the documentation: https://pandas.pydata.org/pandas-docs/stable/user_guide/indexing.html#returning-a-view-versus-a-copy\n",
      "  transcripts_f['y_local_px'] = np.abs(transcripts_f['y_local_px'] - tile_size[-2]) + r1\n"
     ]
    },
    {
     "name": "stdout",
     "output_type": "stream",
     "text": [
      "reading fov 30\n"
     ]
    },
    {
     "name": "stderr",
     "output_type": "stream",
     "text": [
      "/diskmnt/Projects/Users/estorrs/mushroom/mushroom/data/cosmx.py:129: SettingWithCopyWarning: \n",
      "A value is trying to be set on a copy of a slice from a DataFrame.\n",
      "Try using .loc[row_indexer,col_indexer] = value instead\n",
      "\n",
      "See the caveats in the documentation: https://pandas.pydata.org/pandas-docs/stable/user_guide/indexing.html#returning-a-view-versus-a-copy\n",
      "  transcripts_f['x_local_px'] = transcripts_f['x_local_px'] + c1\n",
      "/diskmnt/Projects/Users/estorrs/mushroom/mushroom/data/cosmx.py:130: SettingWithCopyWarning: \n",
      "A value is trying to be set on a copy of a slice from a DataFrame.\n",
      "Try using .loc[row_indexer,col_indexer] = value instead\n",
      "\n",
      "See the caveats in the documentation: https://pandas.pydata.org/pandas-docs/stable/user_guide/indexing.html#returning-a-view-versus-a-copy\n",
      "  transcripts_f['y_local_px'] = np.abs(transcripts_f['y_local_px'] - tile_size[-2]) + r1\n"
     ]
    },
    {
     "name": "stdout",
     "output_type": "stream",
     "text": [
      "reading fov 31\n"
     ]
    },
    {
     "name": "stderr",
     "output_type": "stream",
     "text": [
      "/diskmnt/Projects/Users/estorrs/mushroom/mushroom/data/cosmx.py:129: SettingWithCopyWarning: \n",
      "A value is trying to be set on a copy of a slice from a DataFrame.\n",
      "Try using .loc[row_indexer,col_indexer] = value instead\n",
      "\n",
      "See the caveats in the documentation: https://pandas.pydata.org/pandas-docs/stable/user_guide/indexing.html#returning-a-view-versus-a-copy\n",
      "  transcripts_f['x_local_px'] = transcripts_f['x_local_px'] + c1\n",
      "/diskmnt/Projects/Users/estorrs/mushroom/mushroom/data/cosmx.py:130: SettingWithCopyWarning: \n",
      "A value is trying to be set on a copy of a slice from a DataFrame.\n",
      "Try using .loc[row_indexer,col_indexer] = value instead\n",
      "\n",
      "See the caveats in the documentation: https://pandas.pydata.org/pandas-docs/stable/user_guide/indexing.html#returning-a-view-versus-a-copy\n",
      "  transcripts_f['y_local_px'] = np.abs(transcripts_f['y_local_px'] - tile_size[-2]) + r1\n"
     ]
    },
    {
     "name": "stdout",
     "output_type": "stream",
     "text": [
      "reading fov 32\n"
     ]
    },
    {
     "name": "stderr",
     "output_type": "stream",
     "text": [
      "/diskmnt/Projects/Users/estorrs/mushroom/mushroom/data/cosmx.py:129: SettingWithCopyWarning: \n",
      "A value is trying to be set on a copy of a slice from a DataFrame.\n",
      "Try using .loc[row_indexer,col_indexer] = value instead\n",
      "\n",
      "See the caveats in the documentation: https://pandas.pydata.org/pandas-docs/stable/user_guide/indexing.html#returning-a-view-versus-a-copy\n",
      "  transcripts_f['x_local_px'] = transcripts_f['x_local_px'] + c1\n",
      "/diskmnt/Projects/Users/estorrs/mushroom/mushroom/data/cosmx.py:130: SettingWithCopyWarning: \n",
      "A value is trying to be set on a copy of a slice from a DataFrame.\n",
      "Try using .loc[row_indexer,col_indexer] = value instead\n",
      "\n",
      "See the caveats in the documentation: https://pandas.pydata.org/pandas-docs/stable/user_guide/indexing.html#returning-a-view-versus-a-copy\n",
      "  transcripts_f['y_local_px'] = np.abs(transcripts_f['y_local_px'] - tile_size[-2]) + r1\n"
     ]
    },
    {
     "name": "stdout",
     "output_type": "stream",
     "text": [
      "reading fov 33\n"
     ]
    },
    {
     "name": "stderr",
     "output_type": "stream",
     "text": [
      "/diskmnt/Projects/Users/estorrs/mushroom/mushroom/data/cosmx.py:129: SettingWithCopyWarning: \n",
      "A value is trying to be set on a copy of a slice from a DataFrame.\n",
      "Try using .loc[row_indexer,col_indexer] = value instead\n",
      "\n",
      "See the caveats in the documentation: https://pandas.pydata.org/pandas-docs/stable/user_guide/indexing.html#returning-a-view-versus-a-copy\n",
      "  transcripts_f['x_local_px'] = transcripts_f['x_local_px'] + c1\n",
      "/diskmnt/Projects/Users/estorrs/mushroom/mushroom/data/cosmx.py:130: SettingWithCopyWarning: \n",
      "A value is trying to be set on a copy of a slice from a DataFrame.\n",
      "Try using .loc[row_indexer,col_indexer] = value instead\n",
      "\n",
      "See the caveats in the documentation: https://pandas.pydata.org/pandas-docs/stable/user_guide/indexing.html#returning-a-view-versus-a-copy\n",
      "  transcripts_f['y_local_px'] = np.abs(transcripts_f['y_local_px'] - tile_size[-2]) + r1\n"
     ]
    },
    {
     "name": "stdout",
     "output_type": "stream",
     "text": [
      "reading fov 34\n"
     ]
    },
    {
     "name": "stderr",
     "output_type": "stream",
     "text": [
      "/diskmnt/Projects/Users/estorrs/mushroom/mushroom/data/cosmx.py:129: SettingWithCopyWarning: \n",
      "A value is trying to be set on a copy of a slice from a DataFrame.\n",
      "Try using .loc[row_indexer,col_indexer] = value instead\n",
      "\n",
      "See the caveats in the documentation: https://pandas.pydata.org/pandas-docs/stable/user_guide/indexing.html#returning-a-view-versus-a-copy\n",
      "  transcripts_f['x_local_px'] = transcripts_f['x_local_px'] + c1\n",
      "/diskmnt/Projects/Users/estorrs/mushroom/mushroom/data/cosmx.py:130: SettingWithCopyWarning: \n",
      "A value is trying to be set on a copy of a slice from a DataFrame.\n",
      "Try using .loc[row_indexer,col_indexer] = value instead\n",
      "\n",
      "See the caveats in the documentation: https://pandas.pydata.org/pandas-docs/stable/user_guide/indexing.html#returning-a-view-versus-a-copy\n",
      "  transcripts_f['y_local_px'] = np.abs(transcripts_f['y_local_px'] - tile_size[-2]) + r1\n"
     ]
    },
    {
     "name": "stdout",
     "output_type": "stream",
     "text": [
      "reading fov 35\n"
     ]
    },
    {
     "name": "stderr",
     "output_type": "stream",
     "text": [
      "/diskmnt/Projects/Users/estorrs/mushroom/mushroom/data/cosmx.py:129: SettingWithCopyWarning: \n",
      "A value is trying to be set on a copy of a slice from a DataFrame.\n",
      "Try using .loc[row_indexer,col_indexer] = value instead\n",
      "\n",
      "See the caveats in the documentation: https://pandas.pydata.org/pandas-docs/stable/user_guide/indexing.html#returning-a-view-versus-a-copy\n",
      "  transcripts_f['x_local_px'] = transcripts_f['x_local_px'] + c1\n",
      "/diskmnt/Projects/Users/estorrs/mushroom/mushroom/data/cosmx.py:130: SettingWithCopyWarning: \n",
      "A value is trying to be set on a copy of a slice from a DataFrame.\n",
      "Try using .loc[row_indexer,col_indexer] = value instead\n",
      "\n",
      "See the caveats in the documentation: https://pandas.pydata.org/pandas-docs/stable/user_guide/indexing.html#returning-a-view-versus-a-copy\n",
      "  transcripts_f['y_local_px'] = np.abs(transcripts_f['y_local_px'] - tile_size[-2]) + r1\n"
     ]
    },
    {
     "name": "stdout",
     "output_type": "stream",
     "text": [
      "reading fov 36\n"
     ]
    },
    {
     "name": "stderr",
     "output_type": "stream",
     "text": [
      "/diskmnt/Projects/Users/estorrs/mushroom/mushroom/data/cosmx.py:129: SettingWithCopyWarning: \n",
      "A value is trying to be set on a copy of a slice from a DataFrame.\n",
      "Try using .loc[row_indexer,col_indexer] = value instead\n",
      "\n",
      "See the caveats in the documentation: https://pandas.pydata.org/pandas-docs/stable/user_guide/indexing.html#returning-a-view-versus-a-copy\n",
      "  transcripts_f['x_local_px'] = transcripts_f['x_local_px'] + c1\n",
      "/diskmnt/Projects/Users/estorrs/mushroom/mushroom/data/cosmx.py:130: SettingWithCopyWarning: \n",
      "A value is trying to be set on a copy of a slice from a DataFrame.\n",
      "Try using .loc[row_indexer,col_indexer] = value instead\n",
      "\n",
      "See the caveats in the documentation: https://pandas.pydata.org/pandas-docs/stable/user_guide/indexing.html#returning-a-view-versus-a-copy\n",
      "  transcripts_f['y_local_px'] = np.abs(transcripts_f['y_local_px'] - tile_size[-2]) + r1\n"
     ]
    },
    {
     "name": "stdout",
     "output_type": "stream",
     "text": [
      "reading fov 37\n"
     ]
    },
    {
     "name": "stderr",
     "output_type": "stream",
     "text": [
      "/diskmnt/Projects/Users/estorrs/mushroom/mushroom/data/cosmx.py:129: SettingWithCopyWarning: \n",
      "A value is trying to be set on a copy of a slice from a DataFrame.\n",
      "Try using .loc[row_indexer,col_indexer] = value instead\n",
      "\n",
      "See the caveats in the documentation: https://pandas.pydata.org/pandas-docs/stable/user_guide/indexing.html#returning-a-view-versus-a-copy\n",
      "  transcripts_f['x_local_px'] = transcripts_f['x_local_px'] + c1\n",
      "/diskmnt/Projects/Users/estorrs/mushroom/mushroom/data/cosmx.py:130: SettingWithCopyWarning: \n",
      "A value is trying to be set on a copy of a slice from a DataFrame.\n",
      "Try using .loc[row_indexer,col_indexer] = value instead\n",
      "\n",
      "See the caveats in the documentation: https://pandas.pydata.org/pandas-docs/stable/user_guide/indexing.html#returning-a-view-versus-a-copy\n",
      "  transcripts_f['y_local_px'] = np.abs(transcripts_f['y_local_px'] - tile_size[-2]) + r1\n"
     ]
    },
    {
     "name": "stdout",
     "output_type": "stream",
     "text": [
      "reading fov 38\n"
     ]
    },
    {
     "name": "stderr",
     "output_type": "stream",
     "text": [
      "/diskmnt/Projects/Users/estorrs/mushroom/mushroom/data/cosmx.py:129: SettingWithCopyWarning: \n",
      "A value is trying to be set on a copy of a slice from a DataFrame.\n",
      "Try using .loc[row_indexer,col_indexer] = value instead\n",
      "\n",
      "See the caveats in the documentation: https://pandas.pydata.org/pandas-docs/stable/user_guide/indexing.html#returning-a-view-versus-a-copy\n",
      "  transcripts_f['x_local_px'] = transcripts_f['x_local_px'] + c1\n",
      "/diskmnt/Projects/Users/estorrs/mushroom/mushroom/data/cosmx.py:130: SettingWithCopyWarning: \n",
      "A value is trying to be set on a copy of a slice from a DataFrame.\n",
      "Try using .loc[row_indexer,col_indexer] = value instead\n",
      "\n",
      "See the caveats in the documentation: https://pandas.pydata.org/pandas-docs/stable/user_guide/indexing.html#returning-a-view-versus-a-copy\n",
      "  transcripts_f['y_local_px'] = np.abs(transcripts_f['y_local_px'] - tile_size[-2]) + r1\n"
     ]
    },
    {
     "name": "stdout",
     "output_type": "stream",
     "text": [
      "reading fov 39\n"
     ]
    },
    {
     "name": "stderr",
     "output_type": "stream",
     "text": [
      "/diskmnt/Projects/Users/estorrs/mushroom/mushroom/data/cosmx.py:129: SettingWithCopyWarning: \n",
      "A value is trying to be set on a copy of a slice from a DataFrame.\n",
      "Try using .loc[row_indexer,col_indexer] = value instead\n",
      "\n",
      "See the caveats in the documentation: https://pandas.pydata.org/pandas-docs/stable/user_guide/indexing.html#returning-a-view-versus-a-copy\n",
      "  transcripts_f['x_local_px'] = transcripts_f['x_local_px'] + c1\n",
      "/diskmnt/Projects/Users/estorrs/mushroom/mushroom/data/cosmx.py:130: SettingWithCopyWarning: \n",
      "A value is trying to be set on a copy of a slice from a DataFrame.\n",
      "Try using .loc[row_indexer,col_indexer] = value instead\n",
      "\n",
      "See the caveats in the documentation: https://pandas.pydata.org/pandas-docs/stable/user_guide/indexing.html#returning-a-view-versus-a-copy\n",
      "  transcripts_f['y_local_px'] = np.abs(transcripts_f['y_local_px'] - tile_size[-2]) + r1\n"
     ]
    },
    {
     "name": "stdout",
     "output_type": "stream",
     "text": [
      "reading fov 40\n"
     ]
    },
    {
     "name": "stderr",
     "output_type": "stream",
     "text": [
      "/diskmnt/Projects/Users/estorrs/mushroom/mushroom/data/cosmx.py:129: SettingWithCopyWarning: \n",
      "A value is trying to be set on a copy of a slice from a DataFrame.\n",
      "Try using .loc[row_indexer,col_indexer] = value instead\n",
      "\n",
      "See the caveats in the documentation: https://pandas.pydata.org/pandas-docs/stable/user_guide/indexing.html#returning-a-view-versus-a-copy\n",
      "  transcripts_f['x_local_px'] = transcripts_f['x_local_px'] + c1\n",
      "/diskmnt/Projects/Users/estorrs/mushroom/mushroom/data/cosmx.py:130: SettingWithCopyWarning: \n",
      "A value is trying to be set on a copy of a slice from a DataFrame.\n",
      "Try using .loc[row_indexer,col_indexer] = value instead\n",
      "\n",
      "See the caveats in the documentation: https://pandas.pydata.org/pandas-docs/stable/user_guide/indexing.html#returning-a-view-versus-a-copy\n",
      "  transcripts_f['y_local_px'] = np.abs(transcripts_f['y_local_px'] - tile_size[-2]) + r1\n"
     ]
    },
    {
     "name": "stdout",
     "output_type": "stream",
     "text": [
      "reading fov 41\n"
     ]
    },
    {
     "name": "stderr",
     "output_type": "stream",
     "text": [
      "/diskmnt/Projects/Users/estorrs/mushroom/mushroom/data/cosmx.py:129: SettingWithCopyWarning: \n",
      "A value is trying to be set on a copy of a slice from a DataFrame.\n",
      "Try using .loc[row_indexer,col_indexer] = value instead\n",
      "\n",
      "See the caveats in the documentation: https://pandas.pydata.org/pandas-docs/stable/user_guide/indexing.html#returning-a-view-versus-a-copy\n",
      "  transcripts_f['x_local_px'] = transcripts_f['x_local_px'] + c1\n",
      "/diskmnt/Projects/Users/estorrs/mushroom/mushroom/data/cosmx.py:130: SettingWithCopyWarning: \n",
      "A value is trying to be set on a copy of a slice from a DataFrame.\n",
      "Try using .loc[row_indexer,col_indexer] = value instead\n",
      "\n",
      "See the caveats in the documentation: https://pandas.pydata.org/pandas-docs/stable/user_guide/indexing.html#returning-a-view-versus-a-copy\n",
      "  transcripts_f['y_local_px'] = np.abs(transcripts_f['y_local_px'] - tile_size[-2]) + r1\n"
     ]
    },
    {
     "name": "stdout",
     "output_type": "stream",
     "text": [
      "reading fov 42\n"
     ]
    },
    {
     "name": "stderr",
     "output_type": "stream",
     "text": [
      "/diskmnt/Projects/Users/estorrs/mushroom/mushroom/data/cosmx.py:129: SettingWithCopyWarning: \n",
      "A value is trying to be set on a copy of a slice from a DataFrame.\n",
      "Try using .loc[row_indexer,col_indexer] = value instead\n",
      "\n",
      "See the caveats in the documentation: https://pandas.pydata.org/pandas-docs/stable/user_guide/indexing.html#returning-a-view-versus-a-copy\n",
      "  transcripts_f['x_local_px'] = transcripts_f['x_local_px'] + c1\n",
      "/diskmnt/Projects/Users/estorrs/mushroom/mushroom/data/cosmx.py:130: SettingWithCopyWarning: \n",
      "A value is trying to be set on a copy of a slice from a DataFrame.\n",
      "Try using .loc[row_indexer,col_indexer] = value instead\n",
      "\n",
      "See the caveats in the documentation: https://pandas.pydata.org/pandas-docs/stable/user_guide/indexing.html#returning-a-view-versus-a-copy\n",
      "  transcripts_f['y_local_px'] = np.abs(transcripts_f['y_local_px'] - tile_size[-2]) + r1\n"
     ]
    },
    {
     "name": "stdout",
     "output_type": "stream",
     "text": [
      "reading fov 43\n"
     ]
    },
    {
     "name": "stderr",
     "output_type": "stream",
     "text": [
      "/diskmnt/Projects/Users/estorrs/mushroom/mushroom/data/cosmx.py:129: SettingWithCopyWarning: \n",
      "A value is trying to be set on a copy of a slice from a DataFrame.\n",
      "Try using .loc[row_indexer,col_indexer] = value instead\n",
      "\n",
      "See the caveats in the documentation: https://pandas.pydata.org/pandas-docs/stable/user_guide/indexing.html#returning-a-view-versus-a-copy\n",
      "  transcripts_f['x_local_px'] = transcripts_f['x_local_px'] + c1\n",
      "/diskmnt/Projects/Users/estorrs/mushroom/mushroom/data/cosmx.py:130: SettingWithCopyWarning: \n",
      "A value is trying to be set on a copy of a slice from a DataFrame.\n",
      "Try using .loc[row_indexer,col_indexer] = value instead\n",
      "\n",
      "See the caveats in the documentation: https://pandas.pydata.org/pandas-docs/stable/user_guide/indexing.html#returning-a-view-versus-a-copy\n",
      "  transcripts_f['y_local_px'] = np.abs(transcripts_f['y_local_px'] - tile_size[-2]) + r1\n"
     ]
    },
    {
     "name": "stdout",
     "output_type": "stream",
     "text": [
      "reading fov 44\n"
     ]
    },
    {
     "name": "stderr",
     "output_type": "stream",
     "text": [
      "/diskmnt/Projects/Users/estorrs/mushroom/mushroom/data/cosmx.py:129: SettingWithCopyWarning: \n",
      "A value is trying to be set on a copy of a slice from a DataFrame.\n",
      "Try using .loc[row_indexer,col_indexer] = value instead\n",
      "\n",
      "See the caveats in the documentation: https://pandas.pydata.org/pandas-docs/stable/user_guide/indexing.html#returning-a-view-versus-a-copy\n",
      "  transcripts_f['x_local_px'] = transcripts_f['x_local_px'] + c1\n",
      "/diskmnt/Projects/Users/estorrs/mushroom/mushroom/data/cosmx.py:130: SettingWithCopyWarning: \n",
      "A value is trying to be set on a copy of a slice from a DataFrame.\n",
      "Try using .loc[row_indexer,col_indexer] = value instead\n",
      "\n",
      "See the caveats in the documentation: https://pandas.pydata.org/pandas-docs/stable/user_guide/indexing.html#returning-a-view-versus-a-copy\n",
      "  transcripts_f['y_local_px'] = np.abs(transcripts_f['y_local_px'] - tile_size[-2]) + r1\n"
     ]
    },
    {
     "name": "stdout",
     "output_type": "stream",
     "text": [
      "reading fov 45\n"
     ]
    },
    {
     "name": "stderr",
     "output_type": "stream",
     "text": [
      "/diskmnt/Projects/Users/estorrs/mushroom/mushroom/data/cosmx.py:129: SettingWithCopyWarning: \n",
      "A value is trying to be set on a copy of a slice from a DataFrame.\n",
      "Try using .loc[row_indexer,col_indexer] = value instead\n",
      "\n",
      "See the caveats in the documentation: https://pandas.pydata.org/pandas-docs/stable/user_guide/indexing.html#returning-a-view-versus-a-copy\n",
      "  transcripts_f['x_local_px'] = transcripts_f['x_local_px'] + c1\n",
      "/diskmnt/Projects/Users/estorrs/mushroom/mushroom/data/cosmx.py:130: SettingWithCopyWarning: \n",
      "A value is trying to be set on a copy of a slice from a DataFrame.\n",
      "Try using .loc[row_indexer,col_indexer] = value instead\n",
      "\n",
      "See the caveats in the documentation: https://pandas.pydata.org/pandas-docs/stable/user_guide/indexing.html#returning-a-view-versus-a-copy\n",
      "  transcripts_f['y_local_px'] = np.abs(transcripts_f['y_local_px'] - tile_size[-2]) + r1\n"
     ]
    },
    {
     "name": "stdout",
     "output_type": "stream",
     "text": [
      "reading fov 46\n"
     ]
    },
    {
     "name": "stderr",
     "output_type": "stream",
     "text": [
      "/diskmnt/Projects/Users/estorrs/mushroom/mushroom/data/cosmx.py:129: SettingWithCopyWarning: \n",
      "A value is trying to be set on a copy of a slice from a DataFrame.\n",
      "Try using .loc[row_indexer,col_indexer] = value instead\n",
      "\n",
      "See the caveats in the documentation: https://pandas.pydata.org/pandas-docs/stable/user_guide/indexing.html#returning-a-view-versus-a-copy\n",
      "  transcripts_f['x_local_px'] = transcripts_f['x_local_px'] + c1\n",
      "/diskmnt/Projects/Users/estorrs/mushroom/mushroom/data/cosmx.py:130: SettingWithCopyWarning: \n",
      "A value is trying to be set on a copy of a slice from a DataFrame.\n",
      "Try using .loc[row_indexer,col_indexer] = value instead\n",
      "\n",
      "See the caveats in the documentation: https://pandas.pydata.org/pandas-docs/stable/user_guide/indexing.html#returning-a-view-versus-a-copy\n",
      "  transcripts_f['y_local_px'] = np.abs(transcripts_f['y_local_px'] - tile_size[-2]) + r1\n"
     ]
    },
    {
     "name": "stdout",
     "output_type": "stream",
     "text": [
      "reading fov 47\n"
     ]
    },
    {
     "name": "stderr",
     "output_type": "stream",
     "text": [
      "/diskmnt/Projects/Users/estorrs/mushroom/mushroom/data/cosmx.py:129: SettingWithCopyWarning: \n",
      "A value is trying to be set on a copy of a slice from a DataFrame.\n",
      "Try using .loc[row_indexer,col_indexer] = value instead\n",
      "\n",
      "See the caveats in the documentation: https://pandas.pydata.org/pandas-docs/stable/user_guide/indexing.html#returning-a-view-versus-a-copy\n",
      "  transcripts_f['x_local_px'] = transcripts_f['x_local_px'] + c1\n",
      "/diskmnt/Projects/Users/estorrs/mushroom/mushroom/data/cosmx.py:130: SettingWithCopyWarning: \n",
      "A value is trying to be set on a copy of a slice from a DataFrame.\n",
      "Try using .loc[row_indexer,col_indexer] = value instead\n",
      "\n",
      "See the caveats in the documentation: https://pandas.pydata.org/pandas-docs/stable/user_guide/indexing.html#returning-a-view-versus-a-copy\n",
      "  transcripts_f['y_local_px'] = np.abs(transcripts_f['y_local_px'] - tile_size[-2]) + r1\n"
     ]
    },
    {
     "name": "stdout",
     "output_type": "stream",
     "text": [
      "reading fov 48\n"
     ]
    },
    {
     "name": "stderr",
     "output_type": "stream",
     "text": [
      "/diskmnt/Projects/Users/estorrs/mushroom/mushroom/data/cosmx.py:129: SettingWithCopyWarning: \n",
      "A value is trying to be set on a copy of a slice from a DataFrame.\n",
      "Try using .loc[row_indexer,col_indexer] = value instead\n",
      "\n",
      "See the caveats in the documentation: https://pandas.pydata.org/pandas-docs/stable/user_guide/indexing.html#returning-a-view-versus-a-copy\n",
      "  transcripts_f['x_local_px'] = transcripts_f['x_local_px'] + c1\n",
      "/diskmnt/Projects/Users/estorrs/mushroom/mushroom/data/cosmx.py:130: SettingWithCopyWarning: \n",
      "A value is trying to be set on a copy of a slice from a DataFrame.\n",
      "Try using .loc[row_indexer,col_indexer] = value instead\n",
      "\n",
      "See the caveats in the documentation: https://pandas.pydata.org/pandas-docs/stable/user_guide/indexing.html#returning-a-view-versus-a-copy\n",
      "  transcripts_f['y_local_px'] = np.abs(transcripts_f['y_local_px'] - tile_size[-2]) + r1\n"
     ]
    },
    {
     "name": "stdout",
     "output_type": "stream",
     "text": [
      "reading fov 49\n"
     ]
    },
    {
     "name": "stderr",
     "output_type": "stream",
     "text": [
      "/diskmnt/Projects/Users/estorrs/mushroom/mushroom/data/cosmx.py:129: SettingWithCopyWarning: \n",
      "A value is trying to be set on a copy of a slice from a DataFrame.\n",
      "Try using .loc[row_indexer,col_indexer] = value instead\n",
      "\n",
      "See the caveats in the documentation: https://pandas.pydata.org/pandas-docs/stable/user_guide/indexing.html#returning-a-view-versus-a-copy\n",
      "  transcripts_f['x_local_px'] = transcripts_f['x_local_px'] + c1\n",
      "/diskmnt/Projects/Users/estorrs/mushroom/mushroom/data/cosmx.py:130: SettingWithCopyWarning: \n",
      "A value is trying to be set on a copy of a slice from a DataFrame.\n",
      "Try using .loc[row_indexer,col_indexer] = value instead\n",
      "\n",
      "See the caveats in the documentation: https://pandas.pydata.org/pandas-docs/stable/user_guide/indexing.html#returning-a-view-versus-a-copy\n",
      "  transcripts_f['y_local_px'] = np.abs(transcripts_f['y_local_px'] - tile_size[-2]) + r1\n"
     ]
    },
    {
     "name": "stdout",
     "output_type": "stream",
     "text": [
      "reading fov 50\n"
     ]
    },
    {
     "name": "stderr",
     "output_type": "stream",
     "text": [
      "/diskmnt/Projects/Users/estorrs/mushroom/mushroom/data/cosmx.py:129: SettingWithCopyWarning: \n",
      "A value is trying to be set on a copy of a slice from a DataFrame.\n",
      "Try using .loc[row_indexer,col_indexer] = value instead\n",
      "\n",
      "See the caveats in the documentation: https://pandas.pydata.org/pandas-docs/stable/user_guide/indexing.html#returning-a-view-versus-a-copy\n",
      "  transcripts_f['x_local_px'] = transcripts_f['x_local_px'] + c1\n",
      "/diskmnt/Projects/Users/estorrs/mushroom/mushroom/data/cosmx.py:130: SettingWithCopyWarning: \n",
      "A value is trying to be set on a copy of a slice from a DataFrame.\n",
      "Try using .loc[row_indexer,col_indexer] = value instead\n",
      "\n",
      "See the caveats in the documentation: https://pandas.pydata.org/pandas-docs/stable/user_guide/indexing.html#returning-a-view-versus-a-copy\n",
      "  transcripts_f['y_local_px'] = np.abs(transcripts_f['y_local_px'] - tile_size[-2]) + r1\n"
     ]
    },
    {
     "name": "stdout",
     "output_type": "stream",
     "text": [
      "reading fov 51\n"
     ]
    },
    {
     "name": "stderr",
     "output_type": "stream",
     "text": [
      "/diskmnt/Projects/Users/estorrs/mushroom/mushroom/data/cosmx.py:129: SettingWithCopyWarning: \n",
      "A value is trying to be set on a copy of a slice from a DataFrame.\n",
      "Try using .loc[row_indexer,col_indexer] = value instead\n",
      "\n",
      "See the caveats in the documentation: https://pandas.pydata.org/pandas-docs/stable/user_guide/indexing.html#returning-a-view-versus-a-copy\n",
      "  transcripts_f['x_local_px'] = transcripts_f['x_local_px'] + c1\n",
      "/diskmnt/Projects/Users/estorrs/mushroom/mushroom/data/cosmx.py:130: SettingWithCopyWarning: \n",
      "A value is trying to be set on a copy of a slice from a DataFrame.\n",
      "Try using .loc[row_indexer,col_indexer] = value instead\n",
      "\n",
      "See the caveats in the documentation: https://pandas.pydata.org/pandas-docs/stable/user_guide/indexing.html#returning-a-view-versus-a-copy\n",
      "  transcripts_f['y_local_px'] = np.abs(transcripts_f['y_local_px'] - tile_size[-2]) + r1\n"
     ]
    },
    {
     "name": "stdout",
     "output_type": "stream",
     "text": [
      "reading fov 52\n"
     ]
    },
    {
     "name": "stderr",
     "output_type": "stream",
     "text": [
      "/diskmnt/Projects/Users/estorrs/mushroom/mushroom/data/cosmx.py:129: SettingWithCopyWarning: \n",
      "A value is trying to be set on a copy of a slice from a DataFrame.\n",
      "Try using .loc[row_indexer,col_indexer] = value instead\n",
      "\n",
      "See the caveats in the documentation: https://pandas.pydata.org/pandas-docs/stable/user_guide/indexing.html#returning-a-view-versus-a-copy\n",
      "  transcripts_f['x_local_px'] = transcripts_f['x_local_px'] + c1\n",
      "/diskmnt/Projects/Users/estorrs/mushroom/mushroom/data/cosmx.py:130: SettingWithCopyWarning: \n",
      "A value is trying to be set on a copy of a slice from a DataFrame.\n",
      "Try using .loc[row_indexer,col_indexer] = value instead\n",
      "\n",
      "See the caveats in the documentation: https://pandas.pydata.org/pandas-docs/stable/user_guide/indexing.html#returning-a-view-versus-a-copy\n",
      "  transcripts_f['y_local_px'] = np.abs(transcripts_f['y_local_px'] - tile_size[-2]) + r1\n"
     ]
    },
    {
     "name": "stdout",
     "output_type": "stream",
     "text": [
      "reading fov 53\n"
     ]
    },
    {
     "name": "stderr",
     "output_type": "stream",
     "text": [
      "/diskmnt/Projects/Users/estorrs/mushroom/mushroom/data/cosmx.py:129: SettingWithCopyWarning: \n",
      "A value is trying to be set on a copy of a slice from a DataFrame.\n",
      "Try using .loc[row_indexer,col_indexer] = value instead\n",
      "\n",
      "See the caveats in the documentation: https://pandas.pydata.org/pandas-docs/stable/user_guide/indexing.html#returning-a-view-versus-a-copy\n",
      "  transcripts_f['x_local_px'] = transcripts_f['x_local_px'] + c1\n",
      "/diskmnt/Projects/Users/estorrs/mushroom/mushroom/data/cosmx.py:130: SettingWithCopyWarning: \n",
      "A value is trying to be set on a copy of a slice from a DataFrame.\n",
      "Try using .loc[row_indexer,col_indexer] = value instead\n",
      "\n",
      "See the caveats in the documentation: https://pandas.pydata.org/pandas-docs/stable/user_guide/indexing.html#returning-a-view-versus-a-copy\n",
      "  transcripts_f['y_local_px'] = np.abs(transcripts_f['y_local_px'] - tile_size[-2]) + r1\n"
     ]
    },
    {
     "name": "stdout",
     "output_type": "stream",
     "text": [
      "reading fov 54\n"
     ]
    },
    {
     "name": "stderr",
     "output_type": "stream",
     "text": [
      "/diskmnt/Projects/Users/estorrs/mushroom/mushroom/data/cosmx.py:129: SettingWithCopyWarning: \n",
      "A value is trying to be set on a copy of a slice from a DataFrame.\n",
      "Try using .loc[row_indexer,col_indexer] = value instead\n",
      "\n",
      "See the caveats in the documentation: https://pandas.pydata.org/pandas-docs/stable/user_guide/indexing.html#returning-a-view-versus-a-copy\n",
      "  transcripts_f['x_local_px'] = transcripts_f['x_local_px'] + c1\n",
      "/diskmnt/Projects/Users/estorrs/mushroom/mushroom/data/cosmx.py:130: SettingWithCopyWarning: \n",
      "A value is trying to be set on a copy of a slice from a DataFrame.\n",
      "Try using .loc[row_indexer,col_indexer] = value instead\n",
      "\n",
      "See the caveats in the documentation: https://pandas.pydata.org/pandas-docs/stable/user_guide/indexing.html#returning-a-view-versus-a-copy\n",
      "  transcripts_f['y_local_px'] = np.abs(transcripts_f['y_local_px'] - tile_size[-2]) + r1\n"
     ]
    },
    {
     "name": "stdout",
     "output_type": "stream",
     "text": [
      "reading fov 55\n"
     ]
    },
    {
     "name": "stderr",
     "output_type": "stream",
     "text": [
      "/diskmnt/Projects/Users/estorrs/mushroom/mushroom/data/cosmx.py:129: SettingWithCopyWarning: \n",
      "A value is trying to be set on a copy of a slice from a DataFrame.\n",
      "Try using .loc[row_indexer,col_indexer] = value instead\n",
      "\n",
      "See the caveats in the documentation: https://pandas.pydata.org/pandas-docs/stable/user_guide/indexing.html#returning-a-view-versus-a-copy\n",
      "  transcripts_f['x_local_px'] = transcripts_f['x_local_px'] + c1\n",
      "/diskmnt/Projects/Users/estorrs/mushroom/mushroom/data/cosmx.py:130: SettingWithCopyWarning: \n",
      "A value is trying to be set on a copy of a slice from a DataFrame.\n",
      "Try using .loc[row_indexer,col_indexer] = value instead\n",
      "\n",
      "See the caveats in the documentation: https://pandas.pydata.org/pandas-docs/stable/user_guide/indexing.html#returning-a-view-versus-a-copy\n",
      "  transcripts_f['y_local_px'] = np.abs(transcripts_f['y_local_px'] - tile_size[-2]) + r1\n"
     ]
    },
    {
     "name": "stdout",
     "output_type": "stream",
     "text": [
      "reading fov 56\n"
     ]
    },
    {
     "name": "stderr",
     "output_type": "stream",
     "text": [
      "/diskmnt/Projects/Users/estorrs/mushroom/mushroom/data/cosmx.py:129: SettingWithCopyWarning: \n",
      "A value is trying to be set on a copy of a slice from a DataFrame.\n",
      "Try using .loc[row_indexer,col_indexer] = value instead\n",
      "\n",
      "See the caveats in the documentation: https://pandas.pydata.org/pandas-docs/stable/user_guide/indexing.html#returning-a-view-versus-a-copy\n",
      "  transcripts_f['x_local_px'] = transcripts_f['x_local_px'] + c1\n",
      "/diskmnt/Projects/Users/estorrs/mushroom/mushroom/data/cosmx.py:130: SettingWithCopyWarning: \n",
      "A value is trying to be set on a copy of a slice from a DataFrame.\n",
      "Try using .loc[row_indexer,col_indexer] = value instead\n",
      "\n",
      "See the caveats in the documentation: https://pandas.pydata.org/pandas-docs/stable/user_guide/indexing.html#returning-a-view-versus-a-copy\n",
      "  transcripts_f['y_local_px'] = np.abs(transcripts_f['y_local_px'] - tile_size[-2]) + r1\n"
     ]
    },
    {
     "name": "stdout",
     "output_type": "stream",
     "text": [
      "reading fov 57\n"
     ]
    },
    {
     "name": "stderr",
     "output_type": "stream",
     "text": [
      "/diskmnt/Projects/Users/estorrs/mushroom/mushroom/data/cosmx.py:129: SettingWithCopyWarning: \n",
      "A value is trying to be set on a copy of a slice from a DataFrame.\n",
      "Try using .loc[row_indexer,col_indexer] = value instead\n",
      "\n",
      "See the caveats in the documentation: https://pandas.pydata.org/pandas-docs/stable/user_guide/indexing.html#returning-a-view-versus-a-copy\n",
      "  transcripts_f['x_local_px'] = transcripts_f['x_local_px'] + c1\n",
      "/diskmnt/Projects/Users/estorrs/mushroom/mushroom/data/cosmx.py:130: SettingWithCopyWarning: \n",
      "A value is trying to be set on a copy of a slice from a DataFrame.\n",
      "Try using .loc[row_indexer,col_indexer] = value instead\n",
      "\n",
      "See the caveats in the documentation: https://pandas.pydata.org/pandas-docs/stable/user_guide/indexing.html#returning-a-view-versus-a-copy\n",
      "  transcripts_f['y_local_px'] = np.abs(transcripts_f['y_local_px'] - tile_size[-2]) + r1\n"
     ]
    },
    {
     "name": "stdout",
     "output_type": "stream",
     "text": [
      "reading fov 58\n"
     ]
    },
    {
     "name": "stderr",
     "output_type": "stream",
     "text": [
      "/diskmnt/Projects/Users/estorrs/mushroom/mushroom/data/cosmx.py:129: SettingWithCopyWarning: \n",
      "A value is trying to be set on a copy of a slice from a DataFrame.\n",
      "Try using .loc[row_indexer,col_indexer] = value instead\n",
      "\n",
      "See the caveats in the documentation: https://pandas.pydata.org/pandas-docs/stable/user_guide/indexing.html#returning-a-view-versus-a-copy\n",
      "  transcripts_f['x_local_px'] = transcripts_f['x_local_px'] + c1\n",
      "/diskmnt/Projects/Users/estorrs/mushroom/mushroom/data/cosmx.py:130: SettingWithCopyWarning: \n",
      "A value is trying to be set on a copy of a slice from a DataFrame.\n",
      "Try using .loc[row_indexer,col_indexer] = value instead\n",
      "\n",
      "See the caveats in the documentation: https://pandas.pydata.org/pandas-docs/stable/user_guide/indexing.html#returning-a-view-versus-a-copy\n",
      "  transcripts_f['y_local_px'] = np.abs(transcripts_f['y_local_px'] - tile_size[-2]) + r1\n"
     ]
    },
    {
     "name": "stdout",
     "output_type": "stream",
     "text": [
      "reading fov 59\n"
     ]
    },
    {
     "name": "stderr",
     "output_type": "stream",
     "text": [
      "/diskmnt/Projects/Users/estorrs/mushroom/mushroom/data/cosmx.py:129: SettingWithCopyWarning: \n",
      "A value is trying to be set on a copy of a slice from a DataFrame.\n",
      "Try using .loc[row_indexer,col_indexer] = value instead\n",
      "\n",
      "See the caveats in the documentation: https://pandas.pydata.org/pandas-docs/stable/user_guide/indexing.html#returning-a-view-versus-a-copy\n",
      "  transcripts_f['x_local_px'] = transcripts_f['x_local_px'] + c1\n",
      "/diskmnt/Projects/Users/estorrs/mushroom/mushroom/data/cosmx.py:130: SettingWithCopyWarning: \n",
      "A value is trying to be set on a copy of a slice from a DataFrame.\n",
      "Try using .loc[row_indexer,col_indexer] = value instead\n",
      "\n",
      "See the caveats in the documentation: https://pandas.pydata.org/pandas-docs/stable/user_guide/indexing.html#returning-a-view-versus-a-copy\n",
      "  transcripts_f['y_local_px'] = np.abs(transcripts_f['y_local_px'] - tile_size[-2]) + r1\n"
     ]
    },
    {
     "name": "stdout",
     "output_type": "stream",
     "text": [
      "reading fov 60\n"
     ]
    },
    {
     "name": "stderr",
     "output_type": "stream",
     "text": [
      "/diskmnt/Projects/Users/estorrs/mushroom/mushroom/data/cosmx.py:129: SettingWithCopyWarning: \n",
      "A value is trying to be set on a copy of a slice from a DataFrame.\n",
      "Try using .loc[row_indexer,col_indexer] = value instead\n",
      "\n",
      "See the caveats in the documentation: https://pandas.pydata.org/pandas-docs/stable/user_guide/indexing.html#returning-a-view-versus-a-copy\n",
      "  transcripts_f['x_local_px'] = transcripts_f['x_local_px'] + c1\n",
      "/diskmnt/Projects/Users/estorrs/mushroom/mushroom/data/cosmx.py:130: SettingWithCopyWarning: \n",
      "A value is trying to be set on a copy of a slice from a DataFrame.\n",
      "Try using .loc[row_indexer,col_indexer] = value instead\n",
      "\n",
      "See the caveats in the documentation: https://pandas.pydata.org/pandas-docs/stable/user_guide/indexing.html#returning-a-view-versus-a-copy\n",
      "  transcripts_f['y_local_px'] = np.abs(transcripts_f['y_local_px'] - tile_size[-2]) + r1\n"
     ]
    },
    {
     "name": "stdout",
     "output_type": "stream",
     "text": [
      "reading fov 61\n"
     ]
    },
    {
     "name": "stderr",
     "output_type": "stream",
     "text": [
      "/diskmnt/Projects/Users/estorrs/mushroom/mushroom/data/cosmx.py:129: SettingWithCopyWarning: \n",
      "A value is trying to be set on a copy of a slice from a DataFrame.\n",
      "Try using .loc[row_indexer,col_indexer] = value instead\n",
      "\n",
      "See the caveats in the documentation: https://pandas.pydata.org/pandas-docs/stable/user_guide/indexing.html#returning-a-view-versus-a-copy\n",
      "  transcripts_f['x_local_px'] = transcripts_f['x_local_px'] + c1\n",
      "/diskmnt/Projects/Users/estorrs/mushroom/mushroom/data/cosmx.py:130: SettingWithCopyWarning: \n",
      "A value is trying to be set on a copy of a slice from a DataFrame.\n",
      "Try using .loc[row_indexer,col_indexer] = value instead\n",
      "\n",
      "See the caveats in the documentation: https://pandas.pydata.org/pandas-docs/stable/user_guide/indexing.html#returning-a-view-versus-a-copy\n",
      "  transcripts_f['y_local_px'] = np.abs(transcripts_f['y_local_px'] - tile_size[-2]) + r1\n"
     ]
    },
    {
     "name": "stdout",
     "output_type": "stream",
     "text": [
      "reading fov 62\n"
     ]
    },
    {
     "name": "stderr",
     "output_type": "stream",
     "text": [
      "/diskmnt/Projects/Users/estorrs/mushroom/mushroom/data/cosmx.py:129: SettingWithCopyWarning: \n",
      "A value is trying to be set on a copy of a slice from a DataFrame.\n",
      "Try using .loc[row_indexer,col_indexer] = value instead\n",
      "\n",
      "See the caveats in the documentation: https://pandas.pydata.org/pandas-docs/stable/user_guide/indexing.html#returning-a-view-versus-a-copy\n",
      "  transcripts_f['x_local_px'] = transcripts_f['x_local_px'] + c1\n",
      "/diskmnt/Projects/Users/estorrs/mushroom/mushroom/data/cosmx.py:130: SettingWithCopyWarning: \n",
      "A value is trying to be set on a copy of a slice from a DataFrame.\n",
      "Try using .loc[row_indexer,col_indexer] = value instead\n",
      "\n",
      "See the caveats in the documentation: https://pandas.pydata.org/pandas-docs/stable/user_guide/indexing.html#returning-a-view-versus-a-copy\n",
      "  transcripts_f['y_local_px'] = np.abs(transcripts_f['y_local_px'] - tile_size[-2]) + r1\n"
     ]
    },
    {
     "name": "stdout",
     "output_type": "stream",
     "text": [
      "reading fov 63\n"
     ]
    },
    {
     "name": "stderr",
     "output_type": "stream",
     "text": [
      "/diskmnt/Projects/Users/estorrs/mushroom/mushroom/data/cosmx.py:129: SettingWithCopyWarning: \n",
      "A value is trying to be set on a copy of a slice from a DataFrame.\n",
      "Try using .loc[row_indexer,col_indexer] = value instead\n",
      "\n",
      "See the caveats in the documentation: https://pandas.pydata.org/pandas-docs/stable/user_guide/indexing.html#returning-a-view-versus-a-copy\n",
      "  transcripts_f['x_local_px'] = transcripts_f['x_local_px'] + c1\n",
      "/diskmnt/Projects/Users/estorrs/mushroom/mushroom/data/cosmx.py:130: SettingWithCopyWarning: \n",
      "A value is trying to be set on a copy of a slice from a DataFrame.\n",
      "Try using .loc[row_indexer,col_indexer] = value instead\n",
      "\n",
      "See the caveats in the documentation: https://pandas.pydata.org/pandas-docs/stable/user_guide/indexing.html#returning-a-view-versus-a-copy\n",
      "  transcripts_f['y_local_px'] = np.abs(transcripts_f['y_local_px'] - tile_size[-2]) + r1\n"
     ]
    },
    {
     "name": "stdout",
     "output_type": "stream",
     "text": [
      "reading fov 64\n"
     ]
    },
    {
     "name": "stderr",
     "output_type": "stream",
     "text": [
      "/diskmnt/Projects/Users/estorrs/mushroom/mushroom/data/cosmx.py:129: SettingWithCopyWarning: \n",
      "A value is trying to be set on a copy of a slice from a DataFrame.\n",
      "Try using .loc[row_indexer,col_indexer] = value instead\n",
      "\n",
      "See the caveats in the documentation: https://pandas.pydata.org/pandas-docs/stable/user_guide/indexing.html#returning-a-view-versus-a-copy\n",
      "  transcripts_f['x_local_px'] = transcripts_f['x_local_px'] + c1\n",
      "/diskmnt/Projects/Users/estorrs/mushroom/mushroom/data/cosmx.py:130: SettingWithCopyWarning: \n",
      "A value is trying to be set on a copy of a slice from a DataFrame.\n",
      "Try using .loc[row_indexer,col_indexer] = value instead\n",
      "\n",
      "See the caveats in the documentation: https://pandas.pydata.org/pandas-docs/stable/user_guide/indexing.html#returning-a-view-versus-a-copy\n",
      "  transcripts_f['y_local_px'] = np.abs(transcripts_f['y_local_px'] - tile_size[-2]) + r1\n"
     ]
    },
    {
     "name": "stdout",
     "output_type": "stream",
     "text": [
      "reading fov 65\n"
     ]
    },
    {
     "name": "stderr",
     "output_type": "stream",
     "text": [
      "/diskmnt/Projects/Users/estorrs/mushroom/mushroom/data/cosmx.py:129: SettingWithCopyWarning: \n",
      "A value is trying to be set on a copy of a slice from a DataFrame.\n",
      "Try using .loc[row_indexer,col_indexer] = value instead\n",
      "\n",
      "See the caveats in the documentation: https://pandas.pydata.org/pandas-docs/stable/user_guide/indexing.html#returning-a-view-versus-a-copy\n",
      "  transcripts_f['x_local_px'] = transcripts_f['x_local_px'] + c1\n",
      "/diskmnt/Projects/Users/estorrs/mushroom/mushroom/data/cosmx.py:130: SettingWithCopyWarning: \n",
      "A value is trying to be set on a copy of a slice from a DataFrame.\n",
      "Try using .loc[row_indexer,col_indexer] = value instead\n",
      "\n",
      "See the caveats in the documentation: https://pandas.pydata.org/pandas-docs/stable/user_guide/indexing.html#returning-a-view-versus-a-copy\n",
      "  transcripts_f['y_local_px'] = np.abs(transcripts_f['y_local_px'] - tile_size[-2]) + r1\n"
     ]
    },
    {
     "name": "stdout",
     "output_type": "stream",
     "text": [
      "reading fov 66\n"
     ]
    },
    {
     "name": "stderr",
     "output_type": "stream",
     "text": [
      "/diskmnt/Projects/Users/estorrs/mushroom/mushroom/data/cosmx.py:129: SettingWithCopyWarning: \n",
      "A value is trying to be set on a copy of a slice from a DataFrame.\n",
      "Try using .loc[row_indexer,col_indexer] = value instead\n",
      "\n",
      "See the caveats in the documentation: https://pandas.pydata.org/pandas-docs/stable/user_guide/indexing.html#returning-a-view-versus-a-copy\n",
      "  transcripts_f['x_local_px'] = transcripts_f['x_local_px'] + c1\n",
      "/diskmnt/Projects/Users/estorrs/mushroom/mushroom/data/cosmx.py:130: SettingWithCopyWarning: \n",
      "A value is trying to be set on a copy of a slice from a DataFrame.\n",
      "Try using .loc[row_indexer,col_indexer] = value instead\n",
      "\n",
      "See the caveats in the documentation: https://pandas.pydata.org/pandas-docs/stable/user_guide/indexing.html#returning-a-view-versus-a-copy\n",
      "  transcripts_f['y_local_px'] = np.abs(transcripts_f['y_local_px'] - tile_size[-2]) + r1\n"
     ]
    },
    {
     "name": "stdout",
     "output_type": "stream",
     "text": [
      "reading fov 67\n"
     ]
    },
    {
     "name": "stderr",
     "output_type": "stream",
     "text": [
      "/diskmnt/Projects/Users/estorrs/mushroom/mushroom/data/cosmx.py:129: SettingWithCopyWarning: \n",
      "A value is trying to be set on a copy of a slice from a DataFrame.\n",
      "Try using .loc[row_indexer,col_indexer] = value instead\n",
      "\n",
      "See the caveats in the documentation: https://pandas.pydata.org/pandas-docs/stable/user_guide/indexing.html#returning-a-view-versus-a-copy\n",
      "  transcripts_f['x_local_px'] = transcripts_f['x_local_px'] + c1\n",
      "/diskmnt/Projects/Users/estorrs/mushroom/mushroom/data/cosmx.py:130: SettingWithCopyWarning: \n",
      "A value is trying to be set on a copy of a slice from a DataFrame.\n",
      "Try using .loc[row_indexer,col_indexer] = value instead\n",
      "\n",
      "See the caveats in the documentation: https://pandas.pydata.org/pandas-docs/stable/user_guide/indexing.html#returning-a-view-versus-a-copy\n",
      "  transcripts_f['y_local_px'] = np.abs(transcripts_f['y_local_px'] - tile_size[-2]) + r1\n"
     ]
    },
    {
     "name": "stdout",
     "output_type": "stream",
     "text": [
      "reading fov 68\n"
     ]
    },
    {
     "name": "stderr",
     "output_type": "stream",
     "text": [
      "/diskmnt/Projects/Users/estorrs/mushroom/mushroom/data/cosmx.py:129: SettingWithCopyWarning: \n",
      "A value is trying to be set on a copy of a slice from a DataFrame.\n",
      "Try using .loc[row_indexer,col_indexer] = value instead\n",
      "\n",
      "See the caveats in the documentation: https://pandas.pydata.org/pandas-docs/stable/user_guide/indexing.html#returning-a-view-versus-a-copy\n",
      "  transcripts_f['x_local_px'] = transcripts_f['x_local_px'] + c1\n",
      "/diskmnt/Projects/Users/estorrs/mushroom/mushroom/data/cosmx.py:130: SettingWithCopyWarning: \n",
      "A value is trying to be set on a copy of a slice from a DataFrame.\n",
      "Try using .loc[row_indexer,col_indexer] = value instead\n",
      "\n",
      "See the caveats in the documentation: https://pandas.pydata.org/pandas-docs/stable/user_guide/indexing.html#returning-a-view-versus-a-copy\n",
      "  transcripts_f['y_local_px'] = np.abs(transcripts_f['y_local_px'] - tile_size[-2]) + r1\n"
     ]
    },
    {
     "name": "stdout",
     "output_type": "stream",
     "text": [
      "reading fov 69\n"
     ]
    },
    {
     "name": "stderr",
     "output_type": "stream",
     "text": [
      "/diskmnt/Projects/Users/estorrs/mushroom/mushroom/data/cosmx.py:129: SettingWithCopyWarning: \n",
      "A value is trying to be set on a copy of a slice from a DataFrame.\n",
      "Try using .loc[row_indexer,col_indexer] = value instead\n",
      "\n",
      "See the caveats in the documentation: https://pandas.pydata.org/pandas-docs/stable/user_guide/indexing.html#returning-a-view-versus-a-copy\n",
      "  transcripts_f['x_local_px'] = transcripts_f['x_local_px'] + c1\n",
      "/diskmnt/Projects/Users/estorrs/mushroom/mushroom/data/cosmx.py:130: SettingWithCopyWarning: \n",
      "A value is trying to be set on a copy of a slice from a DataFrame.\n",
      "Try using .loc[row_indexer,col_indexer] = value instead\n",
      "\n",
      "See the caveats in the documentation: https://pandas.pydata.org/pandas-docs/stable/user_guide/indexing.html#returning-a-view-versus-a-copy\n",
      "  transcripts_f['y_local_px'] = np.abs(transcripts_f['y_local_px'] - tile_size[-2]) + r1\n"
     ]
    },
    {
     "name": "stdout",
     "output_type": "stream",
     "text": [
      "reading fov 70\n"
     ]
    },
    {
     "name": "stderr",
     "output_type": "stream",
     "text": [
      "/diskmnt/Projects/Users/estorrs/mushroom/mushroom/data/cosmx.py:129: SettingWithCopyWarning: \n",
      "A value is trying to be set on a copy of a slice from a DataFrame.\n",
      "Try using .loc[row_indexer,col_indexer] = value instead\n",
      "\n",
      "See the caveats in the documentation: https://pandas.pydata.org/pandas-docs/stable/user_guide/indexing.html#returning-a-view-versus-a-copy\n",
      "  transcripts_f['x_local_px'] = transcripts_f['x_local_px'] + c1\n",
      "/diskmnt/Projects/Users/estorrs/mushroom/mushroom/data/cosmx.py:130: SettingWithCopyWarning: \n",
      "A value is trying to be set on a copy of a slice from a DataFrame.\n",
      "Try using .loc[row_indexer,col_indexer] = value instead\n",
      "\n",
      "See the caveats in the documentation: https://pandas.pydata.org/pandas-docs/stable/user_guide/indexing.html#returning-a-view-versus-a-copy\n",
      "  transcripts_f['y_local_px'] = np.abs(transcripts_f['y_local_px'] - tile_size[-2]) + r1\n"
     ]
    },
    {
     "name": "stdout",
     "output_type": "stream",
     "text": [
      "reading fov 71\n"
     ]
    },
    {
     "name": "stderr",
     "output_type": "stream",
     "text": [
      "/diskmnt/Projects/Users/estorrs/mushroom/mushroom/data/cosmx.py:129: SettingWithCopyWarning: \n",
      "A value is trying to be set on a copy of a slice from a DataFrame.\n",
      "Try using .loc[row_indexer,col_indexer] = value instead\n",
      "\n",
      "See the caveats in the documentation: https://pandas.pydata.org/pandas-docs/stable/user_guide/indexing.html#returning-a-view-versus-a-copy\n",
      "  transcripts_f['x_local_px'] = transcripts_f['x_local_px'] + c1\n",
      "/diskmnt/Projects/Users/estorrs/mushroom/mushroom/data/cosmx.py:130: SettingWithCopyWarning: \n",
      "A value is trying to be set on a copy of a slice from a DataFrame.\n",
      "Try using .loc[row_indexer,col_indexer] = value instead\n",
      "\n",
      "See the caveats in the documentation: https://pandas.pydata.org/pandas-docs/stable/user_guide/indexing.html#returning-a-view-versus-a-copy\n",
      "  transcripts_f['y_local_px'] = np.abs(transcripts_f['y_local_px'] - tile_size[-2]) + r1\n"
     ]
    },
    {
     "name": "stdout",
     "output_type": "stream",
     "text": [
      "reading fov 72\n"
     ]
    },
    {
     "name": "stderr",
     "output_type": "stream",
     "text": [
      "/diskmnt/Projects/Users/estorrs/mushroom/mushroom/data/cosmx.py:129: SettingWithCopyWarning: \n",
      "A value is trying to be set on a copy of a slice from a DataFrame.\n",
      "Try using .loc[row_indexer,col_indexer] = value instead\n",
      "\n",
      "See the caveats in the documentation: https://pandas.pydata.org/pandas-docs/stable/user_guide/indexing.html#returning-a-view-versus-a-copy\n",
      "  transcripts_f['x_local_px'] = transcripts_f['x_local_px'] + c1\n",
      "/diskmnt/Projects/Users/estorrs/mushroom/mushroom/data/cosmx.py:130: SettingWithCopyWarning: \n",
      "A value is trying to be set on a copy of a slice from a DataFrame.\n",
      "Try using .loc[row_indexer,col_indexer] = value instead\n",
      "\n",
      "See the caveats in the documentation: https://pandas.pydata.org/pandas-docs/stable/user_guide/indexing.html#returning-a-view-versus-a-copy\n",
      "  transcripts_f['y_local_px'] = np.abs(transcripts_f['y_local_px'] - tile_size[-2]) + r1\n"
     ]
    },
    {
     "name": "stdout",
     "output_type": "stream",
     "text": [
      "reading fov 73\n"
     ]
    },
    {
     "name": "stderr",
     "output_type": "stream",
     "text": [
      "/diskmnt/Projects/Users/estorrs/mushroom/mushroom/data/cosmx.py:129: SettingWithCopyWarning: \n",
      "A value is trying to be set on a copy of a slice from a DataFrame.\n",
      "Try using .loc[row_indexer,col_indexer] = value instead\n",
      "\n",
      "See the caveats in the documentation: https://pandas.pydata.org/pandas-docs/stable/user_guide/indexing.html#returning-a-view-versus-a-copy\n",
      "  transcripts_f['x_local_px'] = transcripts_f['x_local_px'] + c1\n",
      "/diskmnt/Projects/Users/estorrs/mushroom/mushroom/data/cosmx.py:130: SettingWithCopyWarning: \n",
      "A value is trying to be set on a copy of a slice from a DataFrame.\n",
      "Try using .loc[row_indexer,col_indexer] = value instead\n",
      "\n",
      "See the caveats in the documentation: https://pandas.pydata.org/pandas-docs/stable/user_guide/indexing.html#returning-a-view-versus-a-copy\n",
      "  transcripts_f['y_local_px'] = np.abs(transcripts_f['y_local_px'] - tile_size[-2]) + r1\n"
     ]
    },
    {
     "name": "stdout",
     "output_type": "stream",
     "text": [
      "reading fov 74\n"
     ]
    },
    {
     "name": "stderr",
     "output_type": "stream",
     "text": [
      "/diskmnt/Projects/Users/estorrs/mushroom/mushroom/data/cosmx.py:129: SettingWithCopyWarning: \n",
      "A value is trying to be set on a copy of a slice from a DataFrame.\n",
      "Try using .loc[row_indexer,col_indexer] = value instead\n",
      "\n",
      "See the caveats in the documentation: https://pandas.pydata.org/pandas-docs/stable/user_guide/indexing.html#returning-a-view-versus-a-copy\n",
      "  transcripts_f['x_local_px'] = transcripts_f['x_local_px'] + c1\n",
      "/diskmnt/Projects/Users/estorrs/mushroom/mushroom/data/cosmx.py:130: SettingWithCopyWarning: \n",
      "A value is trying to be set on a copy of a slice from a DataFrame.\n",
      "Try using .loc[row_indexer,col_indexer] = value instead\n",
      "\n",
      "See the caveats in the documentation: https://pandas.pydata.org/pandas-docs/stable/user_guide/indexing.html#returning-a-view-versus-a-copy\n",
      "  transcripts_f['y_local_px'] = np.abs(transcripts_f['y_local_px'] - tile_size[-2]) + r1\n"
     ]
    },
    {
     "name": "stdout",
     "output_type": "stream",
     "text": [
      "reading fov 75\n"
     ]
    },
    {
     "name": "stderr",
     "output_type": "stream",
     "text": [
      "/diskmnt/Projects/Users/estorrs/mushroom/mushroom/data/cosmx.py:129: SettingWithCopyWarning: \n",
      "A value is trying to be set on a copy of a slice from a DataFrame.\n",
      "Try using .loc[row_indexer,col_indexer] = value instead\n",
      "\n",
      "See the caveats in the documentation: https://pandas.pydata.org/pandas-docs/stable/user_guide/indexing.html#returning-a-view-versus-a-copy\n",
      "  transcripts_f['x_local_px'] = transcripts_f['x_local_px'] + c1\n",
      "/diskmnt/Projects/Users/estorrs/mushroom/mushroom/data/cosmx.py:130: SettingWithCopyWarning: \n",
      "A value is trying to be set on a copy of a slice from a DataFrame.\n",
      "Try using .loc[row_indexer,col_indexer] = value instead\n",
      "\n",
      "See the caveats in the documentation: https://pandas.pydata.org/pandas-docs/stable/user_guide/indexing.html#returning-a-view-versus-a-copy\n",
      "  transcripts_f['y_local_px'] = np.abs(transcripts_f['y_local_px'] - tile_size[-2]) + r1\n"
     ]
    },
    {
     "name": "stdout",
     "output_type": "stream",
     "text": [
      "reading fov 76\n"
     ]
    },
    {
     "name": "stderr",
     "output_type": "stream",
     "text": [
      "/diskmnt/Projects/Users/estorrs/mushroom/mushroom/data/cosmx.py:129: SettingWithCopyWarning: \n",
      "A value is trying to be set on a copy of a slice from a DataFrame.\n",
      "Try using .loc[row_indexer,col_indexer] = value instead\n",
      "\n",
      "See the caveats in the documentation: https://pandas.pydata.org/pandas-docs/stable/user_guide/indexing.html#returning-a-view-versus-a-copy\n",
      "  transcripts_f['x_local_px'] = transcripts_f['x_local_px'] + c1\n",
      "/diskmnt/Projects/Users/estorrs/mushroom/mushroom/data/cosmx.py:130: SettingWithCopyWarning: \n",
      "A value is trying to be set on a copy of a slice from a DataFrame.\n",
      "Try using .loc[row_indexer,col_indexer] = value instead\n",
      "\n",
      "See the caveats in the documentation: https://pandas.pydata.org/pandas-docs/stable/user_guide/indexing.html#returning-a-view-versus-a-copy\n",
      "  transcripts_f['y_local_px'] = np.abs(transcripts_f['y_local_px'] - tile_size[-2]) + r1\n"
     ]
    },
    {
     "name": "stdout",
     "output_type": "stream",
     "text": [
      "reading fov 77\n"
     ]
    },
    {
     "name": "stderr",
     "output_type": "stream",
     "text": [
      "/diskmnt/Projects/Users/estorrs/mushroom/mushroom/data/cosmx.py:129: SettingWithCopyWarning: \n",
      "A value is trying to be set on a copy of a slice from a DataFrame.\n",
      "Try using .loc[row_indexer,col_indexer] = value instead\n",
      "\n",
      "See the caveats in the documentation: https://pandas.pydata.org/pandas-docs/stable/user_guide/indexing.html#returning-a-view-versus-a-copy\n",
      "  transcripts_f['x_local_px'] = transcripts_f['x_local_px'] + c1\n",
      "/diskmnt/Projects/Users/estorrs/mushroom/mushroom/data/cosmx.py:130: SettingWithCopyWarning: \n",
      "A value is trying to be set on a copy of a slice from a DataFrame.\n",
      "Try using .loc[row_indexer,col_indexer] = value instead\n",
      "\n",
      "See the caveats in the documentation: https://pandas.pydata.org/pandas-docs/stable/user_guide/indexing.html#returning-a-view-versus-a-copy\n",
      "  transcripts_f['y_local_px'] = np.abs(transcripts_f['y_local_px'] - tile_size[-2]) + r1\n"
     ]
    },
    {
     "name": "stdout",
     "output_type": "stream",
     "text": [
      "reading fov 78\n"
     ]
    },
    {
     "name": "stderr",
     "output_type": "stream",
     "text": [
      "/diskmnt/Projects/Users/estorrs/mushroom/mushroom/data/cosmx.py:129: SettingWithCopyWarning: \n",
      "A value is trying to be set on a copy of a slice from a DataFrame.\n",
      "Try using .loc[row_indexer,col_indexer] = value instead\n",
      "\n",
      "See the caveats in the documentation: https://pandas.pydata.org/pandas-docs/stable/user_guide/indexing.html#returning-a-view-versus-a-copy\n",
      "  transcripts_f['x_local_px'] = transcripts_f['x_local_px'] + c1\n",
      "/diskmnt/Projects/Users/estorrs/mushroom/mushroom/data/cosmx.py:130: SettingWithCopyWarning: \n",
      "A value is trying to be set on a copy of a slice from a DataFrame.\n",
      "Try using .loc[row_indexer,col_indexer] = value instead\n",
      "\n",
      "See the caveats in the documentation: https://pandas.pydata.org/pandas-docs/stable/user_guide/indexing.html#returning-a-view-versus-a-copy\n",
      "  transcripts_f['y_local_px'] = np.abs(transcripts_f['y_local_px'] - tile_size[-2]) + r1\n"
     ]
    },
    {
     "name": "stdout",
     "output_type": "stream",
     "text": [
      "reading fov 79\n"
     ]
    },
    {
     "name": "stderr",
     "output_type": "stream",
     "text": [
      "/diskmnt/Projects/Users/estorrs/mushroom/mushroom/data/cosmx.py:129: SettingWithCopyWarning: \n",
      "A value is trying to be set on a copy of a slice from a DataFrame.\n",
      "Try using .loc[row_indexer,col_indexer] = value instead\n",
      "\n",
      "See the caveats in the documentation: https://pandas.pydata.org/pandas-docs/stable/user_guide/indexing.html#returning-a-view-versus-a-copy\n",
      "  transcripts_f['x_local_px'] = transcripts_f['x_local_px'] + c1\n",
      "/diskmnt/Projects/Users/estorrs/mushroom/mushroom/data/cosmx.py:130: SettingWithCopyWarning: \n",
      "A value is trying to be set on a copy of a slice from a DataFrame.\n",
      "Try using .loc[row_indexer,col_indexer] = value instead\n",
      "\n",
      "See the caveats in the documentation: https://pandas.pydata.org/pandas-docs/stable/user_guide/indexing.html#returning-a-view-versus-a-copy\n",
      "  transcripts_f['y_local_px'] = np.abs(transcripts_f['y_local_px'] - tile_size[-2]) + r1\n"
     ]
    },
    {
     "name": "stdout",
     "output_type": "stream",
     "text": [
      "reading fov 80\n"
     ]
    },
    {
     "name": "stderr",
     "output_type": "stream",
     "text": [
      "/diskmnt/Projects/Users/estorrs/mushroom/mushroom/data/cosmx.py:129: SettingWithCopyWarning: \n",
      "A value is trying to be set on a copy of a slice from a DataFrame.\n",
      "Try using .loc[row_indexer,col_indexer] = value instead\n",
      "\n",
      "See the caveats in the documentation: https://pandas.pydata.org/pandas-docs/stable/user_guide/indexing.html#returning-a-view-versus-a-copy\n",
      "  transcripts_f['x_local_px'] = transcripts_f['x_local_px'] + c1\n",
      "/diskmnt/Projects/Users/estorrs/mushroom/mushroom/data/cosmx.py:130: SettingWithCopyWarning: \n",
      "A value is trying to be set on a copy of a slice from a DataFrame.\n",
      "Try using .loc[row_indexer,col_indexer] = value instead\n",
      "\n",
      "See the caveats in the documentation: https://pandas.pydata.org/pandas-docs/stable/user_guide/indexing.html#returning-a-view-versus-a-copy\n",
      "  transcripts_f['y_local_px'] = np.abs(transcripts_f['y_local_px'] - tile_size[-2]) + r1\n"
     ]
    },
    {
     "name": "stdout",
     "output_type": "stream",
     "text": [
      "reading fov 81\n"
     ]
    },
    {
     "name": "stderr",
     "output_type": "stream",
     "text": [
      "/diskmnt/Projects/Users/estorrs/mushroom/mushroom/data/cosmx.py:129: SettingWithCopyWarning: \n",
      "A value is trying to be set on a copy of a slice from a DataFrame.\n",
      "Try using .loc[row_indexer,col_indexer] = value instead\n",
      "\n",
      "See the caveats in the documentation: https://pandas.pydata.org/pandas-docs/stable/user_guide/indexing.html#returning-a-view-versus-a-copy\n",
      "  transcripts_f['x_local_px'] = transcripts_f['x_local_px'] + c1\n",
      "/diskmnt/Projects/Users/estorrs/mushroom/mushroom/data/cosmx.py:130: SettingWithCopyWarning: \n",
      "A value is trying to be set on a copy of a slice from a DataFrame.\n",
      "Try using .loc[row_indexer,col_indexer] = value instead\n",
      "\n",
      "See the caveats in the documentation: https://pandas.pydata.org/pandas-docs/stable/user_guide/indexing.html#returning-a-view-versus-a-copy\n",
      "  transcripts_f['y_local_px'] = np.abs(transcripts_f['y_local_px'] - tile_size[-2]) + r1\n"
     ]
    },
    {
     "name": "stdout",
     "output_type": "stream",
     "text": [
      "reading fov 82\n"
     ]
    },
    {
     "name": "stderr",
     "output_type": "stream",
     "text": [
      "/diskmnt/Projects/Users/estorrs/mushroom/mushroom/data/cosmx.py:129: SettingWithCopyWarning: \n",
      "A value is trying to be set on a copy of a slice from a DataFrame.\n",
      "Try using .loc[row_indexer,col_indexer] = value instead\n",
      "\n",
      "See the caveats in the documentation: https://pandas.pydata.org/pandas-docs/stable/user_guide/indexing.html#returning-a-view-versus-a-copy\n",
      "  transcripts_f['x_local_px'] = transcripts_f['x_local_px'] + c1\n",
      "/diskmnt/Projects/Users/estorrs/mushroom/mushroom/data/cosmx.py:130: SettingWithCopyWarning: \n",
      "A value is trying to be set on a copy of a slice from a DataFrame.\n",
      "Try using .loc[row_indexer,col_indexer] = value instead\n",
      "\n",
      "See the caveats in the documentation: https://pandas.pydata.org/pandas-docs/stable/user_guide/indexing.html#returning-a-view-versus-a-copy\n",
      "  transcripts_f['y_local_px'] = np.abs(transcripts_f['y_local_px'] - tile_size[-2]) + r1\n"
     ]
    },
    {
     "name": "stdout",
     "output_type": "stream",
     "text": [
      "reading fov 83\n"
     ]
    },
    {
     "name": "stderr",
     "output_type": "stream",
     "text": [
      "/diskmnt/Projects/Users/estorrs/mushroom/mushroom/data/cosmx.py:129: SettingWithCopyWarning: \n",
      "A value is trying to be set on a copy of a slice from a DataFrame.\n",
      "Try using .loc[row_indexer,col_indexer] = value instead\n",
      "\n",
      "See the caveats in the documentation: https://pandas.pydata.org/pandas-docs/stable/user_guide/indexing.html#returning-a-view-versus-a-copy\n",
      "  transcripts_f['x_local_px'] = transcripts_f['x_local_px'] + c1\n",
      "/diskmnt/Projects/Users/estorrs/mushroom/mushroom/data/cosmx.py:130: SettingWithCopyWarning: \n",
      "A value is trying to be set on a copy of a slice from a DataFrame.\n",
      "Try using .loc[row_indexer,col_indexer] = value instead\n",
      "\n",
      "See the caveats in the documentation: https://pandas.pydata.org/pandas-docs/stable/user_guide/indexing.html#returning-a-view-versus-a-copy\n",
      "  transcripts_f['y_local_px'] = np.abs(transcripts_f['y_local_px'] - tile_size[-2]) + r1\n"
     ]
    },
    {
     "name": "stdout",
     "output_type": "stream",
     "text": [
      "reading fov 84\n"
     ]
    },
    {
     "name": "stderr",
     "output_type": "stream",
     "text": [
      "/diskmnt/Projects/Users/estorrs/mushroom/mushroom/data/cosmx.py:129: SettingWithCopyWarning: \n",
      "A value is trying to be set on a copy of a slice from a DataFrame.\n",
      "Try using .loc[row_indexer,col_indexer] = value instead\n",
      "\n",
      "See the caveats in the documentation: https://pandas.pydata.org/pandas-docs/stable/user_guide/indexing.html#returning-a-view-versus-a-copy\n",
      "  transcripts_f['x_local_px'] = transcripts_f['x_local_px'] + c1\n",
      "/diskmnt/Projects/Users/estorrs/mushroom/mushroom/data/cosmx.py:130: SettingWithCopyWarning: \n",
      "A value is trying to be set on a copy of a slice from a DataFrame.\n",
      "Try using .loc[row_indexer,col_indexer] = value instead\n",
      "\n",
      "See the caveats in the documentation: https://pandas.pydata.org/pandas-docs/stable/user_guide/indexing.html#returning-a-view-versus-a-copy\n",
      "  transcripts_f['y_local_px'] = np.abs(transcripts_f['y_local_px'] - tile_size[-2]) + r1\n"
     ]
    },
    {
     "name": "stdout",
     "output_type": "stream",
     "text": [
      "reading fov 85\n"
     ]
    },
    {
     "name": "stderr",
     "output_type": "stream",
     "text": [
      "/diskmnt/Projects/Users/estorrs/mushroom/mushroom/data/cosmx.py:129: SettingWithCopyWarning: \n",
      "A value is trying to be set on a copy of a slice from a DataFrame.\n",
      "Try using .loc[row_indexer,col_indexer] = value instead\n",
      "\n",
      "See the caveats in the documentation: https://pandas.pydata.org/pandas-docs/stable/user_guide/indexing.html#returning-a-view-versus-a-copy\n",
      "  transcripts_f['x_local_px'] = transcripts_f['x_local_px'] + c1\n",
      "/diskmnt/Projects/Users/estorrs/mushroom/mushroom/data/cosmx.py:130: SettingWithCopyWarning: \n",
      "A value is trying to be set on a copy of a slice from a DataFrame.\n",
      "Try using .loc[row_indexer,col_indexer] = value instead\n",
      "\n",
      "See the caveats in the documentation: https://pandas.pydata.org/pandas-docs/stable/user_guide/indexing.html#returning-a-view-versus-a-copy\n",
      "  transcripts_f['y_local_px'] = np.abs(transcripts_f['y_local_px'] - tile_size[-2]) + r1\n"
     ]
    },
    {
     "name": "stdout",
     "output_type": "stream",
     "text": [
      "reading fov 86\n"
     ]
    },
    {
     "name": "stderr",
     "output_type": "stream",
     "text": [
      "/diskmnt/Projects/Users/estorrs/mushroom/mushroom/data/cosmx.py:129: SettingWithCopyWarning: \n",
      "A value is trying to be set on a copy of a slice from a DataFrame.\n",
      "Try using .loc[row_indexer,col_indexer] = value instead\n",
      "\n",
      "See the caveats in the documentation: https://pandas.pydata.org/pandas-docs/stable/user_guide/indexing.html#returning-a-view-versus-a-copy\n",
      "  transcripts_f['x_local_px'] = transcripts_f['x_local_px'] + c1\n",
      "/diskmnt/Projects/Users/estorrs/mushroom/mushroom/data/cosmx.py:130: SettingWithCopyWarning: \n",
      "A value is trying to be set on a copy of a slice from a DataFrame.\n",
      "Try using .loc[row_indexer,col_indexer] = value instead\n",
      "\n",
      "See the caveats in the documentation: https://pandas.pydata.org/pandas-docs/stable/user_guide/indexing.html#returning-a-view-versus-a-copy\n",
      "  transcripts_f['y_local_px'] = np.abs(transcripts_f['y_local_px'] - tile_size[-2]) + r1\n"
     ]
    },
    {
     "name": "stdout",
     "output_type": "stream",
     "text": [
      "reading fov 87\n"
     ]
    },
    {
     "name": "stderr",
     "output_type": "stream",
     "text": [
      "/diskmnt/Projects/Users/estorrs/mushroom/mushroom/data/cosmx.py:129: SettingWithCopyWarning: \n",
      "A value is trying to be set on a copy of a slice from a DataFrame.\n",
      "Try using .loc[row_indexer,col_indexer] = value instead\n",
      "\n",
      "See the caveats in the documentation: https://pandas.pydata.org/pandas-docs/stable/user_guide/indexing.html#returning-a-view-versus-a-copy\n",
      "  transcripts_f['x_local_px'] = transcripts_f['x_local_px'] + c1\n",
      "/diskmnt/Projects/Users/estorrs/mushroom/mushroom/data/cosmx.py:130: SettingWithCopyWarning: \n",
      "A value is trying to be set on a copy of a slice from a DataFrame.\n",
      "Try using .loc[row_indexer,col_indexer] = value instead\n",
      "\n",
      "See the caveats in the documentation: https://pandas.pydata.org/pandas-docs/stable/user_guide/indexing.html#returning-a-view-versus-a-copy\n",
      "  transcripts_f['y_local_px'] = np.abs(transcripts_f['y_local_px'] - tile_size[-2]) + r1\n"
     ]
    },
    {
     "name": "stdout",
     "output_type": "stream",
     "text": [
      "reading fov 88\n"
     ]
    },
    {
     "name": "stderr",
     "output_type": "stream",
     "text": [
      "/diskmnt/Projects/Users/estorrs/mushroom/mushroom/data/cosmx.py:129: SettingWithCopyWarning: \n",
      "A value is trying to be set on a copy of a slice from a DataFrame.\n",
      "Try using .loc[row_indexer,col_indexer] = value instead\n",
      "\n",
      "See the caveats in the documentation: https://pandas.pydata.org/pandas-docs/stable/user_guide/indexing.html#returning-a-view-versus-a-copy\n",
      "  transcripts_f['x_local_px'] = transcripts_f['x_local_px'] + c1\n",
      "/diskmnt/Projects/Users/estorrs/mushroom/mushroom/data/cosmx.py:130: SettingWithCopyWarning: \n",
      "A value is trying to be set on a copy of a slice from a DataFrame.\n",
      "Try using .loc[row_indexer,col_indexer] = value instead\n",
      "\n",
      "See the caveats in the documentation: https://pandas.pydata.org/pandas-docs/stable/user_guide/indexing.html#returning-a-view-versus-a-copy\n",
      "  transcripts_f['y_local_px'] = np.abs(transcripts_f['y_local_px'] - tile_size[-2]) + r1\n"
     ]
    },
    {
     "name": "stdout",
     "output_type": "stream",
     "text": [
      "reading fov 89\n"
     ]
    },
    {
     "name": "stderr",
     "output_type": "stream",
     "text": [
      "/diskmnt/Projects/Users/estorrs/mushroom/mushroom/data/cosmx.py:129: SettingWithCopyWarning: \n",
      "A value is trying to be set on a copy of a slice from a DataFrame.\n",
      "Try using .loc[row_indexer,col_indexer] = value instead\n",
      "\n",
      "See the caveats in the documentation: https://pandas.pydata.org/pandas-docs/stable/user_guide/indexing.html#returning-a-view-versus-a-copy\n",
      "  transcripts_f['x_local_px'] = transcripts_f['x_local_px'] + c1\n",
      "/diskmnt/Projects/Users/estorrs/mushroom/mushroom/data/cosmx.py:130: SettingWithCopyWarning: \n",
      "A value is trying to be set on a copy of a slice from a DataFrame.\n",
      "Try using .loc[row_indexer,col_indexer] = value instead\n",
      "\n",
      "See the caveats in the documentation: https://pandas.pydata.org/pandas-docs/stable/user_guide/indexing.html#returning-a-view-versus-a-copy\n",
      "  transcripts_f['y_local_px'] = np.abs(transcripts_f['y_local_px'] - tile_size[-2]) + r1\n"
     ]
    },
    {
     "name": "stdout",
     "output_type": "stream",
     "text": [
      "reading fov 90\n"
     ]
    },
    {
     "name": "stderr",
     "output_type": "stream",
     "text": [
      "/diskmnt/Projects/Users/estorrs/mushroom/mushroom/data/cosmx.py:129: SettingWithCopyWarning: \n",
      "A value is trying to be set on a copy of a slice from a DataFrame.\n",
      "Try using .loc[row_indexer,col_indexer] = value instead\n",
      "\n",
      "See the caveats in the documentation: https://pandas.pydata.org/pandas-docs/stable/user_guide/indexing.html#returning-a-view-versus-a-copy\n",
      "  transcripts_f['x_local_px'] = transcripts_f['x_local_px'] + c1\n",
      "/diskmnt/Projects/Users/estorrs/mushroom/mushroom/data/cosmx.py:130: SettingWithCopyWarning: \n",
      "A value is trying to be set on a copy of a slice from a DataFrame.\n",
      "Try using .loc[row_indexer,col_indexer] = value instead\n",
      "\n",
      "See the caveats in the documentation: https://pandas.pydata.org/pandas-docs/stable/user_guide/indexing.html#returning-a-view-versus-a-copy\n",
      "  transcripts_f['y_local_px'] = np.abs(transcripts_f['y_local_px'] - tile_size[-2]) + r1\n"
     ]
    },
    {
     "name": "stdout",
     "output_type": "stream",
     "text": [
      "reading fov 91\n"
     ]
    },
    {
     "name": "stderr",
     "output_type": "stream",
     "text": [
      "/diskmnt/Projects/Users/estorrs/mushroom/mushroom/data/cosmx.py:129: SettingWithCopyWarning: \n",
      "A value is trying to be set on a copy of a slice from a DataFrame.\n",
      "Try using .loc[row_indexer,col_indexer] = value instead\n",
      "\n",
      "See the caveats in the documentation: https://pandas.pydata.org/pandas-docs/stable/user_guide/indexing.html#returning-a-view-versus-a-copy\n",
      "  transcripts_f['x_local_px'] = transcripts_f['x_local_px'] + c1\n",
      "/diskmnt/Projects/Users/estorrs/mushroom/mushroom/data/cosmx.py:130: SettingWithCopyWarning: \n",
      "A value is trying to be set on a copy of a slice from a DataFrame.\n",
      "Try using .loc[row_indexer,col_indexer] = value instead\n",
      "\n",
      "See the caveats in the documentation: https://pandas.pydata.org/pandas-docs/stable/user_guide/indexing.html#returning-a-view-versus-a-copy\n",
      "  transcripts_f['y_local_px'] = np.abs(transcripts_f['y_local_px'] - tile_size[-2]) + r1\n"
     ]
    },
    {
     "name": "stdout",
     "output_type": "stream",
     "text": [
      "reading fov 92\n"
     ]
    },
    {
     "name": "stderr",
     "output_type": "stream",
     "text": [
      "/diskmnt/Projects/Users/estorrs/mushroom/mushroom/data/cosmx.py:129: SettingWithCopyWarning: \n",
      "A value is trying to be set on a copy of a slice from a DataFrame.\n",
      "Try using .loc[row_indexer,col_indexer] = value instead\n",
      "\n",
      "See the caveats in the documentation: https://pandas.pydata.org/pandas-docs/stable/user_guide/indexing.html#returning-a-view-versus-a-copy\n",
      "  transcripts_f['x_local_px'] = transcripts_f['x_local_px'] + c1\n",
      "/diskmnt/Projects/Users/estorrs/mushroom/mushroom/data/cosmx.py:130: SettingWithCopyWarning: \n",
      "A value is trying to be set on a copy of a slice from a DataFrame.\n",
      "Try using .loc[row_indexer,col_indexer] = value instead\n",
      "\n",
      "See the caveats in the documentation: https://pandas.pydata.org/pandas-docs/stable/user_guide/indexing.html#returning-a-view-versus-a-copy\n",
      "  transcripts_f['y_local_px'] = np.abs(transcripts_f['y_local_px'] - tile_size[-2]) + r1\n"
     ]
    },
    {
     "name": "stdout",
     "output_type": "stream",
     "text": [
      "reading fov 93\n"
     ]
    },
    {
     "name": "stderr",
     "output_type": "stream",
     "text": [
      "/diskmnt/Projects/Users/estorrs/mushroom/mushroom/data/cosmx.py:129: SettingWithCopyWarning: \n",
      "A value is trying to be set on a copy of a slice from a DataFrame.\n",
      "Try using .loc[row_indexer,col_indexer] = value instead\n",
      "\n",
      "See the caveats in the documentation: https://pandas.pydata.org/pandas-docs/stable/user_guide/indexing.html#returning-a-view-versus-a-copy\n",
      "  transcripts_f['x_local_px'] = transcripts_f['x_local_px'] + c1\n",
      "/diskmnt/Projects/Users/estorrs/mushroom/mushroom/data/cosmx.py:130: SettingWithCopyWarning: \n",
      "A value is trying to be set on a copy of a slice from a DataFrame.\n",
      "Try using .loc[row_indexer,col_indexer] = value instead\n",
      "\n",
      "See the caveats in the documentation: https://pandas.pydata.org/pandas-docs/stable/user_guide/indexing.html#returning-a-view-versus-a-copy\n",
      "  transcripts_f['y_local_px'] = np.abs(transcripts_f['y_local_px'] - tile_size[-2]) + r1\n"
     ]
    },
    {
     "name": "stdout",
     "output_type": "stream",
     "text": [
      "reading fov 94\n"
     ]
    },
    {
     "name": "stderr",
     "output_type": "stream",
     "text": [
      "/diskmnt/Projects/Users/estorrs/mushroom/mushroom/data/cosmx.py:129: SettingWithCopyWarning: \n",
      "A value is trying to be set on a copy of a slice from a DataFrame.\n",
      "Try using .loc[row_indexer,col_indexer] = value instead\n",
      "\n",
      "See the caveats in the documentation: https://pandas.pydata.org/pandas-docs/stable/user_guide/indexing.html#returning-a-view-versus-a-copy\n",
      "  transcripts_f['x_local_px'] = transcripts_f['x_local_px'] + c1\n",
      "/diskmnt/Projects/Users/estorrs/mushroom/mushroom/data/cosmx.py:130: SettingWithCopyWarning: \n",
      "A value is trying to be set on a copy of a slice from a DataFrame.\n",
      "Try using .loc[row_indexer,col_indexer] = value instead\n",
      "\n",
      "See the caveats in the documentation: https://pandas.pydata.org/pandas-docs/stable/user_guide/indexing.html#returning-a-view-versus-a-copy\n",
      "  transcripts_f['y_local_px'] = np.abs(transcripts_f['y_local_px'] - tile_size[-2]) + r1\n"
     ]
    },
    {
     "name": "stdout",
     "output_type": "stream",
     "text": [
      "reading fov 95\n"
     ]
    },
    {
     "name": "stderr",
     "output_type": "stream",
     "text": [
      "/diskmnt/Projects/Users/estorrs/mushroom/mushroom/data/cosmx.py:129: SettingWithCopyWarning: \n",
      "A value is trying to be set on a copy of a slice from a DataFrame.\n",
      "Try using .loc[row_indexer,col_indexer] = value instead\n",
      "\n",
      "See the caveats in the documentation: https://pandas.pydata.org/pandas-docs/stable/user_guide/indexing.html#returning-a-view-versus-a-copy\n",
      "  transcripts_f['x_local_px'] = transcripts_f['x_local_px'] + c1\n",
      "/diskmnt/Projects/Users/estorrs/mushroom/mushroom/data/cosmx.py:130: SettingWithCopyWarning: \n",
      "A value is trying to be set on a copy of a slice from a DataFrame.\n",
      "Try using .loc[row_indexer,col_indexer] = value instead\n",
      "\n",
      "See the caveats in the documentation: https://pandas.pydata.org/pandas-docs/stable/user_guide/indexing.html#returning-a-view-versus-a-copy\n",
      "  transcripts_f['y_local_px'] = np.abs(transcripts_f['y_local_px'] - tile_size[-2]) + r1\n"
     ]
    },
    {
     "name": "stdout",
     "output_type": "stream",
     "text": [
      "reading fov 96\n"
     ]
    },
    {
     "name": "stderr",
     "output_type": "stream",
     "text": [
      "/diskmnt/Projects/Users/estorrs/mushroom/mushroom/data/cosmx.py:129: SettingWithCopyWarning: \n",
      "A value is trying to be set on a copy of a slice from a DataFrame.\n",
      "Try using .loc[row_indexer,col_indexer] = value instead\n",
      "\n",
      "See the caveats in the documentation: https://pandas.pydata.org/pandas-docs/stable/user_guide/indexing.html#returning-a-view-versus-a-copy\n",
      "  transcripts_f['x_local_px'] = transcripts_f['x_local_px'] + c1\n",
      "/diskmnt/Projects/Users/estorrs/mushroom/mushroom/data/cosmx.py:130: SettingWithCopyWarning: \n",
      "A value is trying to be set on a copy of a slice from a DataFrame.\n",
      "Try using .loc[row_indexer,col_indexer] = value instead\n",
      "\n",
      "See the caveats in the documentation: https://pandas.pydata.org/pandas-docs/stable/user_guide/indexing.html#returning-a-view-versus-a-copy\n",
      "  transcripts_f['y_local_px'] = np.abs(transcripts_f['y_local_px'] - tile_size[-2]) + r1\n"
     ]
    },
    {
     "name": "stdout",
     "output_type": "stream",
     "text": [
      "reading fov 97\n"
     ]
    },
    {
     "name": "stderr",
     "output_type": "stream",
     "text": [
      "/diskmnt/Projects/Users/estorrs/mushroom/mushroom/data/cosmx.py:129: SettingWithCopyWarning: \n",
      "A value is trying to be set on a copy of a slice from a DataFrame.\n",
      "Try using .loc[row_indexer,col_indexer] = value instead\n",
      "\n",
      "See the caveats in the documentation: https://pandas.pydata.org/pandas-docs/stable/user_guide/indexing.html#returning-a-view-versus-a-copy\n",
      "  transcripts_f['x_local_px'] = transcripts_f['x_local_px'] + c1\n",
      "/diskmnt/Projects/Users/estorrs/mushroom/mushroom/data/cosmx.py:130: SettingWithCopyWarning: \n",
      "A value is trying to be set on a copy of a slice from a DataFrame.\n",
      "Try using .loc[row_indexer,col_indexer] = value instead\n",
      "\n",
      "See the caveats in the documentation: https://pandas.pydata.org/pandas-docs/stable/user_guide/indexing.html#returning-a-view-versus-a-copy\n",
      "  transcripts_f['y_local_px'] = np.abs(transcripts_f['y_local_px'] - tile_size[-2]) + r1\n"
     ]
    },
    {
     "name": "stdout",
     "output_type": "stream",
     "text": [
      "reading fov 98\n"
     ]
    },
    {
     "name": "stderr",
     "output_type": "stream",
     "text": [
      "/diskmnt/Projects/Users/estorrs/mushroom/mushroom/data/cosmx.py:129: SettingWithCopyWarning: \n",
      "A value is trying to be set on a copy of a slice from a DataFrame.\n",
      "Try using .loc[row_indexer,col_indexer] = value instead\n",
      "\n",
      "See the caveats in the documentation: https://pandas.pydata.org/pandas-docs/stable/user_guide/indexing.html#returning-a-view-versus-a-copy\n",
      "  transcripts_f['x_local_px'] = transcripts_f['x_local_px'] + c1\n",
      "/diskmnt/Projects/Users/estorrs/mushroom/mushroom/data/cosmx.py:130: SettingWithCopyWarning: \n",
      "A value is trying to be set on a copy of a slice from a DataFrame.\n",
      "Try using .loc[row_indexer,col_indexer] = value instead\n",
      "\n",
      "See the caveats in the documentation: https://pandas.pydata.org/pandas-docs/stable/user_guide/indexing.html#returning-a-view-versus-a-copy\n",
      "  transcripts_f['y_local_px'] = np.abs(transcripts_f['y_local_px'] - tile_size[-2]) + r1\n"
     ]
    },
    {
     "name": "stdout",
     "output_type": "stream",
     "text": [
      "reading fov 99\n"
     ]
    },
    {
     "name": "stderr",
     "output_type": "stream",
     "text": [
      "/diskmnt/Projects/Users/estorrs/mushroom/mushroom/data/cosmx.py:129: SettingWithCopyWarning: \n",
      "A value is trying to be set on a copy of a slice from a DataFrame.\n",
      "Try using .loc[row_indexer,col_indexer] = value instead\n",
      "\n",
      "See the caveats in the documentation: https://pandas.pydata.org/pandas-docs/stable/user_guide/indexing.html#returning-a-view-versus-a-copy\n",
      "  transcripts_f['x_local_px'] = transcripts_f['x_local_px'] + c1\n",
      "/diskmnt/Projects/Users/estorrs/mushroom/mushroom/data/cosmx.py:130: SettingWithCopyWarning: \n",
      "A value is trying to be set on a copy of a slice from a DataFrame.\n",
      "Try using .loc[row_indexer,col_indexer] = value instead\n",
      "\n",
      "See the caveats in the documentation: https://pandas.pydata.org/pandas-docs/stable/user_guide/indexing.html#returning-a-view-versus-a-copy\n",
      "  transcripts_f['y_local_px'] = np.abs(transcripts_f['y_local_px'] - tile_size[-2]) + r1\n"
     ]
    },
    {
     "name": "stdout",
     "output_type": "stream",
     "text": [
      "reading fov 100\n"
     ]
    },
    {
     "name": "stderr",
     "output_type": "stream",
     "text": [
      "/diskmnt/Projects/Users/estorrs/mushroom/mushroom/data/cosmx.py:129: SettingWithCopyWarning: \n",
      "A value is trying to be set on a copy of a slice from a DataFrame.\n",
      "Try using .loc[row_indexer,col_indexer] = value instead\n",
      "\n",
      "See the caveats in the documentation: https://pandas.pydata.org/pandas-docs/stable/user_guide/indexing.html#returning-a-view-versus-a-copy\n",
      "  transcripts_f['x_local_px'] = transcripts_f['x_local_px'] + c1\n",
      "/diskmnt/Projects/Users/estorrs/mushroom/mushroom/data/cosmx.py:130: SettingWithCopyWarning: \n",
      "A value is trying to be set on a copy of a slice from a DataFrame.\n",
      "Try using .loc[row_indexer,col_indexer] = value instead\n",
      "\n",
      "See the caveats in the documentation: https://pandas.pydata.org/pandas-docs/stable/user_guide/indexing.html#returning-a-view-versus-a-copy\n",
      "  transcripts_f['y_local_px'] = np.abs(transcripts_f['y_local_px'] - tile_size[-2]) + r1\n"
     ]
    },
    {
     "name": "stdout",
     "output_type": "stream",
     "text": [
      "reading fov 101\n"
     ]
    },
    {
     "name": "stderr",
     "output_type": "stream",
     "text": [
      "/diskmnt/Projects/Users/estorrs/mushroom/mushroom/data/cosmx.py:129: SettingWithCopyWarning: \n",
      "A value is trying to be set on a copy of a slice from a DataFrame.\n",
      "Try using .loc[row_indexer,col_indexer] = value instead\n",
      "\n",
      "See the caveats in the documentation: https://pandas.pydata.org/pandas-docs/stable/user_guide/indexing.html#returning-a-view-versus-a-copy\n",
      "  transcripts_f['x_local_px'] = transcripts_f['x_local_px'] + c1\n",
      "/diskmnt/Projects/Users/estorrs/mushroom/mushroom/data/cosmx.py:130: SettingWithCopyWarning: \n",
      "A value is trying to be set on a copy of a slice from a DataFrame.\n",
      "Try using .loc[row_indexer,col_indexer] = value instead\n",
      "\n",
      "See the caveats in the documentation: https://pandas.pydata.org/pandas-docs/stable/user_guide/indexing.html#returning-a-view-versus-a-copy\n",
      "  transcripts_f['y_local_px'] = np.abs(transcripts_f['y_local_px'] - tile_size[-2]) + r1\n"
     ]
    },
    {
     "name": "stdout",
     "output_type": "stream",
     "text": [
      "reading fov 102\n"
     ]
    },
    {
     "name": "stderr",
     "output_type": "stream",
     "text": [
      "/diskmnt/Projects/Users/estorrs/mushroom/mushroom/data/cosmx.py:129: SettingWithCopyWarning: \n",
      "A value is trying to be set on a copy of a slice from a DataFrame.\n",
      "Try using .loc[row_indexer,col_indexer] = value instead\n",
      "\n",
      "See the caveats in the documentation: https://pandas.pydata.org/pandas-docs/stable/user_guide/indexing.html#returning-a-view-versus-a-copy\n",
      "  transcripts_f['x_local_px'] = transcripts_f['x_local_px'] + c1\n",
      "/diskmnt/Projects/Users/estorrs/mushroom/mushroom/data/cosmx.py:130: SettingWithCopyWarning: \n",
      "A value is trying to be set on a copy of a slice from a DataFrame.\n",
      "Try using .loc[row_indexer,col_indexer] = value instead\n",
      "\n",
      "See the caveats in the documentation: https://pandas.pydata.org/pandas-docs/stable/user_guide/indexing.html#returning-a-view-versus-a-copy\n",
      "  transcripts_f['y_local_px'] = np.abs(transcripts_f['y_local_px'] - tile_size[-2]) + r1\n"
     ]
    },
    {
     "name": "stdout",
     "output_type": "stream",
     "text": [
      "reading fov 103\n"
     ]
    },
    {
     "name": "stderr",
     "output_type": "stream",
     "text": [
      "/diskmnt/Projects/Users/estorrs/mushroom/mushroom/data/cosmx.py:129: SettingWithCopyWarning: \n",
      "A value is trying to be set on a copy of a slice from a DataFrame.\n",
      "Try using .loc[row_indexer,col_indexer] = value instead\n",
      "\n",
      "See the caveats in the documentation: https://pandas.pydata.org/pandas-docs/stable/user_guide/indexing.html#returning-a-view-versus-a-copy\n",
      "  transcripts_f['x_local_px'] = transcripts_f['x_local_px'] + c1\n",
      "/diskmnt/Projects/Users/estorrs/mushroom/mushroom/data/cosmx.py:130: SettingWithCopyWarning: \n",
      "A value is trying to be set on a copy of a slice from a DataFrame.\n",
      "Try using .loc[row_indexer,col_indexer] = value instead\n",
      "\n",
      "See the caveats in the documentation: https://pandas.pydata.org/pandas-docs/stable/user_guide/indexing.html#returning-a-view-versus-a-copy\n",
      "  transcripts_f['y_local_px'] = np.abs(transcripts_f['y_local_px'] - tile_size[-2]) + r1\n"
     ]
    },
    {
     "name": "stdout",
     "output_type": "stream",
     "text": [
      "reading fov 104\n"
     ]
    },
    {
     "name": "stderr",
     "output_type": "stream",
     "text": [
      "/diskmnt/Projects/Users/estorrs/mushroom/mushroom/data/cosmx.py:129: SettingWithCopyWarning: \n",
      "A value is trying to be set on a copy of a slice from a DataFrame.\n",
      "Try using .loc[row_indexer,col_indexer] = value instead\n",
      "\n",
      "See the caveats in the documentation: https://pandas.pydata.org/pandas-docs/stable/user_guide/indexing.html#returning-a-view-versus-a-copy\n",
      "  transcripts_f['x_local_px'] = transcripts_f['x_local_px'] + c1\n",
      "/diskmnt/Projects/Users/estorrs/mushroom/mushroom/data/cosmx.py:130: SettingWithCopyWarning: \n",
      "A value is trying to be set on a copy of a slice from a DataFrame.\n",
      "Try using .loc[row_indexer,col_indexer] = value instead\n",
      "\n",
      "See the caveats in the documentation: https://pandas.pydata.org/pandas-docs/stable/user_guide/indexing.html#returning-a-view-versus-a-copy\n",
      "  transcripts_f['y_local_px'] = np.abs(transcripts_f['y_local_px'] - tile_size[-2]) + r1\n"
     ]
    },
    {
     "name": "stdout",
     "output_type": "stream",
     "text": [
      "reading fov 105\n"
     ]
    },
    {
     "name": "stderr",
     "output_type": "stream",
     "text": [
      "/diskmnt/Projects/Users/estorrs/mushroom/mushroom/data/cosmx.py:129: SettingWithCopyWarning: \n",
      "A value is trying to be set on a copy of a slice from a DataFrame.\n",
      "Try using .loc[row_indexer,col_indexer] = value instead\n",
      "\n",
      "See the caveats in the documentation: https://pandas.pydata.org/pandas-docs/stable/user_guide/indexing.html#returning-a-view-versus-a-copy\n",
      "  transcripts_f['x_local_px'] = transcripts_f['x_local_px'] + c1\n",
      "/diskmnt/Projects/Users/estorrs/mushroom/mushroom/data/cosmx.py:130: SettingWithCopyWarning: \n",
      "A value is trying to be set on a copy of a slice from a DataFrame.\n",
      "Try using .loc[row_indexer,col_indexer] = value instead\n",
      "\n",
      "See the caveats in the documentation: https://pandas.pydata.org/pandas-docs/stable/user_guide/indexing.html#returning-a-view-versus-a-copy\n",
      "  transcripts_f['y_local_px'] = np.abs(transcripts_f['y_local_px'] - tile_size[-2]) + r1\n"
     ]
    },
    {
     "name": "stdout",
     "output_type": "stream",
     "text": [
      "reading fov 106\n"
     ]
    },
    {
     "name": "stderr",
     "output_type": "stream",
     "text": [
      "/diskmnt/Projects/Users/estorrs/mushroom/mushroom/data/cosmx.py:129: SettingWithCopyWarning: \n",
      "A value is trying to be set on a copy of a slice from a DataFrame.\n",
      "Try using .loc[row_indexer,col_indexer] = value instead\n",
      "\n",
      "See the caveats in the documentation: https://pandas.pydata.org/pandas-docs/stable/user_guide/indexing.html#returning-a-view-versus-a-copy\n",
      "  transcripts_f['x_local_px'] = transcripts_f['x_local_px'] + c1\n",
      "/diskmnt/Projects/Users/estorrs/mushroom/mushroom/data/cosmx.py:130: SettingWithCopyWarning: \n",
      "A value is trying to be set on a copy of a slice from a DataFrame.\n",
      "Try using .loc[row_indexer,col_indexer] = value instead\n",
      "\n",
      "See the caveats in the documentation: https://pandas.pydata.org/pandas-docs/stable/user_guide/indexing.html#returning-a-view-versus-a-copy\n",
      "  transcripts_f['y_local_px'] = np.abs(transcripts_f['y_local_px'] - tile_size[-2]) + r1\n"
     ]
    },
    {
     "name": "stdout",
     "output_type": "stream",
     "text": [
      "reading fov 107\n"
     ]
    },
    {
     "name": "stderr",
     "output_type": "stream",
     "text": [
      "/diskmnt/Projects/Users/estorrs/mushroom/mushroom/data/cosmx.py:129: SettingWithCopyWarning: \n",
      "A value is trying to be set on a copy of a slice from a DataFrame.\n",
      "Try using .loc[row_indexer,col_indexer] = value instead\n",
      "\n",
      "See the caveats in the documentation: https://pandas.pydata.org/pandas-docs/stable/user_guide/indexing.html#returning-a-view-versus-a-copy\n",
      "  transcripts_f['x_local_px'] = transcripts_f['x_local_px'] + c1\n",
      "/diskmnt/Projects/Users/estorrs/mushroom/mushroom/data/cosmx.py:130: SettingWithCopyWarning: \n",
      "A value is trying to be set on a copy of a slice from a DataFrame.\n",
      "Try using .loc[row_indexer,col_indexer] = value instead\n",
      "\n",
      "See the caveats in the documentation: https://pandas.pydata.org/pandas-docs/stable/user_guide/indexing.html#returning-a-view-versus-a-copy\n",
      "  transcripts_f['y_local_px'] = np.abs(transcripts_f['y_local_px'] - tile_size[-2]) + r1\n"
     ]
    },
    {
     "name": "stdout",
     "output_type": "stream",
     "text": [
      "reading fov 108\n"
     ]
    },
    {
     "name": "stderr",
     "output_type": "stream",
     "text": [
      "/diskmnt/Projects/Users/estorrs/mushroom/mushroom/data/cosmx.py:129: SettingWithCopyWarning: \n",
      "A value is trying to be set on a copy of a slice from a DataFrame.\n",
      "Try using .loc[row_indexer,col_indexer] = value instead\n",
      "\n",
      "See the caveats in the documentation: https://pandas.pydata.org/pandas-docs/stable/user_guide/indexing.html#returning-a-view-versus-a-copy\n",
      "  transcripts_f['x_local_px'] = transcripts_f['x_local_px'] + c1\n",
      "/diskmnt/Projects/Users/estorrs/mushroom/mushroom/data/cosmx.py:130: SettingWithCopyWarning: \n",
      "A value is trying to be set on a copy of a slice from a DataFrame.\n",
      "Try using .loc[row_indexer,col_indexer] = value instead\n",
      "\n",
      "See the caveats in the documentation: https://pandas.pydata.org/pandas-docs/stable/user_guide/indexing.html#returning-a-view-versus-a-copy\n",
      "  transcripts_f['y_local_px'] = np.abs(transcripts_f['y_local_px'] - tile_size[-2]) + r1\n"
     ]
    },
    {
     "name": "stdout",
     "output_type": "stream",
     "text": [
      "reading fov 109\n"
     ]
    },
    {
     "name": "stderr",
     "output_type": "stream",
     "text": [
      "/diskmnt/Projects/Users/estorrs/mushroom/mushroom/data/cosmx.py:129: SettingWithCopyWarning: \n",
      "A value is trying to be set on a copy of a slice from a DataFrame.\n",
      "Try using .loc[row_indexer,col_indexer] = value instead\n",
      "\n",
      "See the caveats in the documentation: https://pandas.pydata.org/pandas-docs/stable/user_guide/indexing.html#returning-a-view-versus-a-copy\n",
      "  transcripts_f['x_local_px'] = transcripts_f['x_local_px'] + c1\n",
      "/diskmnt/Projects/Users/estorrs/mushroom/mushroom/data/cosmx.py:130: SettingWithCopyWarning: \n",
      "A value is trying to be set on a copy of a slice from a DataFrame.\n",
      "Try using .loc[row_indexer,col_indexer] = value instead\n",
      "\n",
      "See the caveats in the documentation: https://pandas.pydata.org/pandas-docs/stable/user_guide/indexing.html#returning-a-view-versus-a-copy\n",
      "  transcripts_f['y_local_px'] = np.abs(transcripts_f['y_local_px'] - tile_size[-2]) + r1\n"
     ]
    },
    {
     "name": "stdout",
     "output_type": "stream",
     "text": [
      "reading fov 110\n"
     ]
    },
    {
     "name": "stderr",
     "output_type": "stream",
     "text": [
      "/diskmnt/Projects/Users/estorrs/mushroom/mushroom/data/cosmx.py:129: SettingWithCopyWarning: \n",
      "A value is trying to be set on a copy of a slice from a DataFrame.\n",
      "Try using .loc[row_indexer,col_indexer] = value instead\n",
      "\n",
      "See the caveats in the documentation: https://pandas.pydata.org/pandas-docs/stable/user_guide/indexing.html#returning-a-view-versus-a-copy\n",
      "  transcripts_f['x_local_px'] = transcripts_f['x_local_px'] + c1\n",
      "/diskmnt/Projects/Users/estorrs/mushroom/mushroom/data/cosmx.py:130: SettingWithCopyWarning: \n",
      "A value is trying to be set on a copy of a slice from a DataFrame.\n",
      "Try using .loc[row_indexer,col_indexer] = value instead\n",
      "\n",
      "See the caveats in the documentation: https://pandas.pydata.org/pandas-docs/stable/user_guide/indexing.html#returning-a-view-versus-a-copy\n",
      "  transcripts_f['y_local_px'] = np.abs(transcripts_f['y_local_px'] - tile_size[-2]) + r1\n"
     ]
    },
    {
     "name": "stdout",
     "output_type": "stream",
     "text": [
      "reading fov 111\n"
     ]
    },
    {
     "name": "stderr",
     "output_type": "stream",
     "text": [
      "/diskmnt/Projects/Users/estorrs/mushroom/mushroom/data/cosmx.py:129: SettingWithCopyWarning: \n",
      "A value is trying to be set on a copy of a slice from a DataFrame.\n",
      "Try using .loc[row_indexer,col_indexer] = value instead\n",
      "\n",
      "See the caveats in the documentation: https://pandas.pydata.org/pandas-docs/stable/user_guide/indexing.html#returning-a-view-versus-a-copy\n",
      "  transcripts_f['x_local_px'] = transcripts_f['x_local_px'] + c1\n",
      "/diskmnt/Projects/Users/estorrs/mushroom/mushroom/data/cosmx.py:130: SettingWithCopyWarning: \n",
      "A value is trying to be set on a copy of a slice from a DataFrame.\n",
      "Try using .loc[row_indexer,col_indexer] = value instead\n",
      "\n",
      "See the caveats in the documentation: https://pandas.pydata.org/pandas-docs/stable/user_guide/indexing.html#returning-a-view-versus-a-copy\n",
      "  transcripts_f['y_local_px'] = np.abs(transcripts_f['y_local_px'] - tile_size[-2]) + r1\n"
     ]
    },
    {
     "name": "stdout",
     "output_type": "stream",
     "text": [
      "reading fov 112\n"
     ]
    },
    {
     "name": "stderr",
     "output_type": "stream",
     "text": [
      "/diskmnt/Projects/Users/estorrs/mushroom/mushroom/data/cosmx.py:129: SettingWithCopyWarning: \n",
      "A value is trying to be set on a copy of a slice from a DataFrame.\n",
      "Try using .loc[row_indexer,col_indexer] = value instead\n",
      "\n",
      "See the caveats in the documentation: https://pandas.pydata.org/pandas-docs/stable/user_guide/indexing.html#returning-a-view-versus-a-copy\n",
      "  transcripts_f['x_local_px'] = transcripts_f['x_local_px'] + c1\n",
      "/diskmnt/Projects/Users/estorrs/mushroom/mushroom/data/cosmx.py:130: SettingWithCopyWarning: \n",
      "A value is trying to be set on a copy of a slice from a DataFrame.\n",
      "Try using .loc[row_indexer,col_indexer] = value instead\n",
      "\n",
      "See the caveats in the documentation: https://pandas.pydata.org/pandas-docs/stable/user_guide/indexing.html#returning-a-view-versus-a-copy\n",
      "  transcripts_f['y_local_px'] = np.abs(transcripts_f['y_local_px'] - tile_size[-2]) + r1\n"
     ]
    },
    {
     "name": "stdout",
     "output_type": "stream",
     "text": [
      "reading fov 113\n"
     ]
    },
    {
     "name": "stderr",
     "output_type": "stream",
     "text": [
      "/diskmnt/Projects/Users/estorrs/mushroom/mushroom/data/cosmx.py:129: SettingWithCopyWarning: \n",
      "A value is trying to be set on a copy of a slice from a DataFrame.\n",
      "Try using .loc[row_indexer,col_indexer] = value instead\n",
      "\n",
      "See the caveats in the documentation: https://pandas.pydata.org/pandas-docs/stable/user_guide/indexing.html#returning-a-view-versus-a-copy\n",
      "  transcripts_f['x_local_px'] = transcripts_f['x_local_px'] + c1\n",
      "/diskmnt/Projects/Users/estorrs/mushroom/mushroom/data/cosmx.py:130: SettingWithCopyWarning: \n",
      "A value is trying to be set on a copy of a slice from a DataFrame.\n",
      "Try using .loc[row_indexer,col_indexer] = value instead\n",
      "\n",
      "See the caveats in the documentation: https://pandas.pydata.org/pandas-docs/stable/user_guide/indexing.html#returning-a-view-versus-a-copy\n",
      "  transcripts_f['y_local_px'] = np.abs(transcripts_f['y_local_px'] - tile_size[-2]) + r1\n"
     ]
    },
    {
     "name": "stdout",
     "output_type": "stream",
     "text": [
      "reading fov 114\n"
     ]
    },
    {
     "name": "stderr",
     "output_type": "stream",
     "text": [
      "/diskmnt/Projects/Users/estorrs/mushroom/mushroom/data/cosmx.py:129: SettingWithCopyWarning: \n",
      "A value is trying to be set on a copy of a slice from a DataFrame.\n",
      "Try using .loc[row_indexer,col_indexer] = value instead\n",
      "\n",
      "See the caveats in the documentation: https://pandas.pydata.org/pandas-docs/stable/user_guide/indexing.html#returning-a-view-versus-a-copy\n",
      "  transcripts_f['x_local_px'] = transcripts_f['x_local_px'] + c1\n",
      "/diskmnt/Projects/Users/estorrs/mushroom/mushroom/data/cosmx.py:130: SettingWithCopyWarning: \n",
      "A value is trying to be set on a copy of a slice from a DataFrame.\n",
      "Try using .loc[row_indexer,col_indexer] = value instead\n",
      "\n",
      "See the caveats in the documentation: https://pandas.pydata.org/pandas-docs/stable/user_guide/indexing.html#returning-a-view-versus-a-copy\n",
      "  transcripts_f['y_local_px'] = np.abs(transcripts_f['y_local_px'] - tile_size[-2]) + r1\n"
     ]
    },
    {
     "name": "stdout",
     "output_type": "stream",
     "text": [
      "reading fov 115\n"
     ]
    },
    {
     "name": "stderr",
     "output_type": "stream",
     "text": [
      "/diskmnt/Projects/Users/estorrs/mushroom/mushroom/data/cosmx.py:129: SettingWithCopyWarning: \n",
      "A value is trying to be set on a copy of a slice from a DataFrame.\n",
      "Try using .loc[row_indexer,col_indexer] = value instead\n",
      "\n",
      "See the caveats in the documentation: https://pandas.pydata.org/pandas-docs/stable/user_guide/indexing.html#returning-a-view-versus-a-copy\n",
      "  transcripts_f['x_local_px'] = transcripts_f['x_local_px'] + c1\n",
      "/diskmnt/Projects/Users/estorrs/mushroom/mushroom/data/cosmx.py:130: SettingWithCopyWarning: \n",
      "A value is trying to be set on a copy of a slice from a DataFrame.\n",
      "Try using .loc[row_indexer,col_indexer] = value instead\n",
      "\n",
      "See the caveats in the documentation: https://pandas.pydata.org/pandas-docs/stable/user_guide/indexing.html#returning-a-view-versus-a-copy\n",
      "  transcripts_f['y_local_px'] = np.abs(transcripts_f['y_local_px'] - tile_size[-2]) + r1\n"
     ]
    },
    {
     "data": {
      "text/plain": [
       "dict_keys(['sidecar1_HT206B1-U23'])"
      ]
     },
     "execution_count": 17,
     "metadata": {},
     "output_type": "execute_result"
    }
   ],
   "source": [
    "sample_to_adata, sample_to_stitched, channels, sample_to_transcripts = cosmx.adata_from_cosmx(\n",
    "    cosmx_dir, flatfiles_dir=flatfiles_dir, morphology_dir=morphology_dir,\n",
    "    sample_to_bbox=mapping, scaler=.1)\n",
    "sample_to_adata.keys()"
   ]
  },
  {
   "cell_type": "code",
   "execution_count": 36,
   "id": "b60b58af",
   "metadata": {},
   "outputs": [
    {
     "data": {
      "text/plain": [
       "dict_keys(['sidecar1_HT206B1-U15'])"
      ]
     },
     "execution_count": 36,
     "metadata": {},
     "output_type": "execute_result"
    }
   ],
   "source": [
    "samples = mapping.keys()\n",
    "samples"
   ]
  },
  {
   "cell_type": "code",
   "execution_count": 37,
   "id": "304e61eb",
   "metadata": {},
   "outputs": [],
   "source": [
    "# sample_to_adata['sidecar1_HT206B1-U15'] = sample_to_adata['sidecar1_HT206B1-U23']\n",
    "# sample_to_transcripts['sidecar1_HT206B1-U15'] = sample_to_transcripts['sidecar1_HT206B1-U23']\n",
    "# sample_to_stitched['sidecar1_HT206B1-U15'] = sample_to_stitched['sidecar1_HT206B1-U23']\n"
   ]
  },
  {
   "cell_type": "code",
   "execution_count": 38,
   "id": "2baf401b",
   "metadata": {},
   "outputs": [
    {
     "name": "stdout",
     "output_type": "stream",
     "text": [
      "sidecar1_HT206B1-U15\n"
     ]
    },
    {
     "name": "stderr",
     "output_type": "stream",
     "text": [
      "/diskmnt/Projects/Users/estorrs/miniconda3/envs/mushroom/lib/python3.9/site-packages/anndata/_core/anndata.py:1113: FutureWarning: is_categorical_dtype is deprecated and will be removed in a future version. Use isinstance(dtype, CategoricalDtype) instead\n",
      "  if not is_categorical_dtype(df_full[k]):\n",
      "/diskmnt/Projects/Users/estorrs/sandbox/tmp/ipykernel_198736/3489496650.py:25: SettingWithCopyWarning: \n",
      "A value is trying to be set on a copy of a slice from a DataFrame.\n",
      "Try using .loc[row_indexer,col_indexer] = value instead\n",
      "\n",
      "See the caveats in the documentation: https://pandas.pydata.org/pandas-docs/stable/user_guide/indexing.html#returning-a-view-versus-a-copy\n",
      "  transcripts['y_location'] = warped[:, 0]\n",
      "/diskmnt/Projects/Users/estorrs/sandbox/tmp/ipykernel_198736/3489496650.py:26: SettingWithCopyWarning: \n",
      "A value is trying to be set on a copy of a slice from a DataFrame.\n",
      "Try using .loc[row_indexer,col_indexer] = value instead\n",
      "\n",
      "See the caveats in the documentation: https://pandas.pydata.org/pandas-docs/stable/user_guide/indexing.html#returning-a-view-versus-a-copy\n",
      "  transcripts['x_location'] = warped[:, 1]\n",
      "/diskmnt/Projects/Users/estorrs/sandbox/tmp/ipykernel_198736/3489496650.py:27: SettingWithCopyWarning: \n",
      "A value is trying to be set on a copy of a slice from a DataFrame.\n",
      "Try using .loc[row_indexer,col_indexer] = value instead\n",
      "\n",
      "See the caveats in the documentation: https://pandas.pydata.org/pandas-docs/stable/user_guide/indexing.html#returning-a-view-versus-a-copy\n",
      "  transcripts['feature_name'] = transcripts['target']\n"
     ]
    }
   ],
   "source": [
    "for sample in samples:\n",
    "    print(sample)\n",
    "    adata = sample_to_adata[sample]\n",
    "    data = sample_to_stitched[sample]\n",
    "    transcripts = sample_to_transcripts[sample]\n",
    "    ddf = bigwarp.read_bigwarp_warp_field(sample_to_ddf[sample], .2)\n",
    "    \n",
    "    \n",
    "    data_warped = bigwarp.register_multiplex(data, ddf)\n",
    "    output_filepath = project_dir / 'registered' / f'{sample}_cosmx_morphologyfocus.ome.tiff'\n",
    "    multiplex.write_basic_ome_tiff(\n",
    "        output_filepath,\n",
    "        data_warped, channels, microns_per_pixel=1.\n",
    "    )\n",
    "    \n",
    "    # already exists for many samples\n",
    "    adata_warped = bigwarp.register_cosmx(\n",
    "        adata, ddf, resolution=1.\n",
    "    )\n",
    "    output_filepath = project_dir / 'registered' / f'{sample}_cosmx.h5ad'\n",
    "    adata_warped.write_h5ad(output_filepath)\n",
    "    \n",
    "    warped, mask = bigwarp.warp_pts_fast(transcripts[['y_local_px', 'x_local_px']].values, ddf)\n",
    "    transcripts = transcripts[mask]\n",
    "    transcripts['y_location'] = warped[:, 0]\n",
    "    transcripts['x_location'] = warped[:, 1]\n",
    "    transcripts['feature_name'] = transcripts['target']\n",
    "    output_filepath = project_dir / 'registered' / f'{sample}_cosmx_transcripts.parquet'\n",
    "    transcripts.to_parquet(output_filepath)\n",
    "    \n",
    "    \n",
    "    \n",
    "\n"
   ]
  },
  {
   "cell_type": "code",
   "execution_count": null,
   "id": "2901aa94",
   "metadata": {},
   "outputs": [],
   "source": []
  },
  {
   "cell_type": "code",
   "execution_count": null,
   "id": "431cb319",
   "metadata": {},
   "outputs": [],
   "source": []
  },
  {
   "cell_type": "code",
   "execution_count": 39,
   "id": "15a553fc",
   "metadata": {},
   "outputs": [
    {
     "data": {
      "text/plain": [
       "AnnData object with n_obs × n_vars = 63192 × 1000\n",
       "    obs: 'nn_ab6850d1.6dd1.4597.83eb.2329b07091a1_1_cluster_cluster_c82a766f.40d6.4393.87f1.1f12ae165c75_1', 'RNA_nbclust_33c64cd6.a98e.460b.816d.89b682b22136_1_clusters', 'RNA_nbclust_33c64cd6.a98e.460b.816d.89b682b22136_1_posterior_probability', 'nn_c1d0b34c.2bf1.4451.a129.3ee29a0b9054_1_cluster_cluster_7bdc39f6.bfd4.4b6d.92d6.92fc677a9bf3_1', 'nCount_RNA', 'nFeature_RNA', 'nCount_negprobes', 'nFeature_negprobes', 'fov', 'Area', 'AspectRatio', 'Width', 'Height', 'Mean.PanCK', 'Max.PanCK', 'Mean.CD68', 'Max.CD68', 'Mean.Membrane', 'Max.Membrane', 'Mean.CD45', 'Max.CD45', 'Mean.DAPI', 'Max.DAPI', 'cell_id', 'assay_type', 'version', 'Run_Tissue_name', 'Panel', 'slide_ID', 'cell_ID', 'unassignedTranscripts', 'nCount_falsecode', 'nFeature_falsecode', 'Area.um2', 'CenterX_local_px', 'CenterY_local_px', 'CenterX_global_px', 'CenterY_global_px', 'propNegative', 'complexity', 'errorCtEstimate', 'percOfDataFromError', 'qcFlagsRNACounts', 'qcFlagsCellCounts', 'qcFlagsCellPropNeg', 'qcFlagsCellComplex', 'qcFlagsCellArea', 'median_negprobes', 'negprobes_quantile_0.9', 'median_RNA', 'RNA_quantile_0.9', 'nCell', 'nCount', 'nCountPerCell', 'nFeaturePerCell', 'propNegativeCellAvg', 'complexityCellAvg', 'errorCtPerCellEstimate', 'percOfDataFromErrorPerCell', 'qcFlagsFOV', 'i.median_negprobes', 'i.negprobes_quantile_0.9', 'i.median_RNA', 'i.RNA_quantile_0.9', 'RNA_spatialclust_0de11dc3.398a.4c33.bb9f.5973a383c75d_1_neighbours_a', 'RNA_spatialclust_0de11dc3.398a.4c33.bb9f.5973a383c75d_1_neighbours_b', 'RNA_spatialclust_0de11dc3.398a.4c33.bb9f.5973a383c75d_1_neighbours_cgj', 'RNA_spatialclust_0de11dc3.398a.4c33.bb9f.5973a383c75d_1_neighbours_d', 'RNA_spatialclust_0de11dc3.398a.4c33.bb9f.5973a383c75d_1_neighbours_e', 'RNA_spatialclust_0de11dc3.398a.4c33.bb9f.5973a383c75d_1_neighbours_f', 'RNA_spatialclust_0de11dc3.398a.4c33.bb9f.5973a383c75d_1_neighbours_h', 'RNA_spatialclust_0de11dc3.398a.4c33.bb9f.5973a383c75d_1_neighbours_i', 'RNA_spatialclust_0de11dc3.398a.4c33.bb9f.5973a383c75d_1_neighbours_k', 'RNA_spatialclust_0de11dc3.398a.4c33.bb9f.5973a383c75d_1_neighbours_l', 'spatialclust_0de11dc3.398a.4c33.bb9f.5973a383c75d_1_assignments', 'RNA_spatialclust_5f38017b.777c.40ed.9a97.3af0bfbe7672_1_neighbours_1', 'RNA_spatialclust_5f38017b.777c.40ed.9a97.3af0bfbe7672_1_neighbours_10', 'RNA_spatialclust_5f38017b.777c.40ed.9a97.3af0bfbe7672_1_neighbours_11', 'RNA_spatialclust_5f38017b.777c.40ed.9a97.3af0bfbe7672_1_neighbours_12', 'RNA_spatialclust_5f38017b.777c.40ed.9a97.3af0bfbe7672_1_neighbours_13', 'RNA_spatialclust_5f38017b.777c.40ed.9a97.3af0bfbe7672_1_neighbours_2', 'RNA_spatialclust_5f38017b.777c.40ed.9a97.3af0bfbe7672_1_neighbours_3', 'RNA_spatialclust_5f38017b.777c.40ed.9a97.3af0bfbe7672_1_neighbours_4', 'RNA_spatialclust_5f38017b.777c.40ed.9a97.3af0bfbe7672_1_neighbours_5', 'RNA_spatialclust_5f38017b.777c.40ed.9a97.3af0bfbe7672_1_neighbours_6', 'RNA_spatialclust_5f38017b.777c.40ed.9a97.3af0bfbe7672_1_neighbours_7', 'RNA_spatialclust_5f38017b.777c.40ed.9a97.3af0bfbe7672_1_neighbours_8', 'RNA_spatialclust_5f38017b.777c.40ed.9a97.3af0bfbe7672_1_neighbours_9', 'spatialclust_5f38017b.777c.40ed.9a97.3af0bfbe7672_1_assignments'\n",
       "    uns: 'ppm', 'spatial'\n",
       "    obsm: 'spatial', 'spatial_original'"
      ]
     },
     "execution_count": 39,
     "metadata": {},
     "output_type": "execute_result"
    }
   ],
   "source": [
    "a = sc.read_h5ad('/diskmnt/Projects/Users/estorrs/mushroom/data/projects/submission_v1/HT206B1/registered/sidecar1_HT206B1-U15_cosmx.h5ad')\n",
    "a"
   ]
  },
  {
   "cell_type": "code",
   "execution_count": 40,
   "id": "95411f58",
   "metadata": {},
   "outputs": [],
   "source": [
    "img = multiplex.extract_ome_tiff('/diskmnt/Projects/Users/estorrs/mushroom/data/projects/submission_v1/HT206B1/registered/sidecar1_HT206B1-U15_cosmx_morphologyfocus.ome.tiff', channels=['DNA'])['DNA']\n"
   ]
  },
  {
   "cell_type": "code",
   "execution_count": 41,
   "id": "ecd605e8",
   "metadata": {},
   "outputs": [
    {
     "data": {
      "text/plain": [
       "<matplotlib.collections.PathCollection at 0x7f1dc0068a60>"
      ]
     },
     "execution_count": 41,
     "metadata": {},
     "output_type": "execute_result"
    },
    {
     "data": {
      "image/png": "[encoded data removed]",
      "text/plain": [
       "<Figure size 640x480 with 1 Axes>"
      ]
     },
     "metadata": {},
     "output_type": "display_data"
    }
   ],
   "source": [
    "plt.imshow(img)\n",
    "plt.scatter(a.obsm['spatial'][:, 0], a.obsm['spatial'][:, 1], s=.1)\n",
    "# plt.gca().invert_yaxis()"
   ]
  },
  {
   "cell_type": "code",
   "execution_count": 42,
   "id": "a8660451",
   "metadata": {},
   "outputs": [
    {
     "data": {
      "text/html": [
       "<div>\n",
       "<style scoped>\n",
       "    .dataframe tbody tr th:only-of-type {\n",
       "        vertical-align: middle;\n",
       "    }\n",
       "\n",
       "    .dataframe tbody tr th {\n",
       "        vertical-align: top;\n",
       "    }\n",
       "\n",
       "    .dataframe thead th {\n",
       "        text-align: right;\n",
       "    }\n",
       "</style>\n",
       "<table border=\"1\" class=\"dataframe\">\n",
       "  <thead>\n",
       "    <tr style=\"text-align: right;\">\n",
       "      <th></th>\n",
       "      <th>fov</th>\n",
       "      <th>cell_ID</th>\n",
       "      <th>cell</th>\n",
       "      <th>x_local_px</th>\n",
       "      <th>y_local_px</th>\n",
       "      <th>x_global_px</th>\n",
       "      <th>y_global_px</th>\n",
       "      <th>z</th>\n",
       "      <th>target</th>\n",
       "      <th>CellComp</th>\n",
       "      <th>y_location</th>\n",
       "      <th>x_location</th>\n",
       "      <th>feature_name</th>\n",
       "    </tr>\n",
       "  </thead>\n",
       "  <tbody>\n",
       "    <tr>\n",
       "      <th>0</th>\n",
       "      <td>1</td>\n",
       "      <td>0</td>\n",
       "      <td>c_1_1_0</td>\n",
       "      <td>4310</td>\n",
       "      <td>46768</td>\n",
       "      <td>4309.999948</td>\n",
       "      <td>42511.999476</td>\n",
       "      <td>7</td>\n",
       "      <td>ATP5F1E</td>\n",
       "      <td>None</td>\n",
       "      <td>605.0</td>\n",
       "      <td>6022.0</td>\n",
       "      <td>ATP5F1E</td>\n",
       "    </tr>\n",
       "    <tr>\n",
       "      <th>1</th>\n",
       "      <td>1</td>\n",
       "      <td>0</td>\n",
       "      <td>c_1_1_0</td>\n",
       "      <td>4325</td>\n",
       "      <td>46747</td>\n",
       "      <td>4324.999948</td>\n",
       "      <td>42490.999476</td>\n",
       "      <td>7</td>\n",
       "      <td>IL17RA</td>\n",
       "      <td>None</td>\n",
       "      <td>607.0</td>\n",
       "      <td>6020.0</td>\n",
       "      <td>IL17RA</td>\n",
       "    </tr>\n",
       "    <tr>\n",
       "      <th>2</th>\n",
       "      <td>1</td>\n",
       "      <td>0</td>\n",
       "      <td>c_1_1_0</td>\n",
       "      <td>4503</td>\n",
       "      <td>46746</td>\n",
       "      <td>4502.999948</td>\n",
       "      <td>42489.999476</td>\n",
       "      <td>7</td>\n",
       "      <td>MGP</td>\n",
       "      <td>None</td>\n",
       "      <td>602.0</td>\n",
       "      <td>5999.0</td>\n",
       "      <td>MGP</td>\n",
       "    </tr>\n",
       "    <tr>\n",
       "      <th>3</th>\n",
       "      <td>1</td>\n",
       "      <td>0</td>\n",
       "      <td>c_1_1_0</td>\n",
       "      <td>4656</td>\n",
       "      <td>46782</td>\n",
       "      <td>4655.999948</td>\n",
       "      <td>42525.999476</td>\n",
       "      <td>7</td>\n",
       "      <td>CXCL9</td>\n",
       "      <td>None</td>\n",
       "      <td>593.0</td>\n",
       "      <td>5983.0</td>\n",
       "      <td>CXCL9</td>\n",
       "    </tr>\n",
       "    <tr>\n",
       "      <th>4</th>\n",
       "      <td>1</td>\n",
       "      <td>0</td>\n",
       "      <td>c_1_1_0</td>\n",
       "      <td>5039</td>\n",
       "      <td>46764</td>\n",
       "      <td>5038.999948</td>\n",
       "      <td>42507.999476</td>\n",
       "      <td>7</td>\n",
       "      <td>IFNGR2</td>\n",
       "      <td>None</td>\n",
       "      <td>582.0</td>\n",
       "      <td>5937.0</td>\n",
       "      <td>IFNGR2</td>\n",
       "    </tr>\n",
       "    <tr>\n",
       "      <th>...</th>\n",
       "      <td>...</td>\n",
       "      <td>...</td>\n",
       "      <td>...</td>\n",
       "      <td>...</td>\n",
       "      <td>...</td>\n",
       "      <td>...</td>\n",
       "      <td>...</td>\n",
       "      <td>...</td>\n",
       "      <td>...</td>\n",
       "      <td>...</td>\n",
       "      <td>...</td>\n",
       "      <td>...</td>\n",
       "      <td>...</td>\n",
       "    </tr>\n",
       "    <tr>\n",
       "      <th>41124237</th>\n",
       "      <td>115</td>\n",
       "      <td>221</td>\n",
       "      <td>c_1_115_221</td>\n",
       "      <td>39140</td>\n",
       "      <td>227</td>\n",
       "      <td>39139.999529</td>\n",
       "      <td>-4029.000000</td>\n",
       "      <td>7</td>\n",
       "      <td>WNT3</td>\n",
       "      <td>Nuclear</td>\n",
       "      <td>4854.0</td>\n",
       "      <td>322.0</td>\n",
       "      <td>WNT3</td>\n",
       "    </tr>\n",
       "    <tr>\n",
       "      <th>41124238</th>\n",
       "      <td>115</td>\n",
       "      <td>221</td>\n",
       "      <td>c_1_115_221</td>\n",
       "      <td>39130</td>\n",
       "      <td>223</td>\n",
       "      <td>39129.999529</td>\n",
       "      <td>-4033.000000</td>\n",
       "      <td>7</td>\n",
       "      <td>IL15RA</td>\n",
       "      <td>Cytoplasm</td>\n",
       "      <td>4854.0</td>\n",
       "      <td>322.0</td>\n",
       "      <td>IL15RA</td>\n",
       "    </tr>\n",
       "    <tr>\n",
       "      <th>41124239</th>\n",
       "      <td>115</td>\n",
       "      <td>221</td>\n",
       "      <td>c_1_115_221</td>\n",
       "      <td>39152</td>\n",
       "      <td>223</td>\n",
       "      <td>39151.999529</td>\n",
       "      <td>-4033.000000</td>\n",
       "      <td>6</td>\n",
       "      <td>TPSAB1/B2</td>\n",
       "      <td>Nuclear</td>\n",
       "      <td>4854.0</td>\n",
       "      <td>321.0</td>\n",
       "      <td>TPSAB1/B2</td>\n",
       "    </tr>\n",
       "    <tr>\n",
       "      <th>41124240</th>\n",
       "      <td>115</td>\n",
       "      <td>221</td>\n",
       "      <td>c_1_115_221</td>\n",
       "      <td>39168</td>\n",
       "      <td>222</td>\n",
       "      <td>39167.999529</td>\n",
       "      <td>-4034.000000</td>\n",
       "      <td>8</td>\n",
       "      <td>FN1</td>\n",
       "      <td>Cytoplasm</td>\n",
       "      <td>4853.0</td>\n",
       "      <td>318.0</td>\n",
       "      <td>FN1</td>\n",
       "    </tr>\n",
       "    <tr>\n",
       "      <th>41124241</th>\n",
       "      <td>115</td>\n",
       "      <td>221</td>\n",
       "      <td>c_1_115_221</td>\n",
       "      <td>39149</td>\n",
       "      <td>212</td>\n",
       "      <td>39148.999529</td>\n",
       "      <td>-4044.000000</td>\n",
       "      <td>7</td>\n",
       "      <td>CRP</td>\n",
       "      <td>Cytoplasm</td>\n",
       "      <td>4855.0</td>\n",
       "      <td>321.0</td>\n",
       "      <td>CRP</td>\n",
       "    </tr>\n",
       "  </tbody>\n",
       "</table>\n",
       "<p>41071098 rows × 13 columns</p>\n",
       "</div>"
      ],
      "text/plain": [
       "          fov  cell_ID         cell  x_local_px  y_local_px   x_global_px  \\\n",
       "0           1        0      c_1_1_0        4310       46768   4309.999948   \n",
       "1           1        0      c_1_1_0        4325       46747   4324.999948   \n",
       "2           1        0      c_1_1_0        4503       46746   4502.999948   \n",
       "3           1        0      c_1_1_0        4656       46782   4655.999948   \n",
       "4           1        0      c_1_1_0        5039       46764   5038.999948   \n",
       "...       ...      ...          ...         ...         ...           ...   \n",
       "41124237  115      221  c_1_115_221       39140         227  39139.999529   \n",
       "41124238  115      221  c_1_115_221       39130         223  39129.999529   \n",
       "41124239  115      221  c_1_115_221       39152         223  39151.999529   \n",
       "41124240  115      221  c_1_115_221       39168         222  39167.999529   \n",
       "41124241  115      221  c_1_115_221       39149         212  39148.999529   \n",
       "\n",
       "           y_global_px  z     target   CellComp  y_location  x_location  \\\n",
       "0         42511.999476  7    ATP5F1E       None       605.0      6022.0   \n",
       "1         42490.999476  7     IL17RA       None       607.0      6020.0   \n",
       "2         42489.999476  7        MGP       None       602.0      5999.0   \n",
       "3         42525.999476  7      CXCL9       None       593.0      5983.0   \n",
       "4         42507.999476  7     IFNGR2       None       582.0      5937.0   \n",
       "...                ... ..        ...        ...         ...         ...   \n",
       "41124237  -4029.000000  7       WNT3    Nuclear      4854.0       322.0   \n",
       "41124238  -4033.000000  7     IL15RA  Cytoplasm      4854.0       322.0   \n",
       "41124239  -4033.000000  6  TPSAB1/B2    Nuclear      4854.0       321.0   \n",
       "41124240  -4034.000000  8        FN1  Cytoplasm      4853.0       318.0   \n",
       "41124241  -4044.000000  7        CRP  Cytoplasm      4855.0       321.0   \n",
       "\n",
       "         feature_name  \n",
       "0             ATP5F1E  \n",
       "1              IL17RA  \n",
       "2                 MGP  \n",
       "3               CXCL9  \n",
       "4              IFNGR2  \n",
       "...               ...  \n",
       "41124237         WNT3  \n",
       "41124238       IL15RA  \n",
       "41124239    TPSAB1/B2  \n",
       "41124240          FN1  \n",
       "41124241          CRP  \n",
       "\n",
       "[41071098 rows x 13 columns]"
      ]
     },
     "execution_count": 42,
     "metadata": {},
     "output_type": "execute_result"
    }
   ],
   "source": [
    "transcripts = pd.read_parquet('/diskmnt/Projects/Users/estorrs/mushroom/data/projects/submission_v1/HT206B1/registered/sidecar1_HT206B1-U15_cosmx_transcripts.parquet')\n",
    "transcripts"
   ]
  },
  {
   "cell_type": "code",
   "execution_count": 43,
   "id": "c7be9d52",
   "metadata": {},
   "outputs": [
    {
     "data": {
      "text/plain": [
       "<matplotlib.collections.PathCollection at 0x7f1eda323b80>"
      ]
     },
     "execution_count": 43,
     "metadata": {},
     "output_type": "execute_result"
    },
    {
     "data": {
      "image/png": "[encoded data removed]",
      "text/plain": [
       "<Figure size 640x480 with 1 Axes>"
      ]
     },
     "metadata": {},
     "output_type": "display_data"
    }
   ],
   "source": [
    "plt.imshow(img)\n",
    "idxs = np.random.choice(np.arange(transcripts.shape[0]), size=10000)\n",
    "small = transcripts.iloc[idxs]\n",
    "plt.scatter(small['x_location'], small['y_location'], s=.1)\n",
    "# plt.gca().invert_yaxis()"
   ]
  },
  {
   "cell_type": "code",
   "execution_count": null,
   "id": "babc8947",
   "metadata": {},
   "outputs": [],
   "source": []
  },
  {
   "cell_type": "code",
   "execution_count": null,
   "id": "9d8581bd",
   "metadata": {},
   "outputs": [],
   "source": []
  },
  {
   "cell_type": "code",
   "execution_count": null,
   "id": "6a0487ce",
   "metadata": {},
   "outputs": [],
   "source": []
  },
  {
   "cell_type": "code",
   "execution_count": null,
   "id": "6cee2336",
   "metadata": {},
   "outputs": [],
   "source": []
  },
  {
   "cell_type": "markdown",
   "id": "fbd01c1b",
   "metadata": {},
   "source": [
    "## sidecar ddf generation"
   ]
  },
  {
   "cell_type": "code",
   "execution_count": 34,
   "id": "8ac83032",
   "metadata": {},
   "outputs": [],
   "source": [
    "import tifffile\n",
    "scaler = .2\n",
    "sid = 'sidecar1_HT206B1-U15'\n",
    "img = utils.rescale(sample_to_stitched[sid][0], scale=scaler, dim_order='h w', target_dtype=data.dtype)\n",
    "output_filepath = project_dir / 'registration' / 'unregistered_tifs' / f'{sid}.tif'\n",
    "tifffile.imwrite(output_filepath, img, compression='LZW')"
   ]
  },
  {
   "cell_type": "code",
   "execution_count": 33,
   "id": "bf6a0b72",
   "metadata": {},
   "outputs": [
    {
     "data": {
      "text/plain": [
       "dict_keys(['sidecar1_HT206B1-U15'])"
      ]
     },
     "execution_count": 33,
     "metadata": {},
     "output_type": "execute_result"
    }
   ],
   "source": [
    "samples"
   ]
  },
  {
   "cell_type": "code",
   "execution_count": null,
   "id": "99dfe441",
   "metadata": {},
   "outputs": [],
   "source": []
  },
  {
   "cell_type": "code",
   "execution_count": null,
   "id": "2ed72ad1",
   "metadata": {},
   "outputs": [],
   "source": []
  },
  {
   "cell_type": "code",
   "execution_count": null,
   "id": "a211e0a6",
   "metadata": {},
   "outputs": [],
   "source": []
  }
 ],
 "metadata": {
  "kernelspec": {
   "display_name": "Python 3 (ipykernel)",
   "language": "python",
   "name": "python3"
  },
  "language_info": {
   "codemirror_mode": {
    "name": "ipython",
    "version": 3
   },
   "file_extension": ".py",
   "mimetype": "text/x-python",
   "name": "python",
   "nbconvert_exporter": "python",
   "pygments_lexer": "ipython3",
   "version": "3.10.13"
  }
 },
 "nbformat": 4,
 "nbformat_minor": 5
}
