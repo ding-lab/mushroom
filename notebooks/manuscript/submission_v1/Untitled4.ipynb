{
 "cells": [
  {
   "cell_type": "code",
   "execution_count": 1,
   "id": "2b7c342b",
   "metadata": {},
   "outputs": [],
   "source": [
    "import numpy as np"
   ]
  },
  {
   "cell_type": "code",
   "execution_count": 2,
   "id": "f104892d",
   "metadata": {},
   "outputs": [],
   "source": [
    "import mushroom.data.multiplex as multiplex"
   ]
  },
  {
   "cell_type": "code",
   "execution_count": 5,
   "id": "bbe30462",
   "metadata": {
    "scrolled": true
   },
   "outputs": [
    {
     "data": {
      "text/plain": [
       "array([[[28, 91, 57, ..., 50, 12, 57],\n",
       "        [18, 35, 38, ..., 69, 59, 82],\n",
       "        [25,  8,  3, ..., 90, 37, 65],\n",
       "        ...,\n",
       "        [36,  8, 19, ..., 77, 85, 69],\n",
       "        [67, 33, 43, ..., 24, 77,  8],\n",
       "        [56, 49, 30, ..., 50, 74, 76]],\n",
       "\n",
       "       [[81, 70,  8, ..., 80,  1, 69],\n",
       "        [19, 71, 97, ..., 80, 38, 42],\n",
       "        [13, 12, 40, ..., 47, 27, 81],\n",
       "        ...,\n",
       "        [98, 47, 16, ..., 31, 45, 38],\n",
       "        [ 7, 30, 92, ..., 84, 83, 40],\n",
       "        [ 1, 38, 70, ..., 72, 28, 58]],\n",
       "\n",
       "       [[48, 38,  7, ...,  8, 49, 62],\n",
       "        [13, 47, 87, ..., 56, 57, 46],\n",
       "        [ 2,  2, 25, ..., 22, 74, 35],\n",
       "        ...,\n",
       "        [90,  2, 36, ..., 94, 58, 47],\n",
       "        [64, 60, 61, ..., 53, 94, 41],\n",
       "        [ 0, 22,  2, ..., 89, 91,  1]],\n",
       "\n",
       "       [[69, 19, 18, ..., 29, 12, 45],\n",
       "        [ 9,  2, 42, ..., 35, 30, 94],\n",
       "        [44,  2, 94, ..., 43,  6, 91],\n",
       "        ...,\n",
       "        [66, 48, 59, ..., 50, 97, 46],\n",
       "        [79,  6, 14, ..., 62, 56, 66],\n",
       "        [ 6, 41, 49, ..., 75, 44, 55]],\n",
       "\n",
       "       [[33, 29, 43, ..., 28, 73, 36],\n",
       "        [38, 74, 39, ..., 94,  0, 34],\n",
       "        [37, 57, 44, ..., 46, 24, 92],\n",
       "        ...,\n",
       "        [11, 27, 78, ..., 26, 13, 74],\n",
       "        [59, 41, 33, ...,  6, 89, 64],\n",
       "        [25, 87, 77, ..., 89,  8,  6]]], dtype=uint8)"
      ]
     },
     "execution_count": 5,
     "metadata": {},
     "output_type": "execute_result"
    }
   ],
   "source": [
    "x = np.random.randint(0, 100, (5, 100, 100), dtype=np.uint8)\n",
    "x"
   ]
  },
  {
   "cell_type": "code",
   "execution_count": 6,
   "id": "30271a35",
   "metadata": {},
   "outputs": [],
   "source": [
    "multiplex.write_basic_ome_tiff('/diskmnt/Projects/Users/estorrs/sandbox.test.ome.tif', x,\n",
    "                               ['a', 'b', 'c', 'd', 'e'])"
   ]
  },
  {
   "cell_type": "code",
   "execution_count": 7,
   "id": "ddfd346b",
   "metadata": {},
   "outputs": [
    {
     "name": "stdout",
     "output_type": "stream",
     "text": [
      "CONDA_PROMPT_MODIFIER=(mushroom) \r\n",
      "PATH=/diskmnt/Projects/Users/estorrs/miniconda3/envs/mushroom/bin:/diskmnt/Projects/Users/estorrs/samtools-1.3.1:/diskmnt/Projects/Users/estorrs/miniconda3/condabin:/diskmnt/Projects/Users/estorrs/samtools-1.3.1:/usr/local/bin:/usr/bin:/usr/local/sbin:/usr/sbin:/diskmnt/Projects/Users/estorrs/rabix-cli-1.0.5:/home/estorrs/gatk-4.0.12.0:/home/estorrs/.fzf/bin:/home/estorrs/.local/bin:/home/estorrs/bin:/diskmnt/Projects/Users/estorrs/rabix-cli-1.0.5:/home/estorrs/gatk-4.0.12.0:/home/estorrs/.local/bin:/home/estorrs/bin\r\n",
      "GSETTINGS_SCHEMA_DIR=/diskmnt/Projects/Users/estorrs/miniconda3/envs/mushroom/share/glib-2.0/schemas\r\n",
      "CONDA_PREFIX=/diskmnt/Projects/Users/estorrs/miniconda3/envs/mushroom\r\n",
      "PWD=/diskmnt/Projects/Users/estorrs/mushroom/notebooks/manuscript/submission_v1\r\n",
      "CONDA_DEFAULT_ENV=mushroom\r\n"
     ]
    }
   ],
   "source": [
    "!printenv | egrep mushroom"
   ]
  },
  {
   "cell_type": "code",
   "execution_count": null,
   "id": "18f09a80",
   "metadata": {},
   "outputs": [],
   "source": []
  }
 ],
 "metadata": {
  "kernelspec": {
   "display_name": "Python 3 (ipykernel)",
   "language": "python",
   "name": "python3"
  },
  "language_info": {
   "codemirror_mode": {
    "name": "ipython",
    "version": 3
   },
   "file_extension": ".py",
   "mimetype": "text/x-python",
   "name": "python",
   "nbconvert_exporter": "python",
   "pygments_lexer": "ipython3",
   "version": "3.9.18"
  }
 },
 "nbformat": 4,
 "nbformat_minor": 5
}
