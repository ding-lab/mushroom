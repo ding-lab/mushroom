{
 "cells": [
  {
   "cell_type": "code",
   "execution_count": null,
   "id": "5e6a3f24",
   "metadata": {},
   "outputs": [],
   "source": [
    "import json\n",
    "import os\n",
    "import sys\n",
    "from copy import deepcopy\n",
    "from pathlib import Path\n",
    "\n",
    "import matplotlib.pyplot as plt\n",
    "import numpy as np\n",
    "import skimage\n",
    "import tifffile\n",
    "import yaml"
   ]
  },
  {
   "cell_type": "code",
   "execution_count": null,
   "id": "7e4ab32f",
   "metadata": {},
   "outputs": [],
   "source": [
    "%load_ext autoreload"
   ]
  },
  {
   "cell_type": "code",
   "execution_count": null,
   "id": "70fa2851",
   "metadata": {},
   "outputs": [],
   "source": [
    "%autoreload 2"
   ]
  },
  {
   "cell_type": "code",
   "execution_count": null,
   "id": "ad713538",
   "metadata": {},
   "outputs": [],
   "source": [
    "from mushroom.mushroom import Mushroom, DEFAULT_CONFIG\n",
    "import mushroom.data.he as he\n",
    "import mushroom.data.multiplex as multiplex\n",
    "import mushroom.utils as utils\n",
    "import mushroom.visualization.utils as vis_utils"
   ]
  },
  {
   "cell_type": "code",
   "execution_count": null,
   "id": "29ec9025",
   "metadata": {},
   "outputs": [],
   "source": [
    "source_root = '/diskmnt/Projects/Users/estorrs/mushroom/data'\n",
    "target_root = '/data/estorrs/mushroom/data'"
   ]
  },
  {
   "cell_type": "code",
   "execution_count": null,
   "id": "9c548776",
   "metadata": {},
   "outputs": [],
   "source": [
    "run_dir = '/data/estorrs/mushroom/data/projects/submission_v1/lightsheet'"
   ]
  },
  {
   "cell_type": "code",
   "execution_count": null,
   "id": "34da8a8c",
   "metadata": {},
   "outputs": [],
   "source": [
    "yaml.safe_load(\n",
    "    open('/data/estorrs/mushroom/data/projects/submission_v1/lightsheet/HT427PI-A1_20x/registered/metadata.yaml')\n",
    ")"
   ]
  },
  {
   "cell_type": "markdown",
   "id": "8d4b43ae",
   "metadata": {},
   "source": [
    "## define inputs"
   ]
  },
  {
   "cell_type": "code",
   "execution_count": null,
   "id": "b18a8d3e",
   "metadata": {
    "scrolled": true
   },
   "outputs": [],
   "source": [
    "fps = sorted(utils.listfiles(run_dir, regex=r'registered/metadata.yaml$'))\n",
    "fps = [fp for fp in fps if '_20x' in fp]\n",
    "len(fps), fps"
   ]
  },
  {
   "cell_type": "code",
   "execution_count": null,
   "id": "614d308b",
   "metadata": {},
   "outputs": [],
   "source": [
    "DEFAULT_CONFIG"
   ]
  },
  {
   "cell_type": "code",
   "execution_count": null,
   "id": "cd0589ac",
   "metadata": {},
   "outputs": [],
   "source": [
    "def alter_filesystem(config, source_root, target_root):\n",
    "    for entry in config['sections']:\n",
    "        for mapping in entry['data']:\n",
    "            mapping['filepath'] = mapping['filepath'].replace(source_root, target_root)\n",
    "    \n",
    "    if config['trainer_kwargs']['data_mask'] is not None:\n",
    "        config['trainer_kwargs']['data_mask'] = config['trainer_kwargs']['data_mask'].replace(source_root, target_root)\n",
    "        \n",
    "    return config"
   ]
  },
  {
   "cell_type": "code",
   "execution_count": null,
   "id": "8c3522f9",
   "metadata": {},
   "outputs": [],
   "source": [
    "case_to_config = {}\n",
    "spacings = [1, 2, 4, 8]\n",
    "total_sections = 100\n",
    "\n",
    "for spacing in spacings:\n",
    "    for fp in fps:\n",
    "        metadata = yaml.safe_load(open(fp))\n",
    "            \n",
    "        \n",
    "        start = (len(metadata['sections']) // 2) - (total_sections // 2)\n",
    "        \n",
    "        \n",
    "        metadata['sections'] = metadata['sections'][start:start + total_sections]\n",
    "        \n",
    "        for i, entry in enumerate(metadata['sections']):\n",
    "            entry['position'] = i # makes reasoning about position in volume easier\n",
    "        \n",
    "        n_sections = len(metadata['sections'])\n",
    "        \n",
    "        idxs = [i for i in range(n_sections) if i % spacing == 0]\n",
    "        \n",
    "#         size = int(pct * n_sections)\n",
    "#         idxs = np.random.choice(np.arange(n_sections), size=size, replace=False)\n",
    "        metadata['sections'] = [x for i, x in enumerate(metadata['sections']) if i in idxs]\n",
    "\n",
    "        case = fp.split('/')[-3]\n",
    "        name = f'{case}_keepevery{spacing}'\n",
    "\n",
    "        config = deepcopy(DEFAULT_CONFIG)\n",
    "        config = utils.recursive_update(config, {\n",
    "            'sections': metadata['sections'],\n",
    "            'trainer_kwargs': {\n",
    "                'input_resolution': metadata['resolution'],\n",
    "                'target_resolution': .02,\n",
    "                'out_dir': os.path.join(run_dir, case, 'mushroom', name),\n",
    "                'accelerator': 'gpu',\n",
    "                'steps_per_epoch': 1000,\n",
    "            }\n",
    "        })\n",
    "\n",
    "        config['dtype_specific_params'] = utils.recursive_update(config['dtype_specific_params'], {\n",
    "            'visium': {\n",
    "                'trainer_kwargs': {\n",
    "                    'target_resolution': .01  # lower resolution for visium\n",
    "                }\n",
    "            }\n",
    "        })\n",
    "\n",
    "        config = alter_filesystem(config, source_root, target_root)\n",
    "\n",
    "        case_to_config[name] = config"
   ]
  },
  {
   "cell_type": "code",
   "execution_count": null,
   "id": "bfbe462c",
   "metadata": {},
   "outputs": [],
   "source": [
    "case_to_config.keys()"
   ]
  },
  {
   "cell_type": "code",
   "execution_count": null,
   "id": "7730b6cb",
   "metadata": {},
   "outputs": [],
   "source": [
    "next(iter(case_to_config.items()))"
   ]
  },
  {
   "cell_type": "code",
   "execution_count": null,
   "id": "ee8edb63",
   "metadata": {},
   "outputs": [],
   "source": [
    "%%time\n",
    "for case, config in case_to_config.items():\n",
    "    print(case)\n",
    "    mushroom = Mushroom.from_config(config)\n",
    "    mushroom.train()\n",
    "    mushroom.embed_sections()\n",
    "    \n",
    "    mushroom.save()\n",
    "    z_scaler = 1.\n",
    "    for level in range(3):\n",
    "        dtype_to_volume = mushroom.generate_interpolated_volumes(z_scaler=z_scaler, level=level, integrate=False)\n",
    "        volume = dtype_to_volume['multiplex']\n",
    "        np.save(os.path.join(mushroom.trainer_kwargs['out_dir'], f'volume_l{level}.npy'), volume)\n",
    "    \n",
    "    del(mushroom)\n",
    "    "
   ]
  },
  {
   "cell_type": "code",
   "execution_count": null,
   "id": "b44da11c",
   "metadata": {},
   "outputs": [],
   "source": []
  },
  {
   "cell_type": "code",
   "execution_count": null,
   "id": "ef94f1e9",
   "metadata": {},
   "outputs": [],
   "source": []
  }
 ],
 "metadata": {
  "kernelspec": {
   "display_name": "Python 3 (ipykernel)",
   "language": "python",
   "name": "python3"
  },
  "language_info": {
   "codemirror_mode": {
    "name": "ipython",
    "version": 3
   },
   "file_extension": ".py",
   "mimetype": "text/x-python",
   "name": "python",
   "nbconvert_exporter": "python",
   "pygments_lexer": "ipython3",
   "version": "3.10.13"
  }
 },
 "nbformat": 4,
 "nbformat_minor": 5
}
