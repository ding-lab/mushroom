{
 "cells": [
  {
   "cell_type": "code",
   "execution_count": 1,
   "id": "943cb70e-f836-41e6-ab89-c70d3795a410",
   "metadata": {},
   "outputs": [],
   "source": [
    "import numpy as np\n"
   ]
  },
  {
   "cell_type": "code",
   "execution_count": 2,
   "id": "f30cbf6a-cb1a-4c8c-9f75-8b0bf4966dd9",
   "metadata": {},
   "outputs": [],
   "source": [
    "%load_ext autoreload"
   ]
  },
  {
   "cell_type": "code",
   "execution_count": 3,
   "id": "45ad0921-4bb2-4958-8648-bc7216809bc2",
   "metadata": {},
   "outputs": [],
   "source": [
    "%autoreload 2"
   ]
  },
  {
   "cell_type": "code",
   "execution_count": 4,
   "id": "320ce908-3a26-45af-8a76-dcd2cffd3a60",
   "metadata": {},
   "outputs": [],
   "source": [
    "import mushroom.data.multiplex as multiplex"
   ]
  },
  {
   "cell_type": "code",
   "execution_count": 8,
   "id": "32d7e486-8984-43c2-9758-24e856393c74",
   "metadata": {},
   "outputs": [
    {
     "ename": "IndexError",
     "evalue": "list index out of range",
     "output_type": "error",
     "traceback": [
      "\u001b[0;31m---------------------------------------------------------------------------\u001b[0m",
      "\u001b[0;31mIndexError\u001b[0m                                Traceback (most recent call last)",
      "\u001b[0;32m/tmp/ipykernel_1468941/3853018019.py\u001b[0m in \u001b[0;36m?\u001b[0;34m()\u001b[0m\n\u001b[1;32m      1\u001b[0m \u001b[0mx\u001b[0m \u001b[0;34m=\u001b[0m \u001b[0mnp\u001b[0m\u001b[0;34m.\u001b[0m\u001b[0mrandom\u001b[0m\u001b[0;34m.\u001b[0m\u001b[0mrandint\u001b[0m\u001b[0;34m(\u001b[0m\u001b[0;36m0\u001b[0m\u001b[0;34m,\u001b[0m \u001b[0;36m100\u001b[0m\u001b[0;34m,\u001b[0m \u001b[0;34m(\u001b[0m\u001b[0;36m5\u001b[0m\u001b[0;34m,\u001b[0m \u001b[0;36m100\u001b[0m\u001b[0;34m,\u001b[0m \u001b[0;36m100\u001b[0m\u001b[0;34m)\u001b[0m\u001b[0;34m,\u001b[0m \u001b[0mdtype\u001b[0m\u001b[0;34m=\u001b[0m\u001b[0mnp\u001b[0m\u001b[0;34m.\u001b[0m\u001b[0muint8\u001b[0m\u001b[0;34m)\u001b[0m\u001b[0;34m\u001b[0m\u001b[0;34m\u001b[0m\u001b[0m\n\u001b[0;32m----> 2\u001b[0;31m multiplex.write_basic_ome_tiff('/data/estorrs/test.ome.tif', x,\n\u001b[0m\u001b[1;32m      3\u001b[0m                                ['a', 'b', 'c', 'd', 'e'], subresolutions=2)\n",
      "\u001b[0;32m/data/estorrs/mushroom/mushroom/data/multiplex.py\u001b[0m in \u001b[0;36m?\u001b[0;34m(filepath, data, channels, microns_per_pixel, subresolutions)\u001b[0m\n\u001b[1;32m    208\u001b[0m             )\n\u001b[1;32m    209\u001b[0m             \u001b[0mxml_str\u001b[0m \u001b[0;34m=\u001b[0m \u001b[0mto_xml\u001b[0m\u001b[0;34m(\u001b[0m\u001b[0mo\u001b[0m\u001b[0;34m)\u001b[0m\u001b[0;34m\u001b[0m\u001b[0;34m\u001b[0m\u001b[0m\n\u001b[1;32m    210\u001b[0m             \u001b[0mout_tif\u001b[0m\u001b[0;34m.\u001b[0m\u001b[0moverwrite_description\u001b[0m\u001b[0;34m(\u001b[0m\u001b[0mxml_str\u001b[0m\u001b[0;34m.\u001b[0m\u001b[0mencode\u001b[0m\u001b[0;34m(\u001b[0m\u001b[0;34m)\u001b[0m\u001b[0;34m)\u001b[0m\u001b[0;34m\u001b[0m\u001b[0;34m\u001b[0m\u001b[0m\n\u001b[1;32m    211\u001b[0m     \u001b[0;32melse\u001b[0m\u001b[0;34m:\u001b[0m\u001b[0;34m\u001b[0m\u001b[0;34m\u001b[0m\u001b[0m\n\u001b[0;32m--> 212\u001b[0;31m         \u001b[0mwrite_pyramidal_ome\u001b[0m\u001b[0;34m(\u001b[0m\u001b[0mfilepath\u001b[0m\u001b[0;34m,\u001b[0m \u001b[0mdata\u001b[0m\u001b[0;34m,\u001b[0m \u001b[0mo\u001b[0m\u001b[0;34m,\u001b[0m \u001b[0msubresolutions\u001b[0m\u001b[0;34m=\u001b[0m\u001b[0msubresolutions\u001b[0m\u001b[0;34m)\u001b[0m\u001b[0;34m\u001b[0m\u001b[0;34m\u001b[0m\u001b[0m\n\u001b[0m",
      "\u001b[0;32m/data/estorrs/mushroom/mushroom/data/multiplex.py\u001b[0m in \u001b[0;36m?\u001b[0;34m(output_fp, data, ome_model, subresolutions)\u001b[0m\n\u001b[1;32m    118\u001b[0m             \u001b[0;31m#     TF.resize(x, shape, antialias=True),\u001b[0m\u001b[0;34m\u001b[0m\u001b[0;34m\u001b[0m\u001b[0m\n\u001b[1;32m    119\u001b[0m             \u001b[0;31m#     'c h w -> w h c 1 1'\u001b[0m\u001b[0;34m\u001b[0m\u001b[0;34m\u001b[0m\u001b[0m\n\u001b[1;32m    120\u001b[0m             \u001b[0;31m# )\u001b[0m\u001b[0;34m\u001b[0m\u001b[0;34m\u001b[0m\u001b[0m\n\u001b[1;32m    121\u001b[0m             \u001b[0mlogging\u001b[0m\u001b[0;34m.\u001b[0m\u001b[0minfo\u001b[0m\u001b[0;34m(\u001b[0m\u001b[0;34mf'subresolution shape: {x.shape[-2:]}'\u001b[0m\u001b[0;34m)\u001b[0m\u001b[0;34m\u001b[0m\u001b[0;34m\u001b[0m\u001b[0m\n\u001b[0;32m--> 122\u001b[0;31m             out_tif.write(\n\u001b[0m\u001b[1;32m    123\u001b[0m                 \u001b[0mrearrange\u001b[0m\u001b[0;34m(\u001b[0m\u001b[0mx\u001b[0m\u001b[0;34m,\u001b[0m \u001b[0;34m'c y x -> 1 c y x 1'\u001b[0m\u001b[0;34m)\u001b[0m\u001b[0;34m,\u001b[0m\u001b[0;34m\u001b[0m\u001b[0;34m\u001b[0m\u001b[0m\n\u001b[1;32m    124\u001b[0m                 \u001b[0msubfiletype\u001b[0m\u001b[0;34m=\u001b[0m\u001b[0;36m1\u001b[0m\u001b[0;34m,\u001b[0m\u001b[0;34m\u001b[0m\u001b[0;34m\u001b[0m\u001b[0m\n\u001b[1;32m    125\u001b[0m                 \u001b[0;34m**\u001b[0m\u001b[0mopts\u001b[0m\u001b[0;34m\u001b[0m\u001b[0;34m\u001b[0m\u001b[0m\n",
      "\u001b[0;32m/data/estorrs/miniconda3/envs/mushroom_v2/lib/python3.10/site-packages/tifffile/tifffile.py\u001b[0m in \u001b[0;36m?\u001b[0;34m(***failed resolving arguments***)\u001b[0m\n\u001b[1;32m   3725\u001b[0m                 \u001b[0;31m# update SubIFD chain offsets\u001b[0m\u001b[0;34m\u001b[0m\u001b[0;34m\u001b[0m\u001b[0m\n\u001b[1;32m   3726\u001b[0m                 \u001b[0;32mif\u001b[0m \u001b[0mself\u001b[0m\u001b[0;34m.\u001b[0m\u001b[0m_subifdslevel\u001b[0m \u001b[0;34m==\u001b[0m \u001b[0;36m0\u001b[0m\u001b[0;34m:\u001b[0m\u001b[0;34m\u001b[0m\u001b[0;34m\u001b[0m\u001b[0m\n\u001b[1;32m   3727\u001b[0m                     \u001b[0mself\u001b[0m\u001b[0;34m.\u001b[0m\u001b[0m_nextifdoffsets\u001b[0m\u001b[0;34m.\u001b[0m\u001b[0mappend\u001b[0m\u001b[0;34m(\u001b[0m\u001b[0mifdpos\u001b[0m \u001b[0;34m+\u001b[0m \u001b[0mifdoffset\u001b[0m\u001b[0;34m)\u001b[0m\u001b[0;34m\u001b[0m\u001b[0;34m\u001b[0m\u001b[0m\n\u001b[1;32m   3728\u001b[0m                 \u001b[0;32melse\u001b[0m\u001b[0;34m:\u001b[0m\u001b[0;34m\u001b[0m\u001b[0;34m\u001b[0m\u001b[0m\n\u001b[0;32m-> 3729\u001b[0;31m                     \u001b[0mfh\u001b[0m\u001b[0;34m.\u001b[0m\u001b[0mseek\u001b[0m\u001b[0;34m(\u001b[0m\u001b[0mself\u001b[0m\u001b[0;34m.\u001b[0m\u001b[0m_nextifdoffsets\u001b[0m\u001b[0;34m[\u001b[0m\u001b[0mself\u001b[0m\u001b[0;34m.\u001b[0m\u001b[0m_ifdindex\u001b[0m\u001b[0;34m]\u001b[0m\u001b[0;34m)\u001b[0m\u001b[0;34m\u001b[0m\u001b[0;34m\u001b[0m\u001b[0m\n\u001b[0m\u001b[1;32m   3730\u001b[0m                     \u001b[0mfh\u001b[0m\u001b[0;34m.\u001b[0m\u001b[0mwrite\u001b[0m\u001b[0;34m(\u001b[0m\u001b[0mpack\u001b[0m\u001b[0;34m(\u001b[0m\u001b[0moffsetformat\u001b[0m\u001b[0;34m,\u001b[0m \u001b[0mifdpos\u001b[0m\u001b[0;34m)\u001b[0m\u001b[0;34m)\u001b[0m\u001b[0;34m\u001b[0m\u001b[0;34m\u001b[0m\u001b[0m\n\u001b[1;32m   3731\u001b[0m                     \u001b[0mself\u001b[0m\u001b[0;34m.\u001b[0m\u001b[0m_nextifdoffsets\u001b[0m\u001b[0;34m[\u001b[0m\u001b[0mself\u001b[0m\u001b[0;34m.\u001b[0m\u001b[0m_ifdindex\u001b[0m\u001b[0;34m]\u001b[0m \u001b[0;34m=\u001b[0m \u001b[0mifdpos\u001b[0m \u001b[0;34m+\u001b[0m \u001b[0mifdoffset\u001b[0m\u001b[0;34m\u001b[0m\u001b[0;34m\u001b[0m\u001b[0m\n\u001b[1;32m   3732\u001b[0m                 \u001b[0mself\u001b[0m\u001b[0;34m.\u001b[0m\u001b[0m_ifdindex\u001b[0m \u001b[0;34m+=\u001b[0m \u001b[0;36m1\u001b[0m\u001b[0;34m\u001b[0m\u001b[0;34m\u001b[0m\u001b[0m\n",
      "\u001b[0;31mIndexError\u001b[0m: list index out of range"
     ]
    }
   ],
   "source": [
    "x = np.random.randint(0, 100, (5, 100, 100), dtype=np.uint8)\n",
    "multiplex.write_basic_ome_tiff('/data/estorrs/test.ome.tif', x,\n",
    "                               ['a', 'b', 'c', 'd', 'e'], subresolutions=2)"
   ]
  },
  {
   "cell_type": "code",
   "execution_count": 6,
   "id": "167af777-986b-496b-9fd6-4bbcb6f68482",
   "metadata": {},
   "outputs": [
    {
     "name": "stdout",
     "output_type": "stream",
     "text": [
      "mushroom @ file:///data/estorrs/mushroom\n"
     ]
    }
   ],
   "source": [
    "!pip freeze | egrep mushroom"
   ]
  },
  {
   "cell_type": "code",
   "execution_count": 6,
   "id": "c588d028-fb1a-42b0-9cff-2f5bda2dc6e8",
   "metadata": {},
   "outputs": [
    {
     "data": {
      "text/plain": [
       "\u001b[0;31mSignature:\u001b[0m\n",
       "\u001b[0mmultiplex\u001b[0m\u001b[0;34m.\u001b[0m\u001b[0mwrite_basic_ome_tiff\u001b[0m\u001b[0;34m(\u001b[0m\u001b[0;34m\u001b[0m\n",
       "\u001b[0;34m\u001b[0m    \u001b[0mfilepath\u001b[0m\u001b[0;34m,\u001b[0m\u001b[0;34m\u001b[0m\n",
       "\u001b[0;34m\u001b[0m    \u001b[0mdata\u001b[0m\u001b[0;34m,\u001b[0m\u001b[0;34m\u001b[0m\n",
       "\u001b[0;34m\u001b[0m    \u001b[0mchannels\u001b[0m\u001b[0;34m,\u001b[0m\u001b[0;34m\u001b[0m\n",
       "\u001b[0;34m\u001b[0m    \u001b[0mmicrons_per_pixel\u001b[0m\u001b[0;34m=\u001b[0m\u001b[0;36m1.0\u001b[0m\u001b[0;34m,\u001b[0m\u001b[0;34m\u001b[0m\n",
       "\u001b[0;34m\u001b[0m    \u001b[0msubresolutions\u001b[0m\u001b[0;34m=\u001b[0m\u001b[0;36m4\u001b[0m\u001b[0;34m,\u001b[0m\u001b[0;34m\u001b[0m\n",
       "\u001b[0;34m\u001b[0m\u001b[0;34m)\u001b[0m\u001b[0;34m\u001b[0m\u001b[0;34m\u001b[0m\u001b[0m\n",
       "\u001b[0;31mSource:\u001b[0m   \n",
       "\u001b[0;32mdef\u001b[0m \u001b[0mwrite_basic_ome_tiff\u001b[0m\u001b[0;34m(\u001b[0m\u001b[0mfilepath\u001b[0m\u001b[0;34m,\u001b[0m \u001b[0mdata\u001b[0m\u001b[0;34m,\u001b[0m \u001b[0mchannels\u001b[0m\u001b[0;34m,\u001b[0m \u001b[0mmicrons_per_pixel\u001b[0m\u001b[0;34m=\u001b[0m\u001b[0;36m1.\u001b[0m\u001b[0;34m,\u001b[0m \u001b[0msubresolutions\u001b[0m\u001b[0;34m=\u001b[0m\u001b[0;36m4\u001b[0m\u001b[0;34m)\u001b[0m\u001b[0;34m:\u001b[0m\u001b[0;34m\u001b[0m\n",
       "\u001b[0;34m\u001b[0m    \u001b[0;34m\"\"\"\u001b[0m\n",
       "\u001b[0;34m    data - (n_channels, height, width) or (timepoint, depth, n_channels, height, width)\u001b[0m\n",
       "\u001b[0;34m    \"\"\"\u001b[0m\u001b[0;34m\u001b[0m\n",
       "\u001b[0;34m\u001b[0m    \u001b[0;32massert\u001b[0m \u001b[0mdata\u001b[0m\u001b[0;34m.\u001b[0m\u001b[0mshape\u001b[0m\u001b[0;34m[\u001b[0m\u001b[0;34m-\u001b[0m\u001b[0;36m3\u001b[0m\u001b[0;34m]\u001b[0m \u001b[0;34m==\u001b[0m \u001b[0mlen\u001b[0m\u001b[0;34m(\u001b[0m\u001b[0mchannels\u001b[0m\u001b[0;34m)\u001b[0m\u001b[0;34m,\u001b[0m \u001b[0;34mf'number of channels is {len(channels)}, must be same length as first dimension of data which is {data.shape}'\u001b[0m\u001b[0;34m\u001b[0m\n",
       "\u001b[0;34m\u001b[0m\u001b[0;34m\u001b[0m\n",
       "\u001b[0;34m\u001b[0m    \u001b[0mo\u001b[0m \u001b[0;34m=\u001b[0m \u001b[0mcreate_ome_model\u001b[0m\u001b[0;34m(\u001b[0m\u001b[0mdata\u001b[0m\u001b[0;34m,\u001b[0m \u001b[0mchannels\u001b[0m\u001b[0;34m,\u001b[0m \u001b[0mmicrons_per_pixel\u001b[0m\u001b[0;34m,\u001b[0m \u001b[0;34m'µm'\u001b[0m\u001b[0;34m)\u001b[0m\u001b[0;34m\u001b[0m\n",
       "\u001b[0;34m\u001b[0m\u001b[0;34m\u001b[0m\n",
       "\u001b[0;34m\u001b[0m    \u001b[0mpattern\u001b[0m \u001b[0;34m=\u001b[0m \u001b[0;34m'c y x -> 1 1 c y x'\u001b[0m \u001b[0;32mif\u001b[0m \u001b[0mlen\u001b[0m\u001b[0;34m(\u001b[0m\u001b[0mdata\u001b[0m\u001b[0;34m.\u001b[0m\u001b[0mshape\u001b[0m\u001b[0;34m)\u001b[0m \u001b[0;34m==\u001b[0m \u001b[0;36m3\u001b[0m \u001b[0;32melse\u001b[0m \u001b[0;34m'... -> ...'\u001b[0m\u001b[0;34m\u001b[0m\n",
       "\u001b[0;34m\u001b[0m\u001b[0;34m\u001b[0m\n",
       "\u001b[0;34m\u001b[0m    \u001b[0;32mif\u001b[0m \u001b[0mlen\u001b[0m\u001b[0;34m(\u001b[0m\u001b[0mdata\u001b[0m\u001b[0;34m.\u001b[0m\u001b[0mshape\u001b[0m\u001b[0;34m)\u001b[0m \u001b[0;34m==\u001b[0m \u001b[0;36m5\u001b[0m\u001b[0;34m:\u001b[0m \u001b[0;31m# cant do pyramidal for 5 dims\u001b[0m\u001b[0;34m\u001b[0m\n",
       "\u001b[0;34m\u001b[0m        \u001b[0;32mwith\u001b[0m \u001b[0mtifffile\u001b[0m\u001b[0;34m.\u001b[0m\u001b[0mTiffWriter\u001b[0m\u001b[0;34m(\u001b[0m\u001b[0mfilepath\u001b[0m\u001b[0;34m,\u001b[0m \u001b[0mome\u001b[0m\u001b[0;34m=\u001b[0m\u001b[0;32mTrue\u001b[0m\u001b[0;34m,\u001b[0m \u001b[0mbigtiff\u001b[0m\u001b[0;34m=\u001b[0m\u001b[0;32mTrue\u001b[0m\u001b[0;34m)\u001b[0m \u001b[0;32mas\u001b[0m \u001b[0mout_tif\u001b[0m\u001b[0;34m:\u001b[0m\u001b[0;34m\u001b[0m\n",
       "\u001b[0;34m\u001b[0m            \u001b[0mopts\u001b[0m \u001b[0;34m=\u001b[0m \u001b[0;34m{\u001b[0m\u001b[0;34m\u001b[0m\n",
       "\u001b[0;34m\u001b[0m                \u001b[0;34m'compression'\u001b[0m\u001b[0;34m:\u001b[0m \u001b[0;34m'LZW'\u001b[0m\u001b[0;34m,\u001b[0m\u001b[0;34m\u001b[0m\n",
       "\u001b[0;34m\u001b[0m            \u001b[0;34m}\u001b[0m\u001b[0;34m\u001b[0m\n",
       "\u001b[0;34m\u001b[0m            \u001b[0mout_tif\u001b[0m\u001b[0;34m.\u001b[0m\u001b[0mwrite\u001b[0m\u001b[0;34m(\u001b[0m\u001b[0;34m\u001b[0m\n",
       "\u001b[0;34m\u001b[0m                \u001b[0mrearrange\u001b[0m\u001b[0;34m(\u001b[0m\u001b[0mdata\u001b[0m\u001b[0;34m,\u001b[0m \u001b[0mpattern\u001b[0m\u001b[0;34m)\u001b[0m\u001b[0;34m,\u001b[0m\u001b[0;34m\u001b[0m\n",
       "\u001b[0;34m\u001b[0m                \u001b[0;34m**\u001b[0m\u001b[0mopts\u001b[0m\u001b[0;34m\u001b[0m\n",
       "\u001b[0;34m\u001b[0m            \u001b[0;34m)\u001b[0m\u001b[0;34m\u001b[0m\n",
       "\u001b[0;34m\u001b[0m            \u001b[0mxml_str\u001b[0m \u001b[0;34m=\u001b[0m \u001b[0mto_xml\u001b[0m\u001b[0;34m(\u001b[0m\u001b[0mo\u001b[0m\u001b[0;34m)\u001b[0m\u001b[0;34m\u001b[0m\n",
       "\u001b[0;34m\u001b[0m            \u001b[0mout_tif\u001b[0m\u001b[0;34m.\u001b[0m\u001b[0moverwrite_description\u001b[0m\u001b[0;34m(\u001b[0m\u001b[0mxml_str\u001b[0m\u001b[0;34m.\u001b[0m\u001b[0mencode\u001b[0m\u001b[0;34m(\u001b[0m\u001b[0;34m)\u001b[0m\u001b[0;34m)\u001b[0m\u001b[0;34m\u001b[0m\n",
       "\u001b[0;34m\u001b[0m    \u001b[0;32melse\u001b[0m\u001b[0;34m:\u001b[0m\u001b[0;34m\u001b[0m\n",
       "\u001b[0;34m\u001b[0m        \u001b[0mwrite_pyramidal_ome\u001b[0m\u001b[0;34m(\u001b[0m\u001b[0mfilepath\u001b[0m\u001b[0;34m,\u001b[0m \u001b[0mdata\u001b[0m\u001b[0;34m,\u001b[0m \u001b[0mo\u001b[0m\u001b[0;34m,\u001b[0m \u001b[0msubresolutions\u001b[0m\u001b[0;34m=\u001b[0m\u001b[0msubresolutions\u001b[0m\u001b[0;34m)\u001b[0m\u001b[0;34m\u001b[0m\u001b[0;34m\u001b[0m\u001b[0m\n",
       "\u001b[0;31mFile:\u001b[0m      /data/estorrs/mushroom/mushroom/data/multiplex.py\n",
       "\u001b[0;31mType:\u001b[0m      function"
      ]
     },
     "metadata": {},
     "output_type": "display_data"
    }
   ],
   "source": [
    "??multiplex.write_basic_ome_tiff"
   ]
  },
  {
   "cell_type": "code",
   "execution_count": 9,
   "id": "7c476704-83ee-4e08-ab5b-47a783ecd3fa",
   "metadata": {},
   "outputs": [
    {
     "name": "stdout",
     "output_type": "stream",
     "text": [
      "SHELL=/bin/bash\n",
      "_fzf_orig_completion_tee=complete -F %s tee #_longopt\n",
      "_fzf_orig_completion_rm=complete -F %s rm #_longopt\n",
      "CONDA_BACKUP_GCC_NM=/data/estorrs/miniconda3/envs/mushroom/bin/x86_64-conda-linux-gnu-gcc-nm\n",
      "_fzf_orig_completion_rmdir=complete -F %s rmdir #_longopt\n",
      "TERM_PROGRAM_VERSION=3.2a\n",
      "CONDA_EXE=/data/estorrs/miniconda3/bin/conda\n",
      "_CE_M=\n",
      "TMUX=/tmp/tmux-1048/default,635111,3\n",
      "CONDA_BACKUP_LDFLAGS=-Wl,-O2 -Wl,--sort-common -Wl,--as-needed -Wl,-z,relro -Wl,-z,now -Wl,--disable-new-dtags -Wl,--gc-sections -Wl,-rpath,/data/estorrs/miniconda3/envs/mushroom/lib -Wl,-rpath-link,/data/estorrs/miniconda3/envs/mushroom/lib -L/data/estorrs/miniconda3/envs/mushroom/lib\n",
      "_fzf_orig_completion_uniq=complete -F %s uniq #_longopt\n",
      "CONDA_BACKUP_CONDA_BUILD_SYSROOT=/data/estorrs/miniconda3/envs/mushroom/x86_64-conda-linux-gnu/sysroot\n",
      "_fzf_orig_completion_ftp=complete -F %s ftp #_known_hosts\n",
      "CONDA_BACKUP_STRIP=/data/estorrs/miniconda3/envs/mushroom/bin/x86_64-conda-linux-gnu-strip\n",
      "CONDA_BACKUP_DEBUG_CFLAGS=-march=nocona -mtune=haswell -ftree-vectorize -fPIC -fstack-protector-all -fno-plt -Og -g -Wall -Wextra -fvar-tracking-assignments -ffunction-sections -pipe -isystem /data/estorrs/miniconda3/envs/mushroom/include\n",
      "CONDA_BACKUP_DEBUG_CPPFLAGS=-D_DEBUG -D_FORTIFY_SOURCE=2 -Og -isystem /data/estorrs/miniconda3/envs/mushroom/include\n",
      "CONDA_BACKUP_build_alias=x86_64-conda-linux-gnu\n",
      "_fzf_orig_completion_tail=complete -F %s tail #_longopt\n",
      "CONDA_BACKUP_ELFEDIT=/data/estorrs/miniconda3/envs/mushroom/bin/x86_64-conda-linux-gnu-elfedit\n",
      "CONDA_BACKUP_SIZE=/data/estorrs/miniconda3/envs/mushroom/bin/x86_64-conda-linux-gnu-size\n",
      "CONDA_BACKUP_BUILD=x86_64-conda-linux-gnu\n",
      "CONDA_BACKUP_CPP=/data/estorrs/miniconda3/envs/mushroom/bin/x86_64-conda-linux-gnu-cpp\n",
      "XML_CATALOG_FILES=file:///data/estorrs/miniconda3/envs/mushroom_v2/etc/xml/catalog file:///etc/xml/catalog\n",
      "_fzf_orig_completion_mv=complete -F %s mv #_longopt\n",
      "PWD=/data/estorrs/mushroom/notebooks/manuscript/submission_v1\n",
      "LOGNAME=estorrs\n",
      "XDG_SESSION_TYPE=tty\n",
      "CONDA_PREFIX=/data/estorrs/miniconda3/envs/mushroom_v2\n",
      "JPY_SESSION_NAME=/data/estorrs/mushroom/notebooks/manuscript/submission_v1/Untitled4.ipynb\n",
      "CONDA_BACKUP_AS=/data/estorrs/miniconda3/envs/mushroom/bin/x86_64-conda-linux-gnu-as\n",
      "CONDA_BACKUP_AR=/data/estorrs/miniconda3/envs/mushroom/bin/x86_64-conda-linux-gnu-ar\n",
      "_=/usr/bin/printenv\n",
      "CONDA_BACKUP_GPROF=/data/estorrs/miniconda3/envs/mushroom/bin/x86_64-conda-linux-gnu-gprof\n",
      "MOTD_SHOWN=pam\n",
      "_fzf_orig_completion_diff=complete -F %s diff #_longopt\n",
      "HOME=/home/estorrs\n",
      "LANG=en_US.UTF-8\n",
      "CONDA_BACKUP_ADDR2LINE=/data/estorrs/miniconda3/envs/mushroom/bin/x86_64-conda-linux-gnu-addr2line\n",
      "_fzf_orig_completion_awk=complete -F %s awk #_longopt\n",
      "LS_COLORS=rs=0:di=01;34:ln=01;36:mh=00:pi=40;33:so=01;35:do=01;35:bd=40;33;01:cd=40;33;01:or=40;31;01:mi=00:su=37;41:sg=30;43:ca=30;41:tw=30;42:ow=34;42:st=37;44:ex=01;32:*.tar=01;31:*.tgz=01;31:*.arc=01;31:*.arj=01;31:*.taz=01;31:*.lha=01;31:*.lz4=01;31:*.lzh=01;31:*.lzma=01;31:*.tlz=01;31:*.txz=01;31:*.tzo=01;31:*.t7z=01;31:*.zip=01;31:*.z=01;31:*.dz=01;31:*.gz=01;31:*.lrz=01;31:*.lz=01;31:*.lzo=01;31:*.xz=01;31:*.zst=01;31:*.tzst=01;31:*.bz2=01;31:*.bz=01;31:*.tbz=01;31:*.tbz2=01;31:*.tz=01;31:*.deb=01;31:*.rpm=01;31:*.jar=01;31:*.war=01;31:*.ear=01;31:*.sar=01;31:*.rar=01;31:*.alz=01;31:*.ace=01;31:*.zoo=01;31:*.cpio=01;31:*.7z=01;31:*.rz=01;31:*.cab=01;31:*.wim=01;31:*.swm=01;31:*.dwm=01;31:*.esd=01;31:*.jpg=01;35:*.jpeg=01;35:*.mjpg=01;35:*.mjpeg=01;35:*.gif=01;35:*.bmp=01;35:*.pbm=01;35:*.pgm=01;35:*.ppm=01;35:*.tga=01;35:*.xbm=01;35:*.xpm=01;35:*.tif=01;35:*.tiff=01;35:*.png=01;35:*.svg=01;35:*.svgz=01;35:*.mng=01;35:*.pcx=01;35:*.mov=01;35:*.mpg=01;35:*.mpeg=01;35:*.m2v=01;35:*.mkv=01;35:*.webm=01;35:*.webp=01;35:*.ogm=01;35:*.mp4=01;35:*.m4v=01;35:*.mp4v=01;35:*.vob=01;35:*.qt=01;35:*.nuv=01;35:*.wmv=01;35:*.asf=01;35:*.rm=01;35:*.rmvb=01;35:*.flc=01;35:*.avi=01;35:*.fli=01;35:*.flv=01;35:*.gl=01;35:*.dl=01;35:*.xcf=01;35:*.xwd=01;35:*.yuv=01;35:*.cgm=01;35:*.emf=01;35:*.ogv=01;35:*.ogx=01;35:*.aac=00;36:*.au=00;36:*.flac=00;36:*.m4a=00;36:*.mid=00;36:*.midi=00;36:*.mka=00;36:*.mp3=00;36:*.mpc=00;36:*.ogg=00;36:*.ra=00;36:*.wav=00;36:*.oga=00;36:*.opus=00;36:*.spx=00;36:*.xspf=00;36:\n",
      "_fzf_orig_completion_telnet=complete -F %s telnet #_known_hosts\n",
      "CONDA_BACKUP_OBJCOPY=/data/estorrs/miniconda3/envs/mushroom/bin/x86_64-conda-linux-gnu-objcopy\n",
      "CONDA_BACKUP_CFLAGS=-march=nocona -mtune=haswell -ftree-vectorize -fPIC -fstack-protector-strong -fno-plt -O2 -ffunction-sections -pipe -isystem /data/estorrs/miniconda3/envs/mushroom/include\n",
      "CONDA_BACKUP_HOST=x86_64-conda-linux-gnu\n",
      "_fzf_orig_completion_grep=complete -F %s grep #_longopt\n",
      "FORCE_COLOR=1\n",
      "CONDA_PROMPT_MODIFIER=(mushroom_v2) \n",
      "PYDEVD_USE_FRAME_EVAL=NO\n",
      "CONDA_BACKUP_LD=/data/estorrs/miniconda3/envs/mushroom/bin/x86_64-conda-linux-gnu-ld\n",
      "CLICOLOR=1\n",
      "CPL_ZIP_ENCODING=UTF-8\n",
      "CLICOLOR_FORCE=1\n",
      "CONDA_BACKUP_GCC=/data/estorrs/miniconda3/envs/mushroom/bin/x86_64-conda-linux-gnu-gcc\n",
      "SSH_CONNECTION=10.22.24.2 49816 10.22.24.83 22\n",
      "CONDA_BACKUP_CC=/data/estorrs/miniconda3/envs/mushroom/bin/x86_64-conda-linux-gnu-cc\n",
      "CONDA_BACKUP_NM=/data/estorrs/miniconda3/envs/mushroom/bin/x86_64-conda-linux-gnu-nm\n",
      "_fzf_orig_completion_du=complete -F %s du #_longopt\n",
      "_fzf_orig_completion_sort=complete -F %s sort #_longopt\n",
      "CONDA_BACKUP_LD_GOLD=/data/estorrs/miniconda3/envs/mushroom/bin/x86_64-conda-linux-gnu-ld.gold\n",
      "JPY_PARENT_PID=3170598\n",
      "KMP_DUPLICATE_LIB_OK=True\n",
      "LESSCLOSE=/usr/bin/lesspipe %s %s\n",
      "KMP_INIT_AT_FORK=FALSE\n",
      "XDG_SESSION_CLASS=user\n",
      "_fzf_orig_completion_cat=complete -F %s cat #_longopt\n",
      "CONDA_BACKUP_host_alias=x86_64-conda-linux-gnu\n",
      "CONDA_BACKUP_RANLIB=/data/estorrs/miniconda3/envs/mushroom/bin/x86_64-conda-linux-gnu-ranlib\n",
      "TERM=xterm-color\n",
      "_CE_CONDA=\n",
      "CONDA_BACKUP_GCC_RANLIB=/data/estorrs/miniconda3/envs/mushroom/bin/x86_64-conda-linux-gnu-gcc-ranlib\n",
      "CONDA_BACKUP_READELF=/data/estorrs/miniconda3/envs/mushroom/bin/x86_64-conda-linux-gnu-readelf\n",
      "LESSOPEN=| /usr/bin/lesspipe %s\n",
      "_fzf_orig_completion_ln=complete -F %s ln #_longopt\n",
      "USER=estorrs\n",
      "GIT_PAGER=cat\n",
      "CONDA_BACKUP_GCC_AR=/data/estorrs/miniconda3/envs/mushroom/bin/x86_64-conda-linux-gnu-gcc-ar\n",
      "_fzf_orig_completion_ld=complete -F %s ld #_longopt\n",
      "TMUX_PANE=%13\n",
      "_fzf_orig_completion_ls=complete -F %s ls #_longopt\n",
      "CONDA_BACKUP_CXXFILT=/data/estorrs/miniconda3/envs/mushroom/bin/x86_64-conda-linux-gnu-c++filt\n",
      "CONDA_SHLVL=1\n",
      "SHLVL=2\n",
      "CONDA_BACKUP_CMAKE_PREFIX_PATH=/data/estorrs/miniconda3/envs/mushroom:/data/estorrs/miniconda3/envs/mushroom/x86_64-conda-linux-gnu/sysroot/usr\n",
      "PAGER=cat\n",
      "GDAL_DRIVER_PATH=/data/estorrs/miniconda3/envs/mushroom_v2/lib/gdalplugins\n",
      "_fzf_orig_completion_pushd=complete -o nospace -F %s pushd #_cd\n",
      "XDG_SESSION_ID=1608\n",
      "PROJ_DATA=/data/estorrs/miniconda3/envs/mushroom_v2/share/proj\n",
      "CONDA_BACKUP_OBJDUMP=/data/estorrs/miniconda3/envs/mushroom/bin/x86_64-conda-linux-gnu-objdump\n",
      "CONDA_BACKUP_STRINGS=/data/estorrs/miniconda3/envs/mushroom/bin/x86_64-conda-linux-gnu-strings\n",
      "MPLBACKEND=module://matplotlib_inline.backend_inline\n",
      "CONDA_PYTHON_EXE=/data/estorrs/miniconda3/bin/python\n",
      "_fzf_orig_completion_vim=complete -F %s vim #_filedir_xspec\n",
      "CONDA_BACKUP_CC_FOR_BUILD=/data/estorrs/miniconda3/envs/mushroom/bin/x86_64-conda-linux-gnu-cc\n",
      "XDG_RUNTIME_DIR=/run/user/1048\n",
      "SSH_CLIENT=10.22.24.2 55402 22\n",
      "CONDA_BACKUP_CPPFLAGS=-DNDEBUG -D_FORTIFY_SOURCE=2 -O2 -isystem /data/estorrs/miniconda3/envs/mushroom/include\n",
      "CONDA_DEFAULT_ENV=mushroom_v2\n",
      "_fzf_orig_completion_cd=complete -o nospace -F %s cd #_cd\n",
      "_fzf_orig_completion_less=complete -F %s less #_longopt\n",
      "XDG_DATA_DIRS=/usr/local/share:/usr/share:/var/lib/snapd/desktop\n",
      "_fzf_orig_completion_cp=complete -F %s cp #_longopt\n",
      "GDAL_DATA=/data/estorrs/miniconda3/envs/mushroom_v2/share/gdal\n",
      "PATH=/data/estorrs/miniconda3/envs/mushroom_v2/bin:/home/estorrs/google-cloud-sdk/bin:/data/estorrs/miniconda3/condabin:/usr/local/sbin:/usr/local/bin:/usr/sbin:/usr/bin:/sbin:/bin:/usr/games:/usr/local/games:/snap/bin:/home/estorrs/.fzf/bin\n",
      "DBUS_SESSION_BUS_ADDRESS=unix:path=/run/user/1048/bus\n",
      "_fzf_orig_completion_sed=complete -F %s sed #_longopt\n",
      "SSH_TTY=/dev/pts/2\n",
      "_fzf_orig_completion_head=complete -F %s head #_longopt\n",
      "PROJ_NETWORK=ON\n",
      "_fzf_orig_completion_wc=complete -F %s wc #_longopt\n",
      "OLDPWD=/data/estorrs/mushroom\n",
      "TERM_PROGRAM=tmux\n"
     ]
    }
   ],
   "source": [
    "!printenv"
   ]
  },
  {
   "cell_type": "code",
   "execution_count": null,
   "id": "c8f81a6e-7b45-4aab-b48f-c59cb20900f2",
   "metadata": {},
   "outputs": [],
   "source": []
  }
 ],
 "metadata": {
  "kernelspec": {
   "display_name": "Python 3 (ipykernel)",
   "language": "python",
   "name": "python3"
  },
  "language_info": {
   "codemirror_mode": {
    "name": "ipython",
    "version": 3
   },
   "file_extension": ".py",
   "mimetype": "text/x-python",
   "name": "python",
   "nbconvert_exporter": "python",
   "pygments_lexer": "ipython3",
   "version": "3.10.15"
  }
 },
 "nbformat": 4,
 "nbformat_minor": 5
}
