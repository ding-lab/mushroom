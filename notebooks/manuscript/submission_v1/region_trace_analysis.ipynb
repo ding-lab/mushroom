{
 "cells": [
  {
   "cell_type": "code",
   "execution_count": null,
   "id": "d00d4da3",
   "metadata": {},
   "outputs": [],
   "source": [
    "import pickle\n",
    "import json\n",
    "import os\n",
    "import re\n",
    "import sys\n",
    "from copy import deepcopy\n",
    "from pathlib import Path\n",
    "\n",
    "import matplotlib.pyplot as plt\n",
    "import numpy as np\n",
    "import pandas as pd\n",
    "import skimage\n",
    "import tifffile\n",
    "import yaml\n",
    "from matplotlib.collections import PolyCollection\n",
    "from einops import rearrange, repeat\n",
    "from pydantic_extra_types.color import Color"
   ]
  },
  {
   "cell_type": "code",
   "execution_count": null,
   "id": "524ac119",
   "metadata": {},
   "outputs": [],
   "source": [
    "import matplotlib as mpl\n",
    "mpl.rcParams['pdf.fonttype'] = 42\n",
    "mpl.rcParams['svg.fonttype'] = 'none'"
   ]
  },
  {
   "cell_type": "code",
   "execution_count": null,
   "id": "7e4ab32f",
   "metadata": {},
   "outputs": [],
   "source": [
    "%load_ext autoreload"
   ]
  },
  {
   "cell_type": "code",
   "execution_count": null,
   "id": "70fa2851",
   "metadata": {},
   "outputs": [],
   "source": [
    "%autoreload 2"
   ]
  },
  {
   "cell_type": "code",
   "execution_count": null,
   "id": "ad713538",
   "metadata": {},
   "outputs": [],
   "source": [
    "from mushroom.mushroom import Mushroom, DEFAULT_CONFIG\n",
    "import mushroom.utils as utils\n",
    "import mushroom.visualization.utils as vis_utils\n",
    "import mushroom.data.multiplex as multiplex\n",
    "import mushroom.data.visium as visium\n",
    "import mushroom.data.xenium as xenium\n",
    "import mushroom.data.cosmx as cosmx\n",
    "import mushroom.visualization.tiling_utils as tiling_utils"
   ]
  },
  {
   "cell_type": "code",
   "execution_count": null,
   "id": "29ec9025",
   "metadata": {},
   "outputs": [],
   "source": [
    "source_root = '/diskmnt/Projects/Users/estorrs/mushroom/data'\n",
    "target_root = '/data/estorrs/mushroom/data'"
   ]
  },
  {
   "cell_type": "code",
   "execution_count": null,
   "id": "9c548776",
   "metadata": {},
   "outputs": [],
   "source": [
    "run_dir = '/data/estorrs/mushroom/data/projects/submission_v1'"
   ]
  },
  {
   "cell_type": "code",
   "execution_count": null,
   "id": "8295d20e",
   "metadata": {},
   "outputs": [],
   "source": [
    "def alter_filesystem(config, source_root, target_root):\n",
    "    for entry in config['sections']:\n",
    "        for mapping in entry['data']:\n",
    "            mapping['filepath'] = mapping['filepath'].replace(source_root, target_root)\n",
    "        \n",
    "    return config"
   ]
  },
  {
   "cell_type": "code",
   "execution_count": null,
   "id": "053cddb9",
   "metadata": {},
   "outputs": [],
   "source": [
    "# case = 'HT913Z1'\n",
    "case = 'HT891Z1'\n",
    "# case = 'HT704B1'\n",
    "# case = 'HT206B1'\n",
    "# case = 'HT397B1'\n",
    "# case = 'HT413C1-Th1k4A1'"
   ]
  },
  {
   "cell_type": "code",
   "execution_count": null,
   "id": "f13fb183",
   "metadata": {},
   "outputs": [],
   "source": [
    "project_dir = Path(f'/data/estorrs/mushroom/data/projects/submission_v1/{case}')"
   ]
  },
  {
   "cell_type": "code",
   "execution_count": null,
   "id": "dcd6b122",
   "metadata": {},
   "outputs": [],
   "source": [
    "fig_dir = project_dir / 'figures' \n",
    "fig_dir.mkdir(parents=True, exist_ok=True)"
   ]
  },
  {
   "cell_type": "code",
   "execution_count": null,
   "id": "cc77a842",
   "metadata": {
    "scrolled": true
   },
   "outputs": [],
   "source": [
    "config = yaml.safe_load(open(os.path.join(project_dir, 'registered', 'metadata.yaml')))\n",
    "config = alter_filesystem(config, source_root, target_root)\n",
    "config"
   ]
  },
  {
   "cell_type": "code",
   "execution_count": null,
   "id": "48c3e286",
   "metadata": {},
   "outputs": [],
   "source": [
    "sid_to_z = {entry['sid']:i for i, entry in enumerate(config['sections'])}"
   ]
  },
  {
   "cell_type": "code",
   "execution_count": null,
   "id": "ab34481c",
   "metadata": {
    "code_folding": [
     1,
     38,
     75,
     112,
     156
    ]
   },
   "outputs": [],
   "source": [
    "case_to_multiplex_view_settings = {\n",
    "    'HT913Z1': [\n",
    "        {\n",
    "            'channel': 'E-Cadherin',\n",
    "            'color': 'red',\n",
    "            'min_value': 15,\n",
    "            'max_value': 100,\n",
    "            'gamma': 1.\n",
    "        },\n",
    "        {\n",
    "            'channel': 'HLA-DR',\n",
    "            'color': 'yellow',\n",
    "            'min_value': 15,\n",
    "            'max_value': 255,\n",
    "            'gamma': 1.\n",
    "        },\n",
    "        {\n",
    "            'channel': 'CK5',\n",
    "            'color': 'white',\n",
    "            'min_value': 15,\n",
    "            'max_value': 255,\n",
    "            'gamma': 1.\n",
    "        },\n",
    "        {\n",
    "            'channel': 'CD3e',\n",
    "            'color': 'green',\n",
    "            'min_value': 20,\n",
    "            'max_value': 75,\n",
    "            'gamma': 1.\n",
    "        },\n",
    "        {\n",
    "            'channel': 'CD68',\n",
    "            'color': 'cyan',\n",
    "            'min_value': 15,\n",
    "            'max_value': 255,\n",
    "            'gamma': 1.\n",
    "        },\n",
    "    ],\n",
    "    'HT891Z1': [\n",
    "        {\n",
    "            'channel': 'E-Cadherin',\n",
    "            'color': 'red',\n",
    "            'min_value': 15,\n",
    "            'max_value': 100,\n",
    "            'gamma': 1.\n",
    "        },\n",
    "        {\n",
    "            'channel': 'HLA-DR',\n",
    "            'color': 'yellow',\n",
    "            'min_value': 15,\n",
    "            'max_value': 255,\n",
    "            'gamma': 1.\n",
    "        },\n",
    "        {\n",
    "            'channel': 'CK5',\n",
    "            'color': 'white',\n",
    "            'min_value': 15,\n",
    "            'max_value': 255,\n",
    "            'gamma': 1.\n",
    "        },\n",
    "        {\n",
    "            'channel': 'CD3e',\n",
    "            'color': 'green',\n",
    "            'min_value': 20,\n",
    "            'max_value': 255,\n",
    "            'gamma': 1.\n",
    "        },\n",
    "        {\n",
    "            'channel': 'CD68',\n",
    "            'color': 'cyan',\n",
    "            'min_value': 15,\n",
    "            'max_value': 255,\n",
    "            'gamma': 1.\n",
    "        },\n",
    "    ],\n",
    "    'HT704B1': [\n",
    "        {\n",
    "            'channel': 'Pan-Cytokeratin',\n",
    "            'color': 'red',\n",
    "            'min_value': 15,\n",
    "            'max_value': 100,\n",
    "            'gamma': 1.\n",
    "        },\n",
    "        {\n",
    "            'channel': 'HLA-DR',\n",
    "            'color': 'yellow',\n",
    "            'min_value': 15,\n",
    "            'max_value': 255,\n",
    "            'gamma': 1.\n",
    "        },\n",
    "        {\n",
    "            'channel': 'Keratin 5',\n",
    "            'color': 'white',\n",
    "            'min_value': 15,\n",
    "            'max_value': 255,\n",
    "            'gamma': 1.\n",
    "        },\n",
    "        {\n",
    "            'channel': 'CD3e',\n",
    "            'color': 'green',\n",
    "            'min_value': 20,\n",
    "            'max_value': 255,\n",
    "            'gamma': 1.\n",
    "        },\n",
    "        {\n",
    "            'channel': 'CD68',\n",
    "            'color': 'cyan',\n",
    "            'min_value': 15,\n",
    "            'max_value': 255,\n",
    "            'gamma': 1.\n",
    "        },\n",
    "    ],\n",
    "    'HT206B1': [\n",
    "        {\n",
    "            'channel': 'Pan-Cytokeratin',\n",
    "            'color': 'red',\n",
    "            'min_value': 15,\n",
    "            'max_value': 100,\n",
    "            'gamma': 1.\n",
    "        },\n",
    "        {\n",
    "            'channel': 'HLA-DR',\n",
    "            'color': 'yellow',\n",
    "            'min_value': 15,\n",
    "            'max_value': 150,\n",
    "            'gamma': 1.\n",
    "        },\n",
    "        {\n",
    "            'channel': 'SMA (D)',\n",
    "            'color': 'white',\n",
    "            'min_value': 15,\n",
    "            'max_value': 150,\n",
    "            'gamma': 1.\n",
    "        },\n",
    "        {\n",
    "            'channel': 'Podoplanin (D)',\n",
    "            'color': 'white',\n",
    "            'min_value': 15,\n",
    "            'max_value': 65,\n",
    "            'gamma': 1.\n",
    "        },\n",
    "        {\n",
    "            'channel': 'CD4 (D)',\n",
    "            'color': 'green',\n",
    "            'min_value': 20,\n",
    "            'max_value': 165,\n",
    "            'gamma': 1.\n",
    "        },\n",
    "        {\n",
    "            'channel': 'CD45 (D)',\n",
    "            'color': 'cyan',\n",
    "            'min_value': 40,\n",
    "            'max_value': 130,\n",
    "            'gamma': 1.\n",
    "        },\n",
    "    ],\n",
    "    'HT397B1': [\n",
    "        {\n",
    "            'channel': 'Pan-Cytokeratin',\n",
    "            'color': 'red',\n",
    "            'min_value': 15,\n",
    "            'max_value': 255,\n",
    "            'gamma': 1.\n",
    "        },\n",
    "        {\n",
    "            'channel': 'HLA-DR',\n",
    "            'color': 'yellow',\n",
    "            'min_value': 20,\n",
    "            'max_value': 255,\n",
    "            'gamma': 1.\n",
    "        },\n",
    "        {\n",
    "            'channel': 'Keratin 14',\n",
    "            'color': 'white',\n",
    "            'min_value': 25,\n",
    "            'max_value': 100,\n",
    "            'gamma': 1.\n",
    "        },\n",
    "        {\n",
    "            'channel': 'CD8',\n",
    "            'color': 'green',\n",
    "            'min_value': 10,\n",
    "            'max_value': 31,\n",
    "            'gamma': 1.\n",
    "        },\n",
    "        {\n",
    "            'channel': 'CD45 (D)',\n",
    "            'color': 'cyan',\n",
    "            'min_value': 15,\n",
    "            'max_value': 35,\n",
    "            'gamma': 1.\n",
    "        },\n",
    "    ]\n",
    "}"
   ]
  },
  {
   "cell_type": "code",
   "execution_count": null,
   "id": "b2ff3dc2",
   "metadata": {},
   "outputs": [],
   "source": [
    "\n",
    "multiplex_view_settings = case_to_multiplex_view_settings[case]\n",
    "\n",
    "def get_multiplex_pseudo(fp, view_settings):\n",
    "    channels = [x['channel'] for x in view_settings]\n",
    "    colors = [x['color'] for x in view_settings]\n",
    "    min_values = [x['min_value'] for x in view_settings]\n",
    "    max_values = [x['max_value'] for x in view_settings]\n",
    "    gammas = [x['gamma'] for x in view_settings]\n",
    "    \n",
    "    channel_to_img = multiplex.extract_ome_tiff(fp, as_dict=True)\n",
    "    data = np.stack([channel_to_img[x] for x in channels])\n",
    "    \n",
    "    rgb = multiplex.to_pseudocolor(\n",
    "        data,\n",
    "        colors=colors,\n",
    "        min_values=min_values,\n",
    "        max_values=max_values,\n",
    "        gammas=gammas\n",
    "    )\n",
    "    \n",
    "    rgb *= 255.\n",
    "    rgb = rgb.astype(np.uint8)\n",
    "    \n",
    "    return rgb"
   ]
  },
  {
   "cell_type": "code",
   "execution_count": null,
   "id": "e9dfda56",
   "metadata": {
    "code_folding": [
     0,
     32,
     69,
     106,
     138,
     170
    ]
   },
   "outputs": [],
   "source": [
    "XENIUM_FOCUS_SETTINGS = [\n",
    "    {\n",
    "        'channel': 'DAPI',\n",
    "        'color': 'blue',\n",
    "        'min_value': 0,\n",
    "        'max_value': 100,\n",
    "        'gamma': 1.\n",
    "    },\n",
    "    {\n",
    "        'channel': 'ATP1A1/CD45/E-Cadherin',\n",
    "        'color': 'magenta',\n",
    "        'min_value': 0,\n",
    "        'max_value': 100,\n",
    "        'gamma': 1.\n",
    "    },\n",
    "                         {\n",
    "        'channel': '18S',\n",
    "        'color': 'yellow',\n",
    "        'min_value': 0,\n",
    "        'max_value': 50,\n",
    "        'gamma': 1.\n",
    "    },\n",
    "                         {\n",
    "        'channel': 'alphaSMA/Vimentin',\n",
    "        'color': 'green',\n",
    "        'min_value': 0,\n",
    "        'max_value': 100,\n",
    "        'gamma': 1.\n",
    "    },\n",
    "]\n",
    "\n",
    "case_to_xenium_view_settings = {\n",
    "    'HT913Z1': [\n",
    "        {\n",
    "            'channel': 'EPCAM',\n",
    "            'color': 'red',\n",
    "            'marker': '.',\n",
    "        },\n",
    "        {\n",
    "            'channel': 'HLA-DQB2',\n",
    "            'color': 'yellow',\n",
    "            'marker': 'v',\n",
    "        },\n",
    "        {\n",
    "            'channel': 'TP63',\n",
    "            'color': 'white',\n",
    "            'marker': 's',\n",
    "        },\n",
    "        {\n",
    "            'channel': 'KRT5',\n",
    "            'color': 'white',\n",
    "            'marker': 's',\n",
    "        },\n",
    "        {\n",
    "            'channel': 'CP',\n",
    "            'color': 'purple',\n",
    "            'marker': 'P',\n",
    "        },\n",
    "        {\n",
    "            'channel': 'CD3E',\n",
    "            'color': 'limegreen',\n",
    "            'marker': '*',\n",
    "        },\n",
    "        {\n",
    "            'channel': 'CD68',\n",
    "            'color': 'cyan',\n",
    "            'marker': 'D',\n",
    "        },\n",
    "    ],\n",
    "    'HT891Z1': [\n",
    "        {\n",
    "            'channel': 'EPCAM',\n",
    "            'color': 'red',\n",
    "            'marker': '.',\n",
    "        },\n",
    "        {\n",
    "            'channel': 'HLA-DQB2',\n",
    "            'color': 'yellow',\n",
    "            'marker': 'v',\n",
    "        },\n",
    "        {\n",
    "            'channel': 'TP63',\n",
    "            'color': 'white',\n",
    "            'marker': 's',\n",
    "        },\n",
    "        {\n",
    "            'channel': 'KRT5',\n",
    "            'color': 'white',\n",
    "            'marker': 's',\n",
    "        },\n",
    "        {\n",
    "            'channel': 'CP',\n",
    "            'color': 'purple',\n",
    "            'marker': 'P',\n",
    "        },\n",
    "        {\n",
    "            'channel': 'CD3E',\n",
    "            'color': 'limegreen',\n",
    "            'marker': '*',\n",
    "        },\n",
    "        {\n",
    "            'channel': 'CD68',\n",
    "            'color': 'cyan',\n",
    "            'marker': 'D',\n",
    "        },\n",
    "    ],\n",
    "    'HT704B1': [\n",
    "        {\n",
    "            'channel': 'EPCAM',\n",
    "            'color': 'red',\n",
    "            'marker': '.',\n",
    "        },\n",
    "        {\n",
    "            'channel': 'HLA-DQB2',\n",
    "            'color': 'yellow',\n",
    "            'marker': 'v',\n",
    "        },\n",
    "        {\n",
    "            'channel': 'KRT5',\n",
    "            'color': 'white',\n",
    "            'marker': 's',\n",
    "        },\n",
    "        {\n",
    "            'channel': 'TP63',\n",
    "            'color': 'white',\n",
    "            'marker': 's',\n",
    "        },\n",
    "        {\n",
    "            'channel': 'CD3E',\n",
    "            'color': 'limegreen',\n",
    "            'marker': '*',\n",
    "        },\n",
    "        {\n",
    "            'channel': 'CD68',\n",
    "            'color': 'cyan',\n",
    "            'marker': 'D',\n",
    "        },\n",
    "    ],\n",
    "    'HT206B1': [\n",
    "        {\n",
    "            'channel': 'EPCAM',\n",
    "            'color': 'red',\n",
    "            'marker': '.',\n",
    "        },\n",
    "        {\n",
    "            'channel': 'HLA-DQB2',\n",
    "            'color': 'yellow',\n",
    "            'marker': 'v',\n",
    "        },\n",
    "        {\n",
    "            'channel': 'ACTA2',\n",
    "            'color': 'white',\n",
    "            'marker': 's',\n",
    "        },\n",
    "        {\n",
    "            'channel': 'PDPN',\n",
    "            'color': 'white',\n",
    "            'marker': 's',\n",
    "        },\n",
    "        {\n",
    "            'channel': 'CD3E',\n",
    "            'color': 'limegreen',\n",
    "            'marker': '*',\n",
    "        },\n",
    "        {\n",
    "            'channel': 'CD68',\n",
    "            'color': 'cyan',\n",
    "            'marker': 'D',\n",
    "        },\n",
    "    ],\n",
    "    'HT397B1': [\n",
    "        {\n",
    "            'channel': 'EPCAM',\n",
    "            'color': 'red',\n",
    "            'marker': '.',\n",
    "        },\n",
    "        {\n",
    "            'channel': 'HLA-DQB2',\n",
    "            'color': 'yellow',\n",
    "            'marker': 'v',\n",
    "        },\n",
    "        {\n",
    "            'channel': 'KRT5',\n",
    "            'color': 'white',\n",
    "            'marker': 's',\n",
    "        },\n",
    "        {\n",
    "            'channel': 'CD3E',\n",
    "            'color': 'limegreen',\n",
    "            'marker': '*',\n",
    "        },\n",
    "        {\n",
    "            'channel': 'CD68',\n",
    "            'color': 'cyan',\n",
    "            'marker': 'D',\n",
    "        },\n",
    "    ],\n",
    "}\n",
    "\n",
    "xenium_view_settings = case_to_xenium_view_settings[case]\n",
    "\n",
    "def get_xenium_pseudo(morph_fp):\n",
    "    cs = multiplex.get_ome_tiff_channels(morph_fp)\n",
    "    if len(cs) == 1: # just nuclei\n",
    "        channels = ['DAPI']\n",
    "        colors = ['white']\n",
    "        min_values = [0.]\n",
    "        max_values = [100.]\n",
    "        gammas = [1.]\n",
    "    else: # multiple channels\n",
    "        channels = [x['channel'] for x in XENIUM_FOCUS_SETTINGS]\n",
    "        colors = [x['color'] for x in XENIUM_FOCUS_SETTINGS]\n",
    "        min_values = [x['min_value'] for x in XENIUM_FOCUS_SETTINGS]\n",
    "        max_values = [x['max_value'] for x in XENIUM_FOCUS_SETTINGS]\n",
    "        gammas = [x['gamma'] for x in XENIUM_FOCUS_SETTINGS]\n",
    "    \n",
    "    channel_to_img = multiplex.extract_ome_tiff(morph_fp, as_dict=True)\n",
    "    data = np.stack([channel_to_img[x] for x in channels])\n",
    "    \n",
    "    rgb = multiplex.to_pseudocolor(\n",
    "        data,\n",
    "        colors=colors,\n",
    "        min_values=min_values,\n",
    "        max_values=max_values,\n",
    "        gammas=gammas\n",
    "    )\n",
    "    \n",
    "    rgb *= 255.\n",
    "    rgb = rgb.astype(np.uint8)\n",
    "    \n",
    "    return rgb\n",
    "\n",
    "def plot_xenium_pseudo(ax, rgb, transcripts, view_settings, s=.1):\n",
    "    ax.imshow(rgb)\n",
    "    \n",
    "    if not isinstance(transcripts, pd.DataFrame):\n",
    "        transcripts = pd.read_parquet(transcripts)\n",
    "        \n",
    "    pool = set(transcripts['feature_name'])\n",
    "    for entry in view_settings:\n",
    "        color = np.asarray(Color(entry['color']).as_rgb_tuple()) / 255.\n",
    "        channel = entry['channel']\n",
    "        marker = entry['marker']\n",
    "        \n",
    "        if channel in pool:\n",
    "            small = transcripts[transcripts['feature_name']==channel]\n",
    "            X = small[['y_location', 'x_location']].values.astype(int)\n",
    "            ax.scatter(X[:, 1], X[:, 0], color=color, s=s, marker=marker, edgecolors='none')\n",
    "    return ax\n",
    "\n",
    "def add_transcripts_to_rgb(rgb, transcripts, xenium_view_settings, pt_scaler=50):\n",
    "    if not isinstance(transcripts, pd.DataFrame):\n",
    "        transcripts = pd.read_parquet(transcripts)\n",
    "\n",
    "    size = (rgb.shape[1] / 1000, rgb.shape[0] / 1000)\n",
    "    fig, ax = plt.subplots(figsize=(rgb.shape[1] / 1000, rgb.shape[0] / 1000))\n",
    "    ax.set_axis_off()\n",
    "    ax = plot_xenium_pseudo(ax, rgb, transcripts, xenium_view_settings, s=size[0] / pt_scaler)\n",
    "    plt.savefig('temp.tif', bbox_inches='tight', pad_inches=0, dpi=int(1000 * 1.2987411728584588))\n",
    "    rgb = tifffile.imread('temp.tif')\n",
    "    os.remove('temp.tif')\n",
    "    \n",
    "    if rgb.shape[-1] == 4:\n",
    "        rgb = rgb[..., :-1]\n",
    "    \n",
    "    return rgb\n",
    "\n"
   ]
  },
  {
   "cell_type": "code",
   "execution_count": null,
   "id": "d886b6e0",
   "metadata": {},
   "outputs": [],
   "source": [
    "if case in ['HT397B1']:\n",
    "    target_size = tifffile.imread(config['sections'][1]['data'][0]['filepath']).shape[1:]\n",
    "    target_size = [int(x * .5) for x in target_size]\n",
    "else:\n",
    "    target_size = xenium.get_fullres_size(xenium.adata_from_xenium(config['sections'][0]['data'][0]['filepath']))\n",
    "\n",
    "target_size"
   ]
  },
  {
   "cell_type": "code",
   "execution_count": null,
   "id": "c789f5a8",
   "metadata": {},
   "outputs": [],
   "source": [
    "imaris_dir = project_dir / 'imaris' / 'rois'\n",
    "imaris_dir.mkdir(parents=True, exist_ok=True)"
   ]
  },
  {
   "cell_type": "code",
   "execution_count": null,
   "id": "4bc84b09",
   "metadata": {},
   "outputs": [],
   "source": [
    "case_to_rois = {\n",
    "    'HT891Z1': {\n",
    "        'roi1': (1300, 2100, 2500, 3500),\n",
    "        'roi2': (4650, 5650, 1900, 2900),\n",
    "        'roi2-p2': (4650, 5650, 1900, 2900),\n",
    "    }\n",
    "}"
   ]
  },
  {
   "cell_type": "code",
   "execution_count": null,
   "id": "3df39fda",
   "metadata": {},
   "outputs": [],
   "source": [
    "roi = 'roi2'"
   ]
  },
  {
   "cell_type": "code",
   "execution_count": null,
   "id": "228a4fd6",
   "metadata": {},
   "outputs": [],
   "source": [
    "R1, R2, C1, C2 = case_to_rois[case][roi]\n",
    "rgbs = []\n",
    "for i, section in enumerate(config['sections']):\n",
    "    print(i, section['sid'])\n",
    "    sid = section['sid']\n",
    "    for entry in section['data']:\n",
    "        dtype = entry['dtype']\n",
    "        fp = entry['filepath']\n",
    "        position = section['position']\n",
    "\n",
    "        if dtype in ['he', 'batch2_he']: \n",
    "            rgb = tifffile.imread(fp)\n",
    "            if rgb.shape[0] <= 4:\n",
    "                rgb = rearrange(rgb, 'c h w -> h w c')\n",
    "        elif dtype == 'xenium':\n",
    "            transcripts_fp = fp.replace('.h5ad', '_transcripts.parquet')\n",
    "            morph_fp = fp.replace('.h5ad', '_morphologyfocus.ome.tiff')\n",
    "            assert Path(transcripts_fp).exists()\n",
    "            assert Path(morph_fp).exists()\n",
    "            rgb = get_xenium_pseudo(morph_fp)\n",
    "            rgb = add_transcripts_to_rgb(rgb, transcripts_fp, xenium_view_settings)\n",
    "\n",
    "        elif dtype == 'multiplex':\n",
    "            rgb = get_multiplex_pseudo(\n",
    "                fp,\n",
    "                multiplex_view_settings\n",
    "            )\n",
    "        else:\n",
    "            rgb = None\n",
    "\n",
    "        if rgb is not None:\n",
    "            if rgb.shape[:2] != target_size:\n",
    "                rgb = utils.rescale(rgb, size=target_size, dim_order='h w c', target_dtype=rgb.dtype)\n",
    "            rgbs.append(rgb[R1:R2, C1:C2])\n"
   ]
  },
  {
   "cell_type": "code",
   "execution_count": null,
   "id": "dc70ddd5",
   "metadata": {},
   "outputs": [],
   "source": [
    "stacked = np.stack(rgbs)\n",
    "stacked.shape"
   ]
  },
  {
   "cell_type": "code",
   "execution_count": null,
   "id": "62f100c3",
   "metadata": {},
   "outputs": [],
   "source": [
    "multiplex.write_basic_ome_tiff(\n",
    "    imaris_dir / f'{roi}.ome.tif',\n",
    "    rearrange(stacked, 'z h w c -> 1 z c h w'),\n",
    "    ['red', 'green', 'blue'],\n",
    "    1.\n",
    ")"
   ]
  },
  {
   "cell_type": "code",
   "execution_count": null,
   "id": "1db2bc3d",
   "metadata": {},
   "outputs": [],
   "source": [
    "sid_to_rgb = {entry['sid']:x for entry, x in zip(config['sections'], stacked)}"
   ]
  },
  {
   "cell_type": "code",
   "execution_count": null,
   "id": "a0d6e369",
   "metadata": {},
   "outputs": [],
   "source": [
    "for i, (sid, rgb) in enumerate(sid_to_rgb.items()):\n",
    "    print(i, sid)\n",
    "    plt.imshow(rgb)\n",
    "    plt.axis('off')\n",
    "    plt.show()"
   ]
  },
  {
   "cell_type": "code",
   "execution_count": null,
   "id": "38b1f98f",
   "metadata": {},
   "outputs": [],
   "source": [
    "dtype_to_channels = {\n",
    "    'xenium': [],\n",
    "    'multiplex': []\n",
    "}\n",
    "for dtype in dtype_to_channels.keys():\n",
    "    fps = [entry['data'][0]['filepath'] for entry in config['sections'] if entry['data'][0]['dtype']==dtype]\n",
    "    if 'multiplex' in dtype:\n",
    "        dtype_to_channels[dtype] = multiplex.get_common_channels(fps)\n",
    "    else:\n",
    "        dtype_to_channels[dtype] = xenium.get_common_channels(fps)\n",
    "dtype_to_channels"
   ]
  },
  {
   "cell_type": "code",
   "execution_count": null,
   "id": "19159f6b",
   "metadata": {},
   "outputs": [],
   "source": [
    "fullres_size = xenium.get_fullres_size(xenium.adata_from_xenium(config['sections'][0]['data'][0]['filepath']))\n",
    "tiling_size = 10\n",
    "tiling_resolution = tiling_size\n",
    "size = [x // tiling_size for x in fullres_size]\n",
    "size"
   ]
  },
  {
   "cell_type": "code",
   "execution_count": null,
   "id": "a4570a9d",
   "metadata": {},
   "outputs": [],
   "source": [
    "dtype_to_tiled = {}\n",
    "for dtype, channels in dtype_to_channels.items():\n",
    "    dtype_to_tiled[dtype] = tiling_utils.get_tiled_sections(\n",
    "        config, dtype=dtype, channel_names=channels,\n",
    "        tiling_size=tiling_size, target_size=size, use_transcripts=True\n",
    "    )\n",
    "for dtype, tiled in dtype_to_tiled.items():\n",
    "    print(dtype, tiled.shape)"
   ]
  },
  {
   "cell_type": "code",
   "execution_count": null,
   "id": "b6930622",
   "metadata": {},
   "outputs": [],
   "source": [
    "sid_to_tiled, sid_to_dtype = {}, {}\n",
    "for dtype in dtype_to_channels.keys():\n",
    "    tiled = dtype_to_tiled[dtype]\n",
    "    sids = [entry['sid'] for entry in config['sections'] if entry['data'][0]['dtype']==dtype]\n",
    "    for sid, t in zip(sids, tiled):\n",
    "        sid_to_tiled[sid] = t / t.std(axis=(-2, -1), keepdims=True)\n",
    "        sid_to_dtype[sid] = dtype\n",
    "sid_to_tiled.keys()"
   ]
  },
  {
   "cell_type": "code",
   "execution_count": null,
   "id": "c4c57d1e",
   "metadata": {},
   "outputs": [],
   "source": [
    "def load_regions(regions_fp):\n",
    "    regions = json.load(open(regions_fp))['features'] \n",
    "    regions = [{'id': x['id'], 'z': x['geometry']['plane']['z'] if 'plane' in x['geometry'] else 0, 'coordinates': np.asarray(x['geometry']['coordinates'])}\n",
    "               for x in regions]\n",
    "    regions = [x for x in regions if len(x['coordinates'].shape) == 3]\n",
    "    for x in regions:\n",
    "        x['coordinates'] = x['coordinates'][0][:, [1, 0]]\n",
    "        x['mask'] = skimage.draw.polygon2mask(stacked.shape[1:3], x['coordinates'])\n",
    "\n",
    "    return regions"
   ]
  },
  {
   "cell_type": "code",
   "execution_count": null,
   "id": "1a1a88ad",
   "metadata": {},
   "outputs": [],
   "source": [
    "regions_fp = imaris_dir / f'{roi}.geojson'\n",
    "regions = load_regions(regions_fp)\n",
    "\n",
    "len(regions), regions[0].keys()"
   ]
  },
  {
   "cell_type": "code",
   "execution_count": null,
   "id": "61440e27",
   "metadata": {},
   "outputs": [],
   "source": [
    "for sid, x in sid_to_tiled.items():\n",
    "    if sid_to_dtype[sid] == 'xenium':\n",
    "        # gpc1\n",
    "        print(sid, x.shape, x[dtype_to_channels['xenium'].index('GPC1')].sum())"
   ]
  },
  {
   "cell_type": "code",
   "execution_count": null,
   "id": "12802bc1",
   "metadata": {},
   "outputs": [],
   "source": [
    "# roi = f'{roi}-p2'"
   ]
  },
  {
   "cell_type": "code",
   "execution_count": null,
   "id": "c7f7abbd",
   "metadata": {},
   "outputs": [],
   "source": [
    "blank = np.zeros(size, dtype=bool)\n",
    "z_to_regions_mask = {}\n",
    "for region in regions:\n",
    "    if region['z'] not in z_to_regions_mask:\n",
    "        z_to_regions_mask[region['z']] = blank.copy()\n",
    "\n",
    "    coords = region['coordinates'] + np.asarray([R1, C1])\n",
    "    coords //= tiling_resolution\n",
    "    mask = skimage.draw.polygon2mask(size, coords)\n",
    "    z_to_regions_mask[region['z']] |= mask"
   ]
  },
  {
   "cell_type": "code",
   "execution_count": null,
   "id": "c6e717e9",
   "metadata": {},
   "outputs": [],
   "source": [
    "dtype_to_epi = case_to_dtype_to_epi[case]\n",
    "local_r1, local_r2, local_c1, local_c2 = [x // tiling_resolution for x in [R1, R2, C1, C2]]\n",
    "for region in regions:\n",
    "    sid = config['sections'][region['z']]['sid']\n",
    "    region['position'] = config['sections'][region['z']]['position']\n",
    "    if sid in sid_to_tiled:\n",
    "        tiled = sid_to_tiled[sid]\n",
    "        dtype = sid_to_dtype[sid]\n",
    "        channels = dtype_to_channels[dtype]\n",
    "        regions_mask = z_to_regions_mask[region['z']]\n",
    "\n",
    "        coords = region['coordinates'] + np.asarray([R1, C1])\n",
    "        coords //= tiling_resolution\n",
    "        mask = skimage.draw.polygon2mask(tiled.shape[-2:], coords)\n",
    "\n",
    "        outer = mask.copy()\n",
    "        for i in range(1):\n",
    "            outer = skimage.morphology.binary_dilation(outer)\n",
    "        inner = mask.copy()\n",
    "        for i in range(1):\n",
    "            inner = skimage.morphology.binary_erosion(inner)\n",
    "        expanded = mask.copy()\n",
    "        for i in range(5):\n",
    "            expanded = skimage.morphology.binary_dilation(expanded)\n",
    "            \n",
    "        means = tiled[:, mask].mean(1)\n",
    "        fracs = np.count_nonzero(tiled[:, mask] > 0, axis=1) / np.count_nonzero(mask)\n",
    "\n",
    "        ring = outer ^ inner\n",
    "        ring_means = tiled[:, ring].mean(1)\n",
    "        ring_fracs = np.count_nonzero(tiled[:, ring] > 0, axis=1) / np.count_nonzero(ring)\n",
    "\n",
    "        tme = expanded ^ outer\n",
    "        tme = tme ^ regions_mask\n",
    "        tme_means = tiled[:, tme].mean(1)\n",
    "        tme_fracs = np.count_nonzero(tiled[:, tme] > 0, axis=1) / np.count_nonzero(tme)\n",
    "\n",
    "        region['fracs'] = fracs\n",
    "        region['means'] = means\n",
    "        region['fracs_ring'] = tme_means\n",
    "        region['means_ring'] = tme_fracs\n",
    "        region['fracs_tme'] = tme_means\n",
    "        region['means_tme'] = tme_fracs\n",
    "        region['dtype'] = dtype\n",
    "        region['channels'] = channels\n",
    "        region['ring'] = ring\n",
    "        region['tme'] = tme\n",
    "        region['m'] = mask\n",
    "        \n",
    "    region['sid'] = sid\n",
    "        \n",
    "        \n"
   ]
  },
  {
   "cell_type": "code",
   "execution_count": null,
   "id": "6c59a504",
   "metadata": {},
   "outputs": [],
   "source": [
    "region_id_to_region = {x['id']:x for x in regions}"
   ]
  },
  {
   "cell_type": "code",
   "execution_count": null,
   "id": "a671c64d",
   "metadata": {},
   "outputs": [],
   "source": [
    "\n",
    "# cmap = plt.colormaps['viridis_r']\n",
    "# facecolors = [cmap(x) for x in vals]\n"
   ]
  },
  {
   "cell_type": "code",
   "execution_count": null,
   "id": "eaf293f1",
   "metadata": {},
   "outputs": [],
   "source": [
    "case_to_zeniths = {\n",
    "    'HT891Z1': {\n",
    "        'roi1': 80,\n",
    "        'roi2': 80,\n",
    "        'roi2-p2': 80\n",
    "    }\n",
    "}"
   ]
  },
  {
   "cell_type": "code",
   "execution_count": null,
   "id": "a9037a6c",
   "metadata": {
    "scrolled": false
   },
   "outputs": [],
   "source": [
    "ax = plt.figure(figsize=(10, 10)).add_subplot(projection='3d')\n",
    "\n",
    "coords = [x['coordinates'] for x in regions]\n",
    "zs = [x['position'] for x in regions]\n",
    "facecolors = [(.5, .5, .5, 1.) for i in range(len(zs))]\n",
    "poly = PolyCollection(coords, facecolors=facecolors, alpha=.7, edgecolor=(.2, .2, .2, 1.))\n",
    "\n",
    "ax.set(xlim=(0, C2 - C1), ylim=(0, R2 - R1), zlim=(0, max(zs)))\n",
    "ax.add_collection3d(poly, zs=zs, zdir='z')\n",
    "ax.view_init(elev=10., azim=case_to_zeniths[case][roi])\n",
    "ax.invert_zaxis()\n",
    "plt.show()"
   ]
  },
  {
   "cell_type": "markdown",
   "id": "21d5a385",
   "metadata": {
    "heading_collapsed": true
   },
   "source": [
    "#### path from connectivity annotations"
   ]
  },
  {
   "cell_type": "code",
   "execution_count": null,
   "id": "ef13fb12",
   "metadata": {
    "hidden": true
   },
   "outputs": [],
   "source": [
    "connectivity_fp = imaris_dir / f'{roi}_aligned.geojson'\n",
    "conn_regions = load_regions(connectivity_fp)\n",
    "\n",
    "len(conn_regions), conn_regions[0].keys()"
   ]
  },
  {
   "cell_type": "code",
   "execution_count": null,
   "id": "e60fc334",
   "metadata": {
    "hidden": true
   },
   "outputs": [],
   "source": [
    "assert len(set([x['id'] for x in conn_regions]).intersection(set([x['id'] for x in regions]))) == len(regions)"
   ]
  },
  {
   "cell_type": "code",
   "execution_count": null,
   "id": "5513149f",
   "metadata": {
    "hidden": true
   },
   "outputs": [],
   "source": [
    "# def regions_to_volume(regions):\n",
    "#     zs = [region['z'] for region in regions]\n",
    "#     rgb = next(iter(sid_to_rgb.values()))\n",
    "#     labeled = np.zeros((max(zs) + 1, *rgb.shape[:2]))\n",
    "#     region_id_to_label = {}\n",
    "#     for i, region in enumerate(regions):\n",
    "#         sid = config['sections'][region['z']]['sid']\n",
    "#         coords = region['coordinates'] + np.asarray([r1, c1])\n",
    "#         coords //= tiling_resolution\n",
    "#         mask = skimage.draw.polygon2mask(rgb.shape[:2], coords)\n",
    "#         labeled[region['z'], mask] = i + 1\n",
    "#         region_id_to_label[region['id']] = i + 1\n",
    "\n",
    "#     return labeled.astype(int), region_id_to_label\n",
    "def regions_to_volume(regions):\n",
    "    zs = [region['z'] for region in regions]\n",
    "    h, w = R2 - R1, C2 - C1\n",
    "    labeled = np.zeros((max(zs) + 1, h, w))\n",
    "    region_id_to_label = {}\n",
    "    for i, region in enumerate(regions):\n",
    "        sid = config['sections'][region['z']]['sid']\n",
    "        coords = region['coordinates']\n",
    "        mask = skimage.draw.polygon2mask((h, w), coords)\n",
    "        labeled[region['z'], mask] = i + 1\n",
    "        region_id_to_label[region['id']] = i + 1\n",
    "\n",
    "    return labeled.astype(int), region_id_to_label"
   ]
  },
  {
   "cell_type": "code",
   "execution_count": null,
   "id": "055e9297",
   "metadata": {
    "hidden": true
   },
   "outputs": [],
   "source": [
    "labeled, region_id_to_label = regions_to_volume(conn_regions)\n",
    "label_to_region_id = {v:k for k, v in region_id_to_label.items()}"
   ]
  },
  {
   "cell_type": "code",
   "execution_count": null,
   "id": "6d7cc904",
   "metadata": {
    "hidden": true
   },
   "outputs": [],
   "source": [
    "def graph_from_labeled(labeled):\n",
    "    edges = []\n",
    "    for i in range(labeled.shape[0]):\n",
    "        m1, m3 = None, None\n",
    "        m2 = labeled[i]\n",
    "        if i == 0:\n",
    "            m3 = labeled[i + 1]\n",
    "        elif i == labeled.shape[0] - 1:\n",
    "            m1 = labeled[i - 1]\n",
    "        else:\n",
    "            m1 = labeled[i - 1]\n",
    "            m3 = labeled[i + 1]\n",
    "        \n",
    "        labels = [l for l in np.unique(m2) if l]\n",
    "        for label in labels:\n",
    "            if m1 is not None:\n",
    "                overlap = [l for l in np.unique(m1[m2==label]) if l]\n",
    "                for l in overlap:\n",
    "                    edges.append((label, l))\n",
    "            if m3 is not None:\n",
    "                overlap = [l for l in np.unique(m3[m2==label]) if l]\n",
    "                for l in overlap:\n",
    "                    edges.append((label, l))\n",
    "        \n",
    "    return edges"
   ]
  },
  {
   "cell_type": "code",
   "execution_count": null,
   "id": "5ff53e06",
   "metadata": {
    "hidden": true
   },
   "outputs": [],
   "source": [
    "edges = graph_from_labeled(labeled)"
   ]
  },
  {
   "cell_type": "code",
   "execution_count": null,
   "id": "feb224dc",
   "metadata": {
    "hidden": true
   },
   "outputs": [],
   "source": [
    "import networkx as nx"
   ]
  },
  {
   "cell_type": "code",
   "execution_count": null,
   "id": "967826fd",
   "metadata": {
    "hidden": true
   },
   "outputs": [],
   "source": [
    "G = nx.Graph()\n",
    "G.add_edges_from(edges)"
   ]
  },
  {
   "cell_type": "code",
   "execution_count": null,
   "id": "997f9c3b",
   "metadata": {
    "hidden": true
   },
   "outputs": [],
   "source": [
    "terminals = [k for k, v in G.adj.items() if len(v) == 1]\n",
    "terminals"
   ]
  },
  {
   "cell_type": "code",
   "execution_count": null,
   "id": "77d22109",
   "metadata": {
    "hidden": true
   },
   "outputs": [],
   "source": [
    "[c for c in sorted(nx.connected_components(G), key=len, reverse=True)]"
   ]
  },
  {
   "cell_type": "code",
   "execution_count": null,
   "id": "cdf94267",
   "metadata": {
    "hidden": true
   },
   "outputs": [],
   "source": [
    "assert len(list(nx.connected_components(G))) == 1"
   ]
  },
  {
   "cell_type": "code",
   "execution_count": null,
   "id": "347586eb",
   "metadata": {
    "hidden": true
   },
   "outputs": [],
   "source": [
    "# missing = []\n",
    "# for i, x in enumerate(labeled):\n",
    "#     m = np.zeros_like(x, dtype=bool)\n",
    "#     for node in missing:\n",
    "#         m |= x==node\n",
    "#     plt.imshow(m)\n",
    "#     plt.title(i)\n",
    "#     plt.show()"
   ]
  },
  {
   "cell_type": "code",
   "execution_count": null,
   "id": "a2bb0d59",
   "metadata": {
    "hidden": true
   },
   "outputs": [],
   "source": [
    "fig, ax = plt.subplots(figsize=(10, 10))\n",
    "nx.draw_networkx(G, font_size=6, node_size=100)"
   ]
  },
  {
   "cell_type": "code",
   "execution_count": null,
   "id": "b669f959",
   "metadata": {
    "hidden": true
   },
   "outputs": [],
   "source": [
    "case_to_endpoints = {\n",
    "    'HT891Z1': {\n",
    "        'roi1': ('f6032595-1fd0-44c2-82b0-72a3fac80f03', '18073a83-5d22-4c2a-8cc8-e1b27a4de88e')\n",
    "    }\n",
    "}"
   ]
  },
  {
   "cell_type": "code",
   "execution_count": null,
   "id": "57cd2209",
   "metadata": {
    "hidden": true
   },
   "outputs": [],
   "source": [
    "endpoints = case_to_endpoints[case][roi]"
   ]
  },
  {
   "cell_type": "code",
   "execution_count": null,
   "id": "e626b073",
   "metadata": {
    "hidden": true
   },
   "outputs": [],
   "source": [
    "n1, n2 = endpoints\n",
    "path = nx.algorithms.shortest_path(G, region_id_to_label[n1], region_id_to_label[n2])\n",
    "path"
   ]
  },
  {
   "cell_type": "code",
   "execution_count": null,
   "id": "0a0ffb65",
   "metadata": {
    "hidden": true
   },
   "outputs": [],
   "source": [
    "keep = [label_to_region_id[l] for l in path]"
   ]
  },
  {
   "cell_type": "markdown",
   "id": "8a779fd9",
   "metadata": {},
   "source": [
    "#### user defined path"
   ]
  },
  {
   "cell_type": "code",
   "execution_count": null,
   "id": "b9d247da",
   "metadata": {
    "scrolled": true
   },
   "outputs": [],
   "source": [
    "keep = re.split(r'\\nObject ID\\t', \"\"\"\n",
    "Object ID\t2a3facce-de6a-43a7-926b-8fbe42ed75b0\n",
    "Object ID\tf5c166e7-d9db-4bad-b55f-73a0f0799d60\n",
    "Object ID\tcb76f6eb-6278-452d-bb4d-9726d650aec9\n",
    "Object ID\t24000119-0a82-45c1-8505-dc90901e014f\n",
    "Object ID\te5d1214b-8f62-403c-833a-53032515931c\n",
    "Object ID\tcbf8e855-8a31-4990-b144-064f544d3066\n",
    "Object ID\t0070e7b1-9e6b-4cda-af13-b5d6238e97ed\n",
    "Object ID\t686d4c90-0af6-467a-9134-39f483b04c28\n",
    "Object ID\tf8919fee-046b-436a-b728-94c76c3a153b\n",
    "Object ID\tacaef067-ff89-4676-b10c-6b5f4fd6560e\n",
    "Object ID\tcdef0207-f9b5-4a6b-bdf5-bde6df9f9282\n",
    "Object ID\tacaef067-ff89-4676-b10c-6b5f4fd6560e\n",
    "Object ID\tf47c43ed-3e83-4a2f-86d6-aed44f1316c4\n",
    "Object ID\ta29d8f43-06d4-4e0f-a059-8a4b9fbf959f\n",
    "Object ID\tdb3c0014-4c41-49db-9d74-e88f28041aee\n",
    "Object ID\t60111347-4dcd-465d-8537-82cb1cc5484e\n",
    "Object ID\tdc5f3e39-0bea-41d3-b152-8d91c0e1ca17\n",
    "Object ID\t34b75982-a611-4e25-a583-bf10aafdd5bc\n",
    "Object ID\t227dad79-9f9d-465b-8543-0605892b42b3\n",
    "Object ID\tc4380e8c-f7ad-4cfc-a4f3-ed430ec2c1bc\n",
    "Object ID\tb5c5ff29-07e4-4ad1-a866-0e3bb78f4283\n",
    "Object ID\t5769757d-7e89-49a6-97e1-8a8419989506\n",
    "Object ID\t7ecb5ca3-161b-41da-bc89-1b64312c5840\n",
    "Object ID\t13b32752-7032-4403-a855-75b2a2320799\n",
    "Object ID\t12c03edc-81d2-432f-9809-34efbed321d3\n",
    "Object ID\t8cc2c7fe-be42-401d-b779-18b77ac156a3\n",
    "Object ID\t406ac3bf-8609-4786-a1df-6540b4970cea\"\"\")[1:]\n",
    "keep"
   ]
  },
  {
   "cell_type": "code",
   "execution_count": null,
   "id": "59ff965e",
   "metadata": {},
   "outputs": [],
   "source": [
    "keep.reverse()\n",
    "keep"
   ]
  },
  {
   "cell_type": "code",
   "execution_count": null,
   "id": "07afe5c7",
   "metadata": {
    "code_folding": [
     52
    ]
   },
   "outputs": [],
   "source": [
    "case_to_keep = {\n",
    "    'HT891Z1': {\n",
    "        'roi2': [\n",
    "            '4fd912e9-9eda-4290-aab8-8cfb9bfedb43',\n",
    "            '2ae1e825-b9cd-45c4-bcf1-b227b48404b1',\n",
    "            'c2b325db-8518-43fa-8653-b6e0de96a436',\n",
    "            '92d21f1d-968b-4205-bc6f-8791f5fb7942',\n",
    "            'bc3ec071-235a-47da-a192-49736ece4a1b',\n",
    "            'cbd83e7a-d4ec-4558-9145-ecbe3494ee0d',\n",
    "            '89b146dd-2261-4362-ae61-d812b5a2fb8b',\n",
    "            'a098aa66-da0a-46ef-8659-ae8fdb02b6c9',\n",
    "            'f55e7184-f872-4f3c-a01c-6072351148d9',\n",
    "            '98986d9e-1677-4bca-974f-570e96c7d7f0',\n",
    "            '12c3eac2-8606-41be-892e-689133c3ad80',\n",
    "            '71817de5-241d-4448-9aad-91df6ded89c1',\n",
    "            '9e8d366d-95a4-4a9b-a9da-07b5acf951e2',\n",
    "            '3f382232-fad5-4246-8029-b2ff0fca459d',\n",
    "            '4dcbec5f-25c4-441e-b603-0c0b45b74c43',\n",
    "            'ad46ac66-0e8b-48f1-aba8-e300d19278d2',\n",
    "            '32ce1bff-0284-4514-ba98-04506f20f256',\n",
    "            '24687041-03b2-4e55-a05b-0b069a3403e5',\n",
    "            '38ba9ae1-de88-4b38-a29e-cb9cc87acc41',\n",
    "            '7a3535f1-c30c-40c1-9d31-24c2ee7e58f9',\n",
    "            '0070e7b1-9e6b-4cda-af13-b5d6238e97ed',\n",
    "            'cbf8e855-8a31-4990-b144-064f544d3066',\n",
    "            'e5d1214b-8f62-403c-833a-53032515931c',\n",
    "            '24000119-0a82-45c1-8505-dc90901e014f',\n",
    "            'cb76f6eb-6278-452d-bb4d-9726d650aec9',\n",
    "            'f5c166e7-d9db-4bad-b55f-73a0f0799d60',\n",
    "            '2a3facce-de6a-43a7-926b-8fbe42ed75b0',\n",
    "            '69f28c38-daa2-4007-85ff-e5a1cf88e3eb',\n",
    "            '2feaaa28-3e77-4138-b9a4-0b75f68d2f64',\n",
    "            'bcbe6b32-baba-4f9e-bf87-45e5f0660327',\n",
    "            'd715e31a-7607-4ac3-b0c2-9456b9244140',\n",
    "            '99087c7b-e996-40ed-b0f4-4286822192fa',\n",
    "            'b6d1644d-743d-4cf4-9fa0-a43d95ea6baa',\n",
    "            'bf6c40d9-bdf2-49a5-a3fe-b6e68d0b77c0',\n",
    "            '386d888c-4246-46f5-b7a0-d0a763511097',\n",
    "            '90116201-5a8a-4f73-be12-495d21dcf084',\n",
    "            '142c7012-69e4-4f2a-b00b-9d350db99fd6',\n",
    "            '68f55189-0e6f-41b1-9c65-2823226b8d7e',\n",
    "            '511a2ee0-a928-47a5-a586-fab0fb648b99',\n",
    "            'f1034984-615e-45a5-a4af-05f2fc4eb1b4',\n",
    "            '92b53248-6da0-492a-9c0b-0c2a60946a0d',\n",
    "            'b536042f-2705-4627-be52-2465ff038195',\n",
    "            '6d7255ad-dc1a-47c4-b99f-6fc5fc3f0772',\n",
    "#             '995bd781-223b-4849-a502-640895bcf6d7', has experimental artifact at roi location\n",
    "            '9ddde78f-2e7b-4259-9bf9-efdd0a005b79',\n",
    "            '79e3353f-c2fe-4d54-8d30-a8a661cf61a1',\n",
    "            '2db3f2d8-37ce-4ffa-81ea-7948b9af77ae',\n",
    "            'c5facae8-79de-4842-b005-ad9e9d23747e'\n",
    "        ],\n",
    "        'roi2-p2': [\n",
    "            '406ac3bf-8609-4786-a1df-6540b4970cea',\n",
    "            '8cc2c7fe-be42-401d-b779-18b77ac156a3',\n",
    "            '12c03edc-81d2-432f-9809-34efbed321d3',\n",
    "            '13b32752-7032-4403-a855-75b2a2320799',\n",
    "            '7ecb5ca3-161b-41da-bc89-1b64312c5840',\n",
    "            '5769757d-7e89-49a6-97e1-8a8419989506',\n",
    "            'b5c5ff29-07e4-4ad1-a866-0e3bb78f4283',\n",
    "            'c4380e8c-f7ad-4cfc-a4f3-ed430ec2c1bc',\n",
    "            '227dad79-9f9d-465b-8543-0605892b42b3',\n",
    "            '34b75982-a611-4e25-a583-bf10aafdd5bc',\n",
    "            'dc5f3e39-0bea-41d3-b152-8d91c0e1ca17',\n",
    "            '60111347-4dcd-465d-8537-82cb1cc5484e',\n",
    "            'db3c0014-4c41-49db-9d74-e88f28041aee',\n",
    "            'a29d8f43-06d4-4e0f-a059-8a4b9fbf959f',\n",
    "            'f47c43ed-3e83-4a2f-86d6-aed44f1316c4',\n",
    "            'acaef067-ff89-4676-b10c-6b5f4fd6560e',\n",
    "            'cdef0207-f9b5-4a6b-bdf5-bde6df9f9282',\n",
    "            'acaef067-ff89-4676-b10c-6b5f4fd6560e',\n",
    "            'f8919fee-046b-436a-b728-94c76c3a153b',\n",
    "            '686d4c90-0af6-467a-9134-39f483b04c28',\n",
    "            '0070e7b1-9e6b-4cda-af13-b5d6238e97ed',\n",
    "            'cbf8e855-8a31-4990-b144-064f544d3066',\n",
    "            'e5d1214b-8f62-403c-833a-53032515931c',\n",
    "            '24000119-0a82-45c1-8505-dc90901e014f',\n",
    "            'cb76f6eb-6278-452d-bb4d-9726d650aec9',\n",
    "            'f5c166e7-d9db-4bad-b55f-73a0f0799d60',\n",
    "            '2a3facce-de6a-43a7-926b-8fbe42ed75b0'\n",
    "        ],\n",
    "    }\n",
    "}"
   ]
  },
  {
   "cell_type": "code",
   "execution_count": null,
   "id": "61c135e6",
   "metadata": {},
   "outputs": [],
   "source": []
  },
  {
   "cell_type": "markdown",
   "id": "d1a09bf9",
   "metadata": {},
   "source": [
    "## remaining analyses"
   ]
  },
  {
   "cell_type": "code",
   "execution_count": null,
   "id": "465d1417",
   "metadata": {},
   "outputs": [],
   "source": [
    "keep = case_to_keep[case][roi]"
   ]
  },
  {
   "cell_type": "code",
   "execution_count": null,
   "id": "e051dae1",
   "metadata": {},
   "outputs": [],
   "source": [
    "for x in keep:\n",
    "    region = region_id_to_region[x]\n",
    "    if region.get('dtype', '') == 'xenium':\n",
    "        print(region['id'], region['position'], region['z'])"
   ]
  },
  {
   "cell_type": "code",
   "execution_count": null,
   "id": "546b4007",
   "metadata": {},
   "outputs": [],
   "source": [
    "import seaborn as sns\n",
    "colors = sns.color_palette('deep')\n",
    "colors"
   ]
  },
  {
   "cell_type": "code",
   "execution_count": null,
   "id": "0a6d2023",
   "metadata": {},
   "outputs": [],
   "source": [
    "dtype_to_color = {\n",
    "    'xenium': colors[0],\n",
    "    'multiplex': colors[2],\n",
    "    'he': colors[4]\n",
    "}\n",
    "\n",
    "dtype_to_edgecolor = {\n",
    "    'xenium': sns.color_palette('dark')[0],\n",
    "    'multiplex': sns.color_palette('dark')[2],\n",
    "    'he': sns.color_palette('dark')[4]\n",
    "}"
   ]
  },
  {
   "cell_type": "code",
   "execution_count": null,
   "id": "a62f9a95",
   "metadata": {},
   "outputs": [],
   "source": [
    "def plot_regions(rs, facecolors=(.5, .5, .5, 1.), edgecolors=(.2, .2, .2, 1.), linewidths=1, alpha=.7):\n",
    "    ax = plt.figure(figsize=(10, 10)).add_subplot(projection='3d')\n",
    "\n",
    "    coords = [x['coordinates'] for x in rs]\n",
    "    zs = [x['position'] for x in rs]\n",
    "    poly = PolyCollection(coords, facecolors=facecolors, alpha=alpha, edgecolor=edgecolors, linewidths=linewidths)\n",
    "\n",
    "    ax.set(xlim=(0, C2 - C1), ylim=(0, R2 - R1), zlim=(0, max(zs)))\n",
    "    ax.add_collection3d(poly, zs=zs, zdir='z')\n",
    "    ax.view_init(elev=10., azim=case_to_zeniths[case][roi])\n",
    "    ax.invert_zaxis()\n",
    "\n",
    "    return ax"
   ]
  },
  {
   "cell_type": "code",
   "execution_count": null,
   "id": "0b48d4de",
   "metadata": {},
   "outputs": [],
   "source": [
    "rs = [x for x in regions if x['id'] not in keep]\n",
    "facecolors = [(.5, .5, .5, 1.)] * len(rs)\n",
    "edgecolors = [(.2, .2, .2, 1.)] * len(rs)\n",
    "\n",
    "keep_rs = [x for x in regions if x['id'] in keep]\n",
    "coords += [x['coordinates'] for x in keep_rs]\n",
    "zs += [x['position'] for x in keep_rs]\n",
    "facecolors += [(.5, .5, .5, 1.)] * len(keep_rs)\n",
    "edgecolors += [(.8, .2, .2, 1.)] * len(keep_rs)\n",
    "\n",
    "rs += keep_rs\n",
    "\n",
    "ax = plot_regions(rs, facecolors=facecolors, edgecolors=edgecolors)\n",
    "plt.savefig(fig_dir / f'{roi}_3d_section_recon.svg')"
   ]
  },
  {
   "cell_type": "code",
   "execution_count": null,
   "id": "07c15fff",
   "metadata": {},
   "outputs": [],
   "source": [
    "rs = [x for x in regions if x['id'] in keep]\n",
    "facecolors = [dtype_to_color[x.get('dtype', 'he')] for x in rs]\n",
    "edgecolors = [dtype_to_edgecolor[x.get('dtype', 'he')] for x in rs]\n",
    "ax = plot_regions(rs, facecolors=facecolors, edgecolors=edgecolors)\n",
    "ax.set_axis_off()\n",
    "\n",
    "plt.savefig(fig_dir / f'{roi}_3d_section_recon_iso.svg')"
   ]
  },
  {
   "cell_type": "code",
   "execution_count": null,
   "id": "ab8b362e",
   "metadata": {},
   "outputs": [],
   "source": [
    "import matplotlib as mpl"
   ]
  },
  {
   "cell_type": "code",
   "execution_count": null,
   "id": "ac6f4920",
   "metadata": {},
   "outputs": [],
   "source": [
    "rs = [x for x in regions if x['z']==6]\n",
    "vals = np.asarray([x['fracs'][dtype_to_channels['xenium'].index('KRT5')] for x in rs])\n",
    "cmap = mpl.colormaps['viridis']\n",
    "facecolors = [cmap(v) for v in vals / vals.max()]\n",
    "edgecolors = (.6, .6, .6, 1.)\n",
    "ax = plot_regions(rs, facecolors=facecolors, edgecolors=edgecolors, linewidths=1, alpha=1.)\n",
    "ax.set_axis_off()\n",
    "\n",
    "plt.savefig(fig_dir / f'{roi}_3d_section_recon_xenium_z6_krt5.svg')"
   ]
  },
  {
   "cell_type": "code",
   "execution_count": null,
   "id": "23f16110",
   "metadata": {},
   "outputs": [],
   "source": [
    "vals.max()"
   ]
  },
  {
   "cell_type": "code",
   "execution_count": null,
   "id": "48891d98",
   "metadata": {},
   "outputs": [],
   "source": [
    "z_to_sid = {x['z']:x['sid'] for x in regions}\n",
    "rgb = sid_to_rgb[z_to_sid[6]].copy()\n",
    "\n",
    "m = np.zeros((rgb.shape[0], rgb.shape[1]), dtype=bool)\n",
    "for x in regions:\n",
    "    if x['z'] == 6:\n",
    "        m |= x['mask']\n",
    "\n",
    "expanded = m.copy()\n",
    "for i in range(4):\n",
    "    expanded = skimage.morphology.binary_dilation(expanded)\n",
    "\n",
    "inner = m.copy()\n",
    "for i in range(2):\n",
    "    inner = skimage.morphology.binary_erosion(inner)\n",
    "ring = expanded ^ inner\n",
    "rgb[ring] = [255, 255, 0]\n",
    "\n",
    "plt.imshow(rgb)\n",
    "plt.savefig(fig_dir / f'{roi}_xenium_z6_rgb.svg', dpi=300)"
   ]
  },
  {
   "cell_type": "code",
   "execution_count": null,
   "id": "18c63d31",
   "metadata": {},
   "outputs": [],
   "source": [
    "plt.imshow(m)"
   ]
  },
  {
   "cell_type": "code",
   "execution_count": null,
   "id": "85ea2fd9",
   "metadata": {},
   "outputs": [],
   "source": [
    "def get_means_and_fracs(region_id_to_regions, paths, dtype='xenium', mean_key='means', frac_key='fracs'):\n",
    "    results = []\n",
    "    for path in paths:\n",
    "        vals, fracs, zs, other_vals, other_fracs = [], [], [], [], []\n",
    "        for k in path:\n",
    "            if isinstance(k, int):\n",
    "                region = region_id_to_region[label_to_region_id[k]]\n",
    "            else:\n",
    "                region = region_id_to_region[k]\n",
    "            if 'dtype' in region and region['dtype'] == dtype:\n",
    "                vals.append(region[mean_key])\n",
    "                fracs.append(region[frac_key])\n",
    "                zs.append(region['position'])\n",
    "                \n",
    "                rs = [x for x in region_id_to_region.values() if x['position']==region['position'] and x['id']!=region['id']]\n",
    "                other_vals.append(np.stack([x[mean_key] for x in rs]))\n",
    "                other_fracs.append(np.stack([x[frac_key] for x in rs]))\n",
    "                \n",
    "        if vals:\n",
    "            vals, fracs = np.stack(vals), np.stack(fracs)\n",
    "            vals, fracs = rearrange(vals, 'd n -> n d'), rearrange(fracs, 'd n -> n d')\n",
    "            results.append({\n",
    "                'vals': vals,\n",
    "                'fracs': fracs,\n",
    "                'other_vals': other_vals,\n",
    "                'other_fracs': other_fracs,\n",
    "                'zs': zs,\n",
    "            })\n",
    "    return results\n",
    "\n",
    "import scipy\n",
    "def get_correlations(vals, default=0.):\n",
    "    coors, pvals = [], []\n",
    "    for row in vals:\n",
    "        r = scipy.stats.pearsonr(row, np.arange(len(row)))\n",
    "        if not pd.isnull(r.pvalue):\n",
    "            coors.append(r.correlation)\n",
    "            pvals.append(r.pvalue)\n",
    "        else:\n",
    "            coors.append(default)\n",
    "            pvals.append(1.)\n",
    "    return np.asarray(coors), np.asarray(pvals)"
   ]
  },
  {
   "cell_type": "code",
   "execution_count": null,
   "id": "921c8e3c",
   "metadata": {},
   "outputs": [],
   "source": [
    "result = get_means_and_fracs(region_id_to_region, [keep])[0]"
   ]
  },
  {
   "cell_type": "code",
   "execution_count": null,
   "id": "e64d0bef",
   "metadata": {},
   "outputs": [],
   "source": [
    "result['vals'].shape"
   ]
  },
  {
   "cell_type": "code",
   "execution_count": null,
   "id": "cd396909",
   "metadata": {},
   "outputs": [],
   "source": [
    "# avg = np.stack([x.mean(0) for x in result['other_vals']]).T\n",
    "# coors, pvals = get_correlations(result['vals'] - avg)\n",
    "coors, pvals = get_correlations(result['vals'])\n",
    "vals, fracs, zs, other_vals, other_fracs = result['vals'], result['fracs'], result['zs'], result['other_vals'], result['other_fracs']\n",
    "\n",
    "coors.shape"
   ]
  },
  {
   "cell_type": "code",
   "execution_count": null,
   "id": "1e8e15d3",
   "metadata": {
    "scrolled": true
   },
   "outputs": [],
   "source": [
    "pvals"
   ]
  },
  {
   "cell_type": "code",
   "execution_count": null,
   "id": "264ba15c",
   "metadata": {
    "scrolled": true
   },
   "outputs": [],
   "source": [
    "idxs = np.argsort(coors)\n",
    "m = np.asarray([x > .2 for x in fracs[idxs].max(-1)])\n",
    "m &= pvals[idxs] < .05\n",
    "idxs = idxs[m]\n",
    "\n",
    "ordered = np.asarray(dtype_to_channels['xenium'])[idxs]\n",
    "\n",
    "ordered"
   ]
  },
  {
   "cell_type": "code",
   "execution_count": null,
   "id": "eb1ef075",
   "metadata": {},
   "outputs": [],
   "source": [
    "# n = 15\n",
    "\n",
    "# data = vals[idxs[:n]]\n",
    "# data = np.concatenate((data, vals[idxs[-n:]]))\n",
    "# source = pd.DataFrame(data=data.T, columns=np.concatenate((ordered[:n], ordered[-n:])), index=zs)\n",
    "data = vals[idxs]\n",
    "data -= data.min(1, keepdims=True)\n",
    "source = pd.DataFrame(data=data.T, columns=ordered, index=zs)\n",
    "source"
   ]
  },
  {
   "cell_type": "code",
   "execution_count": null,
   "id": "7bd14abd",
   "metadata": {},
   "outputs": [],
   "source": [
    "fig_dir"
   ]
  },
  {
   "cell_type": "code",
   "execution_count": null,
   "id": "55da21cf",
   "metadata": {},
   "outputs": [],
   "source": [
    "fig, ax = plt.subplots(figsize=(25, 20))\n",
    "sns.heatmap(source, cmap='Blues', vmax=1.6)\n",
    "plt.savefig(fig_dir / f'{roi}_gene_heatmap.svg')"
   ]
  },
  {
   "cell_type": "code",
   "execution_count": null,
   "id": "be291faf",
   "metadata": {
    "scrolled": true
   },
   "outputs": [],
   "source": [
    "df = pd.DataFrame(coors, index=dtype_to_channels['xenium'], columns=['correlation'])\n",
    "df['pvals'] = pvals\n",
    "df = df.loc[source.columns]\n",
    "df"
   ]
  },
  {
   "cell_type": "code",
   "execution_count": null,
   "id": "cac3c640",
   "metadata": {},
   "outputs": [],
   "source": [
    "sns.heatmap(df[['correlation']], cmap='PiYG')\n",
    "plt.savefig(fig_dir / f'{roi}_gene_heatmap_corrs.svg')"
   ]
  },
  {
   "cell_type": "code",
   "execution_count": null,
   "id": "b92febc0",
   "metadata": {},
   "outputs": [],
   "source": [
    "sns.heatmap(df[['pvals']], cmap='cividis_r', vmin=0, vmax=.05)\n",
    "plt.savefig(fig_dir / f'{roi}_gene_heatmap_pvals.svg')"
   ]
  },
  {
   "cell_type": "code",
   "execution_count": null,
   "id": "bcf05326",
   "metadata": {},
   "outputs": [],
   "source": [
    "case_to_view_details = {\n",
    "    'HT891Z1': {\n",
    "        'roi1': {\n",
    "            'radius': 150,\n",
    "            'thickness': 5,\n",
    "            'expansion': 15\n",
    "        },\n",
    "        'roi2': {\n",
    "            'radius': 220,\n",
    "            'thickness': 5,\n",
    "            'expansion': 15\n",
    "        },\n",
    "        'roi2-p2': {\n",
    "            'radius': 300,\n",
    "            'thickness': 5,\n",
    "            'expansion': 15\n",
    "        }\n",
    "    }\n",
    "}"
   ]
  },
  {
   "cell_type": "code",
   "execution_count": null,
   "id": "8633d9ee",
   "metadata": {
    "scrolled": true
   },
   "outputs": [],
   "source": [
    "radius = case_to_view_details[case][roi]['radius']\n",
    "imgs = []\n",
    "for rid in keep:\n",
    "    region = region_id_to_region[rid]\n",
    "    mask = region['mask']\n",
    "    \n",
    "    expanded = mask.copy()\n",
    "    for i in range(case_to_view_details[case][roi]['expansion']):\n",
    "        expanded = skimage.morphology.binary_dilation(expanded)\n",
    "    \n",
    "    rlabeled = skimage.morphology.label(mask)\n",
    "    prop = skimage.measure.regionprops(rlabeled)[0]\n",
    "    r, c = prop['centroid']\n",
    "    r, c = int(r), int(c)\n",
    "    \n",
    "    r1 = max(0, r - radius)\n",
    "    c1 = max(0, c - radius)\n",
    "    r2 = min(mask.shape[0] - 1, r + radius)\n",
    "    c2 = min(mask.shape[1] - 1, c + radius)\n",
    "    \n",
    "    diam = radius * 2\n",
    "    if r2 - r1 < diam:\n",
    "        if r1 == 0:\n",
    "            r2 += diam - (r2 - r1)\n",
    "        else:\n",
    "            r1 -= diam - (r2 - r1)\n",
    "    if c2 - c1 < diam:\n",
    "        if c1 == 0:\n",
    "            c2 += diam - (c2 - c1)\n",
    "        else:\n",
    "            c1 -= diam - (c2 - c1)\n",
    "    \n",
    "    rgb = sid_to_rgb[region['sid']].copy()\n",
    "    \n",
    "    inner = expanded.copy()\n",
    "    for i in range(case_to_view_details[case][roi]['thickness']):\n",
    "        inner = skimage.morphology.binary_erosion(inner)\n",
    "    ring = expanded ^ inner\n",
    "    rgb[ring] = [255, 255, 0]\n",
    "    \n",
    "    \n",
    "    \n",
    "    imgs.append(rgb[r1:r2, c1:c2])\n",
    "len(imgs)"
   ]
  },
  {
   "cell_type": "code",
   "execution_count": null,
   "id": "39717df8",
   "metadata": {},
   "outputs": [],
   "source": [
    "\n",
    "for sid, img in zip(keep, imgs):\n",
    "    plt.imshow(img)\n",
    "    plt.title(sid)\n",
    "    plt.show()"
   ]
  },
  {
   "cell_type": "code",
   "execution_count": null,
   "id": "393025c0",
   "metadata": {},
   "outputs": [],
   "source": [
    "fig, axs = plt.subplots(ncols=len(imgs), figsize=(len(imgs) * 2, 2))\n",
    "\n",
    "for rid, img, ax in zip(keep, imgs, axs):\n",
    "    region = region_id_to_region[rid]\n",
    "    position = region['position']\n",
    "    \n",
    "    ax.imshow(img)\n",
    "    ax.set_axis_off()\n",
    "    ax.set_aspect('equal')\n",
    "    \n",
    "    ax.set_title(f'Z{position}')\n",
    "plt.subplots_adjust(wspace=0, hspace=0)\n",
    "plt.savefig(fig_dir / f'{roi}_all_images.svg', dpi=300)"
   ]
  },
  {
   "cell_type": "code",
   "execution_count": null,
   "id": "db238d2c",
   "metadata": {},
   "outputs": [],
   "source": []
  },
  {
   "cell_type": "code",
   "execution_count": null,
   "id": "9a8e53dc",
   "metadata": {},
   "outputs": [],
   "source": []
  },
  {
   "cell_type": "code",
   "execution_count": null,
   "id": "26be5366",
   "metadata": {},
   "outputs": [],
   "source": [
    "gene = 'ALDH1A3'\n",
    "r1, r2, c1, c2 = [x // tiling_resolution for x in [R1, R2, C1, C2]]\n",
    "for sid, tiled in sid_to_tiled.items():\n",
    "    dtype = sid_to_dtype[sid]\n",
    "    rgb = sid_to_rgb[sid]\n",
    "    z = sid_to_z[sid]\n",
    "    m = z_to_regions_mask[z]\n",
    "    mm = skimage.morphology.binary_dilation(m)\n",
    "    m = mm ^ m\n",
    "    \n",
    "    if dtype == 'xenium':\n",
    "        fig, ax = plt.subplots(ncols=2)\n",
    "        x = tiled[dtype_to_channels[dtype].index(gene)]\n",
    "        x = np.stack([x, x, x], -1)\n",
    "        x[m] = [x.max(), 0, 0]\n",
    "        x = x[r1:r2, c1:c2]\n",
    "        x /= x.max()\n",
    "#         x = utils.rescale(x, size=rgb.shape[:2], dim_order='h w c', target_dtype=x.dtype)\n",
    "        print(x.shape, m.shape)\n",
    "#         x[m] = [1, 0, 0]\n",
    "        ax[0].imshow(x)\n",
    "        ax[0].set_title(z)\n",
    "        ax[1].imshow(rgb)\n",
    "        plt.show()"
   ]
  },
  {
   "cell_type": "code",
   "execution_count": null,
   "id": "a779656e",
   "metadata": {},
   "outputs": [],
   "source": []
  },
  {
   "cell_type": "code",
   "execution_count": null,
   "id": "3bd589ee",
   "metadata": {},
   "outputs": [],
   "source": []
  },
  {
   "cell_type": "code",
   "execution_count": null,
   "id": "5f467604",
   "metadata": {},
   "outputs": [],
   "source": []
  },
  {
   "cell_type": "code",
   "execution_count": null,
   "id": "63f00bfd",
   "metadata": {},
   "outputs": [],
   "source": []
  },
  {
   "cell_type": "code",
   "execution_count": null,
   "id": "f3b8086e",
   "metadata": {},
   "outputs": [],
   "source": []
  },
  {
   "cell_type": "code",
   "execution_count": null,
   "id": "8100675d",
   "metadata": {},
   "outputs": [],
   "source": []
  },
  {
   "cell_type": "code",
   "execution_count": null,
   "id": "c631c87f",
   "metadata": {},
   "outputs": [],
   "source": []
  },
  {
   "cell_type": "code",
   "execution_count": null,
   "id": "b4ea846c",
   "metadata": {},
   "outputs": [],
   "source": []
  },
  {
   "cell_type": "code",
   "execution_count": null,
   "id": "f4771449",
   "metadata": {},
   "outputs": [],
   "source": []
  },
  {
   "cell_type": "code",
   "execution_count": null,
   "id": "f1723c73",
   "metadata": {},
   "outputs": [],
   "source": [
    "region = list(region_id_to_region.values())[0]\n",
    "region.keys()"
   ]
  },
  {
   "cell_type": "code",
   "execution_count": null,
   "id": "888283ba",
   "metadata": {},
   "outputs": [],
   "source": [
    "rlabeled = skimage.morphology.label(region['mask'])\n",
    "prop = skimage.measure.regionprops(rlabeled)[0]\n",
    "prop"
   ]
  },
  {
   "cell_type": "code",
   "execution_count": null,
   "id": "192f263f",
   "metadata": {},
   "outputs": [],
   "source": [
    "plt.imshow(region['mask'])"
   ]
  },
  {
   "cell_type": "code",
   "execution_count": null,
   "id": "2c461dbd",
   "metadata": {},
   "outputs": [],
   "source": [
    "prop.centroid_local"
   ]
  },
  {
   "cell_type": "code",
   "execution_count": null,
   "id": "b4a6f7f4",
   "metadata": {},
   "outputs": [],
   "source": [
    "prop.centroid"
   ]
  },
  {
   "cell_type": "code",
   "execution_count": null,
   "id": "2d811d01",
   "metadata": {},
   "outputs": [],
   "source": []
  },
  {
   "cell_type": "code",
   "execution_count": null,
   "id": "b7fcb472",
   "metadata": {},
   "outputs": [],
   "source": []
  },
  {
   "cell_type": "code",
   "execution_count": null,
   "id": "7c7261a0",
   "metadata": {},
   "outputs": [],
   "source": []
  },
  {
   "cell_type": "code",
   "execution_count": null,
   "id": "dbfdcaca",
   "metadata": {},
   "outputs": [],
   "source": []
  },
  {
   "cell_type": "code",
   "execution_count": null,
   "id": "b877b184",
   "metadata": {},
   "outputs": [],
   "source": []
  },
  {
   "cell_type": "code",
   "execution_count": null,
   "id": "31507401",
   "metadata": {},
   "outputs": [],
   "source": []
  },
  {
   "cell_type": "code",
   "execution_count": null,
   "id": "ffffd6d3",
   "metadata": {},
   "outputs": [],
   "source": []
  },
  {
   "cell_type": "code",
   "execution_count": null,
   "id": "e6729bbc",
   "metadata": {},
   "outputs": [],
   "source": []
  },
  {
   "cell_type": "code",
   "execution_count": null,
   "id": "c27e9056",
   "metadata": {},
   "outputs": [],
   "source": []
  },
  {
   "cell_type": "code",
   "execution_count": null,
   "id": "be1dcafb",
   "metadata": {},
   "outputs": [],
   "source": []
  },
  {
   "cell_type": "code",
   "execution_count": null,
   "id": "ebf55aa8",
   "metadata": {},
   "outputs": [],
   "source": []
  },
  {
   "cell_type": "code",
   "execution_count": null,
   "id": "8ecb8607",
   "metadata": {},
   "outputs": [],
   "source": []
  },
  {
   "cell_type": "code",
   "execution_count": null,
   "id": "cb88f533",
   "metadata": {},
   "outputs": [],
   "source": []
  },
  {
   "cell_type": "code",
   "execution_count": null,
   "id": "5adca81a",
   "metadata": {},
   "outputs": [],
   "source": []
  },
  {
   "cell_type": "code",
   "execution_count": null,
   "id": "55f4e7c3",
   "metadata": {},
   "outputs": [],
   "source": []
  },
  {
   "cell_type": "code",
   "execution_count": null,
   "id": "5c377b87",
   "metadata": {},
   "outputs": [],
   "source": []
  },
  {
   "cell_type": "code",
   "execution_count": null,
   "id": "085518ea",
   "metadata": {},
   "outputs": [],
   "source": []
  },
  {
   "cell_type": "code",
   "execution_count": null,
   "id": "ca0b5995",
   "metadata": {},
   "outputs": [],
   "source": []
  },
  {
   "cell_type": "code",
   "execution_count": null,
   "id": "49e9d889",
   "metadata": {},
   "outputs": [],
   "source": []
  },
  {
   "cell_type": "code",
   "execution_count": null,
   "id": "0efae82c",
   "metadata": {},
   "outputs": [],
   "source": []
  },
  {
   "cell_type": "code",
   "execution_count": null,
   "id": "9da23095",
   "metadata": {},
   "outputs": [],
   "source": []
  },
  {
   "cell_type": "code",
   "execution_count": null,
   "id": "4682c523",
   "metadata": {},
   "outputs": [],
   "source": []
  },
  {
   "cell_type": "code",
   "execution_count": null,
   "id": "8252a7cd",
   "metadata": {},
   "outputs": [],
   "source": []
  },
  {
   "cell_type": "code",
   "execution_count": null,
   "id": "6a74b657",
   "metadata": {},
   "outputs": [],
   "source": []
  },
  {
   "cell_type": "code",
   "execution_count": null,
   "id": "85381baf",
   "metadata": {},
   "outputs": [],
   "source": []
  },
  {
   "cell_type": "code",
   "execution_count": null,
   "id": "9ee48f0f",
   "metadata": {},
   "outputs": [],
   "source": []
  },
  {
   "cell_type": "code",
   "execution_count": null,
   "id": "4a45f843",
   "metadata": {},
   "outputs": [],
   "source": []
  },
  {
   "cell_type": "code",
   "execution_count": null,
   "id": "1ce7cb4e",
   "metadata": {},
   "outputs": [],
   "source": []
  },
  {
   "cell_type": "code",
   "execution_count": null,
   "id": "e2e41743",
   "metadata": {},
   "outputs": [],
   "source": []
  }
 ],
 "metadata": {
  "kernelspec": {
   "display_name": "Python 3 (ipykernel)",
   "language": "python",
   "name": "python3"
  },
  "language_info": {
   "codemirror_mode": {
    "name": "ipython",
    "version": 3
   },
   "file_extension": ".py",
   "mimetype": "text/x-python",
   "name": "python",
   "nbconvert_exporter": "python",
   "pygments_lexer": "ipython3",
   "version": "3.10.13"
  }
 },
 "nbformat": 4,
 "nbformat_minor": 5
}
