{
 "cells": [
  {
   "cell_type": "code",
   "execution_count": 1,
   "id": "5e6a3f24",
   "metadata": {},
   "outputs": [],
   "source": [
    "import json\n",
    "import os\n",
    "import sys\n",
    "from copy import deepcopy\n",
    "from pathlib import Path\n",
    "\n",
    "import matplotlib.pyplot as plt\n",
    "import numpy as np\n",
    "import skimage\n",
    "import tifffile\n",
    "import yaml"
   ]
  },
  {
   "cell_type": "code",
   "execution_count": 2,
   "id": "c13f0768",
   "metadata": {},
   "outputs": [],
   "source": [
    "import matplotlib as mpl\n",
    "mpl.rcParams['pdf.fonttype'] = 42"
   ]
  },
  {
   "cell_type": "code",
   "execution_count": 3,
   "id": "7e4ab32f",
   "metadata": {},
   "outputs": [],
   "source": [
    "%load_ext autoreload"
   ]
  },
  {
   "cell_type": "code",
   "execution_count": 4,
   "id": "70fa2851",
   "metadata": {},
   "outputs": [],
   "source": [
    "%autoreload 2"
   ]
  },
  {
   "cell_type": "code",
   "execution_count": 5,
   "id": "ad713538",
   "metadata": {},
   "outputs": [],
   "source": [
    "from mushroom.mushroom import Mushroom, DEFAULT_CONFIG\n",
    "import mushroom.utils as utils\n",
    "import mushroom.visualization.utils as vis_utils"
   ]
  },
  {
   "cell_type": "code",
   "execution_count": 6,
   "id": "29ec9025",
   "metadata": {},
   "outputs": [],
   "source": [
    "source_root = '/diskmnt/Projects/Users/estorrs/mushroom/data'\n",
    "target_root = '/data/estorrs/mushroom/data'"
   ]
  },
  {
   "cell_type": "code",
   "execution_count": 7,
   "id": "9c548776",
   "metadata": {},
   "outputs": [],
   "source": [
    "run_dir = '/data/estorrs/mushroom/data/projects/submission_v1'"
   ]
  },
  {
   "cell_type": "code",
   "execution_count": 8,
   "id": "8295d20e",
   "metadata": {},
   "outputs": [],
   "source": [
    "def alter_filesystem(config, source_root, target_root):\n",
    "    for entry in config['sections']:\n",
    "        for mapping in entry['data']:\n",
    "            mapping['filepath'] = mapping['filepath'].replace(source_root, target_root)\n",
    "    \n",
    "    if config['trainer_kwargs']['data_mask'] is not None:\n",
    "        config['trainer_kwargs']['data_mask'] = config['trainer_kwargs']['data_mask'].replace(source_root, target_root)\n",
    "        \n",
    "    return config"
   ]
  },
  {
   "cell_type": "markdown",
   "id": "8d4b43ae",
   "metadata": {},
   "source": [
    "## define inputs"
   ]
  },
  {
   "cell_type": "markdown",
   "id": "b8f98649",
   "metadata": {
    "heading_collapsed": true
   },
   "source": [
    "###### HT413C1-Th1k4A1"
   ]
  },
  {
   "cell_type": "code",
   "execution_count": 9,
   "id": "d5eb4f50",
   "metadata": {
    "hidden": true
   },
   "outputs": [
    {
     "data": {
      "text/plain": [
       "{'resolution': 1.0,\n",
       " 'sections': [{'data': [{'dtype': 'he',\n",
       "     'filepath': '/diskmnt/Projects/Users/estorrs/mushroom/data/projects/submission_v1/HT413C1-Th1k4A1/registered/s0_HT413C1-Th1k4A1-U14_he.tif'}],\n",
       "   'position': 0,\n",
       "   'sid': 'HT413C1-Th1k4A1-U14'},\n",
       "  {'data': [{'dtype': 'he',\n",
       "     'filepath': '/diskmnt/Projects/Users/estorrs/mushroom/data/projects/submission_v1/HT413C1-Th1k4A1/registered/s1_HT413C1-Th1k4A1-U18_he.tif'}],\n",
       "   'position': 20,\n",
       "   'sid': 'HT413C1-Th1k4A1-U18'},\n",
       "  {'data': [{'dtype': 'xenium',\n",
       "     'filepath': '/diskmnt/Projects/Users/estorrs/mushroom/data/projects/submission_v1/HT413C1-Th1k4A1/registered/s2_HT413C1-Th1k4A1-U19_xenium.h5ad'}],\n",
       "   'position': 25,\n",
       "   'sid': 'HT413C1-Th1k4A1-U19'},\n",
       "  {'data': [{'dtype': 'multiplex',\n",
       "     'filepath': '/diskmnt/Projects/Users/estorrs/mushroom/data/projects/submission_v1/HT413C1-Th1k4A1/registered/s3_HT413C1-Th1k4A1-U20_multiplex.ome.tiff'}],\n",
       "   'position': 30,\n",
       "   'sid': 'HT413C1-Th1k4A1-U20'},\n",
       "  {'data': [{'dtype': 'he',\n",
       "     'filepath': '/diskmnt/Projects/Users/estorrs/mushroom/data/projects/submission_v1/HT413C1-Th1k4A1/registered/s4_HT413C1-Th1k4A1-U1_he.tif'}],\n",
       "   'position': 45,\n",
       "   'sid': 'HT413C1-Th1k4A1-U1'},\n",
       "  {'data': [{'dtype': 'xenium',\n",
       "     'filepath': '/diskmnt/Projects/Users/estorrs/mushroom/data/projects/submission_v1/HT413C1-Th1k4A1/registered/s5_HT413C1-Th1k4A1-U2_xenium.h5ad'}],\n",
       "   'position': 50,\n",
       "   'sid': 'HT413C1-Th1k4A1-U2'},\n",
       "  {'data': [{'dtype': 'multiplex',\n",
       "     'filepath': '/diskmnt/Projects/Users/estorrs/mushroom/data/projects/submission_v1/HT413C1-Th1k4A1/registered/s6_HT413C1-Th1k4A1-U3_multiplex.ome.tiff'}],\n",
       "   'position': 55,\n",
       "   'sid': 'HT413C1-Th1k4A1-U3'},\n",
       "  {'data': [{'dtype': 'he',\n",
       "     'filepath': '/diskmnt/Projects/Users/estorrs/mushroom/data/projects/submission_v1/HT413C1-Th1k4A1/registered/s7_HT413C1-Th1k4A1-U4_he.tif'}],\n",
       "   'position': 60,\n",
       "   'sid': 'HT413C1-Th1k4A1-U4'},\n",
       "  {'data': [{'dtype': 'cosmx',\n",
       "     'filepath': '/diskmnt/Projects/Users/estorrs/mushroom/data/projects/submission_v1/HT413C1-Th1k4A1/registered/s8_HT413C1-Th1k4A1-U7_cosmx.h5ad'}],\n",
       "   'position': 75,\n",
       "   'sid': 'HT413C1-Th1k4A1-U7'},\n",
       "  {'data': [{'dtype': 'he',\n",
       "     'filepath': '/diskmnt/Projects/Users/estorrs/mushroom/data/projects/submission_v1/HT413C1-Th1k4A1/registered/s9_HT413C1-Th1k4A1-U8_he.tif'}],\n",
       "   'position': 80,\n",
       "   'sid': 'HT413C1-Th1k4A1-U8'},\n",
       "  {'data': [{'dtype': 'xenium',\n",
       "     'filepath': '/diskmnt/Projects/Users/estorrs/mushroom/data/projects/submission_v1/HT413C1-Th1k4A1/registered/s10_HT413C1-Th1k4A1-U9_xenium.h5ad'}],\n",
       "   'position': 85,\n",
       "   'sid': 'HT413C1-Th1k4A1-U9'},\n",
       "  {'data': [{'dtype': 'he',\n",
       "     'filepath': '/diskmnt/Projects/Users/estorrs/mushroom/data/projects/submission_v1/HT413C1-Th1k4A1/registered/s11_HT413C1-Th1k4A1-U11_he.tif'}],\n",
       "   'position': 95,\n",
       "   'sid': 'HT413C1-Th1k4A1-U11'},\n",
       "  {'data': [{'dtype': 'he',\n",
       "     'filepath': '/diskmnt/Projects/Users/estorrs/mushroom/data/projects/submission_v1/HT413C1-Th1k4A1/registered/s12_HT413C1-Th1k4A1-U21_he.tif'}],\n",
       "   'position': 100,\n",
       "   'sid': 'HT413C1-Th1k4A1-U21'},\n",
       "  {'data': [{'dtype': 'he',\n",
       "     'filepath': '/diskmnt/Projects/Users/estorrs/mushroom/data/projects/submission_v1/HT413C1-Th1k4A1/registered/s13_HT413C1-Th1k4A1-U24_he.tif'}],\n",
       "   'position': 115,\n",
       "   'sid': 'HT413C1-Th1k4A1-U24'},\n",
       "  {'data': [{'dtype': 'xenium',\n",
       "     'filepath': '/diskmnt/Projects/Users/estorrs/mushroom/data/projects/submission_v1/HT413C1-Th1k4A1/registered/s14_HT413C1-Th1k4A1-U25_xenium.h5ad'}],\n",
       "   'position': 120,\n",
       "   'sid': 'HT413C1-Th1k4A1-U25'},\n",
       "  {'data': [{'dtype': 'multiplex',\n",
       "     'filepath': '/diskmnt/Projects/Users/estorrs/mushroom/data/projects/submission_v1/HT413C1-Th1k4A1/registered/s15_HT413C1-Th1k4A1-U26_multiplex.ome.tiff'}],\n",
       "   'position': 125,\n",
       "   'sid': 'HT413C1-Th1k4A1-U26'},\n",
       "  {'data': [{'dtype': 'he',\n",
       "     'filepath': '/diskmnt/Projects/Users/estorrs/mushroom/data/projects/submission_v1/HT413C1-Th1k4A1/registered/s16_HT413C1-Th1k4A1-U27_he.tif'}],\n",
       "   'position': 130,\n",
       "   'sid': 'HT413C1-Th1k4A1-U27'},\n",
       "  {'data': [{'dtype': 'he',\n",
       "     'filepath': '/diskmnt/Projects/Users/estorrs/mushroom/data/projects/submission_v1/HT413C1-Th1k4A1/registered/s17_HT413C1-Th1k4A1-U29_he.tif'}],\n",
       "   'position': 140,\n",
       "   'sid': 'HT413C1-Th1k4A1-U29'},\n",
       "  {'data': [{'dtype': 'he',\n",
       "     'filepath': '/diskmnt/Projects/Users/estorrs/mushroom/data/projects/submission_v1/HT413C1-Th1k4A1/registered/s18_HT413C1-Th1k4A1-U30_he.tif'}],\n",
       "   'position': 145,\n",
       "   'sid': 'HT413C1-Th1k4A1-U30'},\n",
       "  {'data': [{'dtype': 'xenium',\n",
       "     'filepath': '/diskmnt/Projects/Users/estorrs/mushroom/data/projects/submission_v1/HT413C1-Th1k4A1/registered/s19_HT413C1-Th1k4A1-U31_xenium.h5ad'}],\n",
       "   'position': 150,\n",
       "   'sid': 'HT413C1-Th1k4A1-U31'},\n",
       "  {'data': [{'dtype': 'multiplex',\n",
       "     'filepath': '/diskmnt/Projects/Users/estorrs/mushroom/data/projects/submission_v1/HT413C1-Th1k4A1/registered/s20_HT413C1-Th1k4A1-U32_multiplex.ome.tiff'}],\n",
       "   'position': 155,\n",
       "   'sid': 'HT413C1-Th1k4A1-U32'},\n",
       "  {'data': [{'dtype': 'cosmx',\n",
       "     'filepath': '/diskmnt/Projects/Users/estorrs/mushroom/data/projects/submission_v1/HT413C1-Th1k4A1/registered/s21_HT413C1-Th1k4A1-U34_cosmx.h5ad'}],\n",
       "   'position': 165,\n",
       "   'sid': 'HT413C1-Th1k4A1-U34'},\n",
       "  {'data': [{'dtype': 'he',\n",
       "     'filepath': '/diskmnt/Projects/Users/estorrs/mushroom/data/projects/submission_v1/HT413C1-Th1k4A1/registered/s22_HT413C1-Th1k4A1-U35_he.tif'}],\n",
       "   'position': 170,\n",
       "   'sid': 'HT413C1-Th1k4A1-U35'},\n",
       "  {'data': [{'dtype': 'xenium',\n",
       "     'filepath': '/diskmnt/Projects/Users/estorrs/mushroom/data/projects/submission_v1/HT413C1-Th1k4A1/registered/s23_HT413C1-Th1k4A1-U36_xenium.h5ad'}],\n",
       "   'position': 175,\n",
       "   'sid': 'HT413C1-Th1k4A1-U36'},\n",
       "  {'data': [{'dtype': 'multiplex',\n",
       "     'filepath': '/diskmnt/Projects/Users/estorrs/mushroom/data/projects/submission_v1/HT413C1-Th1k4A1/registered/s24_HT413C1-Th1k4A1-U37_multiplex.ome.tiff'}],\n",
       "   'position': 180,\n",
       "   'sid': 'HT413C1-Th1k4A1-U37'},\n",
       "  {'data': [{'dtype': 'he',\n",
       "     'filepath': '/diskmnt/Projects/Users/estorrs/mushroom/data/projects/submission_v1/HT413C1-Th1k4A1/registered/s25_HT413C1-Th1k4A1-U38_he.tif'}],\n",
       "   'position': 185,\n",
       "   'sid': 'HT413C1-Th1k4A1-U38'},\n",
       "  {'data': [{'dtype': 'he',\n",
       "     'filepath': '/diskmnt/Projects/Users/estorrs/mushroom/data/projects/submission_v1/HT413C1-Th1k4A1/registered/s26_HT413C1-Th1k4A1-U40_he.tif'}],\n",
       "   'position': 195,\n",
       "   'sid': 'HT413C1-Th1k4A1-U40'},\n",
       "  {'data': [{'dtype': 'multiplex',\n",
       "     'filepath': '/diskmnt/Projects/Users/estorrs/mushroom/data/projects/submission_v1/HT413C1-Th1k4A1/registered/s27_HT413C1-Th1k4A1-U41_multiplex.ome.tiff'}],\n",
       "   'position': 200,\n",
       "   'sid': 'HT413C1-Th1k4A1-U41'},\n",
       "  {'data': [{'dtype': 'multiplex',\n",
       "     'filepath': '/diskmnt/Projects/Users/estorrs/mushroom/data/projects/submission_v1/HT413C1-Th1k4A1/registered/s28_HT413C1-Th1k4A1-U42_multiplex.ome.tiff'}],\n",
       "   'position': 205,\n",
       "   'sid': 'HT413C1-Th1k4A1-U42'}],\n",
       " 'target_sid': 'HT413C1-Th1k4A1-U19'}"
      ]
     },
     "execution_count": 9,
     "metadata": {},
     "output_type": "execute_result"
    }
   ],
   "source": [
    "case = 'HT413C1-Th1k4A1'\n",
    "metadata = yaml.safe_load(open(os.path.join(run_dir, case, 'registered', 'metadata.yaml')))\n",
    "\n",
    "z_scaler = .2\n",
    "cluster_resolutions = [1., 1.25, 1.5]\n",
    "\n",
    "dtype_to_weight = {\n",
    "    'he': 1.,\n",
    "    'multiplex': 1.,\n",
    "    'xenium': 1.,\n",
    "    'cosmx': 0. # cosmx just kinda sucks\n",
    "}\n",
    "\n",
    "metadata"
   ]
  },
  {
   "cell_type": "code",
   "execution_count": 10,
   "id": "31659859",
   "metadata": {
    "hidden": true
   },
   "outputs": [
    {
     "data": {
      "text/plain": [
       "{'resolution': 1.0,\n",
       " 'sections': [{'data': [{'dtype': 'he',\n",
       "     'filepath': '/diskmnt/Projects/Users/estorrs/mushroom/data/projects/submission_v1/HT413C1-Th1k4A1/registered/s0_HT413C1-Th1k4A1-U14_he.tif'}],\n",
       "   'position': 0,\n",
       "   'sid': 'HT413C1-Th1k4A1-U14'},\n",
       "  {'data': [{'dtype': 'he',\n",
       "     'filepath': '/diskmnt/Projects/Users/estorrs/mushroom/data/projects/submission_v1/HT413C1-Th1k4A1/registered/s1_HT413C1-Th1k4A1-U18_he.tif'}],\n",
       "   'position': 20,\n",
       "   'sid': 'HT413C1-Th1k4A1-U18'},\n",
       "  {'data': [{'dtype': 'xenium',\n",
       "     'filepath': '/diskmnt/Projects/Users/estorrs/mushroom/data/projects/submission_v1/HT413C1-Th1k4A1/registered/s2_HT413C1-Th1k4A1-U19_xenium.h5ad'}],\n",
       "   'position': 25,\n",
       "   'sid': 'HT413C1-Th1k4A1-U19'},\n",
       "  {'data': [{'dtype': 'multiplex',\n",
       "     'filepath': '/diskmnt/Projects/Users/estorrs/mushroom/data/projects/submission_v1/HT413C1-Th1k4A1/registered/s3_HT413C1-Th1k4A1-U20_multiplex.ome.tiff'}],\n",
       "   'position': 30,\n",
       "   'sid': 'HT413C1-Th1k4A1-U20'},\n",
       "  {'data': [{'dtype': 'he',\n",
       "     'filepath': '/diskmnt/Projects/Users/estorrs/mushroom/data/projects/submission_v1/HT413C1-Th1k4A1/registered/s4_HT413C1-Th1k4A1-U1_he.tif'}],\n",
       "   'position': 45,\n",
       "   'sid': 'HT413C1-Th1k4A1-U1'},\n",
       "  {'data': [{'dtype': 'xenium',\n",
       "     'filepath': '/diskmnt/Projects/Users/estorrs/mushroom/data/projects/submission_v1/HT413C1-Th1k4A1/registered/s5_HT413C1-Th1k4A1-U2_xenium.h5ad'}],\n",
       "   'position': 50,\n",
       "   'sid': 'HT413C1-Th1k4A1-U2'},\n",
       "  {'data': [{'dtype': 'multiplex',\n",
       "     'filepath': '/diskmnt/Projects/Users/estorrs/mushroom/data/projects/submission_v1/HT413C1-Th1k4A1/registered/s6_HT413C1-Th1k4A1-U3_multiplex.ome.tiff'}],\n",
       "   'position': 55,\n",
       "   'sid': 'HT413C1-Th1k4A1-U3'},\n",
       "  {'data': [{'dtype': 'he',\n",
       "     'filepath': '/diskmnt/Projects/Users/estorrs/mushroom/data/projects/submission_v1/HT413C1-Th1k4A1/registered/s7_HT413C1-Th1k4A1-U4_he.tif'}],\n",
       "   'position': 60,\n",
       "   'sid': 'HT413C1-Th1k4A1-U4'},\n",
       "  {'data': [{'dtype': 'cosmx',\n",
       "     'filepath': '/diskmnt/Projects/Users/estorrs/mushroom/data/projects/submission_v1/HT413C1-Th1k4A1/registered/s8_HT413C1-Th1k4A1-U7_cosmx.h5ad'}],\n",
       "   'position': 75,\n",
       "   'sid': 'HT413C1-Th1k4A1-U7'},\n",
       "  {'data': [{'dtype': 'he',\n",
       "     'filepath': '/diskmnt/Projects/Users/estorrs/mushroom/data/projects/submission_v1/HT413C1-Th1k4A1/registered/s9_HT413C1-Th1k4A1-U8_he.tif'}],\n",
       "   'position': 80,\n",
       "   'sid': 'HT413C1-Th1k4A1-U8'},\n",
       "  {'data': [{'dtype': 'xenium',\n",
       "     'filepath': '/diskmnt/Projects/Users/estorrs/mushroom/data/projects/submission_v1/HT413C1-Th1k4A1/registered/s10_HT413C1-Th1k4A1-U9_xenium.h5ad'}],\n",
       "   'position': 85,\n",
       "   'sid': 'HT413C1-Th1k4A1-U9'},\n",
       "  {'data': [{'dtype': 'he',\n",
       "     'filepath': '/diskmnt/Projects/Users/estorrs/mushroom/data/projects/submission_v1/HT413C1-Th1k4A1/registered/s11_HT413C1-Th1k4A1-U11_he.tif'}],\n",
       "   'position': 95,\n",
       "   'sid': 'HT413C1-Th1k4A1-U11'},\n",
       "  {'data': [{'dtype': 'he',\n",
       "     'filepath': '/diskmnt/Projects/Users/estorrs/mushroom/data/projects/submission_v1/HT413C1-Th1k4A1/registered/s12_HT413C1-Th1k4A1-U21_he.tif'}],\n",
       "   'position': 100,\n",
       "   'sid': 'HT413C1-Th1k4A1-U21'},\n",
       "  {'data': [{'dtype': 'he',\n",
       "     'filepath': '/diskmnt/Projects/Users/estorrs/mushroom/data/projects/submission_v1/HT413C1-Th1k4A1/registered/s13_HT413C1-Th1k4A1-U24_he.tif'}],\n",
       "   'position': 115,\n",
       "   'sid': 'HT413C1-Th1k4A1-U24'},\n",
       "  {'data': [{'dtype': 'xenium',\n",
       "     'filepath': '/diskmnt/Projects/Users/estorrs/mushroom/data/projects/submission_v1/HT413C1-Th1k4A1/registered/s14_HT413C1-Th1k4A1-U25_xenium.h5ad'}],\n",
       "   'position': 120,\n",
       "   'sid': 'HT413C1-Th1k4A1-U25'},\n",
       "  {'data': [{'dtype': 'multiplex',\n",
       "     'filepath': '/diskmnt/Projects/Users/estorrs/mushroom/data/projects/submission_v1/HT413C1-Th1k4A1/registered/s15_HT413C1-Th1k4A1-U26_multiplex.ome.tiff'}],\n",
       "   'position': 125,\n",
       "   'sid': 'HT413C1-Th1k4A1-U26'},\n",
       "  {'data': [{'dtype': 'he',\n",
       "     'filepath': '/diskmnt/Projects/Users/estorrs/mushroom/data/projects/submission_v1/HT413C1-Th1k4A1/registered/s16_HT413C1-Th1k4A1-U27_he.tif'}],\n",
       "   'position': 130,\n",
       "   'sid': 'HT413C1-Th1k4A1-U27'},\n",
       "  {'data': [{'dtype': 'he',\n",
       "     'filepath': '/diskmnt/Projects/Users/estorrs/mushroom/data/projects/submission_v1/HT413C1-Th1k4A1/registered/s17_HT413C1-Th1k4A1-U29_he.tif'}],\n",
       "   'position': 140,\n",
       "   'sid': 'HT413C1-Th1k4A1-U29'},\n",
       "  {'data': [{'dtype': 'he',\n",
       "     'filepath': '/diskmnt/Projects/Users/estorrs/mushroom/data/projects/submission_v1/HT413C1-Th1k4A1/registered/s18_HT413C1-Th1k4A1-U30_he.tif'}],\n",
       "   'position': 145,\n",
       "   'sid': 'HT413C1-Th1k4A1-U30'},\n",
       "  {'data': [{'dtype': 'multiplex',\n",
       "     'filepath': '/diskmnt/Projects/Users/estorrs/mushroom/data/projects/submission_v1/HT413C1-Th1k4A1/registered/s20_HT413C1-Th1k4A1-U32_multiplex.ome.tiff'}],\n",
       "   'position': 155,\n",
       "   'sid': 'HT413C1-Th1k4A1-U32'},\n",
       "  {'data': [{'dtype': 'cosmx',\n",
       "     'filepath': '/diskmnt/Projects/Users/estorrs/mushroom/data/projects/submission_v1/HT413C1-Th1k4A1/registered/s21_HT413C1-Th1k4A1-U34_cosmx.h5ad'}],\n",
       "   'position': 165,\n",
       "   'sid': 'HT413C1-Th1k4A1-U34'},\n",
       "  {'data': [{'dtype': 'he',\n",
       "     'filepath': '/diskmnt/Projects/Users/estorrs/mushroom/data/projects/submission_v1/HT413C1-Th1k4A1/registered/s22_HT413C1-Th1k4A1-U35_he.tif'}],\n",
       "   'position': 170,\n",
       "   'sid': 'HT413C1-Th1k4A1-U35'},\n",
       "  {'data': [{'dtype': 'xenium',\n",
       "     'filepath': '/diskmnt/Projects/Users/estorrs/mushroom/data/projects/submission_v1/HT413C1-Th1k4A1/registered/s23_HT413C1-Th1k4A1-U36_xenium.h5ad'}],\n",
       "   'position': 175,\n",
       "   'sid': 'HT413C1-Th1k4A1-U36'},\n",
       "  {'data': [{'dtype': 'multiplex',\n",
       "     'filepath': '/diskmnt/Projects/Users/estorrs/mushroom/data/projects/submission_v1/HT413C1-Th1k4A1/registered/s24_HT413C1-Th1k4A1-U37_multiplex.ome.tiff'}],\n",
       "   'position': 180,\n",
       "   'sid': 'HT413C1-Th1k4A1-U37'},\n",
       "  {'data': [{'dtype': 'he',\n",
       "     'filepath': '/diskmnt/Projects/Users/estorrs/mushroom/data/projects/submission_v1/HT413C1-Th1k4A1/registered/s25_HT413C1-Th1k4A1-U38_he.tif'}],\n",
       "   'position': 185,\n",
       "   'sid': 'HT413C1-Th1k4A1-U38'},\n",
       "  {'data': [{'dtype': 'he',\n",
       "     'filepath': '/diskmnt/Projects/Users/estorrs/mushroom/data/projects/submission_v1/HT413C1-Th1k4A1/registered/s26_HT413C1-Th1k4A1-U40_he.tif'}],\n",
       "   'position': 195,\n",
       "   'sid': 'HT413C1-Th1k4A1-U40'},\n",
       "  {'data': [{'dtype': 'multiplex',\n",
       "     'filepath': '/diskmnt/Projects/Users/estorrs/mushroom/data/projects/submission_v1/HT413C1-Th1k4A1/registered/s27_HT413C1-Th1k4A1-U41_multiplex.ome.tiff'}],\n",
       "   'position': 200,\n",
       "   'sid': 'HT413C1-Th1k4A1-U41'},\n",
       "  {'data': [{'dtype': 'multiplex',\n",
       "     'filepath': '/diskmnt/Projects/Users/estorrs/mushroom/data/projects/submission_v1/HT413C1-Th1k4A1/registered/s28_HT413C1-Th1k4A1-U42_multiplex.ome.tiff'}],\n",
       "   'position': 205,\n",
       "   'sid': 'HT413C1-Th1k4A1-U42'}],\n",
       " 'target_sid': 'HT413C1-Th1k4A1-U19'}"
      ]
     },
     "execution_count": 10,
     "metadata": {},
     "output_type": "execute_result"
    }
   ],
   "source": [
    "exclude = ['HT413C1-Th1k4A1-U31'] # one of the xenium slides has detachment issues\n",
    "metadata['sections'] = [x for x in metadata['sections'] if x['sid'] not in exclude]\n",
    "metadata"
   ]
  },
  {
   "cell_type": "markdown",
   "id": "bdfefdd3",
   "metadata": {
    "heading_collapsed": true
   },
   "source": [
    "###### HT206B1"
   ]
  },
  {
   "cell_type": "code",
   "execution_count": 9,
   "id": "6c0583cd",
   "metadata": {
    "hidden": true,
    "scrolled": true
   },
   "outputs": [
    {
     "data": {
      "text/plain": [
       "{'resolution': 1.0,\n",
       " 'sections': [{'data': [{'dtype': 'xenium',\n",
       "     'filepath': '/diskmnt/Projects/Users/estorrs/mushroom/data/projects/submission_v1/HT206B1/registered/s0_HT206B1-U1_xenium.h5ad'}],\n",
       "   'position': 0,\n",
       "   'sid': 'HT206B1-U1'},\n",
       "  {'data': [{'dtype': 'multiplex',\n",
       "     'filepath': '/diskmnt/Projects/Users/estorrs/mushroom/data/projects/submission_v1/HT206B1/registered/s1_HT206B1-U2_multiplex.ome.tiff'}],\n",
       "   'position': 5,\n",
       "   'sid': 'HT206B1-U2'},\n",
       "  {'data': [{'dtype': 'he',\n",
       "     'filepath': '/diskmnt/Projects/Users/estorrs/mushroom/data/projects/submission_v1/HT206B1/registered/s2_HT206B1-U4_he.tif'}],\n",
       "   'position': 15,\n",
       "   'sid': 'HT206B1-U4'},\n",
       "  {'data': [{'dtype': 'multiplex',\n",
       "     'filepath': '/diskmnt/Projects/Users/estorrs/mushroom/data/projects/submission_v1/HT206B1/registered/s3_HT206B1-U5_multiplex.ome.tiff'}],\n",
       "   'position': 20,\n",
       "   'sid': 'HT206B1-U5'},\n",
       "  {'data': [{'dtype': 'xenium',\n",
       "     'filepath': '/diskmnt/Projects/Users/estorrs/mushroom/data/projects/submission_v1/HT206B1/registered/s4_HT206B1-U8_xenium.h5ad'}],\n",
       "   'position': 40,\n",
       "   'sid': 'HT206B1-U8'},\n",
       "  {'data': [{'dtype': 'xenium',\n",
       "     'filepath': '/diskmnt/Projects/Users/estorrs/mushroom/data/projects/submission_v1/HT206B1/registered/s5_HT206B1-U9_xenium.h5ad'}],\n",
       "   'position': 45,\n",
       "   'sid': 'HT206B1-U9'},\n",
       "  {'data': [{'dtype': 'multiplex',\n",
       "     'filepath': '/diskmnt/Projects/Users/estorrs/mushroom/data/projects/submission_v1/HT206B1/registered/s6_HT206B1-U10_multiplex.ome.tiff'}],\n",
       "   'position': 50,\n",
       "   'sid': 'HT206B1-U10'},\n",
       "  {'data': [{'dtype': 'he',\n",
       "     'filepath': '/diskmnt/Projects/Users/estorrs/mushroom/data/projects/submission_v1/HT206B1/registered/s7_HT206B1-U12_he.tif'}],\n",
       "   'position': 60,\n",
       "   'sid': 'HT206B1-U12'},\n",
       "  {'data': [{'dtype': 'multiplex',\n",
       "     'filepath': '/diskmnt/Projects/Users/estorrs/mushroom/data/projects/submission_v1/HT206B1/registered/s8_HT206B1-U13_multiplex.ome.tiff'}],\n",
       "   'position': 65,\n",
       "   'sid': 'HT206B1-U13'},\n",
       "  {'data': [{'dtype': 'xenium',\n",
       "     'filepath': '/diskmnt/Projects/Users/estorrs/mushroom/data/projects/submission_v1/HT206B1/registered/s9_HT206B1-U16_xenium.h5ad'}],\n",
       "   'position': 80,\n",
       "   'sid': 'HT206B1-U16'},\n",
       "  {'data': [{'dtype': 'xenium',\n",
       "     'filepath': '/diskmnt/Projects/Users/estorrs/mushroom/data/projects/submission_v1/HT206B1/registered/s10_HT206B1-U17_xenium.h5ad'}],\n",
       "   'position': 85,\n",
       "   'sid': 'HT206B1-U17'},\n",
       "  {'data': [{'dtype': 'multiplex',\n",
       "     'filepath': '/diskmnt/Projects/Users/estorrs/mushroom/data/projects/submission_v1/HT206B1/registered/s11_HT206B1-U18_multiplex.ome.tiff'}],\n",
       "   'position': 90,\n",
       "   'sid': 'HT206B1-U18'},\n",
       "  {'data': [{'dtype': 'he',\n",
       "     'filepath': '/diskmnt/Projects/Users/estorrs/mushroom/data/projects/submission_v1/HT206B1/registered/s12_HT206B1-U20_he.tif'}],\n",
       "   'position': 100,\n",
       "   'sid': 'HT206B1-U20'},\n",
       "  {'data': [{'dtype': 'multiplex',\n",
       "     'filepath': '/diskmnt/Projects/Users/estorrs/mushroom/data/projects/submission_v1/HT206B1/registered/s13_HT206B1-U21_multiplex.ome.tiff'}],\n",
       "   'position': 105,\n",
       "   'sid': 'HT206B1-U21'},\n",
       "  {'data': [{'dtype': 'xenium',\n",
       "     'filepath': '/diskmnt/Projects/Users/estorrs/mushroom/data/projects/submission_v1/HT206B1/registered/s14_HT206B1-U24_xenium.h5ad'}],\n",
       "   'position': 120,\n",
       "   'sid': 'HT206B1-U24'}],\n",
       " 'target_sid': 'HT206B1-U1'}"
      ]
     },
     "execution_count": 9,
     "metadata": {},
     "output_type": "execute_result"
    }
   ],
   "source": [
    "case = 'HT206B1'\n",
    "metadata = yaml.safe_load(open(os.path.join(run_dir, case, 'registered', 'metadata.yaml')))\n",
    "\n",
    "z_scaler = .2\n",
    "cluster_resolutions = [1., 1.25, 1.5]\n",
    "dtype_to_weight = None # all dtypes equally\n",
    "\n",
    "\n",
    "metadata"
   ]
  },
  {
   "cell_type": "markdown",
   "id": "89d4bf85",
   "metadata": {
    "heading_collapsed": true
   },
   "source": [
    "###### HT397B1"
   ]
  },
  {
   "cell_type": "code",
   "execution_count": 12,
   "id": "e794f890",
   "metadata": {
    "hidden": true,
    "scrolled": true
   },
   "outputs": [
    {
     "data": {
      "text/plain": [
       "{'resolution': 2.3223207975307805,\n",
       " 'sections': [{'data': [{'dtype': 'visium',\n",
       "     'filepath': '/diskmnt/Projects/Users/estorrs/mushroom/data/projects/submission_v1/HT397B1/registered/s0_HT397B1-U1_visium.h5ad'},\n",
       "    {'dtype': 'he',\n",
       "     'filepath': '/diskmnt/Projects/Users/estorrs/mushroom/data/projects/submission_v1/HT397B1/registered/s0_HT397B1-U1_he.tif'}],\n",
       "   'position': 0,\n",
       "   'sid': 'HT397B1-U1'},\n",
       "  {'data': [{'dtype': 'multiplex',\n",
       "     'filepath': '/diskmnt/Projects/Users/estorrs/mushroom/data/projects/submission_v1/HT397B1/registered/s1_HT397B1-U2_multiplex.ome.tiff'}],\n",
       "   'position': 5,\n",
       "   'sid': 'HT397B1-U2'},\n",
       "  {'data': [{'dtype': 'batch2_he',\n",
       "     'filepath': '/diskmnt/Projects/Users/estorrs/mushroom/data/projects/submission_v1/HT397B1/registered/s2_HT397B1-U4_batch2_he.tif'}],\n",
       "   'position': 15,\n",
       "   'sid': 'HT397B1-U4'},\n",
       "  {'data': [{'dtype': 'batch2_he',\n",
       "     'filepath': '/diskmnt/Projects/Users/estorrs/mushroom/data/projects/submission_v1/HT397B1/registered/s3_HT397B1-U8_batch2_he.tif'}],\n",
       "   'position': 35,\n",
       "   'sid': 'HT397B1-U8'},\n",
       "  {'data': [{'dtype': 'batch2_he',\n",
       "     'filepath': '/diskmnt/Projects/Users/estorrs/mushroom/data/projects/submission_v1/HT397B1/registered/s4_HT397B1-U11_batch2_he.tif'}],\n",
       "   'position': 50,\n",
       "   'sid': 'HT397B1-U11'},\n",
       "  {'data': [{'dtype': 'multiplex',\n",
       "     'filepath': '/diskmnt/Projects/Users/estorrs/mushroom/data/projects/submission_v1/HT397B1/registered/s5_HT397B1-U12_multiplex.ome.tiff'}],\n",
       "   'position': 55,\n",
       "   'sid': 'HT397B1-U12'},\n",
       "  {'data': [{'dtype': 'batch2_he',\n",
       "     'filepath': '/diskmnt/Projects/Users/estorrs/mushroom/data/projects/submission_v1/HT397B1/registered/s6_HT397B1-U16_batch2_he.tif'}],\n",
       "   'position': 75,\n",
       "   'sid': 'HT397B1-U16'},\n",
       "  {'data': [{'dtype': 'visium',\n",
       "     'filepath': '/diskmnt/Projects/Users/estorrs/mushroom/data/projects/submission_v1/HT397B1/registered/s7_HT397B1-U21_visium.h5ad'},\n",
       "    {'dtype': 'he',\n",
       "     'filepath': '/diskmnt/Projects/Users/estorrs/mushroom/data/projects/submission_v1/HT397B1/registered/s7_HT397B1-U21_he.tif'}],\n",
       "   'position': 100,\n",
       "   'sid': 'HT397B1-U21'},\n",
       "  {'data': [{'dtype': 'multiplex',\n",
       "     'filepath': '/diskmnt/Projects/Users/estorrs/mushroom/data/projects/submission_v1/HT397B1/registered/s8_HT397B1-U22_multiplex.ome.tiff'}],\n",
       "   'position': 105,\n",
       "   'sid': 'HT397B1-U22'},\n",
       "  {'data': [{'dtype': 'batch2_he',\n",
       "     'filepath': '/diskmnt/Projects/Users/estorrs/mushroom/data/projects/submission_v1/HT397B1/registered/s9_HT397B1-U20_batch2_he.tif'}],\n",
       "   'position': 125,\n",
       "   'sid': 'HT397B1-U20'},\n",
       "  {'data': [{'dtype': 'batch2_he',\n",
       "     'filepath': '/diskmnt/Projects/Users/estorrs/mushroom/data/projects/submission_v1/HT397B1/registered/s10_HT397B1-U28_batch2_he.tif'}],\n",
       "   'position': 145,\n",
       "   'sid': 'HT397B1-U28'},\n",
       "  {'data': [{'dtype': 'multiplex',\n",
       "     'filepath': '/diskmnt/Projects/Users/estorrs/mushroom/data/projects/submission_v1/HT397B1/registered/s11_HT397B1-U31_multiplex.ome.tiff'}],\n",
       "   'position': 150,\n",
       "   'sid': 'HT397B1-U31'}],\n",
       " 'target_sid': 'HT397B1-U1'}"
      ]
     },
     "execution_count": 12,
     "metadata": {},
     "output_type": "execute_result"
    }
   ],
   "source": [
    "case = 'HT397B1'\n",
    "metadata = yaml.safe_load(open(os.path.join(run_dir, case, 'registered', 'metadata.yaml')))\n",
    "\n",
    "z_scaler = .2\n",
    "cluster_resolutions = [1., 1.25, 1.5]\n",
    "dtype_to_weight = {\n",
    "    'he': 0., # ignoring visium H&E\n",
    "    'visium': 1.,\n",
    "    'multiplex': 1.,\n",
    "    'batch2_he': 1.\n",
    "}\n",
    "\n",
    "\n",
    "metadata"
   ]
  },
  {
   "cell_type": "markdown",
   "id": "fa271138",
   "metadata": {
    "heading_collapsed": true
   },
   "source": [
    "###### WD-76845"
   ]
  },
  {
   "cell_type": "code",
   "execution_count": 9,
   "id": "e76c6438",
   "metadata": {
    "hidden": true
   },
   "outputs": [
    {
     "data": {
      "text/plain": [
       "{'resolution': 0.6499999761581421,\n",
       " 'sections': [{'data': [{'dtype': 'he',\n",
       "     'filepath': '/diskmnt/Projects/Users/estorrs/mushroom/data/projects/submission_v1/WD-76845/registered/s0_WD-76845-U1_he.tif'}],\n",
       "   'position': 5,\n",
       "   'sid': 'WD-76845-U1'},\n",
       "  {'data': [{'dtype': 'multiplex',\n",
       "     'filepath': '/diskmnt/Projects/Users/estorrs/mushroom/data/projects/submission_v1/WD-76845/registered/s1_WD-76845-U2_multiplex.ome.tiff'}],\n",
       "   'position': 10,\n",
       "   'sid': 'WD-76845-U2'},\n",
       "  {'data': [{'dtype': 'he',\n",
       "     'filepath': '/diskmnt/Projects/Users/estorrs/mushroom/data/projects/submission_v1/WD-76845/registered/s2_WD-76845-U6_he.tif'}],\n",
       "   'position': 30,\n",
       "   'sid': 'WD-76845-U6'},\n",
       "  {'data': [{'dtype': 'multiplex',\n",
       "     'filepath': '/diskmnt/Projects/Users/estorrs/mushroom/data/projects/submission_v1/WD-76845/registered/s3_WD-76845-U7_multiplex.ome.tiff'}],\n",
       "   'position': 35,\n",
       "   'sid': 'WD-76845-U7'},\n",
       "  {'data': [{'dtype': 'he',\n",
       "     'filepath': '/diskmnt/Projects/Users/estorrs/mushroom/data/projects/submission_v1/WD-76845/registered/s4_WD-76845-U13_he.tif'}],\n",
       "   'position': 65,\n",
       "   'sid': 'WD-76845-U13'},\n",
       "  {'data': [{'dtype': 'multiplex',\n",
       "     'filepath': '/diskmnt/Projects/Users/estorrs/mushroom/data/projects/submission_v1/WD-76845/registered/s5_WD-76845-U14_multiplex.ome.tiff'}],\n",
       "   'position': 70,\n",
       "   'sid': 'WD-76845-U14'},\n",
       "  {'data': [{'dtype': 'he',\n",
       "     'filepath': '/diskmnt/Projects/Users/estorrs/mushroom/data/projects/submission_v1/WD-76845/registered/s6_WD-76845-U19_he.tif'}],\n",
       "   'position': 95,\n",
       "   'sid': 'WD-76845-U19'},\n",
       "  {'data': [{'dtype': 'multiplex',\n",
       "     'filepath': '/diskmnt/Projects/Users/estorrs/mushroom/data/projects/submission_v1/WD-76845/registered/s7_WD-76845-U20_multiplex.ome.tiff'}],\n",
       "   'position': 100,\n",
       "   'sid': 'WD-76845-U20'},\n",
       "  {'data': [{'dtype': 'he',\n",
       "     'filepath': '/diskmnt/Projects/Users/estorrs/mushroom/data/projects/submission_v1/WD-76845/registered/s8_WD-76845-U24_he.tif'}],\n",
       "   'position': 120,\n",
       "   'sid': 'WD-76845-U24'},\n",
       "  {'data': [{'dtype': 'multiplex',\n",
       "     'filepath': '/diskmnt/Projects/Users/estorrs/mushroom/data/projects/submission_v1/WD-76845/registered/s9_WD-76845-U25_multiplex.ome.tiff'}],\n",
       "   'position': 125,\n",
       "   'sid': 'WD-76845-U25'},\n",
       "  {'data': [{'dtype': 'he',\n",
       "     'filepath': '/diskmnt/Projects/Users/estorrs/mushroom/data/projects/submission_v1/WD-76845/registered/s10_WD-76845-U28_he.tif'}],\n",
       "   'position': 140,\n",
       "   'sid': 'WD-76845-U28'},\n",
       "  {'data': [{'dtype': 'multiplex',\n",
       "     'filepath': '/diskmnt/Projects/Users/estorrs/mushroom/data/projects/submission_v1/WD-76845/registered/s11_WD-76845-U29_multiplex.ome.tiff'}],\n",
       "   'position': 145,\n",
       "   'sid': 'WD-76845-U29'},\n",
       "  {'data': [{'dtype': 'he',\n",
       "     'filepath': '/diskmnt/Projects/Users/estorrs/mushroom/data/projects/submission_v1/WD-76845/registered/s12_WD-76845-U33_he.tif'}],\n",
       "   'position': 165,\n",
       "   'sid': 'WD-76845-U33'},\n",
       "  {'data': [{'dtype': 'multiplex',\n",
       "     'filepath': '/diskmnt/Projects/Users/estorrs/mushroom/data/projects/submission_v1/WD-76845/registered/s13_WD-76845-U34_multiplex.ome.tiff'}],\n",
       "   'position': 170,\n",
       "   'sid': 'WD-76845-U34'},\n",
       "  {'data': [{'dtype': 'he',\n",
       "     'filepath': '/diskmnt/Projects/Users/estorrs/mushroom/data/projects/submission_v1/WD-76845/registered/s14_WD-76845-U38_he.tif'}],\n",
       "   'position': 190,\n",
       "   'sid': 'WD-76845-U38'},\n",
       "  {'data': [{'dtype': 'multiplex',\n",
       "     'filepath': '/diskmnt/Projects/Users/estorrs/mushroom/data/projects/submission_v1/WD-76845/registered/s15_WD-76845-U39_multiplex.ome.tiff'}],\n",
       "   'position': 195,\n",
       "   'sid': 'WD-76845-U39'},\n",
       "  {'data': [{'dtype': 'he',\n",
       "     'filepath': '/diskmnt/Projects/Users/estorrs/mushroom/data/projects/submission_v1/WD-76845/registered/s16_WD-76845-U43_he.tif'}],\n",
       "   'position': 215,\n",
       "   'sid': 'WD-76845-U43'},\n",
       "  {'data': [{'dtype': 'multiplex',\n",
       "     'filepath': '/diskmnt/Projects/Users/estorrs/mushroom/data/projects/submission_v1/WD-76845/registered/s17_WD-76845-U44_multiplex.ome.tiff'}],\n",
       "   'position': 220,\n",
       "   'sid': 'WD-76845-U44'},\n",
       "  {'data': [{'dtype': 'he',\n",
       "     'filepath': '/diskmnt/Projects/Users/estorrs/mushroom/data/projects/submission_v1/WD-76845/registered/s18_WD-76845-U48_he.tif'}],\n",
       "   'position': 240,\n",
       "   'sid': 'WD-76845-U48'},\n",
       "  {'data': [{'dtype': 'multiplex',\n",
       "     'filepath': '/diskmnt/Projects/Users/estorrs/mushroom/data/projects/submission_v1/WD-76845/registered/s19_WD-76845-U49_multiplex.ome.tiff'}],\n",
       "   'position': 245,\n",
       "   'sid': 'WD-76845-U49'},\n",
       "  {'data': [{'dtype': 'multiplex',\n",
       "     'filepath': '/diskmnt/Projects/Users/estorrs/mushroom/data/projects/submission_v1/WD-76845/registered/s20_WD-76845-U50_multiplex.ome.tiff'}],\n",
       "   'position': 250,\n",
       "   'sid': 'WD-76845-U50'},\n",
       "  {'data': [{'dtype': 'multiplex',\n",
       "     'filepath': '/diskmnt/Projects/Users/estorrs/mushroom/data/projects/submission_v1/WD-76845/registered/s21_WD-76845-U51_multiplex.ome.tiff'}],\n",
       "   'position': 255,\n",
       "   'sid': 'WD-76845-U51'},\n",
       "  {'data': [{'dtype': 'multiplex',\n",
       "     'filepath': '/diskmnt/Projects/Users/estorrs/mushroom/data/projects/submission_v1/WD-76845/registered/s22_WD-76845-U52_multiplex.ome.tiff'}],\n",
       "   'position': 260,\n",
       "   'sid': 'WD-76845-U52'},\n",
       "  {'data': [{'dtype': 'he',\n",
       "     'filepath': '/diskmnt/Projects/Users/estorrs/mushroom/data/projects/submission_v1/WD-76845/registered/s23_WD-76845-U53_he.tif'}],\n",
       "   'position': 265,\n",
       "   'sid': 'WD-76845-U53'},\n",
       "  {'data': [{'dtype': 'multiplex',\n",
       "     'filepath': '/diskmnt/Projects/Users/estorrs/mushroom/data/projects/submission_v1/WD-76845/registered/s24_WD-76845-U54_multiplex.ome.tiff'}],\n",
       "   'position': 270,\n",
       "   'sid': 'WD-76845-U54'},\n",
       "  {'data': [{'dtype': 'he',\n",
       "     'filepath': '/diskmnt/Projects/Users/estorrs/mushroom/data/projects/submission_v1/WD-76845/registered/s25_WD-76845-U58_he.tif'}],\n",
       "   'position': 290,\n",
       "   'sid': 'WD-76845-U58'},\n",
       "  {'data': [{'dtype': 'multiplex',\n",
       "     'filepath': '/diskmnt/Projects/Users/estorrs/mushroom/data/projects/submission_v1/WD-76845/registered/s26_WD-76845-U59_multiplex.ome.tiff'}],\n",
       "   'position': 295,\n",
       "   'sid': 'WD-76845-U59'},\n",
       "  {'data': [{'dtype': 'he',\n",
       "     'filepath': '/diskmnt/Projects/Users/estorrs/mushroom/data/projects/submission_v1/WD-76845/registered/s27_WD-76845-U63_he.tif'}],\n",
       "   'position': 315,\n",
       "   'sid': 'WD-76845-U63'},\n",
       "  {'data': [{'dtype': 'multiplex',\n",
       "     'filepath': '/diskmnt/Projects/Users/estorrs/mushroom/data/projects/submission_v1/WD-76845/registered/s28_WD-76845-U64_multiplex.ome.tiff'}],\n",
       "   'position': 320,\n",
       "   'sid': 'WD-76845-U64'},\n",
       "  {'data': [{'dtype': 'he',\n",
       "     'filepath': '/diskmnt/Projects/Users/estorrs/mushroom/data/projects/submission_v1/WD-76845/registered/s29_WD-76845-U68_he.tif'}],\n",
       "   'position': 340,\n",
       "   'sid': 'WD-76845-U68'},\n",
       "  {'data': [{'dtype': 'multiplex',\n",
       "     'filepath': '/diskmnt/Projects/Users/estorrs/mushroom/data/projects/submission_v1/WD-76845/registered/s30_WD-76845-U69_multiplex.ome.tiff'}],\n",
       "   'position': 345,\n",
       "   'sid': 'WD-76845-U69'},\n",
       "  {'data': [{'dtype': 'he',\n",
       "     'filepath': '/diskmnt/Projects/Users/estorrs/mushroom/data/projects/submission_v1/WD-76845/registered/s31_WD-76845-U73_he.tif'}],\n",
       "   'position': 365,\n",
       "   'sid': 'WD-76845-U73'},\n",
       "  {'data': [{'dtype': 'multiplex',\n",
       "     'filepath': '/diskmnt/Projects/Users/estorrs/mushroom/data/projects/submission_v1/WD-76845/registered/s32_WD-76845-U74_multiplex.ome.tiff'}],\n",
       "   'position': 370,\n",
       "   'sid': 'WD-76845-U74'},\n",
       "  {'data': [{'dtype': 'he',\n",
       "     'filepath': '/diskmnt/Projects/Users/estorrs/mushroom/data/projects/submission_v1/WD-76845/registered/s33_WD-76845-U77_he.tif'}],\n",
       "   'position': 385,\n",
       "   'sid': 'WD-76845-U77'},\n",
       "  {'data': [{'dtype': 'multiplex',\n",
       "     'filepath': '/diskmnt/Projects/Users/estorrs/mushroom/data/projects/submission_v1/WD-76845/registered/s34_WD-76845-U78_multiplex.ome.tiff'}],\n",
       "   'position': 390,\n",
       "   'sid': 'WD-76845-U78'},\n",
       "  {'data': [{'dtype': 'he',\n",
       "     'filepath': '/diskmnt/Projects/Users/estorrs/mushroom/data/projects/submission_v1/WD-76845/registered/s35_WD-76845-U83_he.tif'}],\n",
       "   'position': 415,\n",
       "   'sid': 'WD-76845-U83'},\n",
       "  {'data': [{'dtype': 'multiplex',\n",
       "     'filepath': '/diskmnt/Projects/Users/estorrs/mushroom/data/projects/submission_v1/WD-76845/registered/s36_WD-76845-U84_multiplex.ome.tiff'}],\n",
       "   'position': 420,\n",
       "   'sid': 'WD-76845-U84'},\n",
       "  {'data': [{'dtype': 'he',\n",
       "     'filepath': '/diskmnt/Projects/Users/estorrs/mushroom/data/projects/submission_v1/WD-76845/registered/s37_WD-76845-U85_he.tif'}],\n",
       "   'position': 425,\n",
       "   'sid': 'WD-76845-U85'},\n",
       "  {'data': [{'dtype': 'multiplex',\n",
       "     'filepath': '/diskmnt/Projects/Users/estorrs/mushroom/data/projects/submission_v1/WD-76845/registered/s38_WD-76845-U86_multiplex.ome.tiff'}],\n",
       "   'position': 430,\n",
       "   'sid': 'WD-76845-U86'},\n",
       "  {'data': [{'dtype': 'he',\n",
       "     'filepath': '/diskmnt/Projects/Users/estorrs/mushroom/data/projects/submission_v1/WD-76845/registered/s39_WD-76845-U90_he.tif'}],\n",
       "   'position': 450,\n",
       "   'sid': 'WD-76845-U90'},\n",
       "  {'data': [{'dtype': 'multiplex',\n",
       "     'filepath': '/diskmnt/Projects/Users/estorrs/mushroom/data/projects/submission_v1/WD-76845/registered/s40_WD-76845-U91_multiplex.ome.tiff'}],\n",
       "   'position': 455,\n",
       "   'sid': 'WD-76845-U91'},\n",
       "  {'data': [{'dtype': 'he',\n",
       "     'filepath': '/diskmnt/Projects/Users/estorrs/mushroom/data/projects/submission_v1/WD-76845/registered/s41_WD-76845-U96_he.tif'}],\n",
       "   'position': 480,\n",
       "   'sid': 'WD-76845-U96'},\n",
       "  {'data': [{'dtype': 'multiplex',\n",
       "     'filepath': '/diskmnt/Projects/Users/estorrs/mushroom/data/projects/submission_v1/WD-76845/registered/s42_WD-76845-U97_multiplex.ome.tiff'}],\n",
       "   'position': 485,\n",
       "   'sid': 'WD-76845-U97'},\n",
       "  {'data': [{'dtype': 'he',\n",
       "     'filepath': '/diskmnt/Projects/Users/estorrs/mushroom/data/projects/submission_v1/WD-76845/registered/s43_WD-76845-U101_he.tif'}],\n",
       "   'position': 505,\n",
       "   'sid': 'WD-76845-U101'},\n",
       "  {'data': [{'dtype': 'multiplex',\n",
       "     'filepath': '/diskmnt/Projects/Users/estorrs/mushroom/data/projects/submission_v1/WD-76845/registered/s44_WD-76845-U102_multiplex.ome.tiff'}],\n",
       "   'position': 510,\n",
       "   'sid': 'WD-76845-U102'},\n",
       "  {'data': [{'dtype': 'he',\n",
       "     'filepath': '/diskmnt/Projects/Users/estorrs/mushroom/data/projects/submission_v1/WD-76845/registered/s45_WD-76845-U105_he.tif'}],\n",
       "   'position': 525,\n",
       "   'sid': 'WD-76845-U105'},\n",
       "  {'data': [{'dtype': 'multiplex',\n",
       "     'filepath': '/diskmnt/Projects/Users/estorrs/mushroom/data/projects/submission_v1/WD-76845/registered/s46_WD-76845-U106_multiplex.ome.tiff'}],\n",
       "   'position': 530,\n",
       "   'sid': 'WD-76845-U106'}],\n",
       " 'target_sid': 'WD-76845-U2'}"
      ]
     },
     "execution_count": 9,
     "metadata": {},
     "output_type": "execute_result"
    }
   ],
   "source": [
    "case = 'WD-76845'\n",
    "metadata = yaml.safe_load(open(os.path.join(run_dir, case, 'registered', 'metadata.yaml')))\n",
    "\n",
    "z_scaler = .2\n",
    "cluster_resolutions = [1., 1.25, 1.5]\n",
    "dtype_to_weight = None\n",
    "\n",
    "metadata"
   ]
  },
  {
   "cell_type": "markdown",
   "id": "1f15b97c",
   "metadata": {
    "heading_collapsed": true
   },
   "source": [
    "###### S18-25943-A7"
   ]
  },
  {
   "cell_type": "code",
   "execution_count": 10,
   "id": "e7d70a7d",
   "metadata": {
    "hidden": true
   },
   "outputs": [
    {
     "data": {
      "text/plain": [
       "{'resolution': 1.0,\n",
       " 'sections': [{'data': [{'dtype': 'xenium',\n",
       "     'filepath': '/diskmnt/Projects/Users/estorrs/mushroom/data/projects/submission_v1/S18-25943-A7/registered/s0_S18-25943-A7-U1_xenium.h5ad'}],\n",
       "   'position': 0,\n",
       "   'sid': 'S18-25943-A7-U1'},\n",
       "  {'data': [{'dtype': 'xenium',\n",
       "     'filepath': '/diskmnt/Projects/Users/estorrs/mushroom/data/projects/submission_v1/S18-25943-A7/registered/s1_S18-25943-A7-U4_xenium.h5ad'}],\n",
       "   'position': 15,\n",
       "   'sid': 'S18-25943-A7-U4'},\n",
       "  {'data': [{'dtype': 'xenium',\n",
       "     'filepath': '/diskmnt/Projects/Users/estorrs/mushroom/data/projects/submission_v1/S18-25943-A7/registered/s2_S18-25943-A7-U8_xenium.h5ad'}],\n",
       "   'position': 35,\n",
       "   'sid': 'S18-25943-A7-U8'},\n",
       "  {'data': [{'dtype': 'multiplex',\n",
       "     'filepath': '/diskmnt/Projects/Users/estorrs/mushroom/data/projects/submission_v1/S18-25943-A7/registered/s3_S18-25943-A7-U9_multiplex.ome.tiff'}],\n",
       "   'position': 40,\n",
       "   'sid': 'S18-25943-A7-U9'},\n",
       "  {'data': [{'dtype': 'xenium',\n",
       "     'filepath': '/diskmnt/Projects/Users/estorrs/mushroom/data/projects/submission_v1/S18-25943-A7/registered/s4_S18-25943-A7-U11_xenium.h5ad'}],\n",
       "   'position': 50,\n",
       "   'sid': 'S18-25943-A7-U11'},\n",
       "  {'data': [{'dtype': 'multiplex',\n",
       "     'filepath': '/diskmnt/Projects/Users/estorrs/mushroom/data/projects/submission_v1/S18-25943-A7/registered/s5_S18-25943-A7-U13_multiplex.ome.tiff'}],\n",
       "   'position': 60,\n",
       "   'sid': 'S18-25943-A7-U13'}],\n",
       " 'target_sid': 'S18-25943-A7-U1'}"
      ]
     },
     "execution_count": 10,
     "metadata": {},
     "output_type": "execute_result"
    }
   ],
   "source": [
    "case = 'S18-25943-A7'\n",
    "metadata = yaml.safe_load(open(os.path.join(run_dir, case, 'registered', 'metadata.yaml')))\n",
    "\n",
    "z_scaler = .2\n",
    "cluster_resolutions = [1., 1.25, 1.5]\n",
    "dtype_to_weight = None\n",
    "\n",
    "metadata"
   ]
  },
  {
   "cell_type": "markdown",
   "id": "e197626e",
   "metadata": {
    "heading_collapsed": true
   },
   "source": [
    "###### HT225C1"
   ]
  },
  {
   "cell_type": "code",
   "execution_count": 9,
   "id": "0f189eff",
   "metadata": {
    "hidden": true
   },
   "outputs": [
    {
     "data": {
      "text/plain": [
       "{'resolution': 2.484081102305233,\n",
       " 'sections': [{'data': [{'dtype': 'visium',\n",
       "     'filepath': '/diskmnt/Projects/Users/estorrs/mushroom/data/projects/submission_v1/HT225C1/registered/s0_HT225C1-U2_visium.h5ad'},\n",
       "    {'dtype': 'he',\n",
       "     'filepath': '/diskmnt/Projects/Users/estorrs/mushroom/data/projects/submission_v1/HT225C1/registered/s0_HT225C1-U2_he.tif'}],\n",
       "   'position': 0,\n",
       "   'sid': 'HT225C1-U2'},\n",
       "  {'data': [{'dtype': 'visium',\n",
       "     'filepath': '/diskmnt/Projects/Users/estorrs/mushroom/data/projects/submission_v1/HT225C1/registered/s1_HT225C1-U3_visium.h5ad'},\n",
       "    {'dtype': 'he',\n",
       "     'filepath': '/diskmnt/Projects/Users/estorrs/mushroom/data/projects/submission_v1/HT225C1/registered/s1_HT225C1-U3_he.tif'}],\n",
       "   'position': 60,\n",
       "   'sid': 'HT225C1-U3'},\n",
       "  {'data': [{'dtype': 'visium',\n",
       "     'filepath': '/diskmnt/Projects/Users/estorrs/mushroom/data/projects/submission_v1/HT225C1/registered/s2_HT225C1-U4_visium.h5ad'},\n",
       "    {'dtype': 'he',\n",
       "     'filepath': '/diskmnt/Projects/Users/estorrs/mushroom/data/projects/submission_v1/HT225C1/registered/s2_HT225C1-U4_he.tif'}],\n",
       "   'position': 120,\n",
       "   'sid': 'HT225C1-U4'},\n",
       "  {'data': [{'dtype': 'visium',\n",
       "     'filepath': '/diskmnt/Projects/Users/estorrs/mushroom/data/projects/submission_v1/HT225C1/registered/s3_HT225C1-U5_visium.h5ad'},\n",
       "    {'dtype': 'he',\n",
       "     'filepath': '/diskmnt/Projects/Users/estorrs/mushroom/data/projects/submission_v1/HT225C1/registered/s3_HT225C1-U5_he.tif'}],\n",
       "   'position': 180,\n",
       "   'sid': 'HT225C1-U5'}],\n",
       " 'target_sid': 'HT225C1-U2'}"
      ]
     },
     "execution_count": 9,
     "metadata": {},
     "output_type": "execute_result"
    }
   ],
   "source": [
    "case = 'HT225C1'\n",
    "metadata = yaml.safe_load(open(os.path.join(run_dir, case, 'registered', 'metadata.yaml')))\n",
    "\n",
    "z_scaler = .2\n",
    "cluster_resolutions = [1., 1.25, 1.5]\n",
    "dtype_to_weight = None\n",
    "\n",
    "metadata"
   ]
  },
  {
   "cell_type": "markdown",
   "id": "ad65f3d8",
   "metadata": {},
   "source": [
    "###### C3L-00970"
   ]
  },
  {
   "cell_type": "code",
   "execution_count": 9,
   "id": "ba5aad0a",
   "metadata": {},
   "outputs": [
    {
     "data": {
      "text/plain": [
       "{'resolution': 1.0,\n",
       " 'sections': [{'data': [{'dtype': 'xenium',\n",
       "     'filepath': '/diskmnt/Projects/Users/estorrs/mushroom/data/projects/submission_v1/C3L-00970/registered/s0_C3L-00970-U1_xenium.h5ad'}],\n",
       "   'position': 0,\n",
       "   'sid': 'C3L-00970-U1'},\n",
       "  {'data': [{'dtype': 'multiplex',\n",
       "     'filepath': '/diskmnt/Projects/Users/estorrs/mushroom/data/projects/submission_v1/C3L-00970/registered/s1_C3L-00970-U2_multiplex.ome.tiff'}],\n",
       "   'position': 5,\n",
       "   'sid': 'C3L-00970-U2'}],\n",
       " 'target_sid': 'C3L-00970-U1'}"
      ]
     },
     "execution_count": 9,
     "metadata": {},
     "output_type": "execute_result"
    }
   ],
   "source": [
    "case = 'C3L-00970'\n",
    "metadata = yaml.safe_load(open(os.path.join(run_dir, case, 'registered', 'metadata.yaml')))\n",
    "\n",
    "z_scaler = .2\n",
    "cluster_resolutions = [1., 1.25, 1.5]\n",
    "dtype_to_weight = None\n",
    "\n",
    "metadata"
   ]
  },
  {
   "cell_type": "markdown",
   "id": "baa9d3c9",
   "metadata": {
    "heading_collapsed": true
   },
   "source": [
    "###### C3L-01287"
   ]
  },
  {
   "cell_type": "code",
   "execution_count": null,
   "id": "f5f2d309",
   "metadata": {
    "hidden": true
   },
   "outputs": [],
   "source": [
    "case = ''\n",
    "metadata = yaml.safe_load(open(os.path.join(run_dir, case, 'registered', 'metadata.yaml')))\n",
    "\n",
    "z_scaler = .2\n",
    "cluster_resolutions = [1., 1.25, 1.5]\n",
    "dtype_to_weight = None\n",
    "\n",
    "metadata"
   ]
  },
  {
   "cell_type": "markdown",
   "id": "86333e02",
   "metadata": {
    "heading_collapsed": true
   },
   "source": [
    "###### HT413C1-K2"
   ]
  },
  {
   "cell_type": "code",
   "execution_count": null,
   "id": "d3f53459",
   "metadata": {
    "hidden": true
   },
   "outputs": [],
   "source": [
    "case = 'HT413C1-K2'\n",
    "metadata = yaml.safe_load(open(os.path.join(run_dir, case, 'registered', 'metadata.yaml')))\n",
    "\n",
    "z_scaler = .2\n",
    "cluster_resolutions = [1., 1.25, 1.5]\n",
    "dtype_to_weight = None\n",
    "\n",
    "metadata"
   ]
  },
  {
   "cell_type": "markdown",
   "id": "32e65c98",
   "metadata": {
    "heading_collapsed": true
   },
   "source": [
    "###### HT339B2-H1"
   ]
  },
  {
   "cell_type": "code",
   "execution_count": null,
   "id": "e750bee4",
   "metadata": {
    "hidden": true
   },
   "outputs": [],
   "source": [
    "case = 'HT339B2-H1'\n",
    "metadata = yaml.safe_load(open(os.path.join(run_dir, case, 'registered', 'metadata.yaml')))\n",
    "\n",
    "z_scaler = .2\n",
    "cluster_resolutions = [1., 1.25, 1.5]\n",
    "dtype_to_weight = None\n",
    "\n",
    "metadata"
   ]
  },
  {
   "cell_type": "markdown",
   "id": "7660654a",
   "metadata": {
    "heading_collapsed": true
   },
   "source": [
    "###### HT553P1-H2"
   ]
  },
  {
   "cell_type": "code",
   "execution_count": null,
   "id": "eb5a494a",
   "metadata": {
    "hidden": true
   },
   "outputs": [],
   "source": [
    "case = 'HT553P1-H2'\n",
    "metadata = yaml.safe_load(open(os.path.join(run_dir, case, 'registered', 'metadata.yaml')))\n",
    "\n",
    "z_scaler = .2\n",
    "cluster_resolutions = [1., 1.25, 1.5]\n",
    "dtype_to_weight = None\n",
    "\n",
    "metadata"
   ]
  },
  {
   "cell_type": "markdown",
   "id": "b11e4bf8",
   "metadata": {
    "heading_collapsed": true
   },
   "source": [
    "###### HT565B1-H2"
   ]
  },
  {
   "cell_type": "code",
   "execution_count": null,
   "id": "39c9d35b",
   "metadata": {
    "hidden": true
   },
   "outputs": [],
   "source": [
    "case = 'HT565B1-H2'\n",
    "metadata = yaml.safe_load(open(os.path.join(run_dir, case, 'registered', 'metadata.yaml')))\n",
    "\n",
    "z_scaler = .2\n",
    "cluster_resolutions = [1., 1.25, 1.5]\n",
    "dtype_to_weight = None\n",
    "\n",
    "metadata"
   ]
  },
  {
   "cell_type": "markdown",
   "id": "131717f4",
   "metadata": {
    "heading_collapsed": true
   },
   "source": [
    "###### HT448C1-Th1K1Fp1"
   ]
  },
  {
   "cell_type": "code",
   "execution_count": null,
   "id": "57bfa5bb",
   "metadata": {
    "hidden": true
   },
   "outputs": [],
   "source": [
    "case = 'HT448C1-Th1K1Fp1'\n",
    "metadata = yaml.safe_load(open(os.path.join(run_dir, case, 'registered', 'metadata.yaml')))\n",
    "\n",
    "z_scaler = .2\n",
    "cluster_resolutions = [1., 1.25, 1.5]\n",
    "dtype_to_weight = None\n",
    "\n",
    "metadata"
   ]
  },
  {
   "cell_type": "markdown",
   "id": "65616174",
   "metadata": {
    "heading_collapsed": true
   },
   "source": [
    "###### S18-9906"
   ]
  },
  {
   "cell_type": "code",
   "execution_count": null,
   "id": "ddd8b1b4",
   "metadata": {
    "hidden": true
   },
   "outputs": [],
   "source": [
    "case = 'S18-9906'\n",
    "metadata = yaml.safe_load(open(os.path.join(run_dir, case, 'registered', 'metadata.yaml')))\n",
    "\n",
    "z_scaler = .2\n",
    "cluster_resolutions = [1., 1.25, 1.5]\n",
    "dtype_to_weight = None\n",
    "\n",
    "metadata"
   ]
  },
  {
   "cell_type": "markdown",
   "id": "d69eeae6",
   "metadata": {
    "heading_collapsed": true
   },
   "source": [
    "###### HT268B1"
   ]
  },
  {
   "cell_type": "code",
   "execution_count": null,
   "id": "6b86ffe8",
   "metadata": {
    "hidden": true
   },
   "outputs": [],
   "source": [
    "case = 'HT268B1'\n",
    "metadata = yaml.safe_load(open(os.path.join(run_dir, case, 'registered', 'metadata.yaml')))\n",
    "\n",
    "z_scaler = .2\n",
    "cluster_resolutions = [1., 1.25, 1.5]\n",
    "dtype_to_weight = None\n",
    "\n",
    "metadata"
   ]
  },
  {
   "cell_type": "code",
   "execution_count": null,
   "id": "d9779da8",
   "metadata": {
    "hidden": true
   },
   "outputs": [],
   "source": []
  },
  {
   "cell_type": "markdown",
   "id": "7734f5e5",
   "metadata": {
    "heading_collapsed": true
   },
   "source": [
    "###### C3L-00982"
   ]
  },
  {
   "cell_type": "code",
   "execution_count": null,
   "id": "5e2a18b7",
   "metadata": {
    "hidden": true
   },
   "outputs": [],
   "source": [
    "case = 'C3L-00982'\n",
    "metadata = yaml.safe_load(open(os.path.join(run_dir, case, 'registered', 'metadata.yaml')))\n",
    "\n",
    "z_scaler = .2\n",
    "cluster_resolutions = [1., 1.25, 1.5]\n",
    "dtype_to_weight = None\n",
    "\n",
    "metadata"
   ]
  },
  {
   "cell_type": "markdown",
   "id": "d2537e77",
   "metadata": {
    "heading_collapsed": true
   },
   "source": [
    "###### C3L-02551"
   ]
  },
  {
   "cell_type": "code",
   "execution_count": null,
   "id": "34df85b5",
   "metadata": {
    "hidden": true
   },
   "outputs": [],
   "source": [
    "case = 'C3L-02551'\n",
    "metadata = yaml.safe_load(open(os.path.join(run_dir, case, 'registered', 'metadata.yaml')))\n",
    "\n",
    "z_scaler = .2\n",
    "cluster_resolutions = [1., 1.25, 1.5]\n",
    "dtype_to_weight = None\n",
    "\n",
    "metadata"
   ]
  },
  {
   "cell_type": "code",
   "execution_count": null,
   "id": "d893bbb2",
   "metadata": {
    "hidden": true
   },
   "outputs": [],
   "source": []
  },
  {
   "cell_type": "code",
   "execution_count": null,
   "id": "6f756bc2",
   "metadata": {
    "hidden": true
   },
   "outputs": [],
   "source": []
  },
  {
   "cell_type": "code",
   "execution_count": null,
   "id": "9e6cb608",
   "metadata": {
    "hidden": true
   },
   "outputs": [],
   "source": []
  },
  {
   "cell_type": "markdown",
   "id": "fdb0c6ee",
   "metadata": {},
   "source": [
    "## train mushroom"
   ]
  },
  {
   "cell_type": "code",
   "execution_count": 10,
   "id": "614d308b",
   "metadata": {
    "scrolled": true
   },
   "outputs": [
    {
     "data": {
      "text/plain": [
       "{'sections': None,\n",
       " 'dtype_to_chkpt': None,\n",
       " 'dtype_specific_params': {'visium': {'trainer_kwargs': {'tiling_method': 'radius'}}},\n",
       " 'sae_kwargs': {'size': 8,\n",
       "  'patch_size': 1,\n",
       "  'encoder_dim': 128,\n",
       "  'codebook_dim': 64,\n",
       "  'num_clusters': (8, 4, 2),\n",
       "  'dtype_to_decoder_dims': {'multiplex': (256, 128, 64),\n",
       "   'he': (256, 128, 10),\n",
       "   'visium': (256, 512, 2048),\n",
       "   'xenium': (256, 256, 256),\n",
       "   'cosmx': (256, 512, 1024),\n",
       "   'points': (256, 512, 1024)},\n",
       "  'recon_scaler': 1.0,\n",
       "  'neigh_scaler': 0.01},\n",
       " 'trainer_kwargs': {'input_resolution': 1.0,\n",
       "  'target_resolution': 0.02,\n",
       "  'pct_expression': 0.05,\n",
       "  'log_base': 2.718281828459045,\n",
       "  'tiling_method': 'grid',\n",
       "  'tiling_radius': 1.0,\n",
       "  'batch_size': 128,\n",
       "  'num_workers': 0,\n",
       "  'devices': 1,\n",
       "  'accelerator': 'cpu',\n",
       "  'max_epochs': 1,\n",
       "  'steps_per_epoch': 1000,\n",
       "  'lr': 0.0001,\n",
       "  'out_dir': './outputs',\n",
       "  'save_every': 1,\n",
       "  'log_every_n_steps': 10,\n",
       "  'logger_type': 'tensorboard',\n",
       "  'logger_project': 'portobello',\n",
       "  'channel_mapping': {},\n",
       "  'data_mask': None}}"
      ]
     },
     "execution_count": 10,
     "metadata": {},
     "output_type": "execute_result"
    }
   ],
   "source": [
    "DEFAULT_CONFIG"
   ]
  },
  {
   "cell_type": "code",
   "execution_count": 11,
   "id": "8c3522f9",
   "metadata": {
    "scrolled": true
   },
   "outputs": [
    {
     "data": {
      "text/plain": [
       "{'sections': [{'data': [{'dtype': 'xenium',\n",
       "     'filepath': '/data/estorrs/mushroom/data/projects/submission_v1/C3L-00970/registered/s0_C3L-00970-U1_xenium.h5ad'}],\n",
       "   'position': 0,\n",
       "   'sid': 'C3L-00970-U1'},\n",
       "  {'data': [{'dtype': 'multiplex',\n",
       "     'filepath': '/data/estorrs/mushroom/data/projects/submission_v1/C3L-00970/registered/s1_C3L-00970-U2_multiplex.ome.tiff'}],\n",
       "   'position': 5,\n",
       "   'sid': 'C3L-00970-U2'}],\n",
       " 'dtype_to_chkpt': None,\n",
       " 'dtype_specific_params': {'visium': {'trainer_kwargs': {'tiling_method': 'radius',\n",
       "    'target_resolution': 0.01}}},\n",
       " 'sae_kwargs': {'size': 8,\n",
       "  'patch_size': 1,\n",
       "  'encoder_dim': 128,\n",
       "  'codebook_dim': 64,\n",
       "  'num_clusters': (8, 4, 2),\n",
       "  'dtype_to_decoder_dims': {'multiplex': (256, 128, 64),\n",
       "   'he': (256, 128, 10),\n",
       "   'visium': (256, 512, 2048),\n",
       "   'xenium': (256, 256, 256),\n",
       "   'cosmx': (256, 512, 1024),\n",
       "   'points': (256, 512, 1024)},\n",
       "  'recon_scaler': 1.0,\n",
       "  'neigh_scaler': 0.01},\n",
       " 'trainer_kwargs': {'input_resolution': 1.0,\n",
       "  'target_resolution': 0.02,\n",
       "  'pct_expression': 0.05,\n",
       "  'log_base': 2.718281828459045,\n",
       "  'tiling_method': 'grid',\n",
       "  'tiling_radius': 1.0,\n",
       "  'batch_size': 128,\n",
       "  'num_workers': 0,\n",
       "  'devices': 1,\n",
       "  'accelerator': 'gpu',\n",
       "  'max_epochs': 1,\n",
       "  'steps_per_epoch': 1000,\n",
       "  'lr': 0.0001,\n",
       "  'out_dir': '/data/estorrs/mushroom/data/projects/submission_v1/C3L-00970/mushroom',\n",
       "  'save_every': 1,\n",
       "  'log_every_n_steps': 10,\n",
       "  'logger_type': 'tensorboard',\n",
       "  'logger_project': 'portobello',\n",
       "  'channel_mapping': {},\n",
       "  'data_mask': None}}"
      ]
     },
     "execution_count": 11,
     "metadata": {},
     "output_type": "execute_result"
    }
   ],
   "source": [
    "config = deepcopy(DEFAULT_CONFIG)\n",
    "\n",
    "mask_fp = os.path.join(run_dir, case, 'masks', 'tissue_mask.tif')\n",
    "if not os.path.exists(mask_fp):\n",
    "    mask_fp = None\n",
    "mask_fp = None\n",
    "\n",
    "config = utils.recursive_update(config, {\n",
    "    'sections': metadata['sections'],\n",
    "    'trainer_kwargs': {\n",
    "        'input_resolution': metadata['resolution'],\n",
    "        'target_resolution': .02,\n",
    "        'out_dir': os.path.join(run_dir, case, 'mushroom'),\n",
    "        'accelerator': 'gpu',\n",
    "        'steps_per_epoch': 1000,\n",
    "        'data_mask': mask_fp,\n",
    "    }\n",
    "})\n",
    "\n",
    "config['dtype_specific_params'] = utils.recursive_update(config['dtype_specific_params'], {\n",
    "    'visium': {\n",
    "        'trainer_kwargs': {\n",
    "            'target_resolution': .01  # lower resolution for visium\n",
    "        }\n",
    "    }\n",
    "})\n",
    "\n",
    "config = alter_filesystem(config, source_root, target_root)\n",
    "config"
   ]
  },
  {
   "cell_type": "code",
   "execution_count": 12,
   "id": "6f5653f9",
   "metadata": {
    "scrolled": true
   },
   "outputs": [
    {
     "name": "stderr",
     "output_type": "stream",
     "text": [
      "INFO:root:loading spore for multiplex\n",
      "INFO:root:singleton section detected, creating temporary duplicate\n",
      "INFO:root:data mask detected\n",
      "INFO:root:starting multiplex processing\n",
      "INFO:root:using 29 channels\n",
      "INFO:root:2 sections detected: ['C3L-00970-U2', 'C3L-00970-U2_dup']\n",
      "INFO:root:processing sections\n",
      "INFO:root:generating image data for section C3L-00970-U2\n",
      "INFO:root:generating image data for section C3L-00970-U2_dup\n",
      "INFO:root:generating training dataset\n",
      "INFO:root:generating inference dataset\n",
      "INFO:root:total of 2 sections detected: [('C3L-00970-U2', 'multiplex'), ('C3L-00970-U2_dup', 'multiplex')]\n",
      "INFO:root:creating data loaders\n",
      "INFO:torch.distributed.nn.jit.instantiator:Created a temporary directory at /tmp/tmpod9978na\n",
      "INFO:torch.distributed.nn.jit.instantiator:Writing /tmp/tmpod9978na/_remote_module_non_scriptable.py\n",
      "INFO:root:creating ViT\n",
      "INFO:root:model initialized\n",
      "GPU available: True (cuda), used: True\n",
      "TPU available: False, using: 0 TPU cores\n",
      "IPU available: False, using: 0 IPUs\n",
      "HPU available: False, using: 0 HPUs\n",
      "INFO:root:loading spore for xenium\n",
      "INFO:root:singleton section detected, creating temporary duplicate\n",
      "INFO:root:data mask detected\n",
      "INFO:root:starting xenium processing\n",
      "INFO:root:using 477 channels\n",
      "INFO:root:2 sections detected: ['C3L-00970-U1', 'C3L-00970-U1_dup']\n",
      "INFO:root:processing sections\n",
      "INFO:root:generating image data for section C3L-00970-U1\n",
      "INFO:root:generating image data for section C3L-00970-U1_dup\n",
      "INFO:root:generating training dataset\n",
      "INFO:root:generating inference dataset\n",
      "INFO:root:total of 2 sections detected: [('C3L-00970-U1', 'xenium'), ('C3L-00970-U1_dup', 'xenium')]\n",
      "INFO:root:creating data loaders\n",
      "INFO:root:creating ViT\n",
      "INFO:root:model initialized\n",
      "GPU available: True (cuda), used: True\n",
      "TPU available: False, using: 0 TPU cores\n",
      "IPU available: False, using: 0 IPUs\n",
      "HPU available: False, using: 0 HPUs\n"
     ]
    }
   ],
   "source": [
    "mushroom = Mushroom.from_config(config)"
   ]
  },
  {
   "cell_type": "code",
   "execution_count": null,
   "id": "d22a01a4",
   "metadata": {},
   "outputs": [
    {
     "name": "stderr",
     "output_type": "stream",
     "text": [
      "INFO:root:starting training for multiplex\n",
      "Missing logger folder: /data/estorrs/mushroom/data/projects/submission_v1/C3L-00970/mushroom/multiplex_logs/lightning_logs\n",
      "LOCAL_RANK: 0 - CUDA_VISIBLE_DEVICES: [0,1,2,3]\n",
      "\n",
      "  | Name | Type | Params\n",
      "------------------------------\n",
      "0 | sae  | SAE  | 5.0 M \n",
      "------------------------------\n",
      "5.0 M     Trainable params\n",
      "0         Non-trainable params\n",
      "5.0 M     Total params\n",
      "19.917    Total estimated model params size (MB)\n",
      "/data/estorrs/miniconda3/envs/mushroom/lib/python3.10/site-packages/lightning/pytorch/trainer/connectors/data_connector.py:441: The 'train_dataloader' does not have many workers which may be a bottleneck. Consider increasing the value of the `num_workers` argument` to `num_workers=63` in the `DataLoader` to improve performance.\n"
     ]
    },
    {
     "data": {
      "application/vnd.jupyter.widget-view+json": {
       "model_id": "19ca28b09fe74aed91536aedaa036dba",
       "version_major": 2,
       "version_minor": 0
      },
      "text/plain": [
       "Training: |                                                                                                   …"
      ]
     },
     "metadata": {},
     "output_type": "display_data"
    },
    {
     "name": "stderr",
     "output_type": "stream",
     "text": [
      "`Trainer.fit` stopped: `max_epochs=1` reached.\n",
      "INFO:root:finished training multiplex, saved chkpt to /data/estorrs/mushroom/data/projects/submission_v1/C3L-00970/mushroom/multiplex_chkpts/last.ckpt\n",
      "INFO:root:starting training for xenium\n",
      "Missing logger folder: /data/estorrs/mushroom/data/projects/submission_v1/C3L-00970/mushroom/xenium_logs/lightning_logs\n",
      "LOCAL_RANK: 0 - CUDA_VISIBLE_DEVICES: [0,1,2,3]\n",
      "\n",
      "  | Name | Type | Params\n",
      "------------------------------\n",
      "0 | sae  | SAE  | 5.2 M \n",
      "------------------------------\n",
      "5.2 M     Trainable params\n",
      "0         Non-trainable params\n",
      "5.2 M     Total params\n",
      "20.991    Total estimated model params size (MB)\n"
     ]
    },
    {
     "data": {
      "application/vnd.jupyter.widget-view+json": {
       "model_id": "9aeb31ee000346a7a159eb5c2d56aaf4",
       "version_major": 2,
       "version_minor": 0
      },
      "text/plain": [
       "Training: |                                                                                                   …"
      ]
     },
     "metadata": {},
     "output_type": "display_data"
    }
   ],
   "source": [
    "mushroom.train()"
   ]
  },
  {
   "cell_type": "code",
   "execution_count": null,
   "id": "6616ba08",
   "metadata": {},
   "outputs": [],
   "source": [
    "mushroom.embed_sections()"
   ]
  },
  {
   "cell_type": "code",
   "execution_count": null,
   "id": "e4081cc7",
   "metadata": {},
   "outputs": [],
   "source": [
    "# spore = mushroom.dtype_to_spore['he']\n",
    "# for level in range(mushroom.num_levels):\n",
    "#     print('clusters', spore.clusters[level].shape)\n",
    "#     print('agg_clusters', spore.agg_clusters[level].shape)\n",
    "#     print('cluster probs', spore.cluster_probs[level].shape)\n",
    "#     print('true pixels', len(spore.true_pixels), spore.true_pixels[level].shape)\n",
    "#     print('pred pixels', len(spore.true_pixels), spore.true_pixels[level].shape)"
   ]
  },
  {
   "cell_type": "code",
   "execution_count": null,
   "id": "0f076d16",
   "metadata": {},
   "outputs": [],
   "source": []
  },
  {
   "cell_type": "code",
   "execution_count": null,
   "id": "7eff1285",
   "metadata": {},
   "outputs": [],
   "source": [
    "out_dir = mushroom.trainer_kwargs['out_dir']\n",
    "fig_dir = os.path.join(out_dir, 'figures')\n",
    "Path(fig_dir).mkdir(parents=True, exist_ok=True)"
   ]
  },
  {
   "cell_type": "code",
   "execution_count": null,
   "id": "276ca427",
   "metadata": {},
   "outputs": [],
   "source": [
    "for dtype in mushroom.dtypes:\n",
    "    for level in range(mushroom.num_levels):\n",
    "        print(dtype, level)\n",
    "        mushroom.display_clusters(dtype, level=level)\n",
    "        plt.savefig(os.path.join(fig_dir, f'nbhds_{dtype}_l{level}.pdf'), dpi=300)\n",
    "        plt.show()"
   ]
  },
  {
   "cell_type": "code",
   "execution_count": null,
   "id": "2b2853b0",
   "metadata": {},
   "outputs": [],
   "source": [
    "for level, cluster_res in enumerate(cluster_resolutions):\n",
    "    print(level)\n",
    "    dtype_to_volume = mushroom.generate_interpolated_volumes(\n",
    "        z_scaler=z_scaler, level=level, integrate=True, dtype_to_weight=dtype_to_weight, resolution=cluster_res)\n",
    "    dtype_to_volume_labels = {k:v.argmax(-1) if k != 'integrated' else v for k, v in dtype_to_volume.items()}\n",
    "    \n",
    "    mushroom.display_volumes(dtype_to_volume=dtype_to_volume_labels, positions=mushroom.section_positions)\n",
    "    \n",
    "    plt.savefig(os.path.join(fig_dir, f'nbhd_volumes_l{level}.pdf'), dpi=300)\n",
    "    plt.show()\n",
    "    \n",
    "    np.save(os.path.join(out_dir, f'nbhd_volumes_l{level}.npy'), {\n",
    "        'probs': dtype_to_volume,\n",
    "        'labeled': dtype_to_volume_labels\n",
    "    })\n",
    "    \n",
    "    del(dtype_to_volume)\n",
    "    del(dtype_to_volume_labels)"
   ]
  },
  {
   "cell_type": "code",
   "execution_count": null,
   "id": "06a3aa90",
   "metadata": {},
   "outputs": [],
   "source": [
    "fig_dir"
   ]
  },
  {
   "cell_type": "code",
   "execution_count": null,
   "id": "bd8617f1",
   "metadata": {},
   "outputs": [],
   "source": [
    "mushroom.save()"
   ]
  },
  {
   "cell_type": "code",
   "execution_count": null,
   "id": "9a7bc16a",
   "metadata": {},
   "outputs": [],
   "source": [
    "clustering_params = {\n",
    "    'z_scaler': z_scaler,\n",
    "    'cluster_resolutions': cluster_resolutions,\n",
    "    'dtype_to_weight': dtype_to_weight\n",
    "}\n",
    "yaml.safe_dump(clustering_params, open(os.path.join(out_dir, 'nbhd_volume_params.yaml'), 'w'))"
   ]
  },
  {
   "cell_type": "code",
   "execution_count": null,
   "id": "2efe46ce",
   "metadata": {},
   "outputs": [],
   "source": []
  },
  {
   "cell_type": "code",
   "execution_count": null,
   "id": "eb1ce2ee",
   "metadata": {},
   "outputs": [],
   "source": []
  },
  {
   "cell_type": "code",
   "execution_count": null,
   "id": "9823d69c",
   "metadata": {},
   "outputs": [],
   "source": []
  },
  {
   "cell_type": "code",
   "execution_count": 22,
   "id": "5aae3008",
   "metadata": {},
   "outputs": [],
   "source": [
    "# new = Mushroom.from_config('/data/estorrs/mushroom/data/projects/submission_v1/HT413C1-Th1k4A1/mushroom')\n"
   ]
  },
  {
   "cell_type": "code",
   "execution_count": 23,
   "id": "99544e32",
   "metadata": {},
   "outputs": [],
   "source": [
    "# mushroom.display_clusters('he', level=0)"
   ]
  },
  {
   "cell_type": "code",
   "execution_count": null,
   "id": "7137fbfc",
   "metadata": {},
   "outputs": [],
   "source": []
  },
  {
   "cell_type": "code",
   "execution_count": null,
   "id": "c69e0a20",
   "metadata": {},
   "outputs": [],
   "source": []
  },
  {
   "cell_type": "code",
   "execution_count": null,
   "id": "4df3965d",
   "metadata": {},
   "outputs": [],
   "source": []
  },
  {
   "cell_type": "code",
   "execution_count": null,
   "id": "d9a57dac",
   "metadata": {},
   "outputs": [],
   "source": []
  }
 ],
 "metadata": {
  "kernelspec": {
   "display_name": "Python 3 (ipykernel)",
   "language": "python",
   "name": "python3"
  },
  "language_info": {
   "codemirror_mode": {
    "name": "ipython",
    "version": 3
   },
   "file_extension": ".py",
   "mimetype": "text/x-python",
   "name": "python",
   "nbconvert_exporter": "python",
   "pygments_lexer": "ipython3",
   "version": "3.10.13"
  }
 },
 "nbformat": 4,
 "nbformat_minor": 5
}
