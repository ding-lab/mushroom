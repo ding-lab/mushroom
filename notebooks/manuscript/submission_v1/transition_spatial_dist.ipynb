{
 "cells": [
  {
   "cell_type": "code",
   "execution_count": 2,
   "id": "15ae1a75-a7cd-4bd2-9de9-d4fa04775741",
   "metadata": {},
   "outputs": [],
   "source": [
    "import pickle\n",
    "import json\n",
    "import os\n",
    "import re\n",
    "import sys\n",
    "from copy import deepcopy\n",
    "from pathlib import Path\n",
    "\n",
    "import matplotlib.pyplot as plt\n",
    "import numpy as np\n",
    "import pandas as pd\n",
    "import scanpy as sc\n",
    "import seaborn as sns\n",
    "import skimage\n",
    "import tifffile\n",
    "import yaml\n",
    "from matplotlib.collections import PolyCollection\n",
    "from matplotlib.colors import TwoSlopeNorm\n",
    "from einops import rearrange, repeat\n",
    "from pydantic_extra_types.color import Color"
   ]
  },
  {
   "cell_type": "code",
   "execution_count": 3,
   "id": "e70bf866-d77b-4693-b113-ef7246050ffa",
   "metadata": {},
   "outputs": [],
   "source": [
    "import matplotlib as mpl\n",
    "mpl.rcParams['pdf.fonttype'] = 42\n",
    "mpl.rcParams['svg.fonttype'] = 'none'"
   ]
  },
  {
   "cell_type": "code",
   "execution_count": 4,
   "id": "b78a2769-48fd-41e2-9be6-fba2f9352d88",
   "metadata": {},
   "outputs": [],
   "source": [
    "%load_ext autoreload"
   ]
  },
  {
   "cell_type": "code",
   "execution_count": 5,
   "id": "664dd354-887a-4b27-8c15-f77661af75e3",
   "metadata": {},
   "outputs": [],
   "source": [
    "%autoreload 2"
   ]
  },
  {
   "cell_type": "code",
   "execution_count": 6,
   "id": "7d382945-951f-461a-a3a0-6f8db87df762",
   "metadata": {},
   "outputs": [],
   "source": [
    "from mushroom.mushroom import Mushroom, DEFAULT_CONFIG\n",
    "import mushroom.utils as utils\n",
    "import mushroom.visualization.utils as vis_utils\n",
    "import mushroom.data.multiplex as multiplex\n",
    "import mushroom.data.visium as visium\n",
    "import mushroom.data.xenium as xenium\n",
    "import mushroom.data.cosmx as cosmx\n",
    "import mushroom.visualization.tiling_utils as tiling_utils"
   ]
  },
  {
   "cell_type": "code",
   "execution_count": 7,
   "id": "c515fce5-219d-45ca-8a7a-3bb28050a5e9",
   "metadata": {},
   "outputs": [],
   "source": [
    "source_root = '/diskmnt/Projects/Users/estorrs/mushroom/data'\n",
    "target_root = '/data/estorrs/mushroom/data'"
   ]
  },
  {
   "cell_type": "code",
   "execution_count": 8,
   "id": "aa9b5409-e226-43de-9a24-0999935cd49d",
   "metadata": {},
   "outputs": [],
   "source": [
    "run_dir = '/data/estorrs/mushroom/data/projects/submission_v1'"
   ]
  },
  {
   "cell_type": "code",
   "execution_count": 9,
   "id": "a19c8528-cb6d-434e-8036-23eb23fa2c35",
   "metadata": {},
   "outputs": [],
   "source": [
    "def alter_filesystem(config, source_root, target_root):\n",
    "    for entry in config['sections']:\n",
    "        for mapping in entry['data']:\n",
    "            mapping['filepath'] = mapping['filepath'].replace(source_root, target_root)\n",
    "        \n",
    "    return config"
   ]
  },
  {
   "cell_type": "code",
   "execution_count": 10,
   "id": "69bb21e0-6af7-46ad-80e2-fcc4a76a5ed8",
   "metadata": {},
   "outputs": [],
   "source": [
    "disease_to_cases = {\n",
    "    'brca': ['HT704B1', 'HT206B1', 'HT397B1'],\n",
    "    'prad': ['HT891Z1', 'HT913Z1']\n",
    "}\n",
    "\n",
    "case_to_dir = {\n",
    "    k:Path(f'{run_dir}/{k}') for d in disease_to_cases.values() for k in d\n",
    "}\n",
    "case_to_config = {\n",
    "    k:alter_filesystem(\n",
    "        yaml.safe_load(open(os.path.join(v, 'registered', 'metadata.yaml'))), source_root, target_root)\n",
    "    for k, v in case_to_dir.items()\n",
    "}"
   ]
  },
  {
   "cell_type": "code",
   "execution_count": 11,
   "id": "5988a359-1e96-43fb-92a0-3c910bcc6d2a",
   "metadata": {},
   "outputs": [],
   "source": [
    "def get_roi_to_data(result_dir, region_dir):\n",
    "    fps = sorted(utils.listfiles(result_dir))\n",
    "\n",
    "    roi_to_results = {}\n",
    "    for fp in fps:\n",
    "        name = fp.split('/')[-1].split('.')[0]\n",
    "        roi = re.sub(r'^(roi[0-9]+([^_]*)?)_(.*_.*)_(.*)$', r'\\1', name)\n",
    "        dti = re.sub(r'^(roi[0-9]+([^_]*)?)_(.*_.*)_(.*)$', r'\\3', name)\n",
    "        file_type = re.sub(r'^(roi[0-9]+([^_]*)?)_(.*_.*)_(.*)$', r'\\4', name)\n",
    "    \n",
    "        if roi not in roi_to_results:\n",
    "            roi_to_results[roi] = {}\n",
    "        if dti not in roi_to_results[roi]:\n",
    "            roi_to_results[roi][dti] = {}\n",
    "    \n",
    "        if file_type == 'metadata':\n",
    "            roi_to_results[roi][dti][file_type] = json.load(open(fp))\n",
    "        else:\n",
    "            roi_to_results[roi][dti][file_type] = pd.read_csv(fp, sep='\\t', index_col=0)\n",
    "\n",
    "    \n",
    "    roi_to_data = {}\n",
    "    for roi, results in roi_to_results.items():\n",
    "        fp = region_dir / f'{roi}_metadata.json'\n",
    "        data = json.load(open(fp))\n",
    "        data['results'] = results\n",
    "        roi_to_data[roi] = data\n",
    "    \n",
    "\n",
    "    return roi_to_data"
   ]
  },
  {
   "cell_type": "code",
   "execution_count": 12,
   "id": "355ad916-3cda-422f-bdd5-936c6d920826",
   "metadata": {},
   "outputs": [],
   "source": [
    "dti_to_color = {\n",
    "    'xenium_0': sns.color_palette('deep')[0],\n",
    "    'xenium_1': sns.color_palette('deep')[0],\n",
    "    'xenium_combined': sns.color_palette('deep')[0],\n",
    "    'codex_0': sns.color_palette('deep')[2],\n",
    "    'codex_1': sns.color_palette('deep')[2],\n",
    "    'cosmx_0': sns.color_palette('deep')[5],\n",
    "    'vishd_0': sns.color_palette('deep')[8],\n",
    "    'visium_0': sns.color_palette('deep')[3],\n",
    "}"
   ]
  },
  {
   "cell_type": "code",
   "execution_count": null,
   "id": "7e809513-3dbf-4c39-947c-0a6997716835",
   "metadata": {},
   "outputs": [],
   "source": []
  },
  {
   "cell_type": "code",
   "execution_count": null,
   "id": "bb49d2b2-2fb8-4bf8-924d-02b3b8af5dbd",
   "metadata": {},
   "outputs": [],
   "source": []
  },
  {
   "cell_type": "code",
   "execution_count": null,
   "id": "78cfe6dd-8ff2-4f0a-a0a3-a82bddfc17d6",
   "metadata": {},
   "outputs": [],
   "source": []
  },
  {
   "cell_type": "code",
   "execution_count": null,
   "id": "da56ae5a-0520-457c-a80d-eb9f5993c9b3",
   "metadata": {},
   "outputs": [],
   "source": []
  },
  {
   "cell_type": "code",
   "execution_count": null,
   "id": "a7e21b8f-d471-4403-ab3c-4a57daaba26f",
   "metadata": {},
   "outputs": [],
   "source": []
  },
  {
   "cell_type": "code",
   "execution_count": null,
   "id": "77408439-c587-424a-b5df-b8695db9148c",
   "metadata": {},
   "outputs": [],
   "source": []
  },
  {
   "cell_type": "code",
   "execution_count": null,
   "id": "457e9e9c-2439-4bc1-86b5-1113e04a6a5d",
   "metadata": {},
   "outputs": [],
   "source": []
  }
 ],
 "metadata": {
  "kernelspec": {
   "display_name": "Python 3 (ipykernel)",
   "language": "python",
   "name": "python3"
  },
  "language_info": {
   "codemirror_mode": {
    "name": "ipython",
    "version": 3
   },
   "file_extension": ".py",
   "mimetype": "text/x-python",
   "name": "python",
   "nbconvert_exporter": "python",
   "pygments_lexer": "ipython3",
   "version": "3.10.15"
  }
 },
 "nbformat": 4,
 "nbformat_minor": 5
}
