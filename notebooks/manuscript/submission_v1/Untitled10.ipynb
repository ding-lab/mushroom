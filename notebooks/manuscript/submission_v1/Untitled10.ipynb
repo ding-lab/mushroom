{
 "cells": [
  {
   "cell_type": "code",
   "execution_count": 5,
   "id": "d207a233",
   "metadata": {},
   "outputs": [],
   "source": [
    "import tifffile\n",
    "import numpy as np\n",
    "import pandas as pd\n",
    "import scanpy as sc\n",
    "import matplotlib.pyplot as plt\n",
    "import yaml\n"
   ]
  },
  {
   "cell_type": "code",
   "execution_count": 2,
   "id": "80ee6980",
   "metadata": {},
   "outputs": [],
   "source": [
    "%load_ext autoreload"
   ]
  },
  {
   "cell_type": "code",
   "execution_count": 3,
   "id": "7c95d09a",
   "metadata": {},
   "outputs": [],
   "source": [
    "%autoreload 2"
   ]
  },
  {
   "cell_type": "code",
   "execution_count": 11,
   "id": "1864dc20",
   "metadata": {},
   "outputs": [],
   "source": [
    "import mushroom.data.multiplex as multiplex\n",
    "import mushroom.data.xenium as xenium\n",
    "import mushroom.data.visium as visium\n",
    "import mushroom.data.he as he"
   ]
  },
  {
   "cell_type": "code",
   "execution_count": 6,
   "id": "a4ea48b4",
   "metadata": {},
   "outputs": [],
   "source": [
    "case = 'HT397B1'\n",
    "\n",
    "data_map = {\n",
    "    'target_sid': 'HT397B1-U1',\n",
    "    'resolution': None,\n",
    "    'sections': [\n",
    "        {\n",
    "            'sid': 'HT397B1-U1',\n",
    "            'position': 0,\n",
    "            'data': [\n",
    "                {\n",
    "                    'dtype': 'visium',\n",
    "                    'filepath': '/diskmnt/Datasets/Spatial_Transcriptomics/outputs_FFPE/Human/HT397B1/S1H3/HT397B1-S1H3A1U1Bp1/outs'\n",
    "                },\n",
    "                {\n",
    "                    'dtype': 'he',\n",
    "                    'filepath': '/diskmnt/Datasets/Spatial_Transcriptomics/images/all/A1_HT397B1-S1H3A1U1.tif'\n",
    "                },\n",
    "            ] \n",
    "        },\n",
    "        {\n",
    "            'sid': 'HT397B1-U2',\n",
    "            'position': 5,\n",
    "            'data': [\n",
    "                {\n",
    "                    'dtype': 'multiplex',\n",
    "                    'filepath': '/diskmnt/primary/CODEX/HTAN/031623_BRCA_HT397B1-U2/HT397B1-S1H3A1-U2__20230315.ome.tiff'\n",
    "                },\n",
    "            ] \n",
    "        },\n",
    "        {\n",
    "            'sid': 'HT397B1-U4',\n",
    "            'position': 15,\n",
    "            'data': [\n",
    "                {\n",
    "                    'dtype': 'batch2_he',\n",
    "                    'filepath': '/diskmnt/Projects/Users/estorrs/imaging-analysis/data/htan_talk/he/HT397B1/HT397B1-S1H3A1U4_Scan1.qptiff'\n",
    "                },\n",
    "            ] \n",
    "        },\n",
    "        {\n",
    "            'sid': 'HT397B1-U8',\n",
    "            'position': 35,\n",
    "            'data': [\n",
    "                {\n",
    "                    'dtype': 'batch2_he',\n",
    "                    'filepath': '/diskmnt/Projects/Users/estorrs/imaging-analysis/data/htan_talk/he/HT397B1/HT397B1-S1H3A1U8_Scan1.qptiff'\n",
    "                },\n",
    "            ] \n",
    "        },\n",
    "        {\n",
    "            'sid': 'HT397B1-U11',\n",
    "            'position': 50,\n",
    "            'data': [\n",
    "                {\n",
    "                    'dtype': 'batch2_he',\n",
    "                    'filepath': '/diskmnt/Projects/Users/estorrs/imaging-analysis/data/htan_talk/he/HT397B1/HT397B1-S1H3A1U11_Scan1.qptiff'\n",
    "                },\n",
    "            ] \n",
    "        },\n",
    "        {\n",
    "            'sid': 'HT397B1-U12',\n",
    "            'position': 55,\n",
    "            'data': [\n",
    "                {\n",
    "                    'dtype': 'multiplex',\n",
    "                    'filepath': '/diskmnt/primary/CODEX/HTAN/03172023_BRCA_HT397B1-U12/HT397B1-S1H3A1-U22__20230316.ome.tiff'\n",
    "                },\n",
    "            ] \n",
    "        },\n",
    "        {\n",
    "            'sid': 'HT397B1-U16',\n",
    "            'position': 75,\n",
    "            'data': [\n",
    "                {\n",
    "                    'dtype': 'batch2_he',\n",
    "                    'filepath': '/diskmnt/Projects/Users/estorrs/imaging-analysis/data/htan_talk/he/HT397B1/HT397B1-S1H3A1U16_Scan1.qptiff'\n",
    "                },\n",
    "            ] \n",
    "        },\n",
    "        {\n",
    "            'sid': 'HT397B1-U21',\n",
    "            'position': 100,\n",
    "            'data': [\n",
    "                {\n",
    "                    'dtype': 'visium',\n",
    "                    'filepath': '/diskmnt/Datasets/Spatial_Transcriptomics/outputs_FFPE/Human/HT397B1/S1H3/HT397B1-S1H3A1U21Bp1/outs'\n",
    "                },\n",
    "                {\n",
    "                    'dtype': 'he',\n",
    "                    'filepath': '/diskmnt/Datasets/Spatial_Transcriptomics/images/all/B1_HT397B1-S1H3A1U21.tif'\n",
    "                },\n",
    "            ] \n",
    "        },\n",
    "        {\n",
    "            'sid': 'HT397B1-U22',\n",
    "            'position': 105,\n",
    "            'data': [\n",
    "                {\n",
    "                    'dtype': 'multiplex',\n",
    "                    'filepath': '/diskmnt/primary/CODEX/HTAN/041223_BRCA_HT397B1-S1H3A1-U22/HT397B1-S1H3A1-U22__20230413.ome.tiff'\n",
    "                },\n",
    "            ] \n",
    "        },\n",
    "        {\n",
    "            'sid': 'HT397B1-U20',\n",
    "            'position': 125,\n",
    "            'data': [\n",
    "                {\n",
    "                    'dtype': 'batch2_he',\n",
    "                    'filepath': '/diskmnt/Projects/Users/estorrs/imaging-analysis/data/htan_talk/he/HT397B1/HT397B1-S1H3A1U20_Scan1.qptiff'\n",
    "                },\n",
    "            ] \n",
    "        },\n",
    "        {\n",
    "            'sid': 'HT397B1-U28',\n",
    "            'position': 145,\n",
    "            'data': [\n",
    "                {\n",
    "                    'dtype': 'batch2_he',\n",
    "                    'filepath': '/diskmnt/Projects/Users/estorrs/imaging-analysis/data/htan_talk/he/HT397B1/HT397B1-S1H3A1U28_Scan1.qptiff'\n",
    "                },\n",
    "            ] \n",
    "        },\n",
    "        {\n",
    "            'sid': 'HT397B1-U31',\n",
    "            'position': 150,\n",
    "            'data': [\n",
    "                {\n",
    "                    'dtype': 'multiplex',\n",
    "                    'filepath': '/diskmnt/primary/CODEX/HTAN/040623_BRCA_HT397B1-U31/HT397B1-S1H3A1-U31__20230407.ome.tiff'\n",
    "                },\n",
    "            ] \n",
    "        },\n",
    "    ]\n",
    "}\n"
   ]
  },
  {
   "cell_type": "code",
   "execution_count": null,
   "id": "1003b54a",
   "metadata": {},
   "outputs": [],
   "source": []
  },
  {
   "cell_type": "code",
   "execution_count": 12,
   "id": "bd3eb3c1",
   "metadata": {},
   "outputs": [
    {
     "name": "stderr",
     "output_type": "stream",
     "text": [
      "/diskmnt/Projects/Users/estorrs/miniconda3/envs/mushroom/lib/python3.9/site-packages/anndata/_core/anndata.py:1840: UserWarning: Variable names are not unique. To make them unique, call `.var_names_make_unique`.\n",
      "  utils.warn_names_duplicates(\"var\")\n",
      "/diskmnt/Projects/Users/estorrs/miniconda3/envs/mushroom/lib/python3.9/site-packages/anndata/_core/anndata.py:1113: FutureWarning: is_categorical_dtype is deprecated and will be removed in a future version. Use isinstance(dtype, CategoricalDtype) instead\n",
      "  if not is_categorical_dtype(df_full[k]):\n",
      "/diskmnt/Projects/Users/estorrs/miniconda3/envs/mushroom/lib/python3.9/site-packages/anndata/_core/anndata.py:1840: UserWarning: Variable names are not unique. To make them unique, call `.var_names_make_unique`.\n",
      "  utils.warn_names_duplicates(\"var\")\n"
     ]
    }
   ],
   "source": [
    "adata = visium.adata_from_visium('/diskmnt/Datasets/Spatial_Transcriptomics/outputs_FFPE/Human/HT397B1/S1H3/HT397B1-S1H3A1U1Bp1/outs')\n",
    "he_img = he.read_he('/diskmnt/Datasets/Spatial_Transcriptomics/images/all/A1_HT397B1-S1H3A1U1.tif')\n",
    "\n",
    "multiplex_fp = '/diskmnt/primary/CODEX/HTAN/031623_BRCA_HT397B1-U2/HT397B1-S1H3A1-U2__20230315.ome.tiff'\n",
    "channel_to_img = multiplex.extract_ome_tiff(multiplex_fp)\n",
    "\n"
   ]
  },
  {
   "cell_type": "code",
   "execution_count": 13,
   "id": "14733669",
   "metadata": {},
   "outputs": [
    {
     "data": {
      "text/plain": [
       "0.5100762527233116"
      ]
     },
     "execution_count": 13,
     "metadata": {},
     "output_type": "execute_result"
    }
   ],
   "source": [
    "multiplex.pixels_per_micron(multiplex_fp)"
   ]
  },
  {
   "cell_type": "code",
   "execution_count": null,
   "id": "f788b767",
   "metadata": {},
   "outputs": [],
   "source": []
  },
  {
   "cell_type": "code",
   "execution_count": 14,
   "id": "d9b478cf",
   "metadata": {},
   "outputs": [
    {
     "data": {
      "text/plain": [
       "(18643, 18378, 3)"
      ]
     },
     "execution_count": 14,
     "metadata": {},
     "output_type": "execute_result"
    }
   ],
   "source": [
    "he_img.shape"
   ]
  },
  {
   "cell_type": "code",
   "execution_count": 15,
   "id": "f4516a37",
   "metadata": {},
   "outputs": [
    {
     "data": {
      "text/plain": [
       "(17280, 16320)"
      ]
     },
     "execution_count": 15,
     "metadata": {},
     "output_type": "execute_result"
    }
   ],
   "source": [
    "next(iter(channel_to_img.values())).shape"
   ]
  },
  {
   "cell_type": "code",
   "execution_count": 16,
   "id": "3cf15fbf",
   "metadata": {},
   "outputs": [],
   "source": [
    "d = next(iter(adata.uns['spatial'].values()))\n",
    "hires = d['images']['hires']\n",
    "sf = d['scalefactors']"
   ]
  },
  {
   "cell_type": "code",
   "execution_count": 17,
   "id": "f9d1335e",
   "metadata": {},
   "outputs": [
    {
     "data": {
      "text/plain": [
       "(2000, 1972, 3)"
      ]
     },
     "execution_count": 17,
     "metadata": {},
     "output_type": "execute_result"
    }
   ],
   "source": [
    "hires.shape"
   ]
  },
  {
   "cell_type": "code",
   "execution_count": 18,
   "id": "3f15b3e0",
   "metadata": {},
   "outputs": [
    {
     "data": {
      "text/plain": [
       "{'tissue_hires_scalef': 0.10727887,\n",
       " 'tissue_lowres_scalef': 0.032183662,\n",
       " 'fiducial_diameter_fullres': 243.84368374073196,\n",
       " 'spot_diameter_fullres': 150.95085183950073}"
      ]
     },
     "execution_count": 18,
     "metadata": {},
     "output_type": "execute_result"
    }
   ],
   "source": [
    "sf"
   ]
  },
  {
   "cell_type": "code",
   "execution_count": 19,
   "id": "2fc267ef",
   "metadata": {},
   "outputs": [
    {
     "data": {
      "text/plain": [
       "0.43333333333333335"
      ]
     },
     "execution_count": 19,
     "metadata": {},
     "output_type": "execute_result"
    }
   ],
   "source": [
    "65 / 150"
   ]
  },
  {
   "cell_type": "code",
   "execution_count": null,
   "id": "8af2c35c",
   "metadata": {},
   "outputs": [],
   "source": []
  },
  {
   "cell_type": "code",
   "execution_count": 31,
   "id": "d02c7936",
   "metadata": {},
   "outputs": [
    {
     "data": {
      "text/plain": [
       "160.0"
      ]
     },
     "execution_count": 31,
     "metadata": {},
     "output_type": "execute_result"
    }
   ],
   "source": [
    "8000 / 50\n"
   ]
  },
  {
   "cell_type": "code",
   "execution_count": null,
   "id": "f872fd21",
   "metadata": {},
   "outputs": [],
   "source": []
  },
  {
   "cell_type": "code",
   "execution_count": 28,
   "id": "5917e0fc",
   "metadata": {},
   "outputs": [
    {
     "data": {
      "text/plain": [
       "33.0"
      ]
     },
     "execution_count": 28,
     "metadata": {},
     "output_type": "execute_result"
    }
   ],
   "source": [
    ".33 / .01"
   ]
  },
  {
   "cell_type": "code",
   "execution_count": 30,
   "id": "38189193",
   "metadata": {},
   "outputs": [
    {
     "data": {
      "text/plain": [
       "100.0"
      ]
     },
     "execution_count": 30,
     "metadata": {},
     "output_type": "execute_result"
    }
   ],
   "source": [
    "1. / .01"
   ]
  },
  {
   "cell_type": "code",
   "execution_count": null,
   "id": "3db84e2c",
   "metadata": {},
   "outputs": [],
   "source": []
  },
  {
   "cell_type": "code",
   "execution_count": 24,
   "id": "962eed61",
   "metadata": {},
   "outputs": [
    {
     "data": {
      "text/plain": [
       "(18643, 18378, 3)"
      ]
     },
     "execution_count": 24,
     "metadata": {},
     "output_type": "execute_result"
    }
   ],
   "source": [
    "tifffile.imread('/diskmnt/Projects/Users/estorrs/mushroom/data/projects/submission_v1/HT397B1/registered/s0_HT397B1-U1_he.tif').shape\n"
   ]
  },
  {
   "cell_type": "code",
   "execution_count": 26,
   "id": "fc47b196",
   "metadata": {},
   "outputs": [
    {
     "data": {
      "text/plain": [
       "(29, 11585, 10875)"
      ]
     },
     "execution_count": 26,
     "metadata": {},
     "output_type": "execute_result"
    }
   ],
   "source": [
    "tifffile.imread('/diskmnt/Projects/Users/estorrs/mushroom/data/projects/submission_v1/C3L-00970/registered/s1_C3L-00970-U2_multiplex.ome.tiff').shape\n"
   ]
  },
  {
   "cell_type": "code",
   "execution_count": 27,
   "id": "9f38cb92",
   "metadata": {},
   "outputs": [
    {
     "data": {
      "text/plain": [
       "(19910, 19635, 3)"
      ]
     },
     "execution_count": 27,
     "metadata": {},
     "output_type": "execute_result"
    }
   ],
   "source": [
    "tifffile.imread('/diskmnt/Projects/Users/estorrs/mushroom/data/projects/submission_v1/HT225C1/registered/s2_HT225C1-U4_he.tif').shape\n"
   ]
  },
  {
   "cell_type": "code",
   "execution_count": null,
   "id": "2049863f",
   "metadata": {},
   "outputs": [],
   "source": []
  },
  {
   "cell_type": "code",
   "execution_count": null,
   "id": "983a01ef",
   "metadata": {},
   "outputs": [],
   "source": []
  },
  {
   "cell_type": "code",
   "execution_count": 32,
   "id": "48084029",
   "metadata": {},
   "outputs": [],
   "source": [
    "import altair as alt"
   ]
  },
  {
   "cell_type": "code",
   "execution_count": 52,
   "id": "fbc55b00",
   "metadata": {},
   "outputs": [
    {
     "data": {
      "text/html": [
       "<div>\n",
       "<style scoped>\n",
       "    .dataframe tbody tr th:only-of-type {\n",
       "        vertical-align: middle;\n",
       "    }\n",
       "\n",
       "    .dataframe tbody tr th {\n",
       "        vertical-align: top;\n",
       "    }\n",
       "\n",
       "    .dataframe thead th {\n",
       "        text-align: right;\n",
       "    }\n",
       "</style>\n",
       "<table border=\"1\" class=\"dataframe\">\n",
       "  <thead>\n",
       "    <tr style=\"text-align: right;\">\n",
       "      <th></th>\n",
       "      <th>Gene 0</th>\n",
       "      <th>Gene 1</th>\n",
       "      <th>Gene 2</th>\n",
       "      <th>Gene 3</th>\n",
       "      <th>Gene 4</th>\n",
       "      <th>Gene 5</th>\n",
       "      <th>Gene 6</th>\n",
       "      <th>Gene 7</th>\n",
       "      <th>Gene 8</th>\n",
       "      <th>Gene 9</th>\n",
       "      <th>...</th>\n",
       "      <th>Gene 11</th>\n",
       "      <th>Gene 12</th>\n",
       "      <th>Gene 13</th>\n",
       "      <th>Gene 14</th>\n",
       "      <th>Gene 15</th>\n",
       "      <th>Gene 16</th>\n",
       "      <th>Gene 17</th>\n",
       "      <th>Gene 18</th>\n",
       "      <th>Gene 19</th>\n",
       "      <th>var</th>\n",
       "    </tr>\n",
       "  </thead>\n",
       "  <tbody>\n",
       "    <tr>\n",
       "      <th>NBHD 0</th>\n",
       "      <td>0.527798</td>\n",
       "      <td>0.319971</td>\n",
       "      <td>0.666626</td>\n",
       "      <td>0.801275</td>\n",
       "      <td>0.940288</td>\n",
       "      <td>0.068159</td>\n",
       "      <td>0.709429</td>\n",
       "      <td>0.140899</td>\n",
       "      <td>0.015601</td>\n",
       "      <td>0.393304</td>\n",
       "      <td>...</td>\n",
       "      <td>0.395069</td>\n",
       "      <td>0.124589</td>\n",
       "      <td>0.584862</td>\n",
       "      <td>0.317305</td>\n",
       "      <td>0.948904</td>\n",
       "      <td>0.418775</td>\n",
       "      <td>0.571378</td>\n",
       "      <td>0.667155</td>\n",
       "      <td>0.639592</td>\n",
       "      <td>NBHD 0</td>\n",
       "    </tr>\n",
       "    <tr>\n",
       "      <th>NBHD 1</th>\n",
       "      <td>0.980626</td>\n",
       "      <td>0.512258</td>\n",
       "      <td>0.660277</td>\n",
       "      <td>0.875934</td>\n",
       "      <td>0.329005</td>\n",
       "      <td>0.839066</td>\n",
       "      <td>0.908582</td>\n",
       "      <td>0.288361</td>\n",
       "      <td>0.235898</td>\n",
       "      <td>0.848840</td>\n",
       "      <td>...</td>\n",
       "      <td>0.203135</td>\n",
       "      <td>0.521708</td>\n",
       "      <td>0.716142</td>\n",
       "      <td>0.614435</td>\n",
       "      <td>0.072337</td>\n",
       "      <td>0.147601</td>\n",
       "      <td>0.262373</td>\n",
       "      <td>0.718192</td>\n",
       "      <td>0.157050</td>\n",
       "      <td>NBHD 1</td>\n",
       "    </tr>\n",
       "    <tr>\n",
       "      <th>NBHD 2</th>\n",
       "      <td>0.548924</td>\n",
       "      <td>0.475075</td>\n",
       "      <td>0.741359</td>\n",
       "      <td>0.523969</td>\n",
       "      <td>0.540757</td>\n",
       "      <td>0.162787</td>\n",
       "      <td>0.292672</td>\n",
       "      <td>0.666477</td>\n",
       "      <td>0.123855</td>\n",
       "      <td>0.904279</td>\n",
       "      <td>...</td>\n",
       "      <td>0.427304</td>\n",
       "      <td>0.070322</td>\n",
       "      <td>0.990554</td>\n",
       "      <td>0.284963</td>\n",
       "      <td>0.743740</td>\n",
       "      <td>0.410061</td>\n",
       "      <td>0.651115</td>\n",
       "      <td>0.300265</td>\n",
       "      <td>0.301586</td>\n",
       "      <td>NBHD 2</td>\n",
       "    </tr>\n",
       "    <tr>\n",
       "      <th>NBHD 3</th>\n",
       "      <td>0.217475</td>\n",
       "      <td>0.259433</td>\n",
       "      <td>0.847108</td>\n",
       "      <td>0.380498</td>\n",
       "      <td>0.714443</td>\n",
       "      <td>0.635741</td>\n",
       "      <td>0.745856</td>\n",
       "      <td>0.916488</td>\n",
       "      <td>0.348190</td>\n",
       "      <td>0.735242</td>\n",
       "      <td>...</td>\n",
       "      <td>0.680768</td>\n",
       "      <td>0.511393</td>\n",
       "      <td>0.152604</td>\n",
       "      <td>0.931467</td>\n",
       "      <td>0.537989</td>\n",
       "      <td>0.480818</td>\n",
       "      <td>0.462087</td>\n",
       "      <td>0.627112</td>\n",
       "      <td>0.318404</td>\n",
       "      <td>NBHD 3</td>\n",
       "    </tr>\n",
       "    <tr>\n",
       "      <th>NBHD 4</th>\n",
       "      <td>0.775682</td>\n",
       "      <td>0.734939</td>\n",
       "      <td>0.711651</td>\n",
       "      <td>0.426634</td>\n",
       "      <td>0.713956</td>\n",
       "      <td>0.836622</td>\n",
       "      <td>0.303889</td>\n",
       "      <td>0.411171</td>\n",
       "      <td>0.399736</td>\n",
       "      <td>0.771188</td>\n",
       "      <td>...</td>\n",
       "      <td>0.922981</td>\n",
       "      <td>0.624849</td>\n",
       "      <td>0.559347</td>\n",
       "      <td>0.770458</td>\n",
       "      <td>0.571142</td>\n",
       "      <td>0.006552</td>\n",
       "      <td>0.708726</td>\n",
       "      <td>0.960555</td>\n",
       "      <td>0.458928</td>\n",
       "      <td>NBHD 4</td>\n",
       "    </tr>\n",
       "    <tr>\n",
       "      <th>NBHD 5</th>\n",
       "      <td>0.613195</td>\n",
       "      <td>0.021068</td>\n",
       "      <td>0.506046</td>\n",
       "      <td>0.908937</td>\n",
       "      <td>0.621385</td>\n",
       "      <td>0.711576</td>\n",
       "      <td>0.634348</td>\n",
       "      <td>0.134802</td>\n",
       "      <td>0.837418</td>\n",
       "      <td>0.814491</td>\n",
       "      <td>...</td>\n",
       "      <td>0.979733</td>\n",
       "      <td>0.891493</td>\n",
       "      <td>0.872470</td>\n",
       "      <td>0.575845</td>\n",
       "      <td>0.023519</td>\n",
       "      <td>0.100411</td>\n",
       "      <td>0.824674</td>\n",
       "      <td>0.301058</td>\n",
       "      <td>0.714305</td>\n",
       "      <td>NBHD 5</td>\n",
       "    </tr>\n",
       "    <tr>\n",
       "      <th>NBHD 6</th>\n",
       "      <td>0.460074</td>\n",
       "      <td>0.051748</td>\n",
       "      <td>0.816602</td>\n",
       "      <td>0.467048</td>\n",
       "      <td>0.425069</td>\n",
       "      <td>0.739006</td>\n",
       "      <td>0.133814</td>\n",
       "      <td>0.478118</td>\n",
       "      <td>0.420701</td>\n",
       "      <td>0.264723</td>\n",
       "      <td>...</td>\n",
       "      <td>0.852902</td>\n",
       "      <td>0.827794</td>\n",
       "      <td>0.666579</td>\n",
       "      <td>0.436506</td>\n",
       "      <td>0.581286</td>\n",
       "      <td>0.152306</td>\n",
       "      <td>0.957240</td>\n",
       "      <td>0.280134</td>\n",
       "      <td>0.156329</td>\n",
       "      <td>NBHD 6</td>\n",
       "    </tr>\n",
       "    <tr>\n",
       "      <th>NBHD 7</th>\n",
       "      <td>0.317611</td>\n",
       "      <td>0.472910</td>\n",
       "      <td>0.106010</td>\n",
       "      <td>0.189904</td>\n",
       "      <td>0.786408</td>\n",
       "      <td>0.194243</td>\n",
       "      <td>0.107875</td>\n",
       "      <td>0.091920</td>\n",
       "      <td>0.224490</td>\n",
       "      <td>0.421635</td>\n",
       "      <td>...</td>\n",
       "      <td>0.755502</td>\n",
       "      <td>0.102339</td>\n",
       "      <td>0.619994</td>\n",
       "      <td>0.125793</td>\n",
       "      <td>0.166938</td>\n",
       "      <td>0.192318</td>\n",
       "      <td>0.384982</td>\n",
       "      <td>0.635460</td>\n",
       "      <td>0.878155</td>\n",
       "      <td>NBHD 7</td>\n",
       "    </tr>\n",
       "  </tbody>\n",
       "</table>\n",
       "<p>8 rows × 21 columns</p>\n",
       "</div>"
      ],
      "text/plain": [
       "          Gene 0    Gene 1    Gene 2    Gene 3    Gene 4    Gene 5    Gene 6  \\\n",
       "NBHD 0  0.527798  0.319971  0.666626  0.801275  0.940288  0.068159  0.709429   \n",
       "NBHD 1  0.980626  0.512258  0.660277  0.875934  0.329005  0.839066  0.908582   \n",
       "NBHD 2  0.548924  0.475075  0.741359  0.523969  0.540757  0.162787  0.292672   \n",
       "NBHD 3  0.217475  0.259433  0.847108  0.380498  0.714443  0.635741  0.745856   \n",
       "NBHD 4  0.775682  0.734939  0.711651  0.426634  0.713956  0.836622  0.303889   \n",
       "NBHD 5  0.613195  0.021068  0.506046  0.908937  0.621385  0.711576  0.634348   \n",
       "NBHD 6  0.460074  0.051748  0.816602  0.467048  0.425069  0.739006  0.133814   \n",
       "NBHD 7  0.317611  0.472910  0.106010  0.189904  0.786408  0.194243  0.107875   \n",
       "\n",
       "          Gene 7    Gene 8    Gene 9  ...   Gene 11   Gene 12   Gene 13  \\\n",
       "NBHD 0  0.140899  0.015601  0.393304  ...  0.395069  0.124589  0.584862   \n",
       "NBHD 1  0.288361  0.235898  0.848840  ...  0.203135  0.521708  0.716142   \n",
       "NBHD 2  0.666477  0.123855  0.904279  ...  0.427304  0.070322  0.990554   \n",
       "NBHD 3  0.916488  0.348190  0.735242  ...  0.680768  0.511393  0.152604   \n",
       "NBHD 4  0.411171  0.399736  0.771188  ...  0.922981  0.624849  0.559347   \n",
       "NBHD 5  0.134802  0.837418  0.814491  ...  0.979733  0.891493  0.872470   \n",
       "NBHD 6  0.478118  0.420701  0.264723  ...  0.852902  0.827794  0.666579   \n",
       "NBHD 7  0.091920  0.224490  0.421635  ...  0.755502  0.102339  0.619994   \n",
       "\n",
       "         Gene 14   Gene 15   Gene 16   Gene 17   Gene 18   Gene 19     var  \n",
       "NBHD 0  0.317305  0.948904  0.418775  0.571378  0.667155  0.639592  NBHD 0  \n",
       "NBHD 1  0.614435  0.072337  0.147601  0.262373  0.718192  0.157050  NBHD 1  \n",
       "NBHD 2  0.284963  0.743740  0.410061  0.651115  0.300265  0.301586  NBHD 2  \n",
       "NBHD 3  0.931467  0.537989  0.480818  0.462087  0.627112  0.318404  NBHD 3  \n",
       "NBHD 4  0.770458  0.571142  0.006552  0.708726  0.960555  0.458928  NBHD 4  \n",
       "NBHD 5  0.575845  0.023519  0.100411  0.824674  0.301058  0.714305  NBHD 5  \n",
       "NBHD 6  0.436506  0.581286  0.152306  0.957240  0.280134  0.156329  NBHD 6  \n",
       "NBHD 7  0.125793  0.166938  0.192318  0.384982  0.635460  0.878155  NBHD 7  \n",
       "\n",
       "[8 rows x 21 columns]"
      ]
     },
     "execution_count": 52,
     "metadata": {},
     "output_type": "execute_result"
    }
   ],
   "source": [
    "nbhds = [f'NBHD {i}' for i in range(8)]\n",
    "genes = [f'Gene {i}' for i in range(20)]\n",
    "df = pd.DataFrame(data=np.random.rand(len(nbhds), len(genes)), index=nbhds, columns=genes)\n",
    "df['var'] = df.index.to_list()\n",
    "df"
   ]
  },
  {
   "cell_type": "code",
   "execution_count": 53,
   "id": "4706380c",
   "metadata": {},
   "outputs": [
    {
     "data": {
      "text/html": [
       "<div>\n",
       "<style scoped>\n",
       "    .dataframe tbody tr th:only-of-type {\n",
       "        vertical-align: middle;\n",
       "    }\n",
       "\n",
       "    .dataframe tbody tr th {\n",
       "        vertical-align: top;\n",
       "    }\n",
       "\n",
       "    .dataframe thead th {\n",
       "        text-align: right;\n",
       "    }\n",
       "</style>\n",
       "<table border=\"1\" class=\"dataframe\">\n",
       "  <thead>\n",
       "    <tr style=\"text-align: right;\">\n",
       "      <th></th>\n",
       "      <th>var</th>\n",
       "      <th>variable</th>\n",
       "      <th>value</th>\n",
       "      <th>size</th>\n",
       "    </tr>\n",
       "  </thead>\n",
       "  <tbody>\n",
       "    <tr>\n",
       "      <th>0</th>\n",
       "      <td>NBHD 0</td>\n",
       "      <td>Gene 0</td>\n",
       "      <td>0.527798</td>\n",
       "      <td>0.555753</td>\n",
       "    </tr>\n",
       "    <tr>\n",
       "      <th>1</th>\n",
       "      <td>NBHD 1</td>\n",
       "      <td>Gene 0</td>\n",
       "      <td>0.980626</td>\n",
       "      <td>1.550040</td>\n",
       "    </tr>\n",
       "    <tr>\n",
       "      <th>2</th>\n",
       "      <td>NBHD 2</td>\n",
       "      <td>Gene 0</td>\n",
       "      <td>0.548924</td>\n",
       "      <td>1.364489</td>\n",
       "    </tr>\n",
       "    <tr>\n",
       "      <th>3</th>\n",
       "      <td>NBHD 3</td>\n",
       "      <td>Gene 0</td>\n",
       "      <td>0.217475</td>\n",
       "      <td>1.114753</td>\n",
       "    </tr>\n",
       "    <tr>\n",
       "      <th>4</th>\n",
       "      <td>NBHD 4</td>\n",
       "      <td>Gene 0</td>\n",
       "      <td>0.775682</td>\n",
       "      <td>1.142936</td>\n",
       "    </tr>\n",
       "    <tr>\n",
       "      <th>...</th>\n",
       "      <td>...</td>\n",
       "      <td>...</td>\n",
       "      <td>...</td>\n",
       "      <td>...</td>\n",
       "    </tr>\n",
       "    <tr>\n",
       "      <th>155</th>\n",
       "      <td>NBHD 3</td>\n",
       "      <td>Gene 19</td>\n",
       "      <td>0.318404</td>\n",
       "      <td>0.937573</td>\n",
       "    </tr>\n",
       "    <tr>\n",
       "      <th>156</th>\n",
       "      <td>NBHD 4</td>\n",
       "      <td>Gene 19</td>\n",
       "      <td>0.458928</td>\n",
       "      <td>0.932799</td>\n",
       "    </tr>\n",
       "    <tr>\n",
       "      <th>157</th>\n",
       "      <td>NBHD 5</td>\n",
       "      <td>Gene 19</td>\n",
       "      <td>0.714305</td>\n",
       "      <td>1.290984</td>\n",
       "    </tr>\n",
       "    <tr>\n",
       "      <th>158</th>\n",
       "      <td>NBHD 6</td>\n",
       "      <td>Gene 19</td>\n",
       "      <td>0.156329</td>\n",
       "      <td>0.976009</td>\n",
       "    </tr>\n",
       "    <tr>\n",
       "      <th>159</th>\n",
       "      <td>NBHD 7</td>\n",
       "      <td>Gene 19</td>\n",
       "      <td>0.878155</td>\n",
       "      <td>1.401594</td>\n",
       "    </tr>\n",
       "  </tbody>\n",
       "</table>\n",
       "<p>160 rows × 4 columns</p>\n",
       "</div>"
      ],
      "text/plain": [
       "        var variable     value      size\n",
       "0    NBHD 0   Gene 0  0.527798  0.555753\n",
       "1    NBHD 1   Gene 0  0.980626  1.550040\n",
       "2    NBHD 2   Gene 0  0.548924  1.364489\n",
       "3    NBHD 3   Gene 0  0.217475  1.114753\n",
       "4    NBHD 4   Gene 0  0.775682  1.142936\n",
       "..      ...      ...       ...       ...\n",
       "155  NBHD 3  Gene 19  0.318404  0.937573\n",
       "156  NBHD 4  Gene 19  0.458928  0.932799\n",
       "157  NBHD 5  Gene 19  0.714305  1.290984\n",
       "158  NBHD 6  Gene 19  0.156329  0.976009\n",
       "159  NBHD 7  Gene 19  0.878155  1.401594\n",
       "\n",
       "[160 rows x 4 columns]"
      ]
     },
     "execution_count": 53,
     "metadata": {},
     "output_type": "execute_result"
    }
   ],
   "source": [
    "source = df.melt(id_vars=['var'])\n",
    "source['size'] = source['value'] + np.random.rand(source.shape[0])\n",
    "\n",
    "# mapping = {\n",
    "#     'NBHD 0': list(range(0, 5)),\n",
    "#     'NBHD 1': list(range(0, 5)),\n",
    "#     'NBHD 2': list(range(5, 10)),\n",
    "#     'NBHD 3': list(range(5, 10)),\n",
    "#     'NBHD 4': list(range(0, 5)),\n",
    "#     'NBHD 5': list(range(0, 5)),\n",
    "#     'NBHD 6': list(range(0, 5)),\n",
    "#     'NBHD 7': list(range(0, 5)),\n",
    "#     'NBHD 8': list(range(0, 5)),\n",
    "# }\n",
    "source"
   ]
  },
  {
   "cell_type": "code",
   "execution_count": 54,
   "id": "34d3586a",
   "metadata": {},
   "outputs": [
    {
     "data": {
      "text/html": [
       "\n",
       "<style>\n",
       "  #altair-viz-3b87968cd2564ea29711e8a8f30b01de.vega-embed {\n",
       "    width: 100%;\n",
       "    display: flex;\n",
       "  }\n",
       "\n",
       "  #altair-viz-3b87968cd2564ea29711e8a8f30b01de.vega-embed details,\n",
       "  #altair-viz-3b87968cd2564ea29711e8a8f30b01de.vega-embed details summary {\n",
       "    position: relative;\n",
       "  }\n",
       "</style>\n",
       "<div id=\"altair-viz-3b87968cd2564ea29711e8a8f30b01de\"></div>\n",
       "<script type=\"text/javascript\">\n",
       "  var VEGA_DEBUG = (typeof VEGA_DEBUG == \"undefined\") ? {} : VEGA_DEBUG;\n",
       "  (function(spec, embedOpt){\n",
       "    let outputDiv = document.currentScript.previousElementSibling;\n",
       "    if (outputDiv.id !== \"altair-viz-3b87968cd2564ea29711e8a8f30b01de\") {\n",
       "      outputDiv = document.getElementById(\"altair-viz-3b87968cd2564ea29711e8a8f30b01de\");\n",
       "    }\n",
       "    const paths = {\n",
       "      \"vega\": \"https://cdn.jsdelivr.net/npm/vega@5?noext\",\n",
       "      \"vega-lib\": \"https://cdn.jsdelivr.net/npm/vega-lib?noext\",\n",
       "      \"vega-lite\": \"https://cdn.jsdelivr.net/npm/vega-lite@5.15.1?noext\",\n",
       "      \"vega-embed\": \"https://cdn.jsdelivr.net/npm/vega-embed@6?noext\",\n",
       "    };\n",
       "\n",
       "    function maybeLoadScript(lib, version) {\n",
       "      var key = `${lib.replace(\"-\", \"\")}_version`;\n",
       "      return (VEGA_DEBUG[key] == version) ?\n",
       "        Promise.resolve(paths[lib]) :\n",
       "        new Promise(function(resolve, reject) {\n",
       "          var s = document.createElement('script');\n",
       "          document.getElementsByTagName(\"head\")[0].appendChild(s);\n",
       "          s.async = true;\n",
       "          s.onload = () => {\n",
       "            VEGA_DEBUG[key] = version;\n",
       "            return resolve(paths[lib]);\n",
       "          };\n",
       "          s.onerror = () => reject(`Error loading script: ${paths[lib]}`);\n",
       "          s.src = paths[lib];\n",
       "        });\n",
       "    }\n",
       "\n",
       "    function showError(err) {\n",
       "      outputDiv.innerHTML = `<div class=\"error\" style=\"color:red;\">${err}</div>`;\n",
       "      throw err;\n",
       "    }\n",
       "\n",
       "    function displayChart(vegaEmbed) {\n",
       "      vegaEmbed(outputDiv, spec, embedOpt)\n",
       "        .catch(err => showError(`Javascript Error: ${err.message}<br>This usually means there's a typo in your chart specification. See the javascript console for the full traceback.`));\n",
       "    }\n",
       "\n",
       "    if(typeof define === \"function\" && define.amd) {\n",
       "      requirejs.config({paths});\n",
       "      require([\"vega-embed\"], displayChart, err => showError(`Error loading script: ${err.message}`));\n",
       "    } else {\n",
       "      maybeLoadScript(\"vega\", \"5\")\n",
       "        .then(() => maybeLoadScript(\"vega-lite\", \"5.15.1\"))\n",
       "        .then(() => maybeLoadScript(\"vega-embed\", \"6\"))\n",
       "        .catch(showError)\n",
       "        .then(() => displayChart(vegaEmbed));\n",
       "    }\n",
       "  })({\"config\": {\"view\": {\"continuousWidth\": 300, \"continuousHeight\": 300}}, \"data\": {\"name\": \"data-cd9080f2ba4297611a88f862c0e8a87f\"}, \"mark\": {\"type\": \"circle\"}, \"encoding\": {\"color\": {\"field\": \"value\", \"type\": \"quantitative\"}, \"size\": {\"field\": \"size\", \"type\": \"quantitative\"}, \"x\": {\"field\": \"variable\", \"type\": \"nominal\"}, \"y\": {\"field\": \"var\", \"type\": \"nominal\"}}, \"$schema\": \"https://vega.github.io/schema/vega-lite/v5.15.1.json\", \"datasets\": {\"data-cd9080f2ba4297611a88f862c0e8a87f\": [{\"var\": \"NBHD 0\", \"variable\": \"Gene 0\", \"value\": 0.5277983559252912, \"size\": 0.5557529474443269}, {\"var\": \"NBHD 1\", \"variable\": \"Gene 0\", \"value\": 0.9806262748570855, \"size\": 1.5500395443600787}, {\"var\": \"NBHD 2\", \"variable\": \"Gene 0\", \"value\": 0.5489242404785771, \"size\": 1.364488917364714}, {\"var\": \"NBHD 3\", \"variable\": \"Gene 0\", \"value\": 0.21747487643646934, \"size\": 1.1147531650438691}, {\"var\": \"NBHD 4\", \"variable\": \"Gene 0\", \"value\": 0.7756820928201174, \"size\": 1.1429360336874392}, {\"var\": \"NBHD 5\", \"variable\": \"Gene 0\", \"value\": 0.6131946277014874, \"size\": 1.1276156699917148}, {\"var\": \"NBHD 6\", \"variable\": \"Gene 0\", \"value\": 0.46007428755524016, \"size\": 0.9949951581112111}, {\"var\": \"NBHD 7\", \"variable\": \"Gene 0\", \"value\": 0.317610855572245, \"size\": 0.6694037789936113}, {\"var\": \"NBHD 0\", \"variable\": \"Gene 1\", \"value\": 0.31997053028306344, \"size\": 1.175881642711982}, {\"var\": \"NBHD 1\", \"variable\": \"Gene 1\", \"value\": 0.5122580250919803, \"size\": 1.1666380305918436}, {\"var\": \"NBHD 2\", \"variable\": \"Gene 1\", \"value\": 0.4750750953553269, \"size\": 1.0579739539269988}, {\"var\": \"NBHD 3\", \"variable\": \"Gene 1\", \"value\": 0.2594327692029338, \"size\": 0.30887499617357905}, {\"var\": \"NBHD 4\", \"variable\": \"Gene 1\", \"value\": 0.7349385312089668, \"size\": 0.8298644067571741}, {\"var\": \"NBHD 5\", \"variable\": \"Gene 1\", \"value\": 0.021067764839356906, \"size\": 0.4526528093959611}, {\"var\": \"NBHD 6\", \"variable\": \"Gene 1\", \"value\": 0.051747833009523125, \"size\": 0.8583053634484591}, {\"var\": \"NBHD 7\", \"variable\": \"Gene 1\", \"value\": 0.4729103186174425, \"size\": 0.9726151124357177}, {\"var\": \"NBHD 0\", \"variable\": \"Gene 2\", \"value\": 0.6666264205833446, \"size\": 1.5299043418020615}, {\"var\": \"NBHD 1\", \"variable\": \"Gene 2\", \"value\": 0.6602773508909758, \"size\": 0.8277747852514354}, {\"var\": \"NBHD 2\", \"variable\": \"Gene 2\", \"value\": 0.7413588291830193, \"size\": 1.3824215560053315}, {\"var\": \"NBHD 3\", \"variable\": \"Gene 2\", \"value\": 0.8471076110763269, \"size\": 1.7729052153700868}, {\"var\": \"NBHD 4\", \"variable\": \"Gene 2\", \"value\": 0.7116509211153349, \"size\": 1.0728187113566339}, {\"var\": \"NBHD 5\", \"variable\": \"Gene 2\", \"value\": 0.5060461367502241, \"size\": 1.1224945145401526}, {\"var\": \"NBHD 6\", \"variable\": \"Gene 2\", \"value\": 0.8166019970588685, \"size\": 0.9995063317043912}, {\"var\": \"NBHD 7\", \"variable\": \"Gene 2\", \"value\": 0.10600967056978594, \"size\": 0.9685356664873933}, {\"var\": \"NBHD 0\", \"variable\": \"Gene 3\", \"value\": 0.8012748489757935, \"size\": 1.5809030627498202}, {\"var\": \"NBHD 1\", \"variable\": \"Gene 3\", \"value\": 0.8759342268562154, \"size\": 1.6462264955167978}, {\"var\": \"NBHD 2\", \"variable\": \"Gene 3\", \"value\": 0.5239692019542056, \"size\": 0.5780677413605865}, {\"var\": \"NBHD 3\", \"variable\": \"Gene 3\", \"value\": 0.3804977979689963, \"size\": 0.4318639345080373}, {\"var\": \"NBHD 4\", \"variable\": \"Gene 3\", \"value\": 0.4266337148095811, \"size\": 1.1251801385825178}, {\"var\": \"NBHD 5\", \"variable\": \"Gene 3\", \"value\": 0.9089371837831552, \"size\": 1.906849260497153}, {\"var\": \"NBHD 6\", \"variable\": \"Gene 3\", \"value\": 0.46704776445064944, \"size\": 1.0290230204650102}, {\"var\": \"NBHD 7\", \"variable\": \"Gene 3\", \"value\": 0.1899040790043257, \"size\": 0.9576880519418198}, {\"var\": \"NBHD 0\", \"variable\": \"Gene 4\", \"value\": 0.9402879680118678, \"size\": 1.75270112540296}, {\"var\": \"NBHD 1\", \"variable\": \"Gene 4\", \"value\": 0.32900462609156256, \"size\": 0.458893696136665}, {\"var\": \"NBHD 2\", \"variable\": \"Gene 4\", \"value\": 0.5407565749622086, \"size\": 1.1375849574483776}, {\"var\": \"NBHD 3\", \"variable\": \"Gene 4\", \"value\": 0.714442660802312, \"size\": 1.3725806410572456}, {\"var\": \"NBHD 4\", \"variable\": \"Gene 4\", \"value\": 0.713955694804004, \"size\": 1.6791496378037194}, {\"var\": \"NBHD 5\", \"variable\": \"Gene 4\", \"value\": 0.621384965789927, \"size\": 1.4300026630082383}, {\"var\": \"NBHD 6\", \"variable\": \"Gene 4\", \"value\": 0.425069453279846, \"size\": 0.8884882453642883}, {\"var\": \"NBHD 7\", \"variable\": \"Gene 4\", \"value\": 0.7864078258062656, \"size\": 0.8959097748328153}, {\"var\": \"NBHD 0\", \"variable\": \"Gene 5\", \"value\": 0.06815895996517873, \"size\": 0.7508477867541473}, {\"var\": \"NBHD 1\", \"variable\": \"Gene 5\", \"value\": 0.839065507588557, \"size\": 1.132215870928563}, {\"var\": \"NBHD 2\", \"variable\": \"Gene 5\", \"value\": 0.16278684332584625, \"size\": 0.25513250596697457}, {\"var\": \"NBHD 3\", \"variable\": \"Gene 5\", \"value\": 0.6357412438450225, \"size\": 0.7438581174792505}, {\"var\": \"NBHD 4\", \"variable\": \"Gene 5\", \"value\": 0.8366222870037007, \"size\": 1.197620976487061}, {\"var\": \"NBHD 5\", \"variable\": \"Gene 5\", \"value\": 0.7115759092569769, \"size\": 1.108025869285218}, {\"var\": \"NBHD 6\", \"variable\": \"Gene 5\", \"value\": 0.7390061350515189, \"size\": 1.4062929737402718}, {\"var\": \"NBHD 7\", \"variable\": \"Gene 5\", \"value\": 0.194242633056254, \"size\": 0.9206765651378842}, {\"var\": \"NBHD 0\", \"variable\": \"Gene 6\", \"value\": 0.7094288395204821, \"size\": 0.8291929103953565}, {\"var\": \"NBHD 1\", \"variable\": \"Gene 6\", \"value\": 0.9085817645780931, \"size\": 1.1255592739374563}, {\"var\": \"NBHD 2\", \"variable\": \"Gene 6\", \"value\": 0.29267215570606664, \"size\": 0.9047767151310855}, {\"var\": \"NBHD 3\", \"variable\": \"Gene 6\", \"value\": 0.7458556615663409, \"size\": 1.312245547726309}, {\"var\": \"NBHD 4\", \"variable\": \"Gene 6\", \"value\": 0.3038885300188836, \"size\": 0.6181996885603215}, {\"var\": \"NBHD 5\", \"variable\": \"Gene 6\", \"value\": 0.6343484408872657, \"size\": 0.6816616126448186}, {\"var\": \"NBHD 6\", \"variable\": \"Gene 6\", \"value\": 0.13381376727553174, \"size\": 0.7654539906460899}, {\"var\": \"NBHD 7\", \"variable\": \"Gene 6\", \"value\": 0.10787493556553951, \"size\": 0.2872516978493187}, {\"var\": \"NBHD 0\", \"variable\": \"Gene 7\", \"value\": 0.1408990720626061, \"size\": 0.7245124621703208}, {\"var\": \"NBHD 1\", \"variable\": \"Gene 7\", \"value\": 0.28836073903075243, \"size\": 1.0208795537743018}, {\"var\": \"NBHD 2\", \"variable\": \"Gene 7\", \"value\": 0.6664770152581139, \"size\": 0.8888479598195427}, {\"var\": \"NBHD 3\", \"variable\": \"Gene 7\", \"value\": 0.9164882559652953, \"size\": 1.8665895316727497}, {\"var\": \"NBHD 4\", \"variable\": \"Gene 7\", \"value\": 0.41117122575209475, \"size\": 0.8930023974747743}, {\"var\": \"NBHD 5\", \"variable\": \"Gene 7\", \"value\": 0.134801700035872, \"size\": 0.9256095757426117}, {\"var\": \"NBHD 6\", \"variable\": \"Gene 7\", \"value\": 0.47811842509448654, \"size\": 0.759637964712187}, {\"var\": \"NBHD 7\", \"variable\": \"Gene 7\", \"value\": 0.09192036250581948, \"size\": 1.040169719137134}, {\"var\": \"NBHD 0\", \"variable\": \"Gene 8\", \"value\": 0.015600521891184771, \"size\": 0.3817935994265079}, {\"var\": \"NBHD 1\", \"variable\": \"Gene 8\", \"value\": 0.23589750244329855, \"size\": 0.24254265116872875}, {\"var\": \"NBHD 2\", \"variable\": \"Gene 8\", \"value\": 0.12385521987616643, \"size\": 0.47862712041114586}, {\"var\": \"NBHD 3\", \"variable\": \"Gene 8\", \"value\": 0.348189798387587, \"size\": 0.6984732870474245}, {\"var\": \"NBHD 4\", \"variable\": \"Gene 8\", \"value\": 0.3997356466036347, \"size\": 1.215016875964089}, {\"var\": \"NBHD 5\", \"variable\": \"Gene 8\", \"value\": 0.8374178073232051, \"size\": 1.7515655622369044}, {\"var\": \"NBHD 6\", \"variable\": \"Gene 8\", \"value\": 0.42070069930504705, \"size\": 1.14007598187276}, {\"var\": \"NBHD 7\", \"variable\": \"Gene 8\", \"value\": 0.22449027294271706, \"size\": 0.6385898492661419}, {\"var\": \"NBHD 0\", \"variable\": \"Gene 9\", \"value\": 0.39330353858848355, \"size\": 1.283861866894699}, {\"var\": \"NBHD 1\", \"variable\": \"Gene 9\", \"value\": 0.8488400908726529, \"size\": 1.2956716263475816}, {\"var\": \"NBHD 2\", \"variable\": \"Gene 9\", \"value\": 0.90427923575766, \"size\": 1.6641470312089277}, {\"var\": \"NBHD 3\", \"variable\": \"Gene 9\", \"value\": 0.7352419930633074, \"size\": 0.9790030872948339}, {\"var\": \"NBHD 4\", \"variable\": \"Gene 9\", \"value\": 0.7711877362446885, \"size\": 1.2305434152416568}, {\"var\": \"NBHD 5\", \"variable\": \"Gene 9\", \"value\": 0.8144912244330164, \"size\": 0.9755990580804921}, {\"var\": \"NBHD 6\", \"variable\": \"Gene 9\", \"value\": 0.26472324907495315, \"size\": 0.514082008587753}, {\"var\": \"NBHD 7\", \"variable\": \"Gene 9\", \"value\": 0.4216349076359108, \"size\": 0.6090252739323573}, {\"var\": \"NBHD 0\", \"variable\": \"Gene 10\", \"value\": 0.3358185449622112, \"size\": 1.1214802546053626}, {\"var\": \"NBHD 1\", \"variable\": \"Gene 10\", \"value\": 0.578536993632359, \"size\": 0.945578375873722}, {\"var\": \"NBHD 2\", \"variable\": \"Gene 10\", \"value\": 0.9689543876027839, \"size\": 1.6881836042383866}, {\"var\": \"NBHD 3\", \"variable\": \"Gene 10\", \"value\": 0.5916202173499084, \"size\": 0.9227190658491431}, {\"var\": \"NBHD 4\", \"variable\": \"Gene 10\", \"value\": 0.6951034290847138, \"size\": 1.5809692051478161}, {\"var\": \"NBHD 5\", \"variable\": \"Gene 10\", \"value\": 0.1345074532558076, \"size\": 1.1251619065334546}, {\"var\": \"NBHD 6\", \"variable\": \"Gene 10\", \"value\": 0.4367124198541812, \"size\": 1.0280472131157414}, {\"var\": \"NBHD 7\", \"variable\": \"Gene 10\", \"value\": 0.20417262925281254, \"size\": 1.0004400298557012}, {\"var\": \"NBHD 0\", \"variable\": \"Gene 11\", \"value\": 0.39506928780948936, \"size\": 0.4722403492131453}, {\"var\": \"NBHD 1\", \"variable\": \"Gene 11\", \"value\": 0.20313515961814166, \"size\": 1.180242829317927}, {\"var\": \"NBHD 2\", \"variable\": \"Gene 11\", \"value\": 0.4273043415045902, \"size\": 1.3779829052105654}, {\"var\": \"NBHD 3\", \"variable\": \"Gene 11\", \"value\": 0.6807675371297329, \"size\": 1.0326165679618762}, {\"var\": \"NBHD 4\", \"variable\": \"Gene 11\", \"value\": 0.9229809309168393, \"size\": 1.3078905912958103}, {\"var\": \"NBHD 5\", \"variable\": \"Gene 11\", \"value\": 0.9797328916600744, \"size\": 1.5459864618127073}, {\"var\": \"NBHD 6\", \"variable\": \"Gene 11\", \"value\": 0.8529016297645186, \"size\": 1.6006521366502118}, {\"var\": \"NBHD 7\", \"variable\": \"Gene 11\", \"value\": 0.7555019715843212, \"size\": 0.9668793241690562}, {\"var\": \"NBHD 0\", \"variable\": \"Gene 12\", \"value\": 0.1245891818445043, \"size\": 1.0210422636075707}, {\"var\": \"NBHD 1\", \"variable\": \"Gene 12\", \"value\": 0.5217076933003983, \"size\": 1.3484804390623184}, {\"var\": \"NBHD 2\", \"variable\": \"Gene 12\", \"value\": 0.07032189595298455, \"size\": 0.6067518436799054}, {\"var\": \"NBHD 3\", \"variable\": \"Gene 12\", \"value\": 0.5113929939964479, \"size\": 1.5103176362085087}, {\"var\": \"NBHD 4\", \"variable\": \"Gene 12\", \"value\": 0.6248490395414275, \"size\": 0.9659620345277562}, {\"var\": \"NBHD 5\", \"variable\": \"Gene 12\", \"value\": 0.8914928540473411, \"size\": 1.2536293977503488}, {\"var\": \"NBHD 6\", \"variable\": \"Gene 12\", \"value\": 0.8277939560761891, \"size\": 1.7110266079181904}, {\"var\": \"NBHD 7\", \"variable\": \"Gene 12\", \"value\": 0.10233922028342224, \"size\": 0.735893915943327}, {\"var\": \"NBHD 0\", \"variable\": \"Gene 13\", \"value\": 0.5848621764483578, \"size\": 0.8155656769136197}, {\"var\": \"NBHD 1\", \"variable\": \"Gene 13\", \"value\": 0.7161419371523028, \"size\": 0.8348700124318594}, {\"var\": \"NBHD 2\", \"variable\": \"Gene 13\", \"value\": 0.9905536044615156, \"size\": 1.6113373642139672}, {\"var\": \"NBHD 3\", \"variable\": \"Gene 13\", \"value\": 0.15260381983083815, \"size\": 1.122179720791137}, {\"var\": \"NBHD 4\", \"variable\": \"Gene 13\", \"value\": 0.5593469660442859, \"size\": 1.0822825411836958}, {\"var\": \"NBHD 5\", \"variable\": \"Gene 13\", \"value\": 0.8724701009837168, \"size\": 0.9224720048873817}, {\"var\": \"NBHD 6\", \"variable\": \"Gene 13\", \"value\": 0.6665791318906024, \"size\": 1.4474078184387598}, {\"var\": \"NBHD 7\", \"variable\": \"Gene 13\", \"value\": 0.6199940570764724, \"size\": 1.3059367751771043}, {\"var\": \"NBHD 0\", \"variable\": \"Gene 14\", \"value\": 0.31730481678886957, \"size\": 0.8964594246568977}, {\"var\": \"NBHD 1\", \"variable\": \"Gene 14\", \"value\": 0.6144352190129703, \"size\": 0.7478371474056684}, {\"var\": \"NBHD 2\", \"variable\": \"Gene 14\", \"value\": 0.28496322576617106, \"size\": 0.7443561835584546}, {\"var\": \"NBHD 3\", \"variable\": \"Gene 14\", \"value\": 0.9314669108327852, \"size\": 1.4721523846741449}, {\"var\": \"NBHD 4\", \"variable\": \"Gene 14\", \"value\": 0.7704577253258291, \"size\": 1.7321187928109507}, {\"var\": \"NBHD 5\", \"variable\": \"Gene 14\", \"value\": 0.5758450784694602, \"size\": 1.4061185826858646}, {\"var\": \"NBHD 6\", \"variable\": \"Gene 14\", \"value\": 0.4365056091339339, \"size\": 1.3668335522662283}, {\"var\": \"NBHD 7\", \"variable\": \"Gene 14\", \"value\": 0.125793114152841, \"size\": 0.9149780551524803}, {\"var\": \"NBHD 0\", \"variable\": \"Gene 15\", \"value\": 0.9489036361156723, \"size\": 1.1687022836383156}, {\"var\": \"NBHD 1\", \"variable\": \"Gene 15\", \"value\": 0.07233665737442263, \"size\": 0.8573943462376272}, {\"var\": \"NBHD 2\", \"variable\": \"Gene 15\", \"value\": 0.7437403568416829, \"size\": 0.7648674230742857}, {\"var\": \"NBHD 3\", \"variable\": \"Gene 15\", \"value\": 0.5379893719124614, \"size\": 0.993758243162469}, {\"var\": \"NBHD 4\", \"variable\": \"Gene 15\", \"value\": 0.5711423462736007, \"size\": 0.7392676843835104}, {\"var\": \"NBHD 5\", \"variable\": \"Gene 15\", \"value\": 0.023519065840075237, \"size\": 0.5675890601682748}, {\"var\": \"NBHD 6\", \"variable\": \"Gene 15\", \"value\": 0.5812862923581052, \"size\": 1.190851297405781}, {\"var\": \"NBHD 7\", \"variable\": \"Gene 15\", \"value\": 0.16693824265076496, \"size\": 0.923850904175173}, {\"var\": \"NBHD 0\", \"variable\": \"Gene 16\", \"value\": 0.4187749884840041, \"size\": 1.0016473570557956}, {\"var\": \"NBHD 1\", \"variable\": \"Gene 16\", \"value\": 0.1476008283223511, \"size\": 0.5679272176920792}, {\"var\": \"NBHD 2\", \"variable\": \"Gene 16\", \"value\": 0.4100608695559024, \"size\": 1.256924823997561}, {\"var\": \"NBHD 3\", \"variable\": \"Gene 16\", \"value\": 0.4808184682815593, \"size\": 0.8564338916821619}, {\"var\": \"NBHD 4\", \"variable\": \"Gene 16\", \"value\": 0.006551829793190578, \"size\": 0.22824318103975516}, {\"var\": \"NBHD 5\", \"variable\": \"Gene 16\", \"value\": 0.10041068529411667, \"size\": 0.5420529994217468}, {\"var\": \"NBHD 6\", \"variable\": \"Gene 16\", \"value\": 0.15230620638599301, \"size\": 0.7059609648749805}, {\"var\": \"NBHD 7\", \"variable\": \"Gene 16\", \"value\": 0.19231795240722915, \"size\": 0.6512196126722924}, {\"var\": \"NBHD 0\", \"variable\": \"Gene 17\", \"value\": 0.571378451605879, \"size\": 1.2970725816708297}, {\"var\": \"NBHD 1\", \"variable\": \"Gene 17\", \"value\": 0.2623726001270349, \"size\": 1.1143321340098098}, {\"var\": \"NBHD 2\", \"variable\": \"Gene 17\", \"value\": 0.6511147363261467, \"size\": 1.5789776769128445}, {\"var\": \"NBHD 3\", \"variable\": \"Gene 17\", \"value\": 0.4620869545060333, \"size\": 0.912052008357747}, {\"var\": \"NBHD 4\", \"variable\": \"Gene 17\", \"value\": 0.7087264275234337, \"size\": 0.8137120187229339}, {\"var\": \"NBHD 5\", \"variable\": \"Gene 17\", \"value\": 0.8246739589163111, \"size\": 0.9194814016244537}, {\"var\": \"NBHD 6\", \"variable\": \"Gene 17\", \"value\": 0.9572399906325029, \"size\": 1.7598465881800807}, {\"var\": \"NBHD 7\", \"variable\": \"Gene 17\", \"value\": 0.38498215796459423, \"size\": 0.946503423597401}, {\"var\": \"NBHD 0\", \"variable\": \"Gene 18\", \"value\": 0.6671552655418334, \"size\": 1.4489678864890982}, {\"var\": \"NBHD 1\", \"variable\": \"Gene 18\", \"value\": 0.718191887980382, \"size\": 0.8110304818157635}, {\"var\": \"NBHD 2\", \"variable\": \"Gene 18\", \"value\": 0.3002652654986838, \"size\": 1.2241041002258362}, {\"var\": \"NBHD 3\", \"variable\": \"Gene 18\", \"value\": 0.6271122351750786, \"size\": 1.4210633801890276}, {\"var\": \"NBHD 4\", \"variable\": \"Gene 18\", \"value\": 0.9605549081622895, \"size\": 1.001585185360181}, {\"var\": \"NBHD 5\", \"variable\": \"Gene 18\", \"value\": 0.30105817043332095, \"size\": 0.5791069388639675}, {\"var\": \"NBHD 6\", \"variable\": \"Gene 18\", \"value\": 0.2801337245418112, \"size\": 0.7765753317988036}, {\"var\": \"NBHD 7\", \"variable\": \"Gene 18\", \"value\": 0.6354602362387045, \"size\": 0.8941231272204397}, {\"var\": \"NBHD 0\", \"variable\": \"Gene 19\", \"value\": 0.6395918786556358, \"size\": 1.5354129487761035}, {\"var\": \"NBHD 1\", \"variable\": \"Gene 19\", \"value\": 0.157050053479853, \"size\": 1.0395108436099982}, {\"var\": \"NBHD 2\", \"variable\": \"Gene 19\", \"value\": 0.30158569560514625, \"size\": 0.3366050115611423}, {\"var\": \"NBHD 3\", \"variable\": \"Gene 19\", \"value\": 0.31840417451943914, \"size\": 0.9375729934056184}, {\"var\": \"NBHD 4\", \"variable\": \"Gene 19\", \"value\": 0.4589276048970601, \"size\": 0.9327987852131376}, {\"var\": \"NBHD 5\", \"variable\": \"Gene 19\", \"value\": 0.7143048046819812, \"size\": 1.2909841502838746}, {\"var\": \"NBHD 6\", \"variable\": \"Gene 19\", \"value\": 0.1563292926259381, \"size\": 0.976008763601826}, {\"var\": \"NBHD 7\", \"variable\": \"Gene 19\", \"value\": 0.8781552833738404, \"size\": 1.4015936228824568}]}}, {\"mode\": \"vega-lite\"});\n",
       "</script>"
      ],
      "text/plain": [
       "alt.Chart(...)"
      ]
     },
     "execution_count": 54,
     "metadata": {},
     "output_type": "execute_result"
    }
   ],
   "source": [
    "alt.Chart(source).mark_circle().encode(\n",
    "    alt.X('variable'),\n",
    "    alt.Y('var'),\n",
    "    color='value',\n",
    "    size=alt.Size('size', )\n",
    ")"
   ]
  },
  {
   "cell_type": "code",
   "execution_count": null,
   "id": "7825c555",
   "metadata": {},
   "outputs": [],
   "source": []
  },
  {
   "cell_type": "code",
   "execution_count": null,
   "id": "efc29a35",
   "metadata": {},
   "outputs": [],
   "source": []
  },
  {
   "cell_type": "code",
   "execution_count": null,
   "id": "26351b6f",
   "metadata": {},
   "outputs": [],
   "source": []
  },
  {
   "cell_type": "code",
   "execution_count": null,
   "id": "1506de3b",
   "metadata": {},
   "outputs": [],
   "source": []
  },
  {
   "cell_type": "code",
   "execution_count": null,
   "id": "8afaa711",
   "metadata": {},
   "outputs": [],
   "source": []
  },
  {
   "cell_type": "code",
   "execution_count": null,
   "id": "dfe9fe72",
   "metadata": {},
   "outputs": [],
   "source": []
  },
  {
   "cell_type": "code",
   "execution_count": null,
   "id": "cfc31b9b",
   "metadata": {},
   "outputs": [],
   "source": []
  },
  {
   "cell_type": "code",
   "execution_count": null,
   "id": "757ed367",
   "metadata": {},
   "outputs": [],
   "source": []
  }
 ],
 "metadata": {
  "kernelspec": {
   "display_name": "Python 3 (ipykernel)",
   "language": "python",
   "name": "python3"
  },
  "language_info": {
   "codemirror_mode": {
    "name": "ipython",
    "version": 3
   },
   "file_extension": ".py",
   "mimetype": "text/x-python",
   "name": "python",
   "nbconvert_exporter": "python",
   "pygments_lexer": "ipython3",
   "version": "3.9.18"
  }
 },
 "nbformat": 4,
 "nbformat_minor": 5
}
