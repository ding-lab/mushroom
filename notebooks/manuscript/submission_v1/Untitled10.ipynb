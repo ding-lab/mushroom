{
 "cells": [
  {
   "cell_type": "code",
   "execution_count": 5,
   "id": "09d9201c",
   "metadata": {},
   "outputs": [],
   "source": [
    "import tifffile\n",
    "import numpy as np\n",
    "import pandas as pd\n",
    "import scanpy as sc\n",
    "import matplotlib.pyplot as plt\n",
    "import yaml\n"
   ]
  },
  {
   "cell_type": "code",
   "execution_count": 2,
   "id": "0d9350fe",
   "metadata": {},
   "outputs": [],
   "source": [
    "%load_ext autoreload"
   ]
  },
  {
   "cell_type": "code",
   "execution_count": 3,
   "id": "71c1371c",
   "metadata": {},
   "outputs": [],
   "source": [
    "%autoreload 2"
   ]
  },
  {
   "cell_type": "code",
   "execution_count": 11,
   "id": "6944b6c4",
   "metadata": {},
   "outputs": [],
   "source": [
    "import mushroom.data.multiplex as multiplex\n",
    "import mushroom.data.xenium as xenium\n",
    "import mushroom.data.visium as visium\n",
    "import mushroom.data.he as he"
   ]
  },
  {
   "cell_type": "code",
   "execution_count": 6,
   "id": "873bf3bd",
   "metadata": {},
   "outputs": [],
   "source": [
    "case = 'HT397B1'\n",
    "\n",
    "data_map = {\n",
    "    'target_sid': 'HT397B1-U1',\n",
    "    'resolution': None,\n",
    "    'sections': [\n",
    "        {\n",
    "            'sid': 'HT397B1-U1',\n",
    "            'position': 0,\n",
    "            'data': [\n",
    "                {\n",
    "                    'dtype': 'visium',\n",
    "                    'filepath': '/diskmnt/Datasets/Spatial_Transcriptomics/outputs_FFPE/Human/HT397B1/S1H3/HT397B1-S1H3A1U1Bp1/outs'\n",
    "                },\n",
    "                {\n",
    "                    'dtype': 'he',\n",
    "                    'filepath': '/diskmnt/Datasets/Spatial_Transcriptomics/images/all/A1_HT397B1-S1H3A1U1.tif'\n",
    "                },\n",
    "            ] \n",
    "        },\n",
    "        {\n",
    "            'sid': 'HT397B1-U2',\n",
    "            'position': 5,\n",
    "            'data': [\n",
    "                {\n",
    "                    'dtype': 'multiplex',\n",
    "                    'filepath': '/diskmnt/primary/CODEX/HTAN/031623_BRCA_HT397B1-U2/HT397B1-S1H3A1-U2__20230315.ome.tiff'\n",
    "                },\n",
    "            ] \n",
    "        },\n",
    "        {\n",
    "            'sid': 'HT397B1-U4',\n",
    "            'position': 15,\n",
    "            'data': [\n",
    "                {\n",
    "                    'dtype': 'batch2_he',\n",
    "                    'filepath': '/diskmnt/Projects/Users/estorrs/imaging-analysis/data/htan_talk/he/HT397B1/HT397B1-S1H3A1U4_Scan1.qptiff'\n",
    "                },\n",
    "            ] \n",
    "        },\n",
    "        {\n",
    "            'sid': 'HT397B1-U8',\n",
    "            'position': 35,\n",
    "            'data': [\n",
    "                {\n",
    "                    'dtype': 'batch2_he',\n",
    "                    'filepath': '/diskmnt/Projects/Users/estorrs/imaging-analysis/data/htan_talk/he/HT397B1/HT397B1-S1H3A1U8_Scan1.qptiff'\n",
    "                },\n",
    "            ] \n",
    "        },\n",
    "        {\n",
    "            'sid': 'HT397B1-U11',\n",
    "            'position': 50,\n",
    "            'data': [\n",
    "                {\n",
    "                    'dtype': 'batch2_he',\n",
    "                    'filepath': '/diskmnt/Projects/Users/estorrs/imaging-analysis/data/htan_talk/he/HT397B1/HT397B1-S1H3A1U11_Scan1.qptiff'\n",
    "                },\n",
    "            ] \n",
    "        },\n",
    "        {\n",
    "            'sid': 'HT397B1-U12',\n",
    "            'position': 55,\n",
    "            'data': [\n",
    "                {\n",
    "                    'dtype': 'multiplex',\n",
    "                    'filepath': '/diskmnt/primary/CODEX/HTAN/03172023_BRCA_HT397B1-U12/HT397B1-S1H3A1-U22__20230316.ome.tiff'\n",
    "                },\n",
    "            ] \n",
    "        },\n",
    "        {\n",
    "            'sid': 'HT397B1-U16',\n",
    "            'position': 75,\n",
    "            'data': [\n",
    "                {\n",
    "                    'dtype': 'batch2_he',\n",
    "                    'filepath': '/diskmnt/Projects/Users/estorrs/imaging-analysis/data/htan_talk/he/HT397B1/HT397B1-S1H3A1U16_Scan1.qptiff'\n",
    "                },\n",
    "            ] \n",
    "        },\n",
    "        {\n",
    "            'sid': 'HT397B1-U21',\n",
    "            'position': 100,\n",
    "            'data': [\n",
    "                {\n",
    "                    'dtype': 'visium',\n",
    "                    'filepath': '/diskmnt/Datasets/Spatial_Transcriptomics/outputs_FFPE/Human/HT397B1/S1H3/HT397B1-S1H3A1U21Bp1/outs'\n",
    "                },\n",
    "                {\n",
    "                    'dtype': 'he',\n",
    "                    'filepath': '/diskmnt/Datasets/Spatial_Transcriptomics/images/all/B1_HT397B1-S1H3A1U21.tif'\n",
    "                },\n",
    "            ] \n",
    "        },\n",
    "        {\n",
    "            'sid': 'HT397B1-U22',\n",
    "            'position': 105,\n",
    "            'data': [\n",
    "                {\n",
    "                    'dtype': 'multiplex',\n",
    "                    'filepath': '/diskmnt/primary/CODEX/HTAN/041223_BRCA_HT397B1-S1H3A1-U22/HT397B1-S1H3A1-U22__20230413.ome.tiff'\n",
    "                },\n",
    "            ] \n",
    "        },\n",
    "        {\n",
    "            'sid': 'HT397B1-U20',\n",
    "            'position': 125,\n",
    "            'data': [\n",
    "                {\n",
    "                    'dtype': 'batch2_he',\n",
    "                    'filepath': '/diskmnt/Projects/Users/estorrs/imaging-analysis/data/htan_talk/he/HT397B1/HT397B1-S1H3A1U20_Scan1.qptiff'\n",
    "                },\n",
    "            ] \n",
    "        },\n",
    "        {\n",
    "            'sid': 'HT397B1-U28',\n",
    "            'position': 145,\n",
    "            'data': [\n",
    "                {\n",
    "                    'dtype': 'batch2_he',\n",
    "                    'filepath': '/diskmnt/Projects/Users/estorrs/imaging-analysis/data/htan_talk/he/HT397B1/HT397B1-S1H3A1U28_Scan1.qptiff'\n",
    "                },\n",
    "            ] \n",
    "        },\n",
    "        {\n",
    "            'sid': 'HT397B1-U31',\n",
    "            'position': 150,\n",
    "            'data': [\n",
    "                {\n",
    "                    'dtype': 'multiplex',\n",
    "                    'filepath': '/diskmnt/primary/CODEX/HTAN/040623_BRCA_HT397B1-U31/HT397B1-S1H3A1-U31__20230407.ome.tiff'\n",
    "                },\n",
    "            ] \n",
    "        },\n",
    "    ]\n",
    "}\n"
   ]
  },
  {
   "cell_type": "code",
   "execution_count": null,
   "id": "2fd5654a",
   "metadata": {},
   "outputs": [],
   "source": []
  },
  {
   "cell_type": "code",
   "execution_count": 12,
   "id": "79e3154f",
   "metadata": {},
   "outputs": [
    {
     "name": "stderr",
     "output_type": "stream",
     "text": [
      "/diskmnt/Projects/Users/estorrs/miniconda3/envs/mushroom/lib/python3.9/site-packages/anndata/_core/anndata.py:1840: UserWarning: Variable names are not unique. To make them unique, call `.var_names_make_unique`.\n",
      "  utils.warn_names_duplicates(\"var\")\n",
      "/diskmnt/Projects/Users/estorrs/miniconda3/envs/mushroom/lib/python3.9/site-packages/anndata/_core/anndata.py:1113: FutureWarning: is_categorical_dtype is deprecated and will be removed in a future version. Use isinstance(dtype, CategoricalDtype) instead\n",
      "  if not is_categorical_dtype(df_full[k]):\n",
      "/diskmnt/Projects/Users/estorrs/miniconda3/envs/mushroom/lib/python3.9/site-packages/anndata/_core/anndata.py:1840: UserWarning: Variable names are not unique. To make them unique, call `.var_names_make_unique`.\n",
      "  utils.warn_names_duplicates(\"var\")\n"
     ]
    }
   ],
   "source": [
    "adata = visium.adata_from_visium('/diskmnt/Datasets/Spatial_Transcriptomics/outputs_FFPE/Human/HT397B1/S1H3/HT397B1-S1H3A1U1Bp1/outs')\n",
    "he_img = he.read_he('/diskmnt/Datasets/Spatial_Transcriptomics/images/all/A1_HT397B1-S1H3A1U1.tif')\n",
    "\n",
    "multiplex_fp = '/diskmnt/primary/CODEX/HTAN/031623_BRCA_HT397B1-U2/HT397B1-S1H3A1-U2__20230315.ome.tiff'\n",
    "channel_to_img = multiplex.extract_ome_tiff(multiplex_fp)\n",
    "\n"
   ]
  },
  {
   "cell_type": "code",
   "execution_count": 13,
   "id": "bf131995",
   "metadata": {},
   "outputs": [
    {
     "data": {
      "text/plain": [
       "0.5100762527233116"
      ]
     },
     "execution_count": 13,
     "metadata": {},
     "output_type": "execute_result"
    }
   ],
   "source": [
    "multiplex.pixels_per_micron(multiplex_fp)"
   ]
  },
  {
   "cell_type": "code",
   "execution_count": null,
   "id": "e7a02b92",
   "metadata": {},
   "outputs": [],
   "source": []
  },
  {
   "cell_type": "code",
   "execution_count": 14,
   "id": "2a29bf95",
   "metadata": {},
   "outputs": [
    {
     "data": {
      "text/plain": [
       "(18643, 18378, 3)"
      ]
     },
     "execution_count": 14,
     "metadata": {},
     "output_type": "execute_result"
    }
   ],
   "source": [
    "he_img.shape"
   ]
  },
  {
   "cell_type": "code",
   "execution_count": 15,
   "id": "58995edf",
   "metadata": {},
   "outputs": [
    {
     "data": {
      "text/plain": [
       "(17280, 16320)"
      ]
     },
     "execution_count": 15,
     "metadata": {},
     "output_type": "execute_result"
    }
   ],
   "source": [
    "next(iter(channel_to_img.values())).shape"
   ]
  },
  {
   "cell_type": "code",
   "execution_count": 16,
   "id": "422b8267",
   "metadata": {},
   "outputs": [],
   "source": [
    "d = next(iter(adata.uns['spatial'].values()))\n",
    "hires = d['images']['hires']\n",
    "sf = d['scalefactors']"
   ]
  },
  {
   "cell_type": "code",
   "execution_count": 17,
   "id": "ab7c5f04",
   "metadata": {},
   "outputs": [
    {
     "data": {
      "text/plain": [
       "(2000, 1972, 3)"
      ]
     },
     "execution_count": 17,
     "metadata": {},
     "output_type": "execute_result"
    }
   ],
   "source": [
    "hires.shape"
   ]
  },
  {
   "cell_type": "code",
   "execution_count": 18,
   "id": "c8676137",
   "metadata": {},
   "outputs": [
    {
     "data": {
      "text/plain": [
       "{'tissue_hires_scalef': 0.10727887,\n",
       " 'tissue_lowres_scalef': 0.032183662,\n",
       " 'fiducial_diameter_fullres': 243.84368374073196,\n",
       " 'spot_diameter_fullres': 150.95085183950073}"
      ]
     },
     "execution_count": 18,
     "metadata": {},
     "output_type": "execute_result"
    }
   ],
   "source": [
    "sf"
   ]
  },
  {
   "cell_type": "code",
   "execution_count": 19,
   "id": "aaeaa655",
   "metadata": {},
   "outputs": [
    {
     "data": {
      "text/plain": [
       "0.43333333333333335"
      ]
     },
     "execution_count": 19,
     "metadata": {},
     "output_type": "execute_result"
    }
   ],
   "source": [
    "65 / 150"
   ]
  },
  {
   "cell_type": "code",
   "execution_count": null,
   "id": "e3a59125",
   "metadata": {},
   "outputs": [],
   "source": []
  }
 ],
 "metadata": {
  "kernelspec": {
   "display_name": "Python 3 (ipykernel)",
   "language": "python",
   "name": "python3"
  },
  "language_info": {
   "codemirror_mode": {
    "name": "ipython",
    "version": 3
   },
   "file_extension": ".py",
   "mimetype": "text/x-python",
   "name": "python",
   "nbconvert_exporter": "python",
   "pygments_lexer": "ipython3",
   "version": "3.9.18"
  }
 },
 "nbformat": 4,
 "nbformat_minor": 5
}
