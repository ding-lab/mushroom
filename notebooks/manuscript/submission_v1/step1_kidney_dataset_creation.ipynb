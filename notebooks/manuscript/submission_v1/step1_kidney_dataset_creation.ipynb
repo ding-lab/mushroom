{
 "cells": [
  {
   "cell_type": "code",
   "execution_count": 1,
   "id": "8c339185",
   "metadata": {},
   "outputs": [],
   "source": [
    "import copy\n",
    "import os\n",
    "import re\n",
    "import shutil\n",
    "import sys\n",
    "from pathlib import Path\n",
    "\n",
    "import numpy as np\n",
    "import pandas as pd\n",
    "import matplotlib.pyplot as plt\n",
    "import tifffile\n",
    "import yaml\n",
    "from einops import rearrange"
   ]
  },
  {
   "cell_type": "code",
   "execution_count": 2,
   "id": "0286e63b",
   "metadata": {},
   "outputs": [],
   "source": [
    "import mushroom.utils as utils\n",
    "import mushroom.data.multiplex as multiplex\n",
    "import mushroom.data.xenium as xenium\n",
    "import mushroom.data.visium as visium"
   ]
  },
  {
   "cell_type": "code",
   "execution_count": 3,
   "id": "275f8c1d",
   "metadata": {},
   "outputs": [],
   "source": [
    "project_dir = '/diskmnt/Projects/Users/estorrs/mushroom/data/projects/submission_v1'\n",
    "Path(project_dir).mkdir(parents=True, exist_ok=True)"
   ]
  },
  {
   "cell_type": "code",
   "execution_count": 4,
   "id": "c9eec26c",
   "metadata": {},
   "outputs": [],
   "source": [
    "case_mapping = {\n",
    "    'NMK12F-Fp1': '/diskmnt/primary/Xenium/data/20231108__221554__24009/output-XETG00122__0010864__20210423-NMK12F-Fp1U1__20231108__221654',\n",
    "    'NMK12M-Fp1': '/diskmnt/primary/Xenium/data/20231108__221554__24009/output-XETG00122__0010864__20210423-NMK12M-Fp1U1__20231108__221654',\n",
    "    'NMK3M-Fp1': '/diskmnt/primary/Xenium/data/20231108__221554__24009/output-XETG00122__0010864__20210419-NMK3M-Fp1U1__20231108__221654',\n",
    "    'NMK3F-Fp1': '/diskmnt/primary/Xenium/data/20231108__221554__24009/output-XETG00122__0010864__20210419-NMK3F-Fp1U1__20231108__221654',\n",
    "    'NMK92M-Fp1': '/diskmnt/primary/Xenium/data/20231108__221554__24009/output-XETG00122__0010883__20210907-NMK92M-Fp1U1__20231108__221654',\n",
    "    'NMK92F-Fp1': '/diskmnt/primary/Xenium/data/20231108__221554__24009/output-XETG00122__0010883__20210908-NMK92F-Fp1U1__20231108__221654',\n",
    "    'P1F1MnR-Fp1': '/diskmnt/primary/Xenium/data/20231108__221554__24009/output-XETG00122__0010883__230320-P1F1MnR-Fp1U1__20231108__221654',\n",
    "    'P1M3MnR-Fp1': '/diskmnt/primary/Xenium/data/20231108__221554__24009/output-XETG00122__0010883__230320-P1M3MnR-Fp1U1__20231108__221654',\n",
    "}"
   ]
  },
  {
   "cell_type": "code",
   "execution_count": 7,
   "id": "c2c3ecc7",
   "metadata": {},
   "outputs": [
    {
     "name": "stdout",
     "output_type": "stream",
     "text": [
      "NMK12F-Fp1\n"
     ]
    },
    {
     "name": "stderr",
     "output_type": "stream",
     "text": [
      "/diskmnt/Projects/Users/estorrs/miniconda3/envs/mushroom/lib/python3.9/site-packages/anndata/_core/anndata.py:1113: FutureWarning: is_categorical_dtype is deprecated and will be removed in a future version. Use isinstance(dtype, CategoricalDtype) instead\n",
      "  if not is_categorical_dtype(df_full[k]):\n"
     ]
    },
    {
     "name": "stdout",
     "output_type": "stream",
     "text": [
      "NMK12M-Fp1\n"
     ]
    },
    {
     "name": "stderr",
     "output_type": "stream",
     "text": [
      "/diskmnt/Projects/Users/estorrs/miniconda3/envs/mushroom/lib/python3.9/site-packages/anndata/_core/anndata.py:1113: FutureWarning: is_categorical_dtype is deprecated and will be removed in a future version. Use isinstance(dtype, CategoricalDtype) instead\n",
      "  if not is_categorical_dtype(df_full[k]):\n"
     ]
    },
    {
     "name": "stdout",
     "output_type": "stream",
     "text": [
      "NMK3M-Fp1\n"
     ]
    },
    {
     "name": "stderr",
     "output_type": "stream",
     "text": [
      "/diskmnt/Projects/Users/estorrs/miniconda3/envs/mushroom/lib/python3.9/site-packages/anndata/_core/anndata.py:1113: FutureWarning: is_categorical_dtype is deprecated and will be removed in a future version. Use isinstance(dtype, CategoricalDtype) instead\n",
      "  if not is_categorical_dtype(df_full[k]):\n"
     ]
    },
    {
     "name": "stdout",
     "output_type": "stream",
     "text": [
      "NMK3F-Fp1\n"
     ]
    },
    {
     "name": "stderr",
     "output_type": "stream",
     "text": [
      "/diskmnt/Projects/Users/estorrs/miniconda3/envs/mushroom/lib/python3.9/site-packages/anndata/_core/anndata.py:1113: FutureWarning: is_categorical_dtype is deprecated and will be removed in a future version. Use isinstance(dtype, CategoricalDtype) instead\n",
      "  if not is_categorical_dtype(df_full[k]):\n"
     ]
    },
    {
     "name": "stdout",
     "output_type": "stream",
     "text": [
      "NMK92M-Fp1\n"
     ]
    },
    {
     "name": "stderr",
     "output_type": "stream",
     "text": [
      "/diskmnt/Projects/Users/estorrs/miniconda3/envs/mushroom/lib/python3.9/site-packages/anndata/_core/anndata.py:1113: FutureWarning: is_categorical_dtype is deprecated and will be removed in a future version. Use isinstance(dtype, CategoricalDtype) instead\n",
      "  if not is_categorical_dtype(df_full[k]):\n"
     ]
    },
    {
     "name": "stdout",
     "output_type": "stream",
     "text": [
      "NMK92F-Fp1\n"
     ]
    },
    {
     "name": "stderr",
     "output_type": "stream",
     "text": [
      "/diskmnt/Projects/Users/estorrs/miniconda3/envs/mushroom/lib/python3.9/site-packages/anndata/_core/anndata.py:1113: FutureWarning: is_categorical_dtype is deprecated and will be removed in a future version. Use isinstance(dtype, CategoricalDtype) instead\n",
      "  if not is_categorical_dtype(df_full[k]):\n"
     ]
    },
    {
     "name": "stdout",
     "output_type": "stream",
     "text": [
      "P1F1MnR-Fp1\n"
     ]
    },
    {
     "name": "stderr",
     "output_type": "stream",
     "text": [
      "/diskmnt/Projects/Users/estorrs/miniconda3/envs/mushroom/lib/python3.9/site-packages/anndata/_core/anndata.py:1113: FutureWarning: is_categorical_dtype is deprecated and will be removed in a future version. Use isinstance(dtype, CategoricalDtype) instead\n",
      "  if not is_categorical_dtype(df_full[k]):\n"
     ]
    },
    {
     "name": "stdout",
     "output_type": "stream",
     "text": [
      "P1M3MnR-Fp1\n"
     ]
    },
    {
     "name": "stderr",
     "output_type": "stream",
     "text": [
      "/diskmnt/Projects/Users/estorrs/miniconda3/envs/mushroom/lib/python3.9/site-packages/anndata/_core/anndata.py:1113: FutureWarning: is_categorical_dtype is deprecated and will be removed in a future version. Use isinstance(dtype, CategoricalDtype) instead\n",
      "  if not is_categorical_dtype(df_full[k]):\n"
     ]
    }
   ],
   "source": [
    "for case, fp in case_mapping.items():\n",
    "    print(case)\n",
    "    output_dir = os.path.join(project_dir, 'kidney', case, 'registered')\n",
    "    Path(output_dir).mkdir(parents=True, exist_ok=True)\n",
    "    \n",
    "    adata = xenium.adata_from_xenium(fp)\n",
    "    output_filepath = os.path.join(output_dir, f'{case}_xenium.h5ad')\n",
    "    adata.write_h5ad(output_filepath)\n",
    "    \n",
    "    data_map = {\n",
    "        'target_sid': f'{case}-U1',\n",
    "        'resolution': 1., # xenium is 1 pix per micron\n",
    "        'sections': [\n",
    "            {\n",
    "                'sid': f'{case}-U1',\n",
    "                'position': 0,\n",
    "                'data': [\n",
    "                    {\n",
    "                        'dtype': 'xenium',\n",
    "                        'filepath': output_filepath\n",
    "                    },\n",
    "                ] \n",
    "            },\n",
    "        ]\n",
    "    }\n",
    "    yaml.safe_dump(data_map, open(os.path.join(output_dir, f'metadata.yaml'), 'w'))"
   ]
  },
  {
   "cell_type": "code",
   "execution_count": null,
   "id": "c3cfabcf",
   "metadata": {},
   "outputs": [],
   "source": []
  },
  {
   "cell_type": "code",
   "execution_count": 8,
   "id": "6e7b607d",
   "metadata": {},
   "outputs": [],
   "source": [
    "case_mapping = {\n",
    "    'P1_F1LM3l': '/diskmnt/primary/CODEX/HTAN/072823_GUDMAP_E165_F6RM3R_P1_F1LM3l_P21_F2RM6R_BTM_II_Scan1/P1_F1LM3l_left__20230728.ome.tiff',\n",
    "    'P21_F2RM6R': '/diskmnt/primary/CODEX/HTAN/072823_GUDMAP_E165_F6RM3R_P1_F1LM3l_P21_F2RM6R_BTM_II_Scan1/P21_F2RM6R_left__20230728.ome.tiff',\n",
    "}"
   ]
  },
  {
   "cell_type": "code",
   "execution_count": 9,
   "id": "04c2fa48",
   "metadata": {},
   "outputs": [
    {
     "name": "stdout",
     "output_type": "stream",
     "text": [
      "P1_F1LM3l\n",
      "P21_F2RM6R\n"
     ]
    }
   ],
   "source": [
    "for case, fp in case_mapping.items():\n",
    "    print(case)\n",
    "    output_dir = os.path.join(project_dir, 'kidney', case, 'registered')\n",
    "    Path(output_dir).mkdir(parents=True, exist_ok=True)\n",
    "    \n",
    "    output_filepath = os.path.join(output_dir, f'{case}_multiplex.ome.tiff')\n",
    "    shutil.copy(fp, output_filepath)\n",
    "    \n",
    "    data_map = {\n",
    "        'target_sid': f'{case}-U1',\n",
    "        'resolution': multiplex.pixels_per_micron(output_filepath),\n",
    "        'sections': [\n",
    "            {\n",
    "                'sid': f'{case}-U1',\n",
    "                'position': 0,\n",
    "                'data': [\n",
    "                    {\n",
    "                        'dtype': 'multiplex',\n",
    "                        'filepath': output_filepath\n",
    "                    },\n",
    "                ] \n",
    "            },\n",
    "        ]\n",
    "    }\n",
    "    yaml.safe_dump(data_map, open(os.path.join(output_dir, f'metadata.yaml'), 'w'))"
   ]
  },
  {
   "cell_type": "code",
   "execution_count": null,
   "id": "ddafede5",
   "metadata": {},
   "outputs": [],
   "source": []
  },
  {
   "cell_type": "code",
   "execution_count": 5,
   "id": "b669cad7",
   "metadata": {},
   "outputs": [],
   "source": [
    "case_mapping = {\n",
    "    'NMK92F2-Fc1U1Bs2': '/diskmnt/Datasets/Spatial_Transcriptomics/outputs_OCT/Mouse/NMK/NMK-W92-F-20210908/20210908-NMK92F2-Fc1U1Bs2/outs',\n",
    "    'NMK92M1-Fc1U1Bs2': '/diskmnt/Datasets/Spatial_Transcriptomics/outputs_OCT/Mouse/NMK/NMK-W92-M-20210907/20210907-NMK92M1-Fc1U1Bs2/outs',\n",
    "}"
   ]
  },
  {
   "cell_type": "code",
   "execution_count": 6,
   "id": "bafe2c6f",
   "metadata": {},
   "outputs": [
    {
     "name": "stdout",
     "output_type": "stream",
     "text": [
      "NMK92F2-Fc1U1Bs2\n"
     ]
    },
    {
     "name": "stderr",
     "output_type": "stream",
     "text": [
      "/diskmnt/Projects/Users/estorrs/miniconda3/envs/mushroom/lib/python3.9/site-packages/anndata/_core/anndata.py:1840: UserWarning: Variable names are not unique. To make them unique, call `.var_names_make_unique`.\n",
      "  utils.warn_names_duplicates(\"var\")\n",
      "/diskmnt/Projects/Users/estorrs/miniconda3/envs/mushroom/lib/python3.9/site-packages/anndata/_core/anndata.py:1113: FutureWarning: is_categorical_dtype is deprecated and will be removed in a future version. Use isinstance(dtype, CategoricalDtype) instead\n",
      "  if not is_categorical_dtype(df_full[k]):\n",
      "/diskmnt/Projects/Users/estorrs/miniconda3/envs/mushroom/lib/python3.9/site-packages/anndata/_core/anndata.py:1840: UserWarning: Variable names are not unique. To make them unique, call `.var_names_make_unique`.\n",
      "  utils.warn_names_duplicates(\"var\")\n"
     ]
    },
    {
     "name": "stdout",
     "output_type": "stream",
     "text": [
      "0.4151641907861879\n",
      "NMK92M1-Fc1U1Bs2\n"
     ]
    },
    {
     "name": "stderr",
     "output_type": "stream",
     "text": [
      "/diskmnt/Projects/Users/estorrs/miniconda3/envs/mushroom/lib/python3.9/site-packages/anndata/_core/anndata.py:1840: UserWarning: Variable names are not unique. To make them unique, call `.var_names_make_unique`.\n",
      "  utils.warn_names_duplicates(\"var\")\n",
      "/diskmnt/Projects/Users/estorrs/miniconda3/envs/mushroom/lib/python3.9/site-packages/anndata/_core/anndata.py:1113: FutureWarning: is_categorical_dtype is deprecated and will be removed in a future version. Use isinstance(dtype, CategoricalDtype) instead\n",
      "  if not is_categorical_dtype(df_full[k]):\n",
      "/diskmnt/Projects/Users/estorrs/miniconda3/envs/mushroom/lib/python3.9/site-packages/anndata/_core/anndata.py:1840: UserWarning: Variable names are not unique. To make them unique, call `.var_names_make_unique`.\n",
      "  utils.warn_names_duplicates(\"var\")\n"
     ]
    },
    {
     "name": "stdout",
     "output_type": "stream",
     "text": [
      "0.44679364211352635\n"
     ]
    }
   ],
   "source": [
    "for case, fp in case_mapping.items():\n",
    "    print(case)\n",
    "    output_dir = os.path.join(project_dir, 'kidney', case, 'registered')\n",
    "    Path(output_dir).mkdir(parents=True, exist_ok=True)\n",
    "    \n",
    "    adata = visium.adata_from_visium(fp)\n",
    "    output_filepath = os.path.join(output_dir, f'{case}_visium.h5ad')\n",
    "    adata.write_h5ad(output_filepath)\n",
    "    data_map = {\n",
    "        'target_sid': f'{case}-U1',\n",
    "        'resolution': visium.pixels_per_micron(adata),\n",
    "        'sections': [\n",
    "            {\n",
    "                'sid': f'{case}-U1',\n",
    "                'position': 0,\n",
    "                'data': [\n",
    "                    {\n",
    "                        'dtype': 'visium',\n",
    "                        'filepath': output_filepath\n",
    "                    },\n",
    "                ] \n",
    "            },\n",
    "        ]\n",
    "    }\n",
    "    yaml.safe_dump(data_map, open(os.path.join(output_dir, f'metadata.yaml'), 'w'))"
   ]
  },
  {
   "cell_type": "code",
   "execution_count": null,
   "id": "9f17944e",
   "metadata": {},
   "outputs": [],
   "source": []
  }
 ],
 "metadata": {
  "kernelspec": {
   "display_name": "Python 3 (ipykernel)",
   "language": "python",
   "name": "python3"
  },
  "language_info": {
   "codemirror_mode": {
    "name": "ipython",
    "version": 3
   },
   "file_extension": ".py",
   "mimetype": "text/x-python",
   "name": "python",
   "nbconvert_exporter": "python",
   "pygments_lexer": "ipython3",
   "version": "3.9.18"
  }
 },
 "nbformat": 4,
 "nbformat_minor": 5
}
