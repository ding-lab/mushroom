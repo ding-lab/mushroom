{
 "cells": [
  {
   "cell_type": "code",
   "execution_count": 27,
   "id": "5b870788",
   "metadata": {},
   "outputs": [],
   "source": [
    "import torch\n",
    "import torch.nn as nn"
   ]
  },
  {
   "cell_type": "code",
   "execution_count": 2,
   "id": "5c8425b4",
   "metadata": {},
   "outputs": [],
   "source": [
    "%load_ext autoreload"
   ]
  },
  {
   "cell_type": "code",
   "execution_count": 3,
   "id": "24f08f51",
   "metadata": {},
   "outputs": [],
   "source": [
    "%autoreload 2"
   ]
  },
  {
   "cell_type": "code",
   "execution_count": 67,
   "id": "2afa0eb7",
   "metadata": {},
   "outputs": [],
   "source": [
    "from vit_pytorch import ViT, MAE\n",
    "from vit_pytorch.slide_mae import SlideMAE"
   ]
  },
  {
   "cell_type": "code",
   "execution_count": 5,
   "id": "3fb53e9b",
   "metadata": {},
   "outputs": [],
   "source": [
    "v = ViT(\n",
    "    image_size = 256,\n",
    "    patch_size = 32,\n",
    "    num_classes = 1000,\n",
    "    dim = 1024,\n",
    "    depth = 6,\n",
    "    heads = 8,\n",
    "    mlp_dim = 2048\n",
    ")"
   ]
  },
  {
   "cell_type": "code",
   "execution_count": 23,
   "id": "bcd65b09",
   "metadata": {},
   "outputs": [],
   "source": [
    "num_patches, encoder_dim = v.pos_embedding.shape[-2:]"
   ]
  },
  {
   "cell_type": "code",
   "execution_count": 24,
   "id": "dca1472d",
   "metadata": {},
   "outputs": [
    {
     "data": {
      "text/plain": [
       "65"
      ]
     },
     "execution_count": 24,
     "metadata": {},
     "output_type": "execute_result"
    }
   ],
   "source": [
    "num_patches"
   ]
  },
  {
   "cell_type": "code",
   "execution_count": 25,
   "id": "a0c265cc",
   "metadata": {},
   "outputs": [
    {
     "data": {
      "text/plain": [
       "1024"
      ]
     },
     "execution_count": 25,
     "metadata": {},
     "output_type": "execute_result"
    }
   ],
   "source": [
    "encoder_dim"
   ]
  },
  {
   "cell_type": "code",
   "execution_count": 65,
   "id": "867ca9be",
   "metadata": {},
   "outputs": [
    {
     "data": {
      "text/plain": [
       "torch.Size([1024, 3072])"
      ]
     },
     "execution_count": 65,
     "metadata": {},
     "output_type": "execute_result"
    }
   ],
   "source": [
    "v.to_patch_embedding[2].weight.shape"
   ]
  },
  {
   "cell_type": "code",
   "execution_count": 20,
   "id": "59af479c",
   "metadata": {},
   "outputs": [],
   "source": [
    "# v.to_patch_embedding[2].weight.shape[-1]"
   ]
  },
  {
   "cell_type": "code",
   "execution_count": 28,
   "id": "0bdf8f40",
   "metadata": {},
   "outputs": [],
   "source": [
    "to_patch = v.to_patch_embedding[0]\n",
    "patch_to_emb = nn.Sequential(*v.to_patch_embedding[1:])\n",
    "\n",
    "pixel_values_per_patch = v.to_patch_embedding[2].weight.shape[-1]"
   ]
  },
  {
   "cell_type": "code",
   "execution_count": 31,
   "id": "01089096",
   "metadata": {},
   "outputs": [],
   "source": [
    "imgs = torch.randn(8, 3, 256, 256)"
   ]
  },
  {
   "cell_type": "code",
   "execution_count": 32,
   "id": "640ed161",
   "metadata": {},
   "outputs": [],
   "source": [
    "patches = to_patch(imgs)\n",
    "batch, num_patches, *_ = patches.shape"
   ]
  },
  {
   "cell_type": "code",
   "execution_count": 33,
   "id": "df9eb49e",
   "metadata": {},
   "outputs": [
    {
     "data": {
      "text/plain": [
       "torch.Size([8, 64, 3072])"
      ]
     },
     "execution_count": 33,
     "metadata": {},
     "output_type": "execute_result"
    }
   ],
   "source": [
    "patches.shape"
   ]
  },
  {
   "cell_type": "code",
   "execution_count": 34,
   "id": "e053bc1a",
   "metadata": {},
   "outputs": [
    {
     "data": {
      "text/plain": [
       "(8, 64)"
      ]
     },
     "execution_count": 34,
     "metadata": {},
     "output_type": "execute_result"
    }
   ],
   "source": [
    "batch, num_patches"
   ]
  },
  {
   "cell_type": "code",
   "execution_count": 35,
   "id": "2a3d370e",
   "metadata": {},
   "outputs": [
    {
     "data": {
      "text/plain": [
       "torch.Size([8, 64, 1024])"
      ]
     },
     "execution_count": 35,
     "metadata": {},
     "output_type": "execute_result"
    }
   ],
   "source": [
    "tokens = patch_to_emb(patches)\n",
    "tokens.shape"
   ]
  },
  {
   "cell_type": "code",
   "execution_count": 36,
   "id": "9940c233",
   "metadata": {},
   "outputs": [
    {
     "data": {
      "text/plain": [
       "'cls'"
      ]
     },
     "execution_count": 36,
     "metadata": {},
     "output_type": "execute_result"
    }
   ],
   "source": [
    "v.pool"
   ]
  },
  {
   "cell_type": "code",
   "execution_count": 37,
   "id": "2e7c0093",
   "metadata": {},
   "outputs": [],
   "source": [
    "# first patch is cls token\n",
    "tokens += v.pos_embedding[:, 1:(num_patches + 1)]"
   ]
  },
  {
   "cell_type": "code",
   "execution_count": 38,
   "id": "af1e7b30",
   "metadata": {},
   "outputs": [
    {
     "data": {
      "text/plain": [
       "torch.Size([8, 64, 1024])"
      ]
     },
     "execution_count": 38,
     "metadata": {},
     "output_type": "execute_result"
    }
   ],
   "source": [
    "tokens.shape"
   ]
  },
  {
   "cell_type": "code",
   "execution_count": 39,
   "id": "c7e607d0",
   "metadata": {},
   "outputs": [],
   "source": [
    "masking_ratio = .75\n",
    "num_masked = int(masking_ratio * num_patches)\n",
    "rand_indices = torch.rand(batch, num_patches).argsort(dim = -1)\n",
    "masked_indices, unmasked_indices = rand_indices[:, :num_masked], rand_indices[:, num_masked:]"
   ]
  },
  {
   "cell_type": "code",
   "execution_count": 40,
   "id": "03dab9b6",
   "metadata": {},
   "outputs": [
    {
     "data": {
      "text/plain": [
       "48"
      ]
     },
     "execution_count": 40,
     "metadata": {},
     "output_type": "execute_result"
    }
   ],
   "source": [
    "num_masked"
   ]
  },
  {
   "cell_type": "code",
   "execution_count": 42,
   "id": "c23e9a0b",
   "metadata": {},
   "outputs": [
    {
     "data": {
      "text/plain": [
       "torch.Size([8, 64])"
      ]
     },
     "execution_count": 42,
     "metadata": {},
     "output_type": "execute_result"
    }
   ],
   "source": [
    "rand_indices.shape"
   ]
  },
  {
   "cell_type": "code",
   "execution_count": 44,
   "id": "2933f255",
   "metadata": {},
   "outputs": [
    {
     "data": {
      "text/plain": [
       "(torch.Size([8, 48]), torch.Size([8, 16]))"
      ]
     },
     "execution_count": 44,
     "metadata": {},
     "output_type": "execute_result"
    }
   ],
   "source": [
    "masked_indices.shape, unmasked_indices.shape"
   ]
  },
  {
   "cell_type": "code",
   "execution_count": 45,
   "id": "2217b3a3",
   "metadata": {},
   "outputs": [],
   "source": [
    "batch_range = torch.arange(batch)[:, None]\n",
    "tokens = tokens[batch_range, unmasked_indices]"
   ]
  },
  {
   "cell_type": "code",
   "execution_count": 46,
   "id": "1b6cb527",
   "metadata": {},
   "outputs": [
    {
     "data": {
      "text/plain": [
       "tensor([[0],\n",
       "        [1],\n",
       "        [2],\n",
       "        [3],\n",
       "        [4],\n",
       "        [5],\n",
       "        [6],\n",
       "        [7]])"
      ]
     },
     "execution_count": 46,
     "metadata": {},
     "output_type": "execute_result"
    }
   ],
   "source": [
    "batch_range"
   ]
  },
  {
   "cell_type": "code",
   "execution_count": 51,
   "id": "cecb66b3",
   "metadata": {},
   "outputs": [
    {
     "data": {
      "text/plain": [
       "tensor([[0],\n",
       "        [1],\n",
       "        [2],\n",
       "        [3],\n",
       "        [4],\n",
       "        [5],\n",
       "        [6],\n",
       "        [7]])"
      ]
     },
     "execution_count": 51,
     "metadata": {},
     "output_type": "execute_result"
    }
   ],
   "source": [
    "torch.arange(batch).unsqueeze(-1)"
   ]
  },
  {
   "cell_type": "code",
   "execution_count": 53,
   "id": "8330dae2",
   "metadata": {},
   "outputs": [
    {
     "data": {
      "text/plain": [
       "(torch.Size([8, 1]), torch.Size([8, 16]))"
      ]
     },
     "execution_count": 53,
     "metadata": {},
     "output_type": "execute_result"
    }
   ],
   "source": [
    "batch_range.shape, unmasked_indices.shape"
   ]
  },
  {
   "cell_type": "code",
   "execution_count": 52,
   "id": "7e17dac1",
   "metadata": {},
   "outputs": [
    {
     "data": {
      "text/plain": [
       "torch.Size([8, 16, 1024])"
      ]
     },
     "execution_count": 52,
     "metadata": {},
     "output_type": "execute_result"
    }
   ],
   "source": [
    "tokens.shape"
   ]
  },
  {
   "cell_type": "code",
   "execution_count": 59,
   "id": "8ebfad2a",
   "metadata": {},
   "outputs": [
    {
     "data": {
      "text/plain": [
       "torch.Size([8, 48, 3072])"
      ]
     },
     "execution_count": 59,
     "metadata": {},
     "output_type": "execute_result"
    }
   ],
   "source": [
    "masked_patches = patches[batch_range, masked_indices]\n",
    "masked_patches.shape"
   ]
  },
  {
   "cell_type": "code",
   "execution_count": 60,
   "id": "eacdbb90",
   "metadata": {},
   "outputs": [],
   "source": [
    "encoded_tokens = v.transformer(tokens)"
   ]
  },
  {
   "cell_type": "code",
   "execution_count": 61,
   "id": "5fbee905",
   "metadata": {},
   "outputs": [
    {
     "data": {
      "text/plain": [
       "torch.Size([8, 16, 1024])"
      ]
     },
     "execution_count": 61,
     "metadata": {},
     "output_type": "execute_result"
    }
   ],
   "source": [
    "encoded_tokens.shape"
   ]
  },
  {
   "cell_type": "code",
   "execution_count": null,
   "id": "3097fd9d",
   "metadata": {},
   "outputs": [],
   "source": []
  },
  {
   "cell_type": "code",
   "execution_count": null,
   "id": "11b622d7",
   "metadata": {},
   "outputs": [],
   "source": []
  },
  {
   "cell_type": "code",
   "execution_count": null,
   "id": "8f10b596",
   "metadata": {},
   "outputs": [],
   "source": []
  },
  {
   "cell_type": "code",
   "execution_count": null,
   "id": "65e513f2",
   "metadata": {},
   "outputs": [],
   "source": []
  },
  {
   "cell_type": "code",
   "execution_count": 63,
   "id": "41fa1057",
   "metadata": {},
   "outputs": [
    {
     "data": {
      "text/plain": [
       "torch.Size([8, 64, 1024])"
      ]
     },
     "execution_count": 63,
     "metadata": {},
     "output_type": "execute_result"
    }
   ],
   "source": [
    "v.transformer(all_tokens).shape"
   ]
  },
  {
   "cell_type": "code",
   "execution_count": 62,
   "id": "5f660776",
   "metadata": {},
   "outputs": [
    {
     "data": {
      "text/plain": [
       "torch.Size([8, 64, 1024])"
      ]
     },
     "execution_count": 62,
     "metadata": {},
     "output_type": "execute_result"
    }
   ],
   "source": [
    "all_tokens = patch_to_emb(patches)\n",
    "all_tokens.shape"
   ]
  },
  {
   "cell_type": "code",
   "execution_count": null,
   "id": "642e84f2",
   "metadata": {},
   "outputs": [],
   "source": []
  },
  {
   "cell_type": "code",
   "execution_count": null,
   "id": "b3d4f85f",
   "metadata": {},
   "outputs": [],
   "source": []
  },
  {
   "cell_type": "code",
   "execution_count": 68,
   "id": "3b11eb76",
   "metadata": {},
   "outputs": [],
   "source": [
    "v = ViT(\n",
    "    image_size = 256,\n",
    "    patch_size = 32,\n",
    "    num_classes = 1000,\n",
    "    dim = 1024,\n",
    "    depth = 6,\n",
    "    heads = 8,\n",
    "    mlp_dim = 2048\n",
    ")"
   ]
  },
  {
   "cell_type": "code",
   "execution_count": 70,
   "id": "f6ec7038",
   "metadata": {},
   "outputs": [],
   "source": [
    "mae = SlideMAE(\n",
    "    encoder = v,\n",
    "    n_slides = 10,\n",
    "    masking_ratio = 0.75,   # the paper recommended 75% masked patches\n",
    "    decoder_dim = 512,      # paper showed good results with just 512\n",
    "    decoder_depth = 6       # anywhere from 1 to 8\n",
    ")\n"
   ]
  },
  {
   "cell_type": "code",
   "execution_count": 71,
   "id": "d2d0dbdf",
   "metadata": {},
   "outputs": [],
   "source": [
    "images = torch.randn(8, 3, 256, 256)"
   ]
  },
  {
   "cell_type": "code",
   "execution_count": 73,
   "id": "b368bbcf",
   "metadata": {},
   "outputs": [],
   "source": [
    "slides = torch.randint(0, 10, (8,))"
   ]
  },
  {
   "cell_type": "code",
   "execution_count": 78,
   "id": "d3ab1ceb",
   "metadata": {},
   "outputs": [],
   "source": [
    "loss = mae(images, slides)"
   ]
  },
  {
   "cell_type": "code",
   "execution_count": 79,
   "id": "22b2256c",
   "metadata": {},
   "outputs": [
    {
     "data": {
      "text/plain": [
       "tensor(1.8420, grad_fn=<MseLossBackward0>)"
      ]
     },
     "execution_count": 79,
     "metadata": {},
     "output_type": "execute_result"
    }
   ],
   "source": [
    "loss"
   ]
  },
  {
   "cell_type": "code",
   "execution_count": 80,
   "id": "42f9f768",
   "metadata": {},
   "outputs": [],
   "source": [
    "loss.backward()"
   ]
  }
 ],
 "metadata": {
  "kernelspec": {
   "display_name": "Python 3 (ipykernel)",
   "language": "python",
   "name": "python3"
  },
  "language_info": {
   "codemirror_mode": {
    "name": "ipython",
    "version": 3
   },
   "file_extension": ".py",
   "mimetype": "text/x-python",
   "name": "python",
   "nbconvert_exporter": "python",
   "pygments_lexer": "ipython3",
   "version": "3.10.9"
  }
 },
 "nbformat": 4,
 "nbformat_minor": 5
}
