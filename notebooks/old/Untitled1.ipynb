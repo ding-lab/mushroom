{
 "cells": [
  {
   "cell_type": "code",
   "execution_count": 1,
   "id": "473667a1",
   "metadata": {},
   "outputs": [],
   "source": [
    "import tifffile"
   ]
  },
  {
   "cell_type": "code",
   "execution_count": 2,
   "id": "0ed5c44c",
   "metadata": {},
   "outputs": [
    {
     "data": {
      "text/plain": [
       "<tifffile.TiffFile 'HT207P1-S1H1A1F…nium_aligned.tif'>"
      ]
     },
     "execution_count": 2,
     "metadata": {},
     "output_type": "execute_result"
    }
   ],
   "source": [
    "im = tifffile.TiffFile('/Users/erikstorrs/Downloads/HT207P1-S1H1A1Fp1Us1_1_HE_dapi_Xenium_aligned.tif')\n",
    "im"
   ]
  },
  {
   "cell_type": "code",
   "execution_count": 3,
   "id": "f0a3e7cb",
   "metadata": {},
   "outputs": [
    {
     "data": {
      "text/plain": [
       "{'imagej'}"
      ]
     },
     "execution_count": 3,
     "metadata": {},
     "output_type": "execute_result"
    }
   ],
   "source": [
    "im.flags"
   ]
  },
  {
   "cell_type": "code",
   "execution_count": 4,
   "id": "f9e1d3c5",
   "metadata": {},
   "outputs": [
    {
     "data": {
      "text/plain": [
       "{'ImageJ': '1.54f', 'images': 2, 'slices': 2, 'loop': False}"
      ]
     },
     "execution_count": 4,
     "metadata": {},
     "output_type": "execute_result"
    }
   ],
   "source": [
    "im.imagej_metadata"
   ]
  },
  {
   "cell_type": "code",
   "execution_count": 5,
   "id": "d866bff8",
   "metadata": {},
   "outputs": [
    {
     "name": "stdout",
     "output_type": "stream",
     "text": [
      "TiffPage 0 @8  17371x16539x3  uint8  rgb memmappable  imagej\n",
      "TiffPage 1 @1723794009  17371x16539x3  uint8  rgb memmappable  imagej\n"
     ]
    }
   ],
   "source": [
    "for page in im.pages:\n",
    "    print(page)"
   ]
  },
  {
   "cell_type": "code",
   "execution_count": null,
   "id": "0a1a5c4b",
   "metadata": {},
   "outputs": [],
   "source": [
    "for page in im.pages:\n",
    "    print(page)"
   ]
  },
  {
   "cell_type": "code",
   "execution_count": 8,
   "id": "b4f935ff",
   "metadata": {},
   "outputs": [
    {
     "data": {
      "text/plain": [
       "3"
      ]
     },
     "execution_count": 8,
     "metadata": {},
     "output_type": "execute_result"
    }
   ],
   "source": [
    "page.samplesperpixel"
   ]
  },
  {
   "cell_type": "code",
   "execution_count": 14,
   "id": "01fc6540",
   "metadata": {},
   "outputs": [
    {
     "data": {
      "text/plain": [
       "(1, 1)"
      ]
     },
     "execution_count": 14,
     "metadata": {},
     "output_type": "execute_result"
    }
   ],
   "source": [
    "page.get_resolution()"
   ]
  },
  {
   "cell_type": "code",
   "execution_count": 12,
   "id": "f9e10f41",
   "metadata": {},
   "outputs": [
    {
     "data": {
      "text/plain": [
       "2"
      ]
     },
     "execution_count": 12,
     "metadata": {},
     "output_type": "execute_result"
    }
   ],
   "source": [
    "page.resolutionunit"
   ]
  },
  {
   "cell_type": "code",
   "execution_count": 17,
   "id": "00edad2a",
   "metadata": {},
   "outputs": [
    {
     "data": {
      "text/plain": [
       "('height', 'width', 'sample')"
      ]
     },
     "execution_count": 17,
     "metadata": {},
     "output_type": "execute_result"
    }
   ],
   "source": [
    "page.dims"
   ]
  },
  {
   "cell_type": "code",
   "execution_count": 20,
   "id": "b646d58d",
   "metadata": {},
   "outputs": [
    {
     "data": {
      "text/plain": [
       "{'height': 17371, 'width': 16539, 'sample': 3}"
      ]
     },
     "execution_count": 20,
     "metadata": {},
     "output_type": "execute_result"
    }
   ],
   "source": [
    "page.sizes"
   ]
  },
  {
   "cell_type": "code",
   "execution_count": null,
   "id": "003ba6f4",
   "metadata": {},
   "outputs": [],
   "source": []
  }
 ],
 "metadata": {
  "kernelspec": {
   "display_name": "Python 3 (ipykernel)",
   "language": "python",
   "name": "python3"
  },
  "language_info": {
   "codemirror_mode": {
    "name": "ipython",
    "version": 3
   },
   "file_extension": ".py",
   "mimetype": "text/x-python",
   "name": "python",
   "nbconvert_exporter": "python",
   "pygments_lexer": "ipython3",
   "version": "3.11.5"
  }
 },
 "nbformat": 4,
 "nbformat_minor": 5
}
